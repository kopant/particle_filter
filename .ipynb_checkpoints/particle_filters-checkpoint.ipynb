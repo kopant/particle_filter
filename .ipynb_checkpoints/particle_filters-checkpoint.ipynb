{
 "cells": [
  {
   "cell_type": "code",
   "execution_count": null,
   "metadata": {
    "collapsed": true
   },
   "outputs": [],
   "source": [
    "# Environment specified in environment.yml (environment name map_matching_particle_filter)\n",
    "# conda env create --prefix ./envs -f environment.yml"
   ]
  },
  {
   "cell_type": "code",
   "execution_count": 411,
   "metadata": {
    "collapsed": false
   },
   "outputs": [
    {
     "ename": "ModuleNotFoundError",
     "evalue": "No module named 'mpl_toolkits'",
     "output_type": "error",
     "traceback": [
      "\u001b[0;31m---------------------------------------------------------------------------\u001b[0m",
      "\u001b[0;31mModuleNotFoundError\u001b[0m                       Traceback (most recent call last)",
      "\u001b[0;32m<ipython-input-411-031dcd0aa412>\u001b[0m in \u001b[0;36m<module>\u001b[0;34m\u001b[0m\n\u001b[1;32m     16\u001b[0m \u001b[0;32mfrom\u001b[0m \u001b[0mcollections\u001b[0m \u001b[0;32mimport\u001b[0m \u001b[0mCounter\u001b[0m\u001b[0;34m\u001b[0m\u001b[0;34m\u001b[0m\u001b[0m\n\u001b[1;32m     17\u001b[0m \u001b[0;34m\u001b[0m\u001b[0m\n\u001b[0;32m---> 18\u001b[0;31m \u001b[0;32mfrom\u001b[0m \u001b[0mmpl_toolkits\u001b[0m\u001b[0;34m.\u001b[0m\u001b[0mbasemap\u001b[0m \u001b[0;32mimport\u001b[0m \u001b[0mBasemap\u001b[0m\u001b[0;34m\u001b[0m\u001b[0;34m\u001b[0m\u001b[0m\n\u001b[0m\u001b[1;32m     19\u001b[0m \u001b[0;32mimport\u001b[0m \u001b[0mmatplotlib\u001b[0m\u001b[0;34m.\u001b[0m\u001b[0mpyplot\u001b[0m \u001b[0;32mas\u001b[0m \u001b[0mplt\u001b[0m\u001b[0;34m\u001b[0m\u001b[0;34m\u001b[0m\u001b[0m\n\u001b[1;32m     20\u001b[0m \u001b[0;34m\u001b[0m\u001b[0m\n",
      "\u001b[0;31mModuleNotFoundError\u001b[0m: No module named 'mpl_toolkits'"
     ]
    }
   ],
   "source": [
    "import pandas as pd\n",
    "import numpy as np\n",
    "import os, sys\n",
    "import glob, re, time\n",
    "\n",
    "import shapely\n",
    "from shapely.strtree import STRtree\n",
    "from shapely.geometry import shape, Point, LineString, MultiLineString\n",
    "from shapely.ops import nearest_points\n",
    "import folium\n",
    "import fiona\n",
    "import pyproj\n",
    "from functools import partial\n",
    "import math\n",
    "\n",
    "from collections import Counter\n",
    "\n",
    "from mpl_toolkits.basemap import Basemap\n",
    "import matplotlib.pyplot as plt\n",
    "\n",
    "from sklearn.metrics.pairwise import haversine_distances  # Assumes (lat, long) in radians; version 0.22.1"
   ]
  },
  {
   "cell_type": "code",
   "execution_count": 412,
   "metadata": {
    "collapsed": false
   },
   "outputs": [
    {
     "ename": "ModuleNotFoundError",
     "evalue": "No module named 'mpl_toolkits'",
     "output_type": "error",
     "traceback": [
      "\u001b[0;31m---------------------------------------------------------------------------\u001b[0m",
      "\u001b[0;31mModuleNotFoundError\u001b[0m                       Traceback (most recent call last)",
      "\u001b[0;32m<ipython-input-412-7c7ccd719a8b>\u001b[0m in \u001b[0;36m<module>\u001b[0;34m\u001b[0m\n\u001b[0;32m----> 1\u001b[0;31m \u001b[0;32mimport\u001b[0m \u001b[0mmpl_toolkits\u001b[0m\u001b[0;34m\u001b[0m\u001b[0;34m\u001b[0m\u001b[0m\n\u001b[0m",
      "\u001b[0;31mModuleNotFoundError\u001b[0m: No module named 'mpl_toolkits'"
     ]
    }
   ],
   "source": [
    "import mpl_toolkits"
   ]
  },
  {
   "cell_type": "code",
   "execution_count": 2,
   "metadata": {
    "collapsed": false
   },
   "outputs": [
    {
     "data": {
      "text/plain": [
       "'/Volumes/LaCie/Documents/repos/particle_filter'"
      ]
     },
     "execution_count": 2,
     "metadata": {},
     "output_type": "execute_result"
    }
   ],
   "source": [
    "os.getcwd()"
   ]
  },
  {
   "cell_type": "code",
   "execution_count": null,
   "metadata": {
    "collapsed": true
   },
   "outputs": [],
   "source": [
    "\"\"\"\n",
    "Applications of particle filters: \n",
    "1. Car positioning by map matching, as in http://www.diva-portal.org/smash/get/diva2:316556/FULLTEXT01.pdf\n",
    "    Essentially same approach is described in Davidson, Collin, and Takala (2011). Application of particle filters to map-matching algorithm\n",
    "    Idea also similar to Newson and Krumm (2009), though HMM is used there.\n",
    "    More recent resource: Murphy, Pao, Yuen (2019). Lyft; Map matching when the map is wrong: Efficient on/off road vehicle tracking and map learning\n",
    "\n",
    "Ideas\n",
    "Rao-Blackwellization (use Kalman filter for the linear part of the dynamics model)\n",
    "\n",
    "Initial Approach:\n",
    "Use Newson and Krumm, but modify it to use particle filters instead of HMM.\n",
    "\n",
    "So, for a given route, proceed sequentially over obs, maintaining dist of probable road segments\n",
    "\n",
    "Assumptions (N&K):\n",
    "-remove obs that are not 2*meas dist sigma from previous obs  (eliminate 39% of data in N&K)\n",
    "-ignore roads 200m from obs\n",
    "-zeroize very unlikely particles\n",
    "\"\"\""
   ]
  },
  {
   "cell_type": "code",
   "execution_count": 3,
   "metadata": {
    "collapsed": true
   },
   "outputs": [],
   "source": [
    "def great_circle_dist(df):\n",
    "    \"\"\"\n",
    "    USED BELOW IN PREPROCESSING\n",
    "    df numpy array [lat, long, lat_prev, long_prev] in degrees\n",
    "    \n",
    "    Returns great-circle distance between point (lat,long) columns and (lat_prev, long_prev) columns, \n",
    "    in meters.\n",
    "    \n",
    "    Modified from https://stackoverflow.com/questions/4913349/haversine-formula-in-python-bearing-and-distance-between-two-gps-points\n",
    "    \"\"\"\n",
    "    # convert decimal degrees to radians \n",
    "    df = df.copy()\n",
    "    df = np.deg2rad(df)\n",
    "\n",
    "    # haversine formula \n",
    "    dlon = df[:, 3] - df[:, 1] # lon2 - lon1 \n",
    "    dlat = df[:, 2] - df[:, 0] # lat2 - lat1 \n",
    "    a = np.add(np.square(np.sin(dlat / 2)),\n",
    "               np.multiply(np.cos(df[:, 0]), \n",
    "                           np.multiply(np.cos(df[:, 2]), np.square(np.sin(dlon / 2)))\n",
    "                          )\n",
    "              )\n",
    "    # a = sin(dlat/2)**2 + cos(lat1) * cos(lat2) * sin(dlon/2)**2\n",
    "    c = np.arcsin(np.sqrt(a)) * 2\n",
    "    # c = 2 * asin(sqrt(a)) \n",
    "    r = 6371 # Radius of earth in kilometers. Use 3956 for miles\n",
    "    return r * c * 1000"
   ]
  },
  {
   "cell_type": "code",
   "execution_count": 34,
   "metadata": {
    "collapsed": true
   },
   "outputs": [],
   "source": [
    "class gps_transition_model:\n",
    "    \"\"\"\n",
    "    Transition model to predict probability of next state given current state; simulate next state.\n",
    "    GPS trace map matching use case. \n",
    "    \n",
    "    N&K use as a proxy an exponential function of the difference in the great-circle distance \n",
    "    between previous observations and previous road points (similar route distance).\n",
    "    Road points use map/ground-truth data. \n",
    "    -Ignore roads 200m from obs\n",
    "    -If a calculated route would require the vehicle to exceed a speed of 50 m/s (112 miles per hour), zeroize\n",
    "    \n",
    "    !!! TODO: Get driving distance from route planner??? Results anticipated to significantly suffer otherwise. !!! \n",
    "    \n",
    "    Other ideas: using dead reckoning.\n",
    "    \"\"\"\n",
    "    def __init__(self, beta=3.0\n",
    "#                  , prob_floor=0.05\n",
    "                 , normalize=True\n",
    "                ):\n",
    "        \"\"\"\n",
    "        beta, float, parametrizes transition probability function\n",
    "        prob_floor, float between 0 and 1, is probability below which road choices are given zero probability\n",
    "        \n",
    "        # beta = 3 in mapzen, https://www.mapzen.com/blog/data-driven-map-matching/\n",
    "        \"\"\"\n",
    "        self.beta = beta\n",
    "#         self.prob_floor = min(max(prob_floor, 0), 1)\n",
    "        self.normalize = normalize\n",
    "    \n",
    "    def estimate_beta(self, data):\n",
    "        \"\"\"\n",
    "        NOT USED\n",
    "        \n",
    "        Using rescaled median absolute deviation (MAD). \n",
    "        Ideally using ground truth data (none here).\n",
    "        \"\"\" \n",
    "        self.beta = 3.0  # None\n",
    "        \n",
    "    def prob_transition(self, state_last2, obs_last2, dist_obs_m_prev, time_delta_sec_prev, \n",
    "                        max_allowable_diff_m=2000.0, max_allowable_mph=112.0):\n",
    "        \"\"\"\n",
    "        state_last2, float numpy array, (n * c x 4 lat, long, lat_prev, long_prev), c candidate roads and n particles\n",
    "        obs_last2, float numpy array, (1 x 4 lat, long, lat_prev, long_prev) \n",
    "        dist_obs_m_prev float distance in meters between last two obs.\n",
    "        time_delta_sec_prev float time delta in sec between last two obs.\n",
    "        max_allowable_diff_m float, ignore low probability routes as in N&K; in N&K 2000 meters.\n",
    "        max_allowable_mph, float; ignore routes resulting in unreasonable speeds. 112mph in N&K.\n",
    "        Where present, lat/long in degrees.\n",
    "        \n",
    "        returns probs of transition, (n * c x 1)\n",
    "        \"\"\"\n",
    "        RADIUS_OF_EARTH_M = 6371000\n",
    "        MILES_PER_METER = 0.000621371\n",
    "        HOURS_PER_SECOND = 3600.0\n",
    "        state_last2 = np.deg2rad(state_last2)\n",
    "        obs_last2 = np.deg2rad(obs_last2)\n",
    "        # dist_obs = abs(haversine_distances(obs_last2[:, :2], obs_last2[0, 2:]))  # (1, 1)\n",
    "        # !! TODO - Supposed to be driving distance, not haversine. N&K use a route planner. Can I use shapely???\n",
    "            # Probably fine as generally GPS measurements are taken close together in time- \n",
    "            # Otherwise would have to snap to roads using Shapely and get the distance between the two points. \n",
    "            # How does using driving distance even compare to haversine for obs? Isn't it better to compare apples to apples?\n",
    "        dist_road = \\\n",
    "        np.abs(np.array([haversine_distances(state_last2[r, :2].reshape(1,2), state_last2[r, 2:].reshape(1,2))[0] \n",
    "                         for r in range(state_last2.shape[0])]))  # (n * c, 1)\n",
    "        dist_road = dist_road * RADIUS_OF_EARTH_M  # multiply by Earth radius to get result in meters\n",
    "        diff_dist = np.abs(np.subtract(dist_road, dist_obs_m_prev))  # (n * c, 1)\n",
    "        \n",
    "        # Ignore cases where diff_dist >= max_allowable_diff_m\n",
    "        diff_dist[diff_dist >= max_allowable_diff_m] = np.float(\"inf\")  # zero out these transition probs\n",
    "        # Ignore cases where implied speed of route is >= max_allowable_mph; calculate speed in candidate routes\n",
    "        implied_speed_road = np.divide(dist_road * MILES_PER_METER, \n",
    "                               time_delta_sec_prev * HOURS_PER_SECOND)  # (n * c, 1), meters\n",
    "        diff_dist[implied_speed_road >= max_allowable_mph] = np.float(\"inf\")  # zero out these transition probs\n",
    "        \n",
    "        probs = np.exp(-diff_dist / self.beta) * (1 / self.beta)\n",
    "        # Normalize result?\n",
    "        if self.normalize:\n",
    "            probs = probs / np.sum(probs)\n",
    "        return probs"
   ]
  },
  {
   "cell_type": "code",
   "execution_count": 33,
   "metadata": {
    "collapsed": true
   },
   "outputs": [],
   "source": [
    "class gps_sensor_model:\n",
    "    \"\"\"\n",
    "    Sensor model to predict likelihood of an obs given a particle.\n",
    "    GPS trace map matching use case. \n",
    "    \n",
    "    I don't have ground truth, so can't use ML easily, but\n",
    "    N&K use as a proxy a normal distribution of great-circle distance between observation and road, with sigma \n",
    "    estimated from the data.\n",
    "    Road points use map data. \n",
    "    -Zerioze low probability particles (diff in route distance of 2000 m. or more). \n",
    "    \n",
    "    Other ideas: semi-supervised learning. \n",
    "    \n",
    "    Thoughts: need efficient representation for road network that returns connecting roads/nodes for a given node\n",
    "    Want to represent it as a graph/network. \n",
    "    \"\"\"\n",
    "    def __init__(self, sigma=4.07, normalize=True):\n",
    "        self.sigma = sigma\n",
    "        self.normalize = normalize\n",
    "    \n",
    "    def estimate_sigma(self, data):\n",
    "        \"\"\"\n",
    "        NOT USED \n",
    "        \n",
    "        Using Gather and Schultze, median-based. \n",
    "        Ideally using ground truth data (none here).\n",
    "        \n",
    "        I guess I could manually match some trips, then use that??\n",
    "        \"\"\" \n",
    "        self.sigma = 4.07 # meters; I have no ground truth so using N&K's empirical estimate\n",
    "#         self.sigma = None # median absolute deviation (MAD) formula adjusted \n",
    "    \n",
    "    def estimate_likelihood(self, states, obs_coords):\n",
    "        \"\"\"\n",
    "        return probability of seeing that obs given potential road state hypotheses, (k x 1)\n",
    "        \n",
    "        states Particles numpy array representing road position hypotheses, (k x 2 lat long).\n",
    "        obs_coords (1 x 2 lat long)\n",
    "        lat long in degrees\n",
    "        \"\"\"\n",
    "        RADIUS_OF_EARTH_M = 6371000\n",
    "        dist_obs_roads = np.abs(haversine_distances(np.deg2rad(states), np.deg2rad(obs_coords)))  # (k x 1)\n",
    "        dist_obs_roads = dist_obs_roads * RADIUS_OF_EARTH_M  # multiply by Earth radius to get result in meters\n",
    "        \n",
    "        probs = \\\n",
    "        np.exp(np.power(dist_obs_roads / self.sigma, 2) * (-0.5)) * \\\n",
    "        (1 / (math.sqrt(2 * math.pi) * self.sigma))\n",
    "        \n",
    "        # Normalize result?\n",
    "        if self.normalize:\n",
    "            probs = probs / np.sum(probs)\n",
    "        return probs"
   ]
  },
  {
   "cell_type": "code",
   "execution_count": null,
   "metadata": {
    "collapsed": true
   },
   "outputs": [],
   "source": []
  },
  {
   "cell_type": "code",
   "execution_count": 721,
   "metadata": {
    "collapsed": true
   },
   "outputs": [],
   "source": []
  },
  {
   "cell_type": "code",
   "execution_count": 654,
   "metadata": {
    "collapsed": false
   },
   "outputs": [],
   "source": [
    "# BEGIN DEBUGGING\n",
    "road_strtree; n=50; max_road_dist_m=200; prob_floor=0.0; \n",
    "sensor_model=gps_sensor_model(); transition_model=gps_transition_model(); \n",
    "viterbi_trellis=[]; viterbi_trellis_idx=[]\n",
    "\n",
    "prob_floor = min(max(prob_floor, 0), 1)\n",
    "particles = np.array([])\n",
    "weights = np.ones((1, n))\n",
    "\n",
    "fitted = False\n",
    "        \n",
    "obs_history = []"
   ]
  },
  {
   "cell_type": "code",
   "execution_count": 617,
   "metadata": {
    "collapsed": true
   },
   "outputs": [],
   "source": [
    "def get_candidate_roads(obs):\n",
    "    \"\"\"\n",
    "    obs list of floats [lat, long]\n",
    "    max_dist maximum allowable closest distance for prospective matched roads; those whose \n",
    "    closest point is >= max_dist meters away are ignored (200 in N&K).\n",
    "    Returns numpy array float of lat,long closest point to road from obs (N&K).\n",
    "\n",
    "    Leverages shapely and shapefiles for cabspotting data.\n",
    "    Relies on great_circle_dist() helper function. \n",
    "    \"\"\"\n",
    "    # Fiona uses (long, lat) format\n",
    "    obs = Point(obs[::-1])\n",
    "    # Want to consider only matches within max_dist meters\n",
    "    # Need to transform decimal degrees into meters\n",
    "    # Should I deviate from the default value of buffer for a Point??\n",
    "    # According to 200 * 360 / (2 * np.pi * 6371000), a distance of 200m corresponds to 0.0017986432118374611 decimal degrees\n",
    "    # obs.buffer(1.0)\n",
    "    matching_roads = road_strtree.query(obs.buffer(0.002))\n",
    "    if len(matching_roads) == 0:\n",
    "        matching_roads = road_strtree.query(obs.buffer(1.0))  # This should be a big buffer\n",
    "    # If matching roads is still empty, return None\n",
    "    if len(matching_roads) == 0:\n",
    "        print(\"No matching roads found! Aborting particle filter.\")\n",
    "        return None\n",
    "    # Ordered as (obs, road); just take road's coords\n",
    "    # Take only the closest point on the candidate road (1st index)\n",
    "    closest_pts = np.array([[list(p.coords)[0] for p in nearest_points(obs, r)][1] for r in matching_roads])\n",
    "    # Calculate distance between obs and candidate_roads, to filter them\n",
    "    candidate_dist_coords = \\\n",
    "    np.concatenate([closest_pts, np.tile(np.array(obs), (closest_pts.shape[0], 1))], axis=1)\n",
    "    # Convert back to lat, long from long, lat\n",
    "    candidate_dist_coords = candidate_dist_coords[:, [1, 0, 3, 2]]\n",
    "    candidate_dists = great_circle_dist(candidate_dist_coords)\n",
    "    # Filtered result of closest point on matching candidate roads\n",
    "    # no. matches 2 (default buffer); 52 (buffer of 0.002); 74 (buffer of 1.0)\n",
    "        # Reverse order to be lat, long\n",
    "    candidate_roads = closest_pts[candidate_dists <= max_road_dist_m][:, [1,0]]\n",
    "    return candidate_roads"
   ]
  },
  {
   "cell_type": "code",
   "execution_count": 302,
   "metadata": {
    "collapsed": true
   },
   "outputs": [],
   "source": [
    "def estimate_weights_per_particle(sampled_states, obs_coords):\n",
    "    \"\"\"\n",
    "    Estimate likelihood of particle given evidence, P(evidence|particle).\n",
    "    Uses sensor model.\n",
    "\n",
    "    obs_coords is single observation at time t, pandas series. \n",
    "    \"\"\"\n",
    "    probs = sensor_model.estimate_likelihood(sampled_states, obs_coords.values.reshape(1, 2))\n",
    "    return probs"
   ]
  },
  {
   "cell_type": "code",
   "execution_count": null,
   "metadata": {
    "collapsed": true
   },
   "outputs": [],
   "source": []
  },
  {
   "cell_type": "code",
   "execution_count": 508,
   "metadata": {
    "collapsed": true
   },
   "outputs": [],
   "source": [
    "# Crossproduct for each particle, all roads\n",
    "state_last2 = np.concatenate([np.concatenate((particles, \n",
    "                                              np.tile(c, (n, 1))), \n",
    "                                             axis=1) \n",
    "                              for c in candidate_roads], axis=0)"
   ]
  },
  {
   "cell_type": "code",
   "execution_count": 393,
   "metadata": {
    "collapsed": false
   },
   "outputs": [
    {
     "data": {
      "text/plain": [
       "(2600, 4)"
      ]
     },
     "execution_count": 393,
     "metadata": {},
     "output_type": "execute_result"
    }
   ],
   "source": [
    "state_last2.shape "
   ]
  },
  {
   "cell_type": "code",
   "execution_count": 509,
   "metadata": {
    "collapsed": true
   },
   "outputs": [],
   "source": [
    "obs_last2 = np.array(obs_history[-2:]).reshape((1, 4))"
   ]
  },
  {
   "cell_type": "code",
   "execution_count": 481,
   "metadata": {
    "collapsed": false
   },
   "outputs": [
    {
     "data": {
      "text/plain": [
       "array([[  37.75134, -122.39488,   37.75136, -122.39527]])"
      ]
     },
     "execution_count": 481,
     "metadata": {},
     "output_type": "execute_result"
    }
   ],
   "source": [
    "obs_last2"
   ]
  },
  {
   "cell_type": "code",
   "execution_count": 482,
   "metadata": {
    "collapsed": true
   },
   "outputs": [],
   "source": [
    "dist_obs_m_prev=dist_prev; time_delta_sec_prev=time_delta_prev; max_allowable_diff_m=2000.0; max_allowable_mph=112.0"
   ]
  },
  {
   "cell_type": "code",
   "execution_count": 403,
   "metadata": {
    "collapsed": false
   },
   "outputs": [
    {
     "data": {
      "text/plain": [
       "34.360479144304016"
      ]
     },
     "execution_count": 403,
     "metadata": {},
     "output_type": "execute_result"
    }
   ],
   "source": [
    "dist_obs_m_prev"
   ]
  },
  {
   "cell_type": "code",
   "execution_count": 404,
   "metadata": {
    "collapsed": false
   },
   "outputs": [
    {
     "data": {
      "text/plain": [
       "-28.0"
      ]
     },
     "execution_count": 404,
     "metadata": {},
     "output_type": "execute_result"
    }
   ],
   "source": [
    "time_delta_sec_prev"
   ]
  },
  {
   "cell_type": "code",
   "execution_count": 400,
   "metadata": {
    "collapsed": true
   },
   "outputs": [],
   "source": [
    "RADIUS_OF_EARTH_M = 6371000\n",
    "MILES_PER_METER = 0.000621371\n",
    "HOURS_PER_SECOND = 3600.0\n",
    "state_last2 = np.deg2rad(state_last2)\n",
    "obs_last2 = np.deg2rad(obs_last2)"
   ]
  },
  {
   "cell_type": "code",
   "execution_count": 435,
   "metadata": {
    "collapsed": false
   },
   "outputs": [
    {
     "data": {
      "text/plain": [
       "array([[ 0.65888492, -2.13619363,  0.65885333, -2.13619095],\n",
       "       [ 0.65888522, -2.13619324,  0.65885333, -2.13619095],\n",
       "       [ 0.65888522, -2.13619324,  0.65885333, -2.13619095],\n",
       "       ...,\n",
       "       [ 0.65888492, -2.13619363,  0.65891336, -2.13618996],\n",
       "       [ 0.65888522, -2.13619324,  0.65891336, -2.13618996],\n",
       "       [ 0.65888522, -2.13619324,  0.65891336, -2.13618996]])"
      ]
     },
     "execution_count": 435,
     "metadata": {},
     "output_type": "execute_result"
    }
   ],
   "source": [
    "state_last2"
   ]
  },
  {
   "cell_type": "code",
   "execution_count": null,
   "metadata": {
    "collapsed": true
   },
   "outputs": [],
   "source": []
  },
  {
   "cell_type": "code",
   "execution_count": 439,
   "metadata": {
    "collapsed": false
   },
   "outputs": [],
   "source": [
    "dist_road = \\\n",
    "np.abs(np.array([haversine_distances(state_last2[r, :2].reshape(1,2), state_last2[r, 2:].reshape(1,2))[0] \n",
    " for r in range(state_last2.shape[0])]))  # (n * c, 1)"
   ]
  },
  {
   "cell_type": "code",
   "execution_count": 440,
   "metadata": {
    "collapsed": true
   },
   "outputs": [],
   "source": [
    "dist_road = dist_road * RADIUS_OF_EARTH_M"
   ]
  },
  {
   "cell_type": "code",
   "execution_count": 442,
   "metadata": {
    "collapsed": true
   },
   "outputs": [],
   "source": [
    "diff_dist = np.abs(np.subtract(dist_road, dist_obs_m_prev))  # (n * c, 1)"
   ]
  },
  {
   "cell_type": "code",
   "execution_count": 443,
   "metadata": {
    "collapsed": false
   },
   "outputs": [
    {
     "data": {
      "text/plain": [
       "array([[167.33782252],\n",
       "       [169.1049927 ],\n",
       "       [169.1049927 ],\n",
       "       ...,\n",
       "       [147.78968822],\n",
       "       [145.7182921 ],\n",
       "       [145.7182921 ]])"
      ]
     },
     "execution_count": 443,
     "metadata": {},
     "output_type": "execute_result"
    }
   ],
   "source": [
    "diff_dist"
   ]
  },
  {
   "cell_type": "code",
   "execution_count": 444,
   "metadata": {
    "collapsed": false
   },
   "outputs": [
    {
     "data": {
      "text/plain": [
       "(2600, 1)"
      ]
     },
     "execution_count": 444,
     "metadata": {},
     "output_type": "execute_result"
    }
   ],
   "source": [
    "diff_dist.shape"
   ]
  },
  {
   "cell_type": "code",
   "execution_count": 452,
   "metadata": {
    "collapsed": false
   },
   "outputs": [
    {
     "data": {
      "text/plain": [
       "0.46792129264360227"
      ]
     },
     "execution_count": 452,
     "metadata": {},
     "output_type": "execute_result"
    }
   ],
   "source": [
    "np.min(diff_dist)"
   ]
  },
  {
   "cell_type": "code",
   "execution_count": 448,
   "metadata": {
    "collapsed": true
   },
   "outputs": [],
   "source": [
    "# Ignore cases where diff_dist >= max_allowable_diff_m\n",
    "diff_dist[diff_dist >= max_allowable_diff_m] = np.float(\"inf\")  # zero out these transition probs"
   ]
  },
  {
   "cell_type": "code",
   "execution_count": 455,
   "metadata": {
    "collapsed": false
   },
   "outputs": [],
   "source": [
    "# Ignore cases where implied speed of route is >= max_allowable_mph; calculate speed in candidate routes\n",
    "implied_speed_road = np.divide(dist_road * MILES_PER_METER, \n",
    "                               time_delta_sec_prev * HOURS_PER_SECOND)  # (n * c, 1), meters"
   ]
  },
  {
   "cell_type": "code",
   "execution_count": 458,
   "metadata": {
    "collapsed": true
   },
   "outputs": [],
   "source": [
    "diff_dist[implied_speed_road >= max_allowable_mph] = np.float(\"inf\")  # zero out these transition probs"
   ]
  },
  {
   "cell_type": "code",
   "execution_count": 459,
   "metadata": {
    "collapsed": true
   },
   "outputs": [],
   "source": [
    "beta=3.0"
   ]
  },
  {
   "cell_type": "code",
   "execution_count": 472,
   "metadata": {
    "collapsed": true
   },
   "outputs": [],
   "source": [
    "probs = np.exp(-diff_dist / beta) * (1 / beta)"
   ]
  },
  {
   "cell_type": "code",
   "execution_count": 474,
   "metadata": {
    "collapsed": true
   },
   "outputs": [],
   "source": [
    "probs = probs / np.sum(probs)"
   ]
  },
  {
   "cell_type": "code",
   "execution_count": 476,
   "metadata": {
    "collapsed": true
   },
   "outputs": [],
   "source": []
  },
  {
   "cell_type": "code",
   "execution_count": 703,
   "metadata": {
    "collapsed": true
   },
   "outputs": [],
   "source": [
    "def prob_transition(self, state_last2, obs_last2, dist_obs_m_prev, time_delta_sec_prev, \n",
    "                        max_allowable_diff_m=2000.0, max_allowable_mph=112.0):\n",
    "        \"\"\"\n",
    "        state_last2, float numpy array, (n * c x 4 lat, long, lat_prev, long_prev), c candidate roads and n particles\n",
    "        obs_last2, float numpy array, (1 x 4 lat, long, lat_prev, long_prev) \n",
    "        dist_obs_m_prev float distance in meters between last two obs.\n",
    "        time_delta_sec_prev float time delta in sec between last two obs.\n",
    "        max_allowable_diff_m float, ignore low probability routes as in N&K; in N&K 2000 meters.\n",
    "        max_allowable_mph, float; ignore routes resulting in unreasonable speeds. 112mph in N&K.\n",
    "        Where present, lat/long in degrees.\n",
    "        \n",
    "        returns probs of transition, (n * c x 1)\n",
    "        \"\"\"\n",
    "        RADIUS_OF_EARTH_M = 6371000\n",
    "        MILES_PER_METER = 0.000621371\n",
    "        HOURS_PER_SECOND = 3600.0\n",
    "        state_last2 = np.deg2rad(state_last2)\n",
    "        obs_last2 = np.deg2rad(obs_last2)\n",
    "        # dist_obs = abs(haversine_distances(obs_last2[:, :2], obs_last2[0, 2:]))  # (1, 1)\n",
    "        # !! TODO - Supposed to be driving distance, not haversine. N&K use a route planner. Can I use shapely???\n",
    "            # Probably fine as generally GPS measurements are taken close together in time- \n",
    "            # Otherwise would have to snap to roads using Shapely and get the distance between the two points. \n",
    "            # How does using driving distance even compare to haversine for obs? Isn't it better to compare apples to apples?\n",
    "        dist_road = \\\n",
    "        np.abs(np.array([haversine_distances(state_last2[r, :2].reshape(1,2), state_last2[r, 2:].reshape(1,2))[0] \n",
    "                         for r in range(state_last2.shape[0])]))  # (n * c, 1)\n",
    "        dist_road = dist_road * RADIUS_OF_EARTH_M  # multiply by Earth radius to get result in meters\n",
    "        diff_dist = np.abs(np.subtract(dist_road, dist_obs_m_prev))  # (n * c, 1)\n",
    "        \n",
    "        # Ignore cases where diff_dist >= max_allowable_diff_m\n",
    "        diff_dist[diff_dist >= max_allowable_diff_m] = np.float(\"inf\")  # zero out these transition probs\n",
    "        # Ignore cases where implied speed of route is >= max_allowable_mph; calculate speed in candidate routes\n",
    "        implied_speed_road = np.divide(dist_road * MILES_PER_METER, \n",
    "                               time_delta_sec_prev * HOURS_PER_SECOND)  # (n * c, 1), meters\n",
    "        diff_dist[implied_speed_road >= max_allowable_mph] = np.float(\"inf\")  # zero out these transition probs\n",
    "        \n",
    "        probs = np.exp(-diff_dist / self.beta) * (1 / self.beta)\n",
    "        # Normalize result?\n",
    "        if self.normalize:\n",
    "            probs = probs / np.sum(probs)"
   ]
  },
  {
   "cell_type": "code",
   "execution_count": 510,
   "metadata": {
    "collapsed": true
   },
   "outputs": [],
   "source": [
    "probs = transition_model.prob_transition(state_last2, obs_last2, \n",
    "                                         dist_prev, time_delta_prev)  # (n * c, 1)"
   ]
  },
  {
   "cell_type": "code",
   "execution_count": 511,
   "metadata": {
    "collapsed": false
   },
   "outputs": [
    {
     "data": {
      "text/plain": [
       "[array([0.00898015]),\n",
       " array([0.00898015]),\n",
       " array([0.00898015]),\n",
       " array([0.00898015]),\n",
       " array([0.00898015])]"
      ]
     },
     "execution_count": 511,
     "metadata": {},
     "output_type": "execute_result"
    }
   ],
   "source": [
    "sorted(probs)[-5:]"
   ]
  },
  {
   "cell_type": "code",
   "execution_count": 512,
   "metadata": {
    "collapsed": false
   },
   "outputs": [
    {
     "data": {
      "text/plain": [
       "0.0"
      ]
     },
     "execution_count": 512,
     "metadata": {},
     "output_type": "execute_result"
    }
   ],
   "source": [
    "prob_floor"
   ]
  },
  {
   "cell_type": "code",
   "execution_count": 513,
   "metadata": {
    "collapsed": false
   },
   "outputs": [
    {
     "data": {
      "text/plain": [
       "0"
      ]
     },
     "execution_count": 513,
     "metadata": {},
     "output_type": "execute_result"
    }
   ],
   "source": [
    "np.sum(probs <= prob_floor)"
   ]
  },
  {
   "cell_type": "code",
   "execution_count": 514,
   "metadata": {
    "collapsed": true
   },
   "outputs": [],
   "source": [
    "probs[probs <= prob_floor] = 0.0"
   ]
  },
  {
   "cell_type": "code",
   "execution_count": 515,
   "metadata": {
    "collapsed": false
   },
   "outputs": [],
   "source": [
    "probs = probs / np.sum(probs)"
   ]
  },
  {
   "cell_type": "code",
   "execution_count": 516,
   "metadata": {
    "collapsed": false
   },
   "outputs": [
    {
     "data": {
      "text/plain": [
       "[array([0.00898015]),\n",
       " array([0.00898015]),\n",
       " array([0.00898015]),\n",
       " array([0.00898015]),\n",
       " array([0.00898015])]"
      ]
     },
     "execution_count": 516,
     "metadata": {},
     "output_type": "execute_result"
    }
   ],
   "source": [
    "sorted(probs)[-5:]"
   ]
  },
  {
   "cell_type": "code",
   "execution_count": null,
   "metadata": {
    "collapsed": true
   },
   "outputs": [],
   "source": []
  },
  {
   "cell_type": "code",
   "execution_count": 710,
   "metadata": {
    "collapsed": true
   },
   "outputs": [],
   "source": [
    "state_last2 = np.concatenate([np.concatenate((particles, \n",
    "                                                  np.tile(c, (n, 1))), \n",
    "                                                 axis=1) \n",
    "                                  for c in candidate_roads], axis=0)"
   ]
  },
  {
   "cell_type": "code",
   "execution_count": 715,
   "metadata": {
    "collapsed": false
   },
   "outputs": [
    {
     "data": {
      "text/plain": [
       "array([[  37.75134205, -122.39485713,   37.7497545 , -122.3962862 ],\n",
       "       [  37.75134205, -122.39485713,   37.7497545 , -122.3962862 ],\n",
       "       [  37.75132504, -122.39487933,   37.7497545 , -122.3962862 ],\n",
       "       ...,\n",
       "       [  37.75132504, -122.39487933,   37.7529547 , -122.3946691 ],\n",
       "       [  37.75134205, -122.39485713,   37.7529547 , -122.3946691 ],\n",
       "       [  37.75132504, -122.39487933,   37.7529547 , -122.3946691 ]])"
      ]
     },
     "execution_count": 715,
     "metadata": {},
     "output_type": "execute_result"
    }
   ],
   "source": [
    "state_last2"
   ]
  },
  {
   "cell_type": "code",
   "execution_count": 712,
   "metadata": {
    "collapsed": true
   },
   "outputs": [],
   "source": [
    "obs_last2 = np.array(obs_history[-2:]).reshape((1, 4))"
   ]
  },
  {
   "cell_type": "code",
   "execution_count": 713,
   "metadata": {
    "collapsed": false
   },
   "outputs": [
    {
     "data": {
      "text/plain": [
       "array([[  37.75134, -122.39488,   37.75136, -122.39527]])"
      ]
     },
     "execution_count": 713,
     "metadata": {},
     "output_type": "execute_result"
    }
   ],
   "source": [
    "obs_last2"
   ]
  },
  {
   "cell_type": "code",
   "execution_count": 716,
   "metadata": {
    "collapsed": true
   },
   "outputs": [],
   "source": [
    "probs = transition_model.prob_transition(state_last2, obs_last2, \n",
    "                                             dist_prev, time_delta_prev)"
   ]
  },
  {
   "cell_type": "code",
   "execution_count": 719,
   "metadata": {
    "collapsed": false
   },
   "outputs": [
    {
     "data": {
      "text/plain": [
       "array([[4.17545221e-29],\n",
       "       [4.17545221e-29],\n",
       "       [1.01753694e-28],\n",
       "       ...,\n",
       "       [4.15709313e-24],\n",
       "       [8.29191906e-24],\n",
       "       [4.15709313e-24]])"
      ]
     },
     "execution_count": 719,
     "metadata": {},
     "output_type": "execute_result"
    }
   ],
   "source": [
    "probs"
   ]
  },
  {
   "cell_type": "code",
   "execution_count": 720,
   "metadata": {
    "collapsed": false
   },
   "outputs": [
    {
     "data": {
      "text/plain": [
       "0.01"
      ]
     },
     "execution_count": 720,
     "metadata": {},
     "output_type": "execute_result"
    }
   ],
   "source": [
    "prob_floor"
   ]
  },
  {
   "cell_type": "code",
   "execution_count": null,
   "metadata": {
    "collapsed": true
   },
   "outputs": [],
   "source": [
    "probs[probs <= prob_floor] = 0.0"
   ]
  },
  {
   "cell_type": "code",
   "execution_count": null,
   "metadata": {
    "collapsed": true
   },
   "outputs": [],
   "source": []
  },
  {
   "cell_type": "code",
   "execution_count": null,
   "metadata": {
    "collapsed": true
   },
   "outputs": [],
   "source": []
  },
  {
   "cell_type": "code",
   "execution_count": 707,
   "metadata": {
    "collapsed": true
   },
   "outputs": [],
   "source": [
    "def apply_transition_model(candidate_roads, dist_prev, time_delta_prev):\n",
    "    \"\"\"\n",
    "    returns probabilities of transition, given current particles\n",
    "    numpy array of floats between 0 and 1, normalized, (n * c, 1)\n",
    "\n",
    "    candidate_roads numpy array float of lat,long closest point to road from obs (N&K)\n",
    "    dist_prev float, meters\n",
    "    time_delta_prev float, sec\n",
    "\n",
    "    Zeroize very small probability candidates, but don't change shape of particles.\n",
    "    Then, if some particles are very unlikely, we cull them and resample from more likely particles. \n",
    "    \"\"\"\n",
    "    # Crossproduct for each particle, all roads\n",
    "    state_last2 = np.concatenate([np.concatenate((particles, \n",
    "                                                  np.tile(c, (n, 1))), \n",
    "                                                 axis=1) \n",
    "                                  for c in candidate_roads], axis=0)  # (n * c, 4)\n",
    "    obs_last2 = np.array(obs_history[-2:]).reshape((1, 4))\n",
    "    probs = transition_model.prob_transition(state_last2, obs_last2, \n",
    "                                             dist_prev, time_delta_prev)  # (n * c, 1)\n",
    "    # Effectively, candidate roads will be possible from different original particle hypotheses\n",
    "    # Zeroise small probs, without changing array shape\n",
    "    probs[probs <= prob_floor] = 0.0\n",
    "    # Re-normalize\n",
    "    probs = probs / np.sum(probs)\n",
    "    return probs"
   ]
  },
  {
   "cell_type": "code",
   "execution_count": null,
   "metadata": {
    "collapsed": true
   },
   "outputs": [],
   "source": []
  },
  {
   "cell_type": "code",
   "execution_count": 691,
   "metadata": {
    "collapsed": false
   },
   "outputs": [
    {
     "data": {
      "text/plain": [
       "lat                  37.751360\n",
       "long               -122.395270\n",
       "lat_prev             37.751340\n",
       "long_prev          -122.394880\n",
       "dist_from_prev_m     34.360479\n",
       "time_delta_sec      -28.000000\n",
       "Name: 1, dtype: float64"
      ]
     },
     "execution_count": 691,
     "metadata": {},
     "output_type": "execute_result"
    }
   ],
   "source": [
    "obs"
   ]
  },
  {
   "cell_type": "code",
   "execution_count": 695,
   "metadata": {
    "collapsed": true
   },
   "outputs": [],
   "source": [
    "obs_coords = obs[['lat', 'long']] # obs[:2]\n",
    "dist_prev, time_delta_prev = obs[['dist_from_prev_m', 'time_delta_sec']] # obs[2:]"
   ]
  },
  {
   "cell_type": "code",
   "execution_count": 696,
   "metadata": {
    "collapsed": false
   },
   "outputs": [
    {
     "data": {
      "text/plain": [
       "-28.0"
      ]
     },
     "execution_count": 696,
     "metadata": {},
     "output_type": "execute_result"
    }
   ],
   "source": [
    "time_delta_prev"
   ]
  },
  {
   "cell_type": "code",
   "execution_count": 676,
   "metadata": {
    "collapsed": true
   },
   "outputs": [],
   "source": [
    "obs_history.append(obs_coords)"
   ]
  },
  {
   "cell_type": "code",
   "execution_count": 697,
   "metadata": {
    "collapsed": false
   },
   "outputs": [
    {
     "data": {
      "text/plain": [
       "[lat      37.75134\n",
       " long   -122.39488\n",
       " Name: 0, dtype: float64,\n",
       " lat      37.75136\n",
       " long   -122.39527\n",
       " Name: 1, dtype: float64]"
      ]
     },
     "execution_count": 697,
     "metadata": {},
     "output_type": "execute_result"
    }
   ],
   "source": [
    "obs_history"
   ]
  },
  {
   "cell_type": "code",
   "execution_count": 698,
   "metadata": {
    "collapsed": false
   },
   "outputs": [],
   "source": [
    "candidate_roads = get_candidate_roads(obs_coords)"
   ]
  },
  {
   "cell_type": "code",
   "execution_count": 699,
   "metadata": {
    "collapsed": false
   },
   "outputs": [
    {
     "data": {
      "text/plain": [
       "array([[  37.7497545 , -122.3962862 ],\n",
       "       [  37.7497851 , -122.3957776 ],\n",
       "       [  37.74982094, -122.39517989],\n",
       "       [  37.7498409 , -122.3948389 ],\n",
       "       [  37.749877  , -122.3942223 ],\n",
       "       [  37.7499376 , -122.3965082 ],\n",
       "       [  37.749877  , -122.3942223 ],\n",
       "       [  37.7500518 , -122.3946562 ],\n",
       "       [  37.7501218 , -122.3965221 ],\n",
       "       [  37.7500518 , -122.3946562 ],\n",
       "       [  37.7501218 , -122.3965221 ],\n",
       "       [  37.7504893 , -122.3966962 ],\n",
       "       [  37.750809  , -122.395448  ],\n",
       "       [  37.7508977 , -122.3934267 ],\n",
       "       [  37.7505055 , -122.3963543 ],\n",
       "       [  37.7510282 , -122.3947529 ],\n",
       "       [  37.7505509 , -122.3947056 ],\n",
       "       [  37.7507095 , -122.3966147 ],\n",
       "       [  37.7506223 , -122.3935102 ],\n",
       "       [  37.7507267 , -122.394723  ],\n",
       "       [  37.7512915 , -122.3952268 ],\n",
       "       [  37.7508102 , -122.3935227 ],\n",
       "       [  37.7509976 , -122.3963989 ],\n",
       "       [  37.7508768 , -122.3962566 ],\n",
       "       [  37.75092   , -122.3956145 ],\n",
       "       [  37.75126053, -122.39642241],\n",
       "       [  37.7511897 , -122.3964163 ],\n",
       "       [  37.7514762 , -122.396441  ],\n",
       "       [  37.75146304, -122.39363914],\n",
       "       [  37.75138233, -122.39501493],\n",
       "       [  37.75139659, -122.39486202],\n",
       "       [  37.75141136, -122.39469148],\n",
       "       [  37.75142206, -122.39451986],\n",
       "       [  37.75136889, -122.39520357],\n",
       "       [  37.75144751, -122.39434619],\n",
       "       [  37.75148118, -122.39400795],\n",
       "       [  37.75146467, -122.39417731],\n",
       "       [  37.75151271, -122.39383611],\n",
       "       [  37.752311  , -122.396513  ],\n",
       "       [  37.7521861 , -122.393509  ],\n",
       "       [  37.7522902 , -122.3968573 ],\n",
       "       [  37.75238646, -122.39533587],\n",
       "       [  37.752432  , -122.3946262 ],\n",
       "       [  37.7523714 , -122.3968168 ],\n",
       "       [  37.752656  , -122.3964826 ],\n",
       "       [  37.75253   , -122.3946416 ],\n",
       "       [  37.752485  , -122.393619  ],\n",
       "       [  37.752311  , -122.396513  ],\n",
       "       [  37.752432  , -122.3946262 ],\n",
       "       [  37.7529547 , -122.3946691 ]])"
      ]
     },
     "execution_count": 699,
     "metadata": {},
     "output_type": "execute_result"
    }
   ],
   "source": [
    "candidate_roads"
   ]
  },
  {
   "cell_type": "code",
   "execution_count": null,
   "metadata": {
    "collapsed": true
   },
   "outputs": [],
   "source": []
  },
  {
   "cell_type": "code",
   "execution_count": 680,
   "metadata": {
    "collapsed": false
   },
   "outputs": [
    {
     "data": {
      "text/plain": [
       "2"
      ]
     },
     "execution_count": 680,
     "metadata": {},
     "output_type": "execute_result"
    }
   ],
   "source": [
    "num_iter"
   ]
  },
  {
   "cell_type": "code",
   "execution_count": 722,
   "metadata": {
    "collapsed": false
   },
   "outputs": [],
   "source": [
    "trans_probs = apply_transition_model(candidate_roads, \n",
    "                                      dist_prev, \n",
    "                                      time_delta_prev) # (n * c, 1) first n rows for first candidate, etc."
   ]
  },
  {
   "cell_type": "code",
   "execution_count": 723,
   "metadata": {
    "collapsed": false
   },
   "outputs": [
    {
     "data": {
      "text/plain": [
       "array([[4.17545221e-29],\n",
       "       [4.17545221e-29],\n",
       "       [1.01753694e-28],\n",
       "       ...,\n",
       "       [4.15709313e-24],\n",
       "       [8.29191906e-24],\n",
       "       [4.15709313e-24]])"
      ]
     },
     "execution_count": 723,
     "metadata": {},
     "output_type": "execute_result"
    }
   ],
   "source": [
    "trans_probs"
   ]
  },
  {
   "cell_type": "code",
   "execution_count": 724,
   "metadata": {
    "collapsed": true
   },
   "outputs": [],
   "source": [
    "# Aggregate probs by candidate roads\n",
    "trans_probs_split = np.array(np.split(trans_probs, n, axis=0))  # (n, c, 1)"
   ]
  },
  {
   "cell_type": "code",
   "execution_count": 725,
   "metadata": {
    "collapsed": false
   },
   "outputs": [
    {
     "data": {
      "text/plain": [
       "(50, 50, 1)"
      ]
     },
     "execution_count": 725,
     "metadata": {},
     "output_type": "execute_result"
    }
   ],
   "source": [
    "trans_probs_split.shape"
   ]
  },
  {
   "cell_type": "code",
   "execution_count": 726,
   "metadata": {
    "collapsed": false
   },
   "outputs": [
    {
     "data": {
      "text/plain": [
       "(50, 1)"
      ]
     },
     "execution_count": 726,
     "metadata": {},
     "output_type": "execute_result"
    }
   ],
   "source": [
    "np.sum(np.array(trans_probs_split), axis=0).shape"
   ]
  },
  {
   "cell_type": "code",
   "execution_count": 727,
   "metadata": {
    "collapsed": true
   },
   "outputs": [],
   "source": [
    "trans_probs_agg = np.sum(trans_probs_split, axis=0)  # (c, 1)"
   ]
  },
  {
   "cell_type": "code",
   "execution_count": 728,
   "metadata": {
    "collapsed": false
   },
   "outputs": [
    {
     "data": {
      "text/plain": [
       "[array([0.02126911]),\n",
       " array([0.02126911]),\n",
       " array([0.02126911]),\n",
       " array([0.02126911]),\n",
       " array([0.02126911]),\n",
       " array([0.02126911]),\n",
       " array([0.02126911]),\n",
       " array([0.02126911]),\n",
       " array([0.02126911]),\n",
       " array([0.02126911])]"
      ]
     },
     "execution_count": 728,
     "metadata": {},
     "output_type": "execute_result"
    }
   ],
   "source": [
    "sorted(trans_probs_agg)[-10:]"
   ]
  },
  {
   "cell_type": "code",
   "execution_count": 729,
   "metadata": {
    "collapsed": false
   },
   "outputs": [
    {
     "data": {
      "text/plain": [
       "(50, 1)"
      ]
     },
     "execution_count": 729,
     "metadata": {},
     "output_type": "execute_result"
    }
   ],
   "source": [
    "trans_probs_agg.shape"
   ]
  },
  {
   "cell_type": "code",
   "execution_count": 731,
   "metadata": {
    "collapsed": false
   },
   "outputs": [
    {
     "data": {
      "text/plain": [
       "array([0.01882851, 0.01882851, 0.02126911, 0.02126911, 0.01882851,\n",
       "       0.02126911, 0.01882851, 0.02126911, 0.01882851, 0.02126911,\n",
       "       0.02126911, 0.01882851, 0.01882851, 0.02126911, 0.02126911,\n",
       "       0.02126911, 0.01882851, 0.02126911, 0.02126911, 0.01882851,\n",
       "       0.01882851, 0.01882851, 0.01882851, 0.01882851, 0.01882851,\n",
       "       0.02126911, 0.02126911, 0.02126911, 0.02126911, 0.01882851,\n",
       "       0.02126911, 0.01882851, 0.01882851, 0.02126911, 0.01882851,\n",
       "       0.01882851, 0.01882851, 0.01882851, 0.01882851, 0.01882851,\n",
       "       0.02126911, 0.02126911, 0.02126911, 0.02126911, 0.01882851,\n",
       "       0.02126911, 0.01882851, 0.02126911, 0.01882851, 0.02126911])"
      ]
     },
     "execution_count": 731,
     "metadata": {},
     "output_type": "execute_result"
    }
   ],
   "source": [
    "trans_probs_agg.flatten()"
   ]
  },
  {
   "cell_type": "code",
   "execution_count": 732,
   "metadata": {
    "collapsed": false
   },
   "outputs": [],
   "source": [
    "# Sample new states\n",
    "sampled_states_idx = np.random.choice(range(len(candidate_roads)), \n",
    "                                      n, \n",
    "                                      list(trans_probs_agg.flatten()))  # (n, )"
   ]
  },
  {
   "cell_type": "code",
   "execution_count": 733,
   "metadata": {
    "collapsed": false
   },
   "outputs": [
    {
     "data": {
      "text/plain": [
       "(50,)"
      ]
     },
     "execution_count": 733,
     "metadata": {},
     "output_type": "execute_result"
    }
   ],
   "source": [
    "sampled_states_idx.shape"
   ]
  },
  {
   "cell_type": "code",
   "execution_count": 660,
   "metadata": {
    "collapsed": true
   },
   "outputs": [],
   "source": [
    "# sampled_states = candidate_roads"
   ]
  },
  {
   "cell_type": "code",
   "execution_count": 734,
   "metadata": {
    "collapsed": true
   },
   "outputs": [],
   "source": [
    "sampled_states = candidate_roads[sampled_states_idx]  # (n, 2)"
   ]
  },
  {
   "cell_type": "code",
   "execution_count": 735,
   "metadata": {
    "collapsed": false
   },
   "outputs": [
    {
     "data": {
      "text/plain": [
       "(50, 2)"
      ]
     },
     "execution_count": 735,
     "metadata": {},
     "output_type": "execute_result"
    }
   ],
   "source": [
    "sampled_states.shape"
   ]
  },
  {
   "cell_type": "code",
   "execution_count": null,
   "metadata": {
    "collapsed": true
   },
   "outputs": [],
   "source": []
  },
  {
   "cell_type": "code",
   "execution_count": 362,
   "metadata": {
    "collapsed": true
   },
   "outputs": [],
   "source": [
    "# sampled_states = candidate_roads"
   ]
  },
  {
   "cell_type": "code",
   "execution_count": 736,
   "metadata": {
    "collapsed": false
   },
   "outputs": [
    {
     "name": "stdout",
     "output_type": "stream",
     "text": [
      "CPU times: user 168 µs, sys: 31 µs, total: 199 µs\n",
      "Wall time: 205 µs\n"
     ]
    }
   ],
   "source": [
    "%%time\n",
    "sensor_probs = estimate_weights_per_particle(sampled_states, obs_coords)"
   ]
  },
  {
   "cell_type": "code",
   "execution_count": 737,
   "metadata": {
    "collapsed": false
   },
   "outputs": [
    {
     "data": {
      "text/plain": [
       "(50, 1)"
      ]
     },
     "execution_count": 737,
     "metadata": {},
     "output_type": "execute_result"
    }
   ],
   "source": [
    "sensor_probs.shape"
   ]
  },
  {
   "cell_type": "code",
   "execution_count": 738,
   "metadata": {
    "collapsed": false
   },
   "outputs": [
    {
     "data": {
      "text/plain": [
       "array([0.24459976, 0.75539978])"
      ]
     },
     "execution_count": 738,
     "metadata": {},
     "output_type": "execute_result"
    }
   ],
   "source": [
    "sensor_probs[sensor_probs > 0.01]"
   ]
  },
  {
   "cell_type": "code",
   "execution_count": 739,
   "metadata": {
    "collapsed": false
   },
   "outputs": [
    {
     "data": {
      "text/plain": [
       "(50, 50, 1)"
      ]
     },
     "execution_count": 739,
     "metadata": {},
     "output_type": "execute_result"
    }
   ],
   "source": [
    "trans_probs_split.shape"
   ]
  },
  {
   "cell_type": "code",
   "execution_count": 740,
   "metadata": {
    "collapsed": false
   },
   "outputs": [
    {
     "data": {
      "text/plain": [
       "(50, 1)"
      ]
     },
     "execution_count": 740,
     "metadata": {},
     "output_type": "execute_result"
    }
   ],
   "source": [
    "np.max(trans_probs_split, axis=0)[sampled_states_idx].shape"
   ]
  },
  {
   "cell_type": "code",
   "execution_count": 741,
   "metadata": {
    "collapsed": false
   },
   "outputs": [
    {
     "data": {
      "text/plain": [
       "(50, 1)"
      ]
     },
     "execution_count": 741,
     "metadata": {},
     "output_type": "execute_result"
    }
   ],
   "source": [
    "sensor_probs.shape"
   ]
  },
  {
   "cell_type": "code",
   "execution_count": 742,
   "metadata": {
    "collapsed": false
   },
   "outputs": [
    {
     "data": {
      "text/plain": [
       "(50, 1)"
      ]
     },
     "execution_count": 742,
     "metadata": {},
     "output_type": "execute_result"
    }
   ],
   "source": [
    "weights.shape"
   ]
  },
  {
   "cell_type": "code",
   "execution_count": 667,
   "metadata": {
    "collapsed": true
   },
   "outputs": [],
   "source": [
    "# joint_prob = sensor_probs[new_particles_idx]"
   ]
  },
  {
   "cell_type": "code",
   "execution_count": 743,
   "metadata": {
    "collapsed": true
   },
   "outputs": [],
   "source": [
    "# joint_prob = sensor_probs\n",
    "joint_prob = np.multiply(\n",
    "        np.multiply(sensor_probs, np.max(trans_probs_split, axis=0)[sampled_states_idx]),  # (n, 1)\n",
    "        weights\n",
    "        )"
   ]
  },
  {
   "cell_type": "code",
   "execution_count": 744,
   "metadata": {
    "collapsed": false
   },
   "outputs": [
    {
     "data": {
      "text/plain": [
       "(50, 1)"
      ]
     },
     "execution_count": 744,
     "metadata": {},
     "output_type": "execute_result"
    }
   ],
   "source": [
    "joint_prob.shape"
   ]
  },
  {
   "cell_type": "code",
   "execution_count": 748,
   "metadata": {
    "collapsed": true
   },
   "outputs": [],
   "source": [
    "weights = joint_prob"
   ]
  },
  {
   "cell_type": "code",
   "execution_count": null,
   "metadata": {
    "collapsed": false
   },
   "outputs": [],
   "source": []
  },
  {
   "cell_type": "code",
   "execution_count": null,
   "metadata": {
    "collapsed": true
   },
   "outputs": [],
   "source": [
    "test=pd.DataFrame(np.array([[1,3],[1,2], [1,6], [2,5], [2,5],[2,3]]))"
   ]
  },
  {
   "cell_type": "code",
   "execution_count": 75,
   "metadata": {
    "collapsed": false
   },
   "outputs": [
    {
     "data": {
      "text/html": [
       "<div>\n",
       "<style scoped>\n",
       "    .dataframe tbody tr th:only-of-type {\n",
       "        vertical-align: middle;\n",
       "    }\n",
       "\n",
       "    .dataframe tbody tr th {\n",
       "        vertical-align: top;\n",
       "    }\n",
       "\n",
       "    .dataframe thead th {\n",
       "        text-align: right;\n",
       "    }\n",
       "</style>\n",
       "<table border=\"1\" class=\"dataframe\">\n",
       "  <thead>\n",
       "    <tr style=\"text-align: right;\">\n",
       "      <th></th>\n",
       "      <th>0</th>\n",
       "      <th>1</th>\n",
       "    </tr>\n",
       "  </thead>\n",
       "  <tbody>\n",
       "    <tr>\n",
       "      <th>0</th>\n",
       "      <td>1</td>\n",
       "      <td>3</td>\n",
       "    </tr>\n",
       "    <tr>\n",
       "      <th>1</th>\n",
       "      <td>1</td>\n",
       "      <td>2</td>\n",
       "    </tr>\n",
       "    <tr>\n",
       "      <th>2</th>\n",
       "      <td>1</td>\n",
       "      <td>6</td>\n",
       "    </tr>\n",
       "    <tr>\n",
       "      <th>3</th>\n",
       "      <td>2</td>\n",
       "      <td>5</td>\n",
       "    </tr>\n",
       "    <tr>\n",
       "      <th>4</th>\n",
       "      <td>2</td>\n",
       "      <td>5</td>\n",
       "    </tr>\n",
       "    <tr>\n",
       "      <th>5</th>\n",
       "      <td>2</td>\n",
       "      <td>3</td>\n",
       "    </tr>\n",
       "  </tbody>\n",
       "</table>\n",
       "</div>"
      ],
      "text/plain": [
       "   0  1\n",
       "0  1  3\n",
       "1  1  2\n",
       "2  1  6\n",
       "3  2  5\n",
       "4  2  5\n",
       "5  2  3"
      ]
     },
     "execution_count": 75,
     "metadata": {},
     "output_type": "execute_result"
    }
   ],
   "source": [
    "test"
   ]
  },
  {
   "cell_type": "code",
   "execution_count": 135,
   "metadata": {
    "collapsed": false
   },
   "outputs": [],
   "source": [
    "sampled_states_idx=np.array([2, 1]); new_particles_idx=np.array([0, 0])"
   ]
  },
  {
   "cell_type": "code",
   "execution_count": 136,
   "metadata": {
    "collapsed": false
   },
   "outputs": [
    {
     "data": {
      "text/plain": [
       "[array([2, 2])]"
      ]
     },
     "execution_count": 136,
     "metadata": {},
     "output_type": "execute_result"
    }
   ],
   "source": [
    "[sampled_states_idx[new_particles_idx]]"
   ]
  },
  {
   "cell_type": "code",
   "execution_count": 137,
   "metadata": {
    "collapsed": false
   },
   "outputs": [
    {
     "data": {
      "text/plain": [
       "array([2, 2, 5, 5])"
      ]
     },
     "execution_count": 137,
     "metadata": {},
     "output_type": "execute_result"
    }
   ],
   "source": [
    "np.array([(np.array([sampled_states_idx[new_particles_idx]]) + 3 * (i-1)) for i in range(1, 3)]).flatten()"
   ]
  },
  {
   "cell_type": "code",
   "execution_count": 138,
   "metadata": {
    "collapsed": false
   },
   "outputs": [
    {
     "data": {
      "text/html": [
       "<div>\n",
       "<style scoped>\n",
       "    .dataframe tbody tr th:only-of-type {\n",
       "        vertical-align: middle;\n",
       "    }\n",
       "\n",
       "    .dataframe tbody tr th {\n",
       "        vertical-align: top;\n",
       "    }\n",
       "\n",
       "    .dataframe thead th {\n",
       "        text-align: right;\n",
       "    }\n",
       "</style>\n",
       "<table border=\"1\" class=\"dataframe\">\n",
       "  <thead>\n",
       "    <tr style=\"text-align: right;\">\n",
       "      <th></th>\n",
       "      <th>0</th>\n",
       "      <th>1</th>\n",
       "    </tr>\n",
       "  </thead>\n",
       "  <tbody>\n",
       "    <tr>\n",
       "      <th>2</th>\n",
       "      <td>1</td>\n",
       "      <td>6</td>\n",
       "    </tr>\n",
       "    <tr>\n",
       "      <th>2</th>\n",
       "      <td>1</td>\n",
       "      <td>6</td>\n",
       "    </tr>\n",
       "    <tr>\n",
       "      <th>5</th>\n",
       "      <td>2</td>\n",
       "      <td>3</td>\n",
       "    </tr>\n",
       "    <tr>\n",
       "      <th>5</th>\n",
       "      <td>2</td>\n",
       "      <td>3</td>\n",
       "    </tr>\n",
       "  </tbody>\n",
       "</table>\n",
       "</div>"
      ],
      "text/plain": [
       "   0  1\n",
       "2  1  6\n",
       "2  1  6\n",
       "5  2  3\n",
       "5  2  3"
      ]
     },
     "execution_count": 138,
     "metadata": {},
     "output_type": "execute_result"
    }
   ],
   "source": [
    "test.loc[np.array([(np.array([sampled_states_idx[new_particles_idx]]) + 3 * (i-1)) for i in range(1, 3)]).flatten(), :]"
   ]
  },
  {
   "cell_type": "code",
   "execution_count": null,
   "metadata": {
    "collapsed": true
   },
   "outputs": [],
   "source": [
    "# Use trans_probs!!! (n * c, 1)"
   ]
  },
  {
   "cell_type": "code",
   "execution_count": 139,
   "metadata": {
    "collapsed": true
   },
   "outputs": [],
   "source": [
    "best_prior_state_idx = \\\n",
    "pd.DataFrame(test).loc[np.array([(np.array([sampled_states_idx[new_particles_idx]]) + 3 * (i-1)) \n",
    "                                        for i in range(1, 3)]).flatten(), :\n",
    "                             ].groupby([0])[1].idxmax().values.reshape(1,-1)"
   ]
  },
  {
   "cell_type": "code",
   "execution_count": 178,
   "metadata": {
    "collapsed": false
   },
   "outputs": [
    {
     "data": {
      "text/plain": [
       "array([[2, 2]])"
      ]
     },
     "execution_count": 178,
     "metadata": {},
     "output_type": "execute_result"
    }
   ],
   "source": [
    "best_prior_state_idx % 3"
   ]
  },
  {
   "cell_type": "code",
   "execution_count": 179,
   "metadata": {
    "collapsed": false
   },
   "outputs": [
    {
     "data": {
      "text/plain": [
       "array([[1, 6],\n",
       "       [2, 3]])"
      ]
     },
     "execution_count": 179,
     "metadata": {},
     "output_type": "execute_result"
    }
   ],
   "source": [
    "test.values[best_prior_state_idx][0]"
   ]
  },
  {
   "cell_type": "code",
   "execution_count": 121,
   "metadata": {
    "collapsed": false
   },
   "outputs": [
    {
     "ename": "NameError",
     "evalue": "name 'trans_probs' is not defined",
     "output_type": "error",
     "traceback": [
      "\u001b[0;31m---------------------------------------------------------------------------\u001b[0m",
      "\u001b[0;31mNameError\u001b[0m                                 Traceback (most recent call last)",
      "\u001b[0;32m<ipython-input-121-d184d7adc60d>\u001b[0m in \u001b[0;36m<module>\u001b[0;34m\u001b[0m\n\u001b[1;32m      1\u001b[0m \u001b[0mbest_prior_state_idx\u001b[0m \u001b[0;34m=\u001b[0m\u001b[0;31m \u001b[0m\u001b[0;31m\\\u001b[0m\u001b[0;34m\u001b[0m\u001b[0;34m\u001b[0m\u001b[0m\n\u001b[0;32m----> 2\u001b[0;31m pd.DataFrame(trans_probs).loc[np.array([(np.array([sampled_states_idx[new_particles_idx]]) + 3 * (i - 1)) \n\u001b[0m\u001b[1;32m      3\u001b[0m                                         for i in range(1, 3)]).flatten(), :\n\u001b[1;32m      4\u001b[0m                              ].groupby([0])[1].idxmax().values.reshape(1,-1)\n",
      "\u001b[0;31mNameError\u001b[0m: name 'trans_probs' is not defined"
     ]
    }
   ],
   "source": [
    "best_prior_state_idx = \\\n",
    "pd.DataFrame(trans_probs).loc[np.array([(np.array([sampled_states_idx[new_particles_idx]]) + \n",
    "                                         len(candidate_roads) * (i - 1)) \n",
    "                                        for i in range(1, (self.n + 1))]).flatten(), :\n",
    "                             ].groupby([0])[1].idxmax().values.reshape(1, -1)"
   ]
  },
  {
   "cell_type": "code",
   "execution_count": null,
   "metadata": {
    "collapsed": true
   },
   "outputs": [],
   "source": []
  },
  {
   "cell_type": "code",
   "execution_count": 872,
   "metadata": {
    "collapsed": false
   },
   "outputs": [
    {
     "data": {
      "text/plain": [
       "(1, 50)"
      ]
     },
     "execution_count": 872,
     "metadata": {},
     "output_type": "execute_result"
    }
   ],
   "source": [
    "best_prior_state_idx.shape"
   ]
  },
  {
   "cell_type": "code",
   "execution_count": 873,
   "metadata": {
    "collapsed": false
   },
   "outputs": [
    {
     "data": {
      "text/plain": [
       "array([[0, 0, 2, 2, 0, 2, 0, 2, 0, 2, 2, 0, 0, 2, 2, 2, 0, 2, 2, 0, 0, 0,\n",
       "        0, 0, 0, 2, 2, 2, 2, 0, 2, 0, 0, 2, 0, 0, 0, 0, 0, 0, 2, 2, 2, 2,\n",
       "        0, 2, 0, 2, 0, 2]])"
      ]
     },
     "execution_count": 873,
     "metadata": {},
     "output_type": "execute_result"
    }
   ],
   "source": [
    "best_prior_state_idx"
   ]
  },
  {
   "cell_type": "code",
   "execution_count": 773,
   "metadata": {
    "collapsed": true
   },
   "outputs": [],
   "source": [
    "best_prior_state = particles[best_prior_state_idx][0]  # (n, 2)"
   ]
  },
  {
   "cell_type": "code",
   "execution_count": null,
   "metadata": {
    "collapsed": true
   },
   "outputs": [],
   "source": []
  },
  {
   "cell_type": "code",
   "execution_count": null,
   "metadata": {
    "collapsed": true
   },
   "outputs": [],
   "source": []
  },
  {
   "cell_type": "code",
   "execution_count": 774,
   "metadata": {
    "collapsed": false
   },
   "outputs": [
    {
     "data": {
      "text/plain": [
       "(50, 2)"
      ]
     },
     "execution_count": 774,
     "metadata": {},
     "output_type": "execute_result"
    }
   ],
   "source": [
    "best_prior_state.shape"
   ]
  },
  {
   "cell_type": "code",
   "execution_count": 780,
   "metadata": {
    "collapsed": true
   },
   "outputs": [],
   "source": [
    "viterbi_trellis.append(best_prior_state)"
   ]
  },
  {
   "cell_type": "code",
   "execution_count": 781,
   "metadata": {
    "collapsed": true
   },
   "outputs": [],
   "source": [
    "viterbi_trellis_idx.append(best_prior_state_idx)"
   ]
  },
  {
   "cell_type": "code",
   "execution_count": null,
   "metadata": {
    "collapsed": false
   },
   "outputs": [],
   "source": []
  },
  {
   "cell_type": "code",
   "execution_count": 664,
   "metadata": {
    "collapsed": false
   },
   "outputs": [],
   "source": [
    "# Sample new particles\n",
    "new_particles_idx = np.random.choice(a=range(sampled_states.shape[0]), \n",
    "                                     size=n, \n",
    "                                     p=sensor_probs.flatten())  # (1, n)"
   ]
  },
  {
   "cell_type": "code",
   "execution_count": 666,
   "metadata": {
    "collapsed": true
   },
   "outputs": [],
   "source": [
    "new_particles = sampled_states[new_particles_idx]  # (n, 2)"
   ]
  },
  {
   "cell_type": "code",
   "execution_count": 749,
   "metadata": {
    "collapsed": true
   },
   "outputs": [],
   "source": [
    "particles = new_particles"
   ]
  },
  {
   "cell_type": "code",
   "execution_count": 750,
   "metadata": {
    "collapsed": true
   },
   "outputs": [],
   "source": [
    "# Estimate current particle filter fit quality of hypotheses to data; should research good metrics more.\n",
    "    # Came up with this on my own. \n",
    "fit_quality = [np.max(weights), np.mean(weights), np.median(weights)]"
   ]
  },
  {
   "cell_type": "code",
   "execution_count": 751,
   "metadata": {
    "collapsed": false
   },
   "outputs": [
    {
     "data": {
      "text/plain": [
       "[0.0032343141665107955, 8.015634433554048e-05, 2.8602818874616793e-174]"
      ]
     },
     "execution_count": 751,
     "metadata": {},
     "output_type": "execute_result"
    }
   ],
   "source": [
    "fit_quality"
   ]
  },
  {
   "cell_type": "code",
   "execution_count": 490,
   "metadata": {
    "collapsed": true
   },
   "outputs": [],
   "source": []
  },
  {
   "cell_type": "code",
   "execution_count": null,
   "metadata": {
    "collapsed": true
   },
   "outputs": [],
   "source": []
  },
  {
   "cell_type": "code",
   "execution_count": null,
   "metadata": {
    "collapsed": true
   },
   "outputs": [],
   "source": [
    "# def update_dist(obs, num_iter, max_dist2=None):\n",
    "\"\"\"\n",
    "Re-sample particles from transition model given re-estimated likelihood of existing particles.\n",
    "Weighted sample with replacement. \n",
    "\n",
    "numpy array of floats [lat, long, dist_from_prev_m, time_delta_sec]\n",
    "\n",
    "Note: if find no solutions, need to remove points in a signal break until HMM 'heals.'\n",
    "If break > 180 sec, separate into two trips.\n",
    "\"\"\"\n",
    "# Update stored obs\n",
    "obs_coords = obs[['lat', 'long']] # obs[:2]\n",
    "dist_prev, time_delta_prev = obs[['dist_from_prev_m', 'time_delta_sec']] # obs[2:]\n",
    "obs_history.append(obs_coords)\n",
    "# Get candidate roads given obs\n",
    "candidate_roads = get_candidate_roads(obs_coords) # ignore distance\n",
    "# What if candidate_roads is empty?? Then, seems logical to return No Match, and abort. \n",
    "if candidate_roads is None:\n",
    "    return 'Aborted'\n",
    "# Get transition probs; for first observation, ignore this part of the algorithm \n",
    "# and treat sensor probs as prior probabilities (N&K.\n",
    "if num_iter > 1:\n",
    "    trans_probs = apply_transition_model(candidate_roads, \n",
    "                                              dist_prev, \n",
    "                                              time_delta_prev) # (n * c, 1) first n rows for first candidate, etc.\n",
    "    # Aggregate probs by candidate roads\n",
    "    trans_probs_split = np.array(np.split(trans_probs, n, axis=0))  # (n, c, 1)\n",
    "    trans_probs_agg = np.sum(trans_probs_split, axis=0)  # (c, 1)\n",
    "    # Sample new states\n",
    "    # Sample new states\n",
    "    sampled_states_idx = np.random.choice(range(len(candidate_roads)), \n",
    "                                      n, \n",
    "                                      list(trans_probs_agg.flatten()))  # (n, )\n",
    "    sampled_states = candidate_roads[sampled_states_idx]  # (n, 2)\n",
    "else:\n",
    "    sampled_states = candidate_roads\n",
    "\n",
    "# Get sensor probs\n",
    "sensor_probs = estimate_weights_per_particle(sampled_states, obs_coords)  # (n, 1)\n",
    "\n",
    "# Joint prob, for viterbi backtracking. \n",
    "if num_iter > 1:\n",
    "    joint_prob = np.multiply(\n",
    "        np.multiply(sensor_probs, np.max(trans_probs_split, axis=0)[sampled_states_idx]),  # (n, 1)\n",
    "        weights\n",
    "        )\n",
    "# else:\n",
    "#     joint_prob = sensor_probs\n",
    "# weights = joint_prob  # Effectively setting prior probabilites in iter 1\n",
    "\n",
    "# Sample new particles\n",
    "new_particles_idx = np.random.choice(a=range(sampled_states.shape[0]), \n",
    "                                     size=n, \n",
    "                                     p=sensor_probs.flatten())  # (1, n) if not iter 1 else (1, c) \n",
    "new_particles = sampled_states[new_particles_idx]  # (n, 2)\n",
    "\n",
    "# Best prior state/particle for a given candidate state, for viterbi backtracking. \n",
    "if num_iter > 1:\n",
    "    best_prior_state_idx = \\\n",
    "    pd.DataFrame(trans_probs).loc[np.array([(np.array([sampled_states_idx[new_particles_idx]]) + \n",
    "                                         len(candidate_roads) * (i - 1)) \n",
    "                                        for i in range(1, (n + 1))]).flatten(), :\n",
    "                             ].groupby([0])[1].idxmax().values.reshape(1, -1) # (1, n)\n",
    "    best_prior_state_idx = best_prior_state_idx % len(candidate_roads)  # get back to particle-space\n",
    "    best_prior_state = particles[best_prior_state_idx][0]  # (n, 2)\n",
    "    viterbi_trellis.append(best_prior_state)\n",
    "    viterbi_trellis_idx.append(best_prior_state_idx)\n",
    "else:\n",
    "    joint_prob = sensor_probs[new_particles_idx]  # Effectively setting prior probabilites in iter 1\n",
    "    \n",
    "weights = joint_prob\n",
    "\n",
    "particles = new_particles\n",
    "\n",
    "# Estimate current particle filter fit quality of hypotheses to data; should research good metrics more.\n",
    "    # Came up with this on my own. \n",
    "fit_quality = [np.max(weights), np.mean(weights), np.median(weights)]\n",
    "\n",
    "return fit_quality"
   ]
  },
  {
   "cell_type": "code",
   "execution_count": 646,
   "metadata": {
    "collapsed": false
   },
   "outputs": [],
   "source": [
    "num_iter = 0\n",
    "converged = False"
   ]
  },
  {
   "cell_type": "code",
   "execution_count": 647,
   "metadata": {
    "collapsed": false
   },
   "outputs": [
    {
     "data": {
      "text/html": [
       "<div>\n",
       "<style scoped>\n",
       "    .dataframe tbody tr th:only-of-type {\n",
       "        vertical-align: middle;\n",
       "    }\n",
       "\n",
       "    .dataframe tbody tr th {\n",
       "        vertical-align: top;\n",
       "    }\n",
       "\n",
       "    .dataframe thead th {\n",
       "        text-align: right;\n",
       "    }\n",
       "</style>\n",
       "<table border=\"1\" class=\"dataframe\">\n",
       "  <thead>\n",
       "    <tr style=\"text-align: right;\">\n",
       "      <th></th>\n",
       "      <th>lat</th>\n",
       "      <th>long</th>\n",
       "      <th>lat_prev</th>\n",
       "      <th>long_prev</th>\n",
       "      <th>dist_from_prev_m</th>\n",
       "      <th>time_delta_sec</th>\n",
       "    </tr>\n",
       "  </thead>\n",
       "  <tbody>\n",
       "    <tr>\n",
       "      <th>0</th>\n",
       "      <td>37.75134</td>\n",
       "      <td>-122.39488</td>\n",
       "      <td>NaN</td>\n",
       "      <td>NaN</td>\n",
       "      <td>NaN</td>\n",
       "      <td>NaN</td>\n",
       "    </tr>\n",
       "    <tr>\n",
       "      <th>1</th>\n",
       "      <td>37.75136</td>\n",
       "      <td>-122.39527</td>\n",
       "      <td>37.75134</td>\n",
       "      <td>-122.39488</td>\n",
       "      <td>34.360479</td>\n",
       "      <td>-28.0</td>\n",
       "    </tr>\n",
       "    <tr>\n",
       "      <th>2</th>\n",
       "      <td>37.75199</td>\n",
       "      <td>-122.39460</td>\n",
       "      <td>37.75136</td>\n",
       "      <td>-122.39527</td>\n",
       "      <td>91.527346</td>\n",
       "      <td>-119.0</td>\n",
       "    </tr>\n",
       "    <tr>\n",
       "      <th>3</th>\n",
       "      <td>37.75080</td>\n",
       "      <td>-122.39346</td>\n",
       "      <td>37.75199</td>\n",
       "      <td>-122.39460</td>\n",
       "      <td>165.996049</td>\n",
       "      <td>-51.0</td>\n",
       "    </tr>\n",
       "    <tr>\n",
       "      <th>4</th>\n",
       "      <td>37.75015</td>\n",
       "      <td>-122.39256</td>\n",
       "      <td>37.75080</td>\n",
       "      <td>-122.39346</td>\n",
       "      <td>107.168918</td>\n",
       "      <td>-252.0</td>\n",
       "    </tr>\n",
       "  </tbody>\n",
       "</table>\n",
       "</div>"
      ],
      "text/plain": [
       "        lat       long  lat_prev  long_prev  dist_from_prev_m  time_delta_sec\n",
       "0  37.75134 -122.39488       NaN        NaN               NaN             NaN\n",
       "1  37.75136 -122.39527  37.75134 -122.39488         34.360479           -28.0\n",
       "2  37.75199 -122.39460  37.75136 -122.39527         91.527346          -119.0\n",
       "3  37.75080 -122.39346  37.75199 -122.39460        165.996049           -51.0\n",
       "4  37.75015 -122.39256  37.75080 -122.39346        107.168918          -252.0"
      ]
     },
     "execution_count": 647,
     "metadata": {},
     "output_type": "execute_result"
    }
   ],
   "source": [
    "data.head()"
   ]
  },
  {
   "cell_type": "code",
   "execution_count": 673,
   "metadata": {
    "collapsed": false
   },
   "outputs": [],
   "source": [
    "obs = data.iloc[1, :]"
   ]
  },
  {
   "cell_type": "code",
   "execution_count": 368,
   "metadata": {
    "collapsed": false
   },
   "outputs": [
    {
     "data": {
      "text/plain": [
       "lat                  37.751360\n",
       "long               -122.395270\n",
       "lat_prev             37.751340\n",
       "long_prev          -122.394880\n",
       "dist_from_prev_m     34.360479\n",
       "time_delta_sec      -28.000000\n",
       "Name: 1, dtype: float64"
      ]
     },
     "execution_count": 368,
     "metadata": {},
     "output_type": "execute_result"
    }
   ],
   "source": [
    "obs"
   ]
  },
  {
   "cell_type": "code",
   "execution_count": 674,
   "metadata": {
    "collapsed": true
   },
   "outputs": [],
   "source": [
    "num_iter += 1"
   ]
  },
  {
   "cell_type": "code",
   "execution_count": null,
   "metadata": {
    "collapsed": true
   },
   "outputs": [],
   "source": [
    "# def fit(data#, max_iter=100, conv_tol=0.001\n",
    "#            ):\n",
    "\"\"\"\n",
    "Iterate over rows in data, training particle filter. \n",
    "Rows assumed to be sequentially ordered. \n",
    "\n",
    "data, numpy array (num obs, data dim)\n",
    "data cols include lat, long, dist_from_prev_m, time_delta_sec (all floats)\n",
    "\n",
    "Note, calling fit multiple times would result in nonsense results, so this is prevented. \n",
    "\"\"\"\n",
    "if fitted:\n",
    "    print(\"Already fit - Cannot fit multiple times.\")\n",
    "    return None\n",
    "data = data.copy()\n",
    "num_iter = 0\n",
    "converged = False  # Is this relevant for particle filters?\n",
    "#         while num_iter < max_iter and not converged:\n",
    "#             num_iter += 1\n",
    "for obs in data:\n",
    "    num_iter += 1\n",
    "    fit_quality = update_dist(obs, num_iter)\n",
    "    if fit_quality == \"Aborted\":\n",
    "        return \"Aborted\"\n",
    "    # Shouldn't I use DP/Viterbi for this?? \n",
    "    # Nearest neighbor filter, hungarian algorithm?? p. 601\n",
    "    # Best at any given point in time will suffer in the beginning before particle dist has converged, ie\n",
    "    # during the burn-in period.\n",
    "    # So, seems can still use DP, but proceed backward in time. Wait, that is Viterbi :) \n",
    "        # Happily I have a finite state space. \n",
    "    print(\"On iteration %d, fit quality of MAX %3.2f, MEAN %3.2f, MEDIAN %3.2f\" % \n",
    "          (num_iter, fit_quality[0], fit_quality[1], fit_quality[2]))\n",
    "print(\"Done.\")\n",
    "fitted = True\n",
    "return fit_quality"
   ]
  },
  {
   "cell_type": "code",
   "execution_count": null,
   "metadata": {
    "collapsed": true
   },
   "outputs": [],
   "source": []
  },
  {
   "cell_type": "code",
   "execution_count": 783,
   "metadata": {
    "collapsed": true
   },
   "outputs": [],
   "source": [
    "best_last_state_idx = np.argmax(weights)"
   ]
  },
  {
   "cell_type": "code",
   "execution_count": 784,
   "metadata": {
    "collapsed": false
   },
   "outputs": [
    {
     "data": {
      "text/plain": [
       "35"
      ]
     },
     "execution_count": 784,
     "metadata": {},
     "output_type": "execute_result"
    }
   ],
   "source": [
    "best_last_state_idx"
   ]
  },
  {
   "cell_type": "code",
   "execution_count": 785,
   "metadata": {
    "collapsed": true
   },
   "outputs": [],
   "source": [
    "best_last_state = particles[best_last_state_idx]"
   ]
  },
  {
   "cell_type": "code",
   "execution_count": 786,
   "metadata": {
    "collapsed": false
   },
   "outputs": [
    {
     "data": {
      "text/plain": [
       "array([  37.75134205, -122.39485713])"
      ]
     },
     "execution_count": 786,
     "metadata": {},
     "output_type": "execute_result"
    }
   ],
   "source": [
    "best_last_state"
   ]
  },
  {
   "cell_type": "code",
   "execution_count": 787,
   "metadata": {
    "collapsed": true
   },
   "outputs": [],
   "source": [
    "backtracked_states = [best_last_state]"
   ]
  },
  {
   "cell_type": "code",
   "execution_count": 788,
   "metadata": {
    "collapsed": false
   },
   "outputs": [
    {
     "data": {
      "text/plain": [
       "[array([  37.75134205, -122.39485713])]"
      ]
     },
     "execution_count": 788,
     "metadata": {},
     "output_type": "execute_result"
    }
   ],
   "source": [
    "backtracked_states"
   ]
  },
  {
   "cell_type": "code",
   "execution_count": 790,
   "metadata": {
    "collapsed": true
   },
   "outputs": [],
   "source": [
    "j=len(viterbi_trellis) - 1"
   ]
  },
  {
   "cell_type": "code",
   "execution_count": 791,
   "metadata": {
    "collapsed": false
   },
   "outputs": [
    {
     "data": {
      "text/plain": [
       "1"
      ]
     },
     "execution_count": 791,
     "metadata": {},
     "output_type": "execute_result"
    }
   ],
   "source": [
    "j"
   ]
  },
  {
   "cell_type": "code",
   "execution_count": 800,
   "metadata": {
    "collapsed": false
   },
   "outputs": [
    {
     "data": {
      "text/plain": [
       "(1, 50)"
      ]
     },
     "execution_count": 800,
     "metadata": {},
     "output_type": "execute_result"
    }
   ],
   "source": [
    "viterbi_trellis_idx[j].shape"
   ]
  },
  {
   "cell_type": "code",
   "execution_count": 805,
   "metadata": {
    "collapsed": false
   },
   "outputs": [],
   "source": [
    "best_last_state_idx = viterbi_trellis_idx[j].flatten()[best_last_state_idx]"
   ]
  },
  {
   "cell_type": "code",
   "execution_count": 806,
   "metadata": {
    "collapsed": false
   },
   "outputs": [
    {
     "data": {
      "text/plain": [
       "0"
      ]
     },
     "execution_count": 806,
     "metadata": {},
     "output_type": "execute_result"
    }
   ],
   "source": [
    "best_last_state_idx"
   ]
  },
  {
   "cell_type": "code",
   "execution_count": 807,
   "metadata": {
    "collapsed": true
   },
   "outputs": [],
   "source": [
    "best_last_state = viterbi_trellis[j][best_last_state_idx]"
   ]
  },
  {
   "cell_type": "code",
   "execution_count": 808,
   "metadata": {
    "collapsed": false
   },
   "outputs": [
    {
     "data": {
      "text/plain": [
       "array([  37.75134205, -122.39485713])"
      ]
     },
     "execution_count": 808,
     "metadata": {},
     "output_type": "execute_result"
    }
   ],
   "source": [
    "best_last_state"
   ]
  },
  {
   "cell_type": "code",
   "execution_count": 809,
   "metadata": {
    "collapsed": true
   },
   "outputs": [],
   "source": [
    "backtracked_states.append(best_last_state)"
   ]
  },
  {
   "cell_type": "code",
   "execution_count": 810,
   "metadata": {
    "collapsed": false
   },
   "outputs": [
    {
     "data": {
      "text/plain": [
       "[array([  37.75134205, -122.39485713]), array([  37.75134205, -122.39485713])]"
      ]
     },
     "execution_count": 810,
     "metadata": {},
     "output_type": "execute_result"
    }
   ],
   "source": [
    "backtracked_states"
   ]
  },
  {
   "cell_type": "code",
   "execution_count": 811,
   "metadata": {
    "collapsed": false
   },
   "outputs": [],
   "source": [
    "for j in range(len(viterbi_trellis) - 1, -1, -1):\n",
    "    best_last_state_idx = viterbi_trellis_idx[j].flatten()[best_last_state_idx]\n",
    "    best_last_state = viterbi_trellis[j][best_last_state_idx]\n",
    "    backtracked_states.append(best_last_state)"
   ]
  },
  {
   "cell_type": "code",
   "execution_count": 812,
   "metadata": {
    "collapsed": true
   },
   "outputs": [],
   "source": [
    "# Put in chronological order\n",
    "backtracked_states = backtracked_states[::-1]"
   ]
  },
  {
   "cell_type": "code",
   "execution_count": 814,
   "metadata": {
    "collapsed": false
   },
   "outputs": [
    {
     "data": {
      "text/plain": [
       "[array([  37.75134205, -122.39485713]),\n",
       " array([  37.75134205, -122.39485713]),\n",
       " array([  37.75134205, -122.39485713]),\n",
       " array([  37.75134205, -122.39485713])]"
      ]
     },
     "execution_count": 814,
     "metadata": {},
     "output_type": "execute_result"
    }
   ],
   "source": [
    "backtracked_states"
   ]
  },
  {
   "cell_type": "code",
   "execution_count": null,
   "metadata": {
    "collapsed": true
   },
   "outputs": [],
   "source": []
  },
  {
   "cell_type": "code",
   "execution_count": 839,
   "metadata": {
    "collapsed": true
   },
   "outputs": [],
   "source": [
    "def viterbi():\n",
    "    \"\"\"\n",
    "    Returns list of backtracked states (float lat long),\n",
    "    the imputed GPS trace that has been 'snapped' to roads.\n",
    "    Use Viterbi to get optimal path via DP - \n",
    "    happily I have a finite state space due to my constraint \n",
    "    to only maintain n particles. \n",
    "\n",
    "    Note1, Viterbi relies on the Markov property, which\n",
    "    can apply here. \n",
    "    Note2, if particle filter was aborted due to no matching candidate roads,\n",
    "    Viterbi will still be able to backtrack the trace up until that point. \n",
    "    \"\"\"\n",
    "    # Start with the last observation to the viterbi trellis\n",
    "    best_last_state_idx = np.argmax(weights)\n",
    "    best_last_state = particles[best_last_state_idx]\n",
    "    backtracked_states = [best_last_state]\n",
    "    # Backtrack through the viterbi trellis (#obs, n, 2) actual lat/long states\n",
    "    for j in range(len(viterbi_trellis) - 1, -1, -1):\n",
    "        best_last_state_idx = viterbi_trellis_idx[j].flatten()[best_last_state_idx]\n",
    "        best_last_state = viterbi_trellis[j][best_last_state_idx]\n",
    "        backtracked_states.append(best_last_state)\n",
    "    # Put in chronological order\n",
    "    backtracked_states = backtracked_states[::-1]\n",
    "    return backtracked_states"
   ]
  },
  {
   "cell_type": "code",
   "execution_count": null,
   "metadata": {
    "collapsed": true
   },
   "outputs": [],
   "source": []
  },
  {
   "cell_type": "code",
   "execution_count": null,
   "metadata": {
    "collapsed": true
   },
   "outputs": [],
   "source": [
    "# END DEBUGGING"
   ]
  },
  {
   "cell_type": "code",
   "execution_count": 159,
   "metadata": {
    "collapsed": false
   },
   "outputs": [
    {
     "data": {
      "text/plain": [
       "array([ 0,  1,  2,  3,  4,  5,  6,  7,  8,  9, 10, 11, 12, 13, 14])"
      ]
     },
     "execution_count": 159,
     "metadata": {},
     "output_type": "execute_result"
    }
   ],
   "source": [
    "np.array(range(5*3))"
   ]
  },
  {
   "cell_type": "code",
   "execution_count": 187,
   "metadata": {
    "collapsed": false
   },
   "outputs": [
    {
     "data": {
      "text/plain": [
       "array([0, 1, 2, 3, 4, 0, 1, 2, 3, 4, 0, 1, 2, 3, 4])"
      ]
     },
     "execution_count": 187,
     "metadata": {},
     "output_type": "execute_result"
    }
   ],
   "source": [
    "np.array([i for i in range(5)] * 3)"
   ]
  },
  {
   "cell_type": "code",
   "execution_count": 161,
   "metadata": {
    "collapsed": false
   },
   "outputs": [
    {
     "data": {
      "text/plain": [
       "array([0, 0, 0, 1, 1, 1, 2, 2, 2, 3, 3, 3, 4, 4, 4])"
      ]
     },
     "execution_count": 161,
     "metadata": {},
     "output_type": "execute_result"
    }
   ],
   "source": [
    "np.array([j for l in [[i]*3 for i in range(0,5)] for j in l])"
   ]
  },
  {
   "cell_type": "code",
   "execution_count": 175,
   "metadata": {
    "collapsed": false
   },
   "outputs": [
    {
     "data": {
      "text/plain": [
       "array([[ 0,  0],\n",
       "       [ 0,  1],\n",
       "       [ 0,  2],\n",
       "       [ 1,  3],\n",
       "       [ 1,  4],\n",
       "       [ 1,  5],\n",
       "       [ 2,  6],\n",
       "       [ 2,  7],\n",
       "       [ 2,  8],\n",
       "       [ 3,  9],\n",
       "       [ 3, 10],\n",
       "       [ 3, 11],\n",
       "       [ 4, 12],\n",
       "       [ 4, 13],\n",
       "       [ 4, 14]])"
      ]
     },
     "execution_count": 175,
     "metadata": {},
     "output_type": "execute_result"
    }
   ],
   "source": [
    "np.concatenate((np.array([j for l in [[i]*3 for i in range(0,5)] for j in l]).reshape(15,1),\n",
    "                np.array(range(5*3)).reshape(15,1)\n",
    "               ), axis=1\n",
    "              )"
   ]
  },
  {
   "cell_type": "code",
   "execution_count": null,
   "metadata": {
    "collapsed": true
   },
   "outputs": [],
   "source": []
  },
  {
   "cell_type": "code",
   "execution_count": 502,
   "metadata": {
    "collapsed": true
   },
   "outputs": [],
   "source": []
  },
  {
   "cell_type": "code",
   "execution_count": 383,
   "metadata": {
    "collapsed": true
   },
   "outputs": [],
   "source": [
    "class particle_filter:\n",
    "    \"\"\"\n",
    "    Fit a particle filter to data given a transition and sensor model. \n",
    "    \n",
    "    n, integer, number of particles to maintain at each step in time.\n",
    "    max_road_dist_m, float, max road distance above which candidate roads aren't considered (meters). \n",
    "    prob_floor, float between 0 and 1, min probability below which candidate roads aren't considered (not in N&K).\n",
    "    Sensor model, , is some model object we will use to predict the likelihood.\n",
    "    Transition model, , is some model object we will use to predict next state.\n",
    "    ## max_iter, integer, the maximum iterations used in fitting the particle filter.\n",
    "    ## conv_tol, the convergence tolerance that will trigger early termination of fitting the particle filter. \n",
    "    \"\"\"\n",
    "    def __init__(self, road_strtree, n=50, max_road_dist_m=200, prob_floor=0.0, \n",
    "                 sensor_model=gps_sensor_model(), transition_model=gps_transition_model(), \n",
    "                 viterbi_trellis=[], viterbi_trellis_idx=[]):\n",
    "        self.road_strtree = road_strtree\n",
    "        self.n = n\n",
    "        self.max_road_dist_m = max_road_dist_m\n",
    "        self.prob_floor = min(max(prob_floor, 0), 1)\n",
    "        self.particles = np.array([])\n",
    "        self.weights = np.zeros((1, self.n))  # Log-transform probabilities\n",
    "        \n",
    "        self.sensor_model = sensor_model\n",
    "        self.transition_model = transition_model\n",
    "        self.viterbi_trellis = viterbi_trellis  # list of particle np arrays\n",
    "        self.viterbi_trellis_idx = viterbi_trellis_idx  # list of np arrays, columns candidate road indices, particle indices\n",
    "        \n",
    "        self.fitted = False\n",
    "        \n",
    "        self.obs_history = []  # Record history of observations (lat, long)\n",
    "        \n",
    "    def get_candidate_roads(self, obs):\n",
    "        \"\"\"\n",
    "        obs list of floats [lat, long]\n",
    "        max_dist maximum allowable closest distance for prospective matched roads; those whose \n",
    "        closest point is >= max_dist meters away are ignored (200 in N&K).\n",
    "        Returns numpy array float of lat,long closest point to road from obs (N&K).\n",
    "\n",
    "        Leverages shapely and shapefiles for cabspotting data.\n",
    "        Relies on great_circle_dist() helper function. \n",
    "        \"\"\"\n",
    "        # Fiona uses (long, lat) format\n",
    "        obs = Point(obs[::-1])\n",
    "        # Want to consider only matches within max_dist meters\n",
    "        # Need to transform decimal degrees into meters\n",
    "        # Should I deviate from the default value of buffer for a Point??\n",
    "        # According to 200 * 360 / (2 * np.pi * 6371000), a distance of 200m corresponds to 0.0017986432118374611 decimal degrees\n",
    "        # obs.buffer(1.0)\n",
    "        matching_roads = self.road_strtree.query(obs.buffer(0.002))\n",
    "        if len(matching_roads) == 0:\n",
    "            matching_roads = self.road_strtree.query(obs.buffer(1.0))  # This should be a big buffer\n",
    "        # If matching roads is still empty, return None\n",
    "        if len(matching_roads) == 0:\n",
    "            print(\"No matching roads found! Aborting particle filter.\")\n",
    "            return None\n",
    "        # Ordered as (obs, road); just take road's coords\n",
    "        # Take only the closest point on the candidate road (1st index)\n",
    "        closest_pts = np.array([[list(p.coords)[0] for p in nearest_points(obs, r)][1] for r in matching_roads])\n",
    "        # Calculate distance between obs and candidate_roads, to filter them\n",
    "        candidate_dist_coords = \\\n",
    "        np.concatenate([closest_pts, np.tile(np.array(obs), (closest_pts.shape[0], 1))], axis=1)\n",
    "        # Convert back to lat, long from long, lat\n",
    "        candidate_dist_coords = candidate_dist_coords[:, [1, 0, 3, 2]]\n",
    "        candidate_dists = great_circle_dist(candidate_dist_coords)\n",
    "        # Filtered result of closest point on matching candidate roads\n",
    "        # no. matches 2 (default buffer); 52 (buffer of 0.002); 74 (buffer of 1.0)\n",
    "            # Reverse order to be lat, long\n",
    "        candidate_roads = closest_pts[candidate_dists <= self.max_road_dist_m][:, [1,0]]\n",
    "        if len(candidate_roads) == 0:\n",
    "            print(\"No matching roads found within max road distance! Aborting particle filter.\")\n",
    "            return None\n",
    "        return candidate_roads\n",
    "    \n",
    "    def estimate_weights_per_particle(self, sampled_states, obs_coords):\n",
    "        \"\"\"\n",
    "        Estimate likelihood of particle given evidence, P(evidence|particle).\n",
    "        Uses sensor model.\n",
    "        \n",
    "        obs_coords is single observation at time t, pandas series. \n",
    "        \"\"\"\n",
    "        probs = self.sensor_model.estimate_likelihood(sampled_states, obs_coords.values.reshape(1, 2))\n",
    "        return probs\n",
    "        \n",
    "    def apply_transition_model(self, candidate_roads, dist_prev, time_delta_prev):\n",
    "        \"\"\"\n",
    "        returns probabilities of transition, given current particles\n",
    "        numpy array of floats between 0 and 1, normalized, (n * c, 1)\n",
    "        \n",
    "        candidate_roads numpy array float of lat,long closest point to road from obs (N&K)\n",
    "        dist_prev float, meters\n",
    "        time_delta_prev float, sec\n",
    "        \n",
    "        Zeroize very small probability candidates, but don't change shape of particles.\n",
    "        Then, if some particles are very unlikely, we cull them and resample from more likely particles. \n",
    "        \"\"\"\n",
    "        # Crossproduct for each particle, all roads\n",
    "        state_last2 = np.concatenate([np.concatenate((self.particles, \n",
    "                                                      np.tile(c, (self.n, 1))), \n",
    "                                                     axis=1) \n",
    "                                      for c in candidate_roads], axis=0)  # (n * c, 4)\n",
    "        obs_last2 = np.array(self.obs_history[-2:]).reshape((1, 4))\n",
    "        probs = self.transition_model.prob_transition(state_last2, obs_last2, \n",
    "                                                      dist_prev, time_delta_prev)  # (n * c, 1)\n",
    "        # Effectively, candidate roads will be possible from different original particle hypotheses\n",
    "        # Zeroise small probs, without changing array shape\n",
    "        probs[probs <= self.prob_floor] = 0.0\n",
    "        # Re-normalize\n",
    "        probs = probs / np.sum(probs)\n",
    "        return probs\n",
    "        \n",
    "    def update_dist(self, obs, num_iter, max_dist2=None):\n",
    "        \"\"\"\n",
    "        Re-sample particles from transition model given re-estimated likelihood of existing particles.\n",
    "        Weighted sample with replacement. \n",
    "        \n",
    "        obs numpy array of floats [lat, long, dist_from_prev_m, time_delta_sec]\n",
    "        num_iter integer, iteration count\n",
    "        max_dist2 not used\n",
    "\n",
    "        Note: if find no solutions, need to remove points in a signal break until HMM 'heals.'\n",
    "        If break > 180 sec, separate into two trips.\n",
    "        \"\"\"\n",
    "        # Update stored obs\n",
    "        obs_coords = obs[['lat', 'long']] # obs[:2]\n",
    "        dist_prev, time_delta_prev = obs[['dist_from_prev_m', 'time_delta_sec']] # obs[2:]\n",
    "        self.obs_history.append(obs_coords)\n",
    "        # Get candidate roads given obs\n",
    "        candidate_roads = self.get_candidate_roads(obs_coords) # ignore distance\n",
    "        # What if candidate_roads is empty?? Then, seems logical to return No Match, and abort. \n",
    "        if candidate_roads is None:\n",
    "            return 'Aborted'\n",
    "        # Get transition probs; for first observation, ignore this part of the algorithm \n",
    "        # and treat sensor probs as prior probabilities (N&K.\n",
    "        if num_iter > 1:\n",
    "            trans_probs = self.apply_transition_model(candidate_roads, \n",
    "                                                      dist_prev, \n",
    "                                                      time_delta_prev) # (n * c, 1) first n rows for first candidate, etc.\n",
    "            # Aggregate probs by candidate roads\n",
    "            trans_probs_split = np.array(np.split(trans_probs, self.n, axis=0))  # (n, c, 1)\n",
    "            trans_probs_agg = np.sum(trans_probs_split, axis=0)  # (c, 1)\n",
    "            # Sample new states\n",
    "            # Sample new states; index into candidate roads\n",
    "            sampled_states_idx = np.random.choice(range(len(candidate_roads)), \n",
    "                                                  self.n, \n",
    "                                                  list(trans_probs_agg.flatten()))  # (n, )\n",
    "            sampled_states = candidate_roads[sampled_states_idx]  # (n, 2)\n",
    "            sampled_states_best_prior = np.argmax(trans_probs_split[:, sampled_states_idx, :], axis=0)  # (n, 1)\n",
    "        else:\n",
    "            sampled_states = candidate_roads\n",
    "            sampled_states_best_prior = np.zeros((self.n, 1))  # dummy value\n",
    "        \n",
    "        # Get sensor probs\n",
    "        sensor_probs = self.estimate_weights_per_particle(sampled_states, obs_coords)  # (n, 1) \n",
    "        \n",
    "        # Joint prob, for viterbi backtracking. Do this in the log domain.  \n",
    "        if num_iter > 1:\n",
    "            # May want to do this in the log domain?\n",
    "            joint_prob = np.add(\n",
    "                np.add(np.log(sensor_probs), np.max(np.log(trans_probs_split), axis=0)[sampled_states_idx]),  # (n, 1)\n",
    "                self.weights\n",
    "                )\n",
    "#         else:\n",
    "#             joint_prob = sensor_probs\n",
    "#         self.weights = joint_prob  # Effectively setting prior probabilites in iter 1\n",
    "        \n",
    "        # Sample new particles, from the n sampled states\n",
    "        new_particles_idx = np.random.choice(a=range(sampled_states.shape[0]), \n",
    "                                             size=self.n, \n",
    "                                             p=sensor_probs.flatten())  # (1, n) if not iter 1 else (1, c)\n",
    "        new_particles = sampled_states[new_particles_idx]  # (n, 2)\n",
    "        \n",
    "        # Best prior state/particle for a given candidate state, for viterbi backtracking. \n",
    "        if num_iter > 1:\n",
    "#             # Tie together candidate road indices, particle indices, trans probs, and particles\n",
    "#             trans_probs_stack = \\\n",
    "#             np.concatenate((np.array([[i] * self.n for i in range(len(candidate_roads))]\n",
    "#                                     ).reshape(len(candidate_roads) * self.n, 1), \n",
    "#                             np.array([j for j in range(self.n)] * len(candidate_roads)\n",
    "#                                     ).reshape(len(candidate_roads) * self.n, 1), \n",
    "#                             trans_probs.reshape(len(candidate_roads) * self.n, 1),\n",
    "#                             np.tile(self.particles, len(candidate_roads)).reshape(len(candidate_roads) * self.n, -1)\n",
    "#                            ), axis=1)  # (n * c, 5)   cols: particle_id and transition probs\n",
    "#             # For each candidate road, max-prob prev state.\n",
    "#             # Given candidate roads are sampled...\n",
    "#             trans_prob_idx = \\\n",
    "#             np.array([(np.array([sampled_states_idx[new_particles_idx]]) + \n",
    "#                                          len(candidate_roads) * (i - 1)) \n",
    "#                                         for i in range(1, (self.n + 1))]).flatten()  # (n * c, 1)\n",
    "#             # ...of sampled roads, which prior states are most likely?\n",
    "#                 # Not all roads may have been sampled.\n",
    "#                 # idxmax is in the range <= c.\n",
    "#                 # best_prior_state_idx is filtered particle indices\n",
    "#             best_prior_state_idx = \\\n",
    "#             pd.DataFrame(trans_probs_stack).loc[trans_prob_idx, :\n",
    "#                              ].groupby([0])[2].idxmax().values.reshape(1, -1)  # (1, <= c)\n",
    "#             # get back to particle-space\n",
    "# #             best_prior_state = trans_probs_stack[best_prior_state_idx][0][:, -2:]  # (<= c, 2)\n",
    "#             prior_particles = self.particles  # best_prior_state_idx indexes into self.particles\n",
    "#             best_prior_state_idx = np.concatenate((best_prior_state_idx.reshape(-1, 1), # indexed cand roads (next particles idx)\n",
    "#                                                    trans_probs_stack[best_prior_state_idx][0][:, 1],  # particles (cur particles idx)\n",
    "#                                                   )\n",
    "#                                                   , axis=1)  # (<= c, 2); cand roads, particles\n",
    "# #             best_prior_state_idx = trans_probs_stack[best_prior_state_idx][0][:, :2]  # (<= c, 2); cand roads, particles\n",
    "# #             best_prior_state_idx = math.floor(best_prior_state_idx / len(candidate_roads))\n",
    "# #             best_prior_state = self.particles[best_prior_state_idx][0]  # (n, 2)\n",
    "            self.viterbi_trellis.append(new_particles)\n",
    "            self.viterbi_trellis_idx.append(sampled_states_best_prior)\n",
    "        else:\n",
    "            self.viterbi_trellis.append(new_particles)\n",
    "            self.viterbi_trellis_idx.append(sampled_states_best_prior)\n",
    "            joint_prob = np.log(sensor_probs[new_particles_idx])  # Effectively setting prior probabilites in iter 1\n",
    "            \n",
    "        self.weights = joint_prob\n",
    "        \n",
    "        self.particles = new_particles\n",
    "        \n",
    "        # Estimate current particle filter fit quality of hypotheses to data; should research good metrics more.\n",
    "            # Came up with this on my own. \n",
    "        fit_quality = [np.max(self.weights), np.mean(self.weights), np.median(self.weights)]\n",
    "        \n",
    "        return fit_quality\n",
    "        \n",
    "    def fit(self, data#, max_iter=100, conv_tol=0.001\n",
    "           ):\n",
    "        \"\"\"\n",
    "        Iterate over rows in data, training particle filter. \n",
    "        Rows assumed to be sequentially ordered. \n",
    "        \n",
    "        data, numpy array: cols include lat, long, dist_from_prev_m, time_delta_sec (all floats).\n",
    "        lat, long in decimal degrees.\n",
    "        \n",
    "        Returns fit_quality, list of floats: max, mean, and median probability of most recent particles.\n",
    "        \n",
    "        Note, calling fit multiple times would result in nonsense results, so this is prevented. \n",
    "        \"\"\"\n",
    "        if self.fitted:\n",
    "            print(\"Already fit - Cannot fit multiple times.\")\n",
    "            return None\n",
    "        data = data.copy()\n",
    "        num_iter = 0\n",
    "        converged = False  # Is this relevant for particle filters?\n",
    "#         while num_iter < max_iter and not converged:\n",
    "#             num_iter += 1\n",
    "        for obs in data.iterrows():\n",
    "            num_iter += 1\n",
    "            fit_quality = self.update_dist(obs[1], num_iter)\n",
    "            if fit_quality == \"Aborted\":\n",
    "                return \"Aborted\"\n",
    "            # Shouldn't I use DP/Viterbi for this?? \n",
    "            # Nearest neighbor filter, hungarian algorithm?? p. 601\n",
    "            # Best at any given point in time will suffer in the beginning before particle dist has converged, ie\n",
    "            # during the burn-in period.\n",
    "            # So, seems can still use DP, but proceed backward in time. Wait, that is Viterbi :) \n",
    "                # Happily I have a finite state space. \n",
    "            print(\"On iteration %d, fit quality of MAX %3.2f, MEAN %3.2f, MEDIAN %3.2f\" % \n",
    "                  (num_iter, fit_quality[0], fit_quality[1], fit_quality[2]))\n",
    "        print(\"Done.\")\n",
    "        self.fitted = True\n",
    "        return fit_quality\n",
    "    \n",
    "    def viterbi(self):\n",
    "        \"\"\"\n",
    "        Returns list of backtracked states (float lat long),\n",
    "        the imputed GPS trace that has been 'snapped' to roads.\n",
    "        Use Viterbi to get optimal path via DP - \n",
    "        happily I have a finite state space due to my constraint \n",
    "        to only maintain n particles. \n",
    "        \n",
    "        Note1, Viterbi relies on the Markov property, which\n",
    "        can apply here. \n",
    "        Note2, if particle filter was aborted due to no matching candidate roads,\n",
    "        Viterbi will still be able to backtrack the trace up until that point. \n",
    "        \"\"\"\n",
    "        # Start with the last observation to the viterbi trellis\n",
    "        best_last_state_idx = np.argmax(self.weights)\n",
    "        backtracked_states = []\n",
    "#         best_last_state = self.particles[best_last_state_idx]\n",
    "#         backtracked_states = [best_last_state]\n",
    "        # Backtrack through the viterbi trellis (#obs, n, 2) actual lat/long states\n",
    "        for j in range(len(self.viterbi_trellis) - 1, -1, -1):\n",
    "            # for that 'candidate road,' the particle index (col 1)\n",
    "            best_last_state = self.viterbi_trellis[j][best_last_state_idx]\n",
    "            best_last_state_idx = int(self.viterbi_trellis_idx[j][best_last_state_idx])\n",
    "            backtracked_states.append(best_last_state)\n",
    "        # Put in chronological order\n",
    "        backtracked_states = backtracked_states[::-1]\n",
    "        return backtracked_states"
   ]
  },
  {
   "cell_type": "code",
   "execution_count": 379,
   "metadata": {
    "collapsed": false
   },
   "outputs": [
    {
     "data": {
      "text/plain": [
       "2"
      ]
     },
     "execution_count": 379,
     "metadata": {},
     "output_type": "execute_result"
    }
   ],
   "source": [
    "int(np.array(range(5)).reshape(5,1)[2])"
   ]
  },
  {
   "cell_type": "code",
   "execution_count": 226,
   "metadata": {
    "collapsed": false
   },
   "outputs": [],
   "source": [
    "n=5; candidate_roads=np.array([1,2,3]); particles=np.array([1,2,3,4,5]); trans_probs = np.array(range(15))"
   ]
  },
  {
   "cell_type": "code",
   "execution_count": 228,
   "metadata": {
    "collapsed": false
   },
   "outputs": [
    {
     "data": {
      "text/plain": [
       "(15, 1)"
      ]
     },
     "execution_count": 228,
     "metadata": {},
     "output_type": "execute_result"
    }
   ],
   "source": [
    "np.array([[i] * n for i in range(len(candidate_roads))]\n",
    "                                    ).reshape(len(candidate_roads) * n, 1).shape"
   ]
  },
  {
   "cell_type": "code",
   "execution_count": 229,
   "metadata": {
    "collapsed": false
   },
   "outputs": [
    {
     "data": {
      "text/plain": [
       "(15,)"
      ]
     },
     "execution_count": 229,
     "metadata": {},
     "output_type": "execute_result"
    }
   ],
   "source": [
    "np.array([j for j in range(n)] * len(candidate_roads)).flatten().shape"
   ]
  },
  {
   "cell_type": "code",
   "execution_count": 230,
   "metadata": {
    "collapsed": false
   },
   "outputs": [
    {
     "data": {
      "text/plain": [
       "(15,)"
      ]
     },
     "execution_count": 230,
     "metadata": {},
     "output_type": "execute_result"
    }
   ],
   "source": [
    "trans_probs.shape"
   ]
  },
  {
   "cell_type": "code",
   "execution_count": 348,
   "metadata": {
    "collapsed": false
   },
   "outputs": [],
   "source": [
    "trans_probs=trans_probs.reshape(15,1)"
   ]
  },
  {
   "cell_type": "code",
   "execution_count": 349,
   "metadata": {
    "collapsed": false
   },
   "outputs": [],
   "source": [
    "trans_probs_split = np.array(np.split(trans_probs, n, axis=0))  # (n, c, 1)\n",
    "trans_probs_agg = np.sum(trans_probs_split, axis=0)  # (c, 1)\n",
    "# Sample new states\n",
    "# Sample new states; index into candidate roads\n",
    "sampled_states_idx = np.random.choice(range(len(candidate_roads)), \n",
    "                                      n, \n",
    "                                      list(trans_probs_agg.flatten()))  # (n, )\n",
    "sampled_states = candidate_roads[sampled_states_idx]  # (n, 2)"
   ]
  },
  {
   "cell_type": "code",
   "execution_count": 354,
   "metadata": {
    "collapsed": false
   },
   "outputs": [
    {
     "data": {
      "text/plain": [
       "(5, 3, 1)"
      ]
     },
     "execution_count": 354,
     "metadata": {},
     "output_type": "execute_result"
    }
   ],
   "source": [
    "trans_probs_split.shape"
   ]
  },
  {
   "cell_type": "code",
   "execution_count": 353,
   "metadata": {
    "collapsed": false
   },
   "outputs": [
    {
     "data": {
      "text/plain": [
       "(3, 1)"
      ]
     },
     "execution_count": 353,
     "metadata": {},
     "output_type": "execute_result"
    }
   ],
   "source": [
    "trans_probs_agg.shape"
   ]
  },
  {
   "cell_type": "code",
   "execution_count": 355,
   "metadata": {
    "collapsed": false
   },
   "outputs": [
    {
     "data": {
      "text/plain": [
       "(5,)"
      ]
     },
     "execution_count": 355,
     "metadata": {},
     "output_type": "execute_result"
    }
   ],
   "source": [
    "sampled_states_idx.shape"
   ]
  },
  {
   "cell_type": "code",
   "execution_count": 360,
   "metadata": {
    "collapsed": false
   },
   "outputs": [
    {
     "data": {
      "text/plain": [
       "array([[[ 0],\n",
       "        [ 1],\n",
       "        [ 2]],\n",
       "\n",
       "       [[ 3],\n",
       "        [ 4],\n",
       "        [ 5]],\n",
       "\n",
       "       [[ 6],\n",
       "        [ 7],\n",
       "        [ 8]],\n",
       "\n",
       "       [[ 9],\n",
       "        [10],\n",
       "        [11]],\n",
       "\n",
       "       [[12],\n",
       "        [13],\n",
       "        [14]]])"
      ]
     },
     "execution_count": 360,
     "metadata": {},
     "output_type": "execute_result"
    }
   ],
   "source": [
    "trans_probs_split"
   ]
  },
  {
   "cell_type": "code",
   "execution_count": 359,
   "metadata": {
    "collapsed": false
   },
   "outputs": [
    {
     "data": {
      "text/plain": [
       "array([2, 1, 1, 1, 1])"
      ]
     },
     "execution_count": 359,
     "metadata": {},
     "output_type": "execute_result"
    }
   ],
   "source": [
    "sampled_states_idx"
   ]
  },
  {
   "cell_type": "code",
   "execution_count": 363,
   "metadata": {
    "collapsed": false
   },
   "outputs": [
    {
     "data": {
      "text/plain": [
       "array([[[ 2],\n",
       "        [ 1],\n",
       "        [ 1],\n",
       "        [ 1],\n",
       "        [ 1]],\n",
       "\n",
       "       [[ 5],\n",
       "        [ 4],\n",
       "        [ 4],\n",
       "        [ 4],\n",
       "        [ 4]],\n",
       "\n",
       "       [[ 8],\n",
       "        [ 7],\n",
       "        [ 7],\n",
       "        [ 7],\n",
       "        [ 7]],\n",
       "\n",
       "       [[11],\n",
       "        [10],\n",
       "        [10],\n",
       "        [10],\n",
       "        [10]],\n",
       "\n",
       "       [[14],\n",
       "        [13],\n",
       "        [13],\n",
       "        [13],\n",
       "        [13]]])"
      ]
     },
     "execution_count": 363,
     "metadata": {},
     "output_type": "execute_result"
    }
   ],
   "source": [
    "trans_probs_split[:, sampled_states_idx, :]"
   ]
  },
  {
   "cell_type": "code",
   "execution_count": 357,
   "metadata": {
    "collapsed": true
   },
   "outputs": [],
   "source": [
    "sampled_states_best_prior = np.argmax(trans_probs_split[:, sampled_states_idx, :], axis=0)"
   ]
  },
  {
   "cell_type": "code",
   "execution_count": 370,
   "metadata": {
    "collapsed": false
   },
   "outputs": [
    {
     "data": {
      "text/plain": [
       "(5, 1)"
      ]
     },
     "execution_count": 370,
     "metadata": {},
     "output_type": "execute_result"
    }
   ],
   "source": [
    "sampled_states_best_prior.shape"
   ]
  },
  {
   "cell_type": "code",
   "execution_count": 231,
   "metadata": {
    "collapsed": false
   },
   "outputs": [
    {
     "data": {
      "text/plain": [
       "(15, 1)"
      ]
     },
     "execution_count": 231,
     "metadata": {},
     "output_type": "execute_result"
    }
   ],
   "source": [
    "np.tile(particles, len(candidate_roads)).reshape(len(candidate_roads) * n, -1).shape"
   ]
  },
  {
   "cell_type": "code",
   "execution_count": 234,
   "metadata": {
    "collapsed": false
   },
   "outputs": [],
   "source": [
    "trans_probs_stack = \\\n",
    "            np.concatenate((np.array([[i] * n for i in range(len(candidate_roads))]\n",
    "                                    ).reshape(len(candidate_roads) * n, 1), \n",
    "                            np.array([j for j in range(n)] * len(candidate_roads)).reshape(len(candidate_roads) * n, 1), \n",
    "                            trans_probs.reshape(len(candidate_roads) * n, 1),\n",
    "                            np.tile(particles, len(candidate_roads)).reshape(len(candidate_roads) * n, -1)\n",
    "                           ), axis=1)"
   ]
  },
  {
   "cell_type": "code",
   "execution_count": 235,
   "metadata": {
    "collapsed": false
   },
   "outputs": [
    {
     "data": {
      "text/plain": [
       "(15, 4)"
      ]
     },
     "execution_count": 235,
     "metadata": {},
     "output_type": "execute_result"
    }
   ],
   "source": [
    "trans_probs_stack.shape"
   ]
  },
  {
   "cell_type": "code",
   "execution_count": 314,
   "metadata": {
    "collapsed": false
   },
   "outputs": [
    {
     "data": {
      "text/plain": [
       "array([[ 0,  0,  0,  1],\n",
       "       [ 0,  1,  1,  2],\n",
       "       [ 0,  2,  2,  3],\n",
       "       [ 0,  3,  3,  4],\n",
       "       [ 0,  4,  4,  5],\n",
       "       [ 1,  0,  5,  1],\n",
       "       [ 1,  1,  6,  2],\n",
       "       [ 1,  2,  7,  3],\n",
       "       [ 1,  3,  8,  4],\n",
       "       [ 1,  4,  9,  5],\n",
       "       [ 2,  0, 10,  1],\n",
       "       [ 2,  1, 11,  2],\n",
       "       [ 2,  2, 12,  3],\n",
       "       [ 2,  3, 13,  4],\n",
       "       [ 2,  4, 14,  5]])"
      ]
     },
     "execution_count": 314,
     "metadata": {},
     "output_type": "execute_result"
    }
   ],
   "source": [
    "trans_probs_stack"
   ]
  },
  {
   "cell_type": "code",
   "execution_count": 315,
   "metadata": {
    "collapsed": false
   },
   "outputs": [
    {
     "data": {
      "text/plain": [
       "array([[2, 5]])"
      ]
     },
     "execution_count": 315,
     "metadata": {},
     "output_type": "execute_result"
    }
   ],
   "source": [
    "best_prior_state_idx"
   ]
  },
  {
   "cell_type": "code",
   "execution_count": 318,
   "metadata": {
    "collapsed": false
   },
   "outputs": [
    {
     "data": {
      "text/plain": [
       "array([[0, 2],\n",
       "       [1, 0]])"
      ]
     },
     "execution_count": 318,
     "metadata": {},
     "output_type": "execute_result"
    }
   ],
   "source": [
    "trans_probs_stack[best_prior_state_idx][0][:, :2]"
   ]
  },
  {
   "cell_type": "code",
   "execution_count": 320,
   "metadata": {
    "collapsed": false
   },
   "outputs": [
    {
     "data": {
      "text/plain": [
       "0"
      ]
     },
     "execution_count": 320,
     "metadata": {},
     "output_type": "execute_result"
    }
   ],
   "source": [
    "trans_probs_stack[best_prior_state_idx][0][:, :2][1, 1]"
   ]
  },
  {
   "cell_type": "code",
   "execution_count": 7,
   "metadata": {
    "collapsed": true
   },
   "outputs": [],
   "source": [
    "## it seems i only have beijing data (10K) or sf taxi data (500)\n",
    "# Read in taxi data\n",
    "# Each data of different length; ideal use case for pyspark\n",
    "# Note, the OSM extract basemap data has POI info as well (https://download.bbbike.org)\n",
    "# also try uber h3 spatial index\n",
    "trace_dir = '/Volumes/LaCie/datasets/ms_taxi/taxi_log_2008_by_id/roads.shp'   # MS Taxi\n",
    "basemap_dir = '/Volumes/LaCie/datasets/Beijing-shp/shape/'\n",
    "\n",
    "trace_dir = '/Volumes/LaCie/datasets/cabspottingdata/'   # CRAWDAD cabspotting\n",
    "basemap_dir = '/Volumes/LaCie/datasets/SanFrancisco-shp/shape/roads.shp'"
   ]
  },
  {
   "cell_type": "code",
   "execution_count": 8,
   "metadata": {
    "collapsed": false
   },
   "outputs": [
    {
     "name": "stdout",
     "output_type": "stream",
     "text": [
      "CPU times: user 2.73 ms, sys: 4.21 ms, total: 6.94 ms\n",
      "Wall time: 339 ms\n"
     ]
    }
   ],
   "source": [
    "%%time\n",
    "all_files = [f for f in os.listdir(trace_dir) if re.match(r'new_.*\\.txt', f)]  # glob.glob(trace_dir + \"new_*.txt\")"
   ]
  },
  {
   "cell_type": "code",
   "execution_count": 9,
   "metadata": {
    "collapsed": false
   },
   "outputs": [
    {
     "name": "stdout",
     "output_type": "stream",
     "text": [
      "CPU times: user 7.83 s, sys: 1.56 s, total: 9.39 s\n",
      "Wall time: 14.4 s\n"
     ]
    }
   ],
   "source": [
    "%%time\n",
    "# 20.9s cabspottingdata; can try spark or dask? or multiprocessing, joblib\n",
    "trace_list = []\n",
    "for file_ in all_files:\n",
    "    file_df = pd.read_csv(os.path.join(trace_dir, file_), sep=\" \", index_col=None, header=None, \n",
    "                          names=['lat', 'long', 'occupancy', 'time'])\n",
    "    trace_list.append(file_df)\n",
    "\n",
    "# concatenate all dfs into one\n",
    "trace_df = pd.concat(trace_list, ignore_index=True)"
   ]
  },
  {
   "cell_type": "code",
   "execution_count": 245,
   "metadata": {
    "collapsed": false
   },
   "outputs": [
    {
     "data": {
      "text/plain": [
       "'new_abboip.txt'"
      ]
     },
     "execution_count": 245,
     "metadata": {},
     "output_type": "execute_result"
    }
   ],
   "source": [
    "all_files[0]"
   ]
  },
  {
   "cell_type": "code",
   "execution_count": 246,
   "metadata": {
    "collapsed": true
   },
   "outputs": [],
   "source": [
    "# Just try one trace...\n",
    "trace_df = pd.read_csv(os.path.join(trace_dir, all_files[0]), sep=\" \", index_col=None, header=None, \n",
    "                       names=['lat', 'long', 'occupancy', 'time'])"
   ]
  },
  {
   "cell_type": "code",
   "execution_count": 247,
   "metadata": {
    "collapsed": true
   },
   "outputs": [],
   "source": [
    "trace_df.loc[:, [\"time\"]] = pd.to_datetime(trace_df.time, origin=\"unix\", unit='s')"
   ]
  },
  {
   "cell_type": "code",
   "execution_count": 11,
   "metadata": {
    "collapsed": false
   },
   "outputs": [
    {
     "data": {
      "text/plain": [
       "lat                 float64\n",
       "long                float64\n",
       "occupancy             int64\n",
       "time         datetime64[ns]\n",
       "dtype: object"
      ]
     },
     "execution_count": 11,
     "metadata": {},
     "output_type": "execute_result"
    }
   ],
   "source": [
    "\"\"\"\n",
    "cabspotting:\n",
    "\n",
    "latitude and longitude are in decimal degrees, \n",
    "occupancy shows if a cab has a fare (1 = occupied, 0 = free) and \n",
    "time is in UNIX epoch format\n",
    "\"\"\"\n",
    "trace_df.dtypes"
   ]
  },
  {
   "cell_type": "code",
   "execution_count": 248,
   "metadata": {
    "collapsed": false
   },
   "outputs": [
    {
     "data": {
      "text/html": [
       "<div>\n",
       "<style scoped>\n",
       "    .dataframe tbody tr th:only-of-type {\n",
       "        vertical-align: middle;\n",
       "    }\n",
       "\n",
       "    .dataframe tbody tr th {\n",
       "        vertical-align: top;\n",
       "    }\n",
       "\n",
       "    .dataframe thead th {\n",
       "        text-align: right;\n",
       "    }\n",
       "</style>\n",
       "<table border=\"1\" class=\"dataframe\">\n",
       "  <thead>\n",
       "    <tr style=\"text-align: right;\">\n",
       "      <th></th>\n",
       "      <th>lat</th>\n",
       "      <th>long</th>\n",
       "      <th>occupancy</th>\n",
       "      <th>time</th>\n",
       "    </tr>\n",
       "  </thead>\n",
       "  <tbody>\n",
       "    <tr>\n",
       "      <th>0</th>\n",
       "      <td>37.75134</td>\n",
       "      <td>-122.39488</td>\n",
       "      <td>0</td>\n",
       "      <td>2008-06-10 07:58:07</td>\n",
       "    </tr>\n",
       "    <tr>\n",
       "      <th>1</th>\n",
       "      <td>37.75136</td>\n",
       "      <td>-122.39527</td>\n",
       "      <td>0</td>\n",
       "      <td>2008-06-10 07:57:39</td>\n",
       "    </tr>\n",
       "    <tr>\n",
       "      <th>2</th>\n",
       "      <td>37.75199</td>\n",
       "      <td>-122.39460</td>\n",
       "      <td>0</td>\n",
       "      <td>2008-06-10 07:55:40</td>\n",
       "    </tr>\n",
       "    <tr>\n",
       "      <th>3</th>\n",
       "      <td>37.75080</td>\n",
       "      <td>-122.39346</td>\n",
       "      <td>0</td>\n",
       "      <td>2008-06-10 07:54:49</td>\n",
       "    </tr>\n",
       "    <tr>\n",
       "      <th>4</th>\n",
       "      <td>37.75015</td>\n",
       "      <td>-122.39256</td>\n",
       "      <td>0</td>\n",
       "      <td>2008-06-10 07:50:37</td>\n",
       "    </tr>\n",
       "  </tbody>\n",
       "</table>\n",
       "</div>"
      ],
      "text/plain": [
       "        lat       long  occupancy                time\n",
       "0  37.75134 -122.39488          0 2008-06-10 07:58:07\n",
       "1  37.75136 -122.39527          0 2008-06-10 07:57:39\n",
       "2  37.75199 -122.39460          0 2008-06-10 07:55:40\n",
       "3  37.75080 -122.39346          0 2008-06-10 07:54:49\n",
       "4  37.75015 -122.39256          0 2008-06-10 07:50:37"
      ]
     },
     "execution_count": 248,
     "metadata": {},
     "output_type": "execute_result"
    }
   ],
   "source": [
    "trace_df.head()"
   ]
  },
  {
   "cell_type": "code",
   "execution_count": null,
   "metadata": {
    "collapsed": true
   },
   "outputs": [],
   "source": [
    "# Load in ...shapefiles? GeoJSON? Which format is best? For parallelization may be one thing..."
   ]
  },
  {
   "cell_type": "code",
   "execution_count": null,
   "metadata": {
    "collapsed": true
   },
   "outputs": [],
   "source": []
  },
  {
   "cell_type": "code",
   "execution_count": 13,
   "metadata": {
    "collapsed": false
   },
   "outputs": [],
   "source": [
    "def preprocess_traces(df, sigma=4.07):\n",
    "    \"\"\"\n",
    "    pandas df, trace_df above with float columns lat, long in degrees\n",
    "    sigma float, representing std dev of measurement error (see above in particle filter class)\n",
    "    \n",
    "    \"The justification for this step is that until we see a point that is at least 2𝜎𝑧 \n",
    "    away from its temporal predecessor, our confidence is low that the apparent movement\n",
    "    is due to actual vehicle movement and not noise.\" (N&K)\n",
    "    \n",
    "    -remove obs that are not 2*meas dist sigma from previous obs  (eliminate 39% of data in N&K)\n",
    "    -Letting sigma = 4.07 meters as in N&K\n",
    "    \"\"\"\n",
    "    MILES_PER_METER = 0.000621371\n",
    "    HOURS_PER_SECOND = 3600.0\n",
    "    data = df.copy()\n",
    "    data[[\"lat_prev\", \"long_prev\"]] = data[[\"lat\", \"long\"]].shift(1)\n",
    "    # Ignore warning about invalid value in arcsin (nan)\n",
    "    data[\"dist_from_prev_m\"] = great_circle_dist(data[[\"lat_prev\", \"long_prev\", \"lat\", \"long\"]].values)  # 1.93 sec\n",
    "    # Add speed so can later filter on unreasonably high speeds\n",
    "    data[\"time_delta_sec\"] = data.time.subtract(data.time.shift(1)) / np.timedelta64(1, 's')  # get seconds\n",
    "    data[\"speed_mph\"] = (data.dist_from_prev_m * MILES_PER_METER).divide(data.time_delta_sec * HOURS_PER_SECOND)\n",
    "    # Take cumsum of dist\n",
    "    dist_cum = data.dist_from_prev_m.cumsum()\n",
    "    # Select points closest to multiples of 2*sigma, in cumsum dist\n",
    "    dist_cum_idx = dist_cum // (2 * sigma)\n",
    "    filter_idx = np.subtract(dist_cum_idx, dist_cum_idx.shift(1)) == 0  # 12% of rows eliminated \n",
    "    data = data[~filter_idx]\n",
    "    return data"
   ]
  },
  {
   "cell_type": "code",
   "execution_count": 249,
   "metadata": {
    "collapsed": false
   },
   "outputs": [
    {
     "name": "stdout",
     "output_type": "stream",
     "text": [
      "CPU times: user 26.5 ms, sys: 8.89 ms, total: 35.4 ms\n",
      "Wall time: 423 ms\n"
     ]
    },
    {
     "name": "stderr",
     "output_type": "stream",
     "text": [
      "/Volumes/LaCie/anaconda/envs/map_matching_particle_filter/lib/python3.7/site-packages/ipykernel/__main__.py:24: RuntimeWarning: invalid value encountered in arcsin\n"
     ]
    }
   ],
   "source": [
    "%%time\n",
    "# 11.8 s\n",
    "# Ignore RuntimeWarning: invalid value encountered in arcsin\n",
    "trace_df = preprocess_traces(trace_df)"
   ]
  },
  {
   "cell_type": "code",
   "execution_count": 250,
   "metadata": {
    "collapsed": false
   },
   "outputs": [
    {
     "data": {
      "text/html": [
       "<div>\n",
       "<style scoped>\n",
       "    .dataframe tbody tr th:only-of-type {\n",
       "        vertical-align: middle;\n",
       "    }\n",
       "\n",
       "    .dataframe tbody tr th {\n",
       "        vertical-align: top;\n",
       "    }\n",
       "\n",
       "    .dataframe thead th {\n",
       "        text-align: right;\n",
       "    }\n",
       "</style>\n",
       "<table border=\"1\" class=\"dataframe\">\n",
       "  <thead>\n",
       "    <tr style=\"text-align: right;\">\n",
       "      <th></th>\n",
       "      <th>lat</th>\n",
       "      <th>long</th>\n",
       "      <th>occupancy</th>\n",
       "      <th>time</th>\n",
       "      <th>lat_prev</th>\n",
       "      <th>long_prev</th>\n",
       "      <th>dist_from_prev_m</th>\n",
       "      <th>time_delta_sec</th>\n",
       "      <th>speed_mph</th>\n",
       "    </tr>\n",
       "  </thead>\n",
       "  <tbody>\n",
       "    <tr>\n",
       "      <th>0</th>\n",
       "      <td>37.75134</td>\n",
       "      <td>-122.39488</td>\n",
       "      <td>0</td>\n",
       "      <td>2008-06-10 07:58:07</td>\n",
       "      <td>NaN</td>\n",
       "      <td>NaN</td>\n",
       "      <td>NaN</td>\n",
       "      <td>NaN</td>\n",
       "      <td>NaN</td>\n",
       "    </tr>\n",
       "    <tr>\n",
       "      <th>1</th>\n",
       "      <td>37.75136</td>\n",
       "      <td>-122.39527</td>\n",
       "      <td>0</td>\n",
       "      <td>2008-06-10 07:57:39</td>\n",
       "      <td>37.75134</td>\n",
       "      <td>-122.39488</td>\n",
       "      <td>34.360479</td>\n",
       "      <td>-28.0</td>\n",
       "      <td>-2.118116e-07</td>\n",
       "    </tr>\n",
       "    <tr>\n",
       "      <th>2</th>\n",
       "      <td>37.75199</td>\n",
       "      <td>-122.39460</td>\n",
       "      <td>0</td>\n",
       "      <td>2008-06-10 07:55:40</td>\n",
       "      <td>37.75136</td>\n",
       "      <td>-122.39527</td>\n",
       "      <td>91.527346</td>\n",
       "      <td>-119.0</td>\n",
       "      <td>-1.327555e-07</td>\n",
       "    </tr>\n",
       "    <tr>\n",
       "      <th>3</th>\n",
       "      <td>37.75080</td>\n",
       "      <td>-122.39346</td>\n",
       "      <td>0</td>\n",
       "      <td>2008-06-10 07:54:49</td>\n",
       "      <td>37.75199</td>\n",
       "      <td>-122.39460</td>\n",
       "      <td>165.996049</td>\n",
       "      <td>-51.0</td>\n",
       "      <td>-5.617927e-07</td>\n",
       "    </tr>\n",
       "    <tr>\n",
       "      <th>4</th>\n",
       "      <td>37.75015</td>\n",
       "      <td>-122.39256</td>\n",
       "      <td>0</td>\n",
       "      <td>2008-06-10 07:50:37</td>\n",
       "      <td>37.75080</td>\n",
       "      <td>-122.39346</td>\n",
       "      <td>107.168918</td>\n",
       "      <td>-252.0</td>\n",
       "      <td>-7.340350e-08</td>\n",
       "    </tr>\n",
       "  </tbody>\n",
       "</table>\n",
       "</div>"
      ],
      "text/plain": [
       "        lat       long  occupancy                time  lat_prev  long_prev  \\\n",
       "0  37.75134 -122.39488          0 2008-06-10 07:58:07       NaN        NaN   \n",
       "1  37.75136 -122.39527          0 2008-06-10 07:57:39  37.75134 -122.39488   \n",
       "2  37.75199 -122.39460          0 2008-06-10 07:55:40  37.75136 -122.39527   \n",
       "3  37.75080 -122.39346          0 2008-06-10 07:54:49  37.75199 -122.39460   \n",
       "4  37.75015 -122.39256          0 2008-06-10 07:50:37  37.75080 -122.39346   \n",
       "\n",
       "   dist_from_prev_m  time_delta_sec     speed_mph  \n",
       "0               NaN             NaN           NaN  \n",
       "1         34.360479           -28.0 -2.118116e-07  \n",
       "2         91.527346          -119.0 -1.327555e-07  \n",
       "3        165.996049           -51.0 -5.617927e-07  \n",
       "4        107.168918          -252.0 -7.340350e-08  "
      ]
     },
     "execution_count": 250,
     "metadata": {},
     "output_type": "execute_result"
    }
   ],
   "source": [
    "trace_df.head()"
   ]
  },
  {
   "cell_type": "code",
   "execution_count": 251,
   "metadata": {
    "collapsed": false
   },
   "outputs": [
    {
     "data": {
      "text/plain": [
       "long   -122.395\n",
       "lat     37.7514\n",
       "Name: 1, dtype: object"
      ]
     },
     "execution_count": 251,
     "metadata": {},
     "output_type": "execute_result"
    }
   ],
   "source": [
    "trace_df.loc[1, ['long', 'lat']]"
   ]
  },
  {
   "cell_type": "code",
   "execution_count": 17,
   "metadata": {
    "collapsed": false
   },
   "outputs": [],
   "source": [
    "# Fiona uses (long, lat) format\n",
    "obs = Point(trace_df.loc[1, ['long', 'lat']])"
   ]
  },
  {
   "cell_type": "code",
   "execution_count": 18,
   "metadata": {
    "collapsed": false
   },
   "outputs": [
    {
     "data": {
      "image/svg+xml": [
       "<svg xmlns=\"http://www.w3.org/2000/svg\" xmlns:xlink=\"http://www.w3.org/1999/xlink\" width=\"100.0\" height=\"100.0\" viewBox=\"-123.39527 36.75136 2.0 2.0\" preserveAspectRatio=\"xMinYMin meet\"><g transform=\"matrix(1,0,0,-1,0,75.50272)\"><circle cx=\"-122.39527\" cy=\"37.75136\" r=\"0.06\" stroke=\"#555555\" stroke-width=\"0.02\" fill=\"#66cc99\" opacity=\"0.6\" /></g></svg>"
      ],
      "text/plain": [
       "<shapely.geometry.point.Point at 0x1a3b5df310>"
      ]
     },
     "execution_count": 18,
     "metadata": {},
     "output_type": "execute_result"
    }
   ],
   "source": [
    "obs"
   ]
  },
  {
   "cell_type": "code",
   "execution_count": 19,
   "metadata": {
    "collapsed": false
   },
   "outputs": [
    {
     "name": "stdout",
     "output_type": "stream",
     "text": [
      "CPU times: user 3.5 ms, sys: 7.68 ms, total: 11.2 ms\n",
      "Wall time: 271 ms\n"
     ]
    }
   ],
   "source": [
    "%%time\n",
    "roads_shp = fiona.open(basemap_dir)"
   ]
  },
  {
   "cell_type": "code",
   "execution_count": 20,
   "metadata": {
    "collapsed": false
   },
   "outputs": [
    {
     "data": {
      "text/plain": [
       "{'init': 'epsg:4326'}"
      ]
     },
     "execution_count": 20,
     "metadata": {},
     "output_type": "execute_result"
    }
   ],
   "source": [
    "roads_shp.crs"
   ]
  },
  {
   "cell_type": "code",
   "execution_count": null,
   "metadata": {
    "collapsed": true
   },
   "outputs": [],
   "source": [
    "## https://gis.stackexchange.com/questions/80881/what-is-unit-of-shapely-length-attribute\n",
    "# line1 = LineString([(15.799406, 40.636069), (15.810173,40.640246)])\n",
    "# print str(line1.length) + \" degrees\"\n",
    "# # 0.0115488362184 degrees\n",
    "\n",
    "# # Geometry transform function based on pyproj.transform\n",
    "# project_m = partial(\n",
    "#     pyproj.transform,\n",
    "#     pyproj.Proj(init='EPSG:4326'),\n",
    "#     pyproj.Proj(init='EPSG:32633'))\n",
    "\n",
    "# line2 = transform(project_m, line1)\n",
    "# print str(line2.length) + \" meters\"\n",
    "# # 1021.77585965 meters"
   ]
  },
  {
   "cell_type": "code",
   "execution_count": null,
   "metadata": {
    "collapsed": true
   },
   "outputs": [],
   "source": []
  },
  {
   "cell_type": "code",
   "execution_count": 832,
   "metadata": {
    "collapsed": false
   },
   "outputs": [
    {
     "data": {
      "text/plain": [
       "{'properties': OrderedDict([('osm_id', 'int:11'),\n",
       "              ('name', 'str:48'),\n",
       "              ('ref', 'str:16'),\n",
       "              ('type', 'str:16'),\n",
       "              ('oneway', 'int:1'),\n",
       "              ('bridge', 'int:1'),\n",
       "              ('maxspeed', 'int:3')]),\n",
       " 'geometry': 'LineString'}"
      ]
     },
     "execution_count": 832,
     "metadata": {},
     "output_type": "execute_result"
    }
   ],
   "source": [
    "roads_shp.schema"
   ]
  },
  {
   "cell_type": "code",
   "execution_count": 20,
   "metadata": {
    "collapsed": false
   },
   "outputs": [
    {
     "data": {
      "text/plain": [
       "{'LineString'}"
      ]
     },
     "execution_count": 20,
     "metadata": {},
     "output_type": "execute_result"
    }
   ],
   "source": [
    "# Types of geometries\n",
    "set([r['geometry']['type'] for r in list(roads_shp)])\n",
    "# sf_shp: {'LineString'}"
   ]
  },
  {
   "cell_type": "code",
   "execution_count": 21,
   "metadata": {
    "collapsed": false
   },
   "outputs": [
    {
     "data": {
      "text/plain": [
       "{'type': 'Feature',\n",
       " 'id': '0',\n",
       " 'properties': OrderedDict([('osm_id', 4311275),\n",
       "              ('name', 'Bayshore Freeway'),\n",
       "              ('ref', 'US 101'),\n",
       "              ('type', 'motorway'),\n",
       "              ('oneway', 1),\n",
       "              ('bridge', 0),\n",
       "              ('maxspeed', 65)]),\n",
       " 'geometry': {'type': 'LineString',\n",
       "  'coordinates': [(-122.4067318, 37.6552091),\n",
       "   (-122.4066705, 37.6554806),\n",
       "   (-122.4066, 37.6557348),\n",
       "   (-122.4065183, 37.6560026),\n",
       "   (-122.4064254, 37.6562575),\n",
       "   (-122.4063177, 37.6565034),\n",
       "   (-122.4061926, 37.6567579),\n",
       "   (-122.4055559, 37.6579996),\n",
       "   (-122.4053176, 37.6584642),\n",
       "   (-122.4051888, 37.658704),\n",
       "   (-122.405056, 37.6589448),\n",
       "   (-122.4049166, 37.659174),\n",
       "   (-122.4047675, 37.6593902),\n",
       "   (-122.4046031, 37.6596144),\n",
       "   (-122.4044278, 37.6598328),\n",
       "   (-122.404206, 37.660081),\n",
       "   (-122.4039932, 37.6603049),\n",
       "   (-122.4037717, 37.6605162),\n",
       "   (-122.4035097, 37.6607433),\n",
       "   (-122.4032666, 37.6609362),\n",
       "   (-122.4030265, 37.6611163),\n",
       "   (-122.402762, 37.661301),\n",
       "   (-122.4025091, 37.6614653),\n",
       "   (-122.3996913, 37.6632717),\n",
       "   (-122.399424, 37.6634432),\n",
       "   (-122.3991719, 37.6636088),\n",
       "   (-122.3989093, 37.663784),\n",
       "   (-122.398657, 37.6639545),\n",
       "   (-122.3984076, 37.6641304),\n",
       "   (-122.3981713, 37.6643095),\n",
       "   (-122.3979449, 37.664483),\n",
       "   (-122.3977008, 37.6646782),\n",
       "   (-122.3974726, 37.6648686),\n",
       "   (-122.3972573, 37.6650546),\n",
       "   (-122.3970163, 37.6652751),\n",
       "   (-122.396798, 37.6654781),\n",
       "   (-122.3965933, 37.6656734),\n",
       "   (-122.3963931, 37.6658756),\n",
       "   (-122.3961956, 37.6660806),\n",
       "   (-122.3956858, 37.6666107),\n",
       "   (-122.3948905, 37.6674396),\n",
       "   (-122.3927279, 37.6696896)]}}"
      ]
     },
     "execution_count": 21,
     "metadata": {},
     "output_type": "execute_result"
    }
   ],
   "source": [
    "roads_shp[0]"
   ]
  },
  {
   "cell_type": "code",
   "execution_count": 21,
   "metadata": {
    "collapsed": false
   },
   "outputs": [
    {
     "name": "stdout",
     "output_type": "stream",
     "text": [
      "CPU times: user 1.46 s, sys: 75.9 ms, total: 1.54 s\n",
      "Wall time: 1.66 s\n"
     ]
    }
   ],
   "source": [
    "%%time\n",
    "# Wall time: 1.79 s\n",
    "# Just preserving geometries for my purpose\n",
    "road_geoms = [shape(shp['geometry']) for shp in roads_shp]"
   ]
  },
  {
   "cell_type": "code",
   "execution_count": 22,
   "metadata": {
    "collapsed": false
   },
   "outputs": [
    {
     "name": "stdout",
     "output_type": "stream",
     "text": [
      "CPU times: user 250 ms, sys: 14.6 ms, total: 264 ms\n",
      "Wall time: 262 ms\n"
     ]
    }
   ],
   "source": [
    "%%time\n",
    "# Wall time: 282 ms\n",
    "# Create STR-tree\n",
    "road_strtree = STRtree(road_geoms)"
   ]
  },
  {
   "cell_type": "code",
   "execution_count": null,
   "metadata": {
    "collapsed": true
   },
   "outputs": [],
   "source": [
    "# Run Particle Filter"
   ]
  },
  {
   "cell_type": "code",
   "execution_count": 384,
   "metadata": {
    "collapsed": false
   },
   "outputs": [],
   "source": [
    "my_particle_filter = particle_filter(road_strtree)"
   ]
  },
  {
   "cell_type": "code",
   "execution_count": 385,
   "metadata": {
    "collapsed": false
   },
   "outputs": [],
   "source": [
    "data = trace_df[['lat', 'long', 'lat_prev', 'long_prev', 'dist_from_prev_m', 'time_delta_sec']].copy()"
   ]
  },
  {
   "cell_type": "code",
   "execution_count": 386,
   "metadata": {
    "collapsed": false
   },
   "outputs": [
    {
     "data": {
      "text/plain": [
       "(19500, 9)"
      ]
     },
     "execution_count": 386,
     "metadata": {},
     "output_type": "execute_result"
    }
   ],
   "source": [
    "trace_df.shape\n",
    "# (9846421, 9) ... this means I'd need 10 million iterations... @.@\n",
    "# Wait a sec, how do I distinguish among trips???\n",
    "# The first trace: (19500, 9)"
   ]
  },
  {
   "cell_type": "code",
   "execution_count": 387,
   "metadata": {
    "collapsed": false
   },
   "outputs": [
    {
     "name": "stdout",
     "output_type": "stream",
     "text": [
      "On iteration 1, fit quality of MAX -0.68, MEAN -0.71, MEDIAN -0.72\n",
      "On iteration 2, fit quality of MAX -6.41, MEAN -inf, MEDIAN -381.02\n",
      "On iteration 3, fit quality of MAX -121.78, MEAN -inf, MEDIAN -inf\n"
     ]
    },
    {
     "name": "stderr",
     "output_type": "stream",
     "text": [
      "/Volumes/LaCie/anaconda/envs/map_matching_particle_filter/lib/python3.7/site-packages/ipykernel/__main__.py:159: RuntimeWarning: divide by zero encountered in log\n"
     ]
    },
    {
     "name": "stdout",
     "output_type": "stream",
     "text": [
      "On iteration 4, fit quality of MAX -168.25, MEAN -inf, MEDIAN -inf\n",
      "On iteration 5, fit quality of MAX -418.89, MEAN -inf, MEDIAN -inf\n",
      "On iteration 6, fit quality of MAX -687.06, MEAN -inf, MEDIAN -inf\n",
      "On iteration 7, fit quality of MAX -711.32, MEAN -inf, MEDIAN -inf\n",
      "On iteration 8, fit quality of MAX -1869.64, MEAN -inf, MEDIAN -inf\n",
      "On iteration 9, fit quality of MAX -1973.97, MEAN -inf, MEDIAN -inf\n",
      "On iteration 10, fit quality of MAX -2093.78, MEAN -inf, MEDIAN -inf\n",
      "On iteration 11, fit quality of MAX -inf, MEAN -inf, MEDIAN -inf\n",
      "On iteration 12, fit quality of MAX -inf, MEAN -inf, MEDIAN -inf\n",
      "On iteration 13, fit quality of MAX -inf, MEAN -inf, MEDIAN -inf\n",
      "On iteration 14, fit quality of MAX -inf, MEAN -inf, MEDIAN -inf\n",
      "On iteration 15, fit quality of MAX -inf, MEAN -inf, MEDIAN -inf\n",
      "On iteration 16, fit quality of MAX -inf, MEAN -inf, MEDIAN -inf\n",
      "On iteration 17, fit quality of MAX -inf, MEAN -inf, MEDIAN -inf\n",
      "On iteration 18, fit quality of MAX -inf, MEAN -inf, MEDIAN -inf\n",
      "On iteration 19, fit quality of MAX -inf, MEAN -inf, MEDIAN -inf\n",
      "On iteration 20, fit quality of MAX -inf, MEAN -inf, MEDIAN -inf\n",
      "On iteration 21, fit quality of MAX -inf, MEAN -inf, MEDIAN -inf\n",
      "On iteration 22, fit quality of MAX -inf, MEAN -inf, MEDIAN -inf\n",
      "On iteration 23, fit quality of MAX -inf, MEAN -inf, MEDIAN -inf\n",
      "On iteration 24, fit quality of MAX -inf, MEAN -inf, MEDIAN -inf\n",
      "On iteration 25, fit quality of MAX -inf, MEAN -inf, MEDIAN -inf\n",
      "On iteration 26, fit quality of MAX -inf, MEAN -inf, MEDIAN -inf\n",
      "On iteration 27, fit quality of MAX -inf, MEAN -inf, MEDIAN -inf\n",
      "On iteration 28, fit quality of MAX -inf, MEAN -inf, MEDIAN -inf\n",
      "On iteration 29, fit quality of MAX -inf, MEAN -inf, MEDIAN -inf\n",
      "On iteration 30, fit quality of MAX -inf, MEAN -inf, MEDIAN -inf\n",
      "On iteration 31, fit quality of MAX -inf, MEAN -inf, MEDIAN -inf\n",
      "On iteration 32, fit quality of MAX -inf, MEAN -inf, MEDIAN -inf\n",
      "On iteration 33, fit quality of MAX -inf, MEAN -inf, MEDIAN -inf\n",
      "On iteration 34, fit quality of MAX -inf, MEAN -inf, MEDIAN -inf\n",
      "On iteration 35, fit quality of MAX -inf, MEAN -inf, MEDIAN -inf\n",
      "On iteration 36, fit quality of MAX -inf, MEAN -inf, MEDIAN -inf\n",
      "On iteration 37, fit quality of MAX -inf, MEAN -inf, MEDIAN -inf\n",
      "On iteration 38, fit quality of MAX -inf, MEAN -inf, MEDIAN -inf\n",
      "On iteration 39, fit quality of MAX -inf, MEAN -inf, MEDIAN -inf\n",
      "On iteration 40, fit quality of MAX -inf, MEAN -inf, MEDIAN -inf\n",
      "On iteration 41, fit quality of MAX -inf, MEAN -inf, MEDIAN -inf\n",
      "On iteration 42, fit quality of MAX -inf, MEAN -inf, MEDIAN -inf\n",
      "On iteration 43, fit quality of MAX -inf, MEAN -inf, MEDIAN -inf\n",
      "On iteration 44, fit quality of MAX -inf, MEAN -inf, MEDIAN -inf\n",
      "On iteration 45, fit quality of MAX -inf, MEAN -inf, MEDIAN -inf\n",
      "On iteration 46, fit quality of MAX -inf, MEAN -inf, MEDIAN -inf\n",
      "On iteration 47, fit quality of MAX -inf, MEAN -inf, MEDIAN -inf\n",
      "On iteration 48, fit quality of MAX -inf, MEAN -inf, MEDIAN -inf\n",
      "On iteration 49, fit quality of MAX -inf, MEAN -inf, MEDIAN -inf\n",
      "On iteration 50, fit quality of MAX -inf, MEAN -inf, MEDIAN -inf\n",
      "On iteration 51, fit quality of MAX -inf, MEAN -inf, MEDIAN -inf\n",
      "On iteration 52, fit quality of MAX -inf, MEAN -inf, MEDIAN -inf\n",
      "On iteration 53, fit quality of MAX -inf, MEAN -inf, MEDIAN -inf\n",
      "On iteration 54, fit quality of MAX -inf, MEAN -inf, MEDIAN -inf\n",
      "On iteration 55, fit quality of MAX -inf, MEAN -inf, MEDIAN -inf\n",
      "On iteration 56, fit quality of MAX -inf, MEAN -inf, MEDIAN -inf\n",
      "On iteration 57, fit quality of MAX -inf, MEAN -inf, MEDIAN -inf\n",
      "On iteration 58, fit quality of MAX -inf, MEAN -inf, MEDIAN -inf\n",
      "On iteration 59, fit quality of MAX -inf, MEAN -inf, MEDIAN -inf\n",
      "On iteration 60, fit quality of MAX -inf, MEAN -inf, MEDIAN -inf\n",
      "On iteration 61, fit quality of MAX -inf, MEAN -inf, MEDIAN -inf\n",
      "On iteration 62, fit quality of MAX -inf, MEAN -inf, MEDIAN -inf\n",
      "On iteration 63, fit quality of MAX -inf, MEAN -inf, MEDIAN -inf\n",
      "On iteration 64, fit quality of MAX -inf, MEAN -inf, MEDIAN -inf\n",
      "On iteration 65, fit quality of MAX -inf, MEAN -inf, MEDIAN -inf\n",
      "On iteration 66, fit quality of MAX -inf, MEAN -inf, MEDIAN -inf\n",
      "On iteration 67, fit quality of MAX -inf, MEAN -inf, MEDIAN -inf\n",
      "On iteration 68, fit quality of MAX -inf, MEAN -inf, MEDIAN -inf\n",
      "On iteration 69, fit quality of MAX -inf, MEAN -inf, MEDIAN -inf\n",
      "On iteration 70, fit quality of MAX -inf, MEAN -inf, MEDIAN -inf\n",
      "On iteration 71, fit quality of MAX -inf, MEAN -inf, MEDIAN -inf\n",
      "On iteration 72, fit quality of MAX -inf, MEAN -inf, MEDIAN -inf\n",
      "On iteration 73, fit quality of MAX -inf, MEAN -inf, MEDIAN -inf\n",
      "On iteration 74, fit quality of MAX -inf, MEAN -inf, MEDIAN -inf\n",
      "On iteration 75, fit quality of MAX -inf, MEAN -inf, MEDIAN -inf\n",
      "On iteration 76, fit quality of MAX -inf, MEAN -inf, MEDIAN -inf\n",
      "On iteration 77, fit quality of MAX -inf, MEAN -inf, MEDIAN -inf\n",
      "On iteration 78, fit quality of MAX -inf, MEAN -inf, MEDIAN -inf\n",
      "On iteration 79, fit quality of MAX -inf, MEAN -inf, MEDIAN -inf\n",
      "On iteration 80, fit quality of MAX -inf, MEAN -inf, MEDIAN -inf\n",
      "On iteration 81, fit quality of MAX -inf, MEAN -inf, MEDIAN -inf\n",
      "On iteration 82, fit quality of MAX -inf, MEAN -inf, MEDIAN -inf\n",
      "On iteration 83, fit quality of MAX -inf, MEAN -inf, MEDIAN -inf\n",
      "On iteration 84, fit quality of MAX -inf, MEAN -inf, MEDIAN -inf\n",
      "On iteration 85, fit quality of MAX -inf, MEAN -inf, MEDIAN -inf\n",
      "On iteration 86, fit quality of MAX -inf, MEAN -inf, MEDIAN -inf\n",
      "On iteration 87, fit quality of MAX -inf, MEAN -inf, MEDIAN -inf\n",
      "On iteration 88, fit quality of MAX -inf, MEAN -inf, MEDIAN -inf\n",
      "On iteration 89, fit quality of MAX -inf, MEAN -inf, MEDIAN -inf\n",
      "On iteration 90, fit quality of MAX -inf, MEAN -inf, MEDIAN -inf\n",
      "On iteration 91, fit quality of MAX -inf, MEAN -inf, MEDIAN -inf\n",
      "On iteration 92, fit quality of MAX -inf, MEAN -inf, MEDIAN -inf\n",
      "On iteration 93, fit quality of MAX -inf, MEAN -inf, MEDIAN -inf\n",
      "On iteration 94, fit quality of MAX -inf, MEAN -inf, MEDIAN -inf\n",
      "On iteration 95, fit quality of MAX -inf, MEAN -inf, MEDIAN -inf\n",
      "On iteration 96, fit quality of MAX -inf, MEAN -inf, MEDIAN -inf\n",
      "On iteration 97, fit quality of MAX -inf, MEAN -inf, MEDIAN -inf\n",
      "On iteration 98, fit quality of MAX -inf, MEAN -inf, MEDIAN -inf\n",
      "On iteration 99, fit quality of MAX -inf, MEAN -inf, MEDIAN -inf\n",
      "On iteration 100, fit quality of MAX -inf, MEAN -inf, MEDIAN -inf\n",
      "On iteration 101, fit quality of MAX -inf, MEAN -inf, MEDIAN -inf\n",
      "On iteration 102, fit quality of MAX -inf, MEAN -inf, MEDIAN -inf\n",
      "On iteration 103, fit quality of MAX -inf, MEAN -inf, MEDIAN -inf\n",
      "On iteration 104, fit quality of MAX -inf, MEAN -inf, MEDIAN -inf\n",
      "On iteration 105, fit quality of MAX -inf, MEAN -inf, MEDIAN -inf\n",
      "On iteration 106, fit quality of MAX -inf, MEAN -inf, MEDIAN -inf\n",
      "On iteration 107, fit quality of MAX -inf, MEAN -inf, MEDIAN -inf\n",
      "On iteration 108, fit quality of MAX -inf, MEAN -inf, MEDIAN -inf\n",
      "On iteration 109, fit quality of MAX -inf, MEAN -inf, MEDIAN -inf\n",
      "On iteration 110, fit quality of MAX -inf, MEAN -inf, MEDIAN -inf\n",
      "On iteration 111, fit quality of MAX -inf, MEAN -inf, MEDIAN -inf\n",
      "On iteration 112, fit quality of MAX -inf, MEAN -inf, MEDIAN -inf\n",
      "On iteration 113, fit quality of MAX -inf, MEAN -inf, MEDIAN -inf\n",
      "On iteration 114, fit quality of MAX -inf, MEAN -inf, MEDIAN -inf\n",
      "On iteration 115, fit quality of MAX -inf, MEAN -inf, MEDIAN -inf\n",
      "On iteration 116, fit quality of MAX -inf, MEAN -inf, MEDIAN -inf\n",
      "On iteration 117, fit quality of MAX -inf, MEAN -inf, MEDIAN -inf\n",
      "On iteration 118, fit quality of MAX -inf, MEAN -inf, MEDIAN -inf\n",
      "On iteration 119, fit quality of MAX -inf, MEAN -inf, MEDIAN -inf\n",
      "On iteration 120, fit quality of MAX -inf, MEAN -inf, MEDIAN -inf\n",
      "On iteration 121, fit quality of MAX -inf, MEAN -inf, MEDIAN -inf\n",
      "On iteration 122, fit quality of MAX -inf, MEAN -inf, MEDIAN -inf\n",
      "On iteration 123, fit quality of MAX -inf, MEAN -inf, MEDIAN -inf\n",
      "On iteration 124, fit quality of MAX -inf, MEAN -inf, MEDIAN -inf\n",
      "On iteration 125, fit quality of MAX -inf, MEAN -inf, MEDIAN -inf\n",
      "On iteration 126, fit quality of MAX -inf, MEAN -inf, MEDIAN -inf\n",
      "On iteration 127, fit quality of MAX -inf, MEAN -inf, MEDIAN -inf\n",
      "On iteration 128, fit quality of MAX -inf, MEAN -inf, MEDIAN -inf\n",
      "On iteration 129, fit quality of MAX -inf, MEAN -inf, MEDIAN -inf\n",
      "On iteration 130, fit quality of MAX -inf, MEAN -inf, MEDIAN -inf\n",
      "On iteration 131, fit quality of MAX -inf, MEAN -inf, MEDIAN -inf\n",
      "On iteration 132, fit quality of MAX -inf, MEAN -inf, MEDIAN -inf\n",
      "On iteration 133, fit quality of MAX -inf, MEAN -inf, MEDIAN -inf\n",
      "On iteration 134, fit quality of MAX -inf, MEAN -inf, MEDIAN -inf\n",
      "On iteration 135, fit quality of MAX -inf, MEAN -inf, MEDIAN -inf\n",
      "On iteration 136, fit quality of MAX -inf, MEAN -inf, MEDIAN -inf\n",
      "On iteration 137, fit quality of MAX -inf, MEAN -inf, MEDIAN -inf\n",
      "On iteration 138, fit quality of MAX -inf, MEAN -inf, MEDIAN -inf\n",
      "On iteration 139, fit quality of MAX -inf, MEAN -inf, MEDIAN -inf\n",
      "On iteration 140, fit quality of MAX -inf, MEAN -inf, MEDIAN -inf\n",
      "On iteration 141, fit quality of MAX -inf, MEAN -inf, MEDIAN -inf\n",
      "On iteration 142, fit quality of MAX -inf, MEAN -inf, MEDIAN -inf\n",
      "On iteration 143, fit quality of MAX -inf, MEAN -inf, MEDIAN -inf\n",
      "On iteration 144, fit quality of MAX -inf, MEAN -inf, MEDIAN -inf\n",
      "On iteration 145, fit quality of MAX -inf, MEAN -inf, MEDIAN -inf\n",
      "On iteration 146, fit quality of MAX -inf, MEAN -inf, MEDIAN -inf\n",
      "On iteration 147, fit quality of MAX -inf, MEAN -inf, MEDIAN -inf\n",
      "On iteration 148, fit quality of MAX -inf, MEAN -inf, MEDIAN -inf\n",
      "On iteration 149, fit quality of MAX -inf, MEAN -inf, MEDIAN -inf\n",
      "On iteration 150, fit quality of MAX -inf, MEAN -inf, MEDIAN -inf\n",
      "On iteration 151, fit quality of MAX -inf, MEAN -inf, MEDIAN -inf\n",
      "On iteration 152, fit quality of MAX -inf, MEAN -inf, MEDIAN -inf\n",
      "On iteration 153, fit quality of MAX -inf, MEAN -inf, MEDIAN -inf\n",
      "On iteration 154, fit quality of MAX -inf, MEAN -inf, MEDIAN -inf\n",
      "On iteration 155, fit quality of MAX -inf, MEAN -inf, MEDIAN -inf\n",
      "On iteration 156, fit quality of MAX -inf, MEAN -inf, MEDIAN -inf\n",
      "On iteration 157, fit quality of MAX -inf, MEAN -inf, MEDIAN -inf\n",
      "On iteration 158, fit quality of MAX -inf, MEAN -inf, MEDIAN -inf\n",
      "On iteration 159, fit quality of MAX -inf, MEAN -inf, MEDIAN -inf\n",
      "On iteration 160, fit quality of MAX -inf, MEAN -inf, MEDIAN -inf\n",
      "On iteration 161, fit quality of MAX -inf, MEAN -inf, MEDIAN -inf\n",
      "On iteration 162, fit quality of MAX -inf, MEAN -inf, MEDIAN -inf\n",
      "On iteration 163, fit quality of MAX -inf, MEAN -inf, MEDIAN -inf\n",
      "On iteration 164, fit quality of MAX -inf, MEAN -inf, MEDIAN -inf\n",
      "On iteration 165, fit quality of MAX -inf, MEAN -inf, MEDIAN -inf\n",
      "On iteration 166, fit quality of MAX -inf, MEAN -inf, MEDIAN -inf\n",
      "On iteration 167, fit quality of MAX -inf, MEAN -inf, MEDIAN -inf\n",
      "On iteration 168, fit quality of MAX -inf, MEAN -inf, MEDIAN -inf\n",
      "On iteration 169, fit quality of MAX -inf, MEAN -inf, MEDIAN -inf\n",
      "On iteration 170, fit quality of MAX -inf, MEAN -inf, MEDIAN -inf\n",
      "On iteration 171, fit quality of MAX -inf, MEAN -inf, MEDIAN -inf\n",
      "On iteration 172, fit quality of MAX -inf, MEAN -inf, MEDIAN -inf\n",
      "On iteration 173, fit quality of MAX -inf, MEAN -inf, MEDIAN -inf\n",
      "On iteration 174, fit quality of MAX -inf, MEAN -inf, MEDIAN -inf\n",
      "On iteration 175, fit quality of MAX -inf, MEAN -inf, MEDIAN -inf\n",
      "On iteration 176, fit quality of MAX -inf, MEAN -inf, MEDIAN -inf\n",
      "On iteration 177, fit quality of MAX -inf, MEAN -inf, MEDIAN -inf\n",
      "On iteration 178, fit quality of MAX -inf, MEAN -inf, MEDIAN -inf\n",
      "On iteration 179, fit quality of MAX -inf, MEAN -inf, MEDIAN -inf\n",
      "On iteration 180, fit quality of MAX -inf, MEAN -inf, MEDIAN -inf\n",
      "On iteration 181, fit quality of MAX -inf, MEAN -inf, MEDIAN -inf\n",
      "On iteration 182, fit quality of MAX -inf, MEAN -inf, MEDIAN -inf\n",
      "On iteration 183, fit quality of MAX -inf, MEAN -inf, MEDIAN -inf\n",
      "On iteration 184, fit quality of MAX -inf, MEAN -inf, MEDIAN -inf\n",
      "On iteration 185, fit quality of MAX -inf, MEAN -inf, MEDIAN -inf\n",
      "On iteration 186, fit quality of MAX -inf, MEAN -inf, MEDIAN -inf\n",
      "On iteration 187, fit quality of MAX -inf, MEAN -inf, MEDIAN -inf\n",
      "On iteration 188, fit quality of MAX -inf, MEAN -inf, MEDIAN -inf\n",
      "On iteration 189, fit quality of MAX -inf, MEAN -inf, MEDIAN -inf\n",
      "On iteration 190, fit quality of MAX -inf, MEAN -inf, MEDIAN -inf\n",
      "On iteration 191, fit quality of MAX -inf, MEAN -inf, MEDIAN -inf\n",
      "On iteration 192, fit quality of MAX -inf, MEAN -inf, MEDIAN -inf\n",
      "On iteration 193, fit quality of MAX -inf, MEAN -inf, MEDIAN -inf\n",
      "On iteration 194, fit quality of MAX -inf, MEAN -inf, MEDIAN -inf\n",
      "On iteration 195, fit quality of MAX -inf, MEAN -inf, MEDIAN -inf\n",
      "On iteration 196, fit quality of MAX -inf, MEAN -inf, MEDIAN -inf\n",
      "On iteration 197, fit quality of MAX -inf, MEAN -inf, MEDIAN -inf\n",
      "On iteration 198, fit quality of MAX -inf, MEAN -inf, MEDIAN -inf\n",
      "On iteration 199, fit quality of MAX -inf, MEAN -inf, MEDIAN -inf\n",
      "On iteration 200, fit quality of MAX -inf, MEAN -inf, MEDIAN -inf\n",
      "On iteration 201, fit quality of MAX -inf, MEAN -inf, MEDIAN -inf\n",
      "On iteration 202, fit quality of MAX -inf, MEAN -inf, MEDIAN -inf\n",
      "On iteration 203, fit quality of MAX -inf, MEAN -inf, MEDIAN -inf\n",
      "On iteration 204, fit quality of MAX -inf, MEAN -inf, MEDIAN -inf\n",
      "On iteration 205, fit quality of MAX -inf, MEAN -inf, MEDIAN -inf\n",
      "On iteration 206, fit quality of MAX -inf, MEAN -inf, MEDIAN -inf\n",
      "On iteration 207, fit quality of MAX -inf, MEAN -inf, MEDIAN -inf\n",
      "On iteration 208, fit quality of MAX -inf, MEAN -inf, MEDIAN -inf\n",
      "On iteration 209, fit quality of MAX -inf, MEAN -inf, MEDIAN -inf\n",
      "On iteration 210, fit quality of MAX -inf, MEAN -inf, MEDIAN -inf\n",
      "On iteration 211, fit quality of MAX -inf, MEAN -inf, MEDIAN -inf\n",
      "On iteration 212, fit quality of MAX -inf, MEAN -inf, MEDIAN -inf\n",
      "On iteration 213, fit quality of MAX -inf, MEAN -inf, MEDIAN -inf\n",
      "On iteration 214, fit quality of MAX -inf, MEAN -inf, MEDIAN -inf\n",
      "On iteration 215, fit quality of MAX -inf, MEAN -inf, MEDIAN -inf\n",
      "On iteration 216, fit quality of MAX -inf, MEAN -inf, MEDIAN -inf\n",
      "On iteration 217, fit quality of MAX -inf, MEAN -inf, MEDIAN -inf\n",
      "On iteration 218, fit quality of MAX -inf, MEAN -inf, MEDIAN -inf\n",
      "On iteration 219, fit quality of MAX -inf, MEAN -inf, MEDIAN -inf\n",
      "On iteration 220, fit quality of MAX -inf, MEAN -inf, MEDIAN -inf\n",
      "On iteration 221, fit quality of MAX -inf, MEAN -inf, MEDIAN -inf\n",
      "On iteration 222, fit quality of MAX -inf, MEAN -inf, MEDIAN -inf\n",
      "On iteration 223, fit quality of MAX -inf, MEAN -inf, MEDIAN -inf\n",
      "On iteration 224, fit quality of MAX -inf, MEAN -inf, MEDIAN -inf\n",
      "On iteration 225, fit quality of MAX -inf, MEAN -inf, MEDIAN -inf\n",
      "On iteration 226, fit quality of MAX -inf, MEAN -inf, MEDIAN -inf\n",
      "On iteration 227, fit quality of MAX -inf, MEAN -inf, MEDIAN -inf\n",
      "On iteration 228, fit quality of MAX -inf, MEAN -inf, MEDIAN -inf\n",
      "On iteration 229, fit quality of MAX -inf, MEAN -inf, MEDIAN -inf\n",
      "On iteration 230, fit quality of MAX -inf, MEAN -inf, MEDIAN -inf\n",
      "On iteration 231, fit quality of MAX -inf, MEAN -inf, MEDIAN -inf\n",
      "On iteration 232, fit quality of MAX -inf, MEAN -inf, MEDIAN -inf\n",
      "On iteration 233, fit quality of MAX -inf, MEAN -inf, MEDIAN -inf\n",
      "On iteration 234, fit quality of MAX -inf, MEAN -inf, MEDIAN -inf\n",
      "On iteration 235, fit quality of MAX -inf, MEAN -inf, MEDIAN -inf\n",
      "On iteration 236, fit quality of MAX -inf, MEAN -inf, MEDIAN -inf\n",
      "On iteration 237, fit quality of MAX -inf, MEAN -inf, MEDIAN -inf\n",
      "On iteration 238, fit quality of MAX -inf, MEAN -inf, MEDIAN -inf\n",
      "On iteration 239, fit quality of MAX -inf, MEAN -inf, MEDIAN -inf\n",
      "On iteration 240, fit quality of MAX -inf, MEAN -inf, MEDIAN -inf\n",
      "On iteration 241, fit quality of MAX -inf, MEAN -inf, MEDIAN -inf\n",
      "On iteration 242, fit quality of MAX -inf, MEAN -inf, MEDIAN -inf\n",
      "On iteration 243, fit quality of MAX -inf, MEAN -inf, MEDIAN -inf\n",
      "On iteration 244, fit quality of MAX -inf, MEAN -inf, MEDIAN -inf\n",
      "On iteration 245, fit quality of MAX -inf, MEAN -inf, MEDIAN -inf\n",
      "On iteration 246, fit quality of MAX -inf, MEAN -inf, MEDIAN -inf\n",
      "On iteration 247, fit quality of MAX -inf, MEAN -inf, MEDIAN -inf\n",
      "On iteration 248, fit quality of MAX -inf, MEAN -inf, MEDIAN -inf\n",
      "On iteration 249, fit quality of MAX -inf, MEAN -inf, MEDIAN -inf\n",
      "On iteration 250, fit quality of MAX -inf, MEAN -inf, MEDIAN -inf\n",
      "On iteration 251, fit quality of MAX -inf, MEAN -inf, MEDIAN -inf\n",
      "On iteration 252, fit quality of MAX -inf, MEAN -inf, MEDIAN -inf\n",
      "On iteration 253, fit quality of MAX -inf, MEAN -inf, MEDIAN -inf\n",
      "On iteration 254, fit quality of MAX -inf, MEAN -inf, MEDIAN -inf\n",
      "On iteration 255, fit quality of MAX -inf, MEAN -inf, MEDIAN -inf\n",
      "On iteration 256, fit quality of MAX -inf, MEAN -inf, MEDIAN -inf\n",
      "On iteration 257, fit quality of MAX -inf, MEAN -inf, MEDIAN -inf\n",
      "On iteration 258, fit quality of MAX -inf, MEAN -inf, MEDIAN -inf\n",
      "On iteration 259, fit quality of MAX -inf, MEAN -inf, MEDIAN -inf\n",
      "On iteration 260, fit quality of MAX -inf, MEAN -inf, MEDIAN -inf\n",
      "On iteration 261, fit quality of MAX -inf, MEAN -inf, MEDIAN -inf\n",
      "On iteration 262, fit quality of MAX -inf, MEAN -inf, MEDIAN -inf\n",
      "On iteration 263, fit quality of MAX -inf, MEAN -inf, MEDIAN -inf\n",
      "On iteration 264, fit quality of MAX -inf, MEAN -inf, MEDIAN -inf\n",
      "On iteration 265, fit quality of MAX -inf, MEAN -inf, MEDIAN -inf\n",
      "On iteration 266, fit quality of MAX -inf, MEAN -inf, MEDIAN -inf\n",
      "On iteration 267, fit quality of MAX -inf, MEAN -inf, MEDIAN -inf\n",
      "On iteration 268, fit quality of MAX -inf, MEAN -inf, MEDIAN -inf\n",
      "On iteration 269, fit quality of MAX -inf, MEAN -inf, MEDIAN -inf\n",
      "On iteration 270, fit quality of MAX -inf, MEAN -inf, MEDIAN -inf\n",
      "On iteration 271, fit quality of MAX -inf, MEAN -inf, MEDIAN -inf\n",
      "On iteration 272, fit quality of MAX -inf, MEAN -inf, MEDIAN -inf\n",
      "On iteration 273, fit quality of MAX -inf, MEAN -inf, MEDIAN -inf\n",
      "On iteration 274, fit quality of MAX -inf, MEAN -inf, MEDIAN -inf\n",
      "On iteration 275, fit quality of MAX -inf, MEAN -inf, MEDIAN -inf\n",
      "On iteration 276, fit quality of MAX -inf, MEAN -inf, MEDIAN -inf\n",
      "On iteration 277, fit quality of MAX -inf, MEAN -inf, MEDIAN -inf\n",
      "On iteration 278, fit quality of MAX -inf, MEAN -inf, MEDIAN -inf\n",
      "On iteration 279, fit quality of MAX -inf, MEAN -inf, MEDIAN -inf\n",
      "On iteration 280, fit quality of MAX -inf, MEAN -inf, MEDIAN -inf\n",
      "On iteration 281, fit quality of MAX -inf, MEAN -inf, MEDIAN -inf\n",
      "On iteration 282, fit quality of MAX -inf, MEAN -inf, MEDIAN -inf\n",
      "On iteration 283, fit quality of MAX -inf, MEAN -inf, MEDIAN -inf\n",
      "On iteration 284, fit quality of MAX -inf, MEAN -inf, MEDIAN -inf\n",
      "On iteration 285, fit quality of MAX -inf, MEAN -inf, MEDIAN -inf\n",
      "On iteration 286, fit quality of MAX -inf, MEAN -inf, MEDIAN -inf\n",
      "On iteration 287, fit quality of MAX -inf, MEAN -inf, MEDIAN -inf\n",
      "On iteration 288, fit quality of MAX -inf, MEAN -inf, MEDIAN -inf\n",
      "On iteration 289, fit quality of MAX -inf, MEAN -inf, MEDIAN -inf\n",
      "On iteration 290, fit quality of MAX -inf, MEAN -inf, MEDIAN -inf\n",
      "On iteration 291, fit quality of MAX -inf, MEAN -inf, MEDIAN -inf\n",
      "On iteration 292, fit quality of MAX -inf, MEAN -inf, MEDIAN -inf\n",
      "On iteration 293, fit quality of MAX -inf, MEAN -inf, MEDIAN -inf\n",
      "On iteration 294, fit quality of MAX -inf, MEAN -inf, MEDIAN -inf\n",
      "On iteration 295, fit quality of MAX -inf, MEAN -inf, MEDIAN -inf\n",
      "On iteration 296, fit quality of MAX -inf, MEAN -inf, MEDIAN -inf\n",
      "On iteration 297, fit quality of MAX -inf, MEAN -inf, MEDIAN -inf\n",
      "On iteration 298, fit quality of MAX -inf, MEAN -inf, MEDIAN -inf\n",
      "On iteration 299, fit quality of MAX -inf, MEAN -inf, MEDIAN -inf\n",
      "On iteration 300, fit quality of MAX -inf, MEAN -inf, MEDIAN -inf\n",
      "On iteration 301, fit quality of MAX -inf, MEAN -inf, MEDIAN -inf\n",
      "On iteration 302, fit quality of MAX -inf, MEAN -inf, MEDIAN -inf\n",
      "On iteration 303, fit quality of MAX -inf, MEAN -inf, MEDIAN -inf\n",
      "On iteration 304, fit quality of MAX -inf, MEAN -inf, MEDIAN -inf\n",
      "On iteration 305, fit quality of MAX -inf, MEAN -inf, MEDIAN -inf\n",
      "On iteration 306, fit quality of MAX -inf, MEAN -inf, MEDIAN -inf\n",
      "On iteration 307, fit quality of MAX -inf, MEAN -inf, MEDIAN -inf\n",
      "On iteration 308, fit quality of MAX -inf, MEAN -inf, MEDIAN -inf\n",
      "On iteration 309, fit quality of MAX -inf, MEAN -inf, MEDIAN -inf\n",
      "On iteration 310, fit quality of MAX -inf, MEAN -inf, MEDIAN -inf\n",
      "On iteration 311, fit quality of MAX -inf, MEAN -inf, MEDIAN -inf\n",
      "On iteration 312, fit quality of MAX -inf, MEAN -inf, MEDIAN -inf\n",
      "On iteration 313, fit quality of MAX -inf, MEAN -inf, MEDIAN -inf\n",
      "On iteration 314, fit quality of MAX -inf, MEAN -inf, MEDIAN -inf\n",
      "On iteration 315, fit quality of MAX -inf, MEAN -inf, MEDIAN -inf\n",
      "On iteration 316, fit quality of MAX -inf, MEAN -inf, MEDIAN -inf\n",
      "On iteration 317, fit quality of MAX -inf, MEAN -inf, MEDIAN -inf\n",
      "On iteration 318, fit quality of MAX -inf, MEAN -inf, MEDIAN -inf\n",
      "On iteration 319, fit quality of MAX -inf, MEAN -inf, MEDIAN -inf\n",
      "On iteration 320, fit quality of MAX -inf, MEAN -inf, MEDIAN -inf\n",
      "On iteration 321, fit quality of MAX -inf, MEAN -inf, MEDIAN -inf\n",
      "On iteration 322, fit quality of MAX -inf, MEAN -inf, MEDIAN -inf\n",
      "On iteration 323, fit quality of MAX -inf, MEAN -inf, MEDIAN -inf\n",
      "On iteration 324, fit quality of MAX -inf, MEAN -inf, MEDIAN -inf\n",
      "On iteration 325, fit quality of MAX -inf, MEAN -inf, MEDIAN -inf\n",
      "On iteration 326, fit quality of MAX -inf, MEAN -inf, MEDIAN -inf\n",
      "On iteration 327, fit quality of MAX -inf, MEAN -inf, MEDIAN -inf\n",
      "On iteration 328, fit quality of MAX -inf, MEAN -inf, MEDIAN -inf\n",
      "On iteration 329, fit quality of MAX -inf, MEAN -inf, MEDIAN -inf\n",
      "On iteration 330, fit quality of MAX -inf, MEAN -inf, MEDIAN -inf\n",
      "On iteration 331, fit quality of MAX -inf, MEAN -inf, MEDIAN -inf\n",
      "On iteration 332, fit quality of MAX -inf, MEAN -inf, MEDIAN -inf\n",
      "On iteration 333, fit quality of MAX -inf, MEAN -inf, MEDIAN -inf\n",
      "On iteration 334, fit quality of MAX -inf, MEAN -inf, MEDIAN -inf\n",
      "On iteration 335, fit quality of MAX -inf, MEAN -inf, MEDIAN -inf\n",
      "On iteration 336, fit quality of MAX -inf, MEAN -inf, MEDIAN -inf\n",
      "On iteration 337, fit quality of MAX -inf, MEAN -inf, MEDIAN -inf\n",
      "On iteration 338, fit quality of MAX -inf, MEAN -inf, MEDIAN -inf\n",
      "On iteration 339, fit quality of MAX -inf, MEAN -inf, MEDIAN -inf\n",
      "On iteration 340, fit quality of MAX -inf, MEAN -inf, MEDIAN -inf\n",
      "On iteration 341, fit quality of MAX -inf, MEAN -inf, MEDIAN -inf\n",
      "On iteration 342, fit quality of MAX -inf, MEAN -inf, MEDIAN -inf\n",
      "On iteration 343, fit quality of MAX -inf, MEAN -inf, MEDIAN -inf\n",
      "On iteration 344, fit quality of MAX -inf, MEAN -inf, MEDIAN -inf\n",
      "On iteration 345, fit quality of MAX -inf, MEAN -inf, MEDIAN -inf\n",
      "On iteration 346, fit quality of MAX -inf, MEAN -inf, MEDIAN -inf\n",
      "On iteration 347, fit quality of MAX -inf, MEAN -inf, MEDIAN -inf\n",
      "On iteration 348, fit quality of MAX -inf, MEAN -inf, MEDIAN -inf\n",
      "On iteration 349, fit quality of MAX -inf, MEAN -inf, MEDIAN -inf\n",
      "On iteration 350, fit quality of MAX -inf, MEAN -inf, MEDIAN -inf\n",
      "On iteration 351, fit quality of MAX -inf, MEAN -inf, MEDIAN -inf\n",
      "On iteration 352, fit quality of MAX -inf, MEAN -inf, MEDIAN -inf\n",
      "On iteration 353, fit quality of MAX -inf, MEAN -inf, MEDIAN -inf\n",
      "On iteration 354, fit quality of MAX -inf, MEAN -inf, MEDIAN -inf\n",
      "On iteration 355, fit quality of MAX -inf, MEAN -inf, MEDIAN -inf\n",
      "On iteration 356, fit quality of MAX -inf, MEAN -inf, MEDIAN -inf\n",
      "On iteration 357, fit quality of MAX -inf, MEAN -inf, MEDIAN -inf\n",
      "On iteration 358, fit quality of MAX -inf, MEAN -inf, MEDIAN -inf\n",
      "On iteration 359, fit quality of MAX -inf, MEAN -inf, MEDIAN -inf\n",
      "On iteration 360, fit quality of MAX -inf, MEAN -inf, MEDIAN -inf\n",
      "On iteration 361, fit quality of MAX -inf, MEAN -inf, MEDIAN -inf\n",
      "On iteration 362, fit quality of MAX -inf, MEAN -inf, MEDIAN -inf\n",
      "On iteration 363, fit quality of MAX -inf, MEAN -inf, MEDIAN -inf\n",
      "On iteration 364, fit quality of MAX -inf, MEAN -inf, MEDIAN -inf\n",
      "On iteration 365, fit quality of MAX -inf, MEAN -inf, MEDIAN -inf\n",
      "On iteration 366, fit quality of MAX -inf, MEAN -inf, MEDIAN -inf\n",
      "On iteration 367, fit quality of MAX -inf, MEAN -inf, MEDIAN -inf\n",
      "On iteration 368, fit quality of MAX -inf, MEAN -inf, MEDIAN -inf\n",
      "On iteration 369, fit quality of MAX -inf, MEAN -inf, MEDIAN -inf\n",
      "On iteration 370, fit quality of MAX -inf, MEAN -inf, MEDIAN -inf\n",
      "On iteration 371, fit quality of MAX -inf, MEAN -inf, MEDIAN -inf\n",
      "On iteration 372, fit quality of MAX -inf, MEAN -inf, MEDIAN -inf\n",
      "On iteration 373, fit quality of MAX -inf, MEAN -inf, MEDIAN -inf\n",
      "On iteration 374, fit quality of MAX -inf, MEAN -inf, MEDIAN -inf\n",
      "On iteration 375, fit quality of MAX -inf, MEAN -inf, MEDIAN -inf\n",
      "On iteration 376, fit quality of MAX -inf, MEAN -inf, MEDIAN -inf\n",
      "On iteration 377, fit quality of MAX -inf, MEAN -inf, MEDIAN -inf\n",
      "On iteration 378, fit quality of MAX -inf, MEAN -inf, MEDIAN -inf\n",
      "On iteration 379, fit quality of MAX -inf, MEAN -inf, MEDIAN -inf\n",
      "On iteration 380, fit quality of MAX -inf, MEAN -inf, MEDIAN -inf\n",
      "On iteration 381, fit quality of MAX -inf, MEAN -inf, MEDIAN -inf\n",
      "On iteration 382, fit quality of MAX -inf, MEAN -inf, MEDIAN -inf\n",
      "On iteration 383, fit quality of MAX -inf, MEAN -inf, MEDIAN -inf\n",
      "On iteration 384, fit quality of MAX -inf, MEAN -inf, MEDIAN -inf\n",
      "On iteration 385, fit quality of MAX -inf, MEAN -inf, MEDIAN -inf\n",
      "On iteration 386, fit quality of MAX -inf, MEAN -inf, MEDIAN -inf\n",
      "On iteration 387, fit quality of MAX -inf, MEAN -inf, MEDIAN -inf\n",
      "On iteration 388, fit quality of MAX -inf, MEAN -inf, MEDIAN -inf\n",
      "On iteration 389, fit quality of MAX -inf, MEAN -inf, MEDIAN -inf\n",
      "On iteration 390, fit quality of MAX -inf, MEAN -inf, MEDIAN -inf\n",
      "On iteration 391, fit quality of MAX -inf, MEAN -inf, MEDIAN -inf\n",
      "On iteration 392, fit quality of MAX -inf, MEAN -inf, MEDIAN -inf\n",
      "On iteration 393, fit quality of MAX -inf, MEAN -inf, MEDIAN -inf\n",
      "On iteration 394, fit quality of MAX -inf, MEAN -inf, MEDIAN -inf\n",
      "On iteration 395, fit quality of MAX -inf, MEAN -inf, MEDIAN -inf\n",
      "On iteration 396, fit quality of MAX -inf, MEAN -inf, MEDIAN -inf\n",
      "On iteration 397, fit quality of MAX -inf, MEAN -inf, MEDIAN -inf\n",
      "On iteration 398, fit quality of MAX -inf, MEAN -inf, MEDIAN -inf\n",
      "On iteration 399, fit quality of MAX -inf, MEAN -inf, MEDIAN -inf\n",
      "On iteration 400, fit quality of MAX -inf, MEAN -inf, MEDIAN -inf\n",
      "On iteration 401, fit quality of MAX -inf, MEAN -inf, MEDIAN -inf\n",
      "On iteration 402, fit quality of MAX -inf, MEAN -inf, MEDIAN -inf\n",
      "On iteration 403, fit quality of MAX -inf, MEAN -inf, MEDIAN -inf\n",
      "On iteration 404, fit quality of MAX -inf, MEAN -inf, MEDIAN -inf\n",
      "On iteration 405, fit quality of MAX -inf, MEAN -inf, MEDIAN -inf\n",
      "On iteration 406, fit quality of MAX -inf, MEAN -inf, MEDIAN -inf\n",
      "On iteration 407, fit quality of MAX -inf, MEAN -inf, MEDIAN -inf\n",
      "On iteration 408, fit quality of MAX -inf, MEAN -inf, MEDIAN -inf\n",
      "On iteration 409, fit quality of MAX -inf, MEAN -inf, MEDIAN -inf\n",
      "On iteration 410, fit quality of MAX -inf, MEAN -inf, MEDIAN -inf\n",
      "On iteration 411, fit quality of MAX -inf, MEAN -inf, MEDIAN -inf\n",
      "On iteration 412, fit quality of MAX -inf, MEAN -inf, MEDIAN -inf\n",
      "On iteration 413, fit quality of MAX -inf, MEAN -inf, MEDIAN -inf\n",
      "On iteration 414, fit quality of MAX -inf, MEAN -inf, MEDIAN -inf\n",
      "On iteration 415, fit quality of MAX -inf, MEAN -inf, MEDIAN -inf\n",
      "On iteration 416, fit quality of MAX -inf, MEAN -inf, MEDIAN -inf\n",
      "On iteration 417, fit quality of MAX -inf, MEAN -inf, MEDIAN -inf\n",
      "On iteration 418, fit quality of MAX -inf, MEAN -inf, MEDIAN -inf\n",
      "On iteration 419, fit quality of MAX -inf, MEAN -inf, MEDIAN -inf\n",
      "On iteration 420, fit quality of MAX -inf, MEAN -inf, MEDIAN -inf\n",
      "On iteration 421, fit quality of MAX -inf, MEAN -inf, MEDIAN -inf\n",
      "On iteration 422, fit quality of MAX -inf, MEAN -inf, MEDIAN -inf\n",
      "On iteration 423, fit quality of MAX -inf, MEAN -inf, MEDIAN -inf\n",
      "On iteration 424, fit quality of MAX -inf, MEAN -inf, MEDIAN -inf\n",
      "On iteration 425, fit quality of MAX -inf, MEAN -inf, MEDIAN -inf\n",
      "On iteration 426, fit quality of MAX -inf, MEAN -inf, MEDIAN -inf\n",
      "On iteration 427, fit quality of MAX -inf, MEAN -inf, MEDIAN -inf\n",
      "On iteration 428, fit quality of MAX -inf, MEAN -inf, MEDIAN -inf\n",
      "On iteration 429, fit quality of MAX -inf, MEAN -inf, MEDIAN -inf\n",
      "On iteration 430, fit quality of MAX -inf, MEAN -inf, MEDIAN -inf\n",
      "On iteration 431, fit quality of MAX -inf, MEAN -inf, MEDIAN -inf\n",
      "On iteration 432, fit quality of MAX -inf, MEAN -inf, MEDIAN -inf\n",
      "On iteration 433, fit quality of MAX -inf, MEAN -inf, MEDIAN -inf\n",
      "On iteration 434, fit quality of MAX -inf, MEAN -inf, MEDIAN -inf\n",
      "On iteration 435, fit quality of MAX -inf, MEAN -inf, MEDIAN -inf\n",
      "On iteration 436, fit quality of MAX -inf, MEAN -inf, MEDIAN -inf\n",
      "On iteration 437, fit quality of MAX -inf, MEAN -inf, MEDIAN -inf\n",
      "On iteration 438, fit quality of MAX -inf, MEAN -inf, MEDIAN -inf\n",
      "On iteration 439, fit quality of MAX -inf, MEAN -inf, MEDIAN -inf\n",
      "On iteration 440, fit quality of MAX -inf, MEAN -inf, MEDIAN -inf\n",
      "On iteration 441, fit quality of MAX -inf, MEAN -inf, MEDIAN -inf\n",
      "On iteration 442, fit quality of MAX -inf, MEAN -inf, MEDIAN -inf\n",
      "On iteration 443, fit quality of MAX -inf, MEAN -inf, MEDIAN -inf\n",
      "On iteration 444, fit quality of MAX -inf, MEAN -inf, MEDIAN -inf\n",
      "On iteration 445, fit quality of MAX -inf, MEAN -inf, MEDIAN -inf\n",
      "On iteration 446, fit quality of MAX -inf, MEAN -inf, MEDIAN -inf\n",
      "On iteration 447, fit quality of MAX -inf, MEAN -inf, MEDIAN -inf\n",
      "On iteration 448, fit quality of MAX -inf, MEAN -inf, MEDIAN -inf\n",
      "On iteration 449, fit quality of MAX -inf, MEAN -inf, MEDIAN -inf\n",
      "On iteration 450, fit quality of MAX -inf, MEAN -inf, MEDIAN -inf\n",
      "On iteration 451, fit quality of MAX -inf, MEAN -inf, MEDIAN -inf\n",
      "On iteration 452, fit quality of MAX -inf, MEAN -inf, MEDIAN -inf\n",
      "On iteration 453, fit quality of MAX -inf, MEAN -inf, MEDIAN -inf\n",
      "On iteration 454, fit quality of MAX -inf, MEAN -inf, MEDIAN -inf\n",
      "On iteration 455, fit quality of MAX -inf, MEAN -inf, MEDIAN -inf\n",
      "On iteration 456, fit quality of MAX -inf, MEAN -inf, MEDIAN -inf\n",
      "On iteration 457, fit quality of MAX -inf, MEAN -inf, MEDIAN -inf\n",
      "On iteration 458, fit quality of MAX -inf, MEAN -inf, MEDIAN -inf\n",
      "On iteration 459, fit quality of MAX -inf, MEAN -inf, MEDIAN -inf\n",
      "On iteration 460, fit quality of MAX -inf, MEAN -inf, MEDIAN -inf\n",
      "On iteration 461, fit quality of MAX -inf, MEAN -inf, MEDIAN -inf\n",
      "On iteration 462, fit quality of MAX -inf, MEAN -inf, MEDIAN -inf\n",
      "On iteration 463, fit quality of MAX -inf, MEAN -inf, MEDIAN -inf\n",
      "On iteration 464, fit quality of MAX -inf, MEAN -inf, MEDIAN -inf\n",
      "On iteration 465, fit quality of MAX -inf, MEAN -inf, MEDIAN -inf\n",
      "On iteration 466, fit quality of MAX -inf, MEAN -inf, MEDIAN -inf\n",
      "On iteration 467, fit quality of MAX -inf, MEAN -inf, MEDIAN -inf\n",
      "On iteration 468, fit quality of MAX -inf, MEAN -inf, MEDIAN -inf\n",
      "On iteration 469, fit quality of MAX -inf, MEAN -inf, MEDIAN -inf\n",
      "On iteration 470, fit quality of MAX -inf, MEAN -inf, MEDIAN -inf\n",
      "On iteration 471, fit quality of MAX -inf, MEAN -inf, MEDIAN -inf\n",
      "On iteration 472, fit quality of MAX -inf, MEAN -inf, MEDIAN -inf\n",
      "On iteration 473, fit quality of MAX -inf, MEAN -inf, MEDIAN -inf\n",
      "On iteration 474, fit quality of MAX -inf, MEAN -inf, MEDIAN -inf\n",
      "On iteration 475, fit quality of MAX -inf, MEAN -inf, MEDIAN -inf\n",
      "On iteration 476, fit quality of MAX -inf, MEAN -inf, MEDIAN -inf\n",
      "On iteration 477, fit quality of MAX -inf, MEAN -inf, MEDIAN -inf\n",
      "On iteration 478, fit quality of MAX -inf, MEAN -inf, MEDIAN -inf\n",
      "On iteration 479, fit quality of MAX -inf, MEAN -inf, MEDIAN -inf\n",
      "On iteration 480, fit quality of MAX -inf, MEAN -inf, MEDIAN -inf\n",
      "On iteration 481, fit quality of MAX -inf, MEAN -inf, MEDIAN -inf\n",
      "On iteration 482, fit quality of MAX -inf, MEAN -inf, MEDIAN -inf\n",
      "On iteration 483, fit quality of MAX -inf, MEAN -inf, MEDIAN -inf\n",
      "On iteration 484, fit quality of MAX -inf, MEAN -inf, MEDIAN -inf\n",
      "On iteration 485, fit quality of MAX -inf, MEAN -inf, MEDIAN -inf\n",
      "On iteration 486, fit quality of MAX -inf, MEAN -inf, MEDIAN -inf\n",
      "On iteration 487, fit quality of MAX -inf, MEAN -inf, MEDIAN -inf\n",
      "On iteration 488, fit quality of MAX -inf, MEAN -inf, MEDIAN -inf\n",
      "On iteration 489, fit quality of MAX -inf, MEAN -inf, MEDIAN -inf\n",
      "On iteration 490, fit quality of MAX -inf, MEAN -inf, MEDIAN -inf\n",
      "On iteration 491, fit quality of MAX -inf, MEAN -inf, MEDIAN -inf\n",
      "On iteration 492, fit quality of MAX -inf, MEAN -inf, MEDIAN -inf\n",
      "On iteration 493, fit quality of MAX -inf, MEAN -inf, MEDIAN -inf\n",
      "On iteration 494, fit quality of MAX -inf, MEAN -inf, MEDIAN -inf\n",
      "On iteration 495, fit quality of MAX -inf, MEAN -inf, MEDIAN -inf\n",
      "On iteration 496, fit quality of MAX -inf, MEAN -inf, MEDIAN -inf\n",
      "On iteration 497, fit quality of MAX -inf, MEAN -inf, MEDIAN -inf\n",
      "On iteration 498, fit quality of MAX -inf, MEAN -inf, MEDIAN -inf\n",
      "On iteration 499, fit quality of MAX -inf, MEAN -inf, MEDIAN -inf\n",
      "On iteration 500, fit quality of MAX -inf, MEAN -inf, MEDIAN -inf\n",
      "On iteration 501, fit quality of MAX -inf, MEAN -inf, MEDIAN -inf\n",
      "On iteration 502, fit quality of MAX -inf, MEAN -inf, MEDIAN -inf\n",
      "On iteration 503, fit quality of MAX -inf, MEAN -inf, MEDIAN -inf\n",
      "On iteration 504, fit quality of MAX -inf, MEAN -inf, MEDIAN -inf\n",
      "On iteration 505, fit quality of MAX -inf, MEAN -inf, MEDIAN -inf\n",
      "On iteration 506, fit quality of MAX -inf, MEAN -inf, MEDIAN -inf\n",
      "On iteration 507, fit quality of MAX -inf, MEAN -inf, MEDIAN -inf\n",
      "On iteration 508, fit quality of MAX -inf, MEAN -inf, MEDIAN -inf\n",
      "On iteration 509, fit quality of MAX -inf, MEAN -inf, MEDIAN -inf\n",
      "On iteration 510, fit quality of MAX -inf, MEAN -inf, MEDIAN -inf\n",
      "On iteration 511, fit quality of MAX -inf, MEAN -inf, MEDIAN -inf\n",
      "On iteration 512, fit quality of MAX -inf, MEAN -inf, MEDIAN -inf\n",
      "On iteration 513, fit quality of MAX -inf, MEAN -inf, MEDIAN -inf\n",
      "On iteration 514, fit quality of MAX -inf, MEAN -inf, MEDIAN -inf\n",
      "On iteration 515, fit quality of MAX -inf, MEAN -inf, MEDIAN -inf\n",
      "On iteration 516, fit quality of MAX -inf, MEAN -inf, MEDIAN -inf\n",
      "On iteration 517, fit quality of MAX -inf, MEAN -inf, MEDIAN -inf\n",
      "On iteration 518, fit quality of MAX -inf, MEAN -inf, MEDIAN -inf\n",
      "On iteration 519, fit quality of MAX -inf, MEAN -inf, MEDIAN -inf\n",
      "On iteration 520, fit quality of MAX -inf, MEAN -inf, MEDIAN -inf\n",
      "On iteration 521, fit quality of MAX -inf, MEAN -inf, MEDIAN -inf\n",
      "On iteration 522, fit quality of MAX -inf, MEAN -inf, MEDIAN -inf\n",
      "On iteration 523, fit quality of MAX -inf, MEAN -inf, MEDIAN -inf\n",
      "On iteration 524, fit quality of MAX -inf, MEAN -inf, MEDIAN -inf\n",
      "On iteration 525, fit quality of MAX -inf, MEAN -inf, MEDIAN -inf\n",
      "On iteration 526, fit quality of MAX -inf, MEAN -inf, MEDIAN -inf\n",
      "On iteration 527, fit quality of MAX -inf, MEAN -inf, MEDIAN -inf\n",
      "On iteration 528, fit quality of MAX -inf, MEAN -inf, MEDIAN -inf\n",
      "On iteration 529, fit quality of MAX -inf, MEAN -inf, MEDIAN -inf\n",
      "On iteration 530, fit quality of MAX -inf, MEAN -inf, MEDIAN -inf\n",
      "On iteration 531, fit quality of MAX -inf, MEAN -inf, MEDIAN -inf\n",
      "On iteration 532, fit quality of MAX -inf, MEAN -inf, MEDIAN -inf\n",
      "On iteration 533, fit quality of MAX -inf, MEAN -inf, MEDIAN -inf\n",
      "On iteration 534, fit quality of MAX -inf, MEAN -inf, MEDIAN -inf\n",
      "On iteration 535, fit quality of MAX -inf, MEAN -inf, MEDIAN -inf\n",
      "On iteration 536, fit quality of MAX -inf, MEAN -inf, MEDIAN -inf\n",
      "On iteration 537, fit quality of MAX -inf, MEAN -inf, MEDIAN -inf\n",
      "On iteration 538, fit quality of MAX -inf, MEAN -inf, MEDIAN -inf\n",
      "On iteration 539, fit quality of MAX -inf, MEAN -inf, MEDIAN -inf\n",
      "On iteration 540, fit quality of MAX -inf, MEAN -inf, MEDIAN -inf\n",
      "On iteration 541, fit quality of MAX -inf, MEAN -inf, MEDIAN -inf\n",
      "On iteration 542, fit quality of MAX -inf, MEAN -inf, MEDIAN -inf\n",
      "On iteration 543, fit quality of MAX -inf, MEAN -inf, MEDIAN -inf\n",
      "On iteration 544, fit quality of MAX -inf, MEAN -inf, MEDIAN -inf\n",
      "On iteration 545, fit quality of MAX -inf, MEAN -inf, MEDIAN -inf\n",
      "On iteration 546, fit quality of MAX -inf, MEAN -inf, MEDIAN -inf\n",
      "On iteration 547, fit quality of MAX -inf, MEAN -inf, MEDIAN -inf\n",
      "On iteration 548, fit quality of MAX -inf, MEAN -inf, MEDIAN -inf\n",
      "On iteration 549, fit quality of MAX -inf, MEAN -inf, MEDIAN -inf\n",
      "On iteration 550, fit quality of MAX -inf, MEAN -inf, MEDIAN -inf\n",
      "On iteration 551, fit quality of MAX -inf, MEAN -inf, MEDIAN -inf\n",
      "On iteration 552, fit quality of MAX -inf, MEAN -inf, MEDIAN -inf\n",
      "On iteration 553, fit quality of MAX -inf, MEAN -inf, MEDIAN -inf\n",
      "On iteration 554, fit quality of MAX -inf, MEAN -inf, MEDIAN -inf\n",
      "On iteration 555, fit quality of MAX -inf, MEAN -inf, MEDIAN -inf\n",
      "On iteration 556, fit quality of MAX -inf, MEAN -inf, MEDIAN -inf\n",
      "On iteration 557, fit quality of MAX -inf, MEAN -inf, MEDIAN -inf\n",
      "On iteration 558, fit quality of MAX -inf, MEAN -inf, MEDIAN -inf\n",
      "On iteration 559, fit quality of MAX -inf, MEAN -inf, MEDIAN -inf\n",
      "On iteration 560, fit quality of MAX -inf, MEAN -inf, MEDIAN -inf\n",
      "On iteration 561, fit quality of MAX -inf, MEAN -inf, MEDIAN -inf\n",
      "On iteration 562, fit quality of MAX -inf, MEAN -inf, MEDIAN -inf\n",
      "On iteration 563, fit quality of MAX -inf, MEAN -inf, MEDIAN -inf\n",
      "On iteration 564, fit quality of MAX -inf, MEAN -inf, MEDIAN -inf\n",
      "On iteration 565, fit quality of MAX -inf, MEAN -inf, MEDIAN -inf\n",
      "On iteration 566, fit quality of MAX -inf, MEAN -inf, MEDIAN -inf\n",
      "On iteration 567, fit quality of MAX -inf, MEAN -inf, MEDIAN -inf\n",
      "On iteration 568, fit quality of MAX -inf, MEAN -inf, MEDIAN -inf\n",
      "On iteration 569, fit quality of MAX -inf, MEAN -inf, MEDIAN -inf\n",
      "On iteration 570, fit quality of MAX -inf, MEAN -inf, MEDIAN -inf\n",
      "On iteration 571, fit quality of MAX -inf, MEAN -inf, MEDIAN -inf\n",
      "On iteration 572, fit quality of MAX -inf, MEAN -inf, MEDIAN -inf\n",
      "On iteration 573, fit quality of MAX -inf, MEAN -inf, MEDIAN -inf\n",
      "On iteration 574, fit quality of MAX -inf, MEAN -inf, MEDIAN -inf\n",
      "On iteration 575, fit quality of MAX -inf, MEAN -inf, MEDIAN -inf\n",
      "On iteration 576, fit quality of MAX -inf, MEAN -inf, MEDIAN -inf\n",
      "On iteration 577, fit quality of MAX -inf, MEAN -inf, MEDIAN -inf\n",
      "On iteration 578, fit quality of MAX -inf, MEAN -inf, MEDIAN -inf\n",
      "On iteration 579, fit quality of MAX -inf, MEAN -inf, MEDIAN -inf\n",
      "On iteration 580, fit quality of MAX -inf, MEAN -inf, MEDIAN -inf\n",
      "On iteration 581, fit quality of MAX -inf, MEAN -inf, MEDIAN -inf\n",
      "On iteration 582, fit quality of MAX -inf, MEAN -inf, MEDIAN -inf\n",
      "On iteration 583, fit quality of MAX -inf, MEAN -inf, MEDIAN -inf\n",
      "On iteration 584, fit quality of MAX -inf, MEAN -inf, MEDIAN -inf\n",
      "On iteration 585, fit quality of MAX -inf, MEAN -inf, MEDIAN -inf\n",
      "On iteration 586, fit quality of MAX -inf, MEAN -inf, MEDIAN -inf\n",
      "On iteration 587, fit quality of MAX -inf, MEAN -inf, MEDIAN -inf\n",
      "On iteration 588, fit quality of MAX -inf, MEAN -inf, MEDIAN -inf\n",
      "On iteration 589, fit quality of MAX -inf, MEAN -inf, MEDIAN -inf\n",
      "On iteration 590, fit quality of MAX -inf, MEAN -inf, MEDIAN -inf\n",
      "On iteration 591, fit quality of MAX -inf, MEAN -inf, MEDIAN -inf\n",
      "On iteration 592, fit quality of MAX -inf, MEAN -inf, MEDIAN -inf\n",
      "On iteration 593, fit quality of MAX -inf, MEAN -inf, MEDIAN -inf\n",
      "On iteration 594, fit quality of MAX -inf, MEAN -inf, MEDIAN -inf\n",
      "On iteration 595, fit quality of MAX -inf, MEAN -inf, MEDIAN -inf\n",
      "On iteration 596, fit quality of MAX -inf, MEAN -inf, MEDIAN -inf\n",
      "On iteration 597, fit quality of MAX -inf, MEAN -inf, MEDIAN -inf\n",
      "On iteration 598, fit quality of MAX -inf, MEAN -inf, MEDIAN -inf\n",
      "On iteration 599, fit quality of MAX -inf, MEAN -inf, MEDIAN -inf\n",
      "On iteration 600, fit quality of MAX -inf, MEAN -inf, MEDIAN -inf\n",
      "On iteration 601, fit quality of MAX -inf, MEAN -inf, MEDIAN -inf\n",
      "On iteration 602, fit quality of MAX -inf, MEAN -inf, MEDIAN -inf\n",
      "On iteration 603, fit quality of MAX -inf, MEAN -inf, MEDIAN -inf\n",
      "On iteration 604, fit quality of MAX -inf, MEAN -inf, MEDIAN -inf\n",
      "On iteration 605, fit quality of MAX -inf, MEAN -inf, MEDIAN -inf\n",
      "On iteration 606, fit quality of MAX -inf, MEAN -inf, MEDIAN -inf\n",
      "On iteration 607, fit quality of MAX -inf, MEAN -inf, MEDIAN -inf\n",
      "On iteration 608, fit quality of MAX -inf, MEAN -inf, MEDIAN -inf\n",
      "On iteration 609, fit quality of MAX -inf, MEAN -inf, MEDIAN -inf\n",
      "On iteration 610, fit quality of MAX -inf, MEAN -inf, MEDIAN -inf\n",
      "On iteration 611, fit quality of MAX -inf, MEAN -inf, MEDIAN -inf\n",
      "On iteration 612, fit quality of MAX -inf, MEAN -inf, MEDIAN -inf\n",
      "On iteration 613, fit quality of MAX -inf, MEAN -inf, MEDIAN -inf\n",
      "On iteration 614, fit quality of MAX -inf, MEAN -inf, MEDIAN -inf\n",
      "On iteration 615, fit quality of MAX -inf, MEAN -inf, MEDIAN -inf\n",
      "On iteration 616, fit quality of MAX -inf, MEAN -inf, MEDIAN -inf\n",
      "On iteration 617, fit quality of MAX -inf, MEAN -inf, MEDIAN -inf\n",
      "On iteration 618, fit quality of MAX -inf, MEAN -inf, MEDIAN -inf\n",
      "On iteration 619, fit quality of MAX -inf, MEAN -inf, MEDIAN -inf\n",
      "On iteration 620, fit quality of MAX -inf, MEAN -inf, MEDIAN -inf\n",
      "On iteration 621, fit quality of MAX -inf, MEAN -inf, MEDIAN -inf\n",
      "On iteration 622, fit quality of MAX -inf, MEAN -inf, MEDIAN -inf\n",
      "On iteration 623, fit quality of MAX -inf, MEAN -inf, MEDIAN -inf\n",
      "On iteration 624, fit quality of MAX -inf, MEAN -inf, MEDIAN -inf\n",
      "On iteration 625, fit quality of MAX -inf, MEAN -inf, MEDIAN -inf\n",
      "On iteration 626, fit quality of MAX -inf, MEAN -inf, MEDIAN -inf\n",
      "On iteration 627, fit quality of MAX -inf, MEAN -inf, MEDIAN -inf\n",
      "On iteration 628, fit quality of MAX -inf, MEAN -inf, MEDIAN -inf\n",
      "On iteration 629, fit quality of MAX -inf, MEAN -inf, MEDIAN -inf\n",
      "On iteration 630, fit quality of MAX -inf, MEAN -inf, MEDIAN -inf\n",
      "On iteration 631, fit quality of MAX -inf, MEAN -inf, MEDIAN -inf\n",
      "On iteration 632, fit quality of MAX -inf, MEAN -inf, MEDIAN -inf\n",
      "On iteration 633, fit quality of MAX -inf, MEAN -inf, MEDIAN -inf\n",
      "On iteration 634, fit quality of MAX -inf, MEAN -inf, MEDIAN -inf\n",
      "On iteration 635, fit quality of MAX -inf, MEAN -inf, MEDIAN -inf\n",
      "On iteration 636, fit quality of MAX -inf, MEAN -inf, MEDIAN -inf\n",
      "On iteration 637, fit quality of MAX -inf, MEAN -inf, MEDIAN -inf\n",
      "On iteration 638, fit quality of MAX -inf, MEAN -inf, MEDIAN -inf\n",
      "On iteration 639, fit quality of MAX -inf, MEAN -inf, MEDIAN -inf\n",
      "On iteration 640, fit quality of MAX -inf, MEAN -inf, MEDIAN -inf\n",
      "On iteration 641, fit quality of MAX -inf, MEAN -inf, MEDIAN -inf\n",
      "On iteration 642, fit quality of MAX -inf, MEAN -inf, MEDIAN -inf\n",
      "On iteration 643, fit quality of MAX -inf, MEAN -inf, MEDIAN -inf\n",
      "On iteration 644, fit quality of MAX -inf, MEAN -inf, MEDIAN -inf\n",
      "On iteration 645, fit quality of MAX -inf, MEAN -inf, MEDIAN -inf\n",
      "On iteration 646, fit quality of MAX -inf, MEAN -inf, MEDIAN -inf\n",
      "On iteration 647, fit quality of MAX -inf, MEAN -inf, MEDIAN -inf\n",
      "On iteration 648, fit quality of MAX -inf, MEAN -inf, MEDIAN -inf\n",
      "On iteration 649, fit quality of MAX -inf, MEAN -inf, MEDIAN -inf\n",
      "On iteration 650, fit quality of MAX -inf, MEAN -inf, MEDIAN -inf\n",
      "On iteration 651, fit quality of MAX -inf, MEAN -inf, MEDIAN -inf\n",
      "On iteration 652, fit quality of MAX -inf, MEAN -inf, MEDIAN -inf\n",
      "On iteration 653, fit quality of MAX -inf, MEAN -inf, MEDIAN -inf\n",
      "On iteration 654, fit quality of MAX -inf, MEAN -inf, MEDIAN -inf\n",
      "On iteration 655, fit quality of MAX -inf, MEAN -inf, MEDIAN -inf\n",
      "On iteration 656, fit quality of MAX -inf, MEAN -inf, MEDIAN -inf\n",
      "On iteration 657, fit quality of MAX -inf, MEAN -inf, MEDIAN -inf\n",
      "On iteration 658, fit quality of MAX -inf, MEAN -inf, MEDIAN -inf\n",
      "On iteration 659, fit quality of MAX -inf, MEAN -inf, MEDIAN -inf\n",
      "On iteration 660, fit quality of MAX -inf, MEAN -inf, MEDIAN -inf\n",
      "On iteration 661, fit quality of MAX -inf, MEAN -inf, MEDIAN -inf\n",
      "On iteration 662, fit quality of MAX -inf, MEAN -inf, MEDIAN -inf\n",
      "On iteration 663, fit quality of MAX -inf, MEAN -inf, MEDIAN -inf\n",
      "On iteration 664, fit quality of MAX -inf, MEAN -inf, MEDIAN -inf\n",
      "On iteration 665, fit quality of MAX -inf, MEAN -inf, MEDIAN -inf\n",
      "On iteration 666, fit quality of MAX -inf, MEAN -inf, MEDIAN -inf\n",
      "On iteration 667, fit quality of MAX -inf, MEAN -inf, MEDIAN -inf\n",
      "On iteration 668, fit quality of MAX -inf, MEAN -inf, MEDIAN -inf\n",
      "On iteration 669, fit quality of MAX -inf, MEAN -inf, MEDIAN -inf\n",
      "On iteration 670, fit quality of MAX -inf, MEAN -inf, MEDIAN -inf\n",
      "On iteration 671, fit quality of MAX -inf, MEAN -inf, MEDIAN -inf\n",
      "On iteration 672, fit quality of MAX -inf, MEAN -inf, MEDIAN -inf\n",
      "On iteration 673, fit quality of MAX -inf, MEAN -inf, MEDIAN -inf\n",
      "On iteration 674, fit quality of MAX -inf, MEAN -inf, MEDIAN -inf\n",
      "On iteration 675, fit quality of MAX -inf, MEAN -inf, MEDIAN -inf\n",
      "On iteration 676, fit quality of MAX -inf, MEAN -inf, MEDIAN -inf\n",
      "On iteration 677, fit quality of MAX -inf, MEAN -inf, MEDIAN -inf\n",
      "On iteration 678, fit quality of MAX -inf, MEAN -inf, MEDIAN -inf\n",
      "On iteration 679, fit quality of MAX -inf, MEAN -inf, MEDIAN -inf\n",
      "On iteration 680, fit quality of MAX -inf, MEAN -inf, MEDIAN -inf\n",
      "On iteration 681, fit quality of MAX -inf, MEAN -inf, MEDIAN -inf\n",
      "On iteration 682, fit quality of MAX -inf, MEAN -inf, MEDIAN -inf\n",
      "On iteration 683, fit quality of MAX -inf, MEAN -inf, MEDIAN -inf\n",
      "On iteration 684, fit quality of MAX -inf, MEAN -inf, MEDIAN -inf\n",
      "On iteration 685, fit quality of MAX -inf, MEAN -inf, MEDIAN -inf\n",
      "On iteration 686, fit quality of MAX -inf, MEAN -inf, MEDIAN -inf\n",
      "On iteration 687, fit quality of MAX -inf, MEAN -inf, MEDIAN -inf\n",
      "On iteration 688, fit quality of MAX -inf, MEAN -inf, MEDIAN -inf\n",
      "On iteration 689, fit quality of MAX -inf, MEAN -inf, MEDIAN -inf\n",
      "On iteration 690, fit quality of MAX -inf, MEAN -inf, MEDIAN -inf\n",
      "On iteration 691, fit quality of MAX -inf, MEAN -inf, MEDIAN -inf\n",
      "On iteration 692, fit quality of MAX -inf, MEAN -inf, MEDIAN -inf\n",
      "On iteration 693, fit quality of MAX -inf, MEAN -inf, MEDIAN -inf\n",
      "On iteration 694, fit quality of MAX -inf, MEAN -inf, MEDIAN -inf\n",
      "On iteration 695, fit quality of MAX -inf, MEAN -inf, MEDIAN -inf\n",
      "On iteration 696, fit quality of MAX -inf, MEAN -inf, MEDIAN -inf\n",
      "On iteration 697, fit quality of MAX -inf, MEAN -inf, MEDIAN -inf\n",
      "On iteration 698, fit quality of MAX -inf, MEAN -inf, MEDIAN -inf\n",
      "On iteration 699, fit quality of MAX -inf, MEAN -inf, MEDIAN -inf\n",
      "On iteration 700, fit quality of MAX -inf, MEAN -inf, MEDIAN -inf\n",
      "On iteration 701, fit quality of MAX -inf, MEAN -inf, MEDIAN -inf\n",
      "On iteration 702, fit quality of MAX -inf, MEAN -inf, MEDIAN -inf\n",
      "On iteration 703, fit quality of MAX -inf, MEAN -inf, MEDIAN -inf\n",
      "On iteration 704, fit quality of MAX -inf, MEAN -inf, MEDIAN -inf\n",
      "On iteration 705, fit quality of MAX -inf, MEAN -inf, MEDIAN -inf\n",
      "On iteration 706, fit quality of MAX -inf, MEAN -inf, MEDIAN -inf\n",
      "On iteration 707, fit quality of MAX -inf, MEAN -inf, MEDIAN -inf\n",
      "On iteration 708, fit quality of MAX -inf, MEAN -inf, MEDIAN -inf\n",
      "On iteration 709, fit quality of MAX -inf, MEAN -inf, MEDIAN -inf\n",
      "On iteration 710, fit quality of MAX -inf, MEAN -inf, MEDIAN -inf\n",
      "On iteration 711, fit quality of MAX -inf, MEAN -inf, MEDIAN -inf\n",
      "On iteration 712, fit quality of MAX -inf, MEAN -inf, MEDIAN -inf\n",
      "On iteration 713, fit quality of MAX -inf, MEAN -inf, MEDIAN -inf\n",
      "On iteration 714, fit quality of MAX -inf, MEAN -inf, MEDIAN -inf\n",
      "On iteration 715, fit quality of MAX -inf, MEAN -inf, MEDIAN -inf\n",
      "On iteration 716, fit quality of MAX -inf, MEAN -inf, MEDIAN -inf\n",
      "On iteration 717, fit quality of MAX -inf, MEAN -inf, MEDIAN -inf\n",
      "On iteration 718, fit quality of MAX -inf, MEAN -inf, MEDIAN -inf\n",
      "On iteration 719, fit quality of MAX -inf, MEAN -inf, MEDIAN -inf\n",
      "On iteration 720, fit quality of MAX -inf, MEAN -inf, MEDIAN -inf\n",
      "On iteration 721, fit quality of MAX -inf, MEAN -inf, MEDIAN -inf\n",
      "On iteration 722, fit quality of MAX -inf, MEAN -inf, MEDIAN -inf\n",
      "On iteration 723, fit quality of MAX -inf, MEAN -inf, MEDIAN -inf\n",
      "On iteration 724, fit quality of MAX -inf, MEAN -inf, MEDIAN -inf\n",
      "On iteration 725, fit quality of MAX -inf, MEAN -inf, MEDIAN -inf\n",
      "On iteration 726, fit quality of MAX -inf, MEAN -inf, MEDIAN -inf\n",
      "On iteration 727, fit quality of MAX -inf, MEAN -inf, MEDIAN -inf\n",
      "On iteration 728, fit quality of MAX -inf, MEAN -inf, MEDIAN -inf\n",
      "On iteration 729, fit quality of MAX -inf, MEAN -inf, MEDIAN -inf\n",
      "On iteration 730, fit quality of MAX -inf, MEAN -inf, MEDIAN -inf\n",
      "On iteration 731, fit quality of MAX -inf, MEAN -inf, MEDIAN -inf\n",
      "On iteration 732, fit quality of MAX -inf, MEAN -inf, MEDIAN -inf\n",
      "On iteration 733, fit quality of MAX -inf, MEAN -inf, MEDIAN -inf\n",
      "On iteration 734, fit quality of MAX -inf, MEAN -inf, MEDIAN -inf\n",
      "On iteration 735, fit quality of MAX -inf, MEAN -inf, MEDIAN -inf\n",
      "On iteration 736, fit quality of MAX -inf, MEAN -inf, MEDIAN -inf\n",
      "On iteration 737, fit quality of MAX -inf, MEAN -inf, MEDIAN -inf\n",
      "On iteration 738, fit quality of MAX -inf, MEAN -inf, MEDIAN -inf\n",
      "On iteration 739, fit quality of MAX -inf, MEAN -inf, MEDIAN -inf\n",
      "On iteration 740, fit quality of MAX -inf, MEAN -inf, MEDIAN -inf\n",
      "On iteration 741, fit quality of MAX -inf, MEAN -inf, MEDIAN -inf\n",
      "On iteration 742, fit quality of MAX -inf, MEAN -inf, MEDIAN -inf\n",
      "On iteration 743, fit quality of MAX -inf, MEAN -inf, MEDIAN -inf\n",
      "On iteration 744, fit quality of MAX -inf, MEAN -inf, MEDIAN -inf\n",
      "On iteration 745, fit quality of MAX -inf, MEAN -inf, MEDIAN -inf\n",
      "On iteration 746, fit quality of MAX -inf, MEAN -inf, MEDIAN -inf\n",
      "On iteration 747, fit quality of MAX -inf, MEAN -inf, MEDIAN -inf\n",
      "On iteration 748, fit quality of MAX -inf, MEAN -inf, MEDIAN -inf\n",
      "On iteration 749, fit quality of MAX -inf, MEAN -inf, MEDIAN -inf\n",
      "On iteration 750, fit quality of MAX -inf, MEAN -inf, MEDIAN -inf\n",
      "On iteration 751, fit quality of MAX -inf, MEAN -inf, MEDIAN -inf\n",
      "On iteration 752, fit quality of MAX -inf, MEAN -inf, MEDIAN -inf\n",
      "On iteration 753, fit quality of MAX -inf, MEAN -inf, MEDIAN -inf\n",
      "On iteration 754, fit quality of MAX -inf, MEAN -inf, MEDIAN -inf\n",
      "On iteration 755, fit quality of MAX -inf, MEAN -inf, MEDIAN -inf\n",
      "On iteration 756, fit quality of MAX -inf, MEAN -inf, MEDIAN -inf\n",
      "On iteration 757, fit quality of MAX -inf, MEAN -inf, MEDIAN -inf\n",
      "On iteration 758, fit quality of MAX -inf, MEAN -inf, MEDIAN -inf\n",
      "On iteration 759, fit quality of MAX -inf, MEAN -inf, MEDIAN -inf\n",
      "On iteration 760, fit quality of MAX -inf, MEAN -inf, MEDIAN -inf\n",
      "On iteration 761, fit quality of MAX -inf, MEAN -inf, MEDIAN -inf\n",
      "On iteration 762, fit quality of MAX -inf, MEAN -inf, MEDIAN -inf\n",
      "On iteration 763, fit quality of MAX -inf, MEAN -inf, MEDIAN -inf\n",
      "On iteration 764, fit quality of MAX -inf, MEAN -inf, MEDIAN -inf\n",
      "On iteration 765, fit quality of MAX -inf, MEAN -inf, MEDIAN -inf\n",
      "On iteration 766, fit quality of MAX -inf, MEAN -inf, MEDIAN -inf\n",
      "On iteration 767, fit quality of MAX -inf, MEAN -inf, MEDIAN -inf\n",
      "On iteration 768, fit quality of MAX -inf, MEAN -inf, MEDIAN -inf\n",
      "On iteration 769, fit quality of MAX -inf, MEAN -inf, MEDIAN -inf\n",
      "On iteration 770, fit quality of MAX -inf, MEAN -inf, MEDIAN -inf\n",
      "On iteration 771, fit quality of MAX -inf, MEAN -inf, MEDIAN -inf\n",
      "On iteration 772, fit quality of MAX -inf, MEAN -inf, MEDIAN -inf\n",
      "On iteration 773, fit quality of MAX -inf, MEAN -inf, MEDIAN -inf\n",
      "On iteration 774, fit quality of MAX -inf, MEAN -inf, MEDIAN -inf\n",
      "On iteration 775, fit quality of MAX -inf, MEAN -inf, MEDIAN -inf\n",
      "On iteration 776, fit quality of MAX -inf, MEAN -inf, MEDIAN -inf\n",
      "On iteration 777, fit quality of MAX -inf, MEAN -inf, MEDIAN -inf\n",
      "On iteration 778, fit quality of MAX -inf, MEAN -inf, MEDIAN -inf\n",
      "On iteration 779, fit quality of MAX -inf, MEAN -inf, MEDIAN -inf\n",
      "On iteration 780, fit quality of MAX -inf, MEAN -inf, MEDIAN -inf\n",
      "On iteration 781, fit quality of MAX -inf, MEAN -inf, MEDIAN -inf\n",
      "On iteration 782, fit quality of MAX -inf, MEAN -inf, MEDIAN -inf\n",
      "On iteration 783, fit quality of MAX -inf, MEAN -inf, MEDIAN -inf\n",
      "On iteration 784, fit quality of MAX -inf, MEAN -inf, MEDIAN -inf\n",
      "On iteration 785, fit quality of MAX -inf, MEAN -inf, MEDIAN -inf\n",
      "On iteration 786, fit quality of MAX -inf, MEAN -inf, MEDIAN -inf\n",
      "On iteration 787, fit quality of MAX -inf, MEAN -inf, MEDIAN -inf\n",
      "On iteration 788, fit quality of MAX -inf, MEAN -inf, MEDIAN -inf\n",
      "On iteration 789, fit quality of MAX -inf, MEAN -inf, MEDIAN -inf\n",
      "On iteration 790, fit quality of MAX -inf, MEAN -inf, MEDIAN -inf\n",
      "On iteration 791, fit quality of MAX -inf, MEAN -inf, MEDIAN -inf\n",
      "On iteration 792, fit quality of MAX -inf, MEAN -inf, MEDIAN -inf\n",
      "On iteration 793, fit quality of MAX -inf, MEAN -inf, MEDIAN -inf\n",
      "On iteration 794, fit quality of MAX -inf, MEAN -inf, MEDIAN -inf\n",
      "On iteration 795, fit quality of MAX -inf, MEAN -inf, MEDIAN -inf\n",
      "On iteration 796, fit quality of MAX -inf, MEAN -inf, MEDIAN -inf\n",
      "On iteration 797, fit quality of MAX -inf, MEAN -inf, MEDIAN -inf\n",
      "On iteration 798, fit quality of MAX -inf, MEAN -inf, MEDIAN -inf\n",
      "On iteration 799, fit quality of MAX -inf, MEAN -inf, MEDIAN -inf\n",
      "On iteration 800, fit quality of MAX -inf, MEAN -inf, MEDIAN -inf\n",
      "On iteration 801, fit quality of MAX -inf, MEAN -inf, MEDIAN -inf\n",
      "On iteration 802, fit quality of MAX -inf, MEAN -inf, MEDIAN -inf\n",
      "On iteration 803, fit quality of MAX -inf, MEAN -inf, MEDIAN -inf\n",
      "On iteration 804, fit quality of MAX -inf, MEAN -inf, MEDIAN -inf\n",
      "On iteration 805, fit quality of MAX -inf, MEAN -inf, MEDIAN -inf\n",
      "On iteration 806, fit quality of MAX -inf, MEAN -inf, MEDIAN -inf\n",
      "On iteration 807, fit quality of MAX -inf, MEAN -inf, MEDIAN -inf\n",
      "On iteration 808, fit quality of MAX -inf, MEAN -inf, MEDIAN -inf\n",
      "On iteration 809, fit quality of MAX -inf, MEAN -inf, MEDIAN -inf\n",
      "On iteration 810, fit quality of MAX -inf, MEAN -inf, MEDIAN -inf\n",
      "On iteration 811, fit quality of MAX -inf, MEAN -inf, MEDIAN -inf\n",
      "On iteration 812, fit quality of MAX -inf, MEAN -inf, MEDIAN -inf\n",
      "On iteration 813, fit quality of MAX -inf, MEAN -inf, MEDIAN -inf\n",
      "On iteration 814, fit quality of MAX -inf, MEAN -inf, MEDIAN -inf\n",
      "On iteration 815, fit quality of MAX -inf, MEAN -inf, MEDIAN -inf\n",
      "On iteration 816, fit quality of MAX -inf, MEAN -inf, MEDIAN -inf\n",
      "On iteration 817, fit quality of MAX -inf, MEAN -inf, MEDIAN -inf\n",
      "On iteration 818, fit quality of MAX -inf, MEAN -inf, MEDIAN -inf\n",
      "On iteration 819, fit quality of MAX -inf, MEAN -inf, MEDIAN -inf\n",
      "On iteration 820, fit quality of MAX -inf, MEAN -inf, MEDIAN -inf\n",
      "On iteration 821, fit quality of MAX -inf, MEAN -inf, MEDIAN -inf\n",
      "On iteration 822, fit quality of MAX -inf, MEAN -inf, MEDIAN -inf\n",
      "On iteration 823, fit quality of MAX -inf, MEAN -inf, MEDIAN -inf\n",
      "On iteration 824, fit quality of MAX -inf, MEAN -inf, MEDIAN -inf\n",
      "On iteration 825, fit quality of MAX -inf, MEAN -inf, MEDIAN -inf\n",
      "On iteration 826, fit quality of MAX -inf, MEAN -inf, MEDIAN -inf\n",
      "On iteration 827, fit quality of MAX -inf, MEAN -inf, MEDIAN -inf\n",
      "On iteration 828, fit quality of MAX -inf, MEAN -inf, MEDIAN -inf\n",
      "On iteration 829, fit quality of MAX -inf, MEAN -inf, MEDIAN -inf\n",
      "On iteration 830, fit quality of MAX -inf, MEAN -inf, MEDIAN -inf\n",
      "On iteration 831, fit quality of MAX -inf, MEAN -inf, MEDIAN -inf\n",
      "On iteration 832, fit quality of MAX -inf, MEAN -inf, MEDIAN -inf\n",
      "On iteration 833, fit quality of MAX -inf, MEAN -inf, MEDIAN -inf\n",
      "On iteration 834, fit quality of MAX -inf, MEAN -inf, MEDIAN -inf\n",
      "On iteration 835, fit quality of MAX -inf, MEAN -inf, MEDIAN -inf\n",
      "On iteration 836, fit quality of MAX -inf, MEAN -inf, MEDIAN -inf\n",
      "On iteration 837, fit quality of MAX -inf, MEAN -inf, MEDIAN -inf\n",
      "On iteration 838, fit quality of MAX -inf, MEAN -inf, MEDIAN -inf\n",
      "On iteration 839, fit quality of MAX -inf, MEAN -inf, MEDIAN -inf\n",
      "On iteration 840, fit quality of MAX -inf, MEAN -inf, MEDIAN -inf\n",
      "On iteration 841, fit quality of MAX -inf, MEAN -inf, MEDIAN -inf\n",
      "On iteration 842, fit quality of MAX -inf, MEAN -inf, MEDIAN -inf\n",
      "On iteration 843, fit quality of MAX -inf, MEAN -inf, MEDIAN -inf\n",
      "On iteration 844, fit quality of MAX -inf, MEAN -inf, MEDIAN -inf\n",
      "On iteration 845, fit quality of MAX -inf, MEAN -inf, MEDIAN -inf\n",
      "On iteration 846, fit quality of MAX -inf, MEAN -inf, MEDIAN -inf\n",
      "On iteration 847, fit quality of MAX -inf, MEAN -inf, MEDIAN -inf\n",
      "On iteration 848, fit quality of MAX -inf, MEAN -inf, MEDIAN -inf\n",
      "On iteration 849, fit quality of MAX -inf, MEAN -inf, MEDIAN -inf\n",
      "On iteration 850, fit quality of MAX -inf, MEAN -inf, MEDIAN -inf\n",
      "On iteration 851, fit quality of MAX -inf, MEAN -inf, MEDIAN -inf\n",
      "On iteration 852, fit quality of MAX -inf, MEAN -inf, MEDIAN -inf\n",
      "On iteration 853, fit quality of MAX -inf, MEAN -inf, MEDIAN -inf\n",
      "On iteration 854, fit quality of MAX -inf, MEAN -inf, MEDIAN -inf\n",
      "On iteration 855, fit quality of MAX -inf, MEAN -inf, MEDIAN -inf\n",
      "On iteration 856, fit quality of MAX -inf, MEAN -inf, MEDIAN -inf\n",
      "On iteration 857, fit quality of MAX -inf, MEAN -inf, MEDIAN -inf\n",
      "On iteration 858, fit quality of MAX -inf, MEAN -inf, MEDIAN -inf\n",
      "On iteration 859, fit quality of MAX -inf, MEAN -inf, MEDIAN -inf\n",
      "On iteration 860, fit quality of MAX -inf, MEAN -inf, MEDIAN -inf\n",
      "On iteration 861, fit quality of MAX -inf, MEAN -inf, MEDIAN -inf\n",
      "On iteration 862, fit quality of MAX -inf, MEAN -inf, MEDIAN -inf\n",
      "On iteration 863, fit quality of MAX -inf, MEAN -inf, MEDIAN -inf\n",
      "On iteration 864, fit quality of MAX -inf, MEAN -inf, MEDIAN -inf\n",
      "On iteration 865, fit quality of MAX -inf, MEAN -inf, MEDIAN -inf\n",
      "On iteration 866, fit quality of MAX -inf, MEAN -inf, MEDIAN -inf\n",
      "On iteration 867, fit quality of MAX -inf, MEAN -inf, MEDIAN -inf\n",
      "On iteration 868, fit quality of MAX -inf, MEAN -inf, MEDIAN -inf\n",
      "On iteration 869, fit quality of MAX -inf, MEAN -inf, MEDIAN -inf\n",
      "On iteration 870, fit quality of MAX -inf, MEAN -inf, MEDIAN -inf\n",
      "On iteration 871, fit quality of MAX -inf, MEAN -inf, MEDIAN -inf\n",
      "On iteration 872, fit quality of MAX -inf, MEAN -inf, MEDIAN -inf\n",
      "On iteration 873, fit quality of MAX -inf, MEAN -inf, MEDIAN -inf\n",
      "On iteration 874, fit quality of MAX -inf, MEAN -inf, MEDIAN -inf\n",
      "On iteration 875, fit quality of MAX -inf, MEAN -inf, MEDIAN -inf\n",
      "On iteration 876, fit quality of MAX -inf, MEAN -inf, MEDIAN -inf\n",
      "On iteration 877, fit quality of MAX -inf, MEAN -inf, MEDIAN -inf\n",
      "On iteration 878, fit quality of MAX -inf, MEAN -inf, MEDIAN -inf\n",
      "On iteration 879, fit quality of MAX -inf, MEAN -inf, MEDIAN -inf\n",
      "On iteration 880, fit quality of MAX -inf, MEAN -inf, MEDIAN -inf\n",
      "On iteration 881, fit quality of MAX -inf, MEAN -inf, MEDIAN -inf\n",
      "On iteration 882, fit quality of MAX -inf, MEAN -inf, MEDIAN -inf\n",
      "On iteration 883, fit quality of MAX -inf, MEAN -inf, MEDIAN -inf\n",
      "On iteration 884, fit quality of MAX -inf, MEAN -inf, MEDIAN -inf\n",
      "On iteration 885, fit quality of MAX -inf, MEAN -inf, MEDIAN -inf\n",
      "On iteration 886, fit quality of MAX -inf, MEAN -inf, MEDIAN -inf\n",
      "On iteration 887, fit quality of MAX -inf, MEAN -inf, MEDIAN -inf\n",
      "On iteration 888, fit quality of MAX -inf, MEAN -inf, MEDIAN -inf\n",
      "On iteration 889, fit quality of MAX -inf, MEAN -inf, MEDIAN -inf\n",
      "On iteration 890, fit quality of MAX -inf, MEAN -inf, MEDIAN -inf\n",
      "On iteration 891, fit quality of MAX -inf, MEAN -inf, MEDIAN -inf\n",
      "On iteration 892, fit quality of MAX -inf, MEAN -inf, MEDIAN -inf\n",
      "On iteration 893, fit quality of MAX -inf, MEAN -inf, MEDIAN -inf\n",
      "On iteration 894, fit quality of MAX -inf, MEAN -inf, MEDIAN -inf\n",
      "On iteration 895, fit quality of MAX -inf, MEAN -inf, MEDIAN -inf\n",
      "On iteration 896, fit quality of MAX -inf, MEAN -inf, MEDIAN -inf\n",
      "On iteration 897, fit quality of MAX -inf, MEAN -inf, MEDIAN -inf\n",
      "On iteration 898, fit quality of MAX -inf, MEAN -inf, MEDIAN -inf\n",
      "On iteration 899, fit quality of MAX -inf, MEAN -inf, MEDIAN -inf\n",
      "On iteration 900, fit quality of MAX -inf, MEAN -inf, MEDIAN -inf\n",
      "On iteration 901, fit quality of MAX -inf, MEAN -inf, MEDIAN -inf\n",
      "On iteration 902, fit quality of MAX -inf, MEAN -inf, MEDIAN -inf\n",
      "On iteration 903, fit quality of MAX -inf, MEAN -inf, MEDIAN -inf\n",
      "On iteration 904, fit quality of MAX -inf, MEAN -inf, MEDIAN -inf\n",
      "On iteration 905, fit quality of MAX -inf, MEAN -inf, MEDIAN -inf\n",
      "On iteration 906, fit quality of MAX -inf, MEAN -inf, MEDIAN -inf\n",
      "On iteration 907, fit quality of MAX -inf, MEAN -inf, MEDIAN -inf\n",
      "On iteration 908, fit quality of MAX -inf, MEAN -inf, MEDIAN -inf\n",
      "On iteration 909, fit quality of MAX -inf, MEAN -inf, MEDIAN -inf\n",
      "On iteration 910, fit quality of MAX -inf, MEAN -inf, MEDIAN -inf\n",
      "On iteration 911, fit quality of MAX -inf, MEAN -inf, MEDIAN -inf\n",
      "On iteration 912, fit quality of MAX -inf, MEAN -inf, MEDIAN -inf\n",
      "On iteration 913, fit quality of MAX -inf, MEAN -inf, MEDIAN -inf\n",
      "On iteration 914, fit quality of MAX -inf, MEAN -inf, MEDIAN -inf\n",
      "On iteration 915, fit quality of MAX -inf, MEAN -inf, MEDIAN -inf\n",
      "On iteration 916, fit quality of MAX -inf, MEAN -inf, MEDIAN -inf\n",
      "On iteration 917, fit quality of MAX -inf, MEAN -inf, MEDIAN -inf\n",
      "On iteration 918, fit quality of MAX -inf, MEAN -inf, MEDIAN -inf\n",
      "On iteration 919, fit quality of MAX -inf, MEAN -inf, MEDIAN -inf\n",
      "On iteration 920, fit quality of MAX -inf, MEAN -inf, MEDIAN -inf\n",
      "On iteration 921, fit quality of MAX -inf, MEAN -inf, MEDIAN -inf\n",
      "On iteration 922, fit quality of MAX -inf, MEAN -inf, MEDIAN -inf\n",
      "On iteration 923, fit quality of MAX -inf, MEAN -inf, MEDIAN -inf\n",
      "On iteration 924, fit quality of MAX -inf, MEAN -inf, MEDIAN -inf\n",
      "On iteration 925, fit quality of MAX -inf, MEAN -inf, MEDIAN -inf\n",
      "On iteration 926, fit quality of MAX -inf, MEAN -inf, MEDIAN -inf\n",
      "On iteration 927, fit quality of MAX -inf, MEAN -inf, MEDIAN -inf\n",
      "On iteration 928, fit quality of MAX -inf, MEAN -inf, MEDIAN -inf\n",
      "On iteration 929, fit quality of MAX -inf, MEAN -inf, MEDIAN -inf\n",
      "On iteration 930, fit quality of MAX -inf, MEAN -inf, MEDIAN -inf\n",
      "On iteration 931, fit quality of MAX -inf, MEAN -inf, MEDIAN -inf\n",
      "On iteration 932, fit quality of MAX -inf, MEAN -inf, MEDIAN -inf\n",
      "On iteration 933, fit quality of MAX -inf, MEAN -inf, MEDIAN -inf\n",
      "On iteration 934, fit quality of MAX -inf, MEAN -inf, MEDIAN -inf\n",
      "On iteration 935, fit quality of MAX -inf, MEAN -inf, MEDIAN -inf\n",
      "On iteration 936, fit quality of MAX -inf, MEAN -inf, MEDIAN -inf\n",
      "On iteration 937, fit quality of MAX -inf, MEAN -inf, MEDIAN -inf\n",
      "On iteration 938, fit quality of MAX -inf, MEAN -inf, MEDIAN -inf\n",
      "On iteration 939, fit quality of MAX -inf, MEAN -inf, MEDIAN -inf\n",
      "On iteration 940, fit quality of MAX -inf, MEAN -inf, MEDIAN -inf\n",
      "On iteration 941, fit quality of MAX -inf, MEAN -inf, MEDIAN -inf\n",
      "On iteration 942, fit quality of MAX -inf, MEAN -inf, MEDIAN -inf\n",
      "On iteration 943, fit quality of MAX -inf, MEAN -inf, MEDIAN -inf\n",
      "On iteration 944, fit quality of MAX -inf, MEAN -inf, MEDIAN -inf\n",
      "On iteration 945, fit quality of MAX -inf, MEAN -inf, MEDIAN -inf\n",
      "On iteration 946, fit quality of MAX -inf, MEAN -inf, MEDIAN -inf\n",
      "On iteration 947, fit quality of MAX -inf, MEAN -inf, MEDIAN -inf\n",
      "On iteration 948, fit quality of MAX -inf, MEAN -inf, MEDIAN -inf\n",
      "On iteration 949, fit quality of MAX -inf, MEAN -inf, MEDIAN -inf\n",
      "On iteration 950, fit quality of MAX -inf, MEAN -inf, MEDIAN -inf\n",
      "On iteration 951, fit quality of MAX -inf, MEAN -inf, MEDIAN -inf\n",
      "On iteration 952, fit quality of MAX -inf, MEAN -inf, MEDIAN -inf\n",
      "On iteration 953, fit quality of MAX -inf, MEAN -inf, MEDIAN -inf\n",
      "On iteration 954, fit quality of MAX -inf, MEAN -inf, MEDIAN -inf\n",
      "On iteration 955, fit quality of MAX -inf, MEAN -inf, MEDIAN -inf\n",
      "On iteration 956, fit quality of MAX -inf, MEAN -inf, MEDIAN -inf\n",
      "On iteration 957, fit quality of MAX -inf, MEAN -inf, MEDIAN -inf\n",
      "On iteration 958, fit quality of MAX -inf, MEAN -inf, MEDIAN -inf\n",
      "On iteration 959, fit quality of MAX -inf, MEAN -inf, MEDIAN -inf\n",
      "On iteration 960, fit quality of MAX -inf, MEAN -inf, MEDIAN -inf\n",
      "On iteration 961, fit quality of MAX -inf, MEAN -inf, MEDIAN -inf\n",
      "On iteration 962, fit quality of MAX -inf, MEAN -inf, MEDIAN -inf\n",
      "On iteration 963, fit quality of MAX -inf, MEAN -inf, MEDIAN -inf\n",
      "On iteration 964, fit quality of MAX -inf, MEAN -inf, MEDIAN -inf\n",
      "On iteration 965, fit quality of MAX -inf, MEAN -inf, MEDIAN -inf\n",
      "On iteration 966, fit quality of MAX -inf, MEAN -inf, MEDIAN -inf\n",
      "On iteration 967, fit quality of MAX -inf, MEAN -inf, MEDIAN -inf\n",
      "On iteration 968, fit quality of MAX -inf, MEAN -inf, MEDIAN -inf\n",
      "On iteration 969, fit quality of MAX -inf, MEAN -inf, MEDIAN -inf\n",
      "On iteration 970, fit quality of MAX -inf, MEAN -inf, MEDIAN -inf\n",
      "On iteration 971, fit quality of MAX -inf, MEAN -inf, MEDIAN -inf\n",
      "On iteration 972, fit quality of MAX -inf, MEAN -inf, MEDIAN -inf\n",
      "On iteration 973, fit quality of MAX -inf, MEAN -inf, MEDIAN -inf\n",
      "On iteration 974, fit quality of MAX -inf, MEAN -inf, MEDIAN -inf\n",
      "On iteration 975, fit quality of MAX -inf, MEAN -inf, MEDIAN -inf\n",
      "On iteration 976, fit quality of MAX -inf, MEAN -inf, MEDIAN -inf\n",
      "On iteration 977, fit quality of MAX -inf, MEAN -inf, MEDIAN -inf\n",
      "On iteration 978, fit quality of MAX -inf, MEAN -inf, MEDIAN -inf\n",
      "On iteration 979, fit quality of MAX -inf, MEAN -inf, MEDIAN -inf\n",
      "On iteration 980, fit quality of MAX -inf, MEAN -inf, MEDIAN -inf\n",
      "On iteration 981, fit quality of MAX -inf, MEAN -inf, MEDIAN -inf\n",
      "On iteration 982, fit quality of MAX -inf, MEAN -inf, MEDIAN -inf\n",
      "On iteration 983, fit quality of MAX -inf, MEAN -inf, MEDIAN -inf\n",
      "On iteration 984, fit quality of MAX -inf, MEAN -inf, MEDIAN -inf\n",
      "On iteration 985, fit quality of MAX -inf, MEAN -inf, MEDIAN -inf\n",
      "On iteration 986, fit quality of MAX -inf, MEAN -inf, MEDIAN -inf\n",
      "On iteration 987, fit quality of MAX -inf, MEAN -inf, MEDIAN -inf\n",
      "On iteration 988, fit quality of MAX -inf, MEAN -inf, MEDIAN -inf\n",
      "On iteration 989, fit quality of MAX -inf, MEAN -inf, MEDIAN -inf\n",
      "On iteration 990, fit quality of MAX -inf, MEAN -inf, MEDIAN -inf\n",
      "On iteration 991, fit quality of MAX -inf, MEAN -inf, MEDIAN -inf\n",
      "On iteration 992, fit quality of MAX -inf, MEAN -inf, MEDIAN -inf\n",
      "On iteration 993, fit quality of MAX -inf, MEAN -inf, MEDIAN -inf\n",
      "On iteration 994, fit quality of MAX -inf, MEAN -inf, MEDIAN -inf\n",
      "On iteration 995, fit quality of MAX -inf, MEAN -inf, MEDIAN -inf\n",
      "On iteration 996, fit quality of MAX -inf, MEAN -inf, MEDIAN -inf\n",
      "On iteration 997, fit quality of MAX -inf, MEAN -inf, MEDIAN -inf\n",
      "On iteration 998, fit quality of MAX -inf, MEAN -inf, MEDIAN -inf\n",
      "On iteration 999, fit quality of MAX -inf, MEAN -inf, MEDIAN -inf\n",
      "On iteration 1000, fit quality of MAX -inf, MEAN -inf, MEDIAN -inf\n",
      "On iteration 1001, fit quality of MAX -inf, MEAN -inf, MEDIAN -inf\n",
      "On iteration 1002, fit quality of MAX -inf, MEAN -inf, MEDIAN -inf\n",
      "On iteration 1003, fit quality of MAX -inf, MEAN -inf, MEDIAN -inf\n",
      "On iteration 1004, fit quality of MAX -inf, MEAN -inf, MEDIAN -inf\n",
      "On iteration 1005, fit quality of MAX -inf, MEAN -inf, MEDIAN -inf\n",
      "On iteration 1006, fit quality of MAX -inf, MEAN -inf, MEDIAN -inf\n",
      "On iteration 1007, fit quality of MAX -inf, MEAN -inf, MEDIAN -inf\n",
      "On iteration 1008, fit quality of MAX -inf, MEAN -inf, MEDIAN -inf\n",
      "On iteration 1009, fit quality of MAX -inf, MEAN -inf, MEDIAN -inf\n",
      "On iteration 1010, fit quality of MAX -inf, MEAN -inf, MEDIAN -inf\n",
      "On iteration 1011, fit quality of MAX -inf, MEAN -inf, MEDIAN -inf\n",
      "On iteration 1012, fit quality of MAX -inf, MEAN -inf, MEDIAN -inf\n",
      "On iteration 1013, fit quality of MAX -inf, MEAN -inf, MEDIAN -inf\n",
      "On iteration 1014, fit quality of MAX -inf, MEAN -inf, MEDIAN -inf\n",
      "On iteration 1015, fit quality of MAX -inf, MEAN -inf, MEDIAN -inf\n",
      "On iteration 1016, fit quality of MAX -inf, MEAN -inf, MEDIAN -inf\n",
      "On iteration 1017, fit quality of MAX -inf, MEAN -inf, MEDIAN -inf\n",
      "On iteration 1018, fit quality of MAX -inf, MEAN -inf, MEDIAN -inf\n",
      "On iteration 1019, fit quality of MAX -inf, MEAN -inf, MEDIAN -inf\n",
      "On iteration 1020, fit quality of MAX -inf, MEAN -inf, MEDIAN -inf\n",
      "On iteration 1021, fit quality of MAX -inf, MEAN -inf, MEDIAN -inf\n",
      "On iteration 1022, fit quality of MAX -inf, MEAN -inf, MEDIAN -inf\n",
      "On iteration 1023, fit quality of MAX -inf, MEAN -inf, MEDIAN -inf\n",
      "On iteration 1024, fit quality of MAX -inf, MEAN -inf, MEDIAN -inf\n",
      "On iteration 1025, fit quality of MAX -inf, MEAN -inf, MEDIAN -inf\n",
      "On iteration 1026, fit quality of MAX -inf, MEAN -inf, MEDIAN -inf\n",
      "On iteration 1027, fit quality of MAX -inf, MEAN -inf, MEDIAN -inf\n",
      "On iteration 1028, fit quality of MAX -inf, MEAN -inf, MEDIAN -inf\n",
      "On iteration 1029, fit quality of MAX -inf, MEAN -inf, MEDIAN -inf\n",
      "On iteration 1030, fit quality of MAX -inf, MEAN -inf, MEDIAN -inf\n",
      "On iteration 1031, fit quality of MAX -inf, MEAN -inf, MEDIAN -inf\n",
      "On iteration 1032, fit quality of MAX -inf, MEAN -inf, MEDIAN -inf\n",
      "On iteration 1033, fit quality of MAX -inf, MEAN -inf, MEDIAN -inf\n",
      "On iteration 1034, fit quality of MAX -inf, MEAN -inf, MEDIAN -inf\n",
      "On iteration 1035, fit quality of MAX -inf, MEAN -inf, MEDIAN -inf\n",
      "On iteration 1036, fit quality of MAX -inf, MEAN -inf, MEDIAN -inf\n",
      "On iteration 1037, fit quality of MAX -inf, MEAN -inf, MEDIAN -inf\n",
      "On iteration 1038, fit quality of MAX -inf, MEAN -inf, MEDIAN -inf\n",
      "On iteration 1039, fit quality of MAX -inf, MEAN -inf, MEDIAN -inf\n",
      "On iteration 1040, fit quality of MAX -inf, MEAN -inf, MEDIAN -inf\n",
      "On iteration 1041, fit quality of MAX -inf, MEAN -inf, MEDIAN -inf\n",
      "On iteration 1042, fit quality of MAX -inf, MEAN -inf, MEDIAN -inf\n",
      "On iteration 1043, fit quality of MAX -inf, MEAN -inf, MEDIAN -inf\n",
      "On iteration 1044, fit quality of MAX -inf, MEAN -inf, MEDIAN -inf\n",
      "On iteration 1045, fit quality of MAX -inf, MEAN -inf, MEDIAN -inf\n",
      "On iteration 1046, fit quality of MAX -inf, MEAN -inf, MEDIAN -inf\n",
      "On iteration 1047, fit quality of MAX -inf, MEAN -inf, MEDIAN -inf\n",
      "On iteration 1048, fit quality of MAX -inf, MEAN -inf, MEDIAN -inf\n",
      "On iteration 1049, fit quality of MAX -inf, MEAN -inf, MEDIAN -inf\n",
      "On iteration 1050, fit quality of MAX -inf, MEAN -inf, MEDIAN -inf\n",
      "On iteration 1051, fit quality of MAX -inf, MEAN -inf, MEDIAN -inf\n",
      "On iteration 1052, fit quality of MAX -inf, MEAN -inf, MEDIAN -inf\n",
      "On iteration 1053, fit quality of MAX -inf, MEAN -inf, MEDIAN -inf\n",
      "On iteration 1054, fit quality of MAX -inf, MEAN -inf, MEDIAN -inf\n",
      "On iteration 1055, fit quality of MAX -inf, MEAN -inf, MEDIAN -inf\n",
      "On iteration 1056, fit quality of MAX -inf, MEAN -inf, MEDIAN -inf\n",
      "On iteration 1057, fit quality of MAX -inf, MEAN -inf, MEDIAN -inf\n",
      "On iteration 1058, fit quality of MAX -inf, MEAN -inf, MEDIAN -inf\n",
      "On iteration 1059, fit quality of MAX -inf, MEAN -inf, MEDIAN -inf\n",
      "On iteration 1060, fit quality of MAX -inf, MEAN -inf, MEDIAN -inf\n",
      "On iteration 1061, fit quality of MAX -inf, MEAN -inf, MEDIAN -inf\n",
      "On iteration 1062, fit quality of MAX -inf, MEAN -inf, MEDIAN -inf\n",
      "On iteration 1063, fit quality of MAX -inf, MEAN -inf, MEDIAN -inf\n",
      "On iteration 1064, fit quality of MAX -inf, MEAN -inf, MEDIAN -inf\n",
      "On iteration 1065, fit quality of MAX -inf, MEAN -inf, MEDIAN -inf\n",
      "On iteration 1066, fit quality of MAX -inf, MEAN -inf, MEDIAN -inf\n",
      "On iteration 1067, fit quality of MAX -inf, MEAN -inf, MEDIAN -inf\n",
      "On iteration 1068, fit quality of MAX -inf, MEAN -inf, MEDIAN -inf\n",
      "On iteration 1069, fit quality of MAX -inf, MEAN -inf, MEDIAN -inf\n",
      "On iteration 1070, fit quality of MAX -inf, MEAN -inf, MEDIAN -inf\n",
      "On iteration 1071, fit quality of MAX -inf, MEAN -inf, MEDIAN -inf\n",
      "On iteration 1072, fit quality of MAX -inf, MEAN -inf, MEDIAN -inf\n",
      "On iteration 1073, fit quality of MAX -inf, MEAN -inf, MEDIAN -inf\n",
      "On iteration 1074, fit quality of MAX -inf, MEAN -inf, MEDIAN -inf\n",
      "On iteration 1075, fit quality of MAX -inf, MEAN -inf, MEDIAN -inf\n",
      "On iteration 1076, fit quality of MAX -inf, MEAN -inf, MEDIAN -inf\n",
      "On iteration 1077, fit quality of MAX -inf, MEAN -inf, MEDIAN -inf\n",
      "On iteration 1078, fit quality of MAX -inf, MEAN -inf, MEDIAN -inf\n",
      "On iteration 1079, fit quality of MAX -inf, MEAN -inf, MEDIAN -inf\n",
      "On iteration 1080, fit quality of MAX -inf, MEAN -inf, MEDIAN -inf\n",
      "On iteration 1081, fit quality of MAX -inf, MEAN -inf, MEDIAN -inf\n",
      "On iteration 1082, fit quality of MAX -inf, MEAN -inf, MEDIAN -inf\n",
      "On iteration 1083, fit quality of MAX -inf, MEAN -inf, MEDIAN -inf\n",
      "On iteration 1084, fit quality of MAX -inf, MEAN -inf, MEDIAN -inf\n",
      "On iteration 1085, fit quality of MAX -inf, MEAN -inf, MEDIAN -inf\n",
      "On iteration 1086, fit quality of MAX -inf, MEAN -inf, MEDIAN -inf\n",
      "On iteration 1087, fit quality of MAX -inf, MEAN -inf, MEDIAN -inf\n",
      "On iteration 1088, fit quality of MAX -inf, MEAN -inf, MEDIAN -inf\n",
      "On iteration 1089, fit quality of MAX -inf, MEAN -inf, MEDIAN -inf\n",
      "On iteration 1090, fit quality of MAX -inf, MEAN -inf, MEDIAN -inf\n",
      "On iteration 1091, fit quality of MAX -inf, MEAN -inf, MEDIAN -inf\n",
      "On iteration 1092, fit quality of MAX -inf, MEAN -inf, MEDIAN -inf\n",
      "On iteration 1093, fit quality of MAX -inf, MEAN -inf, MEDIAN -inf\n",
      "On iteration 1094, fit quality of MAX -inf, MEAN -inf, MEDIAN -inf\n",
      "On iteration 1095, fit quality of MAX -inf, MEAN -inf, MEDIAN -inf\n",
      "On iteration 1096, fit quality of MAX -inf, MEAN -inf, MEDIAN -inf\n",
      "On iteration 1097, fit quality of MAX -inf, MEAN -inf, MEDIAN -inf\n",
      "On iteration 1098, fit quality of MAX -inf, MEAN -inf, MEDIAN -inf\n",
      "On iteration 1099, fit quality of MAX -inf, MEAN -inf, MEDIAN -inf\n",
      "On iteration 1100, fit quality of MAX -inf, MEAN -inf, MEDIAN -inf\n",
      "On iteration 1101, fit quality of MAX -inf, MEAN -inf, MEDIAN -inf\n",
      "On iteration 1102, fit quality of MAX -inf, MEAN -inf, MEDIAN -inf\n",
      "On iteration 1103, fit quality of MAX -inf, MEAN -inf, MEDIAN -inf\n",
      "On iteration 1104, fit quality of MAX -inf, MEAN -inf, MEDIAN -inf\n",
      "On iteration 1105, fit quality of MAX -inf, MEAN -inf, MEDIAN -inf\n",
      "On iteration 1106, fit quality of MAX -inf, MEAN -inf, MEDIAN -inf\n",
      "On iteration 1107, fit quality of MAX -inf, MEAN -inf, MEDIAN -inf\n",
      "On iteration 1108, fit quality of MAX -inf, MEAN -inf, MEDIAN -inf\n",
      "On iteration 1109, fit quality of MAX -inf, MEAN -inf, MEDIAN -inf\n",
      "On iteration 1110, fit quality of MAX -inf, MEAN -inf, MEDIAN -inf\n",
      "On iteration 1111, fit quality of MAX -inf, MEAN -inf, MEDIAN -inf\n",
      "On iteration 1112, fit quality of MAX -inf, MEAN -inf, MEDIAN -inf\n",
      "On iteration 1113, fit quality of MAX -inf, MEAN -inf, MEDIAN -inf\n",
      "On iteration 1114, fit quality of MAX -inf, MEAN -inf, MEDIAN -inf\n",
      "On iteration 1115, fit quality of MAX -inf, MEAN -inf, MEDIAN -inf\n",
      "On iteration 1116, fit quality of MAX -inf, MEAN -inf, MEDIAN -inf\n",
      "On iteration 1117, fit quality of MAX -inf, MEAN -inf, MEDIAN -inf\n",
      "On iteration 1118, fit quality of MAX -inf, MEAN -inf, MEDIAN -inf\n",
      "On iteration 1119, fit quality of MAX -inf, MEAN -inf, MEDIAN -inf\n",
      "On iteration 1120, fit quality of MAX -inf, MEAN -inf, MEDIAN -inf\n",
      "On iteration 1121, fit quality of MAX -inf, MEAN -inf, MEDIAN -inf\n",
      "On iteration 1122, fit quality of MAX -inf, MEAN -inf, MEDIAN -inf\n",
      "On iteration 1123, fit quality of MAX -inf, MEAN -inf, MEDIAN -inf\n",
      "On iteration 1124, fit quality of MAX -inf, MEAN -inf, MEDIAN -inf\n",
      "On iteration 1125, fit quality of MAX -inf, MEAN -inf, MEDIAN -inf\n",
      "On iteration 1126, fit quality of MAX -inf, MEAN -inf, MEDIAN -inf\n",
      "On iteration 1127, fit quality of MAX -inf, MEAN -inf, MEDIAN -inf\n",
      "On iteration 1128, fit quality of MAX -inf, MEAN -inf, MEDIAN -inf\n",
      "On iteration 1129, fit quality of MAX -inf, MEAN -inf, MEDIAN -inf\n",
      "On iteration 1130, fit quality of MAX -inf, MEAN -inf, MEDIAN -inf\n",
      "On iteration 1131, fit quality of MAX -inf, MEAN -inf, MEDIAN -inf\n",
      "On iteration 1132, fit quality of MAX -inf, MEAN -inf, MEDIAN -inf\n",
      "On iteration 1133, fit quality of MAX -inf, MEAN -inf, MEDIAN -inf\n",
      "On iteration 1134, fit quality of MAX -inf, MEAN -inf, MEDIAN -inf\n",
      "On iteration 1135, fit quality of MAX -inf, MEAN -inf, MEDIAN -inf\n",
      "On iteration 1136, fit quality of MAX -inf, MEAN -inf, MEDIAN -inf\n",
      "On iteration 1137, fit quality of MAX -inf, MEAN -inf, MEDIAN -inf\n",
      "On iteration 1138, fit quality of MAX -inf, MEAN -inf, MEDIAN -inf\n",
      "On iteration 1139, fit quality of MAX -inf, MEAN -inf, MEDIAN -inf\n",
      "On iteration 1140, fit quality of MAX -inf, MEAN -inf, MEDIAN -inf\n",
      "On iteration 1141, fit quality of MAX -inf, MEAN -inf, MEDIAN -inf\n",
      "On iteration 1142, fit quality of MAX -inf, MEAN -inf, MEDIAN -inf\n",
      "On iteration 1143, fit quality of MAX -inf, MEAN -inf, MEDIAN -inf\n",
      "On iteration 1144, fit quality of MAX -inf, MEAN -inf, MEDIAN -inf\n",
      "On iteration 1145, fit quality of MAX -inf, MEAN -inf, MEDIAN -inf\n",
      "On iteration 1146, fit quality of MAX -inf, MEAN -inf, MEDIAN -inf\n",
      "On iteration 1147, fit quality of MAX -inf, MEAN -inf, MEDIAN -inf\n",
      "On iteration 1148, fit quality of MAX -inf, MEAN -inf, MEDIAN -inf\n",
      "On iteration 1149, fit quality of MAX -inf, MEAN -inf, MEDIAN -inf\n",
      "On iteration 1150, fit quality of MAX -inf, MEAN -inf, MEDIAN -inf\n",
      "On iteration 1151, fit quality of MAX -inf, MEAN -inf, MEDIAN -inf\n",
      "On iteration 1152, fit quality of MAX -inf, MEAN -inf, MEDIAN -inf\n",
      "On iteration 1153, fit quality of MAX -inf, MEAN -inf, MEDIAN -inf\n",
      "On iteration 1154, fit quality of MAX -inf, MEAN -inf, MEDIAN -inf\n",
      "On iteration 1155, fit quality of MAX -inf, MEAN -inf, MEDIAN -inf\n",
      "On iteration 1156, fit quality of MAX -inf, MEAN -inf, MEDIAN -inf\n",
      "On iteration 1157, fit quality of MAX -inf, MEAN -inf, MEDIAN -inf\n",
      "On iteration 1158, fit quality of MAX -inf, MEAN -inf, MEDIAN -inf\n",
      "On iteration 1159, fit quality of MAX -inf, MEAN -inf, MEDIAN -inf\n",
      "On iteration 1160, fit quality of MAX -inf, MEAN -inf, MEDIAN -inf\n",
      "On iteration 1161, fit quality of MAX -inf, MEAN -inf, MEDIAN -inf\n",
      "On iteration 1162, fit quality of MAX -inf, MEAN -inf, MEDIAN -inf\n",
      "On iteration 1163, fit quality of MAX -inf, MEAN -inf, MEDIAN -inf\n",
      "On iteration 1164, fit quality of MAX -inf, MEAN -inf, MEDIAN -inf\n",
      "On iteration 1165, fit quality of MAX -inf, MEAN -inf, MEDIAN -inf\n",
      "On iteration 1166, fit quality of MAX -inf, MEAN -inf, MEDIAN -inf\n",
      "On iteration 1167, fit quality of MAX -inf, MEAN -inf, MEDIAN -inf\n",
      "On iteration 1168, fit quality of MAX -inf, MEAN -inf, MEDIAN -inf\n",
      "On iteration 1169, fit quality of MAX -inf, MEAN -inf, MEDIAN -inf\n",
      "On iteration 1170, fit quality of MAX -inf, MEAN -inf, MEDIAN -inf\n",
      "On iteration 1171, fit quality of MAX -inf, MEAN -inf, MEDIAN -inf\n",
      "On iteration 1172, fit quality of MAX -inf, MEAN -inf, MEDIAN -inf\n",
      "On iteration 1173, fit quality of MAX -inf, MEAN -inf, MEDIAN -inf\n",
      "On iteration 1174, fit quality of MAX -inf, MEAN -inf, MEDIAN -inf\n",
      "On iteration 1175, fit quality of MAX -inf, MEAN -inf, MEDIAN -inf\n",
      "On iteration 1176, fit quality of MAX -inf, MEAN -inf, MEDIAN -inf\n",
      "On iteration 1177, fit quality of MAX -inf, MEAN -inf, MEDIAN -inf\n",
      "On iteration 1178, fit quality of MAX -inf, MEAN -inf, MEDIAN -inf\n",
      "On iteration 1179, fit quality of MAX -inf, MEAN -inf, MEDIAN -inf\n",
      "On iteration 1180, fit quality of MAX -inf, MEAN -inf, MEDIAN -inf\n",
      "On iteration 1181, fit quality of MAX -inf, MEAN -inf, MEDIAN -inf\n",
      "On iteration 1182, fit quality of MAX -inf, MEAN -inf, MEDIAN -inf\n",
      "On iteration 1183, fit quality of MAX -inf, MEAN -inf, MEDIAN -inf\n",
      "On iteration 1184, fit quality of MAX -inf, MEAN -inf, MEDIAN -inf\n",
      "On iteration 1185, fit quality of MAX -inf, MEAN -inf, MEDIAN -inf\n",
      "On iteration 1186, fit quality of MAX -inf, MEAN -inf, MEDIAN -inf\n",
      "On iteration 1187, fit quality of MAX -inf, MEAN -inf, MEDIAN -inf\n",
      "On iteration 1188, fit quality of MAX -inf, MEAN -inf, MEDIAN -inf\n",
      "On iteration 1189, fit quality of MAX -inf, MEAN -inf, MEDIAN -inf\n",
      "On iteration 1190, fit quality of MAX -inf, MEAN -inf, MEDIAN -inf\n",
      "On iteration 1191, fit quality of MAX -inf, MEAN -inf, MEDIAN -inf\n",
      "On iteration 1192, fit quality of MAX -inf, MEAN -inf, MEDIAN -inf\n",
      "On iteration 1193, fit quality of MAX -inf, MEAN -inf, MEDIAN -inf\n",
      "On iteration 1194, fit quality of MAX -inf, MEAN -inf, MEDIAN -inf\n",
      "On iteration 1195, fit quality of MAX -inf, MEAN -inf, MEDIAN -inf\n",
      "On iteration 1196, fit quality of MAX -inf, MEAN -inf, MEDIAN -inf\n",
      "On iteration 1197, fit quality of MAX -inf, MEAN -inf, MEDIAN -inf\n",
      "On iteration 1198, fit quality of MAX -inf, MEAN -inf, MEDIAN -inf\n",
      "On iteration 1199, fit quality of MAX -inf, MEAN -inf, MEDIAN -inf\n",
      "On iteration 1200, fit quality of MAX -inf, MEAN -inf, MEDIAN -inf\n",
      "On iteration 1201, fit quality of MAX -inf, MEAN -inf, MEDIAN -inf\n",
      "On iteration 1202, fit quality of MAX -inf, MEAN -inf, MEDIAN -inf\n",
      "On iteration 1203, fit quality of MAX -inf, MEAN -inf, MEDIAN -inf\n",
      "On iteration 1204, fit quality of MAX -inf, MEAN -inf, MEDIAN -inf\n",
      "On iteration 1205, fit quality of MAX -inf, MEAN -inf, MEDIAN -inf\n",
      "On iteration 1206, fit quality of MAX -inf, MEAN -inf, MEDIAN -inf\n",
      "On iteration 1207, fit quality of MAX -inf, MEAN -inf, MEDIAN -inf\n",
      "On iteration 1208, fit quality of MAX -inf, MEAN -inf, MEDIAN -inf\n",
      "On iteration 1209, fit quality of MAX -inf, MEAN -inf, MEDIAN -inf\n",
      "On iteration 1210, fit quality of MAX -inf, MEAN -inf, MEDIAN -inf\n",
      "On iteration 1211, fit quality of MAX -inf, MEAN -inf, MEDIAN -inf\n",
      "On iteration 1212, fit quality of MAX -inf, MEAN -inf, MEDIAN -inf\n",
      "On iteration 1213, fit quality of MAX -inf, MEAN -inf, MEDIAN -inf\n",
      "On iteration 1214, fit quality of MAX -inf, MEAN -inf, MEDIAN -inf\n",
      "On iteration 1215, fit quality of MAX -inf, MEAN -inf, MEDIAN -inf\n",
      "On iteration 1216, fit quality of MAX -inf, MEAN -inf, MEDIAN -inf\n",
      "On iteration 1217, fit quality of MAX -inf, MEAN -inf, MEDIAN -inf\n",
      "On iteration 1218, fit quality of MAX -inf, MEAN -inf, MEDIAN -inf\n",
      "On iteration 1219, fit quality of MAX -inf, MEAN -inf, MEDIAN -inf\n",
      "On iteration 1220, fit quality of MAX -inf, MEAN -inf, MEDIAN -inf\n",
      "On iteration 1221, fit quality of MAX -inf, MEAN -inf, MEDIAN -inf\n",
      "On iteration 1222, fit quality of MAX -inf, MEAN -inf, MEDIAN -inf\n",
      "On iteration 1223, fit quality of MAX -inf, MEAN -inf, MEDIAN -inf\n",
      "On iteration 1224, fit quality of MAX -inf, MEAN -inf, MEDIAN -inf\n",
      "On iteration 1225, fit quality of MAX -inf, MEAN -inf, MEDIAN -inf\n",
      "On iteration 1226, fit quality of MAX -inf, MEAN -inf, MEDIAN -inf\n",
      "On iteration 1227, fit quality of MAX -inf, MEAN -inf, MEDIAN -inf\n",
      "On iteration 1228, fit quality of MAX -inf, MEAN -inf, MEDIAN -inf\n",
      "On iteration 1229, fit quality of MAX -inf, MEAN -inf, MEDIAN -inf\n",
      "On iteration 1230, fit quality of MAX -inf, MEAN -inf, MEDIAN -inf\n",
      "On iteration 1231, fit quality of MAX -inf, MEAN -inf, MEDIAN -inf\n",
      "On iteration 1232, fit quality of MAX -inf, MEAN -inf, MEDIAN -inf\n",
      "On iteration 1233, fit quality of MAX -inf, MEAN -inf, MEDIAN -inf\n",
      "On iteration 1234, fit quality of MAX -inf, MEAN -inf, MEDIAN -inf\n",
      "On iteration 1235, fit quality of MAX -inf, MEAN -inf, MEDIAN -inf\n",
      "On iteration 1236, fit quality of MAX -inf, MEAN -inf, MEDIAN -inf\n",
      "On iteration 1237, fit quality of MAX -inf, MEAN -inf, MEDIAN -inf\n",
      "On iteration 1238, fit quality of MAX -inf, MEAN -inf, MEDIAN -inf\n",
      "On iteration 1239, fit quality of MAX -inf, MEAN -inf, MEDIAN -inf\n",
      "On iteration 1240, fit quality of MAX -inf, MEAN -inf, MEDIAN -inf\n",
      "On iteration 1241, fit quality of MAX -inf, MEAN -inf, MEDIAN -inf\n",
      "On iteration 1242, fit quality of MAX -inf, MEAN -inf, MEDIAN -inf\n",
      "On iteration 1243, fit quality of MAX -inf, MEAN -inf, MEDIAN -inf\n",
      "On iteration 1244, fit quality of MAX -inf, MEAN -inf, MEDIAN -inf\n",
      "On iteration 1245, fit quality of MAX -inf, MEAN -inf, MEDIAN -inf\n",
      "On iteration 1246, fit quality of MAX -inf, MEAN -inf, MEDIAN -inf\n",
      "On iteration 1247, fit quality of MAX -inf, MEAN -inf, MEDIAN -inf\n",
      "On iteration 1248, fit quality of MAX -inf, MEAN -inf, MEDIAN -inf\n",
      "On iteration 1249, fit quality of MAX -inf, MEAN -inf, MEDIAN -inf\n",
      "On iteration 1250, fit quality of MAX -inf, MEAN -inf, MEDIAN -inf\n",
      "On iteration 1251, fit quality of MAX -inf, MEAN -inf, MEDIAN -inf\n",
      "On iteration 1252, fit quality of MAX -inf, MEAN -inf, MEDIAN -inf\n",
      "On iteration 1253, fit quality of MAX -inf, MEAN -inf, MEDIAN -inf\n",
      "On iteration 1254, fit quality of MAX -inf, MEAN -inf, MEDIAN -inf\n",
      "On iteration 1255, fit quality of MAX -inf, MEAN -inf, MEDIAN -inf\n",
      "On iteration 1256, fit quality of MAX -inf, MEAN -inf, MEDIAN -inf\n",
      "On iteration 1257, fit quality of MAX -inf, MEAN -inf, MEDIAN -inf\n",
      "On iteration 1258, fit quality of MAX -inf, MEAN -inf, MEDIAN -inf\n",
      "On iteration 1259, fit quality of MAX -inf, MEAN -inf, MEDIAN -inf\n",
      "On iteration 1260, fit quality of MAX -inf, MEAN -inf, MEDIAN -inf\n",
      "On iteration 1261, fit quality of MAX -inf, MEAN -inf, MEDIAN -inf\n",
      "On iteration 1262, fit quality of MAX -inf, MEAN -inf, MEDIAN -inf\n",
      "On iteration 1263, fit quality of MAX -inf, MEAN -inf, MEDIAN -inf\n",
      "On iteration 1264, fit quality of MAX -inf, MEAN -inf, MEDIAN -inf\n",
      "On iteration 1265, fit quality of MAX -inf, MEAN -inf, MEDIAN -inf\n",
      "On iteration 1266, fit quality of MAX -inf, MEAN -inf, MEDIAN -inf\n",
      "On iteration 1267, fit quality of MAX -inf, MEAN -inf, MEDIAN -inf\n",
      "On iteration 1268, fit quality of MAX -inf, MEAN -inf, MEDIAN -inf\n",
      "On iteration 1269, fit quality of MAX -inf, MEAN -inf, MEDIAN -inf\n",
      "On iteration 1270, fit quality of MAX -inf, MEAN -inf, MEDIAN -inf\n",
      "On iteration 1271, fit quality of MAX -inf, MEAN -inf, MEDIAN -inf\n",
      "On iteration 1272, fit quality of MAX -inf, MEAN -inf, MEDIAN -inf\n",
      "On iteration 1273, fit quality of MAX -inf, MEAN -inf, MEDIAN -inf\n",
      "On iteration 1274, fit quality of MAX -inf, MEAN -inf, MEDIAN -inf\n",
      "On iteration 1275, fit quality of MAX -inf, MEAN -inf, MEDIAN -inf\n",
      "On iteration 1276, fit quality of MAX -inf, MEAN -inf, MEDIAN -inf\n",
      "On iteration 1277, fit quality of MAX -inf, MEAN -inf, MEDIAN -inf\n",
      "On iteration 1278, fit quality of MAX -inf, MEAN -inf, MEDIAN -inf\n",
      "On iteration 1279, fit quality of MAX -inf, MEAN -inf, MEDIAN -inf\n",
      "On iteration 1280, fit quality of MAX -inf, MEAN -inf, MEDIAN -inf\n",
      "On iteration 1281, fit quality of MAX -inf, MEAN -inf, MEDIAN -inf\n",
      "On iteration 1282, fit quality of MAX -inf, MEAN -inf, MEDIAN -inf\n",
      "On iteration 1283, fit quality of MAX -inf, MEAN -inf, MEDIAN -inf\n",
      "On iteration 1284, fit quality of MAX -inf, MEAN -inf, MEDIAN -inf\n",
      "On iteration 1285, fit quality of MAX -inf, MEAN -inf, MEDIAN -inf\n",
      "On iteration 1286, fit quality of MAX -inf, MEAN -inf, MEDIAN -inf\n",
      "On iteration 1287, fit quality of MAX -inf, MEAN -inf, MEDIAN -inf\n",
      "On iteration 1288, fit quality of MAX -inf, MEAN -inf, MEDIAN -inf\n",
      "On iteration 1289, fit quality of MAX -inf, MEAN -inf, MEDIAN -inf\n",
      "On iteration 1290, fit quality of MAX -inf, MEAN -inf, MEDIAN -inf\n",
      "On iteration 1291, fit quality of MAX -inf, MEAN -inf, MEDIAN -inf\n",
      "On iteration 1292, fit quality of MAX -inf, MEAN -inf, MEDIAN -inf\n",
      "On iteration 1293, fit quality of MAX -inf, MEAN -inf, MEDIAN -inf\n",
      "On iteration 1294, fit quality of MAX -inf, MEAN -inf, MEDIAN -inf\n",
      "On iteration 1295, fit quality of MAX -inf, MEAN -inf, MEDIAN -inf\n",
      "On iteration 1296, fit quality of MAX -inf, MEAN -inf, MEDIAN -inf\n",
      "On iteration 1297, fit quality of MAX -inf, MEAN -inf, MEDIAN -inf\n",
      "On iteration 1298, fit quality of MAX -inf, MEAN -inf, MEDIAN -inf\n",
      "On iteration 1299, fit quality of MAX -inf, MEAN -inf, MEDIAN -inf\n",
      "On iteration 1300, fit quality of MAX -inf, MEAN -inf, MEDIAN -inf\n",
      "On iteration 1301, fit quality of MAX -inf, MEAN -inf, MEDIAN -inf\n",
      "On iteration 1302, fit quality of MAX -inf, MEAN -inf, MEDIAN -inf\n",
      "On iteration 1303, fit quality of MAX -inf, MEAN -inf, MEDIAN -inf\n",
      "On iteration 1304, fit quality of MAX -inf, MEAN -inf, MEDIAN -inf\n",
      "On iteration 1305, fit quality of MAX -inf, MEAN -inf, MEDIAN -inf\n",
      "On iteration 1306, fit quality of MAX -inf, MEAN -inf, MEDIAN -inf\n",
      "On iteration 1307, fit quality of MAX -inf, MEAN -inf, MEDIAN -inf\n",
      "On iteration 1308, fit quality of MAX -inf, MEAN -inf, MEDIAN -inf\n",
      "On iteration 1309, fit quality of MAX -inf, MEAN -inf, MEDIAN -inf\n",
      "On iteration 1310, fit quality of MAX -inf, MEAN -inf, MEDIAN -inf\n",
      "On iteration 1311, fit quality of MAX -inf, MEAN -inf, MEDIAN -inf\n",
      "On iteration 1312, fit quality of MAX -inf, MEAN -inf, MEDIAN -inf\n",
      "On iteration 1313, fit quality of MAX -inf, MEAN -inf, MEDIAN -inf\n",
      "On iteration 1314, fit quality of MAX -inf, MEAN -inf, MEDIAN -inf\n",
      "On iteration 1315, fit quality of MAX -inf, MEAN -inf, MEDIAN -inf\n",
      "On iteration 1316, fit quality of MAX -inf, MEAN -inf, MEDIAN -inf\n",
      "On iteration 1317, fit quality of MAX -inf, MEAN -inf, MEDIAN -inf\n",
      "On iteration 1318, fit quality of MAX -inf, MEAN -inf, MEDIAN -inf\n",
      "On iteration 1319, fit quality of MAX -inf, MEAN -inf, MEDIAN -inf\n",
      "On iteration 1320, fit quality of MAX -inf, MEAN -inf, MEDIAN -inf\n",
      "On iteration 1321, fit quality of MAX -inf, MEAN -inf, MEDIAN -inf\n",
      "On iteration 1322, fit quality of MAX -inf, MEAN -inf, MEDIAN -inf\n",
      "On iteration 1323, fit quality of MAX -inf, MEAN -inf, MEDIAN -inf\n",
      "On iteration 1324, fit quality of MAX -inf, MEAN -inf, MEDIAN -inf\n",
      "On iteration 1325, fit quality of MAX -inf, MEAN -inf, MEDIAN -inf\n",
      "On iteration 1326, fit quality of MAX -inf, MEAN -inf, MEDIAN -inf\n",
      "On iteration 1327, fit quality of MAX -inf, MEAN -inf, MEDIAN -inf\n",
      "On iteration 1328, fit quality of MAX -inf, MEAN -inf, MEDIAN -inf\n",
      "On iteration 1329, fit quality of MAX -inf, MEAN -inf, MEDIAN -inf\n",
      "On iteration 1330, fit quality of MAX -inf, MEAN -inf, MEDIAN -inf\n",
      "On iteration 1331, fit quality of MAX -inf, MEAN -inf, MEDIAN -inf\n",
      "On iteration 1332, fit quality of MAX -inf, MEAN -inf, MEDIAN -inf\n",
      "On iteration 1333, fit quality of MAX -inf, MEAN -inf, MEDIAN -inf\n",
      "On iteration 1334, fit quality of MAX -inf, MEAN -inf, MEDIAN -inf\n",
      "On iteration 1335, fit quality of MAX -inf, MEAN -inf, MEDIAN -inf\n",
      "On iteration 1336, fit quality of MAX -inf, MEAN -inf, MEDIAN -inf\n",
      "On iteration 1337, fit quality of MAX -inf, MEAN -inf, MEDIAN -inf\n",
      "On iteration 1338, fit quality of MAX -inf, MEAN -inf, MEDIAN -inf\n",
      "On iteration 1339, fit quality of MAX -inf, MEAN -inf, MEDIAN -inf\n",
      "On iteration 1340, fit quality of MAX -inf, MEAN -inf, MEDIAN -inf\n",
      "On iteration 1341, fit quality of MAX -inf, MEAN -inf, MEDIAN -inf\n",
      "On iteration 1342, fit quality of MAX -inf, MEAN -inf, MEDIAN -inf\n",
      "On iteration 1343, fit quality of MAX -inf, MEAN -inf, MEDIAN -inf\n",
      "On iteration 1344, fit quality of MAX -inf, MEAN -inf, MEDIAN -inf\n",
      "On iteration 1345, fit quality of MAX -inf, MEAN -inf, MEDIAN -inf\n",
      "On iteration 1346, fit quality of MAX -inf, MEAN -inf, MEDIAN -inf\n",
      "On iteration 1347, fit quality of MAX -inf, MEAN -inf, MEDIAN -inf\n",
      "On iteration 1348, fit quality of MAX -inf, MEAN -inf, MEDIAN -inf\n",
      "On iteration 1349, fit quality of MAX -inf, MEAN -inf, MEDIAN -inf\n",
      "On iteration 1350, fit quality of MAX -inf, MEAN -inf, MEDIAN -inf\n",
      "On iteration 1351, fit quality of MAX -inf, MEAN -inf, MEDIAN -inf\n",
      "On iteration 1352, fit quality of MAX -inf, MEAN -inf, MEDIAN -inf\n",
      "On iteration 1353, fit quality of MAX -inf, MEAN -inf, MEDIAN -inf\n",
      "On iteration 1354, fit quality of MAX -inf, MEAN -inf, MEDIAN -inf\n",
      "On iteration 1355, fit quality of MAX -inf, MEAN -inf, MEDIAN -inf\n",
      "On iteration 1356, fit quality of MAX -inf, MEAN -inf, MEDIAN -inf\n",
      "On iteration 1357, fit quality of MAX -inf, MEAN -inf, MEDIAN -inf\n",
      "On iteration 1358, fit quality of MAX -inf, MEAN -inf, MEDIAN -inf\n",
      "On iteration 1359, fit quality of MAX -inf, MEAN -inf, MEDIAN -inf\n",
      "On iteration 1360, fit quality of MAX -inf, MEAN -inf, MEDIAN -inf\n",
      "On iteration 1361, fit quality of MAX -inf, MEAN -inf, MEDIAN -inf\n",
      "On iteration 1362, fit quality of MAX -inf, MEAN -inf, MEDIAN -inf\n",
      "On iteration 1363, fit quality of MAX -inf, MEAN -inf, MEDIAN -inf\n",
      "On iteration 1364, fit quality of MAX -inf, MEAN -inf, MEDIAN -inf\n",
      "On iteration 1365, fit quality of MAX -inf, MEAN -inf, MEDIAN -inf\n",
      "On iteration 1366, fit quality of MAX -inf, MEAN -inf, MEDIAN -inf\n",
      "On iteration 1367, fit quality of MAX -inf, MEAN -inf, MEDIAN -inf\n",
      "On iteration 1368, fit quality of MAX -inf, MEAN -inf, MEDIAN -inf\n",
      "On iteration 1369, fit quality of MAX -inf, MEAN -inf, MEDIAN -inf\n",
      "On iteration 1370, fit quality of MAX -inf, MEAN -inf, MEDIAN -inf\n",
      "On iteration 1371, fit quality of MAX -inf, MEAN -inf, MEDIAN -inf\n",
      "On iteration 1372, fit quality of MAX -inf, MEAN -inf, MEDIAN -inf\n",
      "On iteration 1373, fit quality of MAX -inf, MEAN -inf, MEDIAN -inf\n",
      "On iteration 1374, fit quality of MAX -inf, MEAN -inf, MEDIAN -inf\n",
      "On iteration 1375, fit quality of MAX -inf, MEAN -inf, MEDIAN -inf\n",
      "On iteration 1376, fit quality of MAX -inf, MEAN -inf, MEDIAN -inf\n",
      "On iteration 1377, fit quality of MAX -inf, MEAN -inf, MEDIAN -inf\n",
      "On iteration 1378, fit quality of MAX -inf, MEAN -inf, MEDIAN -inf\n",
      "On iteration 1379, fit quality of MAX -inf, MEAN -inf, MEDIAN -inf\n",
      "On iteration 1380, fit quality of MAX -inf, MEAN -inf, MEDIAN -inf\n",
      "On iteration 1381, fit quality of MAX -inf, MEAN -inf, MEDIAN -inf\n",
      "No matching roads found within max road distance! Aborting particle filter.\n",
      "CPU times: user 2min 56s, sys: 3.53 s, total: 2min 59s\n",
      "Wall time: 3min 21s\n"
     ]
    }
   ],
   "source": [
    "%%time\n",
    "# first -inf results in mean and median, not max, then in all...\n",
    "# Runtime warning, divide by zero in log\n",
    "# Error at iter 1381; 3 min\n",
    "results = my_particle_filter.fit(data)"
   ]
  },
  {
   "cell_type": "code",
   "execution_count": 388,
   "metadata": {
    "collapsed": false
   },
   "outputs": [
    {
     "name": "stdout",
     "output_type": "stream",
     "text": [
      "CPU times: user 3.23 ms, sys: 356 µs, total: 3.59 ms\n",
      "Wall time: 3.83 ms\n"
     ]
    }
   ],
   "source": [
    "%%time\n",
    "backtracked_trace = my_particle_filter.viterbi()"
   ]
  },
  {
   "cell_type": "code",
   "execution_count": 389,
   "metadata": {
    "collapsed": false
   },
   "outputs": [
    {
     "data": {
      "text/plain": [
       "[array([  37.75134205, -122.39485713]),\n",
       " array([  37.7512915, -122.3952268]),\n",
       " array([  37.75199272, -122.39456708]),\n",
       " array([  37.7508102, -122.3935227]),\n",
       " array([  37.75016328, -122.39255462]),\n",
       " array([  37.7545324, -122.3922596]),\n",
       " array([  37.75901007, -122.39246454]),\n",
       " array([  37.77054348, -122.39776881]),\n",
       " array([  37.776513 , -122.3940037]),\n",
       " array([  37.78193871, -122.38842267]),\n",
       " array([  37.7899427 , -122.38912769]),\n",
       " array([  37.79734987, -122.39601117]),\n",
       " array([  37.7978823, -122.4021149]),\n",
       " array([  37.79781469, -122.40647322]),\n",
       " array([  37.7966453, -122.4051415]),\n",
       " array([  37.79252613, -122.40464656]),\n",
       " array([  37.78949938, -122.40380459]),\n",
       " array([  37.7882806, -122.4085313]),\n",
       " array([  37.78742531, -122.41527321]),\n",
       " array([  37.78721971, -122.41689378]),\n",
       " array([  37.784774 , -122.4211362]),\n",
       " array([  37.77988595, -122.42190998]),\n",
       " array([  37.77499193, -122.42271965]),\n",
       " array([  37.7748083, -122.4243081]),\n",
       " array([  37.7740572 , -122.43021346]),\n",
       " array([  37.77305579, -122.43747137]),\n",
       " array([  37.7738594, -122.4392969]),\n",
       " array([  37.77410165, -122.43739404]),\n",
       " array([  37.7739789, -122.4373404]),\n",
       " array([  37.7739789, -122.4373404]),\n",
       " array([  37.773804 , -122.4373058]),\n",
       " array([  37.7752152, -122.4361506]),\n",
       " array([  37.77275093, -122.43731541]),\n",
       " array([  37.77208583, -122.43718032]),\n",
       " array([  37.77221325, -122.43720691]),\n",
       " array([  37.77133324, -122.43660914]),\n",
       " array([  37.77085452, -122.43020699]),\n",
       " array([  37.768677 , -122.4289998]),\n",
       " array([  37.76776142, -122.42852009]),\n",
       " array([  37.7641276, -122.4330942]),\n",
       " array([  37.7608587, -122.4355638]),\n",
       " array([  37.7605367 , -122.43500267]),\n",
       " array([  37.7605585 , -122.43500487]),\n",
       " array([  37.76045551, -122.43499446]),\n",
       " array([  37.75769537, -122.43455972]),\n",
       " array([  37.75879789, -122.43257791]),\n",
       " array([  37.75891298, -122.43258897]),\n",
       " array([  37.75957839, -122.43006127]),\n",
       " array([  37.76355565, -122.42871525]),\n",
       " array([  37.7669513, -122.4288803]),\n",
       " array([  37.77010161, -122.42555822]),\n",
       " array([  37.77278053, -122.42243458]),\n",
       " array([  37.7746899, -122.4198   ]),\n",
       " array([  37.78283925, -122.40956301]),\n",
       " array([  37.78724828, -122.40327716]),\n",
       " array([  37.788158 , -122.3998251]),\n",
       " array([  37.78952837, -122.39808349]),\n",
       " array([  37.7912559, -122.4001553]),\n",
       " array([  37.79211974, -122.40264126]),\n",
       " array([  37.79179508, -122.40348758]),\n",
       " array([  37.79179782, -122.40346613]),\n",
       " array([  37.79178651, -122.40355443]),\n",
       " array([  37.7917054 , -122.40387826]),\n",
       " array([  37.79144812, -122.40419179]),\n",
       " array([  37.7923892, -122.4034314]),\n",
       " array([  37.79225516, -122.40365853]),\n",
       " array([  37.7913354, -122.4041734]),\n",
       " array([  37.7871651 , -122.40335051]),\n",
       " array([  37.7846356, -122.4042813]),\n",
       " array([  37.78448297, -122.40873028]),\n",
       " array([  37.78431515, -122.41100491]),\n",
       " array([  37.78430631, -122.41268825]),\n",
       " array([  37.78434668, -122.41269641]),\n",
       " array([  37.78437928, -122.41270301]),\n",
       " array([  37.78432655, -122.41254261]),\n",
       " array([  37.78429088, -122.41268513]),\n",
       " array([  37.78437232, -122.4125524 ]),\n",
       " array([  37.78431151, -122.4125394 ]),\n",
       " array([  37.78426778, -122.41268046]),\n",
       " array([  37.78423916, -122.41267468]),\n",
       " array([  37.7842359, -122.4125632]),\n",
       " array([  37.78421034, -122.41266885]),\n",
       " array([  37.78530426, -122.41288998]),\n",
       " array([  37.78785631, -122.41340404]),\n",
       " array([  37.79050347, -122.41363298]),\n",
       " array([  37.79121577, -122.40734102]),\n",
       " array([  37.79109716, -122.40722668]),\n",
       " array([  37.79043117, -122.40711467]),\n",
       " array([  37.79039188, -122.40717006]),\n",
       " array([  37.78993347, -122.41060805]),\n",
       " array([  37.7884785, -122.4118446]),\n",
       " array([  37.78710057, -122.41493763]),\n",
       " array([  37.78707755, -122.41303597]),\n",
       " array([  37.78695301, -122.41148767]),\n",
       " array([  37.78707571, -122.41156167]),\n",
       " array([  37.7864985, -122.4098612]),\n",
       " array([  37.7905995 , -122.41058254]),\n",
       " array([  37.79295337, -122.40948283]),\n",
       " array([  37.7964463, -122.410538 ]),\n",
       " array([  37.80066144, -122.41079275]),\n",
       " array([  37.8015212, -122.4109407]),\n",
       " array([  37.80488735, -122.41183417]),\n",
       " array([  37.8083444, -122.4099992]),\n",
       " array([  37.8081232, -122.4091115]),\n",
       " array([  37.80478635, -122.40342977]),\n",
       " array([  37.79842272, -122.40224131]),\n",
       " array([  37.7975484, -122.4101897]),\n",
       " array([  37.796212 , -122.4195122]),\n",
       " array([  37.7959122 , -122.42188855]),\n",
       " array([  37.79563995, -122.42332975]),\n",
       " array([  37.79495615, -122.42216314]),\n",
       " array([  37.7952505, -122.4214918]),\n",
       " array([  37.79727031, -122.41125295]),\n",
       " array([  37.7977755, -122.4103485]),\n",
       " array([  37.80023462, -122.41092027]),\n",
       " array([  37.8010868, -122.4111302]),\n",
       " array([  37.80156367, -122.41111179]),\n",
       " array([  37.80837509, -122.40998154]),\n",
       " array([  37.80821523, -122.40914547]),\n",
       " array([  37.80681936, -122.41108113]),\n",
       " array([  37.8053009, -122.4176361]),\n",
       " array([  37.8058564, -122.418826 ]),\n",
       " array([  37.80409021, -122.42497275]),\n",
       " array([  37.8006396, -122.4294805]),\n",
       " array([  37.80001589, -122.43441297]),\n",
       " array([  37.79911793, -122.44097901]),\n",
       " array([  37.79908637, -122.44243609]),\n",
       " array([  37.79872474, -122.44501693]),\n",
       " array([  37.79771492, -122.44856803]),\n",
       " array([  37.7966397, -122.45166  ]),\n",
       " array([  37.79762929, -122.45118546]),\n",
       " array([  37.79859081, -122.44630505]),\n",
       " array([  37.79903991, -122.44280126]),\n",
       " array([  37.80028743, -122.43109274]),\n",
       " array([  37.79548933, -122.43012458]),\n",
       " array([  37.79415585, -122.42845439]),\n",
       " array([  37.791278  , -122.42422155]),\n",
       " array([  37.79153745, -122.42069459]),\n",
       " array([  37.79197224, -122.41751124]),\n",
       " array([  37.79243762, -122.41360589]),\n",
       " array([  37.79178078, -122.41055019]),\n",
       " array([  37.79165654, -122.41227334]),\n",
       " array([  37.78789991, -122.41153126]),\n",
       " array([  37.7878706 , -122.41176247]),\n",
       " array([  37.78784253, -122.41198384]),\n",
       " array([  37.78729503, -122.41630049]),\n",
       " array([  37.78718865, -122.4200167 ]),\n",
       " array([  37.78659514, -122.42181428]),\n",
       " array([  37.78006251, -122.42194632]),\n",
       " array([  37.77619078, -122.42098156]),\n",
       " array([  37.77476291, -122.42094889]),\n",
       " array([  37.7723984, -122.4226364]),\n",
       " array([  37.76959223, -122.42233803]),\n",
       " array([  37.7646393, -122.4218608]),\n",
       " array([  37.76310084, -122.42172093]),\n",
       " array([  37.76062061, -122.42148308]),\n",
       " array([  37.75572759, -122.42100531]),\n",
       " array([  37.75662074, -122.41888225]),\n",
       " array([  37.75863  , -122.4191943]),\n",
       " array([  37.7625222 , -122.41944699]),\n",
       " array([  37.7666729, -122.4198442]),\n",
       " array([  37.7698737, -122.4223678]),\n",
       " array([  37.77254503, -122.42240268]),\n",
       " array([  37.77348691, -122.42136751]),\n",
       " array([  37.7776924 , -122.41620398]),\n",
       " array([  37.7790964, -122.4143687]),\n",
       " array([  37.78155531, -122.41213411]),\n",
       " array([  37.78377555, -122.41258095]),\n",
       " array([  37.78676204, -122.41299009]),\n",
       " array([  37.78707389, -122.41306545]),\n",
       " array([  37.78874087, -122.4124663 ]),\n",
       " array([  37.78755367, -122.40669408]),\n",
       " array([  37.79315261, -122.40772901]),\n",
       " array([  37.7957652, -122.4083663]),\n",
       " array([  37.7985728 , -122.40887792]),\n",
       " array([  37.79965201, -122.40932176]),\n",
       " array([  37.8011339, -122.411329 ]),\n",
       " array([  37.80458395, -122.41172042]),\n",
       " array([  37.8084969, -122.4124018]),\n",
       " array([  37.8083444, -122.4099992]),\n",
       " array([  37.8083069, -122.4091181]),\n",
       " array([  37.80707179, -122.40908983]),\n",
       " array([  37.80631552, -122.41577196]),\n",
       " array([  37.8061955, -122.4187103]),\n",
       " array([  37.80408438, -122.42501556]),\n",
       " array([  37.80116971, -122.42472788]),\n",
       " array([  37.8000875, -122.4310524]),\n",
       " array([  37.799588 , -122.4309516]),\n",
       " array([  37.7996896 , -122.43015232]),\n",
       " array([  37.8010841 , -122.42788054]),\n",
       " array([  37.8009432, -122.4278519]),\n",
       " array([  37.80372959, -122.42847131]),\n",
       " array([  37.8053247, -122.4168248]),\n",
       " array([  37.80518325, -122.41328174]),\n",
       " array([  37.80209201, -122.41121736]),\n",
       " array([  37.80081119, -122.41073616]),\n",
       " array([  37.79895065, -122.41058767]),\n",
       " array([  37.79641298, -122.41007533]),\n",
       " array([  37.79217373, -122.40900795]),\n",
       " array([  37.7927735, -122.4026821]),\n",
       " array([  37.7931777, -122.4010713]),\n",
       " array([  37.79296032, -122.40283214]),\n",
       " array([  37.7954523, -122.4034157]),\n",
       " array([  37.7951703, -122.4059142]),\n",
       " array([  37.7952674, -122.4048574]),\n",
       " array([  37.7952674, -122.4048574]),\n",
       " array([  37.79588423, -122.40401896]),\n",
       " array([  37.79739076, -122.40600255]),\n",
       " array([  37.79834779, -122.40719189]),\n",
       " array([  37.79961551, -122.40928243]),\n",
       " array([  37.8006597, -122.4107902]),\n",
       " array([  37.8035415, -122.4148809]),\n",
       " array([  37.8073102, -122.4078282]),\n",
       " array([  37.8081565, -122.409391 ]),\n",
       " array([  37.80837919, -122.41002112]),\n",
       " array([  37.80845741, -122.41003474]),\n",
       " array([  37.80843401, -122.409824  ]),\n",
       " array([  37.80842646, -122.40975595]),\n",
       " array([  37.80827887, -122.40968684]),\n",
       " array([  37.80788462, -122.4091306 ]),\n",
       " array([  37.80635786, -122.41197939]),\n",
       " array([  37.80304217, -122.41138526]),\n",
       " array([  37.80051355, -122.41042444]),\n",
       " array([  37.8002434, -122.4108508]),\n",
       " array([  37.79630914, -122.41005425]),\n",
       " array([  37.7938244, -122.4094452]),\n",
       " array([  37.7911952, -122.4089237]),\n",
       " array([  37.7883647, -122.4085511]),\n",
       " array([  37.78709455, -122.40819007]),\n",
       " array([  37.7863483 , -122.40871849]),\n",
       " array([  37.7838398, -122.4080382]),\n",
       " array([  37.7817113, -122.4052158]),\n",
       " array([  37.78407657, -122.40409501]),\n",
       " array([  37.7818227 , -122.40764786]),\n",
       " array([  37.77707091, -122.40844339]),\n",
       " array([  37.77319479, -122.40656969]),\n",
       " array([  37.76118762, -122.4061759 ]),\n",
       " array([  37.7499528, -122.4030793]),\n",
       " array([  37.74971348, -122.39696721]),\n",
       " array([  37.75123833, -122.39526182]),\n",
       " array([  37.75127241, -122.39523973]),\n",
       " array([  37.75136669, -122.39501356]),\n",
       " array([  37.75136756, -122.39501363]),\n",
       " array([  37.75132873, -122.39501023]),\n",
       " array([  37.75131535, -122.39509578]),\n",
       " array([  37.75135179, -122.39520129]),\n",
       " array([  37.7513494, -122.3943369]),\n",
       " array([  37.75153376, -122.39470235]),\n",
       " array([  37.7514952 , -122.39502481]),\n",
       " array([  37.7513041, -122.3951949]),\n",
       " array([  37.751241, -122.395261]),\n",
       " array([  37.75116189, -122.39528772]),\n",
       " array([  37.75167037, -122.39402611]),\n",
       " array([  37.7498961, -122.393367 ]),\n",
       " array([  37.74964543, -122.39812972]),\n",
       " array([  37.74878164, -122.40687998]),\n",
       " array([  37.74831165, -122.4088802 ]),\n",
       " array([  37.7483071 , -122.41374867]),\n",
       " array([  37.75106245, -122.4139644 ]),\n",
       " array([  37.75527438, -122.4143613 ]),\n",
       " array([  37.75715047, -122.41710175]),\n",
       " array([  37.75766501, -122.41898213]),\n",
       " array([  37.75865316, -122.41883021]),\n",
       " array([  37.75898365, -122.41691174]),\n",
       " array([  37.76196768, -122.41725104]),\n",
       " array([  37.76534007, -122.41751939]),\n",
       " array([  37.76938823, -122.41778334]),\n",
       " array([  37.77259922, -122.41879323]),\n",
       " array([  37.7753419, -122.4156305]),\n",
       " array([  37.7770623, -122.4133641]),\n",
       " array([  37.78499184, -122.41620031]),\n",
       " array([  37.78553196, -122.41630966]),\n",
       " array([  37.78666416, -122.41653884]),\n",
       " array([  37.78833885, -122.41687775]),\n",
       " array([  37.7889579 , -122.41075813]),\n",
       " array([  37.78918856, -122.40834351]),\n",
       " array([  37.789421 , -122.4070977]),\n",
       " array([  37.78979623, -122.4042342 ]),\n",
       " array([  37.79119912, -122.40063033]),\n",
       " array([  37.79223186, -122.39945841]),\n",
       " array([  37.7941003, -122.4000551]),\n",
       " array([  37.7954902, -122.4005513]),\n",
       " array([  37.79990815, -122.40144837]),\n",
       " array([  37.80246293, -122.40190568]),\n",
       " array([  37.80396303, -122.40334942]),\n",
       " array([  37.803605  , -122.40338587]),\n",
       " array([  37.798331 , -122.4023415]),\n",
       " array([  37.79274304, -122.40108609]),\n",
       " array([  37.79308511, -122.39874448]),\n",
       " array([  37.79128591, -122.3991129 ]),\n",
       " array([  37.79241935, -122.39797281]),\n",
       " array([  37.79480146, -122.39793076]),\n",
       " array([  37.7947168, -122.3992758]),\n",
       " array([  37.7953107 , -122.39943311]),\n",
       " array([  37.79521026, -122.39970715]),\n",
       " array([  37.7921126 , -122.40959345]),\n",
       " array([  37.789087 , -122.4324729]),\n",
       " array([  37.78888877, -122.43385255]),\n",
       " array([  37.78827063, -122.43889008]),\n",
       " array([  37.78953904, -122.44246522]),\n",
       " array([  37.79228082, -122.44320282]),\n",
       " array([  37.7924808, -122.4416301]),\n",
       " array([  37.79297554, -122.43804673]),\n",
       " array([  37.79597086, -122.43682011]),\n",
       " array([  37.79705856, -122.43579854]),\n",
       " array([  37.79735241, -122.43349031]),\n",
       " array([  37.79788158, -122.4293202 ]),\n",
       " array([  37.79835274, -122.42564511]),\n",
       " array([  37.80070526, -122.4243525 ]),\n",
       " array([  37.80109486, -122.42458524]),\n",
       " array([  37.8011645, -122.4247286]),\n",
       " array([  37.80012314, -122.42674167]),\n",
       " array([  37.79937581, -122.43262074]),\n",
       " array([  37.8008425 , -122.43608523]),\n",
       " array([  37.80087114, -122.43616882]),\n",
       " array([  37.80108634, -122.434167  ]),\n",
       " array([  37.80178013, -122.42870875]),\n",
       " array([  37.79944683, -122.42586621]),\n",
       " array([  37.7956213, -122.4244012]),\n",
       " array([  37.79729076, -122.4114391 ]),\n",
       " array([  37.79795565, -122.40600434]),\n",
       " array([  37.7971669, -122.4054784]),\n",
       " array([  37.79566031, -122.40515979]),\n",
       " array([  37.7923892, -122.4034314]),\n",
       " array([  37.791909 , -122.4025983]),\n",
       " array([  37.788901 , -122.4036842]),\n",
       " array([  37.78841034, -122.40379113]),\n",
       " array([  37.7881091, -122.4079833]),\n",
       " array([  37.7878123 , -122.41171023]),\n",
       " array([  37.78727005, -122.4166615 ]),\n",
       " array([  37.78559498, -122.4196952 ]),\n",
       " array([  37.78310146, -122.41922832]),\n",
       " array([  37.7814508, -122.4171732]),\n",
       " array([  37.7804329, -122.4173623]),\n",
       " array([  37.78149863, -122.41679728]),\n",
       " array([  37.78149394, -122.41683414]),\n",
       " array([  37.77923351, -122.41673997]),\n",
       " array([  37.77917  , -122.4181878]),\n",
       " array([  37.7807775, -122.4187253]),\n",
       " array([  37.78219176, -122.41886473]),\n",
       " array([  37.78192488, -122.41895513]),\n",
       " array([  37.7823844, -122.41736  ]),\n",
       " array([  37.7802207, -122.4190101]),\n",
       " array([  37.78024422, -122.41882765]),\n",
       " array([  37.78041617, -122.41683676]),\n",
       " array([  37.78339252, -122.41587674]),\n",
       " array([  37.78751571, -122.41671121]),\n",
       " array([  37.79018488, -122.41613935]),\n",
       " array([  37.7910287, -122.4088928]),\n",
       " array([  37.7918222, -122.4050876]),\n",
       " array([  37.7926622 , -122.40191145]),\n",
       " array([  37.79287189, -122.40269317]),\n",
       " array([  37.79707628, -122.40550841]),\n",
       " array([  37.79728257, -122.40604089]),\n",
       " array([  37.79908482, -122.40825866]),\n",
       " array([  37.79928347, -122.40873368]),\n",
       " array([  37.7996209, -122.4092764]),\n",
       " array([  37.8023527 , -122.41315022]),\n",
       " array([  37.80496115, -122.41699101]),\n",
       " array([  37.80676616, -122.4205435 ]),\n",
       " array([  37.8078399, -122.4182687]),\n",
       " array([  37.80770134, -122.41735353]),\n",
       " array([  37.80608509, -122.41703668]),\n",
       " array([  37.80176901, -122.41224762]),\n",
       " array([  37.79892981, -122.40889557]),\n",
       " array([  37.79753926, -122.40619394]),\n",
       " array([  37.79680103, -122.40514754]),\n",
       " array([  37.79731805, -122.40589751]),\n",
       " array([  37.7976108, -122.4059753]),\n",
       " array([  37.797516 , -122.4061835]),\n",
       " array([  37.7971081, -122.4057958]),\n",
       " array([  37.79744001, -122.40588894]),\n",
       " array([  37.79895392, -122.40825476]),\n",
       " array([  37.79992428, -122.40947339]),\n",
       " array([  37.8014527, -122.4117915]),\n",
       " array([  37.80386275, -122.41542706]),\n",
       " array([  37.80605055, -122.41869753]),\n",
       " array([  37.80612919, -122.41861033]),\n",
       " array([  37.80519659, -122.41707103]),\n",
       " array([  37.80254796, -122.41468011]),\n",
       " array([  37.7993659, -122.4140371]),\n",
       " array([  37.79599011, -122.41335402]),\n",
       " array([  37.79376418, -122.41290921]),\n",
       " array([  37.79089562, -122.41233175]),\n",
       " array([  37.79079358, -122.4123112 ]),\n",
       " array([  37.7906745, -122.4122872]),\n",
       " array([  37.7907321 , -122.41183391]),\n",
       " array([  37.79114309, -122.40859912]),\n",
       " array([  37.7929497, -122.4029097]),\n",
       " array([  37.7934413, -122.4020714]),\n",
       " array([  37.79181477, -122.40333395]),\n",
       " array([  37.790926 , -122.4028197]),\n",
       " array([  37.79036286, -122.40262869]),\n",
       " array([  37.79148992, -122.40383453]),\n",
       " array([  37.7917031, -122.4042334]),\n",
       " array([  37.7923892, -122.4034314]),\n",
       " array([  37.79223771, -122.40379126]),\n",
       " array([  37.79222499, -122.40388803]),\n",
       " array([  37.7906852, -122.4046908]),\n",
       " array([  37.78862748, -122.40582668]),\n",
       " array([  37.7878194 , -122.41216626]),\n",
       " array([  37.78802121, -122.41681348]),\n",
       " array([  37.78855764, -122.41390875]),\n",
       " array([  37.78855486, -122.41393062]),\n",
       " array([  37.78855391, -122.41393812]),\n",
       " array([  37.78855611, -122.41392078]),\n",
       " array([  37.78855565, -122.41392437]),\n",
       " array([  37.7890203, -122.4102667]),\n",
       " array([  37.7896352, -122.4054347]),\n",
       " array([  37.7896352, -122.4054347]),\n",
       " array([  37.79026546, -122.4022658 ]),\n",
       " array([  37.79039463, -122.40061729]),\n",
       " array([  37.79460535, -122.40003876]),\n",
       " array([  37.7948179, -122.3977767]),\n",
       " array([  37.79460061, -122.39638963]),\n",
       " array([  37.7946298, -122.3964568]),\n",
       " array([  37.79445505, -122.39662451]),\n",
       " array([  37.79430779, -122.39648316]),\n",
       " array([  37.79245385, -122.39769453]),\n",
       " array([  37.79283431, -122.39668527]),\n",
       " array([  37.7953232 , -122.39822398]),\n",
       " array([  37.7977272 , -122.40090845]),\n",
       " array([  37.80195847, -122.40185471]),\n",
       " array([  37.80410381, -122.40215727]),\n",
       " array([  37.80552181, -122.40411713]),\n",
       " array([  37.8061177 , -122.40477669]),\n",
       " array([  37.80581749, -122.40412063]),\n",
       " array([  37.8039625, -122.4032619]),\n",
       " array([  37.79846522, -122.40236988]),\n",
       " array([  37.7977217, -122.407867 ]),\n",
       " array([  37.79722115, -122.41024084]),\n",
       " array([  37.7962297, -122.4118262]),\n",
       " array([  37.79406239, -122.41296861]),\n",
       " array([  37.79050162, -122.41225235]),\n",
       " array([  37.78698299, -122.41125182]),\n",
       " array([  37.78507734, -122.4111922 ]),\n",
       " array([  37.78782039, -122.40842865]),\n",
       " array([  37.78809148, -122.40813004]),\n",
       " array([  37.7852101 , -122.41014605]),\n",
       " array([  37.7872827, -122.4083122]),\n",
       " array([  37.78885669, -122.40720584]),\n",
       " array([  37.7862672 , -122.40934507]),\n",
       " array([  37.7854656, -122.4103609]),\n",
       " array([  37.78783424, -122.40818813]),\n",
       " array([  37.78759212, -122.40829057]),\n",
       " array([  37.78741696, -122.40833965]),\n",
       " array([  37.78769597, -122.40831142]),\n",
       " array([  37.78628986, -122.40917005]),\n",
       " array([  37.78626456, -122.40936542]),\n",
       " array([  37.78624055, -122.40955111]),\n",
       " array([  37.7874324, -122.4083428]),\n",
       " array([  37.78622551, -122.40966744]),\n",
       " array([  37.7866992 , -122.40956143]),\n",
       " array([  37.7865096, -122.4097584]),\n",
       " array([  37.78514763, -122.41819351]),\n",
       " array([  37.7841141 , -122.41877052]),\n",
       " array([  37.78499737, -122.41937728]),\n",
       " array([  37.78501803, -122.41921452]),\n",
       " array([  37.7866099 , -122.41989899]),\n",
       " array([  37.78802102, -122.42018453]),\n",
       " array([  37.7904734, -122.4207768]),\n",
       " array([  37.79110754, -122.41655969]),\n",
       " array([  37.7924514, -122.4124292]),\n",
       " array([  37.79257195, -122.41254785]),\n",
       " array([  37.78579689, -122.41130371]),\n",
       " array([  37.78545875, -122.41041742]),\n",
       " array([  37.7858656 , -122.41131756]),\n",
       " array([  37.7854068, -122.4108459]),\n",
       " array([  37.78511829, -122.41086948]),\n",
       " array([  37.78586433, -122.40962841]),\n",
       " array([  37.78613478, -122.41038943]),\n",
       " array([  37.78605615, -122.41101579]),\n",
       " array([  37.78604241, -122.41112528]),\n",
       " array([  37.78751496, -122.41456682]),\n",
       " array([  37.78668388, -122.42111809]),\n",
       " array([  37.78659258, -122.42139765]),\n",
       " array([  37.78599118, -122.42512545]),\n",
       " array([  37.78555312, -122.42990427]),\n",
       " array([  37.7857815, -122.4328651]),\n",
       " array([  37.78722256, -122.43351706]),\n",
       " array([  37.78997757, -122.43407165]),\n",
       " array([  37.79168146, -122.43373639]),\n",
       " array([  37.79043935, -122.43248043]),\n",
       " array([  37.7889063 , -122.43387953]),\n",
       " array([  37.78813193, -122.44000273]),\n",
       " array([  37.78764323, -122.44393296]),\n",
       " array([  37.78677048, -122.45067267]),\n",
       " array([  37.78594307, -122.4571944 ]),\n",
       " array([  37.78592066, -122.45737028]),\n",
       " array([  37.7862148, -122.455064 ]),\n",
       " array([  37.78756301, -122.451931  ]),\n",
       " array([  37.78767972, -122.45101614]),\n",
       " array([  37.78775207, -122.45044899]),\n",
       " array([  37.78742809, -122.44561976]),\n",
       " array([  37.78823795, -122.43915224]),\n",
       " array([  37.78913619, -122.43207334]),\n",
       " array([  37.78976558, -122.42713071]),\n",
       " array([  37.7899941, -122.4237273]),\n",
       " array([  37.7907113, -122.4189465]),\n",
       " array([  37.79115016, -122.41553512]),\n",
       " array([  37.79186013, -122.41065873]),\n",
       " array([  37.79342138, -122.40586281]),\n",
       " array([  37.79290186, -122.40176267]),\n",
       " array([  37.7933805, -122.3986758]),\n",
       " array([  37.7940652 , -122.39634152]),\n",
       " array([  37.7940768 , -122.39643432]),\n",
       " array([  37.79349352, -122.39589403]),\n",
       " array([  37.79179223, -122.39470619]),\n",
       " array([  37.7917981 , -122.39471355]),\n",
       " array([  37.79391058, -122.39661235]),\n",
       " array([  37.7936242, -122.3975397]),\n",
       " array([  37.7930415 , -122.40062671]),\n",
       " array([  37.7925458, -122.400941 ]),\n",
       " array([  37.7911354, -122.4011489]),\n",
       " array([  37.7922598 , -122.40266977]),\n",
       " array([  37.7924394, -122.4053628]),\n",
       " array([  37.79218787, -122.40809477]),\n",
       " array([  37.79157947, -122.41237246]),\n",
       " array([  37.79087079, -122.41766736]),\n",
       " array([  37.79073155, -122.42041017]),\n",
       " array([  37.79034604, -122.42286696]),\n",
       " array([  37.79003351, -122.42502681]),\n",
       " array([  37.78893545, -122.43365332]),\n",
       " array([  37.78805888, -122.44069675]),\n",
       " array([  37.78714736, -122.44697636]),\n",
       " array([  37.78700105, -122.44890535]),\n",
       " array([  37.78634953, -122.45399384]),\n",
       " array([  37.78565637, -122.45944336]),\n",
       " array([  37.78471251, -122.46693104]),\n",
       " array([  37.7827579 , -122.46869853]),\n",
       " array([  37.77728806, -122.46832709]),\n",
       " array([  37.77527921, -122.47033102]),\n",
       " array([  37.77514136, -122.47032112]),\n",
       " array([  37.77762989, -122.46835155]),\n",
       " array([  37.78100897, -122.46859367]),\n",
       " array([  37.78276645, -122.46851029]),\n",
       " array([  37.78286794, -122.46627854]),\n",
       " array([  37.78297341, -122.46551278]),\n",
       " array([  37.78302028, -122.46551617]),\n",
       " array([  37.78529304, -122.46229911]),\n",
       " array([  37.78622339, -122.45506576]),\n",
       " array([  37.7867184, -122.4494384]),\n",
       " array([  37.78775947, -122.44302121]),\n",
       " array([  37.78917783, -122.4372808 ]),\n",
       " array([  37.7907202, -122.4342202]),\n",
       " array([  37.79077767, -122.43254998]),\n",
       " array([  37.79093948, -122.4324961 ]),\n",
       " array([  37.79093949, -122.43249604]),\n",
       " array([  37.79008234, -122.4321252 ]),\n",
       " array([  37.79226612, -122.43115968]),\n",
       " array([  37.79292257, -122.43105651]),\n",
       " array([  37.7929268 , -122.43102323]),\n",
       " array([  37.79292992, -122.43099872]),\n",
       " array([  37.79293336, -122.4309717 ]),\n",
       " array([  37.79292914, -122.4310048 ]),\n",
       " array([  37.79293117, -122.43098888]),\n",
       " array([  37.7929293 , -122.43100355]),\n",
       " array([  37.79292805, -122.43101339]),\n",
       " array([  37.7929304 , -122.43099496]),\n",
       " array([  37.7929304 , -122.43099496]),\n",
       " array([  37.79293554, -122.43095452]),\n",
       " array([  37.79293429, -122.43096436]),\n",
       " array([  37.79292914, -122.4310048 ]),\n",
       " array([  37.7929332 , -122.43097295]),\n",
       " array([  37.7929268 , -122.43102323]),\n",
       " array([  37.79292914, -122.4310048 ]),\n",
       " array([  37.79292587, -122.43103057]),\n",
       " array([  37.79292853, -122.43100964]),\n",
       " array([  37.79292288, -122.43105401]),\n",
       " array([  37.7929268 , -122.43102323]),\n",
       " array([  37.79292539, -122.43103432]),\n",
       " array([  37.79292493, -122.43103791]),\n",
       " array([  37.79292477, -122.43103916]),\n",
       " array([  37.79292662, -122.43102466]),\n",
       " array([  37.79293071, -122.4312939 ]),\n",
       " array([  37.7929243 , -122.43104291]),\n",
       " array([  37.79292571, -122.43103182]),\n",
       " array([  37.79292336, -122.43105025]),\n",
       " array([  37.79292978, -122.4309998 ]),\n",
       " array([  37.79292304, -122.43105275]),\n",
       " array([  37.79292134, -122.43106618]),\n",
       " array([  37.79292368, -122.43104775]),\n",
       " array([  37.79292587, -122.43103057]),\n",
       " array([  37.7929293 , -122.43100355]),\n",
       " array([  37.7929357 , -122.43095327]),\n",
       " array([  37.79112589, -122.4310271 ]),\n",
       " array([  37.79069838, -122.42915804]),\n",
       " array([  37.79107898, -122.43260518]),\n",
       " array([  37.79167773, -122.43376592]),\n",
       " array([  37.79221127, -122.42956143]),\n",
       " array([  37.78959982, -122.42843234]),\n",
       " array([  37.79026016, -122.42355871]),\n",
       " array([  37.79041563, -122.42233081]),\n",
       " array([  37.7907044, -122.4206276]),\n",
       " array([  37.7913338, -122.4156995]),\n",
       " array([  37.7920233 , -122.40939269]),\n",
       " array([  37.79334872, -122.40110627]),\n",
       " array([  37.79503455, -122.40166232]),\n",
       " array([  37.79497009, -122.40125762]),\n",
       " array([  37.79495339, -122.40153558]),\n",
       " array([  37.7994765, -122.4011415]),\n",
       " array([  37.79707757, -122.39778862]),\n",
       " array([  37.79721013, -122.39749549]),\n",
       " array([  37.79285727, -122.39880884]),\n",
       " array([  37.78894824, -122.39852223]),\n",
       " array([  37.78941337, -122.39537653]),\n",
       " array([  37.78768846, -122.39399957]),\n",
       " array([  37.7855436, -122.3967193]),\n",
       " array([  37.7852474 , -122.39617555]),\n",
       " array([  37.78136032, -122.39581585]),\n",
       " array([  37.77730643, -122.40094299]),\n",
       " array([  37.77249424, -122.40698611]),\n",
       " array([  37.77106844, -122.40858654]),\n",
       " array([  37.7703545, -122.4097443]),\n",
       " array([  37.7703545, -122.4097443]),\n",
       " array([  37.7669714 , -122.41063519]),\n",
       " array([  37.76542467, -122.41145625]),\n",
       " array([  37.76589788, -122.41150044]),\n",
       " array([  37.76478137, -122.41336219]),\n",
       " array([  37.76007288, -122.41263086]),\n",
       " array([  37.75709851, -122.41234536]),\n",
       " array([  37.75409248, -122.41315348]),\n",
       " array([  37.7536309 , -122.41311039]),\n",
       " array([  37.75363896, -122.41311114]),\n",
       " array([  37.75409155, -122.4131534 ]),\n",
       " array([  37.75613318, -122.41225366]),\n",
       " array([  37.7541708, -122.4131926]),\n",
       " array([  37.75363989, -122.41311123]),\n",
       " array([  37.7541275, -122.4138139]),\n",
       " array([  37.75426042, -122.41207543]),\n",
       " array([  37.75417053, -122.41206861]),\n",
       " array([  37.75266176, -122.41157068]),\n",
       " array([  37.752822  , -122.40886838]),\n",
       " array([  37.7533448, -122.4064475]),\n",
       " array([  37.7543253, -122.4057828]),\n",
       " array([  37.7545832, -122.4048505]),\n",
       " array([  37.75544679, -122.40515749]),\n",
       " array([  37.7547688, -122.4048702]),\n",
       " array([  37.75304685, -122.40569981]),\n",
       " array([  37.75277476, -122.40914584]),\n",
       " array([  37.75261102, -122.41203323]),\n",
       " array([  37.75247512, -122.41461151]),\n",
       " array([  37.75222106, -122.41886117]),\n",
       " array([  37.7521685 , -122.41902779]),\n",
       " array([  37.75221718, -122.41893096]),\n",
       " array([  37.7520713 , -122.42159628]),\n",
       " array([  37.75179741, -122.42587984]),\n",
       " array([  37.7515702, -122.4296589]),\n",
       " array([  37.75142917, -122.43200057]),\n",
       " array([  37.75125997, -122.43476821]),\n",
       " array([  37.75091868, -122.44038992]),\n",
       " array([  37.75077521, -122.44273665]),\n",
       " array([  37.75079649, -122.4427974 ]),\n",
       " array([  37.75265195, -122.4382883 ]),\n",
       " array([  37.75284812, -122.43500046]),\n",
       " array([  37.75504658, -122.43446631]),\n",
       " array([  37.7536888, -122.4343386]),\n",
       " array([  37.75134628, -122.43376399]),\n",
       " array([  37.75158094, -122.42948006]),\n",
       " array([  37.7510904 , -122.42739526]),\n",
       " array([  37.74762721, -122.42703225]),\n",
       " array([  37.74379604, -122.42658567]),\n",
       " array([  37.7439943, -122.4219292]),\n",
       " array([  37.74400416, -122.42176902]),\n",
       " array([  37.74400297, -122.42178834]),\n",
       " array([  37.74677817, -122.41908757]),\n",
       " array([  37.74821597, -122.41804115]),\n",
       " array([  37.7483548, -122.4115088]),\n",
       " array([  37.74874344, -122.40699788]),\n",
       " array([  37.7494164, -122.3974143]),\n",
       " array([  37.75017954, -122.39533814]),\n",
       " array([  37.75056071, -122.39470657]),\n",
       " array([  37.75134982, -122.39501208]),\n",
       " array([  37.7513594 , -122.39399626]),\n",
       " array([  37.7513139 , -122.39519621]),\n",
       " array([  37.75137284, -122.3952041 ]),\n",
       " array([  37.75156011, -122.39522918]),\n",
       " array([  37.7506223, -122.3935102]),\n",
       " array([  37.7531743 , -122.39254676]),\n",
       " array([  37.75579893, -122.39198622]),\n",
       " array([  37.76789011, -122.39649471]),\n",
       " array([  37.7748144, -122.4009956]),\n",
       " array([  37.7784364, -122.4057216]),\n",
       " array([  37.77426996, -122.41099997]),\n",
       " array([  37.77085773, -122.41491705]),\n",
       " array([  37.7691882, -122.4198335]),\n",
       " array([  37.7684137, -122.4200106]),\n",
       " array([  37.76855395, -122.42002384]),\n",
       " array([  37.76859133, -122.42003165]),\n",
       " array([  37.76858845, -122.42010354]),\n",
       " array([  37.7684137, -122.4200106]),\n",
       " array([  37.76828658, -122.4198357 ]),\n",
       " array([  37.76858377, -122.42018721]),\n",
       " array([  37.76848075, -122.42022894]),\n",
       " array([  37.76817382, -122.42172369]),\n",
       " array([  37.77194192, -122.42258133]),\n",
       " array([  37.7764217, -122.4229027]),\n",
       " array([  37.78087961, -122.42380245]),\n",
       " array([  37.78178114, -122.42209014]),\n",
       " array([  37.7830955 , -122.42095226]),\n",
       " array([  37.78582193, -122.41974047]),\n",
       " array([  37.78640279, -122.41581544]),\n",
       " array([  37.7867582 , -122.41149763]),\n",
       " array([  37.78777467, -122.40710823]),\n",
       " array([  37.78792353, -122.40348735]),\n",
       " array([  37.78833516, -122.39959995]),\n",
       " array([  37.79018083, -122.39684992]),\n",
       " array([  37.7923881, -122.397246 ]),\n",
       " array([  37.7945886, -122.3966507]),\n",
       " array([  37.7935828, -122.3961434]),\n",
       " array([  37.7901273, -122.3969176]),\n",
       " array([  37.7891867, -122.3983283]),\n",
       " array([  37.78809033, -122.4014479 ]),\n",
       " array([  37.78516805, -122.40051662]),\n",
       " array([  37.78636913, -122.39918182]),\n",
       " array([  37.78846182, -122.40222707]),\n",
       " array([  37.78866907, -122.402173  ]),\n",
       " array([  37.78941877, -122.40292892]),\n",
       " array([  37.78878969, -122.40456398]),\n",
       " array([  37.79680861, -122.40846689]),\n",
       " array([  37.79773395, -122.40866428]),\n",
       " array([  37.79965841, -122.40933109]),\n",
       " array([  37.80128991, -122.41155863]),\n",
       " array([  37.8028429 , -122.41389016]),\n",
       " array([  37.8053704, -122.4175152]),\n",
       " array([  37.80635778, -122.42287717]),\n",
       " array([  37.80407704, -122.42571836]),\n",
       " array([  37.80367958, -122.42886742]),\n",
       " array([  37.80298682, -122.43394832]),\n",
       " array([  37.8027345, -122.4359762]),\n",
       " array([  37.80378313, -122.43686328]),\n",
       " array([  37.80365327, -122.43683698]),\n",
       " array([  37.80365405, -122.43654924]),\n",
       " array([  37.80254309, -122.43653129]),\n",
       " array([  37.80079128, -122.43649016]),\n",
       " array([  37.80041612, -122.43951881]),\n",
       " array([  37.79917317, -122.44175404]),\n",
       " array([  37.79969696, -122.43603499]),\n",
       " array([  37.798494 , -122.4357917]),\n",
       " array([  37.79849733, -122.43576552]),\n",
       " array([  37.79820555, -122.43429562]),\n",
       " array([  37.79901783, -122.42790591]),\n",
       " array([  37.79555198, -122.42507979]),\n",
       " array([  37.78921831, -122.42374438]),\n",
       " array([  37.78221978, -122.42236368]),\n",
       " array([  37.77762065, -122.42143548]),\n",
       " array([  37.77762748, -122.41808626]),\n",
       " array([  37.77626504, -122.41467695]),\n",
       " array([  37.77810236, -122.40922818]),\n",
       " array([  37.7806803 , -122.40596834]),\n",
       " array([  37.7827213 , -122.40648555]),\n",
       " array([  37.78258538, -122.4066785 ]),\n",
       " array([  37.7844858, -122.404475 ]),\n",
       " array([  37.78563165, -122.40721685]),\n",
       " array([  37.78729517, -122.40646151]),\n",
       " array([  37.7897111, -122.4070363]),\n",
       " array([  37.7941167, -122.4080319]),\n",
       " array([  37.7976269, -122.4086323]),\n",
       " array([  37.79765043, -122.4087577 ]),\n",
       " array([  37.7965025, -122.4100935]),\n",
       " array([  37.795944  , -122.41095037]),\n",
       " array([  37.79624982, -122.4116686 ]),\n",
       " array([  37.7944638, -122.411467 ]),\n",
       " array([  37.79177313, -122.41134669]),\n",
       " array([  37.79097746, -122.41684432]),\n",
       " array([  37.78890372, -122.41869717]),\n",
       " array([  37.78388101, -122.41765607]),\n",
       " array([  37.7773521, -122.416133 ]),\n",
       " array([  37.77489631, -122.41302489]),\n",
       " array([  37.77198611, -122.414021  ]),\n",
       " array([  37.76252482, -122.41505374]),\n",
       " array([  37.75569615, -122.41456917]),\n",
       " array([  37.75553777, -122.41658325]),\n",
       " array([  37.75555585, -122.41692912]),\n",
       " array([  37.75651079, -122.41887172]),\n",
       " array([  37.7586446, -122.4189593]),\n",
       " array([  37.75888053, -122.4151388 ]),\n",
       " array([  37.77665566, -122.3942258 ]),\n",
       " array([  37.77689984, -122.39526113]),\n",
       " array([  37.7757149, -122.3967812]),\n",
       " array([  37.7778043, -122.4003134]),\n",
       " array([  37.7814333 , -122.40501747]),\n",
       " array([  37.7841531, -122.408409 ]),\n",
       " array([  37.78616136, -122.41017766]),\n",
       " array([  37.78584405, -122.41270549]),\n",
       " array([  37.7854365, -122.4159188]),\n",
       " array([  37.7847133, -122.4178298]),\n",
       " array([  37.7786767, -122.4166194]),\n",
       " array([  37.77491122, -122.4130433 ]),\n",
       " array([  37.77271391, -122.41030825]),\n",
       " array([  37.7737839, -122.408343 ]),\n",
       " array([  37.77751169, -122.40379017]),\n",
       " array([  37.7811831, -122.3958655]),\n",
       " array([  37.77952175, -122.39379666]),\n",
       " array([  37.77681847, -122.39554041]),\n",
       " array([  37.776574 , -122.3987697]),\n",
       " array([  37.7700308 , -122.39735525]),\n",
       " array([  37.74469619, -122.39513559]),\n",
       " array([  37.73385757, -122.40504277]),\n",
       " array([  37.71997593, -122.39974215]),\n",
       " array([  37.69393289, -122.39159728]),\n",
       " array([  37.67715766, -122.38835867]),\n",
       " array([  37.66551228, -122.39676218]),\n",
       " array([  37.6416003 , -122.40579691]),\n",
       " array([  37.62834628, -122.40203935]),\n",
       " array([  37.61483287, -122.38538093]),\n",
       " array([  37.61475793, -122.38569767]),\n",
       " array([  37.61461772, -122.38588082]),\n",
       " array([  37.62449966, -122.40166801]),\n",
       " array([  37.6738463, -122.3899076]),\n",
       " array([  37.70239057, -122.39384753]),\n",
       " array([  37.71532396, -122.39847156]),\n",
       " array([  37.72821977, -122.40318054]),\n",
       " array([  37.7415899 , -122.40756927]),\n",
       " array([  37.76664471, -122.40528883]),\n",
       " array([  37.76975327, -122.41789303]),\n",
       " array([  37.77437967, -122.42412113]),\n",
       " array([  37.774343 , -122.4274509]),\n",
       " array([  37.77353653, -122.43430719]),\n",
       " array([  37.77267785, -122.44115629]),\n",
       " array([  37.77178827, -122.44813759]),\n",
       " array([  37.76658996, -122.45003093]),\n",
       " array([  37.76632724, -122.45008176]),\n",
       " array([  37.76610364, -122.46152413]),\n",
       " array([  37.7641439, -122.4641914]),\n",
       " array([  37.76339254, -122.4663901 ]),\n",
       " array([  37.76111011, -122.4639785 ]),\n",
       " array([  37.76020968, -122.46391451]),\n",
       " array([  37.758224  , -122.46377457]),\n",
       " array([  37.7435865, -122.4636466]),\n",
       " array([  37.7431852 , -122.45521469]),\n",
       " array([  37.74596173, -122.45052544]),\n",
       " array([  37.74675239, -122.4440547 ]),\n",
       " array([  37.74865708, -122.43805582]),\n",
       " array([  37.74898263, -122.43239836]),\n",
       " array([  37.74939069, -122.42567946]),\n",
       " array([  37.7534404 , -122.42517551]),\n",
       " array([  37.75355737, -122.42079864]),\n",
       " array([  37.752111 , -122.4206657]),\n",
       " array([  37.74880672, -122.42035648]),\n",
       " array([  37.74817273, -122.42005911]),\n",
       " array([  37.74728349, -122.41165079]),\n",
       " array([  37.7468843, -122.4115644]),\n",
       " array([  37.74686145, -122.4119371 ]),\n",
       " array([  37.7442144 , -122.41221827]),\n",
       " array([  37.74565667, -122.41243454]),\n",
       " array([  37.74572566, -122.41244118]),\n",
       " array([  37.74675479, -122.41254024]),\n",
       " array([  37.75368616, -122.41421586]),\n",
       " array([  37.75895508, -122.41472337]),\n",
       " array([  37.76146602, -122.4152171 ]),\n",
       " array([  37.7651898 , -122.41656238]),\n",
       " array([  37.7650653, -122.4194837]),\n",
       " array([  37.76484009, -122.42187902]),\n",
       " array([  37.76337847, -122.42174654]),\n",
       " array([  37.76314941, -122.42423712]),\n",
       " array([  37.7631193 , -122.42476655]),\n",
       " array([  37.76290207, -122.4284329 ]),\n",
       " array([  37.76630214, -122.42885598]),\n",
       " array([  37.7678774, -122.429036 ]),\n",
       " array([  37.77028835, -122.42977482]),\n",
       " array([  37.77081004, -122.44071383]),\n",
       " array([  37.7701542 , -122.44534783]),\n",
       " array([  37.76997961, -122.44531189]),\n",
       " array([  37.7672171, -122.4463874]),\n",
       " array([  37.76380506, -122.44449654]),\n",
       " array([  37.76248454, -122.44558329]),\n",
       " array([  37.76721336, -122.44641679]),\n",
       " array([  37.7702176, -122.4453607]),\n",
       " array([  37.77083242, -122.44035076]),\n",
       " array([  37.77133465, -122.43659804]),\n",
       " array([  37.77133702, -122.43199476]),\n",
       " array([  37.77019932, -122.42922734]),\n",
       " array([  37.76614638, -122.42870035]),\n",
       " array([  37.76614862, -122.42865992]),\n",
       " array([  37.76666389, -122.42666957]),\n",
       " array([  37.76720694, -122.42907054]),\n",
       " array([  37.76661326, -122.42997754]),\n",
       " array([  37.7635404, -122.4338725]),\n",
       " array([  37.7621827, -122.4351519]),\n",
       " array([  37.76241658, -122.43512176]),\n",
       " array([  37.760509  , -122.43499987]),\n",
       " array([  37.7621827, -122.4351519]),\n",
       " array([  37.76346806, -122.43530701]),\n",
       " array([  37.77054976, -122.43522692]),\n",
       " array([  37.77193561, -122.43187698]),\n",
       " array([  37.77213051, -122.43032748]),\n",
       " array([  37.77242254, -122.42802909]),\n",
       " array([  37.7725274, -122.4271742]),\n",
       " array([  37.7734511, -122.4237212]),\n",
       " array([  37.77383529, -122.42444321]),\n",
       " array([  37.77342611, -122.42735559]),\n",
       " array([  37.77238779, -122.42831257]),\n",
       " array([  37.77230212, -122.42881341]),\n",
       " array([  37.7720572, -122.4270789]),\n",
       " array([  37.77121807, -122.4299823 ]),\n",
       " array([  37.77172123, -122.43038313]),\n",
       " array([  37.77405891, -122.43085542]),\n",
       " array([  37.77531563, -122.42785706]),\n",
       " array([  37.7758239 , -122.42387581]),\n",
       " array([  37.77938224, -122.42350079]),\n",
       " array([  37.7817558, -122.4222916]),\n",
       " array([  37.78199626, -122.4203908 ]),\n",
       " array([  37.7823845, -122.4141365]),\n",
       " array([  37.78488629, -122.4126973 ]),\n",
       " array([  37.78579621, -122.41308555]),\n",
       " array([  37.78682857, -122.41319743]),\n",
       " array([  37.7873823, -122.413309 ]),\n",
       " array([  37.79046206, -122.41395882]),\n",
       " array([  37.79173495, -122.41418582]),\n",
       " array([  37.79415265, -122.41481226]),\n",
       " array([  37.79555695, -122.41759465]),\n",
       " array([  37.7952272, -122.4200457]),\n",
       " array([  37.7958431, -122.4218753]),\n",
       " array([  37.7959543, -122.4217864]),\n",
       " array([  37.79715584, -122.41151425]),\n",
       " array([  37.79757387, -122.40904945]),\n",
       " array([  37.79783282, -122.40640201]),\n",
       " array([  37.7982706, -122.4035376]),\n",
       " array([  37.79861228, -122.40084862]),\n",
       " array([  37.7966013, -122.3970214]),\n",
       " array([  37.7943901, -122.3976924]),\n",
       " array([  37.79450767, -122.39729174]),\n",
       " array([  37.79397044, -122.39760873]),\n",
       " array([  37.79391852, -122.39759838]),\n",
       " array([  37.79445274, -122.39724498]),\n",
       " array([  37.79414075, -122.39656221]),\n",
       " array([  37.7936242, -122.3975397]),\n",
       " array([  37.79457094, -122.39739351]),\n",
       " array([  37.79321456, -122.39921777]),\n",
       " array([  37.79322614, -122.39912117]),\n",
       " array([  37.79315032, -122.40116872]),\n",
       " array([  37.79275614, -122.40447207]),\n",
       " array([  37.79203769, -122.40928099]),\n",
       " array([  37.7915512, -122.4123668]),\n",
       " array([  37.79108782, -122.41601771]),\n",
       " array([  37.7909096, -122.4189867]),\n",
       " array([  37.79036584, -122.42208449]),\n",
       " array([  37.7893183, -122.4223349]),\n",
       " array([  37.78860224, -122.42190891]),\n",
       " array([  37.7897034 , -122.42241276]),\n",
       " array([  37.79305195, -122.42295897]),\n",
       " array([  37.80152549, -122.42467107]),\n",
       " array([  37.80332546, -122.42503349]),\n",
       " array([  37.80425796, -122.42523642]),\n",
       " array([  37.80645  , -122.4189598]),\n",
       " array([  37.80670802, -122.42047233]),\n",
       " array([  37.8064526, -122.4222174]),\n",
       " array([  37.80580068, -122.42208663]),\n",
       " array([  37.80550475, -122.42204687]),\n",
       " array([  37.80475885, -122.4198821 ]),\n",
       " array([  37.8051356, -122.4175523]),\n",
       " array([  37.80575725, -122.41333837]),\n",
       " array([  37.80630639, -122.40817826]),\n",
       " array([  37.8049891, -122.4035428]),\n",
       " array([  37.79868114, -122.39867386]),\n",
       " array([  37.7969367, -122.3972875]),\n",
       " array([  37.79448869, -122.39698822]),\n",
       " array([  37.7943901, -122.3976924]),\n",
       " array([  37.7938544, -122.3962985]),\n",
       " array([  37.79567238, -122.39666826]),\n",
       " array([  37.79373827, -122.39897414]),\n",
       " array([  37.79110839, -122.40136682]),\n",
       " array([  37.7890533 , -122.40245538]),\n",
       " array([  37.788901 , -122.4036842]),\n",
       " array([  37.78777621, -122.40499565]),\n",
       " array([  37.7865529, -122.4064999]),\n",
       " array([  37.78607221, -122.41088785]),\n",
       " array([  37.78605522, -122.41102317]),\n",
       " array([  37.78605044, -122.41106131]),\n",
       " array([  37.7860039 , -122.41303134]),\n",
       " array([  37.78858251, -122.41371303]),\n",
       " array([  37.78930795, -122.41552614]),\n",
       " array([  37.7886974, -122.4203209]),\n",
       " array([  37.7867367, -122.421426 ]),\n",
       " array([  37.7866337, -122.4215134]),\n",
       " array([  37.78662455, -122.42158445]),\n",
       " array([  37.78673037, -122.42147759]),\n",
       " array([  37.7867367, -122.421426 ]),\n",
       " array([  37.78675986, -122.42143071]),\n",
       " array([  37.7866655 , -122.42141201]),\n",
       " array([  37.78657  , -122.4213932]),\n",
       " array([  37.78665023, -122.4213837 ]),\n",
       " array([  37.78665411, -122.42135305]),\n",
       " array([  37.78588301, -122.42125368]),\n",
       " array([  37.78586584, -122.41468835]),\n",
       " array([  37.7873419 , -122.41330087]),\n",
       " array([  37.79024268, -122.41388528]),\n",
       " array([  37.79157517, -122.41415363]),\n",
       " array([  37.79453253, -122.41466377]),\n",
       " array([  37.7977573, -122.415399 ]),\n",
       " array([  37.80148309, -122.41618302]),\n",
       " array([  37.803221, -122.413715]),\n",
       " array([  37.80709135, -122.41381033]),\n",
       " array([  37.8080655, -122.4109913]),\n",
       " array([  37.80834896, -122.41004416]),\n",
       " array([  37.8083444, -122.4099992]),\n",
       " array([  37.80819637, -122.40973767]),\n",
       " array([  37.80740525, -122.4068116 ]),\n",
       " array([  37.80519548, -122.40357161]),\n",
       " ...]"
      ]
     },
     "execution_count": 389,
     "metadata": {},
     "output_type": "execute_result"
    }
   ],
   "source": [
    "backtracked_trace"
   ]
  },
  {
   "cell_type": "code",
   "execution_count": 330,
   "metadata": {
    "collapsed": true
   },
   "outputs": [],
   "source": [
    "particles = my_particle_filter.particles; weights = my_particle_filter.weights;\n",
    "viterbi_trellis_idx=my_particle_filter.viterbi_trellis_idx;\n",
    "viterbi_trellis=my_particle_filter.viterbi_trellis"
   ]
  },
  {
   "cell_type": "code",
   "execution_count": 336,
   "metadata": {
    "collapsed": false
   },
   "outputs": [
    {
     "data": {
      "text/plain": [
       "[array([[0., 0.],\n",
       "        [1., 0.]]),\n",
       " array([[0., 1.],\n",
       "        [1., 2.]]),\n",
       " array([[ 0., 12.],\n",
       "        [ 1.,  9.],\n",
       "        [ 2., 17.],\n",
       "        [ 3.,  2.],\n",
       "        [ 4.,  9.],\n",
       "        [ 5.,  7.],\n",
       "        [ 6., 14.],\n",
       "        [ 7., 34.],\n",
       "        [ 8.,  9.],\n",
       "        [ 9., 17.],\n",
       "        [10.,  2.],\n",
       "        [11.,  9.],\n",
       "        [12.,  7.],\n",
       "        [13., 14.],\n",
       "        [14., 34.],\n",
       "        [15., 19.],\n",
       "        [16.,  4.],\n",
       "        [17.,  2.],\n",
       "        [18.,  9.],\n",
       "        [19.,  7.],\n",
       "        [20., 14.],\n",
       "        [21., 34.],\n",
       "        [22., 19.],\n",
       "        [23.,  4.],\n",
       "        [24., 37.],\n",
       "        [25., 34.],\n",
       "        [26., 19.],\n",
       "        [27.,  4.],\n",
       "        [28., 34.],\n",
       "        [29., 19.],\n",
       "        [30.,  4.],\n",
       "        [31., 37.],\n",
       "        [32., 34.],\n",
       "        [33.,  7.],\n",
       "        [34., 14.]]),\n",
       " array([[ 0., 14.],\n",
       "        [ 1., 14.]]),\n",
       " array([[0., 0.],\n",
       "        [1., 1.],\n",
       "        [2., 2.]])]"
      ]
     },
     "execution_count": 336,
     "metadata": {},
     "output_type": "execute_result"
    }
   ],
   "source": [
    "viterbi_trellis_idx[-5:]"
   ]
  },
  {
   "cell_type": "code",
   "execution_count": 339,
   "metadata": {
    "collapsed": false
   },
   "outputs": [
    {
     "data": {
      "text/plain": [
       "(50, 2)"
      ]
     },
     "execution_count": 339,
     "metadata": {},
     "output_type": "execute_result"
    }
   ],
   "source": [
    "viterbi_trellis[-3].shape"
   ]
  },
  {
   "cell_type": "code",
   "execution_count": 333,
   "metadata": {
    "collapsed": false
   },
   "outputs": [
    {
     "ename": "IndexError",
     "evalue": "index 34 is out of bounds for axis 0 with size 2",
     "output_type": "error",
     "traceback": [
      "\u001b[0;31m---------------------------------------------------------------------------\u001b[0m",
      "\u001b[0;31mIndexError\u001b[0m                                Traceback (most recent call last)",
      "\u001b[0;32m<ipython-input-333-a103450a5ff6>\u001b[0m in \u001b[0;36m<module>\u001b[0;34m\u001b[0m\n\u001b[1;32m      4\u001b[0m \u001b[0;31m# Backtrack through the viterbi trellis (#obs, n, 2) actual lat/long states\u001b[0m\u001b[0;34m\u001b[0m\u001b[0;34m\u001b[0m\u001b[0;34m\u001b[0m\u001b[0m\n\u001b[1;32m      5\u001b[0m \u001b[0;32mfor\u001b[0m \u001b[0mj\u001b[0m \u001b[0;32min\u001b[0m \u001b[0mrange\u001b[0m\u001b[0;34m(\u001b[0m\u001b[0mlen\u001b[0m\u001b[0;34m(\u001b[0m\u001b[0mviterbi_trellis\u001b[0m\u001b[0;34m)\u001b[0m \u001b[0;34m-\u001b[0m \u001b[0;36m1\u001b[0m\u001b[0;34m,\u001b[0m \u001b[0;34m-\u001b[0m\u001b[0;36m1\u001b[0m\u001b[0;34m,\u001b[0m \u001b[0;34m-\u001b[0m\u001b[0;36m1\u001b[0m\u001b[0;34m)\u001b[0m\u001b[0;34m:\u001b[0m\u001b[0;34m\u001b[0m\u001b[0;34m\u001b[0m\u001b[0m\n\u001b[0;32m----> 6\u001b[0;31m     \u001b[0mbest_last_state_idx\u001b[0m \u001b[0;34m=\u001b[0m \u001b[0mint\u001b[0m\u001b[0;34m(\u001b[0m\u001b[0mviterbi_trellis_idx\u001b[0m\u001b[0;34m[\u001b[0m\u001b[0mj\u001b[0m\u001b[0;34m]\u001b[0m\u001b[0;34m[\u001b[0m\u001b[0mbest_last_state_idx\u001b[0m\u001b[0;34m,\u001b[0m \u001b[0;36m1\u001b[0m\u001b[0;34m]\u001b[0m\u001b[0;34m)\u001b[0m\u001b[0;34m\u001b[0m\u001b[0;34m\u001b[0m\u001b[0m\n\u001b[0m\u001b[1;32m      7\u001b[0m     \u001b[0mbest_last_state\u001b[0m \u001b[0;34m=\u001b[0m \u001b[0mviterbi_trellis\u001b[0m\u001b[0;34m[\u001b[0m\u001b[0mj\u001b[0m\u001b[0;34m]\u001b[0m\u001b[0;34m[\u001b[0m\u001b[0mbest_last_state_idx\u001b[0m\u001b[0;34m]\u001b[0m\u001b[0;34m\u001b[0m\u001b[0;34m\u001b[0m\u001b[0m\n\u001b[1;32m      8\u001b[0m     \u001b[0mbacktracked_states\u001b[0m\u001b[0;34m.\u001b[0m\u001b[0mappend\u001b[0m\u001b[0;34m(\u001b[0m\u001b[0mbest_last_state\u001b[0m\u001b[0;34m)\u001b[0m\u001b[0;34m\u001b[0m\u001b[0;34m\u001b[0m\u001b[0m\n",
      "\u001b[0;31mIndexError\u001b[0m: index 34 is out of bounds for axis 0 with size 2"
     ]
    }
   ],
   "source": [
    "best_last_state_idx = np.argmax(weights)\n",
    "best_last_state = particles[best_last_state_idx]\n",
    "backtracked_states = [best_last_state]\n",
    "# Backtrack through the viterbi trellis (#obs, n, 2) actual lat/long states\n",
    "for j in range(len(viterbi_trellis) - 1, -1, -1):\n",
    "    best_last_state_idx = int(viterbi_trellis_idx[j][best_last_state_idx, 1])\n",
    "    best_last_state = viterbi_trellis[j][best_last_state_idx]\n",
    "    backtracked_states.append(best_last_state)\n",
    "# Put in chronological order\n",
    "backtracked_states = backtracked_states[::-1]"
   ]
  },
  {
   "cell_type": "code",
   "execution_count": 335,
   "metadata": {
    "collapsed": false
   },
   "outputs": [
    {
     "data": {
      "text/plain": [
       "1380"
      ]
     },
     "execution_count": 335,
     "metadata": {},
     "output_type": "execute_result"
    }
   ],
   "source": [
    "len(viterbi_trellis)"
   ]
  },
  {
   "cell_type": "code",
   "execution_count": 334,
   "metadata": {
    "collapsed": false
   },
   "outputs": [
    {
     "data": {
      "text/plain": [
       "1376"
      ]
     },
     "execution_count": 334,
     "metadata": {},
     "output_type": "execute_result"
    }
   ],
   "source": [
    "j"
   ]
  },
  {
   "cell_type": "code",
   "execution_count": null,
   "metadata": {
    "collapsed": true
   },
   "outputs": [],
   "source": [
    "# Let's plot the smoothed trace, cast as linestring overlaid on SF shapefile\n",
    "# And, compare it with the raw trace."
   ]
  },
  {
   "cell_type": "code",
   "execution_count": 403,
   "metadata": {
    "collapsed": false
   },
   "outputs": [
    {
     "data": {
      "image/svg+xml": [
       "<svg xmlns=\"http://www.w3.org/2000/svg\" xmlns:xlink=\"http://www.w3.org/1999/xlink\" width=\"100.0\" height=\"100.0\" viewBox=\"-122.50250765334894 37.60635606511704 0.1781271035869878 0.22306464042147667\" preserveAspectRatio=\"xMinYMin meet\"><g transform=\"matrix(1,0,0,-1,0,75.43577677065556)\"><polyline fill=\"none\" stroke=\"#66cc99\" stroke-width=\"0.004461292808429534\" points=\"-122.39485713061501,37.75134205109912 -122.3952268,37.7512915 -122.39456707540178,37.75199272383451 -122.3935227,37.7508102 -122.39255461543287,37.750163281932245 -122.3922596,37.7545324 -122.3924645423595,37.75901007318398 -122.3977688085235,37.77054347932661 -122.3940037,37.776513 -122.38842267376253,37.78193871450497 -122.38912768891237,37.78994270238936 -122.39601116627654,37.797349866731956 -122.4021149,37.7978823 -122.40647321886662,37.79781468957694 -122.4051415,37.7966453 -122.404646557143,37.7925261344671 -122.40380459408937,37.78949938186797 -122.4085313,37.7882806 -122.41527320945741,37.787425307137156 -122.41689378190883,37.78721971245545 -122.4211362,37.784774 -122.42190998461818,37.77988594723757 -122.42271964662999,37.77499193228091 -122.4243081,37.7748083 -122.43021345862415,37.77405720053405 -122.4374713702987,37.773055788764054 -122.4392969,37.7738594 -122.43739403562597,37.774101648565065 -122.4373404,37.7739789 -122.4373404,37.7739789 -122.4373058,37.773804 -122.4361506,37.7752152 -122.43731541254944,37.772750929322335 -122.43718032259206,37.772085826635745 -122.43720690892478,37.772213248108244 -122.43660913832548,37.77133323900732 -122.4302069899847,37.77085451820492 -122.4289998,37.768677 -122.42852009182238,37.76776141500653 -122.4330942,37.7641276 -122.4355638,37.7608587 -122.43500267039879,37.76053669807076 -122.43500487354711,37.76055849676153 -122.4349944644918,37.76045550606631 -122.43455971962891,37.757695367722484 -122.4325779084166,37.75879789145059 -122.43258897212021,37.75891298270505 -122.43006127185,37.759578391053985 -122.42871525125979,37.76355564562762 -122.4288803,37.7669513 -122.42555821866301,37.770101613026576 -122.42243458477157,37.77278052564694 -122.4198,37.7746899 -122.40956301488298,37.782839252831806 -122.40327715964887,37.78724828192682 -122.3998251,37.788158 -122.39808348531461,37.78952836782865 -122.4001553,37.7912559 -122.40264125650039,37.79211974421242 -122.40348758112852,37.79179507539557 -122.4034661293621,37.79179782471946 -122.40355442597804,37.79178650835552 -122.40387826428667,37.79170539740596 -122.40419179311735,37.791448119154104 -122.4034314,37.7923892 -122.40365853380345,37.79225516122495 -122.4041734,37.7913354 -122.4033505137847,37.7871650985466 -122.4042813,37.7846356 -122.40873028273707,37.78448296704093 -122.41100491331717,37.78431514755576 -122.41268825187103,37.78430630999898 -122.41269641384147,37.784346681595466 -122.41270300508614,37.78437928390294 -122.4125426108994,37.784326545660626 -122.41268513150446,37.78429087571369 -122.41255239642503,37.784372315548254 -122.41253939607599,37.78431150895116 -122.41268046149708,37.78426777643207 -122.41267467670026,37.78423916306178 -122.4125632,37.7842359 -122.4126688497335,37.78421034110611 -122.41288998414717,37.78530425711639 -122.41340403658388,37.787856306511294 -122.41363298289386,37.79050347171744 -122.40734102020734,37.7912157718205 -122.40722668312789,37.79109716227785 -122.4071146665448,37.79043117418088 -122.40717006011197,37.79039188423677 -122.4106080499449,37.78993347427812 -122.4118446,37.7884785 -122.41493763022316,37.78710057411925 -122.41303596976945,37.787077553228634 -122.41148766954416,37.78695300591254 -122.41156167163548,37.78707571170126 -122.4098612,37.7864985 -122.4105825410176,37.79059949666033 -122.40948282939941,37.7929533705253 -122.410538,37.7964463 -122.4107927525984,37.80066144441482 -122.4109407,37.8015212 -122.41183416747991,37.804887351940955 -122.4099992,37.8083444 -122.4091115,37.8081232 -122.40342977322916,37.804786345163556 -122.40224131332543,37.79842272242288 -122.4101897,37.7975484 -122.4195122,37.796212 -122.42188855218781,37.79591219563167 -122.42332975344851,37.79563994725874 -122.42216314004571,37.79495615113609 -122.4214918,37.7952505 -122.41125295393324,37.79727030993214 -122.4103485,37.7977755 -122.41092026685209,37.80023462478471 -122.4111302,37.8010868 -122.41111179205392,37.80156366783827 -122.40998154289392,37.808375090112015 -122.40914546708856,37.808215225357806 -122.4110811302995,37.806819355674705 -122.4176361,37.8053009 -122.418826,37.8058564 -122.42497274895896,37.80409020585166 -122.4294805,37.8006396 -122.43441296705447,37.80001588963791 -122.44097901396756,37.79911793364742 -122.44243609119985,37.799086373905155 -122.44501693469962,37.79872474365184 -122.44856802536668,37.79771492184543 -122.45166,37.7966397 -122.4511854622199,37.797629290131354 -122.44630504979155,37.79859080946069 -122.44280126104677,37.79903990641096 -122.43109274313316,37.800287428463626 -122.43012457864172,37.7954893343225 -122.42845438872297,37.79415584540832 -122.42422154980946,37.79127800187438 -122.42069459362371,37.79153745472454 -122.41751123657879,37.79197223586863 -122.41360588876162,37.79243762426221 -122.41055018955846,37.791780776372015 -122.41227333819856,37.79165654314578 -122.41153125564233,37.7878999056228 -122.41176246884332,37.78787059617969 -122.41198383961027,37.7878425310162 -122.41630049189584,37.78729502692345 -122.42001670165216,37.78718864751238 -122.42181427616504,37.786595141029785 -122.42194631596334,37.78006251082474 -122.42098156014572,37.77619078409126 -122.42094889195641,37.774762914632504 -122.4226364,37.7723984 -122.4223380348959,37.76959223048701 -122.4218608,37.7646393 -122.42172093276238,37.76310084156276 -122.42148308312761,37.76062060807669 -122.42100530846439,37.75572758742622 -122.41888224624714,37.756620742435345 -122.4191943,37.75863 -122.41944698560442,37.76252219995657 -122.4198442,37.7666729 -122.4223678,37.7698737 -122.42240267688685,37.77254502542462 -122.42136751276232,37.77348691181286 -122.4162039764564,37.77769240269995 -122.4143687,37.7790964 -122.41213411351353,37.78155530880855 -122.41258095133362,37.783775549902266 -122.4129900900325,37.78676203842793 -122.41306545175597,37.787073891255574 -122.41246629990763,37.788740868939136 -122.40669407865376,37.787553671893484 -122.40772901207716,37.793152610948034 -122.4083663,37.7957652 -122.40887791856927,37.798572797800496 -122.40932175911557,37.79965201389876 -122.411329,37.8011339 -122.41172042398556,37.804583946475965 -122.4124018,37.8084969 -122.4099992,37.8083444 -122.4091181,37.8083069 -122.40908982619375,37.807071792231575 -122.4157719572081,37.806315516991624 -122.4187103,37.8061955 -122.42501556131312,37.80408438133079 -122.4247278775104,37.80116970540696 -122.43105239764017,37.80008749818335 -122.4309516,37.799588 -122.43015232234191,37.79968960144186 -122.427880539086,37.80108410088663 -122.4278519,37.8009432 -122.42847131237914,37.80372959496999 -122.4168248,37.8053247 -122.41328174244812,37.8051832486945 -122.41121736079141,37.80209200702513 -122.41073615964551,37.80081119363182 -122.41058767445938,37.79895065118757 -122.41007532952817,37.79641297768662 -122.40900794624646,37.79217372595292 -122.4026821,37.7927735 -122.4010713,37.7931777 -122.40283213727348,37.792960316348676 -122.4034157,37.7954523 -122.4059142,37.7951703 -122.4048574,37.7952674 -122.4048574,37.7952674 -122.40401896266937,37.79588423090749 -122.40600255340095,37.79739075872793 -122.4071918877069,37.79834778968034 -122.4092824325733,37.7996155145993 -122.41079020410373,37.80065970155035 -122.4148809,37.8035415 -122.4078282,37.8073102 -122.409391,37.8081565 -122.41002111909728,37.8083791855072 -122.4100347382259,37.80845740505055 -122.40982400460878,37.80843401444819 -122.40975595297418,37.8084264609845 -122.40968684375056,37.808278867668925 -122.40913059867457,37.807884620111004 -122.41197938725156,37.806357863125506 -122.41138525763368,37.80304217242628 -122.41042444224651,37.800513548027894 -122.4108508,37.8002434 -122.41005425279586,37.79630913680395 -122.4094452,37.7938244 -122.4089237,37.7911952 -122.4085511,37.7883647 -122.4081900691619,37.78709455216775 -122.40871848656332,37.786348297940904 -122.4080382,37.7838398 -122.4052158,37.7817113 -122.40409500965349,37.78407657062291 -122.40764785869818,37.78182269754287 -122.40844339479814,37.77707091068838 -122.40656968695421,37.77319478621803 -122.40617589519444,37.76118761967243 -122.4030793,37.7499528 -122.39696720919785,37.749713481253764 -122.39526181510233,37.751238332392376 -122.3952397282581,37.75127241002825 -122.39501355824602,37.75136669287025 -122.39501363432188,37.75136756176104 -122.39501023483457,37.75132873495535 -122.39509577798972,37.751315347093886 -122.39520128551233,37.751351794951404 -122.3943369,37.7513494 -122.39470235101491,37.751533759962115 -122.39502480980667,37.75149520111843 -122.3951949,37.7513041 -122.395261,37.751241 -122.39528772448446,37.75116189375066 -122.39402611463396,37.75167037306663 -122.393367,37.7498961 -122.39812972193924,37.749645425948586 -122.40687997586642,37.748781636764264 -122.4088801990611,37.748311650187055 -122.41374867266914,37.74830709638464 -122.41396440219951,37.751062448081285 -122.41436130121663,37.7552743843012 -122.41710175248518,37.75715047357495 -122.41898213312433,37.757665008999396 -122.41883020925553,37.7586531568722 -122.41691173607403,37.758983646299384 -122.41725104339591,37.7619676813307 -122.41751939318044,37.765340065819785 -122.41778334342793,37.76938823339387 -122.4187932302166,37.772599224990316 -122.4156305,37.7753419 -122.4133641,37.7770623 -122.41620031388467,37.78499184072477 -122.41630966160493,37.785531964295686 -122.41653883678728,37.78666416195351 -122.41687775124656,37.788338848646056 -122.41075812777143,37.78895789833608 -122.40834351098164,37.78918855636498 -122.4070977,37.789421 -122.40423419553768,37.78979623028658 -122.40063033231095,37.79119911928618 -122.39945841450904,37.792231860543794 -122.4000551,37.7941003 -122.4005513,37.7954902 -122.40144836567029,37.79990815110224 -122.40190568294516,37.80246293112575 -122.40334941858131,37.803963026991134 -122.40338587037118,37.8036050046917 -122.4023415,37.798331 -122.40108608993357,37.79274304146937 -122.39874447513647,37.79308511199204 -122.39911289614997,37.79128590987035 -122.39797281069052,37.79241935406773 -122.39793075972695,37.794801457679185 -122.3992758,37.7947168 -122.3994331107264,37.79531069923327 -122.39970715261087,37.795210258572624 -122.4095934490807,37.792112603941085 -122.4324729,37.789087 -122.43385255423911,37.788888770374136 -122.43889007857773,37.78827063036228 -122.44246522170087,37.789539037541545 -122.44320281945139,37.79228081638687 -122.44163010201184,37.79248080230212 -122.4380467323307,37.792975539198714 -122.4368201093878,37.795970856362196 -122.4357985434236,37.79705855689638 -122.43349030644137,37.7973524137149 -122.42932020317326,37.79788158138502 -122.42564511398076,37.798352738667184 -122.42435250491502,37.80070525632592 -122.42458523617685,37.8010948558013 -122.4247286,37.8011645 -122.42674166954805,37.8001231357074 -122.43262074078422,37.79937580842172 -122.43608523391917,37.800842501232 -122.43616882008334,37.800871138963885 -122.43416699664455,37.801086341415235 -122.42870874552638,37.80178013237286 -122.42586620931905,37.79944682816869 -122.4244012,37.7956213 -122.41143909834707,37.79729075913865 -122.40600433757695,37.79795565114219 -122.4054784,37.7971669 -122.40515978623081,37.79566030578035 -122.4034314,37.7923892 -122.4025983,37.791909 -122.4036842,37.788901 -122.403791129047,37.788410339815165 -122.4079833,37.7881091 -122.41171023490604,37.787812303864236 -122.4166614985117,37.78727005243697 -122.41969520156522,37.78559497798211 -122.41922832202762,37.78310145722472 -122.4171732,37.7814508 -122.4173623,37.7804329 -122.41679728076646,37.78149862678388 -122.41683413962566,37.78149393737048 -122.4167399662245,37.77923351482567 -122.4181878,37.77917 -122.4187253,37.7807775 -122.41886472890079,37.78219175971525 -122.41895513068147,37.78192487964087 -122.41736,37.7823844 -122.4190101,37.7802207 -122.41882764561807,37.78024422032943 -122.41683675711691,37.78041617268074 -122.41587673855655,37.78339251740815 -122.4167112120019,37.787515707299924 -122.4161393498648,37.79018488371884 -122.4088928,37.7910287 -122.4050876,37.7918222 -122.4019114512349,37.79266219596174 -122.40269317236196,37.79287188834107 -122.40550841296276,37.79707627616461 -122.4060408851713,37.797282565410725 -122.40825865824495,37.79908481638777 -122.40873367662947,37.79928346637928 -122.4092764,37.7996209 -122.41315022034794,37.80235270077849 -122.41699100663574,37.80496114831639 -122.42054350166767,37.80676616110902 -122.4182687,37.8078399 -122.41735352935399,37.80770134113391 -122.41703668189672,37.80608508694425 -122.41224761927533,37.80176901310672 -122.40889557110127,37.79892981420543 -122.40619393759486,37.79753925692279 -122.40514754096486,37.7968010321214 -122.40589750620178,37.79731805084106 -122.4059753,37.7976108 -122.4061835,37.797516 -122.4057958,37.7971081 -122.40588894327797,37.79744001052307 -122.40825475641836,37.79895392430794 -122.4094733940139,37.79992428214462 -122.4117915,37.8014527 -122.4154270630721,37.80386274516446 -122.41869753439882,37.806050546210564 -122.41861032926062,37.80612919444553 -122.41707102676209,37.805196587197315 -122.41468010732433,37.80254795782161 -122.4140371,37.7993659 -122.41335402336283,37.795990110442474 -122.4129092109345,37.793764181675954 -122.41233175095829,37.79089561963821 -122.41231120105219,37.79079357780433 -122.4122872,37.7906745 -122.41183391330127,37.79073210210572 -122.40859912428473,37.791143089519224 -122.4029097,37.7929497 -122.4020714,37.7934413 -122.40333394953706,37.79181476528949 -122.4028197,37.790926 -122.40262869122614,37.79036285917401 -122.40383452531513,37.79148991762871 -122.4042334,37.7917031 -122.4034314,37.7923892 -122.40379125620882,37.79223770968884 -122.4038880257659,37.79222498555674 -122.4046908,37.7906852 -122.40582668277585,37.788627476527424 -122.41216626332871,37.78781940352041 -122.41681348326469,37.78802120792924 -122.4139087526978,37.788557636080135 -122.4139306171712,37.788554858860216 -122.41393811734815,37.78855390618963 -122.41392077594962,37.78855610888971 -122.41392436702375,37.78855565275237 -122.4102667,37.7890203 -122.4054347,37.7896352 -122.4054347,37.7896352 -122.40226580495487,37.790265461014066 -122.40061728907074,37.79039462722261 -122.40003876343485,37.794605348677294 -122.3977767,37.7948179 -122.39638962742241,37.794600614539995 -122.3964568,37.7946298 -122.39662451324537,37.794455052518714 -122.39648315672565,37.79430778917473 -122.39769452594126,37.79245385349106 -122.39668526708527,37.79283430898521 -122.39822397692102,37.79532320322427 -122.40090844978403,37.79772719860705 -122.40185471149245,37.80195846744209 -122.40215727038417,37.804103806737174 -122.40411713109316,37.805521809577996 -122.40477669342165,37.806117698286066 -122.40412062861581,37.805817493973635 -122.4032619,37.8039625 -122.40236988063717,37.79846521755753 -122.407867,37.7977217 -122.41024083797987,37.79722114661827 -122.4118262,37.7962297 -122.4129686092632,37.79406239137934 -122.41225235496441,37.790501618621605 -122.41125182122067,37.78698298833121 -122.41119219846084,37.78507734214441 -122.40842864749352,37.787820385436106 -122.40813004454407,37.78809147723629 -122.41014605300731,37.78521009983402 -122.4083122,37.7872827 -122.40720583941163,37.78885669203578 -122.40934506848915,37.786267196316054 -122.4103609,37.7854656 -122.40818813370561,37.7878342433806 -122.40829056765456,37.78759212120509 -122.40833965247151,37.78741696117355 -122.40831141542647,37.787695966179626 -122.40917005181456,37.78628986011207 -122.4093654178788,37.78626456492946 -122.4095511060595,37.78624055352679 -122.4083428,37.7874324 -122.40966743673708,37.786225510766755 -122.40956143326854,37.786699199421875 -122.4097584,37.7865096 -122.41819350702461,37.78514762978038 -122.41877052202882,37.784114103345956 -122.41937728245452,37.78499737416773 -122.419214518909,37.7850180336067 -122.41989898894225,37.78660990492 -122.4201845292369,37.788021023258395 -122.4207768,37.7904734 -122.41655968995681,37.79110754290766 -122.4124292,37.7924514 -122.41254785413365,37.7925719538752 -122.411303705316,37.78579689245394 -122.4104174233802,37.78545874726855 -122.41131756455455,37.78586559951858 -122.4108459,37.7854068 -122.41086947838262,37.78511829279866 -122.40962840674004,37.78586433071397 -122.41038942821532,37.78613477501682 -122.41101579303361,37.78605615024383 -122.41112528108115,37.786042406699124 -122.41456682466877,37.78751496193857 -122.42111809167754,37.78668387577698 -122.42139765102333,37.78659257723016 -122.42512544792774,37.785991180666905 -122.4299042683042,37.78555311679607 -122.4328651,37.7857815 -122.43351705930476,37.787222558210125 -122.4340716490037,37.78997756895476 -122.4337363925369,37.791681464743945 -122.43248043415608,37.79043935330872 -122.43387953093999,37.78890630317105 -122.44000273398439,37.788131932428506 -122.44393296315782,37.78764322733378 -122.45067267123453,37.78677048292933 -122.45719440284581,37.785943066190626 -122.45737027517052,37.785920662835906 -122.455064,37.7862148 -122.45193100111793,37.787563009717395 -122.45101613717245,37.78767972029741 -122.45044898865052,37.787752072293884 -122.44561975614484,37.787428087310346 -122.43915223767362,37.788237950949856 -122.43207333679864,37.78913618875926 -122.42713071103147,37.78976558234525 -122.4237273,37.7899941 -122.4189465,37.7907113 -122.41553512442452,37.79115016298088 -122.41065872845823,37.791860134111566 -122.40586281226223,37.79342137815584 -122.40176267384498,37.79290185618615 -122.3986758,37.7933805 -122.39634151884574,37.794065201287744 -122.39643432313198,37.79407680328078 -122.39589402995365,37.79349351751384 -122.39470618997983,37.791792231879015 -122.39471354891185,37.79179809579911 -122.39661235301988,37.79391057972706 -122.3975397,37.7936242 -122.40062670676106,37.7930414990073 -122.400941,37.7925458 -122.4011489,37.7911354 -122.4026697673211,37.79225979736678 -122.4053628,37.7924394 -122.40809477077246,37.7921878667305 -122.4123724610001,37.791579469396716 -122.41766735584375,37.79087078626653 -122.42041017279246,37.790731550166576 -122.42286695685434,37.79034603866106 -122.42502681352693,37.79003350923975 -122.43365332429583,37.78893544552908 -122.44069674833895,37.78805888245595 -122.4469763574661,37.78714735841473 -122.4489053534906,37.7870010515671 -122.45399384270891,37.78634952885629 -122.45944335717833,37.78565637491727 -122.46693103968407,37.7847125084849 -122.46869852828634,37.78275790191557 -122.46832708575364,37.77728806188896 -122.47033101861679,37.7752792084378 -122.47032111553372,37.77514135663396 -122.46835154509719,37.777629889441144 -122.46859366701905,37.781008973595846 -122.46851029253466,37.78276644535371 -122.46627854141005,37.78286793526348 -122.46551278207309,37.78297340819632 -122.46551616505572,37.783020276806795 -122.46229911471941,37.785293043604014 -122.45506575567346,37.786223385531066 -122.4494384,37.7867184 -122.44302120715948,37.7877594684378 -122.43728080286579,37.78917782503901 -122.4342202,37.7907202 -122.43254998319892,37.790777668989925 -122.43249609665837,37.79093948341359 -122.43249604264842,37.7909394901278 -122.43212519622685,37.79008233555686 -122.43115968471322,37.79226612446801 -122.43105651015671,37.79292256645327 -122.43102323235378,37.79292679974905 -122.43099871749932,37.79292991830317 -122.43097169894533,37.79293335535492 -122.43100480270118,37.79292914419981 -122.43098887674813,37.79293117015296 -122.4310035508514,37.79292930344862 -122.43101339160256,37.792928051598835 -122.43099496194998,37.79293039604959 -122.43099496194998,37.79293039604959 -122.4309545211425,37.792935540556876 -122.43096436189371,37.79293428870709 -122.43100480270118,37.79292914419981 -122.43097295079511,37.79293319610611 -122.43102323235378,37.79292679974905 -122.43100480270118,37.79292914419981 -122.4310305694054,37.79292586639688 -122.43100963605322,37.792928529345254 -122.43105400645713,37.79292288495088 -122.43102323235378,37.79292679974905 -122.43103432495474,37.79292538865045 -122.43103790645702,37.7929249330447 -122.4310391583068,37.792924773795896 -122.43102465825064,37.79292661835957 -122.43129389982977,37.79293071454218 -122.43104291385616,37.79292429604948 -122.43103182125517,37.792925707148065 -122.43105025090779,37.7929233626973 -122.43099979530204,37.792929781195035 -122.43105275460735,37.79292304419969 -122.43106617686082,37.79292133674415 -122.43104774720821,37.79292368119492 -122.4310305694054,37.79292586639688 -122.4310035508514,37.79292930344862 -122.43095326929271,37.79293569980568 -122.43102710224463,37.79112588927006 -122.42915803674123,37.79069837900124 -122.43260518492356,37.791078978249615 -122.43376592060935,37.79167773176776 -122.42956142655768,37.7922112665387 -122.42843233718399,37.789599822780666 -122.42355871014922,37.790260161753736 -122.42233080864824,37.79041563457188 -122.4206276,37.7907044 -122.4156995,37.7913338 -122.40939269288538,37.79202330412145 -122.40110627004474,37.79334871789001 -122.4016623214842,37.79503454816139 -122.4012576225153,37.79497009241843 -122.40153558333203,37.79495338951083 -122.4011415,37.7994765 -122.39778862425491,37.797077570143344 -122.39749548725197,37.79721012936628 -122.39880883509099,37.79285727399029 -122.3985222281843,37.78894824149203 -122.39537653093795,37.78941336607944 -122.39399957091757,37.78768846337058 -122.3967193,37.7855436 -122.39617554844709,37.78524740311154 -122.39581584668439,37.781360320488304 -122.40094299192617,37.77730642568275 -122.40698611155716,37.77249424219324 -122.4085865426779,37.77106843959074 -122.4097443,37.7703545 -122.4097443,37.7703545 -122.41063518871695,37.76697140405268 -122.41145624534157,37.76542466619723 -122.411500439986,37.765897884285785 -122.41336219014549,37.764781371685494 -122.41263086358242,37.76007288177101 -122.4123453595158,37.75709850891631 -122.41315348233346,37.754092475661125 -122.41311038985907,37.75363089719253 -122.41311114257006,37.75363895974153 -122.41315339592765,37.75409155013852 -122.4122536570052,37.75613318256265 -122.41319259963578,37.75417079785047 -122.41311122897586,37.75363988526413 -122.4138139,37.7541275 -122.41207542961455,37.75426041751389 -122.41206860583449,37.75417053348498 -122.41157068242468,37.75266176023113 -122.40886837736969,37.75282199726638 -122.4064475,37.7533448 -122.4057828,37.7543253 -122.4048505,37.7545832 -122.40515748645572,37.75544678845727 -122.4048702,37.7547688 -122.40569980886201,37.75304684684791 -122.40914583816829,37.752774755489604 -122.412033228867,37.75261102184957 -122.4146115128485,37.75247512276124 -122.41886117136826,37.75222106022517 -122.41902779464574,37.75216850147165 -122.41893095548575,37.752217178837405 -122.42159628231722,37.75207130147364 -122.42587984466317,37.751797410391035 -122.4296589,37.7515702 -122.4320005662121,37.751429171567565 -122.43476821045768,37.751259972655994 -122.44038991924553,37.7509186773728 -122.44273664982691,37.75077521071122 -122.44279740370523,37.750796485268225 -122.43828830295735,37.75265195062689 -122.43500045660872,37.75284811765142 -122.43446630675034,37.75504658430947 -122.4343386,37.7536888 -122.43376399021307,37.7513462846365 -122.42948005648229,37.75158093854194 -122.42739525825117,37.751090396939574 -122.42703224574326,37.747627210238335 -122.42658566947513,37.743796039498406 -122.4219292,37.7439943 -122.42176902479436,37.74400416357467 -122.4217883357664,37.74400297440676 -122.41908757054637,37.74677817374777 -122.41804115186022,37.74821597187483 -122.4115088,37.7483548 -122.40699787539737,37.748743438933644 -122.3974143,37.7494164 -122.39533814362272,37.75017954422279 -122.39470657142807,37.75056071477335 -122.39501208074822,37.75134981781975 -122.39399625543689,37.75135939936296 -122.39519621143882,37.75131389545678 -122.39520410292909,37.75137283892549 -122.39522917527685,37.75156011041587 -122.3935102,37.7506223 -122.39254676449124,37.75317429711842 -122.39198622334263,37.75579893105709 -122.39649470762505,37.76789010739391 -122.4009956,37.7748144 -122.4057216,37.7784364 -122.41099996852064,37.77426996003932 -122.41491705179192,37.77085773088552 -122.4198335,37.7691882 -122.4200106,37.7684137 -122.42002384166169,37.76855395016673 -122.42003165422288,37.768591329724664 -122.42010354031201,37.768588452482824 -122.4200106,37.7684137 -122.41983570460239,37.76828657707617 -122.42018720507613,37.768583771066 -122.42022893534708,37.76848075220228 -122.42172368967296,37.76817382333604 -122.422581333008,37.77194191683172 -122.4229027,37.7764217 -122.4238024458409,37.78087961179169 -122.42209014440246,37.7817811437934 -122.4209522573672,37.7830955034282 -122.419740472437,37.78582193418849 -122.41581543988764,37.78640279330827 -122.41149763208338,37.78675819970519 -122.40710822513176,37.787774667520694 -122.40348734909718,37.78792353398041 -122.39959995303724,37.788335156453684 -122.39684992232324,37.790180830365806 -122.397246,37.7923881 -122.3966507,37.7945886 -122.3961434,37.7935828 -122.3969176,37.7901273 -122.3983283,37.7891867 -122.40144789699262,37.788090326980694 -122.40051662106325,37.78516804805367 -122.39918182425704,37.786369133068376 -122.40222706968244,37.78846181621867 -122.40217299523157,37.78866906944368 -122.40292891631236,37.789418770631535 -122.40456398314653,37.78878969278587 -122.40846689348388,37.796808613661995 -122.40866427776719,37.79773394778382 -122.40933108840134,37.79965841328396 -122.41155862578894,37.80128990554853 -122.41389015900695,37.80284290136891 -122.4175152,37.8053704 -122.42287716610136,37.80635778324446 -122.42571836417437,37.80407704012887 -122.4288674219525,37.803679581652574 -122.43394832188923,37.80298681784936 -122.4359762,37.8027345 -122.43686328449024,37.80378313183729 -122.43683698206141,37.80365326681198 -122.43654924166064,37.80365404591342 -122.43653128708095,37.8025430879058 -122.4364901608478,37.80079127759111 -122.43951881064584,37.80041611912576 -122.4417540366346,37.79917316590164 -122.43603498642085,37.799696961594556 -122.4357917,37.798494 -122.4357655202797,37.79849732620336 -122.43429562478434,37.79820555492703 -122.42790590996584,37.79901782903541 -122.42507978779837,37.79555197588422 -122.42374437657676,37.78921831260045 -122.42236367921171,37.78221977647594 -122.42143547679618,37.77762065250184 -122.41808625968393,37.77762748425509 -122.41467695022247,37.77626503983198 -122.4092281772247,37.77810236061344 -122.40596833846459,37.780680299531554 -122.40648554502738,37.782721300876794 -122.40667850055793,37.78258538396741 -122.404475,37.7844858 -122.40721684566343,37.78563164642323 -122.40646150865427,37.78729516646258 -122.4070363,37.7897111 -122.4080319,37.7941167 -122.4086323,37.7976269 -122.40875770488543,37.79765043005055 -122.4100935,37.7965025 -122.41095037264631,37.79594399666551 -122.41166859624104,37.79624981798936 -122.411467,37.7944638 -122.41134668722432,37.79177312581247 -122.41684432342876,37.79097746434436 -122.41869716628943,37.78890372054828 -122.41765606715369,37.78388101326137 -122.416133,37.7773521 -122.41302488893756,37.77489631111563 -122.41402099730044,37.77198610651609 -122.41505373881152,37.762524815211144 -122.41456917329111,37.75569614996185 -122.41658324788025,37.75553777075121 -122.41692912321263,37.75555584534622 -122.41887171839502,37.756510792978105 -122.4189593,37.7586446 -122.41513880360024,37.758880532053 -122.39422579658066,37.776655663120074 -122.39526113428083,37.776899842306804 -122.3967812,37.7757149 -122.4003134,37.7778043 -122.4050174737631,37.78143329552282 -122.408409,37.7841531 -122.41017765987151,37.786161357349464 -122.41270548761655,37.78584404974036 -122.4159188,37.7854365 -122.4178298,37.7847133 -122.4166194,37.7786767 -122.41304330388341,37.77491122447543 -122.41030824697579,37.77271390784272 -122.408343,37.7737839 -122.40379016621841,37.77751168885971 -122.3958655,37.7811831 -122.39379666203963,37.77952175269142 -122.3955404099388,37.776818468881224 -122.3987697,37.776574 -122.39735525458201,37.77003080481755 -122.3951355859497,37.74469618946968 -122.40504277150218,37.733857567020635 -122.39974215322852,37.71997593087878 -122.3915972812797,37.69393289296116 -122.38835867446069,37.677157664627366 -122.39676217509995,37.665512279789844 -122.40579690752725,37.641600300719766 -122.40203934716537,37.628346280056824 -122.3853809290984,37.61483286775636 -122.38569767410979,37.61475793349443 -122.38588081887112,37.614617718465986 -122.40166801378625,37.624499655725295 -122.3899076,37.6738463 -122.39384753028065,37.70239056867348 -122.39847155580307,37.71532396397772 -122.40318054038306,37.72821976713145 -122.40756926543187,37.74158989662596 -122.40528883392963,37.76664471329384 -122.41789303109192,37.76975326909512 -122.4241211263613,37.77437966501452 -122.4274509,37.774343 -122.43430719074125,37.77353653036835 -122.4411562903936,37.77267784841197 -122.44813758894156,37.77178827046378 -122.4500309320862,37.76658995847959 -122.45008176131644,37.766327243462996 -122.46152412907215,37.766103640595325 -122.4641914,37.7641439 -122.46639010255807,37.76339254254782 -122.46397850065539,37.761110106850694 -122.46391450775316,37.760209682658044 -122.46377456690945,37.758224004118674 -122.4636466,37.7435865 -122.45521468650912,37.74318520031367 -122.45052543593754,37.74596173412181 -122.44405469521072,37.74675238641725 -122.43805581630455,37.748657082542366 -122.43239836238702,37.748982629694666 -122.4256794641885,37.749390691325125 -122.42517551072267,37.75344039950101 -122.42079864023938,37.753557372564174 -122.4206657,37.752111 -122.42035648258118,37.74880671903907 -122.4200591085987,37.74817273062138 -122.41165079042658,37.74728349233828 -122.4115644,37.7468843 -122.4119370984525,37.746861450892915 -122.41221826842546,37.74421440265714 -122.41243453634054,37.745656674465955 -122.41244117939148,37.74572566388718 -122.41254024280474,37.74675478867297 -122.41421585748662,37.753686163845124 -122.41472337355972,37.7589550773396 -122.41521710334308,37.76146602466636 -122.41656238452546,37.76518979967402 -122.4194837,37.7650653 -122.42187901705417,37.764840089244444 -122.42174654027238,37.76337847001405 -122.42423712284787,37.763149410075 -122.42476654790103,37.76311930059331 -122.42843290418828,37.76290207158637 -122.42885597696818,37.76630214044075 -122.429036,37.7678774 -122.429774816933,37.77028834779145 -122.44071383115168,37.770810042559454 -122.445347832596,37.770154202734226 -122.4453118899446,37.769979610038575 -122.4463874,37.7672171 -122.44449654203251,37.76380505762524 -122.44558329127813,37.76248453576414 -122.44641679300703,37.76721335797447 -122.4453607,37.7702176 -122.44035076476834,37.77083242075745 -122.43659804405017,37.771334652949776 -122.43199475762941,37.77133701807269 -122.42922733619857,37.770199320159996 -122.42870035431297,37.766146375107034 -122.42865992342288,37.766148622157694 -122.42666957133392,37.766663891152 -122.42907054459924,37.76720694485854 -122.42997754480814,37.76661326172831 -122.4338725,37.7635404 -122.4351519,37.7621827 -122.4351217557295,37.76241658337404 -122.43499987124824,37.76050900233347 -122.4351519,37.7621827 -122.4353070148593,37.76346805863229 -122.43522692399561,37.77054976110323 -122.43187697637447,37.77193560878211 -122.43032747807158,37.77213051117096 -122.428029085976,37.7724225446058 -122.4271742,37.7725274 -122.4237212,37.7734511 -122.42444321052307,37.77383529050526 -122.4273555852196,37.773426106330064 -122.42831256523345,37.77238779032672 -122.42881340577526,37.77230212199473 -122.4270789,37.7720572 -122.42998230220354,37.77121807147361 -122.4303831328277,37.77172123018246 -122.43085541852749,37.77405890580703 -122.42785705866946,37.775315634870886 -122.42387580628647,37.775823904458555 -122.423500788961,37.779382242265285 -122.4222916,37.7817558 -122.4203908028218,37.78199626469 -122.4141365,37.7823845 -122.41269729591227,37.78488628910706 -122.41308555433834,37.78579621051094 -122.41319743323363,37.786828569444175 -122.413309,37.7873823 -122.41395882491939,37.790462062356674 -122.41418582048675,37.791734945798225 -122.41481226109208,37.794152650133114 -122.41759465459543,37.795556954762866 -122.4200457,37.7952272 -122.4218753,37.7958431 -122.4217864,37.7959543 -122.41151425183342,37.79715583528979 -122.4090494499746,37.7975738735666 -122.40640200920468,37.797832822285024 -122.4035376,37.7982706 -122.40084862127487,37.79861227943662 -122.3970214,37.7966013 -122.3976924,37.7943901 -122.39729174335085,37.79450766786269 -122.39760873120176,37.793970440978576 -122.39759837903874,37.793918517457605 -122.39724498336602,37.79445273832876 -122.3965622062987,37.79414075346305 -122.3975397,37.7936242 -122.39739351168741,37.794570940562906 -122.39921776830049,37.79321455788213 -122.39912117386532,37.79322613809099 -122.40116871514438,37.79315032416443 -122.40447207324823,37.79275614088176 -122.40928098821615,37.7920376908996 -122.4123668,37.7915512 -122.41601770669888,37.79108782107768 -122.4189867,37.7909096 -122.42208448973427,37.790365844870344 -122.4223349,37.7893183 -122.42190891109648,37.78860224341979 -122.42241276231057,37.78970339706963 -122.42295897443489,37.7930519532583 -122.42467107240212,37.801525493485585 -122.42503349078264,37.8033254574789 -122.42523642369223,37.80425796013729 -122.4189598,37.80645 -122.42047233064265,37.80670801690969 -122.4222174,37.8064526 -122.42208662881856,37.805800676169454 -122.42204687364794,37.80550474505924 -122.41988210474335,37.80475885132329 -122.4175523,37.8051356 -122.41333837198934,37.80575725300371 -122.40817826375364,37.80630639197139 -122.4035428,37.8049891 -122.39867385518615,37.798681142471615 -122.3972875,37.7969367 -122.39698821600628,37.79448868575912 -122.3976924,37.7943901 -122.3962985,37.7938544 -122.39666826163796,37.795672381533066 -122.39897413917078,37.79373826790536 -122.40136682373607,37.79110838506936 -122.40245537851905,37.789053297078375 -122.4036842,37.788901 -122.40499564767217,37.78777621336886 -122.4064999,37.7865529 -122.41088785101422,37.78607221023305 -122.41102316634436,37.78605522470512 -122.41106131007147,37.786050436693735 -122.41303133810482,37.78600390082049 -122.41371302614843,37.78858250576804 -122.41552613847955,37.789307948911784 -122.4203209,37.7886974 -122.421426,37.7867367 -122.4215134,37.7866337 -122.42158444869543,37.786624552302726 -122.42147759332138,37.78673037344253 -122.421426,37.7867367 -122.42143070668695,37.7867598563611 -122.42141201375499,37.786665497298124 -122.4213932,37.78657 -122.42138369516414,37.786650229567655 -122.42135305435352,37.78665411109474 -122.4212536775987,37.78588301024508 -122.41468835439868,37.78586583879849 -122.41330086892226,37.78734190138217 -122.41388527963633,37.7902426810669 -122.41415362769209,37.79157516538352 -122.41466376910083,37.79453252557823 -122.415399,37.7977573 -122.41618302303029,37.80148308838332 -122.413715,37.803221 -122.41381032621142,37.807091345261156 -122.4109913,37.8080655 -122.41004416357218,37.808348961827896 -122.4099992,37.8083444 -122.40973767003048,37.80819637388469 -122.40681160135503,37.80740524705504 -122.40357160500677,37.80519548172254 -122.401974,37.797591 -122.40355567634913,37.79461510578284 -122.40466073924007,37.79380941550699 -122.404059,37.7907655 -122.4053095,37.7890125 -122.4054281,37.7868436 -122.40792383861516,37.78645054075342 -122.4110365944027,37.786053539141044 -122.4119769659975,37.78593548562417 -122.41347549942883,37.78765336399181 -122.4134014612935,37.78784382508917 -122.4147116,37.7903664 -122.41439279072198,37.79278947420429 -122.41503275884,37.79593944397415 -122.41580149126841,37.79975574449924 -122.41654039481698,37.803336923400195 -122.4151859,37.8055338 -122.4155467,37.8062568 -122.41554871650645,37.80731276419062 -122.41553703157528,37.808255586616 -122.41459707696833,37.808465405023036 -122.41400610931176,37.808449177934484 -122.41233981128963,37.80819014197908 -122.4101817,37.8079999 -122.40907367717762,37.80793714677209 -122.41023178970664,37.805541551168986 -122.40949025933399,37.801871877887905 -122.40906122227,37.79978005035569 -122.4091579,37.7997268 -122.40626838100354,37.79802581552764 -122.4021192,37.7983604 -122.40172789344622,37.79588849232849 -122.40022856341764,37.79447409278418 -122.40066485538294,37.795434710593 -122.4032339,37.7950645 -122.4045266,37.7962386 -122.4048885080656,37.794913247945836 -122.40477933842507,37.794396208398304 -122.40453663220107,37.79166079988948 -122.4052473,37.7887033 -122.4047739562358,37.78680750461054 -122.4063131,37.786578 -122.4065064992877,37.78658350419672 -122.4080561,37.7864339 -122.4098122933868,37.78620721625531 -122.4112774011826,37.78566648992223 -122.41270799977931,37.7858437344202 -122.41796296033408,37.78537365912066 -122.41957227162823,37.784983664063354 -122.42085797484516,37.78392072367738 -122.41922569938879,37.784056195553696 -122.4175067,37.7839044 -122.41642795895558,37.786116366316804 -122.41695428198048,37.78912531644419 -122.41531738238412,37.790289405066 -122.41059486115618,37.79088955964814 -122.41082889449505,37.79196153571401 -122.41087643404764,37.79205988157281 -122.4107549,37.7919712 -122.41160511012785,37.7917405967678 -122.41183847084639,37.78844811770238 -122.41106271163544,37.78509377033555 -122.4073817,37.7855622 -122.4063131,37.786578 -122.40647857805625,37.78645004891297 -122.4081526,37.7864991 -122.40896557114546,37.786316340385206 -122.4077709,37.7833012 -122.40459140706933,37.78114010456194 -122.4031742551056,37.78008460975701 -122.40031536757218,37.77786316320093 -122.40322995325697,37.775497887184535 -122.40860007770624,37.771039414474416 -122.41249079790994,37.76945740713628 -122.41257057959116,37.768775502751936 -122.413009,37.7687123 -122.4132219,37.7686996 -122.41346754695792,37.768848399295585 -122.41327593475012,37.770377952026706 -122.4156215,37.7693396 -122.41530926548766,37.76517972255315 -122.4176209253615,37.76355462196863 -122.42079070879173,37.7633614186349 -122.42615973710929,37.762922321760584 -122.42614456342656,37.76276474584599 -122.42265857443273,37.761634511716665 -122.4214387970453,37.76077137348315 -122.42145777164541,37.75849310892218 -122.42313012428082,37.75839205440389 -122.42316483683264,37.75838995447383 -122.42326507494708,37.75838389058572 -122.423613676018,37.76013593185795 -122.42409476768756,37.764181305181516 -122.42432589248656,37.7665732199488 -122.4246877,37.7702107 -122.42354839713587,37.77168995472524 -122.4222474,37.7731552 -122.4229968,37.7768892 -122.4232543,37.7786943 -122.4244506,37.7840964 -122.42499932400514,37.78681406416543 -122.43119788716281,37.787313549967976 -122.43512,37.7868155 -122.43517240944145,37.7870754041739 -122.4336117259564,37.78605357118 -122.43021059741405,37.786484720299505 -122.43011703362116,37.78649656198961 -122.42839151022338,37.78689969536267 -122.4269801,37.7887344 -122.4235850024538,37.78815707580807 -122.42302405821563,37.78538109584618 -122.42198198335312,37.780235466534016 -122.41976999460427,37.777238199165296 -122.4162654,37.7774619 -122.4147169,37.7762334 -122.410506,37.777092 -122.40699522490969,37.77986871154374 -122.4052158,37.7817113 -122.4023494,37.7833977 -122.40145440668452,37.78418739282292 -122.40096131681172,37.78457441818994 -122.40102994636285,37.78460996166031 -122.40097322531086,37.78456507123008 -122.4011265,37.7845424 -122.4008003,37.7847008 -122.4003258,37.7850348 -122.3994115,37.7834181 -122.40188356962224,37.78146652784571 -122.40801181149081,37.77672552669429 -122.41218973966996,37.776670327012944 -122.4147979,37.7789035 -122.41523064965492,37.77973332600799 -122.4164473,37.7836829 -122.41684127609096,37.78818516360244 -122.41889722498101,37.79071743762404 -122.4194224,37.7926013 -122.41963338959638,37.793476608331666 -122.42112654703969,37.792684373864546 -122.42115104755877,37.79280536238287 -122.42112034168738,37.7926537305798 -122.42290873773615,37.79215821861643 -122.4237512,37.7901633 -122.42257528405669,37.78362842496317 -122.42155927135681,37.77813412225821 -122.4180638,37.7775161 -122.4163332,37.7772839 -122.4147169,37.7762334 -122.41236507426018,37.77800737332374 -122.40540213285578,37.7833341268712 -122.404639536525,37.784789723367034 -122.40502283111643,37.78642343158445 -122.40499236681238,37.786447178899536 -122.4052572,37.7852817 -122.4059164,37.7857139 -122.406381352008,37.78520913844419 -122.40742040347776,37.784385465409265 -122.4062133,37.7825048 -122.4072704,37.7821197 -122.4109581,37.7790849 -122.4162669725414,37.77555449061876 -122.41971748875737,37.77635174675822 -122.42281784603773,37.77600227886792 -122.4230182634294,37.776886449370544 -122.42362561554636,37.779996883942154 -122.4250653,37.7871398 -122.42611230077935,37.79232953556112 -122.42674509749041,37.79544707025384 -122.4276673,37.7980942 -122.43063848677973,37.798038281585555 -122.42973433548518,37.79878540737752 -122.42974667690386,37.79878383967092 -122.42571125206166,37.7986798620043 -122.42439968562343,37.79196822578788 -122.4233101,37.7867967 -122.42232377893286,37.78365926303956 -122.4193813,37.7840364 -122.41752680923929,37.78427223977489 -122.41543729413736,37.784579892654094 -122.40965412800891,37.78527252807785 -122.40788940227078,37.784068289480054 -122.4074809,37.783532 -122.40634671037887,37.78332878720638 -122.4047116077102,37.78368740993746 -122.4031423,37.7852266 -122.40189376357627,37.786285891967765 -122.3995164,37.7884009 -122.3967026,37.7904732 -122.3975538,37.7924807 -122.39648,37.7936638 -122.3964428,37.7945615 -122.3963524,37.7936868 -122.3948175,37.7919634 -122.39297042377406,37.79028780852245 -122.38873311152624,37.7870228690779 -122.38788843738051,37.7848482892833 -122.3891680058373,37.78000952150956 -122.39163624869457,37.778020341638815 -122.3912239,37.7777973 -122.38976674886833,37.77455105615461 -122.38914399267641,37.76833407438479 -122.38870755928926,37.7643938036486 -122.38839972065762,37.75955991723898 -122.38788485799708,37.75509694418806 -122.38769672246609,37.753025725360644 -122.38792960096478,37.75280638122485 -122.3926627,37.7525484 -122.39620262062178,37.7523308377755 -122.39642748831557,37.75131935490646 -122.3953384,37.7501785 -122.39519838546701,37.75133013380454 -122.39375997506804,37.751949210832294 -122.39486108847342,37.751386180506024 -122.39501461134473,37.751378720701325 -122.39509755865423,37.751315267667025 -122.39512616358572,37.7513139917388 -122.39501268935521,37.75135676894613 -122.39501087549775,37.75133605220708 -122.39509800382035,37.751315247810304 -122.39503070783434,37.75156256468035 -122.39522715567429,37.7515450255109 -122.39341792130493,37.751130288423845 -122.39696400349303,37.74899414389503 -122.39610276790172,37.747031285075565 -122.4021015,37.7452452 -122.4053671,37.7423833 -122.4055827,37.7423169 -122.4050984337028,37.74221437734834 -122.40484789280718,37.74220384125924 -122.4070985,37.7385041 -122.41007665372672,37.735124326223115 -122.42408082496351,37.73135052364964 -122.44070715022443,37.729460722527264 -122.44724409589601,37.722326334348395 -122.45579992267001,37.71059818646644 -122.471011,37.7048686 -122.47027021239205,37.69154843908165 -122.47135447126077,37.67810115246672 -122.48415583474802,37.66925607232089 -122.49290970333398,37.63588795724827 -122.494246,37.6364 -122.49027970259597,37.63818019740785 -122.49151198677907,37.647841735948745 -122.48589982624306,37.657899308090926 -122.48400572049813,37.66974884257261 -122.47292653617073,37.67576456155701 -122.47075729229788,37.68901920076393 -122.47150982006266,37.70250340852728 -122.47218397498204,37.71560428015096 -122.47479498450254,37.71918732925934 -122.47507042910196,37.72699459523961 -122.47478948853735,37.7323811277592 -122.4732173,37.731674 -122.46855550164128,37.72954851429576 -122.46231376297344,37.725332688565594 -122.45798783525747,37.72434020661411 -122.45514982413081,37.72349971280675 -122.45559797651224,37.72336535069203 -122.4556003,37.7233654 -122.4556003,37.7233654 -122.4556003,37.7233654 -122.4556003,37.7233654 -122.45559222340957,37.723365228602376 -122.4557161,37.7234849 -122.4557161,37.7234849 -122.4560685,37.7237592 -122.45146000271953,37.72308142411956 -122.44393009468388,37.728281047429725 -122.43011092423953,37.73429192341737 -122.4239799,37.7410431 -122.4234421,37.7423758 -122.4225503,37.7480778 -122.42280982701709,37.75073717655972 -122.42653229706909,37.75175826361428 -122.42736567953459,37.751569445654226 -122.429423,37.749158 -122.43588067206926,37.74878207913302 -122.44129217570341,37.74862144697248 -122.4448634,37.747036 -122.44290215134828,37.75275828163431 -122.44276298299103,37.753003764853595 -122.44483305315127,37.75941563956668 -122.43537009298194,37.762620173272765 -122.42971749696481,37.7667037604694 -122.42464115458878,37.77095868161526 -122.42157320153788,37.77341136459078 -122.4186749,37.7755496 -122.41427449459226,37.7792057753815 -122.41182463773616,37.781120406545604 -122.4079492444401,37.784103742966394 -122.4052325,37.7862578 -122.3999015387079,37.790655819874985 -122.39701823580654,37.791803388284954 -122.39592132088436,37.793623173829275 -122.3918644,37.7892467 -122.3909427,37.788651 -122.3912032590072,37.78871130670107 -122.39120897943265,37.788864888356144 -122.39221106429744,37.788126103512795 -122.39287598870068,37.78873050065204 -122.3958424,37.7910142 -122.39714492592668,37.79003633755754 -122.39734357071855,37.790105854168424 -122.3975949,37.7896443 -122.39748573333992,37.78955600459639 -122.39690335497866,37.790116035765074 -122.3973449,37.7899649 -122.39722657779774,37.789990909145516 -122.39991773552848,37.79131268350344 -122.40301364044595,37.79090088700027 -122.4110780990702,37.78987386163396 -122.4157278293375,37.789094606308986 -122.4156966,37.7889497 -122.41515873467701,37.78819639931422 -122.4188612906364,37.786970177040196 -122.4214846959138,37.78573084880856 -122.4212054,37.7856401 -122.41966310615187,37.785914535944855 -122.41665459284422,37.78629610162072 -122.41442735987786,37.784572643825165 -122.41445490423392,37.78370855096853 -122.41589609215877,37.783488538841205 -122.4164473,37.7836829 -122.41316227375101,37.78706186494461 -122.4099442,37.7874274 -122.40832876173054,37.78778236996957 -122.40832914915592,37.78778429977662 -122.4083428,37.7874324 -122.40899039254114,37.790826534158946 -122.4094534,37.7934018 -122.4108024,37.7983335 -122.41364642702659,37.80269929574748 -122.418376,37.8060849 -122.42067021228233,37.80714191668894 -122.420404,37.8076227 -122.42066996216374,37.807548697350754 -122.41916142994256,37.808101677565965 -122.41901184002754,37.80786017161161 -122.4185544,37.8059579 -122.41852912683102,37.80491017592162 -122.4167091544976,37.8006480356284 -122.41708892460123,37.797546230440624 -122.41644342281543,37.7938951894041 -122.41812604996977,37.793669086026064 -122.42125595042562,37.79332343206911 -122.4230733,37.7929724 -122.423798,37.7892115 -122.42236162627599,37.781959181851825 -122.42366162016141,37.77864289582375 -122.43072575269254,37.77782449944905 -122.43439868255675,37.77734966133402 -122.44023949089683,37.776605997041315 -122.44579235353794,37.77589855141683 -122.44641377133564,37.775819719187076 -122.44587108095615,37.77280890111197 -122.44539112180344,37.77036575484345 -122.44476517202061,37.767540864715436 -122.44454731345688,37.76639826890418 -122.44496546096157,37.763054360337165 -122.4463003,37.7623378 -122.44607515847389,37.7628454002954 -122.44580966206449,37.76268234141063 -122.44401639602687,37.764800475493374 -122.4406872,37.7670915 -122.44014883198419,37.767848496173755 -122.44033133619631,37.77085872402026 -122.44083764434357,37.77271689176263 -122.43695961097582,37.77415694467983 -122.42718880937407,37.77540065124071 -122.4230046229794,37.77688819745203 -122.41611675002589,37.777455038349295 -122.4115311667091,37.776295977821206 -122.405188,37.7812986 -122.40007864823517,37.78550524926743 -122.39686467143869,37.78810224233901 -122.39657862081584,37.78827259306009 -122.3957979,37.7872948 -122.3853064507767,37.791277602158125 -122.37436829636327,37.801500276811254 -122.36357659501823,37.81144572911769 -122.34911467558025,37.818790971744576 -122.3326422031109,37.82115905218957\" opacity=\"0.8\" /></g></svg>"
      ],
      "text/plain": [
       "<shapely.geometry.linestring.LineString at 0x1a4957e290>"
      ]
     },
     "execution_count": 403,
     "metadata": {},
     "output_type": "execute_result"
    }
   ],
   "source": [
    "LineString(np.array(backtracked_trace)[:, [1,0]])\n",
    "# first 1381"
   ]
  },
  {
   "cell_type": "code",
   "execution_count": 398,
   "metadata": {
    "collapsed": false
   },
   "outputs": [
    {
     "data": {
      "image/svg+xml": [
       "<svg xmlns=\"http://www.w3.org/2000/svg\" xmlns:xlink=\"http://www.w3.org/1999/xlink\" width=\"100.0\" height=\"100.0\" viewBox=\"-122.5246656 37.4550444 0.4394812000000172 0.43971120000000496\" preserveAspectRatio=\"xMinYMin meet\"><g transform=\"matrix(1,0,0,-1,0,75.3498)\"><polyline fill=\"none\" stroke=\"#66cc99\" stroke-width=\"0.008794224000000099\" points=\"-122.39488,37.75134 -122.39527,37.75136 -122.3946,37.75199 -122.39346,37.7508 -122.39256,37.75015 -122.39227,37.754540000000006 -122.3925,37.759009999999996 -122.39788,37.77053 -122.39381999999999,37.77669 -122.38843999999999,37.781940000000006 -122.38909,37.78999 -122.39608999999999,37.79728 -122.40239,37.79838 -122.40647,37.79779 -122.40521000000001,37.79657 -122.40471000000001,37.79305 -122.40405,37.78945 -122.40858999999999,37.78833 -122.41526999999999,37.7874 -122.41689,37.78719 -122.42106000000001,37.78477 -122.42183999999999,37.7799 -122.42273,37.77499 -122.42452,37.7748 -122.43021,37.774029999999996 -122.4375,37.77305 -122.43918000000001,37.77385 -122.43739,37.77407 -122.43733,37.77391 -122.43733,37.774 -122.43716,37.77383 -122.43646000000001,37.77514 -122.43732,37.77275 -122.43716,37.772090000000006 -122.43718999999999,37.772079999999995 -122.43661000000002,37.77134 -122.43018000000001,37.77086 -122.429,37.76873 -122.42851999999999,37.767759999999996 -122.43302,37.76417 -122.43498999999998,37.76077 -122.43496999999999,37.76054 -122.43498999999998,37.76056 -122.43495,37.760459999999995 -122.43456,37.7577 -122.43266000000001,37.758790000000005 -122.43262,37.75891 -122.43006000000001,37.75956 -122.42867,37.76356 -122.42895,37.76693 -122.42562,37.770179999999996 -122.42241000000001,37.77275 -122.41991999999999,37.77466 -122.40961999999999,37.78294 -122.4032,37.78734 -122.39951,37.78881 -122.39825,37.78974 -122.40038999999999,37.791270000000004 -122.40263999999999,37.792120000000004 -122.40351000000001,37.79197 -122.40346000000001,37.79175 -122.40356000000001,37.79183 -122.40356000000001,37.79177 -122.40369,37.79153 -122.40352,37.79189 -122.4036,37.79181 -122.40418999999999,37.79142 -122.40321000000002,37.78734 -122.40442,37.784659999999995 -122.40865,37.7845 -122.41108,37.7843 -122.41266999999999,37.78431 -122.41268000000001,37.78435 -122.41265,37.78439 -122.41261999999999,37.78431 -122.41264,37.7843 -122.41261000000002,37.78436 -122.41264,37.784290000000006 -122.41261999999999,37.784279999999995 -122.41272,37.78423 -122.41276,37.78416 -122.41272,37.7842 -122.41301000000001,37.78528 -122.41358000000001,37.78782 -122.41363,37.79048 -122.40732,37.79122 -122.40731000000001,37.79108 -122.40717,37.790420000000005 -122.40713000000001,37.7904 -122.4106,37.78987 -122.41188000000001,37.78861 -122.41498999999999,37.78709 -122.41304,37.78711 -122.4115,37.78705 -122.41158999999999,37.78707 -122.41003,37.78714 -122.41063,37.79059 -122.4095,37.79295 -122.41011,37.796490000000006 -122.41091000000002,37.80049 -122.41116000000001,37.80164 -122.41186,37.80509 -122.40998,37.80838 -122.40916999999999,37.80819 -122.40351000000001,37.80477 -122.40229,37.79841 -122.41015,37.79742 -122.41945,37.79615 -122.4219,37.79591 -122.42328,37.79565 -122.42217,37.79501 -122.42168999999998,37.79538 -122.41125,37.79725 -122.41033999999999,37.797670000000004 -122.41095,37.800470000000004 -122.41118999999999,37.80118 -122.41113,37.801559999999995 -122.40998,37.80839 -122.40915,37.80819 -122.41108999999999,37.80689 -122.41767,37.80563 -122.41931000000001,37.80584 -122.42497,37.80407 -122.42926999999999,37.800709999999995 -122.43463999999999,37.79997 -122.44082,37.79915 -122.44242,37.79896 -122.44502,37.79875 -122.44856000000001,37.7977 -122.45167,37.796859999999995 -122.45119,37.79765 -122.44631000000001,37.798629999999996 -122.4428,37.79903 -122.43108000000001,37.800290000000004 -122.43027,37.79546 -122.42846000000002,37.7942 -122.42406000000001,37.791309999999996 -122.4207,37.791579999999996 -122.41741999999999,37.791990000000006 -122.41361,37.79247 -122.41056,37.79186 -122.41226999999999,37.79163 -122.41153,37.787890000000004 -122.41176999999999,37.787929999999996 -122.412,37.78797 -122.41631000000001,37.78737 -122.42001,37.78719 -122.42182,37.786640000000006 -122.42191000000001,37.78007 -122.42097,37.7761 -122.42096000000001,37.77485 -122.42251999999999,37.772240000000004 -122.42217,37.76961 -122.4219,37.76461 -122.42173000000001,37.7631 -122.42148999999999,37.76062 -122.42098,37.75573 -122.41888999999999,37.75662 -122.41918000000001,37.75869 -122.41946999999999,37.76252 -122.41985,37.7667 -122.42231000000001,37.76984 -122.42251,37.7727 -122.42143999999999,37.77353 -122.41618999999999,37.77771 -122.41412,37.77922 -122.41206000000001,37.78157 -122.41246000000001,37.7838 -122.413,37.786840000000005 -122.41306000000002,37.78703 -122.41247,37.78877 -122.40669,37.78752 -122.40793000000001,37.79311 -122.40834,37.795770000000005 -122.40888999999999,37.79867 -122.40933000000001,37.799640000000004 -122.4113,37.80105 -122.41174,37.80458 -122.41243,37.80854 -122.40988999999999,37.80839 -122.40918,37.80823 -122.4091,37.80715 -122.41576,37.80622 -122.41868000000001,37.80611 -122.425,37.80397 -122.42473000000001,37.80117 -122.43104,37.800090000000004 -122.43109,37.79988 -122.43016000000001,37.79975 -122.42795,37.80107 -122.42785,37.801109999999994 -122.42846000000002,37.80364 -122.41667,37.80526 -122.41323999999999,37.80487 -122.4113,37.80274 -122.41073,37.80082 -122.41063999999999,37.79894 -122.41009,37.796409999999995 -122.40901000000001,37.792190000000005 -122.4027,37.79274 -122.40061000000001,37.79326 -122.40288000000001,37.79331 -122.40348,37.79514 -122.40584,37.794740000000004 -122.40476000000001,37.795320000000004 -122.40473,37.7953 -122.40398,37.79594 -122.40601000000001,37.79738 -122.40723999999999,37.79828 -122.40933999999999,37.79968 -122.41078999999999,37.80066 -122.41492,37.80355 -122.40789,37.807320000000004 -122.40942,37.80811 -122.41001999999999,37.80839 -122.41004,37.808409999999995 -122.40983,37.80838 -122.40976,37.80839 -122.40968000000001,37.80835 -122.40901000000001,37.80791 -122.41202,37.80635 -122.41138000000001,37.803000000000004 -122.41042,37.80052 -122.41081000000001,37.80015 -122.41005,37.79631 -122.4095,37.79387 -122.40885,37.7911 -122.40862,37.78865 -122.40831000000001,37.78707 -122.40872,37.786359999999995 -122.40763000000001,37.7839 -122.40513999999999,37.78175 -122.4041,37.78407 -122.40763000000001,37.7818 -122.40834,37.7772 -122.40651000000001,37.77319 -122.40613,37.76117 -122.40316999999999,37.75008 -122.39697,37.749759999999995 -122.3953,37.75125 -122.39531000000001,37.75132 -122.39509,37.75136 -122.3951,37.75136 -122.39511,37.75132 -122.3951,37.75141 -122.39513999999998,37.75136 -122.39436,37.751329999999996 -122.39497,37.751509999999996 -122.39497,37.7515 -122.39508000000001,37.75131 -122.39531000000001,37.75127 -122.39533,37.75119 -122.39403,37.751670000000004 -122.39346,37.74993 -122.39813000000001,37.74965 -122.40686000000001,37.74872 -122.40888000000001,37.748329999999996 -122.41375,37.74836 -122.41398999999998,37.751059999999995 -122.41441,37.75527 -122.4171,37.75712 -122.41893,37.757670000000005 -122.41883,37.75865 -122.41695,37.75898 -122.41725,37.76195 -122.41752,37.76534 -122.4178,37.76939 -122.41851000000001,37.77241 -122.41577,37.77547 -122.41368999999999,37.77705 -122.41616,37.785 -122.41627,37.785540000000005 -122.41651,37.78667 -122.41623,37.788470000000004 -122.41078,37.78913 -122.40836000000002,37.789320000000004 -122.40772,37.78934 -122.40406999999999,37.78983 -122.40064,37.79128 -122.39951,37.792629999999996 -122.39991,37.79417 -122.40045,37.79545 -122.40138999999999,37.79992 -122.40187,37.80247 -122.40335,37.80387 -122.40326,37.80363 -122.40223999999999,37.79822 -122.4012,37.79272 -122.39872,37.79309 -122.3991,37.791270000000004 -122.39801999999999,37.7928 -122.39793999999999,37.79488 -122.39934,37.79481 -122.39948999999999,37.7953 -122.39968999999999,37.79508 -122.40957,37.791920000000005 -122.43243000000001,37.78906 -122.43428999999999,37.7888 -122.43888999999999,37.788270000000004 -122.44251000000001,37.78953 -122.44318999999999,37.79218 -122.44163,37.79248 -122.43836999999999,37.79291 -122.43682,37.795970000000004 -122.4358,37.79707 -122.43348999999999,37.79735 -122.42931999999999,37.79788 -122.42551,37.79838 -122.42448,37.80068 -122.42461000000002,37.80109 -122.42477,37.80118 -122.42674,37.80011 -122.43262,37.79937 -122.43609,37.80088 -122.43608,37.80089 -122.43417,37.801109999999994 -122.42871000000001,37.801790000000004 -122.4259,37.799440000000004 -122.42448999999999,37.79562 -122.41143000000001,37.79722 -122.40601000000001,37.798 -122.40535,37.79714 -122.40511000000001,37.79567 -122.4036,37.792120000000004 -122.40288999999999,37.79193 -122.40366999999999,37.78897 -122.4038,37.78848 -122.4079,37.788270000000004 -122.41192,37.78777 -122.41681000000001,37.787240000000004 -122.41967,37.7856 -122.41918999999999,37.7828 -122.41716000000001,37.78157 -122.41733,37.78049 -122.4168,37.78152 -122.41684,37.78154 -122.41671000000001,37.77924 -122.41833000000001,37.77881 -122.41851000000001,37.78098 -122.41878,37.78153 -122.41868000000001,37.78198 -122.41747,37.78233 -122.41899,37.78028 -122.41883999999999,37.78034 -122.41666000000001,37.78046 -122.41578999999999,37.783409999999996 -122.41668999999999,37.78752 -122.41613999999998,37.79019 -122.40863,37.79115 -122.40565,37.791540000000005 -122.40196999999999,37.79265 -122.40274,37.793240000000004 -122.4055,37.79701 -122.406,37.797340000000005 -122.40833,37.79898 -122.40875,37.79926 -122.40933000000001,37.799690000000005 -122.41318000000001,37.80231 -122.41696999999999,37.804990000000004 -122.42056000000001,37.8067 -122.41826999999999,37.80791 -122.41736999999999,37.807809999999996 -122.41698999999998,37.80574 -122.41224,37.80178 -122.40835,37.799040000000005 -122.40616999999999,37.79755 -122.4051,37.79687 -122.40591,37.7973 -122.40579,37.79739 -122.40583000000001,37.79737 -122.40588999999999,37.797309999999996 -122.40591,37.79741 -122.40823,37.79899 -122.40958,37.79977 -122.41185,37.80148 -122.41545,37.80383 -122.41861000000002,37.80617 -122.41856999999999,37.80619 -122.41706,37.80511 -122.41467,37.80255 -122.41401,37.79922 -122.41326000000001,37.796009999999995 -122.41288,37.79377 -122.41231,37.7909 -122.41218,37.790820000000004 -122.41214,37.790820000000004 -122.41183999999998,37.79078 -122.4086,37.79115 -122.40285,37.79306 -122.40196,37.793490000000006 -122.40335,37.791940000000004 -122.40312,37.79101 -122.40293,37.7903 -122.40343999999999,37.79157 -122.40347,37.79175 -122.40361999999999,37.79206 -122.40376,37.792 -122.40388999999999,37.79224 -122.40491000000002,37.79096 -122.40581,37.7885 -122.41216000000001,37.78777 -122.41677,37.78803 -122.41389,37.78841 -122.41393000000001,37.78855 -122.41393000000001,37.78849 -122.41391999999999,37.78855 -122.41393000000001,37.7886 -122.41016,37.788990000000005 -122.40572,37.78972 -122.4054,37.789809999999996 -122.40258999999999,37.7902 -122.40059,37.7904 -122.40003,37.794540000000005 -122.3982,37.794940000000004 -122.39641,37.79476 -122.3967,37.79428 -122.39665,37.79445 -122.39652,37.7943 -122.39773000000001,37.79274 -122.39665,37.792790000000004 -122.39818999999999,37.79508 -122.40091000000001,37.797740000000005 -122.40175,37.80198 -122.40217,37.80409 -122.40413999999998,37.80549 -122.40468,37.806290000000004 -122.40404,37.80593 -122.40331,37.80392 -122.4023,37.79848 -122.40798999999998,37.797740000000005 -122.4102,37.79723 -122.41245,37.796170000000004 -122.41283,37.794090000000004 -122.41231,37.790490000000005 -122.41123999999999,37.78689 -122.41118999999999,37.785059999999994 -122.40834,37.78784 -122.40813,37.7881 -122.41016,37.78532 -122.40873,37.7871 -122.40743,37.78882 -122.40937,37.78646 -122.41004,37.78567 -122.40841999999999,37.78779 -122.4086,37.78753 -122.40857,37.78737 -122.40863999999999,37.78763 -122.40924,37.78683 -122.40937,37.7863 -122.40952,37.786 -122.40873,37.7875 -122.40969,37.7864 -122.40955,37.786609999999996 -122.40948999999999,37.78652 -122.41819,37.78512 -122.41877,37.78411 -122.41937,37.78494 -122.41923,37.785140000000006 -122.41985,37.78662 -122.42013999999999,37.78803 -122.42067,37.79025 -122.41656,37.791109999999996 -122.41252,37.79245 -122.41253999999999,37.79251 -122.41108999999999,37.78584 -122.41042,37.78548 -122.4108,37.78597 -122.41096,37.785959999999996 -122.41089,37.78528 -122.40965,37.78586 -122.41037,37.78598 -122.41101,37.78601 -122.41113,37.78608 -122.41457,37.78754 -122.42111000000001,37.78662 -122.42136,37.7866 -122.42515,37.78618 -122.42992,37.78555 -122.43316999999999,37.7856 -122.43353,37.78722 -122.43406,37.78998 -122.43373999999999,37.791709999999995 -122.43238000000001,37.790459999999996 -122.43388,37.788909999999994 -122.44,37.788109999999996 -122.44393000000001,37.787620000000004 -122.45067,37.78675 -122.45718000000001,37.78583 -122.45736000000001,37.78584 -122.45498,37.78621 -122.4519,37.78732 -122.45102,37.78771 -122.45045,37.78776 -122.44561999999999,37.78743 -122.43915,37.78822 -122.43207,37.78911 -122.42713,37.78976 -122.4238,37.79009 -122.41886000000001,37.79063 -122.41554,37.79119 -122.41066000000001,37.79187 -122.40581,37.793 -122.40177,37.79296 -122.39828999999999,37.79339 -122.39622,37.794090000000004 -122.39623,37.79412 -122.39555,37.79306 -122.3947,37.7918 -122.39471999999999,37.79179 -122.39636999999999,37.79396 -122.39708999999999,37.79347 -122.40066000000002,37.79331 -122.4005,37.792390000000005 -122.40146999999999,37.79088 -122.40316000000001,37.792159999999996 -122.40543000000001,37.79247 -122.40808999999999,37.79215 -122.41221999999999,37.79161 -122.41768,37.79097 -122.42039,37.79057 -122.42286000000001,37.79029 -122.42501999999999,37.78998 -122.43365,37.788909999999994 -122.44068,37.787929999999996 -122.44698999999999,37.78712 -122.4489,37.78696 -122.45398999999999,37.78632 -122.45943999999999,37.78563 -122.46693,37.784690000000005 -122.46869,37.78257 -122.4683,37.77729 -122.47032,37.77528 -122.47034,37.77514 -122.46835,37.77763 -122.46858,37.781009999999995 -122.46851000000001,37.782759999999996 -122.46628,37.7829 -122.46556000000001,37.78297 -122.46552,37.78302 -122.4623,37.7853 -122.45473999999999,37.78629 -122.44995,37.78691 -122.44301999999999,37.78775 -122.43727,37.78918 -122.43422,37.79076 -122.43248999999999,37.79079 -122.43248,37.79081 -122.43247,37.790729999999996 -122.43213,37.79012 -122.43118999999999,37.79226 -122.43106,37.79295 -122.43103,37.79298 -122.431,37.79294 -122.43097,37.79292 -122.43101000000001,37.792970000000004 -122.43099,37.79294 -122.43101000000001,37.79298 -122.43101999999999,37.79298 -122.431,37.792970000000004 -122.431,37.792970000000004 -122.43095,37.7929 -122.43096000000001,37.7929 -122.43101000000001,37.792970000000004 -122.43097,37.79291 -122.43103,37.79298 -122.43101000000001,37.792970000000004 -122.43104,37.793 -122.43101999999999,37.793009999999995 -122.43106,37.792970000000004 -122.43103,37.79298 -122.43104,37.792970000000004 -122.43105,37.79302 -122.43105,37.793009999999995 -122.43101999999999,37.79289 -122.43105,37.79298 -122.43105,37.79298 -122.43104,37.79299 -122.43106,37.793 -122.43101000000001,37.793009999999995 -122.43106,37.79298 -122.43108000000001,37.79303 -122.43106,37.79302 -122.43104,37.793 -122.43101000000001,37.79298 -122.43095,37.79291 -122.43101999999999,37.79107 -122.42915,37.7907 -122.4326,37.79108 -122.43377,37.791709999999995 -122.42956000000001,37.7922 -122.42844,37.78966 -122.42355,37.79019 -122.42233,37.790409999999994 -122.42063,37.79084 -122.41541000000001,37.79138 -122.4094,37.79208 -122.4011,37.79335 -122.40188,37.794990000000006 -122.40126000000001,37.794990000000006 -122.4013,37.795 -122.40099,37.79955 -122.39778999999999,37.797090000000004 -122.39748999999999,37.79717 -122.39844,37.79293 -122.39856,37.7889 -122.3953,37.78951 -122.39403999999999,37.78774 -122.39668999999999,37.78552 -122.39623,37.78518 -122.3958,37.78134 -122.40093,37.77729 -122.40703,37.77248 -122.40874,37.77114 -122.40987,37.77026 -122.40997,37.77019 -122.41065,37.76697 -122.41122,37.76545 -122.41125,37.76592 -122.41304,37.7647 -122.41263000000001,37.760059999999996 -122.41233000000001,37.7571 -122.41318000000001,37.754090000000005 -122.41311999999999,37.75363 -122.4131,37.753640000000004 -122.41317,37.754090000000005 -122.41218,37.75614 -122.41318000000001,37.75399 -122.41311,37.753640000000004 -122.41311,37.753659999999996 -122.41208,37.754259999999995 -122.41207,37.7542 -122.41157,37.75265 -122.40887,37.75285 -122.40645,37.75325 -122.40588000000001,37.75435 -122.4051,37.75461 -122.40512,37.75545 -122.40511000000001,37.75525 -122.4057,37.75305 -122.4093,37.752759999999995 -122.41216999999999,37.7526 -122.41461000000001,37.75245 -122.41886000000001,37.7522 -122.41893999999999,37.752179999999996 -122.41893,37.7522 -122.42164,37.75207 -122.42588,37.7518 -122.42963999999999,37.75157 -122.432,37.75142 -122.43477,37.751290000000004 -122.44039,37.75092 -122.44273999999999,37.75083 -122.4426,37.750809999999994 -122.43829,37.75268 -122.435,37.75284 -122.43443,37.75505 -122.43432,37.7537 -122.43378,37.75134 -122.42948,37.75158 -122.4274,37.751090000000005 -122.42703,37.74759 -122.42666000000001,37.743790000000004 -122.42216,37.743970000000004 -122.42177,37.74402 -122.42178999999999,37.74403 -122.41906999999999,37.74695 -122.41803999999999,37.74816 -122.4116,37.74835 -122.40700000000001,37.74875 -122.39726,37.74973 -122.39533999999999,37.75018 -122.39532,37.7505 -122.39501000000001,37.75135 -122.39398999999999,37.75136 -122.3953,37.7513 -122.3953,37.75136 -122.39523,37.75156 -122.39341,37.750609999999995 -122.39255,37.7532 -122.39246000000001,37.75573 -122.39652,37.76786 -122.40115,37.77493 -122.40572,37.77841 -122.411,37.77427 -122.41488999999999,37.770920000000004 -122.4199,37.769420000000004 -122.41988,37.76849 -122.41996,37.76856 -122.42003000000001,37.76855 -122.4201,37.7685 -122.4199,37.7685 -122.41984,37.768359999999994 -122.4201,37.76859 -122.42023999999999,37.76848 -122.42173000000001,37.76828 -122.4226,37.77194 -122.42283,37.776270000000004 -122.42385,37.78087 -122.42209,37.78178 -122.42093,37.7831 -122.41965,37.78584 -122.41581000000001,37.786359999999995 -122.41134,37.78679 -122.40706999999999,37.78748 -122.40346000000001,37.787929999999996 -122.39947,37.78817 -122.39696,37.79032 -122.39721999999999,37.79224 -122.39684,37.79425 -122.39608999999999,37.79343 -122.39706000000001,37.790040000000005 -122.39793,37.78938 -122.40158999999998,37.78791 -122.40055,37.78521 -122.39928,37.78625 -122.40195,37.788140000000006 -122.40215,37.78864 -122.40272,37.78946 -122.40454,37.7886 -122.40846,37.79681 -122.40867,37.797779999999996 -122.40933000000001,37.799659999999996 -122.41158,37.80126 -122.41391000000002,37.80291 -122.41752,37.805440000000004 -122.42288,37.80638 -122.42572,37.80409 -122.42886999999999,37.8037 -122.43395,37.803000000000004 -122.43616000000002,37.80276 -122.43678,37.8038 -122.43631,37.80376 -122.43655,37.80366 -122.43655,37.80256 -122.43648999999999,37.80079 -122.4395,37.80041 -122.44176000000002,37.79922 -122.43602,37.7997 -122.43586,37.79892 -122.43579,37.79869 -122.4343,37.79824 -122.42791000000001,37.79905 -122.42509,37.79555 -122.42376999999999,37.78942 -122.42239,37.78242 -122.42148,37.77792 -122.41842,37.77756 -122.41457,37.77613 -122.40925,37.77813 -122.406,37.78072 -122.40659,37.78259 -122.40669,37.7826 -122.40438,37.78451 -122.40698,37.78568 -122.40678,37.78723 -122.40708000000001,37.789770000000004 -122.40813,37.79444 -122.40865,37.797579999999996 -122.40881,37.79764 -122.41011,37.79663 -122.41101,37.796409999999995 -122.41162,37.79587 -122.4115,37.7945 -122.41134,37.79172 -122.41685,37.79102 -122.41866999999999,37.78869 -122.41767,37.783970000000004 -122.41597,37.77726 -122.41303,37.77489 -122.41401,37.772 -122.415,37.76253 -122.41457,37.75571 -122.41656,37.75554 -122.41693000000001,37.75557 -122.41888,37.75651 -122.4188,37.75865 -122.41514,37.7589 -122.39406000000001,37.77686 -122.39523,37.77686 -122.39678,37.77571 -122.40047,37.77785 -122.40491999999999,37.78131 -122.40841,37.78415 -122.41018000000001,37.78618 -122.41271,37.78588 -122.41591000000001,37.78541 -122.41776999999999,37.7847 -122.41662,37.77863 -122.41301999999999,37.77494 -122.41028,37.77275 -122.40818999999999,37.77407 -122.40382,37.77755 -122.39583,37.78118 -122.39375,37.779579999999996 -122.3954,37.77664 -122.39878,37.77643 -122.39736,37.77003 -122.39517,37.74473 -122.40496999999999,37.73386 -122.3997,37.71999 -122.39161000000001,37.69393 -122.38842,37.677170000000004 -122.39676000000001,37.66551 -122.40588000000001,37.64159 -122.40223,37.62832 -122.38538,37.61483 -122.3857,37.61477 -122.38588,37.61453 -122.40168999999999,37.62449 -122.38991999999999,37.67389 -122.39385,37.70239 -122.39845,37.715340000000005 -122.40318,37.72822 -122.40755,37.74158 -122.40536000000002,37.76664 -122.4179,37.769709999999996 -122.42407,37.774390000000004 -122.42743,37.77434 -122.4343,37.77348 -122.44113999999999,37.77255 -122.44811999999999,37.77165 -122.45008,37.76658 -122.44991999999999,37.76636 -122.46152,37.766009999999994 -122.46415,37.764179999999996 -122.46628999999999,37.7634 -122.46398,37.761109999999995 -122.46391000000001,37.76021 -122.46368999999999,37.75823 -122.46363000000001,37.74358 -122.45522,37.743190000000006 -122.45052,37.74593 -122.44408,37.746809999999996 -122.43806000000001,37.74873 -122.4324,37.74901 -122.42568,37.7494 -122.42518000000001,37.75352 -122.42076999999999,37.75356 -122.42067,37.752159999999996 -122.42031999999999,37.74881 -122.42006,37.74822 -122.41165,37.74727 -122.41166000000001,37.74687 -122.41193999999999,37.74691 -122.41223000000001,37.744409999999995 -122.4124,37.74566 -122.4125,37.74572 -122.41259,37.74675 -122.41428,37.753679999999996 -122.41478000000001,37.75895 -122.41503999999999,37.76148 -122.41656,37.765190000000004 -122.41944,37.76504 -122.42188,37.76484 -122.42183999999999,37.76337 -122.42424,37.7632 -122.42477,37.76318 -122.42843,37.76285 -122.42888,37.7663 -122.42903000000001,37.76785 -122.42976999999999,37.77025 -122.44071000000001,37.77078 -122.44527,37.77017 -122.44531,37.76998 -122.44631000000001,37.76693 -122.44451000000001,37.76381 -122.44556999999999,37.76247 -122.44641000000001,37.76716 -122.4455,37.77023 -122.44023,37.77088 -122.4366,37.77135 -122.43198000000001,37.77134 -122.42922,37.7702 -122.4287,37.76614 -122.42866000000001,37.76615 -122.42671000000001,37.766659999999995 -122.42913999999999,37.7672 -122.42998,37.76661 -122.43391000000001,37.76347 -122.4351,37.76214 -122.4351,37.7621 -122.43498999999998,37.76051 -122.43518999999999,37.76215 -122.43533000000001,37.76384 -122.43518999999999,37.77026 -122.43186999999999,37.771879999999996 -122.43033,37.77215 -122.42803,37.77243 -122.42707,37.77256 -122.42403999999999,37.77341 -122.42443999999999,37.77381 -122.42693999999999,37.773509999999995 -122.42833,37.772529999999996 -122.42833,37.7724 -122.42707,37.772009999999995 -122.42998,37.7712 -122.43033999999999,37.77173 -122.43085,37.77406 -122.42785,37.775259999999996 -122.42387,37.77578 -122.42356000000001,37.77937 -122.42205,37.78177 -122.42039,37.78199 -122.41418999999999,37.78273 -122.41268000000001,37.78475 -122.4131,37.78591 -122.41323999999999,37.78682 -122.41335,37.787409999999994 -122.41396999999999,37.79055 -122.41426000000001,37.79172 -122.41485,37.79445 -122.41758999999999,37.79552 -122.42076999999999,37.79514 -122.42178999999999,37.79548 -122.4217,37.79595 -122.41152,37.7972 -122.40907,37.79757 -122.40636,37.7979 -122.40361000000001,37.79835 -122.40087,37.79878 -122.3971,37.796859999999995 -122.39726,37.79423 -122.39725,37.79418 -122.39731,37.79403 -122.39728999999998,37.79398 -122.39719,37.794059999999995 -122.39702,37.79405 -122.39728999999998,37.79395 -122.39733999999999,37.79416 -122.39923999999999,37.7934 -122.39916000000001,37.79355 -122.40111999999999,37.79316 -122.40446999999999,37.79274 -122.40928000000001,37.79203 -122.41233999999999,37.79153 -122.41603,37.79118 -122.41886000000001,37.790820000000004 -122.42208000000001,37.79033 -122.42244,37.78955 -122.42192,37.7886 -122.42238,37.78971 -122.42296,37.79306 -122.42465,37.80153 -122.42506000000002,37.80332 -122.42523999999999,37.8043 -122.4189,37.806329999999996 -122.42036999999999,37.80673 -122.42218000000001,37.80639 -122.42209,37.8058 -122.42201000000001,37.80537 -122.41991000000002,37.80498 -122.41786,37.80515 -122.41333999999999,37.80577 -122.40818,37.80632 -122.40359,37.80503 -122.39863000000001,37.79869 -122.39723000000001,37.7969 -122.39698,37.79443 -122.39755,37.79441 -122.39638000000001,37.79392 -122.39668,37.79567 -122.39941,37.79365 -122.40131000000001,37.79065 -122.40245,37.78901 -122.40428999999999,37.78875 -122.40501,37.787890000000004 -122.4067,37.78655 -122.41086999999999,37.78593 -122.41102,37.78603 -122.41106,37.78604 -122.41315,37.78598 -122.4137,37.78848 -122.41552,37.78926 -122.4205,37.7886 -122.42156999999999,37.786840000000005 -122.42156000000001,37.78669 -122.42158,37.786590000000004 -122.42148,37.78675 -122.4214,37.786840000000005 -122.42143,37.78676 -122.42143999999999,37.78666 -122.42135,37.78655 -122.42138999999999,37.7867 -122.42135,37.78663 -122.42116999999999,37.7859 -122.41441999999999,37.785920000000004 -122.41336000000001,37.78733 -122.4137,37.790279999999996 -122.41408,37.79159 -122.41476999999999,37.794509999999995 -122.41542,37.797709999999995 -122.41618999999999,37.80154 -122.41391000000002,37.80372 -122.41391000000002,37.80707 -122.41129,37.808370000000004 -122.41004,37.80839 -122.4099,37.80836 -122.40972,37.80835 -122.40683,37.807320000000004 -122.40353999999999,37.8052 -122.40205,37.797670000000004 -122.40356000000001,37.79465 -122.40436000000001,37.79387 -122.40423999999999,37.79101 -122.40536999999999,37.788709999999995 -122.40571000000001,37.78665 -122.40791999999999,37.78642 -122.41106,37.78624 -122.41197,37.78588 -122.41346999999999,37.78761 -122.41342,37.78784 -122.41386999999999,37.79055 -122.41436999999999,37.792609999999996 -122.41503,37.79594 -122.41583,37.79975 -122.41656,37.803490000000004 -122.41521999999999,37.80551 -122.41538,37.80621 -122.41561000000002,37.8073 -122.41553,37.8082 -122.41458999999999,37.808409999999995 -122.41401,37.808479999999996 -122.41238999999999,37.80818 -122.41026000000001,37.808009999999996 -122.40901000000001,37.80795 -122.41018999999999,37.80555 -122.40945,37.80188 -122.40906000000001,37.79978 -122.40903,37.79972 -122.40626,37.797959999999996 -122.4022,37.7983 -122.40172,37.79589 -122.4003,37.79446 -122.40066000000002,37.7954 -122.40316999999999,37.79508 -122.40456999999999,37.79625 -122.40485,37.79492 -122.40481000000001,37.79439 -122.40456999999999,37.7919 -122.40496999999999,37.78868 -122.40478,37.78679 -122.40626,37.786559999999994 -122.40643,37.7866 -122.40807,37.78641 -122.40977,37.78587 -122.41126000000001,37.78567 -122.4127,37.785779999999995 -122.41813,37.785340000000005 -122.41963999999999,37.78497 -122.42091,37.78391 -122.41923,37.78409 -122.41743000000001,37.78406 -122.41641000000001,37.786120000000004 -122.41696,37.78917 -122.41532,37.79031 -122.4106,37.790929999999996 -122.41083,37.79197 -122.41078,37.79208 -122.41076000000001,37.79204 -122.4116,37.7917 -122.41173,37.788470000000004 -122.41108,37.78523 -122.40745,37.785470000000004 -122.40616999999999,37.78626 -122.40671999999999,37.7864 -122.40843000000001,37.78637 -122.4089,37.78581 -122.40701999999999,37.78326 -122.40478,37.78137 -122.40316999999999,37.78009 -122.40041000000001,37.77786 -122.4032,37.775459999999995 -122.40873,37.7711 -122.41248999999999,37.769490000000005 -122.41288999999999,37.76879 -122.41286000000001,37.768679999999996 -122.41283,37.76866 -122.41343,37.76885 -122.41338,37.77016 -122.41556000000001,37.76932 -122.4152,37.765190000000004 -122.41762,37.76354 -122.42079,37.76335 -122.42608,37.76293 -122.42608999999999,37.76277 -122.42266000000001,37.76166 -122.42145,37.7609 -122.42146000000001,37.75853 -122.42313,37.758390000000006 -122.42316000000001,37.758309999999994 -122.42326000000001,37.7583 -122.42379,37.76012 -122.42411000000001,37.764179999999996 -122.42436000000001,37.76657 -122.42466999999999,37.77023 -122.42358,37.77173 -122.42231000000001,37.77348 -122.42302,37.77711 -122.42325,37.778620000000004 -122.42443999999999,37.78402 -122.42497,37.78682 -122.4312,37.78733 -122.43515,37.78698 -122.4351,37.78709 -122.43361000000002,37.78604 -122.43021,37.78648 -122.43012,37.78652 -122.42839,37.7869 -122.42696000000001,37.78882 -122.42362,37.78815 -122.42298000000001,37.78539 -122.42196000000001,37.78024 -122.41986000000001,37.77722 -122.41616,37.77732 -122.41483000000001,37.77628 -122.41046000000001,37.77718 -122.40701999999999,37.7799 -122.40477,37.78201 -122.4024,37.783429999999996 -122.40148,37.78422 -122.40095,37.78456 -122.40096000000001,37.78451 -122.40093,37.78451 -122.40088999999999,37.7846 -122.40092,37.78456 -122.40021000000002,37.7848 -122.39963999999999,37.78326 -122.40191000000002,37.7815 -122.40803999999999,37.77669 -122.41219,37.77667 -122.41503999999999,37.77906 -122.41521999999999,37.779720000000005 -122.41609,37.78403 -122.41688,37.78849 -122.41891000000001,37.790820000000004 -122.41941000000001,37.79257 -122.41963,37.79345 -122.421,37.79271 -122.42098,37.792840000000005 -122.42103999999999,37.79267 -122.4229,37.792159999999996 -122.42395,37.79025 -122.4226,37.78383 -122.42148,37.77815 -122.41833000000001,37.777440000000006 -122.41583999999999,37.77714 -122.4147,37.77619 -122.41201000000001,37.778459999999995 -122.40553,37.7835 -122.4044,37.785090000000004 -122.40495,37.78633 -122.40494,37.78638 -122.40525,37.78549 -122.406,37.78569 -122.40635,37.78517 -122.4074,37.78436 -122.40665,37.782959999999996 -122.40756999999999,37.7819 -122.41126000000001,37.778940000000006 -122.41618999999999,37.77565 -122.41973,37.77645 -122.42283,37.775999999999996 -122.42302,37.7769 -122.42361000000001,37.78 -122.42496000000001,37.786840000000005 -122.42611000000001,37.79233 -122.42678000000001,37.79544 -122.42754,37.79807 -122.43063000000001,37.79804 -122.42974,37.79883 -122.42975,37.798809999999996 -122.42576000000001,37.79867 -122.42436000000001,37.79167 -122.42323,37.7866 -122.42233,37.78371 -122.41931000000001,37.78407 -122.41751000000001,37.78414 -122.41548999999999,37.78457 -122.40965,37.78524 -122.40795,37.78399 -122.40742,37.78369 -122.40664,37.782959999999996 -122.40488,37.7839 -122.40353999999999,37.78512 -122.40183,37.78637 -122.39953999999999,37.78833 -122.39625,37.7906 -122.39773000000001,37.792629999999996 -122.39652,37.79363 -122.39638000000001,37.794540000000005 -122.39635,37.79357 -122.39442,37.79162 -122.39295,37.79031 -122.38871,37.78705 -122.38791,37.78485 -122.3892,37.78005 -122.39158,37.77795 -122.39143999999999,37.77787 -122.38978,37.77458 -122.38918999999999,37.76833 -122.38875,37.76439 -122.38838999999999,37.75956 -122.38785,37.7551 -122.38767,37.753029999999995 -122.38798999999999,37.7528 -122.39266,37.752520000000004 -122.3962,37.75229 -122.39641999999999,37.75132 -122.3954,37.75015 -122.39505,37.75135 -122.3938,37.75193 -122.39493,37.75138 -122.395,37.75138 -122.3951,37.75137 -122.39513000000001,37.7514 -122.39509,37.75135 -122.39508000000001,37.751329999999996 -122.3951,37.75136 -122.39506000000002,37.75156 -122.39518999999999,37.75155 -122.39341999999999,37.751129999999996 -122.39691,37.74902 -122.39627,37.74718 -122.40281,37.74559 -122.40526000000001,37.74237 -122.4052,37.742309999999996 -122.4051,37.74221 -122.40486999999999,37.74214 -122.40691000000001,37.73855 -122.41008000000001,37.73513 -122.42408,37.731320000000004 -122.4407,37.729440000000004 -122.44779,37.72242 -122.45586999999999,37.71078 -122.47105,37.70485 -122.47015,37.69155 -122.47131999999999,37.678090000000005 -122.48414,37.66924 -122.49291000000001,37.63616 -122.49423999999999,37.6364 -122.49027,37.63818 -122.4913,37.64778 -122.4859,37.6579 -122.48398,37.669709999999995 -122.4729,37.67575 -122.47076000000001,37.68902 -122.4718,37.702490000000004 -122.47222,37.71559 -122.47475,37.719229999999996 -122.47507,37.72701 -122.47478999999998,37.73238 -122.47296999999999,37.731559999999995 -122.4686,37.7296 -122.46231,37.72533 -122.45799,37.72433 -122.45511,37.7235 -122.4556,37.72327 -122.45566000000001,37.72331 -122.45563,37.7233 -122.45573999999999,37.72336 -122.45562,37.7233 -122.45558999999999,37.72347 -122.4556,37.72352 -122.45566000000001,37.72361 -122.45596,37.723659999999995 -122.45146000000001,37.723079999999996 -122.44393000000001,37.72822 -122.43011000000001,37.73429 -122.4239,37.74105 -122.42334,37.74242 -122.42258999999999,37.748090000000005 -122.42278,37.75074 -122.42653,37.75172 -122.42736000000001,37.75157 -122.43003999999999,37.749140000000004 -122.43588000000001,37.74877 -122.44129,37.74859 -122.44471999999999,37.74711 -122.44291000000001,37.75264 -122.44278,37.75302 -122.44493999999999,37.75945 -122.43536999999999,37.76262 -122.42985,37.766870000000004 -122.42465,37.77097 -122.42158,37.77342 -122.41866,37.77571 -122.41427,37.7792 -122.41183999999998,37.78114 -122.40796999999999,37.78413 -122.40518999999999,37.7864 -122.40005,37.79085 -122.39707,37.79187 -122.39568999999999,37.79333 -122.39175,37.78917 -122.39133000000001,37.788470000000004 -122.39138,37.78849 -122.39147,37.788540000000005 -122.3922,37.788140000000006 -122.39294,37.78881 -122.39596999999999,37.79077 -122.3971,37.78998 -122.39713,37.78983 -122.39732,37.7897 -122.39761999999999,37.789390000000004 -122.39708999999999,37.78988 -122.39712,37.78988 -122.3972,37.78987 -122.39998,37.7913 -122.40302,37.79095 -122.41107,37.789809999999996 -122.41561000000002,37.789120000000004 -122.4156,37.788759999999996 -122.41524,37.78818 -122.41886000000001,37.78696 -122.42133999999999,37.785759999999996 -122.42073,37.78577 -122.41966000000001,37.78589 -122.41665,37.78626 -122.41448999999999,37.78456 -122.41445,37.78367 -122.41573999999999,37.78352 -122.41608000000001,37.78414 -122.41309,37.78648 -122.4096,37.78718 -122.40848999999999,37.78775 -122.4085,37.78775 -122.40851,37.78755 -122.40907,37.79081 -122.40953,37.79326 -122.41056,37.79848 -122.41366000000001,37.80268 -122.41853,37.806059999999995 -122.42068,37.807140000000004 -122.42041,37.8076 -122.42041,37.8076 -122.41917,37.8081 -122.41906999999999,37.80832 -122.41851000000001,37.80599 -122.41853,37.80491 -122.41768,37.80045 -122.41713,37.79787 -122.41644,37.79387 -122.41813,37.7937 -122.42152,37.79327 -122.4231,37.793 -122.42369,37.78951 -122.42243,37.78245 -122.42367,37.77871 -122.43065,37.777840000000005 -122.4344,37.777359999999994 -122.44023999999999,37.77661 -122.44578999999999,37.77588 -122.44641000000001,37.77579 -122.44582,37.77282 -122.44532,37.770379999999996 -122.44471999999999,37.76755 -122.44453999999999,37.7664 -122.44498,37.76307 -122.4459,37.76228 -122.44611,37.762859999999996 -122.44606999999999,37.762879999999996 -122.44402,37.7648 -122.44066000000001,37.76703 -122.44013000000001,37.76782 -122.44032,37.77077 -122.44085,37.772870000000005 -122.43696000000001,37.774159999999995 -122.42719,37.77541 -122.42296,37.776540000000004 -122.41582,37.77708 -122.41152,37.776309999999995 -122.40531999999999,37.78136 -122.40008999999999,37.78552 -122.39706000000001,37.78785 -122.39668,37.7884 -122.39595,37.78714 -122.38529,37.79126 -122.37433999999999,37.80147 -122.36361000000001,37.811479999999996 -122.34891999999999,37.817440000000005 -122.33261,37.82093 -122.31643999999999,37.82416 -122.30703000000001,37.82537 -122.29415,37.83109 -122.29733999999999,37.838840000000005 -122.29335,37.83911 -122.29321000000002,37.83812 -122.29358,37.83491 -122.29302,37.834990000000005 -122.29608,37.83806 -122.29421,37.82824 -122.31015,37.82448 -122.32659,37.82159 -122.34921999999999,37.81734 -122.354,37.81552 -122.36778999999999,37.80832 -122.37238,37.80357 -122.38306000000001,37.79319 -122.39251999999999,37.78529 -122.39565,37.78583 -122.3992,37.783770000000004 -122.40293999999999,37.78355 -122.40461,37.78475 -122.40378999999999,37.78496 -122.40241,37.78617 -122.39806999999999,37.78683 -122.39641999999999,37.78645 -122.39568,37.79124 -122.39877,37.79591 -122.4007,37.7965 -122.40233,37.80431 -122.4062,37.80681 -122.40828,37.807759999999995 -122.41447,37.80745 -122.41808,37.80689 -122.41812,37.80703 -122.42057,37.80573 -122.42371999999999,37.80435 -122.43162,37.80292 -122.43628000000001,37.80076 -122.43668000000001,37.80079 -122.43768999999999,37.79959 -122.43767,37.79952 -122.4361,37.79805 -122.43614,37.79802 -122.43609,37.79809 -122.43616999999999,37.79795 -122.43542,37.79712 -122.43661000000002,37.79495 -122.43685,37.795120000000004 -122.42846000000002,37.80087 -122.42698999999999,37.80392 -122.42041,37.80579 -122.41877,37.806909999999995 -122.41752,37.80791 -122.41731999999999,37.80802 -122.41605,37.80912 -122.41686000000001,37.8094 -122.41655,37.80932 -122.41323,37.80888 -122.41054,37.80831 -122.40696000000001,37.80735 -122.40168,37.803940000000004 -122.3992,37.80122 -122.3957,37.796640000000004 -122.39725,37.79661 -122.39742,37.79718 -122.40073999999998,37.797259999999994 -122.4018,37.79847 -122.40433,37.79813 -122.40585,37.797940000000004 -122.4061,37.79795 -122.40891,37.79761 -122.42374,37.79719 -122.43189,37.80035 -122.43611000000001,37.8 -122.43621999999999,37.80041 -122.43768999999999,37.799459999999996 -122.43751,37.79868 -122.43491000000002,37.79408 -122.43431000000001,37.79135 -122.43398,37.78949 -122.42835,37.78861 -122.40987,37.7913 -122.42302,37.785109999999996 -122.4219,37.77998 -122.42093,37.77545 -122.42203,37.772940000000006 -122.4223,37.77048 -122.42227,37.76798 -122.42177,37.76386 -122.42161999999999,37.76253 -122.42155,37.7618 -122.42119,37.757909999999995 -122.42088000000001,37.75497 -122.42061000000001,37.75375 -122.41843,37.75245 -122.41812,37.748940000000005 -122.41344,37.74834 -122.41038999999999,37.74844 -122.40345,37.74954 -122.39742,37.74975 -122.39535,37.75028 -122.39506000000002,37.7514 -122.39506999999999,37.75134 -122.39502,37.75135 -122.39496000000001,37.75142 -122.39535,37.75141 -122.40247,37.74943 -122.41152,37.7483 -122.41665,37.75589 -122.41723999999999,37.76189 -122.41696999999999,37.76389 -122.41701,37.76385 -122.41702,37.76398 -122.41705,37.763870000000004 -122.41705,37.76097 -122.41655,37.75535 -122.41585,37.748490000000004 -122.41665,37.7482 -122.42307,37.74795 -122.43007,37.74834 -122.42987,37.74759 -122.43167,37.7492 -122.43206,37.75338 -122.43256000000001,37.75826 -122.43176000000001,37.77082 -122.43321,37.77729 -122.43248,37.78204 -122.42363,37.78259 -122.41926000000001,37.78419 -122.41731999999999,37.7843 -122.41306000000002,37.785379999999996 -122.41378,37.78771 -122.41458,37.78755 -122.41463,37.7866 -122.41456000000001,37.786609999999996 -122.41338999999999,37.787490000000005 -122.4177,37.7895 -122.41747,37.79122 -122.41808999999999,37.79465 -122.41843999999999,37.79738 -122.41831,37.7954 -122.42356000000001,37.79476 -122.42353,37.787420000000004 -122.42227,37.78187 -122.4236,37.77875 -122.42472,37.77668 -122.42633000000001,37.776559999999996 -122.42633000000001,37.77657 -122.42358,37.77978 -122.42463000000001,37.78544 -122.4254,37.7887 -122.4218,37.789559999999994 -122.41604,37.79023 -122.41043,37.79094 -122.4088,37.79119 -122.40683,37.79156 -122.40366999999999,37.7923 -122.40716,37.79225 -122.4109,37.792 -122.41068999999999,37.792320000000004 -122.4117,37.79184 -122.41793999999999,37.790929999999996 -122.42173000000001,37.79056 -122.4242,37.79013 -122.42634,37.78985 -122.43075,37.78929 -122.43648999999999,37.77694 -122.43071,37.775929999999995 -122.41767,37.777590000000004 -122.41595,37.77786 -122.41582,37.77793 -122.41469,37.77875 -122.41376000000001,37.78107 -122.41211000000001,37.78083 -122.41202,37.78089 -122.40983999999999,37.782579999999996 -122.40575,37.78597 -122.4018,37.78947 -122.39788999999999,37.79258 -122.39913,37.793659999999996 -122.40083,37.79035 -122.40827,37.7923 -122.41036000000001,37.792120000000004 -122.41238,37.79152 -122.41502,37.79137 -122.4186,37.79085 -122.4208,37.790859999999995 -122.42098,37.79176 -122.42098,37.79208 -122.42103,37.79234 -122.42183,37.79599 -122.406,37.79793 -122.3992,37.79423 -122.39768000000001,37.79442 -122.39656000000001,37.79461 -122.40182,37.795359999999995 -122.40642,37.79781 -122.40686000000001,37.79809 -122.40683999999999,37.79804 -122.41811000000001,37.79643 -122.42197,37.7959 -122.42317,37.794259999999994 -122.42206000000002,37.78974 -122.42201000000001,37.78922 -122.42245,37.78842 -122.42648999999999,37.785990000000005 -122.42926000000001,37.78565 -122.43271000000001,37.78373 -122.43258999999999,37.78141 -122.43224,37.780770000000004 -122.43201,37.77968 -122.43697,37.77897 -122.43722,37.778929999999995 -122.43788,37.7751 -122.43802,37.77505 -122.43861000000001,37.77887 -122.43178,37.78055 -122.42421999999999,37.78317 -122.42244,37.7834 -122.42171,37.786590000000004 -122.4239,37.78637 -122.42896,37.78565 -122.42891000000002,37.785540000000005 -122.43181000000001,37.785309999999996 -122.43268,37.78522 -122.43463,37.78497 -122.43773,37.78342 -122.43852,37.7786 -122.43808999999999,37.7767 -122.43737,37.77281 -122.43699,37.77107 -122.43576000000002,37.76855 -122.43552,37.76599 -122.43489,37.75915 -122.43436000000001,37.75408 -122.43432,37.753859999999996 -122.43417,37.75202 -122.43603,37.74818 -122.43553999999999,37.74303 -122.43166000000001,37.73963 -122.42922,37.73881 -122.43233000000001,37.74041 -122.43522,37.74259 -122.43945,37.74459 -122.46188000000001,37.75163 -122.4593,37.76313 -122.45272,37.76463 -122.45343000000001,37.768390000000004 -122.45308999999999,37.769290000000005 -122.45204,37.76941 -122.45066000000001,37.76932 -122.44967,37.7643 -122.44668999999999,37.76165 -122.44637,37.76025 -122.44368,37.7581 -122.44296999999999,37.75775 -122.44417,37.758309999999994 -122.44006999999999,37.76124 -122.43276000000002,37.76465 -122.4285,37.76802 -122.42697,37.76915 -122.42466999999999,37.770959999999995 -122.42277,37.7726 -122.42263999999999,37.77548 -122.4239,37.7814 -122.42505,37.78691 -122.42325,37.78743 -122.42047,37.78824 -122.42166999999999,37.78777 -122.42173000000001,37.78737 -122.42121000000002,37.785109999999996 -122.42132,37.78499 -122.42114,37.78618 -122.41668,37.7863 -122.41627,37.78632 -122.41434,37.78654 -122.41428,37.78658 -122.41358000000001,37.788709999999995 -122.41552,37.7893 -122.42204,37.78863 -122.42258999999999,37.79152 -122.42373,37.79691 -122.42438,37.80049 -122.42856,37.80076 -122.43321999999999,37.80017 -122.43997,37.79933 -122.443,37.79893 -122.44412,37.79896 -122.44266,37.79925 -122.44238,37.80007 -122.44193999999999,37.80014 -122.44088,37.79931 -122.43101000000001,37.800509999999996 -122.42778999999999,37.80059 -122.42788,37.79808 -122.43016000000001,37.79779 -122.43238999999998,37.797470000000004 -122.43415,37.79919 -122.43104,37.79958 -122.42586000000001,37.79919 -122.42208000000001,37.796890000000005 -122.42241999999999,37.798429999999996 -122.4224,37.79869 -122.42844,37.801790000000004 -122.43561000000001,37.80092 -122.43700000000001,37.80073 -122.43956000000001,37.80058 -122.44253,37.800959999999996 -122.44378,37.80417 -122.44373999999999,37.80426 -122.44673999999999,37.802279999999996 -122.44662,37.8016 -122.44662,37.801590000000004 -122.44305,37.79903 -122.43598999999999,37.79994 -122.42616000000001,37.80086 -122.42521,37.79638 -122.42301,37.79585 -122.42001,37.79613 -122.41016,37.797470000000004 -122.40746999999999,37.79784 -122.4052,37.796690000000005 -122.40454,37.7928 -122.4051,37.78835 -122.40195,37.78603 -122.39875,37.78374 -122.39675,37.78205 -122.39178000000001,37.77756 -122.39021000000001,37.776759999999996 -122.38963999999999,37.769020000000005 -122.38968999999999,37.76913 -122.3895,37.769020000000005 -122.38942,37.77296 -122.38746,37.7733 -122.38708000000001,37.76514 -122.38779,37.76432 -122.39466000000002,37.762679999999996 -122.3975,37.76247 -122.40156999999999,37.76227 -122.40198999999998,37.76226 -122.39556,37.76266 -122.39178000000001,37.76285 -122.39813999999998,37.77288 -122.39593,37.7744 -122.3923,37.75761 -122.39516,37.74435 -122.40485,37.73281 -122.40337,37.72996 -122.40257,37.728120000000004 -122.39793999999999,37.71519 -122.39346,37.70237 -122.39176,37.69489 -122.39003000000001,37.686840000000004 -122.38982,37.67366 -122.40019,37.66296 -122.40668000000001,37.65063 -122.40422,37.637229999999995 -122.4009,37.62409 -122.39278999999999,37.61487 -122.38495,37.617509999999996 -122.38793000000001,37.61638 -122.38486,37.6156 -122.395,37.614059999999995 -122.40178999999999,37.62494 -122.40518,37.63848 -122.40845,37.65003 -122.40825,37.65436 -122.40827,37.65448 -122.40995,37.65509 -122.41288999999999,37.65575 -122.42111000000001,37.657579999999996 -122.42456999999999,37.65456 -122.42522,37.65088 -122.42363999999999,37.64908 -122.41708,37.64765 -122.41283,37.64778 -122.41192,37.65018 -122.4108,37.65332 -122.40718000000001,37.655609999999996 -122.40551,37.65867 -122.39939,37.66368 -122.3941,37.6686 -122.38921,37.675340000000006 -122.39008999999999,37.68591 -122.39308,37.69914 -122.39617,37.71241 -122.40187,37.72524 -122.40055,37.738929999999996 -122.39453,37.74576 -122.39248,37.75927 -122.39128999999998,37.76422 -122.39088999999998,37.767070000000004 -122.39076999999999,37.767070000000004 -122.38975,37.77214 -122.39178999999999,37.77418 -122.38696999999999,37.77247 -122.38727,37.7729 -122.39005,37.77449 -122.39433999999999,37.776540000000004 -122.39726,37.778890000000004 -122.40131000000001,37.78223 -122.4031,37.78382 -122.40456999999999,37.7844 -122.40791999999999,37.78157 -122.4111,37.77906 -122.41416000000001,37.77587 -122.41415,37.77587 -122.41202,37.77574 -122.41193999999999,37.775690000000004 -122.40919,37.7782 -122.40482,37.78157 -122.40378999999999,37.7841 -122.40581,37.78569 -122.40626,37.78638 -122.40659,37.78658 -122.40826000000001,37.78637 -122.40973000000001,37.786609999999996 -122.40811000000001,37.787690000000005 -122.40893999999999,37.78822 -122.40946000000001,37.78828 -122.40913,37.78727 -122.40831999999999,37.787209999999995 -122.4065,37.78666 -122.40316000000001,37.78722 -122.40252,37.786559999999994 -122.40178999999999,37.78606 -122.40100000000001,37.78542 -122.40006000000001,37.78468 -122.3942,37.77998 -122.39228,37.777640000000005 -122.39478999999999,37.77572 -122.39595,37.77472 -122.39788999999999,37.771390000000004 -122.39228,37.75873 -122.39478000000001,37.74516 -122.40503999999999,37.734559999999995 -122.40181000000001,37.72595 -122.39832,37.7158 -122.39361000000001,37.70299 -122.39062,37.68973 -122.38863,37.67628 -122.39755,37.66486 -122.40695,37.6537 -122.40552,37.640209999999996 -122.40195,37.62708 -122.3963,37.61437 -122.38785,37.61635 -122.3849,37.61564 -122.38668,37.6151 -122.38898999999999,37.61603 -122.38573999999998,37.61787 -122.38559,37.61782 -122.38543999999999,37.61781 -122.38532,37.6178 -122.39112,37.61495 -122.40625,37.64277 -122.40636,37.6566 -122.40451999999999,37.65988 -122.40031,37.721309999999995 -122.40495,37.734609999999996 -122.39498,37.74508 -122.39428000000001,37.76618 -122.39508000000001,37.77565 -122.39112,37.77882 -122.38999,37.779720000000005 -122.39048000000001,37.79102 -122.39102,37.79179 -122.39237,37.79381 -122.39395,37.79307 -122.39365,37.79287 -122.39496000000001,37.79198 -122.39663,37.79036 -122.39723000000001,37.79002 -122.39862,37.78873 -122.40108000000001,37.78646 -122.40177,37.78611 -122.40015,37.78499 -122.39992,37.78313 -122.40298,37.78067 -122.40386000000001,37.77995 -122.40597,37.778290000000005 -122.40796,37.77673 -122.40898999999999,37.775929999999995 -122.41212,37.77339 -122.41278999999999,37.77285 -122.4139,37.77196 -122.41571,37.77028 -122.41787,37.76992 -122.41785,37.76998 -122.42003999999999,37.76859 -122.41978,37.766490000000005 -122.41944,37.76336 -122.41917,37.75978 -122.41899,37.75714 -122.41845,37.75392 -122.41741999999999,37.75307 -122.41608000000001,37.752359999999996 -122.41405,37.752359999999996 -122.41416000000001,37.752179999999996 -122.41406,37.752309999999994 -122.41413999999999,37.75221 -122.41408999999999,37.75225 -122.41413,37.75222 -122.41365,37.748509999999996 -122.40841999999999,37.748470000000005 -122.4007,37.7495 -122.39538,37.74987 -122.39526000000001,37.75123 -122.39496000000001,37.751329999999996 -122.39493999999999,37.75127 -122.39366000000001,37.75158 -122.39363999999999,37.75165 -122.39441000000001,37.751329999999996 -122.39503,37.75148 -122.39343000000001,37.75091 -122.39253000000001,37.75322 -122.39253000000001,37.7566 -122.39714,37.76852 -122.39381000000002,37.776740000000004 -122.38898999999999,37.78049 -122.38818,37.78465 -122.38817,37.78844 -122.39007,37.79068 -122.39173000000001,37.79293 -122.39361000000001,37.79402 -122.39505,37.79461 -122.39527,37.79438 -122.3965,37.79326 -122.3973,37.79298 -122.40128999999999,37.79253 -122.40343999999999,37.79298 -122.40371,37.792590000000004 -122.40378,37.79253 -122.40421,37.79145 -122.40423999999999,37.790659999999995 -122.40898,37.79005 -122.41393000000001,37.78947 -122.41805,37.78902 -122.41842,37.787859999999995 -122.41787,37.78488 -122.4169,37.780390000000004 -122.41524,37.77668 -122.41125,37.7735 -122.40863,37.770990000000005 -122.40733999999999,37.76941 -122.40531999999999,37.76269 -122.40601000000001,37.761540000000004 -122.40614,37.7598 -122.40312,37.756040000000006 -122.40316999999999,37.75065 -122.40445,37.74669 -122.40557,37.73323 -122.39998,37.72063 -122.39481,37.70785 -122.39181,37.6946 -122.38878999999999,37.68114 -122.3943,37.66813 -122.40621999999999,37.64462 -122.40262,37.63111 -122.39033,37.615190000000005 -122.40018,37.62024 -122.40575,37.65813 -122.38892,37.681090000000005 -122.3919,37.69425 -122.39492,37.70765 -122.40003,37.72041 -122.40503000000001,37.73333 -122.39572,37.74452 -122.39187,37.7513 -122.39393000000001,37.749829999999996 -122.39533999999999,37.75018 -122.39531000000001,37.750659999999996 -122.39532,37.75124 -122.39466999999999,37.75132 -122.39466000000002,37.751329999999996 -122.39471999999999,37.75195 -122.39531000000001,37.75145 -122.39527,37.75144 -122.39513999999998,37.75161 -122.39525,37.751509999999996 -122.39527,37.75158 -122.39523999999999,37.75165 -122.39523999999999,37.7517 -122.3934,37.75111 -122.39341999999999,37.75074 -122.40177,37.74942 -122.40401000000001,37.74968 -122.40332,37.75591 -122.40633000000001,37.75952 -122.40548999999999,37.76743 -122.40607,37.768190000000004 -122.40921999999999,37.769040000000004 -122.41792,37.770559999999996 -122.4188,37.77339 -122.41928,37.77489 -122.41941000000001,37.7759 -122.42031999999999,37.77985 -122.42043999999999,37.78053 -122.42114,37.78097 -122.42226000000001,37.78076 -122.42419,37.78305 -122.42886000000001,37.78475 -122.43128,37.78477 -122.43133999999999,37.78635 -122.43011000000001,37.78642 -122.43014,37.78648 -122.42797,37.78678 -122.42412,37.78732 -122.42323,37.78737 -122.41989,37.78784 -122.41595,37.78845 -122.40745,37.78928 -122.40491999999999,37.7896 -122.4036,37.788340000000005 -122.40324,37.78723 -122.40177,37.78606 -122.39882,37.783640000000005 -122.3958,37.78133 -122.39426999999999,37.78015 -122.39343000000001,37.7767 -122.39793,37.77241 -122.39228,37.759479999999996 -122.39424,37.745870000000004 -122.40465,37.73523 -122.40178999999999,37.72591 -122.39638000000001,37.713229999999996 -122.39283999999999,37.69978 -122.39,37.68658 -122.39028,37.673 -122.38609,37.61635 -122.38803999999999,37.61571 -122.39376000000001,37.614309999999996 -122.40158999999998,37.62438 -122.38973999999999,37.67403 -122.39036999999999,37.68762 -122.39424,37.70475 -122.39958,37.71888 -122.40512,37.7451 -122.40536999999999,37.75853 -122.40948999999999,37.76912 -122.41814,37.769859999999994 -122.42042,37.77004 -122.42249,37.770920000000004 -122.42154,37.773590000000006 -122.42148,37.773559999999996 -122.4132,37.78 -122.4115,37.77965 -122.40888999999999,37.78087 -122.40435,37.78448 -122.40493000000001,37.78567 -122.40486999999999,37.78526 -122.40485,37.78533 -122.4064,37.78652 -122.40658,37.78712 -122.40683,37.788340000000005 -122.40776000000001,37.78795 -122.4089,37.790420000000005 -122.41008000000001,37.79195 -122.41063999999999,37.79188 -122.41093000000001,37.7918 -122.41095,37.79187 -122.41113999999999,37.79181 -122.41214,37.79168 -122.41796000000001,37.79095 -122.42103999999999,37.79059 -122.42173000000001,37.789770000000004 -122.4219,37.78979 -122.42200000000001,37.78948 -122.42183,37.7882 -122.4213,37.78572 -122.41956,37.78407 -122.41743000000001,37.784290000000006 -122.41558,37.78454 -122.40932,37.7852 -122.40767,37.784009999999995 -122.4057,37.78204 -122.40314,37.78289 -122.40218999999999,37.78425 -122.40165,37.78453 -122.40145,37.78455 -122.40163999999999,37.78457 -122.4016,37.78451 -122.40035,37.784859999999995 -122.40098,37.78219 -122.40603,37.77823 -122.41151,37.77383 -122.4133,37.77245 -122.41553,37.769870000000004 -122.41801000000001,37.768409999999996 -122.42041,37.768209999999996 -122.42188,37.76514 -122.42173000000001,37.7632 -122.42137,37.75967 -122.42095,37.75561 -122.42065,37.75248 -122.42042,37.75057 -122.42021000000001,37.74779 -122.42069,37.74429 -122.42291999999999,37.74086 -122.42403,37.737140000000004 -122.4266,37.7334 -122.4344,37.72518 -122.43587,37.7231 -122.43557,37.72085 -122.43525,37.72057 -122.43523,37.72059 -122.43553999999999,37.720890000000004 -122.43585,37.723079999999996 -122.43285,37.727309999999996 -122.42849,37.731609999999996 -122.4243,37.73653 -122.42355,37.73992 -122.42266000000001,37.74138 -122.42156000000001,37.74295 -122.41956,37.74612 -122.41816000000001,37.748540000000006 -122.41848,37.75244 -122.41859,37.75357 -122.41828999999998,37.753809999999994 -122.41408999999999,37.75408 -122.40838000000001,37.754329999999996 -122.40876000000002,37.7528 -122.40878000000001,37.752759999999995 -122.41093000000001,37.75264 -122.41641000000001,37.75434 -122.4172,37.76191 -122.41776000000002,37.76698 -122.41807,37.77063 -122.41951999999999,37.77559 -122.42003000000001,37.77839 -122.42048,37.78096 -122.42095,37.78353 -122.42121999999999,37.78452 -122.42226000000001,37.7895 -122.42253000000001,37.79092 -122.42334,37.7947 -122.4236,37.79659 -122.42458,37.80085 -122.42886000000001,37.80173 -122.43455,37.80093 -122.43449,37.800270000000005 -122.4342,37.80016 -122.43267,37.80032 -122.4261,37.80053 -122.42419,37.791290000000004 -122.4226,37.791 -122.42262,37.79173 -122.42508000000001,37.79184 -122.42667,37.7943 -122.42987,37.794129999999996 -122.43243999999999,37.79745 -122.43568,37.796859999999995 -122.43558,37.79673 -122.43498999999998,37.79461 -122.43432,37.79152 -122.43393,37.78942 -122.43888000000001,37.78825 -122.44035,37.78805 -122.44272,37.78772 -122.44887,37.78696 -122.46183,37.781040000000004 -122.4686,37.78096 -122.46748000000001,37.78105 -122.46745,37.78031 -122.46716,37.77602 -122.46361999999999,37.77369 -122.45454,37.77485 -122.45251999999999,37.775059999999996 -122.44627,37.775859999999994 -122.43638,37.77708 -122.43146999999999,37.77773 -122.43052,37.77968 -122.43337,37.77847 -122.43088,37.77875 -122.42541000000001,37.77946 -122.42493,37.782340000000005 -122.43258,37.78245 -122.43293,37.78411 -122.43295,37.7843 -122.43103,37.7848 -122.42963999999999,37.78561 -122.42971999999999,37.7856 -122.42858000000001,37.785779999999995 -122.42841999999999,37.785779999999995 -122.4254,37.78712 -122.42289,37.787459999999996 -122.41681000000001,37.78853 -122.40978999999999,37.78902 -122.40505,37.78903 -122.40343999999999,37.788940000000004 -122.40396000000001,37.78783 -122.40305,37.7878 -122.40265,37.78676 -122.40265,37.78673 -122.4026,37.78634 -122.40215,37.78637 -122.40148,37.7857 -122.40092,37.78529 -122.39997,37.78447 -122.40008,37.78286 -122.40100000000001,37.78221 -122.40298999999999,37.78329 -122.40451999999999,37.78488 -122.40377,37.78503 -122.40235,37.78698 -122.40141000000001,37.785790000000006 -122.4009,37.7854 -122.39983000000001,37.78452 -122.39823,37.78315 -122.39415,37.77991 -122.39217,37.77783 -122.39343000000001,37.776709999999994 -122.39469,37.775659999999995 -122.3978,37.77069 -122.39226000000001,37.75915 -122.39456000000001,37.74552 -122.40494,37.73473 -122.40031,37.72172 -122.39501000000001,37.70882 -122.39197,37.69538 -122.3889,37.681740000000005 -122.3937,37.66874 -122.40357,37.660759999999996 -122.40641000000001,37.64711 -122.38627,37.61656 -122.38622,37.61655 -122.38622,37.61656 -122.3862,37.61655 -122.38623999999999,37.61647 -122.38622,37.61655 -122.38618999999998,37.61615 -122.38866000000002,37.61545 -122.38805,37.61667 -122.38602,37.61802 -122.38600000000001,37.61806 -122.3898,37.67389 -122.3942,37.70459 -122.39927,37.717729999999996 -122.40413000000001,37.73061 -122.40418999999999,37.75762 -122.40598,37.7709 -122.39965,37.78062 -122.40291,37.783429999999996 -122.40553999999999,37.785379999999996 -122.40632,37.78658 -122.40778,37.786570000000005 -122.40908,37.7874 -122.40756999999999,37.78753 -122.40758000000001,37.787890000000004 -122.40751999999999,37.7877 -122.40736000000001,37.78801 -122.40733999999999,37.788059999999994 -122.40766,37.78808 -122.40775,37.7881 -122.40785,37.78799 -122.40731000000001,37.7882 -122.40805,37.788090000000004 -122.40835,37.78792 -122.40836999999999,37.788070000000005 -122.40846,37.78817 -122.41103999999999,37.78792 -122.40933000000001,37.7874 -122.40822,37.78754 -122.40983,37.7881 -122.40608999999999,37.78968 -122.40353,37.788470000000004 -122.40253999999999,37.78678 -122.40256000000001,37.78673 -122.40073999999998,37.7852 -122.39594,37.78113 -122.39296000000002,37.7787 -122.39509,37.776990000000005 -122.39685,37.77561 -122.40183999999999,37.771390000000004 -122.40248000000001,37.77117 -122.40196,37.77162 -122.40208,37.77407 -122.40375,37.77685 -122.40876000000002,37.78065 -122.41186,37.77848 -122.41017,37.779959999999996 -122.40701000000001,37.78235 -122.40227,37.78719 -122.40223999999999,37.78772 -122.40245,37.787040000000005 -122.40255,37.78693 -122.40234,37.78654 -122.40075,37.78529 -122.39993999999999,37.78484 -122.39281000000001,37.77884 -122.39511999999999,37.776990000000005 -122.39591999999999,37.776309999999995 -122.39594,37.7763 -122.39593,37.77633 -122.39607,37.7763 -122.39596,37.77624 -122.39608,37.776309999999995 -122.39618,37.77618 -122.39623999999999,37.77613 -122.39621000000001,37.77618 -122.39621000000001,37.77612 -122.39634,37.77602 -122.39684,37.775659999999995 -122.40257,37.77105 -122.4031,37.76962 -122.40405,37.7701 -122.40568999999999,37.77134 -122.41025,37.77503 -122.41338999999999,37.7775 -122.41519,37.78025 -122.41615,37.78465 -122.41621,37.78631 -122.41575,37.78545 -122.41563000000001,37.78529 -122.41561999999999,37.78522 -122.4157,37.78529 -122.41575,37.78533 -122.41573000000001,37.78529 -122.41573000000001,37.78532 -122.41644,37.78528 -122.4197,37.785579999999996 -122.4205,37.789429999999996 -122.41678,37.79003 -122.41516000000001,37.7903 -122.41428,37.792429999999996 -122.41296000000001,37.79326 -122.41613000000001,37.7931 -122.42093,37.79242 -122.42126999999999,37.79343 -122.42172,37.79551 -122.42273999999999,37.797779999999996 -122.42683999999998,37.79595 -122.42648999999999,37.7943 -122.42638999999998,37.793659999999996 -122.42981999999999,37.79337 -122.43166000000001,37.79472 -122.42707,37.79535 -122.42702,37.79663 -122.42353999999999,37.796620000000004 -122.42262,37.794940000000004 -122.42075,37.79523 -122.42029,37.79523 -122.41778000000001,37.792809999999996 -122.41615,37.79217 -122.41606999999999,37.79305 -122.41403999999999,37.791509999999995 -122.41062,37.79168 -122.40588999999999,37.792629999999996 -122.40378999999999,37.78937 -122.40265,37.78688 -122.39935,37.788709999999995 -122.39899,37.78819 -122.39873999999999,37.78866 -122.39873999999999,37.78867 -122.39953999999999,37.790420000000005 -122.39916000000001,37.79135 -122.40048999999999,37.794940000000004 -122.40088999999999,37.79776 -122.40448,37.798140000000004 -122.41799999999999,37.79634 -122.42185,37.796209999999995 -122.42262,37.79967 -122.42299999999999,37.8015 -122.42799,37.80083 -122.43638,37.800979999999996 -122.43718999999999,37.80454 -122.43715,37.80449 -122.43722,37.804790000000004 -122.43981000000001,37.80401 -122.44325,37.80188 -122.44093000000001,37.80388 -122.44004,37.80325 -122.44001000000002,37.803290000000004 -122.44016,37.80396 -122.43648,37.802659999999996 -122.42913999999999,37.80363 -122.42419,37.80428 -122.41698999999998,37.805 -122.41038999999999,37.800259999999994 -122.40808999999999,37.79883 -122.40048999999999,37.79869 -122.39743,37.79912 -122.39591999999999,37.79745 -122.39578999999999,37.79736 -122.39578,37.79738 -122.39563999999999,37.79725 -122.39788,37.79907 -122.40325,37.79827 -122.41043,37.7974 -122.42045,37.79607 -122.42331000000001,37.79574 -122.42431,37.79125 -122.42363999999999,37.78929 -122.42198,37.7893 -122.42222,37.78846 -122.42381999999999,37.78909 -122.42244,37.782579999999996 -122.42083000000001,37.78196 -122.41751000000001,37.78205 -122.41476999999999,37.7763 -122.41313000000001,37.77551 -122.4132,37.775490000000005 -122.41067,37.77298 -122.40861000000001,37.77107 -122.40488,37.76484 -122.40299999999999,37.75147 -122.40796999999999,37.738170000000004 -122.40194,37.72575 -122.39626000000001,37.71289 -122.39283999999999,37.6992 -122.38987,37.68603 -122.39053,37.672540000000005 -122.40685,37.65231 -122.40503999999999,37.63896 -122.3927,37.615 -122.38432,37.61675 -122.3854,37.614740000000005 -122.40126000000001,37.6235 -122.39036000000002,37.68734 -122.3939,37.703309999999995 -122.39881000000001,37.71628 -122.40355,37.72916 -122.40704,37.742329999999995 -122.4032,37.755390000000006 -122.40708000000001,37.768640000000005 -122.42008,37.77012 -122.42113,37.77235 -122.42392,37.78139 -122.42558000000001,37.78971 -122.42801000000001,37.79419 -122.43158000000001,37.79375 -122.4316,37.793820000000004 -122.43163999999999,37.79377 -122.43167,37.79373 -122.43163,37.79381 -122.43166000000001,37.79375 -122.43003999999999,37.79497 -122.43068000000001,37.79585 -122.43078,37.795840000000005 -122.43078999999999,37.79578 -122.43181000000001,37.79546 -122.43463,37.79428 -122.43645,37.79222 -122.44293,37.79141 -122.44938,37.79061 -122.45232,37.790209999999995 -122.45806999999999,37.78948 -122.45913999999999,37.785959999999996 -122.45908999999999,37.78371 -122.46446999999999,37.78293 -122.46643,37.78086 -122.46292,37.77921 -122.45938000000001,37.77749 -122.45605,37.77752 -122.45468999999999,37.77499 -122.44648000000001,37.775729999999996 -122.44745,37.77185 -122.44632,37.77017 -122.44301999999999,37.773309999999995 -122.43321999999999,37.77458 -122.42588,37.77442 -122.42468999999998,37.77061 -122.42453,37.76917 -122.42369,37.76229 -122.42322,37.75577 -122.4226,37.74926 -122.41943,37.74817 -122.41102,37.74837 -122.4074,37.7486 -122.39862,37.74962 -122.39538,37.75013 -122.39533,37.75059 -122.39478999999999,37.75121 -122.40813,37.7483 -122.41382,37.74819 -122.41394,37.74822 -122.41835,37.75091 -122.4189,37.7565 -122.4193,37.76095 -122.41968,37.77248 -122.41994,37.778040000000004 -122.42062,37.78199 -122.42073,37.78212 -122.42119,37.78577 -122.41801000000001,37.7853 -122.41583,37.7826 -122.41323,37.7829 -122.4101,37.78213 -122.40293,37.785540000000005 -122.39971000000001,37.78776 -122.3992,37.788790000000006 -122.4013,37.79213 -122.40319,37.7947 -122.40522,37.79655 -122.40444,37.79289 -122.40122,37.794909999999994 -122.40318,37.79469 -122.40421,37.79142 -122.40335,37.78748 -122.39958999999999,37.784279999999995 -122.40427,37.77962 -122.40971,37.7753 -122.41003,37.775079999999996 -122.41273000000001,37.7729 -122.41797,37.77675 -122.41883,37.78168 -122.41942,37.78452 -122.42155,37.78589 -122.42132,37.78759 -122.41973,37.78606 -122.41343,37.78678 -122.41139,37.78625 -122.4112,37.78591 -122.41082,37.78488 -122.40826000000001,37.7835 -122.40438999999999,37.7844 -122.40253999999999,37.7859 -122.39611000000001,37.78152 -122.39282,37.77851 -122.39136,37.77774 -122.38747,37.774 -122.38593,37.76706 -122.38825,37.76429 -122.38963000000001,37.76425 -122.39152,37.76212 -122.39321000000001,37.76405 -122.39773000000001,37.76486 -122.39721999999999,37.759679999999996 -122.39716999999999,37.758379999999995 -122.3972,37.7584 -122.39712,37.75849 -122.39443,37.7605 -122.39336000000002,37.764520000000005 -122.40113999999998,37.77492 -122.4058,37.77864 -122.40896000000001,37.78114 -122.41438000000001,37.78176 -122.4166,37.786970000000004 -122.41676000000001,37.7883 -122.41677,37.7883 -122.41698999999998,37.78895 -122.42236000000001,37.79017 -122.42308,37.79395 -122.42438,37.80028 -122.42963,37.80064 -122.43635,37.800779999999996 -122.43755,37.80169 -122.43757,37.80177 -122.43841,37.8023 -122.44283999999999,37.79995 -122.44198999999999,37.79575 -122.44115,37.79142 -122.44022,37.78692 -122.43908,37.781620000000004 -122.43703000000001,37.77146 -122.43712,37.77146 -122.44142,37.77259 -122.44883,37.771770000000004 -122.45401000000001,37.77165 -122.45745,37.77442 -122.46638999999999,37.77339 -122.4718,37.77313 -122.48031999999999,37.772729999999996 -122.48958999999999,37.77256 -122.48956000000001,37.772529999999996 -122.4788,37.77285 -122.46726000000001,37.77342 -122.46347,37.773720000000004 -122.45433999999999,37.77312 -122.44979,37.77258 -122.4414,37.773590000000006 -122.43743,37.77342 -122.43700000000001,37.771190000000004 -122.43563999999999,37.76747 -122.43495,37.76417 -122.42838,37.76457 -122.42164,37.76271 -122.42241999999999,37.76928 -122.42237,37.77004 -122.42241000000001,37.76972 -122.42228999999999,37.76895 -122.42175,37.76342 -122.42126,37.75854 -122.42079,37.7539 -122.421,37.75497 -122.42154,37.76065 -122.43341000000001,37.76099 -122.43524,37.76266 -122.43552,37.76573 -122.43758000000001,37.7733 -122.43771000000001,37.77391 -122.43753000000001,37.77393 -122.43225,37.77189 -122.4307,37.77349 -122.42973,37.77507 -122.4276,37.77534 -122.42601,37.77655 -122.42018,37.78842 -122.42063,37.78999 -122.4214,37.79403 -122.41771999999999,37.79315 -122.41769,37.79314 -122.41757,37.791779999999996 -122.41753999999999,37.79179 -122.41771999999999,37.79096 -122.41863000000001,37.78872 -122.41805,37.78602 -122.41663999999999,37.784420000000004 -122.41606999999999,37.78455 -122.41287,37.78521 -122.41578999999999,37.78546 -122.41778000000001,37.78433 -122.41691999999999,37.78024 -122.41457,37.77892 -122.41111000000001,37.78159 -122.40863,37.783559999999994 -122.40543999999998,37.78617 -122.40346000000001,37.78787 -122.39918,37.79138 -122.40015,37.793820000000004 -122.4002,37.79455 -122.39891000000001,37.794309999999996 -122.39554,37.79398 -122.39294,37.79354 -122.3941,37.79123 -122.39312,37.79292 -122.39693999999999,37.79056 -122.40215,37.79059 -122.40765,37.79015 -122.40857,37.789 -122.41423,37.78759 -122.41141,37.78606 -122.41798999999999,37.78517 -122.42031999999999,37.78484 -122.42301,37.78457 -122.42756000000001,37.78586 -122.43185,37.7853 -122.43368999999998,37.78808 -122.43876999999999,37.788309999999996 -122.44448,37.7876 -122.44823000000001,37.787079999999996 -122.45411000000001,37.78629 -122.45942,37.7856 -122.46472,37.78496 -122.4642,37.78301 -122.45929,37.78135 -122.45467,37.78434 -122.4547,37.78502 -122.4544,37.78631 -122.44673999999999,37.78731 -122.4404,37.78812 -122.43225,37.789159999999995 -122.42477,37.79012 -122.4226,37.791090000000004 -122.42348999999999,37.79586 -122.42204,37.79692 -122.42213999999998,37.797259999999994 -122.42261,37.799659999999996 -122.42402,37.79919 -122.42331999999999,37.7956 -122.42277,37.79305 -122.42199,37.78941 -122.42197,37.78934 -122.42151000000001,37.787079999999996 -122.42085,37.78347 -122.42031000000001,37.78089 -122.42172,37.7789 -122.41792,37.77858 -122.41263000000001,37.77462 -122.40978,37.772890000000004 -122.40992,37.77487 -122.4179,37.76985 -122.42193,37.7699 -122.42615,37.76962 -122.42642,37.76944 -122.43555,37.762440000000005 -122.43525,37.7629 -122.43568,37.76795 -122.43788,37.7752 -122.44158999999999,37.7764 -122.44848,37.77753 -122.44708,37.7786 -122.44708999999999,37.78242 -122.44543999999999,37.78266 -122.43223,37.784459999999996 -122.42638999999998,37.78521 -122.42108999999999,37.785779999999995 -122.4152,37.78638 -122.41468,37.78565 -122.41633999999999,37.78552 -122.41107,37.78676 -122.41042,37.78722 -122.4106,37.79063 -122.41081000000001,37.79183 -122.41375,37.79144 -122.41723999999999,37.79121 -122.41573999999999,37.7922 -122.41548999999999,37.79125 -122.41521000000002,37.78917 -122.41413,37.78674 -122.40925,37.787409999999994 -122.40926,37.78715 -122.4056,37.78775 -122.40338,37.788000000000004 -122.39899,37.79058 -122.40286,37.79052 -122.4035,37.78755 -122.39943000000001,37.78597 -122.40065,37.78737 -122.40035,37.784890000000004 -122.39966000000001,37.784420000000004 -122.40131000000001,37.78205 -122.40693999999999,37.77751 -122.41523000000001,37.770509999999994 -122.42031999999999,37.77033 -122.42076999999999,37.76998 -122.42726,37.76875 -122.4279,37.76831 -122.42896999999999,37.76797 -122.43024,37.771029999999996 -122.4367,37.77147 -122.43853,37.77112 -122.44521999999999,37.77023 -122.44848999999999,37.76981 -122.45132,37.76512 -122.45403,37.76316 -122.45409,37.76365 -122.45416999999999,37.76376 -122.45477,37.771640000000005 -122.44855,37.77265 -122.44001000000002,37.77381 -122.42541999999999,37.77562 -122.42398,37.77581 -122.42308999999999,37.77711 -122.42175,37.778059999999996 -122.42145,37.77815 -122.42102,37.776109999999996 -122.42156999999999,37.773309999999995 -122.42328,37.77185 -122.42451000000001,37.76961 -122.42408999999999,37.764720000000004 -122.42571000000001,37.75975 -122.42851,37.76275 -122.42575,37.764790000000005 -122.42188,37.76471 -122.41899,37.763459999999995 -122.41665,37.76362 -122.42007,37.76338 -122.4235,37.76323 -122.42236000000001,37.764920000000004 -122.4247,37.764720000000004 -122.42891000000002,37.764520000000005 -122.43139,37.764340000000004 -122.43541,37.764540000000004 -122.4362,37.769690000000004 -122.44126999999999,37.77075 -122.44685,37.77003 -122.45626999999999,37.7634 -122.4581,37.7631 -122.46603,37.75987 -122.46573000000001,37.75475 -122.46666,37.75359 -122.46675,37.753659999999996 -122.46663999999998,37.75357 -122.46621999999999,37.763459999999995 -122.46632,37.76399 -122.47129,37.76571 -122.47738999999999,37.76357 -122.48268999999999,37.76143 -122.48895,37.76116 -122.49562,37.76089 -122.49518,37.75328 -122.49484,37.7486 -122.49444,37.74322 -122.4958,37.738 -122.4958,37.738209999999995 -122.4958,37.738040000000005 -122.49436999999999,37.7392 -122.49483000000001,37.74666 -122.49542,37.7552 -122.49593999999999,37.76283 -122.49958000000001,37.76443 -122.50509,37.76396 -122.50493,37.76155 -122.48633999999998,37.7651 -122.47696,37.76547 -122.46476000000001,37.766009999999994 -122.45806,37.76742 -122.45416999999999,37.77145 -122.44604,37.77308 -122.44695,37.77786 -122.44713,37.78241 -122.43938999999999,37.78342 -122.43336000000001,37.78436 -122.42454,37.78537 -122.42303999999999,37.78565 -122.42111000000001,37.78627 -122.42087,37.78503 -122.42131,37.78487 -122.42245,37.79029 -122.42106000000001,37.79048 -122.42118,37.79311 -122.41986000000001,37.79441 -122.42164,37.79594 -122.42468999999998,37.80123 -122.43263,37.79953 -122.43253999999999,37.799440000000004 -122.43016000000001,37.79968 -122.42714,37.798190000000005 -122.42231000000001,37.79878 -122.41927,37.79918 -122.41322,37.79997 -122.40991000000001,37.80038 -122.40901000000001,37.80049 -122.40767,37.80059 -122.40823,37.799659999999996 -122.40815,37.79867 -122.41211000000001,37.79721 -122.41313000000001,37.79501 -122.41671000000001,37.793859999999995 -122.41706,37.79378 -122.41793,37.793620000000004 -122.41751000000001,37.791340000000005 -122.41747,37.79207 -122.41673999999999,37.79205 -122.41658999999999,37.7953 -122.4188,37.797740000000005 -122.42058999999999,37.79862 -122.42055,37.798429999999996 -122.42008,37.79586 -122.4229,37.79578 -122.42533999999999,37.79837 -122.42958999999999,37.79783 -122.43032,37.79674 -122.43014,37.79572 -122.42661000000001,37.79541 -122.42281000000001,37.79586 -122.42191000000001,37.79599 -122.41027,37.79746 -122.40693999999999,37.79787 -122.40245,37.79842 -122.40168999999999,37.801320000000004 -122.40887,37.807179999999995 -122.41688,37.80509 -122.41395,37.80275 -122.4138,37.80274 -122.40883000000001,37.798590000000004 -122.40858999999999,37.79735 -122.41798999999999,37.79626 -122.42168999999998,37.79549 -122.42114,37.793479999999995 -122.42121000000002,37.793 -122.42071000000001,37.79072 -122.4157,37.79132 -122.40943,37.79214 -122.40485,37.79296 -122.40321000000002,37.79268 -122.40323000000001,37.79269 -122.40393,37.79215 -122.40392,37.792120000000004 -122.40371,37.7928 -122.40368000000001,37.79278 -122.40366000000002,37.79266 -122.40371,37.7925 -122.40373000000001,37.792429999999996 -122.40383999999999,37.79221 -122.40463999999999,37.7922 -122.40618,37.79228 -122.40933000000001,37.79177 -122.41259,37.79139 -122.41598,37.79121 -122.42066000000001,37.79051 -122.42027,37.78856 -122.41802,37.78801 -122.41573999999999,37.78833 -122.41435,37.78387 -122.41292,37.78093 -122.41188000000001,37.78118 -122.41176000000002,37.78119 -122.40822,37.78395 -122.4066,37.78542 -122.40798000000001,37.78537 -122.40848000000001,37.784929999999996 -122.40848999999999,37.78117 -122.40793000000001,37.78037 -122.40728,37.77986 -122.40545,37.77844 -122.40145,37.775240000000004 -122.3974,37.77052 -122.39222,37.75792 -122.39482,37.744659999999996 -122.40678999999999,37.73519 -122.42268,37.7314 -122.43654,37.731590000000004 -122.43456,37.73252 -122.43383,37.73455 -122.4347,37.737140000000004 -122.43425,37.73317 -122.42392,37.73872 -122.42428999999998,37.73653 -122.43157,37.7284 -122.43038999999999,37.72837 -122.43123,37.72885 -122.43153000000001,37.72849 -122.43412,37.725559999999994 -122.43491000000002,37.72455 -122.43625,37.722840000000005 -122.43359,37.72198 -122.43071,37.720690000000005 -122.42889,37.71975 -122.42121999999999,37.71332 -122.42046,37.7109 -122.42045,37.7109 -122.41873999999999,37.71197 -122.41451,37.71148 -122.40911000000001,37.70997 -122.40371,37.71131 -122.39993999999999,37.7186 -122.40476000000001,37.73162 -122.40543000000001,37.744659999999996 -122.40633000000001,37.75298 -122.40673000000001,37.75685 -122.40718999999999,37.760909999999996 -122.40755,37.76465 -122.40776000000001,37.76961 -122.40765,37.76952 -122.40676,37.77198 -122.40682,37.772079999999995 -122.40741000000001,37.77282 -122.40836999999999,37.77382 -122.40387,37.77715 -122.40071999999999,37.77453 -122.40007,37.77389 -122.39848,37.77262 -122.39742,37.77074 -122.39737,37.77001 -122.39228999999999,37.759159999999994 -122.39391,37.746340000000004 -122.40496,37.733579999999996 -122.39921000000001,37.7173 -122.40392,37.73008 -122.40642,37.74313 -122.40298999999999,37.75197 -122.40332,37.75629 -122.4051,37.76363 -122.40576999999999,37.77044 -122.40592,37.7754 -122.40086000000001,37.77906 -122.40003999999999,37.7798 -122.40056000000001,37.781490000000005 -122.40281999999999,37.78335 -122.40647,37.78673 -122.40705,37.78828 -122.41058000000001,37.788059999999994 -122.41046999999999,37.78985 -122.41085,37.791959999999996 -122.4108,37.79209 -122.41003,37.79303 -122.40946000000001,37.793409999999994 -122.41111000000001,37.7935 -122.41106,37.79353 -122.4111,37.79332 -122.40948,37.79332 -122.41158999999999,37.79568 -122.41323,37.797090000000004 -122.41349,37.79645 -122.41341000000001,37.79647 -122.41273999999999,37.79314 -122.41131999999999,37.790859999999995 -122.40543999999998,37.79155 -122.40366000000002,37.79048 -122.4032,37.78785 -122.40295,37.78693 -122.40293,37.78691 -122.4011,37.7856 -122.40111,37.78559 -122.39771999999999,37.78283 -122.39321000000001,37.779309999999995 -122.39307,37.77878 -122.39328,37.778420000000004 -122.39509,37.77697 -122.39533999999999,37.77673 -122.39536000000001,37.77668 -122.3954,37.77664 -122.3955,37.776579999999996 -122.39878,37.776509999999995 -122.40031,37.77528 -122.40025,37.774190000000004 -122.39771999999999,37.772 -122.39711000000001,37.76923 -122.39566,37.76761 -122.39248,37.76283 -122.3923,37.75255 -122.39322,37.7496 -122.39528999999999,37.751490000000004 -122.3953,37.75157 -122.39515,37.75185 -122.3935,37.751290000000004 -122.39267,37.75192 -122.39242,37.76058 -122.39846999999999,37.7723 -122.40167,37.77532 -122.40642,37.779140000000005 -122.41183000000001,37.78212 -122.41309,37.78696 -122.41463,37.7875 -122.41573999999999,37.78737 -122.41722,37.78989 -122.41878999999999,37.790820000000004 -122.41901999999999,37.7904 -122.41887,37.78996 -122.42183999999999,37.788509999999995 -122.42323,37.786229999999996 -122.42166,37.77935 -122.42106000000001,37.77564 -122.42385,37.77151 -122.4254,37.770309999999995 -122.4267,37.76771 -122.42606,37.762170000000005 -122.42558999999999,37.75683 -122.42477,37.751529999999995 -122.43542,37.74961 -122.43942,37.75012 -122.43641000000001,37.75208 -122.43616000000002,37.7561 -122.4364,37.7521 -122.43395,37.751329999999996 -122.43068999999998,37.75163 -122.43056999999999,37.7515 -122.43123999999999,37.751459999999994 -122.43236,37.75142 -122.43398,37.75031 -122.4293,37.74796 -122.42698999999999,37.746790000000004 -122.42657,37.74268 -122.42395,37.74067 -122.42381999999999,37.739509999999996 -122.42454,37.73583 -122.42568,37.73438 -122.42976999999999,37.73336 -122.43145,37.73307 -122.43401000000001,37.73415 -122.43739,37.7352 -122.43983,37.73495 -122.43993,37.73509 -122.43976,37.73749 -122.43835,37.738409999999995 -122.43973000000001,37.73746 -122.43643999999999,37.73404 -122.43158000000001,37.73182 -122.43428999999999,37.72894 -122.43736000000001,37.72401 -122.43751999999999,37.72108 -122.43852,37.71965 -122.43852,37.7197 -122.43862,37.71974 -122.43798000000001,37.72135 -122.43566000000001,37.72746 -122.4332,37.72996 -122.42683000000001,37.7313 -122.42153,37.73209 -122.40821000000001,37.7376 -122.40541999999999,37.74941 -122.40823999999999,37.75295 -122.40872,37.75782 -122.4092,37.76212 -122.40921999999999,37.762809999999995 -122.40727,37.76315 -122.40693999999999,37.75943 -122.40647,37.75457 -122.40616999999999,37.75144 -122.40391000000001,37.7468 -122.40751999999999,37.737429999999996 -122.42227,37.73154 -122.43635,37.73172 -122.43521000000001,37.73229 -122.43931,37.73466 -122.43983,37.73764 -122.43836,37.73839 -122.4361,37.73981 -122.43941000000001,37.74458 -122.44424,37.746629999999996 -122.44486,37.74712 -122.44547,37.7508 -122.44431999999999,37.75205 -122.44486,37.74901 -122.44086999999999,37.747240000000005 -122.43581,37.74207 -122.43583999999998,37.73853 -122.43385,37.73532 -122.43478,37.7323 -122.42235,37.73165 -122.39985,37.72039 -122.39468000000001,37.707359999999994 -122.38833000000001,37.6791 -122.39581000000001,37.66646 -122.38853999999999,37.61623 -122.38423,37.61619 -122.38451,37.61553 -122.39038000000001,37.687470000000005 -122.39351,37.70153 -122.39769,37.71452 -122.40278,37.72737 -122.40803999999999,37.7402 -122.40298999999999,37.75332 -122.40527,37.76614 -122.41113,37.77163 -122.40872,37.77383 -122.41417,37.77819 -122.41568000000001,37.78116 -122.41671000000001,37.78641 -122.41706,37.78832 -122.41728,37.79009 -122.41928999999999,37.79071 -122.42251999999999,37.79036 -122.42343000000001,37.7893 -122.42258000000001,37.79037 -122.42272,37.79149 -122.4236,37.79625 -122.42477,37.801190000000005 -122.42575,37.79903 -122.42396000000001,37.79837 -122.4235,37.79565 -122.42286999999999,37.79303 -122.42211,37.78966 -122.42138,37.78764 -122.42002,37.78735 -122.41955,37.78575 -122.41187,37.78693 -122.40851,37.78743 -122.40835,37.78775 -122.40771000000001,37.78903 -122.40616999999999,37.78947 -122.40396000000001,37.78755 -122.40314,37.78692 -122.40203999999999,37.78637 -122.39947,37.78824 -122.39672,37.79038 -122.39673,37.79037 -122.3968,37.79015 -122.39676000000001,37.790209999999995 -122.39685,37.79052 -122.39943000000001,37.80101 -122.40248000000001,37.80437 -122.40581,37.80653 -122.41183999999998,37.80529 -122.4134,37.80426 -122.41533999999999,37.80549 -122.41645,37.80525 -122.41696,37.80509 -122.41622,37.80447 -122.41368999999999,37.80278 -122.41348,37.802620000000005 -122.40521000000001,37.79679 -122.4043,37.7914 -122.40683,37.79035 -122.40786000000001,37.786590000000004 -122.40762,37.78548 -122.40906000000001,37.78453 -122.40935,37.7846 -122.40946000000001,37.78451 -122.40863,37.7845 -122.40723999999999,37.78324 -122.40489,37.78134 -122.40359,37.780429999999996 -122.40275,37.779759999999996 -122.40019,37.7777 -122.39918999999999,37.77321 -122.39253000000001,37.762370000000004 -122.39225,37.75864 -122.40508,37.7348 -122.40188,37.726040000000005 -122.39517,37.7094 -122.39211999999999,37.6959 -122.39164,37.69381 -122.38845,37.67954 -122.40608,37.64322 -122.40248999999999,37.63029 -122.38852,37.615559999999995 -122.39156000000001,37.61505 -122.38533000000001,37.61473 -122.39015,37.615120000000005 -122.39956000000001,37.618179999999995 -122.40333000000001,37.63163 -122.40638,37.644690000000004 -122.40568,37.65805 -122.38888999999999,37.681020000000004 -122.39195,37.694309999999994 -122.39485,37.70748 -122.40003999999999,37.72047 -122.40493000000001,37.73317 -122.39244,37.75799 -122.39791000000001,37.770559999999996 -122.39065,37.77915 -122.39001999999999,37.790490000000005 -122.39398,37.79469 -122.39801999999999,37.79945 -122.40275,37.804320000000004 -122.40531999999999,37.80388 -122.40523999999999,37.80372 -122.40573,37.805690000000006 -122.40458000000001,37.80621 -122.40347,37.80477 -122.40341000000001,37.80338 -122.40413999999998,37.79818 -122.40553999999999,37.797779999999996 -122.40558999999999,37.79787 -122.40508999999999,37.796640000000004 -122.40448,37.7935 -122.40422,37.790420000000005 -122.40472,37.78889 -122.40706000000002,37.78928 -122.4068,37.78938 -122.40682,37.789359999999995 -122.40671999999999,37.78935 -122.40668000000001,37.78941 -122.40528,37.78946 -122.40678999999999,37.788940000000004 -122.40666,37.789429999999996 -122.40425,37.789359999999995 -122.40265,37.78686 -122.40181000000001,37.78626 -122.39915,37.78822 -122.39525,37.784490000000005 -122.3966,37.78557 -122.39653999999999,37.78563 -122.39655,37.78559 -122.39641999999999,37.78838 -122.3974,37.79013 -122.39841000000001,37.790729999999996 -122.40278,37.79609 -122.40186000000001,37.79507 -122.40406999999999,37.79518 -122.40206,37.79432 -122.40409,37.792359999999995 -122.40256000000001,37.79105 -122.40078999999999,37.790690000000005 -122.40073000000001,37.79079 -122.40151999999999,37.79119 -122.4051,37.79063 -122.4091,37.79012 -122.41407,37.78949 -122.41878999999999,37.78887 -122.42200000000001,37.78872 -122.42209,37.788920000000005 -122.42236000000001,37.790079999999996 -122.42275,37.7914 -122.42277,37.7919 -122.42306,37.79353 -122.42358,37.79701 -122.42381,37.797309999999996 -122.42387,37.797509999999996 -122.42581000000001,37.79903 -122.42419,37.79857 -122.42436000000001,37.79991 -122.42466999999999,37.80165 -122.42531000000001,37.80578 -122.42528999999999,37.8057 -122.42503,37.80395 -122.42426999999999,37.8006 -122.42379,37.797779999999996 -122.42307,37.79428 -122.42241000000001,37.79124 -122.42181000000001,37.78836 -122.42069,37.785790000000006 -122.41468,37.786570000000005 -122.40726000000001,37.78747 -122.40708000000001,37.78942 -122.40688,37.78948 -122.40688,37.78952 -122.40685,37.78947 -122.40675,37.78941 -122.40673999999999,37.78938 -122.405,37.7897 -122.40388999999999,37.78937 -122.40348,37.78825 -122.40256000000001,37.78678 -122.39916000000001,37.78398 -122.39498,37.7806 -122.39238999999999,37.77919 -122.39158,37.77982 -122.39101000000001,37.7801 -122.39511,37.77724 -122.39855,37.77994 -122.40173999999999,37.78259 -122.40428,37.78417 -122.40628000000001,37.785959999999996 -122.40857,37.7887 -122.40851,37.789190000000005 -122.40348,37.789640000000006 -122.40008999999999,37.79017 -122.39777,37.79289 -122.39856999999999,37.7934 -122.39873999999999,37.79335 -122.40162,37.79298 -122.40343999999999,37.79253 -122.40543000000001,37.79254 -122.40936,37.791990000000006 -122.41107,37.79177 -122.41421000000001,37.79145 -122.41781999999999,37.79095 -122.41971000000001,37.79072 -122.42246000000002,37.79035 -122.42338000000001,37.78714 -122.4231,37.78461 -122.42537,37.78529 -122.43518,37.78398 -122.44466000000001,37.78255 -122.44717,37.77925 -122.44672,37.77705 -122.4462,37.774429999999995 -122.44553,37.77017 -122.44636000000001,37.77005 -122.4482,37.76982 -122.45341,37.76875 -122.45531000000001,37.7651 -122.45662,37.76493 -122.46098,37.76427 -122.46335,37.7623 -122.46418,37.7638 -122.46621999999999,37.76275 -122.46633,37.76028 -122.47158999999999,37.76204 -122.46995,37.76386 -122.46965,37.76395 -122.46628999999999,37.763729999999995 -122.4643,37.76232 -122.46233000000001,37.76243 -122.45817,37.76327 -122.45801000000002,37.76337 -122.45801000000002,37.76383 -122.4574,37.76361 -122.45567,37.76511 -122.45329,37.76783 -122.4541,37.77172 -122.45378000000001,37.77203 -122.44731000000002,37.77288 -122.4469,37.77769 -122.44757,37.781940000000006 -122.44716000000001,37.78237 -122.44268000000001,37.783 -122.43923000000001,37.78344 -122.43068000000001,37.78475 -122.42568999999999,37.785379999999996 -122.42111000000001,37.78569 -122.41463999999999,37.7865 -122.40969,37.78671 -122.40834,37.7876 -122.40836000000002,37.78797 -122.40853,37.78775 -122.40851,37.78796 -122.40836000000002,37.78873 -122.40828,37.78906 -122.40838000000001,37.7883 -122.40839,37.78833 -122.40843000000001,37.78823 -122.40863,37.78832 -122.41141,37.787440000000004 -122.41123,37.78553 -122.40963,37.78564 -122.41446,37.78557 -122.41498999999999,37.785540000000005 -122.41962,37.785270000000004 -122.42172,37.78642 -122.42172,37.786 -122.42171,37.78595 -122.42165,37.785959999999996 -122.42166,37.78597 -122.42173999999999,37.78586 -122.42164,37.78597 -122.42201000000001,37.786229999999996 -122.42197,37.786640000000006 -122.42336999999999,37.78637 -122.42926000000001,37.78563 -122.43281999999999,37.7839 -122.43211000000001,37.78033 -122.43163,37.77797 -122.43095,37.77474 -122.43075,37.77381 -122.43353,37.7717 -122.43546,37.77158 -122.43375,37.77183 -122.43212,37.77186 -122.4323,37.773 -122.43811000000001,37.77302 -122.44641000000001,37.77197 -122.44894,37.77158 -122.44859,37.7699 -122.44561999999999,37.77129 -122.44621000000001,37.77413 -122.44683,37.77728 -122.44748999999999,37.780640000000005 -122.44736,37.78569 -122.44163999999999,37.78695 -122.43517,37.78777 -122.43395,37.789 -122.43423999999999,37.7908 -122.43463,37.792640000000006 -122.43538000000001,37.79616 -122.43543999999999,37.79625 -122.43668999999998,37.796929999999996 -122.43781000000001,37.79955 -122.43803999999999,37.80061 -122.43651000000001,37.80105 -122.43498999999998,37.802890000000005 -122.42992,37.80355 -122.42737,37.8039 -122.42466999999999,37.802170000000004 -122.42281000000001,37.8008 -122.42271000000001,37.80015 -122.42098,37.799 -122.41905,37.79907 -122.41851000000001,37.79665 -122.4214,37.79504 -122.4212,37.79316 -122.42067,37.79032 -122.41985,37.786559999999994 -122.41458,37.786570000000005 -122.40978,37.7875 -122.40975,37.78776 -122.41058000000001,37.78804 -122.41677,37.787279999999996 -122.4211,37.786609999999996 -122.42401000000001,37.78632 -122.425,37.78603 -122.42837,37.78577 -122.4301,37.78552 -122.43336000000001,37.78629 -122.43876999999999,37.78635 -122.44601000000002,37.78544 -122.44757,37.78233 -122.45368,37.7816 -122.45873999999999,37.779709999999994 -122.4574,37.77446 -122.45391000000001,37.77129 -122.45336,37.76832 -122.45403999999999,37.76624 -122.45588000000001,37.76599 -122.4617,37.76608 -122.46415,37.76404 -122.46418999999999,37.76228 -122.46642,37.76206 -122.46786000000002,37.76206 -122.47058,37.76382 -122.46732,37.76402 -122.46614,37.76212 -122.46609,37.76036 -122.46688,37.75844 -122.46387,37.75934 -122.46392,37.760020000000004 -122.46316999999999,37.76233 -122.45839,37.76337 -122.45299999999999,37.76447 -122.44998999999999,37.76578 -122.45022,37.76697 -122.45063999999999,37.76944 -122.44668,37.77005 -122.44426999999999,37.77036 -122.43959,37.770959999999995 -122.43751,37.77323 -122.43276000000002,37.77467 -122.42472,37.77574 -122.42401000000001,37.77467 -122.42306,37.77149 -122.41815,37.76993 -122.40566000000001,37.76808 -122.40515,37.76719 -122.40288999999999,37.753820000000005 -122.4031,37.75096 -122.40784,37.73812 -122.40181000000001,37.72553 -122.40008999999999,37.72098 -122.39483,37.70823 -122.39181,37.69488 -122.38883,37.68175 -122.39368999999999,37.66861 -122.40508,37.65883 -122.4062,37.64537 -122.40271000000001,37.632259999999995 -122.39912,37.618990000000004 -122.39662,37.614509999999996 -122.38708999999999,37.61764 -122.38451,37.61554 -122.38451,37.61545 -122.38642,37.61479 -122.39662,37.6138 -122.40247,37.62644 -122.40568,37.63962 -122.40706999999999,37.65315 -122.389,37.67569 -122.3908,37.68922 -122.39386999999999,37.7028 -122.39861,37.71577 -122.40328000000001,37.72857 -122.40754,37.74155 -122.40313,37.754690000000004 -122.40558999999999,37.7676 -122.4188,37.76955 -122.41998000000001,37.76854 -122.42456000000001,37.768029999999996 -122.427,37.76625 -122.43086000000001,37.76598 -122.43319,37.76585 -122.43581999999999,37.767520000000005 -122.43585,37.76755 -122.43576000000002,37.76828 -122.43548999999999,37.76608 -122.43313,37.7659 -122.43106,37.76577 -122.43348999999999,37.76379 -122.43508999999999,37.762190000000004 -122.43303999999999,37.76104 -122.43047,37.76122 -122.42785,37.761340000000004 -122.42257,37.76166 -122.41925,37.760290000000005 -122.41868999999998,37.75555 -122.41638,37.754059999999996 -122.41268000000001,37.7542 -122.41188000000001,37.75254 -122.4115,37.74895 -122.40876000000002,37.74843 -122.40118999999999,37.7495 -122.39771,37.74971 -122.39533999999999,37.75118 -122.39511999999999,37.75137 -122.39508000000001,37.75135 -122.39435,37.75139 -122.39385,37.75168 -122.39358999999999,37.75155 -122.39341,37.75036 -122.40086000000001,37.74947 -122.41158999999999,37.748290000000004 -122.41583999999999,37.74875 -122.41838999999999,37.75225 -122.41864,37.754540000000006 -122.41908000000001,37.75954 -122.4198,37.76675 -122.42007,37.768679999999996 -122.42008999999999,37.7686 -122.41996,37.76859 -122.42017,37.76858 -122.42118,37.77248 -122.42251,37.77487 -122.42437,37.78371 -122.42485,37.78519 -122.43368000000001,37.78423 -122.44108999999999,37.78306 -122.45071999999999,37.78195 -122.45917,37.7847 -122.46113000000001,37.7854 -122.46191999999999,37.78529 -122.45873,37.78575 -122.45443999999999,37.78628 -122.44757,37.78716 -122.44593,37.78736 -122.44294,37.78777 -122.43462,37.78884 -122.42878,37.78958 -122.42248000000001,37.79045 -122.42253999999998,37.79039 -122.42063,37.790420000000005 -122.42001,37.78968 -122.41378999999999,37.79051 -122.41228000000001,37.7906 -122.41353000000001,37.78957 -122.42045,37.78869 -122.42345,37.78745 -122.42192,37.77982 -122.42103,37.77528 -122.42213999999998,37.77285 -122.42245,37.77104 -122.42218000000001,37.76804 -122.42168999999998,37.76297 -122.42131,37.75934 -122.42102,37.75613 -122.42145,37.75998 -122.42175,37.7643 -122.42177,37.764340000000004 -122.41958999999999,37.76354 -122.42183,37.76468 -122.42136,37.7596 -122.421,37.75597 -122.41933,37.752179999999996 -122.41416000000001,37.75253 -122.40885,37.7528 -122.40841,37.75608 -122.40512,37.75439 -122.39991,37.7547 -122.39974,37.755829999999996 -122.39967,37.75549 -122.3996,37.75456 -122.40281,37.754490000000004 -122.40628000000001,37.75325 -122.40625,37.75432 -122.40151000000002,37.75357 -122.40144,37.752759999999995 -122.40155,37.75332 -122.40538000000001,37.75434 -122.4089,37.75444 -122.41438000000001,37.75408 -122.41856000000001,37.753840000000004 -122.41928999999999,37.76015 -122.42133999999999,37.7594 -122.42083999999998,37.755340000000004 -122.41848999999999,37.75306 -122.41832,37.74799 -122.42003999999999,37.745329999999996 -122.42093999999999,37.744170000000004 -122.42007,37.74563 -122.42069,37.75192 -122.42133999999999,37.75847 -122.42263,37.76165 -122.42641,37.76141 -122.43295,37.76103 -122.43302,37.76103 -122.42974,37.76122 -122.42357,37.76158 -122.41951999999999,37.76278 -122.42153,37.764920000000004 -122.42168000000001,37.763000000000005 -122.42131,37.75922 -122.41911999999999,37.75902 -122.41963999999999,37.7646 -122.42018999999999,37.77024 -122.41691999999999,37.77449 -122.41462,37.776379999999996 -122.41076000000001,37.779340000000005 -122.40401000000001,37.78422 -122.40234,37.78602 -122.39741000000001,37.789809999999996 -122.39605,37.79163 -122.39679,37.79503 -122.39761999999999,37.79441 -122.39652,37.79462 -122.39708999999999,37.793420000000005 -122.40292,37.7943 -122.40351000000001,37.79438 -122.40392,37.79288 -122.40841,37.79214 -122.41098000000001,37.791779999999996 -122.41405,37.791340000000005 -122.41865,37.79079 -122.42076000000002,37.79037 -122.42011000000001,37.78754 -122.41542,37.78655 -122.41188999999999,37.78705 -122.40888999999999,37.78731 -122.40836000000002,37.78737 -122.40463000000001,37.7879 -122.40126000000001,37.78563 -122.39922,37.78607 -122.4011,37.787690000000005 -122.40223,37.789559999999994 -122.40258999999999,37.79165 -122.4034,37.79422 -122.40489,37.796640000000004 -122.4081,37.79891 -122.40933999999999,37.79967 -122.41283999999999,37.80213 -122.41858,37.806090000000005 -122.41978,37.80771 -122.41722,37.80695 -122.4169,37.80516 -122.41255,37.80198 -122.4108,37.80015 -122.40933999999999,37.79967 -122.4116,37.80126 -122.4131,37.80231 -122.41814,37.80575 -122.4165,37.80472 -122.41051000000002,37.80062 -122.40756999999999,37.79971 -122.40793000000001,37.798770000000005 -122.40847,37.79913 -122.40943,37.79978 -122.41161000000001,37.80017 -122.41747,37.79943 -122.4223,37.7986 -122.42168000000001,37.79562 -122.4198,37.79462 -122.42013,37.79525 -122.42115,37.7951 -122.42125,37.793 -122.42058999999999,37.78971 -122.42003999999999,37.7879 -122.42003000000001,37.787929999999996 -122.42006,37.78767 -122.4161,37.78629 -122.41086000000001,37.78691 -122.40857,37.78752 -122.41174,37.78783 -122.41487,37.78732 -122.41485,37.78723 -122.4146,37.78658 -122.40971,37.78732 -122.40908,37.788340000000005 -122.41203999999999,37.78784 -122.41241000000001,37.78693 -122.40915,37.78736 -122.40845,37.78646 -122.40955,37.786770000000004 -122.41013999999998,37.78924 -122.4107,37.79122 -122.41221999999999,37.7917 -122.41226999999999,37.79119 -122.41135,37.78715 -122.41053000000001,37.782340000000005 -122.41009,37.77988 -122.40916000000001,37.7778 -122.40585,37.7752 -122.4049,37.76426 -122.40319,37.75092 -122.40789,37.73772 -122.39281000000001,37.699220000000004 -122.40348999999999,37.63595 -122.38592,37.61653 -122.38596000000001,37.61647 -122.38595,37.616479999999996 -122.38595,37.61653 -122.38596000000001,37.61651 -122.38611000000002,37.616440000000004 -122.38603,37.61649 -122.38598,37.61645 -122.38595,37.61649 -122.38598,37.61646 -122.38597,37.61649 -122.38616,37.6163 -122.38641000000001,37.616170000000004 -122.3864,37.61616 -122.38633999999999,37.616170000000004 -122.38604,37.61646 -122.37525,37.59936 -122.3623,37.59086 -122.34595,37.58709 -122.32948999999999,37.58515 -122.31858999999999,37.57515 -122.29701000000001,37.55429 -122.28693,37.54358 -122.21383,37.489509999999996 -122.21412,37.48685 -122.22292,37.47733 -122.21596000000001,37.4714 -122.21597,37.47133 -122.21606000000001,37.47139 -122.2143,37.48741 -122.22568999999999,37.494009999999996 -122.24065,37.50006 -122.27456000000001,37.53018 -122.28468000000001,37.54097 -122.29478,37.55192 -122.31602,37.57269 -122.34288000000001,37.586909999999996 -122.35935,37.58885 -122.37241999999999,37.59725 -122.38553999999999,37.60585 -122.40592,37.641059999999996 -122.40055,37.66292 -122.39001,37.673590000000004 -122.39031999999999,37.68715 -122.39933,37.717659999999995 -122.40418000000001,37.730470000000004 -122.40392,37.75731 -122.40652,37.76867 -122.40983999999999,37.7726 -122.41146,37.77608 -122.41515,37.779509999999995 -122.41568999999998,37.78237 -122.41216999999999,37.78413 -122.41003,37.78585 -122.41185,37.78784 -122.41183999999998,37.78777 -122.41208,37.78747 -122.41028,37.78718 -122.40808999999999,37.787459999999996 -122.40822,37.788090000000004 -122.40811000000001,37.78705 -122.40991000000001,37.786120000000004 -122.41285,37.785940000000004 -122.41406,37.78318 -122.41418999999999,37.782140000000005 -122.41422,37.78219 -122.41576,37.78275 -122.41658999999999,37.7863 -122.41715,37.78933 -122.41988,37.79068 -122.42275,37.790409999999994 -122.42496000000001,37.78999 -122.43378999999999,37.78893 -122.44211999999999,37.78783 -122.44716000000001,37.78717 -122.45056000000001,37.78669 -122.45085,37.7867 -122.45591,37.78606 -122.45931999999999,37.78564 -122.46588999999999,37.78482 -122.47122,37.78452 -122.47341999999999,37.78432 -122.47753999999999,37.78411 -122.48051000000001,37.78024 -122.48252,37.77908 -122.48232,37.775940000000006 -122.4826,37.7797 -122.48293999999999,37.784079999999996 -122.4786,37.78607 -122.47243999999999,37.78632 -122.46266999999999,37.78683 -122.45947,37.788579999999996 -122.44956,37.79163 -122.45082,37.79531 -122.4518,37.79851 -122.44726999999999,37.79851 -122.44465,37.798809999999996 -122.4401,37.79937 -122.43656000000001,37.79983 -122.42683999999998,37.80106 -122.42603999999999,37.800059999999995 -122.42485,37.7945 -122.42393,37.78998 -122.41685,37.79013 -122.40728,37.79141 -122.40051000000001,37.7925 -122.39986,37.79526 -122.39976999999999,37.79535 -122.40104,37.79345 -122.40051000000001,37.7921 -122.40046000000001,37.79124 -122.4016,37.79531 -122.40293999999999,37.79473 -122.40433,37.79146 -122.40435,37.78888 -122.40856000000001,37.7874 -122.40808,37.78695 -122.40868999999999,37.78695 -122.40806,37.78634 -122.41148000000001,37.78597 -122.41605,37.78523 -122.41787,37.785 -122.41733,37.782309999999995 -122.41688,37.78002 -122.41398000000001,37.77562 -122.40867,37.77091 -122.4063,37.76078 -122.40411,37.74798 -122.40236000000002,37.72701 -122.39736,37.7143 -122.38938999999999,37.67445 -122.40678,37.651270000000004 -122.40467,37.63793 -122.38531,37.61489 -122.38538,37.614740000000005 -122.38537,37.61485 -122.3854,37.614740000000005 -122.39206000000001,37.67064 -122.38963000000001,37.6842 -122.39263999999999,37.697590000000005 -122.39558999999998,37.710770000000004 -122.40123999999999,37.7236 -122.40228,37.737359999999995 -122.39288,37.74882 -122.39277,37.76266 -122.398,37.77303 -122.3944,37.776540000000004 -122.39168000000001,37.77977 -122.3917,37.7797 -122.39092,37.781 -122.39515,37.78427 -122.39267,37.785990000000005 -122.39218999999999,37.78692 -122.39011,37.786809999999996 -122.38587,37.7908 -122.37508000000001,37.80087 -122.36685,37.80865 -122.37097,37.813829999999996 -122.37018,37.81832 -122.36836000000001,37.82277 -122.37216000000001,37.82849 -122.3733,37.82911 -122.37241999999999,37.828829999999996 -122.3688,37.82354 -122.37048,37.81818 -122.37093999999999,37.81353 -122.36679,37.8085 -122.37167,37.80413 -122.37913,37.79732 -122.39263999999999,37.78528 -122.39433000000001,37.78542 -122.39475,37.78556 -122.39849,37.78694 -122.40371,37.78519 -122.40708000000001,37.78226 -122.41098999999998,37.779070000000004 -122.40925,37.77792 -122.40574,37.775009999999995 -122.40576000000001,37.775009999999995 -122.40498999999998,37.77412 -122.40706999999999,37.77264 -122.40785,37.773309999999995 -122.40981000000001,37.77478 -122.41375,37.77789 -122.41543,37.78153 -122.41581000000001,37.78321 -122.4167,37.7876 -122.41747,37.79104 -122.41684,37.79201 -122.41646999999999,37.79468 -122.41728,37.79858 -122.41797,37.80216 -122.41856999999999,37.8053 -122.42039,37.80605 -122.42521,37.80314 -122.42531000000001,37.80311 -122.42916000000001,37.802659999999996 -122.43177,37.80145 -122.43648999999999,37.80083 -122.43807,37.80058 -122.44306,37.80088 -122.44388000000001,37.80276 -122.44398999999999,37.80274 -122.44306,37.80107 -122.43937,37.799640000000004 -122.43579,37.79992 -122.43203999999999,37.8004 -122.42711000000001,37.80101 -122.42573,37.7988 -122.42476,37.79374 -122.42428000000001,37.79096 -122.42211,37.790490000000005 -122.4178,37.79098 -122.41559,37.79126 -122.41186,37.79176 -122.40899999999999,37.7921 -122.40406999999999,37.7928 -122.40361999999999,37.792629999999996 -122.40361000000001,37.792609999999996 -122.40388999999999,37.792609999999996 -122.40411999999999,37.79039 -122.40366000000002,37.78869 -122.40653999999999,37.788540000000005 -122.40896000000001,37.78861 -122.41291000000001,37.78761 -122.41909,37.78692 -122.42168000000001,37.786559999999994 -122.42342,37.78637 -122.42523999999999,37.78624 -122.43118,37.78494 -122.43088,37.78327 -122.43168999999999,37.77956 -122.43183,37.778890000000004 -122.43117,37.77874 -122.42958999999999,37.77683 -122.42926999999999,37.77462 -122.42918,37.77405 -122.42908,37.77394 -122.42647,37.769659999999995 -122.42555,37.769709999999996 -122.42465,37.769709999999996 -122.42421999999999,37.76647 -122.4238,37.76485 -122.42008999999999,37.76508 -122.42342,37.764790000000005 -122.42459,37.764720000000004 -122.42863,37.76447 -122.42857,37.7638 -122.42806000000002,37.76294 -122.42352,37.76321 -122.42133999999999,37.76336 -122.41946999999999,37.763329999999996 -122.41933999999999,37.761720000000004 -122.4191,37.75898 -122.41906999999999,37.75886 -122.41885,37.756159999999994 -122.4213,37.7553 -122.42421999999999,37.7567 -122.4243,37.75516 -122.41833999999999,37.755590000000005 -122.41421000000001,37.75573 -122.41242,37.757529999999996 -122.41288,37.762370000000004 -122.41311,37.76501 -122.41338999999999,37.76787 -122.41288,37.76936 -122.41033,37.76935 -122.40936,37.76919 -122.40687,37.76933 -122.40338999999999,37.77057 -122.40153000000001,37.77194 -122.39712,37.775459999999995 -122.39551999999999,37.77657 -122.39549,37.77659 -122.39558000000001,37.776540000000004 -122.39571000000001,37.77646 -122.39618999999999,37.77612 -122.39753,37.77558 -122.40217,37.77928 -122.40685,37.77756 -122.41046999999999,37.77468 -122.41327,37.772459999999995 -122.41548999999999,37.772859999999994 -122.41545,37.772909999999996 -122.41431999999999,37.77406 -122.40688,37.779990000000005 -122.40476000000001,37.781209999999994 -122.40466,37.78115 -122.40233,37.77945 -122.40005,37.7776 -122.39858000000001,37.77644 -122.39705,37.77537 -122.39712,37.77539 -122.39907,37.77628 -122.39891000000001,37.77305 -122.39778000000001,37.772079999999995 -122.39703999999999,37.76916 -122.39208,37.75666 -122.39343000000001,37.75251 -122.39631000000001,37.75033 -122.39536000000001,37.75019 -122.39498,37.75127 -122.39498,37.75132 -122.39482,37.75125 -122.3953,37.75142 -122.39533999999999,37.75138 -122.39535,37.75132 -122.39528999999999,37.75127 -122.39538,37.75158 -122.3953,37.751290000000004 -122.3937,37.75192 -122.39246000000001,37.75915 -122.3926,37.76085 -122.39303999999998,37.76398 -122.39715,37.76858 -122.39436,37.77646 -122.39532,37.77726 -122.39889,37.77918 -122.40163999999999,37.78155 -122.40066000000002,37.78745 -122.40187,37.78925 -122.40194,37.78952 -122.40248999999999,37.78985 -122.40321000000002,37.7934 -122.40275,37.79541 -122.40248000000001,37.795590000000004 -122.40438999999999,37.79629 -122.40401000000001,37.79159 -122.40303,37.78716 -122.4011,37.78568 -122.39934,37.784209999999995 -122.39445,37.78026 -122.39511999999999,37.77941 -122.39551999999999,37.77908 -122.3968,37.77809 -122.39688000000001,37.77766 -122.39686999999999,37.7777 -122.39686999999999,37.777590000000004 -122.39685,37.77765 -122.39681000000002,37.77773 -122.39685,37.777609999999996 -122.39926000000001,37.77617 -122.40118000000001,37.774609999999996 -122.40337,37.77288 -122.40772,37.76916 -122.40758999999998,37.76628 -122.40717,37.76207 -122.40715,37.7619 -122.40671999999999,37.75762 -122.40515,37.75588 -122.40531000000001,37.75436 -122.40678,37.75699 -122.40698,37.757670000000005 -122.40976,37.75758 -122.41458,37.7573 -122.41586000000001,37.757220000000004 -122.4179,37.757259999999995 -122.41783000000001,37.75743 -122.41776999999999,37.756240000000005 -122.4177,37.75622 -122.41808999999999,37.75546 -122.42006,37.755359999999996 -122.42286999999999,37.75233 -122.42079,37.75313 -122.42088000000001,37.75392 -122.42121000000002,37.7573 -122.42148,37.75994 -122.42148999999999,37.75997 -122.42161999999999,37.76175 -122.42166,37.76232 -122.42227,37.76859 -122.42227,37.77364 -122.42296,37.77646 -122.42321000000001,37.77811 -122.42361000000001,37.78022 -122.42458,37.78448 -122.42383999999998,37.789159999999995 -122.4173,37.790009999999995 -122.41214,37.79085 -122.40738999999999,37.791270000000004 -122.40451000000002,37.79187 -122.40292,37.793240000000004 -122.4039,37.79595 -122.40721,37.798190000000005 -122.40883999999998,37.79925 -122.41038999999999,37.80042 -122.41383,37.80279 -122.41995,37.8035 -122.41955,37.8017 -122.41945,37.801759999999994 -122.41986000000001,37.801970000000004 -122.42326000000001,37.8015 -122.42523,37.80121 -122.42558999999999,37.797909999999995 -122.42433,37.791709999999995 -122.4232,37.78602 -122.42308999999999,37.7846 -122.42558999999999,37.78524 -122.43311000000001,37.78432 -122.43798999999999,37.78368 -122.44908999999998,37.7822 -122.45437,37.78151 -122.45296,37.7759 -122.45358,37.77839 -122.45876000000001,37.7795 -122.45893999999998,37.782059999999994 -122.45674,37.7815 -122.45579,37.784040000000005 -122.45596,37.7861 -122.45226000000001,37.786590000000004 -122.44816000000002,37.78713 -122.44287,37.78778 -122.43791,37.78844 -122.43408000000001,37.79 -122.43446999999999,37.791740000000004 -122.43491999999999,37.79439 -122.43547,37.79674 -122.43296000000001,37.79744 -122.43051000000001,37.79749 -122.42716000000001,37.79764 -122.42907,37.79792 -122.4311,37.79765 -122.43348,37.797340000000005 -122.43515,37.79714 -122.43496999999999,37.79448 -122.43451999999999,37.79234 -122.43409,37.79014 -122.43393,37.78913 -122.43366,37.78778 -122.43345,37.786640000000006 -122.43024,37.78492 -122.42285,37.78572 -122.41996,37.78583 -122.4162,37.786359999999995 -122.41098999999998,37.78699 -122.40863,37.787290000000006 -122.40839,37.787209999999995 -122.4076,37.78679 -122.40593,37.78748 -122.40321999999999,37.787290000000006 -122.40061999999999,37.785740000000004 -122.39985,37.78552 -122.39459,37.78957 -122.39251999999999,37.791540000000005 -122.39406000000001,37.79246 -122.3941,37.79253 -122.39305,37.793420000000005 -122.39289,37.79357 -122.39401000000001,37.79258 -122.39399999999999,37.79115 -122.39405,37.787859999999995 -122.39662,37.78568 -122.3995,37.783409999999996 -122.4014,37.78185 -122.40486999999999,37.77912 -122.40296000000001,37.77648 -122.40123999999999,37.77507 -122.39556999999999,37.767509999999994 -122.39166000000002,37.75442 -122.40876999999999,37.73451 -122.42496000000001,37.731120000000004 -122.42606,37.73124 -122.40066000000002,37.7389 -122.39206999999999,37.750409999999995 -122.39761999999999,37.7693 -122.3944,37.77641 -122.39678,37.77854 -122.40275,37.78366 -122.40323000000001,37.785340000000005 -122.40143,37.78597 -122.4012,37.78611 -122.40145,37.78179 -122.40541999999999,37.77841 -122.40243000000001,37.775909999999996 -122.39821,37.77244 -122.39225,37.75955 -122.40494,37.73532 -122.39968,37.72003 -122.39166000000002,37.6939 -122.38863,37.68031 -122.39843,37.61725 -122.38616999999999,37.61632 -122.38615,37.61632 -122.38715,37.61779 -122.40677,37.649879999999996 -122.39016000000001,37.686609999999995 -122.39363999999999,37.702090000000005 -122.39815,37.71517 -122.40308,37.72814 -122.40765,37.74132 -122.40301000000001,37.75408 -122.40529,37.76728 -122.40109,37.77883 -122.40145,37.78225 -122.40189,37.78382 -122.39992,37.785140000000006 -122.40028999999998,37.78537 -122.40013,37.78528 -122.39996000000001,37.78521 -122.40021000000002,37.78525 -122.40021999999999,37.78526 -122.40023000000001,37.78513 -122.4002,37.78512 -122.40028000000001,37.7852 -122.40035,37.78521 -122.39908,37.786120000000004 -122.40348,37.78503 -122.40471000000001,37.78395 -122.41238999999999,37.77807 -122.41633,37.77502 -122.41791,37.77536 -122.41856000000001,37.77541 -122.41882,37.77538 -122.42062,37.774029999999996 -122.42209,37.77282 -122.42459,37.7708 -122.42459,37.767990000000005 -122.4248,37.767959999999995 -122.42653999999999,37.7663 -122.42606,37.76121 -122.426,37.760220000000004 -122.4265,37.7645 -122.42685,37.767959999999995 -122.42683999999998,37.767990000000005 -122.42596999999999,37.769890000000004 -122.42338000000001,37.77198 -122.42308,37.77725 -122.42511999999999,37.78754 -122.4256,37.78929 -122.42831000000001,37.789609999999996 -122.43401999999999,37.7889 -122.434,37.78907 -122.43393999999999,37.78937 -122.43409,37.790009999999995 -122.43465,37.79258 -122.43313,37.79452 -122.42693,37.79533 -122.42758,37.79806 -122.43245,37.797470000000004 -122.43536999999999,37.79629 -122.43461,37.79295 -122.43428,37.79032 -122.43417,37.79031 -122.43401999999999,37.7904 -122.43063000000001,37.78935 -122.42674,37.78983 -122.42213999999998,37.79038 -122.41751000000001,37.79105 -122.41245,37.79169 -122.40827,37.79228 -122.40749,37.79213 -122.40732,37.791470000000004 -122.41226,37.78974 -122.41495,37.78795 -122.41035,37.78928 -122.40726000000001,37.787490000000005 -122.4065,37.78755 -122.40371,37.787459999999996 -122.40243000000001,37.78674 -122.40008,37.78825 -122.3974,37.79002 -122.39589,37.79126 -122.39331000000001,37.79306 -122.39295,37.793459999999996 -122.39296999999999,37.793490000000006 -122.39299999999999,37.793490000000006 -122.39294,37.793459999999996 -122.39287,37.793420000000005 -122.39266,37.7934 -122.39285,37.79343 -122.39278,37.7934 -122.3927,37.79343 -122.39286000000001,37.79351 -122.39401000000001,37.792590000000004 -122.39341999999999,37.79045 -122.39165,37.789190000000005 -122.38713,37.78705 -122.38716000000001,37.78706 -122.3886,37.78942 -122.39157,37.792770000000004 -122.3928,37.79354 -122.39275,37.79363 -122.39283999999999,37.7936 -122.39267,37.7936 -122.39277,37.7936 -122.39275,37.7936 -122.39388999999998,37.79269 -122.39846999999999,37.78989 -122.40058,37.7852 -122.40014,37.78539 -122.40011000000001,37.78544 -122.40007,37.785540000000005 -122.39482,37.789429999999996 -122.39251000000002,37.7915 -122.39393000000001,37.792390000000005 -122.39476,37.79187 -122.3938,37.7879 -122.39466000000002,37.78716 -122.39651,37.78562 -122.3993,37.783559999999994 -122.40385,37.78003 -122.40413999999998,37.77742 -122.39756000000001,37.7715 -122.3922,37.75869 -122.39431,37.74541 -122.40508,37.73538 -122.39988000000001,37.720729999999996 -122.39482,37.70799 -122.39178999999999,37.69445 -122.38878999999999,37.68103 -122.3944,37.66806 -122.40612,37.64438 -122.38838,37.615320000000004 -122.3959,37.61383 -122.40558,37.63923 -122.40648999999999,37.644490000000005 -122.39023999999999,37.68697 -122.39326000000001,37.70016 -122.39665,37.713190000000004 -122.40215,37.725840000000005 -122.40811000000001,37.73876 -122.40303999999999,37.75177 -122.4051,37.76517 -122.40227,37.77798 -122.40153000000001,37.78197 -122.40239,37.78342 -122.40186000000001,37.78844 -122.40393999999999,37.78754 -122.40275,37.78519 -122.40273,37.78519 -122.40353,37.785740000000004 -122.40278,37.78625 -122.40308,37.78609 -122.40303,37.785990000000005 -122.40421,37.78485 -122.40576000000001,37.78734 -122.40368000000001,37.78585 -122.40291,37.78595 -122.40288000000001,37.785940000000004 -122.40281,37.78613 -122.40333000000001,37.785779999999995 -122.40337,37.78602 -122.40288000000001,37.78597 -122.40305,37.785920000000004 -122.40312,37.785959999999996 -122.40383,37.78638 -122.40255,37.78637 -122.40298,37.78622 -122.40425,37.786609999999996 -122.40427,37.78645 -122.40373000000001,37.78628 -122.40235,37.78651 -122.40231999999999,37.78634 -122.40356000000001,37.78504 -122.4054,37.783390000000004 -122.40442,37.781209999999994 -122.4056,37.77856 -122.40817,37.77642 -122.41098000000001,37.77324 -122.40996000000001,37.77251 -122.40711,37.770109999999995 -122.40775,37.768229999999996 -122.40701000000001,37.7606 -122.40663,37.75653 -122.40791999999999,37.75609 -122.41186,37.75251 -122.41173,37.75195 -122.41175,37.75196 -122.41181999999999,37.75196 -122.40818999999999,37.74841 -122.40241,37.74947 -122.39662,37.749790000000004 -122.39531000000001,37.75032 -122.39533,37.751090000000005 -122.39511,37.75136 -122.39516,37.75155 -122.39523,37.75148 -122.39471,37.7513 -122.39464,37.75128 -122.39438999999999,37.7513 -122.39506000000002,37.75134 -122.39503,37.75164 -122.39502,37.75162 -122.39505,37.75163 -122.39506000000002,37.75164 -122.39506000000002,37.75164 -122.39506000000002,37.75162 -122.39506000000002,37.75163 -122.39506000000002,37.75162 -122.39506999999999,37.75164 -122.39505,37.75165 -122.39503,37.75164 -122.39505,37.7516 -122.39506000000002,37.75165 -122.39502,37.75169 -122.39504,37.75163 -122.39506999999999,37.75161 -122.39504,37.75166 -122.39505,37.75162 -122.39504,37.75163 -122.39506000000002,37.75163 -122.39504,37.75163 -122.39504,37.75162 -122.39509,37.75161 -122.39505,37.75157 -122.39506000000002,37.7516 -122.39506000000002,37.75161 -122.39503,37.75159 -122.39506000000002,37.75162 -122.39505,37.75163 -122.39504,37.75162 -122.39504,37.75162 -122.39506000000002,37.75161 -122.39503,37.75162 -122.39504,37.75164 -122.39503,37.75162 -122.39508000000001,37.75162 -122.39502,37.75161 -122.39498999999999,37.75162 -122.39502,37.75163 -122.39496000000001,37.75162 -122.39504,37.75163 -122.39502,37.75164 -122.39496000000001,37.75159 -122.39502,37.75162 -122.39498999999999,37.75163 -122.39498999999999,37.75164 -122.39502,37.75164 -122.39498999999999,37.75168 -122.39502,37.75165 -122.39498999999999,37.75169 -122.39498999999999,37.7516 -122.39501000000001,37.75168 -122.39501000000001,37.75165 -122.39503,37.75165 -122.39516,37.75136 -122.39531000000001,37.75132 -122.39525,37.75142 -122.39518000000001,37.751740000000005 -122.39518999999999,37.75169 -122.39523,37.75165 -122.39523999999999,37.75155 -122.39341999999999,37.75023 -122.39818999999999,37.74961 -122.40226000000001,37.7494 -122.40638999999999,37.74862 -122.40643,37.74862 -122.41113999999999,37.748259999999995 -122.41526,37.74819 -122.41677,37.74913 -122.42176,37.74882 -122.42493999999999,37.749309999999994 -122.42567,37.75103 -122.4253,37.7536 -122.42586000000001,37.75833 -122.42615,37.761559999999996 -122.42643000000001,37.764790000000005 -122.42688999999999,37.76907 -122.42466,37.770920000000004 -122.42322,37.772090000000006 -122.42265,37.77523 -122.41816999999999,37.77754 -122.41318999999999,37.77511 -122.40851,37.77923 -122.40065,37.78733 -122.40108000000001,37.787459999999996 -122.40311000000001,37.78974 -122.40337,37.79282 -122.40055,37.79511 -122.40098,37.79632 -122.40284,37.79497 -122.39903000000001,37.792790000000004 -122.3985,37.789320000000004 -122.40177,37.78646 -122.4045,37.78443 -122.40661999999999,37.78261 -122.40971,37.78027 -122.41203999999999,37.77845 -122.40916999999999,37.78069 -122.41268000000001,37.7837 -122.41343,37.787729999999996 -122.41408999999999,37.7913 -122.41033999999999,37.79193 -122.40486999999999,37.79275 -122.40494,37.79248 -122.40821000000001,37.7921 -122.4137,37.7914 -122.42079,37.79092 -122.42161000000002,37.794909999999994 -122.42185,37.79615 -122.42218000000001,37.79793 -122.42551999999999,37.79787 -122.42562,37.798320000000004 -122.42596999999999,37.79827 -122.42882,37.797909999999995 -122.43113000000001,37.7999 -122.43096000000001,37.79999 -122.43088,37.8 -122.43093999999999,37.8 -122.43087,37.8 -122.43081000000001,37.799279999999996 -122.4264,37.80014 -122.42459,37.80062 -122.42468000000001,37.80155 -122.42483999999999,37.80238 -122.42523,37.80435 -122.42353,37.80536 -122.42116999999999,37.80563 -122.41821000000002,37.80585 -122.41273999999999,37.80222 -122.4085,37.7991 -122.4059,37.79801 -122.40584,37.79728 -122.40586,37.79728 -122.40818,37.7988 -122.40938999999999,37.799640000000004 -122.41171999999999,37.8013 -122.41743000000001,37.80527 -122.41745,37.80713 -122.41723999999999,37.80692 -122.41801000000001,37.805040000000005 -122.42305,37.80441 -122.42942,37.80356 -122.43288999999999,37.80492 -122.43307,37.804790000000004 -122.43306000000001,37.804790000000004 -122.43166000000001,37.80311 -122.43121000000001,37.801520000000004 -122.42962,37.80171 -122.42517,37.8023 -122.42197,37.80554 -122.42028,37.80587 -122.4137,37.80662 -122.40811000000001,37.80731 -122.40641000000001,37.80703 -122.40283000000001,37.802690000000005 -122.40225,37.79827 -122.40146999999999,37.79475 -122.39979,37.793459999999996 -122.39876000000001,37.79329 -122.39732,37.79235 -122.39698,37.79092 -122.39751000000001,37.79245 -122.39768000000001,37.79392 -122.39723000000001,37.79632 -122.3978,37.79533 -122.40222,37.794779999999996 -122.40482,37.792190000000005 -122.40331,37.78976 -122.40545,37.78872 -122.40699,37.7891 -122.4067,37.789120000000004 -122.40378,37.78732 -122.40281999999999,37.78674 -122.40023000000001,37.784729999999996 -122.39571000000001,37.78112 -122.39558999999998,37.77933 -122.39549,37.77919 -122.39863999999999,37.78021 -122.40281999999999,37.78351 -122.40471000000001,37.78481 -122.40812,37.78577 -122.40872,37.784690000000005 -122.40855,37.78474 -122.4069,37.783120000000004 -122.40308999999999,37.78298 -122.39726,37.78233 -122.39267,37.77897 -122.39246999999999,37.779090000000004 -122.39213000000001,37.78179 -122.39211999999999,37.7818 -122.39388000000001,37.78324 -122.39748,37.78474 -122.40135,37.78185 -122.40766,37.77686 -122.41145,37.77635 -122.40919,37.77688 -122.40895,37.77673 -122.41161000000001,37.77623 -122.41486,37.77854 -122.41938999999999,37.77499 -122.42133000000001,37.77344 -122.42284,37.77218 -122.4265,37.76934 -122.42945,37.767070000000004 -122.43046000000001,37.76628 -122.43388999999999,37.763459999999995 -122.43512,37.76234 -122.43383999999999,37.76097 -122.42943999999999,37.76126 -122.4255,37.76147 -122.42165,37.7618 -122.42166,37.76317 -122.42193999999999,37.76497 -122.42241000000001,37.76984 -122.42225,37.77319 -122.42258999999999,37.7748 -122.42353999999999,37.779759999999996 -122.42426999999999,37.78331 -122.42209,37.7837 -122.41892,37.78415 -122.41566999999999,37.78451 -122.41292,37.7849 -122.4116,37.78502 -122.40785,37.78557 -122.4063,37.786570000000005 -122.40715,37.78653 -122.40935,37.787240000000004 -122.40891,37.78819 -122.41391999999999,37.78758 -122.41748999999999,37.78713 -122.41795,37.78501 -122.41304,37.78481 -122.41207,37.78496 -122.41086000000001,37.78395 -122.40907,37.78335 -122.40903999999999,37.78334 -122.40938999999999,37.78389 -122.40992,37.787279999999996 -122.40953,37.78937 -122.40778999999999,37.792770000000004 -122.40805,37.79418 -122.40812,37.7951 -122.40851,37.79677 -122.40656000000001,37.797979999999995 -122.40468,37.79817 -122.40455,37.798190000000005 -122.40637,37.79768 -122.40538000000001,37.7973 -122.40545,37.79757 -122.40547,37.79756 -122.41803,37.7963 -122.42025,37.796079999999996 -122.42183999999999,37.796079999999996 -122.42311000000001,37.79869 -122.42501999999999,37.79842 -122.42905,37.79792 -122.43354,37.797290000000004 -122.43563,37.7976 -122.43616000000002,37.80011 -122.43813999999999,37.80057 -122.4411,37.7998 -122.43686000000001,37.7998 -122.43358,37.80023 -122.42616000000001,37.80087 -122.42562,37.798190000000005 -122.42456999999999,37.79287 -122.42381,37.791109999999996 -122.42112,37.792320000000004 -122.42108999999999,37.79228 -122.42192,37.79586 -122.4243,37.79849 -122.42596,37.79831 -122.42896,37.797940000000004 -122.4332,37.79742 -122.43701999999999,37.796859999999995 -122.43897,37.7975 -122.44106000000001,37.79947 -122.43938999999999,37.80045 -122.43681000000001,37.80077 -122.43333999999999,37.80123 -122.42698,37.802009999999996 -122.42548000000001,37.798390000000005 -122.42376000000002,37.798590000000004 -122.41918999999999,37.79918 -122.41891000000001,37.79844 -122.41815,37.7955 -122.4141,37.79606 -122.4134,37.79616 -122.41417,37.79992 -122.41483999999998,37.80337 -122.41888,37.80635 -122.41663,37.808170000000004 -122.41253999999999,37.8084 -122.41213,37.80663 -122.41174,37.80471 -122.41108,37.80115 -122.40831000000001,37.798970000000004 -122.40655,37.79776 -122.40625,37.797509999999996 -122.4052,37.79634 -122.40358,37.79353 -122.40196,37.793 -122.39865,37.79311 -122.39586000000001,37.79272 -122.39368999999999,37.793 -122.39326000000001,37.79457 -122.39645,37.79079 -122.39923999999999,37.78865 -122.40035,37.78794 -122.40012,37.78485 -122.39853000000001,37.783559999999994 -122.39438999999999,37.78002 -122.39558999999998,37.779140000000005 -122.39071000000001,37.780570000000004 -122.39177,37.78167 -122.39652,37.77831 -122.40014,37.77552 -122.40268,37.77345 -122.40558,37.771390000000004 -122.40903999999999,37.77414 -122.41281000000001,37.77283 -122.41498,37.77074 -122.41611,37.7685 -122.42048,37.768240000000006 -122.42686,37.76793 -122.42947,37.76766 -122.43033999999999,37.76766 -122.4322,37.76676 -122.43111999999999,37.76667 -122.43103,37.76558 -122.42896,37.76617 -122.42947,37.76706 -122.43151999999999,37.765409999999996 -122.43512,37.76211 -122.43494,37.76077 -122.43511000000001,37.761520000000004 -122.43545,37.76417 -122.4365,37.76404 -122.43543000000001,37.7643 -122.43605,37.76937 -122.43739,37.772859999999994 -122.43758999999999,37.77382 -122.43791999999999,37.77551 -122.43898999999999,37.78071 -122.43947,37.78337 -122.43976,37.78533 -122.4382,37.785509999999995 -122.43457,37.786 -122.431,37.78637 -122.43013,37.7874 -122.43016000000001,37.787490000000005 -122.43355,37.788959999999996 -122.43358,37.78883 -122.43361000000002,37.7889 -122.43637,37.788540000000005 -122.44225,37.7878 -122.44668999999999,37.78694 -122.44653000000001,37.78617 -122.44746,37.782070000000004 -122.44723,37.77962 -122.44653000000001,37.77626 -122.44585,37.77212 -122.45048,37.77146 -122.45083000000001,37.769490000000005 -122.45267,37.76927 -122.45326000000001,37.76811 -122.4532,37.76761 -122.45263999999999,37.76481 -122.45275,37.76448 -122.45808000000001,37.76358 -122.45851,37.76325 -122.45843,37.7634 -122.45504,37.7642 -122.45796999999999,37.76378 -122.45806999999999,37.76331 -122.45933000000001,37.7631 -122.46314,37.76229 -122.46541,37.764070000000004 -122.46675,37.76402 -122.46878000000001,37.763940000000005 -122.47018999999999,37.763870000000004 -122.47182,37.76522 -122.47176,37.76522 -122.46798000000001,37.765879999999996 -122.46507,37.766020000000005 -122.45695,37.76773 -122.45231000000001,37.7722 -122.44198999999999,37.77349 -122.43591,37.77427 -122.42765,37.7753 -122.42288,37.77615 -122.41917,37.7774 -122.41893999999999,37.77748 -122.4169,37.77768 -122.41451,37.77602 -122.41065,37.77705 -122.40567,37.77498 -122.40135,37.77458 -122.39845,37.77693 -122.39407,37.78033 -122.39159,37.78147 -122.39097,37.78029 -122.3916,37.77982 -122.39381000000002,37.77809 -122.39491000000001,37.77695 -122.39498,37.77688 -122.39421000000002,37.7757 -122.39381000000002,37.77646 -122.39378,37.77603 -122.39562,37.77402 -122.39873999999999,37.77156 -122.39831000000001,37.7719 -122.39356000000001,37.77576 -122.39475,37.77677 -122.39532,37.77677 -122.39541000000001,37.77662 -122.39538999999999,37.77662 -122.39535,37.77681 -122.39541000000001,37.77677 -122.39556999999999,37.776540000000004 -122.39743999999999,37.77543 -122.39912,37.77626 -122.39895,37.77303 -122.39315,37.765159999999995 -122.39103,37.75335 -122.39253000000001,37.749970000000005 -122.39523,37.749829999999996 -122.39527,37.751259999999995 -122.39513000000001,37.75137 -122.39478000000001,37.751329999999996 -122.39441000000001,37.7513 -122.39457,37.75196 -122.39431,37.751509999999996 -122.39535,37.751329999999996 -122.39533,37.75143 -122.39531000000001,37.75156 -122.39343000000001,37.75079 -122.39271000000001,37.75268 -122.39263000000001,37.76045 -122.39816,37.77163 -122.39927,37.77695 -122.40158000000001,37.77896 -122.40083999999999,37.77906 -122.40071999999999,37.77898 -122.39998999999999,37.77933 -122.39939,37.77982 -122.39878,37.78032 -122.39707,37.78177 -122.39278,37.78496 -122.38808,37.78856 -122.38283,37.793459999999996 -122.37863999999999,37.79738 -122.37358,37.80207 -122.37118000000001,37.80431 -122.36498999999999,37.81007 -122.36218000000001,37.81272 -122.35703999999998,37.814659999999996 -122.34558999999999,37.81844 -122.33718999999999,37.820159999999994 -122.32888,37.821459999999995 -122.32143,37.82281 -122.3137,37.82498 -122.29871000000001,37.82201 -122.30455,37.809509999999996 -122.29083999999999,37.80288 -122.2754,37.79874 -122.26125,37.791340000000005 -122.24588,37.786559999999994 -122.23535,37.776109999999996 -122.2209,37.76944 -122.21408000000001,37.76084 -122.21135,37.75778 -122.2045,37.749970000000005 -122.19903000000001,37.74377 -122.1892,37.732820000000004 -122.18721000000001,37.731609999999996 -122.19153999999999,37.73032 -122.19505,37.72905 -122.19888,37.727470000000004 -122.20068,37.72388 -122.20786000000001,37.7147 -122.21173,37.71202 -122.21202,37.71179 -122.21321999999999,37.71263 -122.21193999999998,37.716159999999995 -122.20131,37.72092 -122.20008,37.73002 -122.19691999999999,37.73709 -122.19686999999999,37.739309999999996 -122.20217,37.746959999999994 -122.21049,37.756409999999995 -122.21959,37.767140000000005 -122.22922,37.773509999999995 -122.23803000000001,37.77905 -122.24721000000001,37.78702 -122.25733000000001,37.78976 -122.26156,37.791470000000004 -122.26338999999999,37.793 -122.26825,37.7958 -122.27096,37.79685 -122.27323999999999,37.79775 -122.27736000000002,37.79937 -122.2796,37.80023 -122.28336000000002,37.80168 -122.29012,37.80271 -122.2955,37.80189 -122.29915,37.80225 -122.29968000000001,37.81579 -122.30696,37.82455 -122.32328000000001,37.82213 -122.3384,37.8199 -122.35335,37.81613 -122.36721000000001,37.80814 -122.37535,37.80072 -122.38615,37.79053 -122.3929,37.78524 -122.39424,37.7854 -122.39452,37.78552 -122.39478999999999,37.78573 -122.39503,37.78602 -122.39681000000002,37.78546 -122.39936999999999,37.78347 -122.40404,37.7844 -122.40631,37.785779999999995 -122.4065,37.787290000000006 -122.40698,37.78925 -122.40701000000001,37.78917 -122.40663,37.7894 -122.40336,37.78988 -122.40251,37.791090000000004 -122.40208999999999,37.79169 -122.40008999999999,37.79363 -122.39646,37.79433 -122.39708999999999,37.79163 -122.39676000000001,37.7907 -122.39506000000002,37.78925 -122.39475,37.78745 -122.39636999999999,37.78533 -122.39328,37.78288 -122.39187,37.78174 -122.39068999999999,37.7806 -122.39305,37.778620000000004 -122.39481,37.77717 -122.39471,37.7768 -122.39465,37.77682 -122.39542,37.7774 -122.39841000000001,37.77978 -122.40163999999999,37.78248 -122.40438,37.7847 -122.40645,37.78622 -122.40656000000001,37.78736 -122.40683,37.78947 -122.40626,37.78849 -122.40706000000002,37.78844 -122.40811000000001,37.7868 -122.40935,37.786159999999995 -122.41089,37.78501 -122.40924,37.78502 -122.4091,37.78479 -122.40903,37.78479 -122.40876000000002,37.78481 -122.40794,37.78405 -122.40645,37.7828 -122.40378999999999,37.78004 -122.40508,37.77814 -122.40328000000001,37.775490000000005 -122.40458000000001,37.77422 -122.40201,37.77393 -122.40183,37.7739 -122.40155,37.77349 -122.40126000000001,37.77466 -122.39737,37.77057 -122.39225,37.76019 -122.39341,37.74693 -122.4039,37.7364 -122.4028,37.7287 -122.39875,37.71662 -122.39378,37.70368 -122.39142,37.69303 -122.3884,37.67937 -122.39532,37.66701 -122.40624,37.65672 -122.40661999999999,37.64954 -122.40343,37.6363 -122.40037,37.62364 -122.39268999999999,37.61538 -122.39011,37.61502 -122.39008000000001,37.61473 -122.3902,37.6147 -122.39265,37.61507 -122.38569,37.61769 -122.38596000000001,37.6163 -122.38602,37.616279999999996 -122.38795,37.61573 -122.39455,37.61401 -122.39021000000001,37.6163 -122.38956,37.61562 -122.3899,37.61551 -122.39198999999999,37.61427 -122.40065,37.62171 -122.40388999999999,37.63497 -122.40675,37.648109999999996 -122.40484,37.65974 -122.39323999999999,37.66946 -122.3893,37.68266 -122.39226000000001,37.69575 -122.3952,37.70892 -122.40048,37.72166 -122.40491999999999,37.73482 -122.39458,37.74561 -122.39243,37.75898 -122.39815,37.77162 -122.4008,37.77496 -122.40202,37.77913 -122.40383,37.78049 -122.40444,37.7821 -122.40437,37.78204 -122.40316000000001,37.783409999999996 -122.4056,37.78329 -122.40503000000001,37.78414 -122.40876000000002,37.780879999999996 -122.41206000000001,37.7783 -122.41487,37.77609 -122.41601000000001,37.77539 -122.41978,37.77644 -122.42286000000001,37.77517 -122.42643999999999,37.77448 -122.43283000000001,37.773709999999994 -122.43946000000001,37.77288 -122.44468,37.77228 -122.44598,37.77332 -122.44885,37.77454 -122.4531,37.77442 -122.45386,37.77445 -122.45442,37.7743 -122.45419,37.77278 -122.45382,37.77093 -122.4533,37.7688 -122.45293999999998,37.76878 -122.4529,37.76883 -122.45298999999999,37.76842 -122.4541,37.76624 -122.45836000000001,37.76616 -122.46101000000002,37.76529 -122.46149,37.76423 -122.4617,37.76423 -122.46512,37.764070000000004 -122.46551000000001,37.76403 -122.46538000000001,37.76412 -122.46426000000001,37.76497 -122.46229,37.76613 -122.45621000000001,37.767990000000005 -122.45546999999999,37.77066 -122.44993999999998,37.772459999999995 -122.44317,37.773340000000005 -122.43926,37.7738 -122.43898,37.7728 -122.43676,37.771370000000005 -122.43382,37.77173 -122.43399,37.77329 -122.43392,37.771640000000005 -122.43462,37.771570000000004 -122.43467,37.77162 -122.43035,37.77214 -122.42591999999999,37.7727 -122.42178,37.77326 -122.42088999999999,37.774029999999996 -122.42253999999998,37.77159 -122.42222,37.76895 -122.42206000000002,37.76681 -122.42075,37.76664 -122.42012,37.769090000000006 -122.42021000000001,37.769259999999996 -122.41976000000001,37.77225 -122.4179,37.77362 -122.4151,37.775890000000004 -122.4133,37.77768 -122.41524,37.77993 -122.41583999999999,37.78348 -122.41525,37.78448 -122.41378,37.78564 -122.41855,37.785109999999996 -122.42081,37.78355 -122.42046,37.78202 -122.41928,37.78161 -122.41883999999999,37.78168 -122.41922,37.782990000000005 -122.41963,37.78503 -122.42001,37.7872 -122.41688,37.788129999999995 -122.41422,37.78828 -122.4083,37.78925 -122.4058,37.78996 -122.40573,37.789970000000004 -122.40643999999999,37.78848 -122.40862,37.78798 -122.41028999999999,37.78799 -122.41401,37.787490000000005 -122.41695,37.787079999999996 -122.42068,37.78675 -122.42517,37.78622 -122.42841999999999,37.78573 -122.43088999999999,37.78539 -122.43486999999999,37.784909999999996 -122.43863999999999,37.78438 -122.43843999999999,37.78366 -122.43833000000001,37.7837 -122.43831000000002,37.78374 -122.43757,37.78391 -122.43481000000001,37.78496 -122.43505,37.786359999999995 -122.43542,37.788090000000004 -122.43579,37.78993 -122.43361999999999,37.79076 -122.43258,37.79096 -122.43257,37.79094 -122.43252,37.79084 -122.43258999999999,37.79108 -122.43288999999999,37.79267 -122.43346000000001,37.79534 -122.42858000000001,37.79606 -122.42775,37.79616 -122.43002,37.795809999999996 -122.43505,37.79518 -122.43551000000001,37.79721 -122.43574,37.79821 -122.43816000000001,37.7995 -122.44107,37.79959 -122.43975,37.80038 -122.4366,37.800779999999996 -122.43453000000001,37.80059 -122.43449,37.80052 -122.43451,37.80037 -122.43401999999999,37.79804 -122.43106,37.79766 -122.42713,37.798190000000005 -122.42357,37.798590000000004 -122.41883999999999,37.799209999999995 -122.41403999999999,37.79984 -122.40997,37.79939 -122.40993999999999,37.80007 -122.41165,37.80127 -122.41296000000001,37.80283 -122.41188999999999,37.80506 -122.41237,37.80772 -122.41195,37.80846 -122.4099,37.80834 -122.40988,37.80834 -122.41067,37.80693 -122.41202,37.80656 -122.41176999999999,37.80494 -122.41481,37.803340000000006 -122.41447,37.80149 -122.41396999999999,37.797959999999996 -122.41304,37.79444 -122.4125,37.79208 -122.41245,37.78672 -122.41248,37.78582 -122.41313000000001,37.78667 -122.41318000000001,37.786809999999996 -122.41337,37.78751 -122.4177,37.78709 -122.42027,37.788540000000005 -122.42083000000001,37.78979 -122.42093999999999,37.79051 -122.42267,37.790279999999996 -122.42423000000001,37.79012 -122.42703999999999,37.7897 -122.43366,37.788940000000004 -122.43383,37.789120000000004 -122.43411,37.79007 -122.43591,37.79059 -122.43491000000002,37.79152 -122.43432,37.79164 -122.43398,37.78958 -122.43368000000001,37.78832 -122.43353,37.788000000000004 -122.42643999999999,37.78884 -122.41933999999999,37.789770000000004 -122.41595,37.790209999999995 -122.41048,37.79079 -122.40829,37.79116 -122.40413999999998,37.7915 -122.40413000000001,37.78888 -122.40578000000001,37.788540000000005 -122.40793000000001,37.7883 -122.41118,37.78788 -122.41487,37.787440000000004 -122.41708999999999,37.788109999999996 -122.41716000000001,37.79104 -122.41515,37.7915 -122.41017,37.79208 -122.4074,37.79163 -122.40308,37.79231 -122.40366999999999,37.79242 -122.40348,37.79203 -122.40432,37.79207 -122.40433999999999,37.79155 -122.40263999999999,37.79007 -122.40306000000001,37.78733 -122.40163999999999,37.78602 -122.39988999999998,37.78468 -122.39568999999999,37.781279999999995 -122.39315,37.77917 -122.38985,37.77518 -122.38962,37.773340000000005 -122.38901000000001,37.76705 -122.3904,37.767340000000004 -122.39062,37.76727 -122.39071000000001,37.76728 -122.39536000000001,37.76651 -122.39576000000001,37.7665 -122.40018,37.766220000000004 -122.40413000000001,37.76598 -122.41061,37.765609999999995 -122.41316,37.76572 -122.41346999999999,37.7689 -122.41648,37.7695 -122.42028,37.77156 -122.42293000000001,37.77628 -122.42317,37.77762 -122.42436000000001,37.783770000000004 -122.42578,37.79067 -122.42681999999999,37.79546 -122.42719,37.79761 -122.42736000000001,37.79848 -122.42942,37.80068 -122.43078,37.80045 -122.43145,37.80148 -122.4319,37.80138 -122.43218,37.80137 -122.43218,37.801429999999996 -122.43185,37.80141 -122.42934,37.8008 -122.42608999999999,37.80049 -122.42504,37.79528 -122.42396000000001,37.79005 -122.42336,37.78752 -122.4224,37.787690000000005 -122.42081,37.78768 -122.41496000000001,37.78862 -122.41063999999999,37.78901 -122.40648999999999,37.78937 -122.40700000000001,37.790009999999995 -122.40682,37.78965 -122.40666,37.789429999999996 -122.40486000000001,37.78838 -122.40711999999999,37.78839 -122.4084,37.7893 -122.40673999999999,37.78937 -122.40369,37.7897 -122.4018,37.7913 -122.4011,37.79303 -122.40161,37.79476 -122.40158999999998,37.79459 -122.40175,37.79486 -122.40361999999999,37.79578 -122.40576000000001,37.79725 -122.40826000000001,37.79892 -122.40942,37.79996 -122.41106,37.80089 -122.41261000000002,37.80192 -122.41278,37.80199 -122.41702,37.804840000000006 -122.41909,37.80485 -122.41978,37.80283 -122.41948000000001,37.80148 -122.41932,37.8009 -122.41864,37.79931 -122.41413,37.79987 -122.41013000000001,37.80035 -122.40718000000001,37.79821 -122.40505,37.79677 -122.40467,37.79445 -122.40366000000002,37.79075 -122.40333000000001,37.78948 -122.40496999999999,37.788759999999996 -122.40793000000001,37.78966 -122.40786000000001,37.789609999999996 -122.40782,37.789629999999995 -122.40693,37.78945 -122.40691000000001,37.78931 -122.40691000000001,37.789359999999995 -122.40693,37.789190000000005 -122.40697,37.78917 -122.40698,37.78991 -122.40688,37.789609999999996 -122.40686000000001,37.78957 -122.40692,37.78909 -122.40677,37.78948 -122.40471000000001,37.78978 -122.402,37.790409999999994 -122.40021999999999,37.7901 -122.40243999999998,37.791140000000006 -122.4039,37.79076 -122.40916000000001,37.79013 -122.41566,37.78933 -122.41726000000001,37.78955 -122.41752,37.790929999999996 -122.42261,37.7904 -122.42342,37.79016 -122.42446000000001,37.790079999999996 -122.42523999999999,37.79002 -122.42543,37.79006 -122.42398999999999,37.789970000000004 -122.42199,37.78947 -122.42211999999999,37.79031 -122.4222,37.7902 -122.4213,37.78948 -122.42087,37.789590000000004 -122.41743000000001,37.79005 -122.41226,37.79034 -122.41174,37.78888 -122.41067,37.78895 -122.41036000000001,37.78917 -122.41203999999999,37.78944 -122.41386999999999,37.79017 -122.41256000000001,37.79164 -122.41308000000001,37.79448 -122.4118,37.79655 -122.41255,37.80016 -122.41358000000001,37.80257 -122.41457,37.8036 -122.41367,37.803709999999995 -122.4132,37.8037 -122.41281000000001,37.80169 -122.41264,37.80083 -122.41063999999999,37.7992 -122.41026000000001,37.79725 -122.40985,37.794290000000004 -122.40941000000001,37.79275 -122.4089,37.79087 -122.41411000000001,37.78948 -122.41866999999999,37.78838 -122.4174,37.78618 -122.41677,37.78629 -122.41389,37.786609999999996 -122.40938999999999,37.787279999999996 -122.41391000000002,37.78754 -122.41673999999999,37.78739 -122.41734,37.78904 -122.41901999999999,37.7888 -122.42012,37.787859999999995 -122.41819,37.78609 -122.41303,37.78679 -122.41118999999999,37.7857 -122.40937,37.78533 -122.40801,37.783879999999996 -122.40548999999999,37.78348 -122.40133,37.78666 -122.39936999999999,37.788059999999994 -122.39899,37.7887 -122.39641999999999,37.79098 -122.39703999999999,37.79331 -122.39761000000001,37.792590000000004 -122.39778999999999,37.79254 -122.3995,37.79101 -122.40048,37.78985 -122.40361999999999,37.787409999999994 -122.40626999999999,37.78601 -122.40687,37.78798 -122.40713000000001,37.78971 -122.40718000000001,37.78975 -122.4071,37.78976 -122.40709,37.78979 -122.40717,37.78989 -122.40706999999999,37.78971 -122.40749,37.79037 -122.40687,37.789559999999994 -122.40693,37.789640000000006 -122.40673000000001,37.78931 -122.40661999999999,37.78938 -122.40659,37.7894 -122.40657,37.78951 -122.40658,37.78947 -122.4066,37.78951 -122.4066,37.78944 -122.4066,37.789359999999995 -122.40534,37.78921 -122.40446000000001,37.78764 -122.40181000000001,37.78605 -122.39724,37.78241 -122.39667,37.78198 -122.39732,37.78022 -122.39952,37.77913 -122.40573,37.770990000000005 -122.40603,37.7614 -122.4029,37.75459 -122.40276999999999,37.751709999999996 -122.40203000000001,37.74948 -122.39933,37.74962 -122.39538999999999,37.74988 -122.39526000000001,37.75128 -122.39527,37.75136 -122.39523,37.751290000000004 -122.39527,37.75139 -122.39527,37.75138 -122.39523,37.751290000000004 -122.39523,37.75118 -122.39525,37.75125 -122.39525,37.751329999999996 -122.39526000000001,37.75148 -122.39398999999999,37.751540000000006 -122.39466999999999,37.75123 -122.39452,37.75137 -122.39452,37.75124 -122.39455,37.75123 -122.3945,37.7512 -122.39451000000001,37.75127 -122.39453,37.751290000000004 -122.39448,37.75124 -122.39447,37.7512 -122.39442,37.75128 -122.39448999999999,37.75123 -122.39452,37.75123 -122.39523999999999,37.75127 -122.39535,37.75135 -122.39527,37.75142 -122.39527,37.751509999999996 -122.39338000000001,37.75011 -122.39815,37.74962 -122.40316999999999,37.75443 -122.4055,37.76739 -122.41841000000001,37.76907 -122.41821000000002,37.77138 -122.41904,37.77421 -122.42003000000001,37.77867 -122.42123000000001,37.78472 -122.42277,37.7922 -122.42363999999999,37.79667 -122.42458,37.80102 -122.42487,37.80232 -122.4254,37.80222 -122.42724,37.802 -122.42903999999999,37.80172 -122.43122,37.80121 -122.43118,37.80101 -122.42613,37.801 -122.42553999999998,37.79803 -122.42482,37.794540000000005 -122.42275,37.790409999999994 -122.41983,37.79068 -122.41361,37.79153 -122.4104,37.7916 -122.40409,37.79227 -122.40401999999999,37.7922 -122.40377,37.79193 -122.40398,37.79198 -122.40405,37.79172 -122.40356000000001,37.79185 -122.40348999999999,37.79173 -122.40316999999999,37.79227 -122.40358,37.79163 -122.40359,37.791340000000005 -122.40375,37.792429999999996 -122.40401999999999,37.7916 -122.40393,37.79209 -122.404,37.79242 -122.404,37.79208 -122.40403,37.79214 -122.40392,37.79201 -122.40318,37.79234 -122.40365,37.79208 -122.404,37.79238 -122.40353,37.787929999999996 -122.39903000000001,37.78642 -122.3972,37.78601 -122.39804,37.7866 -122.39451000000001,37.79067 -122.39728999999998,37.79379 -122.39706000000001,37.79424 -122.39696,37.79421 -122.39703,37.79424 -122.39711000000001,37.79424 -122.39701000000001,37.79422 -122.39716000000001,37.79417 -122.39686,37.794140000000006 -122.39715,37.794140000000006 -122.39684,37.794109999999996 -122.397,37.79418 -122.39726,37.794059999999995 -122.39705,37.79424 -122.39695,37.79428 -122.39703999999999,37.79424 -122.39681000000002,37.79416 -122.39648000000001,37.793929999999996 -122.39703,37.79422 -122.39708,37.79396 -122.39674,37.79428 -122.39698,37.79403 -122.39707,37.79412 -122.39683000000001,37.79403 -122.39643000000001,37.793859999999995 -122.39935,37.793459999999996 -122.40211000000001,37.79286 -122.40401000000001,37.79104 -122.40222,37.78598 -122.40303,37.78499 -122.40483,37.78389 -122.40738999999999,37.78004 -122.4066,37.777809999999995 -122.41148000000001,37.77633 -122.41163,37.777770000000004 -122.41178000000001,37.77772 -122.4131,37.777440000000006 -122.40786999999999,37.781690000000005 -122.40178999999999,37.78753 -122.39821,37.79164 -122.39998,37.79331 -122.40401000000001,37.7928 -122.40423999999999,37.79188 -122.41086999999999,37.78986 -122.41398999999998,37.78988 -122.41115,37.79075 -122.40539,37.79152 -122.40268,37.79125 -122.40418000000001,37.79084 -122.40246,37.78693 -122.40343999999999,37.78503 -122.40438,37.7857 -122.40423,37.785790000000006 -122.4041,37.78586 -122.40416,37.78582 -122.40513,37.785509999999995 -122.40791999999999,37.78417 -122.41253999999999,37.780609999999996 -122.4179,37.77628 -122.41968,37.77489 -122.42347,37.7718 -122.42442,37.77095 -122.42483999999999,37.77071 -122.42588,37.77453 -122.43327,37.77367 -122.44098999999999,37.77271 -122.44896000000001,37.77167 -122.45293999999998,37.771370000000005 -122.45923,37.766870000000004 -122.46448000000001,37.76597 -122.47386000000002,37.7656 -122.47758,37.765409999999996 -122.48331,37.75939 -122.48303999999999,37.75959 -122.47978,37.75587 -122.47856999999999,37.75353 -122.4786,37.75353 -122.47865,37.75483 -122.47901,37.75985 -122.47941000000002,37.76511 -122.46813999999999,37.76587 -122.462,37.76619 -122.45537,37.77085 -122.44731000000002,37.77298 -122.44632,37.775009999999995 -122.44755,37.781009999999995 -122.44578999999999,37.786359999999995 -122.43633999999999,37.78759 -122.42645,37.78897 -122.42016000000001,37.78966 -122.41327,37.790620000000004 -122.41073999999999,37.79149 -122.40593,37.79237 -122.40587,37.79238 -122.4034,37.792790000000004 -122.40361000000001,37.79231 -122.40376,37.79227 -122.40373999999998,37.79278 -122.40373999999998,37.79295 -122.40366000000002,37.79234 -122.40408000000001,37.78951 -122.40222,37.78725 -122.40241999999999,37.78727 -122.40236000000002,37.78719 -122.40253999999999,37.78927 -122.40279,37.791129999999995 -122.40378999999999,37.79257 -122.4039,37.792640000000006 -122.4041,37.79124 -122.40333999999999,37.7875 -122.40321999999999,37.78567 -122.40656000000001,37.782579999999996 -122.40992,37.77993 -122.40993,37.779920000000004 -122.40755,37.781909999999996 -122.40398,37.784690000000005 -122.39943000000001,37.78915 -122.39868,37.79138 -122.40069,37.787440000000004 -122.40227,37.791270000000004 -122.40368000000001,37.79118 -122.40364,37.79148 -122.40406000000002,37.79035 -122.40401000000001,37.790409999999994 -122.40302,37.79275 -122.40338999999999,37.79133 -122.40348,37.79138 -122.40343,37.79124 -122.40336,37.79213 -122.40377,37.792120000000004 -122.4034,37.78983 -122.4032,37.7872 -122.40183999999999,37.78691 -122.40193000000001,37.78667 -122.40198000000001,37.78662 -122.40245,37.788709999999995 -122.40163999999999,37.79392 -122.40223999999999,37.794270000000004 -122.40216000000001,37.79388 -122.4019,37.79201 -122.40333000000001,37.792 -122.4033,37.79188 -122.40331,37.79173 -122.4034,37.792320000000004 -122.40333000000001,37.79182 -122.40348,37.7921 -122.40366000000002,37.792359999999995 -122.4085,37.791959999999996 -122.41091000000002,37.79221 -122.4109,37.79213 -122.41091999999999,37.79207 -122.41088,37.7921 -122.41241000000001,37.79159 -122.41656,37.791 -122.42193999999999,37.7904 -122.42759,37.78966 -122.42983000000001,37.787459999999996 -122.43311000000001,37.7857 -122.43293999999999,37.78349 -122.43246,37.78182 -122.43243999999999,37.779509999999995 -122.44018,37.77845 -122.44306999999999,37.77725 -122.44283999999999,37.77722 -122.43866000000001,37.77875 -122.43947,37.7833 -122.44031000000001,37.78693 -122.43553999999999,37.787659999999995 -122.43598999999999,37.79099 -122.43693999999999,37.7969 -122.43619,37.79704 -122.43553999999999,37.79728 -122.43573,37.79806 -122.4381,37.7995 -122.44113999999999,37.79971 -122.43892,37.80052 -122.43616000000002,37.8007 -122.43596000000001,37.79931 -122.43551000000001,37.797059999999995 -122.43581999999999,37.79695 -122.43573,37.79695 -122.43526000000001,37.79535 -122.42545,37.795559999999995 -122.42318,37.795840000000005 -122.41141,37.79724 -122.40835,37.79772 -122.40366999999999,37.7983 -122.40208,37.79606 -122.40101999999999,37.79361 -122.40328000000001,37.792970000000004 -122.40446000000001,37.79249 -122.40313,37.792359999999995 -122.40668000000001,37.79248 -122.41098999999998,37.79186 -122.41275,37.791579999999996 -122.41786,37.79092 -122.4206,37.79071 -122.42126999999999,37.793209999999995 -122.42241999999999,37.7911 -122.42097,37.79055 -122.41968999999999,37.790729999999996 -122.41285,37.79157 -122.40508,37.791920000000005 -122.40399,37.79075 -122.40373000000001,37.78694 -122.40203000000001,37.78627 -122.4044,37.78471 -122.40602,37.78346 -122.40625,37.78321 -122.40355,37.78688 -122.4035,37.78693 -122.40383,37.78646 -122.40263999999999,37.78798 -122.40366000000002,37.78662 -122.40436000000001,37.7857 -122.40456999999999,37.785470000000004 -122.40529,37.78513 -122.40539,37.784909999999996 -122.40548000000001,37.78502 -122.40546,37.78495 -122.40557,37.78504 -122.40561000000001,37.78495 -122.40567,37.784890000000004 -122.40547,37.78512 -122.40558999999999,37.78504 -122.40539,37.7853 -122.40521000000001,37.7855 -122.40523,37.78544 -122.40523,37.78537 -122.40522,37.78542 -122.40541999999999,37.78529 -122.40531999999999,37.78536 -122.40535,37.78525 -122.40523,37.78532 -122.4053,37.78536 -122.406,37.78575 -122.40681000000001,37.78941 -122.40574,37.79048 -122.40742,37.79142 -122.40937,37.79202 -122.41105,37.791779999999996 -122.41318999999999,37.791509999999995 -122.42071000000001,37.79083 -122.42176,37.795790000000004 -122.42431,37.79963 -122.42627,37.80107 -122.43609,37.79992 -122.43744,37.80068 -122.44171000000001,37.80011 -122.44271,37.79935 -122.43966,37.79851 -122.43803,37.7987 -122.42846999999999,37.797990000000006 -122.42728999999999,37.79802 -122.42567,37.796479999999995 -122.42378000000001,37.789120000000004 -122.42505,37.788129999999995 -122.43283000000001,37.78715 -122.44097,37.78609 -122.44775,37.78505 -122.45383000000001,37.784079999999996 -122.45388,37.784 -122.45456000000001,37.78395 -122.45383000000001,37.779709999999994 -122.45548000000001,37.77857 -122.4566,37.7813 -122.45974,37.78117 -122.46423999999999,37.78097 -122.46773,37.78079 -122.4749,37.78052 -122.48801,37.78015 -122.48822,37.78338 -122.48891,37.78372 -122.49297,37.78355 -122.49288,37.78355 -122.48799,37.783770000000004 -122.47334,37.78445 -122.46907,37.78465 -122.46077,37.785540000000005 -122.45461999999999,37.78632 -122.45376,37.78641 -122.44827,37.78718 -122.44653000000001,37.786429999999996 -122.42756999999999,37.78877 -122.41878999999999,37.78973 -122.41065,37.790820000000004 -122.40428999999999,37.79108 -122.39971000000001,37.793 -122.39792,37.794290000000004 -122.39663999999999,37.79422 -122.39693999999999,37.79422 -122.39703,37.79422 -122.39751000000001,37.79407 -122.39741000000001,37.79358 -122.39752,37.79372 -122.39766000000002,37.79405 -122.39743999999999,37.79385 -122.39675,37.79395 -122.39392,37.79385 -122.39451000000001,37.79588 -122.39432,37.79569 -122.38991000000001,37.78018 -122.39023,37.780409999999996 -122.39725,37.78982 -122.39782,37.79391 -122.39771,37.79625 -122.39629,37.79403 -122.39686999999999,37.795320000000004 -122.40116,37.79453 -122.40608999999999,37.79737 -122.40818999999999,37.79882 -122.40998,37.80038 -122.4092,37.800340000000006 -122.40915,37.79984 -122.40648,37.79773 -122.40435,37.79363 -122.40116,37.79335 -122.3992,37.79288 -122.39585,37.7926 -122.39684,37.79527 -122.39697,37.79479 -122.39753999999999,37.79148 -122.39781,37.78928 -122.39984,37.78761 -122.40417,37.78461 -122.40486999999999,37.78498 -122.40661999999999,37.7851 -122.41055,37.781940000000006 -122.41264,37.7803 -122.41601000000001,37.77775 -122.41788999999999,37.77624 -122.42056000000001,37.77412 -122.42209,37.77293 -122.42655,37.76939 -122.42923,37.76719 -122.43139,37.765570000000004 -122.43508999999999,37.76232 -122.43525,37.762890000000006 -122.43566000000001,37.76753 -122.44271,37.770540000000004 -122.44583,37.77012 -122.44886000000001,37.76978 -122.45187,37.7694 -122.44846000000001,37.76984 -122.44533,37.77019 -122.44462,37.76931 -122.44462,37.76933 -122.44627,37.76729 -122.44481999999999,37.76749 -122.44583,37.77245 -122.44214,37.77344 -122.43399,37.77452 -122.42679,37.775420000000004 -122.42363,37.77585 -122.41938,37.77727 -122.41781,37.7774 -122.41462,37.77888 -122.41306000000002,37.779790000000006 -122.41091000000002,37.78094 -122.40786999999999,37.78423 -122.40706000000002,37.78472 -122.40373999999998,37.78734 -122.40141000000001,37.78934 -122.39903999999999,37.79118 -122.39688999999998,37.79283 -122.39522,37.79385 -122.39441000000001,37.7942 -122.39438,37.79497 -122.39461999999999,37.795970000000004 -122.39398,37.7953 -122.39039,37.79149 -122.38803,37.782959999999996 -122.39031999999999,37.78051 -122.39327,37.78282 -122.39708,37.78566 -122.39712,37.78757 -122.39482,37.78922 -122.39322,37.790440000000004 -122.39083000000001,37.79141 -122.39103,37.79166 -122.39152,37.79273 -122.39576000000001,37.79678 -122.3964,37.797540000000005 -122.39778000000001,37.79923 -122.39878999999999,37.80036 -122.40109,37.80292 -122.40364,37.805240000000005 -122.40659,37.80702 -122.40811000000001,37.80772 -122.41178000000001,37.807790000000004 -122.41835,37.80696 -122.41917,37.80684 -122.42056000000001,37.80584 -122.4206,37.80577 -122.4165,37.80467 -122.41046000000001,37.80048 -122.40766,37.7986 -122.40518999999999,37.79657 -122.40433,37.792429999999996 -122.4033,37.78848 -122.4025,37.78591 -122.40517,37.78549 -122.40746000000001,37.784459999999996 -122.40706000000002,37.78327 -122.40405,37.78092 -122.40775,37.77691 -122.41022,37.77496 -122.41197,37.773579999999995 -122.41287,37.772940000000006 -122.41295,37.77304 -122.41447,37.77418 -122.41496000000001,37.77608 -122.40533,37.78347 -122.40012,37.785 -122.39651,37.782 -122.39268999999999,37.778909999999996 -122.39277,37.7787 -122.39335,37.77838 -122.39477,37.77688 -122.39493,37.77678 -122.39476,37.77691 -122.39492,37.77693 -122.3984,37.77986 -122.40142,37.7822 -122.40342,37.78302 -122.40383999999999,37.78487 -122.40175,37.7865 -122.39681000000002,37.79136 -122.3957,37.79167 -122.39737,37.793409999999994 -122.39725,37.79598 -122.39781,37.79391 -122.3963,37.79244 -122.39613,37.79105 -122.39695,37.79036 -122.39957,37.78857 -122.40151000000002,37.786590000000004 -122.39639,37.781659999999995 -122.39367,37.77966 -122.39108999999999,37.7777 -122.38931000000001,37.77001 -122.38866000000002,37.762170000000005 -122.38768999999999,37.75268 -122.38878000000001,37.75014 -122.39533,37.75016 -122.39492,37.751259999999995 -122.39488,37.751129999999996 -122.39487,37.751059999999995 -122.3949,37.75105 -122.39488999999999,37.75114 -122.39488999999999,37.75122 -122.39495,37.75125 -122.39497,37.75122 -122.39498,37.751129999999996 -122.39497,37.751090000000005 -122.39498999999999,37.75098 -122.39493,37.75114 -122.39491000000001,37.751290000000004 -122.39518000000001,37.751529999999995 -122.39544,37.75161 -122.39528,37.75159 -122.39528,37.75143 -122.39527,37.751490000000004 -122.39398,37.75201 -122.39351,37.74625 -122.40432,37.73614 -122.42608999999999,37.729929999999996 -122.42631999999999,37.727340000000005 -122.42618999999999,37.72612 -122.42643000000001,37.72586 -122.42633000000001,37.72583 -122.42598000000001,37.72643 -122.41852,37.72907 -122.40798000000001,37.731759999999994 -122.40576000000001,37.731120000000004 -122.40485,37.73146 -122.40445,37.75779 -122.40543000000001,37.76698 -122.41493999999999,37.7695 -122.42374,37.772870000000005 -122.42351000000001,37.77298 -122.42248000000001,37.77397 -122.42328,37.77812 -122.42437,37.78345 -122.42518000000001,37.7882 -122.42227,37.7894 -122.42193,37.788779999999996 -122.42183999999999,37.78849 -122.42147,37.78764 -122.41672,37.78804 -122.41548999999999,37.787409999999994 -122.41812,37.78625 -122.41752,37.78287 -122.41852,37.78117 -122.41927,37.78308 -122.42025,37.78291 -122.42056000000001,37.78283 -122.42291999999999,37.78263 -122.4244,37.78411 -122.42546000000002,37.78909 -122.42886000000001,37.78951 -122.43236999999999,37.79 -122.43413000000001,37.79057 -122.43396000000001,37.78947 -122.43381000000001,37.788759999999996 -122.43361000000002,37.78784 -122.43337,37.78653 -122.43325,37.78584 -122.43098,37.78543 -122.42855,37.78575 -122.4283,37.785790000000006 -122.42551,37.789320000000004 -122.42638000000001,37.79402 -122.42837,37.79526 -122.43038,37.79773 -122.43056000000001,37.7977 -122.43412,37.797290000000004 -122.43585,37.79869 -122.43646000000001,37.7997 -122.43968000000001,37.79933 -122.44418,37.798759999999994 -122.44292,37.80001 -122.43958,37.80041 -122.43871000000001,37.80052 -122.43628999999999,37.80082 -122.43598,37.7997 -122.4357,37.79807 -122.43523,37.79626 -122.42533999999999,37.79673 -122.42236000000001,37.79592 -122.41126000000001,37.79728 -122.40613,37.797979999999995 -122.40222,37.7983 -122.40158000000001,37.79573 -122.40014,37.7959 -122.39647,37.7945 -122.39641,37.79442 -122.39652,37.79438 -122.39667,37.79441 -122.39828999999999,37.79444 -122.39773999999998,37.79392 -122.39752,37.79394 -122.39738,37.79379 -122.39636999999999,37.79357 -122.395,37.79202 -122.39348000000001,37.79307 -122.3952,37.7941 -122.39326000000001,37.79052 -122.39008000000001,37.7881 -122.38778,37.78695 -122.38796,37.784490000000005 -122.39033,37.77903 -122.39418,37.77649 -122.39428000000001,37.77657 -122.39469,37.77689 -122.39473000000001,37.777 -122.39563999999999,37.77755 -122.39853000000001,37.77989 -122.40274,37.78325 -122.40653,37.78565 -122.4068,37.7856 -122.4079,37.78653 -122.40823999999999,37.78784 -122.40828,37.78785 -122.40827,37.78788 -122.40826000000001,37.78796 -122.40836000000002,37.78796 -122.4126,37.7877 -122.41832,37.786770000000004 -122.42199,37.78668 -122.42334,37.786359999999995 -122.42499,37.78617 -122.42792,37.78577 -122.42806000000002,37.78565 -122.42442,37.7854 -122.42241999999999,37.78217 -122.42068,37.77722 -122.41905,37.77599 -122.41843,37.772659999999995 -122.4169,37.76967 -122.41078999999999,37.76912 -122.41066000000001,37.7676 -122.40789,37.76583 -122.40711999999999,37.76582 -122.40233,37.76614 -122.40151999999999,37.76423 -122.39835,37.76252 -122.39623,37.762640000000005 -122.39065,37.76231 -122.39056000000001,37.761390000000006 -122.39256999999999,37.762809999999995 -122.39799,37.77309 -122.39657,37.77835 -122.40088999999999,37.78182 -122.40257,37.78321 -122.39911000000001,37.785920000000004 -122.39923999999999,37.78649 -122.4015,37.78915 -122.40086000000001,37.79005 -122.40083,37.79144 -122.40258,37.7931 -122.40308999999999,37.79272 -122.40473999999999,37.79138 -122.40343,37.79083 -122.40276000000001,37.7895 -122.40041000000001,37.790209999999995 -122.39887,37.79121 -122.39747,37.79312 -122.39823999999999,37.79209 -122.39323,37.790890000000005 -122.39401000000001,37.79283 -122.39698,37.79372 -122.39601,37.792359999999995 -122.39768000000001,37.79255 -122.39976999999999,37.793479999999995 -122.40451000000002,37.79252 -122.40945,37.79181 -122.40988999999999,37.79168 -122.41001999999999,37.79166 -122.40975,37.79204 -122.40961000000001,37.79229 -122.40267,37.79327 -122.39737,37.79254 -122.3964,37.79518 -122.3967,37.79425 -122.39703999999999,37.7935 -122.39908999999999,37.79214 -122.39936000000002,37.79379 -122.40183999999999,37.79307 -122.40308999999999,37.79254 -122.40378999999999,37.7919 -122.40377,37.79198 -122.40388999999999,37.79203 -122.40438,37.7926 -122.40393,37.79088 -122.4055,37.790209999999995 -122.40523,37.78976 -122.40358,37.79005 -122.40218999999999,37.79022 -122.39781,37.79161 -122.39596999999999,37.79345 -122.39521,37.79418 -122.39473999999998,37.794540000000005 -122.39475,37.794579999999996 -122.39648000000001,37.79296 -122.39808000000001,37.79137 -122.39935,37.79075 -122.40201,37.78877 -122.40454,37.78621 -122.40648,37.78521 -122.40828,37.78373 -122.41066000000001,37.78188 -122.4127,37.78027 -122.41521000000002,37.77838 -122.41792,37.77625 -122.41956,37.77494 -122.42403999999999,37.77133 -122.42743999999999,37.76863 -122.42951000000001,37.7671 -122.43283000000001,37.764359999999996 -122.43305,37.7637 -122.43508,37.76101 -122.43336000000001,37.7641 -122.42913,37.7674 -122.42908999999999,37.76827 -122.43027,37.77109 -122.43048,37.77203 -122.43051000000001,37.772059999999996 -122.43083999999999,37.77491 -122.42656000000001,37.77772 -122.42693,37.779540000000004 -122.4273,37.78134 -122.42768000000001,37.78335 -122.4281,37.78544 -122.429,37.7902 -122.42986,37.794340000000005 -122.43144,37.794709999999995 -122.43243999999999,37.790820000000004 -122.43241,37.79078 -122.43421000000001,37.789770000000004 -122.43543000000001,37.7885 -122.43518,37.78738 -122.44108999999999,37.78607 -122.44662,37.7853 -122.44743000000001,37.7819 -122.44717,37.77962 -122.44645,37.77578 -122.44701,37.77192 -122.45241999999999,37.77122 -122.45331000000002,37.76812 -122.45333000000001,37.765370000000004 -122.4564,37.76389 -122.45638000000001,37.76395 -122.45585,37.76406 -122.45105,37.76468 -122.44646000000002,37.76189 -122.43533000000001,37.76318 -122.4357,37.76725 -122.43574,37.76737 -122.43574,37.76728 -122.43758000000001,37.76723 -122.43753000000001,37.76719 -122.43737,37.76726 -122.43578000000001,37.76854 -122.43515,37.76854 -122.43513,37.76849 -122.43507,37.76854 -122.43528,37.767379999999996 -122.43563999999999,37.76725 -122.43567,37.76719 -122.43563,37.76722 -122.43581,37.76735 -122.43841,37.76676 -122.4415,37.76625 -122.44788,37.76635 -122.45026999999999,37.76574 -122.45047,37.76575 -122.45002,37.76589 -122.45071999999999,37.76933 -122.44852,37.76952 -122.44847,37.769259999999996 -122.4482,37.76892 -122.44533999999999,37.7704 -122.44618999999999,37.774229999999996 -122.44663,37.7766 -122.44731999999999,37.77997 -122.44708,37.785920000000004 -122.43807,37.787409999999994 -122.42947,37.788509999999995 -122.42216,37.78942 -122.41386000000001,37.790440000000004 -122.4055,37.7912 -122.40104,37.7923 -122.39595,37.79268 -122.396,37.79285 -122.39671000000001,37.79613 -122.39666000000001,37.79565 -122.39672,37.79626 -122.39665,37.79622 -122.39668,37.79638 -122.3968,37.7962 -122.39759,37.794509999999995 -122.39759,37.794579999999996 -122.39693,37.79573 -122.39697,37.7956 -122.39661000000001,37.794940000000004 -122.39661000000001,37.794909999999994 -122.39648999999999,37.794470000000004 -122.39643000000001,37.7935 -122.39648999999999,37.79294 -122.3936,37.79078 -122.3956,37.79336 -122.39634,37.79368 -122.3961,37.79358 -122.3961,37.79335 -122.39899,37.79319 -122.40364,37.78785 -122.40718999999999,37.7923 -122.40924,37.7924 -122.41076000000001,37.79237 -122.41073,37.79234 -122.41073,37.79227 -122.41068999999999,37.7923 -122.41065,37.79226 -122.41066000000001,37.79218 -122.41068,37.79226 -122.41063,37.79227 -122.41067,37.792229999999996 -122.41058000000001,37.79217 -122.41058999999998,37.79202 -122.4106,37.791909999999994 -122.41053000000001,37.792190000000005 -122.41055,37.7921 -122.41073,37.79207 -122.40700000000001,37.79246 -122.40311000000001,37.79412 -122.40161,37.79285 -122.40088999999999,37.79352 -122.40154,37.79461 -122.40078999999999,37.793859999999995 -122.39768000000001,37.79351 -122.39466999999999,37.79153 -122.39213000000001,37.78974 -122.39061000000001,37.78829 -122.39067,37.78942 -122.3907,37.78938 -122.39098999999999,37.78948 -122.39505,37.79139 -122.39537,37.793459999999996 -122.39645,37.793079999999996 -122.40176000000001,37.79257 -122.40472,37.79302 -122.40898,37.79291 -122.41197,37.79175 -122.4175,37.7915 -122.41805,37.793440000000004 -122.41798,37.79462 -122.41802,37.79548 -122.42031000000001,37.795190000000005 -122.42281000000001,37.79298 -122.42253999999998,37.7919 -122.42192,37.78895 -122.42143999999999,37.78647 -122.41657,37.78635 -122.41626000000001,37.78638 -122.41105,37.787 -122.40836999999999,37.788140000000006 -122.4091,37.788129999999995 -122.4063,37.78882 -122.4039,37.7876 -122.40154,37.78736 -122.40123,37.79011 -122.39958,37.78935 -122.39973,37.79252 -122.40177,37.79244 -122.40467,37.79241 -122.40818,37.79202 -122.41101,37.79172 -122.41731000000001,37.79101 -122.42218000000001,37.79018 -122.42213000000001,37.79 -122.4215,37.78772 -122.42106000000001,37.785759999999996 -122.41689,37.78625 -122.41268000000001,37.7867 -122.40818,37.78738 -122.41206000000001,37.787890000000004 -122.41333,37.78775 -122.41384,37.78949 -122.42061000000001,37.78863 -122.42233,37.79034 -122.42353,37.79522 -122.42556,37.79823 -122.42452,37.792840000000005 -122.42363,37.788540000000005 -122.42285,37.78448 -122.42241000000001,37.78264 -122.42003000000001,37.78205 -122.41891000000001,37.78282 -122.41946999999999,37.78512 -122.41988,37.78633 -122.41667,37.78824 -122.41166000000001,37.788540000000005 -122.41125,37.7871 -122.4111,37.78625 -122.40948999999999,37.78526 -122.40868999999999,37.78416 -122.40693999999999,37.78304 -122.40385,37.78471 -122.40154,37.786559999999994 -122.40071,37.78508 -122.39955,37.78427 -122.40138999999999,37.781929999999996 -122.40263999999999,37.78093 -122.40353,37.78031 -122.40648,37.78282 -122.40916000000001,37.78427 -122.41072,37.78587 -122.41088,37.78582 -122.41098000000001,37.78591 -122.41102,37.78591 -122.41106,37.78606 -122.41108999999999,37.78609 -122.41108999999999,37.78587 -122.411,37.78585 -122.41116000000001,37.78604 -122.41123,37.78516 -122.40873,37.784890000000004 -122.40756,37.78391 -122.40619,37.78256 -122.40208,37.78371 -122.39816,37.7866 -122.39658,37.78541 -122.39493,37.78419 -122.3923,37.78215 -122.39186000000001,37.77943 -122.39166000000002,37.77949 -122.39165,37.78168 -122.39785,37.78605 -122.40189,37.78905 -122.40227,37.788909999999994 -122.40401999999999,37.788790000000006 -122.40708000000001,37.78902 -122.40671999999999,37.78948 -122.40543999999998,37.78974 -122.40319,37.78804 -122.40231000000001,37.78903 -122.40553,37.78868 -122.41032,37.78825 -122.41637,37.787290000000006 -122.42195,37.78655 -122.42517,37.78764 -122.42817,37.78957 -122.42828999999999,37.78952 -122.43404,37.78881 -122.43468,37.78887 -122.43393999999999,37.789229999999996 -122.43443,37.79166 -122.43546,37.79672 -122.4356,37.79744 -122.43603999999999,37.79955 -122.44088,37.79913 -122.44436,37.79889 -122.44446,37.799279999999996 -122.44175,37.80012 -122.43909,37.80046 -122.43387,37.80113 -122.4253,37.80572 -122.42532,37.805690000000006 -122.42541000000001,37.803129999999996 -122.42611000000001,37.80087 -122.42578,37.79913 -122.42461999999999,37.79274 -122.42331999999999,37.78675 -122.42265,37.78365 -122.42165,37.77845 -122.42121000000002,37.7761 -122.42103,37.77551 -122.42098,37.775079999999996 -122.42105,37.773720000000004 -122.42141000000001,37.773509999999995 -122.42334,37.77193 -122.42698,37.769079999999995 -122.42938999999998,37.76708 -122.4303,37.76643 -122.43388,37.76355 -122.4351,37.76208 -122.43523,37.7626 -122.4328,37.7642 -122.43071,37.764359999999996 -122.42433,37.76482 -122.42159,37.764959999999995 -122.4194,37.76504 -122.41716000000001,37.765229999999995 -122.41545,37.76535 -122.41448999999999,37.76729 -122.41448000000001,37.7676 -122.41582,37.7685 -122.41993000000001,37.7679 -122.41936000000001,37.7651 -122.41927,37.76514 -122.4172,37.765240000000006 -122.41298,37.7655 -122.41077,37.76562 -122.40713999999998,37.7658 -122.40261000000001,37.76611 -122.40137,37.7629 -122.4014,37.762229999999995 -122.40168,37.76491 -122.40486000000001,37.765859999999996 -122.40841,37.76914 -122.41241000000001,37.76941 -122.41996,37.7701 -122.42226000000001,37.77325 -122.42268999999999,37.77541 -122.42368,37.78032 -122.42437,37.783590000000004 -122.42732,37.78497 -122.44527,37.7826 -122.45428999999999,37.78156 -122.45661000000001,37.78135 -122.46505,37.78096 -122.47413,37.780559999999994 -122.47703999999999,37.78042 -122.48458000000001,37.779959999999996 -122.48461999999999,37.77997 -122.4856,37.78009 -122.48159,37.7803 -122.4667,37.78095 -122.4667,37.78474 -122.46333999999999,37.78522 -122.45893999999998,37.785790000000006 -122.45463000000001,37.78635 -122.45183999999999,37.78679 -122.44853,37.788059999999994 -122.4474,37.79012 -122.44631000000001,37.79193 -122.4419,37.7925 -122.44183000000001,37.7948 -122.44275,37.79919 -122.443,37.80057 -122.43951000000001,37.80171 -122.43648,37.80189 -122.4394,37.80041 -122.44276,37.79975 -122.44256000000001,37.79886 -122.44213,37.79638 -122.44018,37.78682 -122.43978999999999,37.78528 -122.43956000000001,37.783970000000004 -122.43842,37.77843 -122.43808999999999,37.77666 -122.43699,37.77118 -122.43578000000001,37.76875 -122.43556000000001,37.76655 -122.43496,37.76415 -122.42853000000001,37.7627 -122.4283,37.760290000000005 -122.4279,37.75653 -122.42752,37.75268 -122.42725,37.74899 -122.42414,37.747890000000005 -122.41906000000002,37.74821 -122.41566999999999,37.748259999999995 -122.40887,37.74844 -122.40742,37.74855 -122.40263999999999,37.74949 -122.39588,37.74985 -122.39531000000001,37.7512 -122.39513999999998,37.75143 -122.39518999999999,37.75159 -122.39475,37.75163 -122.39473999999998,37.75164 -122.39477,37.75163 -122.39476,37.75162 -122.39476,37.75166 -122.39478000000001,37.75164 -122.39477,37.75164 -122.39476,37.75166 -122.39478000000001,37.75169 -122.39478999999999,37.75161 -122.39478000000001,37.75166 -122.39478000000001,37.75161 -122.39478000000001,37.75161 -122.39477,37.75166 -122.39477,37.75164 -122.39476,37.751670000000004 -122.39475,37.75164 -122.39478999999999,37.75162 -122.39478000000001,37.75165 -122.39477,37.75164 -122.39478000000001,37.75162 -122.39476,37.75161 -122.39477,37.75162 -122.39482,37.75161 -122.3948,37.75163 -122.39478000000001,37.75162 -122.39478999999999,37.75163 -122.3948,37.75164 -122.3948,37.75162 -122.39477,37.7516 -122.3947,37.75159 -122.39473999999998,37.75159 -122.39475,37.75161 -122.3948,37.75164 -122.39476,37.75161 -122.39473000000001,37.75155 -122.39475,37.75161 -122.3948,37.75164 -122.39477,37.7516 -122.39481,37.75163 -122.39473000000001,37.75162 -122.39473999999998,37.7516 -122.39473999999998,37.751670000000004 -122.39488,37.75147 -122.39509,37.75142 -122.39517,37.751490000000004 -122.39431,37.75202 -122.39466000000002,37.74985 -122.40236000000002,37.7494 -122.40421,37.75752 -122.40711,37.76865 -122.42306,37.7713 -122.42416999999999,37.77463 -122.43273,37.773740000000004 -122.43741000000001,37.77323 -122.43723,37.77395 -122.43735,37.77301 -122.43458999999999,37.77258 -122.42126999999999,37.7771 -122.41276,37.777190000000004 -122.41333,37.777609999999996 -122.41463999999999,37.7787 -122.41566999999999,37.77707 -122.41001000000001,37.772529999999996 -122.40858999999999,37.77107 -122.40518,37.767509999999994 -122.40297,37.754540000000006 -122.40743,37.74156 -122.40295,37.72867 -122.3984,37.715759999999996 -122.39362,37.702940000000005 -122.3906,37.68957 -122.38868000000001,37.67605 -122.40687,37.65338 -122.40548999999999,37.64012 -122.4018,37.62696 -122.39594,37.6143 -122.38821999999999,37.61612 -122.38431000000001,37.61645 -122.38806000000001,37.6157 -122.39488,37.61419 -122.38515,37.60589 -122.37228,37.59745 -122.3625,37.59211 -122.35383999999999,37.59196 -122.34414,37.58961 -122.34316000000001,37.58954 -122.34315,37.58947 -122.35002,37.59062 -122.35936000000001,37.59186 -122.36566,37.59271 -122.37847,37.60114 -122.38877,37.61598 -122.4016,37.62445 -122.39034,37.68741 -122.39398999999999,37.703540000000004 -122.39891000000001,37.7165 -122.40353999999999,37.72919 -122.40703,37.74241 -122.40885,37.748329999999996 -122.41617,37.748259999999995 -122.42136,37.74929 -122.42137,37.7494 -122.42151000000001,37.75096 -122.42098,37.7505 -122.42005,37.74819 -122.41355,37.74831 -122.41131999999999,37.74834 -122.40776000000001,37.74069 -122.40276000000001,37.72793 -122.39804,37.715090000000004 -122.39353,37.70231 -122.39055,37.68895 -122.38891000000001,37.67557 -122.39816,37.66442 -122.40528,37.63949 -122.40156,37.62615 -122.38808999999999,37.616279999999996 -122.38552,37.61752 -122.38593,37.61637 -122.38595,37.61637 -122.38601000000001,37.61626 -122.39823,37.61506 -122.40616999999999,37.641490000000005 -122.40699,37.65505 -122.38843,37.67801 -122.39125,37.6914 -122.39426999999999,37.70477 -122.3993,37.71778 -122.40633000000001,37.74323 -122.4035,37.75679 -122.40641000000001,37.760709999999996 -122.40683,37.773340000000005 -122.39746000000001,37.78277 -122.39578,37.78481 -122.39715,37.78585 -122.39477,37.782109999999996 -122.39193999999999,37.77793 -122.39193,37.7779 -122.39416999999999,37.77606 -122.39492,37.775490000000005 -122.39275,37.76409 -122.39159,37.75057 -122.40051000000001,37.739290000000004 -122.40182,37.725840000000005 -122.39617,37.71286 -122.38983,37.68587 -122.39079,37.67214 -122.40561000000001,37.640440000000005 -122.38611999999999,37.61637 -122.40388999999999,37.63428 -122.39181,37.67107 -122.38973999999999,37.684490000000004 -122.39278,37.69795 -122.39576000000001,37.71125 -122.40143,37.72394 -122.40786000000001,37.74094 -122.40489,37.74588 -122.40533,37.766890000000004 -122.40183,37.778259999999996 -122.40153000000001,37.782309999999995 -122.39986,37.785470000000004 -122.40092,37.78715 -122.40247,37.78952 -122.40258999999999,37.79285 -122.40325,37.79282 -122.40591,37.79249 -122.40912,37.79197 -122.40902,37.79015 -122.40895,37.79023 -122.40913,37.7902 -122.41519,37.78853 -122.41402,37.78268 -122.40858999999999,37.77727 -122.40508,37.76863 -122.40588999999999,37.76167 -122.40393999999999,37.74848 -122.40071,37.72263 -122.3952,37.70985 -122.39215,37.69637 -122.38891000000001,37.67558 -122.40692,37.652770000000004 -122.40515,37.63927 -122.40149,37.626059999999995 -122.38614,37.6164 -122.38614,37.6164 -122.38611000000002,37.61638 -122.38614,37.61645 -122.3861,37.616440000000004 -122.40658,37.64649 -122.38933999999999,37.68271 -122.39238999999999,37.69625 -122.39533,37.709509999999995 -122.40069,37.72221 -122.40671,37.73505 -122.40409,37.74832 -122.4062,37.76161 -122.40738999999999,37.76925 -122.41077,37.771209999999996 -122.41303,37.77511 -122.41378999999999,37.77799 -122.41543,37.78114 -122.41593999999999,37.78337 -122.41688,37.78824 -122.41541000000001,37.79025 -122.41383,37.79057 -122.40588000000001,37.7916 -122.39912,37.79267 -122.40052,37.79599 -122.40165,37.801140000000004 -122.40168,37.80153 -122.40391000000001,37.80533 -122.40657,37.806909999999995 -122.40728,37.80726 -122.40784,37.80753 -122.40993999999999,37.80704 -122.41395,37.807109999999994 -122.41824,37.80697 -122.42154,37.806509999999996 -122.42363999999999,37.80503 -122.42251999999999,37.79955 -122.42423000000001,37.79851 -122.42591000000002,37.79831 -122.42721999999999,37.79783 -122.42775,37.79622 -122.42505,37.796459999999996 -122.42336999999999,37.79674 -122.4222,37.79752 -122.42238,37.79861 -122.42308,37.80226 -122.42615,37.80208 -122.43075,37.801520000000004 -122.4282,37.80192 -122.42536000000001,37.804759999999995 -122.4237,37.80516 -122.42356000000001,37.80493 -122.42466999999999,37.8022 -122.42447,37.80123 -122.42443,37.79852 -122.42525,37.7984 -122.42724,37.79802 -122.42541000000001,37.79742 -122.42418,37.79117 -122.42338000000001,37.78712 -122.42213999999998,37.780879999999996 -122.42045,37.77722 -122.41621,37.776990000000005 -122.41448999999999,37.77649 -122.41486,37.77856 -122.41512,37.77834 -122.41788000000001,37.7769 -122.41904,37.781290000000006 -122.42228999999999,37.780809999999995 -122.42553000000001,37.78602 -122.42572,37.7903 -122.42613,37.79085 -122.43007,37.79039 -122.43401999999999,37.790729999999996 -122.43637,37.79226 -122.43738,37.798 -122.4378,37.79994 -122.43798000000001,37.80058 -122.43817,37.8006 -122.43824,37.80059 -122.4412,37.79998 -122.43626,37.79267 -122.43553,37.78904 -122.43506000000001,37.78671 -122.43178999999999,37.77896 -122.43035,37.77988 -122.43016000000001,37.7833 -122.43018000000001,37.783409999999996 -122.43016999999999,37.78347 -122.43019,37.78332 -122.43021,37.7834 -122.43018000000001,37.78338 -122.43016999999999,37.783190000000005 -122.4302,37.78338 -122.43016999999999,37.78337 -122.43135,37.78517 -122.43176000000001,37.78691 -122.43515,37.78691 -122.43536999999999,37.78788 -122.43416,37.78985 -122.4338,37.78989 -122.42921000000001,37.790459999999996 -122.42787,37.79333 -122.42318999999999,37.79384 -122.42013,37.794340000000005 -122.41788000000001,37.79464 -122.41616,37.79415 -122.41611,37.7934 -122.41446,37.79357 -122.41446,37.79402 -122.41478000000001,37.79347 -122.41691000000002,37.791109999999996 -122.4186,37.78885 -122.41803999999999,37.785990000000005 -122.41752,37.78307 -122.4169,37.78031 -122.41678999999999,37.7793 -122.41463,37.77937 -122.41471000000001,37.77929 -122.41568999999998,37.781659999999995 -122.4168,37.78717 -122.41788000000001,37.7909 -122.41928999999999,37.791920000000005 -122.4227,37.79229 -122.42313,37.79422 -122.42482,37.798429999999996 -122.42725,37.79795 -122.42981999999999,37.79681 -122.4326,37.79647 -122.43557,37.79719 -122.43583999999998,37.797959999999996 -122.43711,37.79675 -122.43534,37.79627 -122.43558999999999,37.79752 -122.4351,37.7981 -122.43178,37.79852 -122.42755,37.79906 -122.42533,37.79654 -122.4241,37.79097 -122.42209,37.79048 -122.41701,37.790929999999996 -122.41417,37.79167 -122.41418,37.79167 -122.41462,37.79388 -122.4196,37.79355 -122.42016000000001,37.79625 -122.42052,37.797990000000006 -122.42213000000001,37.80065 -122.42613999999999,37.80018 -122.42768999999998,37.8 -122.43149,37.7995 -122.43403,37.79833 -122.43496,37.79811 -122.43552,37.79723 -122.43638999999999,37.795970000000004 -122.43636000000001,37.79317 -122.43737,37.79031 -122.43706999999999,37.788309999999996 -122.43656999999999,37.78471 -122.43789,37.784040000000005 -122.43242,37.78451 -122.42778999999999,37.78513 -122.42187,37.785709999999995 -122.41958999999999,37.7859 -122.41436000000002,37.78654 -122.40943,37.78712 -122.40574,37.78764 -122.40328000000001,37.787440000000004 -122.40108000000001,37.78546 -122.3973,37.78246 -122.39453999999999,37.78029 -122.39161000000001,37.778490000000005 -122.39001,37.780440000000006 -122.39067,37.7807 -122.39353,37.78303 -122.39544,37.78457 -122.39738,37.78522 -122.40077,37.7823 -122.40393,37.78418 -122.40612,37.78598 -122.40651000000001,37.78689 -122.40673999999999,37.7881 -122.40858,37.78833 -122.40866000000001,37.78828 -122.41036000000001,37.78949 -122.41278999999999,37.7916 -122.41601000000001,37.792359999999995 -122.41651999999999,37.794940000000004 -122.41702,37.79766 -122.41906999999999,37.798840000000006 -122.4185,37.79635 -122.41633999999999,37.794779999999996 -122.41447,37.79339 -122.41431000000001,37.7931 -122.41433,37.793240000000004 -122.4143,37.7924 -122.41123999999999,37.786609999999996 -122.40858,37.78094 -122.40815,37.78049 -122.40529,37.77828 -122.40238000000001,37.77596 -122.39745,37.77132 -122.39218000000001,37.75647 -122.39638000000001,37.74308 -122.40338999999999,37.73003 -122.39896999999999,37.71719 -122.39401000000001,37.7043 -122.39102,37.69106 -122.38835,37.67796 -122.40665,37.655640000000005 -122.40596000000001,37.64222 -122.40223,37.6288 -122.39765,37.615520000000004 -122.38602,37.61633 -122.38843,37.61557 -122.39826000000001,37.615140000000004 -122.40281999999999,37.62823 -122.40616999999999,37.64178 -122.40693,37.65506 -122.39657,37.665890000000005 -122.38842,37.67771 -122.3912,37.691320000000005 -122.39424,37.70477 -122.39938000000001,37.71813 -122.40462,37.735459999999996 -122.39403999999999,37.74648 -122.39263000000001,37.750009999999996 -122.39376999999999,37.75059 -122.39376999999999,37.75079 -122.39516,37.75136 -122.3939,37.75186 -122.39392,37.75188 -122.39438,37.751870000000004 -122.39509,37.75138 -122.39509,37.75128 -122.39497,37.75169 -122.39407,37.7521 -122.39473999999998,37.74984 -122.41171000000001,37.7483 -122.41696999999999,37.74819 -122.4203,37.74828 -122.42083000000001,37.753659999999996 -122.42152,37.76105 -122.42168000000001,37.76215 -122.42399999999999,37.7648 -122.42813999999998,37.76614 -122.42907,37.7687 -122.43042,37.77194 -122.43293,37.773709999999994 -122.43593,37.7733 -122.4372,37.77377 -122.43715,37.77378 -122.43723,37.77382 -122.43739,37.77337 -122.44581000000001,37.77214 -122.4588,37.76716 -122.45805,37.76625 -122.458,37.76627 -122.45806999999999,37.76623 -122.45811,37.7662 -122.45805,37.76625 -122.46,37.76582 -122.46479,37.76595 -122.47126999999999,37.7657 -122.47716000000001,37.764520000000005 -122.47645,37.75505 -122.47545,37.740840000000006 -122.47475,37.730709999999995 -122.47431,37.7231 -122.47447,37.72193 -122.47193999999999,37.731790000000004 -122.47511999999999,37.734840000000005 -122.47563000000001,37.741440000000004 -122.47641000000002,37.75238 -122.47946999999999,37.77178 -122.47393000000001,37.77937 -122.47211999999999,37.7807 -122.46628,37.78096 -122.45553999999998,37.78156 -122.45651000000001,37.78134 -122.46016999999999,37.78118 -122.46756,37.7808 -122.4686,37.78115 -122.46886,37.7809 -122.46875,37.78091 -122.46871000000002,37.78092 -122.45777,37.78139 -122.44768,37.782379999999996 -122.436,37.783970000000004 -122.42855,37.784929999999996 -122.42216,37.785579999999996 -122.41468,37.78655 -122.41351,37.78853 -122.41213,37.788759999999996 -122.40856000000001,37.78933 -122.40841999999999,37.7892 -122.40704,37.78951 -122.40823999999999,37.795629999999996 -122.41076000000001,37.797290000000004 -122.42197,37.7959 -122.42486000000001,37.79942 -122.43065,37.79865 -122.43568,37.79784 -122.43501,37.79477 -122.43423,37.79068 -122.43377,37.788509999999995 -122.43526000000001,37.786809999999996 -122.43671,37.786390000000004 -122.43503999999999,37.78586 -122.42813999999998,37.78675 -122.42322,37.78588 -122.42193,37.77978 -122.42008999999999,37.777409999999996 -122.4161,37.77738 -122.41203999999999,37.773540000000004 -122.41418,37.77174 -122.41416000000001,37.770540000000004 -122.41395,37.77045 -122.4138,37.77032 -122.41481999999999,37.772459999999995 -122.41402,37.7768 -122.41583999999999,37.78018 -122.41559,37.78266 -122.41281000000001,37.78503 -122.41336000000001,37.78758 -122.41128,37.78887 -122.4091,37.79015 -122.4135,37.78952 -122.41961,37.788709999999995 -122.42223999999999,37.7897 -122.42313999999999,37.79422 -122.42509,37.801190000000005 -122.43302,37.80017 -122.43636000000001,37.79972 -122.44126999999999,37.79912 -122.46531,37.80227 -122.47873999999999,37.82079 -122.48102,37.83238 -122.48313999999999,37.8335 -122.48076999999999,37.83323 -122.48036,37.832609999999995 -122.48048,37.832679999999996 -122.48113000000001,37.83275 -122.47886000000001,37.82305 -122.47771000000002,37.813190000000006 -122.47145,37.80433 -122.47241000000001,37.787040000000005 -122.46851000000001,37.78654 -122.46067,37.78689 -122.4548,37.7863 -122.45258000000001,37.786559999999994 -122.44653000000001,37.78645 -122.43861000000001,37.78739 -122.42476,37.78914 -122.42239,37.78229 -122.42146000000001,37.778009999999995 -122.41928,37.77706 -122.4146,37.776109999999996 -122.41226999999999,37.776759999999996 -122.41248,37.77705 -122.41325,37.77733 -122.41335,37.77738 -122.41198,37.77835 -122.41205,37.7784 -122.41084,37.77935 -122.40683999999999,37.78246 -122.40173999999999,37.78645 -122.40217,37.78993 -122.40256000000001,37.7918 -122.40324,37.7955 -122.40377,37.79743 -122.40566000000001,37.79795 -122.4059,37.79795 -122.40872,37.7976 -122.41776999999999,37.796409999999995 -122.42506999999999,37.79542 -122.42442,37.79327 -122.42445,37.79315 -122.42456999999999,37.79286 -122.42594,37.792790000000004 -122.42665,37.795609999999996 -122.42855,37.79892 -122.43455,37.798159999999996 -122.43472,37.798140000000004 -122.43555,37.79763 -122.43525,37.79569 -122.4344,37.794340000000005 -122.43506000000001,37.79493 -122.4334,37.79507 -122.42827,37.79517 -122.42539,37.79549 -122.42302,37.795809999999996 -122.4215,37.796009999999995 -122.41033,37.79757 -122.40857,37.798590000000004 -122.4075,37.79844 -122.40451000000002,37.792429999999996 -122.40512,37.78933 -122.40239,37.78663 -122.39953999999999,37.785920000000004 -122.39718,37.78764 -122.39286000000001,37.79148 -122.39265,37.79163 -122.39181,37.792120000000004 -122.39465,37.7923 -122.39573999999999,37.790279999999996 -122.40364,37.78515 -122.40463999999999,37.78414 -122.40878000000001,37.78076 -122.41116000000001,37.77903 -122.41501000000001,37.77905 -122.41288,37.7808 -122.4124,37.78068 -122.41225,37.78053 -122.40987,37.7821 -122.40558999999999,37.785470000000004 -122.40205,37.78755 -122.40319,37.79295 -122.40418000000001,37.7924 -122.40397,37.790420000000005 -122.40388,37.79025 -122.40666999999999,37.78862 -122.40817,37.7883 -122.41443000000001,37.78747 -122.41297,37.78667 -122.4129,37.78672 -122.40968000000001,37.78757 -122.4103,37.78884 -122.40637,37.78954 -122.40218,37.78986 -122.40231999999999,37.791959999999996 -122.40233,37.79269 -122.40293,37.79376 -122.40375,37.79744 -122.40541,37.79797 -122.40543999999998,37.79762 -122.40359,37.79654 -122.40428999999999,37.798190000000005 -122.40621000000002,37.797940000000004 -122.41045,37.79736 -122.42002,37.79611 -122.42171,37.79555 -122.42113,37.79287 -122.42086,37.79144 -122.42042,37.78921 -122.41975,37.78783 -122.4182,37.78777 -122.41252,37.7888 -122.41112,37.784729999999996 -122.40908999999999,37.7813 -122.40628999999998,37.779109999999996 -122.40397,37.77747 -122.40268999999999,37.7785 -122.40156999999999,37.77935 -122.3971,37.78233 -122.39817,37.77975 -122.39948999999999,37.78083 -122.39735,37.78242 -122.39703999999999,37.78221 -122.39856,37.77915 -122.4024,37.77616 -122.40478999999999,37.77785 -122.40831000000001,37.78053 -122.40826000000001,37.780590000000004 -122.40831000000001,37.780559999999994 -122.40879,37.780840000000005 -122.40853999999999,37.78112 -122.40607,37.7831 -122.40369,37.7851 -122.40318,37.78819 -122.40328999999998,37.787079999999996 -122.40276999999999,37.78691 -122.4029,37.78676 -122.40101999999999,37.78536 -122.4011,37.78208 -122.40616999999999,37.778079999999996 -122.41297,37.772729999999996 -122.41698000000001,37.77417 -122.41394,37.77557 -122.40876000000002,37.7712 -122.40914,37.77085 -122.41216999999999,37.77232 -122.416,37.77536 -122.41785,37.77619 -122.42063,37.77393 -122.42226000000001,37.77326 -122.42832,37.77431 -122.4373,37.77312 -122.43693,37.77135 -122.43648,37.771370000000005 -122.43243999999999,37.77189 -122.43028999999999,37.77147 -122.42908,37.769079999999995 -122.42143999999999,37.77353 -122.41471999999999,37.77617 -122.41143000000001,37.77366 -122.41123999999999,37.773509999999995 -122.41045,37.77274 -122.40871000000001,37.773759999999996 -122.41301999999999,37.77729 -122.41538,37.78119 -122.41604,37.78358 -122.41799999999999,37.78327 -122.41943,37.78389 -122.41931000000001,37.785940000000004 -122.41655,37.78629 -122.4151,37.78662 -122.41138000000001,37.78702 -122.41112,37.78569 -122.40995,37.7822 -122.40826000000001,37.78079 -122.40648999999999,37.77787 -122.41169,37.773740000000004 -122.41422,37.771809999999995 -122.41558,37.76943 -122.41546000000001,37.7673 -122.41296000000001,37.76551 -122.40959,37.76608 -122.40951000000001,37.76598 -122.40951000000001,37.76598 -122.41318999999999,37.76605 -122.4133,37.76975 -122.4123,37.77082 -122.40938,37.77308 -122.40834,37.77382 -122.40595,37.77584 -122.4073,37.777190000000004 -122.40742,37.77707 -122.40637,37.77563 -122.40165,37.77921 -122.40162,37.78247 -122.40262,37.78379 -122.40436000000001,37.78488 -122.40628999999998,37.78611 -122.40746000000001,37.79015 -122.40785,37.79403 -122.40845,37.796820000000004 -122.40858999999999,37.79804 -122.40901000000001,37.79906 -122.4086,37.79956 -122.40836999999999,37.79955 -122.40836000000002,37.8004 -122.40908999999999,37.800509999999996 -122.40988999999999,37.80325 -122.41331000000001,37.804 -122.4129,37.80673 -122.41203,37.80677 -122.41198999999999,37.8062 -122.41771000000001,37.80519 -122.42336,37.80438 -122.42253999999998,37.79976 -122.42193,37.79671 -122.42154,37.7951 -122.42143999999999,37.79419 -122.42103,37.79227 -122.42067,37.79023 -122.42046,37.789429999999996 -122.41868000000001,37.78803 -122.4108,37.78888 -122.40701000000001,37.78971 -122.40406999999999,37.78705 -122.40541999999999,37.78768 -122.40861000000001,37.78669 -122.40865,37.78665 -122.40893999999999,37.78651 -122.4096,37.78687 -122.4082,37.78754 -122.40683999999999,37.78785 -122.4071,37.78985 -122.40798000000001,37.79452 -122.40902,37.79769 -122.40912,37.79764 -122.41815,37.79651 -122.42437,37.79574 -122.4243,37.79105 -122.42426,37.79018 -122.43296000000001,37.78901 -122.44033,37.788000000000004 -122.44032,37.78779 -122.43356000000001,37.788000000000004 -122.42697,37.78882 -122.42185,37.78947 -122.41566999999999,37.790209999999995 -122.41463,37.79039 -122.41226,37.790490000000005 -122.41219,37.79047 -122.41228999999998,37.79052 -122.41245,37.79057 -122.41175,37.78829 -122.41141,37.786 -122.41208999999999,37.785990000000005 -122.41606000000002,37.78546 -122.41888,37.785070000000005 -122.41923999999999,37.78318 -122.41875,37.78197 -122.4187,37.78195 -122.41736999999999,37.78228 -122.4172,37.78046 -122.41769,37.780359999999995 -122.41877,37.78136 -122.41923,37.78324 -122.41921,37.783229999999996 -122.41918000000001,37.782959999999996 -122.41961,37.781220000000005 -122.42002,37.78119 -122.42053,37.78134 -122.42098,37.78335 -122.42143,37.785090000000004 -122.42227,37.78968 -122.42278999999999,37.79165 -122.42352,37.7956 -122.42339,37.79672 -122.4221,37.79687 -122.42193999999999,37.79667 -122.42112,37.792790000000004 -122.421,37.7912 -122.42046,37.78922 -122.41668999999999,37.78825 -122.4133,37.78864 -122.40661000000001,37.78948 -122.40966999999999,37.78824 -122.4142,37.78754 -122.41818,37.785940000000004 -122.4174,37.78267 -122.41651,37.77888 -122.41515,37.778909999999996 -122.42061000000001,37.78151 -122.42135,37.78542 -122.42225,37.78844 -122.42483999999999,37.788090000000004 -122.42616000000001,37.7931 -122.42746000000001,37.79715 -122.43023000000001,37.79677 -122.43336000000001,37.795190000000005 -122.43137,37.793820000000004 -122.42732,37.79802 -122.42713,37.79824 -122.42568,37.79821 -122.42442,37.80019 -122.42468000000001,37.801559999999995 -122.42513999999998,37.80318 -122.42836000000001,37.80279 -122.42846999999999,37.80277 -122.43003,37.80257 -122.43093,37.80344 -122.42491000000001,37.80423 -122.42303000000001,37.80225 -122.42227,37.79861 -122.42201000000001,37.79707 -122.4058,37.797990000000006 -122.40546,37.79703 -122.40728,37.79825 -122.40766,37.79844 -122.40926999999999,37.7995 -122.41009,37.79936 -122.4145,37.80073 -122.41825,37.800270000000005 -122.42396000000001,37.79951 -122.42622,37.7992 -122.42741000000001,37.79899 -122.4231,37.79868 -122.42203,37.797129999999996 -122.42168000000001,37.795429999999996 -122.42103,37.79209 -122.42085,37.79055 -122.42253000000001,37.79043 -122.42268999999999,37.78924 -122.42204,37.78993 -122.42261,37.79099 -122.42263,37.79107 -122.42308,37.7936 -122.42421999999999,37.79972 -122.42545,37.80442 -122.42476,37.80522 -122.42067,37.8069 -122.41717,37.80808 -122.41361,37.80851 -122.41103999999999,37.80834 -122.41022,37.80839 -122.40925,37.80822 -122.40816000000001,37.80778 -122.40136000000001,37.80353 -122.39473999999998,37.79627 -122.39233,37.79367 -122.39031999999999,37.79139 -122.38908,37.790209999999995 -122.38886000000001,37.79009 -122.38841000000001,37.78707 -122.39372,37.78311 -122.39561,37.78479 -122.40361000000001,37.78024 -122.40588999999999,37.77864 -122.40902,37.78127 -122.41623999999999,37.78155 -122.4207,37.78103 -122.4224,37.780809999999995 -122.42506999999999,37.7804 -122.43231999999999,37.77946 -122.43805,37.77702 -122.43775,37.77497 -122.43723,37.772240000000004 -122.43409,37.77162 -122.43048,37.77214 -122.43093999999999,37.77411 -122.43088999999999,37.77492 -122.42617,37.77584 -122.42473000000001,37.77708 -122.42138,37.77715 -122.42102,37.77559 -122.4219,37.77306 -122.42221,37.76886 -122.42172,37.76327 -122.42126,37.758340000000004 -122.42078000000001,37.75363 -122.42541000000001,37.75177 -122.42786000000001,37.75165 -122.43186000000001,37.75132 -122.43173999999999,37.750029999999995 -122.43173999999999,37.750040000000006 -122.43065,37.74743 -122.42693,37.74772 -122.42195,37.748090000000005 -122.41533000000001,37.74822 -122.40831999999999,37.74835 -122.40196,37.74945 -122.40121,37.74949 -122.39531000000001,37.75054 -122.39475,37.75122 -122.39477,37.75107 -122.39473999999998,37.7512 -122.39471999999999,37.75127 -122.39476,37.7512 -122.39478999999999,37.75125 -122.39478999999999,37.751290000000004 -122.39421000000002,37.75141 -122.39408,37.75158 -122.39408,37.75159 -122.39407,37.75157 -122.39408,37.75157 -122.39408999999999,37.75157 -122.39408,37.75155 -122.39408999999999,37.75157 -122.39411000000001,37.75155 -122.3941,37.75155 -122.39408999999999,37.75155 -122.39415,37.75156 -122.39411000000001,37.75156 -122.3941,37.75156 -122.39406000000001,37.75156 -122.39407,37.75156 -122.39471999999999,37.75117 -122.39478000000001,37.75112 -122.39498999999999,37.75138 -122.3951,37.75144 -122.39523,37.751459999999994 -122.39521,37.75158 -122.39516,37.75173 -122.39521,37.75178 -122.39505,37.751940000000005 -122.39483,37.75201 -122.39433999999999,37.75201 -122.39423000000001,37.75203 -122.39256999999999,37.75018 -122.39218000000001,37.75372 -122.39372,37.765390000000004 -122.40144,37.774359999999994 -122.40555,37.77133 -122.40885,37.77382 -122.41176000000002,37.77618 -122.41513,37.779140000000005 -122.41568000000001,37.781659999999995 -122.41633999999999,37.78519 -122.42191000000001,37.78646 -122.42576000000001,37.78988 -122.42878999999999,37.78953 -122.43231000000002,37.78945 -122.43443,37.79149 -122.43441999999999,37.79152 -122.43243000000001,37.79022 -122.42846000000002,37.78863 -122.41174,37.78861 -122.41075,37.78539 -122.41044,37.785759999999996 -122.41095,37.785920000000004 -122.41237,37.78567 -122.41765,37.80043 -122.41841000000001,37.80413 -122.41878,37.80603 -122.41933,37.80656 -122.42286999999999,37.80146 -122.41913000000001,37.799440000000004 -122.41943,37.80118 -122.41991000000002,37.8033 -122.42022,37.80495 -122.4203,37.80536 -122.42286000000001,37.801320000000004 -122.40418999999999,37.79289 -122.40313,37.79183 -122.40351000000001,37.78889 -122.40879,37.7881 -122.40941000000001,37.78711 -122.40843999999998,37.788129999999995 -122.42154,37.78475 -122.42251999999999,37.78314 -122.42226000000001,37.78188 -122.41988,37.782059999999994 -122.40888000000001,37.78349 -122.40783,37.7843 -122.40777,37.78436 -122.40488,37.78634 -122.4021,37.789229999999996 -122.39738999999999,37.792190000000005 -122.39825,37.79325 -122.39838,37.7934 -122.39918,37.79343 -122.40241,37.798390000000005 -122.40756999999999,37.797779999999996 -122.41842,37.79627 -122.42358999999999,37.79642 -122.42692,37.79822 -122.42695,37.79825 -122.41203999999999,37.7895 -122.41021,37.78714 -122.40802,37.78771 -122.40801,37.78781 -122.40799999999999,37.78785 -122.40843000000001,37.78897 -122.40853,37.78952 -122.40816000000001,37.78941 -122.4052,37.78962 -122.40213999999999,37.79011 -122.40051000000001,37.7914 -122.3989,37.79415 -122.39656000000001,37.7938 -122.39674,37.79486 -122.40037,37.794940000000004 -122.40025,37.79495 -122.40165,37.7948 -122.4032,37.794129999999996 -122.40363,37.789590000000004 -122.40568999999999,37.7887 -122.40992,37.78803 -122.41519,37.787459999999996 -122.42192,37.78658 -122.42727,37.78589 -122.42986,37.78556 -122.43311000000001,37.78525 -122.43355,37.787 -122.44238999999999,37.785959999999996 -122.44281000000001,37.7859 -122.44358000000001,37.78572 -122.44747,37.78184 -122.44682,37.77752 -122.44818000000001,37.77183 -122.45526000000001,37.77026 -122.45805,37.767379999999996 -122.46483,37.76595 -122.46531,37.76508 -122.46524,37.763729999999995 -122.46732,37.76273 -122.46671,37.764070000000004 -122.46633999999999,37.76501 -122.46704,37.76804 -122.46821000000001,37.77097 -122.46811000000001,37.77104 -122.46791999999999,37.77122 -122.46791,37.771209999999996 -122.46542,37.77261 -122.45588000000001,37.770959999999995 -122.43732,37.77415 -122.43076,37.7749 -122.42561,37.773109999999996 -122.42477,37.770759999999996 -122.42388000000001,37.763040000000004 -122.42358999999999,37.7606 -122.42268999999999,37.75362 -122.41981000000001,37.753820000000005 -122.41739,37.75394 -122.4141,37.754129999999996 -122.41051000000002,37.75436 -122.40971,37.74923 -122.40393,37.748470000000005 -122.40395,37.74672 -122.4075,37.741440000000004 -122.40315,37.72898 -122.3986,37.71615 -122.40491000000002,37.70908 -122.40651000000001,37.70926 -122.41251000000001,37.71093 -122.41413,37.71147 -122.41413,37.7115 -122.41385,37.71134 -122.40836000000002,37.70978 -122.40418999999999,37.7107 -122.40051000000001,37.71342 -122.40083,37.72221 -122.40961000000001,37.73401 -122.42591999999999,37.73138 -122.44221,37.72883 -122.44858,37.71702 -122.45693,37.70993 -122.45612,37.71133 -122.45903999999999,37.711529999999996 -122.45905,37.71171 -122.45751000000001,37.71235 -122.45752,37.71232 -122.45603999999999,37.71164 -122.45653,37.71055 -122.45881999999999,37.70665 -122.45603,37.70278 -122.45505,37.70264 -122.45453,37.70277 -122.45431,37.70306 -122.45538,37.70491 -122.45696000000001,37.70818 -122.45571000000001,37.71139 -122.44908999999998,37.71697 -122.44146,37.72933 -122.42523,37.73152 -122.40936,37.73523 -122.40441000000001,37.74797 -122.40656000000001,37.75486 -122.40728,37.76208 -122.40791000000002,37.7657 -122.40883999999998,37.76591 -122.40876000000002,37.76639 -122.40716,37.765859999999996 -122.40651000000001,37.7646 -122.40818,37.760870000000004 -122.40762,37.76063 -122.40723,37.761340000000004 -122.41651999999999,37.762 -122.41678,37.76201 -122.41618000000001,37.76205 -122.41625,37.763090000000005 -122.41748999999999,37.7636 -122.41766000000001,37.76639 -122.41771000000001,37.77041 -122.41842,37.77321 -122.41845,37.77322 -122.41796000000001,37.77353 -122.41505,37.77602 -122.41543,37.7805 -122.41708,37.79198 -122.41767,37.79274 -122.41663,37.7911 -122.41396999999999,37.79149 -122.41065,37.79193 -122.40953,37.791959999999996 -122.40675,37.79234 -122.40417,37.79242 -122.40227,37.79234 -122.39818000000001,37.79233 -122.39605,37.79352 -122.39461999999999,37.79465 -122.39307,37.79381 -122.39311000000001,37.79384 -122.39447,37.79578 -122.39506999999999,37.79606 -122.39622,37.79744 -122.39755,37.79892 -122.40126000000001,37.79853 -122.40605,37.797959999999996 -122.41051000000002,37.797340000000005 -122.42217,37.795840000000005 -122.42408,37.7987 -122.42598999999998,37.79923 -122.42715,37.79818 -122.427,37.798159999999996 -122.42556,37.79748 -122.42446000000001,37.79197 -122.42363,37.78798 -122.42288,37.787409999999994 -122.41673,37.788109999999996 -122.41498999999999,37.788270000000004 -122.41455,37.78477 -122.41214,37.780390000000004 -122.4072,37.776270000000004 -122.40461,37.77417 -122.40083,37.77503 -122.39478000000001,37.77962 -122.39375,37.77786 -122.39414,37.77605 -122.39233999999999,37.775040000000004 -122.39005,37.775490000000005 -122.39007,37.775659999999995 -122.39176,37.778079999999996 -122.39076000000001,37.7792 -122.39056000000001,37.78094 -122.39497,37.78443 -122.39315,37.78595 -122.39806000000002,37.79029 -122.39963,37.791540000000005 -122.40283000000001,37.79063 -122.40468999999999,37.79033 -122.40557,37.78937 -122.40385,37.78949 -122.40208999999999,37.79286 -122.4027,37.79347 -122.40333999999999,37.79509 -122.40612,37.797470000000004 -122.40817,37.7989 -122.40947,37.79977 -122.41261999999999,37.80198 -122.41762,37.80539 -122.41243,37.808409999999995 -122.41388,37.80704 -122.41461000000001,37.80363 -122.41446,37.801590000000004 -122.41373999999999,37.79806 -122.41311,37.79455 -122.41221999999999,37.79133 -122.41158999999999,37.78625 -122.41601000000001,37.78458 -122.41731000000001,37.7832 -122.41843,37.77967 -122.41621,37.7776 -122.4169,37.77717 -122.41821000000002,37.7766 -122.41843,37.77805 -122.41856999999999,37.77887 -122.41805,37.77747 -122.41842,37.77961 -122.42273,37.80068 -122.43271999999999,37.799659999999996 -122.41983,37.78782 -122.40871000000001,37.788779999999996 -122.40942,37.78637 -122.41405,37.78581 -122.41795,37.78317 -122.41662,37.7786 -122.41316,37.77497 -122.40805,37.76992 -122.4054,37.76775 -122.40321000000002,37.75625 -122.40638,37.7431 -122.40375,37.72987 -122.3989,37.71693 -122.39386,37.70385 -122.39088999999998,37.69066 -122.38848999999999,37.677009999999996 -122.40695,37.65444 -122.40563,37.64036 -122.40187,37.62706 -122.39561,37.614290000000004 -122.38723999999999,37.61765 -122.38631000000001,37.61795 -122.38628,37.61795 -122.38506000000001,37.61739 -122.40014,37.62005 -122.40373000000001,37.63363 -122.40661000000001,37.64674 -122.40421,37.66033 -122.38958000000001,37.68394 -122.39261,37.69737 -122.39556,37.71067 -122.4012,37.72341 -122.40732,37.736090000000004 -122.40381000000001,37.7492 -122.40555,37.762570000000004 -122.40216000000001,37.77802 -122.40369,37.7841 -122.40606000000001,37.78584 -122.40738,37.78642 -122.40948999999999,37.786390000000004 -122.40993999999999,37.787459999999996 -122.41018000000001,37.78852 -122.4092,37.79015 -122.4346,37.78689 -122.44013999999999,37.78646 -122.44225,37.78784 -122.44696,37.788470000000004 -122.44571,37.78907 -122.44554,37.78824 -122.43146000000002,37.78467 -122.42291000000002,37.78566 -122.42124,37.78595 -122.40678,37.789429999999996 -122.40132,37.78947 -122.39678,37.791470000000004 -122.39538,37.79225 -122.39183,37.791940000000004 -122.39386999999999,37.79384 -122.39623,37.79034 -122.39464,37.78883 -122.39003000000001,37.78695 -122.37931,37.79699 -122.36851000000001,37.80709 -122.35521999999999,37.81544 -122.33979,37.819829999999996 -122.32354,37.8224 -122.31345,37.824670000000005 -122.29848999999999,37.82693 -122.29716,37.84025 -122.30028999999999,37.85388 -122.3042,37.86699 -122.29727,37.868140000000004 -122.29371,37.86888 -122.285,37.870090000000005 -122.27963000000001,37.87076 -122.27266999999999,37.87166 -122.27021,37.873740000000005 -122.26125,37.87498 -122.25841000000001,37.875809999999994 -122.25899,37.878409999999995 -122.25899,37.87847 -122.25896999999999,37.87846 -122.25891000000001,37.878170000000004 -122.2594,37.875170000000004 -122.26612,37.87384 -122.27253,37.871590000000005 -122.28217,37.87036 -122.28766999999999,37.869609999999994 -122.29233,37.86905 -122.29786999999999,37.86792 -122.30255,37.86697 -122.29993999999999,37.85391 -122.2969,37.84067 -122.29523999999999,37.82743 -122.31175,37.82423 -122.32796,37.82072 -122.35903,37.81411 -122.36901999999999,37.80644 -122.38208,37.79436 -122.39273,37.78568 -122.39708,37.789429999999996 -122.40316000000001,37.79495 -122.40701999999999,37.79802 -122.41028,37.80028 -122.41953999999998,37.79912 -122.41963,37.79911 -122.41176999999999,37.79077 -122.40825,37.78625 -122.40799999999999,37.7839 -122.40614,37.78259 -122.40283000000001,37.78351 -122.40292,37.78351 -122.40543999999998,37.78548 -122.4056,37.78559 -122.40598999999999,37.7857 -122.40659,37.78703 -122.40659,37.78718 -122.41243,37.78692 -122.41188000000001,37.7869 -122.41008000000001,37.78816 -122.41823000000001,37.78698 -122.41712,37.78625 -122.41413,37.78663 -122.40973999999999,37.78725 -122.40835,37.787859999999995 -122.40418000000001,37.78962 -122.40106000000002,37.78888 -122.39756000000001,37.79141 -122.39713,37.79231 -122.40657,37.79788 -122.42133000000001,37.79606 -122.40643,37.79793 -122.40423,37.79139 -122.40291,37.78705 -122.39607,37.781259999999996 -122.39856999999999,37.77961 -122.40226000000001,37.777440000000006 -122.4058,37.76187 -122.40278,37.75156 -122.39676000000001,37.74978 -122.39627,37.75007 -122.39533,37.75053 -122.39506999999999,37.75128 -122.39457,37.75135 -122.39413,37.75168 -122.39522,37.751740000000005 -122.39517,37.75183 -122.39341999999999,37.75085 -122.39253000000001,37.75071 -122.3925,37.756 -122.39254,37.756859999999996 -122.39278,37.762240000000006 -122.40011000000001,37.773790000000005 -122.40484,37.777879999999996 -122.40808999999999,37.78053 -122.41078999999999,37.782270000000004 -122.41568000000001,37.78158 -122.42071000000001,37.78097 -122.42079,37.78097 -122.42476,37.7855 -122.42997,37.78747 -122.43879,37.78635 -122.44424,37.78756 -122.45158,37.78668 -122.45082,37.78678 -122.44395,37.78665 -122.43543999999999,37.78776 -122.42646,37.78888 -122.4236,37.788059999999994 -122.42074,37.78383 -122.41623,37.784729999999996 -122.4166,37.787420000000004 -122.41718,37.789970000000004 -122.41201000000001,37.78985 -122.41202,37.78986 -122.41205,37.78972 -122.41268000000001,37.78777 -122.41691000000002,37.78722 -122.42071999999999,37.78284 -122.42013999999999,37.77985 -122.41923,37.77494 -122.41775,37.76958 -122.41763,37.76696 -122.41818,37.7651 -122.42172,37.7649 -122.42143,37.76039 -122.42092,37.75516 -122.42063,37.752309999999994 -122.41856999999999,37.75315 -122.41906000000002,37.75801 -122.41944,37.76206 -122.42123000000001,37.76493 -122.42419,37.76494 -122.42453,37.76831 -122.42471,37.77024 -122.42658,37.77259 -122.43087,37.772059999999996 -122.43681000000001,37.77129 -122.43718999999999,37.77185 -122.43788,37.77518 -122.43905,37.78069 -122.43942,37.7826 -122.44367,37.78275 -122.45326999999999,37.781620000000004 -122.45875,37.78118 -122.46201,37.78103 -122.46655,37.78082 -122.4738,37.78054 -122.48036,37.78022 -122.48031,37.780429999999996 -122.47863999999998,37.780440000000006 -122.4721,37.78074 -122.46862,37.78086 -122.46493999999998,37.781009999999995 -122.44926000000001,37.78219 -122.44397,37.782790000000006 -122.4296,37.78485 -122.42299999999999,37.78555 -122.41623,37.78638 -122.41214,37.78658 -122.41113999999999,37.786770000000004 -122.41111000000001,37.78696 -122.40813,37.78713 -122.41011,37.78557 -122.41333999999999,37.787040000000005 -122.40725,37.78946 -122.40268,37.79164 -122.40363,37.795590000000004 -122.4051,37.7966 -122.40517,37.79663 -122.40846,37.79661 -122.41798999999999,37.79635 -122.42358,37.79623 -122.42501999999999,37.799409999999995 -122.4293,37.798840000000006 -122.43236999999999,37.798429999999996 -122.43562,37.79806 -122.43605,37.799659999999996 -122.43726000000001,37.79755 -122.43701000000001,37.796170000000004 -122.43481000000001,37.79529 -122.42841000000001,37.7961 -122.42501999999999,37.794990000000006 -122.42431,37.79168 -122.42433,37.79161 -122.42313,37.78644 -122.42112,37.78573 -122.41351,37.786609999999996 -122.40704,37.78886 -122.4069,37.78908 -122.40735,37.79079 -122.40737,37.79071 -122.40733,37.7907 -122.40895,37.792 -122.40999,37.7958 -122.41035,37.79768 -122.41083,37.800059999999995 -122.41273999999999,37.80202 -122.41515,37.80368 -122.41871,37.80614 -122.42058999999999,37.80681 -122.41722,37.80805 -122.41403999999999,37.80846 -122.40957,37.80834 -122.41051000000002,37.806940000000004 -122.41198,37.80591 -122.41163,37.80418 -122.40913,37.799640000000004 -122.40876000000002,37.79939 -122.40716,37.79822 -122.40628999999998,37.79759 -122.40621999999999,37.79756 -122.40543000000001,37.79703 -122.40421,37.79161 -122.4085,37.790240000000004 -122.41488999999999,37.78883 -122.41398000000001,37.782309999999995 -122.41265,37.78068 -122.41213,37.781 -122.40941000000001,37.78395 -122.41118,37.78581 -122.4086,37.784420000000004 -122.40624,37.7826 -122.40451999999999,37.78106 -122.40175,37.77917 -122.39908999999999,37.781279999999995 -122.39509,37.78453 -122.39214,37.78674 -122.39055,37.78825 -122.39097,37.78861 -122.39395,37.78772 -122.39788999999999,37.78455 -122.40142,37.78181 -122.40763000000001,37.77693 -122.4129,37.77274 -122.4142,37.77174 -122.41557,37.7694 -122.41531,37.765570000000004 -122.42102,37.764959999999995 -122.42273,37.76485 -122.42423000000001,37.764759999999995 -122.42851999999999,37.764509999999994 -122.42898000000001,37.76786 -122.4305,37.76937 -122.43132,37.77012 -122.43016999999999,37.77044 -122.43078999999999,37.77347 -122.43109,37.7752 -122.43155,37.777390000000004 -122.43215,37.78032 -122.43301000000001,37.78448 -122.43333,37.78628 -122.43431000000001,37.790859999999995 -122.43496999999999,37.7945 -122.43683999999999,37.79501 -122.43905,37.79789 -122.44111000000001,37.80018 -122.44247,37.8001 -122.43782,37.80066 -122.43595,37.79974 -122.43583000000001,37.79889 -122.43433999999999,37.79728 -122.43058,37.79764 -122.42885,37.79707 -122.42503,37.79509 -122.4239,37.78973 -122.42317,37.78603 -122.42095,37.7857 -122.41538,37.78652 -122.41248999999999,37.78679 -122.41126000000001,37.78689 -122.41072,37.78671 -122.41,37.78837 -122.40906000000001,37.7891 -122.40916000000001,37.78895 -122.40918,37.788920000000005 -122.40839,37.78921 -122.4107,37.79108 -122.41098000000001,37.7921 -122.41082,37.79201 -122.41095,37.79195 -122.41071000000001,37.79206 -122.411,37.79206 -122.40976,37.79225 -122.4094,37.79215 -122.40763999999999,37.79217 -122.40285,37.79436 -122.40061999999999,37.79776 -122.4007,37.797740000000005 -122.39692,37.796440000000004 -122.39766999999999,37.79272 -122.40021000000002,37.790440000000004 -122.40136000000001,37.78969 -122.39873999999999,37.78747 -122.39868,37.78733 -122.39799,37.788509999999995 -122.39781,37.78852 -122.39887,37.79087 -122.40168,37.78937 -122.40378999999999,37.7893 -122.40868999999999,37.78828 -122.40898999999999,37.788990000000005 -122.4091,37.788540000000005 -122.40976,37.78802 -122.40977,37.78792 -122.41287,37.78689 -122.41045,37.78302 -122.40938,37.78139 -122.40937,37.7814 -122.41403000000001,37.78192 -122.41583999999999,37.78282 -122.41649,37.78622 -122.4148,37.786590000000004 -122.41023999999999,37.78703 -122.41046999999999,37.78763 -122.41038999999999,37.787009999999995 -122.41181,37.78788 -122.41911,37.78699 -122.42268999999999,37.78648 -122.42316000000001,37.784620000000004 -122.42497,37.78523 -122.43145,37.7844 -122.43221000000001,37.781259999999996 -122.43168,37.77863 -122.43133,37.77639 -122.42942,37.77515 -122.42985,37.77708 -122.43138,37.78481 -122.43203999999999,37.78796 -122.4328,37.791990000000006 -122.43347,37.796009999999995 -122.43449,37.80036 -122.43592,37.79999 -122.43397,37.8002 -122.42621000000001,37.80089 -122.42536000000001,37.79653 -122.42164,37.78952 -122.41755,37.78998 -122.41037,37.79094 -122.40821000000001,37.79133 -122.40377,37.79034 -122.40325,37.78731 -122.40212,37.78644 -122.39629,37.78187 -122.39336000000002,37.7793 -122.39299999999999,37.77871 -122.39328,37.77835 -122.39693999999999,37.77871 -122.40187,37.7826 -122.40431000000001,37.78461 -122.4067,37.7877 -122.40801,37.794059999999995 -122.40829,37.79558 -122.41067,37.7973 -122.42176,37.7959 -122.42431,37.7995 -122.42445,37.80061 -122.43075,37.80157 -122.43628000000001,37.80069 -122.43623000000001,37.800670000000004 -122.43565,37.79787 -122.43343,37.79638 -122.43002,37.79469 -122.42921000000001,37.79098 -122.42868999999999,37.78846 -122.42896,37.785709999999995 -122.43298,37.78513 -122.43291,37.7843 -122.43536999999999,37.78375 -122.43773999999999,37.78315 -122.43885,37.7805 -122.43802,37.77646 -122.4375,37.77402 -122.43728,37.773959999999995 -122.43733,37.7739 -122.43733,37.77386 -122.43725,37.7738 -122.43728999999999,37.77383 -122.43718999999999,37.77402 -122.43278000000001,37.77463 -122.43409,37.77361 -122.43623000000001,37.77335 -122.43678999999999,37.7703 -122.43567,37.76774 -122.43538999999998,37.76491 -122.43508,37.762229999999995 -122.43523,37.76238 -122.43528,37.762809999999995 -122.43542,37.76443 -122.43638999999999,37.769890000000004 -122.44098999999999,37.770790000000005 -122.44596999999999,37.770140000000005 -122.44781,37.7699 -122.45101000000001,37.76951 -122.45288000000001,37.76831 -122.45606000000001,37.765879999999996 -122.45555,37.76504 -122.45501000000002,37.76509 -122.45278,37.765409999999996 -122.45085,37.761509999999994 -122.44667,37.76181 -122.44225,37.76205 -122.43538999999998,37.76269 -122.43306000000001,37.7637 -122.4304,37.76116 -122.42623,37.76157 -122.42646,37.7644 -122.42683000000001,37.76918 -122.42455,37.77101 -122.42308,37.772220000000004 -122.4212,37.77368 -122.4159,37.77783 -122.41231,37.78074 -122.40942,37.78335 -122.40982,37.78602 -122.41297,37.785959999999996 -122.41368999999999,37.78575 -122.41935,37.78515 -122.41991000000002,37.7865 -122.42013999999999,37.78764 -122.42052,37.78918 -122.42048,37.78914 -122.42063999999999,37.79 -122.42105,37.7923 -122.42147,37.79405 -122.42121999999999,37.793040000000005 -122.42067,37.79065 -122.41797,37.78996 -122.40938,37.79112 -122.40575,37.79157 -122.40093999999999,37.79221 -122.39683000000001,37.792840000000005 -122.39508000000001,37.79225 -122.39606,37.79157 -122.39477,37.78885 -122.39028,37.78666 -122.37951000000001,37.79671 -122.36866,37.806779999999996 -122.35592,37.81524 -122.34038999999999,37.8197 -122.32999,37.821290000000005 -122.31416999999999,37.82488 -122.30712,37.82526 -122.29495,37.833659999999995 -122.2965,37.83818 -122.29321999999999,37.8381 -122.29258999999999,37.83464 -122.2922,37.83452 -122.29248999999999,37.834559999999996 -122.29302,37.8349 -122.2931,37.836890000000004 -122.29593999999999,37.83752 -122.29563,37.82723 -122.3119,37.82419 -122.3281,37.8214 -122.34433,37.8185 -122.35435,37.81552 -122.36826,37.80709 -122.37541999999999,37.80065 -122.38802,37.788759999999996 -122.39348999999999,37.78648 -122.4,37.79169 -122.40023000000001,37.79401 -122.3997,37.79418 -122.39906,37.79372 -122.40218999999999,37.78861 -122.40547,37.78689 -122.40776000000001,37.78652 -122.40908999999999,37.78513 -122.40947,37.78541 -122.40977,37.785990000000005 -122.40983,37.78601 -122.40988,37.78601 -122.40995,37.78598 -122.40999,37.786 -122.40997,37.78595 -122.4098,37.78588 -122.40988,37.78583 -122.40988,37.78674 -122.41032,37.7893 -122.41056999999999,37.79043 -122.40732,37.79095 -122.4072,37.791 -122.40912,37.79014 -122.41258,37.78972 -122.41921,37.788790000000006 -122.42285,37.7851 -122.42178,37.77919 -122.42346,37.77494 -122.4317,37.77389 -122.43952,37.77293 -122.44901999999999,37.77167 -122.45917,37.76688 -122.46678999999999,37.76591 -122.47111000000001,37.76569 -122.47408999999999,37.76372 -122.47335,37.76375 -122.47283,37.76389 -122.47283999999999,37.7639 -122.47133000000001,37.76572 -122.46605,37.76594 -122.46223,37.76616 -122.45756000000002,37.7676 -122.45348999999999,37.77172 -122.4486,37.77268 -122.4401,37.773759999999996 -122.4331,37.77466 -122.42568999999999,37.77561 -122.42286999999999,37.775999999999996 -122.42371000000001,37.7805 -122.42526000000001,37.78829 -122.42385,37.79112 -122.42277,37.79205 -122.42341,37.79515 -122.42228999999999,37.79592 -122.41148999999999,37.79722 -122.41053000000001,37.79882 -122.40976,37.79998 -122.41078,37.80014 -122.41078,37.80018 -122.41717,37.79938 -122.41896000000001,37.79922 -122.41955,37.79919 -122.4234,37.79865 -122.42511999999999,37.795429999999996 -122.4268,37.79513 -122.43182,37.79467 -122.43161,37.79377 -122.43162,37.7938 -122.43105,37.79186 -122.43158000000001,37.79372 -122.43356000000001,37.79573 -122.43563999999999,37.79788 -122.43399,37.79724 -122.43353,37.79552 -122.43353,37.792609999999996 -122.43898,37.791909999999994 -122.4409,37.7903 -122.43995,37.7863 -122.43919,37.781859999999995 -122.43834,37.77767 -122.43751999999999,37.773959999999995 -122.43749,37.77316 -122.44641000000001,37.772009999999995 -122.45034,37.769529999999996 -122.45,37.76595 -122.44973999999999,37.76477 -122.44946999999999,37.76339 -122.44581000000001,37.7619 -122.44200000000001,37.76337 -122.43848999999999,37.7633 -122.43513,37.76235 -122.43494,37.760940000000005 -122.43486999999999,37.76078 -122.435,37.760020000000004 -122.43508999999999,37.760999999999996 -122.43463,37.76305 -122.43065,37.76631 -122.42917,37.76747 -122.42793999999999,37.76842 -122.42446000000001,37.7711 -122.42286999999999,37.77244 -122.42241000000001,37.77397 -122.4231,37.77715 -122.42414,37.78243 -122.42468999999998,37.785940000000004 -122.42493,37.7864 -122.42488999999999,37.79108 -122.42267,37.791470000000004 -122.42398999999999,37.79837 -122.42466,37.80172 -122.42513999999998,37.80401 -122.42197,37.80553 -122.41695,37.80616 -122.41233999999999,37.80755 -122.41008000000001,37.80839 -122.40987,37.808370000000004 -122.40964,37.80836 -122.41153999999999,37.80685 -122.41378999999999,37.80657 -122.41741,37.8061 -122.41962,37.80672 -122.41887,37.80784 -122.41408999999999,37.80839 -122.41236,37.80855 -122.40908999999999,37.80788 -122.41201000000001,37.806490000000004 -122.41143000000001,37.80314 -122.4089,37.799440000000004 -122.40818,37.799 -122.40643,37.797779999999996 -122.40628999999998,37.7976 -122.40626999999999,37.79761 -122.40523999999999,37.79674 -122.40505,37.79533 -122.40441000000001,37.79235 -122.4044,37.79103 -122.40703,37.78855 -122.40841,37.788909999999994 -122.4086,37.788959999999996 -122.40872,37.79 -122.4091,37.79143 -122.40953999999999,37.79339 -122.40993999999999,37.79572 -122.40997,37.79571 -122.41037,37.79779 -122.41096,37.80066 -122.4114,37.80278 -122.4121,37.805890000000005 -122.41223000000001,37.80695 -122.41226,37.8085 -122.40914,37.80818 -122.40898,37.80809 -122.40693999999999,37.80731 -122.40503999999999,37.8064 -122.40301000000001,37.805040000000005 -122.40031,37.8023 -122.40001000000001,37.79872 -122.40547,37.79777 -122.40525,37.7967 -122.4048,37.79432 -122.40415,37.790659999999995 -122.40351000000001,37.78717 -122.40281999999999,37.78678 -122.40221000000001,37.78614 -122.40324,37.78484 -122.40628999999998,37.782790000000006 -122.40518999999999,37.78182 -122.40488,37.781909999999996 -122.40438999999999,37.78184 -122.4001,37.785340000000005 -122.39788,37.786429999999996 -122.39661000000001,37.785059999999994 -122.39345,37.78303 -122.39023999999999,37.78029 -122.39211999999999,37.78182 -122.3954,37.78432 -122.39575,37.78464 -122.39842,37.78674 -122.4003,37.78838 -122.40311000000001,37.78788 -122.40699,37.78674 -122.40853999999999,37.7863 -122.40975,37.78648 -122.41023999999999,37.78797 -122.41166000000001,37.78788 -122.41745,37.78718 -122.42116999999999,37.78667 -122.42351000000001,37.78629 -122.42523999999999,37.78617 -122.42962,37.7856 -122.43299999999999,37.785140000000006 -122.43281,37.783840000000005 -122.43226999999999,37.78112 -122.43182,37.77859 -122.43308,37.778459999999995 -122.43396000000001,37.77834 -122.43758000000001,37.7779 -122.44001999999999,37.776579999999996 -122.44171000000001,37.776340000000005 -122.44308000000001,37.7763 -122.44108,37.7765 -122.43855,37.77818 -122.43682,37.77989 -122.43024,37.78075 -122.42683999999998,37.78116 -122.42231000000001,37.7819 -122.42043999999999,37.78199 -122.41871,37.78217 -122.41376000000001,37.782959999999996 -122.41043,37.78328 -122.40958,37.78555 -122.41003,37.78754 -122.4061,37.789590000000004 -122.40361000000001,37.78995 -122.40358,37.78698 -122.40348,37.78695 -122.40283000000001,37.786809999999996 -122.40108000000001,37.78548 -122.40064,37.785109999999996 -122.3978,37.78286 -122.3949,37.780590000000004 -122.39327,37.77839 -122.39397,37.77858 -122.39513999999998,37.777 -122.3954,37.77668 -122.39668,37.77575 -122.39918999999999,37.77621 -122.39863000000001,37.77283 -122.39738,37.77081 -122.39231000000001,37.760690000000004 -122.3907,37.7522 -122.39091,37.75008 -122.39522,37.74966 -122.39536000000001,37.75019 -122.39503,37.751329999999996 -122.39461000000001,37.751290000000004 -122.39461999999999,37.75123 -122.39465,37.75132 -122.3944,37.75193 -122.39515,37.75108 -122.39533,37.75116 -122.39532,37.75128 -122.39545,37.75147 -122.39538999999999,37.751529999999995 -122.39528,37.751509999999996 -122.39341999999999,37.7501 -122.40109,37.7494 -122.40855,37.748290000000004 -122.41542,37.74815 -122.41896000000001,37.7481 -122.42047,37.74945 -122.42088000000001,37.753890000000006 -122.42133000000001,37.75799 -122.42156000000001,37.7602 -122.42181000000001,37.76343 -122.42217,37.76688 -122.4226,37.76975 -122.42257,37.77263 -122.41994,37.77472 -122.41942,37.77539 -122.41989,37.7777 -122.42008,37.77858 -122.42073,37.78203 -122.42073,37.78383 -122.41367,37.78477 -122.41131999999999,37.78517 -122.40861000000001,37.78536 -122.40816000000001,37.78418 -122.40798000000001,37.78412 -122.40749,37.78349 -122.40692,37.783159999999995 -122.40755,37.78196 -122.40921000000002,37.780559999999994 -122.40971,37.78013 -122.41077,37.77913 -122.41022,37.7787 -122.40888000000001,37.77844 -122.40758000000001,37.779270000000004 -122.40638999999999,37.77798 -122.40658,37.777840000000005 -122.40699,37.77752 -122.40799999999999,37.77666 -122.40835,37.7764 -122.4108,37.774429999999995 -122.41322,37.77251 -122.41541000000001,37.769940000000005 -122.41651,37.76849 -122.4181,37.768359999999994 -122.42021000000001,37.76825 -122.42187,37.76643 -122.42028,37.766690000000004 -122.41941000000001,37.766709999999996 -122.41615,37.766909999999996 -122.41561000000002,37.76696 -122.41578,37.76852 -122.41722,37.76845 -122.41785,37.76968 -122.41891000000001,37.77365 -122.41892,37.773759999999996 -122.41981000000001,37.777429999999995 -122.42023999999999,37.779579999999996 -122.42063999999999,37.78154 -122.42096000000001,37.78314 -122.42128999999998,37.784440000000004 -122.42159,37.78607 -122.42178999999999,37.78713 -122.42211999999999,37.78886 -122.42043999999999,37.78952 -122.42036999999999,37.78933 -122.4199,37.787409999999994 -122.41976000000001,37.78653 -122.41861999999999,37.785959999999996 -122.41684,37.78629 -122.41683,37.7872 -122.4193,37.78691 -122.42021000000001,37.788309999999996 -122.42136,37.788509999999995 -122.42221,37.78837 -122.42294,37.78832 -122.42393,37.78822 -122.42565,37.7901 -122.42601,37.79242 -122.42676000000002,37.79547 -122.42708999999999,37.79707 -122.4253,37.79745 -122.42356000000001,37.79739 -122.42346,37.797290000000004 -122.42348,37.797290000000004 -122.42385,37.79569 -122.42367,37.795759999999994 -122.42403,37.79668 -122.42551999999999,37.79643 -122.42607,37.796459999999996 -122.42608,37.79647 -122.42508000000001,37.79653 -122.42192,37.7967 -122.42165,37.79529 -122.4212,37.79318 -122.4208,37.79136 -122.42066000000001,37.79018 -122.42052,37.78971 -122.42053,37.7895 -122.42056000000001,37.78948 -122.42048,37.78951 -122.42043000000001,37.78945 -122.42043999999999,37.78935 -122.42041,37.78933 -122.42023,37.78836 -122.4197,37.78595 -122.41806000000001,37.78615 -122.41145,37.78723 -122.40948,37.78722 -122.4083,37.78867 -122.40888000000001,37.788270000000004 -122.41261000000002,37.787890000000004 -122.41278,37.78788 -122.41277,37.78768 -122.41711000000001,37.78719 -122.4209,37.78674 -122.42291000000002,37.78645 -122.42222,37.78187 -122.42136,37.77735 -122.42121999999999,37.77675 -122.42098999999999,37.77561 -122.42098,37.77378 -122.42237,37.769940000000005 -122.42256,37.76982 -122.42363999999999,37.76976 -122.42369,37.76982 -122.42235,37.76975 -122.42218999999999,37.76785 -122.42201000000001,37.7662 -122.42175,37.763259999999995 -122.42069,37.76181 -122.4204,37.76181 -122.41943,37.76225 -122.41958999999999,37.76395 -122.42017,37.768640000000005 -122.42008,37.77192 -122.41828999999998,37.77341 -122.41763,37.77393 -122.41535,37.77578 -122.41349,37.77762 -122.41516000000001,37.77957 -122.41557,37.78196 -122.41591000000001,37.78324 -122.4159,37.78448 -122.41398999999998,37.78468 -122.4129,37.78584 -122.41373999999999,37.78569 -122.41813,37.78521 -122.41971000000001,37.78529 -122.41978999999999,37.78584 -122.41991000000002,37.78629 -122.41993000000001,37.78687 -122.42363999999999,37.78646 -122.42878999999999,37.785740000000004 -122.43141999999999,37.78543 -122.43121000000001,37.78641 -122.42835,37.7868 -122.42806000000002,37.78686 -122.42511,37.78718 -122.42333,37.78737 -122.42291000000002,37.78471 -122.42245,37.78259 -122.42045,37.781890000000004 -122.4199,37.7796 -122.41978999999999,37.77852 -122.41922,37.77603 -122.41872,37.772690000000004 -122.41872,37.77264 -122.41996,37.77037 -122.41963999999999,37.772420000000004 -122.41835,37.7734 -122.41665,37.7742 -122.41332,37.7773 -122.41405,37.778209999999994 -122.41541000000001,37.7816 -122.4166,37.78406 -122.4164,37.785920000000004 -122.41673,37.78798 -122.41463,37.78849 -122.4088,37.789320000000004 -122.40681000000001,37.789559999999994 -122.40671,37.78948 -122.40676,37.78965 -122.40678,37.78955 -122.40665,37.78941 -122.40432,37.790420000000005 -122.4039,37.78913 -122.40768999999999,37.78855 -122.40912,37.78855 -122.40953999999999,37.78803 -122.4114,37.78752 -122.40969,37.787240000000004 -122.40721,37.78752 -122.40365,37.78794 -122.40311000000001,37.78707 -122.40203000000001,37.78611 -122.40428,37.78474 -122.40485,37.7862 -122.40428,37.78584 -122.40463000000001,37.78498 -122.40597,37.78561 -122.40733999999999,37.78458 -122.40765,37.78411 -122.40656000000001,37.78295 -122.4043,37.78111 -122.40196999999999,37.77919 -122.40116,37.77859 -122.39981,37.77575 -122.39735,37.77037 -122.3922,37.75815 -122.39516,37.744659999999996 -122.40511000000001,37.733909999999995 -122.40151000000002,37.72508 -122.39595,37.71236 -122.39273,37.698879999999996 -122.38968999999999,37.68542 -122.39079,37.672059999999995 -122.40194,37.66186 -122.4062,37.65681 -122.40603,37.64332 -122.39885,37.61714 -122.38875,37.61606 -122.38508,37.6175 -122.38591000000001,37.61637 -122.38593999999999,37.61631 -122.38587,37.61637 -122.38593,37.61632 -122.38587,37.61618 -122.38729,37.615320000000004 -122.39018,37.615790000000004 -122.39018,37.61602 -122.38973999999999,37.61483 -122.397,37.6136 -122.40228,37.626 -122.40541999999999,37.63901 -122.40709,37.65213 -122.39899,37.663959999999996 -122.38918999999999,37.6753 -122.39068,37.68873 -122.39372,37.70217 -122.39828,37.71523 -122.40328999999998,37.7285 -122.40762,37.74147 -122.40308,37.754290000000005 -122.40533,37.76716 -122.40212,37.778009999999995 -122.40343,37.78378 -122.40491000000002,37.78496 -122.40637,37.78563 -122.4079,37.78542 -122.40806,37.786770000000004 -122.4084,37.78763 -122.40838000000001,37.78782 -122.40885,37.78788 -122.4084,37.78783 -122.4085,37.78787 -122.40839,37.78788 -122.40834,37.78791 -122.40861000000001,37.788000000000004 -122.40852,37.78796 -122.40858,37.78804 -122.40835,37.78808 -122.40848999999999,37.788059999999994 -122.41033999999999,37.78794 -122.41018000000001,37.78829 -122.41036000000001,37.78783 -122.40993999999999,37.788309999999996 -122.41088,37.78591 -122.4111,37.78522 -122.40892,37.78529 -122.40843000000001,37.78432 -122.40685,37.78334 -122.40361000000001,37.78017 -122.40914,37.775729999999996 -122.41009,37.77264 -122.40794,37.77087 -122.40536000000002,37.771390000000004 -122.40512,37.77158 -122.40303,37.77329 -122.40078000000001,37.77497 -122.39743999999999,37.77766 -122.39938000000001,37.7806 -122.40136000000001,37.78219 -122.40263,37.78317 -122.4013,37.78432 -122.39906,37.78626 -122.40006000000001,37.78988 -122.40263999999999,37.789120000000004 -122.40388,37.788709999999995 -122.40657,37.78846 -122.40693999999999,37.7884 -122.40866000000001,37.788129999999995 -122.41084,37.78792 -122.41516999999999,37.78753 -122.41651999999999,37.787240000000004 -122.41713,37.78999 -122.41916,37.79075 -122.42013,37.78801 -122.41909,37.78601 -122.41628999999999,37.7865 -122.41238999999999,37.78678 -122.41055,37.78691 -122.41055,37.78739 -122.40942,37.787079999999996 -122.40643,37.78754 -122.40341000000001,37.78735 -122.40298999999999,37.78693 -122.40194,37.78628 -122.40015,37.78479 -122.39702,37.782309999999995 -122.39776,37.77987 -122.39893000000001,37.7795 -122.40648999999999,37.77251 -122.40618,37.76016 -122.40353,37.74957 -122.40557,37.74398 -122.40788,37.74026 -122.40745,37.736509999999996 -122.40382,37.73012 -122.39898000000001,37.71719 -122.39398999999999,37.70447 -122.3909,37.69078 -122.38833000000001,37.67765 -122.39652,37.665690000000005 -122.40581999999999,37.64158 -122.40217,37.62809 -122.39728999999998,37.61495 -122.38626000000001,37.61657 -122.38625,37.61658 -122.38625,37.61657 -122.38626000000001,37.61657 -122.38623999999999,37.61654 -122.38627,37.61655 -122.38843,37.615629999999996 -122.38893,37.61607 -122.38658000000001,37.61789 -122.38661,37.61793 -122.38506000000001,37.61765 -122.39043000000001,37.61502 -122.40015,37.62018 -122.40355,37.633379999999995 -122.40661000000001,37.64652 -122.40458999999998,37.65992 -122.39308999999999,37.66964 -122.38944,37.68306 -122.39245,37.69643 -122.3954,37.70955 -122.40093,37.72258 -122.40677,37.735079999999996 -122.40444,37.74735 -122.40643,37.76081 -122.40643,37.7717 -122.40239,37.77783 -122.40213,37.78311 -122.40388999999999,37.784440000000004 -122.40643,37.78614 -122.40704,37.7893 -122.40701999999999,37.78944 -122.40686000000001,37.78938 -122.40696000000001,37.789359999999995 -122.40695,37.789429999999996 -122.40693999999999,37.78934 -122.40711,37.78996 -122.40701000000001,37.78989 -122.40691000000001,37.78926 -122.40695,37.789229999999996 -122.40687,37.78953 -122.40693999999999,37.78929 -122.40682,37.78944 -122.40686000000001,37.789320000000004 -122.40682,37.7894 -122.40683,37.78944 -122.40683,37.78966 -122.40683,37.78948 -122.40683999999999,37.78968 -122.40682,37.78965 -122.40666999999999,37.7895 -122.40668000000001,37.78945 -122.40658,37.78938 -122.4066,37.78942 -122.40661000000001,37.78951 -122.40664,37.78928 -122.40661000000001,37.78938 -122.4066,37.78941 -122.40661000000001,37.789590000000004 -122.40508,37.78784 -122.4013,37.78563 -122.39724,37.78226 -122.3986,37.77956 -122.40623000000001,37.77174 -122.40607,37.759679999999996 -122.40291,37.75042 -122.39613,37.74982 -122.39537,37.751020000000004 -122.39526000000001,37.75132 -122.39523999999999,37.75135 -122.39526000000001,37.75156 -122.3941,37.75185 -122.39408999999999,37.75188 -122.39416999999999,37.75185 -122.39416000000001,37.75188 -122.39416000000001,37.751870000000004 -122.39415,37.75137 -122.39522,37.75139 -122.39511999999999,37.7515 -122.39485,37.75136 -122.39526000000001,37.75158 -122.39402,37.75208 -122.39272,37.752520000000004 -122.39296000000002,37.76265 -122.39571000000001,37.766529999999996 -122.40202,37.768879999999996 -122.40847,37.76911 -122.41125,37.76932 -122.41582,37.76852 -122.41932,37.76838 -122.42026000000001,37.76835 -122.42016000000001,37.76833 -122.42023999999999,37.7684 -122.42012,37.76856 -122.41991999999999,37.76498 -122.42663,37.764590000000005 -122.43345,37.76422 -122.43536999999999,37.76442 -122.43706999999999,37.77122 -122.43732,37.77251 -122.43883000000001,37.77969 -122.44523999999998,37.78091 -122.44537,37.78089 -122.44296999999999,37.77968 -122.44485,37.77942 -122.44791000000001,37.778490000000005 -122.45539,37.77755 -122.44847,37.77848 -122.44643,37.77567 -122.44707,37.77478 -122.45055,37.77438 -122.45102,37.77431 -122.44693999999998,37.77779 -122.44651,37.7787 -122.43632,37.77998 -122.42553000000001,37.78135 -122.4211,37.78483 -122.4228,37.79227 -122.42339,37.79497 -122.42161000000002,37.796 -122.41011999999999,37.79748 -122.40536999999999,37.797340000000005 -122.4045,37.7974 -122.40144,37.79468 -122.40194,37.79363 -122.40335,37.79074 -122.41237,37.78968 -122.41925,37.78904 -122.42363999999999,37.78801 -122.42209,37.78076 -122.42491000000001,37.77476 -122.42868,37.77162 -122.42911000000001,37.76729 -122.43425,37.76323 -122.43525,37.763220000000004 -122.43631,37.76984 -122.44298,37.77053 -122.44885,37.76976 -122.45,37.76598 -122.45431,37.765240000000006 -122.4612,37.76424 -122.46446999999999,37.7641 -122.46756,37.76206 -122.4702,37.76015 -122.46548,37.76035 -122.46373999999999,37.76045 -122.46296000000001,37.76194 -122.46071,37.766220000000004 -122.45326999999999,37.77182 -122.44636000000001,37.77502 -122.44731000000002,37.782540000000004 -122.44731000000002,37.783590000000004 -122.44129,37.78698 -122.43293999999999,37.788059999999994 -122.4268,37.78881 -122.42261,37.789320000000004 -122.42258000000001,37.78949 -122.41897,37.78979 -122.40947,37.79107 -122.40463000000001,37.79245 -122.40406999999999,37.79083 -122.40383999999999,37.787420000000004 -122.40647,37.78522 -122.41193999999999,37.78092 -122.40834,37.77879 -122.4058,37.778459999999995 -122.41152,37.77385 -122.41398000000001,37.771770000000004 -122.41708999999999,37.77176 -122.41953000000001,37.7712 -122.42266000000001,37.76811 -122.42622,37.764720000000004 -122.42347,37.764829999999996 -122.41951999999999,37.76508 -122.41657,37.76526 -122.41028999999999,37.76565 -122.40733999999999,37.765809999999995 -122.40507,37.766 -122.39885,37.765029999999996 -122.39468000000001,37.76352 -122.39464,37.76332 -122.39315,37.76378 -122.39533,37.77552 -122.39833999999999,37.779790000000006 -122.39833999999999,37.78176 -122.39818000000001,37.78503 -122.40208999999999,37.78928 -122.40163999999999,37.792159999999996 -122.40543000000001,37.79744 -122.40547,37.797509999999996 -122.40546,37.797540000000005 -122.40518999999999,37.7962 -122.40142,37.79412 -122.39698999999999,37.79449 -122.39518999999999,37.791909999999994 -122.39393999999999,37.79186 -122.39781,37.78929 -122.39815,37.78672 -122.39908999999999,37.78363 -122.40283000000001,37.78072 -122.40316000000001,37.778009999999995 -122.40368000000001,37.780429999999996 -122.40535,37.78174 -122.40664,37.78285 -122.40923000000001,37.78338 -122.40977,37.78712 -122.41367,37.7886 -122.41685,37.78904 -122.42061000000001,37.789629999999995 -122.42141000000001,37.78637 -122.41521000000002,37.78638 -122.40831000000001,37.78751 -122.40661000000001,37.78954 -122.40238000000001,37.79186 -122.404,37.796009999999995 -122.40541999999999,37.79698 -122.40593999999999,37.79732 -122.40981000000001,37.80002 -122.41371000000001,37.80274 -122.4144,37.80327 -122.41457,37.80232 -122.41226999999999,37.79891 -122.41153,37.79533 -122.41022,37.792840000000005 -122.40526000000001,37.79254 -122.40531000000001,37.79248 -122.40551,37.792590000000004 -122.4052,37.792390000000005 -122.40521000000001,37.792320000000004 -122.40106999999999,37.79292 -122.40036,37.790209999999995 -122.3992,37.78753 -122.39799,37.78457 -122.39763,37.784490000000005 -122.40053,37.78253 -122.40547,37.778459999999995 -122.40382,37.77503 -122.40183999999999,37.772009999999995 -122.40551,37.77115 -122.40763000000001,37.76724 -122.40919,37.76567 -122.41492,37.76533 -122.42186000000001,37.7649 -122.42687,37.7646 -122.43091000000001,37.76589 -122.43618000000001,37.76204 -122.43495,37.7628 -122.43196999999999,37.76522 -122.42907,37.767920000000004 -122.43025,37.77101 -122.43087,37.774159999999995 -122.43116,37.775490000000005 -122.43205,37.77987 -122.43258,37.78259 -122.43336000000001,37.786429999999996 -122.43647,37.78855 -122.44015,37.7868 -122.44078,37.78418 -122.44433000000001,37.78373 -122.44408,37.78379 -122.43965,37.7842 -122.43522,37.784890000000004 -122.4356,37.78832 -122.43562,37.7883 -122.43553,37.78838 -122.43305,37.78902 -122.42743,37.78972 -122.42018999999999,37.79067 -122.41712,37.79108 -122.41658999999999,37.79098 -122.42103999999999,37.79225 -122.42317,37.79575 -122.42363,37.7961 -122.42393999999999,37.79768 -122.42625,37.79828 -122.43041000000001,37.79773 -122.43557,37.79736 -122.43574,37.79844 -122.43553,37.797270000000005 -122.43598999999999,37.79938 -122.43806000000001,37.800540000000005 -122.43061999999999,37.80059 -122.43027,37.80253 -122.43343999999999,37.80405 -122.43346000000001,37.80395 -122.43351000000001,37.80303 -122.43786000000001,37.80056 -122.43765,37.79947 -122.43696000000001,37.79603 -122.43451999999999,37.79246 -122.43361999999999,37.788140000000006 -122.43595,37.78674 -122.43946000000001,37.78628 -122.4465,37.78535 -122.44726000000001,37.779759999999996 -122.44583999999999,37.772090000000006 -122.45034,37.77019 -122.44991999999999,37.765609999999995 -122.44946000000002,37.76332 -122.44951,37.76345 -122.45034,37.76746 -122.44816999999999,37.769909999999996 -122.44281000000001,37.77052 -122.43693999999999,37.771359999999994 -122.43327,37.77182 -122.43106,37.77211 -122.43136000000001,37.77636 -122.43202,37.779790000000006 -122.43276999999999,37.78365 -122.43328000000001,37.78606 -122.43301000000001,37.78615 -122.43298999999999,37.78618 -122.43167,37.78628 -122.42821,37.78679 -122.42478,37.78703 -122.42017,37.78787 -122.42058999999999,37.789770000000004 -122.42119,37.79275 -122.42186000000001,37.79622 -122.42121999999999,37.79892 -122.41429,37.79984 -122.40905,37.79972 -122.40738999999999,37.79937 -122.40653999999999,37.79795 -122.40223999999999,37.79841 -122.40206,37.79717 -122.40326,37.79523 -122.40373000000001,37.797290000000004 -122.4059,37.7973 -122.40812,37.7988 -122.4091,37.79952 -122.41215,37.80007 -122.41377,37.79802 -122.41363,37.79739 -122.4135,37.796859999999995 -122.41438000000001,37.79596 -122.41838,37.79838 -122.42726,37.7972 -122.43538000000001,37.7964 -122.43588000000001,37.79871 -122.436,37.79988 -122.43236999999999,37.80035 -122.42945,37.80055 -122.42926999999999,37.7979 -122.43186000000001,37.79756 -122.4329,37.79743 -122.43557,37.797270000000005 -122.4363,37.79977 -122.44238,37.80003 -122.44256000000001,37.79933 -122.44261999999999,37.79939 -122.44261000000002,37.799409999999995 -122.44253,37.79927 -122.43592,37.79992 -122.43027,37.80065 -122.42806999999999,37.80283 -122.42341,37.80408 -122.42043000000001,37.8067 -122.41696,37.807140000000004 -122.4136,37.80725 -122.41346000000001,37.80696 -122.41586000000001,37.80535 -122.42153,37.80461 -122.42596,37.799890000000005 -122.42465,37.79359 -122.42313999999999,37.78613 -122.42622,37.78512 -122.43305,37.784690000000005 -122.43319,37.78532 -122.43368999999998,37.78812 -122.43445,37.79172 -122.43361999999999,37.79258 -122.43348,37.792590000000004 -122.43285,37.791940000000004 -122.43298,37.79187 -122.43276000000002,37.79201 -122.43271000000001,37.79181 -122.43383999999999,37.78913 -122.43567,37.788509999999995 -122.43567,37.78848 -122.43563999999999,37.78855 -122.43567,37.788509999999995 -122.4358,37.79017 -122.43462,37.792609999999996 -122.43494,37.79457 -122.43553,37.797090000000004 -122.43705,37.79965 -122.43783,37.80007 -122.44126000000001,37.80018 -122.44256999999999,37.79878 -122.44221,37.79679 -122.44148,37.793459999999996 -122.43786999999999,37.7921 -122.43225,37.7928 -122.42658,37.79361 -122.42426999999999,37.79385 -122.42281000000001,37.79269 -122.42261,37.791740000000004 -122.42261,37.7916 -122.4224,37.79116 -122.42196000000001,37.790209999999995 -122.42158,37.78685 -122.42003000000001,37.78709 -122.42003999999999,37.787240000000004 -122.41925,37.78792 -122.42005,37.78687 -122.42029,37.78598 -122.41264,37.78694 -122.40891,37.78541 -122.40688999999999,37.78301 -122.39853000000001,37.78164 -122.39815,37.78192 -122.39718,37.78272 -122.40058,37.7825 -122.40258999999999,37.78095 -122.40876999999999,37.775999999999996 -122.41198,37.7735 -122.41512,37.77073 -122.41542,37.76668 -122.41521000000002,37.765370000000004 -122.40678,37.765840000000004 -122.40605,37.7685 -122.40573,37.77135 -122.40953999999999,37.77458 -122.41135,37.77639 -122.41121000000001,37.7765 -122.4106,37.776379999999996 -122.40722,37.776340000000005 -122.40468,37.77417 -122.40368000000001,37.772690000000004 -122.40777,37.76917 -122.40683,37.76749 -122.40671999999999,37.767540000000004 -122.40647,37.76594 -122.40048,37.76495 -122.39764,37.76512 -122.39685,37.76517 -122.39573999999999,37.76428 -122.39568,37.76413 -122.39578,37.76421 -122.3957,37.764109999999995 -122.39506999999999,37.7614 -122.39488,37.7654 -122.39565,37.76688 -122.39968,37.7702 -122.4017,37.7717 -122.4055,37.77138 -122.40829,37.773559999999996 -122.40858,37.77381 -122.41088,37.775659999999995 -122.41098000000001,37.77574 -122.4116,37.77623 -122.41516000000001,37.779790000000006 -122.41564,37.7824 -122.41056,37.78325 -122.40903,37.78352 -122.40947,37.78435 -122.41031000000001,37.78335 -122.40888000000001,37.785379999999996 -122.40711999999999,37.783429999999996 -122.40706999999999,37.78347 -122.40445,37.78516 -122.40462,37.78503 -122.40453000000001,37.785090000000004 -122.40648999999999,37.78519 -122.41136999999999,37.78137 -122.41792,37.77625 -122.42098,37.77367 -122.42171,37.77313 -122.42251999999999,37.771409999999996 -122.42215,37.76802 -122.42201000000001,37.76664 -122.42192,37.7653 -122.42154,37.76145 -122.41989,37.7602 -122.41883,37.75593 -122.41856000000001,37.75404 -122.41506000000001,37.751740000000005 -122.41518,37.75192 -122.41826999999999,37.75226 -122.42518000000001,37.751090000000005 -122.42571000000001,37.75679 -122.42653,37.76085 -122.42872,37.76462 -122.42889,37.76704 -122.42621000000001,37.764720000000004 -122.42138999999999,37.76489 -122.42047,37.76485 -122.4204,37.765 -122.42027,37.77029 -122.41852,37.773309999999995 -122.41581000000001,37.77543 -122.41502,37.77968 -122.41261000000002,37.78082 -122.41241000000001,37.78058 -122.41073,37.781240000000004 -122.41103999999999,37.78441 -122.41063,37.784209999999995 -122.41283,37.785270000000004 -122.41292,37.78529 -122.41292,37.78535 -122.41368,37.78913 -122.41371000000001,37.78935 -122.41422,37.79176 -122.41488000000001,37.79501 -122.41578999999999,37.79775 -122.417,37.79746 -122.41691999999999,37.797059999999995 -122.41608000000001,37.79258 -122.41516000000001,37.788140000000006 -122.41429,37.78382 -122.41269,37.78069 -122.4124,37.78273 -122.41341000000001,37.78779 -122.41389,37.790729999999996 -122.41076000000001,37.79201 -122.4105,37.79173 -122.41058000000001,37.79168 -122.41183999999998,37.79183 -122.41588999999999,37.791109999999996 -122.42112,37.79057 -122.42326000000001,37.78595 -122.4219,37.77975 -122.42085,37.77485 -122.42296,37.77234 -122.42453,37.7687 -122.42388999999999,37.76209 -122.42315,37.7552 -122.42282,37.751459999999994 -122.42338000000001,37.75029 -122.42301,37.75168 -122.42313999999999,37.7536 -122.42345,37.756370000000004 -122.42369,37.758759999999995 -122.42388999999999,37.76084 -122.42416000000001,37.7644 -122.42397,37.76484 -122.4247,37.76641 -122.42898999999998,37.76764 -122.42889,37.76563 -122.42893000000001,37.767520000000005 -122.42487,37.7709 -122.42187,37.77322 -122.41985,37.77468 -122.41377,37.77944 -122.40785,37.77929 -122.40026,37.78478 -122.39125,37.78007 -122.39275,37.7813 -122.3967,37.77848 -122.40221000000001,37.78267 -122.40431000000001,37.78437 -122.40728,37.78465 -122.40961000000001,37.78549 -122.4068,37.78767 -122.40733999999999,37.78925 -122.40733,37.78933 -122.40902,37.79018 -122.41207,37.789770000000004 -122.41638,37.78929 -122.41886000000001,37.78889 -122.42204,37.7885 -122.42286999999999,37.78441 -122.4216,37.77828 -122.4208,37.77394 -122.42497,37.770579999999995 -122.42652,37.76619 -122.42598000000001,37.762609999999995 -122.42595,37.76307 -122.42408999999999,37.76363 -122.42556,37.76632 -122.42618999999999,37.76468 -122.42374,37.76481 -122.42183999999999,37.76402 -122.41961,37.76337 -122.41938999999999,37.76161 -122.4189,37.75693 -122.41858,37.75343 -122.41805,37.74825 -122.40828,37.74839 -122.39613,37.74982 -122.39508000000001,37.7513 -122.39508000000001,37.75127 -122.39475,37.751329999999996 -122.39466999999999,37.75152 -122.39466999999999,37.751540000000006 -122.39466000000002,37.75155 -122.39463,37.751540000000006 -122.39393999999999,37.75203 -122.39477,37.751490000000004 -122.39475,37.75157 -122.39476,37.751529999999995 -122.39532,37.75138 -122.3953,37.7514 -122.39345,37.75134 -122.39268,37.75241 -122.3925,37.75605 -122.39735,37.7689 -122.39424,37.776540000000004 -122.39782,37.7794 -122.40146000000001,37.78213 -122.40154,37.78218 -122.40153000000001,37.78201 -122.40151000000002,37.78203 -122.40166,37.78233 -122.40337,37.783840000000005 -122.40352,37.78365 -122.40563999999999,37.78235 -122.40484,37.781729999999996 -122.40321999999999,37.78183 -122.40243000000001,37.78351 -122.4005,37.78513 -122.40035,37.78524 -122.39846999999999,37.78714 -122.39771,37.78901 -122.39738999999999,37.79015 -122.39785,37.79018 -122.39796000000001,37.79034 -122.39801999999999,37.791090000000004 -122.39899,37.792609999999996 -122.40141000000001,37.79288 -122.40175,37.792809999999996 -122.40296000000001,37.79472 -122.40383999999999,37.79588 -122.40728,37.79781 -122.41766000000001,37.79661 -122.42371000000001,37.79675 -122.42573,37.798320000000004 -122.4299,37.79782 -122.4305,37.79752 -122.42733999999999,37.79808 -122.43035,37.79867 -122.42878,37.79804 -122.42849,37.79801 -122.42585,37.798320000000004 -122.4246,37.79306 -122.42399999999999,37.79 -122.42173999999999,37.78957 -122.41486,37.79034 -122.40887,37.79104 -122.40883999999998,37.79108 -122.40802,37.79118 -122.40393,37.79074 -122.4034,37.7883 -122.40187,37.78603 -122.40118999999999,37.78609 -122.40015,37.785309999999996 -122.39595,37.78872 -122.39451000000001,37.79007 -122.39736,37.79294 -122.39648000000001,37.7937 -122.39645,37.794470000000004 -122.39618,37.794470000000004 -122.39608,37.7943 -122.3979,37.79327 -122.4015,37.79282 -122.40416,37.79238 -122.40368000000001,37.789159999999995 -122.40581,37.78836 -122.40776000000001,37.78843 -122.41425,37.78752 -122.41795,37.78713 -122.41955,37.78693 -122.42135,37.78591 -122.42098999999999,37.78438 -122.41998000000001,37.78396 -122.4165,37.7844 -122.41632,37.78557 -122.41678999999999,37.7876 -122.41698999999998,37.79 -122.41018999999999,37.79087 -122.4085,37.791140000000006 -122.40381000000001,37.79195 -122.40231000000001,37.79187 -122.39782,37.792590000000004 -122.39778000000001,37.79388 -122.39651,37.794540000000005 -122.39652,37.79452 -122.39658999999999,37.79449 -122.39655,37.79465 -122.39653,37.79445 -122.3965,37.79428 -122.39648000000001,37.79445 -122.39763,37.79368 -122.39728999999998,37.79415 -122.39692,37.79412 -122.39661000000001,37.79383 -122.39673,37.79376 -122.40217,37.79271 -122.40463000000001,37.79226 -122.40795,37.79222 -122.4126,37.7916 -122.41616,37.791140000000006 -122.4203,37.79059 -122.42201999999999,37.789629999999995 -122.42206999999999,37.789590000000004 -122.42154,37.786809999999996 -122.42096000000001,37.784240000000004 -122.42045,37.78164 -122.42003999999999,37.77953 -122.41986999999999,37.77883 -122.41927,37.7763 -122.41928,37.77556 -122.41838,37.7727 -122.4154,37.77112 -122.41288,37.77084 -122.41296000000001,37.770959999999995 -122.41356,37.77153 -122.41283999999999,37.77036 -122.41326000000001,37.76875 -122.41295,37.76871 -122.41323,37.77009 -122.41516999999999,37.77271 -122.41415,37.77421 -122.41136999999999,37.77639 -122.40700000000001,37.77989 -122.4048,37.78179 -122.40046000000001,37.785090000000004 -122.39788999999999,37.787040000000005 -122.39618,37.79038 -122.39761999999999,37.79351 -122.39658,37.79363 -122.39668,37.7948 -122.39719,37.79504 -122.39672,37.794740000000004 -122.3963,37.7949 -122.39758,37.79443 -122.39759,37.79423 -122.39755,37.79418 -122.39733000000001,37.794140000000006 -122.39724,37.794129999999996 -122.39728999999998,37.794109999999996 -122.39933,37.793620000000004 -122.40236000000002,37.793040000000005 -122.40423999999999,37.79238 -122.40369,37.78844 -122.40266000000001,37.78685 -122.3972,37.78243 -122.39466000000002,37.78038 -122.39185,37.77787 -122.39477,37.77555 -122.39527,37.7742 -122.39523999999999,37.774229999999996 -122.39357,37.77563 -122.39698999999999,37.77867 -122.40281999999999,37.78351 -122.40353999999999,37.78394 -122.40653,37.78625 -122.40693999999999,37.78653 -122.40977,37.78613 -122.41251000000001,37.78586 -122.41713999999999,37.78537 -122.42138999999999,37.78478 -122.42298999999998,37.78456 -122.43141999999999,37.784490000000005 -122.43494,37.78403 -122.44108,37.78305 -122.45101000000001,37.78198 -122.45726,37.781290000000006 -122.46132,37.78111 -122.46226999999999,37.78302 -122.46443000000001,37.78499 -122.46438,37.78505 -122.46143000000001,37.78601 -122.45913999999999,37.785990000000005 -122.45765,37.785940000000004 -122.45465,37.78631 -122.45278,37.786559999999994 -122.44689,37.78725 -122.44599,37.78327 -122.44357,37.782920000000004 -122.44032,37.78331 -122.43443,37.7842 -122.43108000000001,37.784040000000005 -122.43037,37.78062 -122.43008999999999,37.77962 -122.42665,37.777390000000004 -122.42468000000001,37.77686 -122.42261,37.776990000000005 -122.42093,37.77489 -122.42081999999999,37.77442 -122.42256,37.77256 -122.42228,37.76907 -122.42185,37.764829999999996 -122.42155,37.76164 -122.42136,37.75995 -122.42116999999999,37.757690000000004 -122.42107,37.75655 -122.4209,37.75472 -122.41951999999999,37.75222 -122.41821999999999,37.750029999999995 -122.41657,37.74827 -122.41366000000001,37.74808 -122.41425,37.746809999999996 -122.41488999999999,37.74678 -122.41363999999999,37.74733 -122.41377,37.748909999999995 -122.41431999999999,37.75427 -122.41478000000001,37.75906 -122.41503999999999,37.762170000000005 -122.41521999999999,37.76402 -122.41566999999999,37.769529999999996 -122.41428,37.77415 -122.41171999999999,37.77616 -122.40709,37.77986 -122.40271000000001,37.783359999999995 -122.40033000000001,37.7851 -122.39912,37.78655 -122.40093,37.78819 -122.40194,37.78931 -122.40239,37.79007 -122.40208,37.78987 -122.40196999999999,37.78986 -122.40267,37.79205 -122.40377,37.79231 -122.4042,37.794470000000004 -122.40543999999998,37.79078 -122.40583000000001,37.790890000000005 -122.40581999999999,37.79088 -122.4056,37.79085 -122.40579,37.79103 -122.40653,37.79202 -122.40716,37.792840000000005 -122.40552,37.79083 -122.40548000000001,37.79072 -122.40547,37.79067 -122.40541,37.7906 -122.40513,37.79056 -122.4054,37.79061 -122.4052,37.789770000000004 -122.40346000000001,37.789320000000004 -122.40348999999999,37.78739 -122.40171000000001,37.78606 -122.39973,37.784440000000004 -122.39598000000001,37.781459999999996 -122.39856,37.7796 -122.40652,37.77333 -122.40621000000002,37.76092 -122.40421,37.74767 -122.40624,37.734429999999996 -122.40042,37.72189 -122.39506000000002,37.70922 -122.39206999999999,37.69597 -122.38892,37.68237 -122.39306,37.669290000000004 -122.4048,37.6593 -122.4062,37.64569 -122.40263,37.63262 -122.3991,37.619170000000004 -122.38865,37.61593 -122.38773,37.61578 -122.38815,37.6157 -122.3886,37.61555 -122.39018,37.61522 -122.39083000000001,37.6153 -122.38752,37.61585 -122.38821000000002,37.61566 -122.38864,37.615590000000005 -122.39366000000001,37.61387 -122.38713999999999,37.61772 -122.3848,37.61743 -122.39028,37.61506 -122.39881000000001,37.6163 -122.40299999999999,37.62942 -122.40621999999999,37.64255 -122.40656000000001,37.65625 -122.39568999999999,37.6668 -122.38843,37.67883 -122.39135,37.69192 -122.39438999999999,37.70537 -122.39941999999999,37.718270000000004 -122.40406000000002,37.73137 -122.39643999999998,37.74353 -122.39268999999999,37.75248 -122.39312,37.7573 -122.39615,37.75858 -122.39608,37.75864 -122.39608,37.75869 -122.3961,37.75823 -122.39643999999998,37.76157 -122.39655,37.762859999999996 -122.39352,37.76413 -122.39228999999999,37.76161 -122.39046,37.75077 -122.39276000000001,37.74994 -122.39533999999999,37.74991 -122.39464,37.75144 -122.39506000000002,37.75136 -122.39545,37.75132 -122.3954,37.75137 -122.3954,37.75141 -122.39346,37.7513 -122.39272,37.752390000000005 -122.39273,37.76182 -122.40026999999999,37.77391 -122.40048,37.775259999999996 -122.40055,37.77798 -122.40363,37.78038 -122.40663,37.78295 -122.40961999999999,37.78565 -122.41031000000001,37.78889 -122.41088,37.78995 -122.412,37.78968 -122.40906000000001,37.789229999999996 -122.40455,37.789120000000004 -122.40562,37.78903 -122.40553999999999,37.78898 -122.40751999999999,37.78833 -122.41372,37.78764 -122.41708,37.7887 -122.4172,37.78994 -122.41767,37.791709999999995 -122.41798,37.79311 -122.41845,37.79588 -122.41946999999999,37.801 -122.41938,37.80108 -122.41913000000001,37.79976 -122.41808,37.79937 -122.4166,37.79958 -122.41507,37.79977 -122.41298,37.80002 -122.41017,37.80039 -122.40966999999999,37.8 -122.40867,37.7993 -122.40608999999999,37.79802 -122.40445,37.79817 -122.40111,37.79895 -122.40313,37.80267 -122.40313,37.80272 -122.40263,37.80032 -122.40177,37.79583 -122.4014,37.79394 -122.39908,37.79419 -122.39948999999999,37.793209999999995 -122.39833999999999,37.79187 -122.39755,37.79215 -122.39755,37.7934 -122.3968,37.79477 -122.39832,37.79704 -122.40033999999999,37.79873 -122.40182,37.80238 -122.40201,37.803340000000006 -122.40257,37.8041 -122.4026,37.80413 -122.40468,37.80485 -122.40466,37.80487 -122.40298,37.80495 -122.39945,37.80147 -122.39711000000001,37.7988 -122.39453999999999,37.79596 -122.3923,37.793690000000005 -122.38781999999999,37.785759999999996 -122.38861000000001,37.78182 -122.38987,37.781079999999996 -122.39273999999999,37.77857 -122.39533999999999,37.77669 -122.39546999999999,37.77666 -122.39544,37.77664 -122.39573,37.77643 -122.39759,37.77503 -122.40195,37.77158 -122.40405,37.77009 -122.40508999999999,37.77095 -122.40826000000001,37.77352 -122.40973999999999,37.77469 -122.41185,37.7765 -122.41368,37.77792 -122.41487,37.77903 -122.41545,37.781 -122.41627,37.78541 -122.4168,37.78843 -122.41726000000001,37.79013 -122.41641000000001,37.79117 -122.41655,37.79116 -122.41456000000001,37.7914 -122.41394,37.79144 -122.41208999999999,37.789629999999995 -122.41056999999999,37.788990000000005 -122.40568,37.78941 -122.40513,37.788090000000004 -122.40299999999999,37.78694 -122.39908999999999,37.7839 -122.39447,37.78029 -122.39308,37.77872 -122.39506999999999,37.776959999999995 -122.39963,37.77345 -122.40368000000001,37.770179999999996 -122.4017,37.76627 -122.40168,37.76572 -122.40151999999999,37.764340000000004 -122.39943000000001,37.76372 -122.39504,37.76396 -122.39251999999999,37.76338 -122.39056000000001,37.75117 -122.39438,37.751259999999995 -122.39452,37.75135 -122.39453,37.7513 -122.39482,37.75131 -122.39493,37.751290000000004 -122.39395,37.75136 -122.39248,37.74982 -122.39335,37.74649 -122.40405,37.73603 -122.40145,37.72475 -122.39571000000001,37.71185 -122.3927,37.69877 -122.38875,37.68117 -122.39399999999999,37.66839 -122.39493,37.6144 -122.39233,37.61506 -122.38458,37.6154 -122.38546000000001,37.61488 -122.40387,37.63466 -122.38996000000002,37.6853 -122.39296000000002,37.69845 -122.39601,37.71197 -122.4017,37.72456 -122.40785,37.73706 -122.40353999999999,37.75013 -122.40547,37.769020000000005 -122.40037,37.77946 -122.40012,37.7797 -122.40319,37.78342 -122.4038,37.78418 -122.40303,37.78544 -122.3986,37.78351 -122.39713,37.78239 -122.39403,37.77986 -122.39502,37.777120000000004 -122.3985,37.774359999999994 -122.40338,37.769870000000004 -122.40165,37.76554 -122.3979,37.76379 -122.39425,37.76399 -122.39251000000002,37.7635 -122.3907,37.75253 -122.39537,37.74991 -122.39485,37.75142 -122.39392,37.75206 -122.3935,37.7515 -122.39353,37.7515 -122.39348999999999,37.75142 -122.3936,37.75139 -122.39396,37.75136 -122.39508000000001,37.751259999999995 -122.39509,37.75128 -122.3944,37.7516 -122.39428999999998,37.75158 -122.39535,37.75134 -122.39537,37.75136 -122.39541000000001,37.75141 -122.39428000000001,37.75203 -122.39568999999999,37.74977 -122.4037,37.7503 -122.40521000000001,37.763690000000004 -122.41746,37.769659999999995 -122.42403999999999,37.77402 -122.42458,37.77475 -122.42962,37.77417 -122.43238000000001,37.773759999999996 -122.43919,37.77292 -122.44095,37.773709999999994 -122.44116000000001,37.7748 -122.44095,37.774 -122.43359,37.7746 -122.42535,37.77562 -122.41973999999999,37.77765 -122.41644,37.77765 -122.41311,37.77518 -122.40775,37.779309999999995 -122.40253999999999,37.78349 -122.3984,37.78663 -122.39504,37.78435 -122.39283,37.78241 -122.39388999999998,37.7833 -122.39593,37.78519 -122.40173,37.78153 -122.40518,37.77881 -122.40825,37.78053 -122.41032,37.78233 -122.41296000000001,37.781690000000005 -122.4118,37.78125 -122.40996000000001,37.77848 -122.40435,37.78192 -122.4025,37.78349 -122.39652,37.78182 -122.39268999999999,37.77896 -122.39061000000001,37.78069 -122.39237,37.78217 -122.39431,37.78372 -122.39088000000001,37.78094 -122.39152,37.77798 -122.38943,37.77143 -122.38878000000001,37.76491 -122.38869,37.763740000000006 -122.3884,37.76007 -122.38855,37.755359999999996 -122.39262,37.753209999999996 -122.39249,37.751059999999995 -122.39532,37.74992 -122.39528999999999,37.749959999999994 -122.39523999999999,37.7501 -122.39266,37.75267 -122.39299999999999,37.76384 -122.40101999999999,37.7747 -122.40431000000001,37.77738 -122.40576000000001,37.778240000000004 -122.40656000000001,37.775690000000004 -122.40648999999999,37.77561 -122.40602,37.77525 -122.40765,37.77309 -122.41048,37.77539 -122.40946000000001,37.77552 -122.41181,37.77363 -122.41192,37.773540000000004 -122.41257,37.77304 -122.41796000000001,37.777359999999994 -122.4189,37.781929999999996 -122.41991000000002,37.78628 -122.4185,37.78785 -122.41498,37.7881 -122.40836999999999,37.788940000000004 -122.40253999999999,37.78779 -122.39991,37.7888 -122.39795,37.790079999999996 -122.39844,37.792559999999995 -122.39993999999999,37.79333 -122.40302,37.7924 -122.40286,37.79285 -122.39953999999999,37.79459 -122.39676000000001,37.794579999999996 -122.39386,37.79374 -122.39413,37.792359999999995 -122.39258000000001,37.79108 -122.39348000000001,37.79272 -122.39658999999999,37.79315 -122.39846000000001,37.79172 -122.39684,37.79014 -122.39917,37.78767 -122.3981,37.78843 -122.39895,37.78805 -122.40281,37.790040000000005 -122.40247,37.79166 -122.40331,37.7951 -122.40482,37.79661 -122.40716,37.79777 -122.41828999999998,37.796279999999996 -122.42164,37.79588 -122.42153,37.795 -122.42107,37.7931 -122.42108,37.79309 -122.42101000000001,37.792429999999996 -122.42096000000001,37.791290000000004 -122.41885,37.79092 -122.41576,37.79148 -122.41176999999999,37.79172 -122.40916000000001,37.792190000000005 -122.40363,37.79291 -122.40223999999999,37.79737 -122.40225,37.79741 -122.40133999999999,37.7986 -122.40763999999999,37.79776 -122.42026000000001,37.79612 -122.42227,37.795970000000004 -122.42605,37.79656 -122.42578,37.79637 -122.42426,37.7917 -122.4229,37.78474 -122.42159,37.778420000000004 -122.42281000000001,37.77507 -122.42461999999999,37.774879999999996 -122.43252,37.77377 -122.43405,37.7707 -122.43405,37.77074 -122.43406,37.770720000000004 -122.43567,37.77158 -122.44117,37.77078 -122.44493,37.77039 -122.44493,37.77043 -122.44693999999998,37.77 -122.44573999999999,37.767340000000004 -122.44526,37.77025 -122.44066000000001,37.77084 -122.43439,37.77156 -122.43444,37.771609999999995 -122.43791999999999,37.775059999999996 -122.43794,37.775290000000005 -122.43816000000001,37.776270000000004 -122.43914,37.781659999999995 -122.43818,37.7874 -122.42836000000001,37.78867 -122.42357,37.78928 -122.42294,37.79268 -122.42403,37.79844 -122.42171,37.79889 -122.41733,37.799459999999996 -122.41143999999998,37.8002 -122.40899999999999,37.79965 -122.40923000000001,37.79954 -122.41021,37.80037 -122.40765,37.79871 -122.40683999999999,37.798320000000004 -122.40693,37.798140000000004 -122.40697,37.79809 -122.40687,37.798320000000004 -122.40695,37.79811 -122.40699,37.79805 -122.40515,37.796890000000005 -122.40165,37.79547 -122.40574,37.79716 -122.40807,37.798790000000004 -122.40902,37.79939 -122.40946000000001,37.79975 -122.40925,37.80052 -122.40796,37.80258 -122.40795,37.80257 -122.40768999999999,37.8012 -122.40728,37.79947 -122.40515,37.796279999999996 -122.4051,37.7961 -122.4047,37.79441 -122.40268,37.793890000000005 -122.39886000000001,37.79345 -122.40223999999999,37.79294 -122.40316999999999,37.79235 -122.40404,37.79123 -122.40652,37.78861 -122.40893,37.78733 -122.40766,37.78575 -122.40621000000002,37.78608 -122.40671,37.78674 -122.40983999999999,37.78635 -122.41593,37.78546 -122.42018,37.784909999999996 -122.42308,37.78461 -122.42692,37.78505 -122.43496999999999,37.78403 -122.43931,37.783229999999996 -122.43938,37.783 -122.43881,37.780229999999996 -122.43784,37.775 -122.43783,37.77544 -122.43536,37.774359999999994 -122.42803,37.775290000000005 -122.42426,37.77557 -122.41688,37.769729999999996 -122.40513999999999,37.7671 -122.40288999999999,37.75404 -122.4075,37.741240000000005 -122.41702,37.73171 -122.42811,37.7308 -122.43149,37.72853 -122.43146000000002,37.72522 -122.42858999999999,37.725809999999996 -122.43111999999999,37.72698 -122.43141000000001,37.72875 -122.42738999999999,37.73271 -122.43097,37.73363 -122.43578000000001,37.7316 -122.42423000000001,37.73162 -122.41933,37.73229 -122.41481999999999,37.73284 -122.41061,37.734629999999996 -122.40621000000002,37.743590000000005 -122.40636,37.752629999999996 -122.40673999999999,37.75456 -122.4069,37.75452 -122.40848999999999,37.75537 -122.4085,37.75543 -122.40836999999999,37.75607 -122.40716,37.76082 -122.40756,37.76465 -122.41148999999999,37.77175 -122.413,37.77511 -122.40668000000001,37.78001 -122.40161,37.7841 -122.39448999999999,37.7955 -122.39399999999999,37.79626 -122.39452,37.797259999999994 -122.39648000000001,37.79439 -122.39988999999998,37.793040000000005 -122.40307,37.79316 -122.40463999999999,37.79096 -122.40784,37.79017 -122.41063999999999,37.78992 -122.41179,37.78836 -122.41678,37.787040000000005 -122.41641000000001,37.786359999999995 -122.41597,37.78625 -122.41483000000001,37.78631 -122.41796000000001,37.7851 -122.42132,37.78468 -122.42308999999999,37.784490000000005 -122.42491000000001,37.785059999999994 -122.43104,37.78438 -122.43137,37.78399 -122.43207,37.782540000000004 -122.43216000000001,37.78297 -122.43423999999999,37.784079999999996 -122.43956999999999,37.783429999999996 -122.44016,37.784240000000004 -122.4439,37.78346 -122.44389,37.78335 -122.44254,37.784 -122.43965,37.784209999999995 -122.43892,37.78082 -122.43553,37.78038 -122.43553,37.78051 -122.43538999999998,37.77989 -122.43701000000001,37.77921 -122.43446000000002,37.78335 -122.43977,37.783190000000005 -122.44941000000001,37.78217 -122.45778,37.781420000000004 -122.4579,37.783190000000005 -122.45796000000001,37.78344 -122.45342,37.784079999999996 -122.44763,37.78543 -122.43708000000001,37.78754 -122.428,37.78864 -122.42387,37.78918 -122.42002,37.78969 -122.41671000000001,37.79012 -122.41241000000001,37.79108 -122.40932,37.791059999999995 -122.40365,37.791779999999996 -122.40376,37.792809999999996 -122.40675,37.79235 -122.40951000000001,37.79198 -122.41263000000001,37.791509999999995 -122.4135,37.79138 -122.41976000000001,37.79065 -122.42272,37.79054 -122.42432,37.79012 -122.42591000000002,37.79006 -122.43166000000001,37.789159999999995 -122.43525,37.78868 -122.43975,37.7881 -122.44285,37.78774 -122.45035,37.78674 -122.45038000000001,37.78673 -122.45352,37.78687 -122.45535,37.788000000000004 -122.45539,37.78796 -122.45467,37.78629 -122.44658000000001,37.78731 -122.44091999999999,37.78804 -122.43296000000001,37.78903 -122.42748999999999,37.78972 -122.42208000000001,37.79032 -122.42029,37.790659999999995 -122.41643,37.79117 -122.41388,37.7915 -122.41076000000001,37.79188 -122.40893,37.79211 -122.40693,37.7921 -122.40526000000001,37.7933 -122.40246,37.79318 -122.40013,37.79373 -122.40042,37.79551 -122.4013,37.79852 -122.40243000000001,37.798429999999996 -122.40398,37.798190000000005 -122.404,37.798159999999996 -122.40776000000001,37.79773 -122.40998,37.795970000000004 -122.40924,37.7923 -122.40791000000002,37.79126 -122.40562,37.7916 -122.40431000000001,37.79152 -122.4041,37.78918 -122.40352,37.7873 -122.40037,37.787620000000004 -122.39901,37.78873 -122.39945,37.78779 -122.39781,37.78633 -122.39688000000001,37.78572 -122.39962,37.78324 -122.40368000000001,37.78009 -122.40806,37.77665 -122.41026000000001,37.77519 -122.41291000000001,37.77731 -122.41573000000001,37.777840000000005 -122.41616,37.7775 -122.41797,37.77615 -122.42066000000001,37.774029999999996 -122.42237,37.772659999999995 -122.42253000000001,37.77215 -122.42251,37.77148 -122.42231000000001,37.76916 -122.42209,37.76719 -122.419,37.766729999999995 -122.41763,37.7666 -122.41702,37.76025 -122.41731999999999,37.75713 -122.41811000000001,37.75548 -122.41931000000001,37.755390000000006 -122.42303000000001,37.75519 -122.42355,37.75862 -122.42362,37.76164 -122.42168999999998,37.76192 -122.42203,37.764920000000004 -122.42048,37.76668 -122.41972,37.76533 -122.41963999999999,37.76428 -122.41938999999999,37.76163 -122.41923,37.76003 -122.41888999999999,37.75642 -122.41848999999999,37.7519 -122.41826999999999,37.748129999999996 -122.42042,37.74474 -122.42221,37.742 -122.42403,37.738640000000004 -122.42504,37.73505 -122.42555,37.72868 -122.42468000000001,37.72873 -122.42125,37.72804 -122.42326000000001,37.725 -122.42305,37.72429 -122.42936999999999,37.72631 -122.43026,37.72855 -122.42423000000001,37.73682 -122.42353999999999,37.74003 -122.42331000000001,37.74042 -122.42245,37.74168 -122.42088000000001,37.74415 -122.42038000000001,37.74828 -122.42053999999999,37.75002 -122.41832,37.75217 -122.41786,37.75228 -122.41708,37.752320000000005 -122.41385,37.75243 -122.41313999999998,37.75261 -122.41001999999999,37.75282 -122.40677,37.753 -122.40618,37.75155 -122.40393999999999,37.748509999999996 -122.40475,37.7454 -122.40515,37.7327 -122.39975,37.71996 -122.3946,37.707240000000006 -122.39161999999999,37.69404 -122.38861999999999,37.68073 -122.40513,37.65879 -122.4062,37.64523 -122.40266000000001,37.6322 -122.39896999999999,37.6186 -122.38845,37.61612 -122.39236000000001,37.614909999999995 -122.38427,37.61608 -122.38463999999999,37.61534 -122.38466000000001,37.6153 -122.39031999999999,37.68732 -122.39441000000001,37.705420000000004 -122.39948999999999,37.71846 -122.404,37.73121 -122.39653,37.74337 -122.39169,37.75147 -122.39275,37.762409999999996 -122.40035,37.773920000000004 -122.40243000000001,37.775940000000006 -122.40383,37.77704 -122.39981999999999,37.7807 -122.4018,37.78245 -122.40388999999999,37.7847 -122.40123999999999,37.78566 -122.40146000000001,37.78595 -122.3995,37.78334 -122.39953999999999,37.78331 -122.40006000000001,37.7828 -122.40126000000001,37.78213 -122.40247,37.783359999999995 -122.39986,37.785579999999996 -122.39803,37.78699 -122.39721000000002,37.78994 -122.39846999999999,37.7889 -122.39958999999999,37.78785 -122.39816,37.78675 -122.39616000000001,37.78519 -122.39298000000001,37.78263 -122.39079,37.780359999999995 -122.3929,37.77863 -122.39353999999999,37.77831 -122.3905,37.7807 -122.39311000000001,37.786159999999995 -122.39623999999999,37.788709999999995 -122.39918999999999,37.79205 -122.40003999999999,37.7919 -122.40128999999999,37.79269 -122.40231999999999,37.79047 -122.40575,37.79031 -122.40753000000001,37.79018 -122.40773,37.79014 -122.41411000000001,37.7894 -122.41973,37.78875 -122.42021000000001,37.78867 -122.41831,37.78795 -122.41803999999999,37.78794 -122.41968999999999,37.788740000000004 -122.42244,37.78839 -122.42376000000002,37.78823 -122.42849,37.78747 -122.42441000000001,37.787240000000004 -122.42188999999999,37.78759 -122.42208000000001,37.78957 -122.42291999999999,37.79215 -122.42402,37.7908 -122.42381999999999,37.7904 -122.42042,37.79067 -122.41726000000001,37.79104 -122.41063999999999,37.791990000000006 -122.40798999999998,37.791740000000004 -122.40268,37.79225 -122.40056000000001,37.7928 -122.39781,37.79384 -122.39643000000001,37.79448 -122.39647,37.79438 -122.39583,37.79448 -122.3959,37.79446 -122.39607,37.79444 -122.39623,37.79437 -122.396,37.79445 -122.39588,37.79443 -122.396,37.79439 -122.39638000000001,37.79428 -122.39606,37.79438 -122.39803,37.793209999999995 -122.4021,37.79302 -122.40421,37.79237 -122.40405,37.79097 -122.40568999999999,37.79047 -122.40785,37.79022 -122.41139,37.78974 -122.41393000000001,37.79054 -122.41453999999999,37.79162 -122.41425,37.79273 -122.41712,37.79384 -122.41808999999999,37.79365 -122.41756000000001,37.79197 -122.41572,37.79218 -122.41183999999998,37.79268 -122.40916000000001,37.791909999999994 -122.41127,37.78988 -122.41198,37.78849 -122.41176999999999,37.787459999999996 -122.41096,37.78427 -122.40736000000001,37.77993 -122.40697,37.77969 -122.40807,37.77665 -122.41032,37.77483 -122.413,37.772729999999996 -122.41515,37.77073 -122.41554,37.76788 -122.41506000000001,37.762859999999996 -122.41451,37.75734 -122.41405,37.752390000000005 -122.41263000000001,37.749390000000005 -122.40903999999999,37.74844 -122.3961,37.74982 -122.39533,37.750659999999996 -122.39457,37.75137 -122.39447,37.75134 -122.39448,37.75135 -122.3949,37.751259999999995 -122.39531000000001,37.7513 -122.39528,37.751329999999996 -122.39526000000001,37.75147 -122.3934,37.75107 -122.3923,37.74986 -122.39401000000001,37.74535 -122.40483,37.73506 -122.40065,37.72275 -122.39525,37.70985 -122.3922,37.6963 -122.4007,37.62356 -122.39968999999999,37.62061 -122.38711,37.617779999999996 -122.38492,37.61528 -122.40476000000001,37.63762 -122.38973,37.674040000000005 -122.39033,37.687459999999994 -122.39408,37.70407 -122.39912,37.7171 -122.40396000000001,37.73017 -122.40659,37.74304 -122.40791000000002,37.748329999999996 -122.41603,37.74816 -122.42026000000001,37.74818 -122.42103999999999,37.748870000000004 -122.42278,37.75078 -122.42335,37.756029999999996 -122.42346,37.75823 -122.42386,37.76155 -122.42499,37.761509999999994 -122.42851999999999,37.76178 -122.4289,37.76211 -122.42889,37.76213 -122.42851,37.76263 -122.42913999999999,37.76728 -122.42993,37.76662 -122.43288000000001,37.76432 -122.43506000000001,37.762570000000004 -122.43718,37.76076 -122.44416000000001,37.75844 -122.44097,37.75607 -122.44355,37.7493 -122.44193999999999,37.74706 -122.44125,37.74511 -122.4447,37.74351 -122.44467,37.74357 -122.44471000000001,37.74358 -122.44466000000001,37.743559999999995 -122.44458999999999,37.74422 -122.44413999999999,37.74665 -122.44503999999999,37.74944 -122.44412,37.748709999999996 -122.44191000000001,37.75655 -122.44382,37.76038 -122.43556000000001,37.76252 -122.43253,37.76484 -122.43068999999998,37.766259999999996 -122.42701000000001,37.7691 -122.42318999999999,37.77212 -122.41876,37.77575 -122.41606999999999,37.7777 -122.41416000000001,37.779270000000004 -122.41266,37.78038 -122.41171000000001,37.78172 -122.41313999999998,37.78739 -122.41372,37.789770000000004 -122.41587,37.79119 -122.41587,37.79122 -122.41756000000001,37.79098 -122.42092,37.79094 -122.42164,37.7923 -122.42233,37.79135 -122.42096000000001,37.79172 -122.42088999999999,37.791909999999994 -122.42363999999999,37.79205 -122.42902,37.79242 -122.43238000000001,37.79651 -122.43513,37.79714 -122.43531000000002,37.7971 -122.43517,37.79544 -122.43446999999999,37.79251 -122.43256000000001,37.79079 -122.43251000000001,37.79072 -122.43248999999999,37.79077 -122.43234,37.78967 -122.43207,37.78875 -122.44586000000001,37.785470000000004 -122.44748,37.78181 -122.44666000000001,37.76079 -122.44809,37.75908 -122.44443000000001,37.75145 -122.44514,37.74942 -122.44416000000001,37.7476 -122.4432,37.75071 -122.44378,37.75808 -122.44662,37.761590000000005 -122.45496999999999,37.7643 -122.45745,37.76375 -122.45768999999999,37.763459999999995 -122.45796000000001,37.76335 -122.45971999999999,37.76295 -122.46231999999999,37.7642 -122.46508999999999,37.76409 -122.46627,37.76239 -122.46378,37.76232 -122.45799,37.76344 -122.45575,37.764109999999995 -122.45291999999999,37.76623 -122.45187,37.769420000000004 -122.44863000000001,37.76984 -122.44541000000001,37.770109999999995 -122.44509,37.7689 -122.44383,37.7657 -122.44072,37.765640000000005 -122.43723,37.76727 -122.43565,37.7674 -122.43569,37.76758 -122.43581,37.7674 -122.43585,37.76736 -122.43578000000001,37.76735 -122.43575,37.76726 -122.43557,37.76737 -122.43563,37.76745 -122.43571000000001,37.76767 -122.43579,37.76877 -122.43878000000001,37.77106 -122.44373,37.77042 -122.44656,37.77006 -122.45071999999999,37.76952 -122.45289,37.766290000000005 -122.45776000000001,37.76356 -122.45788999999999,37.76363 -122.45771,37.76372 -122.46292,37.76419 -122.46479,37.7641 -122.46625,37.76356 -122.46600000000001,37.7622 -122.46361999999999,37.76231 -122.45897,37.76315 -122.45738,37.763690000000004 -122.45492,37.76425 -122.45284,37.76605 -122.45408,37.77158 -122.45071999999999,37.772420000000004 -122.44625,37.77433 -122.4477,37.78192 -122.4473,37.782990000000005 -122.4474,37.78275 -122.4474,37.78295 -122.44743999999999,37.78202 -122.43881999999999,37.7796 -122.43853,37.7785 -122.43739,37.77302 -122.43699,37.77105 -122.43573,37.76842 -122.43625,37.769709999999996 -122.43763999999999,37.77332 -122.43795,37.7755 -122.43881,37.77957 -122.43951000000001,37.78362 -122.43956999999999,37.7836 -122.44008000000001,37.784620000000004 -122.44031000000001,37.78706 -122.44073,37.789390000000004 -122.44136999999999,37.792590000000004 -122.44193999999999,37.7954 -122.44108999999999,37.80022 -122.43361000000002,37.80118 -122.42505,37.80335 -122.42288,37.8054 -122.41543999999999,37.80622 -122.4153,37.80585 -122.42075,37.80471 -122.42541999999999,37.8041 -122.42634,37.80195 -122.42615,37.80092 -122.42517,37.79614 -122.42399999999999,37.79016 -122.42316000000001,37.785709999999995 -122.42249,37.7833 -122.42493,37.77473 -122.42647,37.77454 -122.43515,37.77345 -122.43758999999999,37.77369 -122.43838000000001,37.77775 -122.43863999999999,37.778659999999995 -122.43916999999999,37.78151 -122.43968000000001,37.78398 -122.43996000000001,37.78557 -122.44068999999999,37.78921 -122.44113999999999,37.79155 -122.44176000000002,37.79463 -122.44254,37.798320000000004 -122.43672,37.79979 -122.43664,37.80272 -122.43361999999999,37.80431 -122.43162,37.80311 -122.4283,37.80281 -122.42778999999999,37.80076 -122.42827,37.79804 -122.43071,37.79768 -122.43557,37.79692 -122.43453000000001,37.79225 -122.43252,37.79059 -122.43243000000001,37.79064 -122.43234,37.78982 -122.43243999999999,37.78911 -122.44031000000001,37.787859999999995 -122.44044,37.78617 -122.44776999999999,37.785059999999994 -122.44935,37.78467 -122.45385,37.784040000000005 -122.4574,37.78587 -122.45743,37.78591 -122.45745,37.78588 -122.45753,37.78591 -122.45382,37.78734 -122.44971000000001,37.78788 -122.44684,37.788270000000004 -122.44227,37.78882 -122.43465,37.789770000000004 -122.43203000000001,37.789120000000004 -122.43308,37.7871 -122.43855,37.78637 -122.43995,37.78601 -122.43956999999999,37.78409 -122.43936000000001,37.78297 -122.43905,37.78139 -122.43874,37.778659999999995 -122.44168,37.7776 -122.44078999999999,37.777570000000004 -122.44078,37.777640000000005 -122.44076000000001,37.7776 -122.4388,37.7794 -122.43919,37.78165 -122.4401,37.78597 -122.44031000000001,37.78723 -122.44091,37.79043 -122.44143000000001,37.792770000000004 -122.44275,37.79927 -122.44013999999999,37.80036 -122.43623000000001,37.80083 -122.43446999999999,37.80107 -122.42926000000001,37.801790000000004 -122.42563,37.80209 -122.42521,37.8042 -122.42366000000001,37.80523 -122.4234,37.80401 -122.4233,37.80343 -122.42471,37.80209 -122.42816,37.80187 -122.43386000000001,37.801140000000004 -122.43643,37.8008 -122.43853,37.800540000000005 -122.44138999999998,37.8002 -122.4425,37.79821 -122.4426,37.7962 -122.44711000000001,37.79864 -122.44535,37.79873 -122.44358000000001,37.79894 -122.43921999999999,37.79952 -122.42572,37.79899 -122.42511,37.79588 -122.42305,37.79586 -122.42289,37.79586 -122.4199,37.79623 -122.40643,37.79793 -122.40077,37.795790000000004 -122.39778000000001,37.796409999999995 -122.39805,37.79557 -122.39618999999999,37.7935 -122.39662,37.7936 -122.40083999999999,37.792590000000004 -122.40279,37.79312 -122.40305,37.79183 -122.40642,37.7925 -122.40941000000001,37.792 -122.41462,37.79133 -122.41738000000001,37.79097 -122.41836,37.79085 -122.42201999999999,37.79033 -122.42578999999999,37.78993 -122.43073999999999,37.78927 -122.43253999999999,37.79059 -122.43417,37.790259999999996 -122.43392,37.78985 -122.43391000000001,37.78986 -122.43097,37.790259999999996 -122.42743999999999,37.7907 -122.42546000000002,37.79091 -122.42346,37.79125 -122.42039,37.79159 -122.41521000000002,37.79226 -122.41082,37.79278 -122.40578000000001,37.79335 -122.4015,37.794000000000004 -122.39911000000001,37.79438 -122.3964,37.79444 -122.397,37.79465 -122.39708999999999,37.79463 -122.3971,37.79417 -122.39846000000001,37.79231 -122.39742,37.790729999999996 -122.39798,37.78941 -122.39958,37.787890000000004 -122.39943000000001,37.78767 -122.39647,37.78541 -122.39074,37.78086 -122.39092,37.78027 -122.39106000000001,37.78015 -122.39187,37.77953 -122.39153,37.77783 -122.39008999999999,37.77668 -122.38935,37.77037 -122.38893999999999,37.7664 -122.3915,37.76287 -122.39228999999999,37.760259999999995 -122.39025,37.76037 -122.3884,37.75942 -122.3878,37.75347 -122.38767,37.75262 -122.38786999999999,37.751529999999995 -122.38831,37.7528 -122.39809,37.77258 -122.39075,37.77913 -122.39668999999999,37.793490000000006 -122.3971,37.7938 -122.3972,37.79388 -122.39613,37.7935 -122.39593,37.79165 -122.39923999999999,37.788340000000005 -122.40151999999999,37.78666 -122.40462,37.784259999999996 -122.40602,37.78311 -122.40833,37.781259999999996 -122.41188999999999,37.77845 -122.4167,37.775929999999995 -122.42108999999999,37.77598 -122.42296,37.775009999999995 -122.42499,37.77474 -122.42661000000001,37.77455 -122.43171000000001,37.77389 -122.43463999999999,37.77347 -122.43916000000002,37.772940000000006 -122.44592,37.77205 -122.45083000000001,37.771440000000005 -122.45091000000001,37.76952 -122.45335,37.768390000000004 -122.45281000000001,37.7657 -122.4576,37.76473 -122.45971999999999,37.76432 -122.46337,37.76415 -122.46627,37.763909999999996 -122.45759,37.76355 -122.45494,37.76425 -122.45237,37.764540000000004 -122.43611000000001,37.76245 -122.43258,37.76427 -122.43235,37.76429 -122.42631000000002,37.76469 -122.42311000000001,37.764829999999996 -122.41778000000001,37.765229999999995 -122.41718999999999,37.76527 -122.41451,37.76538 -122.41148000000001,37.76566 -122.41241000000001,37.765209999999996 -122.4114,37.75712 -122.41096,37.7523 -122.41056999999999,37.74868 -122.41041000000001,37.74451 -122.41103999999999,37.74149 -122.41273000000001,37.740159999999996 -122.41272,37.74013 -122.41253,37.73937 -122.41076000000001,37.739709999999995 -122.41108,37.73597 -122.40696000000001,37.73621 -122.40342,37.72958 -122.39902,37.71738 -122.39396,37.70456 -122.39092,37.69108 -122.38826,37.677890000000005 -122.39613,37.66616 -122.40658,37.65571 -122.40595,37.642520000000005 -122.40191000000002,37.62963 -122.39723000000001,37.616820000000004 -122.39031000000001,37.614670000000004 -122.39086999999999,37.61551 -122.38426000000001,37.61615 -122.38601000000001,37.614670000000004 -122.38603,37.61488 -122.38598999999999,37.61466 -122.40347,37.632059999999996 -122.40647,37.645309999999995 -122.4054,37.65853 -122.39414,37.668409999999994 -122.39191000000001,37.694359999999996 -122.39487,37.70758 -122.40005,37.72038 -122.40556000000001,37.73305 -122.40467,37.74677 -122.40648,37.76023 -122.40568999999999,37.76778 -122.4176,37.769729999999996 -122.42371999999999,37.77264 -122.42397,37.77587 -122.42296999999999,37.77684 -122.42435,37.78305 -122.42532,37.788340000000005 -122.42636,37.79383 -122.42683999999998,37.79588 -122.42741000000001,37.7988 -122.43253,37.79842 -122.4362,37.79788 -122.43618000000001,37.79788 -122.4362,37.79787 -122.4362,37.797959999999996 -122.43619,37.79786 -122.43619,37.797779999999996 -122.43578000000001,37.79829 -122.43257,37.80039 -122.43213999999999,37.8004 -122.42782,37.80062 -122.42706000000001,37.79822 -122.42376000000002,37.79862 -122.42331000000001,37.80247 -122.42633000000001,37.8021 -122.42925,37.80172 -122.4337,37.80115 -122.43673999999999,37.80076 -122.44008000000001,37.800329999999995 -122.44286000000001,37.7994 -122.44291000000001,37.79943 -122.44301000000002,37.79947 -122.44296000000001,37.79945 -122.44093000000001,37.79931 -122.42783,37.800979999999996 -122.42451000000001,37.80108 -122.42413,37.79958 -122.42331999999999,37.79571 -122.4233,37.79566 -122.42278,37.7928 -122.42216,37.79036 -122.42183999999999,37.78825 -122.42011000000001,37.78589 -122.41623,37.78632 -122.41156000000001,37.78698 -122.41128,37.78654 -122.41125,37.78658 -122.41143000000001,37.78651 -122.41066000000001,37.78303 -122.40958,37.781690000000005 -122.40742,37.77708 -122.40648999999999,37.77319 -122.40614,37.759840000000004 -122.40448,37.74666 -122.40776000000001,37.7359 -122.40485,37.73067 -122.40205,37.72398 -122.40078999999999,37.717729999999996 -122.40505,37.71877 -122.40501,37.7206 -122.40196,37.72392 -122.40061999999999,37.7236 -122.39308,37.721070000000005 -122.39589,37.72246 -122.40087,37.7236 -122.40106000000002,37.72157 -122.40311000000001,37.72643 -122.40378,37.73113 -122.40111999999999,37.72374 -122.39551000000002,37.71103 -122.39271000000001,37.698679999999996 -122.38978,37.68565 -122.39072,37.67219 -122.40656000000001,37.64912 -122.40351000000001,37.63582 -122.40019,37.62243 -122.39138,37.615 -122.39138999999999,37.61486 -122.38655,37.6178 -122.38431000000001,37.61577 -122.38485,37.61515 -122.40101999999999,37.622690000000006 -122.40416,37.63589 -122.3908,37.67232 -122.38996999999999,37.68567 -122.39295,37.69892 -122.39596999999999,37.71208 -122.40173999999999,37.724790000000006 -122.40794,37.7375 -122.40618,37.74883 -122.41548,37.74817 -122.41848,37.74808 -122.42268,37.74791 -122.42788999999999,37.747659999999996 -122.43133999999999,37.74608 -122.43123999999999,37.74599 -122.43167,37.748909999999995 -122.43387,37.74902 -122.43273,37.75143 -122.43021999999999,37.75156 -122.42733999999999,37.75046 -122.42657,37.74772 -122.42158,37.748129999999996 -122.41533999999999,37.74828 -122.40855,37.74839 -122.40359,37.74951 -122.39568999999999,37.74985 -122.39513999999998,37.75134 -122.39504,37.75141 -122.39523999999999,37.75176 -122.39498,37.75188 -122.39497,37.7519 -122.39498999999999,37.7519 -122.39496000000001,37.75189 -122.39496000000001,37.75189 -122.39498999999999,37.75189 -122.39502,37.75186 -122.39525,37.75158 -122.39523,37.75165 -122.39346,37.75144 -122.40223,37.74943 -122.41335,37.74825 -122.41812,37.74853 -122.4197,37.75219 -122.42713,37.75173 -122.43243999999999,37.751459999999994 -122.43621,37.75043 -122.44108,37.74861 -122.44192,37.74522 -122.44093000000001,37.74525 -122.44091,37.74523 -122.4439,37.74686 -122.43641000000001,37.7488 -122.42952,37.74917 -122.42513999999998,37.75065 -122.42456999999999,37.751909999999995 -122.41941000000001,37.75227 -122.41881000000001,37.755109999999995 -122.4191,37.75878 -122.41944,37.76202 -122.41996,37.7634 -122.41988,37.76511 -122.41998999999998,37.76765 -122.42035,37.76862 -122.42035,37.76855 -122.42028,37.76856 -122.41921,37.772690000000004 -122.41961,37.77641 -122.41793,37.77747 -122.41205,37.78087 -122.41003,37.78244 -122.40786000000001,37.78434 -122.40255,37.78666 -122.40676,37.78559 -122.40855,37.78475 -122.40926999999999,37.786120000000004 -122.40881999999999,37.78837 -122.40678,37.78952 -122.40746000000001,37.79038 -122.40743,37.790409999999994 -122.40879,37.79022 -122.41474,37.78946 -122.41445,37.78478 -122.41243,37.78083 -122.41008000000001,37.77912 -122.40997,37.77919 -122.40857,37.78025 -122.4123,37.78203 -122.41281000000001,37.784 -122.41338,37.78775 -122.41009,37.78908 -122.40857,37.78889 -122.40866000000001,37.78882 -122.4086,37.78883 -122.40868999999999,37.78886 -122.40862,37.788909999999994 -122.40902,37.78877 -122.40875,37.78903 -122.40843000000001,37.78824 -122.40847,37.78532 -122.4077,37.784729999999996 -122.40704,37.78541 -122.4082,37.78666 -122.40723,37.78911 -122.40863999999999,37.789840000000005 -122.41028999999999,37.79007 -122.41126000000001,37.78966 -122.411,37.78535 -122.40826000000001,37.784929999999996 -122.40746999999999,37.78436 -122.40513999999999,37.78202 -122.40585,37.782340000000005 -122.40486999999999,37.77908 -122.40226000000001,37.7786 -122.40234,37.77876 -122.40198999999998,37.78244 -122.40643999999999,37.785990000000005 -122.40711,37.78869 -122.40767,37.79437 -122.40867,37.79775 -122.40883000000001,37.79954 -122.40778,37.799659999999996 -122.40801,37.79873 -122.41048,37.80042 -122.413,37.80187 -122.41476999999999,37.802640000000004 -122.41701,37.80498 -122.41994,37.8048 -122.425,37.8039 -122.42491000000001,37.80121 -122.43253,37.80024 -122.43248,37.79745 -122.43555,37.79721 -122.43615,37.80007 -122.43829,37.800540000000005 -122.43928999999999,37.7992 -122.43831000000002,37.79773 -122.43548999999999,37.79806 -122.42951000000001,37.798840000000006 -122.42396000000001,37.79952 -122.42277,37.799459999999996 -122.42188,37.79655 -122.42156999999999,37.7951 -122.42222,37.79508 -122.42223,37.79509 -122.4215,37.79503 -122.41848999999999,37.7953 -122.41747,37.7912 -122.41606999999999,37.79102 -122.41502,37.78645 -122.41351999999999,37.78485 -122.40938,37.78539 -122.40823999999999,37.78416 -122.40666999999999,37.78267 -122.40953,37.78176 -122.41125,37.77898 -122.41471000000001,37.778490000000005 -122.41675,37.77713 -122.41917,37.775259999999996 -122.42148,37.77339 -122.42248000000001,37.77149 -122.42228999999999,37.76975 -122.42195,37.765679999999996 -122.42159,37.76163 -122.42116999999999,37.758520000000004 -122.4211,37.75853 -122.41927,37.75982 -122.41972,37.76531 -122.42025,37.770340000000004 -122.41618999999999,37.77518 -122.4146,37.77633 -122.41086999999999,37.77906 -122.40626,37.780840000000005 -122.40262,37.78351 -122.39861,37.786429999999996 -122.40144,37.786809999999996 -122.40473,37.7845 -122.40781000000001,37.78569 -122.40825,37.7843 -122.40536999999999,37.785270000000004 -122.4035,37.78723 -122.40106000000002,37.785509999999995 -122.39985,37.78523 -122.39986,37.78524 -122.40056000000001,37.787409999999994 -122.40207,37.79071 -122.40347,37.79274 -122.40843999999998,37.792159999999996 -122.41242,37.79167 -122.41418,37.79149 -122.41456000000001,37.79397 -122.41396,37.79518 -122.41394,37.79515 -122.41299,37.79392 -122.41063999999999,37.791920000000005 -122.40762,37.7923 -122.40312,37.79288 -122.40338,37.79522 -122.40478,37.79435 -122.40382,37.790440000000004 -122.40348,37.78731 -122.39868,37.78348 -122.39441000000001,37.78 -122.39571000000001,37.77904 -122.39563000000001,37.77906 -122.39575,37.77902 -122.39202,37.78178 -122.38835,37.7837 -122.39053,37.783 -122.39066000000001,37.7825 -122.39081999999999,37.78282 -122.39255,37.78148 -122.39913999999999,37.78042 -122.40292,37.78342 -122.40451000000002,37.784620000000004 -122.40445,37.784620000000004 -122.40799999999999,37.785509999999995 -122.40863,37.78532 -122.40744,37.78471 -122.40801,37.78552 -122.40843999999998,37.78457 -122.40848000000001,37.78458 -122.40748,37.78465 -122.40688999999999,37.78567 -122.40813,37.78655 -122.4085,37.78817 -122.41253999999999,37.7876 -122.41168,37.78663 -122.41368,37.78572 -122.4194,37.78512 -122.41984,37.784929999999996 -122.42251,37.783 -122.42098999999999,37.781940000000006 -122.41519,37.78267 -122.41063,37.78322 -122.40737,37.7848 -122.40685,37.7856 -122.40783,37.785779999999995 -122.40808,37.78836 -122.41431999999999,37.78752 -122.42003000000001,37.786809999999996 -122.42165,37.78647 -122.42121000000002,37.786 -122.4196,37.785920000000004 -122.41161000000001,37.787079999999996 -122.4083,37.78748 -122.40843000000001,37.788070000000005 -122.41032,37.78865 -122.4108,37.7911 -122.4111,37.79175 -122.41618000000001,37.791129999999995 -122.41993000000001,37.79064 -122.42213999999998,37.79007 -122.42216,37.790009999999995 -122.42216,37.78991 -122.42135,37.78955 -122.42074,37.790690000000005 -122.42182,37.79588 -122.41943,37.79622 -122.41033,37.79772 -122.41085,37.80012 -122.40928000000001,37.80032 -122.40876999999999,37.79956 -122.40843999999998,37.79959 -122.40738,37.799659999999996 -122.40732,37.79951 -122.40728999999999,37.79837 -122.40597,37.7974 -122.40392,37.79262 -122.40393999999999,37.78989 -122.4085,37.788070000000005 -122.40855,37.78601 -122.40867,37.78598 -122.40888000000001,37.785940000000004 -122.40857,37.78603 -122.40846,37.78604 -122.40856000000001,37.785959999999996 -122.40853999999999,37.78598 -122.40843999999998,37.78605 -122.40852,37.78604 -122.40905,37.785920000000004 -122.40867,37.78595 -122.40874,37.785920000000004 -122.40867,37.78591 -122.40856000000001,37.78593 -122.4086,37.78598 -122.40807,37.78609 -122.40823,37.78611 -122.40863999999999,37.78605 -122.40847,37.78607 -122.40858,37.78606 -122.4084,37.7861 -122.40831999999999,37.786120000000004 -122.40861000000001,37.785990000000005 -122.40845,37.78605 -122.40822,37.78613 -122.40806,37.78618 -122.40793000000001,37.78562 -122.40857,37.78733 -122.40841999999999,37.78753 -122.41035,37.78888 -122.41084,37.791709999999995 -122.41445,37.79311 -122.41586000000001,37.79202 -122.41585,37.791990000000006 -122.41583999999999,37.7918 -122.41568999999998,37.79105 -122.41557,37.78992 -122.41473,37.785990000000005 -122.41269,37.78502 -122.40862,37.785270000000004 -122.41096999999999,37.78413 -122.41102,37.782270000000004 -122.41673,37.7815 -122.41519,37.77887 -122.41666000000001,37.78047 -122.42181000000001,37.77961 -122.42115,37.77601 -122.42161000000002,37.77515 -122.42957,37.77409 -122.44103999999999,37.77267 -122.44338,37.77067 -122.44006999999999,37.77107 -122.4375,37.77325 -122.43773999999999,37.774370000000005 -122.43801,37.77695 -122.43607,37.77715 -122.42791000000001,37.77818 -122.42388999999999,37.7813 -122.42548000000001,37.78921 -122.4264,37.79365 -122.42658,37.795320000000004 -122.42366000000001,37.79575 -122.42317,37.7958 -122.41143000000001,37.79725 -122.40872,37.79802 -122.40933000000001,37.79971 -122.40935,37.79968 -122.41272,37.80202 -122.41799999999999,37.80565 -122.42058999999999,37.80682 -122.41752,37.80798 -122.41384,37.80845 -122.4109,37.808370000000004 -122.40898999999999,37.80766 -122.4148,37.80642 -122.4183,37.80595 -122.42074,37.80662 -122.42203,37.805679999999995 -122.4234,37.8039 -122.42308,37.80223 -122.42498,37.802209999999995 -122.42557,37.79822 -122.42443,37.792159999999996 -122.42557,37.78995 -122.43354,37.78893 -122.44183999999998,37.78785 -122.44973,37.78686 -122.45641,37.786229999999996 -122.45916000000001,37.7858 -122.45906000000001,37.78325 -122.45885,37.78015 -122.45868999999999,37.77883 -122.45316000000001,37.7779 -122.44658999999999,37.77871 -122.43686000000001,37.77991 -122.43066,37.781420000000004 -122.43087,37.783609999999996 -122.43087,37.7836 -122.42983000000001,37.78176 -122.42913,37.78183 -122.42225,37.78273 -122.42223999999999,37.78277 -122.41833999999999,37.783229999999996 -122.41678,37.77946 -122.41525,37.77667 -122.41288999999999,37.77775 -122.40661000000001,37.78284 -122.40421,37.78471 -122.40462,37.78524 -122.40523,37.78487 -122.40478999999999,37.78513 -122.40468999999999,37.78524 -122.40476000000001,37.78522 -122.40486000000001,37.78513 -122.40446000000001,37.78542 -122.40491999999999,37.78517 -122.40513,37.78528 -122.40626999999999,37.78597 -122.40701999999999,37.78678 -122.40741000000001,37.78646 -122.40791999999999,37.78637 -122.40801,37.78563 -122.4085,37.78532 -122.40778999999999,37.78432 -122.40713000000001,37.78495 -122.40482,37.78649 -122.40326,37.78525 -122.40616999999999,37.78597 -122.40658,37.787620000000004 -122.40806,37.78869 -122.40798000000001,37.78949 -122.40347,37.79061 -122.40253999999999,37.79185 -122.40268,37.7916 -122.40279,37.79323 -122.4025,37.79418 -122.39668999999999,37.795359999999995 -122.39701000000001,37.79602 -122.40028000000001,37.795590000000004 -122.40109,37.793209999999995 -122.40165,37.793009999999995 -122.4021,37.79278 -122.40068000000001,37.79355 -122.40014,37.79378 -122.4008,37.79719 -122.40342,37.79835 -122.40567,37.798 -122.40728,37.79779 -122.41786,37.796440000000004 -122.42369,37.79574 -122.42526000000001,37.79545 -122.42721999999999,37.79525 -122.4334,37.79449 -122.43921999999999,37.79374 -122.44193,37.79525 -122.4427,37.79907 -122.44281000000001,37.79965 -122.44363999999999,37.801790000000004 -122.44506000000001,37.80211 -122.44503,37.80213 -122.44483000000001,37.80168 -122.44278,37.79977 -122.43933999999999,37.79852 -122.43956000000001,37.79932 -122.44116000000001,37.80011 -122.4404,37.80032 -122.44041000000001,37.80032 -122.43833000000001,37.80057 -122.43700000000001,37.80069 -122.43449,37.800540000000005 -122.43387,37.797509999999996 -122.43021999999999,37.79681 -122.42626000000001,37.79732 -122.42506000000002,37.795390000000005 -122.42459,37.7935 -122.42385,37.78966 -122.42272,37.787409999999994 -122.41587,37.78833 -122.41171999999999,37.78882 -122.40841,37.7882 -122.40818,37.78687 -122.40801,37.78562 -122.40827,37.78543 -122.40818,37.7845 -122.40626,37.78266 -122.4049,37.78154 -122.40808999999999,37.77664 -122.41206000000001,37.773509999999995 -122.41406,37.771840000000005 -122.41561999999999,37.76911 -122.41598,37.76854 -122.41973,37.76552 -122.4196,37.76318 -122.41935,37.761179999999996 -122.41913000000001,37.75958 -122.41901999999999,37.75833 -122.41858,37.75411 -122.41866,37.75222 -122.41911,37.7522 -122.42308999999999,37.75196 -122.42487,37.749970000000005 -122.42723000000001,37.748979999999996 -122.42723000000001,37.74899 -122.4273,37.74973 -122.42622,37.7518 -122.42544,37.75375 -122.42584,37.75851 -122.42591999999999,37.75949 -122.42618,37.76324 -122.4268,37.768159999999995 -122.42399999999999,37.77148 -122.42251,37.772690000000004 -122.42232,37.77369 -122.42295,37.77664 -122.42316000000001,37.77754 -122.42376999999999,37.780570000000004 -122.4247,37.784890000000004 -122.42283,37.78737 -122.42115,37.7876 -122.41611999999999,37.78821 -122.40914,37.78909 -122.40418999999999,37.78979 -122.40388999999999,37.7896 -122.40342,37.78748 -122.40018,37.78475 -122.39331000000001,37.77946 -122.39295,37.77872 -122.39517,37.77693 -122.39827,37.7761 -122.39759,37.77171 -122.39218999999999,37.75943 -122.39406000000001,37.7459 -122.40523999999999,37.735690000000005 -122.42081999999999,37.73154 -122.42511999999999,37.73215 -122.4219,37.73205 -122.41451,37.73296 -122.4111,37.73619 -122.41107,37.73588 -122.41111000000001,37.735479999999995 -122.4095,37.73519 -122.4048,37.746629999999996 -122.40891,37.74827 -122.41238999999999,37.7482 -122.41642,37.748090000000005 -122.42048,37.74807 -122.42441000000001,37.74787 -122.42492,37.74869 -122.42527,37.752340000000004 -122.42558000000001,37.75528 -122.42573,37.7569 -122.42586000000001,37.7575 -122.42553999999998,37.75658 -122.42518999999999,37.7518 -122.42773000000001,37.75165 -122.42962,37.75141 -122.43177,37.75049 -122.43203000000001,37.749829999999996 -122.43218,37.7498 -122.43413999999999,37.75136 -122.43426000000001,37.753040000000006 -122.43473,37.757909999999995 -122.43503999999999,37.76099 -122.43528,37.76379 -122.43583000000001,37.76897 -122.43726000000001,37.77215 -122.44575,37.77213 -122.44578,37.7723 -122.44601000000002,37.77347 -122.44667,37.776709999999994 -122.44765,37.78145 -122.45366999999999,37.7816 -122.46053,37.78116 -122.46466000000001,37.78092 -122.46866999999999,37.78079 -122.47528999999999,37.7805 -122.47811999999999,37.78037 -122.48534,37.77998 -122.49041000000001,37.77993 -122.49085,37.77993 -122.48293000000001,37.78022 -122.47894,37.780409999999996 -122.4747,37.780609999999996 -122.47056,37.78076 -122.46855,37.78063 -122.46837,37.77823 -122.46815,37.77532 -122.46721000000001,37.77617 -122.46525,37.777229999999996 -122.46158,37.77735 -122.45355,37.77782 -122.45113,37.77813 -122.44174,37.779340000000005 -122.43306000000001,37.78038 -122.42578,37.78127 -122.42172,37.78158 -122.41896000000001,37.7822 -122.41524,37.782709999999994 -122.40878000000001,37.78347 -122.40646000000001,37.78536 -122.40475,37.786770000000004 -122.40336,37.787009999999995 -122.40133,37.78561 -122.39521,37.78082 -122.38993,37.78366 -122.3901,37.78559 -122.39157,37.788140000000006 -122.39256,37.78842 -122.39721999999999,37.7915 -122.39871000000001,37.791109999999996 -122.39911000000001,37.79061 -122.40012,37.79076 -122.40118000000001,37.79005 -122.40336,37.788940000000004 -122.40588000000001,37.78548 -122.40586,37.78589 -122.40523,37.78649 -122.40399,37.787240000000004 -122.40121,37.785709999999995 -122.39441000000001,37.780120000000004 -122.39487,37.77718 -122.39828,37.77615 -122.39778000000001,37.772 -122.39233999999999,37.760979999999996 -122.3907,37.75243 -122.39138,37.75007 -122.39532,37.7505 -122.3954,37.75105 -122.39522,37.75128 -122.39486000000001,37.751509999999996 -122.39488,37.75196 -122.3947,37.75141 -122.39528,37.75145 -122.39527,37.7514 -122.39533999999999,37.7515 -122.39527,37.75155 -122.40303,37.74943 -122.40561000000001,37.75858 -122.40553999999999,37.76913 -122.39991,37.78006 -122.39719,37.7827 -122.39787,37.78479 -122.39931000000001,37.7859 -122.39625,37.78863 -122.39299999999999,37.79087 -122.3909,37.79238 -122.39036000000002,37.79063 -122.39057,37.79036 -122.39063,37.79033 -122.39097,37.79064 -122.39273,37.78873 -122.39863999999999,37.78396 -122.40145,37.78177 -122.40561000000001,37.778529999999996 -122.41046999999999,37.7747 -122.41323,37.7725 -122.415,37.77087 -122.41561000000002,37.7686 -122.41882,37.76511 -122.42443,37.764759999999995 -122.42657,37.76563 -122.42658999999999,37.76563 -122.4266,37.76596 -122.42408,37.76465 -122.42436000000001,37.761520000000004 -122.42676999999999,37.7614 -122.42961000000001,37.76124 -122.43342,37.760979999999996 -122.43503999999999,37.760979999999996 -122.43531999999999,37.76292 -122.4353,37.76275 -122.43538999999998,37.76275 -122.43547,37.76277 -122.43545,37.7628 -122.43542,37.76502 -122.43596000000001,37.76921 -122.43721000000001,37.771840000000005 -122.44703,37.770590000000006 -122.44676000000001,37.77006 -122.44553,37.77021 -122.44583999999999,37.7724 -122.43848,37.773959999999995 -122.43003,37.775040000000004 -122.42487,37.77572 -122.42396000000001,37.77585 -122.42336,37.77871 -122.42204,37.78181 -122.42081,37.78195 -122.41576,37.78263 -122.41633999999999,37.78634 -122.4099,37.78731 -122.40918,37.78716 -122.40919,37.78707 -122.4091,37.787209999999995 -122.40836000000002,37.788579999999996 -122.40907,37.787240000000004 -122.40881999999999,37.78747 -122.40831000000001,37.787240000000004 -122.40328999999998,37.78805 -122.40019,37.79017 -122.39778999999999,37.79252 -122.40001000000001,37.79325 -122.40138999999999,37.795790000000004 -122.40336,37.79545 -122.40543000000001,37.797670000000004 -122.40745,37.7984 -122.40953,37.7998 -122.41155,37.80121 -122.41511000000001,37.80372 -122.41843,37.80598 -122.42057,37.80677 -122.41792,37.807970000000005 -122.41558,37.80826 -122.41247,37.80842 -122.41356999999999,37.80706 -122.41493,37.80642 -122.41753999999999,37.807109999999994 -122.41739,37.80778 -122.41722,37.806909999999995 -122.40867,37.79932 -122.40701000000001,37.798 -122.40516000000001,37.79677 -122.405,37.794509999999995 -122.40444,37.79253 -122.4037,37.79193 -122.40385,37.78873 -122.40612,37.78859 -122.40806,37.78618 -122.40823,37.78536 -122.40886,37.78439 -122.40998,37.78602 -122.41221999999999,37.78783 -122.41833000000001,37.78702 -122.42183999999999,37.78607 -122.42201999999999,37.78604 -122.42193,37.78618 -122.42198,37.78606 -122.42201999999999,37.78597 -122.42201000000001,37.78593 -122.42196000000001,37.78621 -122.42198,37.78613 -122.42200000000001,37.78604 -122.42186000000001,37.78618 -122.42197,37.78608 -122.42173999999999,37.78586 -122.41627,37.78635 -122.41231,37.786809999999996 -122.40823999999999,37.7881 -122.40863999999999,37.78933 -122.40652,37.78953 -122.40653,37.7895 -122.40607,37.78946 -122.4034,37.789559999999994 -122.40278,37.792559999999995 -122.40276999999999,37.79323 -122.40206,37.79354 -122.40101000000001,37.79373 -122.4009,37.794059999999995 -122.40104,37.79861 -122.40198999999998,37.80312 -122.40646000000001,37.80686 -122.41169,37.80682 -122.41608000000001,37.80625 -122.41623999999999,37.8062 -122.41633,37.80617 -122.41394,37.80727 -122.41316,37.80761 -122.41315,37.80757 -122.41311999999999,37.807390000000005 -122.41316,37.80762 -122.41075,37.80792 -122.40848999999999,37.80789 -122.40686000000001,37.80729 -122.40373000000001,37.8041 -122.40321999999999,37.80343 -122.40235,37.7984 -122.40522,37.79801 -122.40426000000001,37.79202 -122.40195,37.79242 -122.39958999999999,37.791940000000004 -122.3981,37.79112 -122.39686,37.78996 -122.39793999999999,37.789640000000006 -122.39917,37.79038 -122.39939,37.79074 -122.39996000000001,37.78983 -122.4,37.78954 -122.39953,37.78816 -122.40104,37.789190000000005 -122.40346000000001,37.78712 -122.40633999999999,37.78536 -122.40925,37.78403 -122.40953999999999,37.78634 -122.40919,37.78763 -122.40908,37.787440000000004 -122.40908999999999,37.78748 -122.40912,37.7876 -122.40908999999999,37.78745 -122.40911000000001,37.78755 -122.40912,37.787279999999996 -122.40928999999998,37.78733 -122.40901000000001,37.787490000000005 -122.40886,37.78777 -122.40908,37.78752 -122.40912,37.787440000000004 -122.40921999999999,37.78646 -122.40857,37.78631 -122.40861000000001,37.78662 -122.40868,37.78692 -122.4083,37.787440000000004 -122.40913,37.78767 -122.40677,37.78957 -122.40526000000001,37.79057 -122.40576999999999,37.79047 -122.40921000000002,37.79009 -122.41018999999999,37.79 -122.41368999999999,37.78958 -122.41421000000001,37.79197 -122.41478000000001,37.79412 -122.41671000000001,37.795759999999994 -122.41753999999999,37.79975 -122.4185,37.801629999999996 -122.4185,37.80164 -122.41855,37.801759999999994 -122.41783000000001,37.80141 -122.41488000000001,37.79975 -122.41191,37.80014 -122.41161000000001,37.80123 -122.41663999999999,37.80473 -122.41943,37.806670000000004 -122.4177,37.805890000000005 -122.41766000000001,37.80607 -122.41767,37.80607 -122.41766000000001,37.80594 -122.41768,37.80605 -122.41768,37.80594 -122.41606000000002,37.80627 -122.41611,37.806309999999996 -122.41603,37.80619 -122.41597,37.8061 -122.41601000000001,37.80618 -122.41611999999999,37.806259999999995 -122.41603,37.80622 -122.41367,37.80749 -122.4131,37.80757 -122.41317,37.80761 -122.41309,37.80757 -122.41316,37.80768 -122.41317,37.80767 -122.4131,37.80758 -122.41315,37.807629999999996 -122.40911000000001,37.80813 -122.40693,37.80735 -122.40584,37.80692 -122.40521000000001,37.80648 -122.40495,37.8064 -122.40347,37.80477 -122.40235,37.79918 -122.40513999999999,37.79801 -122.40513999999999,37.796640000000004 -122.40456,37.79518 -122.40471000000001,37.79469 -122.40465,37.79506 -122.40458999999998,37.794990000000006 -122.40446999999999,37.79523 -122.40458999999998,37.795159999999996 -122.40444,37.79526 -122.4038,37.79538 -122.4007,37.79547 -122.40498999999998,37.79503 -122.4039,37.792359999999995 -122.40229,37.792429999999996 -122.39963999999999,37.79442 -122.39728000000001,37.79358 -122.39941999999999,37.79395 -122.39583,37.78905 -122.40026999999999,37.788959999999996 -122.39941,37.7877 -122.39823,37.786809999999996 -122.39674,37.78575 -122.3932,37.782759999999996 -122.39013,37.77925 -122.39432,37.77596 -122.39782,37.77094 -122.39165,37.750440000000005 -122.40056000000001,37.73912 -122.40156999999999,37.72507 -122.3953,37.71024 -122.3923,37.696940000000005 -122.38932,37.68374 -122.39222,37.67028 -122.40693999999999,37.65379 -122.40546,37.640029999999996 -122.40177,37.62676 -122.39338000000001,37.61476 -122.38618000000001,37.6162 -122.38618000000001,37.616209999999995 -122.38623999999999,37.6162 -122.38623,37.616279999999996 -122.39011,37.61522 -122.38811000000001,37.61672 -122.38621,37.61789 -122.38552,37.61784 -122.39031000000001,37.68731 -122.39408999999999,37.70404 -122.39931000000001,37.71768 -122.40276999999999,37.72735 -122.40297,37.75333 -122.40513999999999,37.76551 -122.40258,37.77771 -122.39978,37.78013 -122.40279,37.78348 -122.40445,37.78468 -122.40647,37.7867 -122.40653999999999,37.78768 -122.40335,37.7873 -122.40236999999999,37.78667 -122.40238000000001,37.786590000000004 -122.40238000000001,37.78669 -122.40243000000001,37.78675 -122.40247,37.7868 -122.40258,37.78679 -122.40255,37.78667 -122.4024,37.78646 -122.40251,37.78662 -122.40231000000001,37.786609999999996 -122.4021,37.78666 -122.40226000000001,37.78667 -122.40208999999999,37.78673 -122.39853000000001,37.78895 -122.39505,37.7889 -122.39438999999999,37.787459999999996 -122.39697,37.78942 -122.39953999999999,37.79067 -122.40377,37.78805 -122.4027,37.78641 -122.39943000000001,37.78776 -122.39948000000001,37.7878 -122.39948999999999,37.78788 -122.39849,37.787009999999995 -122.39626000000001,37.78518 -122.39366000000001,37.78301 -122.3907,37.7805 -122.39325,37.77834 -122.39563999999999,37.77647 -122.39567,37.7765 -122.3957,37.7765 -122.39563000000001,37.77653 -122.39571000000001,37.77649 -122.39571000000001,37.77659 -122.39672,37.77841 -122.39728000000001,37.77905 -122.39732,37.77905 -122.39978,37.777429999999995 -122.39773999999998,37.77582 -122.39587,37.776309999999995 -122.39598000000001,37.77628 -122.39608999999999,37.77623 -122.39823,37.77456 -122.40248000000001,37.771190000000004 -122.40347,37.77044 -122.40208,37.77162 -122.40418000000001,37.77225 -122.40873,37.77385 -122.41241000000001,37.77686 -122.41488000000001,37.77887 -122.41595,37.78445 -122.41636000000001,37.78567 -122.41706,37.789429999999996 -122.4122,37.79076 -122.41073999999999,37.79112 -122.41073999999999,37.79234 -122.41086000000001,37.792120000000004 -122.4109,37.79208 -122.40965,37.79224 -122.40965,37.79408 -122.41291000000001,37.79395 -122.41285,37.793659999999996 -122.41287,37.79364 -122.41502,37.79315 -122.41656,37.794979999999995 -122.41986000000001,37.795190000000005 -122.42066000000001,37.798590000000004 -122.42017,37.79902 -122.42187,37.80454 -122.42193999999999,37.804809999999996 -122.42396000000001,37.80525 -122.42511,37.80449 -122.42464,37.8023 -122.42475,37.80212 -122.42388999999999,37.79837 -122.42267,37.79587 -122.40959,37.79755 -122.40376,37.79824 -122.4024,37.7974 -122.40113999999998,37.79432 -122.39768000000001,37.79564 -122.3966,37.79678 -122.39657,37.79668 -122.39666000000001,37.796640000000004 -122.39661000000001,37.79643 -122.39705,37.79419 -122.39668999999999,37.79554 -122.39732,37.794470000000004 -122.39747,37.79392 -122.39757,37.7942 -122.39721999999999,37.79462 -122.39723000000001,37.79433 -122.39721999999999,37.79433 -122.3973,37.7942 -122.3974,37.79401 -122.39728999999998,37.79423 -122.39733000000001,37.79419 -122.39733999999999,37.794290000000004 -122.39735,37.794290000000004 -122.39714,37.79415 -122.39728999999998,37.79402 -122.39715,37.794270000000004 -122.39697,37.79424 -122.39763,37.79378 -122.39888,37.79558 -122.3989,37.795609999999996 -122.40076,37.79725 -122.4016,37.7985 -122.40768,37.79777 -122.41774,37.79638 -122.42368,37.79569 -122.42553999999998,37.79547 -122.42733999999999,37.7981 -122.43211000000001,37.7975 -122.43252,37.79746 -122.43557,37.79742 -122.43613,37.80003 -122.43966999999999,37.80037 -122.44255,37.7992 -122.43614,37.79997 -122.4374,37.8008 -122.43874,37.80288 -122.43871999999999,37.80291 -122.4387,37.80288 -122.43758000000001,37.80213 -122.43781000000001,37.800540000000005 -122.43618000000001,37.80032 -122.4366,37.80072 -122.43656999999999,37.80064 -122.43656999999999,37.80062 -122.43663000000001,37.80073 -122.43878000000001,37.80049 -122.44294,37.80008 -122.43952,37.80042 -122.43621999999999,37.800709999999995 -122.43573,37.79997 -122.42946,37.800540000000005 -122.42901,37.7979 -122.43038999999999,37.79769 -122.4304,37.79769 -122.43038,37.797709999999995 -122.43036000000001,37.79777 -122.42801000000001,37.79807 -122.42706000000001,37.79818 -122.42483999999999,37.79432 -122.42211,37.79029 -122.42238,37.79022 -122.42218000000001,37.78971 -122.42218000000001,37.78967 -122.4221,37.78973 -122.42206000000002,37.78971 -122.42216,37.78976 -122.4221,37.7897 -122.42205,37.78969 -122.4216,37.78735 -122.42188,37.786190000000005 -122.42193,37.786159999999995 -122.42076999999999,37.7827 -122.42005,37.77977 -122.41926000000001,37.775690000000004 -122.41875,37.77377 -122.41986000000001,37.76755 -122.41949,37.76362 -122.41946000000002,37.76166 -122.41888,37.75694 -122.41843,37.75205 -122.41802,37.74841 -122.41168,37.7484 -122.40306000000001,37.749520000000004 -122.39553000000001,37.74707 -122.39209,37.745059999999995 -122.38795,37.742509999999996 -122.38816000000001,37.74184 -122.39041999999999,37.73539 -122.38837,37.73349 -122.38824,37.73336 -122.39193,37.73551 -122.3971,37.73839 -122.40351000000001,37.74203 -122.40515,37.74329 -122.40623000000001,37.748870000000004 -122.41428,37.74817 -122.41593,37.74838 -122.41636000000001,37.75251 -122.41682,37.75773 -122.41775,37.765159999999995 -122.41841000000001,37.76685 -122.41842,37.766940000000005 -122.41852,37.76774 -122.41963,37.76522 -122.41953999999998,37.76396 -122.41936000000001,37.76171 -122.41887,37.75693 -122.41856000000001,37.75372 -122.41836,37.75136 -122.41372,37.74906 -122.40836999999999,37.74841 -122.40108000000001,37.74949 -122.3954,37.75092 -122.39509,37.75128 -122.39465,37.75134 -122.39374,37.7519 -122.39353999999999,37.751509999999996 -122.39347,37.75148 -122.39408,37.75139 -122.39452,37.75162 -122.39464,37.75175 -122.42353,37.772009999999995 -122.4224,37.773990000000005 -122.42386,37.781220000000005 -122.4244,37.78718 -122.42147,37.78757 -122.41995,37.787259999999996 -122.41996,37.78714 -122.41998000000001,37.786970000000004 -122.42007,37.787240000000004 -122.42063,37.78994 -122.42093,37.79159 -122.42136,37.79373 -122.42403999999999,37.79846 -122.43031,37.80053 -122.43843999999999,37.79952 -122.44118,37.80005 -122.44125,37.79938 -122.43275,37.80038 -122.43443,37.80003 -122.43948999999999,37.79938 -122.44231,37.79724 -122.44273000000001,37.798120000000004 -122.44273000000001,37.799490000000006 -122.4379,37.7997 -122.43778999999999,37.79975 -122.44046999999999,37.80028 -122.44123,37.8003 -122.44206000000001,37.804629999999996 -122.44163999999999,37.802440000000004 -122.44039,37.80068 -122.44276,37.79959 -122.43529,37.80004 -122.42506000000002,37.80133 -122.42453,37.80127 -122.4241,37.79954 -122.42283,37.79874 -122.41746,37.79945 -122.40653,37.79793 -122.40409,37.79823 -122.40643999999999,37.7979 -122.40878000000001,37.7976 -122.42154,37.794940000000004 -122.4209,37.79165 -122.42048999999999,37.789559999999994 -122.4197,37.78785 -122.42007,37.787490000000005 -122.42062,37.78985 -122.42115,37.792629999999996 -122.4212,37.79283 -122.42161000000002,37.79513 -122.42405,37.798359999999995 -122.43016999999999,37.80059 -122.43578000000001,37.79985 -122.44111000000001,37.7994 -122.44113999999999,37.79992 -122.44278999999999,37.79973 -122.43855,37.79958 -122.44125,37.80019 -122.43799999999999,37.79971 -122.42716999999999,37.80106 -122.42595,37.79974 -122.42473999999999,37.79373 -122.42326000000001,37.78626 -122.42192,37.779959999999996 -122.42003999999999,37.77717 -122.41791,37.77754 -122.41458999999999,37.778929999999995 -122.4123,37.78073 -122.40997,37.78235 -122.40592,37.78577 -122.40281,37.78902 -122.39761000000001,37.79092 -122.39713,37.79355 -122.3966,37.79381 -122.39618,37.79396 -122.39638000000001,37.7939 -122.39641999999999,37.793890000000005 -122.39633,37.79398 -122.39631000000001,37.794000000000004 -122.39627,37.79405 -122.39668,37.7947 -122.39934,37.794709999999995 -122.39936999999999,37.79444 -122.40053999999999,37.79421 -122.40103,37.79486 -122.40109,37.794779999999996 -122.40373999999998,37.793490000000006 -122.40368000000001,37.78822 -122.4022,37.7864 -122.39693,37.78218 -122.40243999999998,37.77734 -122.40491000000002,37.76401 -122.39586000000001,37.71215 -122.38826999999999,37.678709999999995 -122.40583000000001,37.64141 -122.40213,37.62792 -122.3933,37.61477 -122.3884,37.61557 -122.3901,37.615120000000005 -122.39995,37.61933 -122.40351000000001,37.63227 -122.39348000000001,37.669090000000004 -122.38918000000001,37.68215 -122.39233999999999,37.69576 -122.39533999999999,37.70945 -122.40086000000001,37.722570000000005 -122.40688999999999,37.7352 -122.40397,37.74864 -122.40581999999999,37.76205 -122.40606000000001,37.77534 -122.40274,37.78324 -122.40308999999999,37.787929999999996 -122.40283000000001,37.78802 -122.40321999999999,37.78761 -122.40323000000001,37.78715 -122.40146999999999,37.78566 -122.39737,37.78236 -122.39618999999999,37.7811 -122.40656000000001,37.772909999999996 -122.40598999999999,37.75936 -122.4047,37.746140000000004 -122.40506,37.73257 -122.39976999999999,37.72 -122.39171999999999,37.69409 -122.38859,37.68012 -122.40571000000001,37.64079 -122.40198000000001,37.62724 -122.39508000000001,37.61442 -122.38818,37.61721 -122.39045,37.61517 -122.40006000000001,37.61978 -122.4036,37.63309 -122.40647,37.64642 -122.39325,37.66943 -122.3893,37.6825 -122.39237,37.69628 -122.40098,37.72291 -122.40696000000001,37.735479999999995 -122.40406999999999,37.748509999999996 -122.40588000000001,37.76207 -122.40588999999999,37.77554 -122.40117,37.78217 -122.40575,37.78233 -122.40948,37.78474 -122.40966,37.786559999999994 -122.40975,37.78647 -122.40964,37.78633 -122.40942,37.78649 -122.40935,37.7866 -122.40946000000001,37.78627 -122.4096,37.78567 -122.40941000000001,37.78587 -122.40932,37.78604 -122.40972,37.78635 -122.41005,37.78521 -122.40971,37.78565 -122.40961999999999,37.78569 -122.40983,37.78563 -122.40965,37.78589 -122.40963,37.7862 -122.40956000000001,37.78628 -122.40928000000001,37.78611 -122.40902,37.78606 -122.40908999999999,37.785990000000005 -122.40945,37.78604 -122.40957,37.78609 -122.40969,37.78606 -122.40953999999999,37.7861 -122.40988999999999,37.78665 -122.4103,37.78925 -122.41048,37.790409999999994 -122.41086000000001,37.79246 -122.4107,37.792359999999995 -122.41084,37.79226 -122.40975,37.79456 -122.41013999999998,37.79655 -122.41853,37.79629 -122.42411000000001,37.79896 -122.43061999999999,37.80055 -122.43615,37.7998 -122.44115,37.7994 -122.44151000000001,37.80017 -122.44282,37.79994 -122.44243,37.79943 -122.44242,37.7994 -122.43987,37.799440000000004 -122.43068999999998,37.80059 -122.42456999999999,37.80127 -122.42313999999999,37.79585 -122.42177,37.79565 -122.41916,37.79448 -122.41662,37.794779999999996 -122.41448000000001,37.79311 -122.41446,37.79311 -122.41363,37.79247 -122.40834,37.79309 -122.40553,37.79334 -122.40131000000001,37.794090000000004 -122.39636000000002,37.79416 -122.39636999999999,37.79363 -122.39623,37.79463 -122.39538999999999,37.792429999999996 -122.39202,37.78928 -122.39376999999999,37.78785 -122.39464,37.78722 -122.3983,37.78433 -122.39845,37.77962 -122.40643999999999,37.772240000000004 -122.4046,37.746520000000004 -122.40541,37.73317 -122.39981999999999,37.72011 -122.39459,37.70728 -122.39157,37.69406 -122.38826999999999,37.67822 -122.39638000000001,37.665890000000005 -122.40671999999999,37.65515 -122.40608999999999,37.64139 -122.3974,37.61455 -122.39531000000001,37.61414 -122.39477,37.61441 -122.38937,37.6162 -122.38888,37.615790000000004 -122.38766000000001,37.61578 -122.39281000000001,37.61459 -122.40141000000001,37.62388 -122.40482,37.637609999999995 -122.40698,37.651140000000005 -122.39968999999999,37.66345 -122.38951000000002,37.67442 -122.39048000000001,37.68807 -122.39355,37.70167 -122.39791000000001,37.714729999999996 -122.40291,37.72788 -122.40507,37.73433 -122.39509,37.74504 -122.39256,37.75 -122.39535,37.75049 -122.39482,37.75136 -122.38288999999999,37.75891 -122.36878999999999,37.76784 -122.35383999999999,37.77733 -122.33124,37.79162 -122.3131,37.80308 -122.29426000000001,37.81498 -122.27365,37.82799 -122.24707,37.84475 -122.39488,37.75131 -122.39488999999999,37.75138 -122.39488999999999,37.7513 -122.39487,37.75142 -122.39503,37.75131 -122.39487,37.75138 -122.39461000000001,37.75147 -122.3946,37.75148 -122.39458,37.75147 -122.39461000000001,37.75148 -122.39465,37.751459999999994 -122.39465,37.75148 -122.39464,37.7515 -122.39464,37.751490000000004 -122.39465,37.751490000000004 -122.39473000000001,37.751909999999995 -122.39438,37.751540000000006 -122.39398999999999,37.75156 -122.39398,37.75155 -122.39398,37.751529999999995 -122.39398999999999,37.751509999999996 -122.39397,37.75157 -122.39397,37.75156 -122.39397,37.75159 -122.39383000000001,37.74982 -122.39492,37.75134 -122.39476,37.751459999999994 -122.39476,37.75142 -122.39476,37.75143 -122.39475,37.75143 -122.39476,37.7514 -122.39533,37.751540000000006 -122.39487,37.75096 -122.39353,37.7516 -122.39339,37.75023 -122.40024,37.74949 -122.40705,37.74862 -122.41173,37.74828 -122.41593,37.74837 -122.41631000000001,37.74858 -122.41633999999999,37.7486 -122.41666000000001,37.74913 -122.42071999999999,37.748870000000004 -122.42255,37.74878 -122.42718,37.748709999999996 -122.43155,37.74902 -122.43648999999999,37.74876 -122.44416000000001,37.74668 -122.44344,37.75009 -122.44203,37.75443 -122.44481,37.75835 -122.44685,37.76193 -122.4477,37.76526 -122.45012,37.76667 -122.4485,37.76505 -122.4477,37.76527 -122.44713999999999,37.76905 -122.44697,37.7781 -122.44552,37.77884 -122.43533000000001,37.78008 -122.42714,37.78115 -122.42464,37.781459999999996 -122.42473000000001,37.78572 -122.42327,37.787279999999996 -122.42148999999999,37.787490000000005 -122.41448999999999,37.78846 -122.41008000000001,37.788990000000005 -122.40706999999999,37.78982 -122.40794,37.794090000000004 -122.40805,37.79481 -122.40838000000001,37.796009999999995 -122.40863999999999,37.797670000000004 -122.4093,37.79968 -122.41015,37.80015 -122.41022,37.800270000000005 -122.40841,37.80057 -122.40456999999999,37.80155 -122.40461,37.80215 -122.40453000000001,37.80192 -122.40455,37.80192 -122.4049,37.80285 -122.40446999999999,37.80115 -122.40799999999999,37.80063 -122.41103000000001,37.80022 -122.41216000000001,37.79851 -122.41136000000002,37.794290000000004 -122.4117,37.79173 -122.41201000000001,37.78974 -122.41032,37.78712 -122.40827,37.78745 -122.40822,37.787620000000004 -122.40828,37.787620000000004 -122.40836999999999,37.7878 -122.40838000000001,37.7878 -122.40833,37.78794 -122.40833,37.787890000000004 -122.40841,37.78799 -122.40846,37.78799 -122.40841999999999,37.788070000000005 -122.40868,37.78826 -122.41035,37.78812 -122.4106,37.790009999999995 -122.41073999999999,37.79133 -122.4108,37.79235 -122.41071000000001,37.79233 -122.40942,37.793279999999996 -122.40993999999999,37.79379 -122.41088,37.794579999999996 -122.41143000000001,37.79477 -122.412,37.79743 -122.4128,37.80177 -122.41301999999999,37.80259 -122.41326000000001,37.80392 -122.41385,37.80679 -122.41248999999999,37.80854 -122.41056,37.80843 -122.40986000000001,37.80838 -122.40985,37.808370000000004 -122.40953,37.80831 -122.40862,37.80798 -122.40786999999999,37.80767 -122.40443,37.80607 -122.40305,37.802659999999996 -122.40162,37.795320000000004 -122.40033999999999,37.79249 -122.39796000000001,37.792120000000004 -122.39563000000001,37.78987 -122.39255,37.78528 -122.38229,37.79415 -122.37138,37.80435 -122.36023,37.81386 -122.34488,37.81878 -122.32838000000001,37.82164 -122.31266000000001,37.825309999999995 -122.29788,37.821690000000004 -122.29052,37.81743 -122.28308999999999,37.818259999999995 -122.27998999999998,37.821670000000005 -122.27961,37.82265 -122.27956999999999,37.82266 -122.27711000000001,37.821020000000004 -122.27536,37.817170000000004 -122.27368,37.81198 -122.27558,37.80925 -122.27944,37.80088 -122.26526000000001,37.79461 -122.25081000000002,37.788470000000004 -122.23807,37.779720000000005 -122.22461000000001,37.77215 -122.21457,37.76146 -122.20459,37.75013 -122.18863,37.73157 -122.19865,37.72757 -122.20504,37.71779 -122.2107,37.71161 -122.21246000000001,37.71208 -122.21248,37.71205 -122.21382,37.71389 -122.20363,37.71857 -122.2016,37.72695 -122.20003,37.73003 -122.19691,37.73705 -122.20092,37.745470000000005 -122.21043,37.75654 -122.21993,37.76783 -122.22983,37.773790000000005 -122.24113999999999,37.78396 -122.25544,37.78945 -122.26993999999999,37.79652 -122.28506999999999,37.80233 -122.30158,37.803259999999995 -122.29883999999998,37.81649 -122.30833,37.82441 -122.32437,37.82197 -122.34116000000002,37.82028 -122.3568,37.81588 -122.36873999999999,37.806459999999994 -122.38048,37.79603 -122.38694,37.78948 -122.39421000000002,37.785270000000004 -122.39823999999999,37.78435 -122.40163999999999,37.782709999999994 -122.40436000000001,37.78528 -122.40651000000001,37.78605 -122.40776000000001,37.786120000000004 -122.40796999999999,37.78755 -122.40794,37.78771 -122.40758999999998,37.78794 -122.40778,37.78798 -122.40796,37.78801 -122.40796999999999,37.78808 -122.40795,37.78801 -122.40763000000001,37.7881 -122.40771000000001,37.788129999999995 -122.40801,37.7882 -122.40793000000001,37.78803 -122.40778999999999,37.788059999999994 -122.40775,37.78808 -122.40783,37.7881 -122.40863999999999,37.78781 -122.40866000000001,37.78837 -122.4088,37.78902 -122.40938,37.788509999999995 -122.41038999999999,37.789559999999994 -122.41096999999999,37.79179 -122.41264,37.79268 -122.41308000000001,37.794509999999995 -122.41207,37.79728 -122.41253999999999,37.80025 -122.41301000000001,37.80255 -122.41346000000001,37.80495 -122.41376000000001,37.806309999999996 -122.41205,37.80849 -122.41005,37.8084 -122.40997,37.80842 -122.40991000000001,37.80839 -122.40983999999999,37.80838 -122.40977,37.808370000000004 -122.40978999999999,37.80832 -122.40958,37.80834 -122.40926,37.8083 -122.41248999999999,37.806740000000005 -122.4136,37.80573 -122.4132,37.80365 -122.41063,37.80069 -122.40681000000001,37.79806 -122.40523999999999,37.79679 -122.40498000000001,37.795359999999995 -122.40397,37.79372 -122.40328999999998,37.7954 -122.4057,37.79722 -122.40648,37.79769 -122.41049,37.7975 -122.42029,37.796040000000005 -122.42178999999999,37.79618 -122.42226000000001,37.798559999999995 -122.42581000000001,37.7983 -122.42835,37.798 -122.43118999999999,37.79764 -122.43525,37.797109999999996 -122.43566000000001,37.79801 -122.43623999999998,37.79975 -122.43948,37.79932 -122.4428,37.799620000000004 -122.44483000000001,37.79968 -122.44676000000001,37.79945 -122.44786,37.79834 -122.44816999999999,37.797779999999996 -122.448,37.796659999999996 -122.44726000000001,37.79788 -122.44378,37.79699 -122.43553999999999,37.79694 -122.43536999999999,37.796240000000004 -122.43473999999999,37.79398 -122.43383,37.78907 -122.43354,37.78743 -122.43319,37.78536 -122.43128999999999,37.785379999999996 -122.4288,37.78572 -122.42878999999999,37.78572 -122.42549,37.78935 -122.42281000000001,37.790440000000004 -122.42079,37.79071 -122.42025,37.78882 -122.41973999999999,37.78606 -122.41615,37.78634 -122.41056999999999,37.78706 -122.40834,37.78775 -122.40858999999999,37.788059999999994 -122.40875,37.78815 -122.41113999999999,37.78805 -122.41136999999999,37.78517 -122.40928000000001,37.78461 -122.40861000000001,37.78436 -122.40761,37.78376 -122.4049,37.784040000000005 -122.40598999999999,37.78718 -122.40665,37.78776 -122.40721,37.78841 -122.41011,37.78839 -122.4101,37.78853 -122.40983999999999,37.78907 -122.40786000000001,37.787420000000004 -122.40489,37.78777 -122.40323000000001,37.78722 -122.40203000000001,37.78617 -122.4042,37.7844 -122.40558999999999,37.78368 -122.40566000000001,37.78342 -122.40573,37.783359999999995 -122.40881999999999,37.78085 -122.41457,37.77637 -122.4178,37.77644 -122.42993,37.77412 -122.4376,37.773109999999996 -122.44413999999999,37.772290000000005 -122.44615,37.77413 -122.44636000000001,37.775090000000006 -122.45187,37.77513 -122.45822,37.7743 -122.46416,37.77357 -122.46916999999999,37.77324 -122.47253,37.77309 -122.48172,37.77267 -122.4898,37.77232 -122.50391,37.77166 -122.50838,37.77332 -122.50051,37.77375 -122.50062,37.77647 -122.49741000000002,37.779540000000004 -122.49275,37.77978 -122.48891,37.77997 -122.48353,37.78024 -122.48156999999999,37.78042 -122.48178,37.7836 -122.47628,37.7843 -122.47233,37.784490000000005 -122.46788000000001,37.7847 -122.46788000000001,37.78494 -122.46786000000002,37.78494 -122.45771,37.78591 -122.45161999999999,37.78666 -122.44663,37.786429999999996 -122.43853,37.78731 -122.43013,37.78842 -122.42703,37.78869 -122.42575,37.78705 -122.42948999999999,37.78562 -122.43093,37.7848 -122.42447,37.78566 -122.42108999999999,37.78586 -122.41928,37.78601 -122.41657,37.78624 -122.41373,37.78754 -122.40833,37.7873 -122.40839,37.78805 -122.41009,37.78784 -122.41708999999999,37.7872 -122.41768,37.78417 -122.41703999999999,37.780879999999996 -122.41656,37.778529999999996 -122.41596000000001,37.77798 -122.41536,37.778909999999996 -122.41531,37.77883 -122.41824,37.78029 -122.42123000000001,37.77709 -122.42312,37.77498 -122.42921000000001,37.7741 -122.44366000000001,37.77235 -122.44981999999999,37.77165 -122.45373000000001,37.77006 -122.45283,37.76543 -122.45823,37.764340000000004 -122.45828,37.76441 -122.46151,37.76426 -122.46512,37.764070000000004 -122.46351000000001,37.76233 -122.45839,37.76339 -122.45365,37.76442 -122.45307,37.766659999999995 -122.4534,37.76921 -122.44684,37.77016 -122.44683,37.77013 -122.44676000000001,37.77004 -122.44605,37.77333 -122.44641000000001,37.775290000000005 -122.44678,37.77705 -122.43948999999999,37.77952 -122.43083,37.78066 -122.42681,37.78119 -122.42132,37.78195 -122.41942,37.78223 -122.41186,37.78309 -122.40947,37.784729999999996 -122.40996000000001,37.78757 -122.41025,37.78821 -122.40961999999999,37.78829 -122.41081000000001,37.78818 -122.41083,37.78816 -122.40943999999999,37.78825 -122.41017,37.7883 -122.41056999999999,37.78823 -122.40999,37.78852 -122.4085,37.7893 -122.4087,37.788790000000006 -122.40845,37.78805 -122.40793000000001,37.78625 -122.40923000000001,37.78603 -122.40955,37.787279999999996 -122.40942,37.78716 -122.40806,37.78607 -122.40632,37.78618 -122.40958,37.79077 -122.40928999999998,37.79057 -122.40816000000001,37.78942 -122.40868,37.78949 -122.40938,37.7901 -122.41758,37.789640000000006 -122.41801000000001,37.794290000000004 -122.41885,37.79773 -122.41967,37.80227 -122.42029,37.805409999999995 -122.42251,37.806490000000004 -122.42375,37.80526 -122.4251,37.80468 -122.42381,37.804359999999996 -122.41706,37.80518 -122.417,37.80617 -122.41531,37.80639 -122.41333,37.80668 -122.41333999999999,37.80669 -122.41335,37.80668 -122.40758999999998,37.80737 -122.40471000000001,37.80628 -122.40348,37.804829999999995 -122.40227,37.79865 -122.40534,37.797979999999995 -122.40527,37.79661 -122.40458999999998,37.79423 -122.40397,37.790890000000005 -122.40805,37.79025 -122.40791000000002,37.78979 -122.4091,37.78842 -122.40935,37.788109999999996 -122.40829,37.78861 -122.40851,37.78829 -122.40973999999999,37.78915 -122.40836999999999,37.78935 -122.40908999999999,37.78881 -122.40826000000001,37.78707 -122.4079,37.78561 -122.40625,37.78595 -122.40676,37.78787 -122.41015,37.78852 -122.40836999999999,37.78842 -122.41078,37.78795 -122.41108,37.7848 -122.41013000000001,37.782090000000004 -122.40388999999999,37.777190000000004 -122.40373000000001,37.77511 -122.40369,37.77507 -122.40377,37.77513 -122.40462,37.7742 -122.40301000000001,37.77328 -122.40342,37.77663 -122.40363,37.77608 -122.40308,37.77635 -122.40706000000002,37.77963 -122.41033999999999,37.78219 -122.41255,37.78415 -122.41712,37.78535 -122.4224,37.78459 -122.42501999999999,37.78526 -122.43463,37.78413 -122.4443,37.78269 -122.45501999999999,37.781420000000004 -122.46538999999999,37.78092 -122.47518000000001,37.78051 -122.48386,37.78009 -122.48449,37.78035 -122.48391000000001,37.7802 -122.47596000000001,37.780559999999994 -122.47211999999999,37.78072 -122.4681,37.78094 -122.46761000000001,37.78235 -122.46473,37.78667 -122.46078,37.78685 -122.45923,37.78689 -122.45924,37.7865 -122.45653999999999,37.78605 -122.4546,37.7863 -122.45102,37.78676 -122.44666000000001,37.78733 -122.4434,37.78771 -122.44005,37.78816 -122.43388999999999,37.788959999999996 -122.43413000000001,37.79025 -122.43481000000001,37.79345 -122.43542,37.796620000000004 -122.43632,37.79975 -122.44128,37.79919 -122.44446,37.7994 -122.43805,37.79967 -122.42908999999999,37.80081 -122.42603000000001,37.801190000000005 -122.42442,37.80107 -122.42391,37.798359999999995 -122.42329,37.79531 -122.42284,37.792970000000004 -122.42233999999999,37.79085 -122.4221,37.7896 -122.42016000000001,37.7879 -122.42066000000001,37.79031 -122.42126,37.79336 -122.42192,37.79588 -122.42403999999999,37.798359999999995 -122.42747,37.79797 -122.42993999999999,37.797779999999996 -122.43411,37.797309999999996 -122.43513,37.795359999999995 -122.43457,37.792590000000004 -122.43405,37.78995 -122.43768999999999,37.78839 -122.4402,37.7871 -122.44148,37.78602 -122.44663999999999,37.78533 -122.44758,37.7814 -122.44701,37.778459999999995 -122.4464,37.77545 -122.44568999999998,37.77193 -122.44635,37.77009 -122.45078000000001,37.769529999999996 -122.45326999999999,37.76806 -122.45378999999998,37.764379999999996 -122.45777,37.7636 -122.45796999999999,37.76324 -122.45903,37.76315 -122.46152,37.76426 -122.46472,37.76413 -122.47538999999999,37.76365 -122.47672,37.76015 -122.47641999999999,37.75548 -122.4759,37.74811 -122.47545,37.7412 -122.47525,37.73815 -122.47493999999999,37.73346 -122.47465,37.72972 -122.475,37.72251 -122.47278,37.71759 -122.471,37.70948 -122.47078,37.7047 -122.47098000000001,37.70483 -122.47088000000001,37.705259999999996 -122.46976000000001,37.7078 -122.45383000000001,37.71212 -122.44721000000001,37.72462 -122.43333999999999,37.73195 -122.417,37.732040000000005 -122.40692,37.7427 -122.40328000000001,37.755720000000004 -122.40606000000001,37.76826 -122.41386999999999,37.77367 -122.41666000000001,37.77776 -122.41426000000001,37.77918 -122.41418999999999,37.779309999999995 -122.41238,37.78076 -122.40851,37.783570000000005 -122.40548999999999,37.78566 -122.40421,37.787009999999995 -122.40165,37.78598 -122.39728000000001,37.7824 -122.39263999999999,37.77872 -122.39206999999999,37.777840000000005 -122.39473000000001,37.77682 -122.39668,37.77841 -122.39837,37.77978 -122.40281999999999,37.7836 -122.40618,37.785759999999996 -122.41078,37.78604 -122.42043000000001,37.784890000000004 -122.42258000000001,37.79105 -122.42246000000002,37.79118 -122.42213000000001,37.78972 -122.42192,37.78825 -122.42143999999999,37.786120000000004 -122.42065,37.78252 -122.41975,37.77802 -122.41945,37.777409999999996 -122.41422,37.77661 -122.41533999999999,37.77845 -122.41795,37.77616 -122.4182,37.77595 -122.42058,37.77405 -122.42511999999999,37.77042 -122.43096000000001,37.765879999999996 -122.43343,37.763940000000005 -122.43515,37.762240000000006 -122.43468999999999,37.75863 -122.4344,37.75473 -122.43423999999999,37.752959999999995 -122.43401999999999,37.751329999999996 -122.42981,37.75155 -122.42735,37.7509 -122.42702,37.74771 -122.42196000000001,37.74808 -122.41618000000001,37.74819 -122.41131999999999,37.74831 -122.4064,37.748940000000005 -122.39788999999999,37.74968 -122.39421000000002,37.75005 -122.39353,37.75013 -122.39338000000001,37.75011 -122.39526000000001,37.75121 -122.39522,37.75136 -122.39522,37.75166 -122.39522,37.751509999999996 -122.39471999999999,37.751740000000005 -122.39466000000002,37.7516 -122.39533,37.75139 -122.39527,37.75138 -122.39523999999999,37.7514 -122.39411000000001,37.75204 -122.39263999999999,37.7517 -122.39258999999998,37.75973 -122.39838999999999,37.77218 -122.40223,37.77575 -122.40196999999999,37.778929999999995 -122.40014,37.77771 -122.39939,37.77486 -122.40191999999999,37.77159 -122.40618,37.76945 -122.41131000000001,37.76933 -122.41552,37.76939 -122.41526999999999,37.765190000000004 -122.41616,37.76202 -122.42136,37.76171 -122.42922,37.76125 -122.43501,37.76083 -122.43518999999999,37.76174 -122.43521000000001,37.76227 -122.43413999999999,37.763490000000004 -122.43058,37.76627 -122.42988000000001,37.76683 -122.42665,37.7694 -122.42398999999999,37.77145 -122.42222,37.77313 -122.42251,37.77466 -122.42371999999999,37.78071 -122.42081999999999,37.78199 -122.41588,37.78239 -122.41632,37.786429999999996 -122.4097,37.78716 -122.40886,37.78838 -122.41318000000001,37.78771 -122.41906000000002,37.787009999999995 -122.42201999999999,37.78646 -122.42188999999999,37.78641 -122.41971000000001,37.78627 -122.41521000000002,37.786609999999996 -122.41066000000001,37.787040000000005 -122.40921000000002,37.787279999999996 -122.40818999999999,37.78844 -122.40292,37.79019 -122.40352,37.793859999999995 -122.40535,37.79684 -122.4064,37.79759 -122.40575,37.796890000000005 -122.40428999999999,37.79159 -122.40318,37.78713 -122.39978,37.784420000000004 -122.39291000000001,37.77906 -122.38971000000001,37.774159999999995 -122.38886000000001,37.76517 -122.38682,37.76545 -122.3869,37.7654 -122.38904,37.76532 -122.38935,37.76797 -122.38963999999999,37.771359999999994 -122.39178000000001,37.77449 -122.39343000000001,37.775890000000004 -122.39813999999998,37.779579999999996 -122.40215,37.78308 -122.40393,37.78431 -122.40618,37.78548 -122.40803000000001,37.78432 -122.41403000000001,37.78665 -122.41271,37.78691 -122.41418,37.785709999999995 -122.41421000000001,37.78333 -122.41091999999999,37.7841 -122.41181,37.78385 -122.41201000000001,37.78379 -122.4112,37.784079999999996 -122.41101,37.78413 -122.4108,37.78419 -122.41091000000002,37.78438 -122.41123999999999,37.784290000000006 -122.41162,37.784459999999996 -122.41181999999999,37.78433 -122.41118,37.78438 -122.41165,37.78448 -122.41163,37.7846 -122.41206000000001,37.78481 -122.41083,37.784240000000004 -122.41091999999999,37.78423 -122.41098999999998,37.78427 -122.4104,37.78419 -122.41062,37.78422 -122.41107,37.78445 -122.4121,37.78465 -122.41121000000001,37.78455 -122.41278,37.78525 -122.41286000000001,37.78524 -122.41291000000001,37.785140000000006 -122.4128,37.78523 -122.41304,37.78608 -122.41178000000001,37.78688 -122.41273000000001,37.78601 -122.41212,37.78715 -122.40982,37.78736 -122.40507,37.78812 -122.4021,37.78602 -122.39956000000001,37.787409999999994 -122.39775,37.78862 -122.39792,37.78862 -122.39978,37.787890000000004 -122.40221000000001,37.78958 -122.40257,37.79166 -122.40345,37.79449 -122.40553999999999,37.79704 -122.40648999999999,37.7977 -122.41043,37.79737 -122.42002,37.79613 -122.42353,37.79588 -122.42437,37.79945 -122.426,37.79927 -122.43145,37.79858 -122.43588999999999,37.79869 -122.43785,37.79956 -122.44084,37.800259999999994 -122.4364,37.80082 -122.4356,37.79755 -122.4319,37.797579999999996 -122.42708,37.798190000000005 -122.42486000000001,37.79457 -122.42358999999999,37.78839 -122.42223,37.78139 -122.42151000000001,37.777770000000004 -122.41951999999999,37.77738 -122.41415,37.77571 -122.40862,37.77108 -122.40666999999999,37.76889 -122.40365,37.75718 -122.40598999999999,37.74353 -122.40371999999999,37.73003 -122.39893000000001,37.71694 -122.39379,37.703720000000004 -122.39073,37.69035 -122.38833000000001,37.67712 -122.39683000000001,37.66548 -122.40688,37.654340000000005 -122.40573,37.640879999999996 -122.40207,37.62753 -122.39707,37.61476 -122.38784,37.617090000000005 -122.38412,37.61697 -122.38524,37.61481 -122.38558,37.61475 -122.39088999999998,37.61492 -122.39171,37.61483 -122.39792,37.61439 -122.40271000000001,37.62743 -122.40598,37.640809999999995 -122.40711999999999,37.65423 -122.3886,37.67674 -122.39096,37.69011 -122.39395,37.70321 -122.39878,37.71608 -122.40345,37.72889 -122.40708000000001,37.742329999999995 -122.40316999999999,37.75542 -122.40543999999998,37.76883 -122.40081,37.77915 -122.40138999999999,37.78226 -122.4024,37.78352 -122.39893000000001,37.78358 -122.39886000000001,37.78367 -122.39418,37.78 -122.39216,37.7777 -122.3967,37.77411 -122.39238999999999,37.76121 -122.3931,37.74753 -122.40365,37.73645 -122.40485,37.73342 -122.40226000000001,37.72723 -122.39726999999999,37.71437 -122.39327,37.70139 -122.39031999999999,37.68833 -122.38921,37.67483 -122.39925,37.66359 -122.40682,37.65123 -122.40468,37.63779 -122.40109,37.62472 -122.39322,37.6148 -122.38696999999999,37.61782 -122.3845,37.61549 -122.38524,37.61488 -122.39223,37.6147 -122.40069,37.621829999999996 -122.40398,37.63505 -122.40208,37.66188 -122.39111000000001,37.67187 -122.38993,37.68547 -122.39295,37.69887 -122.39616000000001,37.71244 -122.40193000000001,37.72521 -122.40796,37.73771 -122.40332,37.75073 -122.40506,37.76404 -122.40418999999999,37.77668 -122.40191000000002,37.782759999999996 -122.40536999999999,37.785340000000005 -122.40658,37.78668 -122.40773,37.7929 -122.40818999999999,37.794340000000005 -122.4083,37.79564 -122.40892,37.79882 -122.40978,37.79983 -122.41006999999999,37.80025 -122.41081000000001,37.800779999999996 -122.41526999999999,37.803779999999996 -122.41865,37.80607 -122.42055,37.807629999999996 -122.42053,37.807629999999996 -122.41909,37.80762 -122.41818,37.80588 -122.4167,37.804829999999995 -122.4077,37.79858 -122.40717,37.79829 -122.40508999999999,37.796 -122.40385,37.79405 -122.40332,37.79547 -122.40461,37.796440000000004 -122.40624,37.79756 -122.40651000000001,37.79772 -122.40693999999999,37.79803 -122.40874,37.79922 -122.40951000000001,37.7998 -122.40991000000001,37.80008 -122.41058999999998,37.80059 -122.41141,37.801120000000004 -122.41555,37.804 -122.41698000000001,37.80535 -122.41814,37.806 -122.41945,37.80655 -122.41983,37.80771 -122.41708,37.80805 -122.41514,37.80831 -122.41296000000001,37.80855 -122.40908,37.80798 -122.40983,37.80699 -122.41026000000001,37.80577 -122.41023999999999,37.80571 -122.40991000000001,37.803979999999996 -122.40912,37.80038 -122.40738,37.79825 -122.40611000000001,37.79736 -122.40516000000001,37.79634 -122.40426000000001,37.79251 -122.40348,37.7889 -122.40321000000002,37.78702 -122.40274,37.786809999999996 -122.40291,37.78653 -122.40275,37.78695 -122.40215,37.78614 -122.40437,37.784259999999996 -122.40605,37.782059999999994 -122.40408000000001,37.78228 -122.40381000000001,37.78196 -122.3998,37.78689 -122.40315,37.7891 -122.40231000000001,37.7903 -122.40258999999999,37.7926 -122.40268,37.79307 -122.40422,37.79605 -122.40576999999999,37.79716 -122.40618,37.79749 -122.4081,37.79882 -122.40935,37.79965 -122.40992,37.79994 -122.41023,37.80028 -122.4109,37.8007 -122.41621,37.80448 -122.41875,37.80619 -122.41805,37.80792 -122.41694,37.80807 -122.41553,37.80825 -122.41366000000001,37.80849 -122.4103,37.80838 -122.41023,37.8084 -122.4086,37.807970000000005 -122.40661000000001,37.807179999999995 -122.40352,37.80485 -122.40286,37.8017 -122.40511000000001,37.79808 -122.40449,37.79258 -122.40398,37.78969 -122.40885,37.788070000000005 -122.41049,37.78795 -122.41103999999999,37.78714 -122.41041000000001,37.78707 -122.41228999999998,37.78781 -122.41921,37.78692 -122.42327,37.78633 -122.42538,37.788920000000005 -122.42586999999999,37.791290000000004 -122.42651000000001,37.79425 -122.4273,37.79823 -122.4299,37.80056 -122.43565,37.79985 -122.43777,37.79998 -122.43893,37.80049 -122.44123,37.80023 -122.44136,37.801 -122.44173,37.80462 -122.44216999999999,37.80495 -122.44133000000001,37.800990000000006 -122.44103999999999,37.80023 -122.43948,37.80043 -122.43777,37.80065 -122.43625,37.80377 -122.43673000000001,37.803059999999995 -122.43626,37.80069 -122.43656999999999,37.79976 -122.44173,37.79908 -122.44258,37.79867 -122.4419,37.79521 -122.4413,37.792390000000005 -122.44035,37.78777 -122.4398,37.78479 -122.43932,37.7823 -122.43847,37.77845 -122.43782,37.77503 -122.43683999999999,37.77036 -122.43558,37.76729 -122.43326,37.76565 -122.4331,37.76386 -122.43285,37.761340000000004 -122.43241,37.75679 -122.43191999999999,37.75184 -122.43151,37.74778 -122.43106999999999,37.74304 -122.43336000000001,37.7429 -122.43336000000001,37.743 -122.42745,37.74365 -122.42778999999999,37.744409999999995 -122.4278,37.74442 -122.42679,37.74457 -122.42513000000001,37.74779 -122.41949,37.74816 -122.41345,37.74828 -122.41128,37.7483 -122.40178,37.7494 -122.39211999999999,37.75007 -122.38805,37.75504 -122.3889,37.76173 -122.38975,37.76171 -122.39163,37.762370000000004 -122.39346,37.76404 -122.39676999999999,37.765229999999995 -122.40293,37.76603 -122.40716,37.76576 -122.40895,37.7697 -122.41488000000001,37.7744 -122.42096000000001,37.77534 -122.42611000000001,37.77458 -122.42751000000001,37.77431 -122.42883,37.77234 -122.43068000000001,37.77317 -122.43104,37.77518 -122.43149,37.77688 -122.43127,37.780640000000005 -122.43021,37.78076 -122.42902,37.78177 -122.43101999999999,37.78168 -122.43265,37.78139 -122.43311000000001,37.78139 -122.43311000000001,37.7814 -122.43312,37.78134 -122.4321,37.780390000000004 -122.4319,37.77908 -122.43283999999998,37.77755 -122.43758999999999,37.776959999999995 -122.43973999999999,37.77667 -122.44413999999999,37.776109999999996 -122.4465,37.77581 -122.44783000000001,37.77565 -122.45521000000001,37.77471 -122.45865,37.77427 -122.46531999999999,37.77336 -122.46598999999999,37.77455 -122.46663000000001,37.7752 -122.46691000000001,37.775290000000005 -122.46673999999999,37.775259999999996 -122.46186999999999,37.77552 -122.46213,37.780770000000004 -122.46325,37.78123 -122.46271000000002,37.78306 -122.46031,37.78535 -122.45993999999999,37.785709999999995 -122.45652,37.7861 -122.45398999999999,37.78641 -122.44668999999999,37.78735 -122.44488999999999,37.78756 -122.43983999999999,37.78819 -122.43533000000001,37.788759999999996 -122.42961000000001,37.78948 -122.42575,37.79006 -122.42645,37.79397 -122.42657,37.79525 -122.42307,37.795770000000005 -122.42215,37.79592 -122.41078999999999,37.79739 -122.41095,37.80024 -122.41351999999999,37.79991 -122.41739,37.79942 -122.41926000000001,37.79919 -122.42266000000001,37.798759999999994 -122.42465,37.79845 -122.42466,37.79846 -122.42969,37.79783 -122.4313,37.79759 -122.43507,37.79703 -122.43516000000001,37.79472 -122.43183,37.79466 -122.42679,37.79521 -122.42491000000001,37.79558 -122.42166999999999,37.79613 -122.41134,37.79725 -122.40603999999999,37.79789 -122.40507,37.79567 -122.40418999999999,37.79137 -122.4031,37.78723 -122.40117,37.7857 -122.39988999999998,37.785379999999996 -122.39906,37.7861 -122.39913,37.78651 -122.40077,37.78781 -122.40257,37.790420000000005 -122.40258,37.791129999999995 -122.40302,37.79372 -122.40552,37.79703 -122.40621000000002,37.7975 -122.40777,37.79868 -122.40671999999999,37.797979999999995 -122.40628999999998,37.79762 -122.40491000000002,37.79486 -122.40395,37.791579999999996 -122.40085,37.79292 -122.40053,37.79495 -122.40078999999999,37.79472 -122.40463999999999,37.794290000000004 -122.40413000000001,37.791270000000004 -122.40373999999998,37.788790000000006 -122.40365,37.78882 -122.40231999999999,37.786570000000005 -122.40253,37.78584 -122.40658,37.785959999999996 -122.40798999999998,37.78589 -122.40796999999999,37.78607 -122.40831000000001,37.78662 -122.41043,37.78603 -122.4135,37.785779999999995 -122.41861999999999,37.78508 -122.42173000000001,37.784690000000005 -122.42334,37.7846 -122.42543,37.7852 -122.43531000000002,37.78394 -122.43937,37.78303 -122.43858,37.779109999999996 -122.43746999999999,37.77348 -122.43700000000001,37.771159999999995 -122.43576999999999,37.76885 -122.43553,37.76645 -122.43516000000001,37.76267 -122.435,37.76121 -122.43321999999999,37.76101 -122.42634,37.76144 -122.42363999999999,37.76161 -122.42146000000001,37.76044 -122.42103999999999,37.76015 -122.41994,37.7586 -122.42145,37.7585 -122.42325,37.75598 -122.42293000000001,37.752629999999996 -122.42583,37.75181 -122.42718,37.7491 -122.42697,37.7467 -122.42669,37.74232 -122.42669,37.742309999999996 -122.42705,37.74693 -122.42735,37.75038 -122.43035,37.751529999999995 -122.43327,37.75135 -122.4344,37.75436 -122.43488,37.759240000000005 -122.43513999999999,37.760870000000004 -122.4362,37.760940000000005 -122.43616999999999,37.76092 -122.4362,37.76095 -122.43625,37.76099 -122.43618000000001,37.760909999999996 -122.43614,37.76082 -122.43621999999999,37.76093 -122.43618000000001,37.76088 -122.43616999999999,37.760870000000004 -122.4362,37.760940000000005 -122.43616999999999,37.76089 -122.43619,37.76096 -122.43633999999999,37.76081 -122.4353,37.76265 -122.43551000000001,37.76593 -122.43616999999999,37.769690000000004 -122.43761,37.77122 -122.44333999999999,37.77048 -122.44576,37.770179999999996 -122.44758,37.76993 -122.45161999999999,37.7694 -122.45373000000001,37.76968 -122.4541,37.77193 -122.45115,37.77238 -122.4462,37.77405 -122.44675,37.77694 -122.4474,37.780159999999995 -122.44742,37.784259999999996 -122.44682,37.7875 -122.44708999999999,37.78873 -122.4477,37.79188 -122.44856999999999,37.79452 -122.45133,37.797740000000005 -122.45442,37.80081 -122.45445,37.80076 -122.45455,37.800779999999996 -122.458,37.797309999999996 -122.45799,37.79732 -122.45708,37.798559999999995 -122.45293000000001,37.800129999999996 -122.44893,37.79761 -122.44573999999999,37.7987 -122.44186,37.79914 -122.43607,37.79984 -122.43597,37.79971 -122.43588999999999,37.799820000000004 -122.43616000000002,37.79978 -122.43778,37.800059999999995 -122.43964,37.80042 -122.44311,37.79997 -122.44513,37.80162 -122.44703999999999,37.80392 -122.447,37.805279999999996 -122.44463,37.80554 -122.441,37.80507 -122.43635,37.80278 -122.43103,37.80023 -122.42962,37.79787 -122.42961000000001,37.79788 -122.4286,37.79804 -122.42536000000001,37.79725 -122.42366000000001,37.795759999999994 -122.41131999999999,37.797270000000005 -122.40795,37.79785 -122.40636,37.797990000000006 -122.40513,37.796890000000005 -122.40484,37.79554 -122.4024,37.79084 -122.40233,37.79068 -122.4022,37.78987 -122.40263,37.78669 -122.39703,37.782309999999995 -122.39216,37.77854 -122.39771999999999,37.772870000000005 -122.39227,37.76015 -122.39045,37.75103 -122.39452,37.75131 -122.3945,37.75132 -122.39448999999999,37.751290000000004 -122.39453,37.7513 -122.3945,37.75131 -122.39452,37.751259999999995 -122.39451000000001,37.75128 -122.39451000000001,37.751290000000004 -122.39452,37.7513 -122.39453,37.751329999999996 -122.39451000000001,37.75134 -122.39453,37.751259999999995 -122.39448,37.75137 -122.39455,37.75125 -122.39451000000001,37.75142 -122.39453999999999,37.75134 -122.39453999999999,37.751329999999996 -122.39452,37.75132 -122.39452,37.751259999999995 -122.39456000000001,37.751290000000004 -122.39453999999999,37.75132 -122.39453999999999,37.751259999999995 -122.39456000000001,37.751329999999996 -122.39453999999999,37.75141 -122.39453999999999,37.75134 -122.39453,37.751259999999995 -122.39453,37.75127 -122.39451000000001,37.75135 -122.3945,37.75136 -122.39452,37.7513 -122.39451000000001,37.75138 -122.39451000000001,37.7515 -122.3945,37.75136 -122.3945,37.75123 -122.39448999999999,37.75127 -122.3945,37.75136 -122.39451000000001,37.751259999999995 -122.39451000000001,37.7513 -122.39453,37.75147 -122.39453999999999,37.7513 -122.39453,37.75128 -122.39456000000001,37.7514 -122.39458,37.75138 -122.39451000000001,37.751259999999995 -122.39457,37.75145 -122.39461000000001,37.75157 -122.39466999999999,37.75161 -122.39478000000001,37.75177 -122.39477,37.75176 -122.39506999999999,37.75222 -122.39457,37.75136 -122.39459,37.7514 -122.39459,37.75137 -122.39453999999999,37.75127 -122.39459,37.75136 -122.39453,37.75123 -122.39458,37.75134 -122.39457,37.75132 -122.39453999999999,37.7513 -122.39455,37.751290000000004 -122.39458,37.751329999999996 -122.39458,37.751329999999996 -122.39455,37.75128 -122.39457,37.75132 -122.39457,37.75138 -122.39451000000001,37.75132 -122.39451000000001,37.75135 -122.39453999999999,37.751290000000004 -122.39457,37.7513 -122.39453,37.75132 -122.39448,37.75128 -122.39448,37.751329999999996 -122.39448,37.75135 -122.39455,37.75131 -122.39456000000001,37.75132 -122.39448999999999,37.75134 -122.39446000000001,37.75137 -122.39443999999999,37.75141 -122.39447,37.75135 -122.39453999999999,37.751290000000004 -122.39456000000001,37.75128 -122.3945,37.7513 -122.39452,37.75128 -122.39448999999999,37.75134 -122.39453999999999,37.75127 -122.39459,37.75127 -122.39453,37.75127 -122.39448,37.75124 -122.39451000000001,37.751259999999995 -122.39453,37.75123 -122.39457,37.75128 -122.39458,37.75128 -122.39456000000001,37.75128 -122.3946,37.75131 -122.39455,37.75127 -122.39452,37.75131 -122.3945,37.75124 -122.39457,37.75137 -122.39461999999999,37.75131 -122.3946,37.75132 -122.39458,37.751329999999996 -122.39453,37.75127 -122.39453999999999,37.75124 -122.39453999999999,37.7513 -122.39456000000001,37.751290000000004 -122.39453999999999,37.75124 -122.39455,37.75132 -122.39442,37.7513 -122.39443,37.75132 -122.39453,37.7513 -122.39453999999999,37.75123 -122.39452,37.75116 -122.39456000000001,37.75124 -122.39458,37.75144 -122.39433999999999,37.75134 -122.39448999999999,37.75137 -122.39458,37.75132 -122.39458,37.75122 -122.39455,37.75123 -122.39456000000001,37.75134 -122.39448999999999,37.75136 -122.39448999999999,37.7513 -122.39453,37.75122 -122.39453999999999,37.75121 -122.39451000000001,37.7513 -122.39455,37.75125 -122.39455,37.75122 -122.39442,37.7513 -122.39445,37.751329999999996 -122.39458,37.751290000000004 -122.39457,37.75127 -122.39448999999999,37.75128 -122.39453999999999,37.75125 -122.39453,37.75131 -122.39455,37.751290000000004 -122.3946,37.75125 -122.39451000000001,37.75125 -122.39448999999999,37.75138 -122.39458,37.75121 -122.39457,37.75119 -122.39461000000001,37.75127 -122.39455,37.75131 -122.3945,37.75132 -122.39459,37.751259999999995 -122.39458,37.75134 -122.39459,37.75135 -122.39457,37.75128 -122.39457,37.751290000000004 -122.39459,37.75132 -122.39456000000001,37.75132 -122.3945,37.751290000000004 -122.3945,37.75128 -122.39461000000001,37.75134 -122.39465,37.75136 -122.39455,37.75136 -122.39458,37.7513 -122.39451000000001,37.751290000000004 -122.39463,37.75132 -122.39459,37.75131 -122.39453999999999,37.75134 -122.39455,37.75128 -122.39448,37.75128 -122.39455,37.751290000000004 -122.39453,37.751329999999996 -122.39453999999999,37.75128 -122.39453999999999,37.75122 -122.39456000000001,37.751290000000004 -122.39457,37.75136 -122.39455,37.75128 -122.39453999999999,37.75143 -122.39451000000001,37.75141 -122.39448999999999,37.75142 -122.39455,37.75135 -122.39455,37.75134 -122.3945,37.75142 -122.3945,37.75142 -122.39447,37.751490000000004 -122.39452,37.75143 -122.39447,37.75147 -122.39452,37.75142 -122.39456000000001,37.75132 -122.39537,37.75136 -122.3954,37.75132 -122.3953,37.75162 -122.39737,37.74969 -122.39748999999999,37.74968 -122.40608999999999,37.74892 -122.41386000000001,37.74823 -122.41591000000001,37.748459999999994 -122.41618000000001,37.74857 -122.41611999999999,37.74852 -122.41605,37.74859 -122.41601000000001,37.74905 -122.41643,37.75397 -122.41801000000001,37.75887 -122.4187,37.76194 -122.42185,37.76325 -122.42206000000002,37.76508 -122.42231000000001,37.768679999999996 -122.42253999999998,37.7726 -122.4204,37.77421 -122.4188,37.77555 -122.41498999999999,37.7789 -122.41572,37.78252 -122.41618999999999,37.78346 -122.42093999999999,37.7832 -122.42191000000001,37.788470000000004 -122.42178,37.78953 -122.42058,37.79061 -122.41946000000002,37.792809999999996 -122.41972,37.79345 -122.42171,37.793279999999996 -122.42446000000001,37.7928 -122.42336,37.78668 -122.42353999999999,37.784690000000005 -122.42881000000001,37.7848 -122.43843999999999,37.78352 -122.45315,37.78154 -122.45105,37.78158 -122.4519,37.7818 -122.45568999999999,37.779920000000004 -122.45483999999999,37.776140000000005 -122.45343999999999,37.7712 -122.455,37.76833 -122.46378999999999,37.766020000000005 -122.46813,37.76585 -122.47753999999999,37.7654 -122.48001000000001,37.76532 -122.48187,37.7652 -122.48791000000001,37.764920000000004 -122.48895,37.76381 -122.49004,37.763000000000005 -122.49556000000001,37.76274 -122.49616,37.76273 -122.4986,37.76275 -122.49531,37.76468 -122.48541999999999,37.76513 -122.47743999999999,37.76546 -122.47469,37.76558 -122.46627,37.76595 -122.46133,37.7662 -122.45501000000002,37.769490000000005 -122.44779,37.77283 -122.44655,37.77575 -122.44757,37.78092 -122.447,37.78233 -122.44331000000001,37.782920000000004 -122.43423999999999,37.784240000000004 -122.42851999999999,37.785 -122.42263,37.7856 -122.42112,37.78601 -122.41955,37.78595 -122.41882,37.785920000000004 -122.41882,37.78597 -122.41625,37.786429999999996 -122.41428,37.78637 -122.41126000000001,37.78675 -122.41208999999999,37.7859 -122.4135,37.78549 -122.41618000000001,37.78577 -122.41682,37.78873 -122.41727,37.79094 -122.41943,37.792629999999996 -122.42022,37.79674 -122.4223,37.798590000000004 -122.42211,37.797579999999996 -122.42182,37.79575 -122.42126999999999,37.7937 -122.42101000000001,37.79209 -122.42098,37.791940000000004 -122.4204,37.78967 -122.42008999999999,37.78783 -122.41618000000001,37.78835 -122.41506000000001,37.788270000000004 -122.41503,37.788109999999996 -122.41528000000001,37.78757 -122.41426000000001,37.78476 -122.4093,37.78505 -122.40872,37.78465 -122.40841,37.78447 -122.40614,37.78266 -122.40405,37.780840000000005 -122.40149,37.78093 -122.40133999999999,37.78095 -122.40149,37.78203 -122.40245,37.7835 -122.39953999999999,37.785709999999995 -122.39902,37.78642 -122.39936000000002,37.78674 -122.39995,37.78675 -122.40158999999998,37.78778 -122.40293,37.79182 -122.40396000000001,37.79146 -122.40373999999998,37.79137 -122.40381000000001,37.790279999999996 -122.40393,37.79025 -122.40265,37.7904 -122.40405,37.795429999999996 -122.40418000000001,37.79605 -122.40482,37.79609 -122.40463000000001,37.794979999999995 -122.40342,37.794470000000004 -122.40278,37.79317 -122.3984,37.79745 -122.39735,37.79595 -122.39662,37.78991 -122.39854,37.78926 -122.4004,37.787440000000004 -122.4003,37.78504 -122.39808000000001,37.786640000000006 -122.3972,37.7861 -122.39733000000001,37.786 -122.39995,37.78782 -122.40036,37.78508 -122.39988000000001,37.785109999999996 -122.39983000000001,37.78513 -122.39984,37.78526 -122.39955,37.78581 -122.4,37.78774 -122.40151999999999,37.788129999999995 -122.4016,37.78929 -122.40253,37.79075 -122.40293999999999,37.79175 -122.40287,37.79203 -122.40252,37.793209999999995 -122.4031,37.79462 -122.40413000000001,37.79611 -122.40588000000001,37.79725 -122.4065,37.7977 -122.40876999999999,37.798629999999996 -122.40928000000001,37.79854 -122.41072,37.799440000000004 -122.41085,37.80032 -122.41116000000001,37.8016 -122.40958,37.80213 -122.40959,37.80214 -122.40953999999999,37.8013 -122.40996000000001,37.80021 -122.40838000000001,37.79908 -122.40756,37.79854 -122.40735,37.79838 -122.40468999999999,37.79472 -122.40348,37.791920000000005 -122.4045,37.78881 -122.40496999999999,37.78714 -122.40697,37.78658 -122.40773999999999,37.78646 -122.4093,37.78629 -122.40972,37.78756 -122.40906000000001,37.78756 -122.40851,37.78804 -122.40876999999999,37.78906 -122.40701999999999,37.78955 -122.40693999999999,37.79048 -122.40751000000002,37.79197 -122.40756,37.792359999999995 -122.40741000000001,37.7923 -122.4059,37.79249 -122.4027,37.792840000000005 -122.39967,37.7931 -122.39801999999999,37.79379 -122.39639,37.79381 -122.39657,37.79385 -122.39735,37.79722 -122.40115,37.79853 -122.40395,37.79822 -122.40932,37.79755 -122.41056,37.79871 -122.41003,37.80035 -122.40907,37.799820000000004 -122.40858999999999,37.79959 -122.40713000000001,37.798320000000004 -122.40616000000001,37.79752 -122.40517,37.7961 -122.40418000000001,37.791579999999996 -122.40409,37.788940000000004 -122.40706999999999,37.78849 -122.40838000000001,37.787290000000006 -122.40808,37.78666 -122.40815,37.7865 -122.40861000000001,37.78518 -122.40969,37.78438 -122.41418,37.78362 -122.4135,37.78099 -122.41078999999999,37.7794 -122.41033999999999,37.779720000000005 -122.40651000000001,37.78294 -122.40393999999999,37.78481 -122.40285,37.785759999999996 -122.40082,37.78723 -122.40347,37.78774 -122.40427,37.78937 -122.40273,37.79238 -122.40298,37.79305 -122.4028,37.79373 -122.40342,37.794579999999996 -122.40603,37.797340000000005 -122.40768999999999,37.79851 -122.40957,37.799859999999995 -122.40953,37.79994 -122.41065,37.800540000000005 -122.41117,37.80095 -122.41422,37.80307 -122.41767,37.80547 -122.41962,37.80679 -122.42065,37.80697 -122.41923,37.8078 -122.41708,37.80806 -122.41568000000001,37.808279999999996 -122.41263000000001,37.80862 -122.41071000000001,37.8084 -122.40976,37.80835 -122.4096,37.80836 -122.40911000000001,37.807990000000004 -122.41203,37.806779999999996 -122.4164,37.80624 -122.41703999999999,37.80806 -122.4158,37.80835 -122.4155,37.80655 -122.4167,37.80522 -122.41485,37.80332 -122.41448999999999,37.80263 -122.414,37.79925 -122.4133,37.7957 -122.41156000000001,37.78725 -122.40768,37.78752 -122.40813,37.78718 -122.40823999999999,37.787259999999996 -122.40831999999999,37.78727 -122.40845,37.78801 -122.4118,37.78801 -122.41495,37.787209999999995 -122.41475,37.78647 -122.41183000000001,37.786809999999996 -122.41228000000001,37.78638 -122.41443000000001,37.78464 -122.41434,37.78425 -122.41599,37.78334 -122.41743000000001,37.782309999999995 -122.41727,37.781690000000005 -122.41622,37.7774 -122.41453,37.77646 -122.41452,37.776540000000004 -122.41457,37.77635 -122.41426000000001,37.77828 -122.41676000000001,37.77983 -122.41657,37.77839 -122.41288,37.7748 -122.41256000000001,37.77308 -122.41468,37.77131 -122.41566,37.76918 -122.41635,37.76527 -122.41863000000001,37.76507 -122.42186000000001,37.7642 -122.42172,37.762879999999996 -122.42126999999999,37.75827 -122.42315,37.75502 -122.42301,37.75372 -122.42522,37.75342 -122.42796000000001,37.75327 -122.42963999999999,37.75029 -122.42921000000001,37.74666 -122.42839,37.74368 -122.42716000000001,37.74367 -122.42396000000001,37.7406 -122.42399999999999,37.73853 -122.42448999999999,37.73588 -122.42938000000001,37.73067 -122.43236,37.72757 -122.43451999999999,37.72503 -122.43651000000001,37.72238 -122.4334,37.71974 -122.43051000000001,37.71835 -122.43021999999999,37.71822 -122.43021999999999,37.71823 -122.43021999999999,37.71825 -122.43041000000001,37.71832 -122.43361999999999,37.71478 -122.43782,37.71198 -122.44197,37.71046 -122.44616,37.70814 -122.45212,37.70609 -122.45307,37.70327 -122.45307,37.70328 -122.45363,37.70308 -122.4562,37.7064 -122.45812,37.70916 -122.45673000000001,37.71045 -122.45318999999999,37.712920000000004 -122.44774,37.72361 -122.43428,37.73169 -122.4177,37.732 -122.40256000000001,37.73723 -122.39313999999999,37.74824 -122.39267,37.762 -122.39703,37.77411 -122.38996999999999,37.77968 -122.38832,37.78303 -122.39003000000001,37.79068 -122.39238,37.79266 -122.3925,37.792609999999996 -122.39251000000002,37.7926 -122.39238999999999,37.79274 -122.39451000000001,37.79241 -122.39781,37.78949 -122.40071999999999,37.78747 -122.40353,37.78519 -122.40467,37.78435 -122.40725,37.78333 -122.40983999999999,37.78434 -122.41296000000001,37.78602 -122.41179,37.78705 -122.41,37.7871 -122.4099,37.78778 -122.41081000000001,37.788070000000005 -122.41336000000001,37.787890000000004 -122.41398000000001,37.79058 -122.41208,37.79169 -122.4112,37.79271 -122.41095,37.792320000000004 -122.4111,37.7918 -122.41431000000001,37.791959999999996 -122.41701,37.79717 -122.41748,37.79951 -122.41803,37.80242 -122.42031000000001,37.804840000000006 -122.42028,37.80518 -122.42039,37.80576 -122.42056000000001,37.806779999999996 -122.4206,37.80695 -122.41878999999999,37.80782 -122.41721000000001,37.807970000000005 -122.41557,37.80823 -122.41532,37.80826 -122.41402,37.80839 -122.41326000000001,37.80851 -122.41073,37.80838 -122.41037,37.808409999999995 -122.41006999999999,37.80836 -122.40998,37.80835 -122.40995,37.80835 -122.40906000000001,37.80793 -122.41028999999999,37.805890000000005 -122.41006999999999,37.80478 -122.40948999999999,37.80218 -122.4093,37.80089 -122.40898999999999,37.7996 -122.4079,37.79869 -122.40631,37.79765 -122.40406999999999,37.79268 -122.40756999999999,37.79226 -122.41118999999999,37.79181 -122.41161000000001,37.78895 -122.40957,37.789190000000005 -122.40669,37.78965 -122.40538000000001,37.78962 -122.40533,37.78855 -122.40303,37.786809999999996 -122.40222,37.78658 -122.3992,37.78815 -122.39621000000001,37.78973 -122.39753999999999,37.792590000000004 -122.40043,37.79332 -122.40168,37.794779999999996 -122.40608999999999,37.79736 -122.40834,37.79892 -122.40947,37.79976 -122.40985,37.79999 -122.41188999999999,37.80147 -122.41561999999999,37.804 -122.41941000000001,37.806670000000004 -122.42021000000001,37.80764 -122.41723999999999,37.80806 -122.41618000000001,37.808209999999995 -122.41563000000001,37.808279999999996 -122.41545,37.80831 -122.41412,37.808209999999995 -122.41402,37.80769 -122.41391000000002,37.80728 -122.41381000000001,37.80659 -122.4131,37.803090000000005 -122.41288999999999,37.801809999999996 -122.41224,37.79857 -122.41167,37.7956 -122.41113999999999,37.792609999999996 -122.41145,37.791779999999996 -122.41225,37.7902 -122.41134,37.78695 -122.40835,37.78751 -122.40835,37.78761 -122.40851,37.78902 -122.40843000000001,37.78948 -122.40736000000001,37.78945 -122.40369,37.79018 -122.40227,37.79137 -122.40008999999999,37.79248 -122.4006,37.796 -122.40243999999998,37.79834 -122.40628000000001,37.79785 -122.40746000000001,37.797779999999996 -122.41095,37.79725 -122.42196000000001,37.795840000000005 -122.42466,37.79567 -122.42388000000001,37.78966 -122.4251,37.788129999999995 -122.43401999999999,37.78699 -122.44163999999999,37.78603 -122.44679,37.78545 -122.44756000000001,37.78152 -122.44736999999999,37.78071 -122.44646000000002,37.77554 -122.44608000000001,37.77388 -122.45258999999999,37.77154 -122.45491000000001,37.7687 -122.46231,37.766059999999996 -122.46775,37.765859999999996 -122.47551000000001,37.7655 -122.4787,37.76535 -122.48414,37.76509 -122.48895,37.76491 -122.49573000000001,37.7616 -122.49523,37.75408 -122.49557,37.751529999999995 -122.49901000000001,37.75137 -122.50102,37.75076 -122.5011,37.75249 -122.50148,37.75683 -122.50323999999999,37.75287 -122.49772,37.75143 -122.49686000000001,37.751490000000004 -122.49466000000001,37.75159 -122.49091000000001,37.75173 -122.4834,37.75207 -122.47748,37.752790000000005 -122.47661000000001,37.75549 -122.47711000000001,37.76212 -122.47735,37.765390000000004 -122.47922,37.77202 -122.47183999999999,37.773759999999996 -122.47227,37.77968 -122.47251000000001,37.78273 -122.46958000000001,37.79609 -122.4702,37.802890000000005 -122.462,37.80175 -122.45091000000001,37.804 -122.44708999999999,37.8052 -122.44353999999998,37.805679999999995 -122.43583000000001,37.806309999999996 -122.43221000000001,37.80522 -122.42589,37.80406 -122.42133000000001,37.80468 -122.41783999999998,37.80513 -122.41336000000001,37.80251 -122.4109,37.80086 -122.41056,37.8006 -122.40942,37.79981 -122.40666,37.797909999999995 -122.40522,37.79811 -122.40326,37.79835 -122.4015,37.79502 -122.40012,37.794109999999996 -122.3975,37.794470000000004 -122.3946,37.792590000000004 -122.39325,37.790659999999995 -122.39215,37.79148 -122.39311000000001,37.79288 -122.39606,37.79091 -122.39721000000002,37.79012 -122.39876000000001,37.78882 -122.40125,37.78665 -122.40438999999999,37.784490000000005 -122.40657,37.78262 -122.40893999999999,37.78076 -122.41485,37.77612 -122.41838999999999,37.77305 -122.41906999999999,37.77218 -122.41991999999999,37.769890000000004 -122.42001,37.76931 -122.41973,37.76619 -122.41923,37.76181 -122.41916,37.76007 -122.41888,37.75656 -122.41838999999999,37.75178 -122.41818,37.748259999999995 -122.4193,37.746520000000004 -122.42156000000001,37.74296 -122.42393999999999,37.738659999999996 -122.42525,37.734790000000004 -122.42933000000001,37.73067 -122.43252,37.727540000000005 -122.43418999999999,37.7255 -122.43528,37.72401 -122.43587,37.72314 -122.43178999999999,37.72116 -122.42761999999999,37.71917 -122.42097,37.718759999999996 -122.41435,37.71823 -122.41355,37.718379999999996 -122.40648999999999,37.72023 -122.40369,37.722559999999994 -122.40558999999999,37.72442 -122.40893,37.72463 -122.4094,37.72575 -122.41053000000001,37.728429999999996 -122.4108,37.72977 -122.4056,37.73113 -122.40777,37.73684 -122.40455,37.74841 -122.41174,37.74825 -122.41593999999999,37.7485 -122.41613000000001,37.75051 -122.41661,37.75396 -122.4184,37.75237 -122.41835,37.751529999999995 -122.41846000000001,37.74771 -122.41915,37.74669 -122.42253999999998,37.74136 -122.42398,37.73857 -122.42428000000001,37.73663 -122.42652,37.73356 -122.43071,37.72936 -122.43337,37.72655 -122.43498999999998,37.72442 -122.43605,37.723009999999995 -122.43609,37.721090000000004 -122.43226000000001,37.71926 -122.43186999999999,37.7191 -122.43046000000001,37.7184 -122.43028000000001,37.71832 -122.4302,37.71829 -122.43019,37.71833 -122.43015,37.71826 -122.43144,37.71882 -122.43417,37.721309999999995 -122.43575,37.72363 -122.43574,37.72363 -122.43542,37.72401 -122.43481000000001,37.728429999999996 -122.43058,37.73079 -122.42603000000001,37.73121 -122.41237,37.7335 -122.40511000000001,37.745329999999996 -122.40568999999999,37.75875 -122.40558,37.7696 -122.4013,37.77871 -122.40296000000001,37.783359999999995 -122.40475,37.7848 -122.40628000000001,37.7863 -122.40648999999999,37.7865 -122.40715,37.78658 -122.40771000000001,37.78674 -122.40851,37.7861 -122.40798999999998,37.783570000000005 -122.40732,37.78347 -122.40556000000001,37.783559999999994 -122.40565,37.78569 -122.40682,37.78497 -122.40738,37.78453 -122.40878000000001,37.78332 -122.40895,37.78324 -122.40978999999999,37.78229 -122.41117,37.7816 -122.41457,37.77884 -122.41788000000001,37.776140000000005 -122.41904,37.77527 -122.41891000000001,37.77453 -122.41895,37.772420000000004 -122.42,37.7703 -122.41996999999999,37.7695 -122.41973999999999,37.765440000000005 -122.41953000000001,37.763459999999995 -122.41925,37.7609 -122.41881000000001,37.75642 -122.41883,37.75628 -122.4186,37.75437 -122.41845,37.75388 -122.41745,37.7534 -122.41729,37.752320000000005 -122.41623,37.7522 -122.41588999999999,37.748740000000005 -122.41325,37.74835 -122.41049,37.74835 -122.41041000000001,37.74835 -122.40183,37.74944 -122.39583999999999,37.749829999999996 -122.39538,37.750209999999996 -122.39541000000001,37.7502 -122.39538999999999,37.75027 -122.39527,37.75104 -122.39526000000001,37.75112 -122.39403999999999,37.75205 -122.39363,37.75148 -122.39458,37.75127 -122.39457,37.751290000000004 -122.39458,37.75128 -122.39453999999999,37.75135 -122.3946,37.75131 -122.39458,37.751329999999996 -122.39452,37.75137 -122.39461000000001,37.75139 -122.3947,37.75135 -122.39466999999999,37.75131 -122.39458,37.75134 -122.39459,37.7513 -122.39463,37.75134 -122.3946,37.7513 -122.3946,37.75127 -122.39461999999999,37.751290000000004 -122.39459,37.75123 -122.39461999999999,37.75128 -122.39466999999999,37.75135 -122.39459,37.75136 -122.39352,37.751490000000004 -122.39352,37.7515 -122.39353999999999,37.75155 -122.39414,37.75142 -122.39413,37.751540000000006 -122.39412,37.75205 -122.39396,37.751459999999994 -122.39402,37.75138 -122.39527,37.7514 -122.39513000000001,37.75183 -122.39473999999998,37.7498 -122.40337,37.75119 -122.40516000000001,37.76419 -122.41751000000001,37.76967 -122.42433999999999,37.77563 -122.42408,37.77576 -122.42348,37.77888 -122.42182,37.77991 -122.41953000000001,37.78333 -122.42093999999999,37.786229999999996 -122.4213,37.7858 -122.42112,37.784929999999996 -122.42028,37.78103 -122.42008,37.779509999999995 -122.41908000000001,37.7746 -122.41989,37.7703 -122.41962,37.76517 -122.41944,37.765029999999996 -122.41323,37.76548 -122.40958,37.76632 -122.41233999999999,37.76549 -122.41956,37.765 -122.42006,37.76842 -122.41977,37.76855 -122.42013,37.76856 -122.42026000000001,37.76852 -122.42029,37.7717 -122.41942,37.77544 -122.42013,37.779140000000005 -122.42067,37.78222 -122.42223,37.7893 -122.42226000000001,37.78953 -122.42357,37.79596 -122.42578,37.80106 -122.43601000000001,37.79977 -122.43721000000001,37.797059999999995 -122.43435,37.797270000000005 -122.43359,37.79736 -122.42718,37.798159999999996 -122.42508000000001,37.79607 -122.42386,37.79665 -122.42491000000001,37.794709999999995 -122.42424,37.79104 -122.42378000000001,37.788940000000004 -122.42233,37.78198 -122.42152,37.7778 -122.4207,37.77725 -122.41712,37.77768 -122.41308000000001,37.78038 -122.40908,37.78066 -122.40491000000002,37.78508 -122.40836999999999,37.7836 -122.4086,37.78087 -122.40698,37.77964 -122.40498000000001,37.7767 -122.40203000000001,37.77882 -122.39844,37.78065 -122.39146000000001,37.78582 -122.38521000000001,37.791309999999996 -122.38417,37.7923 -122.37312,37.80267 -122.36976000000001,37.80584 -122.35748000000001,37.81469 -122.34208999999998,37.81945 -122.32542,37.822109999999995 -122.31817,37.82407 -122.31353999999999,37.82516 -122.29858999999999,37.82197 -122.30448999999999,37.80977 -122.29061000000002,37.802890000000005 -122.27475,37.79848 -122.26076,37.79099 -122.24531,37.78627 -122.2348,37.775729999999996 -122.22053000000001,37.768879999999996 -122.21141999999999,37.75779 -122.20176000000001,37.746790000000004 -122.19209,37.7358 -122.18246,37.72483 -122.17155,37.71409 -122.1591,37.70534 -122.1462,37.696459999999995 -122.13351000000002,37.68769 -122.12058,37.67881 -122.10911999999999,37.66908 -122.10146999999999,37.65712 -122.10558999999999,37.65475 -122.11435,37.65303 -122.1196,37.652840000000005 -122.11958,37.65268 -122.11955,37.65268 -122.11965,37.6525 -122.11983000000001,37.65248 -122.12584,37.65295 -122.12615,37.65293 -122.12633999999998,37.65309 -122.12223,37.65316 -122.11006,37.653220000000005 -122.10618000000001,37.654709999999994 -122.10623999999999,37.663740000000004 -122.11563999999998,37.67514 -122.1281,37.6837 -122.14068999999999,37.69242 -122.15361000000001,37.70134 -122.16673999999999,37.71051 -122.17818,37.72041 -122.18818,37.7311 -122.19778000000001,37.74208 -122.20747,37.75314 -122.21728,37.76429 -122.22961000000001,37.77373 -122.24098000000001,37.78382 -122.25618,37.78957 -122.27053000000001,37.79671 -122.28567,37.80243 -122.3022,37.80366 -122.29855,37.8167 -122.30713999999999,37.82451 -122.32346000000001,37.822109999999995 -122.33955,37.820029999999996 -122.37062,37.80495 -122.38165,37.79445 -122.39145,37.78545 -122.40032,37.77871 -122.40614,37.769009999999994 -122.41841000000001,37.76894 -122.41981000000001,37.77002 -122.4196,37.76525 -122.41978999999999,37.76509 -122.42201000000001,37.76495 -122.42648,37.76467 -122.42883,37.76453 -122.43061999999999,37.76441 -122.43488,37.76276 -122.43831000000002,37.760690000000004 -122.43945,37.76063 -122.44317,37.75778 -122.44094,37.75683 -122.43981000000001,37.7553 -122.43813,37.75877 -122.43661999999999,37.76077 -122.43818999999999,37.75978 -122.43788,37.75652 -122.4391,37.75649 -122.43903999999999,37.756370000000004 -122.43906000000001,37.75631 -122.43874,37.75333 -122.43805,37.74868 -122.43182,37.74902 -122.43113000000001,37.74343 -122.42446000000001,37.742259999999995 -122.42131,37.74041 -122.41601999999999,37.73905 -122.41006000000002,37.73979 -122.40991000000001,37.73977 -122.40692,37.74072 -122.40276000000001,37.74621 -122.39731,37.74951 -122.39538,37.74995 -122.39523,37.7513 -122.39413,37.74988 -122.40183,37.74942 -122.4114,37.74827 -122.41355,37.748259999999995 -122.4185,37.74814 -122.42058,37.748059999999995 -122.42263,37.753609999999995 -122.42251,37.75362 -122.42106000000001,37.75577 -122.42181000000001,37.76343 -122.4225,37.76999 -122.42078000000001,37.77167 -122.41848,37.773340000000005 -122.41583999999999,37.77539 -122.41155,37.778729999999996 -122.40408000000001,37.78456 -122.39991,37.78752 -122.39955,37.78787 -122.39952,37.79065 -122.39981,37.790440000000004 -122.40194,37.78839 -122.40496,37.78641 -122.41017,37.7823 -122.41375,37.779579999999996 -122.4149,37.77856 -122.41475,37.77632 -122.41467,37.7763 -122.41413999999999,37.776720000000005 -122.41453999999999,37.778529999999996 -122.4157,37.7825 -122.4165,37.78618 -122.41095,37.78698 -122.41008000000001,37.78788 -122.41005,37.78779 -122.41187,37.78785 -122.41317,37.78787 -122.41333999999999,37.79063 -122.41281000000001,37.790690000000005 -122.41126000000001,37.786429999999996 -122.41,37.78219 -122.40858999999999,37.78089 -122.40545,37.77844 -122.40082,37.77471 -122.39403,37.76619 -122.39079,37.75294 -122.39451000000001,37.74986 -122.39506999999999,37.751329999999996 -122.39506999999999,37.75134 -122.39471999999999,37.75163 -122.39464,37.751670000000004 -122.39464,37.751709999999996 -122.39466999999999,37.75168 -122.39471,37.7517 -122.3947,37.75172 -122.39464,37.75166 -122.39468000000001,37.75166 -122.39466000000002,37.75166 -122.39466000000002,37.75169 -122.39465,37.75168 -122.39466000000002,37.75168 -122.39466000000002,37.75172 -122.39463,37.751670000000004 -122.39465,37.75168 -122.39464,37.751670000000004 -122.39463,37.75164 -122.39461999999999,37.75166 -122.39464,37.7517 -122.39461999999999,37.75162 -122.39465,37.75166 -122.39461999999999,37.75168 -122.39533999999999,37.7514 -122.39343000000001,37.75076 -122.39226000000001,37.749829999999996 -122.40092,37.73881 -122.41723999999999,37.73186 -122.43431000000001,37.7313 -122.44501000000001,37.73154 -122.45338000000001,37.73149 -122.46348,37.73087 -122.46521000000001,37.7312 -122.46525,37.731159999999996 -122.46498000000001,37.73186 -122.46633999999999,37.735640000000004 -122.46596000000001,37.73935 -122.46293999999999,37.74438 -122.46016000000002,37.74942 -122.46381000000001,37.75817 -122.46238999999998,37.76238 -122.46031,37.76627 -122.45528999999999,37.77001 -122.44741,37.77279 -122.43961999999999,37.773790000000005 -122.43182,37.7748 -122.42732,37.77538 -122.42638999999998,37.77704 -122.42768000000001,37.78328 -122.42905,37.78954 -122.43001000000001,37.79455 -122.43218999999999,37.79746 -122.43058,37.79756 -122.42898999999998,37.79792 -122.42058,37.79903 -122.41498999999999,37.79972 -122.41078,37.80022 -122.41256000000001,37.79714 -122.41435,37.80085 -122.41767,37.80543 -122.42053,37.8067 -122.41958000000001,37.80773 -122.41722,37.806909999999995 -122.41538,37.80392 -122.41426000000001,37.80315 -122.41287,37.80194 -122.41081000000001,37.80005 -122.4089,37.79762 -122.40442,37.79818 -122.40411,37.79821 -122.40223999999999,37.796620000000004 -122.40431000000001,37.7983 -122.40566000000001,37.79797 -122.40895,37.797540000000005 -122.41814,37.79634 -122.42362,37.79564 -122.42442,37.79229 -122.42296,37.78526 -122.42591999999999,37.7852 -122.43676,37.78378 -122.44322,37.782790000000006 -122.45291,37.78172 -122.46438,37.78107 -122.46547,37.781909999999996 -122.46541,37.78184 -122.46536,37.781240000000004 -122.46808999999999,37.78083 -122.4731,37.780570000000004 -122.47755,37.780390000000004 -122.4864,37.779959999999996 -122.49627,37.779540000000004 -122.49621,37.77511 -122.49608,37.77387 -122.49605,37.77347 -122.48987,37.77228 -122.47508,37.77305 -122.47055,37.77316 -122.45844,37.77448 -122.45591,37.77995 -122.44883,37.781079999999996 -122.44892,37.78134 -122.45505,37.78148 -122.4593,37.781220000000005 -122.46315,37.781 -122.46658000000001,37.780840000000005 -122.4727,37.78058 -122.47428000000001,37.78052 -122.47481,37.776720000000005 -122.47478999999998,37.77666 -122.47556000000002,37.774809999999995 -122.46933999999999,37.77328 -122.46163999999999,37.77394 -122.4586,37.779379999999996 -122.44769,37.781259999999996 -122.4456,37.78264 -122.44008000000001,37.783359999999995 -122.43812,37.784659999999995 -122.43723999999999,37.785740000000004 -122.43563999999999,37.78577 -122.43136000000001,37.78546 -122.43036000000001,37.780590000000004 -122.4295,37.776070000000004 -122.42908999999999,37.77409 -122.42711000000001,37.77223 -122.42578,37.769729999999996 -122.42455,37.7696 -122.42211999999999,37.76658 -122.42213000000001,37.76665 -122.42183999999999,37.76473 -122.42172,37.763040000000004 -122.42119,37.757659999999994 -122.41877,37.75503 -122.41861999999999,37.75359 -122.41842,37.751709999999996 -122.4183,37.74801 -122.41918999999999,37.746629999999996 -122.42023,37.745259999999995 -122.41983,37.7458 -122.4185,37.75207 -122.41868000000001,37.75558 -122.41893,37.75712 -122.41921,37.75962 -122.41988,37.76628 -122.41843,37.77333 -122.41832,37.77352 -122.41337,37.77753 -122.41356999999999,37.77772 -122.41381000000001,37.7779 -122.41471000000001,37.77856 -122.41451,37.778890000000004 -122.41203999999999,37.78067 -122.40921000000002,37.7831 -122.40727,37.78555 -122.40658,37.78743 -122.40781000000001,37.79306 -122.40805,37.79379 -122.40659,37.79699 -122.40593999999999,37.79728 -122.40723999999999,37.79764 -122.40738999999999,37.79786 -122.40746000000001,37.79787 -122.40745,37.797909999999995 -122.40744,37.79789 -122.40743,37.79785 -122.40745,37.79785 -122.40736000000001,37.79775 -122.40731000000001,37.79768 -122.40728,37.79765 -122.40738,37.79776 -122.40743,37.79784 -122.40741000000001,37.79781 -122.40738,37.7977 -122.40738,37.797740000000005 -122.40738999999999,37.79831 -122.40975,37.8 -122.41017,37.8003 -122.41475,37.80342 -122.41758999999999,37.8047 -122.4176,37.8046 -122.41631000000001,37.80239 -122.41561000000002,37.79875 -122.41967,37.7982 -122.42418,37.79955 -122.42716999999999,37.800979999999996 -122.43458999999999,37.80001 -122.43808999999999,37.8006 -122.44116000000001,37.800090000000004 -122.44108,37.79981 -122.43621,37.7999 -122.43569,37.7981 -122.43569,37.79811 -122.43202,37.797579999999996 -122.42817,37.79806 -122.42889,37.80066 -122.42921000000001,37.80066 -122.43221000000001,37.79759 -122.43003,37.79783 -122.43021999999999,37.7968 -122.43184,37.79661 -122.4372,37.79697 -122.43795,37.80056 -122.43721000000001,37.80073 -122.43428,37.80017 -122.42772,37.80107 -122.42561,37.798140000000004 -122.4242,37.79115 -122.42263,37.78352 -122.42182,37.7793 -122.42108,37.77525 -122.42926999999999,37.77422 -122.43713999999999,37.77323 -122.4452,37.77216 -122.44873,37.76978 -122.45088,37.7695 -122.45402,37.77154 -122.45373000000001,37.773 -122.44851000000001,37.77365 -122.44408999999999,37.77325 -122.43751999999999,37.77345 -122.43673999999999,37.77023 -122.43561000000001,37.76721 -122.43288999999999,37.76589 -122.42993,37.76608 -122.42425,37.76582 -122.42369,37.7596 -122.42186000000001,37.756859999999996 -122.42098999999999,37.75369 -122.42236000000001,37.75358 -122.42263,37.75355 -122.4229,37.75355 -122.42312,37.75365 -122.42321000000001,37.75521 -122.42374,37.7598 -122.42402,37.76328 -122.42455,37.76867 -122.42458,37.77098 -122.42326000000001,37.772059999999996 -122.42136,37.773579999999995 -122.41678,37.777 -122.41456000000001,37.778909999999996 -122.40986000000001,37.78253 -122.40969,37.78568 -122.40763999999999,37.78782 -122.40462,37.78702 -122.40558,37.7867 -122.40888999999999,37.78618 -122.40777,37.78423 -122.40501,37.78648 -122.40068000000001,37.78536 -122.39867,37.787209999999995 -122.39873999999999,37.787290000000006 -122.39988000000001,37.787859999999995 -122.40177,37.78853 -122.40312,37.78795 -122.40659,37.78668 -122.41062,37.78565 -122.41478000000001,37.78536 -122.41888,37.78503 -122.42123000000001,37.78474 -122.42329,37.78447 -122.4314,37.784440000000004 -122.43303999999999,37.7829 -122.4325,37.7819 -122.43153999999998,37.77844 -122.43136000000001,37.77678 -122.43253999999999,37.77663 -122.43671,37.77701 -122.44027,37.77655 -122.44195,37.774409999999996 -122.44195,37.77442 -122.44186,37.774570000000004 -122.44111000000001,37.77742 -122.43835,37.77765 -122.4383,37.777440000000006 -122.43736000000001,37.77276 -122.4358,37.76893 -122.43562,37.76644 -122.43529,37.76334 -122.43498000000001,37.760670000000005 -122.43508,37.76099 -122.43508999999999,37.760979999999996 -122.43516000000001,37.76225 -122.43573,37.76786 -122.43717,37.77155 -122.43746000000002,37.773070000000004 -122.43808999999999,37.7762 -122.43887,37.77987 -122.43978,37.784290000000006 -122.44037,37.787409999999994 -122.44091999999999,37.79002 -122.44031000000001,37.792640000000006 -122.43488,37.793890000000005 -122.43556000000001,37.7973 -122.43581,37.79845 -122.43633999999999,37.80081 -122.43446000000002,37.80297 -122.43213,37.80526 -122.4266,37.80388 -122.42633000000001,37.801590000000004 -122.42605,37.800090000000004 -122.4247,37.79299 -122.42317,37.78598 -122.4224,37.78225 -122.41707,37.78232 -122.41088,37.78331 -122.40785,37.78412 -122.40728,37.78435 -122.40777,37.78373 -122.40586,37.78241 -122.40321999999999,37.78018 -122.40274,37.77916 -122.40397,37.778059999999996 -122.40416,37.77813 -122.40021000000002,37.780390000000004 -122.39615,37.78354 -122.39402,37.7853 -122.38878999999999,37.78967 -122.38941000000001,37.78952 -122.3901,37.79038 -122.39158,37.78991 -122.39573,37.79132 -122.39795,37.78986 -122.40248000000001,37.7888 -122.4041,37.787 -122.40718999999999,37.78512 -122.40834,37.78383 -122.41264,37.78033 -122.4151,37.77878 -122.41779,37.77621 -122.42043000000001,37.773959999999995 -122.42211,37.772859999999994 -122.42232,37.76964 -122.42193,37.76547 -122.4218,37.76385 -122.42133999999999,37.76171 -122.41937,37.7618 -122.4191,37.75953 -122.41868999999998,37.75547 -122.41988,37.75215 -122.4209,37.7538 -122.42095,37.75439 -122.42138,37.75524 -122.42323,37.75528 -122.42357,37.75857 -122.42383999999998,37.761759999999995 -122.42425,37.765240000000006 -122.42461000000002,37.769870000000004 -122.42551,37.77257 -122.42603999999999,37.77532 -122.4265,37.777390000000004 -122.42747,37.78213 -122.42806000000002,37.78521 -122.4288,37.788990000000005 -122.42976999999999,37.79323 -122.43048,37.79676 -122.43548999999999,37.79613 -122.43888999999999,37.79707 -122.4405,37.7984 -122.4405,37.79838 -122.43446999999999,37.79914 -122.42756000000001,37.80003 -122.42398999999999,37.80049 -122.4227,37.80043 -122.4222,37.79787 -122.42181000000001,37.795770000000005 -122.42136,37.793929999999996 -122.42087,37.791579999999996 -122.42083999999998,37.79124 -122.4205,37.78918 -122.42006,37.78756 -122.42173999999999,37.7866 -122.4236,37.78637 -122.42518000000001,37.78705 -122.42716000000001,37.786809999999996 -122.43215,37.78621 -122.4379,37.78549 -122.43928000000001,37.782270000000004 -122.43869,37.779740000000004 -122.43856000000001,37.77851 -122.43824,37.776920000000004 -122.4375,37.77375 -122.43709,37.771229999999996 -122.43695,37.77065 -122.43568,37.76808 -122.43359,37.765859999999996 -122.42906,37.76766 -122.42907,37.76787 -122.42963,37.7703 -122.43059,37.772090000000006 -122.43531000000002,37.77148 -122.43603999999999,37.77231 -122.4368,37.77128 -122.43641000000001,37.77135 -122.4364,37.771409999999996 -122.43553999999999,37.772009999999995 -122.43303999999999,37.77463 -122.42596,37.77559 -122.42289,37.776140000000005 -122.41872,37.77767 -122.41611999999999,37.77779 -122.4145,37.7788 -122.41597,37.77772 -122.4179,37.77621 -122.42069,37.773959999999995 -122.42648999999999,37.76936 -122.4293,37.76725 -122.43011000000001,37.7665 -122.43365,37.763740000000006 -122.43508,37.76218 -122.43484,37.7592 -122.43448000000001,37.75555 -122.43229,37.75302 -122.43415,37.75201 -122.43178,37.750479999999996 -122.43176000000001,37.75012 -122.42783999999999,37.75007 -122.42781000000001,37.75512 -122.42815,37.75892 -122.42865,37.76444 -122.42915,37.76726 -122.42968,37.766870000000004 -122.43077,37.766020000000005 -122.43171000000001,37.76525 -122.43501,37.7626 -122.43508,37.762209999999996 -122.43486999999999,37.76011 -122.43511000000001,37.76147 -122.43359,37.76384 -122.43198000000001,37.76526 -122.4283,37.76812 -122.42705,37.769090000000006 -122.42473000000001,37.77093 -122.42268999999999,37.77252 -122.42227,37.772890000000004 -122.42022,37.774570000000004 -122.41908000000001,37.77558 -122.41688,37.7763 -122.41238999999999,37.78076 -122.40978999999999,37.78244 -122.40789,37.784259999999996 -122.40576000000001,37.78595 -122.40442,37.78722 -122.40305,37.78796 -122.39998999999999,37.790690000000005 -122.39991,37.7919 -122.4003,37.79228 -122.40001000000001,37.792790000000004 -122.40087,37.79694 -122.40116,37.79903 -122.40241,37.80422 -122.40405,37.80547 -122.40661999999999,37.80692 -122.40778999999999,37.80754 -122.40992,37.80814 -122.40986000000001,37.80836 -122.40976,37.808370000000004 -122.40692,37.80731 -122.40536000000002,37.80658 -122.40518,37.80645 -122.40341000000001,37.80474 -122.4031,37.802620000000005 -122.4022,37.79822 -122.40133,37.7944 -122.40133999999999,37.7922 -122.40286,37.79241 -122.40448,37.79208 -122.40437,37.79215 -122.40418000000001,37.791990000000006 -122.40343999999999,37.79081 -122.4039,37.789229999999996 -122.40607,37.78856 -122.40831999999999,37.78883 -122.40695,37.78944 -122.40422,37.789809999999996 -122.40348,37.78716 -122.40368000000001,37.7862 -122.40313,37.78703 -122.40238000000001,37.78705 -122.40151000000002,37.78816 -122.40178999999999,37.78835 -122.40193000000001,37.78965 -122.40256000000001,37.79074 -122.39925,37.7907 -122.39811,37.791470000000004 -122.39771999999999,37.79531 -122.39985,37.79502 -122.40008,37.79493 -122.40113000000001,37.79282 -122.40028000000001,37.79415 -122.40057,37.79449 -122.40071999999999,37.79422 -122.40069,37.79428 -122.40065,37.79438 -122.40066999999999,37.794470000000004 -122.40066999999999,37.79448 -122.40171000000001,37.79463 -122.40543000000001,37.79715 -122.40625,37.79735 -122.4081,37.79887 -122.41051000000002,37.8005 -122.41421000000001,37.802620000000005 -122.41476000000002,37.8026 -122.41833000000001,37.80211 -122.41933,37.80208 -122.42148999999999,37.80173 -122.42493999999999,37.80125 -122.42598999999998,37.80106 -122.42481000000001,37.79472 -122.42416999999999,37.790929999999996 -122.4238,37.78893 -122.42379,37.78823 -122.43337,37.78702 -122.44125,37.78602 -122.44745,37.78476 -122.45071999999999,37.78197 -122.45673000000001,37.78135 -122.46127,37.78114 -122.46659,37.78085 -122.47263000000001,37.780570000000004 -122.477,37.78042 -122.48503000000001,37.78004 -122.49028999999999,37.77978 -122.49248,37.77966 -122.49457,37.78181 -122.49996000000002,37.78521 -122.49897,37.7841 -122.49446999999999,37.78116 -122.4934,37.77998 -122.49353,37.78138 -122.49013000000001,37.7799 -122.4845,37.78017 -122.48168999999999,37.7803 -122.4756,37.780570000000004 -122.47196000000001,37.78074 -122.47028999999999,37.78079 -122.46668999999999,37.78096 -122.4575,37.78141 -122.45441000000001,37.782709999999994 -122.45433999999999,37.7827 -122.45448999999999,37.78277 -122.45468999999999,37.78398 -122.45891999999999,37.783809999999995 -122.45926999999999,37.7861 -122.45934,37.78736 -122.45907,37.78937 -122.45884,37.789429999999996 -122.45741000000001,37.789590000000004 -122.45046,37.79047 -122.44645,37.7919 -122.43975,37.79273 -122.436,37.79415 -122.43151,37.7947 -122.42636,37.7954 -122.42253999999998,37.7959 -122.41123,37.7973 -122.41033,37.79757 -122.4093,37.799620000000004 -122.41068,37.79956 -122.41061,37.79923 -122.41066000000001,37.79737 -122.41798999999999,37.79635 -122.42148999999999,37.79467 -122.42106000000001,37.79225 -122.42097,37.791309999999996 -122.42079,37.79115 -122.42007,37.78759 -122.41958999999999,37.78546 -122.42108,37.78471 -122.421,37.78427 -122.42066000000001,37.78302 -122.42066000000001,37.7829 -122.42065,37.782740000000004 -122.42042,37.7815 -122.41972,37.77809 -122.4193,37.77729 -122.41605,37.77755 -122.41514,37.77887 -122.41533000000001,37.77883 -122.41689,37.77864 -122.41993000000001,37.77767 -122.4197,37.776070000000004 -122.42206999999999,37.77602 -122.42286999999999,37.77608 -122.42132,37.77698 -122.4189,37.77729 -122.41617,37.77776 -122.41407,37.77939 -122.41105,37.78167 -122.40793000000001,37.784209999999995 -122.40467,37.78658 -122.4043,37.78666 -122.40435,37.78672 -122.40652,37.78672 -122.40683,37.78617 -122.40743,37.78634 -122.40833,37.78642 -122.41238999999999,37.78588 -122.42017,37.7849 -122.42123000000001,37.784929999999996 -122.42156000000001,37.78678 -122.42233999999999,37.78989 -122.42253000000001,37.79087 -122.42253000000001,37.79123 -122.42182,37.788270000000004 -122.42159,37.786809999999996 -122.42086,37.78326 -122.42051000000001,37.78295 -122.42161999999999,37.78282 -122.42178999999999,37.78282 -122.42223999999999,37.78269 -122.42426999999999,37.78345 -122.42528,37.78835 -122.42187,37.78955 -122.41888999999999,37.789840000000005 -122.41532,37.7903 -122.41147,37.79081 -122.41096,37.79245 -122.40983,37.79484 -122.4102,37.7966 -122.41049,37.79852 -122.41258,37.801829999999995 -122.41395,37.80285 -122.41383,37.8029 -122.41368,37.80557 -122.41553,37.80656 -122.41741999999999,37.8071 -122.42079,37.80665 -122.42200000000001,37.80578 -122.4208,37.80572 -122.41363999999999,37.80665 -122.40789,37.80735 -122.40297,37.805 -122.40153000000001,37.803940000000004 -122.40045,37.8026 -122.39688000000001,37.79855 -122.39335,37.79472 -122.39068999999999,37.7924 -122.38786999999999,37.78863 -122.38791,37.784490000000005 -122.38888999999999,37.78177 -122.39057,37.780440000000006 -122.39214,37.77926 -122.39223,37.77895 -122.39316000000001,37.7783 -122.39537,37.77678 -122.39871000000001,37.77645 -122.39921000000001,37.773270000000004 -122.39746000000001,37.77112 -122.39715,37.76925 -122.39293,37.76463 -122.39086999999999,37.75268 -122.39538,37.75238 -122.39533,37.750209999999996 -122.39493999999999,37.75137 -122.39492,37.75138 -122.39496000000001,37.75139 -122.39501000000001,37.75137 -122.39358999999999,37.75158 -122.39356000000001,37.751490000000004 -122.39366000000001,37.751509999999996 -122.39362,37.7515 -122.3946,37.75143 -122.39466000000002,37.75134 -122.3953,37.75158 -122.39527,37.751740000000005 -122.39522,37.75179 -122.39511999999999,37.75186 -122.39511,37.75188 -122.39501000000001,37.751940000000005 -122.39698999999999,37.74971 -122.40637,37.74886 -122.41163999999999,37.74828 -122.41491,37.74949 -122.41536,37.75424 -122.41572,37.75808 -122.41606000000002,37.76147 -122.41641000000001,37.76535 -122.41802,37.768409999999996 -122.42023,37.76858 -122.42023,37.76856 -122.42022,37.76859 -122.42026000000001,37.76853 -122.42031999999999,37.768570000000004 -122.42025,37.76862 -122.42023,37.77033 -122.42248000000001,37.77417 -122.42276000000001,37.77575 -122.42311000000001,37.77754 -122.42334,37.77872 -122.42433999999999,37.78386 -122.42464,37.786359999999995 -122.42571000000001,37.78953 -122.42666000000001,37.79375 -122.42693999999999,37.79542 -122.42732,37.798159999999996 -122.42782,37.79999 -122.43021999999999,37.7997 -122.43386000000001,37.79923 -122.43607,37.80022 -122.43664,37.80076 -122.4393,37.80044 -122.44131999999999,37.80018 -122.4448,37.80105 -122.44805,37.80166 -122.44803,37.80166 -122.44725,37.80489 -122.44537,37.80545 -122.43931,37.80622 -122.43516000000001,37.80593 -122.43054,37.80353 -122.42548000000001,37.80417 -122.42188999999999,37.80558 -122.41691999999999,37.80621 -122.4124,37.80786 -122.41078,37.8084 -122.40981000000001,37.808370000000004 -122.40893,37.80734 -122.41542,37.806309999999996 -122.41588,37.80427 -122.41076000000001,37.80068 -122.40768999999999,37.79865 -122.40668000000001,37.79723 -122.40513,37.79537 -122.40433,37.79165 -122.4072,37.79079 -122.40738999999999,37.79141 -122.40888000000001,37.79201 -122.41096,37.79187 -122.41598,37.7912 -122.41956,37.790690000000005 -122.42336,37.79025 -122.42573,37.79144 -122.42681,37.793479999999995 -122.43036000000001,37.79307 -122.42806000000002,37.79332 -122.42661000000001,37.79472 -122.42477,37.7956 -122.42358,37.795970000000004 -122.42363,37.79603 -122.4243,37.8013 -122.42133999999999,37.802209999999995 -122.41803999999999,37.80316 -122.41291000000001,37.802170000000004 -122.40829,37.79903 -122.40683,37.79803 -122.40518999999999,37.79671 -122.40382,37.79488 -122.40273,37.79364 -122.4027,37.793620000000004 -122.40284,37.793859999999995 -122.40328999999998,37.794779999999996 -122.40503999999999,37.7967 -122.4104,37.7974 -122.42027,37.79607 -122.42432,37.79551 -122.42513999999998,37.7946 -122.42818999999999,37.79331 -122.43303999999999,37.79359 -122.4337,37.796490000000006 -122.43558,37.79804 -122.43586,37.79702 -122.4373,37.7966 -122.4364,37.79353 -122.43576999999999,37.79012 -122.43531000000002,37.788140000000006 -122.435,37.786229999999996 -122.43449,37.78376 -122.43372,37.78001 -122.43321,37.77731 -122.43226000000001,37.772870000000005 -122.43563999999999,37.771440000000005 -122.43758999999999,37.77124 -122.44389,37.77042 -122.44638,37.7701 -122.44791000000001,37.76992 -122.45088,37.76951 -122.45095,37.76956 -122.44833999999999,37.76988 -122.44492,37.770270000000004 -122.44197,37.77068 -122.4366,37.771370000000005 -122.43378,37.77171 -122.43071,37.77214 -122.43077,37.77215 -122.43066,37.77211 -122.42986,37.7722 -122.42761000000002,37.77446 -122.42761000000002,37.7753 -122.42318,37.77728 -122.42366000000001,37.779379999999996 -122.42517,37.78686 -122.42185,37.789159999999995 -122.42021000000001,37.78817 -122.41967,37.78569 -122.41887,37.78143 -122.42138999999999,37.78066 -122.42143,37.78071 -122.42145,37.78078 -122.42141000000001,37.77714 -122.42738999999999,37.77442 -122.43607,37.77328 -122.44341999999999,37.77244 -122.45348999999999,37.77111 -122.45303,37.76624 -122.45303999999999,37.76444 -122.45707,37.76372 -122.45633000000001,37.76393 -122.45301,37.76444 -122.45566000000001,37.76397 -122.45664,37.76361 -122.45666000000001,37.76364 -122.45671999999999,37.76375 -122.45853000000001,37.76325 -122.46108999999998,37.76256 -122.46118999999999,37.7625 -122.46037,37.7627 -122.4594,37.7629 -122.45735,37.76342 -122.45723999999998,37.7636 -122.45618,37.76398 -122.4527,37.765 -122.45362,37.76923 -122.45433999999999,37.77325 -122.4547,37.77511 -122.45522,37.7774 -122.45723000000001,37.781259999999996 -122.46127,37.78107 -122.46771000000001,37.78079 -122.47261999999999,37.78055 -122.48031999999999,37.78025 -122.48696000000001,37.77993 -122.4901,37.779759999999996 -122.49282,37.77963 -122.50072,37.77868 -122.49843,37.77567 -122.49252,37.775940000000006 -122.48536999999999,37.77628 -122.48153,37.77642 -122.47511999999999,37.77675 -122.47129,37.77428 -122.47873999999999,37.7722 -122.4771,37.76379 -122.47753999999999,37.763529999999996 -122.47803,37.7635 -122.47842,37.76531 -122.48605,37.76497 -122.49614,37.764559999999996 -122.50173000000001,37.764309999999995 -122.50158,37.760090000000005 -122.50129,37.75568 -122.49682,37.7534 -122.49343999999999,37.75355 -122.48938999999999,37.753609999999995 -122.4907,37.75353 -122.4907,37.75355 -122.49072,37.75352 -122.49073999999999,37.753609999999995 -122.48653999999999,37.753859999999996 -122.4819,37.75473 -122.47965,37.75786 -122.47548,37.75803 -122.4714,37.75881 -122.46661,37.75842 -122.46363999999998,37.75857 -122.46191,37.75737 -122.46149,37.75517 -122.45671999999999,37.75447 -122.45642,37.75505 -122.45481000000001,37.75568 -122.44703,37.760020000000004 -122.44583,37.76189 -122.43933,37.76225 -122.43451999999999,37.76313 -122.43046000000001,37.76644 -122.42686,37.76919 -122.42442,37.76977 -122.41738000000001,37.76982 -122.4149,37.769729999999996 -122.41102,37.77169 -122.40886,37.77346 -122.41113,37.77583 -122.41521999999999,37.77845 -122.41422,37.77922 -122.41094,37.77924 -122.41078,37.7791 -122.40645,37.780559999999994 -122.40428999999999,37.782379999999996 -122.40426000000001,37.78233 -122.39945,37.78542 -122.40103,37.78788 -122.40202,37.7893 -122.40301000000001,37.793079999999996 -122.40276000000001,37.79526 -122.40347,37.79571 -122.40473999999999,37.79508 -122.40472,37.79457 -122.40331,37.79423 -122.40592,37.797309999999996 -122.41013999999998,37.79739 -122.42361000000001,37.7957 -122.42652,37.7954 -122.43333999999999,37.79463 -122.43681000000001,37.795390000000005 -122.43745,37.79847 -122.43658,37.80082 -122.43656999999999,37.80083 -122.43598,37.79953 -122.43581999999999,37.79873 -122.43373000000001,37.79738 -122.43038,37.79782 -122.42868,37.797990000000006 -122.42666000000001,37.79841 -122.42223999999999,37.798320000000004 -122.42147,37.79436 -122.4209,37.791709999999995 -122.41666000000001,37.79115 -122.41051000000002,37.7919 -122.40706000000002,37.79188 -122.40346000000001,37.79262 -122.40336,37.792320000000004 -122.40345,37.792609999999996 -122.39968,37.79318 -122.39523,37.7921 -122.39267,37.79121 -122.38793000000001,37.788909999999994 -122.38808,37.782509999999995 -122.39108,37.77878 -122.39426999999999,37.77612 -122.39783,37.77098 -122.39221,37.75796 -122.39561,37.74438 -122.40484,37.73305 -122.39976000000001,37.72032 -122.39469,37.707409999999996 -122.39168000000001,37.69404 -122.38866000000002,37.68047 -122.39457,37.66786 -122.40567,37.65768 -122.40618,37.64424 -122.40256000000001,37.63109 -122.39842,37.61732 -122.38815,37.61612 -122.38606000000001,37.61654 -122.38601000000001,37.6165 -122.38601000000001,37.61652 -122.38600000000001,37.61652 -122.38602,37.61651 -122.3862,37.61636 -122.3944,37.61418 -122.40198000000001,37.6253 -122.40526000000001,37.63864 -122.40706000000002,37.65213 -122.39953999999999,37.66265 -122.39783999999999,37.66235 -122.39606,37.66025 -122.39863000000001,37.65876 -122.39636000000002,37.66008 -122.39771,37.66515 -122.3889,37.676140000000004 -122.39088000000001,37.68936 -122.39385,37.70258 -122.39862,37.71569 -122.40338,37.7287 -122.40818,37.738659999999996 -122.40586,37.74884 -122.41506000000001,37.74814 -122.41593999999999,37.74839 -122.41631000000001,37.7525 -122.41657,37.75524 -122.41846000000001,37.752390000000005 -122.41843,37.75233 -122.41851000000001,37.752309999999994 -122.41845,37.75273 -122.41638,37.7528 -122.41566999999999,37.75403 -122.41101,37.75431 -122.40786000000001,37.75448 -122.40677,37.75593 -122.40673000000001,37.75632 -122.40704,37.759859999999996 -122.40755,37.764790000000005 -122.41226,37.76548 -122.4133,37.76676 -122.41141999999999,37.771570000000004 -122.40876000000002,37.77385 -122.41311,37.77733 -122.41516000000001,37.78015 -122.41644,37.78548 -122.41712,37.78946 -122.41723999999999,37.79104 -122.41068,37.791920000000005 -122.40833,37.79218 -122.40612,37.79247 -122.40347,37.790440000000004 -122.40383999999999,37.78821 -122.40181000000001,37.7863 -122.39761000000001,37.78925 -122.3993,37.79124 -122.39963,37.79121 -122.40097,37.78954 -122.40293,37.79206 -122.40646000000001,37.79238 -122.41235,37.79157 -122.41672,37.79108 -122.41938999999999,37.79071 -122.42068,37.790490000000005 -122.42045,37.78938 -122.42008,37.787420000000004 -122.41973,37.785759999999996 -122.41736000000002,37.78432 -122.41051999999999,37.78539 -122.40883999999998,37.785470000000004 -122.40726000000001,37.78333 -122.40528,37.78152 -122.40657,37.78261 -122.41121000000001,37.77897 -122.41753,37.77644 -122.42017,37.77657 -122.42141000000001,37.77628 -122.42215,37.7761 -122.4233,37.778040000000004 -122.42321000000001,37.77813 -122.42395,37.78174 -122.42513999999998,37.78727 -122.42563999999999,37.7897 -122.42603000000001,37.79227 -122.4266,37.79449 -122.42703999999999,37.79691 -122.4279,37.80081 -122.43677,37.79974 -122.43968999999998,37.79934 -122.44193,37.8001 -122.44207,37.80014 -122.44238999999999,37.80003 -122.4426,37.79887 -122.44453999999999,37.79872 -122.446,37.79936 -122.44752,37.79844 -122.4527,37.79932 -122.45468000000001,37.800909999999995 -122.45472,37.8018 -122.4547,37.80188 -122.45251999999999,37.8034 -122.44633,37.79984 -122.44233999999999,37.79915 -122.43753000000001,37.79974 -122.43242,37.80038 -122.42766,37.80097 -122.42516,37.79603 -122.4241,37.79104 -122.4231,37.79036 -122.41898,37.79091 -122.41403000000001,37.79144 -122.41071000000001,37.79187 -122.40742,37.79235 -122.40323000000001,37.79271 -122.40323000000001,37.79291 -122.4037,37.79295 -122.40451000000002,37.792629999999996 -122.40523999999999,37.79255 -122.40799999999999,37.79217 -122.41203,37.791709999999995 -122.41803999999999,37.79092 -122.42278,37.79035 -122.42576000000001,37.78991 -122.43375,37.78889 -122.43569,37.789609999999996 -122.43796,37.79255 -122.43883000000001,37.79681 -122.43951000000001,37.800329999999995 -122.44004,37.80322 -122.44008000000001,37.80322 -122.43951000000001,37.80058 -122.4346,37.80105 -122.42988000000001,37.801629999999996 -122.4276,37.80382 -122.41994,37.80485 -122.41695,37.80506 -122.41481,37.802620000000005 -122.41552,37.80249 -122.41606999999999,37.80247 -122.41859,37.80211 -122.41937,37.80211 -122.4243,37.80135 -122.42602,37.80103 -122.42603999999999,37.80063 -122.42584,37.79963 -122.42443,37.79218 -122.42299999999999,37.7846 -122.42483999999999,37.78532 -122.4335,37.784259999999996 -122.44746,37.78241 -122.45092,37.78137 -122.45098999999999,37.7812 -122.44726999999999,37.78237 -122.44816000000002,37.78225 -122.45107,37.781909999999996 -122.46152,37.78107 -122.47311,37.78055 -122.48397,37.78005 -122.49347,37.77966 -122.49918999999998,37.77942 -122.50152,37.7795 -122.49322,37.77978 -122.48801999999999,37.78003 -122.48337,37.780229999999996 -122.47923999999999,37.7804 -122.47405,37.780640000000005 -122.47133000000001,37.78078 -122.46678999999999,37.781 -122.46155,37.78125 -122.45356000000001,37.78178 -122.44715,37.782540000000004 -122.44676000000001,37.7825 -122.44258,37.78294 -122.43937,37.78346 -122.43341000000001,37.78439 -122.42458,37.78545 -122.41538999999999,37.78646 -122.41136999999999,37.786970000000004 -122.40444,37.78784 -122.40281999999999,37.78907 -122.40218,37.79014 -122.39865,37.79209 -122.39587,37.793459999999996 -122.39562,37.79432 -122.39613,37.79477 -122.39618999999999,37.79482 -122.39863000000001,37.79464 -122.39801000000001,37.79505 -122.40028000000001,37.79513 -122.4016,37.79849 -122.40643999999999,37.7979 -122.42101000000001,37.79602 -122.42398999999999,37.79565 -122.42841000000001,37.7951 -122.43478999999999,37.79433 -122.43661999999999,37.79599 -122.43655,37.79599 -122.4345,37.796279999999996 -122.43308,37.79739 -122.43496,37.79715 -122.43611999999999,37.79998 -122.43948,37.80039 -122.44413,37.79987 -122.43883999999998,37.80048 -122.43611000000001,37.8001 -122.43328000000001,37.79833 -122.42925,37.79885 -122.42421000000002,37.79855 -122.42193,37.79699 -122.41129,37.797259999999994 -122.40642,37.7979 -122.40343,37.79823 -122.40448,37.79811 -122.41793,37.79634 -122.4218,37.79602 -122.42173999999999,37.79605 -122.42168999999998,37.79574 -122.42138999999999,37.79417 -122.4208,37.79133 -122.42018999999999,37.78823 -122.41953999999998,37.78562 -122.41928,37.78308 -122.42033,37.78085 -122.41983,37.77789 -122.41892,37.77404 -122.42001,37.769729999999996 -122.41968,37.76487 -122.41923999999999,37.760659999999994 -122.41875,37.75574 -122.41825,37.75054 -122.41806000000001,37.7487 -122.41076000000001,37.74836 -122.40366999999999,37.74703 -122.40525,37.7429 -122.40683999999999,37.73757 -122.40498000000001,37.73272 -122.40818999999999,37.73072 -122.40744,37.73067 -122.40744,37.73069 -122.40738,37.73065 -122.40738999999999,37.73066 -122.40558999999999,37.732409999999994 -122.40700000000001,37.737829999999995 -122.40555,37.742779999999996 -122.40433999999999,37.74609 -122.4065,37.7544 -122.40964,37.75598 -122.41245,37.75581 -122.41398000000001,37.75128 -122.41001000000001,37.75115 -122.40883000000001,37.74949 -122.40856000000001,37.7484 -122.40409,37.74935 -122.39536000000001,37.75006 -122.39455,37.75093 -122.39345,37.7518 -122.39244,37.752959999999995 -122.37936,37.7613 -122.36504,37.770340000000004 -122.3508,37.779340000000005 -122.3303,37.79228 -122.28851,37.81864 -122.27381000000001,37.827909999999996 -122.39443999999999,37.75196 -122.39443,37.75196 -122.40486999999999,37.787929999999996 -122.40272,37.78672 -122.40278,37.78675 -122.39058,37.78069 -122.39238,37.77882 -122.39256999999999,37.77872 -122.39227,37.77879 -122.39113,37.78005 -122.39113,37.78015 -122.39119,37.780159999999995 -122.45754,37.78125 -122.46231,37.78103 -122.46864,37.78134 -122.46871999999999,37.782579999999996 -122.46054,37.783159999999995 -122.4556,37.78403 -122.45391000000001,37.78407 -122.41183999999998,37.78591 -122.41238,37.78584 -122.41276,37.78605 -122.41283,37.785790000000006 -122.41288999999999,37.785790000000006 -122.46623999999998,37.76317 -122.4763,37.754 -122.4761,37.74994 -122.47573,37.74491 -122.47519,37.737120000000004 -122.4748,37.73072 -122.47488999999999,37.72465 -122.47227,37.71624 -122.46717,37.71249 -122.46083,37.71139 -122.45553999999998,37.71154 -122.45603999999999,37.71213 -122.45612,37.71628 -122.45902,37.71577 -122.45897,37.71219 -122.45488,37.7121 -122.45076,37.71477 -122.44533999999999,37.727090000000004 -122.43015,37.73238 -122.41616,37.73213 -122.40754,37.74181 -122.40508999999999,37.74892 -122.40638,37.7531 -122.40671,37.757 -122.40738999999999,37.76385 -122.4087,37.76914 -122.41316,37.769459999999995 -122.4203,37.77128 -122.42233,37.77369 -122.4231,37.7772 -122.42327,37.77799 -122.42416999999999,37.78242 -122.42501999999999,37.786770000000004 -122.43041000000001,37.787409999999994 -122.44853,37.7874 -122.44673,37.78691 -122.43995,37.78719 -122.43392,37.78795 -122.43338,37.78679 -122.43265,37.78301 -122.43203000000001,37.78018 -122.43173999999999,37.77839 -122.43146999999999,37.77715 -122.43096000000001,37.77485 -122.43075,37.77383 -122.43024,37.77111 -122.42896999999999,37.76761 -122.42882,37.766040000000004 -122.42853999999998,37.76328 -122.42615,37.76307 -122.42165,37.76271 -122.41936000000001,37.76148 -122.4192,37.7598 -122.41878999999999,37.75535 -122.41841000000001,37.7518 -122.41775,37.7507 -122.41595,37.74929 -122.41296000000001,37.74832 -122.40403,37.7494 -122.39594,37.749829999999996 -122.39535,37.75049 -122.39528999999999,37.751129999999996 -122.39518999999999,37.751290000000004 -122.39482,37.751979999999996 -122.39346,37.751490000000004 -122.39347,37.75152 -122.39356000000001,37.75138 -122.3939,37.75162 -122.39393000000001,37.75162 -122.39393000000001,37.75163 -122.3939,37.75164 -122.39391,37.75162 -122.39391,37.75162 -122.39391,37.75159 -122.39391,37.75162 -122.39393000000001,37.75163 -122.39391,37.75162 -122.39392,37.75164 -122.3939,37.75162 -122.39393000000001,37.7516 -122.39392,37.7516 -122.39392,37.75159 -122.3939,37.75161 -122.39391,37.75162 -122.39388999999998,37.75163 -122.39388999999998,37.75165 -122.3939,37.75161 -122.3939,37.75163 -122.39386999999999,37.75162 -122.3939,37.75163 -122.39388000000001,37.75162 -122.39392,37.75163 -122.39388999999998,37.7516 -122.39391,37.75161 -122.39391,37.75164 -122.39391,37.7516 -122.39386999999999,37.75159 -122.3939,37.75162 -122.39388000000001,37.75158 -122.3939,37.7516 -122.3939,37.7516 -122.3939,37.75158 -122.39391,37.75164 -122.39391,37.75165 -122.39393000000001,37.75165 -122.3939,37.7516 -122.39388000000001,37.75162 -122.39386,37.751670000000004 -122.39386999999999,37.75163 -122.39386999999999,37.751670000000004 -122.39388000000001,37.75168 -122.39392,37.75164 -122.39388000000001,37.75163 -122.39393000000001,37.75162 -122.3939,37.75166 -122.39388000000001,37.75158 -122.3939,37.75164 -122.39392,37.75166 -122.39388999999998,37.75161 -122.39391,37.75165 -122.39391,37.75164 -122.3939,37.75161 -122.39386,37.75159 -122.39388000000001,37.75163 -122.39392,37.75157 -122.3939,37.7516 -122.39388999999998,37.75163 -122.39391,37.75162 -122.39391,37.75162 -122.39388000000001,37.75161 -122.3939,37.7516 -122.39388999999998,37.75162 -122.39388000000001,37.75162 -122.39388999999998,37.75161 -122.3939,37.75162 -122.39388999999998,37.75161 -122.39391,37.75161 -122.3939,37.75162 -122.39391,37.75162 -122.39391,37.75162 -122.39391,37.75161 -122.39392,37.75164 -122.39388999999998,37.75163 -122.39391,37.75164 -122.39388000000001,37.75162 -122.39388999999998,37.75164 -122.39388000000001,37.75161 -122.3939,37.75156 -122.3939,37.7516 -122.39392,37.75162 -122.39391,37.75162 -122.39391,37.75161 -122.39393000000001,37.75164 -122.39393999999999,37.75168 -122.39391,37.75161 -122.39388000000001,37.75155 -122.39388999999998,37.75158 -122.39392,37.75162 -122.39391,37.75162 -122.3939,37.75159 -122.39392,37.75162 -122.3939,37.75162 -122.39392,37.75162 -122.39391,37.75162 -122.3939,37.75161 -122.39391,37.75161 -122.39388999999998,37.75168 -122.39388999999998,37.75166 -122.39391,37.75161 -122.3939,37.75162 -122.39386999999999,37.751709999999996 -122.39391,37.75163 -122.39391,37.75161 -122.39392,37.75163 -122.39388999999998,37.75163 -122.39392,37.7516 -122.39386999999999,37.75155 -122.39385,37.75159 -122.39386999999999,37.75159 -122.39386,37.75157 -122.39392,37.75155 -122.39386,37.75157 -122.39386,37.75156 -122.3939,37.75158 -122.39392,37.75189 -122.39395,37.7519 -122.39391,37.75189 -122.39396,37.751909999999995 -122.3939,37.75189 -122.39393000000001,37.751870000000004 -122.39396,37.75192 -122.39392,37.751870000000004 -122.39392,37.75184 -122.39393000000001,37.751870000000004 -122.39395,37.75189 -122.39395,37.75189 -122.39393999999999,37.75188 -122.39396,37.75188 -122.39396,37.75189 -122.39395,37.751909999999995 -122.39395,37.751909999999995 -122.39393999999999,37.7519 -122.39397,37.75189 -122.39397,37.75189 -122.39396,37.751870000000004 -122.39395,37.751870000000004 -122.39393999999999,37.7519 -122.39393999999999,37.751870000000004 -122.39393000000001,37.75192 -122.39396,37.751940000000005 -122.39393999999999,37.751940000000005 -122.39391,37.75192 -122.39393999999999,37.75192 -122.39476,37.75139 -122.39537,37.75143 -122.39542,37.75156 -122.39541000000001,37.75152 -122.39551000000002,37.75147 -122.39533,37.7515 -122.39533999999999,37.7516 -122.39533,37.75161 -122.39513999999998,37.75188 -122.39278,37.75011 -122.39248,37.75562 -122.39523,37.76681 -122.40113000000001,37.7749 -122.40578000000001,37.778620000000004 -122.40518,37.781290000000006 -122.40078000000001,37.78479 -122.39931999999999,37.786590000000004 -122.40223,37.790240000000004 -122.40182,37.79354 -122.40471000000001,37.79656 -122.40817,37.79886 -122.41292,37.80216 -122.41355,37.80534 -122.41439,37.80554 -122.41439,37.80555 -122.41445,37.80552 -122.4144,37.80553 -122.4144,37.80551 -122.41441,37.80559 -122.41458,37.8034 -122.40908999999999,37.799620000000004 -122.40768999999999,37.79866 -122.40638,37.79772 -122.40425,37.79146 -122.40371,37.7897 -122.40821000000001,37.78812 -122.40911000000001,37.78628 -122.4132,37.78585 -122.41816999999999,37.78522 -122.41943,37.785070000000005 -122.42102,37.78456 -122.42048999999999,37.78257 -122.41976000000001,37.77851 -122.41921,37.77585 -122.41891000000001,37.77241 -122.42023999999999,37.76838 -122.42027,37.76843 -122.42012,37.76842 -122.42026000000001,37.768440000000005 -122.42031000000001,37.7684 -122.42033,37.76843 -122.42023999999999,37.768409999999996 -122.42028,37.76849 -122.42027,37.7684 -122.42031999999999,37.76845 -122.42034,37.768390000000004 -122.42039,37.768440000000005 -122.42035,37.76838 -122.42035,37.768570000000004 -122.4195,37.76423 -122.41945,37.76209 -122.42176,37.76343 -122.42199,37.7654 -122.42412,37.769729999999996 -122.42555,37.76968 -122.43093,37.765840000000004 -122.43502,37.76252 -122.43611000000001,37.760870000000004 -122.43601000000001,37.76086 -122.43503999999999,37.76256 -122.43281,37.76265 -122.4287,37.76428 -122.42273,37.764920000000004 -122.41991999999999,37.76675 -122.41989,37.76724 -122.4201,37.77194 -122.41485,37.77615 -122.41498999999999,37.779340000000005 -122.41609,37.78458 -122.4189,37.78504 -122.41651999999999,37.782509999999995 -122.41066000000001,37.78321 -122.41058999999998,37.7832 -122.41058999999998,37.78314 -122.41061,37.78321 -122.40926999999999,37.78438 -122.41253999999999,37.78416 -122.41225,37.785090000000004 -122.41226,37.785090000000004 -122.41225,37.78504 -122.41176000000002,37.784279999999995 -122.41245,37.784 -122.41427,37.7856 -122.41828999999998,37.7851 -122.41985,37.78601 -122.41991999999999,37.78605 -122.42048,37.78872 -122.42053999999999,37.789770000000004 -122.42119,37.79269 -122.42171,37.79553 -122.4243,37.79967 -122.42858000000001,37.80072 -122.43631,37.79975 -122.43961999999999,37.80037 -122.44271,37.79938 -122.43736000000001,37.79972 -122.43712,37.79976 -122.4282,37.8009 -122.42426999999999,37.80012 -122.42334,37.79551 -122.42278999999999,37.79283 -122.42245,37.791059999999995 -122.42188,37.787420000000004 -122.42108,37.78471 -122.42075,37.782540000000004 -122.41958999999999,37.77735 -122.41611,37.777770000000004 -122.41285,37.78034 -122.412,37.78083 -122.41193999999999,37.78075 -122.4119,37.7807 -122.41485,37.77884 -122.41513,37.778859999999995 -122.41913000000001,37.78253 -122.41956,37.78517 -122.41995,37.78703 -122.41864,37.78755 -122.41795,37.7855 -122.41723,37.784420000000004 -122.41436000000002,37.784659999999995 -122.41105,37.784859999999995 -122.41075,37.78333 -122.40938,37.7844 -122.41341000000001,37.78373 -122.41657,37.786590000000004 -122.41713999999999,37.78989 -122.41897,37.79079 -122.42013999999999,37.787690000000005 -122.41977,37.7857 -122.41968999999999,37.7831 -122.42002,37.77991 -122.41941000000001,37.77657 -122.42204,37.772890000000004 -122.42248000000001,37.77115 -122.42232,37.769740000000006 -122.42193999999999,37.76612 -122.4217,37.76311 -122.42121999999999,37.7581 -122.41883,37.75594 -122.41913000000001,37.759009999999996 -122.41958000000001,37.76404 -122.41998999999998,37.76741 -122.41998999999998,37.77203 -122.41725,37.77434 -122.41756000000001,37.77691 -122.416,37.77762 -122.41448000000001,37.779 -122.4123,37.78069 -122.41299,37.78513 -122.41248999999999,37.78503 -122.41268000000001,37.78564 -122.41035,37.7872 -122.40998,37.78722 -122.40943,37.7872 -122.40928999999998,37.787409999999994 -122.40933999999999,37.78738 -122.40932,37.7874 -122.40943,37.78737 -122.41215,37.788070000000005 -122.4106,37.78282 -122.40841,37.780809999999995 -122.40539,37.77839 -122.40073000000001,37.77466 -122.39318999999999,37.76511 -122.39226000000001,37.759170000000005 -122.39421999999999,37.74589 -122.40556000000001,37.73557 -122.42166,37.73155 -122.43799999999999,37.73043 -122.44805,37.72034 -122.45765,37.710409999999996 -122.4705,37.705529999999996 -122.47995,37.70275 -122.48236999999999,37.69934 -122.48246,37.698240000000006 -122.48289,37.70045 -122.4821,37.70223 -122.47464,37.704409999999996 -122.46785,37.70942 -122.45198,37.71366 -122.44586000000001,37.726490000000005 -122.43088999999999,37.73242 -122.41416000000001,37.73256 -122.40817,37.7377 -122.40331,37.75077 -122.40502,37.76421 -122.40357,37.77708 -122.40268,37.78307 -122.40496999999999,37.78519 -122.40508999999999,37.78524 -122.40663,37.78515 -122.4083,37.783770000000004 -122.41062,37.782 -122.41282,37.780190000000005 -122.41601000000001,37.77688 -122.41915,37.775079999999996 -122.41901000000001,37.77454 -122.41923,37.77179 -122.41976000000001,37.76619 -122.41928,37.76201 -122.41897,37.75795 -122.41875,37.75513 -122.41859,37.75376 -122.41856000000001,37.75302 -122.41797,37.749159999999996 -122.41573000000001,37.749190000000006 -122.41271,37.748329999999996 -122.4043,37.748909999999995 -122.40535,37.74288 -122.40696000000001,37.73847 -122.40498999999998,37.73276 -122.4052,37.7312 -122.4089,37.73028 -122.40855,37.7304 -122.40833,37.73042 -122.40501,37.73216 -122.40548000000001,37.744440000000004 -122.40498999999998,37.758140000000004 -122.4083,37.7688 -122.41787,37.76831 -122.42258999999999,37.77163 -122.42312,37.77202 -122.42341,37.77183 -122.42374,37.77258 -122.42666000000001,37.7726 -122.43082,37.772059999999996 -122.43248999999999,37.77183 -122.43066,37.77202 -122.43047,37.77221 -122.42828999999999,37.77335 -122.4252,37.77122 -122.42455,37.76961 -122.42423000000001,37.766490000000005 -122.42233999999999,37.769490000000005 -122.4224,37.769740000000006 -122.42253000000001,37.77108 -122.42591000000002,37.76983 -122.42943999999999,37.76702 -122.43093,37.76585 -122.4329,37.76262 -122.43502,37.761179999999996 -122.43538000000001,37.760870000000004 -122.43943,37.76062 -122.44357,37.76025 -122.44078999999999,37.75627 -122.44051,37.75635 -122.44018999999999,37.756409999999995 -122.43791999999999,37.75685 -122.43945,37.759809999999995 -122.44202,37.76045 -122.43666,37.76078 -122.43515,37.761959999999995 -122.43521000000001,37.76085 -122.43933999999999,37.76065 -122.444,37.758359999999996 -122.44277,37.75228 -122.44851000000001,37.74623 -122.45551,37.74252 -122.46585,37.73932 -122.47141,37.73458 -122.47183999999999,37.73021 -122.47211000000001,37.724579999999996 -122.47228,37.721470000000004 -122.47081999999999,37.706790000000005 -122.46758,37.705259999999996 -122.46741999999999,37.70535 -122.46481000000001,37.705690000000004 -122.46378999999999,37.70528 -122.46226999999999,37.70527 -122.46226999999999,37.70524 -122.46225,37.705290000000005 -122.46231,37.705220000000004 -122.46176000000001,37.705529999999996 -122.47013999999999,37.69943 -122.47089,37.7025 -122.4709,37.7054 -122.46265,37.710609999999996 -122.44893,37.717009999999995 -122.44185,37.72922 -122.42578,37.731609999999996 -122.40977,37.734840000000005 -122.40443,37.747409999999995 -122.40648999999999,37.760709999999996 -122.41214,37.76941 -122.42016000000001,37.77015 -122.4205,37.77173 -122.42133999999999,37.77165 -122.42239,37.77057 -122.42222,37.769090000000006 -122.42181000000001,37.764720000000004 -122.42172,37.7634 -122.41942,37.76164 -122.41899,37.75781 -122.41868000000001,37.75482 -122.41812,37.749320000000004 -122.4178,37.74907 -122.41545,37.74921 -122.41115,37.74837 -122.40077,37.74951 -122.39231000000001,37.7498 -122.39351,37.74595 -122.40462,37.736 -122.42501999999999,37.7311 -122.42978000000001,37.730959999999996 -122.43614,37.726440000000004 -122.43753999999998,37.723420000000004 -122.44291000000001,37.71732 -122.44599,37.71518 -122.45116999999999,37.71257 -122.45513000000001,37.71067 -122.4564,37.71135 -122.45603999999999,37.71161 -122.45611000000001,37.71267 -122.4561,37.71333 -122.4561,37.71671 -122.45618,37.72207 -122.45565,37.72377 -122.45128999999999,37.72307 -122.44424,37.72797 -122.43003999999999,37.73243 -122.41386999999999,37.732690000000005 -122.40908999999999,37.73542 -122.40432,37.747890000000005 -122.40641000000001,37.75972 -122.40972,37.769079999999995 -122.41783000000001,37.769529999999996 -122.41887,37.773790000000005 -122.41976000000001,37.77749 -122.42025,37.77944 -122.42045,37.780609999999996 -122.421,37.78378 -122.42223999999999,37.78958 -122.41911999999999,37.79081 -122.41993000000001,37.79527 -122.42081,37.79958 -122.41958000000001,37.802929999999996 -122.41467,37.80361 -122.41368,37.80556 -122.41505,37.80555 -122.41493999999999,37.8057 -122.414,37.80556 -122.41457,37.80337 -122.41685,37.80229 -122.41991999999999,37.80192 -122.42557,37.801109999999994 -122.43198000000001,37.8003 -122.43668000000001,37.7997 -122.43788,37.80044 -122.43246,37.80131 -122.43108000000001,37.80035 -122.43177,37.797540000000005 -122.43558999999999,37.79705 -122.4415,37.796209999999995 -122.4415,37.79337 -122.44075,37.78973 -122.43981000000001,37.78502 -122.43903999999999,37.7816 -122.43911000000001,37.78153 -122.44518000000001,37.78247 -122.44801000000001,37.78235 -122.46183,37.78106 -122.46681000000001,37.78085 -122.47498,37.78047 -122.47851999999999,37.78032 -122.48382,37.78004 -122.48473999999999,37.7802 -122.48491999999999,37.78213 -122.48482,37.78269 -122.48246,37.78025 -122.47923999999999,37.780429999999996 -122.47166000000001,37.78075 -122.46793999999998,37.78093 -122.46288,37.78116 -122.45553999999998,37.78148 -122.44896999999999,37.78228 -122.43903999999999,37.78346 -122.4285,37.785 -122.42436000000001,37.7855 -122.42146000000001,37.785540000000005 -122.41953000000001,37.78584 -122.41458,37.786640000000006 -122.41231,37.78687 -122.40553,37.787620000000004 -122.4029,37.78803 -122.40066000000002,37.789770000000004 -122.39871000000001,37.79144 -122.39515,37.78902 -122.39541000000001,37.78604 -122.38571,37.79091 -122.37483999999999,37.80102 -122.36381000000002,37.811240000000005 -122.34903,37.81732 -122.33283,37.82082 -122.31688999999999,37.82438 -122.30863000000001,37.825540000000004 -122.29756,37.81644 -122.30133000000001,37.80341 -122.28481000000001,37.80242 -122.26995,37.79658 -122.25538999999999,37.78949 -122.24022,37.7834 -122.22899,37.773559999999996 -122.21700000000001,37.764109999999995 -122.20725,37.75302 -122.19734,37.74205 -122.18745,37.732409999999994 -122.1947,37.72919 -122.2026,37.7191 -122.21006000000001,37.711859999999994 -122.21155,37.71394 -122.21146999999999,37.714209999999994 -122.21112,37.71567 -122.21207,37.71219 -122.21213,37.71199 -122.2124,37.71578 -122.20078999999998,37.72275 -122.20076,37.72887 -122.19695,37.737390000000005 -122.1969,37.738 -122.20183999999999,37.74655 -122.21158,37.75765 -122.22085,37.76889 -122.23531000000001,37.77582 -122.24563,37.78625 -122.26141000000001,37.79133 -122.27561999999999,37.79854 -122.27488999999998,37.81139 -122.27058000000001,37.82459 -122.28726999999999,37.82639 -122.29581,37.82705 -122.31183,37.824059999999996 -122.32757,37.82164 -122.34368,37.819340000000004 -122.35858999999999,37.81411 -122.36731999999999,37.80788 -122.36936999999999,37.80603 -122.37728,37.79896 -122.39241000000001,37.78542 -122.39303999999998,37.786120000000004 -122.39485,37.78758 -122.39666000000001,37.788740000000004 -122.39756000000001,37.7897 -122.39931999999999,37.79198 -122.40183,37.78927 -122.40256000000001,37.78816 -122.40268,37.78691 -122.40151999999999,37.78584 -122.40001000000001,37.78465 -122.3972,37.78245 -122.39621000000001,37.7817 -122.39315,37.77856 -122.39447,37.77753 -122.39407,37.77642 -122.39562,37.774 -122.39498,37.77458 -122.39367,37.77587 -122.39431,37.776559999999996 -122.39658999999999,37.77835 -122.3984,37.77982 -122.40026999999999,37.781259999999996 -122.40226000000001,37.78295 -122.40306000000001,37.78342 -122.40546,37.78613 -122.40205,37.78881 -122.40033999999999,37.79019 -122.39811,37.79214 -122.39765,37.792429999999996 -122.39636000000002,37.793009999999995 -122.39502,37.79201 -122.39315,37.790490000000005 -122.39157,37.78971 -122.38971000000001,37.79077 -122.38938,37.79058 -122.38771000000001,37.788109999999996 -122.38795,37.78735 -122.38843,37.78913 -122.39045,37.79079 -122.39091,37.79143 -122.39116999999999,37.791940000000004 -122.3921,37.79325 -122.39331000000001,37.79322 -122.39615,37.791059999999995 -122.39913,37.7908 -122.39936000000002,37.79058 -122.40043,37.79035 -122.40212,37.7886 -122.40298,37.787890000000004 -122.40449,37.7867 -122.40652,37.785270000000004 -122.40794,37.78379 -122.40745,37.78329 -122.4044,37.784690000000005 -122.40463999999999,37.7851 -122.40563999999999,37.78595 -122.40343,37.78796 -122.40235,37.78948 -122.40227,37.79157 -122.40239,37.79217 -122.40297,37.79208 -122.40295,37.79218 -122.40423,37.791740000000004 -122.40406999999999,37.791470000000004 -122.40393,37.79165 -122.40248999999999,37.793240000000004 -122.40348,37.79384 -122.405,37.796459999999996 -122.40616000000001,37.79735 -122.40938,37.7996 -122.40948999999999,37.80232 -122.40735,37.802609999999994 -122.4096,37.801320000000004 -122.4131,37.80219 -122.41336000000001,37.80279 -122.41446,37.805440000000004 -122.41447,37.80539 -122.41441999999999,37.80549 -122.41443999999998,37.805479999999996 -122.41506000000001,37.805479999999996 -122.41356999999999,37.8056 -122.41195,37.80573 -122.41141999999999,37.80303 -122.4094,37.799890000000005 -122.40766,37.798590000000004 -122.40529,37.79657 -122.40486999999999,37.79553 -122.4042,37.79248 -122.40393999999999,37.7903 -122.40391000000001,37.78853 -122.40703,37.78839 -122.40946000000001,37.7875 -122.41365,37.78763 -122.41856000000001,37.7871 -122.42008999999999,37.78735 -122.42017,37.7879 -122.42048,37.789429999999996 -122.42095,37.791709999999995 -122.42098,37.79189 -122.42275,37.7923 -122.42343999999999,37.7956 -122.4242,37.79911 -122.42578,37.8011 -122.42544,37.80129 -122.42451000000001,37.801109999999994 -122.42433999999999,37.80028 -122.42308999999999,37.79437 -122.42173999999999,37.787659999999995 -122.42086,37.783570000000005 -122.42069,37.7827 -122.41986999999999,37.77861 -122.4194,37.77621 -122.41824,37.7735 -122.41542,37.77571 -122.41344,37.77729 -122.41503999999999,37.77926 -122.4155,37.78184 -122.41571,37.782740000000004 -122.41675,37.78345 -122.41897,37.78313 -122.4207,37.7825 -122.41943,37.7764 -122.41893999999999,37.77429 -122.41918999999999,37.772040000000004 -122.41986999999999,37.76695 -122.41948000000001,37.7633 -122.41935,37.761720000000004 -122.41904,37.75885 -122.4188,37.75574 -122.41861000000002,37.75428 -122.41832,37.75101 -122.4179,37.7491 -122.41568000000001,37.74921 -122.41258,37.7494 -122.40855,37.74841 -122.40141000000001,37.74946 -122.3957,37.749829999999996 -122.39527,37.75117 -122.39526000000001,37.75124 -122.39526000000001,37.75119 -122.39528,37.75125 -122.39526000000001,37.75123 -122.39487,37.7514 -122.39481,37.75138 -122.39482,37.75142 -122.39482,37.75141 -122.39486000000001,37.75144 -122.39477,37.75141 -122.39478000000001,37.7514 -122.39478999999999,37.7514 -122.39486000000001,37.75131 -122.3949,37.75124 -122.39486000000001,37.75132 -122.39488999999999,37.751259999999995 -122.39487,37.75127 -122.3949,37.75122 -122.39486000000001,37.751290000000004 -122.39486000000001,37.7513 -122.3948,37.75139 -122.39486000000001,37.75136 -122.3949,37.75148 -122.39503,37.751540000000006 -122.39503,37.751529999999995 -122.39504,37.75152 -122.39503,37.751509999999996 -122.39503,37.751490000000004 -122.39527,37.751490000000004 -122.39527,37.751540000000006 -122.39527,37.75162 -122.39513000000001,37.75186 -122.39339,37.75028 -122.39883999999999,37.7496 -122.40628000000001,37.74882 -122.40628000000001,37.748740000000005 -122.40628999999998,37.748670000000004 -122.40625,37.7487 -122.40653999999999,37.74873 -122.41271,37.74822 -122.41671000000001,37.74815 -122.41911999999999,37.74665 -122.42128000000001,37.74403 -122.42436000000001,37.74385 -122.42492,37.743840000000006 -122.43113000000001,37.74344 -122.43536999999999,37.7416 -122.43795,37.74307 -122.43772,37.74122 -122.43791999999999,37.74364 -122.4432,37.746559999999995 -122.4439,37.748940000000005 -122.44221999999999,37.75667 -122.44093000000001,37.76112 -122.43253999999999,37.76474 -122.43063000000001,37.7663 -122.42792,37.768390000000004 -122.4245,37.77113 -122.4216,37.77337 -122.41996999999999,37.77468 -122.41514,37.7785 -122.41216999999999,37.7808 -122.4097,37.782759999999996 -122.40535,37.78559 -122.40413000000001,37.78731 -122.40252,37.78792 -122.40075,37.79378 -122.40106000000002,37.798840000000006 -122.4019,37.80276 -122.40306000000001,37.802820000000004 -122.40196999999999,37.79735 -122.40177,37.79511 -122.40413000000001,37.792559999999995 -122.40366999999999,37.79125 -122.40375,37.79128 -122.40401999999999,37.791270000000004 -122.40308,37.79119 -122.40396000000001,37.79249 -122.4032,37.78838 -122.39938000000001,37.788129999999995 -122.3966,37.78523 -122.39313999999999,37.782740000000004 -122.39103,37.78282 -122.39133000000001,37.78241 -122.39446000000001,37.78372 -122.39853000000001,37.78698 -122.40186000000001,37.78931 -122.40217,37.79124 -122.40275,37.79091 -122.40541999999999,37.79039 -122.40411999999999,37.78946 -122.40342,37.789609999999996 -122.39809,37.79094 -122.39533999999999,37.79396 -122.39543,37.79399 -122.39662,37.79385 -122.39916000000001,37.79288 -122.40285,37.79309 -122.40391000000001,37.79338 -122.40786000000001,37.792229999999996 -122.41093000000001,37.7919 -122.41235,37.79164 -122.41787,37.79096 -122.42133999999999,37.79048 -122.42541999999999,37.79 -122.43071,37.7893 -122.43371,37.7889 -122.44031000000001,37.78805 -122.44155,37.78528 -122.44155,37.78525 -122.44153999999999,37.78517 -122.44296999999999,37.78365 -122.44253,37.78264 -122.44258,37.78208 -122.4395,37.7825 -122.43845,37.778529999999996 -122.43773999999999,37.774879999999996 -122.43398,37.774570000000004 -122.4275,37.77543 -122.42598000000001,37.77523 -122.42523,37.77131 -122.42452,37.76944 -122.42348999999999,37.766490000000005 -122.42322,37.76656 -122.42188,37.76656 -122.41973,37.76485 -122.41965,37.76416 -122.41936000000001,37.76166 -122.41893999999999,37.757529999999996 -122.41872,37.75512 -122.41842,37.75247 -122.41823000000001,37.74965 -122.41416000000001,37.74825 -122.41041000000001,37.7483 -122.40572,37.74897 -122.39685,37.74975 -122.39617,37.74981 -122.39511999999999,37.75148 -122.39503,37.75131 -122.39503,37.7513 -122.39505,37.75134 -122.39508000000001,37.75134 -122.39504,37.751290000000004 -122.39509,37.75123 -122.39503,37.751329999999996 -122.39496000000001,37.75122 -122.39393000000001,37.75139 -122.3925,37.74981 -122.39636000000002,37.74324 -122.40446999999999,37.73218 -122.39941,37.71918 -122.39437,37.70603 -122.3913,37.6925 -122.38838999999999,37.67924 -122.39461999999999,37.66775 -122.40563,37.657779999999995 -122.40608,37.64435 -122.40251,37.63105 -122.39867,37.61804 -122.3883,37.61598 -122.38847,37.61562 -122.39193,37.61495 -122.38701,37.61783 -122.38586000000001,37.61802 -122.38561999999999,37.61797 -122.38481999999999,37.617670000000004 -122.391,37.61489 -122.40025,37.62055 -122.4037,37.63361 -122.40661000000001,37.64669 -122.40425,37.660309999999996 -122.39258999999998,37.6701 -122.38853,37.67848 -122.3891,37.68141 -122.3898,37.68483 -122.39097,37.69021 -122.39312,37.69972 -122.39641,37.7129 -122.40223999999999,37.725970000000004 -122.40816000000001,37.7389 -122.40302,37.75179 -122.40513,37.76471 -122.40417,37.77667 -122.39943000000001,37.780879999999996 -122.39715,37.78273 -122.39813000000001,37.78484 -122.3993,37.78577 -122.3949,37.7894 -122.39488,37.79058 -122.39721999999999,37.79363 -122.39643999999998,37.796240000000004 -122.39647,37.79632 -122.39713,37.79461 -122.39721000000002,37.79461 -122.39636000000002,37.7941 -122.39684,37.7951 -122.39775,37.7953 -122.40177,37.794990000000006 -122.40501,37.79372 -122.40405,37.791090000000004 -122.40456999999999,37.7888 -122.40816000000001,37.78819 -122.40879,37.78799 -122.41153,37.78787 -122.41673,37.78722 -122.42003000000001,37.78675 -122.42286000000001,37.78539 -122.42216,37.7821 -122.42103999999999,37.77583 -122.42798,37.77431 -122.43581,37.77329 -122.43938,37.77299 -122.44143999999999,37.7707 -122.44200000000001,37.77066 -122.44684,37.77001 -122.44997,37.76968 -122.45188999999999,37.77042 -122.45187,37.770379999999996 -122.44686999999999,37.77101 -122.4458,37.77295 -122.43777,37.77402 -122.42921000000001,37.775220000000004 -122.42268999999999,37.7761 -122.4193,37.77748 -122.4164,37.77772 -122.41418999999999,37.7792 -122.41213,37.78161 -122.41251000000001,37.78325 -122.41301000000001,37.78689 -122.41321,37.78707 -122.41341000000001,37.787040000000005 -122.41325,37.787079999999996 -122.41335,37.78705 -122.4152,37.78757 -122.41972,37.786 -122.41888999999999,37.78232 -122.41701,37.7808 -122.41573999999999,37.777840000000005 -122.41243,37.78046 -122.40993999999999,37.78224 -122.40657,37.78495 -122.40366000000002,37.78719 -122.40275,37.79083 -122.40462,37.79043 -122.40992,37.7899 -122.41375,37.79006 -122.41325,37.7915 -122.41183000000001,37.79175 -122.40853999999999,37.791920000000005 -122.40361000000001,37.79245 -122.4034,37.79087 -122.40337,37.7908 -122.40428999999999,37.79214 -122.40142,37.788940000000004 -122.40336,37.791270000000004 -122.4034,37.79133 -122.4034,37.79098 -122.4039,37.79128 -122.40401999999999,37.79136 -122.40491999999999,37.79189 -122.40353,37.79135 -122.4037,37.79152 -122.40361999999999,37.79152 -122.4037,37.79159 -122.40446000000001,37.79246 -122.40228,37.79305 -122.39996000000001,37.79425 -122.39976999999999,37.79489 -122.40106000000002,37.79874 -122.40222,37.80409 -122.40518999999999,37.80458 -122.40353,37.80487 -122.40229,37.79916 -122.40427,37.798120000000004 -122.40461,37.79425 -122.40417,37.79087 -122.40706000000002,37.79043 -122.41391999999999,37.789609999999996 -122.42003000000001,37.788779999999996 -122.42293000000001,37.78548 -122.42152,37.77833 -122.42278,37.77507 -122.42443,37.77485 -122.42934,37.77422 -122.43073999999999,37.77373 -122.43391000000001,37.77171 -122.43808999999999,37.7702 -122.43783,37.77025 -122.4378,37.77028 -122.44063999999999,37.77082 -122.44717,37.76998 -122.45201999999999,37.7701 -122.45397,37.77299 -122.45353,37.77308 -122.45257,37.772909999999996 -122.44447,37.77325 -122.43552,37.774359999999994 -122.42286999999999,37.776070000000004 -122.42278999999999,37.77794 -122.41806000000001,37.77856 -122.41521999999999,37.78014 -122.41638999999999,37.7855 -122.41326000000001,37.786970000000004 -122.41257,37.78583 -122.41275,37.78577 -122.41286000000001,37.78588 -122.41798999999999,37.78524 -122.42193,37.784659999999995 -122.42176,37.77949 -122.42091,37.77587 -122.42081999999999,37.77454 -122.4246,37.77001 -122.42415,37.76439 -122.42343999999999,37.75822 -122.4228,37.751329999999996 -122.42243,37.747840000000004 -122.42225,37.74605 -122.42086,37.7458 -122.42148,37.74642 -122.4267,37.74414 -122.42366000000001,37.7423 -122.42305,37.742329999999995 -122.42175,37.74064 -122.41903,37.7395 -122.41568000000001,37.73901 -122.40883999999998,37.739670000000004 -122.40588999999999,37.73832 -122.40193000000001,37.7393 -122.39685,37.737320000000004 -122.39695,37.73738 -122.39708999999999,37.73744 -122.40625,37.73812 -122.40753000000001,37.73604 -122.41095,37.73491 -122.41598,37.734840000000005 -122.41845,37.737109999999994 -122.41873999999999,37.73744 -122.41873999999999,37.73745 -122.41696999999999,37.73635 -122.41548,37.734840000000005 -122.41088,37.73489 -122.40693999999999,37.74266 -122.40486000000001,37.74622 -122.40631,37.75982 -122.40847,37.76995 -122.40986000000001,37.77267 -122.41031000000001,37.77515 -122.41497,37.77883 -122.41786,37.77851 -122.42298999999998,37.775 -122.42568999999999,37.77466 -122.43301000000001,37.77373 -122.44058000000001,37.77272 -122.44131000000002,37.77262 -122.44561000000002,37.770179999999996 -122.44757,37.76999 -122.4532,37.770179999999996 -122.45433,37.77283 -122.45398999999999,37.77299 -122.45371999999999,37.773 -122.45343000000001,37.773070000000004 -122.45388,37.77134 -122.45388,37.77114 -122.45168000000001,37.76945 -122.44809,37.769870000000004 -122.44457,37.77033 -122.43996000000001,37.770920000000004 -122.43784,37.77023 -122.43782,37.77015 -122.43711,37.77159 -122.43736000000001,37.7741 -122.4308,37.77492 -122.4301,37.77895 -122.43111,37.784040000000005 -122.42863999999999,37.788579999999996 -122.42253000000001,37.78937 -122.41698999999998,37.79011 -122.41223000000001,37.79061 -122.40427,37.7914 -122.40229,37.7925 -122.40007,37.79485 -122.40088999999999,37.79775 -122.40171000000001,37.80172 -122.40308,37.80256 -122.40307,37.80253 -122.40222,37.79822 -122.40165,37.79538 -122.43693,37.78394 -122.42786000000001,37.785059999999994 -122.42299999999999,37.78548 -122.42103,37.78577 -122.41466000000001,37.786570000000005 -122.41131999999999,37.78655 -122.4112,37.78478 -122.40971,37.78185 -122.40700000000001,37.77998 -122.40314,37.78008 -122.39973,37.77737 -122.39544,37.77669 -122.39719,37.775420000000004 -122.40033999999999,37.777770000000004 -122.40347,37.78032 -122.4061,37.78245 -122.40881999999999,37.78453 -122.41478000000001,37.7837 -122.41736000000002,37.78246 -122.41689,37.78022 -122.41443000000001,37.779109999999996 -122.40948999999999,37.778059999999996 -122.41136000000002,37.7739 -122.41133,37.77389 -122.41261000000002,37.77296 -122.41915,37.77648 -122.42428999999998,37.774840000000005 -122.43381000000001,37.77364 -122.44046000000002,37.77277 -122.44588,37.77207 -122.45398999999999,37.77154 -122.45261,37.77296 -122.45382,37.77062 -122.45115,37.769529999999996 -122.45116999999999,37.769529999999996 -122.45116999999999,37.76951 -122.45115,37.76952 -122.45119,37.76956 -122.45116999999999,37.76959 -122.45123000000001,37.769490000000005 -122.4503,37.7696 -122.44346999999999,37.77046 -122.43681000000001,37.77134 -122.43248,37.7719 -122.42538,37.7728 -122.42351000000001,37.77301 -122.41928,37.775240000000004 -122.41906000000002,37.77545 -122.41693000000001,37.77724 -122.41391999999999,37.77952 -122.4083,37.7806 -122.40892,37.78105 -122.41188000000001,37.779920000000004 -122.40735,37.77633 -122.40482,37.76623 -122.40489,37.758340000000004 -122.40488,37.745309999999996 -122.40534,37.73299 -122.39991,37.72053 -122.39477,37.70811 -122.3921,37.69639 -122.38946000000001,37.68479 -122.38973,37.6736 -122.39953,37.663309999999996 -122.40685,37.65311 -122.40566000000001,37.64089 -122.40187,37.6289 -122.39781,37.61674 -122.39008000000001,37.61573 -122.38991999999999,37.614779999999996 -122.39001999999999,37.614709999999995 -122.39213000000001,37.61424 -122.40338999999999,37.63204 -122.40643999999999,37.64515 -122.4055,37.6584 -122.39428999999998,37.668279999999996 -122.389,37.68108 -122.39198,37.6942 -122.39491000000001,37.70735 -122.40006000000001,37.72016 -122.40563999999999,37.73315 -122.40465,37.74655 -122.40645,37.760090000000005 -122.40966999999999,37.77037 -122.40966999999999,37.77278 -122.41008000000001,37.777570000000004 -122.40982,37.77773 -122.40981000000001,37.777809999999995 -122.40976,37.77769 -122.41141,37.77632 -122.4149,37.7786 -122.41717,37.77695 -122.41463,37.77885 -122.41112,37.78092 -122.40947,37.78304 -122.40971,37.78325 -122.40978999999999,37.78435 -122.40935,37.78498 -122.41136000000002,37.78613 -122.41824,37.78522 -122.42266000000001,37.7837 -122.42188999999999,37.77975 -122.42211,37.77884 -122.42442,37.77858 -122.4238,37.77341 -122.41667,37.7697 -122.40496,37.76549 -122.40272,37.75222 -122.39628,37.7498 -122.39528999999999,37.7512 -122.39483,37.751290000000004 -122.39488999999999,37.751870000000004 -122.39478999999999,37.75182 -122.39478999999999,37.75185 -122.3947,37.751740000000005 -122.39457,37.751870000000004 -122.39526000000001,37.75137 -122.39541000000001,37.7515 -122.39528999999999,37.75155 -122.39339,37.75019 -122.39333,37.74684 -122.40393999999999,37.7364 -122.41771999999999,37.73187 -122.43453000000001,37.73147 -122.4477,37.72272 -122.45567,37.71085 -122.47091,37.70498 -122.47542,37.704159999999995 -122.47131,37.71228 -122.47375,37.715559999999996 -122.47198999999999,37.71444 -122.47537,37.72167 -122.47495,37.72939 -122.47553,37.73855 -122.47611,37.74667 -122.47653000000001,37.75349 -122.47736,37.76444 -122.48104,37.77171 -122.48423000000001,37.774429999999995 -122.48113000000001,37.77533 -122.48118000000001,37.7754 -122.4814,37.77791 -122.47465,37.778620000000004 -122.46642,37.77901 -122.46236,37.781009999999995 -122.46316999999999,37.780359999999995 -122.46238999999998,37.77732 -122.45473,37.7777 -122.447,37.778690000000005 -122.43758999999999,37.77982 -122.4309,37.78065 -122.4238,37.78154 -122.42147,37.7775 -122.4196,37.77622 -122.42002,37.768840000000004 -122.41996,37.76781 -122.42003000000001,37.76797 -122.42036,37.76852 -122.42023999999999,37.76827 -122.42036999999999,37.76876 -122.42031999999999,37.768570000000004 -122.42027,37.768570000000004 -122.42026000000001,37.77019 -122.41848999999999,37.77332 -122.41838999999999,37.773340000000005 -122.41311,37.774879999999996 -122.41266,37.772909999999996 -122.41538,37.77019 -122.41798999999999,37.76843 -122.42031000000001,37.76858 -122.41998000000001,37.76813 -122.41951999999999,37.76331 -122.41928,37.76093 -122.41885,37.7569 -122.41856999999999,37.75377 -122.41853,37.7537 -122.41718999999999,37.75227 -122.41058000000001,37.75273 -122.4065,37.753409999999995 -122.4047,37.75502 -122.4047,37.75502 -122.40513,37.75437 -122.4065,37.75295 -122.40806,37.751329999999996 -122.40341000000001,37.749520000000004 -122.39733000000001,37.74968 -122.39412,37.746179999999995 -122.38795,37.74253 -122.38978,37.73727 -122.3884,37.73165 -122.38353000000001,37.7297 -122.3822,37.73066 -122.38218,37.73061 -122.38387,37.729279999999996 -122.3866,37.726209999999995 -122.38966,37.7228 -122.39164,37.72065 -122.39413,37.71978 -122.3944,37.7199 -122.3944,37.7199 -122.39492,37.72023 -122.39596999999999,37.7208 -122.39627,37.720659999999995 -122.39601,37.719 -122.39608,37.71992 -122.39591999999999,37.7208 -122.39572,37.72068 -122.39576000000001,37.72071 -122.39565,37.72063 -122.39618999999999,37.7214 -122.39511999999999,37.72318 -122.39473999999998,37.72202 -122.3943,37.721790000000006 -122.39567,37.722559999999994 -122.39286000000001,37.72899 -122.39106000000001,37.7342 -122.38948,37.73853 -122.38735,37.74452 -122.3901,37.75005 -122.40001000000001,37.74955 -122.40673000000001,37.74875 -122.40856000000001,37.74839 -122.40628000000001,37.7517 -122.40628999999998,37.75312 -122.40633999999999,37.75308 -122.40626999999999,37.753170000000004 -122.40623000000001,37.75316 -122.40632,37.75314 -122.4062,37.75315 -122.40614,37.753170000000004 -122.40624,37.75315 -122.4064,37.75316 -122.40625,37.75312 -122.40645,37.7531 -122.40676,37.7566 -122.40756,37.76488 -122.4077,37.76647 -122.40981000000001,37.77039 -122.41601000000001,37.77535 -122.417,37.777 -122.4124,37.78063 -122.40993,37.782140000000005 -122.40798999999998,37.78419 -122.40359,37.787690000000005 -122.40385,37.7888 -122.40598,37.78967 -122.41,37.790040000000005 -122.41623999999999,37.78922 -122.42011000000001,37.78788 -122.41989,37.78655 -122.41998000000001,37.78647 -122.4198,37.78691 -122.41996,37.78646 -122.41988,37.78653 -122.41996999999999,37.78645 -122.42036,37.78864 -122.42058999999999,37.78983 -122.42126,37.7934 -122.42191000000001,37.79651 -122.42141000000001,37.79436 -122.42081,37.79142 -122.42038000000001,37.78893 -122.41468,37.7885 -122.41013999999998,37.7889 -122.40803000000001,37.78758 -122.40007,37.79018 -122.39724,37.79142 -122.39843,37.79384 -122.40453000000001,37.79269 -122.40722,37.791779999999996 -122.40762,37.792320000000004 -122.41013999999998,37.79172 -122.41038,37.7917 -122.41301000000001,37.79153 -122.41753999999999,37.79098 -122.42381999999999,37.78994 -122.42256,37.7828 -122.42115,37.776309999999995 -122.42087,37.77517 -122.42353999999999,37.77171 -122.42581000000001,37.76992 -122.42646,37.76614 -122.42428000000001,37.76482 -122.42166999999999,37.76323 -122.41928,37.76177 -122.41882,37.75638 -122.42041,37.75374 -122.42041,37.75375 -122.42175,37.7537 -122.42318999999999,37.75529 -122.42657,37.75819 -122.43138,37.75951 -122.43491000000002,37.76062 -122.43488,37.76062 -122.43488,37.76061 -122.43496,37.76059 -122.4349,37.76061 -122.43485,37.76057 -122.43508,37.76148 -122.43248,37.764829999999996 -122.43283999999998,37.76437 -122.43513999999999,37.762240000000006 -122.43458000000001,37.75665 -122.43413000000001,37.751290000000004 -122.43481000000001,37.75127 -122.42948999999999,37.75162 -122.42493999999999,37.75186 -122.42196000000001,37.75203 -122.42095,37.75505 -122.42126,37.75855 -122.42113,37.761759999999995 -122.41928,37.760999999999996 -122.41883999999999,37.756209999999996 -122.41842,37.75222 -122.41793999999999,37.74907 -122.41705,37.749140000000004 -122.41368999999999,37.748709999999996 -122.40758000000001,37.74857 -122.39752,37.7497 -122.39249,37.75005 -122.39333,37.74713 -122.39867,37.74111 -122.40247,37.72786 -122.39787,37.7151 -122.39343000000001,37.70232 -122.39043000000001,37.68906 -122.39804,37.664390000000004 -122.40682,37.65273 -122.40575,37.64632 -122.40573,37.64629 -122.40531000000001,37.64683 -122.40527,37.64685 -122.40442,37.64651 -122.40441000000001,37.646570000000004 -122.40438999999999,37.64673 -122.40455,37.6466 -122.40568999999999,37.649609999999996 -122.40706999999999,37.64902 -122.40225,37.66186 -122.39107,37.67203 -122.39003999999998,37.68569 -122.39301999999999,37.69887 -122.39612,37.71212 -122.40175,37.724790000000006 -122.40133999999999,37.73813 -122.39242,37.74971 -122.39286000000001,37.763009999999994 -122.40101999999999,37.77471 -122.40543999999998,37.7783 -122.40693999999999,37.77989 -122.40794,37.78441 -122.4102,37.78586 -122.40847,37.78734 -122.4083,37.78764 -122.40827,37.78765 -122.40823,37.78757 -122.40831999999999,37.78763 -122.4084,37.78785 -122.40843000000001,37.78779 -122.40801,37.7873 -122.41457,37.78747 -122.41838999999999,37.78703 -122.41815,37.78611 -122.41125,37.7871 -122.41116000000001,37.78712 -122.40803000000001,37.78768 -122.40808,37.787690000000005 -122.40807,37.78767 -122.40805,37.78763 -122.40798000000001,37.78775 -122.40793000000001,37.78761 -122.40808999999999,37.787690000000005 -122.40928000000001,37.788129999999995 -122.40891,37.78795 -122.40921000000002,37.78792 -122.41203999999999,37.78785 -122.41676000000001,37.78716 -122.42006,37.78651 -122.4224,37.78652 -122.42238,37.782270000000004 -122.42116999999999,37.77606 -122.4209,37.77497 -122.42631999999999,37.7695 -122.4288,37.767559999999996 -122.42925,37.76735 -122.43308,37.76392 -122.43265,37.76103 -122.42801999999999,37.76135 -122.42166,37.76206 -122.42232,37.7685 -122.42253999999998,37.77127 -122.4226,37.77167 -122.42261,37.77219 -122.42284,37.775690000000004 -122.42421000000002,37.78345 -122.42095,37.78393 -122.41991999999999,37.785070000000005 -122.4143,37.7868 -122.41106,37.7882 -122.41183000000001,37.78782 -122.4149,37.78715 -122.41401,37.78262 -122.41403000000001,37.78192 -122.41403000000001,37.781909999999996 -122.42176,37.78086 -122.4211,37.7758 -122.42079,37.77417 -122.42635,37.7695 -122.42912,37.76737 -122.43021,37.76648 -122.4331,37.76393 -122.43314,37.76102 -122.43505,37.76108 -122.43281,37.764590000000005 -122.4306,37.76634 -122.42906,37.76782 -122.42759,37.76862 -122.43146000000002,37.765440000000005 -122.43511000000001,37.762 -122.43325,37.76101 -122.4282,37.76133 -122.42393999999999,37.76189 -122.42173999999999,37.76341 -122.41933999999999,37.76162 -122.41906999999999,37.758559999999996 -122.41859,37.75392 -122.41833000000001,37.74807 -122.4189,37.74722 -122.41893999999999,37.74726 -122.41895,37.7472 -122.4182,37.74842 -122.41655,37.749159999999996 -122.41526999999999,37.74825 -122.40856000000001,37.74844 -122.40193000000001,37.74946 -122.39414,37.7499 -122.39265,37.74947 -122.40151999999999,37.7381 -122.41861000000002,37.731840000000005 -122.43508,37.7313 -122.44769,37.722770000000004 -122.4555,37.71091 -122.47018999999999,37.70622 -122.47133000000001,37.70495 -122.476,37.703959999999995 -122.48335,37.70162 -122.48351000000001,37.700959999999995 -122.48338000000001,37.70091 -122.48292,37.7009 -122.48308,37.70098 -122.486,37.704879999999996 -122.48525,37.71561 -122.48382,37.72702 -122.48105,37.727740000000004 -122.47513000000001,37.727129999999995 -122.47502,37.73245 -122.47559,37.73451 -122.47582,37.734559999999995 -122.47606999999999,37.73453 -122.47523000000001,37.739329999999995 -122.47478999999998,37.739309999999996 -122.47495,37.732659999999996 -122.47481,37.72679 -122.47488,37.72599 -122.47563000000001,37.72084 -122.4795,37.72088 -122.48143,37.71947 -122.48199,37.71903 -122.48137,37.7203 -122.4754,37.7214 -122.47492,37.730470000000004 -122.47538,37.7361 -122.47555,37.73975 -122.4759,37.7453 -122.47623999999999,37.75013 -122.47668999999999,37.75654 -122.47729,37.76396 -122.47841000000001,37.768640000000005 -122.48431000000001,37.77283 -122.4845,37.77567 -122.4848,37.779720000000005 -122.48473999999999,37.780590000000004 -122.4848,37.7806 -122.48445,37.780190000000005 -122.4826,37.780359999999995 -122.4828,37.78203 -122.48323,37.78028 -122.48215,37.78028 -122.47483000000001,37.7806 -122.47211999999999,37.78074 -122.46834,37.78092 -122.46195,37.78116 -122.45895,37.78134 -122.44188,37.783120000000004 -122.43428,37.78427 -122.42771,37.785090000000004 -122.42166999999999,37.785579999999996 -122.42015,37.78718 -122.41998000000001,37.7877 -122.41169,37.788790000000006 -122.40669,37.79 -122.40456999999999,37.78941 -122.40235,37.79443 -122.40281,37.793009999999995 -122.40558999999999,37.79238 -122.41117,37.79181 -122.41463999999999,37.791309999999996 -122.42071000000001,37.79067 -122.42114,37.79233 -122.42088999999999,37.79061 -122.41581000000001,37.791059999999995 -122.41554,37.78967 -122.41547,37.7892 -122.41141999999999,37.788759999999996 -122.40858999999999,37.78893 -122.40748,37.78869 -122.40401000000001,37.7858 -122.40274,37.78685 -122.39876000000001,37.78379 -122.39635,37.78174 -122.39296999999999,37.77874 -122.39721999999999,37.775290000000005 -122.39868999999999,37.77281 -122.39233,37.76093 -122.39221,37.75951 -122.39133999999999,37.75308 -122.39875,37.741 -122.41112,37.73373 -122.42223,37.73087 -122.426,37.7293 -122.42907,37.727940000000004 -122.43248,37.72493 -122.43375,37.723290000000006 -122.4335,37.72367 -122.42948,37.72462 -122.426,37.72895 -122.42617,37.7315 -122.4152,37.73234 -122.40638999999999,37.7433 -122.40343999999999,37.75649 -122.40552,37.7687 -122.40043,37.77944 -122.40128999999999,37.78204 -122.40177,37.78269 -122.40021999999999,37.787259999999996 -122.40171000000001,37.788540000000005 -122.40206,37.7907 -122.40316999999999,37.78991 -122.40236999999999,37.78991 -122.40263,37.791990000000006 -122.40276999999999,37.79251 -122.40703,37.79228 -122.4126,37.79152 -122.4152,37.79122 -122.41769,37.79088 -122.42074,37.79087 -122.42103999999999,37.79222 -122.42148999999999,37.7947 -122.42896,37.79792 -122.43408000000001,37.79725 -122.43493000000001,37.794340000000005 -122.43423999999999,37.790929999999996 -122.43538000000001,37.78868 -122.43636000000001,37.78715 -122.43621,37.787259999999996 -122.43581999999999,37.78738 -122.43438,37.785990000000005 -122.43016000000001,37.78653 -122.42303000000001,37.787279999999996 -122.41996,37.78779 -122.41243999999999,37.78872 -122.4069,37.789629999999995 -122.40328999999998,37.788140000000006 -122.4002,37.78501 -122.39478999999999,37.78055 -122.39541000000001,37.77665 -122.39546000000001,37.77663 -122.40100000000001,37.77235 -122.40366000000002,37.77024 -122.40847,37.76916 -122.40838000000001,37.76939 -122.41588,37.76958 -122.41993000000001,37.76963 -122.41957,37.764179999999996 -122.41935,37.76173 -122.41885,37.75691 -122.41842,37.75215 -122.41708,37.74906 -122.41705,37.74897 -122.41708999999999,37.748979999999996 -122.41696,37.74896 -122.41705,37.74897 -122.41708,37.74899 -122.41713999999999,37.74905 -122.41708999999999,37.74903 -122.41706,37.74896 -122.41707,37.74896 -122.41758999999999,37.74908 -122.42055,37.75035 -122.42091,37.7542 -122.42124,37.7571 -122.42126999999999,37.75795 -122.4211,37.75854 -122.41696999999999,37.75906 -122.4175,37.76477 -122.41745,37.77048 -122.41545,37.7697 -122.41013000000001,37.76944 -122.40737,37.76924 -122.40381000000001,37.77017 -122.39978,37.77341 -122.39367,37.77823 -122.39072,37.78046 -122.39233999999999,37.77857 -122.38993,37.780120000000004 -122.39296000000002,37.77867 -122.39513000000001,37.77701 -122.39719,37.77536 -122.40223999999999,37.771390000000004 -122.40621999999999,37.76945 -122.41305,37.76937 -122.41813,37.76984 -122.42002,37.769220000000004 -122.41967,37.764790000000005 -122.41951999999999,37.7631 -122.41928,37.76097 -122.4189,37.75685 -122.41837,37.75158 -122.41776000000002,37.74909 -122.41703999999999,37.74903 -122.4171,37.74892 -122.41707,37.74897 -122.4171,37.74892 -122.4171,37.749 -122.4171,37.74893 -122.41708999999999,37.748940000000005 -122.41712,37.748909999999995 -122.41707,37.74893 -122.41713,37.7489 -122.41705,37.748909999999995 -122.41349,37.748329999999996 -122.4043,37.74933 -122.39466000000002,37.75005 -122.39461000000001,37.75008 -122.40028999999998,37.74948 -122.40316999999999,37.754329999999996 -122.40523999999999,37.76527 -122.40704,37.768640000000005 -122.41081000000001,37.76931 -122.41913000000001,37.76992 -122.42386,37.7731 -122.42603000000001,37.77479 -122.42544,37.77561 -122.42448999999999,37.77596 -122.42633000000001,37.7766 -122.42675,37.778690000000005 -122.42728000000001,37.781240000000004 -122.43086000000001,37.78158 -122.4327,37.7814 -122.43399,37.78131 -122.43392,37.78097 -122.43836,37.7807 -122.4385,37.778620000000004 -122.43803,37.77639 -122.43751,37.77384 -122.43748000000001,37.77382 -122.43722,37.77211 -122.43611000000001,37.76963 -122.43558,37.7669 -122.4348,37.76415 -122.43216000000001,37.764340000000004 -122.43156,37.76435 -122.43071,37.76439 -122.42413,37.763529999999996 -122.42335,37.75665 -122.42296999999999,37.75278 -122.42253999999998,37.74852 -122.41801000000001,37.74821 -122.40856000000001,37.74845 -122.40841999999999,37.7485 -122.40186000000001,37.74943 -122.39538999999999,37.74986 -122.39528999999999,37.75119 -122.39513999999998,37.75132 -122.39483999999999,37.75169 -122.39483,37.75157 -122.39486000000001,37.75155 -122.39483,37.75164 -122.39483999999999,37.75157 -122.39482,37.751259999999995 -122.3948,37.75132 -122.39477,37.751129999999996 -122.39485,37.75125 -122.39483,37.751259999999995 -122.39483999999999,37.75124 -122.39483,37.7513 -122.39412,37.75135 -122.3948,37.75132 -122.39511999999999,37.7514 -122.39521,37.75162 -122.39513999999998,37.7498 -122.39901,37.749590000000005 -122.4052,37.74906 -122.41252,37.74828 -122.41681000000001,37.74814 -122.42493999999999,37.74875 -122.42777,37.75009 -122.43466000000001,37.74966 -122.43633999999999,37.75114 -122.43666999999999,37.75448 -122.43687,37.757259999999995 -122.43691000000001,37.75724 -122.43493000000001,37.7577 -122.43506000000001,37.76081 -122.42956000000001,37.76125 -122.42548000000001,37.7615 -122.4241,37.76404 -122.42441000000001,37.769729999999996 -122.42243,37.770559999999996 -122.42246000000002,37.772220000000004 -122.42241999999999,37.77189 -122.42095,37.77427 -122.42388000000001,37.77391 -122.42783999999999,37.7734 -122.43066999999999,37.772079999999995 -122.43555,37.77149 -122.43725,37.77128 -122.44205,37.77062 -122.44572,37.77017 -122.44886000000001,37.76978 -122.45188999999999,37.76938 -122.44997,37.76679 -122.44758999999999,37.76487 -122.44016,37.762209999999996 -122.43548,37.7628 -122.4355,37.76292 -122.43553,37.76287 -122.43536,37.76425 -122.4348,37.7674 -122.43127,37.76761 -122.42773999999999,37.76855 -122.42448,37.77111 -122.41991000000002,37.77479 -122.4166,37.777409999999996 -122.41476000000002,37.77875 -122.41219,37.780879999999996 -122.41208,37.781259999999996 -122.41226999999999,37.782759999999996 -122.41297,37.785740000000004 -122.41643,37.7854 -122.42003000000001,37.78496 -122.4221,37.78464 -122.42348,37.784490000000005 -122.43028000000001,37.784620000000004 -122.43256000000001,37.78438 -122.4393,37.78327 -122.44187,37.782990000000005 -122.45143,37.78192 -122.4573,37.78132 -122.46243,37.78097 -122.46871000000002,37.78074 -122.47281000000001,37.78055 -122.4749,37.78046 -122.47565,37.78046 -122.48381,37.78008 -122.48714,37.77995 -122.48811,37.78103 -122.48671999999999,37.7801 -122.48245,37.780229999999996 -122.47635,37.78055 -122.47207,37.78071 -122.47073999999999,37.7808 -122.46111,37.781259999999996 -122.45342,37.78176 -122.44726000000001,37.782779999999995 -122.44751000000001,37.78447 -122.44561000000002,37.78635 -122.43698,37.78755 -122.42851999999999,37.78868 -122.42556,37.7895 -122.42578999999999,37.790859999999995 -122.42379,37.79116 -122.42318999999999,37.79421 -122.4233,37.79457 -122.42448,37.79103 -122.42391,37.78709 -122.42346,37.78669 -122.42358999999999,37.78655 -122.42352,37.78653 -122.42333,37.786609999999996 -122.42306,37.78573 -122.42036999999999,37.78524 -122.41354,37.785759999999996 -122.40933999999999,37.78732 -122.40515,37.78776 -122.40316000000001,37.78821 -122.39941,37.79091 -122.39916000000001,37.79078 -122.39598000000001,37.79356 -122.39568,37.79385 -122.39303999999998,37.793420000000005 -122.39468000000001,37.79542 -122.39455,37.79595 -122.39175,37.79326 -122.38897,37.789120000000004 -122.39029,37.789559999999994 -122.39048000000001,37.789359999999995 -122.39038000000001,37.7895 -122.39031999999999,37.78958 -122.39173999999998,37.78945 -122.39458,37.78717 -122.39793,37.78448 -122.3974,37.78321 -122.39583999999999,37.78112 -122.39283999999999,37.77871 -122.39676000000001,37.7757 -122.40141000000001,37.77202 -122.40295,37.769870000000004 -122.4017,37.76598 -122.39865,37.76494 -122.39828999999999,37.76106 -122.39838,37.75992 -122.39868999999999,37.759890000000006 -122.40212,37.759879999999995 -122.40255,37.76468 -122.40341000000001,37.76979 -122.40933000000001,37.77004 -122.41802,37.77729 -122.41945,37.78015 -122.42233999999999,37.77877 -122.42246999999999,37.77885 -122.4236,37.7798 -122.42399999999999,37.782109999999996 -122.42493,37.78718 -122.42327,37.78736 -122.42152,37.78758 -122.42003999999999,37.787290000000006 -122.41638999999999,37.78625 -122.41225,37.786840000000005 -122.40843000000001,37.787459999999996 -122.40858999999999,37.78777 -122.40863999999999,37.78991 -122.40881999999999,37.79059 -122.40887,37.79115 -122.40478999999999,37.79172 -122.40435,37.79063 -122.40591,37.79059 -122.40601000000001,37.79058 -122.4106,37.78996 -122.4178,37.78906 -122.42217,37.78848 -122.42379,37.78824 -122.42536000000001,37.78906 -122.42583,37.79159 -122.42687,37.796040000000005 -122.42737,37.79834 -122.43108000000001,37.79957 -122.4359,37.79885 -122.43373999999999,37.79732 -122.43064,37.79772 -122.42551999999999,37.798390000000005 -122.42333,37.79867 -122.42175,37.79586 -122.42138,37.79379 -122.42108,37.79265 -122.4214,37.79246 -122.42405,37.79198 -122.42343000000001,37.78808 -122.42258000000001,37.78383 -122.4216,37.77827 -122.42296,37.77497 -122.42505,37.77473 -122.42894,37.77428 -122.4306,37.772079999999995 -122.43327,37.77172 -122.43484,37.77143 -122.43485,37.77152 -122.4318,37.77197 -122.42101000000001,37.77398 -122.42166999999999,37.77414 -122.42268,37.77407 -122.42568,37.77271 -122.4306,37.77302 -122.43092,37.77449 -122.43091000000001,37.77454 -122.43099,37.77518 -122.43104,37.775859999999994 -122.42626000000001,37.77647 -122.42317,37.77728 -122.42398999999999,37.78132 -122.42441000000001,37.78358 -122.42428000000001,37.78483 -122.42426,37.78476 -122.42421000000002,37.784729999999996 -122.42478999999999,37.785779999999995 -122.42578999999999,37.78605 -122.43093999999999,37.78542 -122.43738,37.78458 -122.44481,37.7844 -122.44498999999999,37.784620000000004 -122.44448,37.78464 -122.44363999999999,37.78474 -122.44077,37.785070000000005 -122.43536999999999,37.785779999999995 -122.43139,37.78631 -122.42575,37.786640000000006 -122.42316000000001,37.787409999999994 -122.41448999999999,37.788509999999995 -122.40773999999999,37.78926 -122.40371,37.78976 -122.4037,37.78848 -122.40225,37.78669 -122.40063,37.78767 -122.40161,37.78848 -122.40182,37.78845 -122.40203000000001,37.7884 -122.40014,37.78785 -122.40042,37.78642 -122.40163000000001,37.788270000000004 -122.4025,37.79251 -122.40326999999999,37.79305 -122.40422,37.79603 -122.40685,37.79783 -122.40758999999998,37.797740000000005 -122.41792,37.79635 -122.42273999999999,37.795790000000004 -122.42411000000001,37.79845 -122.42396000000001,37.79854 -122.42233999999999,37.798759999999994 -122.42197,37.79675 -122.42156000000001,37.794909999999994 -122.42116999999999,37.79312 -122.42081999999999,37.79132 -122.42026000000001,37.788920000000005 -122.4201,37.78756 -122.41925,37.78593 -122.41438000000001,37.786640000000006 -122.41001999999999,37.78727 -122.40846,37.787859999999995 -122.41136000000002,37.787729999999996 -122.41086999999999,37.7853 -122.40978,37.78522 -122.41006999999999,37.78609 -122.4096,37.782090000000004 -122.41101,37.78542 -122.4108,37.784 -122.40808,37.78051 -122.40768,37.77667 -122.405,37.768 -122.40303,37.75553 -122.40683,37.742470000000004 -122.40337,37.72932 -122.39875,37.71634 -122.39383000000001,37.70349 -122.39081999999999,37.6902 -122.38847,37.67689 -122.39707,37.66532 -122.40697,37.65412 -122.40558999999999,37.64051 -122.4017,37.62764 -122.39693999999999,37.61523 -122.39017,37.61521 -122.39013,37.61521 -122.39013,37.61506 -122.39475,37.61462 -122.38653000000001,37.6178 -122.38637,37.6152 -122.38596000000001,37.61655 -122.38609,37.61646 -122.38606999999999,37.616479999999996 -122.38616999999999,37.61639 -122.38798,37.61571 -122.38893999999999,37.61607 -122.38618999999998,37.61801 -122.38622,37.617940000000004 -122.38621,37.61801 -122.38563,37.61785 -122.38797,37.615759999999995 -122.39962,37.61835 -122.40326999999999,37.631640000000004 -122.39391,37.66863 -122.389,37.68141 -122.39198,37.69458 -122.39491000000001,37.70776 -122.40005,37.720420000000004 -122.40456999999999,37.74675 -122.40631,37.75982 -122.40606000000001,37.76813 -122.4165,37.76955 -122.4236,37.77223 -122.43122,37.77402 -122.43902,37.77296 -122.44453,37.772240000000004 -122.4449,37.7683 -122.44563000000001,37.76783 -122.44575,37.76832 -122.44578,37.76832 -122.4458,37.768609999999995 -122.4459,37.769079999999995 -122.44488999999999,37.76743 -122.44572,37.77015 -122.44993999999998,37.76968 -122.45348999999999,37.76905 -122.4536,37.76631 -122.46103000000001,37.76615 -122.47131999999999,37.7657 -122.47617,37.76511 -122.47586000000001,37.75987 -122.47662,37.75815 -122.47638,37.75425 -122.47603000000001,37.74991 -122.47551999999999,37.74248 -122.47525,37.73839 -122.47498,37.73441 -122.47475,37.7308 -122.47474,37.73065 -122.47487,37.724940000000004 -122.47403,37.71882 -122.47238,37.7165 -122.4712,37.70725 -122.47143999999999,37.70028 -122.47118,37.68673 -122.46799999999999,37.67335 -122.46404,37.66015 -122.45245,37.65031 -122.44185,37.6397 -122.43066999999999,37.62947 -122.4149,37.63442 -122.402,37.62911 -122.39778000000001,37.61614 -122.40066999999999,37.62182 -122.38976000000001,37.68461 -122.39275,37.69804 -122.40151000000002,37.7242 -122.40763999999999,37.73677 -122.40359,37.749829999999996 -122.40523999999999,37.763220000000004 -122.40438999999999,37.776509999999995 -122.40138,37.782340000000005 -122.40657,37.785709999999995 -122.4082,37.78732 -122.40816000000001,37.787279999999996 -122.40801,37.7878 -122.40807,37.78839 -122.40811000000001,37.78925 -122.40151999999999,37.78934 -122.40267,37.79096 -122.4035,37.790820000000004 -122.41141,37.78986 -122.41723,37.78907 -122.41843999999999,37.7882 -122.41713999999999,37.78618 -122.41641000000001,37.78633 -122.41202,37.78685 -122.4067,37.78777 -122.40596000000001,37.7895 -122.40576999999999,37.7895 -122.40357,37.78957 -122.40353,37.78797 -122.40021000000002,37.78774 -122.39531000000001,37.78918 -122.39473999999998,37.789559999999994 -122.39228999999999,37.78965 -122.39201000000001,37.79072 -122.39211,37.79064 -122.39488,37.7895 -122.39831000000001,37.79143 -122.40123,37.79306 -122.40427,37.79255 -122.40743,37.79224 -122.41148000000001,37.791740000000004 -122.41264,37.791579999999996 -122.41677,37.79108 -122.42063999999999,37.790459999999996 -122.42042,37.78958 -122.41978999999999,37.78672 -122.4198,37.78671 -122.41911,37.78603 -122.41328999999999,37.78673 -122.40763000000001,37.787420000000004 -122.40208,37.789320000000004 -122.4019,37.789559999999994 -122.40161,37.78953 -122.40236000000002,37.78904 -122.40236000000002,37.78911 -122.40626,37.78853 -122.41384,37.78757 -122.42026000000001,37.7868 -122.42496000000001,37.7861 -122.42988999999999,37.78557 -122.43906000000001,37.784420000000004 -122.44483000000001,37.78367 -122.44736999999999,37.78202 -122.4465,37.7761 -122.4533,37.77493 -122.45886000000002,37.77427 -122.46412,37.77357 -122.47702,37.77292 -122.48738999999999,37.77245 -122.48938000000001,37.77417 -122.48938999999999,37.77415 -122.48873999999999,37.77427 -122.48901000000001,37.779309999999995 -122.49496,37.77959 -122.49847,37.779309999999995 -122.49852,37.7793 -122.50296999999999,37.77908 -122.50263999999999,37.77513 -122.50263999999999,37.775059999999996 -122.48388,37.77261 -122.47932,37.7728 -122.4641,37.77361 -122.45448,37.77489 -122.44611,37.77408 -122.44221,37.7735 -122.43366,37.77459 -122.42907,37.77514 -122.42766,37.77511 -122.42748,37.77418 -122.42712,37.77261 -122.42543,37.77232 -122.42445,37.76975 -122.41775,37.76978 -122.41431000000001,37.76967 -122.40786000000001,37.76921 -122.40743,37.76464 -122.40675,37.75758 -122.40523,37.75635 -122.40518,37.75438 -122.4074,37.754509999999996 -122.40905,37.7523 -122.40828,37.748459999999994 -122.40818999999999,37.748470000000005 -122.40149,37.74945 -122.3954,37.74992 -122.39408999999999,37.75157 -122.39437,37.75125 -122.39348000000001,37.75148 -122.39348000000001,37.75147 -122.39348000000001,37.75148 -122.39346,37.75137 -122.39345,37.751329999999996 -122.39348999999999,37.751490000000004 -122.39345,37.75143 -122.39345,37.75148 -122.39343999999998,37.7515 -122.39399999999999,37.75158 -122.39396,37.7516 -122.39398,37.75156 -122.39397,37.7516 -122.39398,37.75165 -122.39395,37.751670000000004 -122.39398,37.75163 -122.39396,37.75162 -122.39396,37.75161 -122.39396,37.75158 -122.39397,37.75162 -122.39398,37.75161 -122.39398999999999,37.75161 -122.39397,37.75162 -122.39399999999999,37.75161 -122.39397,37.75162 -122.39399999999999,37.75164 -122.39398,37.75162 -122.39398999999999,37.75162 -122.39396,37.75161 -122.39395,37.75159 -122.39395,37.75161 -122.39398,37.75161 -122.39397,37.75162 -122.39395,37.75162 -122.39393000000001,37.75161 -122.39398999999999,37.751509999999996 -122.39393999999999,37.751540000000006 -122.39392,37.751540000000006 -122.39393999999999,37.75157 -122.39486000000001,37.751259999999995 -122.39481,37.75123 -122.39485,37.75125 -122.39488,37.7513 -122.39481,37.75123 -122.39502,37.7513 -122.39536000000001,37.75143 -122.39386,37.75201 -122.39627,37.74973 -122.40406999999999,37.7488 -122.40318,37.75227 -122.40521000000001,37.76372 -122.41528000000001,37.76947 -122.41998000000001,37.76961 -122.42038000000001,37.76859 -122.42035,37.76856 -122.42419,37.76807 -122.4266,37.767720000000004 -122.42617,37.76295 -122.42618,37.76283 -122.42577,37.75815 -122.42523999999999,37.75274 -122.42473000000001,37.74775 -122.4244,37.74459 -122.42376999999999,37.7399 -122.42393999999999,37.73742 -122.4228,37.7373 -122.42305,37.737359999999995 -122.42305,37.73735 -122.42408999999999,37.73755 -122.42199,37.74248 -122.41995,37.74564 -122.41833999999999,37.75053 -122.41878,37.75501 -122.41921,37.75946 -122.41955,37.76351 -122.42011000000001,37.769009999999994 -122.41846000000001,37.77335 -122.41842,37.773270000000004 -122.41701,37.774429999999995 -122.41448000000001,37.77647 -122.41056,37.77956 -122.40992,37.78014 -122.40733,37.78198 -122.40575,37.78564 -122.40653999999999,37.78707 -122.40768,37.79269 -122.40836000000002,37.795970000000004 -122.40862,37.79913 -122.40867,37.799170000000004 -122.4091,37.79952 -122.4106,37.79926 -122.41061,37.79927 -122.41035,37.79792 -122.41801000000001,37.79637 -122.42168999999998,37.79596 -122.42081,37.79707 -122.4171,37.797670000000004 -122.41703999999999,37.79777 -122.42083000000001,37.79895 -122.42621000000001,37.79826 -122.43058,37.79761 -122.43024,37.79586 -122.42961000000001,37.7928 -122.42871000000001,37.78842 -122.42849,37.7875 -122.42108,37.79148 -122.42161000000002,37.79488 -122.42246000000002,37.791470000000004 -122.42193,37.78946 -122.42029,37.78969 -122.41426000000001,37.790440000000004 -122.4127,37.77779 -122.41524,37.77844 -122.41518,37.778290000000005 -122.4139,37.779379999999996 -122.41113999999999,37.78164 -122.40908999999999,37.78516 -122.40756999999999,37.785340000000005 -122.40666999999999,37.78771 -122.40775,37.79318 -122.40815,37.79518 -122.40575,37.79708 -122.40876000000002,37.79922 -122.40886,37.79936 -122.40700000000001,37.7981 -122.40521000000001,37.79647 -122.40624,37.79568 -122.40418000000001,37.789320000000004 -122.40217,37.78642 -122.39612,37.78159 -122.39267,37.778859999999995 -122.40518999999999,37.733940000000004 -122.39996000000001,37.72078 -122.39468000000001,37.70765 -122.39164,37.69424 -122.38868000000001,37.681059999999995 -122.39396,37.66839 -122.38695,37.61786 -122.38673999999999,37.61793 -122.38591000000001,37.61795 -122.38448000000001,37.61545 -122.38473,37.61523 -122.39922,37.617340000000006 -122.40314,37.63049 -122.40608999999999,37.657379999999996 -122.38877,37.680440000000004 -122.39178000000001,37.69358 -122.3948,37.70706 -122.39996000000001,37.72027 -122.40489,37.73301 -122.39587,37.74418 -122.39249,37.75744 -122.39803,37.77024 -122.4036,37.77261 -122.40616999999999,37.77199 -122.41325,37.77749 -122.41533999999999,37.7805 -122.41644,37.78645 -122.41705,37.789390000000004 -122.41766000000001,37.792359999999995 -122.41831,37.79557 -122.41898,37.79892 -122.41968,37.80218 -122.42015,37.804629999999996 -122.42038000000001,37.805859999999996 -122.42092,37.80659 -122.42138999999999,37.80652 -122.42206000000002,37.8058 -122.42313,37.80277 -122.42294,37.80173 -122.42286999999999,37.8017 -122.42078000000001,37.799459999999996 -122.41984,37.79618 -122.40858,37.79766 -122.40543000000001,37.79775 -122.40523,37.79645 -122.40495,37.79485 -122.40448,37.79138 -122.40328000000001,37.787290000000006 -122.40108000000001,37.78841 -122.40196,37.78944 -122.40212,37.78969 -122.40288999999999,37.79084 -122.40728,37.79085 -122.40766,37.79217 -122.41042,37.79164 -122.4105,37.79168 -122.40928999999998,37.792809999999996 -122.40892,37.79091 -122.40887,37.78838 -122.40888000000001,37.788340000000005 -122.41023999999999,37.788109999999996 -122.41136999999999,37.78609 -122.40933000000001,37.78535 -122.40846,37.7848 -122.40878000000001,37.78478 -122.40968000000001,37.785340000000005 -122.40973999999999,37.78676 -122.40673999999999,37.78825 -122.40548000000001,37.78985 -122.40738,37.79148 -122.40923000000001,37.79222 -122.41265,37.7916 -122.41707,37.791059999999995 -122.4207,37.79079 -122.42092,37.79166 -122.4214,37.79402 -122.41864,37.79449 -122.41803999999999,37.794309999999996 -122.4179,37.792840000000005 -122.4219,37.792320000000004 -122.42432,37.79182 -122.42375,37.78898 -122.42561,37.788070000000005 -122.42938000000001,37.78757 -122.43786000000001,37.7865 -122.44523000000001,37.78556 -122.44745,37.781909999999996 -122.44678,37.77756 -122.44572,37.772290000000005 -122.45221000000001,37.77133 -122.45483,37.769020000000005 -122.4636,37.76603 -122.47718,37.76536 -122.47686000000002,37.76096 -122.47679,37.7607 -122.47683,37.7607 -122.47662,37.75985 -122.47588999999999,37.760670000000005 -122.47053999999999,37.76579 -122.45926999999999,37.76692 -122.45376999999999,37.77162 -122.45024,37.772420000000004 -122.44603000000001,37.77309 -122.44693000000001,37.77783 -122.44718999999999,37.782740000000004 -122.44748999999999,37.78451 -122.43202,37.7882 -122.4246,37.78914 -122.41854,37.78995 -122.41743999999998,37.7913 -122.41783000000001,37.79291 -122.41816000000001,37.79425 -122.41816000000001,37.794129999999996 -122.41802,37.79432 -122.41774,37.79468 -122.41461000000001,37.79436 -122.41512,37.794140000000006 -122.41556000000001,37.79404 -122.41606000000002,37.79294 -122.41536,37.789120000000004 -122.41461000000001,37.78541 -122.41091999999999,37.78512 -122.40839,37.78431 -122.40839,37.78435 -122.40671,37.78259 -122.40893999999999,37.78079 -122.41246000000001,37.778 -122.41507,37.77875 -122.41503,37.77878 -122.4152,37.77943 -122.41604,37.784240000000004 -122.41818,37.78475 -122.41743999999998,37.78445 -122.41633999999999,37.78447 -122.4138,37.78474 -122.40932,37.78541 -122.40825,37.78413 -122.40823,37.784009999999995 -122.40631,37.78269 -122.40413999999998,37.782109999999996 -122.40451999999999,37.784490000000005 -122.40618,37.78591 -122.40693,37.78668 -122.40999,37.78633 -122.41313999999998,37.78651 -122.41375,37.78979 -122.4143,37.7918 -122.4144,37.79307 -122.41485,37.79526 -122.41575,37.79939 -122.41649,37.80327 -122.41755,37.80531 -122.41728,37.80637 -122.41734,37.80725 -122.41693000000001,37.8081 -122.41575,37.80819 -122.41559,37.80742 -122.41531,37.80578 -122.41457,37.80339 -122.41291000000001,37.80175 -122.41219,37.79889 -122.41376000000001,37.797990000000006 -122.41381000000001,37.798140000000004 -122.41402,37.7997 -122.41485,37.80344 -122.41301999999999,37.8 -122.41349,37.79991 -122.41653000000001,37.79954 -122.41836,37.7993 -122.42276000000001,37.79878 -122.42558000000001,37.79821 -122.42445,37.79272 -122.42363,37.78808 -122.42296999999999,37.785340000000005 -122.42268,37.78395 -122.42245,37.78277 -122.42239,37.78222 -122.4216,37.778209999999994 -122.42095,37.77507 -122.42246000000002,37.77264 -122.4245,37.770990000000005 -122.42697,37.769090000000006 -122.42916000000001,37.76732 -122.434,37.76352 -122.43491000000002,37.75971 -122.43486999999999,37.75914 -122.43433999999999,37.75423 -122.43406999999999,37.7509 -122.43368000000001,37.746759999999995 -122.43368999999998,37.74664 -122.43213,37.746559999999995 -122.43373999999999,37.74736 -122.43406,37.75056 -122.43423999999999,37.752320000000005 -122.43463,37.75656 -122.43498999999998,37.76016 -122.43518,37.76181 -122.43523,37.76226 -122.43568,37.76235 -122.43855,37.76163 -122.44475,37.759609999999995 -122.44098999999999,37.75613 -122.44291000000001,37.75273 -122.44283,37.75288 -122.44278999999999,37.753 -122.44394,37.7582 -122.44091,37.761070000000004 -122.43355,37.764 -122.4291,37.76753 -122.42634,37.769529999999996 -122.42345,37.76814 -122.41665,37.769870000000004 -122.41323,37.77002 -122.41322,37.77006 -122.41293999999999,37.77097 -122.41573999999999,37.77322 -122.41787,37.77495 -122.41604,37.77772 -122.41408,37.77937 -122.41045,37.78225 -122.40953,37.78291 -122.40681000000001,37.7851 -122.4031,37.78716 -122.40262,37.78676 -122.40238000000001,37.78673 -122.40154,37.78845 -122.40193000000001,37.78946 -122.39968,37.79186 -122.40087,37.797940000000004 -122.40293,37.804629999999996 -122.40632,37.80681 -122.40794,37.80764 -122.40848999999999,37.80785 -122.40888000000001,37.808009999999996 -122.40931,37.80807 -122.4103,37.80823 -122.41006000000002,37.80839 -122.40941000000001,37.80831 -122.40905,37.80787 -122.40906000000001,37.80782 -122.40903,37.80757 -122.41115,37.80687 -122.41195,37.805659999999996 -122.4112,37.801970000000004 -122.40863,37.79926 -122.40722,37.798320000000004 -122.40611000000001,37.79756 -122.40494,37.79352 -122.40454,37.79172 -122.40356000000001,37.78755 -122.40073000000001,37.78518 -122.39881000000001,37.78365 -122.39545,37.78098 -122.3936,37.77944 -122.39114,37.77766 -122.39141000000001,37.77713 -122.39338000000001,37.77564 -122.39653999999999,37.774229999999996 -122.39782,37.77091 -122.39221,37.75829 -122.39248,37.75254 -122.39327,37.74995 -122.39457,37.75014 -122.39476,37.74984 -122.39488999999999,37.75136 -122.39497,37.75181 -122.39498,37.7518 -122.39433999999999,37.75189 -122.39481,37.75131 -122.39481,37.7513 -122.39482,37.75125 -122.39477,37.75128 -122.39483,37.751259999999995 -122.39477,37.751290000000004 -122.3948,37.75128 -122.39483,37.75128 -122.39485,37.75127 -122.3948,37.751329999999996 -122.39481,37.7513 -122.39482,37.7513 -122.39476,37.75137 -122.39478999999999,37.75131 -122.39478000000001,37.751329999999996 -122.39473999999998,37.75141 -122.3948,37.7513 -122.39481,37.75128 -122.39481,37.75135 -122.39481,37.75136 -122.3948,37.751290000000004 -122.39482,37.75134 -122.39486000000001,37.75134 -122.39483,37.75138 -122.39488,37.75128 -122.39483,37.751290000000004 -122.39483999999999,37.75132 -122.39481,37.7513 -122.39482,37.751259999999995 -122.3948,37.75127 -122.39481,37.75131 -122.39478000000001,37.75125 -122.3948,37.75128 -122.39478999999999,37.751290000000004 -122.39483,37.751259999999995 -122.39482,37.75136 -122.39482,37.75137 -122.39486000000001,37.75141 -122.39488,37.75131 -122.39493,37.7513 -122.3949,37.75125 -122.39491000000001,37.75124 -122.39493,37.751259999999995 -122.39488999999999,37.75125 -122.39493,37.75127 -122.39493,37.75124 -122.39488999999999,37.75127 -122.3949,37.7513 -122.39488999999999,37.75124 -122.39491000000001,37.7513 -122.39483,37.75124 -122.39485,37.75123 -122.39488999999999,37.7513 -122.39492,37.75132 -122.39493999999999,37.751329999999996 -122.39488999999999,37.75115 -122.39488999999999,37.75118 -122.39493,37.75123 -122.39488999999999,37.75128 -122.39492,37.75138 -122.395,37.75125 -122.39505,37.751259999999995 -122.395,37.75138 -122.39485,37.75132 -122.39497,37.75145 -122.39495,37.7513 -122.39483,37.75134 -122.39488,37.751459999999994 -122.39491000000001,37.751540000000006 -122.39483999999999,37.75141 -122.39485,37.75138 -122.39488999999999,37.751459999999994 -122.39486000000001,37.75139 -122.39483,37.75132 -122.39488,37.75144 -122.39483,37.7514 -122.3948,37.751329999999996 -122.39487,37.75144 -122.39483,37.75141 -122.39481,37.75148 -122.39483,37.75142 -122.39476,37.7513 -122.39477,37.751290000000004 -122.39476,37.751290000000004 -122.39481,37.751290000000004 -122.39475,37.75128 -122.39482,37.7513 -122.3948,37.75125 -122.39481,37.7513 -122.39482,37.7513 -122.39481,37.75124 -122.39471999999999,37.75134 -122.39518999999999,37.751540000000006 -122.39518999999999,37.75162 -122.3952,37.75165 -122.39521,37.75177 -122.39511,37.75189 -122.39398999999999,37.75207 -122.39733000000001,37.74969 -122.3994,37.749829999999996 -122.39943000000001,37.75011 -122.39945,37.75012 -122.39935,37.74974 -122.39358,37.74998 -122.39243,37.75544 -122.39192,37.76417 -122.39091,37.76327 -122.39096,37.763290000000005 -122.39093999999999,37.763290000000005 -122.39241000000001,37.76332 -122.3907,37.75243 -122.39294,37.74995 -122.406,37.74895 -122.41465,37.74824 -122.41615,37.7486 -122.41618000000001,37.74868 -122.41616,37.748670000000004 -122.41606000000002,37.74848 -122.41818,37.74838 -122.41851000000001,37.75242 -122.41899,37.75736 -122.41943,37.76226 -122.42008,37.76903 -122.42392,37.76805 -122.42868999999999,37.76504 -122.42178,37.76416 -122.42176,37.76245 -122.42193999999999,37.76515 -122.42233,37.76938 -122.41878999999999,37.77302 -122.41476000000002,37.77626 -122.412,37.77845 -122.4094,37.7814 -122.4116,37.781259999999996 -122.415,37.77888 -122.41776999999999,37.78328 -122.41963999999999,37.78487 -122.41995,37.78703 -122.4206,37.79 -122.42208000000001,37.790409999999994 -122.42204,37.79007 -122.4221,37.7885 -122.42658,37.7879 -122.43485,37.78689 -122.44315,37.78581 -122.44738000000001,37.78215 -122.44713999999999,37.77915 -122.44618,37.7743 -122.44916,37.771609999999995 -122.45161,37.76937 -122.45496000000001,37.77094 -122.46248999999999,37.766059999999996 -122.46843999999999,37.763729999999995 -122.46801,37.757690000000004 -122.46829,37.75496 -122.46799999999999,37.75724 -122.46831,37.76191 -122.46768999999999,37.76591 -122.46059,37.766259999999996 -122.45409,37.77146 -122.44612,37.77312 -122.44708,37.778459999999995 -122.44623,37.77875 -122.43741000000001,37.77982 -122.42577,37.78134 -122.42046,37.78202 -122.41551000000001,37.7826 -122.4097,37.78325 -122.40965,37.78529 -122.40992,37.78734 -122.4116,37.78797 -122.412,37.78756 -122.4117,37.786770000000004 -122.41168,37.78652 -122.41622,37.78539 -122.4215,37.78475 -122.42181000000001,37.77932 -122.42092,37.77503 -122.4223,37.77275 -122.42241999999999,37.77064 -122.42237,37.770070000000004 -122.42228999999999,37.77006 -122.4223,37.77016 -122.41968,37.77102 -122.41573999999999,37.76965 -122.41248,37.77082 -122.40919,37.773270000000004 -122.40581,37.77604 -122.40332,37.78013 -122.4039,37.77985 -122.4065,37.7778 -122.40558,37.775 -122.40305,37.77297 -122.39526000000001,37.766709999999996 -122.39546999999999,37.7652 -122.40231999999999,37.76177 -122.40183,37.75711 -122.40183,37.75704 -122.40181000000001,37.75701 -122.40387,37.75445 -122.40847,37.75608 -122.41555,37.75563 -122.41868000000001,37.75412 -122.41856000000001,37.75375 -122.41825,37.748090000000005 -122.42023999999999,37.74505 -122.42307,37.74067 -122.42416999999999,37.73686 -122.4314,37.725229999999996 -122.43261000000001,37.72363 -122.43283999999998,37.72374 -122.43316000000002,37.726890000000004 -122.43013,37.73001 -122.42408999999999,37.73772 -122.42176,37.7428 -122.41911,37.74682 -122.41842,37.752390000000005 -122.41776999999999,37.7523 -122.41068,37.75277 -122.41068,37.75278 -122.41084,37.752759999999995 -122.41073,37.752720000000004 -122.41063,37.75271 -122.41058999999998,37.75266 -122.41063999999999,37.75274 -122.41058999999998,37.75273 -122.41063,37.7527 -122.4107,37.75273 -122.41056,37.75269 -122.41068999999999,37.75271 -122.41068999999999,37.75275 -122.4109,37.752140000000004 -122.41061,37.7491 -122.41116000000001,37.74693 -122.41231,37.74467 -122.4123,37.74467 -122.41247,37.74605 -122.41514,37.74818 -122.41625,37.752320000000005 -122.41662,37.75575 -122.41683,37.75832 -122.4174,37.76406 -122.41786,37.76873 -122.41803,37.77353 -122.41508,37.77596 -122.41496000000001,37.77883 -122.4158,37.7829 -122.41593999999999,37.78349 -122.421,37.78286 -122.42163000000001,37.77838 -122.42303000000001,37.775009999999995 -122.42443,37.774840000000005 -122.43195,37.77385 -122.43645,37.773270000000004 -122.43695,37.77107 -122.43569,37.76847 -122.43531000000002,37.76433 -122.43501,37.76135 -122.43446999999999,37.75569 -122.43628000000001,37.75196 -122.44235,37.75156 -122.44236000000001,37.75157 -122.43941000000001,37.75179 -122.43458999999999,37.75652 -122.43508,37.76119 -122.43518999999999,37.76249 -122.43047,37.76647 -122.42571000000001,37.770140000000005 -122.42318,37.77213 -122.4223,37.773579999999995 -122.42363999999999,37.78013 -122.42255,37.78372 -122.4195,37.78483 -122.4198,37.7858 -122.41982,37.785790000000006 -122.41985,37.7863 -122.42061000000001,37.78889 -122.42058999999999,37.78985 -122.42178999999999,37.795970000000004 -122.42216,37.79768 -122.42232,37.79855 -122.42296,37.80175 -122.42416999999999,37.80233 -122.42459,37.80212 -122.42331999999999,37.79552 -122.42243,37.7904 -122.42172,37.78682 -122.42098999999999,37.78575 -122.42103999999999,37.78577 -122.42092,37.78584 -122.41938999999999,37.78605 -122.41305,37.78675 -122.41037,37.7862 -122.41138000000001,37.78461 -122.4112,37.78467 -122.41102,37.78452 -122.41061,37.782740000000004 -122.40875,37.781009999999995 -122.41111000000001,37.77908 -122.41493999999999,37.778529999999996 -122.41689,37.77698 -122.4182,37.77833 -122.41842,37.77928 -122.41556000000001,37.78091 -122.41631000000001,37.784690000000005 -122.41875,37.78505 -122.41973,37.78525 -122.41986999999999,37.78734 -122.41983,37.78775 -122.41986999999999,37.78768 -122.42177,37.78667 -122.42253000000001,37.78338 -122.42114,37.77645 -122.42442,37.7748 -122.43027,37.774029999999996 -122.43715,37.77317 -122.43700000000001,37.7714 -122.43433,37.77155 -122.43027,37.77214 -122.42768000000001,37.77343 -122.42714,37.77274 -122.42563999999999,37.7727 -122.42662,37.7693 -122.43238999999998,37.76474 -122.43548,37.76245 -122.43598,37.76084 -122.4352,37.76231 -122.4352,37.76231 -122.43265,37.7647 -122.43054,37.76628 -122.42719,37.76894 -122.42423000000001,37.77129 -122.42138,37.773579999999995 -122.41768,37.777 -122.41568000000001,37.778079999999996 -122.41548,37.781690000000005 -122.4167,37.78145 -122.41757,37.78156 -122.42148,37.77754 -122.42093,37.7749 -122.42211999999999,37.772859999999994 -122.42465,37.770790000000005 -122.42408999999999,37.76461 -122.42175,37.764340000000004 -122.42175,37.764379999999996 -122.42155,37.76494 -122.41792,37.76517 -122.41542,37.76967 -122.40977,37.769259999999996 -122.40746999999999,37.76928 -122.405,37.76975 -122.40245,37.77118 -122.39625,37.77612 -122.3958,37.77645 -122.39515,37.77695 -122.39708,37.77876 -122.40095,37.78184 -122.4013,37.78172 -122.40363,37.78003 -122.40796999999999,37.77663 -122.41323999999999,37.77752 -122.41561999999999,37.781459999999996 -122.41646999999999,37.78675 -122.41698999999998,37.78881 -122.42022,37.78882 -122.42005,37.788759999999996 -122.42029,37.78869 -122.42168000000001,37.78803 -122.42168000000001,37.78753 -122.42306,37.785709999999995 -122.42204,37.7806 -122.42095,37.77585 -122.42222,37.77285 -122.42408999999999,37.77132 -122.42455,37.769459999999995 -122.42275,37.7648 -122.42161000000002,37.76495 -122.42038000000001,37.76505 -122.41726000000001,37.76282 -122.41703000000001,37.760220000000004 -122.41682,37.75826 -122.41606999999999,37.75242 -122.41103999999999,37.752720000000004 -122.40831999999999,37.75287 -122.40701999999999,37.7529 -122.40388,37.74842 -122.40403,37.74521 -122.40328999999998,37.742490000000004 -122.40318,37.742459999999994 -122.40385,37.743179999999995 -122.40423999999999,37.745329999999996 -122.40313,37.75392 -122.40517,37.76415 -122.40855,37.76995 -122.41538,37.774809999999995 -122.41833000000001,37.77868 -122.42126999999999,37.77995 -122.42218000000001,37.778890000000004 -122.42395,37.78184 -122.42535,37.78515 -122.4313,37.78496 -122.43283999999998,37.78431 -122.43283000000001,37.78432 -122.43271000000001,37.78405 -122.43253,37.78192 -122.42336999999999,37.78172 -122.41856000000001,37.78224 -122.4123,37.78302 -122.40831999999999,37.78382 -122.40687,37.786570000000005 -122.40706000000002,37.7864 -122.40971,37.78559 -122.41086000000001,37.78621 -122.41433,37.78567 -122.41495,37.785509999999995 -122.41488000000001,37.78568 -122.41496000000001,37.78548 -122.41493999999999,37.78564 -122.41495,37.78552 -122.41492,37.78562 -122.41495,37.785470000000004 -122.41498,37.78543 -122.41492,37.7855 -122.41488999999999,37.785579999999996 -122.41487,37.78561 -122.41543,37.78546 -122.41758,37.78358 -122.41593999999999,37.77722 -122.41112,37.77333 -122.4099,37.77239 -122.40867,37.77089 -122.40625,37.75977 -122.40324,37.750820000000004 -122.40776000000001,37.73795 -122.40488,37.732929999999996 -122.40041000000001,37.733740000000004 -122.40045,37.733779999999996 -122.40187,37.73468 -122.40462,37.73302 -122.40671999999999,37.73594 -122.3999,37.72038 -122.39733000000001,37.71423 -122.39321000000001,37.70084 -122.39022,37.687529999999995 -122.38946000000001,37.67426 -122.39931999999999,37.6635 -122.40678999999999,37.65147 -122.40113000000001,37.62472 -122.39334,37.61475 -122.38543,37.61761 -122.38423999999999,37.61613 -122.38468999999999,37.61524 -122.3857,37.61476 -122.3912,37.61484 -122.39946,37.61792 -122.40316999999999,37.63086 -122.40633999999999,37.64428 -122.38873000000001,37.68032 -122.39177,37.69368 -122.39476,37.70705 -122.39997,37.720240000000004 -122.40491999999999,37.73316 -122.39577,37.7442 -122.39245,37.757490000000004 -122.39806999999999,37.77046 -122.40252,37.77598 -122.40621999999999,37.78049 -122.40776000000001,37.78333 -122.40908,37.78445 -122.40987,37.786840000000005 -122.41017,37.789120000000004 -122.41042,37.78996 -122.40971,37.791090000000004 -122.40857,37.7911 -122.40423999999999,37.79096 -122.40551,37.78994 -122.40555,37.78988 -122.40521000000001,37.790409999999994 -122.40902,37.79033 -122.41198999999999,37.79006 -122.41978999999999,37.78881 -122.42281000000001,37.78481 -122.42138,37.77718 -122.42199,37.77518 -122.42379,37.77333 -122.42153,37.77355 -122.42135,37.77369 -122.42103,37.77348 -122.42103999999999,37.77349 -122.41957,37.772459999999995 -122.41541000000001,37.77301 -122.41514,37.77075 -122.41349,37.76948 -122.40781000000001,37.76913 -122.40785,37.769020000000005 -122.40536999999999,37.76473 -122.40173,37.76574 -122.40186000000001,37.76704 -122.40376,37.77024 -122.40217,37.773920000000004 -122.40131000000001,37.77466 -122.40166,37.775459999999995 -122.40587,37.77864 -122.40886,37.78118 -122.41435,37.7791 -122.41721000000001,37.77683 -122.41962,37.77482 -122.42187,37.77313 -122.42343000000001,37.77185 -122.42645,37.7694 -122.43125,37.765679999999996 -122.43341000000001,37.76385 -122.43496,37.76135 -122.43401999999999,37.75932 -122.43247,37.75947 -122.4305,37.760020000000004 -122.42831000000001,37.76135 -122.42598999999998,37.760870000000004 -122.42695,37.75819 -122.42765,37.754490000000004 -122.42719,37.74917 -122.42671999999999,37.744679999999995 -122.43247,37.74325 -122.43413999999999,37.7432 -122.4341,37.74326 -122.43123999999999,37.744659999999996 -122.43168999999999,37.7492 -122.43201,37.7531 -122.43252,37.75782 -122.43283999999998,37.76135 -122.43491999999999,37.762570000000004 -122.43397,37.76269 -122.4334,37.76258 -122.43098,37.76486 -122.43061999999999,37.7662 -122.42917,37.76746 -122.42976000000002,37.76766 -122.43388,37.76911 -122.43631,37.76985 -122.43869,37.77114 -122.43721000000001,37.77128 -122.43671,37.77133 -122.43388,37.77073 -122.43242,37.77093 -122.42867,37.771440000000005 -122.43026,37.7721 -122.43026,37.772090000000006 -122.43171000000001,37.77195 -122.43553,37.77148 -122.4373,37.77114 -122.44219,37.77063 -122.44093000000001,37.7708 -122.44026000000001,37.770759999999996 -122.43968000000001,37.770590000000006 -122.43603999999999,37.76733 -122.43538000000001,37.76535 -122.43506000000001,37.76229 -122.4349,37.760709999999996 -122.43478999999999,37.7593 -122.4343,37.75371 -122.43172,37.751459999999994 -122.42758,37.75265 -122.42756999999999,37.752720000000004 -122.42468000000001,37.7551 -122.42066000000001,37.755340000000004 -122.41843,37.75388 -122.41474,37.75408 -122.41013000000001,37.75343 -122.41013000000001,37.75329 -122.41073,37.75275 -122.41072,37.752720000000004 -122.41072,37.75267 -122.41091999999999,37.7511 -122.41498999999999,37.750679999999996 -122.41443000000001,37.74929 -122.41381000000001,37.7495 -122.41429,37.75437 -122.41481,37.75972 -122.41332,37.76877 -122.41328,37.76878 -122.41297,37.76899 -122.41303,37.76852 -122.40704,37.76941 -122.40531000000001,37.76972 -122.40148,37.77197 -122.39765,37.775079999999996 -122.3955,37.7767 -122.39721999999999,37.77888 -122.39771,37.77921 -122.39849,37.77978 -122.40235,37.78106 -122.40796999999999,37.77663 -122.41226,37.776790000000005 -122.41514,37.78003 -122.4167,37.787490000000005 -122.41533000000001,37.78841 -122.41654,37.78821 -122.41389,37.789590000000004 -122.41418999999999,37.79167 -122.41448000000001,37.793440000000004 -122.41363,37.796040000000005 -122.4087,37.79775 -122.40893999999999,37.79894 -122.40858999999999,37.79923 -122.40632,37.797670000000004 -122.40568999999999,37.79803 -122.40588000000001,37.79795 -122.41058000000001,37.79732 -122.42249,37.795840000000005 -122.42376999999999,37.79574 -122.42456000000001,37.79303 -122.42358999999999,37.78815 -122.42283,37.78464 -122.42155,37.778040000000004 -122.42056000000001,37.774879999999996 -122.42206000000002,37.77298 -122.42253999999998,37.77171 -122.42223,37.768679999999996 -122.42200000000001,37.76641 -122.4214,37.76003 -122.42112,37.757059999999996 -122.42083000000001,37.75415 -122.42036999999999,37.74953 -122.41734,37.74825 -122.41333999999999,37.74834 -122.40871000000001,37.748540000000006 -122.39998999999999,37.749559999999995 -122.39531000000001,37.75062 -122.39478999999999,37.75127 -122.39485,37.75118 -122.39487,37.75121 -122.39487,37.75128 -122.39487,37.75131 -122.39487,37.75132 -122.39486000000001,37.75137 -122.39478999999999,37.7513 -122.39486000000001,37.75135 -122.39487,37.75134 -122.39456000000001,37.75181 -122.39459,37.75143 -122.39459,37.75142 -122.3946,37.75145 -122.39461000000001,37.75139 -122.39457,37.751459999999994 -122.39461000000001,37.751329999999996 -122.3946,37.75135 -122.39459,37.7515 -122.39459,37.75139 -122.3946,37.75137 -122.39458,37.75145 -122.39459,37.75137 -122.39456000000001,37.75147 -122.39457,37.75136 -122.39457,37.75145 -122.39458,37.75142 -122.39457,37.751459999999994 -122.39459,37.75142 -122.39458,37.751459999999994 -122.39458,37.75144 -122.39456000000001,37.75148 -122.39458,37.75142 -122.39457,37.75143 -122.39493,37.751909999999995 -122.39481,37.751329999999996 -122.3953,37.75125 -122.39536000000001,37.751329999999996 -122.39515,37.75148 -122.39527,37.75157 -122.39528,37.75158 -122.39527,37.75168 -122.39503,37.751940000000005 -122.395,37.75193 -122.39476,37.75199 -122.39443,37.751979999999996 -122.39443999999999,37.75203 -122.39343000000001,37.7511 -122.39341999999999,37.75006 -122.39758,37.74967 -122.40746999999999,37.748509999999996 -122.41423999999999,37.74822 -122.41511000000001,37.7482 -122.41846000000001,37.74779 -122.41897,37.746990000000004 -122.42193999999999,37.74407 -122.42195,37.74582 -122.4239,37.7406 -122.42443,37.738620000000004 -122.43548999999999,37.730920000000005 -122.44046999999999,37.72848 -122.44503999999999,37.72263 -122.44585,37.72166 -122.44519,37.72016 -122.44446,37.71867 -122.44216999999999,37.71772 -122.43932,37.71564 -122.43361000000002,37.71315 -122.42381999999999,37.709559999999996 -122.41559,37.70715 -122.4093,37.70538 -122.40521000000001,37.70903 -122.40371,37.71134 -122.40149,37.71455 -122.40096000000001,37.72117 -122.40256000000001,37.725 -122.4041,37.72875 -122.40506,37.73056 -122.40517,37.73048 -122.40518999999999,37.73048 -122.40533,37.73048 -122.40495,37.73087 -122.40427,37.7292 -122.40251,37.72497 -122.40106000000002,37.72152 -122.40682,37.71996 -122.41427,37.71803 -122.42546999999999,37.717890000000004 -122.42987,37.72022 -122.43368000000001,37.71758 -122.43606000000001,37.71435 -122.43623000000001,37.714259999999996 -122.43935,37.71563 -122.44131999999999,37.71675 -122.44295,37.718270000000004 -122.44528000000001,37.71933 -122.44528999999999,37.71938 -122.44373,37.71894 -122.44089,37.72037 -122.4402,37.72145 -122.43863,37.723929999999996 -122.4379,37.72522 -122.4361,37.72683 -122.43373999999999,37.729690000000005 -122.43302,37.72964 -122.43033,37.729659999999996 -122.43032,37.72964 -122.43226000000001,37.727909999999994 -122.4312,37.728809999999996 -122.42733,37.73278 -122.42445,37.736259999999994 -122.42355,37.74002 -122.42318999999999,37.74054 -122.42246000000002,37.74163 -122.42128000000001,37.74348 -122.41962,37.74608 -122.41819,37.74927 -122.41846000000001,37.75237 -122.4186,37.75513 -122.41881000000001,37.75567 -122.41922,37.758720000000004 -122.42148,37.758520000000004 -122.4237,37.7584 -122.42598999999998,37.7582 -122.42813000000001,37.7581 -122.42908999999999,37.758 -122.42875,37.75806 -122.42875,37.75808 -122.42796000000001,37.758140000000004 -122.42557,37.7583 -122.42193999999999,37.75854 -122.42115,37.757740000000005 -122.42112,37.75717 -122.42093999999999,37.755179999999996 -122.42025,37.7522 -122.41887,37.7523 -122.41973,37.75373 -122.41963999999999,37.75251 -122.42111000000001,37.75207 -122.42119,37.75206 -122.42262,37.751979999999996 -122.42504,37.75186 -122.42785,37.75169 -122.42849,37.75111 -122.42846999999999,37.75168 -122.43141999999999,37.75144 -122.432,37.75268 -122.43242,37.75634 -122.43268,37.75952 -122.43301000000001,37.76293 -122.43253999999999,37.764309999999995 -122.43211000000001,37.764340000000004 -122.43104,37.765570000000004 -122.43018000000001,37.76867 -122.43033,37.77129 -122.432,37.77382 -122.43406999999999,37.77349 -122.43551000000001,37.77248 -122.43695,37.77132 -122.43672,37.7714 -122.43553,37.77152 -122.43583999999998,37.77347 -122.43093999999999,37.77491 -122.42553999999998,37.77565 -122.42363999999999,37.775929999999995 -122.42315,37.7777 -122.42341,37.77882 -122.42362,37.77965 -122.42393999999999,37.78156 -122.42426999999999,37.78301 -122.4258,37.78944 -122.42594,37.79176 -122.42407,37.79227 -122.42299999999999,37.79221 -122.42348999999999,37.79538 -122.42188999999999,37.79595 -122.4198,37.79611 -122.40886,37.79768 -122.40885,37.797670000000004 -122.40641000000001,37.79797 -122.4037,37.7983 -122.39867,37.79885 -122.39851000000002,37.79903 -122.39842,37.79701 -122.39846000000001,37.797109999999996 -122.40138,37.796440000000004 -122.40077,37.79121 -122.40363,37.78718 -122.40288000000001,37.7865 -122.40423,37.78512 -122.40543999999998,37.783159999999995 -122.40628999999998,37.78265 -122.40398,37.78075 -122.40223999999999,37.779379999999996 -122.39966000000001,37.777359999999994 -122.39712,37.7755 -122.39477,37.77697 -122.39476,37.777029999999996 -122.396,37.77786 -122.39923999999999,37.78045 -122.40145,37.78178 -122.40352,37.78029 -122.40698,37.78267 -122.4088,37.78433 -122.41445,37.7836 -122.41642,37.78347 -122.41967,37.78307 -122.42119,37.78289 -122.42418,37.78264 -122.42496000000001,37.78683 -122.42549,37.78804 -122.43168,37.787259999999996 -122.4352,37.78692 -122.4354,37.787929999999996 -122.43576000000002,37.78954 -122.43576999999999,37.78973 -122.43632,37.79257 -122.43445,37.79433 -122.42953,37.79489 -122.42683000000001,37.79629 -122.42728000000001,37.798159999999996 -122.42741000000001,37.79923 -122.42777,37.80049 -122.42629,37.801320000000004 -122.42668,37.80395 -122.4242,37.8042 -122.42178,37.80457 -122.41941000000001,37.80488 -122.41748999999999,37.80514 -122.41401,37.80565 -122.4133,37.80468 -122.41219,37.80685 -122.41243,37.80778 -122.41255,37.807629999999996 -122.41224,37.80851 -122.41004,37.808279999999996 -122.40861000000001,37.80795 -122.4068,37.80723 -122.40583000000001,37.80682 -122.40478,37.80635 -122.40472,37.80627 -122.40358,37.80533 -122.40316000000001,37.803059999999995 -122.40225,37.79852 -122.40451999999999,37.798159999999996 -122.41038,37.79744 -122.42218000000001,37.79683 -122.42408,37.79663 -122.42461999999999,37.79352 -122.42424,37.791920000000005 -122.42367,37.7888 -122.42358999999999,37.787420000000004 -122.42321000000001,37.78631 -122.42295,37.78553 -122.42172,37.786159999999995 -122.42155,37.786390000000004 -122.4218,37.78651 -122.42156000000001,37.785759999999996 -122.42178,37.78618 -122.42201999999999,37.78861 -122.42199,37.788070000000005 -122.42193,37.788129999999995 -122.42286000000001,37.78644 -122.42805,37.785270000000004 -122.42283,37.784659999999995 -122.42256,37.78324 -122.42241000000001,37.78198 -122.42125,37.78165 -122.4213,37.78187 -122.42086,37.78252 -122.42288,37.7826 -122.42437,37.78393 -122.4251,37.78718 -122.42419,37.78911 -122.4238,37.78915 -122.42352,37.7887 -122.4235,37.78846 -122.42371999999999,37.7887 -122.42548000000001,37.78805 -122.43312,37.78709 -122.4348,37.78546 -122.43021999999999,37.78482 -122.42863999999999,37.78501 -122.42446000000001,37.785470000000004 -122.42275,37.784 -122.42074,37.7838 -122.41893999999999,37.78407 -122.4158,37.78448 -122.41255,37.784929999999996 -122.40992,37.78524 -122.40836999999999,37.784420000000004 -122.40821000000001,37.78422 -122.40818,37.78392 -122.40735,37.783390000000004 -122.40615,37.7827 -122.40462,37.781259999999996 -122.40312,37.78006 -122.39997,37.77756 -122.39575,37.77653 -122.3952,37.776959999999995 -122.39525,37.77698 -122.39516,37.77694 -122.39525,37.77693 -122.39532,37.7769 -122.39525,37.77697 -122.39477,37.77689 -122.39478000000001,37.77689 -122.39471999999999,37.77697 -122.39702,37.77863 -122.4013,37.78215 -122.40226000000001,37.78293 -122.39943999999998,37.7858 -122.40065,37.7874 -122.40476000000001,37.78488 -122.40638999999999,37.78567 -122.40635,37.78562 -122.40817,37.78537 -122.40815,37.78561 -122.40815,37.78569 -122.40823999999999,37.785379999999996 -122.40829,37.78433 -122.40805,37.78368 -122.40744,37.78337 -122.40656000000001,37.78264 -122.40925,37.78054 -122.41288,37.777440000000006 -122.41583999999999,37.77532 -122.41977,37.77626 -122.42273999999999,37.77602 -122.42317,37.77794 -122.42518999999999,37.77852 -122.43171000000001,37.77766 -122.43621999999999,37.777120000000004 -122.43838999999998,37.77787 -122.43881999999999,37.77957 -122.44383,37.77904 -122.45232,37.77796 -122.45748999999999,37.77729 -122.4575,37.77731 -122.45752,37.77726 -122.4574,37.77732 -122.45885,37.77735 -122.46236999999999,37.77731 -122.46495,37.77535 -122.46591000000001,37.77401 -122.46588,37.77409 -122.4658,37.77384 -122.46485,37.77258 -122.46241,37.77196 -122.46198999999999,37.77197 -122.46113000000001,37.77268 -122.4588,37.773579999999995 -122.45841999999999,37.77727 -122.4553,37.77789 -122.45618999999999,37.78135 -122.45616000000001,37.78144 -122.45331999999999,37.78171 -122.44871,37.782340000000005 -122.43813999999999,37.78371 -122.43711,37.783840000000005 -122.42933000000001,37.785 -122.4248,37.785709999999995 -122.4212,37.785790000000006 -122.41938,37.785959999999996 -122.41337,37.78757 -122.41342,37.7877 -122.4133,37.78853 -122.41308000000001,37.788540000000005 -122.41048,37.7886 -122.40862,37.78861 -122.40826000000001,37.78816 -122.40825,37.78753 -122.40943,37.78601 -122.41139,37.7856 -122.41207,37.78591 -122.4133,37.785709999999995 -122.41803999999999,37.785109999999996 -122.42058,37.78248 -122.42008999999999,37.7798 -122.41938999999999,37.77608 -122.41868999999998,37.772870000000005 -122.41881000000001,37.77265 -122.41899,37.771609999999995 -122.42001,37.769690000000004 -122.42239,37.76815 -122.42424,37.766729999999995 -122.42459,37.76637 -122.42461999999999,37.76632 -122.42406000000001,37.76422 -122.42347,37.76165 -122.42303999999999,37.76163 -122.41973999999999,37.76488 -122.41848999999999,37.76513 -122.41756000000001,37.76621 -122.41748999999999,37.766220000000004 -122.41739,37.7645 -122.41706,37.76099 -122.41467,37.75837 -122.41441999999999,37.75512 -122.41427,37.75267 -122.41431999999999,37.752759999999995 -122.41391999999999,37.75083 -122.41367,37.74868 -122.41362,37.74856 -122.41361,37.74853 -122.41371000000001,37.74861 -122.41366000000001,37.74862 -122.41246000000001,37.74835 -122.40999,37.74841 -122.40508999999999,37.74921 -122.40395,37.7467 -122.40395,37.74669 -122.40508999999999,37.7446 -122.40556000000001,37.73335 -122.40307,37.72892 -122.39854,37.71604 -122.39498,37.709 -122.39192,37.69547 -122.3889,37.68197 -122.39376000000001,37.6687 -122.40526000000001,37.65871 -122.4063,37.64542 -122.40275,37.632290000000005 -122.39913,37.619209999999995 -122.38898,37.61607 -122.38711,37.6178 -122.38711,37.61779 -122.38571999999999,37.61787 -122.38638,37.615 -122.39731,37.613929999999996 -122.40255,37.62677 -122.40576000000001,37.63989 -122.40722,37.65347 -122.39806000000002,37.66465 -122.38882,37.67617 -122.39093000000001,37.68998 -122.39393999999999,37.70313 -122.39873,37.716 -122.40346000000001,37.72899 -122.40696000000001,37.74248 -122.40321000000002,37.7557 -122.40543000000001,37.767070000000004 -122.4124,37.77251 -122.41799999999999,37.77689 -122.41885,37.78135 -122.41946000000002,37.78418 -122.41983,37.78608 -122.42048999999999,37.789429999999996 -122.42076000000002,37.790820000000004 -122.42156999999999,37.79482 -122.4218,37.795759999999994 -122.42218999999999,37.79795 -122.42298000000001,37.80167 -122.42227,37.80455 -122.42193,37.80469 -122.42047,37.80669 -122.419,37.80704 -122.41868000000001,37.807829999999996 -122.4155,37.80826 -122.41247,37.80845 -122.41398999999998,37.80735 -122.41391000000002,37.8071 -122.41331000000001,37.80413 -122.41293999999999,37.80239 -122.4124,37.79951 -122.4119,37.79714 -122.41151,37.79533 -122.41138000000001,37.7942 -122.41093000000001,37.79181 -122.41162,37.791709999999995 -122.41248999999999,37.7916 -122.41327,37.79149 -122.41568000000001,37.79119 -122.42025,37.79063 -122.42200000000001,37.78931 -122.42148,37.786590000000004 -122.42101000000001,37.78434 -122.42038000000001,37.7814 -122.41978,37.778009999999995 -122.41916,37.774570000000004 -122.42003000000001,37.77 -122.41978999999999,37.76656 -122.41958000000001,37.76412 -122.41936000000001,37.76171 -122.41893999999999,37.75695 -122.4186,37.754020000000004 -122.41842,37.7524 -122.41805,37.75077 -122.41501000000001,37.75074 -122.41382,37.748329999999996 -122.40856000000001,37.74843 -122.40517,37.749340000000004 -122.40786000000001,37.74031 -122.40253999999999,37.72765 -122.39894,37.71716 -122.39801999999999,37.71516 -122.3935,37.70225 -122.39053,37.68906 -122.38877,37.67583 -122.39796000000001,37.66452 -122.40696000000001,37.65339 -122.40543000000001,37.63989 -122.40182,37.62679 -122.39562,37.614290000000004 -122.38765,37.61736 -122.38738000000001,37.61765 -122.38708999999999,37.61788 -122.38413,37.61626 -122.39173000000001,37.6148 -122.40016000000001,37.6201 -122.40364,37.63317 -122.40658,37.646370000000005 -122.4047,37.6598 -122.39308999999999,37.66953 -122.38928999999999,37.68265 -122.39228,37.69591 -122.39521,37.70913 -122.40071999999999,37.722190000000005 -122.4067,37.73494 -122.40418999999999,37.74817 -122.4062,37.76163 -122.41783999999998,37.77021 -122.41833000000001,37.771809999999995 -122.41825,37.771879999999996 -122.41833999999999,37.77156 -122.41838,37.77173 -122.41836,37.771809999999995 -122.41848999999999,37.77156 -122.4184,37.77153 -122.41843999999999,37.77175 -122.41835,37.77175 -122.41853,37.77219 -122.41967,37.77145 -122.42001,37.76999 -122.41982,37.76663 -122.41972,37.76501 -122.41945,37.76259 -122.41904,37.758829999999996 -122.41859,37.75383 -122.41811000000001,37.74893 -122.41486,37.748329999999996 -122.41402,37.75088 -122.4176,37.75073 -122.4204,37.750640000000004 -122.42098,37.75213 -122.42671000000001,37.75178 -122.42963,37.75125 -122.43172,37.75147 -122.43113999999998,37.751529999999995 -122.43095,37.75177 -122.43101000000001,37.75158 -122.42712,37.75176 -122.42258999999999,37.75206 -122.42154,37.750859999999996 -122.42086,37.75053 -122.42087,37.750659999999996 -122.42086,37.7505 -122.42087,37.75054 -122.42088000000001,37.7506 -122.42086,37.7505 -122.4221,37.75042 -122.42291000000002,37.75169 -122.42231000000001,37.75221 -122.4223,37.75221 -122.42081999999999,37.75212 -122.41858,37.7527 -122.41898,37.757020000000004 -122.41933,37.76086 -122.41991999999999,37.76342 -122.41935,37.76511 -122.41528999999998,37.765229999999995 -122.41496000000001,37.761720000000004 -122.41441,37.7558 -122.41438000000001,37.755520000000004 -122.414,37.75157 -122.41335,37.74831 -122.40619,37.74896 -122.39724,37.74977 -122.39708999999999,37.74978 -122.39533,37.75067 -122.39496000000001,37.7514 -122.39498,37.75139 -122.39453,37.751509999999996 -122.39448999999999,37.75144 -122.39446000000001,37.751490000000004\" opacity=\"0.8\" /></g></svg>"
      ],
      "text/plain": [
       "<shapely.geometry.linestring.LineString at 0x1a48df77d0>"
      ]
     },
     "execution_count": 398,
     "metadata": {},
     "output_type": "execute_result"
    }
   ],
   "source": [
    "LineString(trace_df[['long', 'lat']].values)\n",
    "# 19500"
   ]
  },
  {
   "cell_type": "code",
   "execution_count": 407,
   "metadata": {
    "collapsed": false
   },
   "outputs": [
    {
     "data": {
      "text/plain": [
       "(-122.50838, 37.47133, -122.10146999999999, 37.87847)"
      ]
     },
     "execution_count": 407,
     "metadata": {},
     "output_type": "execute_result"
    }
   ],
   "source": [
    "trace_bounds = LineString(trace_df[['long', 'lat']].values).bounds"
   ]
  },
  {
   "cell_type": "code",
   "execution_count": 405,
   "metadata": {
    "collapsed": false
   },
   "outputs": [
    {
     "data": {
      "text/plain": [
       "<shapely.strtree.STRtree at 0x1a3d29a150>"
      ]
     },
     "execution_count": 405,
     "metadata": {},
     "output_type": "execute_result"
    }
   ],
   "source": [
    "road_strtree"
   ]
  },
  {
   "cell_type": "code",
   "execution_count": 410,
   "metadata": {
    "collapsed": false
   },
   "outputs": [
    {
     "data": {
      "text/plain": [
       "'/Volumes/LaCie/datasets/SanFrancisco-shp/shape/roads'"
      ]
     },
     "execution_count": 410,
     "metadata": {},
     "output_type": "execute_result"
    }
   ],
   "source": [
    "basemap_dir[:-4]"
   ]
  },
  {
   "cell_type": "code",
   "execution_count": 406,
   "metadata": {
    "collapsed": false
   },
   "outputs": [
    {
     "ename": "ModuleNotFoundError",
     "evalue": "No module named 'geopandas'",
     "output_type": "error",
     "traceback": [
      "\u001b[0;31m---------------------------------------------------------------------------\u001b[0m",
      "\u001b[0;31mModuleNotFoundError\u001b[0m                       Traceback (most recent call last)",
      "\u001b[0;32m<ipython-input-406-421998102bec>\u001b[0m in \u001b[0;36m<module>\u001b[0;34m\u001b[0m\n\u001b[0;32m----> 1\u001b[0;31m \u001b[0;32mimport\u001b[0m \u001b[0mgeopandas\u001b[0m \u001b[0;32mas\u001b[0m \u001b[0mgpd\u001b[0m\u001b[0;34m\u001b[0m\u001b[0;34m\u001b[0m\u001b[0m\n\u001b[0m\u001b[1;32m      2\u001b[0m \u001b[0;32mimport\u001b[0m \u001b[0mmatplotlib\u001b[0m\u001b[0;34m.\u001b[0m\u001b[0mpyplot\u001b[0m \u001b[0;32mas\u001b[0m \u001b[0mplt\u001b[0m\u001b[0;34m\u001b[0m\u001b[0;34m\u001b[0m\u001b[0m\n\u001b[1;32m      3\u001b[0m \u001b[0;34m\u001b[0m\u001b[0m\n\u001b[1;32m      4\u001b[0m \u001b[0mshapefile\u001b[0m \u001b[0;34m=\u001b[0m \u001b[0mgpd\u001b[0m\u001b[0;34m.\u001b[0m\u001b[0mread_file\u001b[0m\u001b[0;34m(\u001b[0m\u001b[0;34m\"path/to/shapes.shp\"\u001b[0m\u001b[0;34m)\u001b[0m\u001b[0;34m\u001b[0m\u001b[0;34m\u001b[0m\u001b[0m\n\u001b[1;32m      5\u001b[0m \u001b[0mshapefile\u001b[0m\u001b[0;34m.\u001b[0m\u001b[0mplot\u001b[0m\u001b[0;34m(\u001b[0m\u001b[0;34m)\u001b[0m\u001b[0;34m\u001b[0m\u001b[0;34m\u001b[0m\u001b[0m\n",
      "\u001b[0;31mModuleNotFoundError\u001b[0m: No module named 'geopandas'"
     ]
    }
   ],
   "source": [
    "%%time\n",
    "\n",
    "map = Basemap(llcrnrlon=trace_bounds[0], llcrnrlat=trace_bounds[1], \n",
    "              urcrnrlon=trace_bounds[2], urcrnrlat=trace_bounds[3],\n",
    "             resolution='i', projection='tmerc')\n",
    "\n",
    "map.drawmapboundary(fill_color='aqua')\n",
    "map.fillcontinents(color='#ddaa66', lake_color='aqua')\n",
    "map.drawcoastlines()\n",
    "\n",
    "map.readshapefile('basemap_dir', 'comarques')\n",
    "\n",
    "roads_info = map.readshapefile(basemap_dir[:-4], 'roads')\n",
    "\n",
    "print roads_info\n",
    "\n",
    "# plot the full trace\n",
    "map.plot(trace_df.long.values, trace_df.lat.values, marker=None, color='blue')\n",
    "\n",
    "# overlay the backtracked trace\n",
    "map.plot(np.array(backtracked_trace)[:, [1]], np.array(backtracked_trace)[:, [0]], marker=None, color='red')\n",
    "\n",
    "plt.show()"
   ]
  },
  {
   "cell_type": "code",
   "execution_count": null,
   "metadata": {
    "collapsed": true
   },
   "outputs": [],
   "source": []
  },
  {
   "cell_type": "code",
   "execution_count": null,
   "metadata": {
    "collapsed": true
   },
   "outputs": [],
   "source": []
  },
  {
   "cell_type": "code",
   "execution_count": null,
   "metadata": {
    "collapsed": true
   },
   "outputs": [],
   "source": [
    "#  IGNORE BELOW THIS POINT"
   ]
  },
  {
   "cell_type": "code",
   "execution_count": null,
   "metadata": {
    "collapsed": true
   },
   "outputs": [],
   "source": [
    "# https://stackoverflow.com/questions/4102520/how-to-transform-a-distance-from-degrees-to-metres\n",
    "\"\"\"\n",
    "@winwaed\n",
    "The transformation between degrees and metres varies across the Earth's surface.\n",
    "Assuming a spherical Earth, degrees latitude = distance * 360 / (2*PI * 6400000)\n",
    "Note that longitude will vary according to the latitude:\n",
    "Degrees longitude = distance *360 * / (2*PI* cos(latitude) )\n",
    "\n",
    "The above is for the Earth's surface, and does not use the Mercator projection. \n",
    "If you wish to work with projected linear distance, then you will need to use the Mercator projection.\n",
    "\"\"\"\n",
    "# RADIUS_OF_EARTH_M = 6371000\n",
    "# long, lat = list(obs.coords)[0]\n",
    "# max_dist_deg = max_dist * 360 / (2 * np.pi * RADIUS_OF_EARTH_M)"
   ]
  },
  {
   "cell_type": "code",
   "execution_count": null,
   "metadata": {
    "collapsed": true
   },
   "outputs": [],
   "source": []
  }
 ],
 "metadata": {
  "anaconda-cloud": {},
  "kernelspec": {
   "display_name": "Python [conda env:map_matching_particle_filter]",
   "language": "python",
   "name": "conda-env-map_matching_particle_filter-py"
  },
  "language_info": {
   "codemirror_mode": {
    "name": "ipython",
    "version": 3
   },
   "file_extension": ".py",
   "mimetype": "text/x-python",
   "name": "python",
   "nbconvert_exporter": "python",
   "pygments_lexer": "ipython3",
   "version": "3.7.6"
  }
 },
 "nbformat": 4,
 "nbformat_minor": 2
}
