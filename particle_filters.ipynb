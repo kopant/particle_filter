{
 "cells": [
  {
   "cell_type": "code",
   "execution_count": null,
   "metadata": {
    "collapsed": true
   },
   "outputs": [],
   "source": [
    "# Environment specified in environment.yml (environment name map_matching_particle_filter)\n",
    "# conda env create --prefix ./envs -f environment.yml"
   ]
  },
  {
   "cell_type": "code",
   "execution_count": 1,
   "metadata": {
    "collapsed": false
   },
   "outputs": [],
   "source": [
    "import pandas as pd\n",
    "import numpy as np\n",
    "import os, sys\n",
    "import glob, re, time\n",
    "\n",
    "import shapely\n",
    "from shapely.strtree import STRtree\n",
    "from shapely.geometry import shape, Point, LineString, MultiLineString\n",
    "from shapely.ops import nearest_points\n",
    "import folium\n",
    "import fiona\n",
    "import pyproj\n",
    "from functools import partial\n",
    "import math\n",
    "\n",
    "from collections import Counter\n",
    "\n",
    "from sklearn.metrics.pairwise import haversine_distances  # Assumes (lat, long) in radians; version 0.22.1"
   ]
  },
  {
   "cell_type": "code",
   "execution_count": 2,
   "metadata": {
    "collapsed": false
   },
   "outputs": [
    {
     "data": {
      "text/plain": [
       "'/Volumes/LaCie/Documents/repos/particle_filter'"
      ]
     },
     "execution_count": 2,
     "metadata": {},
     "output_type": "execute_result"
    }
   ],
   "source": [
    "os.getcwd()"
   ]
  },
  {
   "cell_type": "code",
   "execution_count": null,
   "metadata": {
    "collapsed": true
   },
   "outputs": [],
   "source": [
    "\"\"\"\n",
    "Applications of particle filters: \n",
    "1. Car positioning by map matching, as in http://www.diva-portal.org/smash/get/diva2:316556/FULLTEXT01.pdf\n",
    "    Essentially same approach is described in Davidson, Collin, and Takala (2011). Application of particle filters to map-matching algorithm\n",
    "    Idea also similar to Newson and Krumm (2009), though HMM is used there.\n",
    "    More recent resource: Murphy, Pao, Yuen (2019). Lyft; Map matching when the map is wrong: Efficient on/off road vehicle tracking and map learning\n",
    "\n",
    "Ideas\n",
    "Rao-Blackwellization (use Kalman filter for the linear part of the dynamics model)\n",
    "\n",
    "Initial Approach:\n",
    "Use Newson and Krumm, but modify it to use particle filters instead of HMM.\n",
    "\n",
    "So, for a given route, proceed sequentially over obs, maintaining dist of probable road segments\n",
    "\n",
    "Assumptions (N&K):\n",
    "-remove obs that are not 2*meas dist sigma from previous obs  (eliminate 39% of data in N&K)\n",
    "-ignore roads 200m from obs\n",
    "-zeroize very unlikely particles\n",
    "\"\"\""
   ]
  },
  {
   "cell_type": "code",
   "execution_count": 3,
   "metadata": {
    "collapsed": true
   },
   "outputs": [],
   "source": [
    "def great_circle_dist(df):\n",
    "    \"\"\"\n",
    "    USED BELOW IN PREPROCESSING\n",
    "    df numpy array [lat, long, lat_prev, long_prev] in degrees\n",
    "    \n",
    "    Returns great-circle distance between point (lat,long) columns and (lat_prev, long_prev) columns, \n",
    "    in meters.\n",
    "    \n",
    "    Modified from https://stackoverflow.com/questions/4913349/haversine-formula-in-python-bearing-and-distance-between-two-gps-points\n",
    "    \"\"\"\n",
    "    # convert decimal degrees to radians \n",
    "    df = df.copy()\n",
    "    df = np.deg2rad(df)\n",
    "\n",
    "    # haversine formula \n",
    "    dlon = df[:, 3] - df[:, 1] # lon2 - lon1 \n",
    "    dlat = df[:, 2] - df[:, 0] # lat2 - lat1 \n",
    "    a = np.add(np.square(np.sin(dlat / 2)),\n",
    "               np.multiply(np.cos(df[:, 0]), \n",
    "                           np.multiply(np.cos(df[:, 2]), np.square(np.sin(dlon / 2)))\n",
    "                          )\n",
    "              )\n",
    "    # a = sin(dlat/2)**2 + cos(lat1) * cos(lat2) * sin(dlon/2)**2\n",
    "    c = np.arcsin(np.sqrt(a)) * 2\n",
    "    # c = 2 * asin(sqrt(a)) \n",
    "    r = 6371 # Radius of earth in kilometers. Use 3956 for miles\n",
    "    return r * c * 1000"
   ]
  },
  {
   "cell_type": "code",
   "execution_count": 34,
   "metadata": {
    "collapsed": true
   },
   "outputs": [],
   "source": [
    "class gps_transition_model:\n",
    "    \"\"\"\n",
    "    Transition model to predict probability of next state given current state; simulate next state.\n",
    "    GPS trace map matching use case. \n",
    "    \n",
    "    N&K use as a proxy an exponential function of the difference in the great-circle distance \n",
    "    between previous observations and previous road points (similar route distance).\n",
    "    Road points use map/ground-truth data. \n",
    "    -Ignore roads 200m from obs\n",
    "    -If a calculated route would require the vehicle to exceed a speed of 50 m/s (112 miles per hour), zeroize\n",
    "    \n",
    "    !!! TODO: Get driving distance from route planner??? Results anticipated to significantly suffer otherwise. !!! \n",
    "    \n",
    "    Other ideas: using dead reckoning.\n",
    "    \"\"\"\n",
    "    def __init__(self, beta=3.0\n",
    "#                  , prob_floor=0.05\n",
    "                 , normalize=True\n",
    "                ):\n",
    "        \"\"\"\n",
    "        beta, float, parametrizes transition probability function\n",
    "        prob_floor, float between 0 and 1, is probability below which road choices are given zero probability\n",
    "        \n",
    "        # beta = 3 in mapzen, https://www.mapzen.com/blog/data-driven-map-matching/\n",
    "        \"\"\"\n",
    "        self.beta = beta\n",
    "#         self.prob_floor = min(max(prob_floor, 0), 1)\n",
    "        self.normalize = normalize\n",
    "    \n",
    "    def estimate_beta(self, data):\n",
    "        \"\"\"\n",
    "        NOT USED\n",
    "        \n",
    "        Using rescaled median absolute deviation (MAD). \n",
    "        Ideally using ground truth data (none here).\n",
    "        \"\"\" \n",
    "        self.beta = 3.0  # None\n",
    "        \n",
    "    def prob_transition(self, state_last2, obs_last2, dist_obs_m_prev, time_delta_sec_prev, \n",
    "                        max_allowable_diff_m=2000.0, max_allowable_mph=112.0):\n",
    "        \"\"\"\n",
    "        state_last2, float numpy array, (n * c x 4 lat, long, lat_prev, long_prev), c candidate roads and n particles\n",
    "        obs_last2, float numpy array, (1 x 4 lat, long, lat_prev, long_prev) \n",
    "        dist_obs_m_prev float distance in meters between last two obs.\n",
    "        time_delta_sec_prev float time delta in sec between last two obs.\n",
    "        max_allowable_diff_m float, ignore low probability routes as in N&K; in N&K 2000 meters.\n",
    "        max_allowable_mph, float; ignore routes resulting in unreasonable speeds. 112mph in N&K.\n",
    "        Where present, lat/long in degrees.\n",
    "        \n",
    "        returns probs of transition, (n * c x 1)\n",
    "        \"\"\"\n",
    "        RADIUS_OF_EARTH_M = 6371000\n",
    "        MILES_PER_METER = 0.000621371\n",
    "        HOURS_PER_SECOND = 3600.0\n",
    "        state_last2 = np.deg2rad(state_last2)\n",
    "        obs_last2 = np.deg2rad(obs_last2)\n",
    "        # dist_obs = abs(haversine_distances(obs_last2[:, :2], obs_last2[0, 2:]))  # (1, 1)\n",
    "        # !! TODO - Supposed to be driving distance, not haversine. N&K use a route planner. Can I use shapely???\n",
    "            # Probably fine as generally GPS measurements are taken close together in time- \n",
    "            # Otherwise would have to snap to roads using Shapely and get the distance between the two points. \n",
    "            # How does using driving distance even compare to haversine for obs? Isn't it better to compare apples to apples?\n",
    "        dist_road = \\\n",
    "        np.abs(np.array([haversine_distances(state_last2[r, :2].reshape(1,2), state_last2[r, 2:].reshape(1,2))[0] \n",
    "                         for r in range(state_last2.shape[0])]))  # (n * c, 1)\n",
    "        dist_road = dist_road * RADIUS_OF_EARTH_M  # multiply by Earth radius to get result in meters\n",
    "        diff_dist = np.abs(np.subtract(dist_road, dist_obs_m_prev))  # (n * c, 1)\n",
    "        \n",
    "        # Ignore cases where diff_dist >= max_allowable_diff_m\n",
    "        diff_dist[diff_dist >= max_allowable_diff_m] = np.float(\"inf\")  # zero out these transition probs\n",
    "        # Ignore cases where implied speed of route is >= max_allowable_mph; calculate speed in candidate routes\n",
    "        implied_speed_road = np.divide(dist_road * MILES_PER_METER, \n",
    "                               time_delta_sec_prev * HOURS_PER_SECOND)  # (n * c, 1), meters\n",
    "        diff_dist[implied_speed_road >= max_allowable_mph] = np.float(\"inf\")  # zero out these transition probs\n",
    "        \n",
    "        probs = np.exp(-diff_dist / self.beta) * (1 / self.beta)\n",
    "        # Normalize result?\n",
    "        if self.normalize:\n",
    "            probs = probs / np.sum(probs)\n",
    "        return probs"
   ]
  },
  {
   "cell_type": "code",
   "execution_count": 33,
   "metadata": {
    "collapsed": true
   },
   "outputs": [],
   "source": [
    "class gps_sensor_model:\n",
    "    \"\"\"\n",
    "    Sensor model to predict likelihood of an obs given a particle.\n",
    "    GPS trace map matching use case. \n",
    "    \n",
    "    I don't have ground truth, so can't use ML easily, but\n",
    "    N&K use as a proxy a normal distribution of great-circle distance between observation and road, with sigma \n",
    "    estimated from the data.\n",
    "    Road points use map data. \n",
    "    -Zerioze low probability particles (diff in route distance of 2000 m. or more). \n",
    "    \n",
    "    Other ideas: semi-supervised learning. \n",
    "    \n",
    "    Thoughts: need efficient representation for road network that returns connecting roads/nodes for a given node\n",
    "    Want to represent it as a graph/network. \n",
    "    \"\"\"\n",
    "    def __init__(self, sigma=4.07, normalize=True):\n",
    "        self.sigma = sigma\n",
    "        self.normalize = normalize\n",
    "    \n",
    "    def estimate_sigma(self, data):\n",
    "        \"\"\"\n",
    "        NOT USED \n",
    "        \n",
    "        Using Gather and Schultze, median-based. \n",
    "        Ideally using ground truth data (none here).\n",
    "        \n",
    "        I guess I could manually match some trips, then use that??\n",
    "        \"\"\" \n",
    "        self.sigma = 4.07 # meters; I have no ground truth so using N&K's empirical estimate\n",
    "#         self.sigma = None # median absolute deviation (MAD) formula adjusted \n",
    "    \n",
    "    def estimate_likelihood(self, states, obs_coords):\n",
    "        \"\"\"\n",
    "        return probability of seeing that obs given potential road state hypotheses, (k x 1)\n",
    "        \n",
    "        states Particles numpy array representing road position hypotheses, (k x 2 lat long).\n",
    "        obs_coords (1 x 2 lat long)\n",
    "        lat long in degrees\n",
    "        \"\"\"\n",
    "        RADIUS_OF_EARTH_M = 6371000\n",
    "        dist_obs_roads = np.abs(haversine_distances(np.deg2rad(states), np.deg2rad(obs_coords)))  # (k x 1)\n",
    "        dist_obs_roads = dist_obs_roads * RADIUS_OF_EARTH_M  # multiply by Earth radius to get result in meters\n",
    "        \n",
    "        probs = \\\n",
    "        np.exp(np.power(dist_obs_roads / self.sigma, 2) * (-0.5)) * \\\n",
    "        (1 / (math.sqrt(2 * math.pi) * self.sigma))\n",
    "        \n",
    "        # Normalize result?\n",
    "        if self.normalize:\n",
    "            probs = probs / np.sum(probs)\n",
    "        return probs"
   ]
  },
  {
   "cell_type": "code",
   "execution_count": null,
   "metadata": {
    "collapsed": true
   },
   "outputs": [],
   "source": []
  },
  {
   "cell_type": "code",
   "execution_count": 721,
   "metadata": {
    "collapsed": true
   },
   "outputs": [],
   "source": []
  },
  {
   "cell_type": "code",
   "execution_count": 654,
   "metadata": {
    "collapsed": false
   },
   "outputs": [],
   "source": [
    "# BEGIN DEBUGGING\n",
    "road_strtree; n=50; max_road_dist_m=200; prob_floor=0.0; \n",
    "sensor_model=gps_sensor_model(); transition_model=gps_transition_model(); \n",
    "viterbi_trellis=[]; viterbi_trellis_idx=[]\n",
    "\n",
    "prob_floor = min(max(prob_floor, 0), 1)\n",
    "particles = np.array([])\n",
    "weights = np.ones((1, n))\n",
    "\n",
    "fitted = False\n",
    "        \n",
    "obs_history = []"
   ]
  },
  {
   "cell_type": "code",
   "execution_count": 617,
   "metadata": {
    "collapsed": true
   },
   "outputs": [],
   "source": [
    "def get_candidate_roads(obs):\n",
    "    \"\"\"\n",
    "    obs list of floats [lat, long]\n",
    "    max_dist maximum allowable closest distance for prospective matched roads; those whose \n",
    "    closest point is >= max_dist meters away are ignored (200 in N&K).\n",
    "    Returns numpy array float of lat,long closest point to road from obs (N&K).\n",
    "\n",
    "    Leverages shapely and shapefiles for cabspotting data.\n",
    "    Relies on great_circle_dist() helper function. \n",
    "    \"\"\"\n",
    "    # Fiona uses (long, lat) format\n",
    "    obs = Point(obs[::-1])\n",
    "    # Want to consider only matches within max_dist meters\n",
    "    # Need to transform decimal degrees into meters\n",
    "    # Should I deviate from the default value of buffer for a Point??\n",
    "    # According to 200 * 360 / (2 * np.pi * 6371000), a distance of 200m corresponds to 0.0017986432118374611 decimal degrees\n",
    "    # obs.buffer(1.0)\n",
    "    matching_roads = road_strtree.query(obs.buffer(0.002))\n",
    "    if len(matching_roads) == 0:\n",
    "        matching_roads = road_strtree.query(obs.buffer(1.0))  # This should be a big buffer\n",
    "    # If matching roads is still empty, return None\n",
    "    if len(matching_roads) == 0:\n",
    "        print(\"No matching roads found! Aborting particle filter.\")\n",
    "        return None\n",
    "    # Ordered as (obs, road); just take road's coords\n",
    "    # Take only the closest point on the candidate road (1st index)\n",
    "    closest_pts = np.array([[list(p.coords)[0] for p in nearest_points(obs, r)][1] for r in matching_roads])\n",
    "    # Calculate distance between obs and candidate_roads, to filter them\n",
    "    candidate_dist_coords = \\\n",
    "    np.concatenate([closest_pts, np.tile(np.array(obs), (closest_pts.shape[0], 1))], axis=1)\n",
    "    # Convert back to lat, long from long, lat\n",
    "    candidate_dist_coords = candidate_dist_coords[:, [1, 0, 3, 2]]\n",
    "    candidate_dists = great_circle_dist(candidate_dist_coords)\n",
    "    # Filtered result of closest point on matching candidate roads\n",
    "    # no. matches 2 (default buffer); 52 (buffer of 0.002); 74 (buffer of 1.0)\n",
    "        # Reverse order to be lat, long\n",
    "    candidate_roads = closest_pts[candidate_dists <= max_road_dist_m][:, [1,0]]\n",
    "    return candidate_roads"
   ]
  },
  {
   "cell_type": "code",
   "execution_count": 302,
   "metadata": {
    "collapsed": true
   },
   "outputs": [],
   "source": [
    "def estimate_weights_per_particle(sampled_states, obs_coords):\n",
    "    \"\"\"\n",
    "    Estimate likelihood of particle given evidence, P(evidence|particle).\n",
    "    Uses sensor model.\n",
    "\n",
    "    obs_coords is single observation at time t, pandas series. \n",
    "    \"\"\"\n",
    "    probs = sensor_model.estimate_likelihood(sampled_states, obs_coords.values.reshape(1, 2))\n",
    "    return probs"
   ]
  },
  {
   "cell_type": "code",
   "execution_count": null,
   "metadata": {
    "collapsed": true
   },
   "outputs": [],
   "source": []
  },
  {
   "cell_type": "code",
   "execution_count": 508,
   "metadata": {
    "collapsed": true
   },
   "outputs": [],
   "source": [
    "# Crossproduct for each particle, all roads\n",
    "state_last2 = np.concatenate([np.concatenate((particles, \n",
    "                                              np.tile(c, (n, 1))), \n",
    "                                             axis=1) \n",
    "                              for c in candidate_roads], axis=0)"
   ]
  },
  {
   "cell_type": "code",
   "execution_count": 393,
   "metadata": {
    "collapsed": false
   },
   "outputs": [
    {
     "data": {
      "text/plain": [
       "(2600, 4)"
      ]
     },
     "execution_count": 393,
     "metadata": {},
     "output_type": "execute_result"
    }
   ],
   "source": [
    "state_last2.shape "
   ]
  },
  {
   "cell_type": "code",
   "execution_count": 509,
   "metadata": {
    "collapsed": true
   },
   "outputs": [],
   "source": [
    "obs_last2 = np.array(obs_history[-2:]).reshape((1, 4))"
   ]
  },
  {
   "cell_type": "code",
   "execution_count": 481,
   "metadata": {
    "collapsed": false
   },
   "outputs": [
    {
     "data": {
      "text/plain": [
       "array([[  37.75134, -122.39488,   37.75136, -122.39527]])"
      ]
     },
     "execution_count": 481,
     "metadata": {},
     "output_type": "execute_result"
    }
   ],
   "source": [
    "obs_last2"
   ]
  },
  {
   "cell_type": "code",
   "execution_count": 482,
   "metadata": {
    "collapsed": true
   },
   "outputs": [],
   "source": [
    "dist_obs_m_prev=dist_prev; time_delta_sec_prev=time_delta_prev; max_allowable_diff_m=2000.0; max_allowable_mph=112.0"
   ]
  },
  {
   "cell_type": "code",
   "execution_count": 403,
   "metadata": {
    "collapsed": false
   },
   "outputs": [
    {
     "data": {
      "text/plain": [
       "34.360479144304016"
      ]
     },
     "execution_count": 403,
     "metadata": {},
     "output_type": "execute_result"
    }
   ],
   "source": [
    "dist_obs_m_prev"
   ]
  },
  {
   "cell_type": "code",
   "execution_count": 404,
   "metadata": {
    "collapsed": false
   },
   "outputs": [
    {
     "data": {
      "text/plain": [
       "-28.0"
      ]
     },
     "execution_count": 404,
     "metadata": {},
     "output_type": "execute_result"
    }
   ],
   "source": [
    "time_delta_sec_prev"
   ]
  },
  {
   "cell_type": "code",
   "execution_count": 400,
   "metadata": {
    "collapsed": true
   },
   "outputs": [],
   "source": [
    "RADIUS_OF_EARTH_M = 6371000\n",
    "MILES_PER_METER = 0.000621371\n",
    "HOURS_PER_SECOND = 3600.0\n",
    "state_last2 = np.deg2rad(state_last2)\n",
    "obs_last2 = np.deg2rad(obs_last2)"
   ]
  },
  {
   "cell_type": "code",
   "execution_count": 435,
   "metadata": {
    "collapsed": false
   },
   "outputs": [
    {
     "data": {
      "text/plain": [
       "array([[ 0.65888492, -2.13619363,  0.65885333, -2.13619095],\n",
       "       [ 0.65888522, -2.13619324,  0.65885333, -2.13619095],\n",
       "       [ 0.65888522, -2.13619324,  0.65885333, -2.13619095],\n",
       "       ...,\n",
       "       [ 0.65888492, -2.13619363,  0.65891336, -2.13618996],\n",
       "       [ 0.65888522, -2.13619324,  0.65891336, -2.13618996],\n",
       "       [ 0.65888522, -2.13619324,  0.65891336, -2.13618996]])"
      ]
     },
     "execution_count": 435,
     "metadata": {},
     "output_type": "execute_result"
    }
   ],
   "source": [
    "state_last2"
   ]
  },
  {
   "cell_type": "code",
   "execution_count": null,
   "metadata": {
    "collapsed": true
   },
   "outputs": [],
   "source": []
  },
  {
   "cell_type": "code",
   "execution_count": 439,
   "metadata": {
    "collapsed": false
   },
   "outputs": [],
   "source": [
    "dist_road = \\\n",
    "np.abs(np.array([haversine_distances(state_last2[r, :2].reshape(1,2), state_last2[r, 2:].reshape(1,2))[0] \n",
    " for r in range(state_last2.shape[0])]))  # (n * c, 1)"
   ]
  },
  {
   "cell_type": "code",
   "execution_count": 440,
   "metadata": {
    "collapsed": true
   },
   "outputs": [],
   "source": [
    "dist_road = dist_road * RADIUS_OF_EARTH_M"
   ]
  },
  {
   "cell_type": "code",
   "execution_count": 442,
   "metadata": {
    "collapsed": true
   },
   "outputs": [],
   "source": [
    "diff_dist = np.abs(np.subtract(dist_road, dist_obs_m_prev))  # (n * c, 1)"
   ]
  },
  {
   "cell_type": "code",
   "execution_count": 443,
   "metadata": {
    "collapsed": false
   },
   "outputs": [
    {
     "data": {
      "text/plain": [
       "array([[167.33782252],\n",
       "       [169.1049927 ],\n",
       "       [169.1049927 ],\n",
       "       ...,\n",
       "       [147.78968822],\n",
       "       [145.7182921 ],\n",
       "       [145.7182921 ]])"
      ]
     },
     "execution_count": 443,
     "metadata": {},
     "output_type": "execute_result"
    }
   ],
   "source": [
    "diff_dist"
   ]
  },
  {
   "cell_type": "code",
   "execution_count": 444,
   "metadata": {
    "collapsed": false
   },
   "outputs": [
    {
     "data": {
      "text/plain": [
       "(2600, 1)"
      ]
     },
     "execution_count": 444,
     "metadata": {},
     "output_type": "execute_result"
    }
   ],
   "source": [
    "diff_dist.shape"
   ]
  },
  {
   "cell_type": "code",
   "execution_count": 452,
   "metadata": {
    "collapsed": false
   },
   "outputs": [
    {
     "data": {
      "text/plain": [
       "0.46792129264360227"
      ]
     },
     "execution_count": 452,
     "metadata": {},
     "output_type": "execute_result"
    }
   ],
   "source": [
    "np.min(diff_dist)"
   ]
  },
  {
   "cell_type": "code",
   "execution_count": 448,
   "metadata": {
    "collapsed": true
   },
   "outputs": [],
   "source": [
    "# Ignore cases where diff_dist >= max_allowable_diff_m\n",
    "diff_dist[diff_dist >= max_allowable_diff_m] = np.float(\"inf\")  # zero out these transition probs"
   ]
  },
  {
   "cell_type": "code",
   "execution_count": 455,
   "metadata": {
    "collapsed": false
   },
   "outputs": [],
   "source": [
    "# Ignore cases where implied speed of route is >= max_allowable_mph; calculate speed in candidate routes\n",
    "implied_speed_road = np.divide(dist_road * MILES_PER_METER, \n",
    "                               time_delta_sec_prev * HOURS_PER_SECOND)  # (n * c, 1), meters"
   ]
  },
  {
   "cell_type": "code",
   "execution_count": 458,
   "metadata": {
    "collapsed": true
   },
   "outputs": [],
   "source": [
    "diff_dist[implied_speed_road >= max_allowable_mph] = np.float(\"inf\")  # zero out these transition probs"
   ]
  },
  {
   "cell_type": "code",
   "execution_count": 459,
   "metadata": {
    "collapsed": true
   },
   "outputs": [],
   "source": [
    "beta=3.0"
   ]
  },
  {
   "cell_type": "code",
   "execution_count": 472,
   "metadata": {
    "collapsed": true
   },
   "outputs": [],
   "source": [
    "probs = np.exp(-diff_dist / beta) * (1 / beta)"
   ]
  },
  {
   "cell_type": "code",
   "execution_count": 474,
   "metadata": {
    "collapsed": true
   },
   "outputs": [],
   "source": [
    "probs = probs / np.sum(probs)"
   ]
  },
  {
   "cell_type": "code",
   "execution_count": 476,
   "metadata": {
    "collapsed": true
   },
   "outputs": [],
   "source": []
  },
  {
   "cell_type": "code",
   "execution_count": 703,
   "metadata": {
    "collapsed": true
   },
   "outputs": [],
   "source": [
    "def prob_transition(self, state_last2, obs_last2, dist_obs_m_prev, time_delta_sec_prev, \n",
    "                        max_allowable_diff_m=2000.0, max_allowable_mph=112.0):\n",
    "        \"\"\"\n",
    "        state_last2, float numpy array, (n * c x 4 lat, long, lat_prev, long_prev), c candidate roads and n particles\n",
    "        obs_last2, float numpy array, (1 x 4 lat, long, lat_prev, long_prev) \n",
    "        dist_obs_m_prev float distance in meters between last two obs.\n",
    "        time_delta_sec_prev float time delta in sec between last two obs.\n",
    "        max_allowable_diff_m float, ignore low probability routes as in N&K; in N&K 2000 meters.\n",
    "        max_allowable_mph, float; ignore routes resulting in unreasonable speeds. 112mph in N&K.\n",
    "        Where present, lat/long in degrees.\n",
    "        \n",
    "        returns probs of transition, (n * c x 1)\n",
    "        \"\"\"\n",
    "        RADIUS_OF_EARTH_M = 6371000\n",
    "        MILES_PER_METER = 0.000621371\n",
    "        HOURS_PER_SECOND = 3600.0\n",
    "        state_last2 = np.deg2rad(state_last2)\n",
    "        obs_last2 = np.deg2rad(obs_last2)\n",
    "        # dist_obs = abs(haversine_distances(obs_last2[:, :2], obs_last2[0, 2:]))  # (1, 1)\n",
    "        # !! TODO - Supposed to be driving distance, not haversine. N&K use a route planner. Can I use shapely???\n",
    "            # Probably fine as generally GPS measurements are taken close together in time- \n",
    "            # Otherwise would have to snap to roads using Shapely and get the distance between the two points. \n",
    "            # How does using driving distance even compare to haversine for obs? Isn't it better to compare apples to apples?\n",
    "        dist_road = \\\n",
    "        np.abs(np.array([haversine_distances(state_last2[r, :2].reshape(1,2), state_last2[r, 2:].reshape(1,2))[0] \n",
    "                         for r in range(state_last2.shape[0])]))  # (n * c, 1)\n",
    "        dist_road = dist_road * RADIUS_OF_EARTH_M  # multiply by Earth radius to get result in meters\n",
    "        diff_dist = np.abs(np.subtract(dist_road, dist_obs_m_prev))  # (n * c, 1)\n",
    "        \n",
    "        # Ignore cases where diff_dist >= max_allowable_diff_m\n",
    "        diff_dist[diff_dist >= max_allowable_diff_m] = np.float(\"inf\")  # zero out these transition probs\n",
    "        # Ignore cases where implied speed of route is >= max_allowable_mph; calculate speed in candidate routes\n",
    "        implied_speed_road = np.divide(dist_road * MILES_PER_METER, \n",
    "                               time_delta_sec_prev * HOURS_PER_SECOND)  # (n * c, 1), meters\n",
    "        diff_dist[implied_speed_road >= max_allowable_mph] = np.float(\"inf\")  # zero out these transition probs\n",
    "        \n",
    "        probs = np.exp(-diff_dist / self.beta) * (1 / self.beta)\n",
    "        # Normalize result?\n",
    "        if self.normalize:\n",
    "            probs = probs / np.sum(probs)"
   ]
  },
  {
   "cell_type": "code",
   "execution_count": 510,
   "metadata": {
    "collapsed": true
   },
   "outputs": [],
   "source": [
    "probs = transition_model.prob_transition(state_last2, obs_last2, \n",
    "                                         dist_prev, time_delta_prev)  # (n * c, 1)"
   ]
  },
  {
   "cell_type": "code",
   "execution_count": 511,
   "metadata": {
    "collapsed": false
   },
   "outputs": [
    {
     "data": {
      "text/plain": [
       "[array([0.00898015]),\n",
       " array([0.00898015]),\n",
       " array([0.00898015]),\n",
       " array([0.00898015]),\n",
       " array([0.00898015])]"
      ]
     },
     "execution_count": 511,
     "metadata": {},
     "output_type": "execute_result"
    }
   ],
   "source": [
    "sorted(probs)[-5:]"
   ]
  },
  {
   "cell_type": "code",
   "execution_count": 512,
   "metadata": {
    "collapsed": false
   },
   "outputs": [
    {
     "data": {
      "text/plain": [
       "0.0"
      ]
     },
     "execution_count": 512,
     "metadata": {},
     "output_type": "execute_result"
    }
   ],
   "source": [
    "prob_floor"
   ]
  },
  {
   "cell_type": "code",
   "execution_count": 513,
   "metadata": {
    "collapsed": false
   },
   "outputs": [
    {
     "data": {
      "text/plain": [
       "0"
      ]
     },
     "execution_count": 513,
     "metadata": {},
     "output_type": "execute_result"
    }
   ],
   "source": [
    "np.sum(probs <= prob_floor)"
   ]
  },
  {
   "cell_type": "code",
   "execution_count": 514,
   "metadata": {
    "collapsed": true
   },
   "outputs": [],
   "source": [
    "probs[probs <= prob_floor] = 0.0"
   ]
  },
  {
   "cell_type": "code",
   "execution_count": 515,
   "metadata": {
    "collapsed": false
   },
   "outputs": [],
   "source": [
    "probs = probs / np.sum(probs)"
   ]
  },
  {
   "cell_type": "code",
   "execution_count": 516,
   "metadata": {
    "collapsed": false
   },
   "outputs": [
    {
     "data": {
      "text/plain": [
       "[array([0.00898015]),\n",
       " array([0.00898015]),\n",
       " array([0.00898015]),\n",
       " array([0.00898015]),\n",
       " array([0.00898015])]"
      ]
     },
     "execution_count": 516,
     "metadata": {},
     "output_type": "execute_result"
    }
   ],
   "source": [
    "sorted(probs)[-5:]"
   ]
  },
  {
   "cell_type": "code",
   "execution_count": null,
   "metadata": {
    "collapsed": true
   },
   "outputs": [],
   "source": []
  },
  {
   "cell_type": "code",
   "execution_count": 710,
   "metadata": {
    "collapsed": true
   },
   "outputs": [],
   "source": [
    "state_last2 = np.concatenate([np.concatenate((particles, \n",
    "                                                  np.tile(c, (n, 1))), \n",
    "                                                 axis=1) \n",
    "                                  for c in candidate_roads], axis=0)"
   ]
  },
  {
   "cell_type": "code",
   "execution_count": 715,
   "metadata": {
    "collapsed": false
   },
   "outputs": [
    {
     "data": {
      "text/plain": [
       "array([[  37.75134205, -122.39485713,   37.7497545 , -122.3962862 ],\n",
       "       [  37.75134205, -122.39485713,   37.7497545 , -122.3962862 ],\n",
       "       [  37.75132504, -122.39487933,   37.7497545 , -122.3962862 ],\n",
       "       ...,\n",
       "       [  37.75132504, -122.39487933,   37.7529547 , -122.3946691 ],\n",
       "       [  37.75134205, -122.39485713,   37.7529547 , -122.3946691 ],\n",
       "       [  37.75132504, -122.39487933,   37.7529547 , -122.3946691 ]])"
      ]
     },
     "execution_count": 715,
     "metadata": {},
     "output_type": "execute_result"
    }
   ],
   "source": [
    "state_last2"
   ]
  },
  {
   "cell_type": "code",
   "execution_count": 712,
   "metadata": {
    "collapsed": true
   },
   "outputs": [],
   "source": [
    "obs_last2 = np.array(obs_history[-2:]).reshape((1, 4))"
   ]
  },
  {
   "cell_type": "code",
   "execution_count": 713,
   "metadata": {
    "collapsed": false
   },
   "outputs": [
    {
     "data": {
      "text/plain": [
       "array([[  37.75134, -122.39488,   37.75136, -122.39527]])"
      ]
     },
     "execution_count": 713,
     "metadata": {},
     "output_type": "execute_result"
    }
   ],
   "source": [
    "obs_last2"
   ]
  },
  {
   "cell_type": "code",
   "execution_count": 716,
   "metadata": {
    "collapsed": true
   },
   "outputs": [],
   "source": [
    "probs = transition_model.prob_transition(state_last2, obs_last2, \n",
    "                                             dist_prev, time_delta_prev)"
   ]
  },
  {
   "cell_type": "code",
   "execution_count": 719,
   "metadata": {
    "collapsed": false
   },
   "outputs": [
    {
     "data": {
      "text/plain": [
       "array([[4.17545221e-29],\n",
       "       [4.17545221e-29],\n",
       "       [1.01753694e-28],\n",
       "       ...,\n",
       "       [4.15709313e-24],\n",
       "       [8.29191906e-24],\n",
       "       [4.15709313e-24]])"
      ]
     },
     "execution_count": 719,
     "metadata": {},
     "output_type": "execute_result"
    }
   ],
   "source": [
    "probs"
   ]
  },
  {
   "cell_type": "code",
   "execution_count": 720,
   "metadata": {
    "collapsed": false
   },
   "outputs": [
    {
     "data": {
      "text/plain": [
       "0.01"
      ]
     },
     "execution_count": 720,
     "metadata": {},
     "output_type": "execute_result"
    }
   ],
   "source": [
    "prob_floor"
   ]
  },
  {
   "cell_type": "code",
   "execution_count": null,
   "metadata": {
    "collapsed": true
   },
   "outputs": [],
   "source": [
    "probs[probs <= prob_floor] = 0.0"
   ]
  },
  {
   "cell_type": "code",
   "execution_count": null,
   "metadata": {
    "collapsed": true
   },
   "outputs": [],
   "source": []
  },
  {
   "cell_type": "code",
   "execution_count": null,
   "metadata": {
    "collapsed": true
   },
   "outputs": [],
   "source": []
  },
  {
   "cell_type": "code",
   "execution_count": 707,
   "metadata": {
    "collapsed": true
   },
   "outputs": [],
   "source": [
    "def apply_transition_model(candidate_roads, dist_prev, time_delta_prev):\n",
    "    \"\"\"\n",
    "    returns probabilities of transition, given current particles\n",
    "    numpy array of floats between 0 and 1, normalized, (n * c, 1)\n",
    "\n",
    "    candidate_roads numpy array float of lat,long closest point to road from obs (N&K)\n",
    "    dist_prev float, meters\n",
    "    time_delta_prev float, sec\n",
    "\n",
    "    Zeroize very small probability candidates, but don't change shape of particles.\n",
    "    Then, if some particles are very unlikely, we cull them and resample from more likely particles. \n",
    "    \"\"\"\n",
    "    # Crossproduct for each particle, all roads\n",
    "    state_last2 = np.concatenate([np.concatenate((particles, \n",
    "                                                  np.tile(c, (n, 1))), \n",
    "                                                 axis=1) \n",
    "                                  for c in candidate_roads], axis=0)  # (n * c, 4)\n",
    "    obs_last2 = np.array(obs_history[-2:]).reshape((1, 4))\n",
    "    probs = transition_model.prob_transition(state_last2, obs_last2, \n",
    "                                             dist_prev, time_delta_prev)  # (n * c, 1)\n",
    "    # Effectively, candidate roads will be possible from different original particle hypotheses\n",
    "    # Zeroise small probs, without changing array shape\n",
    "    probs[probs <= prob_floor] = 0.0\n",
    "    # Re-normalize\n",
    "    probs = probs / np.sum(probs)\n",
    "    return probs"
   ]
  },
  {
   "cell_type": "code",
   "execution_count": null,
   "metadata": {
    "collapsed": true
   },
   "outputs": [],
   "source": []
  },
  {
   "cell_type": "code",
   "execution_count": 691,
   "metadata": {
    "collapsed": false
   },
   "outputs": [
    {
     "data": {
      "text/plain": [
       "lat                  37.751360\n",
       "long               -122.395270\n",
       "lat_prev             37.751340\n",
       "long_prev          -122.394880\n",
       "dist_from_prev_m     34.360479\n",
       "time_delta_sec      -28.000000\n",
       "Name: 1, dtype: float64"
      ]
     },
     "execution_count": 691,
     "metadata": {},
     "output_type": "execute_result"
    }
   ],
   "source": [
    "obs"
   ]
  },
  {
   "cell_type": "code",
   "execution_count": 695,
   "metadata": {
    "collapsed": true
   },
   "outputs": [],
   "source": [
    "obs_coords = obs[['lat', 'long']] # obs[:2]\n",
    "dist_prev, time_delta_prev = obs[['dist_from_prev_m', 'time_delta_sec']] # obs[2:]"
   ]
  },
  {
   "cell_type": "code",
   "execution_count": 696,
   "metadata": {
    "collapsed": false
   },
   "outputs": [
    {
     "data": {
      "text/plain": [
       "-28.0"
      ]
     },
     "execution_count": 696,
     "metadata": {},
     "output_type": "execute_result"
    }
   ],
   "source": [
    "time_delta_prev"
   ]
  },
  {
   "cell_type": "code",
   "execution_count": 676,
   "metadata": {
    "collapsed": true
   },
   "outputs": [],
   "source": [
    "obs_history.append(obs_coords)"
   ]
  },
  {
   "cell_type": "code",
   "execution_count": 697,
   "metadata": {
    "collapsed": false
   },
   "outputs": [
    {
     "data": {
      "text/plain": [
       "[lat      37.75134\n",
       " long   -122.39488\n",
       " Name: 0, dtype: float64,\n",
       " lat      37.75136\n",
       " long   -122.39527\n",
       " Name: 1, dtype: float64]"
      ]
     },
     "execution_count": 697,
     "metadata": {},
     "output_type": "execute_result"
    }
   ],
   "source": [
    "obs_history"
   ]
  },
  {
   "cell_type": "code",
   "execution_count": 698,
   "metadata": {
    "collapsed": false
   },
   "outputs": [],
   "source": [
    "candidate_roads = get_candidate_roads(obs_coords)"
   ]
  },
  {
   "cell_type": "code",
   "execution_count": 699,
   "metadata": {
    "collapsed": false
   },
   "outputs": [
    {
     "data": {
      "text/plain": [
       "array([[  37.7497545 , -122.3962862 ],\n",
       "       [  37.7497851 , -122.3957776 ],\n",
       "       [  37.74982094, -122.39517989],\n",
       "       [  37.7498409 , -122.3948389 ],\n",
       "       [  37.749877  , -122.3942223 ],\n",
       "       [  37.7499376 , -122.3965082 ],\n",
       "       [  37.749877  , -122.3942223 ],\n",
       "       [  37.7500518 , -122.3946562 ],\n",
       "       [  37.7501218 , -122.3965221 ],\n",
       "       [  37.7500518 , -122.3946562 ],\n",
       "       [  37.7501218 , -122.3965221 ],\n",
       "       [  37.7504893 , -122.3966962 ],\n",
       "       [  37.750809  , -122.395448  ],\n",
       "       [  37.7508977 , -122.3934267 ],\n",
       "       [  37.7505055 , -122.3963543 ],\n",
       "       [  37.7510282 , -122.3947529 ],\n",
       "       [  37.7505509 , -122.3947056 ],\n",
       "       [  37.7507095 , -122.3966147 ],\n",
       "       [  37.7506223 , -122.3935102 ],\n",
       "       [  37.7507267 , -122.394723  ],\n",
       "       [  37.7512915 , -122.3952268 ],\n",
       "       [  37.7508102 , -122.3935227 ],\n",
       "       [  37.7509976 , -122.3963989 ],\n",
       "       [  37.7508768 , -122.3962566 ],\n",
       "       [  37.75092   , -122.3956145 ],\n",
       "       [  37.75126053, -122.39642241],\n",
       "       [  37.7511897 , -122.3964163 ],\n",
       "       [  37.7514762 , -122.396441  ],\n",
       "       [  37.75146304, -122.39363914],\n",
       "       [  37.75138233, -122.39501493],\n",
       "       [  37.75139659, -122.39486202],\n",
       "       [  37.75141136, -122.39469148],\n",
       "       [  37.75142206, -122.39451986],\n",
       "       [  37.75136889, -122.39520357],\n",
       "       [  37.75144751, -122.39434619],\n",
       "       [  37.75148118, -122.39400795],\n",
       "       [  37.75146467, -122.39417731],\n",
       "       [  37.75151271, -122.39383611],\n",
       "       [  37.752311  , -122.396513  ],\n",
       "       [  37.7521861 , -122.393509  ],\n",
       "       [  37.7522902 , -122.3968573 ],\n",
       "       [  37.75238646, -122.39533587],\n",
       "       [  37.752432  , -122.3946262 ],\n",
       "       [  37.7523714 , -122.3968168 ],\n",
       "       [  37.752656  , -122.3964826 ],\n",
       "       [  37.75253   , -122.3946416 ],\n",
       "       [  37.752485  , -122.393619  ],\n",
       "       [  37.752311  , -122.396513  ],\n",
       "       [  37.752432  , -122.3946262 ],\n",
       "       [  37.7529547 , -122.3946691 ]])"
      ]
     },
     "execution_count": 699,
     "metadata": {},
     "output_type": "execute_result"
    }
   ],
   "source": [
    "candidate_roads"
   ]
  },
  {
   "cell_type": "code",
   "execution_count": null,
   "metadata": {
    "collapsed": true
   },
   "outputs": [],
   "source": []
  },
  {
   "cell_type": "code",
   "execution_count": 680,
   "metadata": {
    "collapsed": false
   },
   "outputs": [
    {
     "data": {
      "text/plain": [
       "2"
      ]
     },
     "execution_count": 680,
     "metadata": {},
     "output_type": "execute_result"
    }
   ],
   "source": [
    "num_iter"
   ]
  },
  {
   "cell_type": "code",
   "execution_count": 722,
   "metadata": {
    "collapsed": false
   },
   "outputs": [],
   "source": [
    "trans_probs = apply_transition_model(candidate_roads, \n",
    "                                      dist_prev, \n",
    "                                      time_delta_prev) # (n * c, 1) first n rows for first candidate, etc."
   ]
  },
  {
   "cell_type": "code",
   "execution_count": 723,
   "metadata": {
    "collapsed": false
   },
   "outputs": [
    {
     "data": {
      "text/plain": [
       "array([[4.17545221e-29],\n",
       "       [4.17545221e-29],\n",
       "       [1.01753694e-28],\n",
       "       ...,\n",
       "       [4.15709313e-24],\n",
       "       [8.29191906e-24],\n",
       "       [4.15709313e-24]])"
      ]
     },
     "execution_count": 723,
     "metadata": {},
     "output_type": "execute_result"
    }
   ],
   "source": [
    "trans_probs"
   ]
  },
  {
   "cell_type": "code",
   "execution_count": 724,
   "metadata": {
    "collapsed": true
   },
   "outputs": [],
   "source": [
    "# Aggregate probs by candidate roads\n",
    "trans_probs_split = np.array(np.split(trans_probs, n, axis=0))  # (n, c, 1)"
   ]
  },
  {
   "cell_type": "code",
   "execution_count": 725,
   "metadata": {
    "collapsed": false
   },
   "outputs": [
    {
     "data": {
      "text/plain": [
       "(50, 50, 1)"
      ]
     },
     "execution_count": 725,
     "metadata": {},
     "output_type": "execute_result"
    }
   ],
   "source": [
    "trans_probs_split.shape"
   ]
  },
  {
   "cell_type": "code",
   "execution_count": 726,
   "metadata": {
    "collapsed": false
   },
   "outputs": [
    {
     "data": {
      "text/plain": [
       "(50, 1)"
      ]
     },
     "execution_count": 726,
     "metadata": {},
     "output_type": "execute_result"
    }
   ],
   "source": [
    "np.sum(np.array(trans_probs_split), axis=0).shape"
   ]
  },
  {
   "cell_type": "code",
   "execution_count": 727,
   "metadata": {
    "collapsed": true
   },
   "outputs": [],
   "source": [
    "trans_probs_agg = np.sum(trans_probs_split, axis=0)  # (c, 1)"
   ]
  },
  {
   "cell_type": "code",
   "execution_count": 728,
   "metadata": {
    "collapsed": false
   },
   "outputs": [
    {
     "data": {
      "text/plain": [
       "[array([0.02126911]),\n",
       " array([0.02126911]),\n",
       " array([0.02126911]),\n",
       " array([0.02126911]),\n",
       " array([0.02126911]),\n",
       " array([0.02126911]),\n",
       " array([0.02126911]),\n",
       " array([0.02126911]),\n",
       " array([0.02126911]),\n",
       " array([0.02126911])]"
      ]
     },
     "execution_count": 728,
     "metadata": {},
     "output_type": "execute_result"
    }
   ],
   "source": [
    "sorted(trans_probs_agg)[-10:]"
   ]
  },
  {
   "cell_type": "code",
   "execution_count": 729,
   "metadata": {
    "collapsed": false
   },
   "outputs": [
    {
     "data": {
      "text/plain": [
       "(50, 1)"
      ]
     },
     "execution_count": 729,
     "metadata": {},
     "output_type": "execute_result"
    }
   ],
   "source": [
    "trans_probs_agg.shape"
   ]
  },
  {
   "cell_type": "code",
   "execution_count": 731,
   "metadata": {
    "collapsed": false
   },
   "outputs": [
    {
     "data": {
      "text/plain": [
       "array([0.01882851, 0.01882851, 0.02126911, 0.02126911, 0.01882851,\n",
       "       0.02126911, 0.01882851, 0.02126911, 0.01882851, 0.02126911,\n",
       "       0.02126911, 0.01882851, 0.01882851, 0.02126911, 0.02126911,\n",
       "       0.02126911, 0.01882851, 0.02126911, 0.02126911, 0.01882851,\n",
       "       0.01882851, 0.01882851, 0.01882851, 0.01882851, 0.01882851,\n",
       "       0.02126911, 0.02126911, 0.02126911, 0.02126911, 0.01882851,\n",
       "       0.02126911, 0.01882851, 0.01882851, 0.02126911, 0.01882851,\n",
       "       0.01882851, 0.01882851, 0.01882851, 0.01882851, 0.01882851,\n",
       "       0.02126911, 0.02126911, 0.02126911, 0.02126911, 0.01882851,\n",
       "       0.02126911, 0.01882851, 0.02126911, 0.01882851, 0.02126911])"
      ]
     },
     "execution_count": 731,
     "metadata": {},
     "output_type": "execute_result"
    }
   ],
   "source": [
    "trans_probs_agg.flatten()"
   ]
  },
  {
   "cell_type": "code",
   "execution_count": 732,
   "metadata": {
    "collapsed": false
   },
   "outputs": [],
   "source": [
    "# Sample new states\n",
    "sampled_states_idx = np.random.choice(range(len(candidate_roads)), \n",
    "                                      n, \n",
    "                                      list(trans_probs_agg.flatten()))  # (n, )"
   ]
  },
  {
   "cell_type": "code",
   "execution_count": 733,
   "metadata": {
    "collapsed": false
   },
   "outputs": [
    {
     "data": {
      "text/plain": [
       "(50,)"
      ]
     },
     "execution_count": 733,
     "metadata": {},
     "output_type": "execute_result"
    }
   ],
   "source": [
    "sampled_states_idx.shape"
   ]
  },
  {
   "cell_type": "code",
   "execution_count": 660,
   "metadata": {
    "collapsed": true
   },
   "outputs": [],
   "source": [
    "# sampled_states = candidate_roads"
   ]
  },
  {
   "cell_type": "code",
   "execution_count": 734,
   "metadata": {
    "collapsed": true
   },
   "outputs": [],
   "source": [
    "sampled_states = candidate_roads[sampled_states_idx]  # (n, 2)"
   ]
  },
  {
   "cell_type": "code",
   "execution_count": 735,
   "metadata": {
    "collapsed": false
   },
   "outputs": [
    {
     "data": {
      "text/plain": [
       "(50, 2)"
      ]
     },
     "execution_count": 735,
     "metadata": {},
     "output_type": "execute_result"
    }
   ],
   "source": [
    "sampled_states.shape"
   ]
  },
  {
   "cell_type": "code",
   "execution_count": null,
   "metadata": {
    "collapsed": true
   },
   "outputs": [],
   "source": []
  },
  {
   "cell_type": "code",
   "execution_count": 362,
   "metadata": {
    "collapsed": true
   },
   "outputs": [],
   "source": [
    "# sampled_states = candidate_roads"
   ]
  },
  {
   "cell_type": "code",
   "execution_count": 736,
   "metadata": {
    "collapsed": false
   },
   "outputs": [
    {
     "name": "stdout",
     "output_type": "stream",
     "text": [
      "CPU times: user 168 µs, sys: 31 µs, total: 199 µs\n",
      "Wall time: 205 µs\n"
     ]
    }
   ],
   "source": [
    "%%time\n",
    "sensor_probs = estimate_weights_per_particle(sampled_states, obs_coords)"
   ]
  },
  {
   "cell_type": "code",
   "execution_count": 737,
   "metadata": {
    "collapsed": false
   },
   "outputs": [
    {
     "data": {
      "text/plain": [
       "(50, 1)"
      ]
     },
     "execution_count": 737,
     "metadata": {},
     "output_type": "execute_result"
    }
   ],
   "source": [
    "sensor_probs.shape"
   ]
  },
  {
   "cell_type": "code",
   "execution_count": 738,
   "metadata": {
    "collapsed": false
   },
   "outputs": [
    {
     "data": {
      "text/plain": [
       "array([0.24459976, 0.75539978])"
      ]
     },
     "execution_count": 738,
     "metadata": {},
     "output_type": "execute_result"
    }
   ],
   "source": [
    "sensor_probs[sensor_probs > 0.01]"
   ]
  },
  {
   "cell_type": "code",
   "execution_count": 739,
   "metadata": {
    "collapsed": false
   },
   "outputs": [
    {
     "data": {
      "text/plain": [
       "(50, 50, 1)"
      ]
     },
     "execution_count": 739,
     "metadata": {},
     "output_type": "execute_result"
    }
   ],
   "source": [
    "trans_probs_split.shape"
   ]
  },
  {
   "cell_type": "code",
   "execution_count": 740,
   "metadata": {
    "collapsed": false
   },
   "outputs": [
    {
     "data": {
      "text/plain": [
       "(50, 1)"
      ]
     },
     "execution_count": 740,
     "metadata": {},
     "output_type": "execute_result"
    }
   ],
   "source": [
    "np.max(trans_probs_split, axis=0)[sampled_states_idx].shape"
   ]
  },
  {
   "cell_type": "code",
   "execution_count": 741,
   "metadata": {
    "collapsed": false
   },
   "outputs": [
    {
     "data": {
      "text/plain": [
       "(50, 1)"
      ]
     },
     "execution_count": 741,
     "metadata": {},
     "output_type": "execute_result"
    }
   ],
   "source": [
    "sensor_probs.shape"
   ]
  },
  {
   "cell_type": "code",
   "execution_count": 742,
   "metadata": {
    "collapsed": false
   },
   "outputs": [
    {
     "data": {
      "text/plain": [
       "(50, 1)"
      ]
     },
     "execution_count": 742,
     "metadata": {},
     "output_type": "execute_result"
    }
   ],
   "source": [
    "weights.shape"
   ]
  },
  {
   "cell_type": "code",
   "execution_count": 667,
   "metadata": {
    "collapsed": true
   },
   "outputs": [],
   "source": [
    "# joint_prob = sensor_probs[new_particles_idx]"
   ]
  },
  {
   "cell_type": "code",
   "execution_count": 743,
   "metadata": {
    "collapsed": true
   },
   "outputs": [],
   "source": [
    "# joint_prob = sensor_probs\n",
    "joint_prob = np.multiply(\n",
    "        np.multiply(sensor_probs, np.max(trans_probs_split, axis=0)[sampled_states_idx]),  # (n, 1)\n",
    "        weights\n",
    "        )"
   ]
  },
  {
   "cell_type": "code",
   "execution_count": 744,
   "metadata": {
    "collapsed": false
   },
   "outputs": [
    {
     "data": {
      "text/plain": [
       "(50, 1)"
      ]
     },
     "execution_count": 744,
     "metadata": {},
     "output_type": "execute_result"
    }
   ],
   "source": [
    "joint_prob.shape"
   ]
  },
  {
   "cell_type": "code",
   "execution_count": 748,
   "metadata": {
    "collapsed": true
   },
   "outputs": [],
   "source": [
    "weights = joint_prob"
   ]
  },
  {
   "cell_type": "code",
   "execution_count": null,
   "metadata": {
    "collapsed": false
   },
   "outputs": [],
   "source": []
  },
  {
   "cell_type": "code",
   "execution_count": null,
   "metadata": {
    "collapsed": true
   },
   "outputs": [],
   "source": [
    "test=pd.DataFrame(np.array([[1,3],[1,2], [1,6], [2,5], [2,5],[2,3]]))"
   ]
  },
  {
   "cell_type": "code",
   "execution_count": 75,
   "metadata": {
    "collapsed": false
   },
   "outputs": [
    {
     "data": {
      "text/html": [
       "<div>\n",
       "<style scoped>\n",
       "    .dataframe tbody tr th:only-of-type {\n",
       "        vertical-align: middle;\n",
       "    }\n",
       "\n",
       "    .dataframe tbody tr th {\n",
       "        vertical-align: top;\n",
       "    }\n",
       "\n",
       "    .dataframe thead th {\n",
       "        text-align: right;\n",
       "    }\n",
       "</style>\n",
       "<table border=\"1\" class=\"dataframe\">\n",
       "  <thead>\n",
       "    <tr style=\"text-align: right;\">\n",
       "      <th></th>\n",
       "      <th>0</th>\n",
       "      <th>1</th>\n",
       "    </tr>\n",
       "  </thead>\n",
       "  <tbody>\n",
       "    <tr>\n",
       "      <th>0</th>\n",
       "      <td>1</td>\n",
       "      <td>3</td>\n",
       "    </tr>\n",
       "    <tr>\n",
       "      <th>1</th>\n",
       "      <td>1</td>\n",
       "      <td>2</td>\n",
       "    </tr>\n",
       "    <tr>\n",
       "      <th>2</th>\n",
       "      <td>1</td>\n",
       "      <td>6</td>\n",
       "    </tr>\n",
       "    <tr>\n",
       "      <th>3</th>\n",
       "      <td>2</td>\n",
       "      <td>5</td>\n",
       "    </tr>\n",
       "    <tr>\n",
       "      <th>4</th>\n",
       "      <td>2</td>\n",
       "      <td>5</td>\n",
       "    </tr>\n",
       "    <tr>\n",
       "      <th>5</th>\n",
       "      <td>2</td>\n",
       "      <td>3</td>\n",
       "    </tr>\n",
       "  </tbody>\n",
       "</table>\n",
       "</div>"
      ],
      "text/plain": [
       "   0  1\n",
       "0  1  3\n",
       "1  1  2\n",
       "2  1  6\n",
       "3  2  5\n",
       "4  2  5\n",
       "5  2  3"
      ]
     },
     "execution_count": 75,
     "metadata": {},
     "output_type": "execute_result"
    }
   ],
   "source": [
    "test"
   ]
  },
  {
   "cell_type": "code",
   "execution_count": 135,
   "metadata": {
    "collapsed": false
   },
   "outputs": [],
   "source": [
    "sampled_states_idx=np.array([2, 1]); new_particles_idx=np.array([0, 0])"
   ]
  },
  {
   "cell_type": "code",
   "execution_count": 136,
   "metadata": {
    "collapsed": false
   },
   "outputs": [
    {
     "data": {
      "text/plain": [
       "[array([2, 2])]"
      ]
     },
     "execution_count": 136,
     "metadata": {},
     "output_type": "execute_result"
    }
   ],
   "source": [
    "[sampled_states_idx[new_particles_idx]]"
   ]
  },
  {
   "cell_type": "code",
   "execution_count": 137,
   "metadata": {
    "collapsed": false
   },
   "outputs": [
    {
     "data": {
      "text/plain": [
       "array([2, 2, 5, 5])"
      ]
     },
     "execution_count": 137,
     "metadata": {},
     "output_type": "execute_result"
    }
   ],
   "source": [
    "np.array([(np.array([sampled_states_idx[new_particles_idx]]) + 3 * (i-1)) for i in range(1, 3)]).flatten()"
   ]
  },
  {
   "cell_type": "code",
   "execution_count": 138,
   "metadata": {
    "collapsed": false
   },
   "outputs": [
    {
     "data": {
      "text/html": [
       "<div>\n",
       "<style scoped>\n",
       "    .dataframe tbody tr th:only-of-type {\n",
       "        vertical-align: middle;\n",
       "    }\n",
       "\n",
       "    .dataframe tbody tr th {\n",
       "        vertical-align: top;\n",
       "    }\n",
       "\n",
       "    .dataframe thead th {\n",
       "        text-align: right;\n",
       "    }\n",
       "</style>\n",
       "<table border=\"1\" class=\"dataframe\">\n",
       "  <thead>\n",
       "    <tr style=\"text-align: right;\">\n",
       "      <th></th>\n",
       "      <th>0</th>\n",
       "      <th>1</th>\n",
       "    </tr>\n",
       "  </thead>\n",
       "  <tbody>\n",
       "    <tr>\n",
       "      <th>2</th>\n",
       "      <td>1</td>\n",
       "      <td>6</td>\n",
       "    </tr>\n",
       "    <tr>\n",
       "      <th>2</th>\n",
       "      <td>1</td>\n",
       "      <td>6</td>\n",
       "    </tr>\n",
       "    <tr>\n",
       "      <th>5</th>\n",
       "      <td>2</td>\n",
       "      <td>3</td>\n",
       "    </tr>\n",
       "    <tr>\n",
       "      <th>5</th>\n",
       "      <td>2</td>\n",
       "      <td>3</td>\n",
       "    </tr>\n",
       "  </tbody>\n",
       "</table>\n",
       "</div>"
      ],
      "text/plain": [
       "   0  1\n",
       "2  1  6\n",
       "2  1  6\n",
       "5  2  3\n",
       "5  2  3"
      ]
     },
     "execution_count": 138,
     "metadata": {},
     "output_type": "execute_result"
    }
   ],
   "source": [
    "test.loc[np.array([(np.array([sampled_states_idx[new_particles_idx]]) + 3 * (i-1)) for i in range(1, 3)]).flatten(), :]"
   ]
  },
  {
   "cell_type": "code",
   "execution_count": null,
   "metadata": {
    "collapsed": true
   },
   "outputs": [],
   "source": [
    "# Use trans_probs!!! (n * c, 1)"
   ]
  },
  {
   "cell_type": "code",
   "execution_count": 139,
   "metadata": {
    "collapsed": true
   },
   "outputs": [],
   "source": [
    "best_prior_state_idx = \\\n",
    "pd.DataFrame(test).loc[np.array([(np.array([sampled_states_idx[new_particles_idx]]) + 3 * (i-1)) \n",
    "                                        for i in range(1, 3)]).flatten(), :\n",
    "                             ].groupby([0])[1].idxmax().values.reshape(1,-1)"
   ]
  },
  {
   "cell_type": "code",
   "execution_count": 178,
   "metadata": {
    "collapsed": false
   },
   "outputs": [
    {
     "data": {
      "text/plain": [
       "array([[2, 2]])"
      ]
     },
     "execution_count": 178,
     "metadata": {},
     "output_type": "execute_result"
    }
   ],
   "source": [
    "best_prior_state_idx % 3"
   ]
  },
  {
   "cell_type": "code",
   "execution_count": 179,
   "metadata": {
    "collapsed": false
   },
   "outputs": [
    {
     "data": {
      "text/plain": [
       "array([[1, 6],\n",
       "       [2, 3]])"
      ]
     },
     "execution_count": 179,
     "metadata": {},
     "output_type": "execute_result"
    }
   ],
   "source": [
    "test.values[best_prior_state_idx][0]"
   ]
  },
  {
   "cell_type": "code",
   "execution_count": 121,
   "metadata": {
    "collapsed": false
   },
   "outputs": [
    {
     "ename": "NameError",
     "evalue": "name 'trans_probs' is not defined",
     "output_type": "error",
     "traceback": [
      "\u001b[0;31m---------------------------------------------------------------------------\u001b[0m",
      "\u001b[0;31mNameError\u001b[0m                                 Traceback (most recent call last)",
      "\u001b[0;32m<ipython-input-121-d184d7adc60d>\u001b[0m in \u001b[0;36m<module>\u001b[0;34m\u001b[0m\n\u001b[1;32m      1\u001b[0m \u001b[0mbest_prior_state_idx\u001b[0m \u001b[0;34m=\u001b[0m\u001b[0;31m \u001b[0m\u001b[0;31m\\\u001b[0m\u001b[0;34m\u001b[0m\u001b[0;34m\u001b[0m\u001b[0m\n\u001b[0;32m----> 2\u001b[0;31m pd.DataFrame(trans_probs).loc[np.array([(np.array([sampled_states_idx[new_particles_idx]]) + 3 * (i - 1)) \n\u001b[0m\u001b[1;32m      3\u001b[0m                                         for i in range(1, 3)]).flatten(), :\n\u001b[1;32m      4\u001b[0m                              ].groupby([0])[1].idxmax().values.reshape(1,-1)\n",
      "\u001b[0;31mNameError\u001b[0m: name 'trans_probs' is not defined"
     ]
    }
   ],
   "source": [
    "best_prior_state_idx = \\\n",
    "pd.DataFrame(trans_probs).loc[np.array([(np.array([sampled_states_idx[new_particles_idx]]) + \n",
    "                                         len(candidate_roads) * (i - 1)) \n",
    "                                        for i in range(1, (self.n + 1))]).flatten(), :\n",
    "                             ].groupby([0])[1].idxmax().values.reshape(1, -1)"
   ]
  },
  {
   "cell_type": "code",
   "execution_count": null,
   "metadata": {
    "collapsed": true
   },
   "outputs": [],
   "source": []
  },
  {
   "cell_type": "code",
   "execution_count": 872,
   "metadata": {
    "collapsed": false
   },
   "outputs": [
    {
     "data": {
      "text/plain": [
       "(1, 50)"
      ]
     },
     "execution_count": 872,
     "metadata": {},
     "output_type": "execute_result"
    }
   ],
   "source": [
    "best_prior_state_idx.shape"
   ]
  },
  {
   "cell_type": "code",
   "execution_count": 873,
   "metadata": {
    "collapsed": false
   },
   "outputs": [
    {
     "data": {
      "text/plain": [
       "array([[0, 0, 2, 2, 0, 2, 0, 2, 0, 2, 2, 0, 0, 2, 2, 2, 0, 2, 2, 0, 0, 0,\n",
       "        0, 0, 0, 2, 2, 2, 2, 0, 2, 0, 0, 2, 0, 0, 0, 0, 0, 0, 2, 2, 2, 2,\n",
       "        0, 2, 0, 2, 0, 2]])"
      ]
     },
     "execution_count": 873,
     "metadata": {},
     "output_type": "execute_result"
    }
   ],
   "source": [
    "best_prior_state_idx"
   ]
  },
  {
   "cell_type": "code",
   "execution_count": 773,
   "metadata": {
    "collapsed": true
   },
   "outputs": [],
   "source": [
    "best_prior_state = particles[best_prior_state_idx][0]  # (n, 2)"
   ]
  },
  {
   "cell_type": "code",
   "execution_count": null,
   "metadata": {
    "collapsed": true
   },
   "outputs": [],
   "source": []
  },
  {
   "cell_type": "code",
   "execution_count": null,
   "metadata": {
    "collapsed": true
   },
   "outputs": [],
   "source": []
  },
  {
   "cell_type": "code",
   "execution_count": 774,
   "metadata": {
    "collapsed": false
   },
   "outputs": [
    {
     "data": {
      "text/plain": [
       "(50, 2)"
      ]
     },
     "execution_count": 774,
     "metadata": {},
     "output_type": "execute_result"
    }
   ],
   "source": [
    "best_prior_state.shape"
   ]
  },
  {
   "cell_type": "code",
   "execution_count": 780,
   "metadata": {
    "collapsed": true
   },
   "outputs": [],
   "source": [
    "viterbi_trellis.append(best_prior_state)"
   ]
  },
  {
   "cell_type": "code",
   "execution_count": 781,
   "metadata": {
    "collapsed": true
   },
   "outputs": [],
   "source": [
    "viterbi_trellis_idx.append(best_prior_state_idx)"
   ]
  },
  {
   "cell_type": "code",
   "execution_count": null,
   "metadata": {
    "collapsed": false
   },
   "outputs": [],
   "source": []
  },
  {
   "cell_type": "code",
   "execution_count": 664,
   "metadata": {
    "collapsed": false
   },
   "outputs": [],
   "source": [
    "# Sample new particles\n",
    "new_particles_idx = np.random.choice(a=range(sampled_states.shape[0]), \n",
    "                                     size=n, \n",
    "                                     p=sensor_probs.flatten())  # (1, n)"
   ]
  },
  {
   "cell_type": "code",
   "execution_count": 666,
   "metadata": {
    "collapsed": true
   },
   "outputs": [],
   "source": [
    "new_particles = sampled_states[new_particles_idx]  # (n, 2)"
   ]
  },
  {
   "cell_type": "code",
   "execution_count": 749,
   "metadata": {
    "collapsed": true
   },
   "outputs": [],
   "source": [
    "particles = new_particles"
   ]
  },
  {
   "cell_type": "code",
   "execution_count": 750,
   "metadata": {
    "collapsed": true
   },
   "outputs": [],
   "source": [
    "# Estimate current particle filter fit quality of hypotheses to data; should research good metrics more.\n",
    "    # Came up with this on my own. \n",
    "fit_quality = [np.max(weights), np.mean(weights), np.median(weights)]"
   ]
  },
  {
   "cell_type": "code",
   "execution_count": 751,
   "metadata": {
    "collapsed": false
   },
   "outputs": [
    {
     "data": {
      "text/plain": [
       "[0.0032343141665107955, 8.015634433554048e-05, 2.8602818874616793e-174]"
      ]
     },
     "execution_count": 751,
     "metadata": {},
     "output_type": "execute_result"
    }
   ],
   "source": [
    "fit_quality"
   ]
  },
  {
   "cell_type": "code",
   "execution_count": 490,
   "metadata": {
    "collapsed": true
   },
   "outputs": [],
   "source": []
  },
  {
   "cell_type": "code",
   "execution_count": null,
   "metadata": {
    "collapsed": true
   },
   "outputs": [],
   "source": []
  },
  {
   "cell_type": "code",
   "execution_count": null,
   "metadata": {
    "collapsed": true
   },
   "outputs": [],
   "source": [
    "# def update_dist(obs, num_iter, max_dist2=None):\n",
    "\"\"\"\n",
    "Re-sample particles from transition model given re-estimated likelihood of existing particles.\n",
    "Weighted sample with replacement. \n",
    "\n",
    "numpy array of floats [lat, long, dist_from_prev_m, time_delta_sec]\n",
    "\n",
    "Note: if find no solutions, need to remove points in a signal break until HMM 'heals.'\n",
    "If break > 180 sec, separate into two trips.\n",
    "\"\"\"\n",
    "# Update stored obs\n",
    "obs_coords = obs[['lat', 'long']] # obs[:2]\n",
    "dist_prev, time_delta_prev = obs[['dist_from_prev_m', 'time_delta_sec']] # obs[2:]\n",
    "obs_history.append(obs_coords)\n",
    "# Get candidate roads given obs\n",
    "candidate_roads = get_candidate_roads(obs_coords) # ignore distance\n",
    "# What if candidate_roads is empty?? Then, seems logical to return No Match, and abort. \n",
    "if candidate_roads is None:\n",
    "    return 'Aborted'\n",
    "# Get transition probs; for first observation, ignore this part of the algorithm \n",
    "# and treat sensor probs as prior probabilities (N&K.\n",
    "if num_iter > 1:\n",
    "    trans_probs = apply_transition_model(candidate_roads, \n",
    "                                              dist_prev, \n",
    "                                              time_delta_prev) # (n * c, 1) first n rows for first candidate, etc.\n",
    "    # Aggregate probs by candidate roads\n",
    "    trans_probs_split = np.array(np.split(trans_probs, n, axis=0))  # (n, c, 1)\n",
    "    trans_probs_agg = np.sum(trans_probs_split, axis=0)  # (c, 1)\n",
    "    # Sample new states\n",
    "    # Sample new states\n",
    "    sampled_states_idx = np.random.choice(range(len(candidate_roads)), \n",
    "                                      n, \n",
    "                                      list(trans_probs_agg.flatten()))  # (n, )\n",
    "    sampled_states = candidate_roads[sampled_states_idx]  # (n, 2)\n",
    "else:\n",
    "    sampled_states = candidate_roads\n",
    "\n",
    "# Get sensor probs\n",
    "sensor_probs = estimate_weights_per_particle(sampled_states, obs_coords)  # (n, 1)\n",
    "\n",
    "# Joint prob, for viterbi backtracking. \n",
    "if num_iter > 1:\n",
    "    joint_prob = np.multiply(\n",
    "        np.multiply(sensor_probs, np.max(trans_probs_split, axis=0)[sampled_states_idx]),  # (n, 1)\n",
    "        weights\n",
    "        )\n",
    "# else:\n",
    "#     joint_prob = sensor_probs\n",
    "# weights = joint_prob  # Effectively setting prior probabilites in iter 1\n",
    "\n",
    "# Sample new particles\n",
    "new_particles_idx = np.random.choice(a=range(sampled_states.shape[0]), \n",
    "                                     size=n, \n",
    "                                     p=sensor_probs.flatten())  # (1, n) if not iter 1 else (1, c) \n",
    "new_particles = sampled_states[new_particles_idx]  # (n, 2)\n",
    "\n",
    "# Best prior state/particle for a given candidate state, for viterbi backtracking. \n",
    "if num_iter > 1:\n",
    "    best_prior_state_idx = \\\n",
    "    pd.DataFrame(trans_probs).loc[np.array([(np.array([sampled_states_idx[new_particles_idx]]) + \n",
    "                                         len(candidate_roads) * (i - 1)) \n",
    "                                        for i in range(1, (n + 1))]).flatten(), :\n",
    "                             ].groupby([0])[1].idxmax().values.reshape(1, -1) # (1, n)\n",
    "    best_prior_state_idx = best_prior_state_idx % len(candidate_roads)  # get back to particle-space\n",
    "    best_prior_state = particles[best_prior_state_idx][0]  # (n, 2)\n",
    "    viterbi_trellis.append(best_prior_state)\n",
    "    viterbi_trellis_idx.append(best_prior_state_idx)\n",
    "else:\n",
    "    joint_prob = sensor_probs[new_particles_idx]  # Effectively setting prior probabilites in iter 1\n",
    "    \n",
    "weights = joint_prob\n",
    "\n",
    "particles = new_particles\n",
    "\n",
    "# Estimate current particle filter fit quality of hypotheses to data; should research good metrics more.\n",
    "    # Came up with this on my own. \n",
    "fit_quality = [np.max(weights), np.mean(weights), np.median(weights)]\n",
    "\n",
    "return fit_quality"
   ]
  },
  {
   "cell_type": "code",
   "execution_count": 646,
   "metadata": {
    "collapsed": false
   },
   "outputs": [],
   "source": [
    "num_iter = 0\n",
    "converged = False"
   ]
  },
  {
   "cell_type": "code",
   "execution_count": 647,
   "metadata": {
    "collapsed": false
   },
   "outputs": [
    {
     "data": {
      "text/html": [
       "<div>\n",
       "<style scoped>\n",
       "    .dataframe tbody tr th:only-of-type {\n",
       "        vertical-align: middle;\n",
       "    }\n",
       "\n",
       "    .dataframe tbody tr th {\n",
       "        vertical-align: top;\n",
       "    }\n",
       "\n",
       "    .dataframe thead th {\n",
       "        text-align: right;\n",
       "    }\n",
       "</style>\n",
       "<table border=\"1\" class=\"dataframe\">\n",
       "  <thead>\n",
       "    <tr style=\"text-align: right;\">\n",
       "      <th></th>\n",
       "      <th>lat</th>\n",
       "      <th>long</th>\n",
       "      <th>lat_prev</th>\n",
       "      <th>long_prev</th>\n",
       "      <th>dist_from_prev_m</th>\n",
       "      <th>time_delta_sec</th>\n",
       "    </tr>\n",
       "  </thead>\n",
       "  <tbody>\n",
       "    <tr>\n",
       "      <th>0</th>\n",
       "      <td>37.75134</td>\n",
       "      <td>-122.39488</td>\n",
       "      <td>NaN</td>\n",
       "      <td>NaN</td>\n",
       "      <td>NaN</td>\n",
       "      <td>NaN</td>\n",
       "    </tr>\n",
       "    <tr>\n",
       "      <th>1</th>\n",
       "      <td>37.75136</td>\n",
       "      <td>-122.39527</td>\n",
       "      <td>37.75134</td>\n",
       "      <td>-122.39488</td>\n",
       "      <td>34.360479</td>\n",
       "      <td>-28.0</td>\n",
       "    </tr>\n",
       "    <tr>\n",
       "      <th>2</th>\n",
       "      <td>37.75199</td>\n",
       "      <td>-122.39460</td>\n",
       "      <td>37.75136</td>\n",
       "      <td>-122.39527</td>\n",
       "      <td>91.527346</td>\n",
       "      <td>-119.0</td>\n",
       "    </tr>\n",
       "    <tr>\n",
       "      <th>3</th>\n",
       "      <td>37.75080</td>\n",
       "      <td>-122.39346</td>\n",
       "      <td>37.75199</td>\n",
       "      <td>-122.39460</td>\n",
       "      <td>165.996049</td>\n",
       "      <td>-51.0</td>\n",
       "    </tr>\n",
       "    <tr>\n",
       "      <th>4</th>\n",
       "      <td>37.75015</td>\n",
       "      <td>-122.39256</td>\n",
       "      <td>37.75080</td>\n",
       "      <td>-122.39346</td>\n",
       "      <td>107.168918</td>\n",
       "      <td>-252.0</td>\n",
       "    </tr>\n",
       "  </tbody>\n",
       "</table>\n",
       "</div>"
      ],
      "text/plain": [
       "        lat       long  lat_prev  long_prev  dist_from_prev_m  time_delta_sec\n",
       "0  37.75134 -122.39488       NaN        NaN               NaN             NaN\n",
       "1  37.75136 -122.39527  37.75134 -122.39488         34.360479           -28.0\n",
       "2  37.75199 -122.39460  37.75136 -122.39527         91.527346          -119.0\n",
       "3  37.75080 -122.39346  37.75199 -122.39460        165.996049           -51.0\n",
       "4  37.75015 -122.39256  37.75080 -122.39346        107.168918          -252.0"
      ]
     },
     "execution_count": 647,
     "metadata": {},
     "output_type": "execute_result"
    }
   ],
   "source": [
    "data.head()"
   ]
  },
  {
   "cell_type": "code",
   "execution_count": 673,
   "metadata": {
    "collapsed": false
   },
   "outputs": [],
   "source": [
    "obs = data.iloc[1, :]"
   ]
  },
  {
   "cell_type": "code",
   "execution_count": 368,
   "metadata": {
    "collapsed": false
   },
   "outputs": [
    {
     "data": {
      "text/plain": [
       "lat                  37.751360\n",
       "long               -122.395270\n",
       "lat_prev             37.751340\n",
       "long_prev          -122.394880\n",
       "dist_from_prev_m     34.360479\n",
       "time_delta_sec      -28.000000\n",
       "Name: 1, dtype: float64"
      ]
     },
     "execution_count": 368,
     "metadata": {},
     "output_type": "execute_result"
    }
   ],
   "source": [
    "obs"
   ]
  },
  {
   "cell_type": "code",
   "execution_count": 674,
   "metadata": {
    "collapsed": true
   },
   "outputs": [],
   "source": [
    "num_iter += 1"
   ]
  },
  {
   "cell_type": "code",
   "execution_count": null,
   "metadata": {
    "collapsed": true
   },
   "outputs": [],
   "source": [
    "# def fit(data#, max_iter=100, conv_tol=0.001\n",
    "#            ):\n",
    "\"\"\"\n",
    "Iterate over rows in data, training particle filter. \n",
    "Rows assumed to be sequentially ordered. \n",
    "\n",
    "data, numpy array (num obs, data dim)\n",
    "data cols include lat, long, dist_from_prev_m, time_delta_sec (all floats)\n",
    "\n",
    "Note, calling fit multiple times would result in nonsense results, so this is prevented. \n",
    "\"\"\"\n",
    "if fitted:\n",
    "    print(\"Already fit - Cannot fit multiple times.\")\n",
    "    return None\n",
    "data = data.copy()\n",
    "num_iter = 0\n",
    "converged = False  # Is this relevant for particle filters?\n",
    "#         while num_iter < max_iter and not converged:\n",
    "#             num_iter += 1\n",
    "for obs in data:\n",
    "    num_iter += 1\n",
    "    fit_quality = update_dist(obs, num_iter)\n",
    "    if fit_quality == \"Aborted\":\n",
    "        return \"Aborted\"\n",
    "    # Shouldn't I use DP/Viterbi for this?? \n",
    "    # Nearest neighbor filter, hungarian algorithm?? p. 601\n",
    "    # Best at any given point in time will suffer in the beginning before particle dist has converged, ie\n",
    "    # during the burn-in period.\n",
    "    # So, seems can still use DP, but proceed backward in time. Wait, that is Viterbi :) \n",
    "        # Happily I have a finite state space. \n",
    "    print(\"On iteration %d, fit quality of MAX %3.2f, MEAN %3.2f, MEDIAN %3.2f\" % \n",
    "          (num_iter, fit_quality[0], fit_quality[1], fit_quality[2]))\n",
    "print(\"Done.\")\n",
    "fitted = True\n",
    "return fit_quality"
   ]
  },
  {
   "cell_type": "code",
   "execution_count": null,
   "metadata": {
    "collapsed": true
   },
   "outputs": [],
   "source": []
  },
  {
   "cell_type": "code",
   "execution_count": 783,
   "metadata": {
    "collapsed": true
   },
   "outputs": [],
   "source": [
    "best_last_state_idx = np.argmax(weights)"
   ]
  },
  {
   "cell_type": "code",
   "execution_count": 784,
   "metadata": {
    "collapsed": false
   },
   "outputs": [
    {
     "data": {
      "text/plain": [
       "35"
      ]
     },
     "execution_count": 784,
     "metadata": {},
     "output_type": "execute_result"
    }
   ],
   "source": [
    "best_last_state_idx"
   ]
  },
  {
   "cell_type": "code",
   "execution_count": 785,
   "metadata": {
    "collapsed": true
   },
   "outputs": [],
   "source": [
    "best_last_state = particles[best_last_state_idx]"
   ]
  },
  {
   "cell_type": "code",
   "execution_count": 786,
   "metadata": {
    "collapsed": false
   },
   "outputs": [
    {
     "data": {
      "text/plain": [
       "array([  37.75134205, -122.39485713])"
      ]
     },
     "execution_count": 786,
     "metadata": {},
     "output_type": "execute_result"
    }
   ],
   "source": [
    "best_last_state"
   ]
  },
  {
   "cell_type": "code",
   "execution_count": 787,
   "metadata": {
    "collapsed": true
   },
   "outputs": [],
   "source": [
    "backtracked_states = [best_last_state]"
   ]
  },
  {
   "cell_type": "code",
   "execution_count": 788,
   "metadata": {
    "collapsed": false
   },
   "outputs": [
    {
     "data": {
      "text/plain": [
       "[array([  37.75134205, -122.39485713])]"
      ]
     },
     "execution_count": 788,
     "metadata": {},
     "output_type": "execute_result"
    }
   ],
   "source": [
    "backtracked_states"
   ]
  },
  {
   "cell_type": "code",
   "execution_count": 790,
   "metadata": {
    "collapsed": true
   },
   "outputs": [],
   "source": [
    "j=len(viterbi_trellis) - 1"
   ]
  },
  {
   "cell_type": "code",
   "execution_count": 791,
   "metadata": {
    "collapsed": false
   },
   "outputs": [
    {
     "data": {
      "text/plain": [
       "1"
      ]
     },
     "execution_count": 791,
     "metadata": {},
     "output_type": "execute_result"
    }
   ],
   "source": [
    "j"
   ]
  },
  {
   "cell_type": "code",
   "execution_count": 800,
   "metadata": {
    "collapsed": false
   },
   "outputs": [
    {
     "data": {
      "text/plain": [
       "(1, 50)"
      ]
     },
     "execution_count": 800,
     "metadata": {},
     "output_type": "execute_result"
    }
   ],
   "source": [
    "viterbi_trellis_idx[j].shape"
   ]
  },
  {
   "cell_type": "code",
   "execution_count": 805,
   "metadata": {
    "collapsed": false
   },
   "outputs": [],
   "source": [
    "best_last_state_idx = viterbi_trellis_idx[j].flatten()[best_last_state_idx]"
   ]
  },
  {
   "cell_type": "code",
   "execution_count": 806,
   "metadata": {
    "collapsed": false
   },
   "outputs": [
    {
     "data": {
      "text/plain": [
       "0"
      ]
     },
     "execution_count": 806,
     "metadata": {},
     "output_type": "execute_result"
    }
   ],
   "source": [
    "best_last_state_idx"
   ]
  },
  {
   "cell_type": "code",
   "execution_count": 807,
   "metadata": {
    "collapsed": true
   },
   "outputs": [],
   "source": [
    "best_last_state = viterbi_trellis[j][best_last_state_idx]"
   ]
  },
  {
   "cell_type": "code",
   "execution_count": 808,
   "metadata": {
    "collapsed": false
   },
   "outputs": [
    {
     "data": {
      "text/plain": [
       "array([  37.75134205, -122.39485713])"
      ]
     },
     "execution_count": 808,
     "metadata": {},
     "output_type": "execute_result"
    }
   ],
   "source": [
    "best_last_state"
   ]
  },
  {
   "cell_type": "code",
   "execution_count": 809,
   "metadata": {
    "collapsed": true
   },
   "outputs": [],
   "source": [
    "backtracked_states.append(best_last_state)"
   ]
  },
  {
   "cell_type": "code",
   "execution_count": 810,
   "metadata": {
    "collapsed": false
   },
   "outputs": [
    {
     "data": {
      "text/plain": [
       "[array([  37.75134205, -122.39485713]), array([  37.75134205, -122.39485713])]"
      ]
     },
     "execution_count": 810,
     "metadata": {},
     "output_type": "execute_result"
    }
   ],
   "source": [
    "backtracked_states"
   ]
  },
  {
   "cell_type": "code",
   "execution_count": 811,
   "metadata": {
    "collapsed": false
   },
   "outputs": [],
   "source": [
    "for j in range(len(viterbi_trellis) - 1, -1, -1):\n",
    "    best_last_state_idx = viterbi_trellis_idx[j].flatten()[best_last_state_idx]\n",
    "    best_last_state = viterbi_trellis[j][best_last_state_idx]\n",
    "    backtracked_states.append(best_last_state)"
   ]
  },
  {
   "cell_type": "code",
   "execution_count": 812,
   "metadata": {
    "collapsed": true
   },
   "outputs": [],
   "source": [
    "# Put in chronological order\n",
    "backtracked_states = backtracked_states[::-1]"
   ]
  },
  {
   "cell_type": "code",
   "execution_count": 814,
   "metadata": {
    "collapsed": false
   },
   "outputs": [
    {
     "data": {
      "text/plain": [
       "[array([  37.75134205, -122.39485713]),\n",
       " array([  37.75134205, -122.39485713]),\n",
       " array([  37.75134205, -122.39485713]),\n",
       " array([  37.75134205, -122.39485713])]"
      ]
     },
     "execution_count": 814,
     "metadata": {},
     "output_type": "execute_result"
    }
   ],
   "source": [
    "backtracked_states"
   ]
  },
  {
   "cell_type": "code",
   "execution_count": null,
   "metadata": {
    "collapsed": true
   },
   "outputs": [],
   "source": []
  },
  {
   "cell_type": "code",
   "execution_count": 839,
   "metadata": {
    "collapsed": true
   },
   "outputs": [],
   "source": [
    "def viterbi():\n",
    "    \"\"\"\n",
    "    Returns list of backtracked states (float lat long),\n",
    "    the imputed GPS trace that has been 'snapped' to roads.\n",
    "    Use Viterbi to get optimal path via DP - \n",
    "    happily I have a finite state space due to my constraint \n",
    "    to only maintain n particles. \n",
    "\n",
    "    Note1, Viterbi relies on the Markov property, which\n",
    "    can apply here. \n",
    "    Note2, if particle filter was aborted due to no matching candidate roads,\n",
    "    Viterbi will still be able to backtrack the trace up until that point. \n",
    "    \"\"\"\n",
    "    # Start with the last observation to the viterbi trellis\n",
    "    best_last_state_idx = np.argmax(weights)\n",
    "    best_last_state = particles[best_last_state_idx]\n",
    "    backtracked_states = [best_last_state]\n",
    "    # Backtrack through the viterbi trellis (#obs, n, 2) actual lat/long states\n",
    "    for j in range(len(viterbi_trellis) - 1, -1, -1):\n",
    "        best_last_state_idx = viterbi_trellis_idx[j].flatten()[best_last_state_idx]\n",
    "        best_last_state = viterbi_trellis[j][best_last_state_idx]\n",
    "        backtracked_states.append(best_last_state)\n",
    "    # Put in chronological order\n",
    "    backtracked_states = backtracked_states[::-1]\n",
    "    return backtracked_states"
   ]
  },
  {
   "cell_type": "code",
   "execution_count": null,
   "metadata": {
    "collapsed": true
   },
   "outputs": [],
   "source": []
  },
  {
   "cell_type": "code",
   "execution_count": null,
   "metadata": {
    "collapsed": true
   },
   "outputs": [],
   "source": [
    "# END DEBUGGING"
   ]
  },
  {
   "cell_type": "code",
   "execution_count": 159,
   "metadata": {
    "collapsed": false
   },
   "outputs": [
    {
     "data": {
      "text/plain": [
       "array([ 0,  1,  2,  3,  4,  5,  6,  7,  8,  9, 10, 11, 12, 13, 14])"
      ]
     },
     "execution_count": 159,
     "metadata": {},
     "output_type": "execute_result"
    }
   ],
   "source": [
    "np.array(range(5*3))"
   ]
  },
  {
   "cell_type": "code",
   "execution_count": 187,
   "metadata": {
    "collapsed": false
   },
   "outputs": [
    {
     "data": {
      "text/plain": [
       "array([0, 1, 2, 3, 4, 0, 1, 2, 3, 4, 0, 1, 2, 3, 4])"
      ]
     },
     "execution_count": 187,
     "metadata": {},
     "output_type": "execute_result"
    }
   ],
   "source": [
    "np.array([i for i in range(5)] * 3)"
   ]
  },
  {
   "cell_type": "code",
   "execution_count": 161,
   "metadata": {
    "collapsed": false
   },
   "outputs": [
    {
     "data": {
      "text/plain": [
       "array([0, 0, 0, 1, 1, 1, 2, 2, 2, 3, 3, 3, 4, 4, 4])"
      ]
     },
     "execution_count": 161,
     "metadata": {},
     "output_type": "execute_result"
    }
   ],
   "source": [
    "np.array([j for l in [[i]*3 for i in range(0,5)] for j in l])"
   ]
  },
  {
   "cell_type": "code",
   "execution_count": 175,
   "metadata": {
    "collapsed": false
   },
   "outputs": [
    {
     "data": {
      "text/plain": [
       "array([[ 0,  0],\n",
       "       [ 0,  1],\n",
       "       [ 0,  2],\n",
       "       [ 1,  3],\n",
       "       [ 1,  4],\n",
       "       [ 1,  5],\n",
       "       [ 2,  6],\n",
       "       [ 2,  7],\n",
       "       [ 2,  8],\n",
       "       [ 3,  9],\n",
       "       [ 3, 10],\n",
       "       [ 3, 11],\n",
       "       [ 4, 12],\n",
       "       [ 4, 13],\n",
       "       [ 4, 14]])"
      ]
     },
     "execution_count": 175,
     "metadata": {},
     "output_type": "execute_result"
    }
   ],
   "source": [
    "np.concatenate((np.array([j for l in [[i]*3 for i in range(0,5)] for j in l]).reshape(15,1),\n",
    "                np.array(range(5*3)).reshape(15,1)\n",
    "               ), axis=1\n",
    "              )"
   ]
  },
  {
   "cell_type": "code",
   "execution_count": null,
   "metadata": {
    "collapsed": true
   },
   "outputs": [],
   "source": []
  },
  {
   "cell_type": "code",
   "execution_count": 502,
   "metadata": {
    "collapsed": true
   },
   "outputs": [],
   "source": []
  },
  {
   "cell_type": "code",
   "execution_count": 322,
   "metadata": {
    "collapsed": true
   },
   "outputs": [],
   "source": [
    "class particle_filter:\n",
    "    \"\"\"\n",
    "    Fit a particle filter to data given a transition and sensor model. \n",
    "    \n",
    "    n, integer, number of particles to maintain at each step in time.\n",
    "    max_road_dist_m, float, max road distance above which candidate roads aren't considered (meters). \n",
    "    prob_floor, float between 0 and 1, min probability below which candidate roads aren't considered (not in N&K).\n",
    "    Sensor model, , is some model object we will use to predict the likelihood.\n",
    "    Transition model, , is some model object we will use to predict next state.\n",
    "    ## max_iter, integer, the maximum iterations used in fitting the particle filter.\n",
    "    ## conv_tol, the convergence tolerance that will trigger early termination of fitting the particle filter. \n",
    "    \"\"\"\n",
    "    def __init__(self, road_strtree, n=50, max_road_dist_m=200, prob_floor=0.0, \n",
    "                 sensor_model=gps_sensor_model(), transition_model=gps_transition_model(), \n",
    "                 viterbi_trellis=[], viterbi_trellis_idx=[]):\n",
    "        self.road_strtree = road_strtree\n",
    "        self.n = n\n",
    "        self.max_road_dist_m = max_road_dist_m\n",
    "        self.prob_floor = min(max(prob_floor, 0), 1)\n",
    "        self.particles = np.array([])\n",
    "        self.weights = np.zeros((1, self.n))  # Log-transform probabilities\n",
    "        \n",
    "        self.sensor_model = sensor_model\n",
    "        self.transition_model = transition_model\n",
    "        self.viterbi_trellis = viterbi_trellis  # list of particle np arrays\n",
    "        self.viterbi_trellis_idx = viterbi_trellis_idx  # list of np arrays, columns candidate road indices, particle indices\n",
    "        \n",
    "        self.fitted = False\n",
    "        \n",
    "        self.obs_history = []  # Record history of observations (lat, long)\n",
    "        \n",
    "    def get_candidate_roads(self, obs):\n",
    "        \"\"\"\n",
    "        obs list of floats [lat, long]\n",
    "        max_dist maximum allowable closest distance for prospective matched roads; those whose \n",
    "        closest point is >= max_dist meters away are ignored (200 in N&K).\n",
    "        Returns numpy array float of lat,long closest point to road from obs (N&K).\n",
    "\n",
    "        Leverages shapely and shapefiles for cabspotting data.\n",
    "        Relies on great_circle_dist() helper function. \n",
    "        \"\"\"\n",
    "        # Fiona uses (long, lat) format\n",
    "        obs = Point(obs[::-1])\n",
    "        # Want to consider only matches within max_dist meters\n",
    "        # Need to transform decimal degrees into meters\n",
    "        # Should I deviate from the default value of buffer for a Point??\n",
    "        # According to 200 * 360 / (2 * np.pi * 6371000), a distance of 200m corresponds to 0.0017986432118374611 decimal degrees\n",
    "        # obs.buffer(1.0)\n",
    "        matching_roads = self.road_strtree.query(obs.buffer(0.002))\n",
    "        if len(matching_roads) == 0:\n",
    "            matching_roads = self.road_strtree.query(obs.buffer(1.0))  # This should be a big buffer\n",
    "        # If matching roads is still empty, return None\n",
    "        if len(matching_roads) == 0:\n",
    "            print(\"No matching roads found! Aborting particle filter.\")\n",
    "            return None\n",
    "        # Ordered as (obs, road); just take road's coords\n",
    "        # Take only the closest point on the candidate road (1st index)\n",
    "        closest_pts = np.array([[list(p.coords)[0] for p in nearest_points(obs, r)][1] for r in matching_roads])\n",
    "        # Calculate distance between obs and candidate_roads, to filter them\n",
    "        candidate_dist_coords = \\\n",
    "        np.concatenate([closest_pts, np.tile(np.array(obs), (closest_pts.shape[0], 1))], axis=1)\n",
    "        # Convert back to lat, long from long, lat\n",
    "        candidate_dist_coords = candidate_dist_coords[:, [1, 0, 3, 2]]\n",
    "        candidate_dists = great_circle_dist(candidate_dist_coords)\n",
    "        # Filtered result of closest point on matching candidate roads\n",
    "        # no. matches 2 (default buffer); 52 (buffer of 0.002); 74 (buffer of 1.0)\n",
    "            # Reverse order to be lat, long\n",
    "        candidate_roads = closest_pts[candidate_dists <= self.max_road_dist_m][:, [1,0]]\n",
    "        if len(candidate_roads) == 0:\n",
    "            print(\"No matching roads found within max road distance! Aborting particle filter.\")\n",
    "            return None\n",
    "        return candidate_roads\n",
    "    \n",
    "    def estimate_weights_per_particle(self, sampled_states, obs_coords):\n",
    "        \"\"\"\n",
    "        Estimate likelihood of particle given evidence, P(evidence|particle).\n",
    "        Uses sensor model.\n",
    "        \n",
    "        obs_coords is single observation at time t, pandas series. \n",
    "        \"\"\"\n",
    "        probs = self.sensor_model.estimate_likelihood(sampled_states, obs_coords.values.reshape(1, 2))\n",
    "        return probs\n",
    "        \n",
    "    def apply_transition_model(self, candidate_roads, dist_prev, time_delta_prev):\n",
    "        \"\"\"\n",
    "        returns probabilities of transition, given current particles\n",
    "        numpy array of floats between 0 and 1, normalized, (n * c, 1)\n",
    "        \n",
    "        candidate_roads numpy array float of lat,long closest point to road from obs (N&K)\n",
    "        dist_prev float, meters\n",
    "        time_delta_prev float, sec\n",
    "        \n",
    "        Zeroize very small probability candidates, but don't change shape of particles.\n",
    "        Then, if some particles are very unlikely, we cull them and resample from more likely particles. \n",
    "        \"\"\"\n",
    "        # Crossproduct for each particle, all roads\n",
    "        state_last2 = np.concatenate([np.concatenate((self.particles, \n",
    "                                                      np.tile(c, (self.n, 1))), \n",
    "                                                     axis=1) \n",
    "                                      for c in candidate_roads], axis=0)  # (n * c, 4)\n",
    "        obs_last2 = np.array(self.obs_history[-2:]).reshape((1, 4))\n",
    "        probs = self.transition_model.prob_transition(state_last2, obs_last2, \n",
    "                                                      dist_prev, time_delta_prev)  # (n * c, 1)\n",
    "        # Effectively, candidate roads will be possible from different original particle hypotheses\n",
    "        # Zeroise small probs, without changing array shape\n",
    "        probs[probs <= self.prob_floor] = 0.0\n",
    "        # Re-normalize\n",
    "        probs = probs / np.sum(probs)\n",
    "        return probs\n",
    "        \n",
    "    def update_dist(self, obs, num_iter, max_dist2=None):\n",
    "        \"\"\"\n",
    "        Re-sample particles from transition model given re-estimated likelihood of existing particles.\n",
    "        Weighted sample with replacement. \n",
    "        \n",
    "        obs numpy array of floats [lat, long, dist_from_prev_m, time_delta_sec]\n",
    "        num_iter integer, iteration count\n",
    "        max_dist2 not used\n",
    "\n",
    "        Note: if find no solutions, need to remove points in a signal break until HMM 'heals.'\n",
    "        If break > 180 sec, separate into two trips.\n",
    "        \"\"\"\n",
    "        # Update stored obs\n",
    "        obs_coords = obs[['lat', 'long']] # obs[:2]\n",
    "        dist_prev, time_delta_prev = obs[['dist_from_prev_m', 'time_delta_sec']] # obs[2:]\n",
    "        self.obs_history.append(obs_coords)\n",
    "        # Get candidate roads given obs\n",
    "        candidate_roads = self.get_candidate_roads(obs_coords) # ignore distance\n",
    "        # What if candidate_roads is empty?? Then, seems logical to return No Match, and abort. \n",
    "        if candidate_roads is None:\n",
    "            return 'Aborted'\n",
    "        # Get transition probs; for first observation, ignore this part of the algorithm \n",
    "        # and treat sensor probs as prior probabilities (N&K.\n",
    "        if num_iter > 1:\n",
    "            trans_probs = self.apply_transition_model(candidate_roads, \n",
    "                                                      dist_prev, \n",
    "                                                      time_delta_prev) # (n * c, 1) first n rows for first candidate, etc.\n",
    "            # Aggregate probs by candidate roads\n",
    "            trans_probs_split = np.array(np.split(trans_probs, self.n, axis=0))  # (n, c, 1)\n",
    "            trans_probs_agg = np.sum(trans_probs_split, axis=0)  # (c, 1)\n",
    "            # Sample new states\n",
    "            # Sample new states; index into candidate roads\n",
    "            sampled_states_idx = np.random.choice(range(len(candidate_roads)), \n",
    "                                                  self.n, \n",
    "                                                  list(trans_probs_agg.flatten()))  # (n, )\n",
    "            sampled_states = candidate_roads[sampled_states_idx]  # (n, 2)\n",
    "        else:\n",
    "            sampled_states = candidate_roads\n",
    "        \n",
    "        # Get sensor probs\n",
    "        sensor_probs = self.estimate_weights_per_particle(sampled_states, obs_coords)  # (n, 1) \n",
    "        \n",
    "        # Joint prob, for viterbi backtracking. Do this in the log domain.  \n",
    "        if num_iter > 1:\n",
    "            # May want to do this in the log domain?\n",
    "            joint_prob = np.add(\n",
    "                np.add(np.log(sensor_probs), np.max(np.log(trans_probs_split), axis=0)[sampled_states_idx]),  # (n, 1)\n",
    "                self.weights\n",
    "                )\n",
    "#         else:\n",
    "#             joint_prob = sensor_probs\n",
    "#         self.weights = joint_prob  # Effectively setting prior probabilites in iter 1\n",
    "        \n",
    "        # Sample new particles, from the n sampled states\n",
    "        new_particles_idx = np.random.choice(a=range(sampled_states.shape[0]), \n",
    "                                             size=self.n, \n",
    "                                             p=sensor_probs.flatten())  # (1, n) if not iter 1 else (1, c)\n",
    "        new_particles = sampled_states[new_particles_idx]  # (n, 2)\n",
    "        \n",
    "        # Best prior state/particle for a given candidate state, for viterbi backtracking. \n",
    "        if num_iter > 1:\n",
    "            # Tie together candidate road indices, particle indices, trans probs, and particles\n",
    "            trans_probs_stack = \\\n",
    "            np.concatenate((np.array([[i] * self.n for i in range(len(candidate_roads))]\n",
    "                                    ).reshape(len(candidate_roads) * self.n, 1), \n",
    "                            np.array([j for j in range(self.n)] * len(candidate_roads)\n",
    "                                    ).reshape(len(candidate_roads) * self.n, 1), \n",
    "                            trans_probs.reshape(len(candidate_roads) * self.n, 1),\n",
    "                            np.tile(self.particles, len(candidate_roads)).reshape(len(candidate_roads) * self.n, -1)\n",
    "                           ), axis=1)  # (n * c, 5)   cols: particle_id and transition probs\n",
    "            # For each candidate road, max-prob prev state.\n",
    "            # Given candidate roads are sampled...\n",
    "            trans_prob_idx = \\\n",
    "            np.array([(np.array([sampled_states_idx[new_particles_idx]]) + \n",
    "                                         len(candidate_roads) * (i - 1)) \n",
    "                                        for i in range(1, (self.n + 1))]).flatten()  # (n * c, 1)\n",
    "            # ...of sampled roads, which prior states are most likely?\n",
    "                # Not all roads may have been sampled.\n",
    "                # idxmax is in the range <= c.\n",
    "                # best_prior_state_idx is filtered particle indices\n",
    "            best_prior_state_idx = \\\n",
    "            pd.DataFrame(trans_probs_stack).loc[trans_prob_idx, :\n",
    "                             ].groupby([0])[2].idxmax().values.reshape(1, -1)  # (1, <= c)\n",
    "            # get back to particle-space\n",
    "#             best_prior_state = trans_probs_stack[best_prior_state_idx][0][:, -2:]  # (<= c, 2)\n",
    "            prior_particles = self.particles  # best_prior_state_idx indexes into self.particles\n",
    "            best_prior_state_idx = trans_probs_stack[best_prior_state_idx][0][:, :2]  # (<= c, 2); cand roads, particles\n",
    "#             best_prior_state_idx = math.floor(best_prior_state_idx / len(candidate_roads))\n",
    "#             best_prior_state = self.particles[best_prior_state_idx][0]  # (n, 2)\n",
    "            self.viterbi_trellis.append(prior_particles)\n",
    "            self.viterbi_trellis_idx.append(best_prior_state_idx)\n",
    "        else:\n",
    "            joint_prob = np.log(sensor_probs[new_particles_idx])  # Effectively setting prior probabilites in iter 1\n",
    "            \n",
    "        self.weights = joint_prob\n",
    "        \n",
    "        self.particles = new_particles\n",
    "        \n",
    "        # Estimate current particle filter fit quality of hypotheses to data; should research good metrics more.\n",
    "            # Came up with this on my own. \n",
    "        fit_quality = [np.max(self.weights), np.mean(self.weights), np.median(self.weights)]\n",
    "        \n",
    "        return fit_quality\n",
    "        \n",
    "    def fit(self, data#, max_iter=100, conv_tol=0.001\n",
    "           ):\n",
    "        \"\"\"\n",
    "        Iterate over rows in data, training particle filter. \n",
    "        Rows assumed to be sequentially ordered. \n",
    "        \n",
    "        data, numpy array: cols include lat, long, dist_from_prev_m, time_delta_sec (all floats).\n",
    "        lat, long in decimal degrees.\n",
    "        \n",
    "        Returns fit_quality, list of floats: max, mean, and median probability of most recent particles.\n",
    "        \n",
    "        Note, calling fit multiple times would result in nonsense results, so this is prevented. \n",
    "        \"\"\"\n",
    "        if self.fitted:\n",
    "            print(\"Already fit - Cannot fit multiple times.\")\n",
    "            return None\n",
    "        data = data.copy()\n",
    "        num_iter = 0\n",
    "        converged = False  # Is this relevant for particle filters?\n",
    "#         while num_iter < max_iter and not converged:\n",
    "#             num_iter += 1\n",
    "        for obs in data.iterrows():\n",
    "            num_iter += 1\n",
    "            fit_quality = self.update_dist(obs[1], num_iter)\n",
    "            if fit_quality == \"Aborted\":\n",
    "                return \"Aborted\"\n",
    "            # Shouldn't I use DP/Viterbi for this?? \n",
    "            # Nearest neighbor filter, hungarian algorithm?? p. 601\n",
    "            # Best at any given point in time will suffer in the beginning before particle dist has converged, ie\n",
    "            # during the burn-in period.\n",
    "            # So, seems can still use DP, but proceed backward in time. Wait, that is Viterbi :) \n",
    "                # Happily I have a finite state space. \n",
    "            print(\"On iteration %d, fit quality of MAX %3.2f, MEAN %3.2f, MEDIAN %3.2f\" % \n",
    "                  (num_iter, fit_quality[0], fit_quality[1], fit_quality[2]))\n",
    "        print(\"Done.\")\n",
    "        self.fitted = True\n",
    "        return fit_quality\n",
    "    \n",
    "    def viterbi(self):\n",
    "        \"\"\"\n",
    "        Returns list of backtracked states (float lat long),\n",
    "        the imputed GPS trace that has been 'snapped' to roads.\n",
    "        Use Viterbi to get optimal path via DP - \n",
    "        happily I have a finite state space due to my constraint \n",
    "        to only maintain n particles. \n",
    "        \n",
    "        Note1, Viterbi relies on the Markov property, which\n",
    "        can apply here. \n",
    "        Note2, if particle filter was aborted due to no matching candidate roads,\n",
    "        Viterbi will still be able to backtrack the trace up until that point. \n",
    "        \"\"\"\n",
    "        # Start with the last observation to the viterbi trellis\n",
    "        best_last_state_idx = np.argmax(self.weights)\n",
    "        best_last_state = self.particles[best_last_state_idx]\n",
    "        backtracked_states = [best_last_state]\n",
    "        # Backtrack through the viterbi trellis (#obs, n, 2) actual lat/long states\n",
    "        for j in range(len(self.viterbi_trellis) - 1, -1, -1):\n",
    "            # for that 'candidate road,' the particle index (col 1)\n",
    "            best_last_state_idx = int(self.viterbi_trellis_idx[j][best_last_state_idx, 1])\n",
    "            best_last_state = self.viterbi_trellis[j][best_last_state_idx]\n",
    "            backtracked_states.append(best_last_state)\n",
    "        # Put in chronological order\n",
    "        backtracked_states = backtracked_states[::-1]\n",
    "        return backtracked_states"
   ]
  },
  {
   "cell_type": "code",
   "execution_count": 226,
   "metadata": {
    "collapsed": false
   },
   "outputs": [],
   "source": [
    "n=5; candidate_roads=np.array([1,2,3]); particles=np.array([1,2,3,4,5]); trans_probs = np.array(range(15))"
   ]
  },
  {
   "cell_type": "code",
   "execution_count": 228,
   "metadata": {
    "collapsed": false
   },
   "outputs": [
    {
     "data": {
      "text/plain": [
       "(15, 1)"
      ]
     },
     "execution_count": 228,
     "metadata": {},
     "output_type": "execute_result"
    }
   ],
   "source": [
    "np.array([[i] * n for i in range(len(candidate_roads))]\n",
    "                                    ).reshape(len(candidate_roads) * n, 1).shape"
   ]
  },
  {
   "cell_type": "code",
   "execution_count": 229,
   "metadata": {
    "collapsed": false
   },
   "outputs": [
    {
     "data": {
      "text/plain": [
       "(15,)"
      ]
     },
     "execution_count": 229,
     "metadata": {},
     "output_type": "execute_result"
    }
   ],
   "source": [
    "np.array([j for j in range(n)] * len(candidate_roads)).flatten().shape"
   ]
  },
  {
   "cell_type": "code",
   "execution_count": 230,
   "metadata": {
    "collapsed": false
   },
   "outputs": [
    {
     "data": {
      "text/plain": [
       "(15,)"
      ]
     },
     "execution_count": 230,
     "metadata": {},
     "output_type": "execute_result"
    }
   ],
   "source": [
    "trans_probs.shape"
   ]
  },
  {
   "cell_type": "code",
   "execution_count": 231,
   "metadata": {
    "collapsed": false
   },
   "outputs": [
    {
     "data": {
      "text/plain": [
       "(15, 1)"
      ]
     },
     "execution_count": 231,
     "metadata": {},
     "output_type": "execute_result"
    }
   ],
   "source": [
    "np.tile(particles, len(candidate_roads)).reshape(len(candidate_roads) * n, -1).shape"
   ]
  },
  {
   "cell_type": "code",
   "execution_count": 234,
   "metadata": {
    "collapsed": false
   },
   "outputs": [],
   "source": [
    "trans_probs_stack = \\\n",
    "            np.concatenate((np.array([[i] * n for i in range(len(candidate_roads))]\n",
    "                                    ).reshape(len(candidate_roads) * n, 1), \n",
    "                            np.array([j for j in range(n)] * len(candidate_roads)).reshape(len(candidate_roads) * n, 1), \n",
    "                            trans_probs.reshape(len(candidate_roads) * n, 1),\n",
    "                            np.tile(particles, len(candidate_roads)).reshape(len(candidate_roads) * n, -1)\n",
    "                           ), axis=1)"
   ]
  },
  {
   "cell_type": "code",
   "execution_count": 235,
   "metadata": {
    "collapsed": false
   },
   "outputs": [
    {
     "data": {
      "text/plain": [
       "(15, 4)"
      ]
     },
     "execution_count": 235,
     "metadata": {},
     "output_type": "execute_result"
    }
   ],
   "source": [
    "trans_probs_stack.shape"
   ]
  },
  {
   "cell_type": "code",
   "execution_count": 314,
   "metadata": {
    "collapsed": false
   },
   "outputs": [
    {
     "data": {
      "text/plain": [
       "array([[ 0,  0,  0,  1],\n",
       "       [ 0,  1,  1,  2],\n",
       "       [ 0,  2,  2,  3],\n",
       "       [ 0,  3,  3,  4],\n",
       "       [ 0,  4,  4,  5],\n",
       "       [ 1,  0,  5,  1],\n",
       "       [ 1,  1,  6,  2],\n",
       "       [ 1,  2,  7,  3],\n",
       "       [ 1,  3,  8,  4],\n",
       "       [ 1,  4,  9,  5],\n",
       "       [ 2,  0, 10,  1],\n",
       "       [ 2,  1, 11,  2],\n",
       "       [ 2,  2, 12,  3],\n",
       "       [ 2,  3, 13,  4],\n",
       "       [ 2,  4, 14,  5]])"
      ]
     },
     "execution_count": 314,
     "metadata": {},
     "output_type": "execute_result"
    }
   ],
   "source": [
    "trans_probs_stack"
   ]
  },
  {
   "cell_type": "code",
   "execution_count": 315,
   "metadata": {
    "collapsed": false
   },
   "outputs": [
    {
     "data": {
      "text/plain": [
       "array([[2, 5]])"
      ]
     },
     "execution_count": 315,
     "metadata": {},
     "output_type": "execute_result"
    }
   ],
   "source": [
    "best_prior_state_idx"
   ]
  },
  {
   "cell_type": "code",
   "execution_count": 318,
   "metadata": {
    "collapsed": false
   },
   "outputs": [
    {
     "data": {
      "text/plain": [
       "array([[0, 2],\n",
       "       [1, 0]])"
      ]
     },
     "execution_count": 318,
     "metadata": {},
     "output_type": "execute_result"
    }
   ],
   "source": [
    "trans_probs_stack[best_prior_state_idx][0][:, :2]"
   ]
  },
  {
   "cell_type": "code",
   "execution_count": 320,
   "metadata": {
    "collapsed": false
   },
   "outputs": [
    {
     "data": {
      "text/plain": [
       "0"
      ]
     },
     "execution_count": 320,
     "metadata": {},
     "output_type": "execute_result"
    }
   ],
   "source": [
    "trans_probs_stack[best_prior_state_idx][0][:, :2][1, 1]"
   ]
  },
  {
   "cell_type": "code",
   "execution_count": 7,
   "metadata": {
    "collapsed": true
   },
   "outputs": [],
   "source": [
    "## it seems i only have beijing data (10K) or sf taxi data (500)\n",
    "# Read in taxi data\n",
    "# Each data of different length; ideal use case for pyspark\n",
    "# Note, the OSM extract basemap data has POI info as well (https://download.bbbike.org)\n",
    "# also try uber h3 spatial index\n",
    "trace_dir = '/Volumes/LaCie/datasets/ms_taxi/taxi_log_2008_by_id/roads.shp'   # MS Taxi\n",
    "basemap_dir = '/Volumes/LaCie/datasets/Beijing-shp/shape/'\n",
    "\n",
    "trace_dir = '/Volumes/LaCie/datasets/cabspottingdata/'   # CRAWDAD cabspotting\n",
    "basemap_dir = '/Volumes/LaCie/datasets/SanFrancisco-shp/shape/roads.shp'"
   ]
  },
  {
   "cell_type": "code",
   "execution_count": 8,
   "metadata": {
    "collapsed": false
   },
   "outputs": [
    {
     "name": "stdout",
     "output_type": "stream",
     "text": [
      "CPU times: user 2.73 ms, sys: 4.21 ms, total: 6.94 ms\n",
      "Wall time: 339 ms\n"
     ]
    }
   ],
   "source": [
    "%%time\n",
    "all_files = [f for f in os.listdir(trace_dir) if re.match(r'new_.*\\.txt', f)]  # glob.glob(trace_dir + \"new_*.txt\")"
   ]
  },
  {
   "cell_type": "code",
   "execution_count": 9,
   "metadata": {
    "collapsed": false
   },
   "outputs": [
    {
     "name": "stdout",
     "output_type": "stream",
     "text": [
      "CPU times: user 7.83 s, sys: 1.56 s, total: 9.39 s\n",
      "Wall time: 14.4 s\n"
     ]
    }
   ],
   "source": [
    "%%time\n",
    "# 20.9s cabspottingdata; can try spark or dask? or multiprocessing, joblib\n",
    "trace_list = []\n",
    "for file_ in all_files:\n",
    "    file_df = pd.read_csv(os.path.join(trace_dir, file_), sep=\" \", index_col=None, header=None, \n",
    "                          names=['lat', 'long', 'occupancy', 'time'])\n",
    "    trace_list.append(file_df)\n",
    "\n",
    "# concatenate all dfs into one\n",
    "trace_df = pd.concat(trace_list, ignore_index=True)"
   ]
  },
  {
   "cell_type": "code",
   "execution_count": 245,
   "metadata": {
    "collapsed": false
   },
   "outputs": [
    {
     "data": {
      "text/plain": [
       "'new_abboip.txt'"
      ]
     },
     "execution_count": 245,
     "metadata": {},
     "output_type": "execute_result"
    }
   ],
   "source": [
    "all_files[0]"
   ]
  },
  {
   "cell_type": "code",
   "execution_count": 246,
   "metadata": {
    "collapsed": true
   },
   "outputs": [],
   "source": [
    "# Just try one trace...\n",
    "trace_df = pd.read_csv(os.path.join(trace_dir, all_files[0]), sep=\" \", index_col=None, header=None, \n",
    "                       names=['lat', 'long', 'occupancy', 'time'])"
   ]
  },
  {
   "cell_type": "code",
   "execution_count": 247,
   "metadata": {
    "collapsed": true
   },
   "outputs": [],
   "source": [
    "trace_df.loc[:, [\"time\"]] = pd.to_datetime(trace_df.time, origin=\"unix\", unit='s')"
   ]
  },
  {
   "cell_type": "code",
   "execution_count": 11,
   "metadata": {
    "collapsed": false
   },
   "outputs": [
    {
     "data": {
      "text/plain": [
       "lat                 float64\n",
       "long                float64\n",
       "occupancy             int64\n",
       "time         datetime64[ns]\n",
       "dtype: object"
      ]
     },
     "execution_count": 11,
     "metadata": {},
     "output_type": "execute_result"
    }
   ],
   "source": [
    "\"\"\"\n",
    "cabspotting:\n",
    "\n",
    "latitude and longitude are in decimal degrees, \n",
    "occupancy shows if a cab has a fare (1 = occupied, 0 = free) and \n",
    "time is in UNIX epoch format\n",
    "\"\"\"\n",
    "trace_df.dtypes"
   ]
  },
  {
   "cell_type": "code",
   "execution_count": 248,
   "metadata": {
    "collapsed": false
   },
   "outputs": [
    {
     "data": {
      "text/html": [
       "<div>\n",
       "<style scoped>\n",
       "    .dataframe tbody tr th:only-of-type {\n",
       "        vertical-align: middle;\n",
       "    }\n",
       "\n",
       "    .dataframe tbody tr th {\n",
       "        vertical-align: top;\n",
       "    }\n",
       "\n",
       "    .dataframe thead th {\n",
       "        text-align: right;\n",
       "    }\n",
       "</style>\n",
       "<table border=\"1\" class=\"dataframe\">\n",
       "  <thead>\n",
       "    <tr style=\"text-align: right;\">\n",
       "      <th></th>\n",
       "      <th>lat</th>\n",
       "      <th>long</th>\n",
       "      <th>occupancy</th>\n",
       "      <th>time</th>\n",
       "    </tr>\n",
       "  </thead>\n",
       "  <tbody>\n",
       "    <tr>\n",
       "      <th>0</th>\n",
       "      <td>37.75134</td>\n",
       "      <td>-122.39488</td>\n",
       "      <td>0</td>\n",
       "      <td>2008-06-10 07:58:07</td>\n",
       "    </tr>\n",
       "    <tr>\n",
       "      <th>1</th>\n",
       "      <td>37.75136</td>\n",
       "      <td>-122.39527</td>\n",
       "      <td>0</td>\n",
       "      <td>2008-06-10 07:57:39</td>\n",
       "    </tr>\n",
       "    <tr>\n",
       "      <th>2</th>\n",
       "      <td>37.75199</td>\n",
       "      <td>-122.39460</td>\n",
       "      <td>0</td>\n",
       "      <td>2008-06-10 07:55:40</td>\n",
       "    </tr>\n",
       "    <tr>\n",
       "      <th>3</th>\n",
       "      <td>37.75080</td>\n",
       "      <td>-122.39346</td>\n",
       "      <td>0</td>\n",
       "      <td>2008-06-10 07:54:49</td>\n",
       "    </tr>\n",
       "    <tr>\n",
       "      <th>4</th>\n",
       "      <td>37.75015</td>\n",
       "      <td>-122.39256</td>\n",
       "      <td>0</td>\n",
       "      <td>2008-06-10 07:50:37</td>\n",
       "    </tr>\n",
       "  </tbody>\n",
       "</table>\n",
       "</div>"
      ],
      "text/plain": [
       "        lat       long  occupancy                time\n",
       "0  37.75134 -122.39488          0 2008-06-10 07:58:07\n",
       "1  37.75136 -122.39527          0 2008-06-10 07:57:39\n",
       "2  37.75199 -122.39460          0 2008-06-10 07:55:40\n",
       "3  37.75080 -122.39346          0 2008-06-10 07:54:49\n",
       "4  37.75015 -122.39256          0 2008-06-10 07:50:37"
      ]
     },
     "execution_count": 248,
     "metadata": {},
     "output_type": "execute_result"
    }
   ],
   "source": [
    "trace_df.head()"
   ]
  },
  {
   "cell_type": "code",
   "execution_count": null,
   "metadata": {
    "collapsed": true
   },
   "outputs": [],
   "source": [
    "# Load in ...shapefiles? GeoJSON? Which format is best? For parallelization may be one thing..."
   ]
  },
  {
   "cell_type": "code",
   "execution_count": null,
   "metadata": {
    "collapsed": true
   },
   "outputs": [],
   "source": []
  },
  {
   "cell_type": "code",
   "execution_count": 13,
   "metadata": {
    "collapsed": false
   },
   "outputs": [],
   "source": [
    "def preprocess_traces(df, sigma=4.07):\n",
    "    \"\"\"\n",
    "    pandas df, trace_df above with float columns lat, long in degrees\n",
    "    sigma float, representing std dev of measurement error (see above in particle filter class)\n",
    "    \n",
    "    \"The justification for this step is that until we see a point that is at least 2𝜎𝑧 \n",
    "    away from its temporal predecessor, our confidence is low that the apparent movement\n",
    "    is due to actual vehicle movement and not noise.\" (N&K)\n",
    "    \n",
    "    -remove obs that are not 2*meas dist sigma from previous obs  (eliminate 39% of data in N&K)\n",
    "    -Letting sigma = 4.07 meters as in N&K\n",
    "    \"\"\"\n",
    "    MILES_PER_METER = 0.000621371\n",
    "    HOURS_PER_SECOND = 3600.0\n",
    "    data = df.copy()\n",
    "    data[[\"lat_prev\", \"long_prev\"]] = data[[\"lat\", \"long\"]].shift(1)\n",
    "    # Ignore warning about invalid value in arcsin (nan)\n",
    "    data[\"dist_from_prev_m\"] = great_circle_dist(data[[\"lat_prev\", \"long_prev\", \"lat\", \"long\"]].values)  # 1.93 sec\n",
    "    # Add speed so can later filter on unreasonably high speeds\n",
    "    data[\"time_delta_sec\"] = data.time.subtract(data.time.shift(1)) / np.timedelta64(1, 's')  # get seconds\n",
    "    data[\"speed_mph\"] = (data.dist_from_prev_m * MILES_PER_METER).divide(data.time_delta_sec * HOURS_PER_SECOND)\n",
    "    # Take cumsum of dist\n",
    "    dist_cum = data.dist_from_prev_m.cumsum()\n",
    "    # Select points closest to multiples of 2*sigma, in cumsum dist\n",
    "    dist_cum_idx = dist_cum // (2 * sigma)\n",
    "    filter_idx = np.subtract(dist_cum_idx, dist_cum_idx.shift(1)) == 0  # 12% of rows eliminated \n",
    "    data = data[~filter_idx]\n",
    "    return data"
   ]
  },
  {
   "cell_type": "code",
   "execution_count": 249,
   "metadata": {
    "collapsed": false
   },
   "outputs": [
    {
     "name": "stdout",
     "output_type": "stream",
     "text": [
      "CPU times: user 26.5 ms, sys: 8.89 ms, total: 35.4 ms\n",
      "Wall time: 423 ms\n"
     ]
    },
    {
     "name": "stderr",
     "output_type": "stream",
     "text": [
      "/Volumes/LaCie/anaconda/envs/map_matching_particle_filter/lib/python3.7/site-packages/ipykernel/__main__.py:24: RuntimeWarning: invalid value encountered in arcsin\n"
     ]
    }
   ],
   "source": [
    "%%time\n",
    "# 11.8 s\n",
    "# Ignore RuntimeWarning: invalid value encountered in arcsin\n",
    "trace_df = preprocess_traces(trace_df)"
   ]
  },
  {
   "cell_type": "code",
   "execution_count": 250,
   "metadata": {
    "collapsed": false
   },
   "outputs": [
    {
     "data": {
      "text/html": [
       "<div>\n",
       "<style scoped>\n",
       "    .dataframe tbody tr th:only-of-type {\n",
       "        vertical-align: middle;\n",
       "    }\n",
       "\n",
       "    .dataframe tbody tr th {\n",
       "        vertical-align: top;\n",
       "    }\n",
       "\n",
       "    .dataframe thead th {\n",
       "        text-align: right;\n",
       "    }\n",
       "</style>\n",
       "<table border=\"1\" class=\"dataframe\">\n",
       "  <thead>\n",
       "    <tr style=\"text-align: right;\">\n",
       "      <th></th>\n",
       "      <th>lat</th>\n",
       "      <th>long</th>\n",
       "      <th>occupancy</th>\n",
       "      <th>time</th>\n",
       "      <th>lat_prev</th>\n",
       "      <th>long_prev</th>\n",
       "      <th>dist_from_prev_m</th>\n",
       "      <th>time_delta_sec</th>\n",
       "      <th>speed_mph</th>\n",
       "    </tr>\n",
       "  </thead>\n",
       "  <tbody>\n",
       "    <tr>\n",
       "      <th>0</th>\n",
       "      <td>37.75134</td>\n",
       "      <td>-122.39488</td>\n",
       "      <td>0</td>\n",
       "      <td>2008-06-10 07:58:07</td>\n",
       "      <td>NaN</td>\n",
       "      <td>NaN</td>\n",
       "      <td>NaN</td>\n",
       "      <td>NaN</td>\n",
       "      <td>NaN</td>\n",
       "    </tr>\n",
       "    <tr>\n",
       "      <th>1</th>\n",
       "      <td>37.75136</td>\n",
       "      <td>-122.39527</td>\n",
       "      <td>0</td>\n",
       "      <td>2008-06-10 07:57:39</td>\n",
       "      <td>37.75134</td>\n",
       "      <td>-122.39488</td>\n",
       "      <td>34.360479</td>\n",
       "      <td>-28.0</td>\n",
       "      <td>-2.118116e-07</td>\n",
       "    </tr>\n",
       "    <tr>\n",
       "      <th>2</th>\n",
       "      <td>37.75199</td>\n",
       "      <td>-122.39460</td>\n",
       "      <td>0</td>\n",
       "      <td>2008-06-10 07:55:40</td>\n",
       "      <td>37.75136</td>\n",
       "      <td>-122.39527</td>\n",
       "      <td>91.527346</td>\n",
       "      <td>-119.0</td>\n",
       "      <td>-1.327555e-07</td>\n",
       "    </tr>\n",
       "    <tr>\n",
       "      <th>3</th>\n",
       "      <td>37.75080</td>\n",
       "      <td>-122.39346</td>\n",
       "      <td>0</td>\n",
       "      <td>2008-06-10 07:54:49</td>\n",
       "      <td>37.75199</td>\n",
       "      <td>-122.39460</td>\n",
       "      <td>165.996049</td>\n",
       "      <td>-51.0</td>\n",
       "      <td>-5.617927e-07</td>\n",
       "    </tr>\n",
       "    <tr>\n",
       "      <th>4</th>\n",
       "      <td>37.75015</td>\n",
       "      <td>-122.39256</td>\n",
       "      <td>0</td>\n",
       "      <td>2008-06-10 07:50:37</td>\n",
       "      <td>37.75080</td>\n",
       "      <td>-122.39346</td>\n",
       "      <td>107.168918</td>\n",
       "      <td>-252.0</td>\n",
       "      <td>-7.340350e-08</td>\n",
       "    </tr>\n",
       "  </tbody>\n",
       "</table>\n",
       "</div>"
      ],
      "text/plain": [
       "        lat       long  occupancy                time  lat_prev  long_prev  \\\n",
       "0  37.75134 -122.39488          0 2008-06-10 07:58:07       NaN        NaN   \n",
       "1  37.75136 -122.39527          0 2008-06-10 07:57:39  37.75134 -122.39488   \n",
       "2  37.75199 -122.39460          0 2008-06-10 07:55:40  37.75136 -122.39527   \n",
       "3  37.75080 -122.39346          0 2008-06-10 07:54:49  37.75199 -122.39460   \n",
       "4  37.75015 -122.39256          0 2008-06-10 07:50:37  37.75080 -122.39346   \n",
       "\n",
       "   dist_from_prev_m  time_delta_sec     speed_mph  \n",
       "0               NaN             NaN           NaN  \n",
       "1         34.360479           -28.0 -2.118116e-07  \n",
       "2         91.527346          -119.0 -1.327555e-07  \n",
       "3        165.996049           -51.0 -5.617927e-07  \n",
       "4        107.168918          -252.0 -7.340350e-08  "
      ]
     },
     "execution_count": 250,
     "metadata": {},
     "output_type": "execute_result"
    }
   ],
   "source": [
    "trace_df.head()"
   ]
  },
  {
   "cell_type": "code",
   "execution_count": 251,
   "metadata": {
    "collapsed": false
   },
   "outputs": [
    {
     "data": {
      "text/plain": [
       "long   -122.395\n",
       "lat     37.7514\n",
       "Name: 1, dtype: object"
      ]
     },
     "execution_count": 251,
     "metadata": {},
     "output_type": "execute_result"
    }
   ],
   "source": [
    "trace_df.loc[1, ['long', 'lat']]"
   ]
  },
  {
   "cell_type": "code",
   "execution_count": 17,
   "metadata": {
    "collapsed": false
   },
   "outputs": [],
   "source": [
    "# Fiona uses (long, lat) format\n",
    "obs = Point(trace_df.loc[1, ['long', 'lat']])"
   ]
  },
  {
   "cell_type": "code",
   "execution_count": 18,
   "metadata": {
    "collapsed": false
   },
   "outputs": [
    {
     "data": {
      "image/svg+xml": [
       "<svg xmlns=\"http://www.w3.org/2000/svg\" xmlns:xlink=\"http://www.w3.org/1999/xlink\" width=\"100.0\" height=\"100.0\" viewBox=\"-123.39527 36.75136 2.0 2.0\" preserveAspectRatio=\"xMinYMin meet\"><g transform=\"matrix(1,0,0,-1,0,75.50272)\"><circle cx=\"-122.39527\" cy=\"37.75136\" r=\"0.06\" stroke=\"#555555\" stroke-width=\"0.02\" fill=\"#66cc99\" opacity=\"0.6\" /></g></svg>"
      ],
      "text/plain": [
       "<shapely.geometry.point.Point at 0x1a3b5df310>"
      ]
     },
     "execution_count": 18,
     "metadata": {},
     "output_type": "execute_result"
    }
   ],
   "source": [
    "obs"
   ]
  },
  {
   "cell_type": "code",
   "execution_count": 19,
   "metadata": {
    "collapsed": false
   },
   "outputs": [
    {
     "name": "stdout",
     "output_type": "stream",
     "text": [
      "CPU times: user 3.5 ms, sys: 7.68 ms, total: 11.2 ms\n",
      "Wall time: 271 ms\n"
     ]
    }
   ],
   "source": [
    "%%time\n",
    "roads_shp = fiona.open(basemap_dir)"
   ]
  },
  {
   "cell_type": "code",
   "execution_count": 20,
   "metadata": {
    "collapsed": false
   },
   "outputs": [
    {
     "data": {
      "text/plain": [
       "{'init': 'epsg:4326'}"
      ]
     },
     "execution_count": 20,
     "metadata": {},
     "output_type": "execute_result"
    }
   ],
   "source": [
    "roads_shp.crs"
   ]
  },
  {
   "cell_type": "code",
   "execution_count": null,
   "metadata": {
    "collapsed": true
   },
   "outputs": [],
   "source": [
    "## https://gis.stackexchange.com/questions/80881/what-is-unit-of-shapely-length-attribute\n",
    "# line1 = LineString([(15.799406, 40.636069), (15.810173,40.640246)])\n",
    "# print str(line1.length) + \" degrees\"\n",
    "# # 0.0115488362184 degrees\n",
    "\n",
    "# # Geometry transform function based on pyproj.transform\n",
    "# project_m = partial(\n",
    "#     pyproj.transform,\n",
    "#     pyproj.Proj(init='EPSG:4326'),\n",
    "#     pyproj.Proj(init='EPSG:32633'))\n",
    "\n",
    "# line2 = transform(project_m, line1)\n",
    "# print str(line2.length) + \" meters\"\n",
    "# # 1021.77585965 meters"
   ]
  },
  {
   "cell_type": "code",
   "execution_count": null,
   "metadata": {
    "collapsed": true
   },
   "outputs": [],
   "source": []
  },
  {
   "cell_type": "code",
   "execution_count": 832,
   "metadata": {
    "collapsed": false
   },
   "outputs": [
    {
     "data": {
      "text/plain": [
       "{'properties': OrderedDict([('osm_id', 'int:11'),\n",
       "              ('name', 'str:48'),\n",
       "              ('ref', 'str:16'),\n",
       "              ('type', 'str:16'),\n",
       "              ('oneway', 'int:1'),\n",
       "              ('bridge', 'int:1'),\n",
       "              ('maxspeed', 'int:3')]),\n",
       " 'geometry': 'LineString'}"
      ]
     },
     "execution_count": 832,
     "metadata": {},
     "output_type": "execute_result"
    }
   ],
   "source": [
    "roads_shp.schema"
   ]
  },
  {
   "cell_type": "code",
   "execution_count": 20,
   "metadata": {
    "collapsed": false
   },
   "outputs": [
    {
     "data": {
      "text/plain": [
       "{'LineString'}"
      ]
     },
     "execution_count": 20,
     "metadata": {},
     "output_type": "execute_result"
    }
   ],
   "source": [
    "# Types of geometries\n",
    "set([r['geometry']['type'] for r in list(roads_shp)])\n",
    "# sf_shp: {'LineString'}"
   ]
  },
  {
   "cell_type": "code",
   "execution_count": 21,
   "metadata": {
    "collapsed": false
   },
   "outputs": [
    {
     "data": {
      "text/plain": [
       "{'type': 'Feature',\n",
       " 'id': '0',\n",
       " 'properties': OrderedDict([('osm_id', 4311275),\n",
       "              ('name', 'Bayshore Freeway'),\n",
       "              ('ref', 'US 101'),\n",
       "              ('type', 'motorway'),\n",
       "              ('oneway', 1),\n",
       "              ('bridge', 0),\n",
       "              ('maxspeed', 65)]),\n",
       " 'geometry': {'type': 'LineString',\n",
       "  'coordinates': [(-122.4067318, 37.6552091),\n",
       "   (-122.4066705, 37.6554806),\n",
       "   (-122.4066, 37.6557348),\n",
       "   (-122.4065183, 37.6560026),\n",
       "   (-122.4064254, 37.6562575),\n",
       "   (-122.4063177, 37.6565034),\n",
       "   (-122.4061926, 37.6567579),\n",
       "   (-122.4055559, 37.6579996),\n",
       "   (-122.4053176, 37.6584642),\n",
       "   (-122.4051888, 37.658704),\n",
       "   (-122.405056, 37.6589448),\n",
       "   (-122.4049166, 37.659174),\n",
       "   (-122.4047675, 37.6593902),\n",
       "   (-122.4046031, 37.6596144),\n",
       "   (-122.4044278, 37.6598328),\n",
       "   (-122.404206, 37.660081),\n",
       "   (-122.4039932, 37.6603049),\n",
       "   (-122.4037717, 37.6605162),\n",
       "   (-122.4035097, 37.6607433),\n",
       "   (-122.4032666, 37.6609362),\n",
       "   (-122.4030265, 37.6611163),\n",
       "   (-122.402762, 37.661301),\n",
       "   (-122.4025091, 37.6614653),\n",
       "   (-122.3996913, 37.6632717),\n",
       "   (-122.399424, 37.6634432),\n",
       "   (-122.3991719, 37.6636088),\n",
       "   (-122.3989093, 37.663784),\n",
       "   (-122.398657, 37.6639545),\n",
       "   (-122.3984076, 37.6641304),\n",
       "   (-122.3981713, 37.6643095),\n",
       "   (-122.3979449, 37.664483),\n",
       "   (-122.3977008, 37.6646782),\n",
       "   (-122.3974726, 37.6648686),\n",
       "   (-122.3972573, 37.6650546),\n",
       "   (-122.3970163, 37.6652751),\n",
       "   (-122.396798, 37.6654781),\n",
       "   (-122.3965933, 37.6656734),\n",
       "   (-122.3963931, 37.6658756),\n",
       "   (-122.3961956, 37.6660806),\n",
       "   (-122.3956858, 37.6666107),\n",
       "   (-122.3948905, 37.6674396),\n",
       "   (-122.3927279, 37.6696896)]}}"
      ]
     },
     "execution_count": 21,
     "metadata": {},
     "output_type": "execute_result"
    }
   ],
   "source": [
    "roads_shp[0]"
   ]
  },
  {
   "cell_type": "code",
   "execution_count": 21,
   "metadata": {
    "collapsed": false
   },
   "outputs": [
    {
     "name": "stdout",
     "output_type": "stream",
     "text": [
      "CPU times: user 1.46 s, sys: 75.9 ms, total: 1.54 s\n",
      "Wall time: 1.66 s\n"
     ]
    }
   ],
   "source": [
    "%%time\n",
    "# Wall time: 1.79 s\n",
    "# Just preserving geometries for my purpose\n",
    "road_geoms = [shape(shp['geometry']) for shp in roads_shp]"
   ]
  },
  {
   "cell_type": "code",
   "execution_count": 22,
   "metadata": {
    "collapsed": false
   },
   "outputs": [
    {
     "name": "stdout",
     "output_type": "stream",
     "text": [
      "CPU times: user 250 ms, sys: 14.6 ms, total: 264 ms\n",
      "Wall time: 262 ms\n"
     ]
    }
   ],
   "source": [
    "%%time\n",
    "# Wall time: 282 ms\n",
    "# Create STR-tree\n",
    "road_strtree = STRtree(road_geoms)"
   ]
  },
  {
   "cell_type": "code",
   "execution_count": null,
   "metadata": {
    "collapsed": true
   },
   "outputs": [],
   "source": [
    "# Run Particle Filter"
   ]
  },
  {
   "cell_type": "code",
   "execution_count": 324,
   "metadata": {
    "collapsed": false
   },
   "outputs": [],
   "source": [
    "my_particle_filter = particle_filter(road_strtree)"
   ]
  },
  {
   "cell_type": "code",
   "execution_count": 325,
   "metadata": {
    "collapsed": false
   },
   "outputs": [],
   "source": [
    "data = trace_df[['lat', 'long', 'lat_prev', 'long_prev', 'dist_from_prev_m', 'time_delta_sec']].copy()"
   ]
  },
  {
   "cell_type": "code",
   "execution_count": 326,
   "metadata": {
    "collapsed": false
   },
   "outputs": [
    {
     "data": {
      "text/plain": [
       "(19500, 9)"
      ]
     },
     "execution_count": 326,
     "metadata": {},
     "output_type": "execute_result"
    }
   ],
   "source": [
    "trace_df.shape\n",
    "# (9846421, 9) ... this means I'd need 10 million iterations... @.@\n",
    "# Wait a sec, how do I distinguish among trips???\n",
    "# The first trace: (19500, 9)"
   ]
  },
  {
   "cell_type": "code",
   "execution_count": 327,
   "metadata": {
    "collapsed": false
   },
   "outputs": [
    {
     "name": "stdout",
     "output_type": "stream",
     "text": [
      "On iteration 1, fit quality of MAX -0.68, MEAN -0.71, MEDIAN -0.72\n",
      "On iteration 2, fit quality of MAX -7.10, MEAN -inf, MEDIAN -542.09\n",
      "On iteration 3, fit quality of MAX -13.23, MEAN -inf, MEDIAN -inf\n"
     ]
    },
    {
     "name": "stderr",
     "output_type": "stream",
     "text": [
      "/Volumes/LaCie/anaconda/envs/map_matching_particle_filter/lib/python3.7/site-packages/ipykernel/__main__.py:157: RuntimeWarning: divide by zero encountered in log\n"
     ]
    },
    {
     "name": "stdout",
     "output_type": "stream",
     "text": [
      "On iteration 4, fit quality of MAX -326.32, MEAN -inf, MEDIAN -inf\n",
      "On iteration 5, fit quality of MAX -539.02, MEAN -inf, MEDIAN -inf\n",
      "On iteration 6, fit quality of MAX -777.41, MEAN -inf, MEDIAN -inf\n",
      "On iteration 7, fit quality of MAX -1324.95, MEAN -inf, MEDIAN -inf\n",
      "On iteration 8, fit quality of MAX -2061.85, MEAN -inf, MEDIAN -inf\n",
      "On iteration 9, fit quality of MAX -3210.81, MEAN -inf, MEDIAN -inf\n",
      "On iteration 10, fit quality of MAX -3228.41, MEAN -inf, MEDIAN -inf\n",
      "On iteration 11, fit quality of MAX -3375.68, MEAN -inf, MEDIAN -inf\n",
      "On iteration 12, fit quality of MAX -3921.57, MEAN -inf, MEDIAN -inf\n",
      "On iteration 13, fit quality of MAX -3933.86, MEAN -inf, MEDIAN -inf\n",
      "On iteration 14, fit quality of MAX -inf, MEAN -inf, MEDIAN -inf\n",
      "On iteration 15, fit quality of MAX -inf, MEAN -inf, MEDIAN -inf\n",
      "On iteration 16, fit quality of MAX -inf, MEAN -inf, MEDIAN -inf\n",
      "On iteration 17, fit quality of MAX -inf, MEAN -inf, MEDIAN -inf\n",
      "On iteration 18, fit quality of MAX -inf, MEAN -inf, MEDIAN -inf\n",
      "On iteration 19, fit quality of MAX -inf, MEAN -inf, MEDIAN -inf\n",
      "On iteration 20, fit quality of MAX -inf, MEAN -inf, MEDIAN -inf\n",
      "On iteration 21, fit quality of MAX -inf, MEAN -inf, MEDIAN -inf\n",
      "On iteration 22, fit quality of MAX -inf, MEAN -inf, MEDIAN -inf\n",
      "On iteration 23, fit quality of MAX -inf, MEAN -inf, MEDIAN -inf\n",
      "On iteration 24, fit quality of MAX -inf, MEAN -inf, MEDIAN -inf\n",
      "On iteration 25, fit quality of MAX -inf, MEAN -inf, MEDIAN -inf\n",
      "On iteration 26, fit quality of MAX -inf, MEAN -inf, MEDIAN -inf\n",
      "On iteration 27, fit quality of MAX -inf, MEAN -inf, MEDIAN -inf\n",
      "On iteration 28, fit quality of MAX -inf, MEAN -inf, MEDIAN -inf\n",
      "On iteration 29, fit quality of MAX -inf, MEAN -inf, MEDIAN -inf\n",
      "On iteration 30, fit quality of MAX -inf, MEAN -inf, MEDIAN -inf\n",
      "On iteration 31, fit quality of MAX -inf, MEAN -inf, MEDIAN -inf\n",
      "On iteration 32, fit quality of MAX -inf, MEAN -inf, MEDIAN -inf\n",
      "On iteration 33, fit quality of MAX -inf, MEAN -inf, MEDIAN -inf\n",
      "On iteration 34, fit quality of MAX -inf, MEAN -inf, MEDIAN -inf\n",
      "On iteration 35, fit quality of MAX -inf, MEAN -inf, MEDIAN -inf\n",
      "On iteration 36, fit quality of MAX -inf, MEAN -inf, MEDIAN -inf\n",
      "On iteration 37, fit quality of MAX -inf, MEAN -inf, MEDIAN -inf\n",
      "On iteration 38, fit quality of MAX -inf, MEAN -inf, MEDIAN -inf\n",
      "On iteration 39, fit quality of MAX -inf, MEAN -inf, MEDIAN -inf\n",
      "On iteration 40, fit quality of MAX -inf, MEAN -inf, MEDIAN -inf\n",
      "On iteration 41, fit quality of MAX -inf, MEAN -inf, MEDIAN -inf\n",
      "On iteration 42, fit quality of MAX -inf, MEAN -inf, MEDIAN -inf\n",
      "On iteration 43, fit quality of MAX -inf, MEAN -inf, MEDIAN -inf\n",
      "On iteration 44, fit quality of MAX -inf, MEAN -inf, MEDIAN -inf\n",
      "On iteration 45, fit quality of MAX -inf, MEAN -inf, MEDIAN -inf\n",
      "On iteration 46, fit quality of MAX -inf, MEAN -inf, MEDIAN -inf\n",
      "On iteration 47, fit quality of MAX -inf, MEAN -inf, MEDIAN -inf\n",
      "On iteration 48, fit quality of MAX -inf, MEAN -inf, MEDIAN -inf\n",
      "On iteration 49, fit quality of MAX -inf, MEAN -inf, MEDIAN -inf\n",
      "On iteration 50, fit quality of MAX -inf, MEAN -inf, MEDIAN -inf\n",
      "On iteration 51, fit quality of MAX -inf, MEAN -inf, MEDIAN -inf\n",
      "On iteration 52, fit quality of MAX -inf, MEAN -inf, MEDIAN -inf\n",
      "On iteration 53, fit quality of MAX -inf, MEAN -inf, MEDIAN -inf\n",
      "On iteration 54, fit quality of MAX -inf, MEAN -inf, MEDIAN -inf\n",
      "On iteration 55, fit quality of MAX -inf, MEAN -inf, MEDIAN -inf\n",
      "On iteration 56, fit quality of MAX -inf, MEAN -inf, MEDIAN -inf\n",
      "On iteration 57, fit quality of MAX -inf, MEAN -inf, MEDIAN -inf\n",
      "On iteration 58, fit quality of MAX -inf, MEAN -inf, MEDIAN -inf\n",
      "On iteration 59, fit quality of MAX -inf, MEAN -inf, MEDIAN -inf\n",
      "On iteration 60, fit quality of MAX -inf, MEAN -inf, MEDIAN -inf\n",
      "On iteration 61, fit quality of MAX -inf, MEAN -inf, MEDIAN -inf\n",
      "On iteration 62, fit quality of MAX -inf, MEAN -inf, MEDIAN -inf\n",
      "On iteration 63, fit quality of MAX -inf, MEAN -inf, MEDIAN -inf\n",
      "On iteration 64, fit quality of MAX -inf, MEAN -inf, MEDIAN -inf\n",
      "On iteration 65, fit quality of MAX -inf, MEAN -inf, MEDIAN -inf\n",
      "On iteration 66, fit quality of MAX -inf, MEAN -inf, MEDIAN -inf\n",
      "On iteration 67, fit quality of MAX -inf, MEAN -inf, MEDIAN -inf\n",
      "On iteration 68, fit quality of MAX -inf, MEAN -inf, MEDIAN -inf\n",
      "On iteration 69, fit quality of MAX -inf, MEAN -inf, MEDIAN -inf\n",
      "On iteration 70, fit quality of MAX -inf, MEAN -inf, MEDIAN -inf\n",
      "On iteration 71, fit quality of MAX -inf, MEAN -inf, MEDIAN -inf\n",
      "On iteration 72, fit quality of MAX -inf, MEAN -inf, MEDIAN -inf\n",
      "On iteration 73, fit quality of MAX -inf, MEAN -inf, MEDIAN -inf\n",
      "On iteration 74, fit quality of MAX -inf, MEAN -inf, MEDIAN -inf\n",
      "On iteration 75, fit quality of MAX -inf, MEAN -inf, MEDIAN -inf\n",
      "On iteration 76, fit quality of MAX -inf, MEAN -inf, MEDIAN -inf\n",
      "On iteration 77, fit quality of MAX -inf, MEAN -inf, MEDIAN -inf\n",
      "On iteration 78, fit quality of MAX -inf, MEAN -inf, MEDIAN -inf\n",
      "On iteration 79, fit quality of MAX -inf, MEAN -inf, MEDIAN -inf\n",
      "On iteration 80, fit quality of MAX -inf, MEAN -inf, MEDIAN -inf\n",
      "On iteration 81, fit quality of MAX -inf, MEAN -inf, MEDIAN -inf\n",
      "On iteration 82, fit quality of MAX -inf, MEAN -inf, MEDIAN -inf\n",
      "On iteration 83, fit quality of MAX -inf, MEAN -inf, MEDIAN -inf\n",
      "On iteration 84, fit quality of MAX -inf, MEAN -inf, MEDIAN -inf\n",
      "On iteration 85, fit quality of MAX -inf, MEAN -inf, MEDIAN -inf\n",
      "On iteration 86, fit quality of MAX -inf, MEAN -inf, MEDIAN -inf\n",
      "On iteration 87, fit quality of MAX -inf, MEAN -inf, MEDIAN -inf\n",
      "On iteration 88, fit quality of MAX -inf, MEAN -inf, MEDIAN -inf\n",
      "On iteration 89, fit quality of MAX -inf, MEAN -inf, MEDIAN -inf\n",
      "On iteration 90, fit quality of MAX -inf, MEAN -inf, MEDIAN -inf\n",
      "On iteration 91, fit quality of MAX -inf, MEAN -inf, MEDIAN -inf\n",
      "On iteration 92, fit quality of MAX -inf, MEAN -inf, MEDIAN -inf\n",
      "On iteration 93, fit quality of MAX -inf, MEAN -inf, MEDIAN -inf\n",
      "On iteration 94, fit quality of MAX -inf, MEAN -inf, MEDIAN -inf\n",
      "On iteration 95, fit quality of MAX -inf, MEAN -inf, MEDIAN -inf\n",
      "On iteration 96, fit quality of MAX -inf, MEAN -inf, MEDIAN -inf\n",
      "On iteration 97, fit quality of MAX -inf, MEAN -inf, MEDIAN -inf\n",
      "On iteration 98, fit quality of MAX -inf, MEAN -inf, MEDIAN -inf\n",
      "On iteration 99, fit quality of MAX -inf, MEAN -inf, MEDIAN -inf\n",
      "On iteration 100, fit quality of MAX -inf, MEAN -inf, MEDIAN -inf\n",
      "On iteration 101, fit quality of MAX -inf, MEAN -inf, MEDIAN -inf\n",
      "On iteration 102, fit quality of MAX -inf, MEAN -inf, MEDIAN -inf\n",
      "On iteration 103, fit quality of MAX -inf, MEAN -inf, MEDIAN -inf\n",
      "On iteration 104, fit quality of MAX -inf, MEAN -inf, MEDIAN -inf\n",
      "On iteration 105, fit quality of MAX -inf, MEAN -inf, MEDIAN -inf\n",
      "On iteration 106, fit quality of MAX -inf, MEAN -inf, MEDIAN -inf\n",
      "On iteration 107, fit quality of MAX -inf, MEAN -inf, MEDIAN -inf\n",
      "On iteration 108, fit quality of MAX -inf, MEAN -inf, MEDIAN -inf\n",
      "On iteration 109, fit quality of MAX -inf, MEAN -inf, MEDIAN -inf\n",
      "On iteration 110, fit quality of MAX -inf, MEAN -inf, MEDIAN -inf\n",
      "On iteration 111, fit quality of MAX -inf, MEAN -inf, MEDIAN -inf\n",
      "On iteration 112, fit quality of MAX -inf, MEAN -inf, MEDIAN -inf\n",
      "On iteration 113, fit quality of MAX -inf, MEAN -inf, MEDIAN -inf\n",
      "On iteration 114, fit quality of MAX -inf, MEAN -inf, MEDIAN -inf\n",
      "On iteration 115, fit quality of MAX -inf, MEAN -inf, MEDIAN -inf\n",
      "On iteration 116, fit quality of MAX -inf, MEAN -inf, MEDIAN -inf\n",
      "On iteration 117, fit quality of MAX -inf, MEAN -inf, MEDIAN -inf\n",
      "On iteration 118, fit quality of MAX -inf, MEAN -inf, MEDIAN -inf\n",
      "On iteration 119, fit quality of MAX -inf, MEAN -inf, MEDIAN -inf\n",
      "On iteration 120, fit quality of MAX -inf, MEAN -inf, MEDIAN -inf\n",
      "On iteration 121, fit quality of MAX -inf, MEAN -inf, MEDIAN -inf\n",
      "On iteration 122, fit quality of MAX -inf, MEAN -inf, MEDIAN -inf\n",
      "On iteration 123, fit quality of MAX -inf, MEAN -inf, MEDIAN -inf\n",
      "On iteration 124, fit quality of MAX -inf, MEAN -inf, MEDIAN -inf\n",
      "On iteration 125, fit quality of MAX -inf, MEAN -inf, MEDIAN -inf\n",
      "On iteration 126, fit quality of MAX -inf, MEAN -inf, MEDIAN -inf\n",
      "On iteration 127, fit quality of MAX -inf, MEAN -inf, MEDIAN -inf\n",
      "On iteration 128, fit quality of MAX -inf, MEAN -inf, MEDIAN -inf\n",
      "On iteration 129, fit quality of MAX -inf, MEAN -inf, MEDIAN -inf\n",
      "On iteration 130, fit quality of MAX -inf, MEAN -inf, MEDIAN -inf\n",
      "On iteration 131, fit quality of MAX -inf, MEAN -inf, MEDIAN -inf\n",
      "On iteration 132, fit quality of MAX -inf, MEAN -inf, MEDIAN -inf\n",
      "On iteration 133, fit quality of MAX -inf, MEAN -inf, MEDIAN -inf\n",
      "On iteration 134, fit quality of MAX -inf, MEAN -inf, MEDIAN -inf\n",
      "On iteration 135, fit quality of MAX -inf, MEAN -inf, MEDIAN -inf\n",
      "On iteration 136, fit quality of MAX -inf, MEAN -inf, MEDIAN -inf\n",
      "On iteration 137, fit quality of MAX -inf, MEAN -inf, MEDIAN -inf\n",
      "On iteration 138, fit quality of MAX -inf, MEAN -inf, MEDIAN -inf\n",
      "On iteration 139, fit quality of MAX -inf, MEAN -inf, MEDIAN -inf\n",
      "On iteration 140, fit quality of MAX -inf, MEAN -inf, MEDIAN -inf\n",
      "On iteration 141, fit quality of MAX -inf, MEAN -inf, MEDIAN -inf\n",
      "On iteration 142, fit quality of MAX -inf, MEAN -inf, MEDIAN -inf\n",
      "On iteration 143, fit quality of MAX -inf, MEAN -inf, MEDIAN -inf\n",
      "On iteration 144, fit quality of MAX -inf, MEAN -inf, MEDIAN -inf\n",
      "On iteration 145, fit quality of MAX -inf, MEAN -inf, MEDIAN -inf\n",
      "On iteration 146, fit quality of MAX -inf, MEAN -inf, MEDIAN -inf\n",
      "On iteration 147, fit quality of MAX -inf, MEAN -inf, MEDIAN -inf\n",
      "On iteration 148, fit quality of MAX -inf, MEAN -inf, MEDIAN -inf\n",
      "On iteration 149, fit quality of MAX -inf, MEAN -inf, MEDIAN -inf\n",
      "On iteration 150, fit quality of MAX -inf, MEAN -inf, MEDIAN -inf\n",
      "On iteration 151, fit quality of MAX -inf, MEAN -inf, MEDIAN -inf\n",
      "On iteration 152, fit quality of MAX -inf, MEAN -inf, MEDIAN -inf\n",
      "On iteration 153, fit quality of MAX -inf, MEAN -inf, MEDIAN -inf\n",
      "On iteration 154, fit quality of MAX -inf, MEAN -inf, MEDIAN -inf\n",
      "On iteration 155, fit quality of MAX -inf, MEAN -inf, MEDIAN -inf\n",
      "On iteration 156, fit quality of MAX -inf, MEAN -inf, MEDIAN -inf\n",
      "On iteration 157, fit quality of MAX -inf, MEAN -inf, MEDIAN -inf\n",
      "On iteration 158, fit quality of MAX -inf, MEAN -inf, MEDIAN -inf\n",
      "On iteration 159, fit quality of MAX -inf, MEAN -inf, MEDIAN -inf\n",
      "On iteration 160, fit quality of MAX -inf, MEAN -inf, MEDIAN -inf\n",
      "On iteration 161, fit quality of MAX -inf, MEAN -inf, MEDIAN -inf\n",
      "On iteration 162, fit quality of MAX -inf, MEAN -inf, MEDIAN -inf\n",
      "On iteration 163, fit quality of MAX -inf, MEAN -inf, MEDIAN -inf\n",
      "On iteration 164, fit quality of MAX -inf, MEAN -inf, MEDIAN -inf\n",
      "On iteration 165, fit quality of MAX -inf, MEAN -inf, MEDIAN -inf\n",
      "On iteration 166, fit quality of MAX -inf, MEAN -inf, MEDIAN -inf\n",
      "On iteration 167, fit quality of MAX -inf, MEAN -inf, MEDIAN -inf\n",
      "On iteration 168, fit quality of MAX -inf, MEAN -inf, MEDIAN -inf\n",
      "On iteration 169, fit quality of MAX -inf, MEAN -inf, MEDIAN -inf\n",
      "On iteration 170, fit quality of MAX -inf, MEAN -inf, MEDIAN -inf\n",
      "On iteration 171, fit quality of MAX -inf, MEAN -inf, MEDIAN -inf\n",
      "On iteration 172, fit quality of MAX -inf, MEAN -inf, MEDIAN -inf\n",
      "On iteration 173, fit quality of MAX -inf, MEAN -inf, MEDIAN -inf\n",
      "On iteration 174, fit quality of MAX -inf, MEAN -inf, MEDIAN -inf\n",
      "On iteration 175, fit quality of MAX -inf, MEAN -inf, MEDIAN -inf\n",
      "On iteration 176, fit quality of MAX -inf, MEAN -inf, MEDIAN -inf\n",
      "On iteration 177, fit quality of MAX -inf, MEAN -inf, MEDIAN -inf\n",
      "On iteration 178, fit quality of MAX -inf, MEAN -inf, MEDIAN -inf\n",
      "On iteration 179, fit quality of MAX -inf, MEAN -inf, MEDIAN -inf\n",
      "On iteration 180, fit quality of MAX -inf, MEAN -inf, MEDIAN -inf\n",
      "On iteration 181, fit quality of MAX -inf, MEAN -inf, MEDIAN -inf\n",
      "On iteration 182, fit quality of MAX -inf, MEAN -inf, MEDIAN -inf\n",
      "On iteration 183, fit quality of MAX -inf, MEAN -inf, MEDIAN -inf\n",
      "On iteration 184, fit quality of MAX -inf, MEAN -inf, MEDIAN -inf\n",
      "On iteration 185, fit quality of MAX -inf, MEAN -inf, MEDIAN -inf\n",
      "On iteration 186, fit quality of MAX -inf, MEAN -inf, MEDIAN -inf\n",
      "On iteration 187, fit quality of MAX -inf, MEAN -inf, MEDIAN -inf\n",
      "On iteration 188, fit quality of MAX -inf, MEAN -inf, MEDIAN -inf\n",
      "On iteration 189, fit quality of MAX -inf, MEAN -inf, MEDIAN -inf\n",
      "On iteration 190, fit quality of MAX -inf, MEAN -inf, MEDIAN -inf\n",
      "On iteration 191, fit quality of MAX -inf, MEAN -inf, MEDIAN -inf\n",
      "On iteration 192, fit quality of MAX -inf, MEAN -inf, MEDIAN -inf\n",
      "On iteration 193, fit quality of MAX -inf, MEAN -inf, MEDIAN -inf\n",
      "On iteration 194, fit quality of MAX -inf, MEAN -inf, MEDIAN -inf\n",
      "On iteration 195, fit quality of MAX -inf, MEAN -inf, MEDIAN -inf\n",
      "On iteration 196, fit quality of MAX -inf, MEAN -inf, MEDIAN -inf\n",
      "On iteration 197, fit quality of MAX -inf, MEAN -inf, MEDIAN -inf\n",
      "On iteration 198, fit quality of MAX -inf, MEAN -inf, MEDIAN -inf\n",
      "On iteration 199, fit quality of MAX -inf, MEAN -inf, MEDIAN -inf\n",
      "On iteration 200, fit quality of MAX -inf, MEAN -inf, MEDIAN -inf\n",
      "On iteration 201, fit quality of MAX -inf, MEAN -inf, MEDIAN -inf\n",
      "On iteration 202, fit quality of MAX -inf, MEAN -inf, MEDIAN -inf\n",
      "On iteration 203, fit quality of MAX -inf, MEAN -inf, MEDIAN -inf\n",
      "On iteration 204, fit quality of MAX -inf, MEAN -inf, MEDIAN -inf\n",
      "On iteration 205, fit quality of MAX -inf, MEAN -inf, MEDIAN -inf\n",
      "On iteration 206, fit quality of MAX -inf, MEAN -inf, MEDIAN -inf\n",
      "On iteration 207, fit quality of MAX -inf, MEAN -inf, MEDIAN -inf\n",
      "On iteration 208, fit quality of MAX -inf, MEAN -inf, MEDIAN -inf\n",
      "On iteration 209, fit quality of MAX -inf, MEAN -inf, MEDIAN -inf\n",
      "On iteration 210, fit quality of MAX -inf, MEAN -inf, MEDIAN -inf\n",
      "On iteration 211, fit quality of MAX -inf, MEAN -inf, MEDIAN -inf\n",
      "On iteration 212, fit quality of MAX -inf, MEAN -inf, MEDIAN -inf\n",
      "On iteration 213, fit quality of MAX -inf, MEAN -inf, MEDIAN -inf\n",
      "On iteration 214, fit quality of MAX -inf, MEAN -inf, MEDIAN -inf\n",
      "On iteration 215, fit quality of MAX -inf, MEAN -inf, MEDIAN -inf\n",
      "On iteration 216, fit quality of MAX -inf, MEAN -inf, MEDIAN -inf\n",
      "On iteration 217, fit quality of MAX -inf, MEAN -inf, MEDIAN -inf\n",
      "On iteration 218, fit quality of MAX -inf, MEAN -inf, MEDIAN -inf\n",
      "On iteration 219, fit quality of MAX -inf, MEAN -inf, MEDIAN -inf\n",
      "On iteration 220, fit quality of MAX -inf, MEAN -inf, MEDIAN -inf\n",
      "On iteration 221, fit quality of MAX -inf, MEAN -inf, MEDIAN -inf\n",
      "On iteration 222, fit quality of MAX -inf, MEAN -inf, MEDIAN -inf\n",
      "On iteration 223, fit quality of MAX -inf, MEAN -inf, MEDIAN -inf\n",
      "On iteration 224, fit quality of MAX -inf, MEAN -inf, MEDIAN -inf\n",
      "On iteration 225, fit quality of MAX -inf, MEAN -inf, MEDIAN -inf\n",
      "On iteration 226, fit quality of MAX -inf, MEAN -inf, MEDIAN -inf\n",
      "On iteration 227, fit quality of MAX -inf, MEAN -inf, MEDIAN -inf\n",
      "On iteration 228, fit quality of MAX -inf, MEAN -inf, MEDIAN -inf\n",
      "On iteration 229, fit quality of MAX -inf, MEAN -inf, MEDIAN -inf\n",
      "On iteration 230, fit quality of MAX -inf, MEAN -inf, MEDIAN -inf\n",
      "On iteration 231, fit quality of MAX -inf, MEAN -inf, MEDIAN -inf\n",
      "On iteration 232, fit quality of MAX -inf, MEAN -inf, MEDIAN -inf\n",
      "On iteration 233, fit quality of MAX -inf, MEAN -inf, MEDIAN -inf\n",
      "On iteration 234, fit quality of MAX -inf, MEAN -inf, MEDIAN -inf\n",
      "On iteration 235, fit quality of MAX -inf, MEAN -inf, MEDIAN -inf\n",
      "On iteration 236, fit quality of MAX -inf, MEAN -inf, MEDIAN -inf\n",
      "On iteration 237, fit quality of MAX -inf, MEAN -inf, MEDIAN -inf\n",
      "On iteration 238, fit quality of MAX -inf, MEAN -inf, MEDIAN -inf\n",
      "On iteration 239, fit quality of MAX -inf, MEAN -inf, MEDIAN -inf\n",
      "On iteration 240, fit quality of MAX -inf, MEAN -inf, MEDIAN -inf\n",
      "On iteration 241, fit quality of MAX -inf, MEAN -inf, MEDIAN -inf\n",
      "On iteration 242, fit quality of MAX -inf, MEAN -inf, MEDIAN -inf\n",
      "On iteration 243, fit quality of MAX -inf, MEAN -inf, MEDIAN -inf\n",
      "On iteration 244, fit quality of MAX -inf, MEAN -inf, MEDIAN -inf\n",
      "On iteration 245, fit quality of MAX -inf, MEAN -inf, MEDIAN -inf\n",
      "On iteration 246, fit quality of MAX -inf, MEAN -inf, MEDIAN -inf\n",
      "On iteration 247, fit quality of MAX -inf, MEAN -inf, MEDIAN -inf\n",
      "On iteration 248, fit quality of MAX -inf, MEAN -inf, MEDIAN -inf\n",
      "On iteration 249, fit quality of MAX -inf, MEAN -inf, MEDIAN -inf\n",
      "On iteration 250, fit quality of MAX -inf, MEAN -inf, MEDIAN -inf\n",
      "On iteration 251, fit quality of MAX -inf, MEAN -inf, MEDIAN -inf\n",
      "On iteration 252, fit quality of MAX -inf, MEAN -inf, MEDIAN -inf\n",
      "On iteration 253, fit quality of MAX -inf, MEAN -inf, MEDIAN -inf\n",
      "On iteration 254, fit quality of MAX -inf, MEAN -inf, MEDIAN -inf\n",
      "On iteration 255, fit quality of MAX -inf, MEAN -inf, MEDIAN -inf\n",
      "On iteration 256, fit quality of MAX -inf, MEAN -inf, MEDIAN -inf\n",
      "On iteration 257, fit quality of MAX -inf, MEAN -inf, MEDIAN -inf\n",
      "On iteration 258, fit quality of MAX -inf, MEAN -inf, MEDIAN -inf\n",
      "On iteration 259, fit quality of MAX -inf, MEAN -inf, MEDIAN -inf\n",
      "On iteration 260, fit quality of MAX -inf, MEAN -inf, MEDIAN -inf\n",
      "On iteration 261, fit quality of MAX -inf, MEAN -inf, MEDIAN -inf\n",
      "On iteration 262, fit quality of MAX -inf, MEAN -inf, MEDIAN -inf\n",
      "On iteration 263, fit quality of MAX -inf, MEAN -inf, MEDIAN -inf\n",
      "On iteration 264, fit quality of MAX -inf, MEAN -inf, MEDIAN -inf\n",
      "On iteration 265, fit quality of MAX -inf, MEAN -inf, MEDIAN -inf\n",
      "On iteration 266, fit quality of MAX -inf, MEAN -inf, MEDIAN -inf\n",
      "On iteration 267, fit quality of MAX -inf, MEAN -inf, MEDIAN -inf\n",
      "On iteration 268, fit quality of MAX -inf, MEAN -inf, MEDIAN -inf\n",
      "On iteration 269, fit quality of MAX -inf, MEAN -inf, MEDIAN -inf\n",
      "On iteration 270, fit quality of MAX -inf, MEAN -inf, MEDIAN -inf\n",
      "On iteration 271, fit quality of MAX -inf, MEAN -inf, MEDIAN -inf\n",
      "On iteration 272, fit quality of MAX -inf, MEAN -inf, MEDIAN -inf\n",
      "On iteration 273, fit quality of MAX -inf, MEAN -inf, MEDIAN -inf\n",
      "On iteration 274, fit quality of MAX -inf, MEAN -inf, MEDIAN -inf\n",
      "On iteration 275, fit quality of MAX -inf, MEAN -inf, MEDIAN -inf\n",
      "On iteration 276, fit quality of MAX -inf, MEAN -inf, MEDIAN -inf\n",
      "On iteration 277, fit quality of MAX -inf, MEAN -inf, MEDIAN -inf\n",
      "On iteration 278, fit quality of MAX -inf, MEAN -inf, MEDIAN -inf\n",
      "On iteration 279, fit quality of MAX -inf, MEAN -inf, MEDIAN -inf\n",
      "On iteration 280, fit quality of MAX -inf, MEAN -inf, MEDIAN -inf\n",
      "On iteration 281, fit quality of MAX -inf, MEAN -inf, MEDIAN -inf\n",
      "On iteration 282, fit quality of MAX -inf, MEAN -inf, MEDIAN -inf\n",
      "On iteration 283, fit quality of MAX -inf, MEAN -inf, MEDIAN -inf\n",
      "On iteration 284, fit quality of MAX -inf, MEAN -inf, MEDIAN -inf\n",
      "On iteration 285, fit quality of MAX -inf, MEAN -inf, MEDIAN -inf\n",
      "On iteration 286, fit quality of MAX -inf, MEAN -inf, MEDIAN -inf\n",
      "On iteration 287, fit quality of MAX -inf, MEAN -inf, MEDIAN -inf\n",
      "On iteration 288, fit quality of MAX -inf, MEAN -inf, MEDIAN -inf\n",
      "On iteration 289, fit quality of MAX -inf, MEAN -inf, MEDIAN -inf\n",
      "On iteration 290, fit quality of MAX -inf, MEAN -inf, MEDIAN -inf\n",
      "On iteration 291, fit quality of MAX -inf, MEAN -inf, MEDIAN -inf\n",
      "On iteration 292, fit quality of MAX -inf, MEAN -inf, MEDIAN -inf\n",
      "On iteration 293, fit quality of MAX -inf, MEAN -inf, MEDIAN -inf\n",
      "On iteration 294, fit quality of MAX -inf, MEAN -inf, MEDIAN -inf\n",
      "On iteration 295, fit quality of MAX -inf, MEAN -inf, MEDIAN -inf\n",
      "On iteration 296, fit quality of MAX -inf, MEAN -inf, MEDIAN -inf\n",
      "On iteration 297, fit quality of MAX -inf, MEAN -inf, MEDIAN -inf\n",
      "On iteration 298, fit quality of MAX -inf, MEAN -inf, MEDIAN -inf\n",
      "On iteration 299, fit quality of MAX -inf, MEAN -inf, MEDIAN -inf\n",
      "On iteration 300, fit quality of MAX -inf, MEAN -inf, MEDIAN -inf\n",
      "On iteration 301, fit quality of MAX -inf, MEAN -inf, MEDIAN -inf\n",
      "On iteration 302, fit quality of MAX -inf, MEAN -inf, MEDIAN -inf\n",
      "On iteration 303, fit quality of MAX -inf, MEAN -inf, MEDIAN -inf\n",
      "On iteration 304, fit quality of MAX -inf, MEAN -inf, MEDIAN -inf\n",
      "On iteration 305, fit quality of MAX -inf, MEAN -inf, MEDIAN -inf\n",
      "On iteration 306, fit quality of MAX -inf, MEAN -inf, MEDIAN -inf\n",
      "On iteration 307, fit quality of MAX -inf, MEAN -inf, MEDIAN -inf\n",
      "On iteration 308, fit quality of MAX -inf, MEAN -inf, MEDIAN -inf\n",
      "On iteration 309, fit quality of MAX -inf, MEAN -inf, MEDIAN -inf\n",
      "On iteration 310, fit quality of MAX -inf, MEAN -inf, MEDIAN -inf\n",
      "On iteration 311, fit quality of MAX -inf, MEAN -inf, MEDIAN -inf\n",
      "On iteration 312, fit quality of MAX -inf, MEAN -inf, MEDIAN -inf\n",
      "On iteration 313, fit quality of MAX -inf, MEAN -inf, MEDIAN -inf\n",
      "On iteration 314, fit quality of MAX -inf, MEAN -inf, MEDIAN -inf\n",
      "On iteration 315, fit quality of MAX -inf, MEAN -inf, MEDIAN -inf\n",
      "On iteration 316, fit quality of MAX -inf, MEAN -inf, MEDIAN -inf\n",
      "On iteration 317, fit quality of MAX -inf, MEAN -inf, MEDIAN -inf\n",
      "On iteration 318, fit quality of MAX -inf, MEAN -inf, MEDIAN -inf\n",
      "On iteration 319, fit quality of MAX -inf, MEAN -inf, MEDIAN -inf\n",
      "On iteration 320, fit quality of MAX -inf, MEAN -inf, MEDIAN -inf\n",
      "On iteration 321, fit quality of MAX -inf, MEAN -inf, MEDIAN -inf\n",
      "On iteration 322, fit quality of MAX -inf, MEAN -inf, MEDIAN -inf\n",
      "On iteration 323, fit quality of MAX -inf, MEAN -inf, MEDIAN -inf\n",
      "On iteration 324, fit quality of MAX -inf, MEAN -inf, MEDIAN -inf\n",
      "On iteration 325, fit quality of MAX -inf, MEAN -inf, MEDIAN -inf\n",
      "On iteration 326, fit quality of MAX -inf, MEAN -inf, MEDIAN -inf\n",
      "On iteration 327, fit quality of MAX -inf, MEAN -inf, MEDIAN -inf\n",
      "On iteration 328, fit quality of MAX -inf, MEAN -inf, MEDIAN -inf\n",
      "On iteration 329, fit quality of MAX -inf, MEAN -inf, MEDIAN -inf\n",
      "On iteration 330, fit quality of MAX -inf, MEAN -inf, MEDIAN -inf\n",
      "On iteration 331, fit quality of MAX -inf, MEAN -inf, MEDIAN -inf\n",
      "On iteration 332, fit quality of MAX -inf, MEAN -inf, MEDIAN -inf\n",
      "On iteration 333, fit quality of MAX -inf, MEAN -inf, MEDIAN -inf\n",
      "On iteration 334, fit quality of MAX -inf, MEAN -inf, MEDIAN -inf\n",
      "On iteration 335, fit quality of MAX -inf, MEAN -inf, MEDIAN -inf\n",
      "On iteration 336, fit quality of MAX -inf, MEAN -inf, MEDIAN -inf\n",
      "On iteration 337, fit quality of MAX -inf, MEAN -inf, MEDIAN -inf\n",
      "On iteration 338, fit quality of MAX -inf, MEAN -inf, MEDIAN -inf\n",
      "On iteration 339, fit quality of MAX -inf, MEAN -inf, MEDIAN -inf\n",
      "On iteration 340, fit quality of MAX -inf, MEAN -inf, MEDIAN -inf\n",
      "On iteration 341, fit quality of MAX -inf, MEAN -inf, MEDIAN -inf\n",
      "On iteration 342, fit quality of MAX -inf, MEAN -inf, MEDIAN -inf\n",
      "On iteration 343, fit quality of MAX -inf, MEAN -inf, MEDIAN -inf\n",
      "On iteration 344, fit quality of MAX -inf, MEAN -inf, MEDIAN -inf\n",
      "On iteration 345, fit quality of MAX -inf, MEAN -inf, MEDIAN -inf\n",
      "On iteration 346, fit quality of MAX -inf, MEAN -inf, MEDIAN -inf\n",
      "On iteration 347, fit quality of MAX -inf, MEAN -inf, MEDIAN -inf\n",
      "On iteration 348, fit quality of MAX -inf, MEAN -inf, MEDIAN -inf\n",
      "On iteration 349, fit quality of MAX -inf, MEAN -inf, MEDIAN -inf\n",
      "On iteration 350, fit quality of MAX -inf, MEAN -inf, MEDIAN -inf\n",
      "On iteration 351, fit quality of MAX -inf, MEAN -inf, MEDIAN -inf\n",
      "On iteration 352, fit quality of MAX -inf, MEAN -inf, MEDIAN -inf\n",
      "On iteration 353, fit quality of MAX -inf, MEAN -inf, MEDIAN -inf\n",
      "On iteration 354, fit quality of MAX -inf, MEAN -inf, MEDIAN -inf\n",
      "On iteration 355, fit quality of MAX -inf, MEAN -inf, MEDIAN -inf\n",
      "On iteration 356, fit quality of MAX -inf, MEAN -inf, MEDIAN -inf\n",
      "On iteration 357, fit quality of MAX -inf, MEAN -inf, MEDIAN -inf\n",
      "On iteration 358, fit quality of MAX -inf, MEAN -inf, MEDIAN -inf\n",
      "On iteration 359, fit quality of MAX -inf, MEAN -inf, MEDIAN -inf\n",
      "On iteration 360, fit quality of MAX -inf, MEAN -inf, MEDIAN -inf\n",
      "On iteration 361, fit quality of MAX -inf, MEAN -inf, MEDIAN -inf\n",
      "On iteration 362, fit quality of MAX -inf, MEAN -inf, MEDIAN -inf\n",
      "On iteration 363, fit quality of MAX -inf, MEAN -inf, MEDIAN -inf\n",
      "On iteration 364, fit quality of MAX -inf, MEAN -inf, MEDIAN -inf\n",
      "On iteration 365, fit quality of MAX -inf, MEAN -inf, MEDIAN -inf\n",
      "On iteration 366, fit quality of MAX -inf, MEAN -inf, MEDIAN -inf\n",
      "On iteration 367, fit quality of MAX -inf, MEAN -inf, MEDIAN -inf\n",
      "On iteration 368, fit quality of MAX -inf, MEAN -inf, MEDIAN -inf\n",
      "On iteration 369, fit quality of MAX -inf, MEAN -inf, MEDIAN -inf\n",
      "On iteration 370, fit quality of MAX -inf, MEAN -inf, MEDIAN -inf\n",
      "On iteration 371, fit quality of MAX -inf, MEAN -inf, MEDIAN -inf\n",
      "On iteration 372, fit quality of MAX -inf, MEAN -inf, MEDIAN -inf\n",
      "On iteration 373, fit quality of MAX -inf, MEAN -inf, MEDIAN -inf\n",
      "On iteration 374, fit quality of MAX -inf, MEAN -inf, MEDIAN -inf\n",
      "On iteration 375, fit quality of MAX -inf, MEAN -inf, MEDIAN -inf\n",
      "On iteration 376, fit quality of MAX -inf, MEAN -inf, MEDIAN -inf\n",
      "On iteration 377, fit quality of MAX -inf, MEAN -inf, MEDIAN -inf\n",
      "On iteration 378, fit quality of MAX -inf, MEAN -inf, MEDIAN -inf\n",
      "On iteration 379, fit quality of MAX -inf, MEAN -inf, MEDIAN -inf\n",
      "On iteration 380, fit quality of MAX -inf, MEAN -inf, MEDIAN -inf\n",
      "On iteration 381, fit quality of MAX -inf, MEAN -inf, MEDIAN -inf\n",
      "On iteration 382, fit quality of MAX -inf, MEAN -inf, MEDIAN -inf\n",
      "On iteration 383, fit quality of MAX -inf, MEAN -inf, MEDIAN -inf\n",
      "On iteration 384, fit quality of MAX -inf, MEAN -inf, MEDIAN -inf\n",
      "On iteration 385, fit quality of MAX -inf, MEAN -inf, MEDIAN -inf\n",
      "On iteration 386, fit quality of MAX -inf, MEAN -inf, MEDIAN -inf\n",
      "On iteration 387, fit quality of MAX -inf, MEAN -inf, MEDIAN -inf\n",
      "On iteration 388, fit quality of MAX -inf, MEAN -inf, MEDIAN -inf\n",
      "On iteration 389, fit quality of MAX -inf, MEAN -inf, MEDIAN -inf\n",
      "On iteration 390, fit quality of MAX -inf, MEAN -inf, MEDIAN -inf\n",
      "On iteration 391, fit quality of MAX -inf, MEAN -inf, MEDIAN -inf\n",
      "On iteration 392, fit quality of MAX -inf, MEAN -inf, MEDIAN -inf\n",
      "On iteration 393, fit quality of MAX -inf, MEAN -inf, MEDIAN -inf\n",
      "On iteration 394, fit quality of MAX -inf, MEAN -inf, MEDIAN -inf\n",
      "On iteration 395, fit quality of MAX -inf, MEAN -inf, MEDIAN -inf\n",
      "On iteration 396, fit quality of MAX -inf, MEAN -inf, MEDIAN -inf\n",
      "On iteration 397, fit quality of MAX -inf, MEAN -inf, MEDIAN -inf\n",
      "On iteration 398, fit quality of MAX -inf, MEAN -inf, MEDIAN -inf\n",
      "On iteration 399, fit quality of MAX -inf, MEAN -inf, MEDIAN -inf\n",
      "On iteration 400, fit quality of MAX -inf, MEAN -inf, MEDIAN -inf\n",
      "On iteration 401, fit quality of MAX -inf, MEAN -inf, MEDIAN -inf\n",
      "On iteration 402, fit quality of MAX -inf, MEAN -inf, MEDIAN -inf\n",
      "On iteration 403, fit quality of MAX -inf, MEAN -inf, MEDIAN -inf\n",
      "On iteration 404, fit quality of MAX -inf, MEAN -inf, MEDIAN -inf\n",
      "On iteration 405, fit quality of MAX -inf, MEAN -inf, MEDIAN -inf\n",
      "On iteration 406, fit quality of MAX -inf, MEAN -inf, MEDIAN -inf\n",
      "On iteration 407, fit quality of MAX -inf, MEAN -inf, MEDIAN -inf\n",
      "On iteration 408, fit quality of MAX -inf, MEAN -inf, MEDIAN -inf\n",
      "On iteration 409, fit quality of MAX -inf, MEAN -inf, MEDIAN -inf\n",
      "On iteration 410, fit quality of MAX -inf, MEAN -inf, MEDIAN -inf\n",
      "On iteration 411, fit quality of MAX -inf, MEAN -inf, MEDIAN -inf\n",
      "On iteration 412, fit quality of MAX -inf, MEAN -inf, MEDIAN -inf\n",
      "On iteration 413, fit quality of MAX -inf, MEAN -inf, MEDIAN -inf\n",
      "On iteration 414, fit quality of MAX -inf, MEAN -inf, MEDIAN -inf\n",
      "On iteration 415, fit quality of MAX -inf, MEAN -inf, MEDIAN -inf\n",
      "On iteration 416, fit quality of MAX -inf, MEAN -inf, MEDIAN -inf\n",
      "On iteration 417, fit quality of MAX -inf, MEAN -inf, MEDIAN -inf\n",
      "On iteration 418, fit quality of MAX -inf, MEAN -inf, MEDIAN -inf\n",
      "On iteration 419, fit quality of MAX -inf, MEAN -inf, MEDIAN -inf\n",
      "On iteration 420, fit quality of MAX -inf, MEAN -inf, MEDIAN -inf\n",
      "On iteration 421, fit quality of MAX -inf, MEAN -inf, MEDIAN -inf\n",
      "On iteration 422, fit quality of MAX -inf, MEAN -inf, MEDIAN -inf\n",
      "On iteration 423, fit quality of MAX -inf, MEAN -inf, MEDIAN -inf\n",
      "On iteration 424, fit quality of MAX -inf, MEAN -inf, MEDIAN -inf\n",
      "On iteration 425, fit quality of MAX -inf, MEAN -inf, MEDIAN -inf\n",
      "On iteration 426, fit quality of MAX -inf, MEAN -inf, MEDIAN -inf\n",
      "On iteration 427, fit quality of MAX -inf, MEAN -inf, MEDIAN -inf\n",
      "On iteration 428, fit quality of MAX -inf, MEAN -inf, MEDIAN -inf\n",
      "On iteration 429, fit quality of MAX -inf, MEAN -inf, MEDIAN -inf\n",
      "On iteration 430, fit quality of MAX -inf, MEAN -inf, MEDIAN -inf\n",
      "On iteration 431, fit quality of MAX -inf, MEAN -inf, MEDIAN -inf\n",
      "On iteration 432, fit quality of MAX -inf, MEAN -inf, MEDIAN -inf\n",
      "On iteration 433, fit quality of MAX -inf, MEAN -inf, MEDIAN -inf\n",
      "On iteration 434, fit quality of MAX -inf, MEAN -inf, MEDIAN -inf\n",
      "On iteration 435, fit quality of MAX -inf, MEAN -inf, MEDIAN -inf\n",
      "On iteration 436, fit quality of MAX -inf, MEAN -inf, MEDIAN -inf\n",
      "On iteration 437, fit quality of MAX -inf, MEAN -inf, MEDIAN -inf\n",
      "On iteration 438, fit quality of MAX -inf, MEAN -inf, MEDIAN -inf\n",
      "On iteration 439, fit quality of MAX -inf, MEAN -inf, MEDIAN -inf\n",
      "On iteration 440, fit quality of MAX -inf, MEAN -inf, MEDIAN -inf\n",
      "On iteration 441, fit quality of MAX -inf, MEAN -inf, MEDIAN -inf\n",
      "On iteration 442, fit quality of MAX -inf, MEAN -inf, MEDIAN -inf\n",
      "On iteration 443, fit quality of MAX -inf, MEAN -inf, MEDIAN -inf\n",
      "On iteration 444, fit quality of MAX -inf, MEAN -inf, MEDIAN -inf\n",
      "On iteration 445, fit quality of MAX -inf, MEAN -inf, MEDIAN -inf\n",
      "On iteration 446, fit quality of MAX -inf, MEAN -inf, MEDIAN -inf\n",
      "On iteration 447, fit quality of MAX -inf, MEAN -inf, MEDIAN -inf\n",
      "On iteration 448, fit quality of MAX -inf, MEAN -inf, MEDIAN -inf\n",
      "On iteration 449, fit quality of MAX -inf, MEAN -inf, MEDIAN -inf\n",
      "On iteration 450, fit quality of MAX -inf, MEAN -inf, MEDIAN -inf\n",
      "On iteration 451, fit quality of MAX -inf, MEAN -inf, MEDIAN -inf\n",
      "On iteration 452, fit quality of MAX -inf, MEAN -inf, MEDIAN -inf\n",
      "On iteration 453, fit quality of MAX -inf, MEAN -inf, MEDIAN -inf\n",
      "On iteration 454, fit quality of MAX -inf, MEAN -inf, MEDIAN -inf\n",
      "On iteration 455, fit quality of MAX -inf, MEAN -inf, MEDIAN -inf\n",
      "On iteration 456, fit quality of MAX -inf, MEAN -inf, MEDIAN -inf\n",
      "On iteration 457, fit quality of MAX -inf, MEAN -inf, MEDIAN -inf\n",
      "On iteration 458, fit quality of MAX -inf, MEAN -inf, MEDIAN -inf\n",
      "On iteration 459, fit quality of MAX -inf, MEAN -inf, MEDIAN -inf\n",
      "On iteration 460, fit quality of MAX -inf, MEAN -inf, MEDIAN -inf\n",
      "On iteration 461, fit quality of MAX -inf, MEAN -inf, MEDIAN -inf\n",
      "On iteration 462, fit quality of MAX -inf, MEAN -inf, MEDIAN -inf\n",
      "On iteration 463, fit quality of MAX -inf, MEAN -inf, MEDIAN -inf\n",
      "On iteration 464, fit quality of MAX -inf, MEAN -inf, MEDIAN -inf\n",
      "On iteration 465, fit quality of MAX -inf, MEAN -inf, MEDIAN -inf\n",
      "On iteration 466, fit quality of MAX -inf, MEAN -inf, MEDIAN -inf\n",
      "On iteration 467, fit quality of MAX -inf, MEAN -inf, MEDIAN -inf\n",
      "On iteration 468, fit quality of MAX -inf, MEAN -inf, MEDIAN -inf\n",
      "On iteration 469, fit quality of MAX -inf, MEAN -inf, MEDIAN -inf\n",
      "On iteration 470, fit quality of MAX -inf, MEAN -inf, MEDIAN -inf\n",
      "On iteration 471, fit quality of MAX -inf, MEAN -inf, MEDIAN -inf\n",
      "On iteration 472, fit quality of MAX -inf, MEAN -inf, MEDIAN -inf\n",
      "On iteration 473, fit quality of MAX -inf, MEAN -inf, MEDIAN -inf\n",
      "On iteration 474, fit quality of MAX -inf, MEAN -inf, MEDIAN -inf\n",
      "On iteration 475, fit quality of MAX -inf, MEAN -inf, MEDIAN -inf\n",
      "On iteration 476, fit quality of MAX -inf, MEAN -inf, MEDIAN -inf\n",
      "On iteration 477, fit quality of MAX -inf, MEAN -inf, MEDIAN -inf\n",
      "On iteration 478, fit quality of MAX -inf, MEAN -inf, MEDIAN -inf\n",
      "On iteration 479, fit quality of MAX -inf, MEAN -inf, MEDIAN -inf\n",
      "On iteration 480, fit quality of MAX -inf, MEAN -inf, MEDIAN -inf\n",
      "On iteration 481, fit quality of MAX -inf, MEAN -inf, MEDIAN -inf\n",
      "On iteration 482, fit quality of MAX -inf, MEAN -inf, MEDIAN -inf\n",
      "On iteration 483, fit quality of MAX -inf, MEAN -inf, MEDIAN -inf\n",
      "On iteration 484, fit quality of MAX -inf, MEAN -inf, MEDIAN -inf\n",
      "On iteration 485, fit quality of MAX -inf, MEAN -inf, MEDIAN -inf\n",
      "On iteration 486, fit quality of MAX -inf, MEAN -inf, MEDIAN -inf\n",
      "On iteration 487, fit quality of MAX -inf, MEAN -inf, MEDIAN -inf\n",
      "On iteration 488, fit quality of MAX -inf, MEAN -inf, MEDIAN -inf\n",
      "On iteration 489, fit quality of MAX -inf, MEAN -inf, MEDIAN -inf\n",
      "On iteration 490, fit quality of MAX -inf, MEAN -inf, MEDIAN -inf\n",
      "On iteration 491, fit quality of MAX -inf, MEAN -inf, MEDIAN -inf\n",
      "On iteration 492, fit quality of MAX -inf, MEAN -inf, MEDIAN -inf\n",
      "On iteration 493, fit quality of MAX -inf, MEAN -inf, MEDIAN -inf\n",
      "On iteration 494, fit quality of MAX -inf, MEAN -inf, MEDIAN -inf\n",
      "On iteration 495, fit quality of MAX -inf, MEAN -inf, MEDIAN -inf\n",
      "On iteration 496, fit quality of MAX -inf, MEAN -inf, MEDIAN -inf\n",
      "On iteration 497, fit quality of MAX -inf, MEAN -inf, MEDIAN -inf\n",
      "On iteration 498, fit quality of MAX -inf, MEAN -inf, MEDIAN -inf\n",
      "On iteration 499, fit quality of MAX -inf, MEAN -inf, MEDIAN -inf\n",
      "On iteration 500, fit quality of MAX -inf, MEAN -inf, MEDIAN -inf\n",
      "On iteration 501, fit quality of MAX -inf, MEAN -inf, MEDIAN -inf\n",
      "On iteration 502, fit quality of MAX -inf, MEAN -inf, MEDIAN -inf\n",
      "On iteration 503, fit quality of MAX -inf, MEAN -inf, MEDIAN -inf\n",
      "On iteration 504, fit quality of MAX -inf, MEAN -inf, MEDIAN -inf\n",
      "On iteration 505, fit quality of MAX -inf, MEAN -inf, MEDIAN -inf\n",
      "On iteration 506, fit quality of MAX -inf, MEAN -inf, MEDIAN -inf\n",
      "On iteration 507, fit quality of MAX -inf, MEAN -inf, MEDIAN -inf\n",
      "On iteration 508, fit quality of MAX -inf, MEAN -inf, MEDIAN -inf\n",
      "On iteration 509, fit quality of MAX -inf, MEAN -inf, MEDIAN -inf\n",
      "On iteration 510, fit quality of MAX -inf, MEAN -inf, MEDIAN -inf\n",
      "On iteration 511, fit quality of MAX -inf, MEAN -inf, MEDIAN -inf\n",
      "On iteration 512, fit quality of MAX -inf, MEAN -inf, MEDIAN -inf\n",
      "On iteration 513, fit quality of MAX -inf, MEAN -inf, MEDIAN -inf\n",
      "On iteration 514, fit quality of MAX -inf, MEAN -inf, MEDIAN -inf\n",
      "On iteration 515, fit quality of MAX -inf, MEAN -inf, MEDIAN -inf\n",
      "On iteration 516, fit quality of MAX -inf, MEAN -inf, MEDIAN -inf\n",
      "On iteration 517, fit quality of MAX -inf, MEAN -inf, MEDIAN -inf\n",
      "On iteration 518, fit quality of MAX -inf, MEAN -inf, MEDIAN -inf\n",
      "On iteration 519, fit quality of MAX -inf, MEAN -inf, MEDIAN -inf\n",
      "On iteration 520, fit quality of MAX -inf, MEAN -inf, MEDIAN -inf\n",
      "On iteration 521, fit quality of MAX -inf, MEAN -inf, MEDIAN -inf\n",
      "On iteration 522, fit quality of MAX -inf, MEAN -inf, MEDIAN -inf\n",
      "On iteration 523, fit quality of MAX -inf, MEAN -inf, MEDIAN -inf\n",
      "On iteration 524, fit quality of MAX -inf, MEAN -inf, MEDIAN -inf\n",
      "On iteration 525, fit quality of MAX -inf, MEAN -inf, MEDIAN -inf\n",
      "On iteration 526, fit quality of MAX -inf, MEAN -inf, MEDIAN -inf\n",
      "On iteration 527, fit quality of MAX -inf, MEAN -inf, MEDIAN -inf\n",
      "On iteration 528, fit quality of MAX -inf, MEAN -inf, MEDIAN -inf\n",
      "On iteration 529, fit quality of MAX -inf, MEAN -inf, MEDIAN -inf\n",
      "On iteration 530, fit quality of MAX -inf, MEAN -inf, MEDIAN -inf\n",
      "On iteration 531, fit quality of MAX -inf, MEAN -inf, MEDIAN -inf\n",
      "On iteration 532, fit quality of MAX -inf, MEAN -inf, MEDIAN -inf\n",
      "On iteration 533, fit quality of MAX -inf, MEAN -inf, MEDIAN -inf\n",
      "On iteration 534, fit quality of MAX -inf, MEAN -inf, MEDIAN -inf\n",
      "On iteration 535, fit quality of MAX -inf, MEAN -inf, MEDIAN -inf\n",
      "On iteration 536, fit quality of MAX -inf, MEAN -inf, MEDIAN -inf\n",
      "On iteration 537, fit quality of MAX -inf, MEAN -inf, MEDIAN -inf\n",
      "On iteration 538, fit quality of MAX -inf, MEAN -inf, MEDIAN -inf\n",
      "On iteration 539, fit quality of MAX -inf, MEAN -inf, MEDIAN -inf\n",
      "On iteration 540, fit quality of MAX -inf, MEAN -inf, MEDIAN -inf\n",
      "On iteration 541, fit quality of MAX -inf, MEAN -inf, MEDIAN -inf\n",
      "On iteration 542, fit quality of MAX -inf, MEAN -inf, MEDIAN -inf\n",
      "On iteration 543, fit quality of MAX -inf, MEAN -inf, MEDIAN -inf\n",
      "On iteration 544, fit quality of MAX -inf, MEAN -inf, MEDIAN -inf\n",
      "On iteration 545, fit quality of MAX -inf, MEAN -inf, MEDIAN -inf\n",
      "On iteration 546, fit quality of MAX -inf, MEAN -inf, MEDIAN -inf\n",
      "On iteration 547, fit quality of MAX -inf, MEAN -inf, MEDIAN -inf\n",
      "On iteration 548, fit quality of MAX -inf, MEAN -inf, MEDIAN -inf\n",
      "On iteration 549, fit quality of MAX -inf, MEAN -inf, MEDIAN -inf\n",
      "On iteration 550, fit quality of MAX -inf, MEAN -inf, MEDIAN -inf\n",
      "On iteration 551, fit quality of MAX -inf, MEAN -inf, MEDIAN -inf\n",
      "On iteration 552, fit quality of MAX -inf, MEAN -inf, MEDIAN -inf\n",
      "On iteration 553, fit quality of MAX -inf, MEAN -inf, MEDIAN -inf\n",
      "On iteration 554, fit quality of MAX -inf, MEAN -inf, MEDIAN -inf\n",
      "On iteration 555, fit quality of MAX -inf, MEAN -inf, MEDIAN -inf\n",
      "On iteration 556, fit quality of MAX -inf, MEAN -inf, MEDIAN -inf\n",
      "On iteration 557, fit quality of MAX -inf, MEAN -inf, MEDIAN -inf\n",
      "On iteration 558, fit quality of MAX -inf, MEAN -inf, MEDIAN -inf\n",
      "On iteration 559, fit quality of MAX -inf, MEAN -inf, MEDIAN -inf\n",
      "On iteration 560, fit quality of MAX -inf, MEAN -inf, MEDIAN -inf\n",
      "On iteration 561, fit quality of MAX -inf, MEAN -inf, MEDIAN -inf\n",
      "On iteration 562, fit quality of MAX -inf, MEAN -inf, MEDIAN -inf\n",
      "On iteration 563, fit quality of MAX -inf, MEAN -inf, MEDIAN -inf\n",
      "On iteration 564, fit quality of MAX -inf, MEAN -inf, MEDIAN -inf\n",
      "On iteration 565, fit quality of MAX -inf, MEAN -inf, MEDIAN -inf\n",
      "On iteration 566, fit quality of MAX -inf, MEAN -inf, MEDIAN -inf\n",
      "On iteration 567, fit quality of MAX -inf, MEAN -inf, MEDIAN -inf\n",
      "On iteration 568, fit quality of MAX -inf, MEAN -inf, MEDIAN -inf\n",
      "On iteration 569, fit quality of MAX -inf, MEAN -inf, MEDIAN -inf\n",
      "On iteration 570, fit quality of MAX -inf, MEAN -inf, MEDIAN -inf\n",
      "On iteration 571, fit quality of MAX -inf, MEAN -inf, MEDIAN -inf\n",
      "On iteration 572, fit quality of MAX -inf, MEAN -inf, MEDIAN -inf\n",
      "On iteration 573, fit quality of MAX -inf, MEAN -inf, MEDIAN -inf\n",
      "On iteration 574, fit quality of MAX -inf, MEAN -inf, MEDIAN -inf\n",
      "On iteration 575, fit quality of MAX -inf, MEAN -inf, MEDIAN -inf\n",
      "On iteration 576, fit quality of MAX -inf, MEAN -inf, MEDIAN -inf\n",
      "On iteration 577, fit quality of MAX -inf, MEAN -inf, MEDIAN -inf\n",
      "On iteration 578, fit quality of MAX -inf, MEAN -inf, MEDIAN -inf\n",
      "On iteration 579, fit quality of MAX -inf, MEAN -inf, MEDIAN -inf\n",
      "On iteration 580, fit quality of MAX -inf, MEAN -inf, MEDIAN -inf\n",
      "On iteration 581, fit quality of MAX -inf, MEAN -inf, MEDIAN -inf\n",
      "On iteration 582, fit quality of MAX -inf, MEAN -inf, MEDIAN -inf\n",
      "On iteration 583, fit quality of MAX -inf, MEAN -inf, MEDIAN -inf\n",
      "On iteration 584, fit quality of MAX -inf, MEAN -inf, MEDIAN -inf\n",
      "On iteration 585, fit quality of MAX -inf, MEAN -inf, MEDIAN -inf\n",
      "On iteration 586, fit quality of MAX -inf, MEAN -inf, MEDIAN -inf\n",
      "On iteration 587, fit quality of MAX -inf, MEAN -inf, MEDIAN -inf\n",
      "On iteration 588, fit quality of MAX -inf, MEAN -inf, MEDIAN -inf\n",
      "On iteration 589, fit quality of MAX -inf, MEAN -inf, MEDIAN -inf\n",
      "On iteration 590, fit quality of MAX -inf, MEAN -inf, MEDIAN -inf\n",
      "On iteration 591, fit quality of MAX -inf, MEAN -inf, MEDIAN -inf\n",
      "On iteration 592, fit quality of MAX -inf, MEAN -inf, MEDIAN -inf\n",
      "On iteration 593, fit quality of MAX -inf, MEAN -inf, MEDIAN -inf\n",
      "On iteration 594, fit quality of MAX -inf, MEAN -inf, MEDIAN -inf\n",
      "On iteration 595, fit quality of MAX -inf, MEAN -inf, MEDIAN -inf\n",
      "On iteration 596, fit quality of MAX -inf, MEAN -inf, MEDIAN -inf\n",
      "On iteration 597, fit quality of MAX -inf, MEAN -inf, MEDIAN -inf\n",
      "On iteration 598, fit quality of MAX -inf, MEAN -inf, MEDIAN -inf\n",
      "On iteration 599, fit quality of MAX -inf, MEAN -inf, MEDIAN -inf\n",
      "On iteration 600, fit quality of MAX -inf, MEAN -inf, MEDIAN -inf\n",
      "On iteration 601, fit quality of MAX -inf, MEAN -inf, MEDIAN -inf\n",
      "On iteration 602, fit quality of MAX -inf, MEAN -inf, MEDIAN -inf\n",
      "On iteration 603, fit quality of MAX -inf, MEAN -inf, MEDIAN -inf\n",
      "On iteration 604, fit quality of MAX -inf, MEAN -inf, MEDIAN -inf\n",
      "On iteration 605, fit quality of MAX -inf, MEAN -inf, MEDIAN -inf\n",
      "On iteration 606, fit quality of MAX -inf, MEAN -inf, MEDIAN -inf\n",
      "On iteration 607, fit quality of MAX -inf, MEAN -inf, MEDIAN -inf\n",
      "On iteration 608, fit quality of MAX -inf, MEAN -inf, MEDIAN -inf\n",
      "On iteration 609, fit quality of MAX -inf, MEAN -inf, MEDIAN -inf\n",
      "On iteration 610, fit quality of MAX -inf, MEAN -inf, MEDIAN -inf\n",
      "On iteration 611, fit quality of MAX -inf, MEAN -inf, MEDIAN -inf\n",
      "On iteration 612, fit quality of MAX -inf, MEAN -inf, MEDIAN -inf\n",
      "On iteration 613, fit quality of MAX -inf, MEAN -inf, MEDIAN -inf\n",
      "On iteration 614, fit quality of MAX -inf, MEAN -inf, MEDIAN -inf\n",
      "On iteration 615, fit quality of MAX -inf, MEAN -inf, MEDIAN -inf\n",
      "On iteration 616, fit quality of MAX -inf, MEAN -inf, MEDIAN -inf\n",
      "On iteration 617, fit quality of MAX -inf, MEAN -inf, MEDIAN -inf\n",
      "On iteration 618, fit quality of MAX -inf, MEAN -inf, MEDIAN -inf\n",
      "On iteration 619, fit quality of MAX -inf, MEAN -inf, MEDIAN -inf\n",
      "On iteration 620, fit quality of MAX -inf, MEAN -inf, MEDIAN -inf\n",
      "On iteration 621, fit quality of MAX -inf, MEAN -inf, MEDIAN -inf\n",
      "On iteration 622, fit quality of MAX -inf, MEAN -inf, MEDIAN -inf\n",
      "On iteration 623, fit quality of MAX -inf, MEAN -inf, MEDIAN -inf\n",
      "On iteration 624, fit quality of MAX -inf, MEAN -inf, MEDIAN -inf\n",
      "On iteration 625, fit quality of MAX -inf, MEAN -inf, MEDIAN -inf\n",
      "On iteration 626, fit quality of MAX -inf, MEAN -inf, MEDIAN -inf\n",
      "On iteration 627, fit quality of MAX -inf, MEAN -inf, MEDIAN -inf\n",
      "On iteration 628, fit quality of MAX -inf, MEAN -inf, MEDIAN -inf\n",
      "On iteration 629, fit quality of MAX -inf, MEAN -inf, MEDIAN -inf\n",
      "On iteration 630, fit quality of MAX -inf, MEAN -inf, MEDIAN -inf\n",
      "On iteration 631, fit quality of MAX -inf, MEAN -inf, MEDIAN -inf\n",
      "On iteration 632, fit quality of MAX -inf, MEAN -inf, MEDIAN -inf\n",
      "On iteration 633, fit quality of MAX -inf, MEAN -inf, MEDIAN -inf\n",
      "On iteration 634, fit quality of MAX -inf, MEAN -inf, MEDIAN -inf\n",
      "On iteration 635, fit quality of MAX -inf, MEAN -inf, MEDIAN -inf\n",
      "On iteration 636, fit quality of MAX -inf, MEAN -inf, MEDIAN -inf\n",
      "On iteration 637, fit quality of MAX -inf, MEAN -inf, MEDIAN -inf\n",
      "On iteration 638, fit quality of MAX -inf, MEAN -inf, MEDIAN -inf\n",
      "On iteration 639, fit quality of MAX -inf, MEAN -inf, MEDIAN -inf\n",
      "On iteration 640, fit quality of MAX -inf, MEAN -inf, MEDIAN -inf\n",
      "On iteration 641, fit quality of MAX -inf, MEAN -inf, MEDIAN -inf\n",
      "On iteration 642, fit quality of MAX -inf, MEAN -inf, MEDIAN -inf\n",
      "On iteration 643, fit quality of MAX -inf, MEAN -inf, MEDIAN -inf\n",
      "On iteration 644, fit quality of MAX -inf, MEAN -inf, MEDIAN -inf\n",
      "On iteration 645, fit quality of MAX -inf, MEAN -inf, MEDIAN -inf\n",
      "On iteration 646, fit quality of MAX -inf, MEAN -inf, MEDIAN -inf\n",
      "On iteration 647, fit quality of MAX -inf, MEAN -inf, MEDIAN -inf\n",
      "On iteration 648, fit quality of MAX -inf, MEAN -inf, MEDIAN -inf\n",
      "On iteration 649, fit quality of MAX -inf, MEAN -inf, MEDIAN -inf\n",
      "On iteration 650, fit quality of MAX -inf, MEAN -inf, MEDIAN -inf\n",
      "On iteration 651, fit quality of MAX -inf, MEAN -inf, MEDIAN -inf\n",
      "On iteration 652, fit quality of MAX -inf, MEAN -inf, MEDIAN -inf\n",
      "On iteration 653, fit quality of MAX -inf, MEAN -inf, MEDIAN -inf\n",
      "On iteration 654, fit quality of MAX -inf, MEAN -inf, MEDIAN -inf\n",
      "On iteration 655, fit quality of MAX -inf, MEAN -inf, MEDIAN -inf\n",
      "On iteration 656, fit quality of MAX -inf, MEAN -inf, MEDIAN -inf\n",
      "On iteration 657, fit quality of MAX -inf, MEAN -inf, MEDIAN -inf\n",
      "On iteration 658, fit quality of MAX -inf, MEAN -inf, MEDIAN -inf\n",
      "On iteration 659, fit quality of MAX -inf, MEAN -inf, MEDIAN -inf\n",
      "On iteration 660, fit quality of MAX -inf, MEAN -inf, MEDIAN -inf\n",
      "On iteration 661, fit quality of MAX -inf, MEAN -inf, MEDIAN -inf\n",
      "On iteration 662, fit quality of MAX -inf, MEAN -inf, MEDIAN -inf\n",
      "On iteration 663, fit quality of MAX -inf, MEAN -inf, MEDIAN -inf\n",
      "On iteration 664, fit quality of MAX -inf, MEAN -inf, MEDIAN -inf\n",
      "On iteration 665, fit quality of MAX -inf, MEAN -inf, MEDIAN -inf\n",
      "On iteration 666, fit quality of MAX -inf, MEAN -inf, MEDIAN -inf\n",
      "On iteration 667, fit quality of MAX -inf, MEAN -inf, MEDIAN -inf\n",
      "On iteration 668, fit quality of MAX -inf, MEAN -inf, MEDIAN -inf\n",
      "On iteration 669, fit quality of MAX -inf, MEAN -inf, MEDIAN -inf\n",
      "On iteration 670, fit quality of MAX -inf, MEAN -inf, MEDIAN -inf\n",
      "On iteration 671, fit quality of MAX -inf, MEAN -inf, MEDIAN -inf\n",
      "On iteration 672, fit quality of MAX -inf, MEAN -inf, MEDIAN -inf\n",
      "On iteration 673, fit quality of MAX -inf, MEAN -inf, MEDIAN -inf\n",
      "On iteration 674, fit quality of MAX -inf, MEAN -inf, MEDIAN -inf\n",
      "On iteration 675, fit quality of MAX -inf, MEAN -inf, MEDIAN -inf\n",
      "On iteration 676, fit quality of MAX -inf, MEAN -inf, MEDIAN -inf\n",
      "On iteration 677, fit quality of MAX -inf, MEAN -inf, MEDIAN -inf\n",
      "On iteration 678, fit quality of MAX -inf, MEAN -inf, MEDIAN -inf\n",
      "On iteration 679, fit quality of MAX -inf, MEAN -inf, MEDIAN -inf\n",
      "On iteration 680, fit quality of MAX -inf, MEAN -inf, MEDIAN -inf\n",
      "On iteration 681, fit quality of MAX -inf, MEAN -inf, MEDIAN -inf\n",
      "On iteration 682, fit quality of MAX -inf, MEAN -inf, MEDIAN -inf\n",
      "On iteration 683, fit quality of MAX -inf, MEAN -inf, MEDIAN -inf\n",
      "On iteration 684, fit quality of MAX -inf, MEAN -inf, MEDIAN -inf\n",
      "On iteration 685, fit quality of MAX -inf, MEAN -inf, MEDIAN -inf\n",
      "On iteration 686, fit quality of MAX -inf, MEAN -inf, MEDIAN -inf\n",
      "On iteration 687, fit quality of MAX -inf, MEAN -inf, MEDIAN -inf\n",
      "On iteration 688, fit quality of MAX -inf, MEAN -inf, MEDIAN -inf\n",
      "On iteration 689, fit quality of MAX -inf, MEAN -inf, MEDIAN -inf\n",
      "On iteration 690, fit quality of MAX -inf, MEAN -inf, MEDIAN -inf\n",
      "On iteration 691, fit quality of MAX -inf, MEAN -inf, MEDIAN -inf\n",
      "On iteration 692, fit quality of MAX -inf, MEAN -inf, MEDIAN -inf\n",
      "On iteration 693, fit quality of MAX -inf, MEAN -inf, MEDIAN -inf\n",
      "On iteration 694, fit quality of MAX -inf, MEAN -inf, MEDIAN -inf\n",
      "On iteration 695, fit quality of MAX -inf, MEAN -inf, MEDIAN -inf\n",
      "On iteration 696, fit quality of MAX -inf, MEAN -inf, MEDIAN -inf\n",
      "On iteration 697, fit quality of MAX -inf, MEAN -inf, MEDIAN -inf\n",
      "On iteration 698, fit quality of MAX -inf, MEAN -inf, MEDIAN -inf\n",
      "On iteration 699, fit quality of MAX -inf, MEAN -inf, MEDIAN -inf\n",
      "On iteration 700, fit quality of MAX -inf, MEAN -inf, MEDIAN -inf\n",
      "On iteration 701, fit quality of MAX -inf, MEAN -inf, MEDIAN -inf\n",
      "On iteration 702, fit quality of MAX -inf, MEAN -inf, MEDIAN -inf\n",
      "On iteration 703, fit quality of MAX -inf, MEAN -inf, MEDIAN -inf\n",
      "On iteration 704, fit quality of MAX -inf, MEAN -inf, MEDIAN -inf\n",
      "On iteration 705, fit quality of MAX -inf, MEAN -inf, MEDIAN -inf\n",
      "On iteration 706, fit quality of MAX -inf, MEAN -inf, MEDIAN -inf\n",
      "On iteration 707, fit quality of MAX -inf, MEAN -inf, MEDIAN -inf\n",
      "On iteration 708, fit quality of MAX -inf, MEAN -inf, MEDIAN -inf\n",
      "On iteration 709, fit quality of MAX -inf, MEAN -inf, MEDIAN -inf\n",
      "On iteration 710, fit quality of MAX -inf, MEAN -inf, MEDIAN -inf\n",
      "On iteration 711, fit quality of MAX -inf, MEAN -inf, MEDIAN -inf\n",
      "On iteration 712, fit quality of MAX -inf, MEAN -inf, MEDIAN -inf\n",
      "On iteration 713, fit quality of MAX -inf, MEAN -inf, MEDIAN -inf\n",
      "On iteration 714, fit quality of MAX -inf, MEAN -inf, MEDIAN -inf\n",
      "On iteration 715, fit quality of MAX -inf, MEAN -inf, MEDIAN -inf\n",
      "On iteration 716, fit quality of MAX -inf, MEAN -inf, MEDIAN -inf\n",
      "On iteration 717, fit quality of MAX -inf, MEAN -inf, MEDIAN -inf\n",
      "On iteration 718, fit quality of MAX -inf, MEAN -inf, MEDIAN -inf\n",
      "On iteration 719, fit quality of MAX -inf, MEAN -inf, MEDIAN -inf\n",
      "On iteration 720, fit quality of MAX -inf, MEAN -inf, MEDIAN -inf\n",
      "On iteration 721, fit quality of MAX -inf, MEAN -inf, MEDIAN -inf\n",
      "On iteration 722, fit quality of MAX -inf, MEAN -inf, MEDIAN -inf\n",
      "On iteration 723, fit quality of MAX -inf, MEAN -inf, MEDIAN -inf\n",
      "On iteration 724, fit quality of MAX -inf, MEAN -inf, MEDIAN -inf\n",
      "On iteration 725, fit quality of MAX -inf, MEAN -inf, MEDIAN -inf\n",
      "On iteration 726, fit quality of MAX -inf, MEAN -inf, MEDIAN -inf\n",
      "On iteration 727, fit quality of MAX -inf, MEAN -inf, MEDIAN -inf\n",
      "On iteration 728, fit quality of MAX -inf, MEAN -inf, MEDIAN -inf\n",
      "On iteration 729, fit quality of MAX -inf, MEAN -inf, MEDIAN -inf\n",
      "On iteration 730, fit quality of MAX -inf, MEAN -inf, MEDIAN -inf\n",
      "On iteration 731, fit quality of MAX -inf, MEAN -inf, MEDIAN -inf\n",
      "On iteration 732, fit quality of MAX -inf, MEAN -inf, MEDIAN -inf\n",
      "On iteration 733, fit quality of MAX -inf, MEAN -inf, MEDIAN -inf\n",
      "On iteration 734, fit quality of MAX -inf, MEAN -inf, MEDIAN -inf\n",
      "On iteration 735, fit quality of MAX -inf, MEAN -inf, MEDIAN -inf\n",
      "On iteration 736, fit quality of MAX -inf, MEAN -inf, MEDIAN -inf\n",
      "On iteration 737, fit quality of MAX -inf, MEAN -inf, MEDIAN -inf\n",
      "On iteration 738, fit quality of MAX -inf, MEAN -inf, MEDIAN -inf\n",
      "On iteration 739, fit quality of MAX -inf, MEAN -inf, MEDIAN -inf\n",
      "On iteration 740, fit quality of MAX -inf, MEAN -inf, MEDIAN -inf\n",
      "On iteration 741, fit quality of MAX -inf, MEAN -inf, MEDIAN -inf\n",
      "On iteration 742, fit quality of MAX -inf, MEAN -inf, MEDIAN -inf\n",
      "On iteration 743, fit quality of MAX -inf, MEAN -inf, MEDIAN -inf\n",
      "On iteration 744, fit quality of MAX -inf, MEAN -inf, MEDIAN -inf\n",
      "On iteration 745, fit quality of MAX -inf, MEAN -inf, MEDIAN -inf\n",
      "On iteration 746, fit quality of MAX -inf, MEAN -inf, MEDIAN -inf\n",
      "On iteration 747, fit quality of MAX -inf, MEAN -inf, MEDIAN -inf\n",
      "On iteration 748, fit quality of MAX -inf, MEAN -inf, MEDIAN -inf\n",
      "On iteration 749, fit quality of MAX -inf, MEAN -inf, MEDIAN -inf\n",
      "On iteration 750, fit quality of MAX -inf, MEAN -inf, MEDIAN -inf\n",
      "On iteration 751, fit quality of MAX -inf, MEAN -inf, MEDIAN -inf\n",
      "On iteration 752, fit quality of MAX -inf, MEAN -inf, MEDIAN -inf\n",
      "On iteration 753, fit quality of MAX -inf, MEAN -inf, MEDIAN -inf\n",
      "On iteration 754, fit quality of MAX -inf, MEAN -inf, MEDIAN -inf\n",
      "On iteration 755, fit quality of MAX -inf, MEAN -inf, MEDIAN -inf\n",
      "On iteration 756, fit quality of MAX -inf, MEAN -inf, MEDIAN -inf\n",
      "On iteration 757, fit quality of MAX -inf, MEAN -inf, MEDIAN -inf\n",
      "On iteration 758, fit quality of MAX -inf, MEAN -inf, MEDIAN -inf\n",
      "On iteration 759, fit quality of MAX -inf, MEAN -inf, MEDIAN -inf\n",
      "On iteration 760, fit quality of MAX -inf, MEAN -inf, MEDIAN -inf\n",
      "On iteration 761, fit quality of MAX -inf, MEAN -inf, MEDIAN -inf\n",
      "On iteration 762, fit quality of MAX -inf, MEAN -inf, MEDIAN -inf\n",
      "On iteration 763, fit quality of MAX -inf, MEAN -inf, MEDIAN -inf\n",
      "On iteration 764, fit quality of MAX -inf, MEAN -inf, MEDIAN -inf\n",
      "On iteration 765, fit quality of MAX -inf, MEAN -inf, MEDIAN -inf\n",
      "On iteration 766, fit quality of MAX -inf, MEAN -inf, MEDIAN -inf\n",
      "On iteration 767, fit quality of MAX -inf, MEAN -inf, MEDIAN -inf\n",
      "On iteration 768, fit quality of MAX -inf, MEAN -inf, MEDIAN -inf\n",
      "On iteration 769, fit quality of MAX -inf, MEAN -inf, MEDIAN -inf\n",
      "On iteration 770, fit quality of MAX -inf, MEAN -inf, MEDIAN -inf\n",
      "On iteration 771, fit quality of MAX -inf, MEAN -inf, MEDIAN -inf\n",
      "On iteration 772, fit quality of MAX -inf, MEAN -inf, MEDIAN -inf\n",
      "On iteration 773, fit quality of MAX -inf, MEAN -inf, MEDIAN -inf\n",
      "On iteration 774, fit quality of MAX -inf, MEAN -inf, MEDIAN -inf\n",
      "On iteration 775, fit quality of MAX -inf, MEAN -inf, MEDIAN -inf\n",
      "On iteration 776, fit quality of MAX -inf, MEAN -inf, MEDIAN -inf\n",
      "On iteration 777, fit quality of MAX -inf, MEAN -inf, MEDIAN -inf\n",
      "On iteration 778, fit quality of MAX -inf, MEAN -inf, MEDIAN -inf\n",
      "On iteration 779, fit quality of MAX -inf, MEAN -inf, MEDIAN -inf\n",
      "On iteration 780, fit quality of MAX -inf, MEAN -inf, MEDIAN -inf\n",
      "On iteration 781, fit quality of MAX -inf, MEAN -inf, MEDIAN -inf\n",
      "On iteration 782, fit quality of MAX -inf, MEAN -inf, MEDIAN -inf\n",
      "On iteration 783, fit quality of MAX -inf, MEAN -inf, MEDIAN -inf\n",
      "On iteration 784, fit quality of MAX -inf, MEAN -inf, MEDIAN -inf\n",
      "On iteration 785, fit quality of MAX -inf, MEAN -inf, MEDIAN -inf\n",
      "On iteration 786, fit quality of MAX -inf, MEAN -inf, MEDIAN -inf\n",
      "On iteration 787, fit quality of MAX -inf, MEAN -inf, MEDIAN -inf\n",
      "On iteration 788, fit quality of MAX -inf, MEAN -inf, MEDIAN -inf\n",
      "On iteration 789, fit quality of MAX -inf, MEAN -inf, MEDIAN -inf\n",
      "On iteration 790, fit quality of MAX -inf, MEAN -inf, MEDIAN -inf\n",
      "On iteration 791, fit quality of MAX -inf, MEAN -inf, MEDIAN -inf\n",
      "On iteration 792, fit quality of MAX -inf, MEAN -inf, MEDIAN -inf\n",
      "On iteration 793, fit quality of MAX -inf, MEAN -inf, MEDIAN -inf\n",
      "On iteration 794, fit quality of MAX -inf, MEAN -inf, MEDIAN -inf\n",
      "On iteration 795, fit quality of MAX -inf, MEAN -inf, MEDIAN -inf\n",
      "On iteration 796, fit quality of MAX -inf, MEAN -inf, MEDIAN -inf\n",
      "On iteration 797, fit quality of MAX -inf, MEAN -inf, MEDIAN -inf\n",
      "On iteration 798, fit quality of MAX -inf, MEAN -inf, MEDIAN -inf\n",
      "On iteration 799, fit quality of MAX -inf, MEAN -inf, MEDIAN -inf\n",
      "On iteration 800, fit quality of MAX -inf, MEAN -inf, MEDIAN -inf\n",
      "On iteration 801, fit quality of MAX -inf, MEAN -inf, MEDIAN -inf\n",
      "On iteration 802, fit quality of MAX -inf, MEAN -inf, MEDIAN -inf\n",
      "On iteration 803, fit quality of MAX -inf, MEAN -inf, MEDIAN -inf\n",
      "On iteration 804, fit quality of MAX -inf, MEAN -inf, MEDIAN -inf\n",
      "On iteration 805, fit quality of MAX -inf, MEAN -inf, MEDIAN -inf\n",
      "On iteration 806, fit quality of MAX -inf, MEAN -inf, MEDIAN -inf\n",
      "On iteration 807, fit quality of MAX -inf, MEAN -inf, MEDIAN -inf\n",
      "On iteration 808, fit quality of MAX -inf, MEAN -inf, MEDIAN -inf\n",
      "On iteration 809, fit quality of MAX -inf, MEAN -inf, MEDIAN -inf\n",
      "On iteration 810, fit quality of MAX -inf, MEAN -inf, MEDIAN -inf\n",
      "On iteration 811, fit quality of MAX -inf, MEAN -inf, MEDIAN -inf\n",
      "On iteration 812, fit quality of MAX -inf, MEAN -inf, MEDIAN -inf\n",
      "On iteration 813, fit quality of MAX -inf, MEAN -inf, MEDIAN -inf\n",
      "On iteration 814, fit quality of MAX -inf, MEAN -inf, MEDIAN -inf\n",
      "On iteration 815, fit quality of MAX -inf, MEAN -inf, MEDIAN -inf\n",
      "On iteration 816, fit quality of MAX -inf, MEAN -inf, MEDIAN -inf\n",
      "On iteration 817, fit quality of MAX -inf, MEAN -inf, MEDIAN -inf\n",
      "On iteration 818, fit quality of MAX -inf, MEAN -inf, MEDIAN -inf\n",
      "On iteration 819, fit quality of MAX -inf, MEAN -inf, MEDIAN -inf\n",
      "On iteration 820, fit quality of MAX -inf, MEAN -inf, MEDIAN -inf\n",
      "On iteration 821, fit quality of MAX -inf, MEAN -inf, MEDIAN -inf\n",
      "On iteration 822, fit quality of MAX -inf, MEAN -inf, MEDIAN -inf\n",
      "On iteration 823, fit quality of MAX -inf, MEAN -inf, MEDIAN -inf\n",
      "On iteration 824, fit quality of MAX -inf, MEAN -inf, MEDIAN -inf\n",
      "On iteration 825, fit quality of MAX -inf, MEAN -inf, MEDIAN -inf\n",
      "On iteration 826, fit quality of MAX -inf, MEAN -inf, MEDIAN -inf\n",
      "On iteration 827, fit quality of MAX -inf, MEAN -inf, MEDIAN -inf\n",
      "On iteration 828, fit quality of MAX -inf, MEAN -inf, MEDIAN -inf\n",
      "On iteration 829, fit quality of MAX -inf, MEAN -inf, MEDIAN -inf\n",
      "On iteration 830, fit quality of MAX -inf, MEAN -inf, MEDIAN -inf\n",
      "On iteration 831, fit quality of MAX -inf, MEAN -inf, MEDIAN -inf\n",
      "On iteration 832, fit quality of MAX -inf, MEAN -inf, MEDIAN -inf\n",
      "On iteration 833, fit quality of MAX -inf, MEAN -inf, MEDIAN -inf\n",
      "On iteration 834, fit quality of MAX -inf, MEAN -inf, MEDIAN -inf\n",
      "On iteration 835, fit quality of MAX -inf, MEAN -inf, MEDIAN -inf\n",
      "On iteration 836, fit quality of MAX -inf, MEAN -inf, MEDIAN -inf\n",
      "On iteration 837, fit quality of MAX -inf, MEAN -inf, MEDIAN -inf\n",
      "On iteration 838, fit quality of MAX -inf, MEAN -inf, MEDIAN -inf\n",
      "On iteration 839, fit quality of MAX -inf, MEAN -inf, MEDIAN -inf\n",
      "On iteration 840, fit quality of MAX -inf, MEAN -inf, MEDIAN -inf\n",
      "On iteration 841, fit quality of MAX -inf, MEAN -inf, MEDIAN -inf\n",
      "On iteration 842, fit quality of MAX -inf, MEAN -inf, MEDIAN -inf\n",
      "On iteration 843, fit quality of MAX -inf, MEAN -inf, MEDIAN -inf\n",
      "On iteration 844, fit quality of MAX -inf, MEAN -inf, MEDIAN -inf\n",
      "On iteration 845, fit quality of MAX -inf, MEAN -inf, MEDIAN -inf\n",
      "On iteration 846, fit quality of MAX -inf, MEAN -inf, MEDIAN -inf\n",
      "On iteration 847, fit quality of MAX -inf, MEAN -inf, MEDIAN -inf\n",
      "On iteration 848, fit quality of MAX -inf, MEAN -inf, MEDIAN -inf\n",
      "On iteration 849, fit quality of MAX -inf, MEAN -inf, MEDIAN -inf\n",
      "On iteration 850, fit quality of MAX -inf, MEAN -inf, MEDIAN -inf\n",
      "On iteration 851, fit quality of MAX -inf, MEAN -inf, MEDIAN -inf\n",
      "On iteration 852, fit quality of MAX -inf, MEAN -inf, MEDIAN -inf\n",
      "On iteration 853, fit quality of MAX -inf, MEAN -inf, MEDIAN -inf\n",
      "On iteration 854, fit quality of MAX -inf, MEAN -inf, MEDIAN -inf\n",
      "On iteration 855, fit quality of MAX -inf, MEAN -inf, MEDIAN -inf\n",
      "On iteration 856, fit quality of MAX -inf, MEAN -inf, MEDIAN -inf\n",
      "On iteration 857, fit quality of MAX -inf, MEAN -inf, MEDIAN -inf\n",
      "On iteration 858, fit quality of MAX -inf, MEAN -inf, MEDIAN -inf\n",
      "On iteration 859, fit quality of MAX -inf, MEAN -inf, MEDIAN -inf\n",
      "On iteration 860, fit quality of MAX -inf, MEAN -inf, MEDIAN -inf\n",
      "On iteration 861, fit quality of MAX -inf, MEAN -inf, MEDIAN -inf\n",
      "On iteration 862, fit quality of MAX -inf, MEAN -inf, MEDIAN -inf\n",
      "On iteration 863, fit quality of MAX -inf, MEAN -inf, MEDIAN -inf\n",
      "On iteration 864, fit quality of MAX -inf, MEAN -inf, MEDIAN -inf\n",
      "On iteration 865, fit quality of MAX -inf, MEAN -inf, MEDIAN -inf\n",
      "On iteration 866, fit quality of MAX -inf, MEAN -inf, MEDIAN -inf\n",
      "On iteration 867, fit quality of MAX -inf, MEAN -inf, MEDIAN -inf\n",
      "On iteration 868, fit quality of MAX -inf, MEAN -inf, MEDIAN -inf\n",
      "On iteration 869, fit quality of MAX -inf, MEAN -inf, MEDIAN -inf\n",
      "On iteration 870, fit quality of MAX -inf, MEAN -inf, MEDIAN -inf\n",
      "On iteration 871, fit quality of MAX -inf, MEAN -inf, MEDIAN -inf\n",
      "On iteration 872, fit quality of MAX -inf, MEAN -inf, MEDIAN -inf\n",
      "On iteration 873, fit quality of MAX -inf, MEAN -inf, MEDIAN -inf\n",
      "On iteration 874, fit quality of MAX -inf, MEAN -inf, MEDIAN -inf\n",
      "On iteration 875, fit quality of MAX -inf, MEAN -inf, MEDIAN -inf\n",
      "On iteration 876, fit quality of MAX -inf, MEAN -inf, MEDIAN -inf\n",
      "On iteration 877, fit quality of MAX -inf, MEAN -inf, MEDIAN -inf\n",
      "On iteration 878, fit quality of MAX -inf, MEAN -inf, MEDIAN -inf\n",
      "On iteration 879, fit quality of MAX -inf, MEAN -inf, MEDIAN -inf\n",
      "On iteration 880, fit quality of MAX -inf, MEAN -inf, MEDIAN -inf\n",
      "On iteration 881, fit quality of MAX -inf, MEAN -inf, MEDIAN -inf\n",
      "On iteration 882, fit quality of MAX -inf, MEAN -inf, MEDIAN -inf\n",
      "On iteration 883, fit quality of MAX -inf, MEAN -inf, MEDIAN -inf\n",
      "On iteration 884, fit quality of MAX -inf, MEAN -inf, MEDIAN -inf\n",
      "On iteration 885, fit quality of MAX -inf, MEAN -inf, MEDIAN -inf\n",
      "On iteration 886, fit quality of MAX -inf, MEAN -inf, MEDIAN -inf\n",
      "On iteration 887, fit quality of MAX -inf, MEAN -inf, MEDIAN -inf\n",
      "On iteration 888, fit quality of MAX -inf, MEAN -inf, MEDIAN -inf\n",
      "On iteration 889, fit quality of MAX -inf, MEAN -inf, MEDIAN -inf\n",
      "On iteration 890, fit quality of MAX -inf, MEAN -inf, MEDIAN -inf\n",
      "On iteration 891, fit quality of MAX -inf, MEAN -inf, MEDIAN -inf\n",
      "On iteration 892, fit quality of MAX -inf, MEAN -inf, MEDIAN -inf\n",
      "On iteration 893, fit quality of MAX -inf, MEAN -inf, MEDIAN -inf\n",
      "On iteration 894, fit quality of MAX -inf, MEAN -inf, MEDIAN -inf\n",
      "On iteration 895, fit quality of MAX -inf, MEAN -inf, MEDIAN -inf\n",
      "On iteration 896, fit quality of MAX -inf, MEAN -inf, MEDIAN -inf\n",
      "On iteration 897, fit quality of MAX -inf, MEAN -inf, MEDIAN -inf\n",
      "On iteration 898, fit quality of MAX -inf, MEAN -inf, MEDIAN -inf\n",
      "On iteration 899, fit quality of MAX -inf, MEAN -inf, MEDIAN -inf\n",
      "On iteration 900, fit quality of MAX -inf, MEAN -inf, MEDIAN -inf\n",
      "On iteration 901, fit quality of MAX -inf, MEAN -inf, MEDIAN -inf\n",
      "On iteration 902, fit quality of MAX -inf, MEAN -inf, MEDIAN -inf\n",
      "On iteration 903, fit quality of MAX -inf, MEAN -inf, MEDIAN -inf\n",
      "On iteration 904, fit quality of MAX -inf, MEAN -inf, MEDIAN -inf\n",
      "On iteration 905, fit quality of MAX -inf, MEAN -inf, MEDIAN -inf\n",
      "On iteration 906, fit quality of MAX -inf, MEAN -inf, MEDIAN -inf\n",
      "On iteration 907, fit quality of MAX -inf, MEAN -inf, MEDIAN -inf\n",
      "On iteration 908, fit quality of MAX -inf, MEAN -inf, MEDIAN -inf\n",
      "On iteration 909, fit quality of MAX -inf, MEAN -inf, MEDIAN -inf\n",
      "On iteration 910, fit quality of MAX -inf, MEAN -inf, MEDIAN -inf\n",
      "On iteration 911, fit quality of MAX -inf, MEAN -inf, MEDIAN -inf\n",
      "On iteration 912, fit quality of MAX -inf, MEAN -inf, MEDIAN -inf\n",
      "On iteration 913, fit quality of MAX -inf, MEAN -inf, MEDIAN -inf\n",
      "On iteration 914, fit quality of MAX -inf, MEAN -inf, MEDIAN -inf\n",
      "On iteration 915, fit quality of MAX -inf, MEAN -inf, MEDIAN -inf\n",
      "On iteration 916, fit quality of MAX -inf, MEAN -inf, MEDIAN -inf\n",
      "On iteration 917, fit quality of MAX -inf, MEAN -inf, MEDIAN -inf\n",
      "On iteration 918, fit quality of MAX -inf, MEAN -inf, MEDIAN -inf\n",
      "On iteration 919, fit quality of MAX -inf, MEAN -inf, MEDIAN -inf\n",
      "On iteration 920, fit quality of MAX -inf, MEAN -inf, MEDIAN -inf\n",
      "On iteration 921, fit quality of MAX -inf, MEAN -inf, MEDIAN -inf\n",
      "On iteration 922, fit quality of MAX -inf, MEAN -inf, MEDIAN -inf\n",
      "On iteration 923, fit quality of MAX -inf, MEAN -inf, MEDIAN -inf\n",
      "On iteration 924, fit quality of MAX -inf, MEAN -inf, MEDIAN -inf\n",
      "On iteration 925, fit quality of MAX -inf, MEAN -inf, MEDIAN -inf\n",
      "On iteration 926, fit quality of MAX -inf, MEAN -inf, MEDIAN -inf\n",
      "On iteration 927, fit quality of MAX -inf, MEAN -inf, MEDIAN -inf\n",
      "On iteration 928, fit quality of MAX -inf, MEAN -inf, MEDIAN -inf\n",
      "On iteration 929, fit quality of MAX -inf, MEAN -inf, MEDIAN -inf\n",
      "On iteration 930, fit quality of MAX -inf, MEAN -inf, MEDIAN -inf\n",
      "On iteration 931, fit quality of MAX -inf, MEAN -inf, MEDIAN -inf\n",
      "On iteration 932, fit quality of MAX -inf, MEAN -inf, MEDIAN -inf\n",
      "On iteration 933, fit quality of MAX -inf, MEAN -inf, MEDIAN -inf\n",
      "On iteration 934, fit quality of MAX -inf, MEAN -inf, MEDIAN -inf\n",
      "On iteration 935, fit quality of MAX -inf, MEAN -inf, MEDIAN -inf\n",
      "On iteration 936, fit quality of MAX -inf, MEAN -inf, MEDIAN -inf\n",
      "On iteration 937, fit quality of MAX -inf, MEAN -inf, MEDIAN -inf\n",
      "On iteration 938, fit quality of MAX -inf, MEAN -inf, MEDIAN -inf\n",
      "On iteration 939, fit quality of MAX -inf, MEAN -inf, MEDIAN -inf\n",
      "On iteration 940, fit quality of MAX -inf, MEAN -inf, MEDIAN -inf\n",
      "On iteration 941, fit quality of MAX -inf, MEAN -inf, MEDIAN -inf\n",
      "On iteration 942, fit quality of MAX -inf, MEAN -inf, MEDIAN -inf\n",
      "On iteration 943, fit quality of MAX -inf, MEAN -inf, MEDIAN -inf\n",
      "On iteration 944, fit quality of MAX -inf, MEAN -inf, MEDIAN -inf\n",
      "On iteration 945, fit quality of MAX -inf, MEAN -inf, MEDIAN -inf\n",
      "On iteration 946, fit quality of MAX -inf, MEAN -inf, MEDIAN -inf\n",
      "On iteration 947, fit quality of MAX -inf, MEAN -inf, MEDIAN -inf\n",
      "On iteration 948, fit quality of MAX -inf, MEAN -inf, MEDIAN -inf\n",
      "On iteration 949, fit quality of MAX -inf, MEAN -inf, MEDIAN -inf\n",
      "On iteration 950, fit quality of MAX -inf, MEAN -inf, MEDIAN -inf\n",
      "On iteration 951, fit quality of MAX -inf, MEAN -inf, MEDIAN -inf\n",
      "On iteration 952, fit quality of MAX -inf, MEAN -inf, MEDIAN -inf\n",
      "On iteration 953, fit quality of MAX -inf, MEAN -inf, MEDIAN -inf\n",
      "On iteration 954, fit quality of MAX -inf, MEAN -inf, MEDIAN -inf\n",
      "On iteration 955, fit quality of MAX -inf, MEAN -inf, MEDIAN -inf\n",
      "On iteration 956, fit quality of MAX -inf, MEAN -inf, MEDIAN -inf\n",
      "On iteration 957, fit quality of MAX -inf, MEAN -inf, MEDIAN -inf\n",
      "On iteration 958, fit quality of MAX -inf, MEAN -inf, MEDIAN -inf\n",
      "On iteration 959, fit quality of MAX -inf, MEAN -inf, MEDIAN -inf\n",
      "On iteration 960, fit quality of MAX -inf, MEAN -inf, MEDIAN -inf\n",
      "On iteration 961, fit quality of MAX -inf, MEAN -inf, MEDIAN -inf\n",
      "On iteration 962, fit quality of MAX -inf, MEAN -inf, MEDIAN -inf\n",
      "On iteration 963, fit quality of MAX -inf, MEAN -inf, MEDIAN -inf\n",
      "On iteration 964, fit quality of MAX -inf, MEAN -inf, MEDIAN -inf\n",
      "On iteration 965, fit quality of MAX -inf, MEAN -inf, MEDIAN -inf\n",
      "On iteration 966, fit quality of MAX -inf, MEAN -inf, MEDIAN -inf\n",
      "On iteration 967, fit quality of MAX -inf, MEAN -inf, MEDIAN -inf\n",
      "On iteration 968, fit quality of MAX -inf, MEAN -inf, MEDIAN -inf\n",
      "On iteration 969, fit quality of MAX -inf, MEAN -inf, MEDIAN -inf\n",
      "On iteration 970, fit quality of MAX -inf, MEAN -inf, MEDIAN -inf\n",
      "On iteration 971, fit quality of MAX -inf, MEAN -inf, MEDIAN -inf\n",
      "On iteration 972, fit quality of MAX -inf, MEAN -inf, MEDIAN -inf\n",
      "On iteration 973, fit quality of MAX -inf, MEAN -inf, MEDIAN -inf\n",
      "On iteration 974, fit quality of MAX -inf, MEAN -inf, MEDIAN -inf\n",
      "On iteration 975, fit quality of MAX -inf, MEAN -inf, MEDIAN -inf\n",
      "On iteration 976, fit quality of MAX -inf, MEAN -inf, MEDIAN -inf\n",
      "On iteration 977, fit quality of MAX -inf, MEAN -inf, MEDIAN -inf\n",
      "On iteration 978, fit quality of MAX -inf, MEAN -inf, MEDIAN -inf\n",
      "On iteration 979, fit quality of MAX -inf, MEAN -inf, MEDIAN -inf\n",
      "On iteration 980, fit quality of MAX -inf, MEAN -inf, MEDIAN -inf\n",
      "On iteration 981, fit quality of MAX -inf, MEAN -inf, MEDIAN -inf\n",
      "On iteration 982, fit quality of MAX -inf, MEAN -inf, MEDIAN -inf\n",
      "On iteration 983, fit quality of MAX -inf, MEAN -inf, MEDIAN -inf\n",
      "On iteration 984, fit quality of MAX -inf, MEAN -inf, MEDIAN -inf\n",
      "On iteration 985, fit quality of MAX -inf, MEAN -inf, MEDIAN -inf\n",
      "On iteration 986, fit quality of MAX -inf, MEAN -inf, MEDIAN -inf\n",
      "On iteration 987, fit quality of MAX -inf, MEAN -inf, MEDIAN -inf\n",
      "On iteration 988, fit quality of MAX -inf, MEAN -inf, MEDIAN -inf\n",
      "On iteration 989, fit quality of MAX -inf, MEAN -inf, MEDIAN -inf\n",
      "On iteration 990, fit quality of MAX -inf, MEAN -inf, MEDIAN -inf\n",
      "On iteration 991, fit quality of MAX -inf, MEAN -inf, MEDIAN -inf\n",
      "On iteration 992, fit quality of MAX -inf, MEAN -inf, MEDIAN -inf\n",
      "On iteration 993, fit quality of MAX -inf, MEAN -inf, MEDIAN -inf\n",
      "On iteration 994, fit quality of MAX -inf, MEAN -inf, MEDIAN -inf\n",
      "On iteration 995, fit quality of MAX -inf, MEAN -inf, MEDIAN -inf\n",
      "On iteration 996, fit quality of MAX -inf, MEAN -inf, MEDIAN -inf\n",
      "On iteration 997, fit quality of MAX -inf, MEAN -inf, MEDIAN -inf\n",
      "On iteration 998, fit quality of MAX -inf, MEAN -inf, MEDIAN -inf\n",
      "On iteration 999, fit quality of MAX -inf, MEAN -inf, MEDIAN -inf\n",
      "On iteration 1000, fit quality of MAX -inf, MEAN -inf, MEDIAN -inf\n",
      "On iteration 1001, fit quality of MAX -inf, MEAN -inf, MEDIAN -inf\n",
      "On iteration 1002, fit quality of MAX -inf, MEAN -inf, MEDIAN -inf\n",
      "On iteration 1003, fit quality of MAX -inf, MEAN -inf, MEDIAN -inf\n",
      "On iteration 1004, fit quality of MAX -inf, MEAN -inf, MEDIAN -inf\n",
      "On iteration 1005, fit quality of MAX -inf, MEAN -inf, MEDIAN -inf\n",
      "On iteration 1006, fit quality of MAX -inf, MEAN -inf, MEDIAN -inf\n",
      "On iteration 1007, fit quality of MAX -inf, MEAN -inf, MEDIAN -inf\n",
      "On iteration 1008, fit quality of MAX -inf, MEAN -inf, MEDIAN -inf\n",
      "On iteration 1009, fit quality of MAX -inf, MEAN -inf, MEDIAN -inf\n",
      "On iteration 1010, fit quality of MAX -inf, MEAN -inf, MEDIAN -inf\n",
      "On iteration 1011, fit quality of MAX -inf, MEAN -inf, MEDIAN -inf\n",
      "On iteration 1012, fit quality of MAX -inf, MEAN -inf, MEDIAN -inf\n",
      "On iteration 1013, fit quality of MAX -inf, MEAN -inf, MEDIAN -inf\n",
      "On iteration 1014, fit quality of MAX -inf, MEAN -inf, MEDIAN -inf\n",
      "On iteration 1015, fit quality of MAX -inf, MEAN -inf, MEDIAN -inf\n",
      "On iteration 1016, fit quality of MAX -inf, MEAN -inf, MEDIAN -inf\n",
      "On iteration 1017, fit quality of MAX -inf, MEAN -inf, MEDIAN -inf\n",
      "On iteration 1018, fit quality of MAX -inf, MEAN -inf, MEDIAN -inf\n",
      "On iteration 1019, fit quality of MAX -inf, MEAN -inf, MEDIAN -inf\n",
      "On iteration 1020, fit quality of MAX -inf, MEAN -inf, MEDIAN -inf\n",
      "On iteration 1021, fit quality of MAX -inf, MEAN -inf, MEDIAN -inf\n",
      "On iteration 1022, fit quality of MAX -inf, MEAN -inf, MEDIAN -inf\n",
      "On iteration 1023, fit quality of MAX -inf, MEAN -inf, MEDIAN -inf\n",
      "On iteration 1024, fit quality of MAX -inf, MEAN -inf, MEDIAN -inf\n",
      "On iteration 1025, fit quality of MAX -inf, MEAN -inf, MEDIAN -inf\n",
      "On iteration 1026, fit quality of MAX -inf, MEAN -inf, MEDIAN -inf\n",
      "On iteration 1027, fit quality of MAX -inf, MEAN -inf, MEDIAN -inf\n",
      "On iteration 1028, fit quality of MAX -inf, MEAN -inf, MEDIAN -inf\n",
      "On iteration 1029, fit quality of MAX -inf, MEAN -inf, MEDIAN -inf\n",
      "On iteration 1030, fit quality of MAX -inf, MEAN -inf, MEDIAN -inf\n",
      "On iteration 1031, fit quality of MAX -inf, MEAN -inf, MEDIAN -inf\n",
      "On iteration 1032, fit quality of MAX -inf, MEAN -inf, MEDIAN -inf\n",
      "On iteration 1033, fit quality of MAX -inf, MEAN -inf, MEDIAN -inf\n",
      "On iteration 1034, fit quality of MAX -inf, MEAN -inf, MEDIAN -inf\n",
      "On iteration 1035, fit quality of MAX -inf, MEAN -inf, MEDIAN -inf\n",
      "On iteration 1036, fit quality of MAX -inf, MEAN -inf, MEDIAN -inf\n",
      "On iteration 1037, fit quality of MAX -inf, MEAN -inf, MEDIAN -inf\n",
      "On iteration 1038, fit quality of MAX -inf, MEAN -inf, MEDIAN -inf\n",
      "On iteration 1039, fit quality of MAX -inf, MEAN -inf, MEDIAN -inf\n",
      "On iteration 1040, fit quality of MAX -inf, MEAN -inf, MEDIAN -inf\n",
      "On iteration 1041, fit quality of MAX -inf, MEAN -inf, MEDIAN -inf\n",
      "On iteration 1042, fit quality of MAX -inf, MEAN -inf, MEDIAN -inf\n",
      "On iteration 1043, fit quality of MAX -inf, MEAN -inf, MEDIAN -inf\n",
      "On iteration 1044, fit quality of MAX -inf, MEAN -inf, MEDIAN -inf\n",
      "On iteration 1045, fit quality of MAX -inf, MEAN -inf, MEDIAN -inf\n",
      "On iteration 1046, fit quality of MAX -inf, MEAN -inf, MEDIAN -inf\n",
      "On iteration 1047, fit quality of MAX -inf, MEAN -inf, MEDIAN -inf\n",
      "On iteration 1048, fit quality of MAX -inf, MEAN -inf, MEDIAN -inf\n",
      "On iteration 1049, fit quality of MAX -inf, MEAN -inf, MEDIAN -inf\n",
      "On iteration 1050, fit quality of MAX -inf, MEAN -inf, MEDIAN -inf\n",
      "On iteration 1051, fit quality of MAX -inf, MEAN -inf, MEDIAN -inf\n",
      "On iteration 1052, fit quality of MAX -inf, MEAN -inf, MEDIAN -inf\n",
      "On iteration 1053, fit quality of MAX -inf, MEAN -inf, MEDIAN -inf\n",
      "On iteration 1054, fit quality of MAX -inf, MEAN -inf, MEDIAN -inf\n",
      "On iteration 1055, fit quality of MAX -inf, MEAN -inf, MEDIAN -inf\n",
      "On iteration 1056, fit quality of MAX -inf, MEAN -inf, MEDIAN -inf\n",
      "On iteration 1057, fit quality of MAX -inf, MEAN -inf, MEDIAN -inf\n",
      "On iteration 1058, fit quality of MAX -inf, MEAN -inf, MEDIAN -inf\n",
      "On iteration 1059, fit quality of MAX -inf, MEAN -inf, MEDIAN -inf\n",
      "On iteration 1060, fit quality of MAX -inf, MEAN -inf, MEDIAN -inf\n",
      "On iteration 1061, fit quality of MAX -inf, MEAN -inf, MEDIAN -inf\n",
      "On iteration 1062, fit quality of MAX -inf, MEAN -inf, MEDIAN -inf\n",
      "On iteration 1063, fit quality of MAX -inf, MEAN -inf, MEDIAN -inf\n",
      "On iteration 1064, fit quality of MAX -inf, MEAN -inf, MEDIAN -inf\n",
      "On iteration 1065, fit quality of MAX -inf, MEAN -inf, MEDIAN -inf\n",
      "On iteration 1066, fit quality of MAX -inf, MEAN -inf, MEDIAN -inf\n",
      "On iteration 1067, fit quality of MAX -inf, MEAN -inf, MEDIAN -inf\n",
      "On iteration 1068, fit quality of MAX -inf, MEAN -inf, MEDIAN -inf\n",
      "On iteration 1069, fit quality of MAX -inf, MEAN -inf, MEDIAN -inf\n",
      "On iteration 1070, fit quality of MAX -inf, MEAN -inf, MEDIAN -inf\n",
      "On iteration 1071, fit quality of MAX -inf, MEAN -inf, MEDIAN -inf\n",
      "On iteration 1072, fit quality of MAX -inf, MEAN -inf, MEDIAN -inf\n",
      "On iteration 1073, fit quality of MAX -inf, MEAN -inf, MEDIAN -inf\n",
      "On iteration 1074, fit quality of MAX -inf, MEAN -inf, MEDIAN -inf\n",
      "On iteration 1075, fit quality of MAX -inf, MEAN -inf, MEDIAN -inf\n",
      "On iteration 1076, fit quality of MAX -inf, MEAN -inf, MEDIAN -inf\n",
      "On iteration 1077, fit quality of MAX -inf, MEAN -inf, MEDIAN -inf\n",
      "On iteration 1078, fit quality of MAX -inf, MEAN -inf, MEDIAN -inf\n",
      "On iteration 1079, fit quality of MAX -inf, MEAN -inf, MEDIAN -inf\n",
      "On iteration 1080, fit quality of MAX -inf, MEAN -inf, MEDIAN -inf\n",
      "On iteration 1081, fit quality of MAX -inf, MEAN -inf, MEDIAN -inf\n",
      "On iteration 1082, fit quality of MAX -inf, MEAN -inf, MEDIAN -inf\n",
      "On iteration 1083, fit quality of MAX -inf, MEAN -inf, MEDIAN -inf\n",
      "On iteration 1084, fit quality of MAX -inf, MEAN -inf, MEDIAN -inf\n",
      "On iteration 1085, fit quality of MAX -inf, MEAN -inf, MEDIAN -inf\n",
      "On iteration 1086, fit quality of MAX -inf, MEAN -inf, MEDIAN -inf\n",
      "On iteration 1087, fit quality of MAX -inf, MEAN -inf, MEDIAN -inf\n",
      "On iteration 1088, fit quality of MAX -inf, MEAN -inf, MEDIAN -inf\n",
      "On iteration 1089, fit quality of MAX -inf, MEAN -inf, MEDIAN -inf\n",
      "On iteration 1090, fit quality of MAX -inf, MEAN -inf, MEDIAN -inf\n",
      "On iteration 1091, fit quality of MAX -inf, MEAN -inf, MEDIAN -inf\n",
      "On iteration 1092, fit quality of MAX -inf, MEAN -inf, MEDIAN -inf\n",
      "On iteration 1093, fit quality of MAX -inf, MEAN -inf, MEDIAN -inf\n",
      "On iteration 1094, fit quality of MAX -inf, MEAN -inf, MEDIAN -inf\n",
      "On iteration 1095, fit quality of MAX -inf, MEAN -inf, MEDIAN -inf\n",
      "On iteration 1096, fit quality of MAX -inf, MEAN -inf, MEDIAN -inf\n",
      "On iteration 1097, fit quality of MAX -inf, MEAN -inf, MEDIAN -inf\n",
      "On iteration 1098, fit quality of MAX -inf, MEAN -inf, MEDIAN -inf\n",
      "On iteration 1099, fit quality of MAX -inf, MEAN -inf, MEDIAN -inf\n",
      "On iteration 1100, fit quality of MAX -inf, MEAN -inf, MEDIAN -inf\n",
      "On iteration 1101, fit quality of MAX -inf, MEAN -inf, MEDIAN -inf\n",
      "On iteration 1102, fit quality of MAX -inf, MEAN -inf, MEDIAN -inf\n",
      "On iteration 1103, fit quality of MAX -inf, MEAN -inf, MEDIAN -inf\n",
      "On iteration 1104, fit quality of MAX -inf, MEAN -inf, MEDIAN -inf\n",
      "On iteration 1105, fit quality of MAX -inf, MEAN -inf, MEDIAN -inf\n",
      "On iteration 1106, fit quality of MAX -inf, MEAN -inf, MEDIAN -inf\n",
      "On iteration 1107, fit quality of MAX -inf, MEAN -inf, MEDIAN -inf\n",
      "On iteration 1108, fit quality of MAX -inf, MEAN -inf, MEDIAN -inf\n",
      "On iteration 1109, fit quality of MAX -inf, MEAN -inf, MEDIAN -inf\n",
      "On iteration 1110, fit quality of MAX -inf, MEAN -inf, MEDIAN -inf\n",
      "On iteration 1111, fit quality of MAX -inf, MEAN -inf, MEDIAN -inf\n",
      "On iteration 1112, fit quality of MAX -inf, MEAN -inf, MEDIAN -inf\n",
      "On iteration 1113, fit quality of MAX -inf, MEAN -inf, MEDIAN -inf\n",
      "On iteration 1114, fit quality of MAX -inf, MEAN -inf, MEDIAN -inf\n",
      "On iteration 1115, fit quality of MAX -inf, MEAN -inf, MEDIAN -inf\n",
      "On iteration 1116, fit quality of MAX -inf, MEAN -inf, MEDIAN -inf\n",
      "On iteration 1117, fit quality of MAX -inf, MEAN -inf, MEDIAN -inf\n",
      "On iteration 1118, fit quality of MAX -inf, MEAN -inf, MEDIAN -inf\n",
      "On iteration 1119, fit quality of MAX -inf, MEAN -inf, MEDIAN -inf\n",
      "On iteration 1120, fit quality of MAX -inf, MEAN -inf, MEDIAN -inf\n",
      "On iteration 1121, fit quality of MAX -inf, MEAN -inf, MEDIAN -inf\n",
      "On iteration 1122, fit quality of MAX -inf, MEAN -inf, MEDIAN -inf\n",
      "On iteration 1123, fit quality of MAX -inf, MEAN -inf, MEDIAN -inf\n",
      "On iteration 1124, fit quality of MAX -inf, MEAN -inf, MEDIAN -inf\n",
      "On iteration 1125, fit quality of MAX -inf, MEAN -inf, MEDIAN -inf\n",
      "On iteration 1126, fit quality of MAX -inf, MEAN -inf, MEDIAN -inf\n",
      "On iteration 1127, fit quality of MAX -inf, MEAN -inf, MEDIAN -inf\n",
      "On iteration 1128, fit quality of MAX -inf, MEAN -inf, MEDIAN -inf\n",
      "On iteration 1129, fit quality of MAX -inf, MEAN -inf, MEDIAN -inf\n",
      "On iteration 1130, fit quality of MAX -inf, MEAN -inf, MEDIAN -inf\n",
      "On iteration 1131, fit quality of MAX -inf, MEAN -inf, MEDIAN -inf\n",
      "On iteration 1132, fit quality of MAX -inf, MEAN -inf, MEDIAN -inf\n",
      "On iteration 1133, fit quality of MAX -inf, MEAN -inf, MEDIAN -inf\n",
      "On iteration 1134, fit quality of MAX -inf, MEAN -inf, MEDIAN -inf\n",
      "On iteration 1135, fit quality of MAX -inf, MEAN -inf, MEDIAN -inf\n",
      "On iteration 1136, fit quality of MAX -inf, MEAN -inf, MEDIAN -inf\n",
      "On iteration 1137, fit quality of MAX -inf, MEAN -inf, MEDIAN -inf\n",
      "On iteration 1138, fit quality of MAX -inf, MEAN -inf, MEDIAN -inf\n",
      "On iteration 1139, fit quality of MAX -inf, MEAN -inf, MEDIAN -inf\n",
      "On iteration 1140, fit quality of MAX -inf, MEAN -inf, MEDIAN -inf\n",
      "On iteration 1141, fit quality of MAX -inf, MEAN -inf, MEDIAN -inf\n",
      "On iteration 1142, fit quality of MAX -inf, MEAN -inf, MEDIAN -inf\n",
      "On iteration 1143, fit quality of MAX -inf, MEAN -inf, MEDIAN -inf\n",
      "On iteration 1144, fit quality of MAX -inf, MEAN -inf, MEDIAN -inf\n",
      "On iteration 1145, fit quality of MAX -inf, MEAN -inf, MEDIAN -inf\n",
      "On iteration 1146, fit quality of MAX -inf, MEAN -inf, MEDIAN -inf\n",
      "On iteration 1147, fit quality of MAX -inf, MEAN -inf, MEDIAN -inf\n",
      "On iteration 1148, fit quality of MAX -inf, MEAN -inf, MEDIAN -inf\n",
      "On iteration 1149, fit quality of MAX -inf, MEAN -inf, MEDIAN -inf\n",
      "On iteration 1150, fit quality of MAX -inf, MEAN -inf, MEDIAN -inf\n",
      "On iteration 1151, fit quality of MAX -inf, MEAN -inf, MEDIAN -inf\n",
      "On iteration 1152, fit quality of MAX -inf, MEAN -inf, MEDIAN -inf\n",
      "On iteration 1153, fit quality of MAX -inf, MEAN -inf, MEDIAN -inf\n",
      "On iteration 1154, fit quality of MAX -inf, MEAN -inf, MEDIAN -inf\n",
      "On iteration 1155, fit quality of MAX -inf, MEAN -inf, MEDIAN -inf\n",
      "On iteration 1156, fit quality of MAX -inf, MEAN -inf, MEDIAN -inf\n",
      "On iteration 1157, fit quality of MAX -inf, MEAN -inf, MEDIAN -inf\n",
      "On iteration 1158, fit quality of MAX -inf, MEAN -inf, MEDIAN -inf\n",
      "On iteration 1159, fit quality of MAX -inf, MEAN -inf, MEDIAN -inf\n",
      "On iteration 1160, fit quality of MAX -inf, MEAN -inf, MEDIAN -inf\n",
      "On iteration 1161, fit quality of MAX -inf, MEAN -inf, MEDIAN -inf\n",
      "On iteration 1162, fit quality of MAX -inf, MEAN -inf, MEDIAN -inf\n",
      "On iteration 1163, fit quality of MAX -inf, MEAN -inf, MEDIAN -inf\n",
      "On iteration 1164, fit quality of MAX -inf, MEAN -inf, MEDIAN -inf\n",
      "On iteration 1165, fit quality of MAX -inf, MEAN -inf, MEDIAN -inf\n",
      "On iteration 1166, fit quality of MAX -inf, MEAN -inf, MEDIAN -inf\n",
      "On iteration 1167, fit quality of MAX -inf, MEAN -inf, MEDIAN -inf\n",
      "On iteration 1168, fit quality of MAX -inf, MEAN -inf, MEDIAN -inf\n",
      "On iteration 1169, fit quality of MAX -inf, MEAN -inf, MEDIAN -inf\n",
      "On iteration 1170, fit quality of MAX -inf, MEAN -inf, MEDIAN -inf\n",
      "On iteration 1171, fit quality of MAX -inf, MEAN -inf, MEDIAN -inf\n",
      "On iteration 1172, fit quality of MAX -inf, MEAN -inf, MEDIAN -inf\n",
      "On iteration 1173, fit quality of MAX -inf, MEAN -inf, MEDIAN -inf\n",
      "On iteration 1174, fit quality of MAX -inf, MEAN -inf, MEDIAN -inf\n",
      "On iteration 1175, fit quality of MAX -inf, MEAN -inf, MEDIAN -inf\n",
      "On iteration 1176, fit quality of MAX -inf, MEAN -inf, MEDIAN -inf\n",
      "On iteration 1177, fit quality of MAX -inf, MEAN -inf, MEDIAN -inf\n",
      "On iteration 1178, fit quality of MAX -inf, MEAN -inf, MEDIAN -inf\n",
      "On iteration 1179, fit quality of MAX -inf, MEAN -inf, MEDIAN -inf\n",
      "On iteration 1180, fit quality of MAX -inf, MEAN -inf, MEDIAN -inf\n",
      "On iteration 1181, fit quality of MAX -inf, MEAN -inf, MEDIAN -inf\n",
      "On iteration 1182, fit quality of MAX -inf, MEAN -inf, MEDIAN -inf\n",
      "On iteration 1183, fit quality of MAX -inf, MEAN -inf, MEDIAN -inf\n",
      "On iteration 1184, fit quality of MAX -inf, MEAN -inf, MEDIAN -inf\n",
      "On iteration 1185, fit quality of MAX -inf, MEAN -inf, MEDIAN -inf\n",
      "On iteration 1186, fit quality of MAX -inf, MEAN -inf, MEDIAN -inf\n",
      "On iteration 1187, fit quality of MAX -inf, MEAN -inf, MEDIAN -inf\n",
      "On iteration 1188, fit quality of MAX -inf, MEAN -inf, MEDIAN -inf\n",
      "On iteration 1189, fit quality of MAX -inf, MEAN -inf, MEDIAN -inf\n",
      "On iteration 1190, fit quality of MAX -inf, MEAN -inf, MEDIAN -inf\n",
      "On iteration 1191, fit quality of MAX -inf, MEAN -inf, MEDIAN -inf\n",
      "On iteration 1192, fit quality of MAX -inf, MEAN -inf, MEDIAN -inf\n",
      "On iteration 1193, fit quality of MAX -inf, MEAN -inf, MEDIAN -inf\n",
      "On iteration 1194, fit quality of MAX -inf, MEAN -inf, MEDIAN -inf\n",
      "On iteration 1195, fit quality of MAX -inf, MEAN -inf, MEDIAN -inf\n",
      "On iteration 1196, fit quality of MAX -inf, MEAN -inf, MEDIAN -inf\n",
      "On iteration 1197, fit quality of MAX -inf, MEAN -inf, MEDIAN -inf\n",
      "On iteration 1198, fit quality of MAX -inf, MEAN -inf, MEDIAN -inf\n",
      "On iteration 1199, fit quality of MAX -inf, MEAN -inf, MEDIAN -inf\n",
      "On iteration 1200, fit quality of MAX -inf, MEAN -inf, MEDIAN -inf\n",
      "On iteration 1201, fit quality of MAX -inf, MEAN -inf, MEDIAN -inf\n",
      "On iteration 1202, fit quality of MAX -inf, MEAN -inf, MEDIAN -inf\n",
      "On iteration 1203, fit quality of MAX -inf, MEAN -inf, MEDIAN -inf\n",
      "On iteration 1204, fit quality of MAX -inf, MEAN -inf, MEDIAN -inf\n",
      "On iteration 1205, fit quality of MAX -inf, MEAN -inf, MEDIAN -inf\n",
      "On iteration 1206, fit quality of MAX -inf, MEAN -inf, MEDIAN -inf\n",
      "On iteration 1207, fit quality of MAX -inf, MEAN -inf, MEDIAN -inf\n",
      "On iteration 1208, fit quality of MAX -inf, MEAN -inf, MEDIAN -inf\n",
      "On iteration 1209, fit quality of MAX -inf, MEAN -inf, MEDIAN -inf\n",
      "On iteration 1210, fit quality of MAX -inf, MEAN -inf, MEDIAN -inf\n",
      "On iteration 1211, fit quality of MAX -inf, MEAN -inf, MEDIAN -inf\n",
      "On iteration 1212, fit quality of MAX -inf, MEAN -inf, MEDIAN -inf\n",
      "On iteration 1213, fit quality of MAX -inf, MEAN -inf, MEDIAN -inf\n",
      "On iteration 1214, fit quality of MAX -inf, MEAN -inf, MEDIAN -inf\n",
      "On iteration 1215, fit quality of MAX -inf, MEAN -inf, MEDIAN -inf\n",
      "On iteration 1216, fit quality of MAX -inf, MEAN -inf, MEDIAN -inf\n",
      "On iteration 1217, fit quality of MAX -inf, MEAN -inf, MEDIAN -inf\n",
      "On iteration 1218, fit quality of MAX -inf, MEAN -inf, MEDIAN -inf\n",
      "On iteration 1219, fit quality of MAX -inf, MEAN -inf, MEDIAN -inf\n",
      "On iteration 1220, fit quality of MAX -inf, MEAN -inf, MEDIAN -inf\n",
      "On iteration 1221, fit quality of MAX -inf, MEAN -inf, MEDIAN -inf\n",
      "On iteration 1222, fit quality of MAX -inf, MEAN -inf, MEDIAN -inf\n",
      "On iteration 1223, fit quality of MAX -inf, MEAN -inf, MEDIAN -inf\n",
      "On iteration 1224, fit quality of MAX -inf, MEAN -inf, MEDIAN -inf\n",
      "On iteration 1225, fit quality of MAX -inf, MEAN -inf, MEDIAN -inf\n",
      "On iteration 1226, fit quality of MAX -inf, MEAN -inf, MEDIAN -inf\n",
      "On iteration 1227, fit quality of MAX -inf, MEAN -inf, MEDIAN -inf\n",
      "On iteration 1228, fit quality of MAX -inf, MEAN -inf, MEDIAN -inf\n",
      "On iteration 1229, fit quality of MAX -inf, MEAN -inf, MEDIAN -inf\n",
      "On iteration 1230, fit quality of MAX -inf, MEAN -inf, MEDIAN -inf\n",
      "On iteration 1231, fit quality of MAX -inf, MEAN -inf, MEDIAN -inf\n",
      "On iteration 1232, fit quality of MAX -inf, MEAN -inf, MEDIAN -inf\n",
      "On iteration 1233, fit quality of MAX -inf, MEAN -inf, MEDIAN -inf\n",
      "On iteration 1234, fit quality of MAX -inf, MEAN -inf, MEDIAN -inf\n",
      "On iteration 1235, fit quality of MAX -inf, MEAN -inf, MEDIAN -inf\n",
      "On iteration 1236, fit quality of MAX -inf, MEAN -inf, MEDIAN -inf\n",
      "On iteration 1237, fit quality of MAX -inf, MEAN -inf, MEDIAN -inf\n",
      "On iteration 1238, fit quality of MAX -inf, MEAN -inf, MEDIAN -inf\n",
      "On iteration 1239, fit quality of MAX -inf, MEAN -inf, MEDIAN -inf\n",
      "On iteration 1240, fit quality of MAX -inf, MEAN -inf, MEDIAN -inf\n",
      "On iteration 1241, fit quality of MAX -inf, MEAN -inf, MEDIAN -inf\n",
      "On iteration 1242, fit quality of MAX -inf, MEAN -inf, MEDIAN -inf\n",
      "On iteration 1243, fit quality of MAX -inf, MEAN -inf, MEDIAN -inf\n",
      "On iteration 1244, fit quality of MAX -inf, MEAN -inf, MEDIAN -inf\n",
      "On iteration 1245, fit quality of MAX -inf, MEAN -inf, MEDIAN -inf\n",
      "On iteration 1246, fit quality of MAX -inf, MEAN -inf, MEDIAN -inf\n",
      "On iteration 1247, fit quality of MAX -inf, MEAN -inf, MEDIAN -inf\n",
      "On iteration 1248, fit quality of MAX -inf, MEAN -inf, MEDIAN -inf\n",
      "On iteration 1249, fit quality of MAX -inf, MEAN -inf, MEDIAN -inf\n",
      "On iteration 1250, fit quality of MAX -inf, MEAN -inf, MEDIAN -inf\n",
      "On iteration 1251, fit quality of MAX -inf, MEAN -inf, MEDIAN -inf\n",
      "On iteration 1252, fit quality of MAX -inf, MEAN -inf, MEDIAN -inf\n",
      "On iteration 1253, fit quality of MAX -inf, MEAN -inf, MEDIAN -inf\n",
      "On iteration 1254, fit quality of MAX -inf, MEAN -inf, MEDIAN -inf\n",
      "On iteration 1255, fit quality of MAX -inf, MEAN -inf, MEDIAN -inf\n",
      "On iteration 1256, fit quality of MAX -inf, MEAN -inf, MEDIAN -inf\n",
      "On iteration 1257, fit quality of MAX -inf, MEAN -inf, MEDIAN -inf\n",
      "On iteration 1258, fit quality of MAX -inf, MEAN -inf, MEDIAN -inf\n",
      "On iteration 1259, fit quality of MAX -inf, MEAN -inf, MEDIAN -inf\n",
      "On iteration 1260, fit quality of MAX -inf, MEAN -inf, MEDIAN -inf\n",
      "On iteration 1261, fit quality of MAX -inf, MEAN -inf, MEDIAN -inf\n",
      "On iteration 1262, fit quality of MAX -inf, MEAN -inf, MEDIAN -inf\n",
      "On iteration 1263, fit quality of MAX -inf, MEAN -inf, MEDIAN -inf\n",
      "On iteration 1264, fit quality of MAX -inf, MEAN -inf, MEDIAN -inf\n",
      "On iteration 1265, fit quality of MAX -inf, MEAN -inf, MEDIAN -inf\n",
      "On iteration 1266, fit quality of MAX -inf, MEAN -inf, MEDIAN -inf\n",
      "On iteration 1267, fit quality of MAX -inf, MEAN -inf, MEDIAN -inf\n",
      "On iteration 1268, fit quality of MAX -inf, MEAN -inf, MEDIAN -inf\n",
      "On iteration 1269, fit quality of MAX -inf, MEAN -inf, MEDIAN -inf\n",
      "On iteration 1270, fit quality of MAX -inf, MEAN -inf, MEDIAN -inf\n",
      "On iteration 1271, fit quality of MAX -inf, MEAN -inf, MEDIAN -inf\n",
      "On iteration 1272, fit quality of MAX -inf, MEAN -inf, MEDIAN -inf\n",
      "On iteration 1273, fit quality of MAX -inf, MEAN -inf, MEDIAN -inf\n",
      "On iteration 1274, fit quality of MAX -inf, MEAN -inf, MEDIAN -inf\n",
      "On iteration 1275, fit quality of MAX -inf, MEAN -inf, MEDIAN -inf\n",
      "On iteration 1276, fit quality of MAX -inf, MEAN -inf, MEDIAN -inf\n",
      "On iteration 1277, fit quality of MAX -inf, MEAN -inf, MEDIAN -inf\n",
      "On iteration 1278, fit quality of MAX -inf, MEAN -inf, MEDIAN -inf\n",
      "On iteration 1279, fit quality of MAX -inf, MEAN -inf, MEDIAN -inf\n",
      "On iteration 1280, fit quality of MAX -inf, MEAN -inf, MEDIAN -inf\n",
      "On iteration 1281, fit quality of MAX -inf, MEAN -inf, MEDIAN -inf\n",
      "On iteration 1282, fit quality of MAX -inf, MEAN -inf, MEDIAN -inf\n",
      "On iteration 1283, fit quality of MAX -inf, MEAN -inf, MEDIAN -inf\n",
      "On iteration 1284, fit quality of MAX -inf, MEAN -inf, MEDIAN -inf\n",
      "On iteration 1285, fit quality of MAX -inf, MEAN -inf, MEDIAN -inf\n",
      "On iteration 1286, fit quality of MAX -inf, MEAN -inf, MEDIAN -inf\n",
      "On iteration 1287, fit quality of MAX -inf, MEAN -inf, MEDIAN -inf\n",
      "On iteration 1288, fit quality of MAX -inf, MEAN -inf, MEDIAN -inf\n",
      "On iteration 1289, fit quality of MAX -inf, MEAN -inf, MEDIAN -inf\n",
      "On iteration 1290, fit quality of MAX -inf, MEAN -inf, MEDIAN -inf\n",
      "On iteration 1291, fit quality of MAX -inf, MEAN -inf, MEDIAN -inf\n",
      "On iteration 1292, fit quality of MAX -inf, MEAN -inf, MEDIAN -inf\n",
      "On iteration 1293, fit quality of MAX -inf, MEAN -inf, MEDIAN -inf\n",
      "On iteration 1294, fit quality of MAX -inf, MEAN -inf, MEDIAN -inf\n",
      "On iteration 1295, fit quality of MAX -inf, MEAN -inf, MEDIAN -inf\n",
      "On iteration 1296, fit quality of MAX -inf, MEAN -inf, MEDIAN -inf\n",
      "On iteration 1297, fit quality of MAX -inf, MEAN -inf, MEDIAN -inf\n",
      "On iteration 1298, fit quality of MAX -inf, MEAN -inf, MEDIAN -inf\n",
      "On iteration 1299, fit quality of MAX -inf, MEAN -inf, MEDIAN -inf\n",
      "On iteration 1300, fit quality of MAX -inf, MEAN -inf, MEDIAN -inf\n",
      "On iteration 1301, fit quality of MAX -inf, MEAN -inf, MEDIAN -inf\n",
      "On iteration 1302, fit quality of MAX -inf, MEAN -inf, MEDIAN -inf\n",
      "On iteration 1303, fit quality of MAX -inf, MEAN -inf, MEDIAN -inf\n",
      "On iteration 1304, fit quality of MAX -inf, MEAN -inf, MEDIAN -inf\n",
      "On iteration 1305, fit quality of MAX -inf, MEAN -inf, MEDIAN -inf\n",
      "On iteration 1306, fit quality of MAX -inf, MEAN -inf, MEDIAN -inf\n",
      "On iteration 1307, fit quality of MAX -inf, MEAN -inf, MEDIAN -inf\n",
      "On iteration 1308, fit quality of MAX -inf, MEAN -inf, MEDIAN -inf\n",
      "On iteration 1309, fit quality of MAX -inf, MEAN -inf, MEDIAN -inf\n",
      "On iteration 1310, fit quality of MAX -inf, MEAN -inf, MEDIAN -inf\n",
      "On iteration 1311, fit quality of MAX -inf, MEAN -inf, MEDIAN -inf\n",
      "On iteration 1312, fit quality of MAX -inf, MEAN -inf, MEDIAN -inf\n",
      "On iteration 1313, fit quality of MAX -inf, MEAN -inf, MEDIAN -inf\n",
      "On iteration 1314, fit quality of MAX -inf, MEAN -inf, MEDIAN -inf\n",
      "On iteration 1315, fit quality of MAX -inf, MEAN -inf, MEDIAN -inf\n",
      "On iteration 1316, fit quality of MAX -inf, MEAN -inf, MEDIAN -inf\n",
      "On iteration 1317, fit quality of MAX -inf, MEAN -inf, MEDIAN -inf\n",
      "On iteration 1318, fit quality of MAX -inf, MEAN -inf, MEDIAN -inf\n",
      "On iteration 1319, fit quality of MAX -inf, MEAN -inf, MEDIAN -inf\n",
      "On iteration 1320, fit quality of MAX -inf, MEAN -inf, MEDIAN -inf\n",
      "On iteration 1321, fit quality of MAX -inf, MEAN -inf, MEDIAN -inf\n",
      "On iteration 1322, fit quality of MAX -inf, MEAN -inf, MEDIAN -inf\n",
      "On iteration 1323, fit quality of MAX -inf, MEAN -inf, MEDIAN -inf\n",
      "On iteration 1324, fit quality of MAX -inf, MEAN -inf, MEDIAN -inf\n",
      "On iteration 1325, fit quality of MAX -inf, MEAN -inf, MEDIAN -inf\n",
      "On iteration 1326, fit quality of MAX -inf, MEAN -inf, MEDIAN -inf\n",
      "On iteration 1327, fit quality of MAX -inf, MEAN -inf, MEDIAN -inf\n",
      "On iteration 1328, fit quality of MAX -inf, MEAN -inf, MEDIAN -inf\n",
      "On iteration 1329, fit quality of MAX -inf, MEAN -inf, MEDIAN -inf\n",
      "On iteration 1330, fit quality of MAX -inf, MEAN -inf, MEDIAN -inf\n",
      "On iteration 1331, fit quality of MAX -inf, MEAN -inf, MEDIAN -inf\n",
      "On iteration 1332, fit quality of MAX -inf, MEAN -inf, MEDIAN -inf\n",
      "On iteration 1333, fit quality of MAX -inf, MEAN -inf, MEDIAN -inf\n",
      "On iteration 1334, fit quality of MAX -inf, MEAN -inf, MEDIAN -inf\n",
      "On iteration 1335, fit quality of MAX -inf, MEAN -inf, MEDIAN -inf\n",
      "On iteration 1336, fit quality of MAX -inf, MEAN -inf, MEDIAN -inf\n",
      "On iteration 1337, fit quality of MAX -inf, MEAN -inf, MEDIAN -inf\n",
      "On iteration 1338, fit quality of MAX -inf, MEAN -inf, MEDIAN -inf\n",
      "On iteration 1339, fit quality of MAX -inf, MEAN -inf, MEDIAN -inf\n",
      "On iteration 1340, fit quality of MAX -inf, MEAN -inf, MEDIAN -inf\n",
      "On iteration 1341, fit quality of MAX -inf, MEAN -inf, MEDIAN -inf\n",
      "On iteration 1342, fit quality of MAX -inf, MEAN -inf, MEDIAN -inf\n",
      "On iteration 1343, fit quality of MAX -inf, MEAN -inf, MEDIAN -inf\n",
      "On iteration 1344, fit quality of MAX -inf, MEAN -inf, MEDIAN -inf\n",
      "On iteration 1345, fit quality of MAX -inf, MEAN -inf, MEDIAN -inf\n",
      "On iteration 1346, fit quality of MAX -inf, MEAN -inf, MEDIAN -inf\n",
      "On iteration 1347, fit quality of MAX -inf, MEAN -inf, MEDIAN -inf\n",
      "On iteration 1348, fit quality of MAX -inf, MEAN -inf, MEDIAN -inf\n",
      "On iteration 1349, fit quality of MAX -inf, MEAN -inf, MEDIAN -inf\n",
      "On iteration 1350, fit quality of MAX -inf, MEAN -inf, MEDIAN -inf\n",
      "On iteration 1351, fit quality of MAX -inf, MEAN -inf, MEDIAN -inf\n",
      "On iteration 1352, fit quality of MAX -inf, MEAN -inf, MEDIAN -inf\n",
      "On iteration 1353, fit quality of MAX -inf, MEAN -inf, MEDIAN -inf\n",
      "On iteration 1354, fit quality of MAX -inf, MEAN -inf, MEDIAN -inf\n",
      "On iteration 1355, fit quality of MAX -inf, MEAN -inf, MEDIAN -inf\n",
      "On iteration 1356, fit quality of MAX -inf, MEAN -inf, MEDIAN -inf\n",
      "On iteration 1357, fit quality of MAX -inf, MEAN -inf, MEDIAN -inf\n",
      "On iteration 1358, fit quality of MAX -inf, MEAN -inf, MEDIAN -inf\n",
      "On iteration 1359, fit quality of MAX -inf, MEAN -inf, MEDIAN -inf\n",
      "On iteration 1360, fit quality of MAX -inf, MEAN -inf, MEDIAN -inf\n",
      "On iteration 1361, fit quality of MAX -inf, MEAN -inf, MEDIAN -inf\n",
      "On iteration 1362, fit quality of MAX -inf, MEAN -inf, MEDIAN -inf\n",
      "On iteration 1363, fit quality of MAX -inf, MEAN -inf, MEDIAN -inf\n",
      "On iteration 1364, fit quality of MAX -inf, MEAN -inf, MEDIAN -inf\n",
      "On iteration 1365, fit quality of MAX -inf, MEAN -inf, MEDIAN -inf\n",
      "On iteration 1366, fit quality of MAX -inf, MEAN -inf, MEDIAN -inf\n",
      "On iteration 1367, fit quality of MAX -inf, MEAN -inf, MEDIAN -inf\n",
      "On iteration 1368, fit quality of MAX -inf, MEAN -inf, MEDIAN -inf\n",
      "On iteration 1369, fit quality of MAX -inf, MEAN -inf, MEDIAN -inf\n",
      "On iteration 1370, fit quality of MAX -inf, MEAN -inf, MEDIAN -inf\n",
      "On iteration 1371, fit quality of MAX -inf, MEAN -inf, MEDIAN -inf\n",
      "On iteration 1372, fit quality of MAX -inf, MEAN -inf, MEDIAN -inf\n",
      "On iteration 1373, fit quality of MAX -inf, MEAN -inf, MEDIAN -inf\n",
      "On iteration 1374, fit quality of MAX -inf, MEAN -inf, MEDIAN -inf\n",
      "On iteration 1375, fit quality of MAX -inf, MEAN -inf, MEDIAN -inf\n",
      "On iteration 1376, fit quality of MAX -inf, MEAN -inf, MEDIAN -inf\n",
      "On iteration 1377, fit quality of MAX -inf, MEAN -inf, MEDIAN -inf\n",
      "On iteration 1378, fit quality of MAX -inf, MEAN -inf, MEDIAN -inf\n",
      "On iteration 1379, fit quality of MAX -inf, MEAN -inf, MEDIAN -inf\n",
      "On iteration 1380, fit quality of MAX -inf, MEAN -inf, MEDIAN -inf\n",
      "On iteration 1381, fit quality of MAX -inf, MEAN -inf, MEDIAN -inf\n",
      "No matching roads found within max road distance! Aborting particle filter.\n",
      "CPU times: user 2min 44s, sys: 1.54 s, total: 2min 45s\n",
      "Wall time: 2min 46s\n"
     ]
    }
   ],
   "source": [
    "%%time\n",
    "# first -inf results in mean and median, not max, then in all...\n",
    "# Runtime warning, divide by zero in log\n",
    "# Error at iter 1381; 3 min\n",
    "results = my_particle_filter.fit(data)"
   ]
  },
  {
   "cell_type": "code",
   "execution_count": 329,
   "metadata": {
    "collapsed": false
   },
   "outputs": [
    {
     "ename": "IndexError",
     "evalue": "index 34 is out of bounds for axis 0 with size 2",
     "output_type": "error",
     "traceback": [
      "\u001b[0;31m---------------------------------------------------------------------------\u001b[0m",
      "\u001b[0;31mIndexError\u001b[0m                                Traceback (most recent call last)",
      "\u001b[0;32m<timed exec>\u001b[0m in \u001b[0;36m<module>\u001b[0;34m\u001b[0m\n",
      "\u001b[0;32m<ipython-input-322-1412d073ecb4>\u001b[0m in \u001b[0;36mviterbi\u001b[0;34m(self)\u001b[0m\n\u001b[1;32m    271\u001b[0m         \u001b[0;32mfor\u001b[0m \u001b[0mj\u001b[0m \u001b[0;32min\u001b[0m \u001b[0mrange\u001b[0m\u001b[0;34m(\u001b[0m\u001b[0mlen\u001b[0m\u001b[0;34m(\u001b[0m\u001b[0mself\u001b[0m\u001b[0;34m.\u001b[0m\u001b[0mviterbi_trellis\u001b[0m\u001b[0;34m)\u001b[0m \u001b[0;34m-\u001b[0m \u001b[0;36m1\u001b[0m\u001b[0;34m,\u001b[0m \u001b[0;34m-\u001b[0m\u001b[0;36m1\u001b[0m\u001b[0;34m,\u001b[0m \u001b[0;34m-\u001b[0m\u001b[0;36m1\u001b[0m\u001b[0;34m)\u001b[0m\u001b[0;34m:\u001b[0m\u001b[0;34m\u001b[0m\u001b[0;34m\u001b[0m\u001b[0m\n\u001b[1;32m    272\u001b[0m             \u001b[0;31m# for that 'candidate road,' the particle index (col 1)\u001b[0m\u001b[0;34m\u001b[0m\u001b[0;34m\u001b[0m\u001b[0;34m\u001b[0m\u001b[0m\n\u001b[0;32m--> 273\u001b[0;31m             \u001b[0mbest_last_state_idx\u001b[0m \u001b[0;34m=\u001b[0m \u001b[0mint\u001b[0m\u001b[0;34m(\u001b[0m\u001b[0mself\u001b[0m\u001b[0;34m.\u001b[0m\u001b[0mviterbi_trellis_idx\u001b[0m\u001b[0;34m[\u001b[0m\u001b[0mj\u001b[0m\u001b[0;34m]\u001b[0m\u001b[0;34m[\u001b[0m\u001b[0mbest_last_state_idx\u001b[0m\u001b[0;34m,\u001b[0m \u001b[0;36m1\u001b[0m\u001b[0;34m]\u001b[0m\u001b[0;34m)\u001b[0m\u001b[0;34m\u001b[0m\u001b[0;34m\u001b[0m\u001b[0m\n\u001b[0m\u001b[1;32m    274\u001b[0m             \u001b[0mbest_last_state\u001b[0m \u001b[0;34m=\u001b[0m \u001b[0mself\u001b[0m\u001b[0;34m.\u001b[0m\u001b[0mviterbi_trellis\u001b[0m\u001b[0;34m[\u001b[0m\u001b[0mj\u001b[0m\u001b[0;34m]\u001b[0m\u001b[0;34m[\u001b[0m\u001b[0mbest_last_state_idx\u001b[0m\u001b[0;34m]\u001b[0m\u001b[0;34m\u001b[0m\u001b[0;34m\u001b[0m\u001b[0m\n\u001b[1;32m    275\u001b[0m             \u001b[0mbacktracked_states\u001b[0m\u001b[0;34m.\u001b[0m\u001b[0mappend\u001b[0m\u001b[0;34m(\u001b[0m\u001b[0mbest_last_state\u001b[0m\u001b[0;34m)\u001b[0m\u001b[0;34m\u001b[0m\u001b[0;34m\u001b[0m\u001b[0m\n",
      "\u001b[0;31mIndexError\u001b[0m: index 34 is out of bounds for axis 0 with size 2"
     ]
    }
   ],
   "source": [
    "%%time\n",
    "backtracked_trace = my_particle_filter.viterbi()"
   ]
  },
  {
   "cell_type": "code",
   "execution_count": 330,
   "metadata": {
    "collapsed": true
   },
   "outputs": [],
   "source": [
    "particles = my_particle_filter.particles; weights = my_particle_filter.weights;\n",
    "viterbi_trellis_idx=my_particle_filter.viterbi_trellis_idx;\n",
    "viterbi_trellis=my_particle_filter.viterbi_trellis"
   ]
  },
  {
   "cell_type": "code",
   "execution_count": 336,
   "metadata": {
    "collapsed": false
   },
   "outputs": [
    {
     "data": {
      "text/plain": [
       "[array([[0., 0.],\n",
       "        [1., 0.]]),\n",
       " array([[0., 1.],\n",
       "        [1., 2.]]),\n",
       " array([[ 0., 12.],\n",
       "        [ 1.,  9.],\n",
       "        [ 2., 17.],\n",
       "        [ 3.,  2.],\n",
       "        [ 4.,  9.],\n",
       "        [ 5.,  7.],\n",
       "        [ 6., 14.],\n",
       "        [ 7., 34.],\n",
       "        [ 8.,  9.],\n",
       "        [ 9., 17.],\n",
       "        [10.,  2.],\n",
       "        [11.,  9.],\n",
       "        [12.,  7.],\n",
       "        [13., 14.],\n",
       "        [14., 34.],\n",
       "        [15., 19.],\n",
       "        [16.,  4.],\n",
       "        [17.,  2.],\n",
       "        [18.,  9.],\n",
       "        [19.,  7.],\n",
       "        [20., 14.],\n",
       "        [21., 34.],\n",
       "        [22., 19.],\n",
       "        [23.,  4.],\n",
       "        [24., 37.],\n",
       "        [25., 34.],\n",
       "        [26., 19.],\n",
       "        [27.,  4.],\n",
       "        [28., 34.],\n",
       "        [29., 19.],\n",
       "        [30.,  4.],\n",
       "        [31., 37.],\n",
       "        [32., 34.],\n",
       "        [33.,  7.],\n",
       "        [34., 14.]]),\n",
       " array([[ 0., 14.],\n",
       "        [ 1., 14.]]),\n",
       " array([[0., 0.],\n",
       "        [1., 1.],\n",
       "        [2., 2.]])]"
      ]
     },
     "execution_count": 336,
     "metadata": {},
     "output_type": "execute_result"
    }
   ],
   "source": [
    "viterbi_trellis_idx[-5:]"
   ]
  },
  {
   "cell_type": "code",
   "execution_count": 339,
   "metadata": {
    "collapsed": false
   },
   "outputs": [
    {
     "data": {
      "text/plain": [
       "(50, 2)"
      ]
     },
     "execution_count": 339,
     "metadata": {},
     "output_type": "execute_result"
    }
   ],
   "source": [
    "viterbi_trellis[-3].shape"
   ]
  },
  {
   "cell_type": "code",
   "execution_count": 333,
   "metadata": {
    "collapsed": false
   },
   "outputs": [
    {
     "ename": "IndexError",
     "evalue": "index 34 is out of bounds for axis 0 with size 2",
     "output_type": "error",
     "traceback": [
      "\u001b[0;31m---------------------------------------------------------------------------\u001b[0m",
      "\u001b[0;31mIndexError\u001b[0m                                Traceback (most recent call last)",
      "\u001b[0;32m<ipython-input-333-a103450a5ff6>\u001b[0m in \u001b[0;36m<module>\u001b[0;34m\u001b[0m\n\u001b[1;32m      4\u001b[0m \u001b[0;31m# Backtrack through the viterbi trellis (#obs, n, 2) actual lat/long states\u001b[0m\u001b[0;34m\u001b[0m\u001b[0;34m\u001b[0m\u001b[0;34m\u001b[0m\u001b[0m\n\u001b[1;32m      5\u001b[0m \u001b[0;32mfor\u001b[0m \u001b[0mj\u001b[0m \u001b[0;32min\u001b[0m \u001b[0mrange\u001b[0m\u001b[0;34m(\u001b[0m\u001b[0mlen\u001b[0m\u001b[0;34m(\u001b[0m\u001b[0mviterbi_trellis\u001b[0m\u001b[0;34m)\u001b[0m \u001b[0;34m-\u001b[0m \u001b[0;36m1\u001b[0m\u001b[0;34m,\u001b[0m \u001b[0;34m-\u001b[0m\u001b[0;36m1\u001b[0m\u001b[0;34m,\u001b[0m \u001b[0;34m-\u001b[0m\u001b[0;36m1\u001b[0m\u001b[0;34m)\u001b[0m\u001b[0;34m:\u001b[0m\u001b[0;34m\u001b[0m\u001b[0;34m\u001b[0m\u001b[0m\n\u001b[0;32m----> 6\u001b[0;31m     \u001b[0mbest_last_state_idx\u001b[0m \u001b[0;34m=\u001b[0m \u001b[0mint\u001b[0m\u001b[0;34m(\u001b[0m\u001b[0mviterbi_trellis_idx\u001b[0m\u001b[0;34m[\u001b[0m\u001b[0mj\u001b[0m\u001b[0;34m]\u001b[0m\u001b[0;34m[\u001b[0m\u001b[0mbest_last_state_idx\u001b[0m\u001b[0;34m,\u001b[0m \u001b[0;36m1\u001b[0m\u001b[0;34m]\u001b[0m\u001b[0;34m)\u001b[0m\u001b[0;34m\u001b[0m\u001b[0;34m\u001b[0m\u001b[0m\n\u001b[0m\u001b[1;32m      7\u001b[0m     \u001b[0mbest_last_state\u001b[0m \u001b[0;34m=\u001b[0m \u001b[0mviterbi_trellis\u001b[0m\u001b[0;34m[\u001b[0m\u001b[0mj\u001b[0m\u001b[0;34m]\u001b[0m\u001b[0;34m[\u001b[0m\u001b[0mbest_last_state_idx\u001b[0m\u001b[0;34m]\u001b[0m\u001b[0;34m\u001b[0m\u001b[0;34m\u001b[0m\u001b[0m\n\u001b[1;32m      8\u001b[0m     \u001b[0mbacktracked_states\u001b[0m\u001b[0;34m.\u001b[0m\u001b[0mappend\u001b[0m\u001b[0;34m(\u001b[0m\u001b[0mbest_last_state\u001b[0m\u001b[0;34m)\u001b[0m\u001b[0;34m\u001b[0m\u001b[0;34m\u001b[0m\u001b[0m\n",
      "\u001b[0;31mIndexError\u001b[0m: index 34 is out of bounds for axis 0 with size 2"
     ]
    }
   ],
   "source": [
    "best_last_state_idx = np.argmax(weights)\n",
    "best_last_state = particles[best_last_state_idx]\n",
    "backtracked_states = [best_last_state]\n",
    "# Backtrack through the viterbi trellis (#obs, n, 2) actual lat/long states\n",
    "for j in range(len(viterbi_trellis) - 1, -1, -1):\n",
    "    best_last_state_idx = int(viterbi_trellis_idx[j][best_last_state_idx, 1])\n",
    "    best_last_state = viterbi_trellis[j][best_last_state_idx]\n",
    "    backtracked_states.append(best_last_state)\n",
    "# Put in chronological order\n",
    "backtracked_states = backtracked_states[::-1]"
   ]
  },
  {
   "cell_type": "code",
   "execution_count": 335,
   "metadata": {
    "collapsed": false
   },
   "outputs": [
    {
     "data": {
      "text/plain": [
       "1380"
      ]
     },
     "execution_count": 335,
     "metadata": {},
     "output_type": "execute_result"
    }
   ],
   "source": [
    "len(viterbi_trellis)"
   ]
  },
  {
   "cell_type": "code",
   "execution_count": 334,
   "metadata": {
    "collapsed": false
   },
   "outputs": [
    {
     "data": {
      "text/plain": [
       "1376"
      ]
     },
     "execution_count": 334,
     "metadata": {},
     "output_type": "execute_result"
    }
   ],
   "source": [
    "j"
   ]
  },
  {
   "cell_type": "code",
   "execution_count": null,
   "metadata": {
    "collapsed": true
   },
   "outputs": [],
   "source": [
    "# Let's plot the smoothed trace, cast as linestring overlaid on SF shapefile\n",
    "# And, compare it with the raw trace."
   ]
  },
  {
   "cell_type": "code",
   "execution_count": null,
   "metadata": {
    "collapsed": true
   },
   "outputs": [],
   "source": []
  },
  {
   "cell_type": "code",
   "execution_count": null,
   "metadata": {
    "collapsed": true
   },
   "outputs": [],
   "source": []
  },
  {
   "cell_type": "code",
   "execution_count": null,
   "metadata": {
    "collapsed": false
   },
   "outputs": [],
   "source": []
  },
  {
   "cell_type": "code",
   "execution_count": null,
   "metadata": {
    "collapsed": true
   },
   "outputs": [],
   "source": [
    "#  IGNORE BELOW THIS POINT"
   ]
  },
  {
   "cell_type": "code",
   "execution_count": null,
   "metadata": {
    "collapsed": true
   },
   "outputs": [],
   "source": [
    "# https://stackoverflow.com/questions/4102520/how-to-transform-a-distance-from-degrees-to-metres\n",
    "\"\"\"\n",
    "@winwaed\n",
    "The transformation between degrees and metres varies across the Earth's surface.\n",
    "Assuming a spherical Earth, degrees latitude = distance * 360 / (2*PI * 6400000)\n",
    "Note that longitude will vary according to the latitude:\n",
    "Degrees longitude = distance *360 * / (2*PI* cos(latitude) )\n",
    "\n",
    "The above is for the Earth's surface, and does not use the Mercator projection. \n",
    "If you wish to work with projected linear distance, then you will need to use the Mercator projection.\n",
    "\"\"\"\n",
    "# RADIUS_OF_EARTH_M = 6371000\n",
    "# long, lat = list(obs.coords)[0]\n",
    "# max_dist_deg = max_dist * 360 / (2 * np.pi * RADIUS_OF_EARTH_M)"
   ]
  },
  {
   "cell_type": "code",
   "execution_count": null,
   "metadata": {
    "collapsed": true
   },
   "outputs": [],
   "source": []
  }
 ],
 "metadata": {
  "anaconda-cloud": {},
  "kernelspec": {
   "display_name": "Python [conda env:map_matching_particle_filter]",
   "language": "python",
   "name": "conda-env-map_matching_particle_filter-py"
  },
  "language_info": {
   "codemirror_mode": {
    "name": "ipython",
    "version": 3
   },
   "file_extension": ".py",
   "mimetype": "text/x-python",
   "name": "python",
   "nbconvert_exporter": "python",
   "pygments_lexer": "ipython3",
   "version": "3.7.6"
  }
 },
 "nbformat": 4,
 "nbformat_minor": 2
}
