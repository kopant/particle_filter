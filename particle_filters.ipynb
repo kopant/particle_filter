{
 "cells": [
  {
   "cell_type": "code",
   "execution_count": null,
   "metadata": {
    "collapsed": true
   },
   "outputs": [],
   "source": [
    "# Environment specified in environment.yml (environment name map_matching_particle_filter)\n",
    "# conda env create --prefix ./envs -f environment.yml"
   ]
  },
  {
   "cell_type": "code",
   "execution_count": 1,
   "metadata": {
    "collapsed": false
   },
   "outputs": [],
   "source": [
    "import pandas as pd\n",
    "import numpy as np\n",
    "import os, sys\n",
    "import glob, re, time\n",
    "\n",
    "import shapely\n",
    "from shapely.strtree import STRtree\n",
    "from shapely.geometry import shape, Point, LineString, MultiLineString\n",
    "from shapely.ops import nearest_points\n",
    "import folium\n",
    "import fiona\n",
    "import pyproj\n",
    "from functools import partial\n",
    "import math\n",
    "\n",
    "from collections import Counter\n",
    "\n",
    "from sklearn.metrics.pairwise import haversine_distances  # Assumes (lat, long) in radians; version 0.22.1"
   ]
  },
  {
   "cell_type": "code",
   "execution_count": 2,
   "metadata": {
    "collapsed": false
   },
   "outputs": [
    {
     "data": {
      "text/plain": [
       "'/Volumes/LaCie/Documents/repos/particle_filter'"
      ]
     },
     "execution_count": 2,
     "metadata": {},
     "output_type": "execute_result"
    }
   ],
   "source": [
    "os.getcwd()"
   ]
  },
  {
   "cell_type": "code",
   "execution_count": null,
   "metadata": {
    "collapsed": true
   },
   "outputs": [],
   "source": [
    "\"\"\"\n",
    "Applications of particle filters: \n",
    "1. Car positioning by map matching, as in http://www.diva-portal.org/smash/get/diva2:316556/FULLTEXT01.pdf\n",
    "    Essentially same approach is described in Davidson, Collin, and Takala (2011). Application of particle filters to map-matching algorithm\n",
    "    Idea also similar to Newson and Krumm (2009), though HMM is used there.\n",
    "    More recent resource: Murphy, Pao, Yuen (2019). Lyft; Map matching when the map is wrong: Efficient on/off road vehicle tracking and map learning\n",
    "\n",
    "Ideas\n",
    "Rao-Blackwellization (use Kalman filter for the linear part of the dynamics model)\n",
    "\n",
    "Initial Approach:\n",
    "Use Newson and Krumm, but modify it to use particle filters instead of HMM.\n",
    "\n",
    "So, for a given route, proceed sequentially over obs, maintaining dist of probable road segments\n",
    "\n",
    "Assumptions (N&K):\n",
    "-remove obs that are not 2*meas dist sigma from previous obs  (eliminate 39% of data in N&K)\n",
    "-ignore roads 200m from obs\n",
    "-zeroize very unlikely particles\n",
    "\"\"\""
   ]
  },
  {
   "cell_type": "code",
   "execution_count": 3,
   "metadata": {
    "collapsed": true
   },
   "outputs": [],
   "source": [
    "def great_circle_dist(df):\n",
    "    \"\"\"\n",
    "    USED BELOW IN PREPROCESSING\n",
    "    df numpy array [lat, long, lat_prev, long_prev] in degrees\n",
    "    \n",
    "    Returns great-circle distance between point (lat,long) columns and (lat_prev, long_prev) columns, \n",
    "    in meters.\n",
    "    \n",
    "    Modified from https://stackoverflow.com/questions/4913349/haversine-formula-in-python-bearing-and-distance-between-two-gps-points\n",
    "    \"\"\"\n",
    "    # convert decimal degrees to radians \n",
    "    df = df.copy()\n",
    "    df = np.deg2rad(df)\n",
    "\n",
    "    # haversine formula \n",
    "    dlon = df[:, 3] - df[:, 1] # lon2 - lon1 \n",
    "    dlat = df[:, 2] - df[:, 0] # lat2 - lat1 \n",
    "    a = np.add(np.square(np.sin(dlat / 2)),\n",
    "               np.multiply(np.cos(df[:, 0]), \n",
    "                           np.multiply(np.cos(df[:, 2]), np.square(np.sin(dlon / 2)))\n",
    "                          )\n",
    "              )\n",
    "    # a = sin(dlat/2)**2 + cos(lat1) * cos(lat2) * sin(dlon/2)**2\n",
    "    c = np.arcsin(np.sqrt(a)) * 2\n",
    "    # c = 2 * asin(sqrt(a)) \n",
    "    r = 6371 # Radius of earth in kilometers. Use 3956 for miles\n",
    "    return r * c * 1000"
   ]
  },
  {
   "cell_type": "code",
   "execution_count": 34,
   "metadata": {
    "collapsed": true
   },
   "outputs": [],
   "source": [
    "class gps_transition_model:\n",
    "    \"\"\"\n",
    "    Transition model to predict probability of next state given current state; simulate next state.\n",
    "    GPS trace map matching use case. \n",
    "    \n",
    "    N&K use as a proxy an exponential function of the difference in the great-circle distance \n",
    "    between previous observations and previous road points (similar route distance).\n",
    "    Road points use map/ground-truth data. \n",
    "    -Ignore roads 200m from obs\n",
    "    -If a calculated route would require the vehicle to exceed a speed of 50 m/s (112 miles per hour), zeroize\n",
    "    \n",
    "    !!! TODO: Get driving distance from route planner??? Results anticipated to significantly suffer otherwise. !!! \n",
    "    \n",
    "    Other ideas: using dead reckoning.\n",
    "    \"\"\"\n",
    "    def __init__(self, beta=3.0\n",
    "#                  , prob_floor=0.05\n",
    "                 , normalize=True\n",
    "                ):\n",
    "        \"\"\"\n",
    "        beta, float, parametrizes transition probability function\n",
    "        prob_floor, float between 0 and 1, is probability below which road choices are given zero probability\n",
    "        \n",
    "        # beta = 3 in mapzen, https://www.mapzen.com/blog/data-driven-map-matching/\n",
    "        \"\"\"\n",
    "        self.beta = beta\n",
    "#         self.prob_floor = min(max(prob_floor, 0), 1)\n",
    "        self.normalize = normalize\n",
    "    \n",
    "    def estimate_beta(self, data):\n",
    "        \"\"\"\n",
    "        NOT USED\n",
    "        \n",
    "        Using rescaled median absolute deviation (MAD). \n",
    "        Ideally using ground truth data (none here).\n",
    "        \"\"\" \n",
    "        self.beta = 3.0  # None\n",
    "        \n",
    "    def prob_transition(self, state_last2, obs_last2, dist_obs_m_prev, time_delta_sec_prev, \n",
    "                        max_allowable_diff_m=2000.0, max_allowable_mph=112.0):\n",
    "        \"\"\"\n",
    "        state_last2, float numpy array, (n * c x 4 lat, long, lat_prev, long_prev), c candidate roads and n particles\n",
    "        obs_last2, float numpy array, (1 x 4 lat, long, lat_prev, long_prev) \n",
    "        dist_obs_m_prev float distance in meters between last two obs.\n",
    "        time_delta_sec_prev float time delta in sec between last two obs.\n",
    "        max_allowable_diff_m float, ignore low probability routes as in N&K; in N&K 2000 meters.\n",
    "        max_allowable_mph, float; ignore routes resulting in unreasonable speeds. 112mph in N&K.\n",
    "        Where present, lat/long in degrees.\n",
    "        \n",
    "        returns probs of transition, (n * c x 1)\n",
    "        \"\"\"\n",
    "        RADIUS_OF_EARTH_M = 6371000\n",
    "        MILES_PER_METER = 0.000621371\n",
    "        HOURS_PER_SECOND = 3600.0\n",
    "        state_last2 = np.deg2rad(state_last2)\n",
    "        obs_last2 = np.deg2rad(obs_last2)\n",
    "        # dist_obs = abs(haversine_distances(obs_last2[:, :2], obs_last2[0, 2:]))  # (1, 1)\n",
    "        # !! TODO - Supposed to be driving distance, not haversine. N&K use a route planner. Can I use shapely???\n",
    "            # Probably fine as generally GPS measurements are taken close together in time- \n",
    "            # Otherwise would have to snap to roads using Shapely and get the distance between the two points. \n",
    "            # How does using driving distance even compare to haversine for obs? Isn't it better to compare apples to apples?\n",
    "        dist_road = \\\n",
    "        np.abs(np.array([haversine_distances(state_last2[r, :2].reshape(1,2), state_last2[r, 2:].reshape(1,2))[0] \n",
    "                         for r in range(state_last2.shape[0])]))  # (n * c, 1)\n",
    "        dist_road = dist_road * RADIUS_OF_EARTH_M  # multiply by Earth radius to get result in meters\n",
    "        diff_dist = np.abs(np.subtract(dist_road, dist_obs_m_prev))  # (n * c, 1)\n",
    "        \n",
    "        # Ignore cases where diff_dist >= max_allowable_diff_m\n",
    "        diff_dist[diff_dist >= max_allowable_diff_m] = np.float(\"inf\")  # zero out these transition probs\n",
    "        # Ignore cases where implied speed of route is >= max_allowable_mph; calculate speed in candidate routes\n",
    "        implied_speed_road = np.divide(dist_road * MILES_PER_METER, \n",
    "                               time_delta_sec_prev * HOURS_PER_SECOND)  # (n * c, 1), meters\n",
    "        diff_dist[implied_speed_road >= max_allowable_mph] = np.float(\"inf\")  # zero out these transition probs\n",
    "        \n",
    "        probs = np.exp(-diff_dist / self.beta) * (1 / self.beta)\n",
    "        # Normalize result?\n",
    "        if self.normalize:\n",
    "            probs = probs / np.sum(probs)\n",
    "        return probs"
   ]
  },
  {
   "cell_type": "code",
   "execution_count": 33,
   "metadata": {
    "collapsed": true
   },
   "outputs": [],
   "source": [
    "class gps_sensor_model:\n",
    "    \"\"\"\n",
    "    Sensor model to predict likelihood of an obs given a particle.\n",
    "    GPS trace map matching use case. \n",
    "    \n",
    "    I don't have ground truth, so can't use ML easily, but\n",
    "    N&K use as a proxy a normal distribution of great-circle distance between observation and road, with sigma \n",
    "    estimated from the data.\n",
    "    Road points use map data. \n",
    "    -Zerioze low probability particles (diff in route distance of 2000 m. or more). \n",
    "    \n",
    "    Other ideas: semi-supervised learning. \n",
    "    \n",
    "    Thoughts: need efficient representation for road network that returns connecting roads/nodes for a given node\n",
    "    Want to represent it as a graph/network. \n",
    "    \"\"\"\n",
    "    def __init__(self, sigma=4.07, normalize=True):\n",
    "        self.sigma = sigma\n",
    "        self.normalize = normalize\n",
    "    \n",
    "    def estimate_sigma(self, data):\n",
    "        \"\"\"\n",
    "        NOT USED \n",
    "        \n",
    "        Using Gather and Schultze, median-based. \n",
    "        Ideally using ground truth data (none here).\n",
    "        \n",
    "        I guess I could manually match some trips, then use that??\n",
    "        \"\"\" \n",
    "        self.sigma = 4.07 # meters; I have no ground truth so using N&K's empirical estimate\n",
    "#         self.sigma = None # median absolute deviation (MAD) formula adjusted \n",
    "    \n",
    "    def estimate_likelihood(self, states, obs_coords):\n",
    "        \"\"\"\n",
    "        return probability of seeing that obs given potential road state hypotheses, (k x 1)\n",
    "        \n",
    "        states Particles numpy array representing road position hypotheses, (k x 2 lat long).\n",
    "        obs_coords (1 x 2 lat long)\n",
    "        lat long in degrees\n",
    "        \"\"\"\n",
    "        RADIUS_OF_EARTH_M = 6371000\n",
    "        dist_obs_roads = np.abs(haversine_distances(np.deg2rad(states), np.deg2rad(obs_coords)))  # (k x 1)\n",
    "        dist_obs_roads = dist_obs_roads * RADIUS_OF_EARTH_M  # multiply by Earth radius to get result in meters\n",
    "        \n",
    "        probs = \\\n",
    "        np.exp(np.power(dist_obs_roads / self.sigma, 2) * (-0.5)) * \\\n",
    "        (1 / (math.sqrt(2 * math.pi) * self.sigma))\n",
    "        \n",
    "        # Normalize result?\n",
    "        if self.normalize:\n",
    "            probs = probs / np.sum(probs)\n",
    "        return probs"
   ]
  },
  {
   "cell_type": "code",
   "execution_count": null,
   "metadata": {
    "collapsed": true
   },
   "outputs": [],
   "source": []
  },
  {
   "cell_type": "code",
   "execution_count": 721,
   "metadata": {
    "collapsed": true
   },
   "outputs": [],
   "source": []
  },
  {
   "cell_type": "code",
   "execution_count": 654,
   "metadata": {
    "collapsed": false
   },
   "outputs": [],
   "source": [
    "# BEGIN DEBUGGING\n",
    "road_strtree; n=50; max_road_dist_m=200; prob_floor=0.0; \n",
    "sensor_model=gps_sensor_model(); transition_model=gps_transition_model(); \n",
    "viterbi_trellis=[]; viterbi_trellis_idx=[]\n",
    "\n",
    "prob_floor = min(max(prob_floor, 0), 1)\n",
    "particles = np.array([])\n",
    "weights = np.ones((1, n))\n",
    "\n",
    "fitted = False\n",
    "        \n",
    "obs_history = []"
   ]
  },
  {
   "cell_type": "code",
   "execution_count": 617,
   "metadata": {
    "collapsed": true
   },
   "outputs": [],
   "source": [
    "def get_candidate_roads(obs):\n",
    "    \"\"\"\n",
    "    obs list of floats [lat, long]\n",
    "    max_dist maximum allowable closest distance for prospective matched roads; those whose \n",
    "    closest point is >= max_dist meters away are ignored (200 in N&K).\n",
    "    Returns numpy array float of lat,long closest point to road from obs (N&K).\n",
    "\n",
    "    Leverages shapely and shapefiles for cabspotting data.\n",
    "    Relies on great_circle_dist() helper function. \n",
    "    \"\"\"\n",
    "    # Fiona uses (long, lat) format\n",
    "    obs = Point(obs[::-1])\n",
    "    # Want to consider only matches within max_dist meters\n",
    "    # Need to transform decimal degrees into meters\n",
    "    # Should I deviate from the default value of buffer for a Point??\n",
    "    # According to 200 * 360 / (2 * np.pi * 6371000), a distance of 200m corresponds to 0.0017986432118374611 decimal degrees\n",
    "    # obs.buffer(1.0)\n",
    "    matching_roads = road_strtree.query(obs.buffer(0.002))\n",
    "    if len(matching_roads) == 0:\n",
    "        matching_roads = road_strtree.query(obs.buffer(1.0))  # This should be a big buffer\n",
    "    # If matching roads is still empty, return None\n",
    "    if len(matching_roads) == 0:\n",
    "        print(\"No matching roads found! Aborting particle filter.\")\n",
    "        return None\n",
    "    # Ordered as (obs, road); just take road's coords\n",
    "    # Take only the closest point on the candidate road (1st index)\n",
    "    closest_pts = np.array([[list(p.coords)[0] for p in nearest_points(obs, r)][1] for r in matching_roads])\n",
    "    # Calculate distance between obs and candidate_roads, to filter them\n",
    "    candidate_dist_coords = \\\n",
    "    np.concatenate([closest_pts, np.tile(np.array(obs), (closest_pts.shape[0], 1))], axis=1)\n",
    "    # Convert back to lat, long from long, lat\n",
    "    candidate_dist_coords = candidate_dist_coords[:, [1, 0, 3, 2]]\n",
    "    candidate_dists = great_circle_dist(candidate_dist_coords)\n",
    "    # Filtered result of closest point on matching candidate roads\n",
    "    # no. matches 2 (default buffer); 52 (buffer of 0.002); 74 (buffer of 1.0)\n",
    "        # Reverse order to be lat, long\n",
    "    candidate_roads = closest_pts[candidate_dists <= max_road_dist_m][:, [1,0]]\n",
    "    return candidate_roads"
   ]
  },
  {
   "cell_type": "code",
   "execution_count": 302,
   "metadata": {
    "collapsed": true
   },
   "outputs": [],
   "source": [
    "def estimate_weights_per_particle(sampled_states, obs_coords):\n",
    "    \"\"\"\n",
    "    Estimate likelihood of particle given evidence, P(evidence|particle).\n",
    "    Uses sensor model.\n",
    "\n",
    "    obs_coords is single observation at time t, pandas series. \n",
    "    \"\"\"\n",
    "    probs = sensor_model.estimate_likelihood(sampled_states, obs_coords.values.reshape(1, 2))\n",
    "    return probs"
   ]
  },
  {
   "cell_type": "code",
   "execution_count": null,
   "metadata": {
    "collapsed": true
   },
   "outputs": [],
   "source": []
  },
  {
   "cell_type": "code",
   "execution_count": 508,
   "metadata": {
    "collapsed": true
   },
   "outputs": [],
   "source": [
    "# Crossproduct for each particle, all roads\n",
    "state_last2 = np.concatenate([np.concatenate((particles, \n",
    "                                              np.tile(c, (n, 1))), \n",
    "                                             axis=1) \n",
    "                              for c in candidate_roads], axis=0)"
   ]
  },
  {
   "cell_type": "code",
   "execution_count": 393,
   "metadata": {
    "collapsed": false
   },
   "outputs": [
    {
     "data": {
      "text/plain": [
       "(2600, 4)"
      ]
     },
     "execution_count": 393,
     "metadata": {},
     "output_type": "execute_result"
    }
   ],
   "source": [
    "state_last2.shape "
   ]
  },
  {
   "cell_type": "code",
   "execution_count": 509,
   "metadata": {
    "collapsed": true
   },
   "outputs": [],
   "source": [
    "obs_last2 = np.array(obs_history[-2:]).reshape((1, 4))"
   ]
  },
  {
   "cell_type": "code",
   "execution_count": 481,
   "metadata": {
    "collapsed": false
   },
   "outputs": [
    {
     "data": {
      "text/plain": [
       "array([[  37.75134, -122.39488,   37.75136, -122.39527]])"
      ]
     },
     "execution_count": 481,
     "metadata": {},
     "output_type": "execute_result"
    }
   ],
   "source": [
    "obs_last2"
   ]
  },
  {
   "cell_type": "code",
   "execution_count": 482,
   "metadata": {
    "collapsed": true
   },
   "outputs": [],
   "source": [
    "dist_obs_m_prev=dist_prev; time_delta_sec_prev=time_delta_prev; max_allowable_diff_m=2000.0; max_allowable_mph=112.0"
   ]
  },
  {
   "cell_type": "code",
   "execution_count": 403,
   "metadata": {
    "collapsed": false
   },
   "outputs": [
    {
     "data": {
      "text/plain": [
       "34.360479144304016"
      ]
     },
     "execution_count": 403,
     "metadata": {},
     "output_type": "execute_result"
    }
   ],
   "source": [
    "dist_obs_m_prev"
   ]
  },
  {
   "cell_type": "code",
   "execution_count": 404,
   "metadata": {
    "collapsed": false
   },
   "outputs": [
    {
     "data": {
      "text/plain": [
       "-28.0"
      ]
     },
     "execution_count": 404,
     "metadata": {},
     "output_type": "execute_result"
    }
   ],
   "source": [
    "time_delta_sec_prev"
   ]
  },
  {
   "cell_type": "code",
   "execution_count": 400,
   "metadata": {
    "collapsed": true
   },
   "outputs": [],
   "source": [
    "RADIUS_OF_EARTH_M = 6371000\n",
    "MILES_PER_METER = 0.000621371\n",
    "HOURS_PER_SECOND = 3600.0\n",
    "state_last2 = np.deg2rad(state_last2)\n",
    "obs_last2 = np.deg2rad(obs_last2)"
   ]
  },
  {
   "cell_type": "code",
   "execution_count": 435,
   "metadata": {
    "collapsed": false
   },
   "outputs": [
    {
     "data": {
      "text/plain": [
       "array([[ 0.65888492, -2.13619363,  0.65885333, -2.13619095],\n",
       "       [ 0.65888522, -2.13619324,  0.65885333, -2.13619095],\n",
       "       [ 0.65888522, -2.13619324,  0.65885333, -2.13619095],\n",
       "       ...,\n",
       "       [ 0.65888492, -2.13619363,  0.65891336, -2.13618996],\n",
       "       [ 0.65888522, -2.13619324,  0.65891336, -2.13618996],\n",
       "       [ 0.65888522, -2.13619324,  0.65891336, -2.13618996]])"
      ]
     },
     "execution_count": 435,
     "metadata": {},
     "output_type": "execute_result"
    }
   ],
   "source": [
    "state_last2"
   ]
  },
  {
   "cell_type": "code",
   "execution_count": null,
   "metadata": {
    "collapsed": true
   },
   "outputs": [],
   "source": []
  },
  {
   "cell_type": "code",
   "execution_count": 439,
   "metadata": {
    "collapsed": false
   },
   "outputs": [],
   "source": [
    "dist_road = \\\n",
    "np.abs(np.array([haversine_distances(state_last2[r, :2].reshape(1,2), state_last2[r, 2:].reshape(1,2))[0] \n",
    " for r in range(state_last2.shape[0])]))  # (n * c, 1)"
   ]
  },
  {
   "cell_type": "code",
   "execution_count": 440,
   "metadata": {
    "collapsed": true
   },
   "outputs": [],
   "source": [
    "dist_road = dist_road * RADIUS_OF_EARTH_M"
   ]
  },
  {
   "cell_type": "code",
   "execution_count": 442,
   "metadata": {
    "collapsed": true
   },
   "outputs": [],
   "source": [
    "diff_dist = np.abs(np.subtract(dist_road, dist_obs_m_prev))  # (n * c, 1)"
   ]
  },
  {
   "cell_type": "code",
   "execution_count": 443,
   "metadata": {
    "collapsed": false
   },
   "outputs": [
    {
     "data": {
      "text/plain": [
       "array([[167.33782252],\n",
       "       [169.1049927 ],\n",
       "       [169.1049927 ],\n",
       "       ...,\n",
       "       [147.78968822],\n",
       "       [145.7182921 ],\n",
       "       [145.7182921 ]])"
      ]
     },
     "execution_count": 443,
     "metadata": {},
     "output_type": "execute_result"
    }
   ],
   "source": [
    "diff_dist"
   ]
  },
  {
   "cell_type": "code",
   "execution_count": 444,
   "metadata": {
    "collapsed": false
   },
   "outputs": [
    {
     "data": {
      "text/plain": [
       "(2600, 1)"
      ]
     },
     "execution_count": 444,
     "metadata": {},
     "output_type": "execute_result"
    }
   ],
   "source": [
    "diff_dist.shape"
   ]
  },
  {
   "cell_type": "code",
   "execution_count": 452,
   "metadata": {
    "collapsed": false
   },
   "outputs": [
    {
     "data": {
      "text/plain": [
       "0.46792129264360227"
      ]
     },
     "execution_count": 452,
     "metadata": {},
     "output_type": "execute_result"
    }
   ],
   "source": [
    "np.min(diff_dist)"
   ]
  },
  {
   "cell_type": "code",
   "execution_count": 448,
   "metadata": {
    "collapsed": true
   },
   "outputs": [],
   "source": [
    "# Ignore cases where diff_dist >= max_allowable_diff_m\n",
    "diff_dist[diff_dist >= max_allowable_diff_m] = np.float(\"inf\")  # zero out these transition probs"
   ]
  },
  {
   "cell_type": "code",
   "execution_count": 455,
   "metadata": {
    "collapsed": false
   },
   "outputs": [],
   "source": [
    "# Ignore cases where implied speed of route is >= max_allowable_mph; calculate speed in candidate routes\n",
    "implied_speed_road = np.divide(dist_road * MILES_PER_METER, \n",
    "                               time_delta_sec_prev * HOURS_PER_SECOND)  # (n * c, 1), meters"
   ]
  },
  {
   "cell_type": "code",
   "execution_count": 458,
   "metadata": {
    "collapsed": true
   },
   "outputs": [],
   "source": [
    "diff_dist[implied_speed_road >= max_allowable_mph] = np.float(\"inf\")  # zero out these transition probs"
   ]
  },
  {
   "cell_type": "code",
   "execution_count": 459,
   "metadata": {
    "collapsed": true
   },
   "outputs": [],
   "source": [
    "beta=3.0"
   ]
  },
  {
   "cell_type": "code",
   "execution_count": 472,
   "metadata": {
    "collapsed": true
   },
   "outputs": [],
   "source": [
    "probs = np.exp(-diff_dist / beta) * (1 / beta)"
   ]
  },
  {
   "cell_type": "code",
   "execution_count": 474,
   "metadata": {
    "collapsed": true
   },
   "outputs": [],
   "source": [
    "probs = probs / np.sum(probs)"
   ]
  },
  {
   "cell_type": "code",
   "execution_count": 476,
   "metadata": {
    "collapsed": true
   },
   "outputs": [],
   "source": []
  },
  {
   "cell_type": "code",
   "execution_count": 703,
   "metadata": {
    "collapsed": true
   },
   "outputs": [],
   "source": [
    "def prob_transition(self, state_last2, obs_last2, dist_obs_m_prev, time_delta_sec_prev, \n",
    "                        max_allowable_diff_m=2000.0, max_allowable_mph=112.0):\n",
    "        \"\"\"\n",
    "        state_last2, float numpy array, (n * c x 4 lat, long, lat_prev, long_prev), c candidate roads and n particles\n",
    "        obs_last2, float numpy array, (1 x 4 lat, long, lat_prev, long_prev) \n",
    "        dist_obs_m_prev float distance in meters between last two obs.\n",
    "        time_delta_sec_prev float time delta in sec between last two obs.\n",
    "        max_allowable_diff_m float, ignore low probability routes as in N&K; in N&K 2000 meters.\n",
    "        max_allowable_mph, float; ignore routes resulting in unreasonable speeds. 112mph in N&K.\n",
    "        Where present, lat/long in degrees.\n",
    "        \n",
    "        returns probs of transition, (n * c x 1)\n",
    "        \"\"\"\n",
    "        RADIUS_OF_EARTH_M = 6371000\n",
    "        MILES_PER_METER = 0.000621371\n",
    "        HOURS_PER_SECOND = 3600.0\n",
    "        state_last2 = np.deg2rad(state_last2)\n",
    "        obs_last2 = np.deg2rad(obs_last2)\n",
    "        # dist_obs = abs(haversine_distances(obs_last2[:, :2], obs_last2[0, 2:]))  # (1, 1)\n",
    "        # !! TODO - Supposed to be driving distance, not haversine. N&K use a route planner. Can I use shapely???\n",
    "            # Probably fine as generally GPS measurements are taken close together in time- \n",
    "            # Otherwise would have to snap to roads using Shapely and get the distance between the two points. \n",
    "            # How does using driving distance even compare to haversine for obs? Isn't it better to compare apples to apples?\n",
    "        dist_road = \\\n",
    "        np.abs(np.array([haversine_distances(state_last2[r, :2].reshape(1,2), state_last2[r, 2:].reshape(1,2))[0] \n",
    "                         for r in range(state_last2.shape[0])]))  # (n * c, 1)\n",
    "        dist_road = dist_road * RADIUS_OF_EARTH_M  # multiply by Earth radius to get result in meters\n",
    "        diff_dist = np.abs(np.subtract(dist_road, dist_obs_m_prev))  # (n * c, 1)\n",
    "        \n",
    "        # Ignore cases where diff_dist >= max_allowable_diff_m\n",
    "        diff_dist[diff_dist >= max_allowable_diff_m] = np.float(\"inf\")  # zero out these transition probs\n",
    "        # Ignore cases where implied speed of route is >= max_allowable_mph; calculate speed in candidate routes\n",
    "        implied_speed_road = np.divide(dist_road * MILES_PER_METER, \n",
    "                               time_delta_sec_prev * HOURS_PER_SECOND)  # (n * c, 1), meters\n",
    "        diff_dist[implied_speed_road >= max_allowable_mph] = np.float(\"inf\")  # zero out these transition probs\n",
    "        \n",
    "        probs = np.exp(-diff_dist / self.beta) * (1 / self.beta)\n",
    "        # Normalize result?\n",
    "        if self.normalize:\n",
    "            probs = probs / np.sum(probs)"
   ]
  },
  {
   "cell_type": "code",
   "execution_count": 510,
   "metadata": {
    "collapsed": true
   },
   "outputs": [],
   "source": [
    "probs = transition_model.prob_transition(state_last2, obs_last2, \n",
    "                                         dist_prev, time_delta_prev)  # (n * c, 1)"
   ]
  },
  {
   "cell_type": "code",
   "execution_count": 511,
   "metadata": {
    "collapsed": false
   },
   "outputs": [
    {
     "data": {
      "text/plain": [
       "[array([0.00898015]),\n",
       " array([0.00898015]),\n",
       " array([0.00898015]),\n",
       " array([0.00898015]),\n",
       " array([0.00898015])]"
      ]
     },
     "execution_count": 511,
     "metadata": {},
     "output_type": "execute_result"
    }
   ],
   "source": [
    "sorted(probs)[-5:]"
   ]
  },
  {
   "cell_type": "code",
   "execution_count": 512,
   "metadata": {
    "collapsed": false
   },
   "outputs": [
    {
     "data": {
      "text/plain": [
       "0.0"
      ]
     },
     "execution_count": 512,
     "metadata": {},
     "output_type": "execute_result"
    }
   ],
   "source": [
    "prob_floor"
   ]
  },
  {
   "cell_type": "code",
   "execution_count": 513,
   "metadata": {
    "collapsed": false
   },
   "outputs": [
    {
     "data": {
      "text/plain": [
       "0"
      ]
     },
     "execution_count": 513,
     "metadata": {},
     "output_type": "execute_result"
    }
   ],
   "source": [
    "np.sum(probs <= prob_floor)"
   ]
  },
  {
   "cell_type": "code",
   "execution_count": 514,
   "metadata": {
    "collapsed": true
   },
   "outputs": [],
   "source": [
    "probs[probs <= prob_floor] = 0.0"
   ]
  },
  {
   "cell_type": "code",
   "execution_count": 515,
   "metadata": {
    "collapsed": false
   },
   "outputs": [],
   "source": [
    "probs = probs / np.sum(probs)"
   ]
  },
  {
   "cell_type": "code",
   "execution_count": 516,
   "metadata": {
    "collapsed": false
   },
   "outputs": [
    {
     "data": {
      "text/plain": [
       "[array([0.00898015]),\n",
       " array([0.00898015]),\n",
       " array([0.00898015]),\n",
       " array([0.00898015]),\n",
       " array([0.00898015])]"
      ]
     },
     "execution_count": 516,
     "metadata": {},
     "output_type": "execute_result"
    }
   ],
   "source": [
    "sorted(probs)[-5:]"
   ]
  },
  {
   "cell_type": "code",
   "execution_count": null,
   "metadata": {
    "collapsed": true
   },
   "outputs": [],
   "source": []
  },
  {
   "cell_type": "code",
   "execution_count": 710,
   "metadata": {
    "collapsed": true
   },
   "outputs": [],
   "source": [
    "state_last2 = np.concatenate([np.concatenate((particles, \n",
    "                                                  np.tile(c, (n, 1))), \n",
    "                                                 axis=1) \n",
    "                                  for c in candidate_roads], axis=0)"
   ]
  },
  {
   "cell_type": "code",
   "execution_count": 715,
   "metadata": {
    "collapsed": false
   },
   "outputs": [
    {
     "data": {
      "text/plain": [
       "array([[  37.75134205, -122.39485713,   37.7497545 , -122.3962862 ],\n",
       "       [  37.75134205, -122.39485713,   37.7497545 , -122.3962862 ],\n",
       "       [  37.75132504, -122.39487933,   37.7497545 , -122.3962862 ],\n",
       "       ...,\n",
       "       [  37.75132504, -122.39487933,   37.7529547 , -122.3946691 ],\n",
       "       [  37.75134205, -122.39485713,   37.7529547 , -122.3946691 ],\n",
       "       [  37.75132504, -122.39487933,   37.7529547 , -122.3946691 ]])"
      ]
     },
     "execution_count": 715,
     "metadata": {},
     "output_type": "execute_result"
    }
   ],
   "source": [
    "state_last2"
   ]
  },
  {
   "cell_type": "code",
   "execution_count": 712,
   "metadata": {
    "collapsed": true
   },
   "outputs": [],
   "source": [
    "obs_last2 = np.array(obs_history[-2:]).reshape((1, 4))"
   ]
  },
  {
   "cell_type": "code",
   "execution_count": 713,
   "metadata": {
    "collapsed": false
   },
   "outputs": [
    {
     "data": {
      "text/plain": [
       "array([[  37.75134, -122.39488,   37.75136, -122.39527]])"
      ]
     },
     "execution_count": 713,
     "metadata": {},
     "output_type": "execute_result"
    }
   ],
   "source": [
    "obs_last2"
   ]
  },
  {
   "cell_type": "code",
   "execution_count": 716,
   "metadata": {
    "collapsed": true
   },
   "outputs": [],
   "source": [
    "probs = transition_model.prob_transition(state_last2, obs_last2, \n",
    "                                             dist_prev, time_delta_prev)"
   ]
  },
  {
   "cell_type": "code",
   "execution_count": 719,
   "metadata": {
    "collapsed": false
   },
   "outputs": [
    {
     "data": {
      "text/plain": [
       "array([[4.17545221e-29],\n",
       "       [4.17545221e-29],\n",
       "       [1.01753694e-28],\n",
       "       ...,\n",
       "       [4.15709313e-24],\n",
       "       [8.29191906e-24],\n",
       "       [4.15709313e-24]])"
      ]
     },
     "execution_count": 719,
     "metadata": {},
     "output_type": "execute_result"
    }
   ],
   "source": [
    "probs"
   ]
  },
  {
   "cell_type": "code",
   "execution_count": 720,
   "metadata": {
    "collapsed": false
   },
   "outputs": [
    {
     "data": {
      "text/plain": [
       "0.01"
      ]
     },
     "execution_count": 720,
     "metadata": {},
     "output_type": "execute_result"
    }
   ],
   "source": [
    "prob_floor"
   ]
  },
  {
   "cell_type": "code",
   "execution_count": null,
   "metadata": {
    "collapsed": true
   },
   "outputs": [],
   "source": [
    "probs[probs <= prob_floor] = 0.0"
   ]
  },
  {
   "cell_type": "code",
   "execution_count": null,
   "metadata": {
    "collapsed": true
   },
   "outputs": [],
   "source": []
  },
  {
   "cell_type": "code",
   "execution_count": null,
   "metadata": {
    "collapsed": true
   },
   "outputs": [],
   "source": []
  },
  {
   "cell_type": "code",
   "execution_count": 707,
   "metadata": {
    "collapsed": true
   },
   "outputs": [],
   "source": [
    "def apply_transition_model(candidate_roads, dist_prev, time_delta_prev):\n",
    "    \"\"\"\n",
    "    returns probabilities of transition, given current particles\n",
    "    numpy array of floats between 0 and 1, normalized, (n * c, 1)\n",
    "\n",
    "    candidate_roads numpy array float of lat,long closest point to road from obs (N&K)\n",
    "    dist_prev float, meters\n",
    "    time_delta_prev float, sec\n",
    "\n",
    "    Zeroize very small probability candidates, but don't change shape of particles.\n",
    "    Then, if some particles are very unlikely, we cull them and resample from more likely particles. \n",
    "    \"\"\"\n",
    "    # Crossproduct for each particle, all roads\n",
    "    state_last2 = np.concatenate([np.concatenate((particles, \n",
    "                                                  np.tile(c, (n, 1))), \n",
    "                                                 axis=1) \n",
    "                                  for c in candidate_roads], axis=0)  # (n * c, 4)\n",
    "    obs_last2 = np.array(obs_history[-2:]).reshape((1, 4))\n",
    "    probs = transition_model.prob_transition(state_last2, obs_last2, \n",
    "                                             dist_prev, time_delta_prev)  # (n * c, 1)\n",
    "    # Effectively, candidate roads will be possible from different original particle hypotheses\n",
    "    # Zeroise small probs, without changing array shape\n",
    "    probs[probs <= prob_floor] = 0.0\n",
    "    # Re-normalize\n",
    "    probs = probs / np.sum(probs)\n",
    "    return probs"
   ]
  },
  {
   "cell_type": "code",
   "execution_count": null,
   "metadata": {
    "collapsed": true
   },
   "outputs": [],
   "source": []
  },
  {
   "cell_type": "code",
   "execution_count": 691,
   "metadata": {
    "collapsed": false
   },
   "outputs": [
    {
     "data": {
      "text/plain": [
       "lat                  37.751360\n",
       "long               -122.395270\n",
       "lat_prev             37.751340\n",
       "long_prev          -122.394880\n",
       "dist_from_prev_m     34.360479\n",
       "time_delta_sec      -28.000000\n",
       "Name: 1, dtype: float64"
      ]
     },
     "execution_count": 691,
     "metadata": {},
     "output_type": "execute_result"
    }
   ],
   "source": [
    "obs"
   ]
  },
  {
   "cell_type": "code",
   "execution_count": 695,
   "metadata": {
    "collapsed": true
   },
   "outputs": [],
   "source": [
    "obs_coords = obs[['lat', 'long']] # obs[:2]\n",
    "dist_prev, time_delta_prev = obs[['dist_from_prev_m', 'time_delta_sec']] # obs[2:]"
   ]
  },
  {
   "cell_type": "code",
   "execution_count": 696,
   "metadata": {
    "collapsed": false
   },
   "outputs": [
    {
     "data": {
      "text/plain": [
       "-28.0"
      ]
     },
     "execution_count": 696,
     "metadata": {},
     "output_type": "execute_result"
    }
   ],
   "source": [
    "time_delta_prev"
   ]
  },
  {
   "cell_type": "code",
   "execution_count": 676,
   "metadata": {
    "collapsed": true
   },
   "outputs": [],
   "source": [
    "obs_history.append(obs_coords)"
   ]
  },
  {
   "cell_type": "code",
   "execution_count": 697,
   "metadata": {
    "collapsed": false
   },
   "outputs": [
    {
     "data": {
      "text/plain": [
       "[lat      37.75134\n",
       " long   -122.39488\n",
       " Name: 0, dtype: float64,\n",
       " lat      37.75136\n",
       " long   -122.39527\n",
       " Name: 1, dtype: float64]"
      ]
     },
     "execution_count": 697,
     "metadata": {},
     "output_type": "execute_result"
    }
   ],
   "source": [
    "obs_history"
   ]
  },
  {
   "cell_type": "code",
   "execution_count": 698,
   "metadata": {
    "collapsed": false
   },
   "outputs": [],
   "source": [
    "candidate_roads = get_candidate_roads(obs_coords)"
   ]
  },
  {
   "cell_type": "code",
   "execution_count": 699,
   "metadata": {
    "collapsed": false
   },
   "outputs": [
    {
     "data": {
      "text/plain": [
       "array([[  37.7497545 , -122.3962862 ],\n",
       "       [  37.7497851 , -122.3957776 ],\n",
       "       [  37.74982094, -122.39517989],\n",
       "       [  37.7498409 , -122.3948389 ],\n",
       "       [  37.749877  , -122.3942223 ],\n",
       "       [  37.7499376 , -122.3965082 ],\n",
       "       [  37.749877  , -122.3942223 ],\n",
       "       [  37.7500518 , -122.3946562 ],\n",
       "       [  37.7501218 , -122.3965221 ],\n",
       "       [  37.7500518 , -122.3946562 ],\n",
       "       [  37.7501218 , -122.3965221 ],\n",
       "       [  37.7504893 , -122.3966962 ],\n",
       "       [  37.750809  , -122.395448  ],\n",
       "       [  37.7508977 , -122.3934267 ],\n",
       "       [  37.7505055 , -122.3963543 ],\n",
       "       [  37.7510282 , -122.3947529 ],\n",
       "       [  37.7505509 , -122.3947056 ],\n",
       "       [  37.7507095 , -122.3966147 ],\n",
       "       [  37.7506223 , -122.3935102 ],\n",
       "       [  37.7507267 , -122.394723  ],\n",
       "       [  37.7512915 , -122.3952268 ],\n",
       "       [  37.7508102 , -122.3935227 ],\n",
       "       [  37.7509976 , -122.3963989 ],\n",
       "       [  37.7508768 , -122.3962566 ],\n",
       "       [  37.75092   , -122.3956145 ],\n",
       "       [  37.75126053, -122.39642241],\n",
       "       [  37.7511897 , -122.3964163 ],\n",
       "       [  37.7514762 , -122.396441  ],\n",
       "       [  37.75146304, -122.39363914],\n",
       "       [  37.75138233, -122.39501493],\n",
       "       [  37.75139659, -122.39486202],\n",
       "       [  37.75141136, -122.39469148],\n",
       "       [  37.75142206, -122.39451986],\n",
       "       [  37.75136889, -122.39520357],\n",
       "       [  37.75144751, -122.39434619],\n",
       "       [  37.75148118, -122.39400795],\n",
       "       [  37.75146467, -122.39417731],\n",
       "       [  37.75151271, -122.39383611],\n",
       "       [  37.752311  , -122.396513  ],\n",
       "       [  37.7521861 , -122.393509  ],\n",
       "       [  37.7522902 , -122.3968573 ],\n",
       "       [  37.75238646, -122.39533587],\n",
       "       [  37.752432  , -122.3946262 ],\n",
       "       [  37.7523714 , -122.3968168 ],\n",
       "       [  37.752656  , -122.3964826 ],\n",
       "       [  37.75253   , -122.3946416 ],\n",
       "       [  37.752485  , -122.393619  ],\n",
       "       [  37.752311  , -122.396513  ],\n",
       "       [  37.752432  , -122.3946262 ],\n",
       "       [  37.7529547 , -122.3946691 ]])"
      ]
     },
     "execution_count": 699,
     "metadata": {},
     "output_type": "execute_result"
    }
   ],
   "source": [
    "candidate_roads"
   ]
  },
  {
   "cell_type": "code",
   "execution_count": null,
   "metadata": {
    "collapsed": true
   },
   "outputs": [],
   "source": []
  },
  {
   "cell_type": "code",
   "execution_count": 680,
   "metadata": {
    "collapsed": false
   },
   "outputs": [
    {
     "data": {
      "text/plain": [
       "2"
      ]
     },
     "execution_count": 680,
     "metadata": {},
     "output_type": "execute_result"
    }
   ],
   "source": [
    "num_iter"
   ]
  },
  {
   "cell_type": "code",
   "execution_count": 722,
   "metadata": {
    "collapsed": false
   },
   "outputs": [],
   "source": [
    "trans_probs = apply_transition_model(candidate_roads, \n",
    "                                      dist_prev, \n",
    "                                      time_delta_prev) # (n * c, 1) first n rows for first candidate, etc."
   ]
  },
  {
   "cell_type": "code",
   "execution_count": 723,
   "metadata": {
    "collapsed": false
   },
   "outputs": [
    {
     "data": {
      "text/plain": [
       "array([[4.17545221e-29],\n",
       "       [4.17545221e-29],\n",
       "       [1.01753694e-28],\n",
       "       ...,\n",
       "       [4.15709313e-24],\n",
       "       [8.29191906e-24],\n",
       "       [4.15709313e-24]])"
      ]
     },
     "execution_count": 723,
     "metadata": {},
     "output_type": "execute_result"
    }
   ],
   "source": [
    "trans_probs"
   ]
  },
  {
   "cell_type": "code",
   "execution_count": 724,
   "metadata": {
    "collapsed": true
   },
   "outputs": [],
   "source": [
    "# Aggregate probs by candidate roads\n",
    "trans_probs_split = np.array(np.split(trans_probs, n, axis=0))  # (n, c, 1)"
   ]
  },
  {
   "cell_type": "code",
   "execution_count": 725,
   "metadata": {
    "collapsed": false
   },
   "outputs": [
    {
     "data": {
      "text/plain": [
       "(50, 50, 1)"
      ]
     },
     "execution_count": 725,
     "metadata": {},
     "output_type": "execute_result"
    }
   ],
   "source": [
    "trans_probs_split.shape"
   ]
  },
  {
   "cell_type": "code",
   "execution_count": 726,
   "metadata": {
    "collapsed": false
   },
   "outputs": [
    {
     "data": {
      "text/plain": [
       "(50, 1)"
      ]
     },
     "execution_count": 726,
     "metadata": {},
     "output_type": "execute_result"
    }
   ],
   "source": [
    "np.sum(np.array(trans_probs_split), axis=0).shape"
   ]
  },
  {
   "cell_type": "code",
   "execution_count": 727,
   "metadata": {
    "collapsed": true
   },
   "outputs": [],
   "source": [
    "trans_probs_agg = np.sum(trans_probs_split, axis=0)  # (c, 1)"
   ]
  },
  {
   "cell_type": "code",
   "execution_count": 728,
   "metadata": {
    "collapsed": false
   },
   "outputs": [
    {
     "data": {
      "text/plain": [
       "[array([0.02126911]),\n",
       " array([0.02126911]),\n",
       " array([0.02126911]),\n",
       " array([0.02126911]),\n",
       " array([0.02126911]),\n",
       " array([0.02126911]),\n",
       " array([0.02126911]),\n",
       " array([0.02126911]),\n",
       " array([0.02126911]),\n",
       " array([0.02126911])]"
      ]
     },
     "execution_count": 728,
     "metadata": {},
     "output_type": "execute_result"
    }
   ],
   "source": [
    "sorted(trans_probs_agg)[-10:]"
   ]
  },
  {
   "cell_type": "code",
   "execution_count": 729,
   "metadata": {
    "collapsed": false
   },
   "outputs": [
    {
     "data": {
      "text/plain": [
       "(50, 1)"
      ]
     },
     "execution_count": 729,
     "metadata": {},
     "output_type": "execute_result"
    }
   ],
   "source": [
    "trans_probs_agg.shape"
   ]
  },
  {
   "cell_type": "code",
   "execution_count": 731,
   "metadata": {
    "collapsed": false
   },
   "outputs": [
    {
     "data": {
      "text/plain": [
       "array([0.01882851, 0.01882851, 0.02126911, 0.02126911, 0.01882851,\n",
       "       0.02126911, 0.01882851, 0.02126911, 0.01882851, 0.02126911,\n",
       "       0.02126911, 0.01882851, 0.01882851, 0.02126911, 0.02126911,\n",
       "       0.02126911, 0.01882851, 0.02126911, 0.02126911, 0.01882851,\n",
       "       0.01882851, 0.01882851, 0.01882851, 0.01882851, 0.01882851,\n",
       "       0.02126911, 0.02126911, 0.02126911, 0.02126911, 0.01882851,\n",
       "       0.02126911, 0.01882851, 0.01882851, 0.02126911, 0.01882851,\n",
       "       0.01882851, 0.01882851, 0.01882851, 0.01882851, 0.01882851,\n",
       "       0.02126911, 0.02126911, 0.02126911, 0.02126911, 0.01882851,\n",
       "       0.02126911, 0.01882851, 0.02126911, 0.01882851, 0.02126911])"
      ]
     },
     "execution_count": 731,
     "metadata": {},
     "output_type": "execute_result"
    }
   ],
   "source": [
    "trans_probs_agg.flatten()"
   ]
  },
  {
   "cell_type": "code",
   "execution_count": 732,
   "metadata": {
    "collapsed": false
   },
   "outputs": [],
   "source": [
    "# Sample new states\n",
    "sampled_states_idx = np.random.choice(range(len(candidate_roads)), \n",
    "                                      n, \n",
    "                                      list(trans_probs_agg.flatten()))  # (n, )"
   ]
  },
  {
   "cell_type": "code",
   "execution_count": 733,
   "metadata": {
    "collapsed": false
   },
   "outputs": [
    {
     "data": {
      "text/plain": [
       "(50,)"
      ]
     },
     "execution_count": 733,
     "metadata": {},
     "output_type": "execute_result"
    }
   ],
   "source": [
    "sampled_states_idx.shape"
   ]
  },
  {
   "cell_type": "code",
   "execution_count": 660,
   "metadata": {
    "collapsed": true
   },
   "outputs": [],
   "source": [
    "# sampled_states = candidate_roads"
   ]
  },
  {
   "cell_type": "code",
   "execution_count": 734,
   "metadata": {
    "collapsed": true
   },
   "outputs": [],
   "source": [
    "sampled_states = candidate_roads[sampled_states_idx]  # (n, 2)"
   ]
  },
  {
   "cell_type": "code",
   "execution_count": 735,
   "metadata": {
    "collapsed": false
   },
   "outputs": [
    {
     "data": {
      "text/plain": [
       "(50, 2)"
      ]
     },
     "execution_count": 735,
     "metadata": {},
     "output_type": "execute_result"
    }
   ],
   "source": [
    "sampled_states.shape"
   ]
  },
  {
   "cell_type": "code",
   "execution_count": null,
   "metadata": {
    "collapsed": true
   },
   "outputs": [],
   "source": []
  },
  {
   "cell_type": "code",
   "execution_count": 362,
   "metadata": {
    "collapsed": true
   },
   "outputs": [],
   "source": [
    "# sampled_states = candidate_roads"
   ]
  },
  {
   "cell_type": "code",
   "execution_count": 736,
   "metadata": {
    "collapsed": false
   },
   "outputs": [
    {
     "name": "stdout",
     "output_type": "stream",
     "text": [
      "CPU times: user 168 µs, sys: 31 µs, total: 199 µs\n",
      "Wall time: 205 µs\n"
     ]
    }
   ],
   "source": [
    "%%time\n",
    "sensor_probs = estimate_weights_per_particle(sampled_states, obs_coords)"
   ]
  },
  {
   "cell_type": "code",
   "execution_count": 737,
   "metadata": {
    "collapsed": false
   },
   "outputs": [
    {
     "data": {
      "text/plain": [
       "(50, 1)"
      ]
     },
     "execution_count": 737,
     "metadata": {},
     "output_type": "execute_result"
    }
   ],
   "source": [
    "sensor_probs.shape"
   ]
  },
  {
   "cell_type": "code",
   "execution_count": 738,
   "metadata": {
    "collapsed": false
   },
   "outputs": [
    {
     "data": {
      "text/plain": [
       "array([0.24459976, 0.75539978])"
      ]
     },
     "execution_count": 738,
     "metadata": {},
     "output_type": "execute_result"
    }
   ],
   "source": [
    "sensor_probs[sensor_probs > 0.01]"
   ]
  },
  {
   "cell_type": "code",
   "execution_count": 739,
   "metadata": {
    "collapsed": false
   },
   "outputs": [
    {
     "data": {
      "text/plain": [
       "(50, 50, 1)"
      ]
     },
     "execution_count": 739,
     "metadata": {},
     "output_type": "execute_result"
    }
   ],
   "source": [
    "trans_probs_split.shape"
   ]
  },
  {
   "cell_type": "code",
   "execution_count": 740,
   "metadata": {
    "collapsed": false
   },
   "outputs": [
    {
     "data": {
      "text/plain": [
       "(50, 1)"
      ]
     },
     "execution_count": 740,
     "metadata": {},
     "output_type": "execute_result"
    }
   ],
   "source": [
    "np.max(trans_probs_split, axis=0)[sampled_states_idx].shape"
   ]
  },
  {
   "cell_type": "code",
   "execution_count": 741,
   "metadata": {
    "collapsed": false
   },
   "outputs": [
    {
     "data": {
      "text/plain": [
       "(50, 1)"
      ]
     },
     "execution_count": 741,
     "metadata": {},
     "output_type": "execute_result"
    }
   ],
   "source": [
    "sensor_probs.shape"
   ]
  },
  {
   "cell_type": "code",
   "execution_count": 742,
   "metadata": {
    "collapsed": false
   },
   "outputs": [
    {
     "data": {
      "text/plain": [
       "(50, 1)"
      ]
     },
     "execution_count": 742,
     "metadata": {},
     "output_type": "execute_result"
    }
   ],
   "source": [
    "weights.shape"
   ]
  },
  {
   "cell_type": "code",
   "execution_count": 667,
   "metadata": {
    "collapsed": true
   },
   "outputs": [],
   "source": [
    "# joint_prob = sensor_probs[new_particles_idx]"
   ]
  },
  {
   "cell_type": "code",
   "execution_count": 743,
   "metadata": {
    "collapsed": true
   },
   "outputs": [],
   "source": [
    "# joint_prob = sensor_probs\n",
    "joint_prob = np.multiply(\n",
    "        np.multiply(sensor_probs, np.max(trans_probs_split, axis=0)[sampled_states_idx]),  # (n, 1)\n",
    "        weights\n",
    "        )"
   ]
  },
  {
   "cell_type": "code",
   "execution_count": 744,
   "metadata": {
    "collapsed": false
   },
   "outputs": [
    {
     "data": {
      "text/plain": [
       "(50, 1)"
      ]
     },
     "execution_count": 744,
     "metadata": {},
     "output_type": "execute_result"
    }
   ],
   "source": [
    "joint_prob.shape"
   ]
  },
  {
   "cell_type": "code",
   "execution_count": 748,
   "metadata": {
    "collapsed": true
   },
   "outputs": [],
   "source": [
    "weights = joint_prob"
   ]
  },
  {
   "cell_type": "code",
   "execution_count": null,
   "metadata": {
    "collapsed": false
   },
   "outputs": [],
   "source": []
  },
  {
   "cell_type": "code",
   "execution_count": null,
   "metadata": {
    "collapsed": true
   },
   "outputs": [],
   "source": [
    "test=pd.DataFrame(np.array([[1,3],[1,2], [1,6], [2,5], [2,5],[2,3]]))"
   ]
  },
  {
   "cell_type": "code",
   "execution_count": 75,
   "metadata": {
    "collapsed": false
   },
   "outputs": [
    {
     "data": {
      "text/html": [
       "<div>\n",
       "<style scoped>\n",
       "    .dataframe tbody tr th:only-of-type {\n",
       "        vertical-align: middle;\n",
       "    }\n",
       "\n",
       "    .dataframe tbody tr th {\n",
       "        vertical-align: top;\n",
       "    }\n",
       "\n",
       "    .dataframe thead th {\n",
       "        text-align: right;\n",
       "    }\n",
       "</style>\n",
       "<table border=\"1\" class=\"dataframe\">\n",
       "  <thead>\n",
       "    <tr style=\"text-align: right;\">\n",
       "      <th></th>\n",
       "      <th>0</th>\n",
       "      <th>1</th>\n",
       "    </tr>\n",
       "  </thead>\n",
       "  <tbody>\n",
       "    <tr>\n",
       "      <th>0</th>\n",
       "      <td>1</td>\n",
       "      <td>3</td>\n",
       "    </tr>\n",
       "    <tr>\n",
       "      <th>1</th>\n",
       "      <td>1</td>\n",
       "      <td>2</td>\n",
       "    </tr>\n",
       "    <tr>\n",
       "      <th>2</th>\n",
       "      <td>1</td>\n",
       "      <td>6</td>\n",
       "    </tr>\n",
       "    <tr>\n",
       "      <th>3</th>\n",
       "      <td>2</td>\n",
       "      <td>5</td>\n",
       "    </tr>\n",
       "    <tr>\n",
       "      <th>4</th>\n",
       "      <td>2</td>\n",
       "      <td>5</td>\n",
       "    </tr>\n",
       "    <tr>\n",
       "      <th>5</th>\n",
       "      <td>2</td>\n",
       "      <td>3</td>\n",
       "    </tr>\n",
       "  </tbody>\n",
       "</table>\n",
       "</div>"
      ],
      "text/plain": [
       "   0  1\n",
       "0  1  3\n",
       "1  1  2\n",
       "2  1  6\n",
       "3  2  5\n",
       "4  2  5\n",
       "5  2  3"
      ]
     },
     "execution_count": 75,
     "metadata": {},
     "output_type": "execute_result"
    }
   ],
   "source": [
    "test"
   ]
  },
  {
   "cell_type": "code",
   "execution_count": 135,
   "metadata": {
    "collapsed": false
   },
   "outputs": [],
   "source": [
    "sampled_states_idx=np.array([2, 1]); new_particles_idx=np.array([0, 0])"
   ]
  },
  {
   "cell_type": "code",
   "execution_count": 136,
   "metadata": {
    "collapsed": false
   },
   "outputs": [
    {
     "data": {
      "text/plain": [
       "[array([2, 2])]"
      ]
     },
     "execution_count": 136,
     "metadata": {},
     "output_type": "execute_result"
    }
   ],
   "source": [
    "[sampled_states_idx[new_particles_idx]]"
   ]
  },
  {
   "cell_type": "code",
   "execution_count": 137,
   "metadata": {
    "collapsed": false
   },
   "outputs": [
    {
     "data": {
      "text/plain": [
       "array([2, 2, 5, 5])"
      ]
     },
     "execution_count": 137,
     "metadata": {},
     "output_type": "execute_result"
    }
   ],
   "source": [
    "np.array([(np.array([sampled_states_idx[new_particles_idx]]) + 3 * (i-1)) for i in range(1, 3)]).flatten()"
   ]
  },
  {
   "cell_type": "code",
   "execution_count": 138,
   "metadata": {
    "collapsed": false
   },
   "outputs": [
    {
     "data": {
      "text/html": [
       "<div>\n",
       "<style scoped>\n",
       "    .dataframe tbody tr th:only-of-type {\n",
       "        vertical-align: middle;\n",
       "    }\n",
       "\n",
       "    .dataframe tbody tr th {\n",
       "        vertical-align: top;\n",
       "    }\n",
       "\n",
       "    .dataframe thead th {\n",
       "        text-align: right;\n",
       "    }\n",
       "</style>\n",
       "<table border=\"1\" class=\"dataframe\">\n",
       "  <thead>\n",
       "    <tr style=\"text-align: right;\">\n",
       "      <th></th>\n",
       "      <th>0</th>\n",
       "      <th>1</th>\n",
       "    </tr>\n",
       "  </thead>\n",
       "  <tbody>\n",
       "    <tr>\n",
       "      <th>2</th>\n",
       "      <td>1</td>\n",
       "      <td>6</td>\n",
       "    </tr>\n",
       "    <tr>\n",
       "      <th>2</th>\n",
       "      <td>1</td>\n",
       "      <td>6</td>\n",
       "    </tr>\n",
       "    <tr>\n",
       "      <th>5</th>\n",
       "      <td>2</td>\n",
       "      <td>3</td>\n",
       "    </tr>\n",
       "    <tr>\n",
       "      <th>5</th>\n",
       "      <td>2</td>\n",
       "      <td>3</td>\n",
       "    </tr>\n",
       "  </tbody>\n",
       "</table>\n",
       "</div>"
      ],
      "text/plain": [
       "   0  1\n",
       "2  1  6\n",
       "2  1  6\n",
       "5  2  3\n",
       "5  2  3"
      ]
     },
     "execution_count": 138,
     "metadata": {},
     "output_type": "execute_result"
    }
   ],
   "source": [
    "test.loc[np.array([(np.array([sampled_states_idx[new_particles_idx]]) + 3 * (i-1)) for i in range(1, 3)]).flatten(), :]"
   ]
  },
  {
   "cell_type": "code",
   "execution_count": null,
   "metadata": {
    "collapsed": true
   },
   "outputs": [],
   "source": [
    "# Use trans_probs!!! (n * c, 1)"
   ]
  },
  {
   "cell_type": "code",
   "execution_count": 139,
   "metadata": {
    "collapsed": true
   },
   "outputs": [],
   "source": [
    "best_prior_state_idx = \\\n",
    "pd.DataFrame(test).loc[np.array([(np.array([sampled_states_idx[new_particles_idx]]) + 3 * (i-1)) \n",
    "                                        for i in range(1, 3)]).flatten(), :\n",
    "                             ].groupby([0])[1].idxmax().values.reshape(1,-1)"
   ]
  },
  {
   "cell_type": "code",
   "execution_count": 178,
   "metadata": {
    "collapsed": false
   },
   "outputs": [
    {
     "data": {
      "text/plain": [
       "array([[2, 2]])"
      ]
     },
     "execution_count": 178,
     "metadata": {},
     "output_type": "execute_result"
    }
   ],
   "source": [
    "best_prior_state_idx % 3"
   ]
  },
  {
   "cell_type": "code",
   "execution_count": 179,
   "metadata": {
    "collapsed": false
   },
   "outputs": [
    {
     "data": {
      "text/plain": [
       "array([[1, 6],\n",
       "       [2, 3]])"
      ]
     },
     "execution_count": 179,
     "metadata": {},
     "output_type": "execute_result"
    }
   ],
   "source": [
    "test.values[best_prior_state_idx][0]"
   ]
  },
  {
   "cell_type": "code",
   "execution_count": 121,
   "metadata": {
    "collapsed": false
   },
   "outputs": [
    {
     "ename": "NameError",
     "evalue": "name 'trans_probs' is not defined",
     "output_type": "error",
     "traceback": [
      "\u001b[0;31m---------------------------------------------------------------------------\u001b[0m",
      "\u001b[0;31mNameError\u001b[0m                                 Traceback (most recent call last)",
      "\u001b[0;32m<ipython-input-121-d184d7adc60d>\u001b[0m in \u001b[0;36m<module>\u001b[0;34m\u001b[0m\n\u001b[1;32m      1\u001b[0m \u001b[0mbest_prior_state_idx\u001b[0m \u001b[0;34m=\u001b[0m\u001b[0;31m \u001b[0m\u001b[0;31m\\\u001b[0m\u001b[0;34m\u001b[0m\u001b[0;34m\u001b[0m\u001b[0m\n\u001b[0;32m----> 2\u001b[0;31m pd.DataFrame(trans_probs).loc[np.array([(np.array([sampled_states_idx[new_particles_idx]]) + 3 * (i - 1)) \n\u001b[0m\u001b[1;32m      3\u001b[0m                                         for i in range(1, 3)]).flatten(), :\n\u001b[1;32m      4\u001b[0m                              ].groupby([0])[1].idxmax().values.reshape(1,-1)\n",
      "\u001b[0;31mNameError\u001b[0m: name 'trans_probs' is not defined"
     ]
    }
   ],
   "source": [
    "best_prior_state_idx = \\\n",
    "pd.DataFrame(trans_probs).loc[np.array([(np.array([sampled_states_idx[new_particles_idx]]) + \n",
    "                                         len(candidate_roads) * (i - 1)) \n",
    "                                        for i in range(1, (self.n + 1))]).flatten(), :\n",
    "                             ].groupby([0])[1].idxmax().values.reshape(1, -1)"
   ]
  },
  {
   "cell_type": "code",
   "execution_count": null,
   "metadata": {
    "collapsed": true
   },
   "outputs": [],
   "source": []
  },
  {
   "cell_type": "code",
   "execution_count": 872,
   "metadata": {
    "collapsed": false
   },
   "outputs": [
    {
     "data": {
      "text/plain": [
       "(1, 50)"
      ]
     },
     "execution_count": 872,
     "metadata": {},
     "output_type": "execute_result"
    }
   ],
   "source": [
    "best_prior_state_idx.shape"
   ]
  },
  {
   "cell_type": "code",
   "execution_count": 873,
   "metadata": {
    "collapsed": false
   },
   "outputs": [
    {
     "data": {
      "text/plain": [
       "array([[0, 0, 2, 2, 0, 2, 0, 2, 0, 2, 2, 0, 0, 2, 2, 2, 0, 2, 2, 0, 0, 0,\n",
       "        0, 0, 0, 2, 2, 2, 2, 0, 2, 0, 0, 2, 0, 0, 0, 0, 0, 0, 2, 2, 2, 2,\n",
       "        0, 2, 0, 2, 0, 2]])"
      ]
     },
     "execution_count": 873,
     "metadata": {},
     "output_type": "execute_result"
    }
   ],
   "source": [
    "best_prior_state_idx"
   ]
  },
  {
   "cell_type": "code",
   "execution_count": 773,
   "metadata": {
    "collapsed": true
   },
   "outputs": [],
   "source": [
    "best_prior_state = particles[best_prior_state_idx][0]  # (n, 2)"
   ]
  },
  {
   "cell_type": "code",
   "execution_count": null,
   "metadata": {
    "collapsed": true
   },
   "outputs": [],
   "source": []
  },
  {
   "cell_type": "code",
   "execution_count": null,
   "metadata": {
    "collapsed": true
   },
   "outputs": [],
   "source": []
  },
  {
   "cell_type": "code",
   "execution_count": 774,
   "metadata": {
    "collapsed": false
   },
   "outputs": [
    {
     "data": {
      "text/plain": [
       "(50, 2)"
      ]
     },
     "execution_count": 774,
     "metadata": {},
     "output_type": "execute_result"
    }
   ],
   "source": [
    "best_prior_state.shape"
   ]
  },
  {
   "cell_type": "code",
   "execution_count": 780,
   "metadata": {
    "collapsed": true
   },
   "outputs": [],
   "source": [
    "viterbi_trellis.append(best_prior_state)"
   ]
  },
  {
   "cell_type": "code",
   "execution_count": 781,
   "metadata": {
    "collapsed": true
   },
   "outputs": [],
   "source": [
    "viterbi_trellis_idx.append(best_prior_state_idx)"
   ]
  },
  {
   "cell_type": "code",
   "execution_count": null,
   "metadata": {
    "collapsed": false
   },
   "outputs": [],
   "source": []
  },
  {
   "cell_type": "code",
   "execution_count": 664,
   "metadata": {
    "collapsed": false
   },
   "outputs": [],
   "source": [
    "# Sample new particles\n",
    "new_particles_idx = np.random.choice(a=range(sampled_states.shape[0]), \n",
    "                                     size=n, \n",
    "                                     p=sensor_probs.flatten())  # (1, n)"
   ]
  },
  {
   "cell_type": "code",
   "execution_count": 666,
   "metadata": {
    "collapsed": true
   },
   "outputs": [],
   "source": [
    "new_particles = sampled_states[new_particles_idx]  # (n, 2)"
   ]
  },
  {
   "cell_type": "code",
   "execution_count": 749,
   "metadata": {
    "collapsed": true
   },
   "outputs": [],
   "source": [
    "particles = new_particles"
   ]
  },
  {
   "cell_type": "code",
   "execution_count": 750,
   "metadata": {
    "collapsed": true
   },
   "outputs": [],
   "source": [
    "# Estimate current particle filter fit quality of hypotheses to data; should research good metrics more.\n",
    "    # Came up with this on my own. \n",
    "fit_quality = [np.max(weights), np.mean(weights), np.median(weights)]"
   ]
  },
  {
   "cell_type": "code",
   "execution_count": 751,
   "metadata": {
    "collapsed": false
   },
   "outputs": [
    {
     "data": {
      "text/plain": [
       "[0.0032343141665107955, 8.015634433554048e-05, 2.8602818874616793e-174]"
      ]
     },
     "execution_count": 751,
     "metadata": {},
     "output_type": "execute_result"
    }
   ],
   "source": [
    "fit_quality"
   ]
  },
  {
   "cell_type": "code",
   "execution_count": 490,
   "metadata": {
    "collapsed": true
   },
   "outputs": [],
   "source": []
  },
  {
   "cell_type": "code",
   "execution_count": null,
   "metadata": {
    "collapsed": true
   },
   "outputs": [],
   "source": []
  },
  {
   "cell_type": "code",
   "execution_count": null,
   "metadata": {
    "collapsed": true
   },
   "outputs": [],
   "source": [
    "# def update_dist(obs, num_iter, max_dist2=None):\n",
    "\"\"\"\n",
    "Re-sample particles from transition model given re-estimated likelihood of existing particles.\n",
    "Weighted sample with replacement. \n",
    "\n",
    "numpy array of floats [lat, long, dist_from_prev_m, time_delta_sec]\n",
    "\n",
    "Note: if find no solutions, need to remove points in a signal break until HMM 'heals.'\n",
    "If break > 180 sec, separate into two trips.\n",
    "\"\"\"\n",
    "# Update stored obs\n",
    "obs_coords = obs[['lat', 'long']] # obs[:2]\n",
    "dist_prev, time_delta_prev = obs[['dist_from_prev_m', 'time_delta_sec']] # obs[2:]\n",
    "obs_history.append(obs_coords)\n",
    "# Get candidate roads given obs\n",
    "candidate_roads = get_candidate_roads(obs_coords) # ignore distance\n",
    "# What if candidate_roads is empty?? Then, seems logical to return No Match, and abort. \n",
    "if candidate_roads is None:\n",
    "    return 'Aborted'\n",
    "# Get transition probs; for first observation, ignore this part of the algorithm \n",
    "# and treat sensor probs as prior probabilities (N&K.\n",
    "if num_iter > 1:\n",
    "    trans_probs = apply_transition_model(candidate_roads, \n",
    "                                              dist_prev, \n",
    "                                              time_delta_prev) # (n * c, 1) first n rows for first candidate, etc.\n",
    "    # Aggregate probs by candidate roads\n",
    "    trans_probs_split = np.array(np.split(trans_probs, n, axis=0))  # (n, c, 1)\n",
    "    trans_probs_agg = np.sum(trans_probs_split, axis=0)  # (c, 1)\n",
    "    # Sample new states\n",
    "    # Sample new states\n",
    "    sampled_states_idx = np.random.choice(range(len(candidate_roads)), \n",
    "                                      n, \n",
    "                                      list(trans_probs_agg.flatten()))  # (n, )\n",
    "    sampled_states = candidate_roads[sampled_states_idx]  # (n, 2)\n",
    "else:\n",
    "    sampled_states = candidate_roads\n",
    "\n",
    "# Get sensor probs\n",
    "sensor_probs = estimate_weights_per_particle(sampled_states, obs_coords)  # (n, 1)\n",
    "\n",
    "# Joint prob, for viterbi backtracking. \n",
    "if num_iter > 1:\n",
    "    joint_prob = np.multiply(\n",
    "        np.multiply(sensor_probs, np.max(trans_probs_split, axis=0)[sampled_states_idx]),  # (n, 1)\n",
    "        weights\n",
    "        )\n",
    "# else:\n",
    "#     joint_prob = sensor_probs\n",
    "# weights = joint_prob  # Effectively setting prior probabilites in iter 1\n",
    "\n",
    "# Sample new particles\n",
    "new_particles_idx = np.random.choice(a=range(sampled_states.shape[0]), \n",
    "                                     size=n, \n",
    "                                     p=sensor_probs.flatten())  # (1, n) if not iter 1 else (1, c) \n",
    "new_particles = sampled_states[new_particles_idx]  # (n, 2)\n",
    "\n",
    "# Best prior state/particle for a given candidate state, for viterbi backtracking. \n",
    "if num_iter > 1:\n",
    "    best_prior_state_idx = \\\n",
    "    pd.DataFrame(trans_probs).loc[np.array([(np.array([sampled_states_idx[new_particles_idx]]) + \n",
    "                                         len(candidate_roads) * (i - 1)) \n",
    "                                        for i in range(1, (n + 1))]).flatten(), :\n",
    "                             ].groupby([0])[1].idxmax().values.reshape(1, -1) # (1, n)\n",
    "    best_prior_state_idx = best_prior_state_idx % len(candidate_roads)  # get back to particle-space\n",
    "    best_prior_state = particles[best_prior_state_idx][0]  # (n, 2)\n",
    "    viterbi_trellis.append(best_prior_state)\n",
    "    viterbi_trellis_idx.append(best_prior_state_idx)\n",
    "else:\n",
    "    joint_prob = sensor_probs[new_particles_idx]  # Effectively setting prior probabilites in iter 1\n",
    "    \n",
    "weights = joint_prob\n",
    "\n",
    "particles = new_particles\n",
    "\n",
    "# Estimate current particle filter fit quality of hypotheses to data; should research good metrics more.\n",
    "    # Came up with this on my own. \n",
    "fit_quality = [np.max(weights), np.mean(weights), np.median(weights)]\n",
    "\n",
    "return fit_quality"
   ]
  },
  {
   "cell_type": "code",
   "execution_count": 646,
   "metadata": {
    "collapsed": false
   },
   "outputs": [],
   "source": [
    "num_iter = 0\n",
    "converged = False"
   ]
  },
  {
   "cell_type": "code",
   "execution_count": 647,
   "metadata": {
    "collapsed": false
   },
   "outputs": [
    {
     "data": {
      "text/html": [
       "<div>\n",
       "<style scoped>\n",
       "    .dataframe tbody tr th:only-of-type {\n",
       "        vertical-align: middle;\n",
       "    }\n",
       "\n",
       "    .dataframe tbody tr th {\n",
       "        vertical-align: top;\n",
       "    }\n",
       "\n",
       "    .dataframe thead th {\n",
       "        text-align: right;\n",
       "    }\n",
       "</style>\n",
       "<table border=\"1\" class=\"dataframe\">\n",
       "  <thead>\n",
       "    <tr style=\"text-align: right;\">\n",
       "      <th></th>\n",
       "      <th>lat</th>\n",
       "      <th>long</th>\n",
       "      <th>lat_prev</th>\n",
       "      <th>long_prev</th>\n",
       "      <th>dist_from_prev_m</th>\n",
       "      <th>time_delta_sec</th>\n",
       "    </tr>\n",
       "  </thead>\n",
       "  <tbody>\n",
       "    <tr>\n",
       "      <th>0</th>\n",
       "      <td>37.75134</td>\n",
       "      <td>-122.39488</td>\n",
       "      <td>NaN</td>\n",
       "      <td>NaN</td>\n",
       "      <td>NaN</td>\n",
       "      <td>NaN</td>\n",
       "    </tr>\n",
       "    <tr>\n",
       "      <th>1</th>\n",
       "      <td>37.75136</td>\n",
       "      <td>-122.39527</td>\n",
       "      <td>37.75134</td>\n",
       "      <td>-122.39488</td>\n",
       "      <td>34.360479</td>\n",
       "      <td>-28.0</td>\n",
       "    </tr>\n",
       "    <tr>\n",
       "      <th>2</th>\n",
       "      <td>37.75199</td>\n",
       "      <td>-122.39460</td>\n",
       "      <td>37.75136</td>\n",
       "      <td>-122.39527</td>\n",
       "      <td>91.527346</td>\n",
       "      <td>-119.0</td>\n",
       "    </tr>\n",
       "    <tr>\n",
       "      <th>3</th>\n",
       "      <td>37.75080</td>\n",
       "      <td>-122.39346</td>\n",
       "      <td>37.75199</td>\n",
       "      <td>-122.39460</td>\n",
       "      <td>165.996049</td>\n",
       "      <td>-51.0</td>\n",
       "    </tr>\n",
       "    <tr>\n",
       "      <th>4</th>\n",
       "      <td>37.75015</td>\n",
       "      <td>-122.39256</td>\n",
       "      <td>37.75080</td>\n",
       "      <td>-122.39346</td>\n",
       "      <td>107.168918</td>\n",
       "      <td>-252.0</td>\n",
       "    </tr>\n",
       "  </tbody>\n",
       "</table>\n",
       "</div>"
      ],
      "text/plain": [
       "        lat       long  lat_prev  long_prev  dist_from_prev_m  time_delta_sec\n",
       "0  37.75134 -122.39488       NaN        NaN               NaN             NaN\n",
       "1  37.75136 -122.39527  37.75134 -122.39488         34.360479           -28.0\n",
       "2  37.75199 -122.39460  37.75136 -122.39527         91.527346          -119.0\n",
       "3  37.75080 -122.39346  37.75199 -122.39460        165.996049           -51.0\n",
       "4  37.75015 -122.39256  37.75080 -122.39346        107.168918          -252.0"
      ]
     },
     "execution_count": 647,
     "metadata": {},
     "output_type": "execute_result"
    }
   ],
   "source": [
    "data.head()"
   ]
  },
  {
   "cell_type": "code",
   "execution_count": 673,
   "metadata": {
    "collapsed": false
   },
   "outputs": [],
   "source": [
    "obs = data.iloc[1, :]"
   ]
  },
  {
   "cell_type": "code",
   "execution_count": 368,
   "metadata": {
    "collapsed": false
   },
   "outputs": [
    {
     "data": {
      "text/plain": [
       "lat                  37.751360\n",
       "long               -122.395270\n",
       "lat_prev             37.751340\n",
       "long_prev          -122.394880\n",
       "dist_from_prev_m     34.360479\n",
       "time_delta_sec      -28.000000\n",
       "Name: 1, dtype: float64"
      ]
     },
     "execution_count": 368,
     "metadata": {},
     "output_type": "execute_result"
    }
   ],
   "source": [
    "obs"
   ]
  },
  {
   "cell_type": "code",
   "execution_count": 674,
   "metadata": {
    "collapsed": true
   },
   "outputs": [],
   "source": [
    "num_iter += 1"
   ]
  },
  {
   "cell_type": "code",
   "execution_count": null,
   "metadata": {
    "collapsed": true
   },
   "outputs": [],
   "source": [
    "# def fit(data#, max_iter=100, conv_tol=0.001\n",
    "#            ):\n",
    "\"\"\"\n",
    "Iterate over rows in data, training particle filter. \n",
    "Rows assumed to be sequentially ordered. \n",
    "\n",
    "data, numpy array (num obs, data dim)\n",
    "data cols include lat, long, dist_from_prev_m, time_delta_sec (all floats)\n",
    "\n",
    "Note, calling fit multiple times would result in nonsense results, so this is prevented. \n",
    "\"\"\"\n",
    "if fitted:\n",
    "    print(\"Already fit - Cannot fit multiple times.\")\n",
    "    return None\n",
    "data = data.copy()\n",
    "num_iter = 0\n",
    "converged = False  # Is this relevant for particle filters?\n",
    "#         while num_iter < max_iter and not converged:\n",
    "#             num_iter += 1\n",
    "for obs in data:\n",
    "    num_iter += 1\n",
    "    fit_quality = update_dist(obs, num_iter)\n",
    "    if fit_quality == \"Aborted\":\n",
    "        return \"Aborted\"\n",
    "    # Shouldn't I use DP/Viterbi for this?? \n",
    "    # Nearest neighbor filter, hungarian algorithm?? p. 601\n",
    "    # Best at any given point in time will suffer in the beginning before particle dist has converged, ie\n",
    "    # during the burn-in period.\n",
    "    # So, seems can still use DP, but proceed backward in time. Wait, that is Viterbi :) \n",
    "        # Happily I have a finite state space. \n",
    "    print(\"On iteration %d, fit quality of MAX %3.2f, MEAN %3.2f, MEDIAN %3.2f\" % \n",
    "          (num_iter, fit_quality[0], fit_quality[1], fit_quality[2]))\n",
    "print(\"Done.\")\n",
    "fitted = True\n",
    "return fit_quality"
   ]
  },
  {
   "cell_type": "code",
   "execution_count": null,
   "metadata": {
    "collapsed": true
   },
   "outputs": [],
   "source": []
  },
  {
   "cell_type": "code",
   "execution_count": 783,
   "metadata": {
    "collapsed": true
   },
   "outputs": [],
   "source": [
    "best_last_state_idx = np.argmax(weights)"
   ]
  },
  {
   "cell_type": "code",
   "execution_count": 784,
   "metadata": {
    "collapsed": false
   },
   "outputs": [
    {
     "data": {
      "text/plain": [
       "35"
      ]
     },
     "execution_count": 784,
     "metadata": {},
     "output_type": "execute_result"
    }
   ],
   "source": [
    "best_last_state_idx"
   ]
  },
  {
   "cell_type": "code",
   "execution_count": 785,
   "metadata": {
    "collapsed": true
   },
   "outputs": [],
   "source": [
    "best_last_state = particles[best_last_state_idx]"
   ]
  },
  {
   "cell_type": "code",
   "execution_count": 786,
   "metadata": {
    "collapsed": false
   },
   "outputs": [
    {
     "data": {
      "text/plain": [
       "array([  37.75134205, -122.39485713])"
      ]
     },
     "execution_count": 786,
     "metadata": {},
     "output_type": "execute_result"
    }
   ],
   "source": [
    "best_last_state"
   ]
  },
  {
   "cell_type": "code",
   "execution_count": 787,
   "metadata": {
    "collapsed": true
   },
   "outputs": [],
   "source": [
    "backtracked_states = [best_last_state]"
   ]
  },
  {
   "cell_type": "code",
   "execution_count": 788,
   "metadata": {
    "collapsed": false
   },
   "outputs": [
    {
     "data": {
      "text/plain": [
       "[array([  37.75134205, -122.39485713])]"
      ]
     },
     "execution_count": 788,
     "metadata": {},
     "output_type": "execute_result"
    }
   ],
   "source": [
    "backtracked_states"
   ]
  },
  {
   "cell_type": "code",
   "execution_count": 790,
   "metadata": {
    "collapsed": true
   },
   "outputs": [],
   "source": [
    "j=len(viterbi_trellis) - 1"
   ]
  },
  {
   "cell_type": "code",
   "execution_count": 791,
   "metadata": {
    "collapsed": false
   },
   "outputs": [
    {
     "data": {
      "text/plain": [
       "1"
      ]
     },
     "execution_count": 791,
     "metadata": {},
     "output_type": "execute_result"
    }
   ],
   "source": [
    "j"
   ]
  },
  {
   "cell_type": "code",
   "execution_count": 800,
   "metadata": {
    "collapsed": false
   },
   "outputs": [
    {
     "data": {
      "text/plain": [
       "(1, 50)"
      ]
     },
     "execution_count": 800,
     "metadata": {},
     "output_type": "execute_result"
    }
   ],
   "source": [
    "viterbi_trellis_idx[j].shape"
   ]
  },
  {
   "cell_type": "code",
   "execution_count": 805,
   "metadata": {
    "collapsed": false
   },
   "outputs": [],
   "source": [
    "best_last_state_idx = viterbi_trellis_idx[j].flatten()[best_last_state_idx]"
   ]
  },
  {
   "cell_type": "code",
   "execution_count": 806,
   "metadata": {
    "collapsed": false
   },
   "outputs": [
    {
     "data": {
      "text/plain": [
       "0"
      ]
     },
     "execution_count": 806,
     "metadata": {},
     "output_type": "execute_result"
    }
   ],
   "source": [
    "best_last_state_idx"
   ]
  },
  {
   "cell_type": "code",
   "execution_count": 807,
   "metadata": {
    "collapsed": true
   },
   "outputs": [],
   "source": [
    "best_last_state = viterbi_trellis[j][best_last_state_idx]"
   ]
  },
  {
   "cell_type": "code",
   "execution_count": 808,
   "metadata": {
    "collapsed": false
   },
   "outputs": [
    {
     "data": {
      "text/plain": [
       "array([  37.75134205, -122.39485713])"
      ]
     },
     "execution_count": 808,
     "metadata": {},
     "output_type": "execute_result"
    }
   ],
   "source": [
    "best_last_state"
   ]
  },
  {
   "cell_type": "code",
   "execution_count": 809,
   "metadata": {
    "collapsed": true
   },
   "outputs": [],
   "source": [
    "backtracked_states.append(best_last_state)"
   ]
  },
  {
   "cell_type": "code",
   "execution_count": 810,
   "metadata": {
    "collapsed": false
   },
   "outputs": [
    {
     "data": {
      "text/plain": [
       "[array([  37.75134205, -122.39485713]), array([  37.75134205, -122.39485713])]"
      ]
     },
     "execution_count": 810,
     "metadata": {},
     "output_type": "execute_result"
    }
   ],
   "source": [
    "backtracked_states"
   ]
  },
  {
   "cell_type": "code",
   "execution_count": 811,
   "metadata": {
    "collapsed": false
   },
   "outputs": [],
   "source": [
    "for j in range(len(viterbi_trellis) - 1, -1, -1):\n",
    "    best_last_state_idx = viterbi_trellis_idx[j].flatten()[best_last_state_idx]\n",
    "    best_last_state = viterbi_trellis[j][best_last_state_idx]\n",
    "    backtracked_states.append(best_last_state)"
   ]
  },
  {
   "cell_type": "code",
   "execution_count": 812,
   "metadata": {
    "collapsed": true
   },
   "outputs": [],
   "source": [
    "# Put in chronological order\n",
    "backtracked_states = backtracked_states[::-1]"
   ]
  },
  {
   "cell_type": "code",
   "execution_count": 814,
   "metadata": {
    "collapsed": false
   },
   "outputs": [
    {
     "data": {
      "text/plain": [
       "[array([  37.75134205, -122.39485713]),\n",
       " array([  37.75134205, -122.39485713]),\n",
       " array([  37.75134205, -122.39485713]),\n",
       " array([  37.75134205, -122.39485713])]"
      ]
     },
     "execution_count": 814,
     "metadata": {},
     "output_type": "execute_result"
    }
   ],
   "source": [
    "backtracked_states"
   ]
  },
  {
   "cell_type": "code",
   "execution_count": null,
   "metadata": {
    "collapsed": true
   },
   "outputs": [],
   "source": []
  },
  {
   "cell_type": "code",
   "execution_count": 839,
   "metadata": {
    "collapsed": true
   },
   "outputs": [],
   "source": [
    "def viterbi():\n",
    "    \"\"\"\n",
    "    Returns list of backtracked states (float lat long),\n",
    "    the imputed GPS trace that has been 'snapped' to roads.\n",
    "    Use Viterbi to get optimal path via DP - \n",
    "    happily I have a finite state space due to my constraint \n",
    "    to only maintain n particles. \n",
    "\n",
    "    Note1, Viterbi relies on the Markov property, which\n",
    "    can apply here. \n",
    "    Note2, if particle filter was aborted due to no matching candidate roads,\n",
    "    Viterbi will still be able to backtrack the trace up until that point. \n",
    "    \"\"\"\n",
    "    # Start with the last observation to the viterbi trellis\n",
    "    best_last_state_idx = np.argmax(weights)\n",
    "    best_last_state = particles[best_last_state_idx]\n",
    "    backtracked_states = [best_last_state]\n",
    "    # Backtrack through the viterbi trellis (#obs, n, 2) actual lat/long states\n",
    "    for j in range(len(viterbi_trellis) - 1, -1, -1):\n",
    "        best_last_state_idx = viterbi_trellis_idx[j].flatten()[best_last_state_idx]\n",
    "        best_last_state = viterbi_trellis[j][best_last_state_idx]\n",
    "        backtracked_states.append(best_last_state)\n",
    "    # Put in chronological order\n",
    "    backtracked_states = backtracked_states[::-1]\n",
    "    return backtracked_states"
   ]
  },
  {
   "cell_type": "code",
   "execution_count": null,
   "metadata": {
    "collapsed": true
   },
   "outputs": [],
   "source": []
  },
  {
   "cell_type": "code",
   "execution_count": null,
   "metadata": {
    "collapsed": true
   },
   "outputs": [],
   "source": [
    "# END DEBUGGING"
   ]
  },
  {
   "cell_type": "code",
   "execution_count": 159,
   "metadata": {
    "collapsed": false
   },
   "outputs": [
    {
     "data": {
      "text/plain": [
       "array([ 0,  1,  2,  3,  4,  5,  6,  7,  8,  9, 10, 11, 12, 13, 14])"
      ]
     },
     "execution_count": 159,
     "metadata": {},
     "output_type": "execute_result"
    }
   ],
   "source": [
    "np.array(range(5*3))"
   ]
  },
  {
   "cell_type": "code",
   "execution_count": 187,
   "metadata": {
    "collapsed": false
   },
   "outputs": [
    {
     "data": {
      "text/plain": [
       "array([0, 1, 2, 3, 4, 0, 1, 2, 3, 4, 0, 1, 2, 3, 4])"
      ]
     },
     "execution_count": 187,
     "metadata": {},
     "output_type": "execute_result"
    }
   ],
   "source": [
    "np.array([i for i in range(5)] * 3)"
   ]
  },
  {
   "cell_type": "code",
   "execution_count": 161,
   "metadata": {
    "collapsed": false
   },
   "outputs": [
    {
     "data": {
      "text/plain": [
       "array([0, 0, 0, 1, 1, 1, 2, 2, 2, 3, 3, 3, 4, 4, 4])"
      ]
     },
     "execution_count": 161,
     "metadata": {},
     "output_type": "execute_result"
    }
   ],
   "source": [
    "np.array([j for l in [[i]*3 for i in range(0,5)] for j in l])"
   ]
  },
  {
   "cell_type": "code",
   "execution_count": 175,
   "metadata": {
    "collapsed": false
   },
   "outputs": [
    {
     "data": {
      "text/plain": [
       "array([[ 0,  0],\n",
       "       [ 0,  1],\n",
       "       [ 0,  2],\n",
       "       [ 1,  3],\n",
       "       [ 1,  4],\n",
       "       [ 1,  5],\n",
       "       [ 2,  6],\n",
       "       [ 2,  7],\n",
       "       [ 2,  8],\n",
       "       [ 3,  9],\n",
       "       [ 3, 10],\n",
       "       [ 3, 11],\n",
       "       [ 4, 12],\n",
       "       [ 4, 13],\n",
       "       [ 4, 14]])"
      ]
     },
     "execution_count": 175,
     "metadata": {},
     "output_type": "execute_result"
    }
   ],
   "source": [
    "np.concatenate((np.array([j for l in [[i]*3 for i in range(0,5)] for j in l]).reshape(15,1),\n",
    "                np.array(range(5*3)).reshape(15,1)\n",
    "               ), axis=1\n",
    "              )"
   ]
  },
  {
   "cell_type": "code",
   "execution_count": null,
   "metadata": {
    "collapsed": true
   },
   "outputs": [],
   "source": []
  },
  {
   "cell_type": "code",
   "execution_count": 502,
   "metadata": {
    "collapsed": true
   },
   "outputs": [],
   "source": []
  },
  {
   "cell_type": "code",
   "execution_count": 383,
   "metadata": {
    "collapsed": true
   },
   "outputs": [],
   "source": [
    "class particle_filter:\n",
    "    \"\"\"\n",
    "    Fit a particle filter to data given a transition and sensor model. \n",
    "    \n",
    "    n, integer, number of particles to maintain at each step in time.\n",
    "    max_road_dist_m, float, max road distance above which candidate roads aren't considered (meters). \n",
    "    prob_floor, float between 0 and 1, min probability below which candidate roads aren't considered (not in N&K).\n",
    "    Sensor model, , is some model object we will use to predict the likelihood.\n",
    "    Transition model, , is some model object we will use to predict next state.\n",
    "    ## max_iter, integer, the maximum iterations used in fitting the particle filter.\n",
    "    ## conv_tol, the convergence tolerance that will trigger early termination of fitting the particle filter. \n",
    "    \"\"\"\n",
    "    def __init__(self, road_strtree, n=50, max_road_dist_m=200, prob_floor=0.0, \n",
    "                 sensor_model=gps_sensor_model(), transition_model=gps_transition_model(), \n",
    "                 viterbi_trellis=[], viterbi_trellis_idx=[]):\n",
    "        self.road_strtree = road_strtree\n",
    "        self.n = n\n",
    "        self.max_road_dist_m = max_road_dist_m\n",
    "        self.prob_floor = min(max(prob_floor, 0), 1)\n",
    "        self.particles = np.array([])\n",
    "        self.weights = np.zeros((1, self.n))  # Log-transform probabilities\n",
    "        \n",
    "        self.sensor_model = sensor_model\n",
    "        self.transition_model = transition_model\n",
    "        self.viterbi_trellis = viterbi_trellis  # list of particle np arrays\n",
    "        self.viterbi_trellis_idx = viterbi_trellis_idx  # list of np arrays, columns candidate road indices, particle indices\n",
    "        \n",
    "        self.fitted = False\n",
    "        \n",
    "        self.obs_history = []  # Record history of observations (lat, long)\n",
    "        \n",
    "    def get_candidate_roads(self, obs):\n",
    "        \"\"\"\n",
    "        obs list of floats [lat, long]\n",
    "        max_dist maximum allowable closest distance for prospective matched roads; those whose \n",
    "        closest point is >= max_dist meters away are ignored (200 in N&K).\n",
    "        Returns numpy array float of lat,long closest point to road from obs (N&K).\n",
    "\n",
    "        Leverages shapely and shapefiles for cabspotting data.\n",
    "        Relies on great_circle_dist() helper function. \n",
    "        \"\"\"\n",
    "        # Fiona uses (long, lat) format\n",
    "        obs = Point(obs[::-1])\n",
    "        # Want to consider only matches within max_dist meters\n",
    "        # Need to transform decimal degrees into meters\n",
    "        # Should I deviate from the default value of buffer for a Point??\n",
    "        # According to 200 * 360 / (2 * np.pi * 6371000), a distance of 200m corresponds to 0.0017986432118374611 decimal degrees\n",
    "        # obs.buffer(1.0)\n",
    "        matching_roads = self.road_strtree.query(obs.buffer(0.002))\n",
    "        if len(matching_roads) == 0:\n",
    "            matching_roads = self.road_strtree.query(obs.buffer(1.0))  # This should be a big buffer\n",
    "        # If matching roads is still empty, return None\n",
    "        if len(matching_roads) == 0:\n",
    "            print(\"No matching roads found! Aborting particle filter.\")\n",
    "            return None\n",
    "        # Ordered as (obs, road); just take road's coords\n",
    "        # Take only the closest point on the candidate road (1st index)\n",
    "        closest_pts = np.array([[list(p.coords)[0] for p in nearest_points(obs, r)][1] for r in matching_roads])\n",
    "        # Calculate distance between obs and candidate_roads, to filter them\n",
    "        candidate_dist_coords = \\\n",
    "        np.concatenate([closest_pts, np.tile(np.array(obs), (closest_pts.shape[0], 1))], axis=1)\n",
    "        # Convert back to lat, long from long, lat\n",
    "        candidate_dist_coords = candidate_dist_coords[:, [1, 0, 3, 2]]\n",
    "        candidate_dists = great_circle_dist(candidate_dist_coords)\n",
    "        # Filtered result of closest point on matching candidate roads\n",
    "        # no. matches 2 (default buffer); 52 (buffer of 0.002); 74 (buffer of 1.0)\n",
    "            # Reverse order to be lat, long\n",
    "        candidate_roads = closest_pts[candidate_dists <= self.max_road_dist_m][:, [1,0]]\n",
    "        if len(candidate_roads) == 0:\n",
    "            print(\"No matching roads found within max road distance! Aborting particle filter.\")\n",
    "            return None\n",
    "        return candidate_roads\n",
    "    \n",
    "    def estimate_weights_per_particle(self, sampled_states, obs_coords):\n",
    "        \"\"\"\n",
    "        Estimate likelihood of particle given evidence, P(evidence|particle).\n",
    "        Uses sensor model.\n",
    "        \n",
    "        obs_coords is single observation at time t, pandas series. \n",
    "        \"\"\"\n",
    "        probs = self.sensor_model.estimate_likelihood(sampled_states, obs_coords.values.reshape(1, 2))\n",
    "        return probs\n",
    "        \n",
    "    def apply_transition_model(self, candidate_roads, dist_prev, time_delta_prev):\n",
    "        \"\"\"\n",
    "        returns probabilities of transition, given current particles\n",
    "        numpy array of floats between 0 and 1, normalized, (n * c, 1)\n",
    "        \n",
    "        candidate_roads numpy array float of lat,long closest point to road from obs (N&K)\n",
    "        dist_prev float, meters\n",
    "        time_delta_prev float, sec\n",
    "        \n",
    "        Zeroize very small probability candidates, but don't change shape of particles.\n",
    "        Then, if some particles are very unlikely, we cull them and resample from more likely particles. \n",
    "        \"\"\"\n",
    "        # Crossproduct for each particle, all roads\n",
    "        state_last2 = np.concatenate([np.concatenate((self.particles, \n",
    "                                                      np.tile(c, (self.n, 1))), \n",
    "                                                     axis=1) \n",
    "                                      for c in candidate_roads], axis=0)  # (n * c, 4)\n",
    "        obs_last2 = np.array(self.obs_history[-2:]).reshape((1, 4))\n",
    "        probs = self.transition_model.prob_transition(state_last2, obs_last2, \n",
    "                                                      dist_prev, time_delta_prev)  # (n * c, 1)\n",
    "        # Effectively, candidate roads will be possible from different original particle hypotheses\n",
    "        # Zeroise small probs, without changing array shape\n",
    "        probs[probs <= self.prob_floor] = 0.0\n",
    "        # Re-normalize\n",
    "        probs = probs / np.sum(probs)\n",
    "        return probs\n",
    "        \n",
    "    def update_dist(self, obs, num_iter, max_dist2=None):\n",
    "        \"\"\"\n",
    "        Re-sample particles from transition model given re-estimated likelihood of existing particles.\n",
    "        Weighted sample with replacement. \n",
    "        \n",
    "        obs numpy array of floats [lat, long, dist_from_prev_m, time_delta_sec]\n",
    "        num_iter integer, iteration count\n",
    "        max_dist2 not used\n",
    "\n",
    "        Note: if find no solutions, need to remove points in a signal break until HMM 'heals.'\n",
    "        If break > 180 sec, separate into two trips.\n",
    "        \"\"\"\n",
    "        # Update stored obs\n",
    "        obs_coords = obs[['lat', 'long']] # obs[:2]\n",
    "        dist_prev, time_delta_prev = obs[['dist_from_prev_m', 'time_delta_sec']] # obs[2:]\n",
    "        self.obs_history.append(obs_coords)\n",
    "        # Get candidate roads given obs\n",
    "        candidate_roads = self.get_candidate_roads(obs_coords) # ignore distance\n",
    "        # What if candidate_roads is empty?? Then, seems logical to return No Match, and abort. \n",
    "        if candidate_roads is None:\n",
    "            return 'Aborted'\n",
    "        # Get transition probs; for first observation, ignore this part of the algorithm \n",
    "        # and treat sensor probs as prior probabilities (N&K.\n",
    "        if num_iter > 1:\n",
    "            trans_probs = self.apply_transition_model(candidate_roads, \n",
    "                                                      dist_prev, \n",
    "                                                      time_delta_prev) # (n * c, 1) first n rows for first candidate, etc.\n",
    "            # Aggregate probs by candidate roads\n",
    "            trans_probs_split = np.array(np.split(trans_probs, self.n, axis=0))  # (n, c, 1)\n",
    "            trans_probs_agg = np.sum(trans_probs_split, axis=0)  # (c, 1)\n",
    "            # Sample new states\n",
    "            # Sample new states; index into candidate roads\n",
    "            sampled_states_idx = np.random.choice(range(len(candidate_roads)), \n",
    "                                                  self.n, \n",
    "                                                  list(trans_probs_agg.flatten()))  # (n, )\n",
    "            sampled_states = candidate_roads[sampled_states_idx]  # (n, 2)\n",
    "            sampled_states_best_prior = np.argmax(trans_probs_split[:, sampled_states_idx, :], axis=0)  # (n, 1)\n",
    "        else:\n",
    "            sampled_states = candidate_roads\n",
    "            sampled_states_best_prior = np.zeros((self.n, 1))  # dummy value\n",
    "        \n",
    "        # Get sensor probs\n",
    "        sensor_probs = self.estimate_weights_per_particle(sampled_states, obs_coords)  # (n, 1) \n",
    "        \n",
    "        # Joint prob, for viterbi backtracking. Do this in the log domain.  \n",
    "        if num_iter > 1:\n",
    "            # May want to do this in the log domain?\n",
    "            joint_prob = np.add(\n",
    "                np.add(np.log(sensor_probs), np.max(np.log(trans_probs_split), axis=0)[sampled_states_idx]),  # (n, 1)\n",
    "                self.weights\n",
    "                )\n",
    "#         else:\n",
    "#             joint_prob = sensor_probs\n",
    "#         self.weights = joint_prob  # Effectively setting prior probabilites in iter 1\n",
    "        \n",
    "        # Sample new particles, from the n sampled states\n",
    "        new_particles_idx = np.random.choice(a=range(sampled_states.shape[0]), \n",
    "                                             size=self.n, \n",
    "                                             p=sensor_probs.flatten())  # (1, n) if not iter 1 else (1, c)\n",
    "        new_particles = sampled_states[new_particles_idx]  # (n, 2)\n",
    "        \n",
    "        # Best prior state/particle for a given candidate state, for viterbi backtracking. \n",
    "        if num_iter > 1:\n",
    "#             # Tie together candidate road indices, particle indices, trans probs, and particles\n",
    "#             trans_probs_stack = \\\n",
    "#             np.concatenate((np.array([[i] * self.n for i in range(len(candidate_roads))]\n",
    "#                                     ).reshape(len(candidate_roads) * self.n, 1), \n",
    "#                             np.array([j for j in range(self.n)] * len(candidate_roads)\n",
    "#                                     ).reshape(len(candidate_roads) * self.n, 1), \n",
    "#                             trans_probs.reshape(len(candidate_roads) * self.n, 1),\n",
    "#                             np.tile(self.particles, len(candidate_roads)).reshape(len(candidate_roads) * self.n, -1)\n",
    "#                            ), axis=1)  # (n * c, 5)   cols: particle_id and transition probs\n",
    "#             # For each candidate road, max-prob prev state.\n",
    "#             # Given candidate roads are sampled...\n",
    "#             trans_prob_idx = \\\n",
    "#             np.array([(np.array([sampled_states_idx[new_particles_idx]]) + \n",
    "#                                          len(candidate_roads) * (i - 1)) \n",
    "#                                         for i in range(1, (self.n + 1))]).flatten()  # (n * c, 1)\n",
    "#             # ...of sampled roads, which prior states are most likely?\n",
    "#                 # Not all roads may have been sampled.\n",
    "#                 # idxmax is in the range <= c.\n",
    "#                 # best_prior_state_idx is filtered particle indices\n",
    "#             best_prior_state_idx = \\\n",
    "#             pd.DataFrame(trans_probs_stack).loc[trans_prob_idx, :\n",
    "#                              ].groupby([0])[2].idxmax().values.reshape(1, -1)  # (1, <= c)\n",
    "#             # get back to particle-space\n",
    "# #             best_prior_state = trans_probs_stack[best_prior_state_idx][0][:, -2:]  # (<= c, 2)\n",
    "#             prior_particles = self.particles  # best_prior_state_idx indexes into self.particles\n",
    "#             best_prior_state_idx = np.concatenate((best_prior_state_idx.reshape(-1, 1), # indexed cand roads (next particles idx)\n",
    "#                                                    trans_probs_stack[best_prior_state_idx][0][:, 1],  # particles (cur particles idx)\n",
    "#                                                   )\n",
    "#                                                   , axis=1)  # (<= c, 2); cand roads, particles\n",
    "# #             best_prior_state_idx = trans_probs_stack[best_prior_state_idx][0][:, :2]  # (<= c, 2); cand roads, particles\n",
    "# #             best_prior_state_idx = math.floor(best_prior_state_idx / len(candidate_roads))\n",
    "# #             best_prior_state = self.particles[best_prior_state_idx][0]  # (n, 2)\n",
    "            self.viterbi_trellis.append(new_particles)\n",
    "            self.viterbi_trellis_idx.append(sampled_states_best_prior)\n",
    "        else:\n",
    "            self.viterbi_trellis.append(new_particles)\n",
    "            self.viterbi_trellis_idx.append(sampled_states_best_prior)\n",
    "            joint_prob = np.log(sensor_probs[new_particles_idx])  # Effectively setting prior probabilites in iter 1\n",
    "            \n",
    "        self.weights = joint_prob\n",
    "        \n",
    "        self.particles = new_particles\n",
    "        \n",
    "        # Estimate current particle filter fit quality of hypotheses to data; should research good metrics more.\n",
    "            # Came up with this on my own. \n",
    "        fit_quality = [np.max(self.weights), np.mean(self.weights), np.median(self.weights)]\n",
    "        \n",
    "        return fit_quality\n",
    "        \n",
    "    def fit(self, data#, max_iter=100, conv_tol=0.001\n",
    "           ):\n",
    "        \"\"\"\n",
    "        Iterate over rows in data, training particle filter. \n",
    "        Rows assumed to be sequentially ordered. \n",
    "        \n",
    "        data, numpy array: cols include lat, long, dist_from_prev_m, time_delta_sec (all floats).\n",
    "        lat, long in decimal degrees.\n",
    "        \n",
    "        Returns fit_quality, list of floats: max, mean, and median probability of most recent particles.\n",
    "        \n",
    "        Note, calling fit multiple times would result in nonsense results, so this is prevented. \n",
    "        \"\"\"\n",
    "        if self.fitted:\n",
    "            print(\"Already fit - Cannot fit multiple times.\")\n",
    "            return None\n",
    "        data = data.copy()\n",
    "        num_iter = 0\n",
    "        converged = False  # Is this relevant for particle filters?\n",
    "#         while num_iter < max_iter and not converged:\n",
    "#             num_iter += 1\n",
    "        for obs in data.iterrows():\n",
    "            num_iter += 1\n",
    "            fit_quality = self.update_dist(obs[1], num_iter)\n",
    "            if fit_quality == \"Aborted\":\n",
    "                return \"Aborted\"\n",
    "            # Shouldn't I use DP/Viterbi for this?? \n",
    "            # Nearest neighbor filter, hungarian algorithm?? p. 601\n",
    "            # Best at any given point in time will suffer in the beginning before particle dist has converged, ie\n",
    "            # during the burn-in period.\n",
    "            # So, seems can still use DP, but proceed backward in time. Wait, that is Viterbi :) \n",
    "                # Happily I have a finite state space. \n",
    "            print(\"On iteration %d, fit quality of MAX %3.2f, MEAN %3.2f, MEDIAN %3.2f\" % \n",
    "                  (num_iter, fit_quality[0], fit_quality[1], fit_quality[2]))\n",
    "        print(\"Done.\")\n",
    "        self.fitted = True\n",
    "        return fit_quality\n",
    "    \n",
    "    def viterbi(self):\n",
    "        \"\"\"\n",
    "        Returns list of backtracked states (float lat long),\n",
    "        the imputed GPS trace that has been 'snapped' to roads.\n",
    "        Use Viterbi to get optimal path via DP - \n",
    "        happily I have a finite state space due to my constraint \n",
    "        to only maintain n particles. \n",
    "        \n",
    "        Note1, Viterbi relies on the Markov property, which\n",
    "        can apply here. \n",
    "        Note2, if particle filter was aborted due to no matching candidate roads,\n",
    "        Viterbi will still be able to backtrack the trace up until that point. \n",
    "        \"\"\"\n",
    "        # Start with the last observation to the viterbi trellis\n",
    "        best_last_state_idx = np.argmax(self.weights)\n",
    "        backtracked_states = []\n",
    "#         best_last_state = self.particles[best_last_state_idx]\n",
    "#         backtracked_states = [best_last_state]\n",
    "        # Backtrack through the viterbi trellis (#obs, n, 2) actual lat/long states\n",
    "        for j in range(len(self.viterbi_trellis) - 1, -1, -1):\n",
    "            # for that 'candidate road,' the particle index (col 1)\n",
    "            best_last_state = self.viterbi_trellis[j][best_last_state_idx]\n",
    "            best_last_state_idx = int(self.viterbi_trellis_idx[j][best_last_state_idx])\n",
    "            backtracked_states.append(best_last_state)\n",
    "        # Put in chronological order\n",
    "        backtracked_states = backtracked_states[::-1]\n",
    "        return backtracked_states"
   ]
  },
  {
   "cell_type": "code",
   "execution_count": 379,
   "metadata": {
    "collapsed": false
   },
   "outputs": [
    {
     "data": {
      "text/plain": [
       "2"
      ]
     },
     "execution_count": 379,
     "metadata": {},
     "output_type": "execute_result"
    }
   ],
   "source": [
    "int(np.array(range(5)).reshape(5,1)[2])"
   ]
  },
  {
   "cell_type": "code",
   "execution_count": 226,
   "metadata": {
    "collapsed": false
   },
   "outputs": [],
   "source": [
    "n=5; candidate_roads=np.array([1,2,3]); particles=np.array([1,2,3,4,5]); trans_probs = np.array(range(15))"
   ]
  },
  {
   "cell_type": "code",
   "execution_count": 228,
   "metadata": {
    "collapsed": false
   },
   "outputs": [
    {
     "data": {
      "text/plain": [
       "(15, 1)"
      ]
     },
     "execution_count": 228,
     "metadata": {},
     "output_type": "execute_result"
    }
   ],
   "source": [
    "np.array([[i] * n for i in range(len(candidate_roads))]\n",
    "                                    ).reshape(len(candidate_roads) * n, 1).shape"
   ]
  },
  {
   "cell_type": "code",
   "execution_count": 229,
   "metadata": {
    "collapsed": false
   },
   "outputs": [
    {
     "data": {
      "text/plain": [
       "(15,)"
      ]
     },
     "execution_count": 229,
     "metadata": {},
     "output_type": "execute_result"
    }
   ],
   "source": [
    "np.array([j for j in range(n)] * len(candidate_roads)).flatten().shape"
   ]
  },
  {
   "cell_type": "code",
   "execution_count": 230,
   "metadata": {
    "collapsed": false
   },
   "outputs": [
    {
     "data": {
      "text/plain": [
       "(15,)"
      ]
     },
     "execution_count": 230,
     "metadata": {},
     "output_type": "execute_result"
    }
   ],
   "source": [
    "trans_probs.shape"
   ]
  },
  {
   "cell_type": "code",
   "execution_count": 348,
   "metadata": {
    "collapsed": false
   },
   "outputs": [],
   "source": [
    "trans_probs=trans_probs.reshape(15,1)"
   ]
  },
  {
   "cell_type": "code",
   "execution_count": 349,
   "metadata": {
    "collapsed": false
   },
   "outputs": [],
   "source": [
    "trans_probs_split = np.array(np.split(trans_probs, n, axis=0))  # (n, c, 1)\n",
    "trans_probs_agg = np.sum(trans_probs_split, axis=0)  # (c, 1)\n",
    "# Sample new states\n",
    "# Sample new states; index into candidate roads\n",
    "sampled_states_idx = np.random.choice(range(len(candidate_roads)), \n",
    "                                      n, \n",
    "                                      list(trans_probs_agg.flatten()))  # (n, )\n",
    "sampled_states = candidate_roads[sampled_states_idx]  # (n, 2)"
   ]
  },
  {
   "cell_type": "code",
   "execution_count": 354,
   "metadata": {
    "collapsed": false
   },
   "outputs": [
    {
     "data": {
      "text/plain": [
       "(5, 3, 1)"
      ]
     },
     "execution_count": 354,
     "metadata": {},
     "output_type": "execute_result"
    }
   ],
   "source": [
    "trans_probs_split.shape"
   ]
  },
  {
   "cell_type": "code",
   "execution_count": 353,
   "metadata": {
    "collapsed": false
   },
   "outputs": [
    {
     "data": {
      "text/plain": [
       "(3, 1)"
      ]
     },
     "execution_count": 353,
     "metadata": {},
     "output_type": "execute_result"
    }
   ],
   "source": [
    "trans_probs_agg.shape"
   ]
  },
  {
   "cell_type": "code",
   "execution_count": 355,
   "metadata": {
    "collapsed": false
   },
   "outputs": [
    {
     "data": {
      "text/plain": [
       "(5,)"
      ]
     },
     "execution_count": 355,
     "metadata": {},
     "output_type": "execute_result"
    }
   ],
   "source": [
    "sampled_states_idx.shape"
   ]
  },
  {
   "cell_type": "code",
   "execution_count": 360,
   "metadata": {
    "collapsed": false
   },
   "outputs": [
    {
     "data": {
      "text/plain": [
       "array([[[ 0],\n",
       "        [ 1],\n",
       "        [ 2]],\n",
       "\n",
       "       [[ 3],\n",
       "        [ 4],\n",
       "        [ 5]],\n",
       "\n",
       "       [[ 6],\n",
       "        [ 7],\n",
       "        [ 8]],\n",
       "\n",
       "       [[ 9],\n",
       "        [10],\n",
       "        [11]],\n",
       "\n",
       "       [[12],\n",
       "        [13],\n",
       "        [14]]])"
      ]
     },
     "execution_count": 360,
     "metadata": {},
     "output_type": "execute_result"
    }
   ],
   "source": [
    "trans_probs_split"
   ]
  },
  {
   "cell_type": "code",
   "execution_count": 359,
   "metadata": {
    "collapsed": false
   },
   "outputs": [
    {
     "data": {
      "text/plain": [
       "array([2, 1, 1, 1, 1])"
      ]
     },
     "execution_count": 359,
     "metadata": {},
     "output_type": "execute_result"
    }
   ],
   "source": [
    "sampled_states_idx"
   ]
  },
  {
   "cell_type": "code",
   "execution_count": 363,
   "metadata": {
    "collapsed": false
   },
   "outputs": [
    {
     "data": {
      "text/plain": [
       "array([[[ 2],\n",
       "        [ 1],\n",
       "        [ 1],\n",
       "        [ 1],\n",
       "        [ 1]],\n",
       "\n",
       "       [[ 5],\n",
       "        [ 4],\n",
       "        [ 4],\n",
       "        [ 4],\n",
       "        [ 4]],\n",
       "\n",
       "       [[ 8],\n",
       "        [ 7],\n",
       "        [ 7],\n",
       "        [ 7],\n",
       "        [ 7]],\n",
       "\n",
       "       [[11],\n",
       "        [10],\n",
       "        [10],\n",
       "        [10],\n",
       "        [10]],\n",
       "\n",
       "       [[14],\n",
       "        [13],\n",
       "        [13],\n",
       "        [13],\n",
       "        [13]]])"
      ]
     },
     "execution_count": 363,
     "metadata": {},
     "output_type": "execute_result"
    }
   ],
   "source": [
    "trans_probs_split[:, sampled_states_idx, :]"
   ]
  },
  {
   "cell_type": "code",
   "execution_count": 357,
   "metadata": {
    "collapsed": true
   },
   "outputs": [],
   "source": [
    "sampled_states_best_prior = np.argmax(trans_probs_split[:, sampled_states_idx, :], axis=0)"
   ]
  },
  {
   "cell_type": "code",
   "execution_count": 370,
   "metadata": {
    "collapsed": false
   },
   "outputs": [
    {
     "data": {
      "text/plain": [
       "(5, 1)"
      ]
     },
     "execution_count": 370,
     "metadata": {},
     "output_type": "execute_result"
    }
   ],
   "source": [
    "sampled_states_best_prior.shape"
   ]
  },
  {
   "cell_type": "code",
   "execution_count": 231,
   "metadata": {
    "collapsed": false
   },
   "outputs": [
    {
     "data": {
      "text/plain": [
       "(15, 1)"
      ]
     },
     "execution_count": 231,
     "metadata": {},
     "output_type": "execute_result"
    }
   ],
   "source": [
    "np.tile(particles, len(candidate_roads)).reshape(len(candidate_roads) * n, -1).shape"
   ]
  },
  {
   "cell_type": "code",
   "execution_count": 234,
   "metadata": {
    "collapsed": false
   },
   "outputs": [],
   "source": [
    "trans_probs_stack = \\\n",
    "            np.concatenate((np.array([[i] * n for i in range(len(candidate_roads))]\n",
    "                                    ).reshape(len(candidate_roads) * n, 1), \n",
    "                            np.array([j for j in range(n)] * len(candidate_roads)).reshape(len(candidate_roads) * n, 1), \n",
    "                            trans_probs.reshape(len(candidate_roads) * n, 1),\n",
    "                            np.tile(particles, len(candidate_roads)).reshape(len(candidate_roads) * n, -1)\n",
    "                           ), axis=1)"
   ]
  },
  {
   "cell_type": "code",
   "execution_count": 235,
   "metadata": {
    "collapsed": false
   },
   "outputs": [
    {
     "data": {
      "text/plain": [
       "(15, 4)"
      ]
     },
     "execution_count": 235,
     "metadata": {},
     "output_type": "execute_result"
    }
   ],
   "source": [
    "trans_probs_stack.shape"
   ]
  },
  {
   "cell_type": "code",
   "execution_count": 314,
   "metadata": {
    "collapsed": false
   },
   "outputs": [
    {
     "data": {
      "text/plain": [
       "array([[ 0,  0,  0,  1],\n",
       "       [ 0,  1,  1,  2],\n",
       "       [ 0,  2,  2,  3],\n",
       "       [ 0,  3,  3,  4],\n",
       "       [ 0,  4,  4,  5],\n",
       "       [ 1,  0,  5,  1],\n",
       "       [ 1,  1,  6,  2],\n",
       "       [ 1,  2,  7,  3],\n",
       "       [ 1,  3,  8,  4],\n",
       "       [ 1,  4,  9,  5],\n",
       "       [ 2,  0, 10,  1],\n",
       "       [ 2,  1, 11,  2],\n",
       "       [ 2,  2, 12,  3],\n",
       "       [ 2,  3, 13,  4],\n",
       "       [ 2,  4, 14,  5]])"
      ]
     },
     "execution_count": 314,
     "metadata": {},
     "output_type": "execute_result"
    }
   ],
   "source": [
    "trans_probs_stack"
   ]
  },
  {
   "cell_type": "code",
   "execution_count": 315,
   "metadata": {
    "collapsed": false
   },
   "outputs": [
    {
     "data": {
      "text/plain": [
       "array([[2, 5]])"
      ]
     },
     "execution_count": 315,
     "metadata": {},
     "output_type": "execute_result"
    }
   ],
   "source": [
    "best_prior_state_idx"
   ]
  },
  {
   "cell_type": "code",
   "execution_count": 318,
   "metadata": {
    "collapsed": false
   },
   "outputs": [
    {
     "data": {
      "text/plain": [
       "array([[0, 2],\n",
       "       [1, 0]])"
      ]
     },
     "execution_count": 318,
     "metadata": {},
     "output_type": "execute_result"
    }
   ],
   "source": [
    "trans_probs_stack[best_prior_state_idx][0][:, :2]"
   ]
  },
  {
   "cell_type": "code",
   "execution_count": 320,
   "metadata": {
    "collapsed": false
   },
   "outputs": [
    {
     "data": {
      "text/plain": [
       "0"
      ]
     },
     "execution_count": 320,
     "metadata": {},
     "output_type": "execute_result"
    }
   ],
   "source": [
    "trans_probs_stack[best_prior_state_idx][0][:, :2][1, 1]"
   ]
  },
  {
   "cell_type": "code",
   "execution_count": 7,
   "metadata": {
    "collapsed": true
   },
   "outputs": [],
   "source": [
    "## it seems i only have beijing data (10K) or sf taxi data (500)\n",
    "# Read in taxi data\n",
    "# Each data of different length; ideal use case for pyspark\n",
    "# Note, the OSM extract basemap data has POI info as well (https://download.bbbike.org)\n",
    "# also try uber h3 spatial index\n",
    "trace_dir = '/Volumes/LaCie/datasets/ms_taxi/taxi_log_2008_by_id/roads.shp'   # MS Taxi\n",
    "basemap_dir = '/Volumes/LaCie/datasets/Beijing-shp/shape/'\n",
    "\n",
    "trace_dir = '/Volumes/LaCie/datasets/cabspottingdata/'   # CRAWDAD cabspotting\n",
    "basemap_dir = '/Volumes/LaCie/datasets/SanFrancisco-shp/shape/roads.shp'"
   ]
  },
  {
   "cell_type": "code",
   "execution_count": 8,
   "metadata": {
    "collapsed": false
   },
   "outputs": [
    {
     "name": "stdout",
     "output_type": "stream",
     "text": [
      "CPU times: user 2.73 ms, sys: 4.21 ms, total: 6.94 ms\n",
      "Wall time: 339 ms\n"
     ]
    }
   ],
   "source": [
    "%%time\n",
    "all_files = [f for f in os.listdir(trace_dir) if re.match(r'new_.*\\.txt', f)]  # glob.glob(trace_dir + \"new_*.txt\")"
   ]
  },
  {
   "cell_type": "code",
   "execution_count": 9,
   "metadata": {
    "collapsed": false
   },
   "outputs": [
    {
     "name": "stdout",
     "output_type": "stream",
     "text": [
      "CPU times: user 7.83 s, sys: 1.56 s, total: 9.39 s\n",
      "Wall time: 14.4 s\n"
     ]
    }
   ],
   "source": [
    "%%time\n",
    "# 20.9s cabspottingdata; can try spark or dask? or multiprocessing, joblib\n",
    "trace_list = []\n",
    "for file_ in all_files:\n",
    "    file_df = pd.read_csv(os.path.join(trace_dir, file_), sep=\" \", index_col=None, header=None, \n",
    "                          names=['lat', 'long', 'occupancy', 'time'])\n",
    "    trace_list.append(file_df)\n",
    "\n",
    "# concatenate all dfs into one\n",
    "trace_df = pd.concat(trace_list, ignore_index=True)"
   ]
  },
  {
   "cell_type": "code",
   "execution_count": 245,
   "metadata": {
    "collapsed": false
   },
   "outputs": [
    {
     "data": {
      "text/plain": [
       "'new_abboip.txt'"
      ]
     },
     "execution_count": 245,
     "metadata": {},
     "output_type": "execute_result"
    }
   ],
   "source": [
    "all_files[0]"
   ]
  },
  {
   "cell_type": "code",
   "execution_count": 246,
   "metadata": {
    "collapsed": true
   },
   "outputs": [],
   "source": [
    "# Just try one trace...\n",
    "trace_df = pd.read_csv(os.path.join(trace_dir, all_files[0]), sep=\" \", index_col=None, header=None, \n",
    "                       names=['lat', 'long', 'occupancy', 'time'])"
   ]
  },
  {
   "cell_type": "code",
   "execution_count": 247,
   "metadata": {
    "collapsed": true
   },
   "outputs": [],
   "source": [
    "trace_df.loc[:, [\"time\"]] = pd.to_datetime(trace_df.time, origin=\"unix\", unit='s')"
   ]
  },
  {
   "cell_type": "code",
   "execution_count": 11,
   "metadata": {
    "collapsed": false
   },
   "outputs": [
    {
     "data": {
      "text/plain": [
       "lat                 float64\n",
       "long                float64\n",
       "occupancy             int64\n",
       "time         datetime64[ns]\n",
       "dtype: object"
      ]
     },
     "execution_count": 11,
     "metadata": {},
     "output_type": "execute_result"
    }
   ],
   "source": [
    "\"\"\"\n",
    "cabspotting:\n",
    "\n",
    "latitude and longitude are in decimal degrees, \n",
    "occupancy shows if a cab has a fare (1 = occupied, 0 = free) and \n",
    "time is in UNIX epoch format\n",
    "\"\"\"\n",
    "trace_df.dtypes"
   ]
  },
  {
   "cell_type": "code",
   "execution_count": 248,
   "metadata": {
    "collapsed": false
   },
   "outputs": [
    {
     "data": {
      "text/html": [
       "<div>\n",
       "<style scoped>\n",
       "    .dataframe tbody tr th:only-of-type {\n",
       "        vertical-align: middle;\n",
       "    }\n",
       "\n",
       "    .dataframe tbody tr th {\n",
       "        vertical-align: top;\n",
       "    }\n",
       "\n",
       "    .dataframe thead th {\n",
       "        text-align: right;\n",
       "    }\n",
       "</style>\n",
       "<table border=\"1\" class=\"dataframe\">\n",
       "  <thead>\n",
       "    <tr style=\"text-align: right;\">\n",
       "      <th></th>\n",
       "      <th>lat</th>\n",
       "      <th>long</th>\n",
       "      <th>occupancy</th>\n",
       "      <th>time</th>\n",
       "    </tr>\n",
       "  </thead>\n",
       "  <tbody>\n",
       "    <tr>\n",
       "      <th>0</th>\n",
       "      <td>37.75134</td>\n",
       "      <td>-122.39488</td>\n",
       "      <td>0</td>\n",
       "      <td>2008-06-10 07:58:07</td>\n",
       "    </tr>\n",
       "    <tr>\n",
       "      <th>1</th>\n",
       "      <td>37.75136</td>\n",
       "      <td>-122.39527</td>\n",
       "      <td>0</td>\n",
       "      <td>2008-06-10 07:57:39</td>\n",
       "    </tr>\n",
       "    <tr>\n",
       "      <th>2</th>\n",
       "      <td>37.75199</td>\n",
       "      <td>-122.39460</td>\n",
       "      <td>0</td>\n",
       "      <td>2008-06-10 07:55:40</td>\n",
       "    </tr>\n",
       "    <tr>\n",
       "      <th>3</th>\n",
       "      <td>37.75080</td>\n",
       "      <td>-122.39346</td>\n",
       "      <td>0</td>\n",
       "      <td>2008-06-10 07:54:49</td>\n",
       "    </tr>\n",
       "    <tr>\n",
       "      <th>4</th>\n",
       "      <td>37.75015</td>\n",
       "      <td>-122.39256</td>\n",
       "      <td>0</td>\n",
       "      <td>2008-06-10 07:50:37</td>\n",
       "    </tr>\n",
       "  </tbody>\n",
       "</table>\n",
       "</div>"
      ],
      "text/plain": [
       "        lat       long  occupancy                time\n",
       "0  37.75134 -122.39488          0 2008-06-10 07:58:07\n",
       "1  37.75136 -122.39527          0 2008-06-10 07:57:39\n",
       "2  37.75199 -122.39460          0 2008-06-10 07:55:40\n",
       "3  37.75080 -122.39346          0 2008-06-10 07:54:49\n",
       "4  37.75015 -122.39256          0 2008-06-10 07:50:37"
      ]
     },
     "execution_count": 248,
     "metadata": {},
     "output_type": "execute_result"
    }
   ],
   "source": [
    "trace_df.head()"
   ]
  },
  {
   "cell_type": "code",
   "execution_count": null,
   "metadata": {
    "collapsed": true
   },
   "outputs": [],
   "source": [
    "# Load in ...shapefiles? GeoJSON? Which format is best? For parallelization may be one thing..."
   ]
  },
  {
   "cell_type": "code",
   "execution_count": null,
   "metadata": {
    "collapsed": true
   },
   "outputs": [],
   "source": []
  },
  {
   "cell_type": "code",
   "execution_count": 13,
   "metadata": {
    "collapsed": false
   },
   "outputs": [],
   "source": [
    "def preprocess_traces(df, sigma=4.07):\n",
    "    \"\"\"\n",
    "    pandas df, trace_df above with float columns lat, long in degrees\n",
    "    sigma float, representing std dev of measurement error (see above in particle filter class)\n",
    "    \n",
    "    \"The justification for this step is that until we see a point that is at least 2𝜎𝑧 \n",
    "    away from its temporal predecessor, our confidence is low that the apparent movement\n",
    "    is due to actual vehicle movement and not noise.\" (N&K)\n",
    "    \n",
    "    -remove obs that are not 2*meas dist sigma from previous obs  (eliminate 39% of data in N&K)\n",
    "    -Letting sigma = 4.07 meters as in N&K\n",
    "    \"\"\"\n",
    "    MILES_PER_METER = 0.000621371\n",
    "    HOURS_PER_SECOND = 3600.0\n",
    "    data = df.copy()\n",
    "    data[[\"lat_prev\", \"long_prev\"]] = data[[\"lat\", \"long\"]].shift(1)\n",
    "    # Ignore warning about invalid value in arcsin (nan)\n",
    "    data[\"dist_from_prev_m\"] = great_circle_dist(data[[\"lat_prev\", \"long_prev\", \"lat\", \"long\"]].values)  # 1.93 sec\n",
    "    # Add speed so can later filter on unreasonably high speeds\n",
    "    data[\"time_delta_sec\"] = data.time.subtract(data.time.shift(1)) / np.timedelta64(1, 's')  # get seconds\n",
    "    data[\"speed_mph\"] = (data.dist_from_prev_m * MILES_PER_METER).divide(data.time_delta_sec * HOURS_PER_SECOND)\n",
    "    # Take cumsum of dist\n",
    "    dist_cum = data.dist_from_prev_m.cumsum()\n",
    "    # Select points closest to multiples of 2*sigma, in cumsum dist\n",
    "    dist_cum_idx = dist_cum // (2 * sigma)\n",
    "    filter_idx = np.subtract(dist_cum_idx, dist_cum_idx.shift(1)) == 0  # 12% of rows eliminated \n",
    "    data = data[~filter_idx]\n",
    "    return data"
   ]
  },
  {
   "cell_type": "code",
   "execution_count": 249,
   "metadata": {
    "collapsed": false
   },
   "outputs": [
    {
     "name": "stdout",
     "output_type": "stream",
     "text": [
      "CPU times: user 26.5 ms, sys: 8.89 ms, total: 35.4 ms\n",
      "Wall time: 423 ms\n"
     ]
    },
    {
     "name": "stderr",
     "output_type": "stream",
     "text": [
      "/Volumes/LaCie/anaconda/envs/map_matching_particle_filter/lib/python3.7/site-packages/ipykernel/__main__.py:24: RuntimeWarning: invalid value encountered in arcsin\n"
     ]
    }
   ],
   "source": [
    "%%time\n",
    "# 11.8 s\n",
    "# Ignore RuntimeWarning: invalid value encountered in arcsin\n",
    "trace_df = preprocess_traces(trace_df)"
   ]
  },
  {
   "cell_type": "code",
   "execution_count": 250,
   "metadata": {
    "collapsed": false
   },
   "outputs": [
    {
     "data": {
      "text/html": [
       "<div>\n",
       "<style scoped>\n",
       "    .dataframe tbody tr th:only-of-type {\n",
       "        vertical-align: middle;\n",
       "    }\n",
       "\n",
       "    .dataframe tbody tr th {\n",
       "        vertical-align: top;\n",
       "    }\n",
       "\n",
       "    .dataframe thead th {\n",
       "        text-align: right;\n",
       "    }\n",
       "</style>\n",
       "<table border=\"1\" class=\"dataframe\">\n",
       "  <thead>\n",
       "    <tr style=\"text-align: right;\">\n",
       "      <th></th>\n",
       "      <th>lat</th>\n",
       "      <th>long</th>\n",
       "      <th>occupancy</th>\n",
       "      <th>time</th>\n",
       "      <th>lat_prev</th>\n",
       "      <th>long_prev</th>\n",
       "      <th>dist_from_prev_m</th>\n",
       "      <th>time_delta_sec</th>\n",
       "      <th>speed_mph</th>\n",
       "    </tr>\n",
       "  </thead>\n",
       "  <tbody>\n",
       "    <tr>\n",
       "      <th>0</th>\n",
       "      <td>37.75134</td>\n",
       "      <td>-122.39488</td>\n",
       "      <td>0</td>\n",
       "      <td>2008-06-10 07:58:07</td>\n",
       "      <td>NaN</td>\n",
       "      <td>NaN</td>\n",
       "      <td>NaN</td>\n",
       "      <td>NaN</td>\n",
       "      <td>NaN</td>\n",
       "    </tr>\n",
       "    <tr>\n",
       "      <th>1</th>\n",
       "      <td>37.75136</td>\n",
       "      <td>-122.39527</td>\n",
       "      <td>0</td>\n",
       "      <td>2008-06-10 07:57:39</td>\n",
       "      <td>37.75134</td>\n",
       "      <td>-122.39488</td>\n",
       "      <td>34.360479</td>\n",
       "      <td>-28.0</td>\n",
       "      <td>-2.118116e-07</td>\n",
       "    </tr>\n",
       "    <tr>\n",
       "      <th>2</th>\n",
       "      <td>37.75199</td>\n",
       "      <td>-122.39460</td>\n",
       "      <td>0</td>\n",
       "      <td>2008-06-10 07:55:40</td>\n",
       "      <td>37.75136</td>\n",
       "      <td>-122.39527</td>\n",
       "      <td>91.527346</td>\n",
       "      <td>-119.0</td>\n",
       "      <td>-1.327555e-07</td>\n",
       "    </tr>\n",
       "    <tr>\n",
       "      <th>3</th>\n",
       "      <td>37.75080</td>\n",
       "      <td>-122.39346</td>\n",
       "      <td>0</td>\n",
       "      <td>2008-06-10 07:54:49</td>\n",
       "      <td>37.75199</td>\n",
       "      <td>-122.39460</td>\n",
       "      <td>165.996049</td>\n",
       "      <td>-51.0</td>\n",
       "      <td>-5.617927e-07</td>\n",
       "    </tr>\n",
       "    <tr>\n",
       "      <th>4</th>\n",
       "      <td>37.75015</td>\n",
       "      <td>-122.39256</td>\n",
       "      <td>0</td>\n",
       "      <td>2008-06-10 07:50:37</td>\n",
       "      <td>37.75080</td>\n",
       "      <td>-122.39346</td>\n",
       "      <td>107.168918</td>\n",
       "      <td>-252.0</td>\n",
       "      <td>-7.340350e-08</td>\n",
       "    </tr>\n",
       "  </tbody>\n",
       "</table>\n",
       "</div>"
      ],
      "text/plain": [
       "        lat       long  occupancy                time  lat_prev  long_prev  \\\n",
       "0  37.75134 -122.39488          0 2008-06-10 07:58:07       NaN        NaN   \n",
       "1  37.75136 -122.39527          0 2008-06-10 07:57:39  37.75134 -122.39488   \n",
       "2  37.75199 -122.39460          0 2008-06-10 07:55:40  37.75136 -122.39527   \n",
       "3  37.75080 -122.39346          0 2008-06-10 07:54:49  37.75199 -122.39460   \n",
       "4  37.75015 -122.39256          0 2008-06-10 07:50:37  37.75080 -122.39346   \n",
       "\n",
       "   dist_from_prev_m  time_delta_sec     speed_mph  \n",
       "0               NaN             NaN           NaN  \n",
       "1         34.360479           -28.0 -2.118116e-07  \n",
       "2         91.527346          -119.0 -1.327555e-07  \n",
       "3        165.996049           -51.0 -5.617927e-07  \n",
       "4        107.168918          -252.0 -7.340350e-08  "
      ]
     },
     "execution_count": 250,
     "metadata": {},
     "output_type": "execute_result"
    }
   ],
   "source": [
    "trace_df.head()"
   ]
  },
  {
   "cell_type": "code",
   "execution_count": 251,
   "metadata": {
    "collapsed": false
   },
   "outputs": [
    {
     "data": {
      "text/plain": [
       "long   -122.395\n",
       "lat     37.7514\n",
       "Name: 1, dtype: object"
      ]
     },
     "execution_count": 251,
     "metadata": {},
     "output_type": "execute_result"
    }
   ],
   "source": [
    "trace_df.loc[1, ['long', 'lat']]"
   ]
  },
  {
   "cell_type": "code",
   "execution_count": 17,
   "metadata": {
    "collapsed": false
   },
   "outputs": [],
   "source": [
    "# Fiona uses (long, lat) format\n",
    "obs = Point(trace_df.loc[1, ['long', 'lat']])"
   ]
  },
  {
   "cell_type": "code",
   "execution_count": 18,
   "metadata": {
    "collapsed": false
   },
   "outputs": [
    {
     "data": {
      "image/svg+xml": [
       "<svg xmlns=\"http://www.w3.org/2000/svg\" xmlns:xlink=\"http://www.w3.org/1999/xlink\" width=\"100.0\" height=\"100.0\" viewBox=\"-123.39527 36.75136 2.0 2.0\" preserveAspectRatio=\"xMinYMin meet\"><g transform=\"matrix(1,0,0,-1,0,75.50272)\"><circle cx=\"-122.39527\" cy=\"37.75136\" r=\"0.06\" stroke=\"#555555\" stroke-width=\"0.02\" fill=\"#66cc99\" opacity=\"0.6\" /></g></svg>"
      ],
      "text/plain": [
       "<shapely.geometry.point.Point at 0x1a3b5df310>"
      ]
     },
     "execution_count": 18,
     "metadata": {},
     "output_type": "execute_result"
    }
   ],
   "source": [
    "obs"
   ]
  },
  {
   "cell_type": "code",
   "execution_count": 19,
   "metadata": {
    "collapsed": false
   },
   "outputs": [
    {
     "name": "stdout",
     "output_type": "stream",
     "text": [
      "CPU times: user 3.5 ms, sys: 7.68 ms, total: 11.2 ms\n",
      "Wall time: 271 ms\n"
     ]
    }
   ],
   "source": [
    "%%time\n",
    "roads_shp = fiona.open(basemap_dir)"
   ]
  },
  {
   "cell_type": "code",
   "execution_count": 20,
   "metadata": {
    "collapsed": false
   },
   "outputs": [
    {
     "data": {
      "text/plain": [
       "{'init': 'epsg:4326'}"
      ]
     },
     "execution_count": 20,
     "metadata": {},
     "output_type": "execute_result"
    }
   ],
   "source": [
    "roads_shp.crs"
   ]
  },
  {
   "cell_type": "code",
   "execution_count": null,
   "metadata": {
    "collapsed": true
   },
   "outputs": [],
   "source": [
    "## https://gis.stackexchange.com/questions/80881/what-is-unit-of-shapely-length-attribute\n",
    "# line1 = LineString([(15.799406, 40.636069), (15.810173,40.640246)])\n",
    "# print str(line1.length) + \" degrees\"\n",
    "# # 0.0115488362184 degrees\n",
    "\n",
    "# # Geometry transform function based on pyproj.transform\n",
    "# project_m = partial(\n",
    "#     pyproj.transform,\n",
    "#     pyproj.Proj(init='EPSG:4326'),\n",
    "#     pyproj.Proj(init='EPSG:32633'))\n",
    "\n",
    "# line2 = transform(project_m, line1)\n",
    "# print str(line2.length) + \" meters\"\n",
    "# # 1021.77585965 meters"
   ]
  },
  {
   "cell_type": "code",
   "execution_count": null,
   "metadata": {
    "collapsed": true
   },
   "outputs": [],
   "source": []
  },
  {
   "cell_type": "code",
   "execution_count": 832,
   "metadata": {
    "collapsed": false
   },
   "outputs": [
    {
     "data": {
      "text/plain": [
       "{'properties': OrderedDict([('osm_id', 'int:11'),\n",
       "              ('name', 'str:48'),\n",
       "              ('ref', 'str:16'),\n",
       "              ('type', 'str:16'),\n",
       "              ('oneway', 'int:1'),\n",
       "              ('bridge', 'int:1'),\n",
       "              ('maxspeed', 'int:3')]),\n",
       " 'geometry': 'LineString'}"
      ]
     },
     "execution_count": 832,
     "metadata": {},
     "output_type": "execute_result"
    }
   ],
   "source": [
    "roads_shp.schema"
   ]
  },
  {
   "cell_type": "code",
   "execution_count": 20,
   "metadata": {
    "collapsed": false
   },
   "outputs": [
    {
     "data": {
      "text/plain": [
       "{'LineString'}"
      ]
     },
     "execution_count": 20,
     "metadata": {},
     "output_type": "execute_result"
    }
   ],
   "source": [
    "# Types of geometries\n",
    "set([r['geometry']['type'] for r in list(roads_shp)])\n",
    "# sf_shp: {'LineString'}"
   ]
  },
  {
   "cell_type": "code",
   "execution_count": 21,
   "metadata": {
    "collapsed": false
   },
   "outputs": [
    {
     "data": {
      "text/plain": [
       "{'type': 'Feature',\n",
       " 'id': '0',\n",
       " 'properties': OrderedDict([('osm_id', 4311275),\n",
       "              ('name', 'Bayshore Freeway'),\n",
       "              ('ref', 'US 101'),\n",
       "              ('type', 'motorway'),\n",
       "              ('oneway', 1),\n",
       "              ('bridge', 0),\n",
       "              ('maxspeed', 65)]),\n",
       " 'geometry': {'type': 'LineString',\n",
       "  'coordinates': [(-122.4067318, 37.6552091),\n",
       "   (-122.4066705, 37.6554806),\n",
       "   (-122.4066, 37.6557348),\n",
       "   (-122.4065183, 37.6560026),\n",
       "   (-122.4064254, 37.6562575),\n",
       "   (-122.4063177, 37.6565034),\n",
       "   (-122.4061926, 37.6567579),\n",
       "   (-122.4055559, 37.6579996),\n",
       "   (-122.4053176, 37.6584642),\n",
       "   (-122.4051888, 37.658704),\n",
       "   (-122.405056, 37.6589448),\n",
       "   (-122.4049166, 37.659174),\n",
       "   (-122.4047675, 37.6593902),\n",
       "   (-122.4046031, 37.6596144),\n",
       "   (-122.4044278, 37.6598328),\n",
       "   (-122.404206, 37.660081),\n",
       "   (-122.4039932, 37.6603049),\n",
       "   (-122.4037717, 37.6605162),\n",
       "   (-122.4035097, 37.6607433),\n",
       "   (-122.4032666, 37.6609362),\n",
       "   (-122.4030265, 37.6611163),\n",
       "   (-122.402762, 37.661301),\n",
       "   (-122.4025091, 37.6614653),\n",
       "   (-122.3996913, 37.6632717),\n",
       "   (-122.399424, 37.6634432),\n",
       "   (-122.3991719, 37.6636088),\n",
       "   (-122.3989093, 37.663784),\n",
       "   (-122.398657, 37.6639545),\n",
       "   (-122.3984076, 37.6641304),\n",
       "   (-122.3981713, 37.6643095),\n",
       "   (-122.3979449, 37.664483),\n",
       "   (-122.3977008, 37.6646782),\n",
       "   (-122.3974726, 37.6648686),\n",
       "   (-122.3972573, 37.6650546),\n",
       "   (-122.3970163, 37.6652751),\n",
       "   (-122.396798, 37.6654781),\n",
       "   (-122.3965933, 37.6656734),\n",
       "   (-122.3963931, 37.6658756),\n",
       "   (-122.3961956, 37.6660806),\n",
       "   (-122.3956858, 37.6666107),\n",
       "   (-122.3948905, 37.6674396),\n",
       "   (-122.3927279, 37.6696896)]}}"
      ]
     },
     "execution_count": 21,
     "metadata": {},
     "output_type": "execute_result"
    }
   ],
   "source": [
    "roads_shp[0]"
   ]
  },
  {
   "cell_type": "code",
   "execution_count": 21,
   "metadata": {
    "collapsed": false
   },
   "outputs": [
    {
     "name": "stdout",
     "output_type": "stream",
     "text": [
      "CPU times: user 1.46 s, sys: 75.9 ms, total: 1.54 s\n",
      "Wall time: 1.66 s\n"
     ]
    }
   ],
   "source": [
    "%%time\n",
    "# Wall time: 1.79 s\n",
    "# Just preserving geometries for my purpose\n",
    "road_geoms = [shape(shp['geometry']) for shp in roads_shp]"
   ]
  },
  {
   "cell_type": "code",
   "execution_count": 22,
   "metadata": {
    "collapsed": false
   },
   "outputs": [
    {
     "name": "stdout",
     "output_type": "stream",
     "text": [
      "CPU times: user 250 ms, sys: 14.6 ms, total: 264 ms\n",
      "Wall time: 262 ms\n"
     ]
    }
   ],
   "source": [
    "%%time\n",
    "# Wall time: 282 ms\n",
    "# Create STR-tree\n",
    "road_strtree = STRtree(road_geoms)"
   ]
  },
  {
   "cell_type": "code",
   "execution_count": null,
   "metadata": {
    "collapsed": true
   },
   "outputs": [],
   "source": [
    "# Run Particle Filter"
   ]
  },
  {
   "cell_type": "code",
   "execution_count": 384,
   "metadata": {
    "collapsed": false
   },
   "outputs": [],
   "source": [
    "my_particle_filter = particle_filter(road_strtree)"
   ]
  },
  {
   "cell_type": "code",
   "execution_count": 385,
   "metadata": {
    "collapsed": false
   },
   "outputs": [],
   "source": [
    "data = trace_df[['lat', 'long', 'lat_prev', 'long_prev', 'dist_from_prev_m', 'time_delta_sec']].copy()"
   ]
  },
  {
   "cell_type": "code",
   "execution_count": 386,
   "metadata": {
    "collapsed": false
   },
   "outputs": [
    {
     "data": {
      "text/plain": [
       "(19500, 9)"
      ]
     },
     "execution_count": 386,
     "metadata": {},
     "output_type": "execute_result"
    }
   ],
   "source": [
    "trace_df.shape\n",
    "# (9846421, 9) ... this means I'd need 10 million iterations... @.@\n",
    "# Wait a sec, how do I distinguish among trips???\n",
    "# The first trace: (19500, 9)"
   ]
  },
  {
   "cell_type": "code",
   "execution_count": 387,
   "metadata": {
    "collapsed": false
   },
   "outputs": [
    {
     "name": "stdout",
     "output_type": "stream",
     "text": [
      "On iteration 1, fit quality of MAX -0.68, MEAN -0.71, MEDIAN -0.72\n",
      "On iteration 2, fit quality of MAX -6.41, MEAN -inf, MEDIAN -381.02\n",
      "On iteration 3, fit quality of MAX -121.78, MEAN -inf, MEDIAN -inf\n"
     ]
    },
    {
     "name": "stderr",
     "output_type": "stream",
     "text": [
      "/Volumes/LaCie/anaconda/envs/map_matching_particle_filter/lib/python3.7/site-packages/ipykernel/__main__.py:159: RuntimeWarning: divide by zero encountered in log\n"
     ]
    },
    {
     "name": "stdout",
     "output_type": "stream",
     "text": [
      "On iteration 4, fit quality of MAX -168.25, MEAN -inf, MEDIAN -inf\n",
      "On iteration 5, fit quality of MAX -418.89, MEAN -inf, MEDIAN -inf\n",
      "On iteration 6, fit quality of MAX -687.06, MEAN -inf, MEDIAN -inf\n",
      "On iteration 7, fit quality of MAX -711.32, MEAN -inf, MEDIAN -inf\n",
      "On iteration 8, fit quality of MAX -1869.64, MEAN -inf, MEDIAN -inf\n",
      "On iteration 9, fit quality of MAX -1973.97, MEAN -inf, MEDIAN -inf\n",
      "On iteration 10, fit quality of MAX -2093.78, MEAN -inf, MEDIAN -inf\n",
      "On iteration 11, fit quality of MAX -inf, MEAN -inf, MEDIAN -inf\n",
      "On iteration 12, fit quality of MAX -inf, MEAN -inf, MEDIAN -inf\n",
      "On iteration 13, fit quality of MAX -inf, MEAN -inf, MEDIAN -inf\n",
      "On iteration 14, fit quality of MAX -inf, MEAN -inf, MEDIAN -inf\n",
      "On iteration 15, fit quality of MAX -inf, MEAN -inf, MEDIAN -inf\n",
      "On iteration 16, fit quality of MAX -inf, MEAN -inf, MEDIAN -inf\n",
      "On iteration 17, fit quality of MAX -inf, MEAN -inf, MEDIAN -inf\n",
      "On iteration 18, fit quality of MAX -inf, MEAN -inf, MEDIAN -inf\n",
      "On iteration 19, fit quality of MAX -inf, MEAN -inf, MEDIAN -inf\n",
      "On iteration 20, fit quality of MAX -inf, MEAN -inf, MEDIAN -inf\n",
      "On iteration 21, fit quality of MAX -inf, MEAN -inf, MEDIAN -inf\n",
      "On iteration 22, fit quality of MAX -inf, MEAN -inf, MEDIAN -inf\n",
      "On iteration 23, fit quality of MAX -inf, MEAN -inf, MEDIAN -inf\n",
      "On iteration 24, fit quality of MAX -inf, MEAN -inf, MEDIAN -inf\n",
      "On iteration 25, fit quality of MAX -inf, MEAN -inf, MEDIAN -inf\n",
      "On iteration 26, fit quality of MAX -inf, MEAN -inf, MEDIAN -inf\n",
      "On iteration 27, fit quality of MAX -inf, MEAN -inf, MEDIAN -inf\n",
      "On iteration 28, fit quality of MAX -inf, MEAN -inf, MEDIAN -inf\n",
      "On iteration 29, fit quality of MAX -inf, MEAN -inf, MEDIAN -inf\n",
      "On iteration 30, fit quality of MAX -inf, MEAN -inf, MEDIAN -inf\n",
      "On iteration 31, fit quality of MAX -inf, MEAN -inf, MEDIAN -inf\n",
      "On iteration 32, fit quality of MAX -inf, MEAN -inf, MEDIAN -inf\n",
      "On iteration 33, fit quality of MAX -inf, MEAN -inf, MEDIAN -inf\n",
      "On iteration 34, fit quality of MAX -inf, MEAN -inf, MEDIAN -inf\n",
      "On iteration 35, fit quality of MAX -inf, MEAN -inf, MEDIAN -inf\n",
      "On iteration 36, fit quality of MAX -inf, MEAN -inf, MEDIAN -inf\n",
      "On iteration 37, fit quality of MAX -inf, MEAN -inf, MEDIAN -inf\n",
      "On iteration 38, fit quality of MAX -inf, MEAN -inf, MEDIAN -inf\n",
      "On iteration 39, fit quality of MAX -inf, MEAN -inf, MEDIAN -inf\n",
      "On iteration 40, fit quality of MAX -inf, MEAN -inf, MEDIAN -inf\n",
      "On iteration 41, fit quality of MAX -inf, MEAN -inf, MEDIAN -inf\n",
      "On iteration 42, fit quality of MAX -inf, MEAN -inf, MEDIAN -inf\n",
      "On iteration 43, fit quality of MAX -inf, MEAN -inf, MEDIAN -inf\n",
      "On iteration 44, fit quality of MAX -inf, MEAN -inf, MEDIAN -inf\n",
      "On iteration 45, fit quality of MAX -inf, MEAN -inf, MEDIAN -inf\n",
      "On iteration 46, fit quality of MAX -inf, MEAN -inf, MEDIAN -inf\n",
      "On iteration 47, fit quality of MAX -inf, MEAN -inf, MEDIAN -inf\n",
      "On iteration 48, fit quality of MAX -inf, MEAN -inf, MEDIAN -inf\n",
      "On iteration 49, fit quality of MAX -inf, MEAN -inf, MEDIAN -inf\n",
      "On iteration 50, fit quality of MAX -inf, MEAN -inf, MEDIAN -inf\n",
      "On iteration 51, fit quality of MAX -inf, MEAN -inf, MEDIAN -inf\n",
      "On iteration 52, fit quality of MAX -inf, MEAN -inf, MEDIAN -inf\n",
      "On iteration 53, fit quality of MAX -inf, MEAN -inf, MEDIAN -inf\n",
      "On iteration 54, fit quality of MAX -inf, MEAN -inf, MEDIAN -inf\n",
      "On iteration 55, fit quality of MAX -inf, MEAN -inf, MEDIAN -inf\n",
      "On iteration 56, fit quality of MAX -inf, MEAN -inf, MEDIAN -inf\n",
      "On iteration 57, fit quality of MAX -inf, MEAN -inf, MEDIAN -inf\n",
      "On iteration 58, fit quality of MAX -inf, MEAN -inf, MEDIAN -inf\n",
      "On iteration 59, fit quality of MAX -inf, MEAN -inf, MEDIAN -inf\n",
      "On iteration 60, fit quality of MAX -inf, MEAN -inf, MEDIAN -inf\n",
      "On iteration 61, fit quality of MAX -inf, MEAN -inf, MEDIAN -inf\n",
      "On iteration 62, fit quality of MAX -inf, MEAN -inf, MEDIAN -inf\n",
      "On iteration 63, fit quality of MAX -inf, MEAN -inf, MEDIAN -inf\n",
      "On iteration 64, fit quality of MAX -inf, MEAN -inf, MEDIAN -inf\n",
      "On iteration 65, fit quality of MAX -inf, MEAN -inf, MEDIAN -inf\n",
      "On iteration 66, fit quality of MAX -inf, MEAN -inf, MEDIAN -inf\n",
      "On iteration 67, fit quality of MAX -inf, MEAN -inf, MEDIAN -inf\n",
      "On iteration 68, fit quality of MAX -inf, MEAN -inf, MEDIAN -inf\n",
      "On iteration 69, fit quality of MAX -inf, MEAN -inf, MEDIAN -inf\n",
      "On iteration 70, fit quality of MAX -inf, MEAN -inf, MEDIAN -inf\n",
      "On iteration 71, fit quality of MAX -inf, MEAN -inf, MEDIAN -inf\n",
      "On iteration 72, fit quality of MAX -inf, MEAN -inf, MEDIAN -inf\n",
      "On iteration 73, fit quality of MAX -inf, MEAN -inf, MEDIAN -inf\n",
      "On iteration 74, fit quality of MAX -inf, MEAN -inf, MEDIAN -inf\n",
      "On iteration 75, fit quality of MAX -inf, MEAN -inf, MEDIAN -inf\n",
      "On iteration 76, fit quality of MAX -inf, MEAN -inf, MEDIAN -inf\n",
      "On iteration 77, fit quality of MAX -inf, MEAN -inf, MEDIAN -inf\n",
      "On iteration 78, fit quality of MAX -inf, MEAN -inf, MEDIAN -inf\n",
      "On iteration 79, fit quality of MAX -inf, MEAN -inf, MEDIAN -inf\n",
      "On iteration 80, fit quality of MAX -inf, MEAN -inf, MEDIAN -inf\n",
      "On iteration 81, fit quality of MAX -inf, MEAN -inf, MEDIAN -inf\n",
      "On iteration 82, fit quality of MAX -inf, MEAN -inf, MEDIAN -inf\n",
      "On iteration 83, fit quality of MAX -inf, MEAN -inf, MEDIAN -inf\n",
      "On iteration 84, fit quality of MAX -inf, MEAN -inf, MEDIAN -inf\n",
      "On iteration 85, fit quality of MAX -inf, MEAN -inf, MEDIAN -inf\n",
      "On iteration 86, fit quality of MAX -inf, MEAN -inf, MEDIAN -inf\n",
      "On iteration 87, fit quality of MAX -inf, MEAN -inf, MEDIAN -inf\n",
      "On iteration 88, fit quality of MAX -inf, MEAN -inf, MEDIAN -inf\n",
      "On iteration 89, fit quality of MAX -inf, MEAN -inf, MEDIAN -inf\n",
      "On iteration 90, fit quality of MAX -inf, MEAN -inf, MEDIAN -inf\n",
      "On iteration 91, fit quality of MAX -inf, MEAN -inf, MEDIAN -inf\n",
      "On iteration 92, fit quality of MAX -inf, MEAN -inf, MEDIAN -inf\n",
      "On iteration 93, fit quality of MAX -inf, MEAN -inf, MEDIAN -inf\n",
      "On iteration 94, fit quality of MAX -inf, MEAN -inf, MEDIAN -inf\n",
      "On iteration 95, fit quality of MAX -inf, MEAN -inf, MEDIAN -inf\n",
      "On iteration 96, fit quality of MAX -inf, MEAN -inf, MEDIAN -inf\n",
      "On iteration 97, fit quality of MAX -inf, MEAN -inf, MEDIAN -inf\n",
      "On iteration 98, fit quality of MAX -inf, MEAN -inf, MEDIAN -inf\n",
      "On iteration 99, fit quality of MAX -inf, MEAN -inf, MEDIAN -inf\n",
      "On iteration 100, fit quality of MAX -inf, MEAN -inf, MEDIAN -inf\n",
      "On iteration 101, fit quality of MAX -inf, MEAN -inf, MEDIAN -inf\n",
      "On iteration 102, fit quality of MAX -inf, MEAN -inf, MEDIAN -inf\n",
      "On iteration 103, fit quality of MAX -inf, MEAN -inf, MEDIAN -inf\n",
      "On iteration 104, fit quality of MAX -inf, MEAN -inf, MEDIAN -inf\n",
      "On iteration 105, fit quality of MAX -inf, MEAN -inf, MEDIAN -inf\n",
      "On iteration 106, fit quality of MAX -inf, MEAN -inf, MEDIAN -inf\n",
      "On iteration 107, fit quality of MAX -inf, MEAN -inf, MEDIAN -inf\n",
      "On iteration 108, fit quality of MAX -inf, MEAN -inf, MEDIAN -inf\n",
      "On iteration 109, fit quality of MAX -inf, MEAN -inf, MEDIAN -inf\n",
      "On iteration 110, fit quality of MAX -inf, MEAN -inf, MEDIAN -inf\n",
      "On iteration 111, fit quality of MAX -inf, MEAN -inf, MEDIAN -inf\n",
      "On iteration 112, fit quality of MAX -inf, MEAN -inf, MEDIAN -inf\n",
      "On iteration 113, fit quality of MAX -inf, MEAN -inf, MEDIAN -inf\n",
      "On iteration 114, fit quality of MAX -inf, MEAN -inf, MEDIAN -inf\n",
      "On iteration 115, fit quality of MAX -inf, MEAN -inf, MEDIAN -inf\n",
      "On iteration 116, fit quality of MAX -inf, MEAN -inf, MEDIAN -inf\n",
      "On iteration 117, fit quality of MAX -inf, MEAN -inf, MEDIAN -inf\n",
      "On iteration 118, fit quality of MAX -inf, MEAN -inf, MEDIAN -inf\n",
      "On iteration 119, fit quality of MAX -inf, MEAN -inf, MEDIAN -inf\n",
      "On iteration 120, fit quality of MAX -inf, MEAN -inf, MEDIAN -inf\n",
      "On iteration 121, fit quality of MAX -inf, MEAN -inf, MEDIAN -inf\n",
      "On iteration 122, fit quality of MAX -inf, MEAN -inf, MEDIAN -inf\n",
      "On iteration 123, fit quality of MAX -inf, MEAN -inf, MEDIAN -inf\n",
      "On iteration 124, fit quality of MAX -inf, MEAN -inf, MEDIAN -inf\n",
      "On iteration 125, fit quality of MAX -inf, MEAN -inf, MEDIAN -inf\n",
      "On iteration 126, fit quality of MAX -inf, MEAN -inf, MEDIAN -inf\n",
      "On iteration 127, fit quality of MAX -inf, MEAN -inf, MEDIAN -inf\n",
      "On iteration 128, fit quality of MAX -inf, MEAN -inf, MEDIAN -inf\n",
      "On iteration 129, fit quality of MAX -inf, MEAN -inf, MEDIAN -inf\n",
      "On iteration 130, fit quality of MAX -inf, MEAN -inf, MEDIAN -inf\n",
      "On iteration 131, fit quality of MAX -inf, MEAN -inf, MEDIAN -inf\n",
      "On iteration 132, fit quality of MAX -inf, MEAN -inf, MEDIAN -inf\n",
      "On iteration 133, fit quality of MAX -inf, MEAN -inf, MEDIAN -inf\n",
      "On iteration 134, fit quality of MAX -inf, MEAN -inf, MEDIAN -inf\n",
      "On iteration 135, fit quality of MAX -inf, MEAN -inf, MEDIAN -inf\n",
      "On iteration 136, fit quality of MAX -inf, MEAN -inf, MEDIAN -inf\n",
      "On iteration 137, fit quality of MAX -inf, MEAN -inf, MEDIAN -inf\n",
      "On iteration 138, fit quality of MAX -inf, MEAN -inf, MEDIAN -inf\n",
      "On iteration 139, fit quality of MAX -inf, MEAN -inf, MEDIAN -inf\n",
      "On iteration 140, fit quality of MAX -inf, MEAN -inf, MEDIAN -inf\n",
      "On iteration 141, fit quality of MAX -inf, MEAN -inf, MEDIAN -inf\n",
      "On iteration 142, fit quality of MAX -inf, MEAN -inf, MEDIAN -inf\n",
      "On iteration 143, fit quality of MAX -inf, MEAN -inf, MEDIAN -inf\n",
      "On iteration 144, fit quality of MAX -inf, MEAN -inf, MEDIAN -inf\n",
      "On iteration 145, fit quality of MAX -inf, MEAN -inf, MEDIAN -inf\n",
      "On iteration 146, fit quality of MAX -inf, MEAN -inf, MEDIAN -inf\n",
      "On iteration 147, fit quality of MAX -inf, MEAN -inf, MEDIAN -inf\n",
      "On iteration 148, fit quality of MAX -inf, MEAN -inf, MEDIAN -inf\n",
      "On iteration 149, fit quality of MAX -inf, MEAN -inf, MEDIAN -inf\n",
      "On iteration 150, fit quality of MAX -inf, MEAN -inf, MEDIAN -inf\n",
      "On iteration 151, fit quality of MAX -inf, MEAN -inf, MEDIAN -inf\n",
      "On iteration 152, fit quality of MAX -inf, MEAN -inf, MEDIAN -inf\n",
      "On iteration 153, fit quality of MAX -inf, MEAN -inf, MEDIAN -inf\n",
      "On iteration 154, fit quality of MAX -inf, MEAN -inf, MEDIAN -inf\n",
      "On iteration 155, fit quality of MAX -inf, MEAN -inf, MEDIAN -inf\n",
      "On iteration 156, fit quality of MAX -inf, MEAN -inf, MEDIAN -inf\n",
      "On iteration 157, fit quality of MAX -inf, MEAN -inf, MEDIAN -inf\n",
      "On iteration 158, fit quality of MAX -inf, MEAN -inf, MEDIAN -inf\n",
      "On iteration 159, fit quality of MAX -inf, MEAN -inf, MEDIAN -inf\n",
      "On iteration 160, fit quality of MAX -inf, MEAN -inf, MEDIAN -inf\n",
      "On iteration 161, fit quality of MAX -inf, MEAN -inf, MEDIAN -inf\n",
      "On iteration 162, fit quality of MAX -inf, MEAN -inf, MEDIAN -inf\n",
      "On iteration 163, fit quality of MAX -inf, MEAN -inf, MEDIAN -inf\n",
      "On iteration 164, fit quality of MAX -inf, MEAN -inf, MEDIAN -inf\n",
      "On iteration 165, fit quality of MAX -inf, MEAN -inf, MEDIAN -inf\n",
      "On iteration 166, fit quality of MAX -inf, MEAN -inf, MEDIAN -inf\n",
      "On iteration 167, fit quality of MAX -inf, MEAN -inf, MEDIAN -inf\n",
      "On iteration 168, fit quality of MAX -inf, MEAN -inf, MEDIAN -inf\n",
      "On iteration 169, fit quality of MAX -inf, MEAN -inf, MEDIAN -inf\n",
      "On iteration 170, fit quality of MAX -inf, MEAN -inf, MEDIAN -inf\n",
      "On iteration 171, fit quality of MAX -inf, MEAN -inf, MEDIAN -inf\n",
      "On iteration 172, fit quality of MAX -inf, MEAN -inf, MEDIAN -inf\n",
      "On iteration 173, fit quality of MAX -inf, MEAN -inf, MEDIAN -inf\n",
      "On iteration 174, fit quality of MAX -inf, MEAN -inf, MEDIAN -inf\n",
      "On iteration 175, fit quality of MAX -inf, MEAN -inf, MEDIAN -inf\n",
      "On iteration 176, fit quality of MAX -inf, MEAN -inf, MEDIAN -inf\n",
      "On iteration 177, fit quality of MAX -inf, MEAN -inf, MEDIAN -inf\n",
      "On iteration 178, fit quality of MAX -inf, MEAN -inf, MEDIAN -inf\n",
      "On iteration 179, fit quality of MAX -inf, MEAN -inf, MEDIAN -inf\n",
      "On iteration 180, fit quality of MAX -inf, MEAN -inf, MEDIAN -inf\n",
      "On iteration 181, fit quality of MAX -inf, MEAN -inf, MEDIAN -inf\n",
      "On iteration 182, fit quality of MAX -inf, MEAN -inf, MEDIAN -inf\n",
      "On iteration 183, fit quality of MAX -inf, MEAN -inf, MEDIAN -inf\n",
      "On iteration 184, fit quality of MAX -inf, MEAN -inf, MEDIAN -inf\n",
      "On iteration 185, fit quality of MAX -inf, MEAN -inf, MEDIAN -inf\n",
      "On iteration 186, fit quality of MAX -inf, MEAN -inf, MEDIAN -inf\n",
      "On iteration 187, fit quality of MAX -inf, MEAN -inf, MEDIAN -inf\n",
      "On iteration 188, fit quality of MAX -inf, MEAN -inf, MEDIAN -inf\n",
      "On iteration 189, fit quality of MAX -inf, MEAN -inf, MEDIAN -inf\n",
      "On iteration 190, fit quality of MAX -inf, MEAN -inf, MEDIAN -inf\n",
      "On iteration 191, fit quality of MAX -inf, MEAN -inf, MEDIAN -inf\n",
      "On iteration 192, fit quality of MAX -inf, MEAN -inf, MEDIAN -inf\n",
      "On iteration 193, fit quality of MAX -inf, MEAN -inf, MEDIAN -inf\n",
      "On iteration 194, fit quality of MAX -inf, MEAN -inf, MEDIAN -inf\n",
      "On iteration 195, fit quality of MAX -inf, MEAN -inf, MEDIAN -inf\n",
      "On iteration 196, fit quality of MAX -inf, MEAN -inf, MEDIAN -inf\n",
      "On iteration 197, fit quality of MAX -inf, MEAN -inf, MEDIAN -inf\n",
      "On iteration 198, fit quality of MAX -inf, MEAN -inf, MEDIAN -inf\n",
      "On iteration 199, fit quality of MAX -inf, MEAN -inf, MEDIAN -inf\n",
      "On iteration 200, fit quality of MAX -inf, MEAN -inf, MEDIAN -inf\n",
      "On iteration 201, fit quality of MAX -inf, MEAN -inf, MEDIAN -inf\n",
      "On iteration 202, fit quality of MAX -inf, MEAN -inf, MEDIAN -inf\n",
      "On iteration 203, fit quality of MAX -inf, MEAN -inf, MEDIAN -inf\n",
      "On iteration 204, fit quality of MAX -inf, MEAN -inf, MEDIAN -inf\n",
      "On iteration 205, fit quality of MAX -inf, MEAN -inf, MEDIAN -inf\n",
      "On iteration 206, fit quality of MAX -inf, MEAN -inf, MEDIAN -inf\n",
      "On iteration 207, fit quality of MAX -inf, MEAN -inf, MEDIAN -inf\n",
      "On iteration 208, fit quality of MAX -inf, MEAN -inf, MEDIAN -inf\n",
      "On iteration 209, fit quality of MAX -inf, MEAN -inf, MEDIAN -inf\n",
      "On iteration 210, fit quality of MAX -inf, MEAN -inf, MEDIAN -inf\n",
      "On iteration 211, fit quality of MAX -inf, MEAN -inf, MEDIAN -inf\n",
      "On iteration 212, fit quality of MAX -inf, MEAN -inf, MEDIAN -inf\n",
      "On iteration 213, fit quality of MAX -inf, MEAN -inf, MEDIAN -inf\n",
      "On iteration 214, fit quality of MAX -inf, MEAN -inf, MEDIAN -inf\n",
      "On iteration 215, fit quality of MAX -inf, MEAN -inf, MEDIAN -inf\n",
      "On iteration 216, fit quality of MAX -inf, MEAN -inf, MEDIAN -inf\n",
      "On iteration 217, fit quality of MAX -inf, MEAN -inf, MEDIAN -inf\n",
      "On iteration 218, fit quality of MAX -inf, MEAN -inf, MEDIAN -inf\n",
      "On iteration 219, fit quality of MAX -inf, MEAN -inf, MEDIAN -inf\n",
      "On iteration 220, fit quality of MAX -inf, MEAN -inf, MEDIAN -inf\n",
      "On iteration 221, fit quality of MAX -inf, MEAN -inf, MEDIAN -inf\n",
      "On iteration 222, fit quality of MAX -inf, MEAN -inf, MEDIAN -inf\n",
      "On iteration 223, fit quality of MAX -inf, MEAN -inf, MEDIAN -inf\n",
      "On iteration 224, fit quality of MAX -inf, MEAN -inf, MEDIAN -inf\n",
      "On iteration 225, fit quality of MAX -inf, MEAN -inf, MEDIAN -inf\n",
      "On iteration 226, fit quality of MAX -inf, MEAN -inf, MEDIAN -inf\n",
      "On iteration 227, fit quality of MAX -inf, MEAN -inf, MEDIAN -inf\n",
      "On iteration 228, fit quality of MAX -inf, MEAN -inf, MEDIAN -inf\n",
      "On iteration 229, fit quality of MAX -inf, MEAN -inf, MEDIAN -inf\n",
      "On iteration 230, fit quality of MAX -inf, MEAN -inf, MEDIAN -inf\n",
      "On iteration 231, fit quality of MAX -inf, MEAN -inf, MEDIAN -inf\n",
      "On iteration 232, fit quality of MAX -inf, MEAN -inf, MEDIAN -inf\n",
      "On iteration 233, fit quality of MAX -inf, MEAN -inf, MEDIAN -inf\n",
      "On iteration 234, fit quality of MAX -inf, MEAN -inf, MEDIAN -inf\n",
      "On iteration 235, fit quality of MAX -inf, MEAN -inf, MEDIAN -inf\n",
      "On iteration 236, fit quality of MAX -inf, MEAN -inf, MEDIAN -inf\n",
      "On iteration 237, fit quality of MAX -inf, MEAN -inf, MEDIAN -inf\n",
      "On iteration 238, fit quality of MAX -inf, MEAN -inf, MEDIAN -inf\n",
      "On iteration 239, fit quality of MAX -inf, MEAN -inf, MEDIAN -inf\n",
      "On iteration 240, fit quality of MAX -inf, MEAN -inf, MEDIAN -inf\n",
      "On iteration 241, fit quality of MAX -inf, MEAN -inf, MEDIAN -inf\n",
      "On iteration 242, fit quality of MAX -inf, MEAN -inf, MEDIAN -inf\n",
      "On iteration 243, fit quality of MAX -inf, MEAN -inf, MEDIAN -inf\n",
      "On iteration 244, fit quality of MAX -inf, MEAN -inf, MEDIAN -inf\n",
      "On iteration 245, fit quality of MAX -inf, MEAN -inf, MEDIAN -inf\n",
      "On iteration 246, fit quality of MAX -inf, MEAN -inf, MEDIAN -inf\n",
      "On iteration 247, fit quality of MAX -inf, MEAN -inf, MEDIAN -inf\n",
      "On iteration 248, fit quality of MAX -inf, MEAN -inf, MEDIAN -inf\n",
      "On iteration 249, fit quality of MAX -inf, MEAN -inf, MEDIAN -inf\n",
      "On iteration 250, fit quality of MAX -inf, MEAN -inf, MEDIAN -inf\n",
      "On iteration 251, fit quality of MAX -inf, MEAN -inf, MEDIAN -inf\n",
      "On iteration 252, fit quality of MAX -inf, MEAN -inf, MEDIAN -inf\n",
      "On iteration 253, fit quality of MAX -inf, MEAN -inf, MEDIAN -inf\n",
      "On iteration 254, fit quality of MAX -inf, MEAN -inf, MEDIAN -inf\n",
      "On iteration 255, fit quality of MAX -inf, MEAN -inf, MEDIAN -inf\n",
      "On iteration 256, fit quality of MAX -inf, MEAN -inf, MEDIAN -inf\n",
      "On iteration 257, fit quality of MAX -inf, MEAN -inf, MEDIAN -inf\n",
      "On iteration 258, fit quality of MAX -inf, MEAN -inf, MEDIAN -inf\n",
      "On iteration 259, fit quality of MAX -inf, MEAN -inf, MEDIAN -inf\n",
      "On iteration 260, fit quality of MAX -inf, MEAN -inf, MEDIAN -inf\n",
      "On iteration 261, fit quality of MAX -inf, MEAN -inf, MEDIAN -inf\n",
      "On iteration 262, fit quality of MAX -inf, MEAN -inf, MEDIAN -inf\n",
      "On iteration 263, fit quality of MAX -inf, MEAN -inf, MEDIAN -inf\n",
      "On iteration 264, fit quality of MAX -inf, MEAN -inf, MEDIAN -inf\n",
      "On iteration 265, fit quality of MAX -inf, MEAN -inf, MEDIAN -inf\n",
      "On iteration 266, fit quality of MAX -inf, MEAN -inf, MEDIAN -inf\n",
      "On iteration 267, fit quality of MAX -inf, MEAN -inf, MEDIAN -inf\n",
      "On iteration 268, fit quality of MAX -inf, MEAN -inf, MEDIAN -inf\n",
      "On iteration 269, fit quality of MAX -inf, MEAN -inf, MEDIAN -inf\n",
      "On iteration 270, fit quality of MAX -inf, MEAN -inf, MEDIAN -inf\n",
      "On iteration 271, fit quality of MAX -inf, MEAN -inf, MEDIAN -inf\n",
      "On iteration 272, fit quality of MAX -inf, MEAN -inf, MEDIAN -inf\n",
      "On iteration 273, fit quality of MAX -inf, MEAN -inf, MEDIAN -inf\n",
      "On iteration 274, fit quality of MAX -inf, MEAN -inf, MEDIAN -inf\n",
      "On iteration 275, fit quality of MAX -inf, MEAN -inf, MEDIAN -inf\n",
      "On iteration 276, fit quality of MAX -inf, MEAN -inf, MEDIAN -inf\n",
      "On iteration 277, fit quality of MAX -inf, MEAN -inf, MEDIAN -inf\n",
      "On iteration 278, fit quality of MAX -inf, MEAN -inf, MEDIAN -inf\n",
      "On iteration 279, fit quality of MAX -inf, MEAN -inf, MEDIAN -inf\n",
      "On iteration 280, fit quality of MAX -inf, MEAN -inf, MEDIAN -inf\n",
      "On iteration 281, fit quality of MAX -inf, MEAN -inf, MEDIAN -inf\n",
      "On iteration 282, fit quality of MAX -inf, MEAN -inf, MEDIAN -inf\n",
      "On iteration 283, fit quality of MAX -inf, MEAN -inf, MEDIAN -inf\n",
      "On iteration 284, fit quality of MAX -inf, MEAN -inf, MEDIAN -inf\n",
      "On iteration 285, fit quality of MAX -inf, MEAN -inf, MEDIAN -inf\n",
      "On iteration 286, fit quality of MAX -inf, MEAN -inf, MEDIAN -inf\n",
      "On iteration 287, fit quality of MAX -inf, MEAN -inf, MEDIAN -inf\n",
      "On iteration 288, fit quality of MAX -inf, MEAN -inf, MEDIAN -inf\n",
      "On iteration 289, fit quality of MAX -inf, MEAN -inf, MEDIAN -inf\n",
      "On iteration 290, fit quality of MAX -inf, MEAN -inf, MEDIAN -inf\n",
      "On iteration 291, fit quality of MAX -inf, MEAN -inf, MEDIAN -inf\n",
      "On iteration 292, fit quality of MAX -inf, MEAN -inf, MEDIAN -inf\n",
      "On iteration 293, fit quality of MAX -inf, MEAN -inf, MEDIAN -inf\n",
      "On iteration 294, fit quality of MAX -inf, MEAN -inf, MEDIAN -inf\n",
      "On iteration 295, fit quality of MAX -inf, MEAN -inf, MEDIAN -inf\n",
      "On iteration 296, fit quality of MAX -inf, MEAN -inf, MEDIAN -inf\n",
      "On iteration 297, fit quality of MAX -inf, MEAN -inf, MEDIAN -inf\n",
      "On iteration 298, fit quality of MAX -inf, MEAN -inf, MEDIAN -inf\n",
      "On iteration 299, fit quality of MAX -inf, MEAN -inf, MEDIAN -inf\n",
      "On iteration 300, fit quality of MAX -inf, MEAN -inf, MEDIAN -inf\n",
      "On iteration 301, fit quality of MAX -inf, MEAN -inf, MEDIAN -inf\n",
      "On iteration 302, fit quality of MAX -inf, MEAN -inf, MEDIAN -inf\n",
      "On iteration 303, fit quality of MAX -inf, MEAN -inf, MEDIAN -inf\n",
      "On iteration 304, fit quality of MAX -inf, MEAN -inf, MEDIAN -inf\n",
      "On iteration 305, fit quality of MAX -inf, MEAN -inf, MEDIAN -inf\n",
      "On iteration 306, fit quality of MAX -inf, MEAN -inf, MEDIAN -inf\n",
      "On iteration 307, fit quality of MAX -inf, MEAN -inf, MEDIAN -inf\n",
      "On iteration 308, fit quality of MAX -inf, MEAN -inf, MEDIAN -inf\n",
      "On iteration 309, fit quality of MAX -inf, MEAN -inf, MEDIAN -inf\n",
      "On iteration 310, fit quality of MAX -inf, MEAN -inf, MEDIAN -inf\n",
      "On iteration 311, fit quality of MAX -inf, MEAN -inf, MEDIAN -inf\n",
      "On iteration 312, fit quality of MAX -inf, MEAN -inf, MEDIAN -inf\n",
      "On iteration 313, fit quality of MAX -inf, MEAN -inf, MEDIAN -inf\n",
      "On iteration 314, fit quality of MAX -inf, MEAN -inf, MEDIAN -inf\n",
      "On iteration 315, fit quality of MAX -inf, MEAN -inf, MEDIAN -inf\n",
      "On iteration 316, fit quality of MAX -inf, MEAN -inf, MEDIAN -inf\n",
      "On iteration 317, fit quality of MAX -inf, MEAN -inf, MEDIAN -inf\n",
      "On iteration 318, fit quality of MAX -inf, MEAN -inf, MEDIAN -inf\n",
      "On iteration 319, fit quality of MAX -inf, MEAN -inf, MEDIAN -inf\n",
      "On iteration 320, fit quality of MAX -inf, MEAN -inf, MEDIAN -inf\n",
      "On iteration 321, fit quality of MAX -inf, MEAN -inf, MEDIAN -inf\n",
      "On iteration 322, fit quality of MAX -inf, MEAN -inf, MEDIAN -inf\n",
      "On iteration 323, fit quality of MAX -inf, MEAN -inf, MEDIAN -inf\n",
      "On iteration 324, fit quality of MAX -inf, MEAN -inf, MEDIAN -inf\n",
      "On iteration 325, fit quality of MAX -inf, MEAN -inf, MEDIAN -inf\n",
      "On iteration 326, fit quality of MAX -inf, MEAN -inf, MEDIAN -inf\n",
      "On iteration 327, fit quality of MAX -inf, MEAN -inf, MEDIAN -inf\n",
      "On iteration 328, fit quality of MAX -inf, MEAN -inf, MEDIAN -inf\n",
      "On iteration 329, fit quality of MAX -inf, MEAN -inf, MEDIAN -inf\n",
      "On iteration 330, fit quality of MAX -inf, MEAN -inf, MEDIAN -inf\n",
      "On iteration 331, fit quality of MAX -inf, MEAN -inf, MEDIAN -inf\n",
      "On iteration 332, fit quality of MAX -inf, MEAN -inf, MEDIAN -inf\n",
      "On iteration 333, fit quality of MAX -inf, MEAN -inf, MEDIAN -inf\n",
      "On iteration 334, fit quality of MAX -inf, MEAN -inf, MEDIAN -inf\n",
      "On iteration 335, fit quality of MAX -inf, MEAN -inf, MEDIAN -inf\n",
      "On iteration 336, fit quality of MAX -inf, MEAN -inf, MEDIAN -inf\n",
      "On iteration 337, fit quality of MAX -inf, MEAN -inf, MEDIAN -inf\n",
      "On iteration 338, fit quality of MAX -inf, MEAN -inf, MEDIAN -inf\n",
      "On iteration 339, fit quality of MAX -inf, MEAN -inf, MEDIAN -inf\n",
      "On iteration 340, fit quality of MAX -inf, MEAN -inf, MEDIAN -inf\n",
      "On iteration 341, fit quality of MAX -inf, MEAN -inf, MEDIAN -inf\n",
      "On iteration 342, fit quality of MAX -inf, MEAN -inf, MEDIAN -inf\n",
      "On iteration 343, fit quality of MAX -inf, MEAN -inf, MEDIAN -inf\n",
      "On iteration 344, fit quality of MAX -inf, MEAN -inf, MEDIAN -inf\n",
      "On iteration 345, fit quality of MAX -inf, MEAN -inf, MEDIAN -inf\n",
      "On iteration 346, fit quality of MAX -inf, MEAN -inf, MEDIAN -inf\n",
      "On iteration 347, fit quality of MAX -inf, MEAN -inf, MEDIAN -inf\n",
      "On iteration 348, fit quality of MAX -inf, MEAN -inf, MEDIAN -inf\n",
      "On iteration 349, fit quality of MAX -inf, MEAN -inf, MEDIAN -inf\n",
      "On iteration 350, fit quality of MAX -inf, MEAN -inf, MEDIAN -inf\n",
      "On iteration 351, fit quality of MAX -inf, MEAN -inf, MEDIAN -inf\n",
      "On iteration 352, fit quality of MAX -inf, MEAN -inf, MEDIAN -inf\n",
      "On iteration 353, fit quality of MAX -inf, MEAN -inf, MEDIAN -inf\n",
      "On iteration 354, fit quality of MAX -inf, MEAN -inf, MEDIAN -inf\n",
      "On iteration 355, fit quality of MAX -inf, MEAN -inf, MEDIAN -inf\n",
      "On iteration 356, fit quality of MAX -inf, MEAN -inf, MEDIAN -inf\n",
      "On iteration 357, fit quality of MAX -inf, MEAN -inf, MEDIAN -inf\n",
      "On iteration 358, fit quality of MAX -inf, MEAN -inf, MEDIAN -inf\n",
      "On iteration 359, fit quality of MAX -inf, MEAN -inf, MEDIAN -inf\n",
      "On iteration 360, fit quality of MAX -inf, MEAN -inf, MEDIAN -inf\n",
      "On iteration 361, fit quality of MAX -inf, MEAN -inf, MEDIAN -inf\n",
      "On iteration 362, fit quality of MAX -inf, MEAN -inf, MEDIAN -inf\n",
      "On iteration 363, fit quality of MAX -inf, MEAN -inf, MEDIAN -inf\n",
      "On iteration 364, fit quality of MAX -inf, MEAN -inf, MEDIAN -inf\n",
      "On iteration 365, fit quality of MAX -inf, MEAN -inf, MEDIAN -inf\n",
      "On iteration 366, fit quality of MAX -inf, MEAN -inf, MEDIAN -inf\n",
      "On iteration 367, fit quality of MAX -inf, MEAN -inf, MEDIAN -inf\n",
      "On iteration 368, fit quality of MAX -inf, MEAN -inf, MEDIAN -inf\n",
      "On iteration 369, fit quality of MAX -inf, MEAN -inf, MEDIAN -inf\n",
      "On iteration 370, fit quality of MAX -inf, MEAN -inf, MEDIAN -inf\n",
      "On iteration 371, fit quality of MAX -inf, MEAN -inf, MEDIAN -inf\n",
      "On iteration 372, fit quality of MAX -inf, MEAN -inf, MEDIAN -inf\n",
      "On iteration 373, fit quality of MAX -inf, MEAN -inf, MEDIAN -inf\n",
      "On iteration 374, fit quality of MAX -inf, MEAN -inf, MEDIAN -inf\n",
      "On iteration 375, fit quality of MAX -inf, MEAN -inf, MEDIAN -inf\n",
      "On iteration 376, fit quality of MAX -inf, MEAN -inf, MEDIAN -inf\n",
      "On iteration 377, fit quality of MAX -inf, MEAN -inf, MEDIAN -inf\n",
      "On iteration 378, fit quality of MAX -inf, MEAN -inf, MEDIAN -inf\n",
      "On iteration 379, fit quality of MAX -inf, MEAN -inf, MEDIAN -inf\n",
      "On iteration 380, fit quality of MAX -inf, MEAN -inf, MEDIAN -inf\n",
      "On iteration 381, fit quality of MAX -inf, MEAN -inf, MEDIAN -inf\n",
      "On iteration 382, fit quality of MAX -inf, MEAN -inf, MEDIAN -inf\n",
      "On iteration 383, fit quality of MAX -inf, MEAN -inf, MEDIAN -inf\n",
      "On iteration 384, fit quality of MAX -inf, MEAN -inf, MEDIAN -inf\n",
      "On iteration 385, fit quality of MAX -inf, MEAN -inf, MEDIAN -inf\n",
      "On iteration 386, fit quality of MAX -inf, MEAN -inf, MEDIAN -inf\n",
      "On iteration 387, fit quality of MAX -inf, MEAN -inf, MEDIAN -inf\n",
      "On iteration 388, fit quality of MAX -inf, MEAN -inf, MEDIAN -inf\n",
      "On iteration 389, fit quality of MAX -inf, MEAN -inf, MEDIAN -inf\n",
      "On iteration 390, fit quality of MAX -inf, MEAN -inf, MEDIAN -inf\n",
      "On iteration 391, fit quality of MAX -inf, MEAN -inf, MEDIAN -inf\n",
      "On iteration 392, fit quality of MAX -inf, MEAN -inf, MEDIAN -inf\n",
      "On iteration 393, fit quality of MAX -inf, MEAN -inf, MEDIAN -inf\n",
      "On iteration 394, fit quality of MAX -inf, MEAN -inf, MEDIAN -inf\n",
      "On iteration 395, fit quality of MAX -inf, MEAN -inf, MEDIAN -inf\n",
      "On iteration 396, fit quality of MAX -inf, MEAN -inf, MEDIAN -inf\n",
      "On iteration 397, fit quality of MAX -inf, MEAN -inf, MEDIAN -inf\n",
      "On iteration 398, fit quality of MAX -inf, MEAN -inf, MEDIAN -inf\n",
      "On iteration 399, fit quality of MAX -inf, MEAN -inf, MEDIAN -inf\n",
      "On iteration 400, fit quality of MAX -inf, MEAN -inf, MEDIAN -inf\n",
      "On iteration 401, fit quality of MAX -inf, MEAN -inf, MEDIAN -inf\n",
      "On iteration 402, fit quality of MAX -inf, MEAN -inf, MEDIAN -inf\n",
      "On iteration 403, fit quality of MAX -inf, MEAN -inf, MEDIAN -inf\n",
      "On iteration 404, fit quality of MAX -inf, MEAN -inf, MEDIAN -inf\n",
      "On iteration 405, fit quality of MAX -inf, MEAN -inf, MEDIAN -inf\n",
      "On iteration 406, fit quality of MAX -inf, MEAN -inf, MEDIAN -inf\n",
      "On iteration 407, fit quality of MAX -inf, MEAN -inf, MEDIAN -inf\n",
      "On iteration 408, fit quality of MAX -inf, MEAN -inf, MEDIAN -inf\n",
      "On iteration 409, fit quality of MAX -inf, MEAN -inf, MEDIAN -inf\n",
      "On iteration 410, fit quality of MAX -inf, MEAN -inf, MEDIAN -inf\n",
      "On iteration 411, fit quality of MAX -inf, MEAN -inf, MEDIAN -inf\n",
      "On iteration 412, fit quality of MAX -inf, MEAN -inf, MEDIAN -inf\n",
      "On iteration 413, fit quality of MAX -inf, MEAN -inf, MEDIAN -inf\n",
      "On iteration 414, fit quality of MAX -inf, MEAN -inf, MEDIAN -inf\n",
      "On iteration 415, fit quality of MAX -inf, MEAN -inf, MEDIAN -inf\n",
      "On iteration 416, fit quality of MAX -inf, MEAN -inf, MEDIAN -inf\n",
      "On iteration 417, fit quality of MAX -inf, MEAN -inf, MEDIAN -inf\n",
      "On iteration 418, fit quality of MAX -inf, MEAN -inf, MEDIAN -inf\n",
      "On iteration 419, fit quality of MAX -inf, MEAN -inf, MEDIAN -inf\n",
      "On iteration 420, fit quality of MAX -inf, MEAN -inf, MEDIAN -inf\n",
      "On iteration 421, fit quality of MAX -inf, MEAN -inf, MEDIAN -inf\n",
      "On iteration 422, fit quality of MAX -inf, MEAN -inf, MEDIAN -inf\n",
      "On iteration 423, fit quality of MAX -inf, MEAN -inf, MEDIAN -inf\n",
      "On iteration 424, fit quality of MAX -inf, MEAN -inf, MEDIAN -inf\n",
      "On iteration 425, fit quality of MAX -inf, MEAN -inf, MEDIAN -inf\n",
      "On iteration 426, fit quality of MAX -inf, MEAN -inf, MEDIAN -inf\n",
      "On iteration 427, fit quality of MAX -inf, MEAN -inf, MEDIAN -inf\n",
      "On iteration 428, fit quality of MAX -inf, MEAN -inf, MEDIAN -inf\n",
      "On iteration 429, fit quality of MAX -inf, MEAN -inf, MEDIAN -inf\n",
      "On iteration 430, fit quality of MAX -inf, MEAN -inf, MEDIAN -inf\n",
      "On iteration 431, fit quality of MAX -inf, MEAN -inf, MEDIAN -inf\n",
      "On iteration 432, fit quality of MAX -inf, MEAN -inf, MEDIAN -inf\n",
      "On iteration 433, fit quality of MAX -inf, MEAN -inf, MEDIAN -inf\n",
      "On iteration 434, fit quality of MAX -inf, MEAN -inf, MEDIAN -inf\n",
      "On iteration 435, fit quality of MAX -inf, MEAN -inf, MEDIAN -inf\n",
      "On iteration 436, fit quality of MAX -inf, MEAN -inf, MEDIAN -inf\n",
      "On iteration 437, fit quality of MAX -inf, MEAN -inf, MEDIAN -inf\n",
      "On iteration 438, fit quality of MAX -inf, MEAN -inf, MEDIAN -inf\n",
      "On iteration 439, fit quality of MAX -inf, MEAN -inf, MEDIAN -inf\n",
      "On iteration 440, fit quality of MAX -inf, MEAN -inf, MEDIAN -inf\n",
      "On iteration 441, fit quality of MAX -inf, MEAN -inf, MEDIAN -inf\n",
      "On iteration 442, fit quality of MAX -inf, MEAN -inf, MEDIAN -inf\n",
      "On iteration 443, fit quality of MAX -inf, MEAN -inf, MEDIAN -inf\n",
      "On iteration 444, fit quality of MAX -inf, MEAN -inf, MEDIAN -inf\n",
      "On iteration 445, fit quality of MAX -inf, MEAN -inf, MEDIAN -inf\n",
      "On iteration 446, fit quality of MAX -inf, MEAN -inf, MEDIAN -inf\n",
      "On iteration 447, fit quality of MAX -inf, MEAN -inf, MEDIAN -inf\n",
      "On iteration 448, fit quality of MAX -inf, MEAN -inf, MEDIAN -inf\n",
      "On iteration 449, fit quality of MAX -inf, MEAN -inf, MEDIAN -inf\n",
      "On iteration 450, fit quality of MAX -inf, MEAN -inf, MEDIAN -inf\n",
      "On iteration 451, fit quality of MAX -inf, MEAN -inf, MEDIAN -inf\n",
      "On iteration 452, fit quality of MAX -inf, MEAN -inf, MEDIAN -inf\n",
      "On iteration 453, fit quality of MAX -inf, MEAN -inf, MEDIAN -inf\n",
      "On iteration 454, fit quality of MAX -inf, MEAN -inf, MEDIAN -inf\n",
      "On iteration 455, fit quality of MAX -inf, MEAN -inf, MEDIAN -inf\n",
      "On iteration 456, fit quality of MAX -inf, MEAN -inf, MEDIAN -inf\n",
      "On iteration 457, fit quality of MAX -inf, MEAN -inf, MEDIAN -inf\n",
      "On iteration 458, fit quality of MAX -inf, MEAN -inf, MEDIAN -inf\n",
      "On iteration 459, fit quality of MAX -inf, MEAN -inf, MEDIAN -inf\n",
      "On iteration 460, fit quality of MAX -inf, MEAN -inf, MEDIAN -inf\n",
      "On iteration 461, fit quality of MAX -inf, MEAN -inf, MEDIAN -inf\n",
      "On iteration 462, fit quality of MAX -inf, MEAN -inf, MEDIAN -inf\n",
      "On iteration 463, fit quality of MAX -inf, MEAN -inf, MEDIAN -inf\n",
      "On iteration 464, fit quality of MAX -inf, MEAN -inf, MEDIAN -inf\n",
      "On iteration 465, fit quality of MAX -inf, MEAN -inf, MEDIAN -inf\n",
      "On iteration 466, fit quality of MAX -inf, MEAN -inf, MEDIAN -inf\n",
      "On iteration 467, fit quality of MAX -inf, MEAN -inf, MEDIAN -inf\n",
      "On iteration 468, fit quality of MAX -inf, MEAN -inf, MEDIAN -inf\n",
      "On iteration 469, fit quality of MAX -inf, MEAN -inf, MEDIAN -inf\n",
      "On iteration 470, fit quality of MAX -inf, MEAN -inf, MEDIAN -inf\n",
      "On iteration 471, fit quality of MAX -inf, MEAN -inf, MEDIAN -inf\n",
      "On iteration 472, fit quality of MAX -inf, MEAN -inf, MEDIAN -inf\n",
      "On iteration 473, fit quality of MAX -inf, MEAN -inf, MEDIAN -inf\n",
      "On iteration 474, fit quality of MAX -inf, MEAN -inf, MEDIAN -inf\n",
      "On iteration 475, fit quality of MAX -inf, MEAN -inf, MEDIAN -inf\n",
      "On iteration 476, fit quality of MAX -inf, MEAN -inf, MEDIAN -inf\n",
      "On iteration 477, fit quality of MAX -inf, MEAN -inf, MEDIAN -inf\n",
      "On iteration 478, fit quality of MAX -inf, MEAN -inf, MEDIAN -inf\n",
      "On iteration 479, fit quality of MAX -inf, MEAN -inf, MEDIAN -inf\n",
      "On iteration 480, fit quality of MAX -inf, MEAN -inf, MEDIAN -inf\n",
      "On iteration 481, fit quality of MAX -inf, MEAN -inf, MEDIAN -inf\n",
      "On iteration 482, fit quality of MAX -inf, MEAN -inf, MEDIAN -inf\n",
      "On iteration 483, fit quality of MAX -inf, MEAN -inf, MEDIAN -inf\n",
      "On iteration 484, fit quality of MAX -inf, MEAN -inf, MEDIAN -inf\n",
      "On iteration 485, fit quality of MAX -inf, MEAN -inf, MEDIAN -inf\n",
      "On iteration 486, fit quality of MAX -inf, MEAN -inf, MEDIAN -inf\n",
      "On iteration 487, fit quality of MAX -inf, MEAN -inf, MEDIAN -inf\n",
      "On iteration 488, fit quality of MAX -inf, MEAN -inf, MEDIAN -inf\n",
      "On iteration 489, fit quality of MAX -inf, MEAN -inf, MEDIAN -inf\n",
      "On iteration 490, fit quality of MAX -inf, MEAN -inf, MEDIAN -inf\n",
      "On iteration 491, fit quality of MAX -inf, MEAN -inf, MEDIAN -inf\n",
      "On iteration 492, fit quality of MAX -inf, MEAN -inf, MEDIAN -inf\n",
      "On iteration 493, fit quality of MAX -inf, MEAN -inf, MEDIAN -inf\n",
      "On iteration 494, fit quality of MAX -inf, MEAN -inf, MEDIAN -inf\n",
      "On iteration 495, fit quality of MAX -inf, MEAN -inf, MEDIAN -inf\n",
      "On iteration 496, fit quality of MAX -inf, MEAN -inf, MEDIAN -inf\n",
      "On iteration 497, fit quality of MAX -inf, MEAN -inf, MEDIAN -inf\n",
      "On iteration 498, fit quality of MAX -inf, MEAN -inf, MEDIAN -inf\n",
      "On iteration 499, fit quality of MAX -inf, MEAN -inf, MEDIAN -inf\n",
      "On iteration 500, fit quality of MAX -inf, MEAN -inf, MEDIAN -inf\n",
      "On iteration 501, fit quality of MAX -inf, MEAN -inf, MEDIAN -inf\n",
      "On iteration 502, fit quality of MAX -inf, MEAN -inf, MEDIAN -inf\n",
      "On iteration 503, fit quality of MAX -inf, MEAN -inf, MEDIAN -inf\n",
      "On iteration 504, fit quality of MAX -inf, MEAN -inf, MEDIAN -inf\n",
      "On iteration 505, fit quality of MAX -inf, MEAN -inf, MEDIAN -inf\n",
      "On iteration 506, fit quality of MAX -inf, MEAN -inf, MEDIAN -inf\n",
      "On iteration 507, fit quality of MAX -inf, MEAN -inf, MEDIAN -inf\n",
      "On iteration 508, fit quality of MAX -inf, MEAN -inf, MEDIAN -inf\n",
      "On iteration 509, fit quality of MAX -inf, MEAN -inf, MEDIAN -inf\n",
      "On iteration 510, fit quality of MAX -inf, MEAN -inf, MEDIAN -inf\n",
      "On iteration 511, fit quality of MAX -inf, MEAN -inf, MEDIAN -inf\n",
      "On iteration 512, fit quality of MAX -inf, MEAN -inf, MEDIAN -inf\n",
      "On iteration 513, fit quality of MAX -inf, MEAN -inf, MEDIAN -inf\n",
      "On iteration 514, fit quality of MAX -inf, MEAN -inf, MEDIAN -inf\n",
      "On iteration 515, fit quality of MAX -inf, MEAN -inf, MEDIAN -inf\n",
      "On iteration 516, fit quality of MAX -inf, MEAN -inf, MEDIAN -inf\n",
      "On iteration 517, fit quality of MAX -inf, MEAN -inf, MEDIAN -inf\n",
      "On iteration 518, fit quality of MAX -inf, MEAN -inf, MEDIAN -inf\n",
      "On iteration 519, fit quality of MAX -inf, MEAN -inf, MEDIAN -inf\n",
      "On iteration 520, fit quality of MAX -inf, MEAN -inf, MEDIAN -inf\n",
      "On iteration 521, fit quality of MAX -inf, MEAN -inf, MEDIAN -inf\n",
      "On iteration 522, fit quality of MAX -inf, MEAN -inf, MEDIAN -inf\n",
      "On iteration 523, fit quality of MAX -inf, MEAN -inf, MEDIAN -inf\n",
      "On iteration 524, fit quality of MAX -inf, MEAN -inf, MEDIAN -inf\n",
      "On iteration 525, fit quality of MAX -inf, MEAN -inf, MEDIAN -inf\n",
      "On iteration 526, fit quality of MAX -inf, MEAN -inf, MEDIAN -inf\n",
      "On iteration 527, fit quality of MAX -inf, MEAN -inf, MEDIAN -inf\n",
      "On iteration 528, fit quality of MAX -inf, MEAN -inf, MEDIAN -inf\n",
      "On iteration 529, fit quality of MAX -inf, MEAN -inf, MEDIAN -inf\n",
      "On iteration 530, fit quality of MAX -inf, MEAN -inf, MEDIAN -inf\n",
      "On iteration 531, fit quality of MAX -inf, MEAN -inf, MEDIAN -inf\n",
      "On iteration 532, fit quality of MAX -inf, MEAN -inf, MEDIAN -inf\n",
      "On iteration 533, fit quality of MAX -inf, MEAN -inf, MEDIAN -inf\n",
      "On iteration 534, fit quality of MAX -inf, MEAN -inf, MEDIAN -inf\n",
      "On iteration 535, fit quality of MAX -inf, MEAN -inf, MEDIAN -inf\n",
      "On iteration 536, fit quality of MAX -inf, MEAN -inf, MEDIAN -inf\n",
      "On iteration 537, fit quality of MAX -inf, MEAN -inf, MEDIAN -inf\n",
      "On iteration 538, fit quality of MAX -inf, MEAN -inf, MEDIAN -inf\n",
      "On iteration 539, fit quality of MAX -inf, MEAN -inf, MEDIAN -inf\n",
      "On iteration 540, fit quality of MAX -inf, MEAN -inf, MEDIAN -inf\n",
      "On iteration 541, fit quality of MAX -inf, MEAN -inf, MEDIAN -inf\n",
      "On iteration 542, fit quality of MAX -inf, MEAN -inf, MEDIAN -inf\n",
      "On iteration 543, fit quality of MAX -inf, MEAN -inf, MEDIAN -inf\n",
      "On iteration 544, fit quality of MAX -inf, MEAN -inf, MEDIAN -inf\n",
      "On iteration 545, fit quality of MAX -inf, MEAN -inf, MEDIAN -inf\n",
      "On iteration 546, fit quality of MAX -inf, MEAN -inf, MEDIAN -inf\n",
      "On iteration 547, fit quality of MAX -inf, MEAN -inf, MEDIAN -inf\n",
      "On iteration 548, fit quality of MAX -inf, MEAN -inf, MEDIAN -inf\n",
      "On iteration 549, fit quality of MAX -inf, MEAN -inf, MEDIAN -inf\n",
      "On iteration 550, fit quality of MAX -inf, MEAN -inf, MEDIAN -inf\n",
      "On iteration 551, fit quality of MAX -inf, MEAN -inf, MEDIAN -inf\n",
      "On iteration 552, fit quality of MAX -inf, MEAN -inf, MEDIAN -inf\n",
      "On iteration 553, fit quality of MAX -inf, MEAN -inf, MEDIAN -inf\n",
      "On iteration 554, fit quality of MAX -inf, MEAN -inf, MEDIAN -inf\n",
      "On iteration 555, fit quality of MAX -inf, MEAN -inf, MEDIAN -inf\n",
      "On iteration 556, fit quality of MAX -inf, MEAN -inf, MEDIAN -inf\n",
      "On iteration 557, fit quality of MAX -inf, MEAN -inf, MEDIAN -inf\n",
      "On iteration 558, fit quality of MAX -inf, MEAN -inf, MEDIAN -inf\n",
      "On iteration 559, fit quality of MAX -inf, MEAN -inf, MEDIAN -inf\n",
      "On iteration 560, fit quality of MAX -inf, MEAN -inf, MEDIAN -inf\n",
      "On iteration 561, fit quality of MAX -inf, MEAN -inf, MEDIAN -inf\n",
      "On iteration 562, fit quality of MAX -inf, MEAN -inf, MEDIAN -inf\n",
      "On iteration 563, fit quality of MAX -inf, MEAN -inf, MEDIAN -inf\n",
      "On iteration 564, fit quality of MAX -inf, MEAN -inf, MEDIAN -inf\n",
      "On iteration 565, fit quality of MAX -inf, MEAN -inf, MEDIAN -inf\n",
      "On iteration 566, fit quality of MAX -inf, MEAN -inf, MEDIAN -inf\n",
      "On iteration 567, fit quality of MAX -inf, MEAN -inf, MEDIAN -inf\n",
      "On iteration 568, fit quality of MAX -inf, MEAN -inf, MEDIAN -inf\n",
      "On iteration 569, fit quality of MAX -inf, MEAN -inf, MEDIAN -inf\n",
      "On iteration 570, fit quality of MAX -inf, MEAN -inf, MEDIAN -inf\n",
      "On iteration 571, fit quality of MAX -inf, MEAN -inf, MEDIAN -inf\n",
      "On iteration 572, fit quality of MAX -inf, MEAN -inf, MEDIAN -inf\n",
      "On iteration 573, fit quality of MAX -inf, MEAN -inf, MEDIAN -inf\n",
      "On iteration 574, fit quality of MAX -inf, MEAN -inf, MEDIAN -inf\n",
      "On iteration 575, fit quality of MAX -inf, MEAN -inf, MEDIAN -inf\n",
      "On iteration 576, fit quality of MAX -inf, MEAN -inf, MEDIAN -inf\n",
      "On iteration 577, fit quality of MAX -inf, MEAN -inf, MEDIAN -inf\n",
      "On iteration 578, fit quality of MAX -inf, MEAN -inf, MEDIAN -inf\n",
      "On iteration 579, fit quality of MAX -inf, MEAN -inf, MEDIAN -inf\n",
      "On iteration 580, fit quality of MAX -inf, MEAN -inf, MEDIAN -inf\n",
      "On iteration 581, fit quality of MAX -inf, MEAN -inf, MEDIAN -inf\n",
      "On iteration 582, fit quality of MAX -inf, MEAN -inf, MEDIAN -inf\n",
      "On iteration 583, fit quality of MAX -inf, MEAN -inf, MEDIAN -inf\n",
      "On iteration 584, fit quality of MAX -inf, MEAN -inf, MEDIAN -inf\n",
      "On iteration 585, fit quality of MAX -inf, MEAN -inf, MEDIAN -inf\n",
      "On iteration 586, fit quality of MAX -inf, MEAN -inf, MEDIAN -inf\n",
      "On iteration 587, fit quality of MAX -inf, MEAN -inf, MEDIAN -inf\n",
      "On iteration 588, fit quality of MAX -inf, MEAN -inf, MEDIAN -inf\n",
      "On iteration 589, fit quality of MAX -inf, MEAN -inf, MEDIAN -inf\n",
      "On iteration 590, fit quality of MAX -inf, MEAN -inf, MEDIAN -inf\n",
      "On iteration 591, fit quality of MAX -inf, MEAN -inf, MEDIAN -inf\n",
      "On iteration 592, fit quality of MAX -inf, MEAN -inf, MEDIAN -inf\n",
      "On iteration 593, fit quality of MAX -inf, MEAN -inf, MEDIAN -inf\n",
      "On iteration 594, fit quality of MAX -inf, MEAN -inf, MEDIAN -inf\n",
      "On iteration 595, fit quality of MAX -inf, MEAN -inf, MEDIAN -inf\n",
      "On iteration 596, fit quality of MAX -inf, MEAN -inf, MEDIAN -inf\n",
      "On iteration 597, fit quality of MAX -inf, MEAN -inf, MEDIAN -inf\n",
      "On iteration 598, fit quality of MAX -inf, MEAN -inf, MEDIAN -inf\n",
      "On iteration 599, fit quality of MAX -inf, MEAN -inf, MEDIAN -inf\n",
      "On iteration 600, fit quality of MAX -inf, MEAN -inf, MEDIAN -inf\n",
      "On iteration 601, fit quality of MAX -inf, MEAN -inf, MEDIAN -inf\n",
      "On iteration 602, fit quality of MAX -inf, MEAN -inf, MEDIAN -inf\n",
      "On iteration 603, fit quality of MAX -inf, MEAN -inf, MEDIAN -inf\n",
      "On iteration 604, fit quality of MAX -inf, MEAN -inf, MEDIAN -inf\n",
      "On iteration 605, fit quality of MAX -inf, MEAN -inf, MEDIAN -inf\n",
      "On iteration 606, fit quality of MAX -inf, MEAN -inf, MEDIAN -inf\n",
      "On iteration 607, fit quality of MAX -inf, MEAN -inf, MEDIAN -inf\n",
      "On iteration 608, fit quality of MAX -inf, MEAN -inf, MEDIAN -inf\n",
      "On iteration 609, fit quality of MAX -inf, MEAN -inf, MEDIAN -inf\n",
      "On iteration 610, fit quality of MAX -inf, MEAN -inf, MEDIAN -inf\n",
      "On iteration 611, fit quality of MAX -inf, MEAN -inf, MEDIAN -inf\n",
      "On iteration 612, fit quality of MAX -inf, MEAN -inf, MEDIAN -inf\n",
      "On iteration 613, fit quality of MAX -inf, MEAN -inf, MEDIAN -inf\n",
      "On iteration 614, fit quality of MAX -inf, MEAN -inf, MEDIAN -inf\n",
      "On iteration 615, fit quality of MAX -inf, MEAN -inf, MEDIAN -inf\n",
      "On iteration 616, fit quality of MAX -inf, MEAN -inf, MEDIAN -inf\n",
      "On iteration 617, fit quality of MAX -inf, MEAN -inf, MEDIAN -inf\n",
      "On iteration 618, fit quality of MAX -inf, MEAN -inf, MEDIAN -inf\n",
      "On iteration 619, fit quality of MAX -inf, MEAN -inf, MEDIAN -inf\n",
      "On iteration 620, fit quality of MAX -inf, MEAN -inf, MEDIAN -inf\n",
      "On iteration 621, fit quality of MAX -inf, MEAN -inf, MEDIAN -inf\n",
      "On iteration 622, fit quality of MAX -inf, MEAN -inf, MEDIAN -inf\n",
      "On iteration 623, fit quality of MAX -inf, MEAN -inf, MEDIAN -inf\n",
      "On iteration 624, fit quality of MAX -inf, MEAN -inf, MEDIAN -inf\n",
      "On iteration 625, fit quality of MAX -inf, MEAN -inf, MEDIAN -inf\n",
      "On iteration 626, fit quality of MAX -inf, MEAN -inf, MEDIAN -inf\n",
      "On iteration 627, fit quality of MAX -inf, MEAN -inf, MEDIAN -inf\n",
      "On iteration 628, fit quality of MAX -inf, MEAN -inf, MEDIAN -inf\n",
      "On iteration 629, fit quality of MAX -inf, MEAN -inf, MEDIAN -inf\n",
      "On iteration 630, fit quality of MAX -inf, MEAN -inf, MEDIAN -inf\n",
      "On iteration 631, fit quality of MAX -inf, MEAN -inf, MEDIAN -inf\n",
      "On iteration 632, fit quality of MAX -inf, MEAN -inf, MEDIAN -inf\n",
      "On iteration 633, fit quality of MAX -inf, MEAN -inf, MEDIAN -inf\n",
      "On iteration 634, fit quality of MAX -inf, MEAN -inf, MEDIAN -inf\n",
      "On iteration 635, fit quality of MAX -inf, MEAN -inf, MEDIAN -inf\n",
      "On iteration 636, fit quality of MAX -inf, MEAN -inf, MEDIAN -inf\n",
      "On iteration 637, fit quality of MAX -inf, MEAN -inf, MEDIAN -inf\n",
      "On iteration 638, fit quality of MAX -inf, MEAN -inf, MEDIAN -inf\n",
      "On iteration 639, fit quality of MAX -inf, MEAN -inf, MEDIAN -inf\n",
      "On iteration 640, fit quality of MAX -inf, MEAN -inf, MEDIAN -inf\n",
      "On iteration 641, fit quality of MAX -inf, MEAN -inf, MEDIAN -inf\n",
      "On iteration 642, fit quality of MAX -inf, MEAN -inf, MEDIAN -inf\n",
      "On iteration 643, fit quality of MAX -inf, MEAN -inf, MEDIAN -inf\n",
      "On iteration 644, fit quality of MAX -inf, MEAN -inf, MEDIAN -inf\n",
      "On iteration 645, fit quality of MAX -inf, MEAN -inf, MEDIAN -inf\n",
      "On iteration 646, fit quality of MAX -inf, MEAN -inf, MEDIAN -inf\n",
      "On iteration 647, fit quality of MAX -inf, MEAN -inf, MEDIAN -inf\n",
      "On iteration 648, fit quality of MAX -inf, MEAN -inf, MEDIAN -inf\n",
      "On iteration 649, fit quality of MAX -inf, MEAN -inf, MEDIAN -inf\n",
      "On iteration 650, fit quality of MAX -inf, MEAN -inf, MEDIAN -inf\n",
      "On iteration 651, fit quality of MAX -inf, MEAN -inf, MEDIAN -inf\n",
      "On iteration 652, fit quality of MAX -inf, MEAN -inf, MEDIAN -inf\n",
      "On iteration 653, fit quality of MAX -inf, MEAN -inf, MEDIAN -inf\n",
      "On iteration 654, fit quality of MAX -inf, MEAN -inf, MEDIAN -inf\n",
      "On iteration 655, fit quality of MAX -inf, MEAN -inf, MEDIAN -inf\n",
      "On iteration 656, fit quality of MAX -inf, MEAN -inf, MEDIAN -inf\n",
      "On iteration 657, fit quality of MAX -inf, MEAN -inf, MEDIAN -inf\n",
      "On iteration 658, fit quality of MAX -inf, MEAN -inf, MEDIAN -inf\n",
      "On iteration 659, fit quality of MAX -inf, MEAN -inf, MEDIAN -inf\n",
      "On iteration 660, fit quality of MAX -inf, MEAN -inf, MEDIAN -inf\n",
      "On iteration 661, fit quality of MAX -inf, MEAN -inf, MEDIAN -inf\n",
      "On iteration 662, fit quality of MAX -inf, MEAN -inf, MEDIAN -inf\n",
      "On iteration 663, fit quality of MAX -inf, MEAN -inf, MEDIAN -inf\n",
      "On iteration 664, fit quality of MAX -inf, MEAN -inf, MEDIAN -inf\n",
      "On iteration 665, fit quality of MAX -inf, MEAN -inf, MEDIAN -inf\n",
      "On iteration 666, fit quality of MAX -inf, MEAN -inf, MEDIAN -inf\n",
      "On iteration 667, fit quality of MAX -inf, MEAN -inf, MEDIAN -inf\n",
      "On iteration 668, fit quality of MAX -inf, MEAN -inf, MEDIAN -inf\n",
      "On iteration 669, fit quality of MAX -inf, MEAN -inf, MEDIAN -inf\n",
      "On iteration 670, fit quality of MAX -inf, MEAN -inf, MEDIAN -inf\n",
      "On iteration 671, fit quality of MAX -inf, MEAN -inf, MEDIAN -inf\n",
      "On iteration 672, fit quality of MAX -inf, MEAN -inf, MEDIAN -inf\n",
      "On iteration 673, fit quality of MAX -inf, MEAN -inf, MEDIAN -inf\n",
      "On iteration 674, fit quality of MAX -inf, MEAN -inf, MEDIAN -inf\n",
      "On iteration 675, fit quality of MAX -inf, MEAN -inf, MEDIAN -inf\n",
      "On iteration 676, fit quality of MAX -inf, MEAN -inf, MEDIAN -inf\n",
      "On iteration 677, fit quality of MAX -inf, MEAN -inf, MEDIAN -inf\n",
      "On iteration 678, fit quality of MAX -inf, MEAN -inf, MEDIAN -inf\n",
      "On iteration 679, fit quality of MAX -inf, MEAN -inf, MEDIAN -inf\n",
      "On iteration 680, fit quality of MAX -inf, MEAN -inf, MEDIAN -inf\n",
      "On iteration 681, fit quality of MAX -inf, MEAN -inf, MEDIAN -inf\n",
      "On iteration 682, fit quality of MAX -inf, MEAN -inf, MEDIAN -inf\n",
      "On iteration 683, fit quality of MAX -inf, MEAN -inf, MEDIAN -inf\n",
      "On iteration 684, fit quality of MAX -inf, MEAN -inf, MEDIAN -inf\n",
      "On iteration 685, fit quality of MAX -inf, MEAN -inf, MEDIAN -inf\n",
      "On iteration 686, fit quality of MAX -inf, MEAN -inf, MEDIAN -inf\n",
      "On iteration 687, fit quality of MAX -inf, MEAN -inf, MEDIAN -inf\n",
      "On iteration 688, fit quality of MAX -inf, MEAN -inf, MEDIAN -inf\n",
      "On iteration 689, fit quality of MAX -inf, MEAN -inf, MEDIAN -inf\n",
      "On iteration 690, fit quality of MAX -inf, MEAN -inf, MEDIAN -inf\n",
      "On iteration 691, fit quality of MAX -inf, MEAN -inf, MEDIAN -inf\n",
      "On iteration 692, fit quality of MAX -inf, MEAN -inf, MEDIAN -inf\n",
      "On iteration 693, fit quality of MAX -inf, MEAN -inf, MEDIAN -inf\n",
      "On iteration 694, fit quality of MAX -inf, MEAN -inf, MEDIAN -inf\n",
      "On iteration 695, fit quality of MAX -inf, MEAN -inf, MEDIAN -inf\n",
      "On iteration 696, fit quality of MAX -inf, MEAN -inf, MEDIAN -inf\n",
      "On iteration 697, fit quality of MAX -inf, MEAN -inf, MEDIAN -inf\n",
      "On iteration 698, fit quality of MAX -inf, MEAN -inf, MEDIAN -inf\n",
      "On iteration 699, fit quality of MAX -inf, MEAN -inf, MEDIAN -inf\n",
      "On iteration 700, fit quality of MAX -inf, MEAN -inf, MEDIAN -inf\n",
      "On iteration 701, fit quality of MAX -inf, MEAN -inf, MEDIAN -inf\n",
      "On iteration 702, fit quality of MAX -inf, MEAN -inf, MEDIAN -inf\n",
      "On iteration 703, fit quality of MAX -inf, MEAN -inf, MEDIAN -inf\n",
      "On iteration 704, fit quality of MAX -inf, MEAN -inf, MEDIAN -inf\n",
      "On iteration 705, fit quality of MAX -inf, MEAN -inf, MEDIAN -inf\n",
      "On iteration 706, fit quality of MAX -inf, MEAN -inf, MEDIAN -inf\n",
      "On iteration 707, fit quality of MAX -inf, MEAN -inf, MEDIAN -inf\n",
      "On iteration 708, fit quality of MAX -inf, MEAN -inf, MEDIAN -inf\n",
      "On iteration 709, fit quality of MAX -inf, MEAN -inf, MEDIAN -inf\n",
      "On iteration 710, fit quality of MAX -inf, MEAN -inf, MEDIAN -inf\n",
      "On iteration 711, fit quality of MAX -inf, MEAN -inf, MEDIAN -inf\n",
      "On iteration 712, fit quality of MAX -inf, MEAN -inf, MEDIAN -inf\n",
      "On iteration 713, fit quality of MAX -inf, MEAN -inf, MEDIAN -inf\n",
      "On iteration 714, fit quality of MAX -inf, MEAN -inf, MEDIAN -inf\n",
      "On iteration 715, fit quality of MAX -inf, MEAN -inf, MEDIAN -inf\n",
      "On iteration 716, fit quality of MAX -inf, MEAN -inf, MEDIAN -inf\n",
      "On iteration 717, fit quality of MAX -inf, MEAN -inf, MEDIAN -inf\n",
      "On iteration 718, fit quality of MAX -inf, MEAN -inf, MEDIAN -inf\n",
      "On iteration 719, fit quality of MAX -inf, MEAN -inf, MEDIAN -inf\n",
      "On iteration 720, fit quality of MAX -inf, MEAN -inf, MEDIAN -inf\n",
      "On iteration 721, fit quality of MAX -inf, MEAN -inf, MEDIAN -inf\n",
      "On iteration 722, fit quality of MAX -inf, MEAN -inf, MEDIAN -inf\n",
      "On iteration 723, fit quality of MAX -inf, MEAN -inf, MEDIAN -inf\n",
      "On iteration 724, fit quality of MAX -inf, MEAN -inf, MEDIAN -inf\n",
      "On iteration 725, fit quality of MAX -inf, MEAN -inf, MEDIAN -inf\n",
      "On iteration 726, fit quality of MAX -inf, MEAN -inf, MEDIAN -inf\n",
      "On iteration 727, fit quality of MAX -inf, MEAN -inf, MEDIAN -inf\n",
      "On iteration 728, fit quality of MAX -inf, MEAN -inf, MEDIAN -inf\n",
      "On iteration 729, fit quality of MAX -inf, MEAN -inf, MEDIAN -inf\n",
      "On iteration 730, fit quality of MAX -inf, MEAN -inf, MEDIAN -inf\n",
      "On iteration 731, fit quality of MAX -inf, MEAN -inf, MEDIAN -inf\n",
      "On iteration 732, fit quality of MAX -inf, MEAN -inf, MEDIAN -inf\n",
      "On iteration 733, fit quality of MAX -inf, MEAN -inf, MEDIAN -inf\n",
      "On iteration 734, fit quality of MAX -inf, MEAN -inf, MEDIAN -inf\n",
      "On iteration 735, fit quality of MAX -inf, MEAN -inf, MEDIAN -inf\n",
      "On iteration 736, fit quality of MAX -inf, MEAN -inf, MEDIAN -inf\n",
      "On iteration 737, fit quality of MAX -inf, MEAN -inf, MEDIAN -inf\n",
      "On iteration 738, fit quality of MAX -inf, MEAN -inf, MEDIAN -inf\n",
      "On iteration 739, fit quality of MAX -inf, MEAN -inf, MEDIAN -inf\n",
      "On iteration 740, fit quality of MAX -inf, MEAN -inf, MEDIAN -inf\n",
      "On iteration 741, fit quality of MAX -inf, MEAN -inf, MEDIAN -inf\n",
      "On iteration 742, fit quality of MAX -inf, MEAN -inf, MEDIAN -inf\n",
      "On iteration 743, fit quality of MAX -inf, MEAN -inf, MEDIAN -inf\n",
      "On iteration 744, fit quality of MAX -inf, MEAN -inf, MEDIAN -inf\n",
      "On iteration 745, fit quality of MAX -inf, MEAN -inf, MEDIAN -inf\n",
      "On iteration 746, fit quality of MAX -inf, MEAN -inf, MEDIAN -inf\n",
      "On iteration 747, fit quality of MAX -inf, MEAN -inf, MEDIAN -inf\n",
      "On iteration 748, fit quality of MAX -inf, MEAN -inf, MEDIAN -inf\n",
      "On iteration 749, fit quality of MAX -inf, MEAN -inf, MEDIAN -inf\n",
      "On iteration 750, fit quality of MAX -inf, MEAN -inf, MEDIAN -inf\n",
      "On iteration 751, fit quality of MAX -inf, MEAN -inf, MEDIAN -inf\n",
      "On iteration 752, fit quality of MAX -inf, MEAN -inf, MEDIAN -inf\n",
      "On iteration 753, fit quality of MAX -inf, MEAN -inf, MEDIAN -inf\n",
      "On iteration 754, fit quality of MAX -inf, MEAN -inf, MEDIAN -inf\n",
      "On iteration 755, fit quality of MAX -inf, MEAN -inf, MEDIAN -inf\n",
      "On iteration 756, fit quality of MAX -inf, MEAN -inf, MEDIAN -inf\n",
      "On iteration 757, fit quality of MAX -inf, MEAN -inf, MEDIAN -inf\n",
      "On iteration 758, fit quality of MAX -inf, MEAN -inf, MEDIAN -inf\n",
      "On iteration 759, fit quality of MAX -inf, MEAN -inf, MEDIAN -inf\n",
      "On iteration 760, fit quality of MAX -inf, MEAN -inf, MEDIAN -inf\n",
      "On iteration 761, fit quality of MAX -inf, MEAN -inf, MEDIAN -inf\n",
      "On iteration 762, fit quality of MAX -inf, MEAN -inf, MEDIAN -inf\n",
      "On iteration 763, fit quality of MAX -inf, MEAN -inf, MEDIAN -inf\n",
      "On iteration 764, fit quality of MAX -inf, MEAN -inf, MEDIAN -inf\n",
      "On iteration 765, fit quality of MAX -inf, MEAN -inf, MEDIAN -inf\n",
      "On iteration 766, fit quality of MAX -inf, MEAN -inf, MEDIAN -inf\n",
      "On iteration 767, fit quality of MAX -inf, MEAN -inf, MEDIAN -inf\n",
      "On iteration 768, fit quality of MAX -inf, MEAN -inf, MEDIAN -inf\n",
      "On iteration 769, fit quality of MAX -inf, MEAN -inf, MEDIAN -inf\n",
      "On iteration 770, fit quality of MAX -inf, MEAN -inf, MEDIAN -inf\n",
      "On iteration 771, fit quality of MAX -inf, MEAN -inf, MEDIAN -inf\n",
      "On iteration 772, fit quality of MAX -inf, MEAN -inf, MEDIAN -inf\n",
      "On iteration 773, fit quality of MAX -inf, MEAN -inf, MEDIAN -inf\n",
      "On iteration 774, fit quality of MAX -inf, MEAN -inf, MEDIAN -inf\n",
      "On iteration 775, fit quality of MAX -inf, MEAN -inf, MEDIAN -inf\n",
      "On iteration 776, fit quality of MAX -inf, MEAN -inf, MEDIAN -inf\n",
      "On iteration 777, fit quality of MAX -inf, MEAN -inf, MEDIAN -inf\n",
      "On iteration 778, fit quality of MAX -inf, MEAN -inf, MEDIAN -inf\n",
      "On iteration 779, fit quality of MAX -inf, MEAN -inf, MEDIAN -inf\n",
      "On iteration 780, fit quality of MAX -inf, MEAN -inf, MEDIAN -inf\n",
      "On iteration 781, fit quality of MAX -inf, MEAN -inf, MEDIAN -inf\n",
      "On iteration 782, fit quality of MAX -inf, MEAN -inf, MEDIAN -inf\n",
      "On iteration 783, fit quality of MAX -inf, MEAN -inf, MEDIAN -inf\n",
      "On iteration 784, fit quality of MAX -inf, MEAN -inf, MEDIAN -inf\n",
      "On iteration 785, fit quality of MAX -inf, MEAN -inf, MEDIAN -inf\n",
      "On iteration 786, fit quality of MAX -inf, MEAN -inf, MEDIAN -inf\n",
      "On iteration 787, fit quality of MAX -inf, MEAN -inf, MEDIAN -inf\n",
      "On iteration 788, fit quality of MAX -inf, MEAN -inf, MEDIAN -inf\n",
      "On iteration 789, fit quality of MAX -inf, MEAN -inf, MEDIAN -inf\n",
      "On iteration 790, fit quality of MAX -inf, MEAN -inf, MEDIAN -inf\n",
      "On iteration 791, fit quality of MAX -inf, MEAN -inf, MEDIAN -inf\n",
      "On iteration 792, fit quality of MAX -inf, MEAN -inf, MEDIAN -inf\n",
      "On iteration 793, fit quality of MAX -inf, MEAN -inf, MEDIAN -inf\n",
      "On iteration 794, fit quality of MAX -inf, MEAN -inf, MEDIAN -inf\n",
      "On iteration 795, fit quality of MAX -inf, MEAN -inf, MEDIAN -inf\n",
      "On iteration 796, fit quality of MAX -inf, MEAN -inf, MEDIAN -inf\n",
      "On iteration 797, fit quality of MAX -inf, MEAN -inf, MEDIAN -inf\n",
      "On iteration 798, fit quality of MAX -inf, MEAN -inf, MEDIAN -inf\n",
      "On iteration 799, fit quality of MAX -inf, MEAN -inf, MEDIAN -inf\n",
      "On iteration 800, fit quality of MAX -inf, MEAN -inf, MEDIAN -inf\n",
      "On iteration 801, fit quality of MAX -inf, MEAN -inf, MEDIAN -inf\n",
      "On iteration 802, fit quality of MAX -inf, MEAN -inf, MEDIAN -inf\n",
      "On iteration 803, fit quality of MAX -inf, MEAN -inf, MEDIAN -inf\n",
      "On iteration 804, fit quality of MAX -inf, MEAN -inf, MEDIAN -inf\n",
      "On iteration 805, fit quality of MAX -inf, MEAN -inf, MEDIAN -inf\n",
      "On iteration 806, fit quality of MAX -inf, MEAN -inf, MEDIAN -inf\n",
      "On iteration 807, fit quality of MAX -inf, MEAN -inf, MEDIAN -inf\n",
      "On iteration 808, fit quality of MAX -inf, MEAN -inf, MEDIAN -inf\n",
      "On iteration 809, fit quality of MAX -inf, MEAN -inf, MEDIAN -inf\n",
      "On iteration 810, fit quality of MAX -inf, MEAN -inf, MEDIAN -inf\n",
      "On iteration 811, fit quality of MAX -inf, MEAN -inf, MEDIAN -inf\n",
      "On iteration 812, fit quality of MAX -inf, MEAN -inf, MEDIAN -inf\n",
      "On iteration 813, fit quality of MAX -inf, MEAN -inf, MEDIAN -inf\n",
      "On iteration 814, fit quality of MAX -inf, MEAN -inf, MEDIAN -inf\n",
      "On iteration 815, fit quality of MAX -inf, MEAN -inf, MEDIAN -inf\n",
      "On iteration 816, fit quality of MAX -inf, MEAN -inf, MEDIAN -inf\n",
      "On iteration 817, fit quality of MAX -inf, MEAN -inf, MEDIAN -inf\n",
      "On iteration 818, fit quality of MAX -inf, MEAN -inf, MEDIAN -inf\n",
      "On iteration 819, fit quality of MAX -inf, MEAN -inf, MEDIAN -inf\n",
      "On iteration 820, fit quality of MAX -inf, MEAN -inf, MEDIAN -inf\n",
      "On iteration 821, fit quality of MAX -inf, MEAN -inf, MEDIAN -inf\n",
      "On iteration 822, fit quality of MAX -inf, MEAN -inf, MEDIAN -inf\n",
      "On iteration 823, fit quality of MAX -inf, MEAN -inf, MEDIAN -inf\n",
      "On iteration 824, fit quality of MAX -inf, MEAN -inf, MEDIAN -inf\n",
      "On iteration 825, fit quality of MAX -inf, MEAN -inf, MEDIAN -inf\n",
      "On iteration 826, fit quality of MAX -inf, MEAN -inf, MEDIAN -inf\n",
      "On iteration 827, fit quality of MAX -inf, MEAN -inf, MEDIAN -inf\n",
      "On iteration 828, fit quality of MAX -inf, MEAN -inf, MEDIAN -inf\n",
      "On iteration 829, fit quality of MAX -inf, MEAN -inf, MEDIAN -inf\n",
      "On iteration 830, fit quality of MAX -inf, MEAN -inf, MEDIAN -inf\n",
      "On iteration 831, fit quality of MAX -inf, MEAN -inf, MEDIAN -inf\n",
      "On iteration 832, fit quality of MAX -inf, MEAN -inf, MEDIAN -inf\n",
      "On iteration 833, fit quality of MAX -inf, MEAN -inf, MEDIAN -inf\n",
      "On iteration 834, fit quality of MAX -inf, MEAN -inf, MEDIAN -inf\n",
      "On iteration 835, fit quality of MAX -inf, MEAN -inf, MEDIAN -inf\n",
      "On iteration 836, fit quality of MAX -inf, MEAN -inf, MEDIAN -inf\n",
      "On iteration 837, fit quality of MAX -inf, MEAN -inf, MEDIAN -inf\n",
      "On iteration 838, fit quality of MAX -inf, MEAN -inf, MEDIAN -inf\n",
      "On iteration 839, fit quality of MAX -inf, MEAN -inf, MEDIAN -inf\n",
      "On iteration 840, fit quality of MAX -inf, MEAN -inf, MEDIAN -inf\n",
      "On iteration 841, fit quality of MAX -inf, MEAN -inf, MEDIAN -inf\n",
      "On iteration 842, fit quality of MAX -inf, MEAN -inf, MEDIAN -inf\n",
      "On iteration 843, fit quality of MAX -inf, MEAN -inf, MEDIAN -inf\n",
      "On iteration 844, fit quality of MAX -inf, MEAN -inf, MEDIAN -inf\n",
      "On iteration 845, fit quality of MAX -inf, MEAN -inf, MEDIAN -inf\n",
      "On iteration 846, fit quality of MAX -inf, MEAN -inf, MEDIAN -inf\n",
      "On iteration 847, fit quality of MAX -inf, MEAN -inf, MEDIAN -inf\n",
      "On iteration 848, fit quality of MAX -inf, MEAN -inf, MEDIAN -inf\n",
      "On iteration 849, fit quality of MAX -inf, MEAN -inf, MEDIAN -inf\n",
      "On iteration 850, fit quality of MAX -inf, MEAN -inf, MEDIAN -inf\n",
      "On iteration 851, fit quality of MAX -inf, MEAN -inf, MEDIAN -inf\n",
      "On iteration 852, fit quality of MAX -inf, MEAN -inf, MEDIAN -inf\n",
      "On iteration 853, fit quality of MAX -inf, MEAN -inf, MEDIAN -inf\n",
      "On iteration 854, fit quality of MAX -inf, MEAN -inf, MEDIAN -inf\n",
      "On iteration 855, fit quality of MAX -inf, MEAN -inf, MEDIAN -inf\n",
      "On iteration 856, fit quality of MAX -inf, MEAN -inf, MEDIAN -inf\n",
      "On iteration 857, fit quality of MAX -inf, MEAN -inf, MEDIAN -inf\n",
      "On iteration 858, fit quality of MAX -inf, MEAN -inf, MEDIAN -inf\n",
      "On iteration 859, fit quality of MAX -inf, MEAN -inf, MEDIAN -inf\n",
      "On iteration 860, fit quality of MAX -inf, MEAN -inf, MEDIAN -inf\n",
      "On iteration 861, fit quality of MAX -inf, MEAN -inf, MEDIAN -inf\n",
      "On iteration 862, fit quality of MAX -inf, MEAN -inf, MEDIAN -inf\n",
      "On iteration 863, fit quality of MAX -inf, MEAN -inf, MEDIAN -inf\n",
      "On iteration 864, fit quality of MAX -inf, MEAN -inf, MEDIAN -inf\n",
      "On iteration 865, fit quality of MAX -inf, MEAN -inf, MEDIAN -inf\n",
      "On iteration 866, fit quality of MAX -inf, MEAN -inf, MEDIAN -inf\n",
      "On iteration 867, fit quality of MAX -inf, MEAN -inf, MEDIAN -inf\n",
      "On iteration 868, fit quality of MAX -inf, MEAN -inf, MEDIAN -inf\n",
      "On iteration 869, fit quality of MAX -inf, MEAN -inf, MEDIAN -inf\n",
      "On iteration 870, fit quality of MAX -inf, MEAN -inf, MEDIAN -inf\n",
      "On iteration 871, fit quality of MAX -inf, MEAN -inf, MEDIAN -inf\n",
      "On iteration 872, fit quality of MAX -inf, MEAN -inf, MEDIAN -inf\n",
      "On iteration 873, fit quality of MAX -inf, MEAN -inf, MEDIAN -inf\n",
      "On iteration 874, fit quality of MAX -inf, MEAN -inf, MEDIAN -inf\n",
      "On iteration 875, fit quality of MAX -inf, MEAN -inf, MEDIAN -inf\n",
      "On iteration 876, fit quality of MAX -inf, MEAN -inf, MEDIAN -inf\n",
      "On iteration 877, fit quality of MAX -inf, MEAN -inf, MEDIAN -inf\n",
      "On iteration 878, fit quality of MAX -inf, MEAN -inf, MEDIAN -inf\n",
      "On iteration 879, fit quality of MAX -inf, MEAN -inf, MEDIAN -inf\n",
      "On iteration 880, fit quality of MAX -inf, MEAN -inf, MEDIAN -inf\n",
      "On iteration 881, fit quality of MAX -inf, MEAN -inf, MEDIAN -inf\n",
      "On iteration 882, fit quality of MAX -inf, MEAN -inf, MEDIAN -inf\n",
      "On iteration 883, fit quality of MAX -inf, MEAN -inf, MEDIAN -inf\n",
      "On iteration 884, fit quality of MAX -inf, MEAN -inf, MEDIAN -inf\n",
      "On iteration 885, fit quality of MAX -inf, MEAN -inf, MEDIAN -inf\n",
      "On iteration 886, fit quality of MAX -inf, MEAN -inf, MEDIAN -inf\n",
      "On iteration 887, fit quality of MAX -inf, MEAN -inf, MEDIAN -inf\n",
      "On iteration 888, fit quality of MAX -inf, MEAN -inf, MEDIAN -inf\n",
      "On iteration 889, fit quality of MAX -inf, MEAN -inf, MEDIAN -inf\n",
      "On iteration 890, fit quality of MAX -inf, MEAN -inf, MEDIAN -inf\n",
      "On iteration 891, fit quality of MAX -inf, MEAN -inf, MEDIAN -inf\n",
      "On iteration 892, fit quality of MAX -inf, MEAN -inf, MEDIAN -inf\n",
      "On iteration 893, fit quality of MAX -inf, MEAN -inf, MEDIAN -inf\n",
      "On iteration 894, fit quality of MAX -inf, MEAN -inf, MEDIAN -inf\n",
      "On iteration 895, fit quality of MAX -inf, MEAN -inf, MEDIAN -inf\n",
      "On iteration 896, fit quality of MAX -inf, MEAN -inf, MEDIAN -inf\n",
      "On iteration 897, fit quality of MAX -inf, MEAN -inf, MEDIAN -inf\n",
      "On iteration 898, fit quality of MAX -inf, MEAN -inf, MEDIAN -inf\n",
      "On iteration 899, fit quality of MAX -inf, MEAN -inf, MEDIAN -inf\n",
      "On iteration 900, fit quality of MAX -inf, MEAN -inf, MEDIAN -inf\n",
      "On iteration 901, fit quality of MAX -inf, MEAN -inf, MEDIAN -inf\n",
      "On iteration 902, fit quality of MAX -inf, MEAN -inf, MEDIAN -inf\n",
      "On iteration 903, fit quality of MAX -inf, MEAN -inf, MEDIAN -inf\n",
      "On iteration 904, fit quality of MAX -inf, MEAN -inf, MEDIAN -inf\n",
      "On iteration 905, fit quality of MAX -inf, MEAN -inf, MEDIAN -inf\n",
      "On iteration 906, fit quality of MAX -inf, MEAN -inf, MEDIAN -inf\n",
      "On iteration 907, fit quality of MAX -inf, MEAN -inf, MEDIAN -inf\n",
      "On iteration 908, fit quality of MAX -inf, MEAN -inf, MEDIAN -inf\n",
      "On iteration 909, fit quality of MAX -inf, MEAN -inf, MEDIAN -inf\n",
      "On iteration 910, fit quality of MAX -inf, MEAN -inf, MEDIAN -inf\n",
      "On iteration 911, fit quality of MAX -inf, MEAN -inf, MEDIAN -inf\n",
      "On iteration 912, fit quality of MAX -inf, MEAN -inf, MEDIAN -inf\n",
      "On iteration 913, fit quality of MAX -inf, MEAN -inf, MEDIAN -inf\n",
      "On iteration 914, fit quality of MAX -inf, MEAN -inf, MEDIAN -inf\n",
      "On iteration 915, fit quality of MAX -inf, MEAN -inf, MEDIAN -inf\n",
      "On iteration 916, fit quality of MAX -inf, MEAN -inf, MEDIAN -inf\n",
      "On iteration 917, fit quality of MAX -inf, MEAN -inf, MEDIAN -inf\n",
      "On iteration 918, fit quality of MAX -inf, MEAN -inf, MEDIAN -inf\n",
      "On iteration 919, fit quality of MAX -inf, MEAN -inf, MEDIAN -inf\n",
      "On iteration 920, fit quality of MAX -inf, MEAN -inf, MEDIAN -inf\n",
      "On iteration 921, fit quality of MAX -inf, MEAN -inf, MEDIAN -inf\n",
      "On iteration 922, fit quality of MAX -inf, MEAN -inf, MEDIAN -inf\n",
      "On iteration 923, fit quality of MAX -inf, MEAN -inf, MEDIAN -inf\n",
      "On iteration 924, fit quality of MAX -inf, MEAN -inf, MEDIAN -inf\n",
      "On iteration 925, fit quality of MAX -inf, MEAN -inf, MEDIAN -inf\n",
      "On iteration 926, fit quality of MAX -inf, MEAN -inf, MEDIAN -inf\n",
      "On iteration 927, fit quality of MAX -inf, MEAN -inf, MEDIAN -inf\n",
      "On iteration 928, fit quality of MAX -inf, MEAN -inf, MEDIAN -inf\n",
      "On iteration 929, fit quality of MAX -inf, MEAN -inf, MEDIAN -inf\n",
      "On iteration 930, fit quality of MAX -inf, MEAN -inf, MEDIAN -inf\n",
      "On iteration 931, fit quality of MAX -inf, MEAN -inf, MEDIAN -inf\n",
      "On iteration 932, fit quality of MAX -inf, MEAN -inf, MEDIAN -inf\n",
      "On iteration 933, fit quality of MAX -inf, MEAN -inf, MEDIAN -inf\n",
      "On iteration 934, fit quality of MAX -inf, MEAN -inf, MEDIAN -inf\n",
      "On iteration 935, fit quality of MAX -inf, MEAN -inf, MEDIAN -inf\n",
      "On iteration 936, fit quality of MAX -inf, MEAN -inf, MEDIAN -inf\n",
      "On iteration 937, fit quality of MAX -inf, MEAN -inf, MEDIAN -inf\n",
      "On iteration 938, fit quality of MAX -inf, MEAN -inf, MEDIAN -inf\n",
      "On iteration 939, fit quality of MAX -inf, MEAN -inf, MEDIAN -inf\n",
      "On iteration 940, fit quality of MAX -inf, MEAN -inf, MEDIAN -inf\n",
      "On iteration 941, fit quality of MAX -inf, MEAN -inf, MEDIAN -inf\n",
      "On iteration 942, fit quality of MAX -inf, MEAN -inf, MEDIAN -inf\n",
      "On iteration 943, fit quality of MAX -inf, MEAN -inf, MEDIAN -inf\n",
      "On iteration 944, fit quality of MAX -inf, MEAN -inf, MEDIAN -inf\n",
      "On iteration 945, fit quality of MAX -inf, MEAN -inf, MEDIAN -inf\n",
      "On iteration 946, fit quality of MAX -inf, MEAN -inf, MEDIAN -inf\n",
      "On iteration 947, fit quality of MAX -inf, MEAN -inf, MEDIAN -inf\n",
      "On iteration 948, fit quality of MAX -inf, MEAN -inf, MEDIAN -inf\n",
      "On iteration 949, fit quality of MAX -inf, MEAN -inf, MEDIAN -inf\n",
      "On iteration 950, fit quality of MAX -inf, MEAN -inf, MEDIAN -inf\n",
      "On iteration 951, fit quality of MAX -inf, MEAN -inf, MEDIAN -inf\n",
      "On iteration 952, fit quality of MAX -inf, MEAN -inf, MEDIAN -inf\n",
      "On iteration 953, fit quality of MAX -inf, MEAN -inf, MEDIAN -inf\n",
      "On iteration 954, fit quality of MAX -inf, MEAN -inf, MEDIAN -inf\n",
      "On iteration 955, fit quality of MAX -inf, MEAN -inf, MEDIAN -inf\n",
      "On iteration 956, fit quality of MAX -inf, MEAN -inf, MEDIAN -inf\n",
      "On iteration 957, fit quality of MAX -inf, MEAN -inf, MEDIAN -inf\n",
      "On iteration 958, fit quality of MAX -inf, MEAN -inf, MEDIAN -inf\n",
      "On iteration 959, fit quality of MAX -inf, MEAN -inf, MEDIAN -inf\n",
      "On iteration 960, fit quality of MAX -inf, MEAN -inf, MEDIAN -inf\n",
      "On iteration 961, fit quality of MAX -inf, MEAN -inf, MEDIAN -inf\n",
      "On iteration 962, fit quality of MAX -inf, MEAN -inf, MEDIAN -inf\n",
      "On iteration 963, fit quality of MAX -inf, MEAN -inf, MEDIAN -inf\n",
      "On iteration 964, fit quality of MAX -inf, MEAN -inf, MEDIAN -inf\n",
      "On iteration 965, fit quality of MAX -inf, MEAN -inf, MEDIAN -inf\n",
      "On iteration 966, fit quality of MAX -inf, MEAN -inf, MEDIAN -inf\n",
      "On iteration 967, fit quality of MAX -inf, MEAN -inf, MEDIAN -inf\n",
      "On iteration 968, fit quality of MAX -inf, MEAN -inf, MEDIAN -inf\n",
      "On iteration 969, fit quality of MAX -inf, MEAN -inf, MEDIAN -inf\n",
      "On iteration 970, fit quality of MAX -inf, MEAN -inf, MEDIAN -inf\n",
      "On iteration 971, fit quality of MAX -inf, MEAN -inf, MEDIAN -inf\n",
      "On iteration 972, fit quality of MAX -inf, MEAN -inf, MEDIAN -inf\n",
      "On iteration 973, fit quality of MAX -inf, MEAN -inf, MEDIAN -inf\n",
      "On iteration 974, fit quality of MAX -inf, MEAN -inf, MEDIAN -inf\n",
      "On iteration 975, fit quality of MAX -inf, MEAN -inf, MEDIAN -inf\n",
      "On iteration 976, fit quality of MAX -inf, MEAN -inf, MEDIAN -inf\n",
      "On iteration 977, fit quality of MAX -inf, MEAN -inf, MEDIAN -inf\n",
      "On iteration 978, fit quality of MAX -inf, MEAN -inf, MEDIAN -inf\n",
      "On iteration 979, fit quality of MAX -inf, MEAN -inf, MEDIAN -inf\n",
      "On iteration 980, fit quality of MAX -inf, MEAN -inf, MEDIAN -inf\n",
      "On iteration 981, fit quality of MAX -inf, MEAN -inf, MEDIAN -inf\n",
      "On iteration 982, fit quality of MAX -inf, MEAN -inf, MEDIAN -inf\n",
      "On iteration 983, fit quality of MAX -inf, MEAN -inf, MEDIAN -inf\n",
      "On iteration 984, fit quality of MAX -inf, MEAN -inf, MEDIAN -inf\n",
      "On iteration 985, fit quality of MAX -inf, MEAN -inf, MEDIAN -inf\n",
      "On iteration 986, fit quality of MAX -inf, MEAN -inf, MEDIAN -inf\n",
      "On iteration 987, fit quality of MAX -inf, MEAN -inf, MEDIAN -inf\n",
      "On iteration 988, fit quality of MAX -inf, MEAN -inf, MEDIAN -inf\n",
      "On iteration 989, fit quality of MAX -inf, MEAN -inf, MEDIAN -inf\n",
      "On iteration 990, fit quality of MAX -inf, MEAN -inf, MEDIAN -inf\n",
      "On iteration 991, fit quality of MAX -inf, MEAN -inf, MEDIAN -inf\n",
      "On iteration 992, fit quality of MAX -inf, MEAN -inf, MEDIAN -inf\n",
      "On iteration 993, fit quality of MAX -inf, MEAN -inf, MEDIAN -inf\n",
      "On iteration 994, fit quality of MAX -inf, MEAN -inf, MEDIAN -inf\n",
      "On iteration 995, fit quality of MAX -inf, MEAN -inf, MEDIAN -inf\n",
      "On iteration 996, fit quality of MAX -inf, MEAN -inf, MEDIAN -inf\n",
      "On iteration 997, fit quality of MAX -inf, MEAN -inf, MEDIAN -inf\n",
      "On iteration 998, fit quality of MAX -inf, MEAN -inf, MEDIAN -inf\n",
      "On iteration 999, fit quality of MAX -inf, MEAN -inf, MEDIAN -inf\n",
      "On iteration 1000, fit quality of MAX -inf, MEAN -inf, MEDIAN -inf\n",
      "On iteration 1001, fit quality of MAX -inf, MEAN -inf, MEDIAN -inf\n",
      "On iteration 1002, fit quality of MAX -inf, MEAN -inf, MEDIAN -inf\n",
      "On iteration 1003, fit quality of MAX -inf, MEAN -inf, MEDIAN -inf\n",
      "On iteration 1004, fit quality of MAX -inf, MEAN -inf, MEDIAN -inf\n",
      "On iteration 1005, fit quality of MAX -inf, MEAN -inf, MEDIAN -inf\n",
      "On iteration 1006, fit quality of MAX -inf, MEAN -inf, MEDIAN -inf\n",
      "On iteration 1007, fit quality of MAX -inf, MEAN -inf, MEDIAN -inf\n",
      "On iteration 1008, fit quality of MAX -inf, MEAN -inf, MEDIAN -inf\n",
      "On iteration 1009, fit quality of MAX -inf, MEAN -inf, MEDIAN -inf\n",
      "On iteration 1010, fit quality of MAX -inf, MEAN -inf, MEDIAN -inf\n",
      "On iteration 1011, fit quality of MAX -inf, MEAN -inf, MEDIAN -inf\n",
      "On iteration 1012, fit quality of MAX -inf, MEAN -inf, MEDIAN -inf\n",
      "On iteration 1013, fit quality of MAX -inf, MEAN -inf, MEDIAN -inf\n",
      "On iteration 1014, fit quality of MAX -inf, MEAN -inf, MEDIAN -inf\n",
      "On iteration 1015, fit quality of MAX -inf, MEAN -inf, MEDIAN -inf\n",
      "On iteration 1016, fit quality of MAX -inf, MEAN -inf, MEDIAN -inf\n",
      "On iteration 1017, fit quality of MAX -inf, MEAN -inf, MEDIAN -inf\n",
      "On iteration 1018, fit quality of MAX -inf, MEAN -inf, MEDIAN -inf\n",
      "On iteration 1019, fit quality of MAX -inf, MEAN -inf, MEDIAN -inf\n",
      "On iteration 1020, fit quality of MAX -inf, MEAN -inf, MEDIAN -inf\n",
      "On iteration 1021, fit quality of MAX -inf, MEAN -inf, MEDIAN -inf\n",
      "On iteration 1022, fit quality of MAX -inf, MEAN -inf, MEDIAN -inf\n",
      "On iteration 1023, fit quality of MAX -inf, MEAN -inf, MEDIAN -inf\n",
      "On iteration 1024, fit quality of MAX -inf, MEAN -inf, MEDIAN -inf\n",
      "On iteration 1025, fit quality of MAX -inf, MEAN -inf, MEDIAN -inf\n",
      "On iteration 1026, fit quality of MAX -inf, MEAN -inf, MEDIAN -inf\n",
      "On iteration 1027, fit quality of MAX -inf, MEAN -inf, MEDIAN -inf\n",
      "On iteration 1028, fit quality of MAX -inf, MEAN -inf, MEDIAN -inf\n",
      "On iteration 1029, fit quality of MAX -inf, MEAN -inf, MEDIAN -inf\n",
      "On iteration 1030, fit quality of MAX -inf, MEAN -inf, MEDIAN -inf\n",
      "On iteration 1031, fit quality of MAX -inf, MEAN -inf, MEDIAN -inf\n",
      "On iteration 1032, fit quality of MAX -inf, MEAN -inf, MEDIAN -inf\n",
      "On iteration 1033, fit quality of MAX -inf, MEAN -inf, MEDIAN -inf\n",
      "On iteration 1034, fit quality of MAX -inf, MEAN -inf, MEDIAN -inf\n",
      "On iteration 1035, fit quality of MAX -inf, MEAN -inf, MEDIAN -inf\n",
      "On iteration 1036, fit quality of MAX -inf, MEAN -inf, MEDIAN -inf\n",
      "On iteration 1037, fit quality of MAX -inf, MEAN -inf, MEDIAN -inf\n",
      "On iteration 1038, fit quality of MAX -inf, MEAN -inf, MEDIAN -inf\n",
      "On iteration 1039, fit quality of MAX -inf, MEAN -inf, MEDIAN -inf\n",
      "On iteration 1040, fit quality of MAX -inf, MEAN -inf, MEDIAN -inf\n",
      "On iteration 1041, fit quality of MAX -inf, MEAN -inf, MEDIAN -inf\n",
      "On iteration 1042, fit quality of MAX -inf, MEAN -inf, MEDIAN -inf\n",
      "On iteration 1043, fit quality of MAX -inf, MEAN -inf, MEDIAN -inf\n",
      "On iteration 1044, fit quality of MAX -inf, MEAN -inf, MEDIAN -inf\n",
      "On iteration 1045, fit quality of MAX -inf, MEAN -inf, MEDIAN -inf\n",
      "On iteration 1046, fit quality of MAX -inf, MEAN -inf, MEDIAN -inf\n",
      "On iteration 1047, fit quality of MAX -inf, MEAN -inf, MEDIAN -inf\n",
      "On iteration 1048, fit quality of MAX -inf, MEAN -inf, MEDIAN -inf\n",
      "On iteration 1049, fit quality of MAX -inf, MEAN -inf, MEDIAN -inf\n",
      "On iteration 1050, fit quality of MAX -inf, MEAN -inf, MEDIAN -inf\n",
      "On iteration 1051, fit quality of MAX -inf, MEAN -inf, MEDIAN -inf\n",
      "On iteration 1052, fit quality of MAX -inf, MEAN -inf, MEDIAN -inf\n",
      "On iteration 1053, fit quality of MAX -inf, MEAN -inf, MEDIAN -inf\n",
      "On iteration 1054, fit quality of MAX -inf, MEAN -inf, MEDIAN -inf\n",
      "On iteration 1055, fit quality of MAX -inf, MEAN -inf, MEDIAN -inf\n",
      "On iteration 1056, fit quality of MAX -inf, MEAN -inf, MEDIAN -inf\n",
      "On iteration 1057, fit quality of MAX -inf, MEAN -inf, MEDIAN -inf\n",
      "On iteration 1058, fit quality of MAX -inf, MEAN -inf, MEDIAN -inf\n",
      "On iteration 1059, fit quality of MAX -inf, MEAN -inf, MEDIAN -inf\n",
      "On iteration 1060, fit quality of MAX -inf, MEAN -inf, MEDIAN -inf\n",
      "On iteration 1061, fit quality of MAX -inf, MEAN -inf, MEDIAN -inf\n",
      "On iteration 1062, fit quality of MAX -inf, MEAN -inf, MEDIAN -inf\n",
      "On iteration 1063, fit quality of MAX -inf, MEAN -inf, MEDIAN -inf\n",
      "On iteration 1064, fit quality of MAX -inf, MEAN -inf, MEDIAN -inf\n",
      "On iteration 1065, fit quality of MAX -inf, MEAN -inf, MEDIAN -inf\n",
      "On iteration 1066, fit quality of MAX -inf, MEAN -inf, MEDIAN -inf\n",
      "On iteration 1067, fit quality of MAX -inf, MEAN -inf, MEDIAN -inf\n",
      "On iteration 1068, fit quality of MAX -inf, MEAN -inf, MEDIAN -inf\n",
      "On iteration 1069, fit quality of MAX -inf, MEAN -inf, MEDIAN -inf\n",
      "On iteration 1070, fit quality of MAX -inf, MEAN -inf, MEDIAN -inf\n",
      "On iteration 1071, fit quality of MAX -inf, MEAN -inf, MEDIAN -inf\n",
      "On iteration 1072, fit quality of MAX -inf, MEAN -inf, MEDIAN -inf\n",
      "On iteration 1073, fit quality of MAX -inf, MEAN -inf, MEDIAN -inf\n",
      "On iteration 1074, fit quality of MAX -inf, MEAN -inf, MEDIAN -inf\n",
      "On iteration 1075, fit quality of MAX -inf, MEAN -inf, MEDIAN -inf\n",
      "On iteration 1076, fit quality of MAX -inf, MEAN -inf, MEDIAN -inf\n",
      "On iteration 1077, fit quality of MAX -inf, MEAN -inf, MEDIAN -inf\n",
      "On iteration 1078, fit quality of MAX -inf, MEAN -inf, MEDIAN -inf\n",
      "On iteration 1079, fit quality of MAX -inf, MEAN -inf, MEDIAN -inf\n",
      "On iteration 1080, fit quality of MAX -inf, MEAN -inf, MEDIAN -inf\n",
      "On iteration 1081, fit quality of MAX -inf, MEAN -inf, MEDIAN -inf\n",
      "On iteration 1082, fit quality of MAX -inf, MEAN -inf, MEDIAN -inf\n",
      "On iteration 1083, fit quality of MAX -inf, MEAN -inf, MEDIAN -inf\n",
      "On iteration 1084, fit quality of MAX -inf, MEAN -inf, MEDIAN -inf\n",
      "On iteration 1085, fit quality of MAX -inf, MEAN -inf, MEDIAN -inf\n",
      "On iteration 1086, fit quality of MAX -inf, MEAN -inf, MEDIAN -inf\n",
      "On iteration 1087, fit quality of MAX -inf, MEAN -inf, MEDIAN -inf\n",
      "On iteration 1088, fit quality of MAX -inf, MEAN -inf, MEDIAN -inf\n",
      "On iteration 1089, fit quality of MAX -inf, MEAN -inf, MEDIAN -inf\n",
      "On iteration 1090, fit quality of MAX -inf, MEAN -inf, MEDIAN -inf\n",
      "On iteration 1091, fit quality of MAX -inf, MEAN -inf, MEDIAN -inf\n",
      "On iteration 1092, fit quality of MAX -inf, MEAN -inf, MEDIAN -inf\n",
      "On iteration 1093, fit quality of MAX -inf, MEAN -inf, MEDIAN -inf\n",
      "On iteration 1094, fit quality of MAX -inf, MEAN -inf, MEDIAN -inf\n",
      "On iteration 1095, fit quality of MAX -inf, MEAN -inf, MEDIAN -inf\n",
      "On iteration 1096, fit quality of MAX -inf, MEAN -inf, MEDIAN -inf\n",
      "On iteration 1097, fit quality of MAX -inf, MEAN -inf, MEDIAN -inf\n",
      "On iteration 1098, fit quality of MAX -inf, MEAN -inf, MEDIAN -inf\n",
      "On iteration 1099, fit quality of MAX -inf, MEAN -inf, MEDIAN -inf\n",
      "On iteration 1100, fit quality of MAX -inf, MEAN -inf, MEDIAN -inf\n",
      "On iteration 1101, fit quality of MAX -inf, MEAN -inf, MEDIAN -inf\n",
      "On iteration 1102, fit quality of MAX -inf, MEAN -inf, MEDIAN -inf\n",
      "On iteration 1103, fit quality of MAX -inf, MEAN -inf, MEDIAN -inf\n",
      "On iteration 1104, fit quality of MAX -inf, MEAN -inf, MEDIAN -inf\n",
      "On iteration 1105, fit quality of MAX -inf, MEAN -inf, MEDIAN -inf\n",
      "On iteration 1106, fit quality of MAX -inf, MEAN -inf, MEDIAN -inf\n",
      "On iteration 1107, fit quality of MAX -inf, MEAN -inf, MEDIAN -inf\n",
      "On iteration 1108, fit quality of MAX -inf, MEAN -inf, MEDIAN -inf\n",
      "On iteration 1109, fit quality of MAX -inf, MEAN -inf, MEDIAN -inf\n",
      "On iteration 1110, fit quality of MAX -inf, MEAN -inf, MEDIAN -inf\n",
      "On iteration 1111, fit quality of MAX -inf, MEAN -inf, MEDIAN -inf\n",
      "On iteration 1112, fit quality of MAX -inf, MEAN -inf, MEDIAN -inf\n",
      "On iteration 1113, fit quality of MAX -inf, MEAN -inf, MEDIAN -inf\n",
      "On iteration 1114, fit quality of MAX -inf, MEAN -inf, MEDIAN -inf\n",
      "On iteration 1115, fit quality of MAX -inf, MEAN -inf, MEDIAN -inf\n",
      "On iteration 1116, fit quality of MAX -inf, MEAN -inf, MEDIAN -inf\n",
      "On iteration 1117, fit quality of MAX -inf, MEAN -inf, MEDIAN -inf\n",
      "On iteration 1118, fit quality of MAX -inf, MEAN -inf, MEDIAN -inf\n",
      "On iteration 1119, fit quality of MAX -inf, MEAN -inf, MEDIAN -inf\n",
      "On iteration 1120, fit quality of MAX -inf, MEAN -inf, MEDIAN -inf\n",
      "On iteration 1121, fit quality of MAX -inf, MEAN -inf, MEDIAN -inf\n",
      "On iteration 1122, fit quality of MAX -inf, MEAN -inf, MEDIAN -inf\n",
      "On iteration 1123, fit quality of MAX -inf, MEAN -inf, MEDIAN -inf\n",
      "On iteration 1124, fit quality of MAX -inf, MEAN -inf, MEDIAN -inf\n",
      "On iteration 1125, fit quality of MAX -inf, MEAN -inf, MEDIAN -inf\n",
      "On iteration 1126, fit quality of MAX -inf, MEAN -inf, MEDIAN -inf\n",
      "On iteration 1127, fit quality of MAX -inf, MEAN -inf, MEDIAN -inf\n",
      "On iteration 1128, fit quality of MAX -inf, MEAN -inf, MEDIAN -inf\n",
      "On iteration 1129, fit quality of MAX -inf, MEAN -inf, MEDIAN -inf\n",
      "On iteration 1130, fit quality of MAX -inf, MEAN -inf, MEDIAN -inf\n",
      "On iteration 1131, fit quality of MAX -inf, MEAN -inf, MEDIAN -inf\n",
      "On iteration 1132, fit quality of MAX -inf, MEAN -inf, MEDIAN -inf\n",
      "On iteration 1133, fit quality of MAX -inf, MEAN -inf, MEDIAN -inf\n",
      "On iteration 1134, fit quality of MAX -inf, MEAN -inf, MEDIAN -inf\n",
      "On iteration 1135, fit quality of MAX -inf, MEAN -inf, MEDIAN -inf\n",
      "On iteration 1136, fit quality of MAX -inf, MEAN -inf, MEDIAN -inf\n",
      "On iteration 1137, fit quality of MAX -inf, MEAN -inf, MEDIAN -inf\n",
      "On iteration 1138, fit quality of MAX -inf, MEAN -inf, MEDIAN -inf\n",
      "On iteration 1139, fit quality of MAX -inf, MEAN -inf, MEDIAN -inf\n",
      "On iteration 1140, fit quality of MAX -inf, MEAN -inf, MEDIAN -inf\n",
      "On iteration 1141, fit quality of MAX -inf, MEAN -inf, MEDIAN -inf\n",
      "On iteration 1142, fit quality of MAX -inf, MEAN -inf, MEDIAN -inf\n",
      "On iteration 1143, fit quality of MAX -inf, MEAN -inf, MEDIAN -inf\n",
      "On iteration 1144, fit quality of MAX -inf, MEAN -inf, MEDIAN -inf\n",
      "On iteration 1145, fit quality of MAX -inf, MEAN -inf, MEDIAN -inf\n",
      "On iteration 1146, fit quality of MAX -inf, MEAN -inf, MEDIAN -inf\n",
      "On iteration 1147, fit quality of MAX -inf, MEAN -inf, MEDIAN -inf\n",
      "On iteration 1148, fit quality of MAX -inf, MEAN -inf, MEDIAN -inf\n",
      "On iteration 1149, fit quality of MAX -inf, MEAN -inf, MEDIAN -inf\n",
      "On iteration 1150, fit quality of MAX -inf, MEAN -inf, MEDIAN -inf\n",
      "On iteration 1151, fit quality of MAX -inf, MEAN -inf, MEDIAN -inf\n",
      "On iteration 1152, fit quality of MAX -inf, MEAN -inf, MEDIAN -inf\n",
      "On iteration 1153, fit quality of MAX -inf, MEAN -inf, MEDIAN -inf\n",
      "On iteration 1154, fit quality of MAX -inf, MEAN -inf, MEDIAN -inf\n",
      "On iteration 1155, fit quality of MAX -inf, MEAN -inf, MEDIAN -inf\n",
      "On iteration 1156, fit quality of MAX -inf, MEAN -inf, MEDIAN -inf\n",
      "On iteration 1157, fit quality of MAX -inf, MEAN -inf, MEDIAN -inf\n",
      "On iteration 1158, fit quality of MAX -inf, MEAN -inf, MEDIAN -inf\n",
      "On iteration 1159, fit quality of MAX -inf, MEAN -inf, MEDIAN -inf\n",
      "On iteration 1160, fit quality of MAX -inf, MEAN -inf, MEDIAN -inf\n",
      "On iteration 1161, fit quality of MAX -inf, MEAN -inf, MEDIAN -inf\n",
      "On iteration 1162, fit quality of MAX -inf, MEAN -inf, MEDIAN -inf\n",
      "On iteration 1163, fit quality of MAX -inf, MEAN -inf, MEDIAN -inf\n",
      "On iteration 1164, fit quality of MAX -inf, MEAN -inf, MEDIAN -inf\n",
      "On iteration 1165, fit quality of MAX -inf, MEAN -inf, MEDIAN -inf\n",
      "On iteration 1166, fit quality of MAX -inf, MEAN -inf, MEDIAN -inf\n",
      "On iteration 1167, fit quality of MAX -inf, MEAN -inf, MEDIAN -inf\n",
      "On iteration 1168, fit quality of MAX -inf, MEAN -inf, MEDIAN -inf\n",
      "On iteration 1169, fit quality of MAX -inf, MEAN -inf, MEDIAN -inf\n",
      "On iteration 1170, fit quality of MAX -inf, MEAN -inf, MEDIAN -inf\n",
      "On iteration 1171, fit quality of MAX -inf, MEAN -inf, MEDIAN -inf\n",
      "On iteration 1172, fit quality of MAX -inf, MEAN -inf, MEDIAN -inf\n",
      "On iteration 1173, fit quality of MAX -inf, MEAN -inf, MEDIAN -inf\n",
      "On iteration 1174, fit quality of MAX -inf, MEAN -inf, MEDIAN -inf\n",
      "On iteration 1175, fit quality of MAX -inf, MEAN -inf, MEDIAN -inf\n",
      "On iteration 1176, fit quality of MAX -inf, MEAN -inf, MEDIAN -inf\n",
      "On iteration 1177, fit quality of MAX -inf, MEAN -inf, MEDIAN -inf\n",
      "On iteration 1178, fit quality of MAX -inf, MEAN -inf, MEDIAN -inf\n",
      "On iteration 1179, fit quality of MAX -inf, MEAN -inf, MEDIAN -inf\n",
      "On iteration 1180, fit quality of MAX -inf, MEAN -inf, MEDIAN -inf\n",
      "On iteration 1181, fit quality of MAX -inf, MEAN -inf, MEDIAN -inf\n",
      "On iteration 1182, fit quality of MAX -inf, MEAN -inf, MEDIAN -inf\n",
      "On iteration 1183, fit quality of MAX -inf, MEAN -inf, MEDIAN -inf\n",
      "On iteration 1184, fit quality of MAX -inf, MEAN -inf, MEDIAN -inf\n",
      "On iteration 1185, fit quality of MAX -inf, MEAN -inf, MEDIAN -inf\n",
      "On iteration 1186, fit quality of MAX -inf, MEAN -inf, MEDIAN -inf\n",
      "On iteration 1187, fit quality of MAX -inf, MEAN -inf, MEDIAN -inf\n",
      "On iteration 1188, fit quality of MAX -inf, MEAN -inf, MEDIAN -inf\n",
      "On iteration 1189, fit quality of MAX -inf, MEAN -inf, MEDIAN -inf\n",
      "On iteration 1190, fit quality of MAX -inf, MEAN -inf, MEDIAN -inf\n",
      "On iteration 1191, fit quality of MAX -inf, MEAN -inf, MEDIAN -inf\n",
      "On iteration 1192, fit quality of MAX -inf, MEAN -inf, MEDIAN -inf\n",
      "On iteration 1193, fit quality of MAX -inf, MEAN -inf, MEDIAN -inf\n",
      "On iteration 1194, fit quality of MAX -inf, MEAN -inf, MEDIAN -inf\n",
      "On iteration 1195, fit quality of MAX -inf, MEAN -inf, MEDIAN -inf\n",
      "On iteration 1196, fit quality of MAX -inf, MEAN -inf, MEDIAN -inf\n",
      "On iteration 1197, fit quality of MAX -inf, MEAN -inf, MEDIAN -inf\n",
      "On iteration 1198, fit quality of MAX -inf, MEAN -inf, MEDIAN -inf\n",
      "On iteration 1199, fit quality of MAX -inf, MEAN -inf, MEDIAN -inf\n",
      "On iteration 1200, fit quality of MAX -inf, MEAN -inf, MEDIAN -inf\n",
      "On iteration 1201, fit quality of MAX -inf, MEAN -inf, MEDIAN -inf\n",
      "On iteration 1202, fit quality of MAX -inf, MEAN -inf, MEDIAN -inf\n",
      "On iteration 1203, fit quality of MAX -inf, MEAN -inf, MEDIAN -inf\n",
      "On iteration 1204, fit quality of MAX -inf, MEAN -inf, MEDIAN -inf\n",
      "On iteration 1205, fit quality of MAX -inf, MEAN -inf, MEDIAN -inf\n",
      "On iteration 1206, fit quality of MAX -inf, MEAN -inf, MEDIAN -inf\n",
      "On iteration 1207, fit quality of MAX -inf, MEAN -inf, MEDIAN -inf\n",
      "On iteration 1208, fit quality of MAX -inf, MEAN -inf, MEDIAN -inf\n",
      "On iteration 1209, fit quality of MAX -inf, MEAN -inf, MEDIAN -inf\n",
      "On iteration 1210, fit quality of MAX -inf, MEAN -inf, MEDIAN -inf\n",
      "On iteration 1211, fit quality of MAX -inf, MEAN -inf, MEDIAN -inf\n",
      "On iteration 1212, fit quality of MAX -inf, MEAN -inf, MEDIAN -inf\n",
      "On iteration 1213, fit quality of MAX -inf, MEAN -inf, MEDIAN -inf\n",
      "On iteration 1214, fit quality of MAX -inf, MEAN -inf, MEDIAN -inf\n",
      "On iteration 1215, fit quality of MAX -inf, MEAN -inf, MEDIAN -inf\n",
      "On iteration 1216, fit quality of MAX -inf, MEAN -inf, MEDIAN -inf\n",
      "On iteration 1217, fit quality of MAX -inf, MEAN -inf, MEDIAN -inf\n",
      "On iteration 1218, fit quality of MAX -inf, MEAN -inf, MEDIAN -inf\n",
      "On iteration 1219, fit quality of MAX -inf, MEAN -inf, MEDIAN -inf\n",
      "On iteration 1220, fit quality of MAX -inf, MEAN -inf, MEDIAN -inf\n",
      "On iteration 1221, fit quality of MAX -inf, MEAN -inf, MEDIAN -inf\n",
      "On iteration 1222, fit quality of MAX -inf, MEAN -inf, MEDIAN -inf\n",
      "On iteration 1223, fit quality of MAX -inf, MEAN -inf, MEDIAN -inf\n",
      "On iteration 1224, fit quality of MAX -inf, MEAN -inf, MEDIAN -inf\n",
      "On iteration 1225, fit quality of MAX -inf, MEAN -inf, MEDIAN -inf\n",
      "On iteration 1226, fit quality of MAX -inf, MEAN -inf, MEDIAN -inf\n",
      "On iteration 1227, fit quality of MAX -inf, MEAN -inf, MEDIAN -inf\n",
      "On iteration 1228, fit quality of MAX -inf, MEAN -inf, MEDIAN -inf\n",
      "On iteration 1229, fit quality of MAX -inf, MEAN -inf, MEDIAN -inf\n",
      "On iteration 1230, fit quality of MAX -inf, MEAN -inf, MEDIAN -inf\n",
      "On iteration 1231, fit quality of MAX -inf, MEAN -inf, MEDIAN -inf\n",
      "On iteration 1232, fit quality of MAX -inf, MEAN -inf, MEDIAN -inf\n",
      "On iteration 1233, fit quality of MAX -inf, MEAN -inf, MEDIAN -inf\n",
      "On iteration 1234, fit quality of MAX -inf, MEAN -inf, MEDIAN -inf\n",
      "On iteration 1235, fit quality of MAX -inf, MEAN -inf, MEDIAN -inf\n",
      "On iteration 1236, fit quality of MAX -inf, MEAN -inf, MEDIAN -inf\n",
      "On iteration 1237, fit quality of MAX -inf, MEAN -inf, MEDIAN -inf\n",
      "On iteration 1238, fit quality of MAX -inf, MEAN -inf, MEDIAN -inf\n",
      "On iteration 1239, fit quality of MAX -inf, MEAN -inf, MEDIAN -inf\n",
      "On iteration 1240, fit quality of MAX -inf, MEAN -inf, MEDIAN -inf\n",
      "On iteration 1241, fit quality of MAX -inf, MEAN -inf, MEDIAN -inf\n",
      "On iteration 1242, fit quality of MAX -inf, MEAN -inf, MEDIAN -inf\n",
      "On iteration 1243, fit quality of MAX -inf, MEAN -inf, MEDIAN -inf\n",
      "On iteration 1244, fit quality of MAX -inf, MEAN -inf, MEDIAN -inf\n",
      "On iteration 1245, fit quality of MAX -inf, MEAN -inf, MEDIAN -inf\n",
      "On iteration 1246, fit quality of MAX -inf, MEAN -inf, MEDIAN -inf\n",
      "On iteration 1247, fit quality of MAX -inf, MEAN -inf, MEDIAN -inf\n",
      "On iteration 1248, fit quality of MAX -inf, MEAN -inf, MEDIAN -inf\n",
      "On iteration 1249, fit quality of MAX -inf, MEAN -inf, MEDIAN -inf\n",
      "On iteration 1250, fit quality of MAX -inf, MEAN -inf, MEDIAN -inf\n",
      "On iteration 1251, fit quality of MAX -inf, MEAN -inf, MEDIAN -inf\n",
      "On iteration 1252, fit quality of MAX -inf, MEAN -inf, MEDIAN -inf\n",
      "On iteration 1253, fit quality of MAX -inf, MEAN -inf, MEDIAN -inf\n",
      "On iteration 1254, fit quality of MAX -inf, MEAN -inf, MEDIAN -inf\n",
      "On iteration 1255, fit quality of MAX -inf, MEAN -inf, MEDIAN -inf\n",
      "On iteration 1256, fit quality of MAX -inf, MEAN -inf, MEDIAN -inf\n",
      "On iteration 1257, fit quality of MAX -inf, MEAN -inf, MEDIAN -inf\n",
      "On iteration 1258, fit quality of MAX -inf, MEAN -inf, MEDIAN -inf\n",
      "On iteration 1259, fit quality of MAX -inf, MEAN -inf, MEDIAN -inf\n",
      "On iteration 1260, fit quality of MAX -inf, MEAN -inf, MEDIAN -inf\n",
      "On iteration 1261, fit quality of MAX -inf, MEAN -inf, MEDIAN -inf\n",
      "On iteration 1262, fit quality of MAX -inf, MEAN -inf, MEDIAN -inf\n",
      "On iteration 1263, fit quality of MAX -inf, MEAN -inf, MEDIAN -inf\n",
      "On iteration 1264, fit quality of MAX -inf, MEAN -inf, MEDIAN -inf\n",
      "On iteration 1265, fit quality of MAX -inf, MEAN -inf, MEDIAN -inf\n",
      "On iteration 1266, fit quality of MAX -inf, MEAN -inf, MEDIAN -inf\n",
      "On iteration 1267, fit quality of MAX -inf, MEAN -inf, MEDIAN -inf\n",
      "On iteration 1268, fit quality of MAX -inf, MEAN -inf, MEDIAN -inf\n",
      "On iteration 1269, fit quality of MAX -inf, MEAN -inf, MEDIAN -inf\n",
      "On iteration 1270, fit quality of MAX -inf, MEAN -inf, MEDIAN -inf\n",
      "On iteration 1271, fit quality of MAX -inf, MEAN -inf, MEDIAN -inf\n",
      "On iteration 1272, fit quality of MAX -inf, MEAN -inf, MEDIAN -inf\n",
      "On iteration 1273, fit quality of MAX -inf, MEAN -inf, MEDIAN -inf\n",
      "On iteration 1274, fit quality of MAX -inf, MEAN -inf, MEDIAN -inf\n",
      "On iteration 1275, fit quality of MAX -inf, MEAN -inf, MEDIAN -inf\n",
      "On iteration 1276, fit quality of MAX -inf, MEAN -inf, MEDIAN -inf\n",
      "On iteration 1277, fit quality of MAX -inf, MEAN -inf, MEDIAN -inf\n",
      "On iteration 1278, fit quality of MAX -inf, MEAN -inf, MEDIAN -inf\n",
      "On iteration 1279, fit quality of MAX -inf, MEAN -inf, MEDIAN -inf\n",
      "On iteration 1280, fit quality of MAX -inf, MEAN -inf, MEDIAN -inf\n",
      "On iteration 1281, fit quality of MAX -inf, MEAN -inf, MEDIAN -inf\n",
      "On iteration 1282, fit quality of MAX -inf, MEAN -inf, MEDIAN -inf\n",
      "On iteration 1283, fit quality of MAX -inf, MEAN -inf, MEDIAN -inf\n",
      "On iteration 1284, fit quality of MAX -inf, MEAN -inf, MEDIAN -inf\n",
      "On iteration 1285, fit quality of MAX -inf, MEAN -inf, MEDIAN -inf\n",
      "On iteration 1286, fit quality of MAX -inf, MEAN -inf, MEDIAN -inf\n",
      "On iteration 1287, fit quality of MAX -inf, MEAN -inf, MEDIAN -inf\n",
      "On iteration 1288, fit quality of MAX -inf, MEAN -inf, MEDIAN -inf\n",
      "On iteration 1289, fit quality of MAX -inf, MEAN -inf, MEDIAN -inf\n",
      "On iteration 1290, fit quality of MAX -inf, MEAN -inf, MEDIAN -inf\n",
      "On iteration 1291, fit quality of MAX -inf, MEAN -inf, MEDIAN -inf\n",
      "On iteration 1292, fit quality of MAX -inf, MEAN -inf, MEDIAN -inf\n",
      "On iteration 1293, fit quality of MAX -inf, MEAN -inf, MEDIAN -inf\n",
      "On iteration 1294, fit quality of MAX -inf, MEAN -inf, MEDIAN -inf\n",
      "On iteration 1295, fit quality of MAX -inf, MEAN -inf, MEDIAN -inf\n",
      "On iteration 1296, fit quality of MAX -inf, MEAN -inf, MEDIAN -inf\n",
      "On iteration 1297, fit quality of MAX -inf, MEAN -inf, MEDIAN -inf\n",
      "On iteration 1298, fit quality of MAX -inf, MEAN -inf, MEDIAN -inf\n",
      "On iteration 1299, fit quality of MAX -inf, MEAN -inf, MEDIAN -inf\n",
      "On iteration 1300, fit quality of MAX -inf, MEAN -inf, MEDIAN -inf\n",
      "On iteration 1301, fit quality of MAX -inf, MEAN -inf, MEDIAN -inf\n",
      "On iteration 1302, fit quality of MAX -inf, MEAN -inf, MEDIAN -inf\n",
      "On iteration 1303, fit quality of MAX -inf, MEAN -inf, MEDIAN -inf\n",
      "On iteration 1304, fit quality of MAX -inf, MEAN -inf, MEDIAN -inf\n",
      "On iteration 1305, fit quality of MAX -inf, MEAN -inf, MEDIAN -inf\n",
      "On iteration 1306, fit quality of MAX -inf, MEAN -inf, MEDIAN -inf\n",
      "On iteration 1307, fit quality of MAX -inf, MEAN -inf, MEDIAN -inf\n",
      "On iteration 1308, fit quality of MAX -inf, MEAN -inf, MEDIAN -inf\n",
      "On iteration 1309, fit quality of MAX -inf, MEAN -inf, MEDIAN -inf\n",
      "On iteration 1310, fit quality of MAX -inf, MEAN -inf, MEDIAN -inf\n",
      "On iteration 1311, fit quality of MAX -inf, MEAN -inf, MEDIAN -inf\n",
      "On iteration 1312, fit quality of MAX -inf, MEAN -inf, MEDIAN -inf\n",
      "On iteration 1313, fit quality of MAX -inf, MEAN -inf, MEDIAN -inf\n",
      "On iteration 1314, fit quality of MAX -inf, MEAN -inf, MEDIAN -inf\n",
      "On iteration 1315, fit quality of MAX -inf, MEAN -inf, MEDIAN -inf\n",
      "On iteration 1316, fit quality of MAX -inf, MEAN -inf, MEDIAN -inf\n",
      "On iteration 1317, fit quality of MAX -inf, MEAN -inf, MEDIAN -inf\n",
      "On iteration 1318, fit quality of MAX -inf, MEAN -inf, MEDIAN -inf\n",
      "On iteration 1319, fit quality of MAX -inf, MEAN -inf, MEDIAN -inf\n",
      "On iteration 1320, fit quality of MAX -inf, MEAN -inf, MEDIAN -inf\n",
      "On iteration 1321, fit quality of MAX -inf, MEAN -inf, MEDIAN -inf\n",
      "On iteration 1322, fit quality of MAX -inf, MEAN -inf, MEDIAN -inf\n",
      "On iteration 1323, fit quality of MAX -inf, MEAN -inf, MEDIAN -inf\n",
      "On iteration 1324, fit quality of MAX -inf, MEAN -inf, MEDIAN -inf\n",
      "On iteration 1325, fit quality of MAX -inf, MEAN -inf, MEDIAN -inf\n",
      "On iteration 1326, fit quality of MAX -inf, MEAN -inf, MEDIAN -inf\n",
      "On iteration 1327, fit quality of MAX -inf, MEAN -inf, MEDIAN -inf\n",
      "On iteration 1328, fit quality of MAX -inf, MEAN -inf, MEDIAN -inf\n",
      "On iteration 1329, fit quality of MAX -inf, MEAN -inf, MEDIAN -inf\n",
      "On iteration 1330, fit quality of MAX -inf, MEAN -inf, MEDIAN -inf\n",
      "On iteration 1331, fit quality of MAX -inf, MEAN -inf, MEDIAN -inf\n",
      "On iteration 1332, fit quality of MAX -inf, MEAN -inf, MEDIAN -inf\n",
      "On iteration 1333, fit quality of MAX -inf, MEAN -inf, MEDIAN -inf\n",
      "On iteration 1334, fit quality of MAX -inf, MEAN -inf, MEDIAN -inf\n",
      "On iteration 1335, fit quality of MAX -inf, MEAN -inf, MEDIAN -inf\n",
      "On iteration 1336, fit quality of MAX -inf, MEAN -inf, MEDIAN -inf\n",
      "On iteration 1337, fit quality of MAX -inf, MEAN -inf, MEDIAN -inf\n",
      "On iteration 1338, fit quality of MAX -inf, MEAN -inf, MEDIAN -inf\n",
      "On iteration 1339, fit quality of MAX -inf, MEAN -inf, MEDIAN -inf\n",
      "On iteration 1340, fit quality of MAX -inf, MEAN -inf, MEDIAN -inf\n",
      "On iteration 1341, fit quality of MAX -inf, MEAN -inf, MEDIAN -inf\n",
      "On iteration 1342, fit quality of MAX -inf, MEAN -inf, MEDIAN -inf\n",
      "On iteration 1343, fit quality of MAX -inf, MEAN -inf, MEDIAN -inf\n",
      "On iteration 1344, fit quality of MAX -inf, MEAN -inf, MEDIAN -inf\n",
      "On iteration 1345, fit quality of MAX -inf, MEAN -inf, MEDIAN -inf\n",
      "On iteration 1346, fit quality of MAX -inf, MEAN -inf, MEDIAN -inf\n",
      "On iteration 1347, fit quality of MAX -inf, MEAN -inf, MEDIAN -inf\n",
      "On iteration 1348, fit quality of MAX -inf, MEAN -inf, MEDIAN -inf\n",
      "On iteration 1349, fit quality of MAX -inf, MEAN -inf, MEDIAN -inf\n",
      "On iteration 1350, fit quality of MAX -inf, MEAN -inf, MEDIAN -inf\n",
      "On iteration 1351, fit quality of MAX -inf, MEAN -inf, MEDIAN -inf\n",
      "On iteration 1352, fit quality of MAX -inf, MEAN -inf, MEDIAN -inf\n",
      "On iteration 1353, fit quality of MAX -inf, MEAN -inf, MEDIAN -inf\n",
      "On iteration 1354, fit quality of MAX -inf, MEAN -inf, MEDIAN -inf\n",
      "On iteration 1355, fit quality of MAX -inf, MEAN -inf, MEDIAN -inf\n",
      "On iteration 1356, fit quality of MAX -inf, MEAN -inf, MEDIAN -inf\n",
      "On iteration 1357, fit quality of MAX -inf, MEAN -inf, MEDIAN -inf\n",
      "On iteration 1358, fit quality of MAX -inf, MEAN -inf, MEDIAN -inf\n",
      "On iteration 1359, fit quality of MAX -inf, MEAN -inf, MEDIAN -inf\n",
      "On iteration 1360, fit quality of MAX -inf, MEAN -inf, MEDIAN -inf\n",
      "On iteration 1361, fit quality of MAX -inf, MEAN -inf, MEDIAN -inf\n",
      "On iteration 1362, fit quality of MAX -inf, MEAN -inf, MEDIAN -inf\n",
      "On iteration 1363, fit quality of MAX -inf, MEAN -inf, MEDIAN -inf\n",
      "On iteration 1364, fit quality of MAX -inf, MEAN -inf, MEDIAN -inf\n",
      "On iteration 1365, fit quality of MAX -inf, MEAN -inf, MEDIAN -inf\n",
      "On iteration 1366, fit quality of MAX -inf, MEAN -inf, MEDIAN -inf\n",
      "On iteration 1367, fit quality of MAX -inf, MEAN -inf, MEDIAN -inf\n",
      "On iteration 1368, fit quality of MAX -inf, MEAN -inf, MEDIAN -inf\n",
      "On iteration 1369, fit quality of MAX -inf, MEAN -inf, MEDIAN -inf\n",
      "On iteration 1370, fit quality of MAX -inf, MEAN -inf, MEDIAN -inf\n",
      "On iteration 1371, fit quality of MAX -inf, MEAN -inf, MEDIAN -inf\n",
      "On iteration 1372, fit quality of MAX -inf, MEAN -inf, MEDIAN -inf\n",
      "On iteration 1373, fit quality of MAX -inf, MEAN -inf, MEDIAN -inf\n",
      "On iteration 1374, fit quality of MAX -inf, MEAN -inf, MEDIAN -inf\n",
      "On iteration 1375, fit quality of MAX -inf, MEAN -inf, MEDIAN -inf\n",
      "On iteration 1376, fit quality of MAX -inf, MEAN -inf, MEDIAN -inf\n",
      "On iteration 1377, fit quality of MAX -inf, MEAN -inf, MEDIAN -inf\n",
      "On iteration 1378, fit quality of MAX -inf, MEAN -inf, MEDIAN -inf\n",
      "On iteration 1379, fit quality of MAX -inf, MEAN -inf, MEDIAN -inf\n",
      "On iteration 1380, fit quality of MAX -inf, MEAN -inf, MEDIAN -inf\n",
      "On iteration 1381, fit quality of MAX -inf, MEAN -inf, MEDIAN -inf\n",
      "No matching roads found within max road distance! Aborting particle filter.\n",
      "CPU times: user 2min 56s, sys: 3.53 s, total: 2min 59s\n",
      "Wall time: 3min 21s\n"
     ]
    }
   ],
   "source": [
    "%%time\n",
    "# first -inf results in mean and median, not max, then in all...\n",
    "# Runtime warning, divide by zero in log\n",
    "# Error at iter 1381; 3 min\n",
    "results = my_particle_filter.fit(data)"
   ]
  },
  {
   "cell_type": "code",
   "execution_count": 388,
   "metadata": {
    "collapsed": false
   },
   "outputs": [
    {
     "name": "stdout",
     "output_type": "stream",
     "text": [
      "CPU times: user 3.23 ms, sys: 356 µs, total: 3.59 ms\n",
      "Wall time: 3.83 ms\n"
     ]
    }
   ],
   "source": [
    "%%time\n",
    "backtracked_trace = my_particle_filter.viterbi()"
   ]
  },
  {
   "cell_type": "code",
   "execution_count": 389,
   "metadata": {
    "collapsed": false
   },
   "outputs": [
    {
     "data": {
      "text/plain": [
       "[array([  37.75134205, -122.39485713]),\n",
       " array([  37.7512915, -122.3952268]),\n",
       " array([  37.75199272, -122.39456708]),\n",
       " array([  37.7508102, -122.3935227]),\n",
       " array([  37.75016328, -122.39255462]),\n",
       " array([  37.7545324, -122.3922596]),\n",
       " array([  37.75901007, -122.39246454]),\n",
       " array([  37.77054348, -122.39776881]),\n",
       " array([  37.776513 , -122.3940037]),\n",
       " array([  37.78193871, -122.38842267]),\n",
       " array([  37.7899427 , -122.38912769]),\n",
       " array([  37.79734987, -122.39601117]),\n",
       " array([  37.7978823, -122.4021149]),\n",
       " array([  37.79781469, -122.40647322]),\n",
       " array([  37.7966453, -122.4051415]),\n",
       " array([  37.79252613, -122.40464656]),\n",
       " array([  37.78949938, -122.40380459]),\n",
       " array([  37.7882806, -122.4085313]),\n",
       " array([  37.78742531, -122.41527321]),\n",
       " array([  37.78721971, -122.41689378]),\n",
       " array([  37.784774 , -122.4211362]),\n",
       " array([  37.77988595, -122.42190998]),\n",
       " array([  37.77499193, -122.42271965]),\n",
       " array([  37.7748083, -122.4243081]),\n",
       " array([  37.7740572 , -122.43021346]),\n",
       " array([  37.77305579, -122.43747137]),\n",
       " array([  37.7738594, -122.4392969]),\n",
       " array([  37.77410165, -122.43739404]),\n",
       " array([  37.7739789, -122.4373404]),\n",
       " array([  37.7739789, -122.4373404]),\n",
       " array([  37.773804 , -122.4373058]),\n",
       " array([  37.7752152, -122.4361506]),\n",
       " array([  37.77275093, -122.43731541]),\n",
       " array([  37.77208583, -122.43718032]),\n",
       " array([  37.77221325, -122.43720691]),\n",
       " array([  37.77133324, -122.43660914]),\n",
       " array([  37.77085452, -122.43020699]),\n",
       " array([  37.768677 , -122.4289998]),\n",
       " array([  37.76776142, -122.42852009]),\n",
       " array([  37.7641276, -122.4330942]),\n",
       " array([  37.7608587, -122.4355638]),\n",
       " array([  37.7605367 , -122.43500267]),\n",
       " array([  37.7605585 , -122.43500487]),\n",
       " array([  37.76045551, -122.43499446]),\n",
       " array([  37.75769537, -122.43455972]),\n",
       " array([  37.75879789, -122.43257791]),\n",
       " array([  37.75891298, -122.43258897]),\n",
       " array([  37.75957839, -122.43006127]),\n",
       " array([  37.76355565, -122.42871525]),\n",
       " array([  37.7669513, -122.4288803]),\n",
       " array([  37.77010161, -122.42555822]),\n",
       " array([  37.77278053, -122.42243458]),\n",
       " array([  37.7746899, -122.4198   ]),\n",
       " array([  37.78283925, -122.40956301]),\n",
       " array([  37.78724828, -122.40327716]),\n",
       " array([  37.788158 , -122.3998251]),\n",
       " array([  37.78952837, -122.39808349]),\n",
       " array([  37.7912559, -122.4001553]),\n",
       " array([  37.79211974, -122.40264126]),\n",
       " array([  37.79179508, -122.40348758]),\n",
       " array([  37.79179782, -122.40346613]),\n",
       " array([  37.79178651, -122.40355443]),\n",
       " array([  37.7917054 , -122.40387826]),\n",
       " array([  37.79144812, -122.40419179]),\n",
       " array([  37.7923892, -122.4034314]),\n",
       " array([  37.79225516, -122.40365853]),\n",
       " array([  37.7913354, -122.4041734]),\n",
       " array([  37.7871651 , -122.40335051]),\n",
       " array([  37.7846356, -122.4042813]),\n",
       " array([  37.78448297, -122.40873028]),\n",
       " array([  37.78431515, -122.41100491]),\n",
       " array([  37.78430631, -122.41268825]),\n",
       " array([  37.78434668, -122.41269641]),\n",
       " array([  37.78437928, -122.41270301]),\n",
       " array([  37.78432655, -122.41254261]),\n",
       " array([  37.78429088, -122.41268513]),\n",
       " array([  37.78437232, -122.4125524 ]),\n",
       " array([  37.78431151, -122.4125394 ]),\n",
       " array([  37.78426778, -122.41268046]),\n",
       " array([  37.78423916, -122.41267468]),\n",
       " array([  37.7842359, -122.4125632]),\n",
       " array([  37.78421034, -122.41266885]),\n",
       " array([  37.78530426, -122.41288998]),\n",
       " array([  37.78785631, -122.41340404]),\n",
       " array([  37.79050347, -122.41363298]),\n",
       " array([  37.79121577, -122.40734102]),\n",
       " array([  37.79109716, -122.40722668]),\n",
       " array([  37.79043117, -122.40711467]),\n",
       " array([  37.79039188, -122.40717006]),\n",
       " array([  37.78993347, -122.41060805]),\n",
       " array([  37.7884785, -122.4118446]),\n",
       " array([  37.78710057, -122.41493763]),\n",
       " array([  37.78707755, -122.41303597]),\n",
       " array([  37.78695301, -122.41148767]),\n",
       " array([  37.78707571, -122.41156167]),\n",
       " array([  37.7864985, -122.4098612]),\n",
       " array([  37.7905995 , -122.41058254]),\n",
       " array([  37.79295337, -122.40948283]),\n",
       " array([  37.7964463, -122.410538 ]),\n",
       " array([  37.80066144, -122.41079275]),\n",
       " array([  37.8015212, -122.4109407]),\n",
       " array([  37.80488735, -122.41183417]),\n",
       " array([  37.8083444, -122.4099992]),\n",
       " array([  37.8081232, -122.4091115]),\n",
       " array([  37.80478635, -122.40342977]),\n",
       " array([  37.79842272, -122.40224131]),\n",
       " array([  37.7975484, -122.4101897]),\n",
       " array([  37.796212 , -122.4195122]),\n",
       " array([  37.7959122 , -122.42188855]),\n",
       " array([  37.79563995, -122.42332975]),\n",
       " array([  37.79495615, -122.42216314]),\n",
       " array([  37.7952505, -122.4214918]),\n",
       " array([  37.79727031, -122.41125295]),\n",
       " array([  37.7977755, -122.4103485]),\n",
       " array([  37.80023462, -122.41092027]),\n",
       " array([  37.8010868, -122.4111302]),\n",
       " array([  37.80156367, -122.41111179]),\n",
       " array([  37.80837509, -122.40998154]),\n",
       " array([  37.80821523, -122.40914547]),\n",
       " array([  37.80681936, -122.41108113]),\n",
       " array([  37.8053009, -122.4176361]),\n",
       " array([  37.8058564, -122.418826 ]),\n",
       " array([  37.80409021, -122.42497275]),\n",
       " array([  37.8006396, -122.4294805]),\n",
       " array([  37.80001589, -122.43441297]),\n",
       " array([  37.79911793, -122.44097901]),\n",
       " array([  37.79908637, -122.44243609]),\n",
       " array([  37.79872474, -122.44501693]),\n",
       " array([  37.79771492, -122.44856803]),\n",
       " array([  37.7966397, -122.45166  ]),\n",
       " array([  37.79762929, -122.45118546]),\n",
       " array([  37.79859081, -122.44630505]),\n",
       " array([  37.79903991, -122.44280126]),\n",
       " array([  37.80028743, -122.43109274]),\n",
       " array([  37.79548933, -122.43012458]),\n",
       " array([  37.79415585, -122.42845439]),\n",
       " array([  37.791278  , -122.42422155]),\n",
       " array([  37.79153745, -122.42069459]),\n",
       " array([  37.79197224, -122.41751124]),\n",
       " array([  37.79243762, -122.41360589]),\n",
       " array([  37.79178078, -122.41055019]),\n",
       " array([  37.79165654, -122.41227334]),\n",
       " array([  37.78789991, -122.41153126]),\n",
       " array([  37.7878706 , -122.41176247]),\n",
       " array([  37.78784253, -122.41198384]),\n",
       " array([  37.78729503, -122.41630049]),\n",
       " array([  37.78718865, -122.4200167 ]),\n",
       " array([  37.78659514, -122.42181428]),\n",
       " array([  37.78006251, -122.42194632]),\n",
       " array([  37.77619078, -122.42098156]),\n",
       " array([  37.77476291, -122.42094889]),\n",
       " array([  37.7723984, -122.4226364]),\n",
       " array([  37.76959223, -122.42233803]),\n",
       " array([  37.7646393, -122.4218608]),\n",
       " array([  37.76310084, -122.42172093]),\n",
       " array([  37.76062061, -122.42148308]),\n",
       " array([  37.75572759, -122.42100531]),\n",
       " array([  37.75662074, -122.41888225]),\n",
       " array([  37.75863  , -122.4191943]),\n",
       " array([  37.7625222 , -122.41944699]),\n",
       " array([  37.7666729, -122.4198442]),\n",
       " array([  37.7698737, -122.4223678]),\n",
       " array([  37.77254503, -122.42240268]),\n",
       " array([  37.77348691, -122.42136751]),\n",
       " array([  37.7776924 , -122.41620398]),\n",
       " array([  37.7790964, -122.4143687]),\n",
       " array([  37.78155531, -122.41213411]),\n",
       " array([  37.78377555, -122.41258095]),\n",
       " array([  37.78676204, -122.41299009]),\n",
       " array([  37.78707389, -122.41306545]),\n",
       " array([  37.78874087, -122.4124663 ]),\n",
       " array([  37.78755367, -122.40669408]),\n",
       " array([  37.79315261, -122.40772901]),\n",
       " array([  37.7957652, -122.4083663]),\n",
       " array([  37.7985728 , -122.40887792]),\n",
       " array([  37.79965201, -122.40932176]),\n",
       " array([  37.8011339, -122.411329 ]),\n",
       " array([  37.80458395, -122.41172042]),\n",
       " array([  37.8084969, -122.4124018]),\n",
       " array([  37.8083444, -122.4099992]),\n",
       " array([  37.8083069, -122.4091181]),\n",
       " array([  37.80707179, -122.40908983]),\n",
       " array([  37.80631552, -122.41577196]),\n",
       " array([  37.8061955, -122.4187103]),\n",
       " array([  37.80408438, -122.42501556]),\n",
       " array([  37.80116971, -122.42472788]),\n",
       " array([  37.8000875, -122.4310524]),\n",
       " array([  37.799588 , -122.4309516]),\n",
       " array([  37.7996896 , -122.43015232]),\n",
       " array([  37.8010841 , -122.42788054]),\n",
       " array([  37.8009432, -122.4278519]),\n",
       " array([  37.80372959, -122.42847131]),\n",
       " array([  37.8053247, -122.4168248]),\n",
       " array([  37.80518325, -122.41328174]),\n",
       " array([  37.80209201, -122.41121736]),\n",
       " array([  37.80081119, -122.41073616]),\n",
       " array([  37.79895065, -122.41058767]),\n",
       " array([  37.79641298, -122.41007533]),\n",
       " array([  37.79217373, -122.40900795]),\n",
       " array([  37.7927735, -122.4026821]),\n",
       " array([  37.7931777, -122.4010713]),\n",
       " array([  37.79296032, -122.40283214]),\n",
       " array([  37.7954523, -122.4034157]),\n",
       " array([  37.7951703, -122.4059142]),\n",
       " array([  37.7952674, -122.4048574]),\n",
       " array([  37.7952674, -122.4048574]),\n",
       " array([  37.79588423, -122.40401896]),\n",
       " array([  37.79739076, -122.40600255]),\n",
       " array([  37.79834779, -122.40719189]),\n",
       " array([  37.79961551, -122.40928243]),\n",
       " array([  37.8006597, -122.4107902]),\n",
       " array([  37.8035415, -122.4148809]),\n",
       " array([  37.8073102, -122.4078282]),\n",
       " array([  37.8081565, -122.409391 ]),\n",
       " array([  37.80837919, -122.41002112]),\n",
       " array([  37.80845741, -122.41003474]),\n",
       " array([  37.80843401, -122.409824  ]),\n",
       " array([  37.80842646, -122.40975595]),\n",
       " array([  37.80827887, -122.40968684]),\n",
       " array([  37.80788462, -122.4091306 ]),\n",
       " array([  37.80635786, -122.41197939]),\n",
       " array([  37.80304217, -122.41138526]),\n",
       " array([  37.80051355, -122.41042444]),\n",
       " array([  37.8002434, -122.4108508]),\n",
       " array([  37.79630914, -122.41005425]),\n",
       " array([  37.7938244, -122.4094452]),\n",
       " array([  37.7911952, -122.4089237]),\n",
       " array([  37.7883647, -122.4085511]),\n",
       " array([  37.78709455, -122.40819007]),\n",
       " array([  37.7863483 , -122.40871849]),\n",
       " array([  37.7838398, -122.4080382]),\n",
       " array([  37.7817113, -122.4052158]),\n",
       " array([  37.78407657, -122.40409501]),\n",
       " array([  37.7818227 , -122.40764786]),\n",
       " array([  37.77707091, -122.40844339]),\n",
       " array([  37.77319479, -122.40656969]),\n",
       " array([  37.76118762, -122.4061759 ]),\n",
       " array([  37.7499528, -122.4030793]),\n",
       " array([  37.74971348, -122.39696721]),\n",
       " array([  37.75123833, -122.39526182]),\n",
       " array([  37.75127241, -122.39523973]),\n",
       " array([  37.75136669, -122.39501356]),\n",
       " array([  37.75136756, -122.39501363]),\n",
       " array([  37.75132873, -122.39501023]),\n",
       " array([  37.75131535, -122.39509578]),\n",
       " array([  37.75135179, -122.39520129]),\n",
       " array([  37.7513494, -122.3943369]),\n",
       " array([  37.75153376, -122.39470235]),\n",
       " array([  37.7514952 , -122.39502481]),\n",
       " array([  37.7513041, -122.3951949]),\n",
       " array([  37.751241, -122.395261]),\n",
       " array([  37.75116189, -122.39528772]),\n",
       " array([  37.75167037, -122.39402611]),\n",
       " array([  37.7498961, -122.393367 ]),\n",
       " array([  37.74964543, -122.39812972]),\n",
       " array([  37.74878164, -122.40687998]),\n",
       " array([  37.74831165, -122.4088802 ]),\n",
       " array([  37.7483071 , -122.41374867]),\n",
       " array([  37.75106245, -122.4139644 ]),\n",
       " array([  37.75527438, -122.4143613 ]),\n",
       " array([  37.75715047, -122.41710175]),\n",
       " array([  37.75766501, -122.41898213]),\n",
       " array([  37.75865316, -122.41883021]),\n",
       " array([  37.75898365, -122.41691174]),\n",
       " array([  37.76196768, -122.41725104]),\n",
       " array([  37.76534007, -122.41751939]),\n",
       " array([  37.76938823, -122.41778334]),\n",
       " array([  37.77259922, -122.41879323]),\n",
       " array([  37.7753419, -122.4156305]),\n",
       " array([  37.7770623, -122.4133641]),\n",
       " array([  37.78499184, -122.41620031]),\n",
       " array([  37.78553196, -122.41630966]),\n",
       " array([  37.78666416, -122.41653884]),\n",
       " array([  37.78833885, -122.41687775]),\n",
       " array([  37.7889579 , -122.41075813]),\n",
       " array([  37.78918856, -122.40834351]),\n",
       " array([  37.789421 , -122.4070977]),\n",
       " array([  37.78979623, -122.4042342 ]),\n",
       " array([  37.79119912, -122.40063033]),\n",
       " array([  37.79223186, -122.39945841]),\n",
       " array([  37.7941003, -122.4000551]),\n",
       " array([  37.7954902, -122.4005513]),\n",
       " array([  37.79990815, -122.40144837]),\n",
       " array([  37.80246293, -122.40190568]),\n",
       " array([  37.80396303, -122.40334942]),\n",
       " array([  37.803605  , -122.40338587]),\n",
       " array([  37.798331 , -122.4023415]),\n",
       " array([  37.79274304, -122.40108609]),\n",
       " array([  37.79308511, -122.39874448]),\n",
       " array([  37.79128591, -122.3991129 ]),\n",
       " array([  37.79241935, -122.39797281]),\n",
       " array([  37.79480146, -122.39793076]),\n",
       " array([  37.7947168, -122.3992758]),\n",
       " array([  37.7953107 , -122.39943311]),\n",
       " array([  37.79521026, -122.39970715]),\n",
       " array([  37.7921126 , -122.40959345]),\n",
       " array([  37.789087 , -122.4324729]),\n",
       " array([  37.78888877, -122.43385255]),\n",
       " array([  37.78827063, -122.43889008]),\n",
       " array([  37.78953904, -122.44246522]),\n",
       " array([  37.79228082, -122.44320282]),\n",
       " array([  37.7924808, -122.4416301]),\n",
       " array([  37.79297554, -122.43804673]),\n",
       " array([  37.79597086, -122.43682011]),\n",
       " array([  37.79705856, -122.43579854]),\n",
       " array([  37.79735241, -122.43349031]),\n",
       " array([  37.79788158, -122.4293202 ]),\n",
       " array([  37.79835274, -122.42564511]),\n",
       " array([  37.80070526, -122.4243525 ]),\n",
       " array([  37.80109486, -122.42458524]),\n",
       " array([  37.8011645, -122.4247286]),\n",
       " array([  37.80012314, -122.42674167]),\n",
       " array([  37.79937581, -122.43262074]),\n",
       " array([  37.8008425 , -122.43608523]),\n",
       " array([  37.80087114, -122.43616882]),\n",
       " array([  37.80108634, -122.434167  ]),\n",
       " array([  37.80178013, -122.42870875]),\n",
       " array([  37.79944683, -122.42586621]),\n",
       " array([  37.7956213, -122.4244012]),\n",
       " array([  37.79729076, -122.4114391 ]),\n",
       " array([  37.79795565, -122.40600434]),\n",
       " array([  37.7971669, -122.4054784]),\n",
       " array([  37.79566031, -122.40515979]),\n",
       " array([  37.7923892, -122.4034314]),\n",
       " array([  37.791909 , -122.4025983]),\n",
       " array([  37.788901 , -122.4036842]),\n",
       " array([  37.78841034, -122.40379113]),\n",
       " array([  37.7881091, -122.4079833]),\n",
       " array([  37.7878123 , -122.41171023]),\n",
       " array([  37.78727005, -122.4166615 ]),\n",
       " array([  37.78559498, -122.4196952 ]),\n",
       " array([  37.78310146, -122.41922832]),\n",
       " array([  37.7814508, -122.4171732]),\n",
       " array([  37.7804329, -122.4173623]),\n",
       " array([  37.78149863, -122.41679728]),\n",
       " array([  37.78149394, -122.41683414]),\n",
       " array([  37.77923351, -122.41673997]),\n",
       " array([  37.77917  , -122.4181878]),\n",
       " array([  37.7807775, -122.4187253]),\n",
       " array([  37.78219176, -122.41886473]),\n",
       " array([  37.78192488, -122.41895513]),\n",
       " array([  37.7823844, -122.41736  ]),\n",
       " array([  37.7802207, -122.4190101]),\n",
       " array([  37.78024422, -122.41882765]),\n",
       " array([  37.78041617, -122.41683676]),\n",
       " array([  37.78339252, -122.41587674]),\n",
       " array([  37.78751571, -122.41671121]),\n",
       " array([  37.79018488, -122.41613935]),\n",
       " array([  37.7910287, -122.4088928]),\n",
       " array([  37.7918222, -122.4050876]),\n",
       " array([  37.7926622 , -122.40191145]),\n",
       " array([  37.79287189, -122.40269317]),\n",
       " array([  37.79707628, -122.40550841]),\n",
       " array([  37.79728257, -122.40604089]),\n",
       " array([  37.79908482, -122.40825866]),\n",
       " array([  37.79928347, -122.40873368]),\n",
       " array([  37.7996209, -122.4092764]),\n",
       " array([  37.8023527 , -122.41315022]),\n",
       " array([  37.80496115, -122.41699101]),\n",
       " array([  37.80676616, -122.4205435 ]),\n",
       " array([  37.8078399, -122.4182687]),\n",
       " array([  37.80770134, -122.41735353]),\n",
       " array([  37.80608509, -122.41703668]),\n",
       " array([  37.80176901, -122.41224762]),\n",
       " array([  37.79892981, -122.40889557]),\n",
       " array([  37.79753926, -122.40619394]),\n",
       " array([  37.79680103, -122.40514754]),\n",
       " array([  37.79731805, -122.40589751]),\n",
       " array([  37.7976108, -122.4059753]),\n",
       " array([  37.797516 , -122.4061835]),\n",
       " array([  37.7971081, -122.4057958]),\n",
       " array([  37.79744001, -122.40588894]),\n",
       " array([  37.79895392, -122.40825476]),\n",
       " array([  37.79992428, -122.40947339]),\n",
       " array([  37.8014527, -122.4117915]),\n",
       " array([  37.80386275, -122.41542706]),\n",
       " array([  37.80605055, -122.41869753]),\n",
       " array([  37.80612919, -122.41861033]),\n",
       " array([  37.80519659, -122.41707103]),\n",
       " array([  37.80254796, -122.41468011]),\n",
       " array([  37.7993659, -122.4140371]),\n",
       " array([  37.79599011, -122.41335402]),\n",
       " array([  37.79376418, -122.41290921]),\n",
       " array([  37.79089562, -122.41233175]),\n",
       " array([  37.79079358, -122.4123112 ]),\n",
       " array([  37.7906745, -122.4122872]),\n",
       " array([  37.7907321 , -122.41183391]),\n",
       " array([  37.79114309, -122.40859912]),\n",
       " array([  37.7929497, -122.4029097]),\n",
       " array([  37.7934413, -122.4020714]),\n",
       " array([  37.79181477, -122.40333395]),\n",
       " array([  37.790926 , -122.4028197]),\n",
       " array([  37.79036286, -122.40262869]),\n",
       " array([  37.79148992, -122.40383453]),\n",
       " array([  37.7917031, -122.4042334]),\n",
       " array([  37.7923892, -122.4034314]),\n",
       " array([  37.79223771, -122.40379126]),\n",
       " array([  37.79222499, -122.40388803]),\n",
       " array([  37.7906852, -122.4046908]),\n",
       " array([  37.78862748, -122.40582668]),\n",
       " array([  37.7878194 , -122.41216626]),\n",
       " array([  37.78802121, -122.41681348]),\n",
       " array([  37.78855764, -122.41390875]),\n",
       " array([  37.78855486, -122.41393062]),\n",
       " array([  37.78855391, -122.41393812]),\n",
       " array([  37.78855611, -122.41392078]),\n",
       " array([  37.78855565, -122.41392437]),\n",
       " array([  37.7890203, -122.4102667]),\n",
       " array([  37.7896352, -122.4054347]),\n",
       " array([  37.7896352, -122.4054347]),\n",
       " array([  37.79026546, -122.4022658 ]),\n",
       " array([  37.79039463, -122.40061729]),\n",
       " array([  37.79460535, -122.40003876]),\n",
       " array([  37.7948179, -122.3977767]),\n",
       " array([  37.79460061, -122.39638963]),\n",
       " array([  37.7946298, -122.3964568]),\n",
       " array([  37.79445505, -122.39662451]),\n",
       " array([  37.79430779, -122.39648316]),\n",
       " array([  37.79245385, -122.39769453]),\n",
       " array([  37.79283431, -122.39668527]),\n",
       " array([  37.7953232 , -122.39822398]),\n",
       " array([  37.7977272 , -122.40090845]),\n",
       " array([  37.80195847, -122.40185471]),\n",
       " array([  37.80410381, -122.40215727]),\n",
       " array([  37.80552181, -122.40411713]),\n",
       " array([  37.8061177 , -122.40477669]),\n",
       " array([  37.80581749, -122.40412063]),\n",
       " array([  37.8039625, -122.4032619]),\n",
       " array([  37.79846522, -122.40236988]),\n",
       " array([  37.7977217, -122.407867 ]),\n",
       " array([  37.79722115, -122.41024084]),\n",
       " array([  37.7962297, -122.4118262]),\n",
       " array([  37.79406239, -122.41296861]),\n",
       " array([  37.79050162, -122.41225235]),\n",
       " array([  37.78698299, -122.41125182]),\n",
       " array([  37.78507734, -122.4111922 ]),\n",
       " array([  37.78782039, -122.40842865]),\n",
       " array([  37.78809148, -122.40813004]),\n",
       " array([  37.7852101 , -122.41014605]),\n",
       " array([  37.7872827, -122.4083122]),\n",
       " array([  37.78885669, -122.40720584]),\n",
       " array([  37.7862672 , -122.40934507]),\n",
       " array([  37.7854656, -122.4103609]),\n",
       " array([  37.78783424, -122.40818813]),\n",
       " array([  37.78759212, -122.40829057]),\n",
       " array([  37.78741696, -122.40833965]),\n",
       " array([  37.78769597, -122.40831142]),\n",
       " array([  37.78628986, -122.40917005]),\n",
       " array([  37.78626456, -122.40936542]),\n",
       " array([  37.78624055, -122.40955111]),\n",
       " array([  37.7874324, -122.4083428]),\n",
       " array([  37.78622551, -122.40966744]),\n",
       " array([  37.7866992 , -122.40956143]),\n",
       " array([  37.7865096, -122.4097584]),\n",
       " array([  37.78514763, -122.41819351]),\n",
       " array([  37.7841141 , -122.41877052]),\n",
       " array([  37.78499737, -122.41937728]),\n",
       " array([  37.78501803, -122.41921452]),\n",
       " array([  37.7866099 , -122.41989899]),\n",
       " array([  37.78802102, -122.42018453]),\n",
       " array([  37.7904734, -122.4207768]),\n",
       " array([  37.79110754, -122.41655969]),\n",
       " array([  37.7924514, -122.4124292]),\n",
       " array([  37.79257195, -122.41254785]),\n",
       " array([  37.78579689, -122.41130371]),\n",
       " array([  37.78545875, -122.41041742]),\n",
       " array([  37.7858656 , -122.41131756]),\n",
       " array([  37.7854068, -122.4108459]),\n",
       " array([  37.78511829, -122.41086948]),\n",
       " array([  37.78586433, -122.40962841]),\n",
       " array([  37.78613478, -122.41038943]),\n",
       " array([  37.78605615, -122.41101579]),\n",
       " array([  37.78604241, -122.41112528]),\n",
       " array([  37.78751496, -122.41456682]),\n",
       " array([  37.78668388, -122.42111809]),\n",
       " array([  37.78659258, -122.42139765]),\n",
       " array([  37.78599118, -122.42512545]),\n",
       " array([  37.78555312, -122.42990427]),\n",
       " array([  37.7857815, -122.4328651]),\n",
       " array([  37.78722256, -122.43351706]),\n",
       " array([  37.78997757, -122.43407165]),\n",
       " array([  37.79168146, -122.43373639]),\n",
       " array([  37.79043935, -122.43248043]),\n",
       " array([  37.7889063 , -122.43387953]),\n",
       " array([  37.78813193, -122.44000273]),\n",
       " array([  37.78764323, -122.44393296]),\n",
       " array([  37.78677048, -122.45067267]),\n",
       " array([  37.78594307, -122.4571944 ]),\n",
       " array([  37.78592066, -122.45737028]),\n",
       " array([  37.7862148, -122.455064 ]),\n",
       " array([  37.78756301, -122.451931  ]),\n",
       " array([  37.78767972, -122.45101614]),\n",
       " array([  37.78775207, -122.45044899]),\n",
       " array([  37.78742809, -122.44561976]),\n",
       " array([  37.78823795, -122.43915224]),\n",
       " array([  37.78913619, -122.43207334]),\n",
       " array([  37.78976558, -122.42713071]),\n",
       " array([  37.7899941, -122.4237273]),\n",
       " array([  37.7907113, -122.4189465]),\n",
       " array([  37.79115016, -122.41553512]),\n",
       " array([  37.79186013, -122.41065873]),\n",
       " array([  37.79342138, -122.40586281]),\n",
       " array([  37.79290186, -122.40176267]),\n",
       " array([  37.7933805, -122.3986758]),\n",
       " array([  37.7940652 , -122.39634152]),\n",
       " array([  37.7940768 , -122.39643432]),\n",
       " array([  37.79349352, -122.39589403]),\n",
       " array([  37.79179223, -122.39470619]),\n",
       " array([  37.7917981 , -122.39471355]),\n",
       " array([  37.79391058, -122.39661235]),\n",
       " array([  37.7936242, -122.3975397]),\n",
       " array([  37.7930415 , -122.40062671]),\n",
       " array([  37.7925458, -122.400941 ]),\n",
       " array([  37.7911354, -122.4011489]),\n",
       " array([  37.7922598 , -122.40266977]),\n",
       " array([  37.7924394, -122.4053628]),\n",
       " array([  37.79218787, -122.40809477]),\n",
       " array([  37.79157947, -122.41237246]),\n",
       " array([  37.79087079, -122.41766736]),\n",
       " array([  37.79073155, -122.42041017]),\n",
       " array([  37.79034604, -122.42286696]),\n",
       " array([  37.79003351, -122.42502681]),\n",
       " array([  37.78893545, -122.43365332]),\n",
       " array([  37.78805888, -122.44069675]),\n",
       " array([  37.78714736, -122.44697636]),\n",
       " array([  37.78700105, -122.44890535]),\n",
       " array([  37.78634953, -122.45399384]),\n",
       " array([  37.78565637, -122.45944336]),\n",
       " array([  37.78471251, -122.46693104]),\n",
       " array([  37.7827579 , -122.46869853]),\n",
       " array([  37.77728806, -122.46832709]),\n",
       " array([  37.77527921, -122.47033102]),\n",
       " array([  37.77514136, -122.47032112]),\n",
       " array([  37.77762989, -122.46835155]),\n",
       " array([  37.78100897, -122.46859367]),\n",
       " array([  37.78276645, -122.46851029]),\n",
       " array([  37.78286794, -122.46627854]),\n",
       " array([  37.78297341, -122.46551278]),\n",
       " array([  37.78302028, -122.46551617]),\n",
       " array([  37.78529304, -122.46229911]),\n",
       " array([  37.78622339, -122.45506576]),\n",
       " array([  37.7867184, -122.4494384]),\n",
       " array([  37.78775947, -122.44302121]),\n",
       " array([  37.78917783, -122.4372808 ]),\n",
       " array([  37.7907202, -122.4342202]),\n",
       " array([  37.79077767, -122.43254998]),\n",
       " array([  37.79093948, -122.4324961 ]),\n",
       " array([  37.79093949, -122.43249604]),\n",
       " array([  37.79008234, -122.4321252 ]),\n",
       " array([  37.79226612, -122.43115968]),\n",
       " array([  37.79292257, -122.43105651]),\n",
       " array([  37.7929268 , -122.43102323]),\n",
       " array([  37.79292992, -122.43099872]),\n",
       " array([  37.79293336, -122.4309717 ]),\n",
       " array([  37.79292914, -122.4310048 ]),\n",
       " array([  37.79293117, -122.43098888]),\n",
       " array([  37.7929293 , -122.43100355]),\n",
       " array([  37.79292805, -122.43101339]),\n",
       " array([  37.7929304 , -122.43099496]),\n",
       " array([  37.7929304 , -122.43099496]),\n",
       " array([  37.79293554, -122.43095452]),\n",
       " array([  37.79293429, -122.43096436]),\n",
       " array([  37.79292914, -122.4310048 ]),\n",
       " array([  37.7929332 , -122.43097295]),\n",
       " array([  37.7929268 , -122.43102323]),\n",
       " array([  37.79292914, -122.4310048 ]),\n",
       " array([  37.79292587, -122.43103057]),\n",
       " array([  37.79292853, -122.43100964]),\n",
       " array([  37.79292288, -122.43105401]),\n",
       " array([  37.7929268 , -122.43102323]),\n",
       " array([  37.79292539, -122.43103432]),\n",
       " array([  37.79292493, -122.43103791]),\n",
       " array([  37.79292477, -122.43103916]),\n",
       " array([  37.79292662, -122.43102466]),\n",
       " array([  37.79293071, -122.4312939 ]),\n",
       " array([  37.7929243 , -122.43104291]),\n",
       " array([  37.79292571, -122.43103182]),\n",
       " array([  37.79292336, -122.43105025]),\n",
       " array([  37.79292978, -122.4309998 ]),\n",
       " array([  37.79292304, -122.43105275]),\n",
       " array([  37.79292134, -122.43106618]),\n",
       " array([  37.79292368, -122.43104775]),\n",
       " array([  37.79292587, -122.43103057]),\n",
       " array([  37.7929293 , -122.43100355]),\n",
       " array([  37.7929357 , -122.43095327]),\n",
       " array([  37.79112589, -122.4310271 ]),\n",
       " array([  37.79069838, -122.42915804]),\n",
       " array([  37.79107898, -122.43260518]),\n",
       " array([  37.79167773, -122.43376592]),\n",
       " array([  37.79221127, -122.42956143]),\n",
       " array([  37.78959982, -122.42843234]),\n",
       " array([  37.79026016, -122.42355871]),\n",
       " array([  37.79041563, -122.42233081]),\n",
       " array([  37.7907044, -122.4206276]),\n",
       " array([  37.7913338, -122.4156995]),\n",
       " array([  37.7920233 , -122.40939269]),\n",
       " array([  37.79334872, -122.40110627]),\n",
       " array([  37.79503455, -122.40166232]),\n",
       " array([  37.79497009, -122.40125762]),\n",
       " array([  37.79495339, -122.40153558]),\n",
       " array([  37.7994765, -122.4011415]),\n",
       " array([  37.79707757, -122.39778862]),\n",
       " array([  37.79721013, -122.39749549]),\n",
       " array([  37.79285727, -122.39880884]),\n",
       " array([  37.78894824, -122.39852223]),\n",
       " array([  37.78941337, -122.39537653]),\n",
       " array([  37.78768846, -122.39399957]),\n",
       " array([  37.7855436, -122.3967193]),\n",
       " array([  37.7852474 , -122.39617555]),\n",
       " array([  37.78136032, -122.39581585]),\n",
       " array([  37.77730643, -122.40094299]),\n",
       " array([  37.77249424, -122.40698611]),\n",
       " array([  37.77106844, -122.40858654]),\n",
       " array([  37.7703545, -122.4097443]),\n",
       " array([  37.7703545, -122.4097443]),\n",
       " array([  37.7669714 , -122.41063519]),\n",
       " array([  37.76542467, -122.41145625]),\n",
       " array([  37.76589788, -122.41150044]),\n",
       " array([  37.76478137, -122.41336219]),\n",
       " array([  37.76007288, -122.41263086]),\n",
       " array([  37.75709851, -122.41234536]),\n",
       " array([  37.75409248, -122.41315348]),\n",
       " array([  37.7536309 , -122.41311039]),\n",
       " array([  37.75363896, -122.41311114]),\n",
       " array([  37.75409155, -122.4131534 ]),\n",
       " array([  37.75613318, -122.41225366]),\n",
       " array([  37.7541708, -122.4131926]),\n",
       " array([  37.75363989, -122.41311123]),\n",
       " array([  37.7541275, -122.4138139]),\n",
       " array([  37.75426042, -122.41207543]),\n",
       " array([  37.75417053, -122.41206861]),\n",
       " array([  37.75266176, -122.41157068]),\n",
       " array([  37.752822  , -122.40886838]),\n",
       " array([  37.7533448, -122.4064475]),\n",
       " array([  37.7543253, -122.4057828]),\n",
       " array([  37.7545832, -122.4048505]),\n",
       " array([  37.75544679, -122.40515749]),\n",
       " array([  37.7547688, -122.4048702]),\n",
       " array([  37.75304685, -122.40569981]),\n",
       " array([  37.75277476, -122.40914584]),\n",
       " array([  37.75261102, -122.41203323]),\n",
       " array([  37.75247512, -122.41461151]),\n",
       " array([  37.75222106, -122.41886117]),\n",
       " array([  37.7521685 , -122.41902779]),\n",
       " array([  37.75221718, -122.41893096]),\n",
       " array([  37.7520713 , -122.42159628]),\n",
       " array([  37.75179741, -122.42587984]),\n",
       " array([  37.7515702, -122.4296589]),\n",
       " array([  37.75142917, -122.43200057]),\n",
       " array([  37.75125997, -122.43476821]),\n",
       " array([  37.75091868, -122.44038992]),\n",
       " array([  37.75077521, -122.44273665]),\n",
       " array([  37.75079649, -122.4427974 ]),\n",
       " array([  37.75265195, -122.4382883 ]),\n",
       " array([  37.75284812, -122.43500046]),\n",
       " array([  37.75504658, -122.43446631]),\n",
       " array([  37.7536888, -122.4343386]),\n",
       " array([  37.75134628, -122.43376399]),\n",
       " array([  37.75158094, -122.42948006]),\n",
       " array([  37.7510904 , -122.42739526]),\n",
       " array([  37.74762721, -122.42703225]),\n",
       " array([  37.74379604, -122.42658567]),\n",
       " array([  37.7439943, -122.4219292]),\n",
       " array([  37.74400416, -122.42176902]),\n",
       " array([  37.74400297, -122.42178834]),\n",
       " array([  37.74677817, -122.41908757]),\n",
       " array([  37.74821597, -122.41804115]),\n",
       " array([  37.7483548, -122.4115088]),\n",
       " array([  37.74874344, -122.40699788]),\n",
       " array([  37.7494164, -122.3974143]),\n",
       " array([  37.75017954, -122.39533814]),\n",
       " array([  37.75056071, -122.39470657]),\n",
       " array([  37.75134982, -122.39501208]),\n",
       " array([  37.7513594 , -122.39399626]),\n",
       " array([  37.7513139 , -122.39519621]),\n",
       " array([  37.75137284, -122.3952041 ]),\n",
       " array([  37.75156011, -122.39522918]),\n",
       " array([  37.7506223, -122.3935102]),\n",
       " array([  37.7531743 , -122.39254676]),\n",
       " array([  37.75579893, -122.39198622]),\n",
       " array([  37.76789011, -122.39649471]),\n",
       " array([  37.7748144, -122.4009956]),\n",
       " array([  37.7784364, -122.4057216]),\n",
       " array([  37.77426996, -122.41099997]),\n",
       " array([  37.77085773, -122.41491705]),\n",
       " array([  37.7691882, -122.4198335]),\n",
       " array([  37.7684137, -122.4200106]),\n",
       " array([  37.76855395, -122.42002384]),\n",
       " array([  37.76859133, -122.42003165]),\n",
       " array([  37.76858845, -122.42010354]),\n",
       " array([  37.7684137, -122.4200106]),\n",
       " array([  37.76828658, -122.4198357 ]),\n",
       " array([  37.76858377, -122.42018721]),\n",
       " array([  37.76848075, -122.42022894]),\n",
       " array([  37.76817382, -122.42172369]),\n",
       " array([  37.77194192, -122.42258133]),\n",
       " array([  37.7764217, -122.4229027]),\n",
       " array([  37.78087961, -122.42380245]),\n",
       " array([  37.78178114, -122.42209014]),\n",
       " array([  37.7830955 , -122.42095226]),\n",
       " array([  37.78582193, -122.41974047]),\n",
       " array([  37.78640279, -122.41581544]),\n",
       " array([  37.7867582 , -122.41149763]),\n",
       " array([  37.78777467, -122.40710823]),\n",
       " array([  37.78792353, -122.40348735]),\n",
       " array([  37.78833516, -122.39959995]),\n",
       " array([  37.79018083, -122.39684992]),\n",
       " array([  37.7923881, -122.397246 ]),\n",
       " array([  37.7945886, -122.3966507]),\n",
       " array([  37.7935828, -122.3961434]),\n",
       " array([  37.7901273, -122.3969176]),\n",
       " array([  37.7891867, -122.3983283]),\n",
       " array([  37.78809033, -122.4014479 ]),\n",
       " array([  37.78516805, -122.40051662]),\n",
       " array([  37.78636913, -122.39918182]),\n",
       " array([  37.78846182, -122.40222707]),\n",
       " array([  37.78866907, -122.402173  ]),\n",
       " array([  37.78941877, -122.40292892]),\n",
       " array([  37.78878969, -122.40456398]),\n",
       " array([  37.79680861, -122.40846689]),\n",
       " array([  37.79773395, -122.40866428]),\n",
       " array([  37.79965841, -122.40933109]),\n",
       " array([  37.80128991, -122.41155863]),\n",
       " array([  37.8028429 , -122.41389016]),\n",
       " array([  37.8053704, -122.4175152]),\n",
       " array([  37.80635778, -122.42287717]),\n",
       " array([  37.80407704, -122.42571836]),\n",
       " array([  37.80367958, -122.42886742]),\n",
       " array([  37.80298682, -122.43394832]),\n",
       " array([  37.8027345, -122.4359762]),\n",
       " array([  37.80378313, -122.43686328]),\n",
       " array([  37.80365327, -122.43683698]),\n",
       " array([  37.80365405, -122.43654924]),\n",
       " array([  37.80254309, -122.43653129]),\n",
       " array([  37.80079128, -122.43649016]),\n",
       " array([  37.80041612, -122.43951881]),\n",
       " array([  37.79917317, -122.44175404]),\n",
       " array([  37.79969696, -122.43603499]),\n",
       " array([  37.798494 , -122.4357917]),\n",
       " array([  37.79849733, -122.43576552]),\n",
       " array([  37.79820555, -122.43429562]),\n",
       " array([  37.79901783, -122.42790591]),\n",
       " array([  37.79555198, -122.42507979]),\n",
       " array([  37.78921831, -122.42374438]),\n",
       " array([  37.78221978, -122.42236368]),\n",
       " array([  37.77762065, -122.42143548]),\n",
       " array([  37.77762748, -122.41808626]),\n",
       " array([  37.77626504, -122.41467695]),\n",
       " array([  37.77810236, -122.40922818]),\n",
       " array([  37.7806803 , -122.40596834]),\n",
       " array([  37.7827213 , -122.40648555]),\n",
       " array([  37.78258538, -122.4066785 ]),\n",
       " array([  37.7844858, -122.404475 ]),\n",
       " array([  37.78563165, -122.40721685]),\n",
       " array([  37.78729517, -122.40646151]),\n",
       " array([  37.7897111, -122.4070363]),\n",
       " array([  37.7941167, -122.4080319]),\n",
       " array([  37.7976269, -122.4086323]),\n",
       " array([  37.79765043, -122.4087577 ]),\n",
       " array([  37.7965025, -122.4100935]),\n",
       " array([  37.795944  , -122.41095037]),\n",
       " array([  37.79624982, -122.4116686 ]),\n",
       " array([  37.7944638, -122.411467 ]),\n",
       " array([  37.79177313, -122.41134669]),\n",
       " array([  37.79097746, -122.41684432]),\n",
       " array([  37.78890372, -122.41869717]),\n",
       " array([  37.78388101, -122.41765607]),\n",
       " array([  37.7773521, -122.416133 ]),\n",
       " array([  37.77489631, -122.41302489]),\n",
       " array([  37.77198611, -122.414021  ]),\n",
       " array([  37.76252482, -122.41505374]),\n",
       " array([  37.75569615, -122.41456917]),\n",
       " array([  37.75553777, -122.41658325]),\n",
       " array([  37.75555585, -122.41692912]),\n",
       " array([  37.75651079, -122.41887172]),\n",
       " array([  37.7586446, -122.4189593]),\n",
       " array([  37.75888053, -122.4151388 ]),\n",
       " array([  37.77665566, -122.3942258 ]),\n",
       " array([  37.77689984, -122.39526113]),\n",
       " array([  37.7757149, -122.3967812]),\n",
       " array([  37.7778043, -122.4003134]),\n",
       " array([  37.7814333 , -122.40501747]),\n",
       " array([  37.7841531, -122.408409 ]),\n",
       " array([  37.78616136, -122.41017766]),\n",
       " array([  37.78584405, -122.41270549]),\n",
       " array([  37.7854365, -122.4159188]),\n",
       " array([  37.7847133, -122.4178298]),\n",
       " array([  37.7786767, -122.4166194]),\n",
       " array([  37.77491122, -122.4130433 ]),\n",
       " array([  37.77271391, -122.41030825]),\n",
       " array([  37.7737839, -122.408343 ]),\n",
       " array([  37.77751169, -122.40379017]),\n",
       " array([  37.7811831, -122.3958655]),\n",
       " array([  37.77952175, -122.39379666]),\n",
       " array([  37.77681847, -122.39554041]),\n",
       " array([  37.776574 , -122.3987697]),\n",
       " array([  37.7700308 , -122.39735525]),\n",
       " array([  37.74469619, -122.39513559]),\n",
       " array([  37.73385757, -122.40504277]),\n",
       " array([  37.71997593, -122.39974215]),\n",
       " array([  37.69393289, -122.39159728]),\n",
       " array([  37.67715766, -122.38835867]),\n",
       " array([  37.66551228, -122.39676218]),\n",
       " array([  37.6416003 , -122.40579691]),\n",
       " array([  37.62834628, -122.40203935]),\n",
       " array([  37.61483287, -122.38538093]),\n",
       " array([  37.61475793, -122.38569767]),\n",
       " array([  37.61461772, -122.38588082]),\n",
       " array([  37.62449966, -122.40166801]),\n",
       " array([  37.6738463, -122.3899076]),\n",
       " array([  37.70239057, -122.39384753]),\n",
       " array([  37.71532396, -122.39847156]),\n",
       " array([  37.72821977, -122.40318054]),\n",
       " array([  37.7415899 , -122.40756927]),\n",
       " array([  37.76664471, -122.40528883]),\n",
       " array([  37.76975327, -122.41789303]),\n",
       " array([  37.77437967, -122.42412113]),\n",
       " array([  37.774343 , -122.4274509]),\n",
       " array([  37.77353653, -122.43430719]),\n",
       " array([  37.77267785, -122.44115629]),\n",
       " array([  37.77178827, -122.44813759]),\n",
       " array([  37.76658996, -122.45003093]),\n",
       " array([  37.76632724, -122.45008176]),\n",
       " array([  37.76610364, -122.46152413]),\n",
       " array([  37.7641439, -122.4641914]),\n",
       " array([  37.76339254, -122.4663901 ]),\n",
       " array([  37.76111011, -122.4639785 ]),\n",
       " array([  37.76020968, -122.46391451]),\n",
       " array([  37.758224  , -122.46377457]),\n",
       " array([  37.7435865, -122.4636466]),\n",
       " array([  37.7431852 , -122.45521469]),\n",
       " array([  37.74596173, -122.45052544]),\n",
       " array([  37.74675239, -122.4440547 ]),\n",
       " array([  37.74865708, -122.43805582]),\n",
       " array([  37.74898263, -122.43239836]),\n",
       " array([  37.74939069, -122.42567946]),\n",
       " array([  37.7534404 , -122.42517551]),\n",
       " array([  37.75355737, -122.42079864]),\n",
       " array([  37.752111 , -122.4206657]),\n",
       " array([  37.74880672, -122.42035648]),\n",
       " array([  37.74817273, -122.42005911]),\n",
       " array([  37.74728349, -122.41165079]),\n",
       " array([  37.7468843, -122.4115644]),\n",
       " array([  37.74686145, -122.4119371 ]),\n",
       " array([  37.7442144 , -122.41221827]),\n",
       " array([  37.74565667, -122.41243454]),\n",
       " array([  37.74572566, -122.41244118]),\n",
       " array([  37.74675479, -122.41254024]),\n",
       " array([  37.75368616, -122.41421586]),\n",
       " array([  37.75895508, -122.41472337]),\n",
       " array([  37.76146602, -122.4152171 ]),\n",
       " array([  37.7651898 , -122.41656238]),\n",
       " array([  37.7650653, -122.4194837]),\n",
       " array([  37.76484009, -122.42187902]),\n",
       " array([  37.76337847, -122.42174654]),\n",
       " array([  37.76314941, -122.42423712]),\n",
       " array([  37.7631193 , -122.42476655]),\n",
       " array([  37.76290207, -122.4284329 ]),\n",
       " array([  37.76630214, -122.42885598]),\n",
       " array([  37.7678774, -122.429036 ]),\n",
       " array([  37.77028835, -122.42977482]),\n",
       " array([  37.77081004, -122.44071383]),\n",
       " array([  37.7701542 , -122.44534783]),\n",
       " array([  37.76997961, -122.44531189]),\n",
       " array([  37.7672171, -122.4463874]),\n",
       " array([  37.76380506, -122.44449654]),\n",
       " array([  37.76248454, -122.44558329]),\n",
       " array([  37.76721336, -122.44641679]),\n",
       " array([  37.7702176, -122.4453607]),\n",
       " array([  37.77083242, -122.44035076]),\n",
       " array([  37.77133465, -122.43659804]),\n",
       " array([  37.77133702, -122.43199476]),\n",
       " array([  37.77019932, -122.42922734]),\n",
       " array([  37.76614638, -122.42870035]),\n",
       " array([  37.76614862, -122.42865992]),\n",
       " array([  37.76666389, -122.42666957]),\n",
       " array([  37.76720694, -122.42907054]),\n",
       " array([  37.76661326, -122.42997754]),\n",
       " array([  37.7635404, -122.4338725]),\n",
       " array([  37.7621827, -122.4351519]),\n",
       " array([  37.76241658, -122.43512176]),\n",
       " array([  37.760509  , -122.43499987]),\n",
       " array([  37.7621827, -122.4351519]),\n",
       " array([  37.76346806, -122.43530701]),\n",
       " array([  37.77054976, -122.43522692]),\n",
       " array([  37.77193561, -122.43187698]),\n",
       " array([  37.77213051, -122.43032748]),\n",
       " array([  37.77242254, -122.42802909]),\n",
       " array([  37.7725274, -122.4271742]),\n",
       " array([  37.7734511, -122.4237212]),\n",
       " array([  37.77383529, -122.42444321]),\n",
       " array([  37.77342611, -122.42735559]),\n",
       " array([  37.77238779, -122.42831257]),\n",
       " array([  37.77230212, -122.42881341]),\n",
       " array([  37.7720572, -122.4270789]),\n",
       " array([  37.77121807, -122.4299823 ]),\n",
       " array([  37.77172123, -122.43038313]),\n",
       " array([  37.77405891, -122.43085542]),\n",
       " array([  37.77531563, -122.42785706]),\n",
       " array([  37.7758239 , -122.42387581]),\n",
       " array([  37.77938224, -122.42350079]),\n",
       " array([  37.7817558, -122.4222916]),\n",
       " array([  37.78199626, -122.4203908 ]),\n",
       " array([  37.7823845, -122.4141365]),\n",
       " array([  37.78488629, -122.4126973 ]),\n",
       " array([  37.78579621, -122.41308555]),\n",
       " array([  37.78682857, -122.41319743]),\n",
       " array([  37.7873823, -122.413309 ]),\n",
       " array([  37.79046206, -122.41395882]),\n",
       " array([  37.79173495, -122.41418582]),\n",
       " array([  37.79415265, -122.41481226]),\n",
       " array([  37.79555695, -122.41759465]),\n",
       " array([  37.7952272, -122.4200457]),\n",
       " array([  37.7958431, -122.4218753]),\n",
       " array([  37.7959543, -122.4217864]),\n",
       " array([  37.79715584, -122.41151425]),\n",
       " array([  37.79757387, -122.40904945]),\n",
       " array([  37.79783282, -122.40640201]),\n",
       " array([  37.7982706, -122.4035376]),\n",
       " array([  37.79861228, -122.40084862]),\n",
       " array([  37.7966013, -122.3970214]),\n",
       " array([  37.7943901, -122.3976924]),\n",
       " array([  37.79450767, -122.39729174]),\n",
       " array([  37.79397044, -122.39760873]),\n",
       " array([  37.79391852, -122.39759838]),\n",
       " array([  37.79445274, -122.39724498]),\n",
       " array([  37.79414075, -122.39656221]),\n",
       " array([  37.7936242, -122.3975397]),\n",
       " array([  37.79457094, -122.39739351]),\n",
       " array([  37.79321456, -122.39921777]),\n",
       " array([  37.79322614, -122.39912117]),\n",
       " array([  37.79315032, -122.40116872]),\n",
       " array([  37.79275614, -122.40447207]),\n",
       " array([  37.79203769, -122.40928099]),\n",
       " array([  37.7915512, -122.4123668]),\n",
       " array([  37.79108782, -122.41601771]),\n",
       " array([  37.7909096, -122.4189867]),\n",
       " array([  37.79036584, -122.42208449]),\n",
       " array([  37.7893183, -122.4223349]),\n",
       " array([  37.78860224, -122.42190891]),\n",
       " array([  37.7897034 , -122.42241276]),\n",
       " array([  37.79305195, -122.42295897]),\n",
       " array([  37.80152549, -122.42467107]),\n",
       " array([  37.80332546, -122.42503349]),\n",
       " array([  37.80425796, -122.42523642]),\n",
       " array([  37.80645  , -122.4189598]),\n",
       " array([  37.80670802, -122.42047233]),\n",
       " array([  37.8064526, -122.4222174]),\n",
       " array([  37.80580068, -122.42208663]),\n",
       " array([  37.80550475, -122.42204687]),\n",
       " array([  37.80475885, -122.4198821 ]),\n",
       " array([  37.8051356, -122.4175523]),\n",
       " array([  37.80575725, -122.41333837]),\n",
       " array([  37.80630639, -122.40817826]),\n",
       " array([  37.8049891, -122.4035428]),\n",
       " array([  37.79868114, -122.39867386]),\n",
       " array([  37.7969367, -122.3972875]),\n",
       " array([  37.79448869, -122.39698822]),\n",
       " array([  37.7943901, -122.3976924]),\n",
       " array([  37.7938544, -122.3962985]),\n",
       " array([  37.79567238, -122.39666826]),\n",
       " array([  37.79373827, -122.39897414]),\n",
       " array([  37.79110839, -122.40136682]),\n",
       " array([  37.7890533 , -122.40245538]),\n",
       " array([  37.788901 , -122.4036842]),\n",
       " array([  37.78777621, -122.40499565]),\n",
       " array([  37.7865529, -122.4064999]),\n",
       " array([  37.78607221, -122.41088785]),\n",
       " array([  37.78605522, -122.41102317]),\n",
       " array([  37.78605044, -122.41106131]),\n",
       " array([  37.7860039 , -122.41303134]),\n",
       " array([  37.78858251, -122.41371303]),\n",
       " array([  37.78930795, -122.41552614]),\n",
       " array([  37.7886974, -122.4203209]),\n",
       " array([  37.7867367, -122.421426 ]),\n",
       " array([  37.7866337, -122.4215134]),\n",
       " array([  37.78662455, -122.42158445]),\n",
       " array([  37.78673037, -122.42147759]),\n",
       " array([  37.7867367, -122.421426 ]),\n",
       " array([  37.78675986, -122.42143071]),\n",
       " array([  37.7866655 , -122.42141201]),\n",
       " array([  37.78657  , -122.4213932]),\n",
       " array([  37.78665023, -122.4213837 ]),\n",
       " array([  37.78665411, -122.42135305]),\n",
       " array([  37.78588301, -122.42125368]),\n",
       " array([  37.78586584, -122.41468835]),\n",
       " array([  37.7873419 , -122.41330087]),\n",
       " array([  37.79024268, -122.41388528]),\n",
       " array([  37.79157517, -122.41415363]),\n",
       " array([  37.79453253, -122.41466377]),\n",
       " array([  37.7977573, -122.415399 ]),\n",
       " array([  37.80148309, -122.41618302]),\n",
       " array([  37.803221, -122.413715]),\n",
       " array([  37.80709135, -122.41381033]),\n",
       " array([  37.8080655, -122.4109913]),\n",
       " array([  37.80834896, -122.41004416]),\n",
       " array([  37.8083444, -122.4099992]),\n",
       " array([  37.80819637, -122.40973767]),\n",
       " array([  37.80740525, -122.4068116 ]),\n",
       " array([  37.80519548, -122.40357161]),\n",
       " ...]"
      ]
     },
     "execution_count": 389,
     "metadata": {},
     "output_type": "execute_result"
    }
   ],
   "source": [
    "backtracked_trace"
   ]
  },
  {
   "cell_type": "code",
   "execution_count": 330,
   "metadata": {
    "collapsed": true
   },
   "outputs": [],
   "source": [
    "particles = my_particle_filter.particles; weights = my_particle_filter.weights;\n",
    "viterbi_trellis_idx=my_particle_filter.viterbi_trellis_idx;\n",
    "viterbi_trellis=my_particle_filter.viterbi_trellis"
   ]
  },
  {
   "cell_type": "code",
   "execution_count": 336,
   "metadata": {
    "collapsed": false
   },
   "outputs": [
    {
     "data": {
      "text/plain": [
       "[array([[0., 0.],\n",
       "        [1., 0.]]),\n",
       " array([[0., 1.],\n",
       "        [1., 2.]]),\n",
       " array([[ 0., 12.],\n",
       "        [ 1.,  9.],\n",
       "        [ 2., 17.],\n",
       "        [ 3.,  2.],\n",
       "        [ 4.,  9.],\n",
       "        [ 5.,  7.],\n",
       "        [ 6., 14.],\n",
       "        [ 7., 34.],\n",
       "        [ 8.,  9.],\n",
       "        [ 9., 17.],\n",
       "        [10.,  2.],\n",
       "        [11.,  9.],\n",
       "        [12.,  7.],\n",
       "        [13., 14.],\n",
       "        [14., 34.],\n",
       "        [15., 19.],\n",
       "        [16.,  4.],\n",
       "        [17.,  2.],\n",
       "        [18.,  9.],\n",
       "        [19.,  7.],\n",
       "        [20., 14.],\n",
       "        [21., 34.],\n",
       "        [22., 19.],\n",
       "        [23.,  4.],\n",
       "        [24., 37.],\n",
       "        [25., 34.],\n",
       "        [26., 19.],\n",
       "        [27.,  4.],\n",
       "        [28., 34.],\n",
       "        [29., 19.],\n",
       "        [30.,  4.],\n",
       "        [31., 37.],\n",
       "        [32., 34.],\n",
       "        [33.,  7.],\n",
       "        [34., 14.]]),\n",
       " array([[ 0., 14.],\n",
       "        [ 1., 14.]]),\n",
       " array([[0., 0.],\n",
       "        [1., 1.],\n",
       "        [2., 2.]])]"
      ]
     },
     "execution_count": 336,
     "metadata": {},
     "output_type": "execute_result"
    }
   ],
   "source": [
    "viterbi_trellis_idx[-5:]"
   ]
  },
  {
   "cell_type": "code",
   "execution_count": 339,
   "metadata": {
    "collapsed": false
   },
   "outputs": [
    {
     "data": {
      "text/plain": [
       "(50, 2)"
      ]
     },
     "execution_count": 339,
     "metadata": {},
     "output_type": "execute_result"
    }
   ],
   "source": [
    "viterbi_trellis[-3].shape"
   ]
  },
  {
   "cell_type": "code",
   "execution_count": 333,
   "metadata": {
    "collapsed": false
   },
   "outputs": [
    {
     "ename": "IndexError",
     "evalue": "index 34 is out of bounds for axis 0 with size 2",
     "output_type": "error",
     "traceback": [
      "\u001b[0;31m---------------------------------------------------------------------------\u001b[0m",
      "\u001b[0;31mIndexError\u001b[0m                                Traceback (most recent call last)",
      "\u001b[0;32m<ipython-input-333-a103450a5ff6>\u001b[0m in \u001b[0;36m<module>\u001b[0;34m\u001b[0m\n\u001b[1;32m      4\u001b[0m \u001b[0;31m# Backtrack through the viterbi trellis (#obs, n, 2) actual lat/long states\u001b[0m\u001b[0;34m\u001b[0m\u001b[0;34m\u001b[0m\u001b[0;34m\u001b[0m\u001b[0m\n\u001b[1;32m      5\u001b[0m \u001b[0;32mfor\u001b[0m \u001b[0mj\u001b[0m \u001b[0;32min\u001b[0m \u001b[0mrange\u001b[0m\u001b[0;34m(\u001b[0m\u001b[0mlen\u001b[0m\u001b[0;34m(\u001b[0m\u001b[0mviterbi_trellis\u001b[0m\u001b[0;34m)\u001b[0m \u001b[0;34m-\u001b[0m \u001b[0;36m1\u001b[0m\u001b[0;34m,\u001b[0m \u001b[0;34m-\u001b[0m\u001b[0;36m1\u001b[0m\u001b[0;34m,\u001b[0m \u001b[0;34m-\u001b[0m\u001b[0;36m1\u001b[0m\u001b[0;34m)\u001b[0m\u001b[0;34m:\u001b[0m\u001b[0;34m\u001b[0m\u001b[0;34m\u001b[0m\u001b[0m\n\u001b[0;32m----> 6\u001b[0;31m     \u001b[0mbest_last_state_idx\u001b[0m \u001b[0;34m=\u001b[0m \u001b[0mint\u001b[0m\u001b[0;34m(\u001b[0m\u001b[0mviterbi_trellis_idx\u001b[0m\u001b[0;34m[\u001b[0m\u001b[0mj\u001b[0m\u001b[0;34m]\u001b[0m\u001b[0;34m[\u001b[0m\u001b[0mbest_last_state_idx\u001b[0m\u001b[0;34m,\u001b[0m \u001b[0;36m1\u001b[0m\u001b[0;34m]\u001b[0m\u001b[0;34m)\u001b[0m\u001b[0;34m\u001b[0m\u001b[0;34m\u001b[0m\u001b[0m\n\u001b[0m\u001b[1;32m      7\u001b[0m     \u001b[0mbest_last_state\u001b[0m \u001b[0;34m=\u001b[0m \u001b[0mviterbi_trellis\u001b[0m\u001b[0;34m[\u001b[0m\u001b[0mj\u001b[0m\u001b[0;34m]\u001b[0m\u001b[0;34m[\u001b[0m\u001b[0mbest_last_state_idx\u001b[0m\u001b[0;34m]\u001b[0m\u001b[0;34m\u001b[0m\u001b[0;34m\u001b[0m\u001b[0m\n\u001b[1;32m      8\u001b[0m     \u001b[0mbacktracked_states\u001b[0m\u001b[0;34m.\u001b[0m\u001b[0mappend\u001b[0m\u001b[0;34m(\u001b[0m\u001b[0mbest_last_state\u001b[0m\u001b[0;34m)\u001b[0m\u001b[0;34m\u001b[0m\u001b[0;34m\u001b[0m\u001b[0m\n",
      "\u001b[0;31mIndexError\u001b[0m: index 34 is out of bounds for axis 0 with size 2"
     ]
    }
   ],
   "source": [
    "best_last_state_idx = np.argmax(weights)\n",
    "best_last_state = particles[best_last_state_idx]\n",
    "backtracked_states = [best_last_state]\n",
    "# Backtrack through the viterbi trellis (#obs, n, 2) actual lat/long states\n",
    "for j in range(len(viterbi_trellis) - 1, -1, -1):\n",
    "    best_last_state_idx = int(viterbi_trellis_idx[j][best_last_state_idx, 1])\n",
    "    best_last_state = viterbi_trellis[j][best_last_state_idx]\n",
    "    backtracked_states.append(best_last_state)\n",
    "# Put in chronological order\n",
    "backtracked_states = backtracked_states[::-1]"
   ]
  },
  {
   "cell_type": "code",
   "execution_count": 335,
   "metadata": {
    "collapsed": false
   },
   "outputs": [
    {
     "data": {
      "text/plain": [
       "1380"
      ]
     },
     "execution_count": 335,
     "metadata": {},
     "output_type": "execute_result"
    }
   ],
   "source": [
    "len(viterbi_trellis)"
   ]
  },
  {
   "cell_type": "code",
   "execution_count": 334,
   "metadata": {
    "collapsed": false
   },
   "outputs": [
    {
     "data": {
      "text/plain": [
       "1376"
      ]
     },
     "execution_count": 334,
     "metadata": {},
     "output_type": "execute_result"
    }
   ],
   "source": [
    "j"
   ]
  },
  {
   "cell_type": "code",
   "execution_count": null,
   "metadata": {
    "collapsed": true
   },
   "outputs": [],
   "source": [
    "# Let's plot the smoothed trace, cast as linestring overlaid on SF shapefile\n",
    "# And, compare it with the raw trace."
   ]
  },
  {
   "cell_type": "code",
   "execution_count": null,
   "metadata": {
    "collapsed": true
   },
   "outputs": [],
   "source": []
  },
  {
   "cell_type": "code",
   "execution_count": null,
   "metadata": {
    "collapsed": true
   },
   "outputs": [],
   "source": []
  },
  {
   "cell_type": "code",
   "execution_count": null,
   "metadata": {
    "collapsed": false
   },
   "outputs": [],
   "source": []
  },
  {
   "cell_type": "code",
   "execution_count": null,
   "metadata": {
    "collapsed": true
   },
   "outputs": [],
   "source": [
    "#  IGNORE BELOW THIS POINT"
   ]
  },
  {
   "cell_type": "code",
   "execution_count": null,
   "metadata": {
    "collapsed": true
   },
   "outputs": [],
   "source": [
    "# https://stackoverflow.com/questions/4102520/how-to-transform-a-distance-from-degrees-to-metres\n",
    "\"\"\"\n",
    "@winwaed\n",
    "The transformation between degrees and metres varies across the Earth's surface.\n",
    "Assuming a spherical Earth, degrees latitude = distance * 360 / (2*PI * 6400000)\n",
    "Note that longitude will vary according to the latitude:\n",
    "Degrees longitude = distance *360 * / (2*PI* cos(latitude) )\n",
    "\n",
    "The above is for the Earth's surface, and does not use the Mercator projection. \n",
    "If you wish to work with projected linear distance, then you will need to use the Mercator projection.\n",
    "\"\"\"\n",
    "# RADIUS_OF_EARTH_M = 6371000\n",
    "# long, lat = list(obs.coords)[0]\n",
    "# max_dist_deg = max_dist * 360 / (2 * np.pi * RADIUS_OF_EARTH_M)"
   ]
  },
  {
   "cell_type": "code",
   "execution_count": null,
   "metadata": {
    "collapsed": true
   },
   "outputs": [],
   "source": []
  }
 ],
 "metadata": {
  "anaconda-cloud": {},
  "kernelspec": {
   "display_name": "Python [conda env:map_matching_particle_filter]",
   "language": "python",
   "name": "conda-env-map_matching_particle_filter-py"
  },
  "language_info": {
   "codemirror_mode": {
    "name": "ipython",
    "version": 3
   },
   "file_extension": ".py",
   "mimetype": "text/x-python",
   "name": "python",
   "nbconvert_exporter": "python",
   "pygments_lexer": "ipython3",
   "version": "3.7.6"
  }
 },
 "nbformat": 4,
 "nbformat_minor": 2
}
